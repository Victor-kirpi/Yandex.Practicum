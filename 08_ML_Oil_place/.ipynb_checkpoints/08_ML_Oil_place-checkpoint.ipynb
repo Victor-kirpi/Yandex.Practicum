{
 "cells": [
  {
   "cell_type": "code",
   "execution_count": 1,
   "metadata": {},
   "outputs": [],
   "source": [
    "import pandas as pd\n",
    "\n",
    "import warnings\n",
    "warnings.filterwarnings('ignore')\n",
    "\n",
    "import numpy as np\n",
    "\n",
    "import time\n",
    "\n",
    "from sklearn.metrics import mean_squared_error\n",
    "\n",
    "from sklearn.preprocessing import StandardScaler\n",
    "\n",
    "from sklearn.model_selection import train_test_split\n",
    "\n",
    "from sklearn.linear_model import LinearRegression"
   ]
  },
  {
   "cell_type": "markdown",
   "metadata": {},
   "source": [
    "## <font size=\"4\"><b>Оглавление </b></p></font> \n",
    "<a id='contents'></a>\n",
    "\n",
    "1. [Постановка задания](#intro)\n",
    "2. [Обзор данных](#data_review)\n",
    "- [Корреляция признаков](#data_review_correlation)\n",
    "- [Проверка дубликатов](#data_review_dublicates)\n",
    "- [Выводы](#data_review_summary)\n",
    "3. [Сплит данных на выборки](#data_split)\n",
    "- [Разделение и масштабирование](#split&scale)\n",
    "- [Выводы](#data_split_summary)\n",
    "4. [Построение моделей](#model_initialisation)\n",
    "- [Линейная регрессия](#models_linier_regression)\n",
    "- [Выводы](#model_initialisation_summary)\n",
    "5. [Расчет прибыли и рисков](#profit&risk_calculation)\n",
    "- [Подготовка к расчету](#calculation_preparation)\n",
    "- [Расчет](#calculation)\n",
    "- [Выводы](#profit&risk_calculation_summary)\n",
    "6. [Итоги исследования](#summary)"
   ]
  },
  {
   "cell_type": "markdown",
   "metadata": {},
   "source": [
    "<a id='intro'></a>"
   ]
  },
  {
   "cell_type": "markdown",
   "metadata": {},
   "source": [
    "# **Выбор локации для скважины**"
   ]
  },
  {
   "cell_type": "markdown",
   "metadata": {},
   "source": [
    "**Заказчик** — добывающая компания «ГлавРосГосНефть».\n",
    "\n",
    "**Цель исследования**:\n",
    "1. Построить систему, способную на основании предоставленных данных спрогнозировать, в каком регионе наиболее выгодно бурить новую скважину, а также оценить связанные с этим риски.\n",
    "\n",
    "**Поставленные задачи**\n",
    "1. Изучить предоставленные данные и подготовить их для обучения моделей. Разделить исходные данные на обучающую и валидационную выборки в соотношении 75:25.\n",
    "2. Обучить и проверить модель для каждого региона. Предсказать объём запасов сырья в  скважинах и проанализировать RMSE модели.\n",
    "3. Рассчитать достаточный объём сырья для безубыточной разработки новой скважины. Сравнить полученный объём сырья со средним запасом в каждом регионе.\n",
    "4. Выбрать скважины с самыми высокими оценками значений и рассчитать прибыль для объёма сырья по выбранным скважинам.\n",
    "5. Посчитать риски и прибыль для каждого региона с помощью техники Bootstrap с 1000 выборок и 95%-м доверительным интервалом.\n",
    "6. Определить регион с максимальной суммарной прибылью отобранных скважин.\n",
    "\n",
    "**Дальнейшее использование**\n",
    "\n",
    "Результаты исследования будут использоваться в дальнейшем при планировании добывающей компанией объектов для инвестиции и развития своего бизнеса, а также для оценки итоговой прибыли и сопутствующих рисков при разработке выбранного региона. \n",
    "\n",
    "**Дополнительно предоставленная инфомарция и условия**\n",
    "\n",
    "- Имеются исторические данные геологоразведки трёх регионов.\n",
    "- Для обучения модели подходит только линейная регрессия (остальные — недостаточно предсказуемые).\n",
    "- При разведке региона исследуют 500 точек, из которых с помощью машинного обучения выбирают 200 лучших для разработки.\n",
    "- Бюджет на разработку скважин в регионе — 10 млрд рублей.\n",
    "- При нынешних ценах один баррель сырья приносит 450 рублей дохода. Доход с каждой единицы продукта составляет 450 тыс. рублей, поскольку объём указан в тысячах баррелей.\n",
    "- После оценки рисков нужно оставить лишь те регионы, в которых вероятность убытков меньше 2.5%. Среди них выбирают регион с наибольшей средней прибылью."
   ]
  },
  {
   "cell_type": "markdown",
   "metadata": {},
   "source": [
    "[К оглавлению](#contents)"
   ]
  },
  {
   "cell_type": "markdown",
   "metadata": {
    "tags": []
   },
   "source": [
    "<a id='data_review'></a>"
   ]
  },
  {
   "cell_type": "markdown",
   "metadata": {},
   "source": [
    "## **I. Обзор данных**"
   ]
  },
  {
   "cell_type": "markdown",
   "metadata": {},
   "source": [
    "### 1. Первичный обзор"
   ]
  },
  {
   "cell_type": "markdown",
   "metadata": {},
   "source": [
    "В ходе исследования нам понадобятся библиотеки и модули:\n",
    "\n",
    "* `pandas`\n",
    "* `numpy`\n",
    "* `time`\n",
    "* `sklearn`:\n",
    "    - `metrics`\n",
    "    - `preprocessing`\n",
    "    - `linear_model`    \n",
    "    - `model_selection`"
   ]
  },
  {
   "cell_type": "markdown",
   "metadata": {},
   "source": [
    "Сначала составим представление о полученных исходных данных.\n",
    "Для этого используем библиотеку `pandas`.\n",
    "\n",
    "Импортируем библиотеку и прочитаем файлы `geo_data_0.csv`, `geo_data_1.csv`, `geo_data_2.csv` из папки `/datasets/` и сохраним их в переменных `df_0`, `df_1`, `df_2`:"
   ]
  },
  {
   "cell_type": "code",
   "execution_count": 2,
   "metadata": {},
   "outputs": [],
   "source": [
    "df_0 = pd.read_csv('/datasets/geo_data_0.csv')\n",
    "df_1 = pd.read_csv('/datasets/geo_data_1.csv')\n",
    "df_2 = pd.read_csv('/datasets/geo_data_2.csv')"
   ]
  },
  {
   "cell_type": "code",
   "execution_count": 3,
   "metadata": {},
   "outputs": [],
   "source": [
    "#сохраним все в единую пемеренную `data`:\n",
    "datas = {\n",
    "    'geo_data_0':[df_0],\n",
    "    'geo_data_1':[df_1], \n",
    "    'geo_data_2':[df_2],\n",
    "}"
   ]
  },
  {
   "cell_type": "markdown",
   "metadata": {},
   "source": [
    "Выведем на экран первые пять строк таблиц:"
   ]
  },
  {
   "cell_type": "code",
   "execution_count": 4,
   "metadata": {},
   "outputs": [
    {
     "name": "stdout",
     "output_type": "stream",
     "text": [
      "\n",
      "\t\u001b[4m\u001b[1m\u001b[31mgeo_data_0\u001b[0m\n"
     ]
    },
    {
     "data": {
      "text/html": [
       "<div>\n",
       "<style scoped>\n",
       "    .dataframe tbody tr th:only-of-type {\n",
       "        vertical-align: middle;\n",
       "    }\n",
       "\n",
       "    .dataframe tbody tr th {\n",
       "        vertical-align: top;\n",
       "    }\n",
       "\n",
       "    .dataframe thead th {\n",
       "        text-align: right;\n",
       "    }\n",
       "</style>\n",
       "<table border=\"1\" class=\"dataframe\">\n",
       "  <thead>\n",
       "    <tr style=\"text-align: right;\">\n",
       "      <th></th>\n",
       "      <th>id</th>\n",
       "      <th>f0</th>\n",
       "      <th>f1</th>\n",
       "      <th>f2</th>\n",
       "      <th>product</th>\n",
       "    </tr>\n",
       "  </thead>\n",
       "  <tbody>\n",
       "    <tr>\n",
       "      <th>0</th>\n",
       "      <td>txEyH</td>\n",
       "      <td>0.705745</td>\n",
       "      <td>-0.497823</td>\n",
       "      <td>1.221170</td>\n",
       "      <td>105.280062</td>\n",
       "    </tr>\n",
       "    <tr>\n",
       "      <th>1</th>\n",
       "      <td>2acmU</td>\n",
       "      <td>1.334711</td>\n",
       "      <td>-0.340164</td>\n",
       "      <td>4.365080</td>\n",
       "      <td>73.037750</td>\n",
       "    </tr>\n",
       "    <tr>\n",
       "      <th>2</th>\n",
       "      <td>409Wp</td>\n",
       "      <td>1.022732</td>\n",
       "      <td>0.151990</td>\n",
       "      <td>1.419926</td>\n",
       "      <td>85.265647</td>\n",
       "    </tr>\n",
       "    <tr>\n",
       "      <th>3</th>\n",
       "      <td>iJLyR</td>\n",
       "      <td>-0.032172</td>\n",
       "      <td>0.139033</td>\n",
       "      <td>2.978566</td>\n",
       "      <td>168.620776</td>\n",
       "    </tr>\n",
       "    <tr>\n",
       "      <th>4</th>\n",
       "      <td>Xdl7t</td>\n",
       "      <td>1.988431</td>\n",
       "      <td>0.155413</td>\n",
       "      <td>4.751769</td>\n",
       "      <td>154.036647</td>\n",
       "    </tr>\n",
       "  </tbody>\n",
       "</table>\n",
       "</div>"
      ],
      "text/plain": [
       "      id        f0        f1        f2     product\n",
       "0  txEyH  0.705745 -0.497823  1.221170  105.280062\n",
       "1  2acmU  1.334711 -0.340164  4.365080   73.037750\n",
       "2  409Wp  1.022732  0.151990  1.419926   85.265647\n",
       "3  iJLyR -0.032172  0.139033  2.978566  168.620776\n",
       "4  Xdl7t  1.988431  0.155413  4.751769  154.036647"
      ]
     },
     "metadata": {},
     "output_type": "display_data"
    },
    {
     "name": "stdout",
     "output_type": "stream",
     "text": [
      "__________________________________________________\n",
      "\n",
      "\t\u001b[4m\u001b[1m\u001b[31mgeo_data_1\u001b[0m\n"
     ]
    },
    {
     "data": {
      "text/html": [
       "<div>\n",
       "<style scoped>\n",
       "    .dataframe tbody tr th:only-of-type {\n",
       "        vertical-align: middle;\n",
       "    }\n",
       "\n",
       "    .dataframe tbody tr th {\n",
       "        vertical-align: top;\n",
       "    }\n",
       "\n",
       "    .dataframe thead th {\n",
       "        text-align: right;\n",
       "    }\n",
       "</style>\n",
       "<table border=\"1\" class=\"dataframe\">\n",
       "  <thead>\n",
       "    <tr style=\"text-align: right;\">\n",
       "      <th></th>\n",
       "      <th>id</th>\n",
       "      <th>f0</th>\n",
       "      <th>f1</th>\n",
       "      <th>f2</th>\n",
       "      <th>product</th>\n",
       "    </tr>\n",
       "  </thead>\n",
       "  <tbody>\n",
       "    <tr>\n",
       "      <th>0</th>\n",
       "      <td>kBEdx</td>\n",
       "      <td>-15.001348</td>\n",
       "      <td>-8.276000</td>\n",
       "      <td>-0.005876</td>\n",
       "      <td>3.179103</td>\n",
       "    </tr>\n",
       "    <tr>\n",
       "      <th>1</th>\n",
       "      <td>62mP7</td>\n",
       "      <td>14.272088</td>\n",
       "      <td>-3.475083</td>\n",
       "      <td>0.999183</td>\n",
       "      <td>26.953261</td>\n",
       "    </tr>\n",
       "    <tr>\n",
       "      <th>2</th>\n",
       "      <td>vyE1P</td>\n",
       "      <td>6.263187</td>\n",
       "      <td>-5.948386</td>\n",
       "      <td>5.001160</td>\n",
       "      <td>134.766305</td>\n",
       "    </tr>\n",
       "    <tr>\n",
       "      <th>3</th>\n",
       "      <td>KcrkZ</td>\n",
       "      <td>-13.081196</td>\n",
       "      <td>-11.506057</td>\n",
       "      <td>4.999415</td>\n",
       "      <td>137.945408</td>\n",
       "    </tr>\n",
       "    <tr>\n",
       "      <th>4</th>\n",
       "      <td>AHL4O</td>\n",
       "      <td>12.702195</td>\n",
       "      <td>-8.147433</td>\n",
       "      <td>5.004363</td>\n",
       "      <td>134.766305</td>\n",
       "    </tr>\n",
       "  </tbody>\n",
       "</table>\n",
       "</div>"
      ],
      "text/plain": [
       "      id         f0         f1        f2     product\n",
       "0  kBEdx -15.001348  -8.276000 -0.005876    3.179103\n",
       "1  62mP7  14.272088  -3.475083  0.999183   26.953261\n",
       "2  vyE1P   6.263187  -5.948386  5.001160  134.766305\n",
       "3  KcrkZ -13.081196 -11.506057  4.999415  137.945408\n",
       "4  AHL4O  12.702195  -8.147433  5.004363  134.766305"
      ]
     },
     "metadata": {},
     "output_type": "display_data"
    },
    {
     "name": "stdout",
     "output_type": "stream",
     "text": [
      "__________________________________________________\n",
      "\n",
      "\t\u001b[4m\u001b[1m\u001b[31mgeo_data_2\u001b[0m\n"
     ]
    },
    {
     "data": {
      "text/html": [
       "<div>\n",
       "<style scoped>\n",
       "    .dataframe tbody tr th:only-of-type {\n",
       "        vertical-align: middle;\n",
       "    }\n",
       "\n",
       "    .dataframe tbody tr th {\n",
       "        vertical-align: top;\n",
       "    }\n",
       "\n",
       "    .dataframe thead th {\n",
       "        text-align: right;\n",
       "    }\n",
       "</style>\n",
       "<table border=\"1\" class=\"dataframe\">\n",
       "  <thead>\n",
       "    <tr style=\"text-align: right;\">\n",
       "      <th></th>\n",
       "      <th>id</th>\n",
       "      <th>f0</th>\n",
       "      <th>f1</th>\n",
       "      <th>f2</th>\n",
       "      <th>product</th>\n",
       "    </tr>\n",
       "  </thead>\n",
       "  <tbody>\n",
       "    <tr>\n",
       "      <th>0</th>\n",
       "      <td>fwXo0</td>\n",
       "      <td>-1.146987</td>\n",
       "      <td>0.963328</td>\n",
       "      <td>-0.828965</td>\n",
       "      <td>27.758673</td>\n",
       "    </tr>\n",
       "    <tr>\n",
       "      <th>1</th>\n",
       "      <td>WJtFt</td>\n",
       "      <td>0.262778</td>\n",
       "      <td>0.269839</td>\n",
       "      <td>-2.530187</td>\n",
       "      <td>56.069697</td>\n",
       "    </tr>\n",
       "    <tr>\n",
       "      <th>2</th>\n",
       "      <td>ovLUW</td>\n",
       "      <td>0.194587</td>\n",
       "      <td>0.289035</td>\n",
       "      <td>-5.586433</td>\n",
       "      <td>62.871910</td>\n",
       "    </tr>\n",
       "    <tr>\n",
       "      <th>3</th>\n",
       "      <td>q6cA6</td>\n",
       "      <td>2.236060</td>\n",
       "      <td>-0.553760</td>\n",
       "      <td>0.930038</td>\n",
       "      <td>114.572842</td>\n",
       "    </tr>\n",
       "    <tr>\n",
       "      <th>4</th>\n",
       "      <td>WPMUX</td>\n",
       "      <td>-0.515993</td>\n",
       "      <td>1.716266</td>\n",
       "      <td>5.899011</td>\n",
       "      <td>149.600746</td>\n",
       "    </tr>\n",
       "  </tbody>\n",
       "</table>\n",
       "</div>"
      ],
      "text/plain": [
       "      id        f0        f1        f2     product\n",
       "0  fwXo0 -1.146987  0.963328 -0.828965   27.758673\n",
       "1  WJtFt  0.262778  0.269839 -2.530187   56.069697\n",
       "2  ovLUW  0.194587  0.289035 -5.586433   62.871910\n",
       "3  q6cA6  2.236060 -0.553760  0.930038  114.572842\n",
       "4  WPMUX -0.515993  1.716266  5.899011  149.600746"
      ]
     },
     "metadata": {},
     "output_type": "display_data"
    },
    {
     "name": "stdout",
     "output_type": "stream",
     "text": [
      "__________________________________________________\n"
     ]
    }
   ],
   "source": [
    "for df in datas:\n",
    "    print('\\n\\t\\033[4m\\033[1m\\033[31m{}\\033[0m'.format(df))\n",
    "    display(datas.get(df)[0].head())\n",
    "    print('_' * 50)"
   ]
  },
  {
   "cell_type": "markdown",
   "metadata": {},
   "source": [
    "Получим общую информацию: <a id='df.info'></a>"
   ]
  },
  {
   "cell_type": "code",
   "execution_count": 5,
   "metadata": {},
   "outputs": [
    {
     "name": "stdout",
     "output_type": "stream",
     "text": [
      "\t\t\u001b[4m\u001b[1m\u001b[31mgeo_data_0\u001b[0m \n",
      "\n",
      "<class 'pandas.core.frame.DataFrame'>\n",
      "RangeIndex: 100000 entries, 0 to 99999\n",
      "Data columns (total 5 columns):\n",
      " #   Column   Non-Null Count   Dtype  \n",
      "---  ------   --------------   -----  \n",
      " 0   id       100000 non-null  object \n",
      " 1   f0       100000 non-null  float64\n",
      " 2   f1       100000 non-null  float64\n",
      " 3   f2       100000 non-null  float64\n",
      " 4   product  100000 non-null  float64\n",
      "dtypes: float64(4), object(1)\n",
      "memory usage: 3.8+ MB\n"
     ]
    },
    {
     "data": {
      "text/plain": [
       "None"
      ]
     },
     "metadata": {},
     "output_type": "display_data"
    },
    {
     "name": "stdout",
     "output_type": "stream",
     "text": [
      "**************************************************\n",
      "\t\t\u001b[4m\u001b[1m\u001b[31mgeo_data_1\u001b[0m \n",
      "\n",
      "<class 'pandas.core.frame.DataFrame'>\n",
      "RangeIndex: 100000 entries, 0 to 99999\n",
      "Data columns (total 5 columns):\n",
      " #   Column   Non-Null Count   Dtype  \n",
      "---  ------   --------------   -----  \n",
      " 0   id       100000 non-null  object \n",
      " 1   f0       100000 non-null  float64\n",
      " 2   f1       100000 non-null  float64\n",
      " 3   f2       100000 non-null  float64\n",
      " 4   product  100000 non-null  float64\n",
      "dtypes: float64(4), object(1)\n",
      "memory usage: 3.8+ MB\n"
     ]
    },
    {
     "data": {
      "text/plain": [
       "None"
      ]
     },
     "metadata": {},
     "output_type": "display_data"
    },
    {
     "name": "stdout",
     "output_type": "stream",
     "text": [
      "**************************************************\n",
      "\t\t\u001b[4m\u001b[1m\u001b[31mgeo_data_2\u001b[0m \n",
      "\n",
      "<class 'pandas.core.frame.DataFrame'>\n",
      "RangeIndex: 100000 entries, 0 to 99999\n",
      "Data columns (total 5 columns):\n",
      " #   Column   Non-Null Count   Dtype  \n",
      "---  ------   --------------   -----  \n",
      " 0   id       100000 non-null  object \n",
      " 1   f0       100000 non-null  float64\n",
      " 2   f1       100000 non-null  float64\n",
      " 3   f2       100000 non-null  float64\n",
      " 4   product  100000 non-null  float64\n",
      "dtypes: float64(4), object(1)\n",
      "memory usage: 3.8+ MB\n"
     ]
    },
    {
     "data": {
      "text/plain": [
       "None"
      ]
     },
     "metadata": {},
     "output_type": "display_data"
    },
    {
     "name": "stdout",
     "output_type": "stream",
     "text": [
      "**************************************************\n"
     ]
    }
   ],
   "source": [
    "for df in datas:\n",
    "    print('\\t\\t\\033[4m\\033[1m\\033[31m{}\\033[0m'.format(df), '\\n')\n",
    "    display(datas.get(df)[0].info())\n",
    "    print('*' * 50)"
   ]
  },
  {
   "cell_type": "markdown",
   "metadata": {},
   "source": [
    "Итак, в каждой таблице по 4 столбца. Типы данных в столбцах — вещественные числа `float` и строки `object`.\n",
    "\n",
    "Согласно документации к данным:\n",
    "\n",
    "* `id` — уникальный идентификатор скважины\n",
    "* `f0`, `f1`, `f2` — три признака точек (неважно, что они означают, но сами признаки значимы)\n",
    "* `product` — объём запасов в скважине (тыс. баррелей), это наш **целевой признак**.\n",
    "\n",
    "Количество значений в столбцах соотнесены. Значит, в данных нет **пропущенных значений**.\n",
    "\n",
    "Все данные представлены числовыми значениями, кроме столбца `id`, который мы в последующем удалим за ненадобностью при обучении модели."
   ]
  },
  {
   "cell_type": "markdown",
   "metadata": {},
   "source": [
    "[К оглавлению](#contents)"
   ]
  },
  {
   "cell_type": "markdown",
   "metadata": {},
   "source": [
    "<a id='data_review_correlation'></a>"
   ]
  },
  {
   "cell_type": "markdown",
   "metadata": {},
   "source": [
    "### 2. Корреляция"
   ]
  },
  {
   "cell_type": "markdown",
   "metadata": {},
   "source": [
    "Посмотрим на распределение признаков, от которых будет зависеть наш целевой признак. Исключим сразу профильные данные: уникальный номер скважины."
   ]
  },
  {
   "cell_type": "code",
   "execution_count": 6,
   "metadata": {},
   "outputs": [],
   "source": [
    "# функция для выведения графиков распределения\n",
    "def correlation (data):\n",
    "    features_correlation = list(set(datas.get(data)[0].columns) - set(['id', 'product']))\n",
    "    print('\\t\\t\\033[4m\\033[1m\\033[31m{}\\033[0m'.format(data), '\\n')\n",
    "    datas.get(data)[0][features_correlation].hist(figsize=(20,12))\n",
    "    print('*' * 50)\n",
    "    \n",
    "# функция построения таблицы корреляционных значений\n",
    "def correlation_table (data):\n",
    "    print('\\t\\t\\033[4m\\033[1m\\033[31m{}\\033[0m'.format(data), '\\n')\n",
    "    display(datas.get(data)[0].corr())\n",
    "    print('*' * 50)"
   ]
  },
  {
   "cell_type": "code",
   "execution_count": 7,
   "metadata": {},
   "outputs": [
    {
     "name": "stdout",
     "output_type": "stream",
     "text": [
      "\t\t\u001b[4m\u001b[1m\u001b[31mgeo_data_0\u001b[0m \n",
      "\n",
      "**************************************************\n"
     ]
    },
    {
     "data": {
      "image/png": "[encoded data removed]",
      "text/plain": [
       "<Figure size 1440x864 with 4 Axes>"
      ]
     },
     "metadata": {
      "needs_background": "light"
     },
     "output_type": "display_data"
    }
   ],
   "source": [
    "correlation('geo_data_0')"
   ]
  },
  {
   "cell_type": "markdown",
   "metadata": {},
   "source": [
    "Видим, что в первом месторождениии только признак `f2` распределен нормально. У признаков `f0` и `f1` имеются ненормальные пики либо большой разброс значений признака при примерно одинаковом распределении."
   ]
  },
  {
   "cell_type": "code",
   "execution_count": 8,
   "metadata": {},
   "outputs": [
    {
     "name": "stdout",
     "output_type": "stream",
     "text": [
      "\t\t\u001b[4m\u001b[1m\u001b[31mgeo_data_0\u001b[0m \n",
      "\n"
     ]
    },
    {
     "data": {
      "text/html": [
       "<div>\n",
       "<style scoped>\n",
       "    .dataframe tbody tr th:only-of-type {\n",
       "        vertical-align: middle;\n",
       "    }\n",
       "\n",
       "    .dataframe tbody tr th {\n",
       "        vertical-align: top;\n",
       "    }\n",
       "\n",
       "    .dataframe thead th {\n",
       "        text-align: right;\n",
       "    }\n",
       "</style>\n",
       "<table border=\"1\" class=\"dataframe\">\n",
       "  <thead>\n",
       "    <tr style=\"text-align: right;\">\n",
       "      <th></th>\n",
       "      <th>f0</th>\n",
       "      <th>f1</th>\n",
       "      <th>f2</th>\n",
       "      <th>product</th>\n",
       "    </tr>\n",
       "  </thead>\n",
       "  <tbody>\n",
       "    <tr>\n",
       "      <th>f0</th>\n",
       "      <td>1.000000</td>\n",
       "      <td>-0.440723</td>\n",
       "      <td>-0.003153</td>\n",
       "      <td>0.143536</td>\n",
       "    </tr>\n",
       "    <tr>\n",
       "      <th>f1</th>\n",
       "      <td>-0.440723</td>\n",
       "      <td>1.000000</td>\n",
       "      <td>0.001724</td>\n",
       "      <td>-0.192356</td>\n",
       "    </tr>\n",
       "    <tr>\n",
       "      <th>f2</th>\n",
       "      <td>-0.003153</td>\n",
       "      <td>0.001724</td>\n",
       "      <td>1.000000</td>\n",
       "      <td>0.483663</td>\n",
       "    </tr>\n",
       "    <tr>\n",
       "      <th>product</th>\n",
       "      <td>0.143536</td>\n",
       "      <td>-0.192356</td>\n",
       "      <td>0.483663</td>\n",
       "      <td>1.000000</td>\n",
       "    </tr>\n",
       "  </tbody>\n",
       "</table>\n",
       "</div>"
      ],
      "text/plain": [
       "               f0        f1        f2   product\n",
       "f0       1.000000 -0.440723 -0.003153  0.143536\n",
       "f1      -0.440723  1.000000  0.001724 -0.192356\n",
       "f2      -0.003153  0.001724  1.000000  0.483663\n",
       "product  0.143536 -0.192356  0.483663  1.000000"
      ]
     },
     "metadata": {},
     "output_type": "display_data"
    },
    {
     "name": "stdout",
     "output_type": "stream",
     "text": [
      "**************************************************\n"
     ]
    }
   ],
   "source": [
    "correlation_table('geo_data_0')"
   ]
  },
  {
   "cell_type": "markdown",
   "metadata": {},
   "source": [
    "Влиятние признаков `f0` и `f2` прямо пропорциональное, однако у признака `f2` оно самое большое, значит данный признак будет иметь больший вес. Вес признаков `f0` и `f1` примерно одинаков хоть и разнонаправлен. Наблюдается незначительная мультиколлинеарность признаков `f1` и `f0` между собой, что может негативно сказаться на обучаемой модели и интерпретировании результотов предсказаний."
   ]
  },
  {
   "cell_type": "code",
   "execution_count": 9,
   "metadata": {},
   "outputs": [
    {
     "name": "stdout",
     "output_type": "stream",
     "text": [
      "\t\t\u001b[4m\u001b[1m\u001b[31mgeo_data_1\u001b[0m \n",
      "\n",
      "**************************************************\n"
     ]
    },
    {
     "data": {
      "image/png": "[encoded data removed]",
      "text/plain": [
       "<Figure size 1440x864 with 4 Axes>"
      ]
     },
     "metadata": {
      "needs_background": "light"
     },
     "output_type": "display_data"
    }
   ],
   "source": [
    "correlation('geo_data_1')"
   ]
  },
  {
   "cell_type": "markdown",
   "metadata": {},
   "source": [
    "Для второго региона, что ситуация примерно такая же, только только признак f1 распределен нормально. У признаков f0 и f2 имеются ненормальные пики либо большой разброс значений признака при примерно одинаковом распределении."
   ]
  },
  {
   "cell_type": "code",
   "execution_count": 10,
   "metadata": {},
   "outputs": [
    {
     "name": "stdout",
     "output_type": "stream",
     "text": [
      "\t\t\u001b[4m\u001b[1m\u001b[31mgeo_data_1\u001b[0m \n",
      "\n"
     ]
    },
    {
     "data": {
      "text/html": [
       "<div>\n",
       "<style scoped>\n",
       "    .dataframe tbody tr th:only-of-type {\n",
       "        vertical-align: middle;\n",
       "    }\n",
       "\n",
       "    .dataframe tbody tr th {\n",
       "        vertical-align: top;\n",
       "    }\n",
       "\n",
       "    .dataframe thead th {\n",
       "        text-align: right;\n",
       "    }\n",
       "</style>\n",
       "<table border=\"1\" class=\"dataframe\">\n",
       "  <thead>\n",
       "    <tr style=\"text-align: right;\">\n",
       "      <th></th>\n",
       "      <th>f0</th>\n",
       "      <th>f1</th>\n",
       "      <th>f2</th>\n",
       "      <th>product</th>\n",
       "    </tr>\n",
       "  </thead>\n",
       "  <tbody>\n",
       "    <tr>\n",
       "      <th>f0</th>\n",
       "      <td>1.000000</td>\n",
       "      <td>0.182287</td>\n",
       "      <td>-0.001777</td>\n",
       "      <td>-0.030491</td>\n",
       "    </tr>\n",
       "    <tr>\n",
       "      <th>f1</th>\n",
       "      <td>0.182287</td>\n",
       "      <td>1.000000</td>\n",
       "      <td>-0.002595</td>\n",
       "      <td>-0.010155</td>\n",
       "    </tr>\n",
       "    <tr>\n",
       "      <th>f2</th>\n",
       "      <td>-0.001777</td>\n",
       "      <td>-0.002595</td>\n",
       "      <td>1.000000</td>\n",
       "      <td>0.999397</td>\n",
       "    </tr>\n",
       "    <tr>\n",
       "      <th>product</th>\n",
       "      <td>-0.030491</td>\n",
       "      <td>-0.010155</td>\n",
       "      <td>0.999397</td>\n",
       "      <td>1.000000</td>\n",
       "    </tr>\n",
       "  </tbody>\n",
       "</table>\n",
       "</div>"
      ],
      "text/plain": [
       "               f0        f1        f2   product\n",
       "f0       1.000000  0.182287 -0.001777 -0.030491\n",
       "f1       0.182287  1.000000 -0.002595 -0.010155\n",
       "f2      -0.001777 -0.002595  1.000000  0.999397\n",
       "product -0.030491 -0.010155  0.999397  1.000000"
      ]
     },
     "metadata": {},
     "output_type": "display_data"
    },
    {
     "name": "stdout",
     "output_type": "stream",
     "text": [
      "**************************************************\n"
     ]
    }
   ],
   "source": [
    "correlation_table('geo_data_1')"
   ]
  },
  {
   "cell_type": "markdown",
   "metadata": {},
   "source": [
    "Также для второго региона видим прямую зависимость от признака `f2`, который будет оказывать основное влияние на предсказание, и практически нулевую от других. Значит в этом регионе `f2` играет ключевую роль. Мультиколлинеарности признаков между собой не наблюдаю."
   ]
  },
  {
   "cell_type": "code",
   "execution_count": 11,
   "metadata": {},
   "outputs": [
    {
     "name": "stdout",
     "output_type": "stream",
     "text": [
      "\t\t\u001b[4m\u001b[1m\u001b[31mgeo_data_2\u001b[0m \n",
      "\n",
      "**************************************************\n"
     ]
    },
    {
     "data": {
      "image/png": "[encoded data removed]",
      "text/plain": [
       "<Figure size 1440x864 with 4 Axes>"
      ]
     },
     "metadata": {
      "needs_background": "light"
     },
     "output_type": "display_data"
    }
   ],
   "source": [
    "correlation('geo_data_2')"
   ]
  },
  {
   "cell_type": "markdown",
   "metadata": {},
   "source": [
    "В третьем регионе наблюдается самая лучшая картина по распределению - все признаки распределены нормально."
   ]
  },
  {
   "cell_type": "code",
   "execution_count": 12,
   "metadata": {},
   "outputs": [
    {
     "name": "stdout",
     "output_type": "stream",
     "text": [
      "\t\t\u001b[4m\u001b[1m\u001b[31mgeo_data_2\u001b[0m \n",
      "\n"
     ]
    },
    {
     "data": {
      "text/html": [
       "<div>\n",
       "<style scoped>\n",
       "    .dataframe tbody tr th:only-of-type {\n",
       "        vertical-align: middle;\n",
       "    }\n",
       "\n",
       "    .dataframe tbody tr th {\n",
       "        vertical-align: top;\n",
       "    }\n",
       "\n",
       "    .dataframe thead th {\n",
       "        text-align: right;\n",
       "    }\n",
       "</style>\n",
       "<table border=\"1\" class=\"dataframe\">\n",
       "  <thead>\n",
       "    <tr style=\"text-align: right;\">\n",
       "      <th></th>\n",
       "      <th>f0</th>\n",
       "      <th>f1</th>\n",
       "      <th>f2</th>\n",
       "      <th>product</th>\n",
       "    </tr>\n",
       "  </thead>\n",
       "  <tbody>\n",
       "    <tr>\n",
       "      <th>f0</th>\n",
       "      <td>1.000000</td>\n",
       "      <td>0.000528</td>\n",
       "      <td>-0.000448</td>\n",
       "      <td>-0.001987</td>\n",
       "    </tr>\n",
       "    <tr>\n",
       "      <th>f1</th>\n",
       "      <td>0.000528</td>\n",
       "      <td>1.000000</td>\n",
       "      <td>0.000779</td>\n",
       "      <td>-0.001012</td>\n",
       "    </tr>\n",
       "    <tr>\n",
       "      <th>f2</th>\n",
       "      <td>-0.000448</td>\n",
       "      <td>0.000779</td>\n",
       "      <td>1.000000</td>\n",
       "      <td>0.445871</td>\n",
       "    </tr>\n",
       "    <tr>\n",
       "      <th>product</th>\n",
       "      <td>-0.001987</td>\n",
       "      <td>-0.001012</td>\n",
       "      <td>0.445871</td>\n",
       "      <td>1.000000</td>\n",
       "    </tr>\n",
       "  </tbody>\n",
       "</table>\n",
       "</div>"
      ],
      "text/plain": [
       "               f0        f1        f2   product\n",
       "f0       1.000000  0.000528 -0.000448 -0.001987\n",
       "f1       0.000528  1.000000  0.000779 -0.001012\n",
       "f2      -0.000448  0.000779  1.000000  0.445871\n",
       "product -0.001987 -0.001012  0.445871  1.000000"
      ]
     },
     "metadata": {},
     "output_type": "display_data"
    },
    {
     "name": "stdout",
     "output_type": "stream",
     "text": [
      "**************************************************\n"
     ]
    }
   ],
   "source": [
    "correlation_table('geo_data_2')"
   ]
  },
  {
   "cell_type": "markdown",
   "metadata": {},
   "source": [
    "Влияние всех признаков `f0` и `f1` на объем запасов сырья примерно одинаковый, а вот `f2` как и в других регионах является ключевым. Мультиколлинеарности признаков между собой нет.\n",
    "\n"
   ]
  },
  {
   "cell_type": "markdown",
   "metadata": {},
   "source": [
    "[К оглавлению](#contents)"
   ]
  },
  {
   "cell_type": "markdown",
   "metadata": {},
   "source": [
    "<a id='data_review_dublicates'></a>"
   ]
  },
  {
   "cell_type": "markdown",
   "metadata": {},
   "source": [
    "### 3. Проверка дубликатов"
   ]
  },
  {
   "cell_type": "markdown",
   "metadata": {},
   "source": [
    "Выполним проверку явных дубликатов для датасетов"
   ]
  },
  {
   "cell_type": "code",
   "execution_count": 13,
   "metadata": {},
   "outputs": [
    {
     "name": "stdout",
     "output_type": "stream",
     "text": [
      "Дубликатов в \u001b[4m\u001b[1m\u001b[31mgeo_data_0\u001b[0m: 0\n",
      "-------------------------\n",
      "Дубликатов в \u001b[4m\u001b[1m\u001b[31mgeo_data_1\u001b[0m: 0\n",
      "-------------------------\n",
      "Дубликатов в \u001b[4m\u001b[1m\u001b[31mgeo_data_2\u001b[0m: 0\n",
      "-------------------------\n"
     ]
    }
   ],
   "source": [
    "for df in datas:\n",
    "    print(f'Дубликатов в \\033[4m\\033[1m\\033[31m{df}\\033[0m:', datas.get(df)[0].duplicated().sum())\n",
    "    print('-' * 25)"
   ]
  },
  {
   "cell_type": "markdown",
   "metadata": {},
   "source": [
    "И неявных дубликатов одних и тех же скважин"
   ]
  },
  {
   "cell_type": "code",
   "execution_count": 14,
   "metadata": {},
   "outputs": [
    {
     "name": "stdout",
     "output_type": "stream",
     "text": [
      "Дубликатов скважин в \u001b[4m\u001b[1m\u001b[31mgeo_data_0\u001b[0m: 10\n",
      "-------------------------\n",
      "Дубликатов скважин в \u001b[4m\u001b[1m\u001b[31mgeo_data_1\u001b[0m: 4\n",
      "-------------------------\n",
      "Дубликатов скважин в \u001b[4m\u001b[1m\u001b[31mgeo_data_2\u001b[0m: 4\n",
      "-------------------------\n"
     ]
    }
   ],
   "source": [
    "for df in datas:\n",
    "    print(f'Дубликатов скважин в \\033[4m\\033[1m\\033[31m{df}\\033[0m:', datas.get(df)[0]['id'].duplicated().sum())\n",
    "    print('-' * 25)"
   ]
  },
  {
   "cell_type": "markdown",
   "metadata": {},
   "source": [
    "Как мы видим в данных имеются записи об одних и тех же скважинах в регионах, отличающихся между собой значениями признаков `f0-f2`. Рекомендуется сообщить об этом специалистам по сбору и обработке информации для базы данных, чтобы почистили данные и определили ее первопричину."
   ]
  },
  {
   "cell_type": "markdown",
   "metadata": {},
   "source": [
    "<a id='data_review_summary'></a>"
   ]
  },
  {
   "cell_type": "markdown",
   "metadata": {},
   "source": [
    "### **Выводы**\n",
    "\n",
    "- Каждый объект в наборе данных — данные об уникальной скважине (с условием исключения повторяющихся записей с отличающимися значениями признаков). \n",
    "- ключевым признаком, оказывающим основное влияние на целевой признак (объем сырья в скважине), является `f2`\n",
    "- самым удачным датасетом для обучения модели является третий регион geo_data_2, в котором все признаки распределены нормально и нет мультиколлинеарности признаков между собой. В других датасетах данные сильно загрязнены и будут негативно сказываться на обучаемой модели и интерпретировании результотов предсказаний."
   ]
  },
  {
   "cell_type": "markdown",
   "metadata": {},
   "source": [
    "[К оглавлению](#contents)"
   ]
  },
  {
   "cell_type": "markdown",
   "metadata": {},
   "source": [
    "<a id='data_split'></a>"
   ]
  },
  {
   "cell_type": "markdown",
   "metadata": {},
   "source": [
    "## **II. Сплит данных на выборки**"
   ]
  },
  {
   "cell_type": "markdown",
   "metadata": {},
   "source": [
    "Удалим из данных, признаки не оказывающие никакого влияния на ответ на интересующий нас вопрос, а именно:\n",
    "- уникальный номер скважины"
   ]
  },
  {
   "cell_type": "code",
   "execution_count": 15,
   "metadata": {},
   "outputs": [],
   "source": [
    "for df in datas:\n",
    "    df_new = datas.get(df)[0].drop(columns = ['id'],axis = 1)\n",
    "    datas.update({df:[df_new]})"
   ]
  },
  {
   "cell_type": "markdown",
   "metadata": {},
   "source": [
    "<a id='split&scale'></a>"
   ]
  },
  {
   "cell_type": "markdown",
   "metadata": {
    "tags": []
   },
   "source": [
    "### 1. Разделение и масштабирование"
   ]
  },
  {
   "cell_type": "markdown",
   "metadata": {},
   "source": [
    "Предоставленные данные представляют собой единые датафреймы, разделения на обучающую и валидационную выборки у нас сейчас нет. Поэтому выполним это сейчас с помощью алгоритма `train_test_split` в соотношении 3:1.\n",
    "\n",
    "Помимо этого все признаки представлены числовыми значениями, поэтому на всякий случай смасштабируем их между собой, чтобы избежать негативного влияния на наши модели."
   ]
  },
  {
   "cell_type": "markdown",
   "metadata": {},
   "source": [
    "Для этого напишем функцию, принимающую на вход исходный датафрейм и целевой признак, а на выходе получаем разделенные и смасштабированные выборки."
   ]
  },
  {
   "cell_type": "code",
   "execution_count": 16,
   "metadata": {},
   "outputs": [],
   "source": [
    "# ФУНКЦИЯ ПОДГОТОВКИ ДАННЫХ К ОБУЧЕНИЮ\n",
    "\n",
    "def data_split_and_scale (data, target_attribute):\n",
    "    \n",
    "    # РАЗДЕЛЕНИЕ НА ВЫБОРКИ\n",
    "    \n",
    "    # разделение на целевой признак и другие признаки\n",
    "    features = datas.get(data)[0].drop([target_attribute], axis=1)\n",
    "    target = datas.get(data)[0][target_attribute]\n",
    "    \n",
    "    # разделение на тренировочную и валидационную выборки, размер фракции возьмем 25% по условию задания\n",
    "    features_train, features_valid, target_train, target_valid = (train_test_split\n",
    "                                                                  (features, target, \n",
    "                                                                   test_size=.25, \n",
    "                                                                   random_state=12345)\n",
    "                                                                 )\n",
    "    \n",
    "    # ПРОВЕРКА РАЗМЕРОВ ВЫБОРОК\n",
    "    \n",
    "    # добавим все выборки в словарь\n",
    "    arrays = {\n",
    "        'Обучающая' : features_train,\n",
    "        'Валидационная' : features_valid}\n",
    "    \n",
    "    # выведем количество содержащихся объектов\n",
    "    print(\"\\033[4m\\033[1m\\033[31m{}\\033[0m\\n\".format(f'ИСХОДНЫЕ ДАННЫЕ {data}:'))\n",
    "    for array_name, array in arrays.items():\n",
    "        print(\n",
    "            \"\\033[4m\\033[1m\\033[31m{}\\033[0m содержит объектов:\".format(f'{array_name} выборка'), \n",
    "            array.shape[0], \n",
    "            f'({array.shape[0] / datas.get(data)[0].shape[0]:.1%})'\n",
    "        )\n",
    "\n",
    "    # МАСШТАБИРОВАНИЕ\n",
    "    \n",
    "    # создадим объект масштабирования, скормим ему тренировочную выборку количественных признаков \n",
    "    # для определения и преобразуем обучающую и валидационную выборки функцией `transform()`\n",
    "    numeric = ['f0', 'f1', 'f2']\n",
    "    scaler = StandardScaler()\n",
    "    scaler.fit(features_train[numeric]) \n",
    "\n",
    "    features_train[numeric] = scaler.transform(features_train[numeric])\n",
    "    features_valid[numeric] = scaler.transform(features_valid[numeric])\n",
    "\n",
    "    return features_train, features_valid, target_train, target_valid"
   ]
  },
  {
   "cell_type": "markdown",
   "metadata": {},
   "source": [
    "На примере первого региона `geo_data_0` проверим правильность выполнения функции по разбиению данных на выборки"
   ]
  },
  {
   "cell_type": "code",
   "execution_count": 17,
   "metadata": {},
   "outputs": [
    {
     "name": "stdout",
     "output_type": "stream",
     "text": [
      "\u001b[4m\u001b[1m\u001b[31mИСХОДНЫЕ ДАННЫЕ geo_data_0:\u001b[0m\n",
      "\n",
      "\u001b[4m\u001b[1m\u001b[31mОбучающая выборка\u001b[0m содержит объектов: 75000 (75.0%)\n",
      "\u001b[4m\u001b[1m\u001b[31mВалидационная выборка\u001b[0m содержит объектов: 25000 (25.0%)\n"
     ]
    }
   ],
   "source": [
    "features_train, features_valid, target_train, target_valid = data_split_and_scale ('geo_data_0','product')"
   ]
  },
  {
   "cell_type": "markdown",
   "metadata": {},
   "source": [
    "<a id='data_split_summary'></a>"
   ]
  },
  {
   "cell_type": "markdown",
   "metadata": {},
   "source": [
    "### **Выводы**"
   ]
  },
  {
   "cell_type": "markdown",
   "metadata": {},
   "source": [
    "Получили равные выборки в отношении 3:1, которые будем использовать уже для создания наших моделей по регионам. Так как в исследовании необходимым целевым признаком является количественный параметр (нужно ответить предсказать, сколько ожидается объем сырья в скважине), следовательно будем использовать модель через регрессию. Согласно условию задания моделью выбрана **«Линейная регрессия»**"
   ]
  },
  {
   "cell_type": "markdown",
   "metadata": {},
   "source": [
    "[К оглавлению](#contents)"
   ]
  },
  {
   "cell_type": "markdown",
   "metadata": {},
   "source": [
    "<a id='model_initialisation'></a>"
   ]
  },
  {
   "cell_type": "markdown",
   "metadata": {},
   "source": [
    "## **III. Построение и проверка моделей**"
   ]
  },
  {
   "cell_type": "markdown",
   "metadata": {},
   "source": [
    "<a id='models_linier_regression'></a>"
   ]
  },
  {
   "cell_type": "markdown",
   "metadata": {},
   "source": [
    "### 1. Модель «Линейная регрессия»"
   ]
  },
  {
   "cell_type": "markdown",
   "metadata": {},
   "source": [
    "Напишем функцию для построения модели `«Линейная регрессия»` на основании создаваемых выборок тренировочной и валидационной. Будем сохранять предсказания и правильные ответы на валидационной выборке. \n",
    "\n",
    "Оценивать модель будем через `средний запас предсказанного сырья` и `RMSE` модели. "
   ]
  },
  {
   "cell_type": "code",
   "execution_count": 18,
   "metadata": {},
   "outputs": [],
   "source": [
    "# ФУКНЦИЯ ЛИНЕЙНОЙ РЕГРЕССИИ на основе предыдущей функции деления на выборки\n",
    "\n",
    "def model_linear_regression (data, target_attribute):\n",
    "    \n",
    "    # выполнение функции разделения и масштабирования\n",
    "    features_train, features_valid, target_train, target_valid = data_split_and_scale (data, target_attribute)\n",
    "\n",
    "    # засекаем время\n",
    "    start_time = time.time()\n",
    "    \n",
    "    # создаем модельку\n",
    "    model = LinearRegression()\n",
    "    # кормим ей валидационную выбоку\n",
    "    model.fit(features_train, target_train)\n",
    "    \n",
    "    # делаем предсказание и смотрим на качество опреления целевого признака\n",
    "    predictions = model.predict(features_valid)\n",
    "    model_time = round((time.time() - start_time), 5)\n",
    "    rmse = round(mean_squared_error(target_valid, predictions) ** .5, 2)\n",
    "    predictions_product_average = round(predictions.mean(), 1)\n",
    "    target_product_average = round(target_valid.mean(), 1)\n",
    "    \n",
    "    # вывод на экран\n",
    "    print(\"\\033[4m\\033[1m\\033[31m{}\\033[0m {}\".format('Cредний запас предсказанного сырья равен:', \n",
    "                                                      f'{predictions_product_average:.1f} тыс. баррелей'))\n",
    "    \n",
    "    print(\"\\033[4m\\033[1m\\033[31m{}\\033[0m {}\".format('Cредний запас реального сырья равен:', \n",
    "                                                      f'{target_product_average:.1f} тыс. баррелей'))\n",
    "    \n",
    "    print(\"\\033[4m\\033[1m\\033[31m{}\\033[0m {}\".format('Средняя ошибка RMSE равна:', f'{rmse:.2f}'))\n",
    "    \n",
    "    print(\"\\033[4m\\033[1m\\033[31m{}\\033[0m {}\".format('Время обучения равно:', f'{model_time:.5f} секунд'))\n",
    "    \n",
    "    print('-' * 70)\n",
    "    \n",
    "    return predictions, target_valid, model_time, rmse, predictions_product_average, target_product_average"
   ]
  },
  {
   "cell_type": "markdown",
   "metadata": {},
   "source": [
    "Далее сделаем вывод интересующей нас информации для всех трех регионов"
   ]
  },
  {
   "cell_type": "code",
   "execution_count": 19,
   "metadata": {},
   "outputs": [
    {
     "name": "stdout",
     "output_type": "stream",
     "text": [
      "\u001b[4m\u001b[1m\u001b[31mИСХОДНЫЕ ДАННЫЕ geo_data_0:\u001b[0m\n",
      "\n",
      "\u001b[4m\u001b[1m\u001b[31mОбучающая выборка\u001b[0m содержит объектов: 75000 (75.0%)\n",
      "\u001b[4m\u001b[1m\u001b[31mВалидационная выборка\u001b[0m содержит объектов: 25000 (25.0%)\n",
      "\u001b[4m\u001b[1m\u001b[31mCредний запас предсказанного сырья равен:\u001b[0m 92.6 тыс. баррелей\n",
      "\u001b[4m\u001b[1m\u001b[31mCредний запас реального сырья равен:\u001b[0m 92.1 тыс. баррелей\n",
      "\u001b[4m\u001b[1m\u001b[31mСредняя ошибка RMSE равна:\u001b[0m 37.58\n",
      "\u001b[4m\u001b[1m\u001b[31mВремя обучения равно:\u001b[0m 0.00762 секунд\n",
      "----------------------------------------------------------------------\n",
      "\u001b[4m\u001b[1m\u001b[31mИСХОДНЫЕ ДАННЫЕ geo_data_1:\u001b[0m\n",
      "\n",
      "\u001b[4m\u001b[1m\u001b[31mОбучающая выборка\u001b[0m содержит объектов: 75000 (75.0%)\n",
      "\u001b[4m\u001b[1m\u001b[31mВалидационная выборка\u001b[0m содержит объектов: 25000 (25.0%)\n",
      "\u001b[4m\u001b[1m\u001b[31mCредний запас предсказанного сырья равен:\u001b[0m 68.7 тыс. баррелей\n",
      "\u001b[4m\u001b[1m\u001b[31mCредний запас реального сырья равен:\u001b[0m 68.7 тыс. баррелей\n",
      "\u001b[4m\u001b[1m\u001b[31mСредняя ошибка RMSE равна:\u001b[0m 0.89\n",
      "\u001b[4m\u001b[1m\u001b[31mВремя обучения равно:\u001b[0m 0.00664 секунд\n",
      "----------------------------------------------------------------------\n",
      "\u001b[4m\u001b[1m\u001b[31mИСХОДНЫЕ ДАННЫЕ geo_data_2:\u001b[0m\n",
      "\n",
      "\u001b[4m\u001b[1m\u001b[31mОбучающая выборка\u001b[0m содержит объектов: 75000 (75.0%)\n",
      "\u001b[4m\u001b[1m\u001b[31mВалидационная выборка\u001b[0m содержит объектов: 25000 (25.0%)\n",
      "\u001b[4m\u001b[1m\u001b[31mCредний запас предсказанного сырья равен:\u001b[0m 95.0 тыс. баррелей\n",
      "\u001b[4m\u001b[1m\u001b[31mCредний запас реального сырья равен:\u001b[0m 94.9 тыс. баррелей\n",
      "\u001b[4m\u001b[1m\u001b[31mСредняя ошибка RMSE равна:\u001b[0m 40.03\n",
      "\u001b[4m\u001b[1m\u001b[31mВремя обучения равно:\u001b[0m 0.00709 секунд\n",
      "----------------------------------------------------------------------\n"
     ]
    }
   ],
   "source": [
    "regions = []\n",
    "\n",
    "for df in datas:\n",
    "    # для срабатывания функции `model_linear_regression` сразу зададим входные параметры\n",
    "    target_attribute = 'product'\n",
    "    data = df\n",
    "    \n",
    "    # извлекаем переменные из функции `model_linear_regression` и вносим с список `regions`\n",
    "    predictions, target_valid, model_time, rmse, predictions_product_average, target_product_average = model_linear_regression (data,target_attribute)\n",
    "    regions.extend([[df, model_time, rmse, predictions_product_average, target_product_average]])\n",
    "    \n",
    "    # добавление предсказаний и правильных ответов в словарь\n",
    "    do = datas.get(df)[0]\n",
    "    predictions = pd.Series(predictions).reset_index(drop=True)\n",
    "    target_valid = pd.Series(target_valid).reset_index(drop=True)\n",
    "    datas[df] = [do, target_valid, predictions]\n",
    "    \n",
    "# задаем названия колонок для готовящейся сводной таблицы\n",
    "columns = ['Регион', 'Время обучения', 'RMSE', 'Cредний запас предсказанного сырья, тыс. баррелей', \n",
    "           'Cредний запас реального сырья, тыс. баррелей']\n",
    "\n",
    "# оформляем результаты в виде таблицы\n",
    "summary = pd.DataFrame(data=regions, columns=columns)"
   ]
  },
  {
   "cell_type": "code",
   "execution_count": 20,
   "metadata": {},
   "outputs": [
    {
     "data": {
      "text/html": [
       "<div>\n",
       "<style scoped>\n",
       "    .dataframe tbody tr th:only-of-type {\n",
       "        vertical-align: middle;\n",
       "    }\n",
       "\n",
       "    .dataframe tbody tr th {\n",
       "        vertical-align: top;\n",
       "    }\n",
       "\n",
       "    .dataframe thead th {\n",
       "        text-align: right;\n",
       "    }\n",
       "</style>\n",
       "<table border=\"1\" class=\"dataframe\">\n",
       "  <thead>\n",
       "    <tr style=\"text-align: right;\">\n",
       "      <th></th>\n",
       "      <th>Регион</th>\n",
       "      <th>Время обучения</th>\n",
       "      <th>RMSE</th>\n",
       "      <th>Cредний запас предсказанного сырья, тыс. баррелей</th>\n",
       "      <th>Cредний запас реального сырья, тыс. баррелей</th>\n",
       "    </tr>\n",
       "  </thead>\n",
       "  <tbody>\n",
       "    <tr>\n",
       "      <th>0</th>\n",
       "      <td>geo_data_0</td>\n",
       "      <td>0.00762</td>\n",
       "      <td>37.58</td>\n",
       "      <td>92.6</td>\n",
       "      <td>92.1</td>\n",
       "    </tr>\n",
       "    <tr>\n",
       "      <th>1</th>\n",
       "      <td>geo_data_1</td>\n",
       "      <td>0.00664</td>\n",
       "      <td>0.89</td>\n",
       "      <td>68.7</td>\n",
       "      <td>68.7</td>\n",
       "    </tr>\n",
       "    <tr>\n",
       "      <th>2</th>\n",
       "      <td>geo_data_2</td>\n",
       "      <td>0.00709</td>\n",
       "      <td>40.03</td>\n",
       "      <td>95.0</td>\n",
       "      <td>94.9</td>\n",
       "    </tr>\n",
       "  </tbody>\n",
       "</table>\n",
       "</div>"
      ],
      "text/plain": [
       "       Регион  Время обучения   RMSE  \\\n",
       "0  geo_data_0         0.00762  37.58   \n",
       "1  geo_data_1         0.00664   0.89   \n",
       "2  geo_data_2         0.00709  40.03   \n",
       "\n",
       "   Cредний запас предсказанного сырья, тыс. баррелей  \\\n",
       "0                                               92.6   \n",
       "1                                               68.7   \n",
       "2                                               95.0   \n",
       "\n",
       "   Cредний запас реального сырья, тыс. баррелей  \n",
       "0                                          92.1  \n",
       "1                                          68.7  \n",
       "2                                          94.9  "
      ]
     },
     "execution_count": 20,
     "metadata": {},
     "output_type": "execute_result"
    }
   ],
   "source": [
    "summary"
   ]
  },
  {
   "cell_type": "markdown",
   "metadata": {},
   "source": [
    "<a id='model_initialisation_summary'></a> "
   ]
  },
  {
   "cell_type": "markdown",
   "metadata": {},
   "source": [
    "###  **Выводы**\n",
    "\n",
    "По итогу создания моделей мы видим:\n",
    "- В масштабах регионов модель на основе алгоритма «Линейная регрессия» верно предсказывает средние запасы добываемого сырья с лучшим показателем средней ошибки `RMSE равным 0.89` (`для второго региона geo_data_1`) и достаточно быстрой скоростью обучения в районе `0.01 секунды`. \n",
    "\n",
    "**Однако не стоит забывать, что гистограммы распределения признаков показали худшую подготовленность данных именно этого региона с высокой долей зависимости от признака `f2` в почти 99,9% и ненормальным распределением.** Фактически запас сырья моделью для данного региона определялся только этим признаком. Поэтому не считаю правильным использовать модель №2.\n",
    "- Помимо этого во втором регионе заметно меньше средний запас сырья, следовательно и потенциальная прибыль будет ниже."
   ]
  },
  {
   "cell_type": "markdown",
   "metadata": {
    "tags": []
   },
   "source": [
    "[К оглавлению](#contents)"
   ]
  },
  {
   "cell_type": "markdown",
   "metadata": {},
   "source": [
    "<a id='profit&risk_calculation'></a>"
   ]
  },
  {
   "cell_type": "markdown",
   "metadata": {},
   "source": [
    "## **IV. Расчёт прибыли**"
   ]
  },
  {
   "cell_type": "markdown",
   "metadata": {},
   "source": [
    "<a id='calculation_preparation'></a>"
   ]
  },
  {
   "cell_type": "markdown",
   "metadata": {},
   "source": [
    "### 1. Подготовка к расчету"
   ]
  },
  {
   "cell_type": "markdown",
   "metadata": {},
   "source": [
    "Необходимо: \n",
    "- рассчитать достаточный объём сырья для безубыточной разработки новой скважины;\n",
    "- сравнить полученный объём сырья со средним запасом в каждом регионе.\n",
    "\n",
    "Из дополнительно предоставленной инфомарции и по условиям задания имеем:\n",
    "- вероятность убытков должна быть меньше 2.5%"
   ]
  },
  {
   "cell_type": "code",
   "execution_count": 21,
   "metadata": {},
   "outputs": [],
   "source": [
    "SCOUTING_POINTS = 500             # шт., количество точек разведки\n",
    "DEVELOPED_POINTS = 200            # шт., количество выбираемых точек для разработки\n",
    "BUDGET = 10 ** 7                  # тыс. рублей, бюджет на разработку скважин на один регион\n",
    "PROFIT_PER_SELL_BARREL_UNIT = 450 # тыс. рублей за 1 тыс баррелей, доход с каждой единицы продукта"
   ]
  },
  {
   "cell_type": "markdown",
   "metadata": {},
   "source": [
    "Для начала необходимо определить достаточный объем сырья для безубыточной разработки. На 200 точек для разработки выделяется 10 млрд. рублей, следовательно для безубыточности разработки одной скважины она в среднем должна приносить:"
   ]
  },
  {
   "cell_type": "code",
   "execution_count": 22,
   "metadata": {},
   "outputs": [
    {
     "name": "stdout",
     "output_type": "stream",
     "text": [
      "Средний объем сырья со скважины должен быть не ниже 111.11 тыс. баррелей\n"
     ]
    }
   ],
   "source": [
    "product_average_per_point = BUDGET / DEVELOPED_POINTS / PROFIT_PER_SELL_BARREL_UNIT\n",
    "\n",
    "print(f'Средний объем сырья со скважины должен быть не ниже {product_average_per_point:.2f} тыс. баррелей')"
   ]
  },
  {
   "cell_type": "markdown",
   "metadata": {},
   "source": [
    "А в действительности одна скважина в каждом регионе в среднем содержит сырья:"
   ]
  },
  {
   "cell_type": "code",
   "execution_count": 23,
   "metadata": {},
   "outputs": [
    {
     "name": "stdout",
     "output_type": "stream",
     "text": [
      "В регионе geo_data_0 в среднем в каждой скважине содержится 92.50 тыс. баррелей\n",
      "В регионе geo_data_1 в среднем в каждой скважине содержится 68.83 тыс. баррелей\n",
      "В регионе geo_data_2 в среднем в каждой скважине содержится 95.00 тыс. баррелей\n"
     ]
    }
   ],
   "source": [
    "for df in datas:\n",
    "    mean = datas.get(df)[0]['product'].mean()\n",
    "    print(f'В регионе {df} в среднем в каждой скважине содержится {mean:.2f} тыс. баррелей')"
   ]
  },
  {
   "cell_type": "markdown",
   "metadata": {},
   "source": [
    "Напишем функцию для расчёта прибыли по выбранным скважинам и предсказаниям модели"
   ]
  },
  {
   "cell_type": "code",
   "execution_count": 24,
   "metadata": {},
   "outputs": [],
   "source": [
    "# ФУНКЦИЯ ПОДСЧЕТА ПРИБЫЛИ\n",
    "def profit_function(target, probabilities, count):\n",
    "    \n",
    "    probs_sorted = probabilities.sort_values(ascending=False)\n",
    "    selected = target[probs_sorted.index][:count]\n",
    "    # поступления\n",
    "    income = PROFIT_PER_SELL_BARREL_UNIT * selected.sum()\n",
    "    # чистая прибыль с вычитом вложенных в разработку средств\n",
    "    profit = income - BUDGET\n",
    "    \n",
    "    return profit "
   ]
  },
  {
   "cell_type": "markdown",
   "metadata": {
    "tags": []
   },
   "source": [
    "[К оглавлению](#contents)"
   ]
  },
  {
   "cell_type": "markdown",
   "metadata": {},
   "source": [
    "<a id='calculation'></a>"
   ]
  },
  {
   "cell_type": "markdown",
   "metadata": {},
   "source": [
    "### 2. Проведение расчета рисков и прибыли для каждого региона"
   ]
  },
  {
   "cell_type": "markdown",
   "metadata": {},
   "source": [
    "Процедурой бутстреп найдем 95%-й доверительный интервал"
   ]
  },
  {
   "cell_type": "code",
   "execution_count": 25,
   "metadata": {},
   "outputs": [],
   "source": [
    "# зададим значение сменяющегося рандома для исключения повторения значений \n",
    "state = np.random.RandomState(123456)\n",
    "\n",
    "# ФУНКЦИЯ РАСЧЕТА ДОВЕРИТЕЛЬНОГО ИНТЕРВАЛА И СРЕДНЕЙ ПРИБЫЛИ на основе функции прибыли\n",
    "def bootstrap (data, target, probs, SAMPLE, INTERVAL):\n",
    "    \n",
    "    # расчет прибыли\n",
    "    values = []\n",
    "    \n",
    "    for i in range(SAMPLE):\n",
    "        target_subsample = target.sample(n=SCOUTING_POINTS, replace=True, random_state=state)\n",
    "        probs_subsample = probs[target_subsample.index]\n",
    "        values.append(profit_function(target_subsample, probs_subsample, DEVELOPED_POINTS))\n",
    "    \n",
    "    values = pd.Series(values)\n",
    "    \n",
    "    # вычисление квантилей по условию\n",
    "    quantile = (1 - INTERVAL) / 2\n",
    "    lower = round(values.quantile(0 + quantile) / 1000, 2)\n",
    "    upper = round(values.quantile(1 - quantile) / 1000, 2)\n",
    "    \n",
    "    # средняя прибыль и риски\n",
    "    mean = round(values.mean() / 1000, 2)\n",
    "    fails = (values < 0).sum()\n",
    "    risk = fails / SAMPLE\n",
    "    \n",
    "    #выводим на экран всю информацию\n",
    "    print(\"\\033[4m\\033[1m\\033[31m{}\\033[0m\\n\".format(f'ИСХОДНЫЕ ДАННЫЕ {data}:'))\n",
    "    print(f'Средняя выручка: {mean} млн. руб')\n",
    "    print(f'95% доверительный интервал от {lower:.2f} до {upper:.2f} млн.руб.')\n",
    "    print(f'Риски: {risk:.2%}')\n",
    "    print('Количество убыточных случаев:', fails)\n",
    "    print('-' * 70)\n",
    "    \n",
    "    return mean, lower, upper, risk, fails, quantile"
   ]
  },
  {
   "cell_type": "markdown",
   "metadata": {},
   "source": [
    "Далее сделаем вывод интересующей нас информации для всех трех регионов"
   ]
  },
  {
   "cell_type": "code",
   "execution_count": 26,
   "metadata": {},
   "outputs": [],
   "source": [
    "# Можно поиграться с количеством выборок и доверительным интервалом, чтобы увидеть, \n",
    "# что несмотря на финальные значения при 95%-м доверительном интервале, \n",
    "# второй регион не является самым безопасным для вложения, так как риск там самый большой, \n",
    "# хоть и разброс потенциальной прибыли больше\n",
    "\n",
    "SAMPLE = 1000\n",
    "INTERVAL = .95"
   ]
  },
  {
   "cell_type": "code",
   "execution_count": 27,
   "metadata": {},
   "outputs": [
    {
     "name": "stdout",
     "output_type": "stream",
     "text": [
      "\u001b[4m\u001b[1m\u001b[31mИСХОДНЫЕ ДАННЫЕ geo_data_0:\u001b[0m\n",
      "\n",
      "Средняя выручка: 442.01 млн. руб\n",
      "95% доверительный интервал от -99.96 до 969.18 млн.руб.\n",
      "Риски: 5.60%\n",
      "Количество убыточных случаев: 56\n",
      "----------------------------------------------------------------------\n",
      "\u001b[4m\u001b[1m\u001b[31mИСХОДНЫЕ ДАННЫЕ geo_data_1:\u001b[0m\n",
      "\n",
      "Средняя выручка: 523.44 млн. руб\n",
      "95% доверительный интервал от 134.46 до 945.71 млн.руб.\n",
      "Риски: 0.70%\n",
      "Количество убыточных случаев: 7\n",
      "----------------------------------------------------------------------\n",
      "\u001b[4m\u001b[1m\u001b[31mИСХОДНЫЕ ДАННЫЕ geo_data_2:\u001b[0m\n",
      "\n",
      "Средняя выручка: 421.15 млн. руб\n",
      "95% доверительный интервал от -121.37 до 948.93 млн.руб.\n",
      "Риски: 6.10%\n",
      "Количество убыточных случаев: 61\n",
      "----------------------------------------------------------------------\n"
     ]
    }
   ],
   "source": [
    "regions_1 = []\n",
    "\n",
    "for df in datas:\n",
    "    # для срабатывания функции `bootstrap` сразу зададим входные параметры\n",
    "    target = datas.get(df)[1]\n",
    "    probs = datas.get(df)[2]\n",
    "    \n",
    "    # извлекаем переменные из функции `bootstrap` и вносим с список `regions`\n",
    "    mean, lower, upper, risk, fails, quantile = bootstrap (df, target, probs, SAMPLE, INTERVAL)\n",
    "    risk = risk * 100\n",
    "    regions_1.extend([[df, mean, lower, upper, risk]])\n",
    "    \n",
    "# задаем названия колонок для готовящейся сводной таблицы\n",
    "columns_1 = ['Регион', 'Средняя выручка, млн. руб', f'{round(0 + quantile, 3)}-квантиль, млн. руб', \n",
    "             f'{round(1 - quantile, 3)}-квантиль, млн. руб', 'Риски, %']\n",
    "\n",
    "# оформляем результаты в виде таблицы\n",
    "summary_1 = pd.DataFrame(data=regions_1, columns=columns_1)"
   ]
  },
  {
   "cell_type": "code",
   "execution_count": 28,
   "metadata": {},
   "outputs": [
    {
     "data": {
      "text/html": [
       "<div>\n",
       "<style scoped>\n",
       "    .dataframe tbody tr th:only-of-type {\n",
       "        vertical-align: middle;\n",
       "    }\n",
       "\n",
       "    .dataframe tbody tr th {\n",
       "        vertical-align: top;\n",
       "    }\n",
       "\n",
       "    .dataframe thead th {\n",
       "        text-align: right;\n",
       "    }\n",
       "</style>\n",
       "<table border=\"1\" class=\"dataframe\">\n",
       "  <thead>\n",
       "    <tr style=\"text-align: right;\">\n",
       "      <th></th>\n",
       "      <th>Регион</th>\n",
       "      <th>Средняя выручка, млн. руб</th>\n",
       "      <th>0.025-квантиль, млн. руб</th>\n",
       "      <th>0.975-квантиль, млн. руб</th>\n",
       "      <th>Риски, %</th>\n",
       "    </tr>\n",
       "  </thead>\n",
       "  <tbody>\n",
       "    <tr>\n",
       "      <th>0</th>\n",
       "      <td>geo_data_0</td>\n",
       "      <td>442.01</td>\n",
       "      <td>-99.96</td>\n",
       "      <td>969.18</td>\n",
       "      <td>5.6</td>\n",
       "    </tr>\n",
       "    <tr>\n",
       "      <th>1</th>\n",
       "      <td>geo_data_1</td>\n",
       "      <td>523.44</td>\n",
       "      <td>134.46</td>\n",
       "      <td>945.71</td>\n",
       "      <td>0.7</td>\n",
       "    </tr>\n",
       "    <tr>\n",
       "      <th>2</th>\n",
       "      <td>geo_data_2</td>\n",
       "      <td>421.15</td>\n",
       "      <td>-121.37</td>\n",
       "      <td>948.93</td>\n",
       "      <td>6.1</td>\n",
       "    </tr>\n",
       "  </tbody>\n",
       "</table>\n",
       "</div>"
      ],
      "text/plain": [
       "       Регион  Средняя выручка, млн. руб  0.025-квантиль, млн. руб  \\\n",
       "0  geo_data_0                     442.01                    -99.96   \n",
       "1  geo_data_1                     523.44                    134.46   \n",
       "2  geo_data_2                     421.15                   -121.37   \n",
       "\n",
       "   0.975-квантиль, млн. руб  Риски, %  \n",
       "0                    969.18       5.6  \n",
       "1                    945.71       0.7  \n",
       "2                    948.93       6.1  "
      ]
     },
     "execution_count": 28,
     "metadata": {},
     "output_type": "execute_result"
    }
   ],
   "source": [
    "summary_1"
   ]
  },
  {
   "cell_type": "code",
   "execution_count": 29,
   "metadata": {},
   "outputs": [],
   "source": [
    "summary_final = pd.concat([summary,summary_1.drop(columns = ['Регион'],axis = 1)],sort=False,axis=1)"
   ]
  },
  {
   "cell_type": "code",
   "execution_count": 30,
   "metadata": {},
   "outputs": [
    {
     "data": {
      "text/html": [
       "<div>\n",
       "<style scoped>\n",
       "    .dataframe tbody tr th:only-of-type {\n",
       "        vertical-align: middle;\n",
       "    }\n",
       "\n",
       "    .dataframe tbody tr th {\n",
       "        vertical-align: top;\n",
       "    }\n",
       "\n",
       "    .dataframe thead th {\n",
       "        text-align: right;\n",
       "    }\n",
       "</style>\n",
       "<table border=\"1\" class=\"dataframe\">\n",
       "  <thead>\n",
       "    <tr style=\"text-align: right;\">\n",
       "      <th></th>\n",
       "      <th>Регион</th>\n",
       "      <th>Время обучения</th>\n",
       "      <th>RMSE</th>\n",
       "      <th>Cредний запас предсказанного сырья, тыс. баррелей</th>\n",
       "      <th>Cредний запас реального сырья, тыс. баррелей</th>\n",
       "      <th>Средняя выручка, млн. руб</th>\n",
       "      <th>0.025-квантиль, млн. руб</th>\n",
       "      <th>0.975-квантиль, млн. руб</th>\n",
       "      <th>Риски, %</th>\n",
       "    </tr>\n",
       "  </thead>\n",
       "  <tbody>\n",
       "    <tr>\n",
       "      <th>0</th>\n",
       "      <td>geo_data_0</td>\n",
       "      <td>0.00762</td>\n",
       "      <td>37.58</td>\n",
       "      <td>92.6</td>\n",
       "      <td>92.1</td>\n",
       "      <td>442.01</td>\n",
       "      <td>-99.96</td>\n",
       "      <td>969.18</td>\n",
       "      <td>5.6</td>\n",
       "    </tr>\n",
       "    <tr>\n",
       "      <th>1</th>\n",
       "      <td>geo_data_1</td>\n",
       "      <td>0.00664</td>\n",
       "      <td>0.89</td>\n",
       "      <td>68.7</td>\n",
       "      <td>68.7</td>\n",
       "      <td>523.44</td>\n",
       "      <td>134.46</td>\n",
       "      <td>945.71</td>\n",
       "      <td>0.7</td>\n",
       "    </tr>\n",
       "    <tr>\n",
       "      <th>2</th>\n",
       "      <td>geo_data_2</td>\n",
       "      <td>0.00709</td>\n",
       "      <td>40.03</td>\n",
       "      <td>95.0</td>\n",
       "      <td>94.9</td>\n",
       "      <td>421.15</td>\n",
       "      <td>-121.37</td>\n",
       "      <td>948.93</td>\n",
       "      <td>6.1</td>\n",
       "    </tr>\n",
       "  </tbody>\n",
       "</table>\n",
       "</div>"
      ],
      "text/plain": [
       "       Регион  Время обучения   RMSE  \\\n",
       "0  geo_data_0         0.00762  37.58   \n",
       "1  geo_data_1         0.00664   0.89   \n",
       "2  geo_data_2         0.00709  40.03   \n",
       "\n",
       "   Cредний запас предсказанного сырья, тыс. баррелей  \\\n",
       "0                                               92.6   \n",
       "1                                               68.7   \n",
       "2                                               95.0   \n",
       "\n",
       "   Cредний запас реального сырья, тыс. баррелей  Средняя выручка, млн. руб  \\\n",
       "0                                          92.1                     442.01   \n",
       "1                                          68.7                     523.44   \n",
       "2                                          94.9                     421.15   \n",
       "\n",
       "   0.025-квантиль, млн. руб  0.975-квантиль, млн. руб  Риски, %  \n",
       "0                    -99.96                    969.18       5.6  \n",
       "1                    134.46                    945.71       0.7  \n",
       "2                   -121.37                    948.93       6.1  "
      ]
     },
     "execution_count": 30,
     "metadata": {},
     "output_type": "execute_result"
    }
   ],
   "source": [
    "summary_final"
   ]
  },
  {
   "cell_type": "markdown",
   "metadata": {},
   "source": [
    "<a id='profit&risk_calculation_summary'></a>"
   ]
  },
  {
   "cell_type": "markdown",
   "metadata": {},
   "source": [
    "### 3. **Выводы**\n",
    "\n",
    "По итогу создания моделей для разных регионов мы видим:\n",
    "- у **второго региона** самая высокая средняя потенциальная выручка и самый низкий показатель **риска ~1%** с более низким **средним запасом сырья в одной скважине равным 68.7 тыс. баррелей**, а лучший показатель разброса прибыли - **почти любом исходе можно заработать больше инвестированных изначально средств**, в других же регионах есть шанс уйти в минус. \n",
    "- помимо вышеописанного, при обзоре данных **второй регион показался мне самым странным** и как будто синтетическим в сравнении с другими. Ну или он просто такой особенный, где ключевой признак `f2` напрямую показывает наглядно сколько мы добудем сырья."
   ]
  },
  {
   "cell_type": "markdown",
   "metadata": {
    "tags": []
   },
   "source": [
    "[К оглавлению](#contents)"
   ]
  },
  {
   "cell_type": "markdown",
   "metadata": {},
   "source": [
    "<a id='summary'></a>"
   ]
  },
  {
   "cell_type": "markdown",
   "metadata": {},
   "source": [
    "## **V. Итоги исследования**"
   ]
  },
  {
   "cell_type": "markdown",
   "metadata": {},
   "source": [
    "На основании предоставленных данных мы создали несколько моделей для определения предполагаемого объема по заданным признакам, расчитали потенциальную прибыль и вероятность убытка в каждом регионе и сделали выбор региона для дальнейшей разработки и инвестиций компании. И вот что у нас получилось:"
   ]
  },
  {
   "cell_type": "code",
   "execution_count": 31,
   "metadata": {},
   "outputs": [
    {
     "data": {
      "text/html": [
       "<div>\n",
       "<style scoped>\n",
       "    .dataframe tbody tr th:only-of-type {\n",
       "        vertical-align: middle;\n",
       "    }\n",
       "\n",
       "    .dataframe tbody tr th {\n",
       "        vertical-align: top;\n",
       "    }\n",
       "\n",
       "    .dataframe thead th {\n",
       "        text-align: right;\n",
       "    }\n",
       "</style>\n",
       "<table border=\"1\" class=\"dataframe\">\n",
       "  <thead>\n",
       "    <tr style=\"text-align: right;\">\n",
       "      <th></th>\n",
       "      <th>Регион</th>\n",
       "      <th>Время обучения</th>\n",
       "      <th>RMSE</th>\n",
       "      <th>Cредний запас предсказанного сырья, тыс. баррелей</th>\n",
       "      <th>Cредний запас реального сырья, тыс. баррелей</th>\n",
       "      <th>Средняя выручка, млн. руб</th>\n",
       "      <th>0.025-квантиль, млн. руб</th>\n",
       "      <th>0.975-квантиль, млн. руб</th>\n",
       "      <th>Риски, %</th>\n",
       "    </tr>\n",
       "  </thead>\n",
       "  <tbody>\n",
       "    <tr>\n",
       "      <th>0</th>\n",
       "      <td>geo_data_0</td>\n",
       "      <td>0.00762</td>\n",
       "      <td>37.58</td>\n",
       "      <td>92.6</td>\n",
       "      <td>92.1</td>\n",
       "      <td>442.01</td>\n",
       "      <td>-99.96</td>\n",
       "      <td>969.18</td>\n",
       "      <td>5.6</td>\n",
       "    </tr>\n",
       "    <tr>\n",
       "      <th>1</th>\n",
       "      <td>geo_data_1</td>\n",
       "      <td>0.00664</td>\n",
       "      <td>0.89</td>\n",
       "      <td>68.7</td>\n",
       "      <td>68.7</td>\n",
       "      <td>523.44</td>\n",
       "      <td>134.46</td>\n",
       "      <td>945.71</td>\n",
       "      <td>0.7</td>\n",
       "    </tr>\n",
       "    <tr>\n",
       "      <th>2</th>\n",
       "      <td>geo_data_2</td>\n",
       "      <td>0.00709</td>\n",
       "      <td>40.03</td>\n",
       "      <td>95.0</td>\n",
       "      <td>94.9</td>\n",
       "      <td>421.15</td>\n",
       "      <td>-121.37</td>\n",
       "      <td>948.93</td>\n",
       "      <td>6.1</td>\n",
       "    </tr>\n",
       "  </tbody>\n",
       "</table>\n",
       "</div>"
      ],
      "text/plain": [
       "       Регион  Время обучения   RMSE  \\\n",
       "0  geo_data_0         0.00762  37.58   \n",
       "1  geo_data_1         0.00664   0.89   \n",
       "2  geo_data_2         0.00709  40.03   \n",
       "\n",
       "   Cредний запас предсказанного сырья, тыс. баррелей  \\\n",
       "0                                               92.6   \n",
       "1                                               68.7   \n",
       "2                                               95.0   \n",
       "\n",
       "   Cредний запас реального сырья, тыс. баррелей  Средняя выручка, млн. руб  \\\n",
       "0                                          92.1                     442.01   \n",
       "1                                          68.7                     523.44   \n",
       "2                                          94.9                     421.15   \n",
       "\n",
       "   0.025-квантиль, млн. руб  0.975-квантиль, млн. руб  Риски, %  \n",
       "0                    -99.96                    969.18       5.6  \n",
       "1                    134.46                    945.71       0.7  \n",
       "2                   -121.37                    948.93       6.1  "
      ]
     },
     "execution_count": 31,
     "metadata": {},
     "output_type": "execute_result"
    }
   ],
   "source": [
    "summary_final"
   ]
  },
  {
   "cell_type": "markdown",
   "metadata": {},
   "source": [
    "**Лучшим регионом на основании данных (среди трех рассмотренных) для решения дальнейшей разработки является второй (`geo_data_1`).**"
   ]
  },
  {
   "cell_type": "markdown",
   "metadata": {},
   "source": [
    "[К оглавлению](#contents)"
   ]
  }
 ],
 "metadata": {
  "ExecuteTimeLog": [
   {
    "duration": 173,
    "start_time": "2022-05-08T15:54:26.672Z"
   },
   {
    "duration": 2318,
    "start_time": "2022-05-08T15:55:00.688Z"
   },
   {
    "duration": 4,
    "start_time": "2022-05-08T16:27:57.967Z"
   },
   {
    "duration": 1207,
    "start_time": "2022-05-08T16:36:59.134Z"
   },
   {
    "duration": 122,
    "start_time": "2022-05-08T16:38:07.905Z"
   },
   {
    "duration": 10,
    "start_time": "2022-05-08T16:38:54.840Z"
   },
   {
    "duration": 533,
    "start_time": "2022-05-08T16:39:10.148Z"
   },
   {
    "duration": 9,
    "start_time": "2022-05-08T16:39:24.772Z"
   },
   {
    "duration": 540,
    "start_time": "2022-05-08T16:40:25.337Z"
   },
   {
    "duration": 750,
    "start_time": "2022-05-08T16:41:02.002Z"
   },
   {
    "duration": 531,
    "start_time": "2022-05-08T16:42:27.400Z"
   },
   {
    "duration": 9,
    "start_time": "2022-05-08T16:42:34.785Z"
   },
   {
    "duration": 11,
    "start_time": "2022-05-08T16:42:38.292Z"
   },
   {
    "duration": 11,
    "start_time": "2022-05-08T16:42:48.014Z"
   },
   {
    "duration": 135,
    "start_time": "2022-05-08T16:44:14.178Z"
   },
   {
    "duration": 388,
    "start_time": "2022-05-08T16:44:28.967Z"
   },
   {
    "duration": 9,
    "start_time": "2022-05-08T16:44:31.567Z"
   },
   {
    "duration": 17,
    "start_time": "2022-05-08T16:44:34.598Z"
   },
   {
    "duration": 3,
    "start_time": "2022-05-08T16:45:02.847Z"
   },
   {
    "duration": 25,
    "start_time": "2022-05-08T16:46:25.177Z"
   },
   {
    "duration": 33,
    "start_time": "2022-05-08T16:46:32.779Z"
   },
   {
    "duration": 24,
    "start_time": "2022-05-08T16:46:38.969Z"
   },
   {
    "duration": 5,
    "start_time": "2022-05-08T16:47:35.331Z"
   },
   {
    "duration": 26,
    "start_time": "2022-05-08T16:47:52.810Z"
   },
   {
    "duration": 74,
    "start_time": "2022-05-08T16:48:07.636Z"
   },
   {
    "duration": 13,
    "start_time": "2022-05-08T16:55:19.264Z"
   },
   {
    "duration": 11,
    "start_time": "2022-05-08T16:55:40.849Z"
   },
   {
    "duration": 11,
    "start_time": "2022-05-08T16:56:06.115Z"
   },
   {
    "duration": 4,
    "start_time": "2022-05-08T16:56:35.857Z"
   },
   {
    "duration": 11,
    "start_time": "2022-05-08T16:56:43.720Z"
   },
   {
    "duration": 8,
    "start_time": "2022-05-08T16:56:49.574Z"
   },
   {
    "duration": 10,
    "start_time": "2022-05-08T17:04:41.793Z"
   },
   {
    "duration": 10,
    "start_time": "2022-05-08T17:05:48.203Z"
   },
   {
    "duration": 9,
    "start_time": "2022-05-08T17:06:19.162Z"
   },
   {
    "duration": 10,
    "start_time": "2022-05-08T17:06:55.975Z"
   },
   {
    "duration": 4,
    "start_time": "2022-05-08T17:06:58.293Z"
   },
   {
    "duration": 30,
    "start_time": "2022-05-08T17:06:59.091Z"
   },
   {
    "duration": 39,
    "start_time": "2022-05-08T17:07:09.250Z"
   },
   {
    "duration": 13,
    "start_time": "2022-05-08T17:07:30.004Z"
   },
   {
    "duration": 10,
    "start_time": "2022-05-08T17:08:04.425Z"
   },
   {
    "duration": 3,
    "start_time": "2022-05-08T17:09:03.980Z"
   },
   {
    "duration": 26,
    "start_time": "2022-05-08T17:09:19.816Z"
   },
   {
    "duration": 48,
    "start_time": "2022-05-08T17:09:36.578Z"
   },
   {
    "duration": 10,
    "start_time": "2022-05-08T17:10:15.343Z"
   },
   {
    "duration": 571,
    "start_time": "2022-05-08T17:10:38.451Z"
   },
   {
    "duration": 547,
    "start_time": "2022-05-08T17:12:15.072Z"
   },
   {
    "duration": 482,
    "start_time": "2022-05-08T17:12:22.358Z"
   },
   {
    "duration": 310,
    "start_time": "2022-05-08T17:12:28.717Z"
   },
   {
    "duration": 284,
    "start_time": "2022-05-08T17:12:34.790Z"
   },
   {
    "duration": 274,
    "start_time": "2022-05-08T17:12:40.014Z"
   },
   {
    "duration": 472,
    "start_time": "2022-05-08T17:12:52.371Z"
   },
   {
    "duration": 12,
    "start_time": "2022-05-08T17:13:44.889Z"
   },
   {
    "duration": 3,
    "start_time": "2022-05-08T17:13:56.410Z"
   },
   {
    "duration": 10,
    "start_time": "2022-05-08T17:14:02.390Z"
   },
   {
    "duration": 5,
    "start_time": "2022-05-08T17:14:08.296Z"
   },
   {
    "duration": 12,
    "start_time": "2022-05-08T17:14:33.384Z"
   },
   {
    "duration": 12,
    "start_time": "2022-05-08T17:14:52.284Z"
   },
   {
    "duration": 4,
    "start_time": "2022-05-08T17:15:21.478Z"
   },
   {
    "duration": 14,
    "start_time": "2022-05-08T17:16:14.846Z"
   },
   {
    "duration": 13,
    "start_time": "2022-05-08T17:17:13.331Z"
   },
   {
    "duration": 13,
    "start_time": "2022-05-08T17:17:26.302Z"
   },
   {
    "duration": 547,
    "start_time": "2022-05-08T17:18:02.082Z"
   },
   {
    "duration": 12,
    "start_time": "2022-05-08T17:18:15.030Z"
   },
   {
    "duration": 9,
    "start_time": "2022-05-08T17:18:38.653Z"
   },
   {
    "duration": 1318,
    "start_time": "2022-05-08T17:18:50.311Z"
   },
   {
    "duration": 1465,
    "start_time": "2022-05-08T17:19:17.253Z"
   },
   {
    "duration": 1294,
    "start_time": "2022-05-08T17:19:43.162Z"
   },
   {
    "duration": 4,
    "start_time": "2022-05-08T17:21:14.167Z"
   },
   {
    "duration": 17,
    "start_time": "2022-05-08T17:21:46.263Z"
   },
   {
    "duration": 22,
    "start_time": "2022-05-08T17:22:09.401Z"
   },
   {
    "duration": 9,
    "start_time": "2022-05-08T17:22:32.506Z"
   },
   {
    "duration": 13,
    "start_time": "2022-05-08T17:22:37.068Z"
   },
   {
    "duration": 536,
    "start_time": "2022-05-08T17:22:49.966Z"
   },
   {
    "duration": 596,
    "start_time": "2022-05-08T17:22:58.152Z"
   },
   {
    "duration": 443,
    "start_time": "2022-05-08T17:23:01.938Z"
   },
   {
    "duration": 424,
    "start_time": "2022-05-08T17:23:13.385Z"
   },
   {
    "duration": 434,
    "start_time": "2022-05-08T17:23:24.782Z"
   },
   {
    "duration": 4,
    "start_time": "2022-05-08T17:24:05.694Z"
   },
   {
    "duration": 515,
    "start_time": "2022-05-08T17:24:06.386Z"
   },
   {
    "duration": 667,
    "start_time": "2022-05-08T17:24:07.792Z"
   },
   {
    "duration": 574,
    "start_time": "2022-05-08T17:24:08.461Z"
   },
   {
    "duration": 4,
    "start_time": "2022-05-08T17:28:05.266Z"
   },
   {
    "duration": 5,
    "start_time": "2022-05-08T17:29:43.786Z"
   },
   {
    "duration": 6,
    "start_time": "2022-05-08T17:33:30.618Z"
   },
   {
    "duration": 530,
    "start_time": "2022-05-08T17:33:34.674Z"
   },
   {
    "duration": 495,
    "start_time": "2022-05-08T17:33:40.661Z"
   },
   {
    "duration": 671,
    "start_time": "2022-05-08T17:33:47.469Z"
   },
   {
    "duration": 12,
    "start_time": "2022-05-08T17:35:42.598Z"
   },
   {
    "duration": 0,
    "start_time": "2022-05-08T17:37:04.912Z"
   },
   {
    "duration": 0,
    "start_time": "2022-05-08T17:37:04.913Z"
   },
   {
    "duration": 6,
    "start_time": "2022-05-08T17:37:17.370Z"
   },
   {
    "duration": 426,
    "start_time": "2022-05-08T17:37:20.472Z"
   },
   {
    "duration": 4,
    "start_time": "2022-05-08T17:37:21.386Z"
   },
   {
    "duration": 40,
    "start_time": "2022-05-08T17:37:22.781Z"
   },
   {
    "duration": 55,
    "start_time": "2022-05-08T17:37:23.758Z"
   },
   {
    "duration": 8,
    "start_time": "2022-05-08T17:37:25.300Z"
   },
   {
    "duration": 585,
    "start_time": "2022-05-08T17:37:26.323Z"
   },
   {
    "duration": 19,
    "start_time": "2022-05-08T17:39:20.197Z"
   },
   {
    "duration": 6,
    "start_time": "2022-05-08T17:39:35.464Z"
   },
   {
    "duration": 101036,
    "start_time": "2022-05-08T17:39:39.221Z"
   },
   {
    "duration": 0,
    "start_time": "2022-05-08T17:41:20.259Z"
   },
   {
    "duration": 4,
    "start_time": "2022-05-08T17:41:30.551Z"
   },
   {
    "duration": 443,
    "start_time": "2022-05-08T17:41:32.336Z"
   },
   {
    "duration": 8,
    "start_time": "2022-05-08T17:41:32.781Z"
   },
   {
    "duration": 25,
    "start_time": "2022-05-08T17:41:32.972Z"
   },
   {
    "duration": 43,
    "start_time": "2022-05-08T17:41:33.634Z"
   },
   {
    "duration": 6,
    "start_time": "2022-05-08T17:41:35.337Z"
   },
   {
    "duration": 548,
    "start_time": "2022-05-08T17:41:38.837Z"
   },
   {
    "duration": 15,
    "start_time": "2022-05-08T17:41:41.717Z"
   },
   {
    "duration": 8,
    "start_time": "2022-05-08T17:42:39.635Z"
   },
   {
    "duration": 15,
    "start_time": "2022-05-08T17:42:42.032Z"
   },
   {
    "duration": 31,
    "start_time": "2022-05-08T17:42:59.511Z"
   },
   {
    "duration": 27,
    "start_time": "2022-05-08T17:43:47.789Z"
   },
   {
    "duration": 67638,
    "start_time": "2022-05-08T17:44:54.540Z"
   },
   {
    "duration": 0,
    "start_time": "2022-05-08T17:46:02.181Z"
   },
   {
    "duration": 0,
    "start_time": "2022-05-08T17:46:02.197Z"
   },
   {
    "duration": 4,
    "start_time": "2022-05-08T17:46:17.466Z"
   },
   {
    "duration": 408,
    "start_time": "2022-05-08T17:46:19.218Z"
   },
   {
    "duration": 8,
    "start_time": "2022-05-08T17:46:19.629Z"
   },
   {
    "duration": 27,
    "start_time": "2022-05-08T17:46:19.727Z"
   },
   {
    "duration": 58,
    "start_time": "2022-05-08T17:46:20.385Z"
   },
   {
    "duration": 5,
    "start_time": "2022-05-08T17:46:22.352Z"
   },
   {
    "duration": 644,
    "start_time": "2022-05-08T17:46:23.233Z"
   },
   {
    "duration": 16,
    "start_time": "2022-05-08T17:46:29.157Z"
   },
   {
    "duration": 5,
    "start_time": "2022-05-08T17:47:49.181Z"
   },
   {
    "duration": 661,
    "start_time": "2022-05-08T17:47:49.981Z"
   },
   {
    "duration": 22,
    "start_time": "2022-05-08T17:47:53.962Z"
   },
   {
    "duration": 268988,
    "start_time": "2022-05-08T17:47:55.818Z"
   },
   {
    "duration": 18,
    "start_time": "2022-05-08T17:52:44.616Z"
   },
   {
    "duration": 5,
    "start_time": "2022-05-08T17:53:17.786Z"
   },
   {
    "duration": 15,
    "start_time": "2022-05-08T17:53:20.675Z"
   },
   {
    "duration": 448,
    "start_time": "2022-05-08T17:55:57.323Z"
   },
   {
    "duration": 15,
    "start_time": "2022-05-08T17:59:33.249Z"
   },
   {
    "duration": 436,
    "start_time": "2022-05-08T18:02:50.292Z"
   },
   {
    "duration": 15,
    "start_time": "2022-05-08T18:08:59.560Z"
   },
   {
    "duration": 114,
    "start_time": "2022-05-08T18:12:01.904Z"
   },
   {
    "duration": 43,
    "start_time": "2022-05-08T18:13:20.074Z"
   },
   {
    "duration": 2,
    "start_time": "2022-05-08T18:18:22.770Z"
   },
   {
    "duration": 8,
    "start_time": "2022-05-08T18:26:42.202Z"
   },
   {
    "duration": 13,
    "start_time": "2022-05-08T18:45:32.759Z"
   },
   {
    "duration": 13,
    "start_time": "2022-05-08T18:46:39.139Z"
   },
   {
    "duration": 9,
    "start_time": "2022-05-08T18:47:00.848Z"
   },
   {
    "duration": 12,
    "start_time": "2022-05-08T18:47:13.466Z"
   },
   {
    "duration": 5,
    "start_time": "2022-05-08T18:57:41.672Z"
   },
   {
    "duration": 5,
    "start_time": "2022-05-08T18:57:54.850Z"
   },
   {
    "duration": 9,
    "start_time": "2022-05-08T18:58:16.497Z"
   },
   {
    "duration": 29,
    "start_time": "2022-05-08T18:58:27.363Z"
   },
   {
    "duration": 5,
    "start_time": "2022-05-08T18:58:35.991Z"
   },
   {
    "duration": 33,
    "start_time": "2022-05-08T18:58:36.507Z"
   },
   {
    "duration": 4,
    "start_time": "2022-05-08T18:59:48.178Z"
   },
   {
    "duration": 32,
    "start_time": "2022-05-08T18:59:48.868Z"
   },
   {
    "duration": 4,
    "start_time": "2022-05-08T19:00:06.028Z"
   },
   {
    "duration": 35,
    "start_time": "2022-05-08T19:00:06.470Z"
   },
   {
    "duration": 5,
    "start_time": "2022-05-08T19:00:33.400Z"
   },
   {
    "duration": 37,
    "start_time": "2022-05-08T19:00:33.786Z"
   },
   {
    "duration": 7,
    "start_time": "2022-05-08T19:01:41.274Z"
   },
   {
    "duration": 22,
    "start_time": "2022-05-08T19:01:41.720Z"
   },
   {
    "duration": 5,
    "start_time": "2022-05-08T19:01:57.422Z"
   },
   {
    "duration": 24,
    "start_time": "2022-05-08T19:01:57.704Z"
   },
   {
    "duration": 5,
    "start_time": "2022-05-08T19:02:38.319Z"
   },
   {
    "duration": 22,
    "start_time": "2022-05-08T19:02:38.716Z"
   },
   {
    "duration": 5,
    "start_time": "2022-05-08T19:02:52.287Z"
   },
   {
    "duration": 23,
    "start_time": "2022-05-08T19:02:52.805Z"
   },
   {
    "duration": 5,
    "start_time": "2022-05-08T19:03:38.554Z"
   },
   {
    "duration": 23,
    "start_time": "2022-05-08T19:03:38.916Z"
   },
   {
    "duration": 5,
    "start_time": "2022-05-08T19:03:45.543Z"
   },
   {
    "duration": 22,
    "start_time": "2022-05-08T19:03:45.915Z"
   },
   {
    "duration": 5,
    "start_time": "2022-05-08T19:03:50.859Z"
   },
   {
    "duration": 22,
    "start_time": "2022-05-08T19:03:51.266Z"
   },
   {
    "duration": 5,
    "start_time": "2022-05-08T19:05:26.978Z"
   },
   {
    "duration": 22,
    "start_time": "2022-05-08T19:05:27.373Z"
   },
   {
    "duration": 5,
    "start_time": "2022-05-08T19:05:38.562Z"
   },
   {
    "duration": 23,
    "start_time": "2022-05-08T19:05:38.839Z"
   },
   {
    "duration": 6,
    "start_time": "2022-05-08T19:05:49.041Z"
   },
   {
    "duration": 23,
    "start_time": "2022-05-08T19:05:51.837Z"
   },
   {
    "duration": 8,
    "start_time": "2022-05-08T19:06:00.421Z"
   },
   {
    "duration": 34,
    "start_time": "2022-05-08T19:06:01.024Z"
   },
   {
    "duration": 5,
    "start_time": "2022-05-08T19:06:24.952Z"
   },
   {
    "duration": 22,
    "start_time": "2022-05-08T19:06:25.239Z"
   },
   {
    "duration": 5,
    "start_time": "2022-05-08T19:14:34.190Z"
   },
   {
    "duration": 9,
    "start_time": "2022-05-08T19:16:46.699Z"
   },
   {
    "duration": 60,
    "start_time": "2022-05-08T19:16:56.830Z"
   },
   {
    "duration": 9,
    "start_time": "2022-05-08T19:17:45.417Z"
   },
   {
    "duration": 6,
    "start_time": "2022-05-08T19:17:47.744Z"
   },
   {
    "duration": 49,
    "start_time": "2022-05-08T19:17:49.182Z"
   },
   {
    "duration": 9,
    "start_time": "2022-05-08T19:18:10.932Z"
   },
   {
    "duration": 6,
    "start_time": "2022-05-08T19:18:15.926Z"
   },
   {
    "duration": 9,
    "start_time": "2022-05-08T19:18:16.654Z"
   },
   {
    "duration": 49,
    "start_time": "2022-05-08T19:18:17.172Z"
   },
   {
    "duration": 9,
    "start_time": "2022-05-08T19:18:20.081Z"
   },
   {
    "duration": 57,
    "start_time": "2022-05-08T19:18:43.494Z"
   },
   {
    "duration": 116,
    "start_time": "2022-05-08T19:19:43.186Z"
   },
   {
    "duration": 8,
    "start_time": "2022-05-08T19:20:07.059Z"
   },
   {
    "duration": 9,
    "start_time": "2022-05-08T19:20:19.437Z"
   },
   {
    "duration": 104,
    "start_time": "2022-05-08T19:20:39.640Z"
   },
   {
    "duration": 7,
    "start_time": "2022-05-08T19:20:54.259Z"
   },
   {
    "duration": 6,
    "start_time": "2022-05-08T19:21:57.835Z"
   },
   {
    "duration": 8,
    "start_time": "2022-05-08T19:21:59.156Z"
   },
   {
    "duration": 9,
    "start_time": "2022-05-08T19:22:06.577Z"
   },
   {
    "duration": 9,
    "start_time": "2022-05-08T19:22:12.118Z"
   },
   {
    "duration": 17,
    "start_time": "2022-05-08T19:22:30.979Z"
   },
   {
    "duration": 109,
    "start_time": "2022-05-08T19:23:34.787Z"
   },
   {
    "duration": 8,
    "start_time": "2022-05-08T19:23:40.651Z"
   },
   {
    "duration": 103,
    "start_time": "2022-05-08T19:26:52.838Z"
   },
   {
    "duration": 8,
    "start_time": "2022-05-08T19:29:29.211Z"
   },
   {
    "duration": 11,
    "start_time": "2022-05-08T19:29:41.065Z"
   },
   {
    "duration": 11,
    "start_time": "2022-05-08T19:30:28.346Z"
   },
   {
    "duration": 5,
    "start_time": "2022-05-08T19:30:45.321Z"
   },
   {
    "duration": 9,
    "start_time": "2022-05-08T19:30:46.223Z"
   },
   {
    "duration": 24,
    "start_time": "2022-05-08T19:30:56.091Z"
   },
   {
    "duration": 5,
    "start_time": "2022-05-08T19:31:22.545Z"
   },
   {
    "duration": 25,
    "start_time": "2022-05-08T19:31:23.417Z"
   },
   {
    "duration": 6,
    "start_time": "2022-05-08T19:31:35.881Z"
   },
   {
    "duration": 22,
    "start_time": "2022-05-08T19:31:37.066Z"
   },
   {
    "duration": 8,
    "start_time": "2022-05-08T19:32:24.913Z"
   },
   {
    "duration": 36,
    "start_time": "2022-05-08T19:32:25.619Z"
   },
   {
    "duration": 5,
    "start_time": "2022-05-08T19:33:02.054Z"
   },
   {
    "duration": 24,
    "start_time": "2022-05-08T19:33:02.731Z"
   },
   {
    "duration": 9,
    "start_time": "2022-05-08T19:33:38.148Z"
   },
   {
    "duration": 38,
    "start_time": "2022-05-08T19:33:38.664Z"
   },
   {
    "duration": 13,
    "start_time": "2022-05-08T19:33:48.389Z"
   },
   {
    "duration": 9,
    "start_time": "2022-05-08T19:34:01.318Z"
   },
   {
    "duration": 33,
    "start_time": "2022-05-08T19:34:02.395Z"
   },
   {
    "duration": 14,
    "start_time": "2022-05-08T19:34:15.891Z"
   },
   {
    "duration": 8,
    "start_time": "2022-05-08T19:34:59.909Z"
   },
   {
    "duration": 33,
    "start_time": "2022-05-08T19:35:00.476Z"
   },
   {
    "duration": 8,
    "start_time": "2022-05-08T19:35:49.894Z"
   },
   {
    "duration": 24,
    "start_time": "2022-05-08T19:35:50.531Z"
   },
   {
    "duration": 25,
    "start_time": "2022-05-08T19:36:09.311Z"
   },
   {
    "duration": 6,
    "start_time": "2022-05-08T19:36:17.051Z"
   },
   {
    "duration": 25,
    "start_time": "2022-05-08T19:36:17.717Z"
   },
   {
    "duration": 25,
    "start_time": "2022-05-08T19:36:27.590Z"
   },
   {
    "duration": 5,
    "start_time": "2022-05-08T19:37:00.561Z"
   },
   {
    "duration": 11,
    "start_time": "2022-05-08T19:37:05.229Z"
   },
   {
    "duration": 5,
    "start_time": "2022-05-08T19:37:20.599Z"
   },
   {
    "duration": 8,
    "start_time": "2022-05-08T19:37:20.926Z"
   },
   {
    "duration": 4,
    "start_time": "2022-05-08T19:40:12.199Z"
   },
   {
    "duration": 26,
    "start_time": "2022-05-08T19:41:26.045Z"
   },
   {
    "duration": 25,
    "start_time": "2022-05-08T19:42:14.520Z"
   },
   {
    "duration": 6,
    "start_time": "2022-05-08T19:42:24.751Z"
   },
   {
    "duration": 21,
    "start_time": "2022-05-08T19:42:29.976Z"
   },
   {
    "duration": 10,
    "start_time": "2022-05-08T19:42:33.517Z"
   },
   {
    "duration": 9,
    "start_time": "2022-05-08T19:42:37.997Z"
   },
   {
    "duration": 11,
    "start_time": "2022-05-08T19:43:05.704Z"
   },
   {
    "duration": 4,
    "start_time": "2022-05-08T19:43:14.102Z"
   },
   {
    "duration": 28,
    "start_time": "2022-05-08T19:43:41.995Z"
   },
   {
    "duration": 141,
    "start_time": "2022-05-08T19:44:10.453Z"
   },
   {
    "duration": 5,
    "start_time": "2022-05-08T19:44:15.376Z"
   },
   {
    "duration": 11,
    "start_time": "2022-05-08T19:44:16.794Z"
   },
   {
    "duration": 10,
    "start_time": "2022-05-08T19:44:22.653Z"
   },
   {
    "duration": 6,
    "start_time": "2022-05-08T19:45:08.711Z"
   },
   {
    "duration": 16,
    "start_time": "2022-05-08T19:45:09.843Z"
   },
   {
    "duration": 10,
    "start_time": "2022-05-08T19:45:15.300Z"
   },
   {
    "duration": 6,
    "start_time": "2022-05-08T19:48:32.558Z"
   },
   {
    "duration": 28,
    "start_time": "2022-05-08T19:48:33.272Z"
   },
   {
    "duration": 10,
    "start_time": "2022-05-08T19:48:34.883Z"
   },
   {
    "duration": 9,
    "start_time": "2022-05-08T19:48:44.872Z"
   },
   {
    "duration": 6,
    "start_time": "2022-05-08T20:11:27.784Z"
   },
   {
    "duration": 30,
    "start_time": "2022-05-08T20:11:29.931Z"
   },
   {
    "duration": 2,
    "start_time": "2022-05-08T20:11:56.792Z"
   },
   {
    "duration": 32,
    "start_time": "2022-05-08T20:13:20.163Z"
   },
   {
    "duration": 7,
    "start_time": "2022-05-08T20:13:22.256Z"
   },
   {
    "duration": 25,
    "start_time": "2022-05-08T20:13:23.058Z"
   },
   {
    "duration": 4,
    "start_time": "2022-05-08T20:18:12.132Z"
   },
   {
    "duration": 4,
    "start_time": "2022-05-08T20:18:20.555Z"
   },
   {
    "duration": 4,
    "start_time": "2022-05-08T20:19:38.199Z"
   },
   {
    "duration": 5,
    "start_time": "2022-05-08T20:20:55.205Z"
   },
   {
    "duration": 5,
    "start_time": "2022-05-08T20:21:02.654Z"
   },
   {
    "duration": 247,
    "start_time": "2022-05-08T20:21:23.850Z"
   },
   {
    "duration": 4,
    "start_time": "2022-05-08T20:21:47.090Z"
   },
   {
    "duration": 4,
    "start_time": "2022-05-08T20:21:51.021Z"
   },
   {
    "duration": 65,
    "start_time": "2022-05-08T20:21:51.327Z"
   },
   {
    "duration": 4,
    "start_time": "2022-05-08T20:22:14.009Z"
   },
   {
    "duration": 34,
    "start_time": "2022-05-08T20:22:14.220Z"
   },
   {
    "duration": 6,
    "start_time": "2022-05-08T20:22:19.256Z"
   },
   {
    "duration": 26,
    "start_time": "2022-05-08T20:22:19.817Z"
   },
   {
    "duration": 4,
    "start_time": "2022-05-08T20:22:22.112Z"
   },
   {
    "duration": 32,
    "start_time": "2022-05-08T20:22:22.337Z"
   },
   {
    "duration": 6,
    "start_time": "2022-05-08T20:23:03.875Z"
   },
   {
    "duration": 24,
    "start_time": "2022-05-08T20:23:04.502Z"
   },
   {
    "duration": 4,
    "start_time": "2022-05-08T20:23:09.304Z"
   },
   {
    "duration": 37,
    "start_time": "2022-05-08T20:23:09.505Z"
   },
   {
    "duration": 4,
    "start_time": "2022-05-08T20:24:48.331Z"
   },
   {
    "duration": 57,
    "start_time": "2022-05-08T20:24:48.737Z"
   },
   {
    "duration": 5,
    "start_time": "2022-05-08T20:25:03.720Z"
   },
   {
    "duration": 54,
    "start_time": "2022-05-08T20:25:03.941Z"
   },
   {
    "duration": 5,
    "start_time": "2022-05-08T20:25:11.638Z"
   },
   {
    "duration": 35,
    "start_time": "2022-05-08T20:25:11.921Z"
   },
   {
    "duration": 4,
    "start_time": "2022-05-08T20:25:20.638Z"
   },
   {
    "duration": 32,
    "start_time": "2022-05-08T20:25:21.276Z"
   },
   {
    "duration": 113,
    "start_time": "2022-05-08T20:25:21.406Z"
   },
   {
    "duration": 5,
    "start_time": "2022-05-08T20:25:36.742Z"
   },
   {
    "duration": 38,
    "start_time": "2022-05-08T20:25:36.933Z"
   },
   {
    "duration": 5,
    "start_time": "2022-05-08T20:26:06.053Z"
   },
   {
    "duration": 34,
    "start_time": "2022-05-08T20:26:06.508Z"
   },
   {
    "duration": 4,
    "start_time": "2022-05-08T20:26:09.877Z"
   },
   {
    "duration": 39,
    "start_time": "2022-05-08T20:26:10.264Z"
   },
   {
    "duration": 4,
    "start_time": "2022-05-08T20:26:21.316Z"
   },
   {
    "duration": 33,
    "start_time": "2022-05-08T20:26:21.651Z"
   },
   {
    "duration": 5,
    "start_time": "2022-05-08T20:26:58.197Z"
   },
   {
    "duration": 25,
    "start_time": "2022-05-08T20:26:58.797Z"
   },
   {
    "duration": 5,
    "start_time": "2022-05-08T20:27:04.921Z"
   },
   {
    "duration": 41,
    "start_time": "2022-05-08T20:27:05.345Z"
   },
   {
    "duration": 5,
    "start_time": "2022-05-08T20:27:18.079Z"
   },
   {
    "duration": 41,
    "start_time": "2022-05-08T20:27:18.446Z"
   },
   {
    "duration": 5,
    "start_time": "2022-05-08T20:28:18.282Z"
   },
   {
    "duration": 96,
    "start_time": "2022-05-08T20:28:18.497Z"
   },
   {
    "duration": 4,
    "start_time": "2022-05-08T20:28:33.838Z"
   },
   {
    "duration": 31,
    "start_time": "2022-05-08T20:28:34.286Z"
   },
   {
    "duration": 5,
    "start_time": "2022-05-08T20:28:40.966Z"
   },
   {
    "duration": 34,
    "start_time": "2022-05-08T20:28:41.487Z"
   },
   {
    "duration": 5,
    "start_time": "2022-05-08T20:29:19.703Z"
   },
   {
    "duration": 33,
    "start_time": "2022-05-08T20:29:20.009Z"
   },
   {
    "duration": 4,
    "start_time": "2022-05-08T20:29:53.505Z"
   },
   {
    "duration": 38,
    "start_time": "2022-05-08T20:29:53.697Z"
   },
   {
    "duration": 5,
    "start_time": "2022-05-08T20:29:57.719Z"
   },
   {
    "duration": 30,
    "start_time": "2022-05-08T20:29:59.245Z"
   },
   {
    "duration": 4,
    "start_time": "2022-05-08T20:30:03.113Z"
   },
   {
    "duration": 38,
    "start_time": "2022-05-08T20:30:03.365Z"
   },
   {
    "duration": 96,
    "start_time": "2022-05-08T20:30:04.996Z"
   },
   {
    "duration": 765,
    "start_time": "2022-05-08T20:37:50.931Z"
   },
   {
    "duration": 4,
    "start_time": "2022-05-08T20:41:43.907Z"
   },
   {
    "duration": 38,
    "start_time": "2022-05-08T20:41:44.324Z"
   },
   {
    "duration": 4,
    "start_time": "2022-05-08T20:41:55.241Z"
   },
   {
    "duration": 36,
    "start_time": "2022-05-08T20:41:55.451Z"
   },
   {
    "duration": 6,
    "start_time": "2022-05-08T20:42:12.212Z"
   },
   {
    "duration": 24,
    "start_time": "2022-05-08T20:42:13.506Z"
   },
   {
    "duration": 4,
    "start_time": "2022-05-08T20:42:18.147Z"
   },
   {
    "duration": 37,
    "start_time": "2022-05-08T20:42:18.829Z"
   },
   {
    "duration": 4,
    "start_time": "2022-05-08T20:42:34.076Z"
   },
   {
    "duration": 36,
    "start_time": "2022-05-08T20:42:34.339Z"
   },
   {
    "duration": 9,
    "start_time": "2022-05-08T20:43:34.802Z"
   },
   {
    "duration": 1400,
    "start_time": "2022-05-08T20:43:48.135Z"
   },
   {
    "duration": 365,
    "start_time": "2022-05-08T20:43:53.114Z"
   },
   {
    "duration": 2,
    "start_time": "2022-05-08T20:43:53.583Z"
   },
   {
    "duration": 26,
    "start_time": "2022-05-08T20:43:54.721Z"
   },
   {
    "duration": 39,
    "start_time": "2022-05-08T20:43:55.609Z"
   },
   {
    "duration": 4,
    "start_time": "2022-05-08T20:43:57.019Z"
   },
   {
    "duration": 416,
    "start_time": "2022-05-08T20:43:57.697Z"
   },
   {
    "duration": 102,
    "start_time": "2022-05-08T20:43:59.167Z"
   },
   {
    "duration": 15,
    "start_time": "2022-05-08T20:43:59.807Z"
   },
   {
    "duration": 394,
    "start_time": "2022-05-08T20:44:06.385Z"
   },
   {
    "duration": 16,
    "start_time": "2022-05-08T20:44:08.503Z"
   },
   {
    "duration": 457,
    "start_time": "2022-05-08T20:44:10.272Z"
   },
   {
    "duration": 15,
    "start_time": "2022-05-08T20:44:12.398Z"
   },
   {
    "duration": 111,
    "start_time": "2022-05-08T20:44:14.794Z"
   },
   {
    "duration": 43,
    "start_time": "2022-05-08T20:44:15.678Z"
   },
   {
    "duration": 8,
    "start_time": "2022-05-08T20:44:19.923Z"
   },
   {
    "duration": 6,
    "start_time": "2022-05-08T20:44:21.991Z"
   },
   {
    "duration": 22,
    "start_time": "2022-05-08T20:44:23.350Z"
   },
   {
    "duration": 4,
    "start_time": "2022-05-08T20:45:19.216Z"
   },
   {
    "duration": 6,
    "start_time": "2022-05-08T20:45:35.702Z"
   },
   {
    "duration": 31,
    "start_time": "2022-05-08T20:45:36.630Z"
   },
   {
    "duration": 5,
    "start_time": "2022-05-08T20:45:40.605Z"
   },
   {
    "duration": 36,
    "start_time": "2022-05-08T20:45:41.743Z"
   },
   {
    "duration": 5,
    "start_time": "2022-05-08T20:46:55.947Z"
   },
   {
    "duration": 48,
    "start_time": "2022-05-08T20:46:56.251Z"
   },
   {
    "duration": 31,
    "start_time": "2022-05-08T20:47:23.322Z"
   },
   {
    "duration": 4,
    "start_time": "2022-05-08T20:47:35.453Z"
   },
   {
    "duration": 33,
    "start_time": "2022-05-08T20:47:35.818Z"
   },
   {
    "duration": 4,
    "start_time": "2022-05-08T20:47:57.444Z"
   },
   {
    "duration": 5,
    "start_time": "2022-05-08T20:52:51.363Z"
   },
   {
    "duration": 127,
    "start_time": "2022-05-08T20:52:51.566Z"
   },
   {
    "duration": 6,
    "start_time": "2022-05-08T20:53:11.247Z"
   },
   {
    "duration": 122,
    "start_time": "2022-05-08T20:53:11.473Z"
   },
   {
    "duration": 4,
    "start_time": "2022-05-08T20:53:16.533Z"
   },
   {
    "duration": 71,
    "start_time": "2022-05-08T20:53:16.722Z"
   },
   {
    "duration": 153,
    "start_time": "2022-05-08T20:54:34.245Z"
   },
   {
    "duration": 5,
    "start_time": "2022-05-08T20:54:40.226Z"
   },
   {
    "duration": 62,
    "start_time": "2022-05-08T20:54:40.437Z"
   },
   {
    "duration": 5,
    "start_time": "2022-05-08T20:56:36.789Z"
   },
   {
    "duration": 175,
    "start_time": "2022-05-08T20:56:37.317Z"
   },
   {
    "duration": 5,
    "start_time": "2022-05-08T20:57:14.102Z"
   },
   {
    "duration": 143,
    "start_time": "2022-05-08T20:57:14.660Z"
   },
   {
    "duration": 5,
    "start_time": "2022-05-08T20:57:44.966Z"
   },
   {
    "duration": 210,
    "start_time": "2022-05-08T20:57:45.586Z"
   },
   {
    "duration": 8,
    "start_time": "2022-05-08T20:57:56.041Z"
   },
   {
    "duration": 96,
    "start_time": "2022-05-08T20:57:56.304Z"
   },
   {
    "duration": 5,
    "start_time": "2022-05-08T20:58:04.990Z"
   },
   {
    "duration": 52,
    "start_time": "2022-05-08T20:58:05.341Z"
   },
   {
    "duration": 112,
    "start_time": "2022-05-08T20:58:28.535Z"
   },
   {
    "duration": 7,
    "start_time": "2022-05-08T21:00:00.703Z"
   },
   {
    "duration": 49,
    "start_time": "2022-05-08T21:00:01.761Z"
   },
   {
    "duration": 114,
    "start_time": "2022-05-08T21:00:17.137Z"
   },
   {
    "duration": 172,
    "start_time": "2022-05-08T21:00:17.421Z"
   },
   {
    "duration": 111,
    "start_time": "2022-05-08T21:00:44.871Z"
   },
   {
    "duration": 6,
    "start_time": "2022-05-08T21:00:55.076Z"
   },
   {
    "duration": 41,
    "start_time": "2022-05-08T21:00:57.887Z"
   },
   {
    "duration": 5,
    "start_time": "2022-05-08T21:01:03.465Z"
   },
   {
    "duration": 94,
    "start_time": "2022-05-08T21:01:03.699Z"
   },
   {
    "duration": 5,
    "start_time": "2022-05-08T21:01:12.237Z"
   },
   {
    "duration": 42,
    "start_time": "2022-05-08T21:01:12.380Z"
   },
   {
    "duration": 6,
    "start_time": "2022-05-08T21:01:37.519Z"
   },
   {
    "duration": 39,
    "start_time": "2022-05-08T21:01:37.781Z"
   },
   {
    "duration": 6,
    "start_time": "2022-05-08T21:01:46.289Z"
   },
   {
    "duration": 46,
    "start_time": "2022-05-08T21:01:46.480Z"
   },
   {
    "duration": 6,
    "start_time": "2022-05-08T21:03:38.151Z"
   },
   {
    "duration": 41,
    "start_time": "2022-05-08T21:03:38.395Z"
   },
   {
    "duration": 6,
    "start_time": "2022-05-08T21:04:20.208Z"
   },
   {
    "duration": 38,
    "start_time": "2022-05-08T21:04:20.936Z"
   },
   {
    "duration": 6,
    "start_time": "2022-05-08T21:04:34.676Z"
   },
   {
    "duration": 45,
    "start_time": "2022-05-08T21:04:34.868Z"
   },
   {
    "duration": 6,
    "start_time": "2022-05-08T21:12:06.635Z"
   },
   {
    "duration": 9,
    "start_time": "2022-05-08T21:13:10.492Z"
   },
   {
    "duration": 525,
    "start_time": "2022-05-08T21:13:20.869Z"
   },
   {
    "duration": 181,
    "start_time": "2022-05-08T21:18:07.314Z"
   },
   {
    "duration": 223,
    "start_time": "2022-05-08T21:19:09.071Z"
   },
   {
    "duration": 208,
    "start_time": "2022-05-08T21:19:31.686Z"
   },
   {
    "duration": 164,
    "start_time": "2022-05-08T21:20:25.132Z"
   },
   {
    "duration": 44,
    "start_time": "2022-05-08T21:21:56.663Z"
   },
   {
    "duration": 552,
    "start_time": "2022-05-08T21:22:15.246Z"
   },
   {
    "duration": 5,
    "start_time": "2022-05-08T21:22:26.354Z"
   },
   {
    "duration": 144,
    "start_time": "2022-05-08T21:23:05.558Z"
   },
   {
    "duration": 622,
    "start_time": "2022-05-08T21:23:54.878Z"
   },
   {
    "duration": 5,
    "start_time": "2022-05-08T21:23:58.078Z"
   },
   {
    "duration": 122,
    "start_time": "2022-05-08T21:24:22.487Z"
   },
   {
    "duration": 114,
    "start_time": "2022-05-08T21:24:31.203Z"
   },
   {
    "duration": 6,
    "start_time": "2022-05-08T21:25:14.177Z"
   },
   {
    "duration": 153,
    "start_time": "2022-05-08T21:25:14.442Z"
   },
   {
    "duration": 6,
    "start_time": "2022-05-08T21:25:51.428Z"
   },
   {
    "duration": 139,
    "start_time": "2022-05-08T21:25:51.965Z"
   },
   {
    "duration": 101,
    "start_time": "2022-05-08T21:26:09.295Z"
   },
   {
    "duration": 501,
    "start_time": "2022-05-08T21:26:18.595Z"
   },
   {
    "duration": 4,
    "start_time": "2022-05-08T21:26:23.577Z"
   },
   {
    "duration": 6,
    "start_time": "2022-05-08T21:26:52.243Z"
   },
   {
    "duration": 136,
    "start_time": "2022-05-08T21:26:52.760Z"
   },
   {
    "duration": 469,
    "start_time": "2022-05-08T21:26:55.826Z"
   },
   {
    "duration": 5,
    "start_time": "2022-05-08T21:26:56.414Z"
   },
   {
    "duration": 10,
    "start_time": "2022-05-08T21:26:56.969Z"
   },
   {
    "duration": 555,
    "start_time": "2022-05-08T21:27:35.640Z"
   },
   {
    "duration": 95,
    "start_time": "2022-05-08T21:27:36.197Z"
   },
   {
    "duration": 538,
    "start_time": "2022-05-08T21:28:26.657Z"
   },
   {
    "duration": 5,
    "start_time": "2022-05-08T21:28:27.457Z"
   },
   {
    "duration": 495,
    "start_time": "2022-05-08T21:28:35.408Z"
   },
   {
    "duration": 4,
    "start_time": "2022-05-08T21:28:39.429Z"
   },
   {
    "duration": 533,
    "start_time": "2022-05-08T21:28:58.079Z"
   },
   {
    "duration": 6,
    "start_time": "2022-05-08T21:29:00.073Z"
   },
   {
    "duration": 547,
    "start_time": "2022-05-08T21:29:20.365Z"
   },
   {
    "duration": 4,
    "start_time": "2022-05-08T21:29:24.087Z"
   },
   {
    "duration": 524,
    "start_time": "2022-05-08T21:30:55.275Z"
   },
   {
    "duration": 5,
    "start_time": "2022-05-08T21:31:14.111Z"
   },
   {
    "duration": 63,
    "start_time": "2022-05-08T21:31:14.578Z"
   },
   {
    "duration": 435,
    "start_time": "2022-05-08T21:31:17.277Z"
   },
   {
    "duration": 12,
    "start_time": "2022-05-08T21:32:29.742Z"
   },
   {
    "duration": 521,
    "start_time": "2022-05-08T21:32:51.781Z"
   },
   {
    "duration": 575,
    "start_time": "2022-05-08T21:33:10.019Z"
   },
   {
    "duration": 559,
    "start_time": "2022-05-08T21:35:32.535Z"
   },
   {
    "duration": 488,
    "start_time": "2022-05-08T21:37:07.407Z"
   },
   {
    "duration": 484,
    "start_time": "2022-05-08T21:37:27.211Z"
   },
   {
    "duration": 473,
    "start_time": "2022-05-08T21:37:35.934Z"
   },
   {
    "duration": 553,
    "start_time": "2022-05-08T21:39:43.744Z"
   },
   {
    "duration": 530,
    "start_time": "2022-05-08T21:39:56.763Z"
   },
   {
    "duration": 428,
    "start_time": "2022-05-08T21:40:33.666Z"
   },
   {
    "duration": 5,
    "start_time": "2022-05-08T21:42:24.165Z"
   },
   {
    "duration": 519,
    "start_time": "2022-05-08T21:44:41.676Z"
   },
   {
    "duration": 472,
    "start_time": "2022-05-08T21:45:27.823Z"
   },
   {
    "duration": 487,
    "start_time": "2022-05-08T21:46:29.538Z"
   },
   {
    "duration": 9,
    "start_time": "2022-05-08T21:46:33.025Z"
   },
   {
    "duration": 3,
    "start_time": "2022-05-08T22:04:29.895Z"
   },
   {
    "duration": 420,
    "start_time": "2022-05-08T22:04:38.141Z"
   },
   {
    "duration": 3,
    "start_time": "2022-05-08T22:20:59.732Z"
   },
   {
    "duration": 3,
    "start_time": "2022-05-08T22:23:38.338Z"
   },
   {
    "duration": 4,
    "start_time": "2022-05-08T22:24:48.169Z"
   },
   {
    "duration": 4,
    "start_time": "2022-05-08T22:26:35.016Z"
   },
   {
    "duration": 4,
    "start_time": "2022-05-08T22:30:47.836Z"
   },
   {
    "duration": 4,
    "start_time": "2022-05-08T22:32:06.430Z"
   },
   {
    "duration": 4,
    "start_time": "2022-05-08T22:33:10.088Z"
   },
   {
    "duration": 4,
    "start_time": "2022-05-08T22:38:14.068Z"
   },
   {
    "duration": 9,
    "start_time": "2022-05-08T22:38:22.991Z"
   },
   {
    "duration": 3,
    "start_time": "2022-05-08T22:38:28.246Z"
   },
   {
    "duration": 3,
    "start_time": "2022-05-08T22:38:29.555Z"
   },
   {
    "duration": 105,
    "start_time": "2022-05-08T22:41:58.949Z"
   },
   {
    "duration": 3,
    "start_time": "2022-05-08T22:42:02.726Z"
   },
   {
    "duration": 4,
    "start_time": "2022-05-08T22:42:14.448Z"
   },
   {
    "duration": 3,
    "start_time": "2022-05-08T22:42:23.706Z"
   },
   {
    "duration": 5,
    "start_time": "2022-05-08T22:44:49.910Z"
   },
   {
    "duration": 5,
    "start_time": "2022-05-08T22:46:35.301Z"
   },
   {
    "duration": 5,
    "start_time": "2022-05-08T22:46:42.086Z"
   },
   {
    "duration": 4,
    "start_time": "2022-05-08T22:46:45.032Z"
   },
   {
    "duration": 6,
    "start_time": "2022-05-08T22:47:00.123Z"
   },
   {
    "duration": 3,
    "start_time": "2022-05-08T23:00:00.242Z"
   },
   {
    "duration": 121,
    "start_time": "2022-05-08T23:33:53.308Z"
   },
   {
    "duration": 115,
    "start_time": "2022-05-08T23:34:14.241Z"
   },
   {
    "duration": 128,
    "start_time": "2022-05-08T23:34:45.193Z"
   },
   {
    "duration": 105,
    "start_time": "2022-05-08T23:34:48.617Z"
   },
   {
    "duration": 122,
    "start_time": "2022-05-08T23:35:10.870Z"
   },
   {
    "duration": 5,
    "start_time": "2022-05-08T23:35:26.807Z"
   },
   {
    "duration": 5,
    "start_time": "2022-05-08T23:35:41.018Z"
   },
   {
    "duration": 5,
    "start_time": "2022-05-08T23:35:59.142Z"
   },
   {
    "duration": 110,
    "start_time": "2022-05-08T23:42:45.079Z"
   },
   {
    "duration": 2,
    "start_time": "2022-05-08T23:42:50.437Z"
   },
   {
    "duration": 3,
    "start_time": "2022-05-08T23:43:09.615Z"
   },
   {
    "duration": 2,
    "start_time": "2022-05-08T23:45:09.409Z"
   },
   {
    "duration": 11,
    "start_time": "2022-05-08T23:45:11.735Z"
   },
   {
    "duration": 4,
    "start_time": "2022-05-08T23:45:24.589Z"
   },
   {
    "duration": 23,
    "start_time": "2022-05-08T23:45:25.236Z"
   },
   {
    "duration": 8,
    "start_time": "2022-05-08T23:50:33.016Z"
   },
   {
    "duration": 114,
    "start_time": "2022-05-08T23:50:35.781Z"
   },
   {
    "duration": 4,
    "start_time": "2022-05-08T23:51:28.954Z"
   },
   {
    "duration": 427,
    "start_time": "2022-05-08T23:51:31.953Z"
   },
   {
    "duration": 12,
    "start_time": "2022-05-08T23:51:33.108Z"
   },
   {
    "duration": 29,
    "start_time": "2022-05-08T23:51:34.065Z"
   },
   {
    "duration": 43,
    "start_time": "2022-05-08T23:51:35.125Z"
   },
   {
    "duration": 5,
    "start_time": "2022-05-08T23:51:36.474Z"
   },
   {
    "duration": 549,
    "start_time": "2022-05-08T23:51:37.043Z"
   },
   {
    "duration": 23,
    "start_time": "2022-05-08T23:51:38.734Z"
   },
   {
    "duration": 599,
    "start_time": "2022-05-08T23:51:40.314Z"
   },
   {
    "duration": 16,
    "start_time": "2022-05-08T23:51:41.970Z"
   },
   {
    "duration": 423,
    "start_time": "2022-05-08T23:51:42.829Z"
   },
   {
    "duration": 16,
    "start_time": "2022-05-08T23:51:44.119Z"
   },
   {
    "duration": 183,
    "start_time": "2022-05-08T23:51:45.811Z"
   },
   {
    "duration": 53,
    "start_time": "2022-05-08T23:51:46.400Z"
   },
   {
    "duration": 7,
    "start_time": "2022-05-08T23:51:48.806Z"
   },
   {
    "duration": 9,
    "start_time": "2022-05-08T23:51:50.961Z"
   },
   {
    "duration": 38,
    "start_time": "2022-05-08T23:51:52.725Z"
   },
   {
    "duration": 6,
    "start_time": "2022-05-08T23:52:01.821Z"
   },
   {
    "duration": 165,
    "start_time": "2022-05-08T23:52:03.130Z"
   },
   {
    "duration": 6,
    "start_time": "2022-05-08T23:53:06.405Z"
   },
   {
    "duration": 324,
    "start_time": "2022-05-08T23:53:07.190Z"
   },
   {
    "duration": 8,
    "start_time": "2022-05-08T23:53:10.246Z"
   },
   {
    "duration": 3,
    "start_time": "2022-05-08T23:53:14.693Z"
   },
   {
    "duration": 3,
    "start_time": "2022-05-08T23:53:16.406Z"
   },
   {
    "duration": 9,
    "start_time": "2022-05-08T23:53:17.500Z"
   },
   {
    "duration": 9,
    "start_time": "2022-05-08T23:53:34.869Z"
   },
   {
    "duration": 4,
    "start_time": "2022-05-08T23:53:49.236Z"
   },
   {
    "duration": 5,
    "start_time": "2022-05-08T23:54:31.297Z"
   },
   {
    "duration": 17,
    "start_time": "2022-05-08T23:54:32.075Z"
   },
   {
    "duration": 6,
    "start_time": "2022-05-08T23:54:58.434Z"
   },
   {
    "duration": 16,
    "start_time": "2022-05-08T23:54:59.369Z"
   },
   {
    "duration": 3,
    "start_time": "2022-05-08T23:55:33.185Z"
   },
   {
    "duration": 360,
    "start_time": "2022-05-08T23:55:35.322Z"
   },
   {
    "duration": 3,
    "start_time": "2022-05-08T23:55:35.684Z"
   },
   {
    "duration": 24,
    "start_time": "2022-05-08T23:55:35.910Z"
   },
   {
    "duration": 41,
    "start_time": "2022-05-08T23:55:36.386Z"
   },
   {
    "duration": 5,
    "start_time": "2022-05-08T23:55:37.229Z"
   },
   {
    "duration": 551,
    "start_time": "2022-05-08T23:55:37.441Z"
   },
   {
    "duration": 16,
    "start_time": "2022-05-08T23:55:37.994Z"
   },
   {
    "duration": 387,
    "start_time": "2022-05-08T23:55:38.261Z"
   },
   {
    "duration": 17,
    "start_time": "2022-05-08T23:55:38.718Z"
   },
   {
    "duration": 401,
    "start_time": "2022-05-08T23:55:39.153Z"
   },
   {
    "duration": 18,
    "start_time": "2022-05-08T23:55:39.631Z"
   },
   {
    "duration": 124,
    "start_time": "2022-05-08T23:55:40.838Z"
   },
   {
    "duration": 50,
    "start_time": "2022-05-08T23:55:41.375Z"
   },
   {
    "duration": 8,
    "start_time": "2022-05-08T23:55:43.331Z"
   },
   {
    "duration": 6,
    "start_time": "2022-05-08T23:55:44.771Z"
   },
   {
    "duration": 25,
    "start_time": "2022-05-08T23:55:45.835Z"
   },
   {
    "duration": 7,
    "start_time": "2022-05-08T23:55:48.509Z"
   },
   {
    "duration": 389,
    "start_time": "2022-05-08T23:55:50.317Z"
   },
   {
    "duration": 9,
    "start_time": "2022-05-08T23:55:54.614Z"
   },
   {
    "duration": 3,
    "start_time": "2022-05-08T23:55:58.980Z"
   },
   {
    "duration": 3,
    "start_time": "2022-05-08T23:56:00.979Z"
   },
   {
    "duration": 4,
    "start_time": "2022-05-08T23:56:02.213Z"
   },
   {
    "duration": 11,
    "start_time": "2022-05-08T23:56:04.999Z"
   },
   {
    "duration": 1175,
    "start_time": "2022-05-08T23:56:48.824Z"
   },
   {
    "duration": 364,
    "start_time": "2022-05-08T23:56:54.571Z"
   },
   {
    "duration": 3,
    "start_time": "2022-05-08T23:56:55.558Z"
   },
   {
    "duration": 30,
    "start_time": "2022-05-08T23:57:17.282Z"
   },
   {
    "duration": 95,
    "start_time": "2022-05-08T23:57:27.621Z"
   },
   {
    "duration": 21,
    "start_time": "2022-05-08T23:57:32.666Z"
   },
   {
    "duration": 39,
    "start_time": "2022-05-08T23:57:43.978Z"
   },
   {
    "duration": 5,
    "start_time": "2022-05-08T23:58:32.339Z"
   },
   {
    "duration": 673,
    "start_time": "2022-05-08T23:58:33.249Z"
   },
   {
    "duration": 16,
    "start_time": "2022-05-08T23:58:38.151Z"
   },
   {
    "duration": 498,
    "start_time": "2022-05-08T23:58:40.890Z"
   },
   {
    "duration": 15,
    "start_time": "2022-05-08T23:58:43.930Z"
   },
   {
    "duration": 484,
    "start_time": "2022-05-08T23:58:45.285Z"
   },
   {
    "duration": 15,
    "start_time": "2022-05-08T23:58:47.202Z"
   },
   {
    "duration": 117,
    "start_time": "2022-05-08T23:58:54.401Z"
   },
   {
    "duration": 44,
    "start_time": "2022-05-08T23:59:04.061Z"
   },
   {
    "duration": 9,
    "start_time": "2022-05-08T23:59:13.861Z"
   },
   {
    "duration": 6,
    "start_time": "2022-05-08T23:59:56.063Z"
   },
   {
    "duration": 1889,
    "start_time": "2022-05-08T23:59:59.550Z"
   },
   {
    "duration": 12,
    "start_time": "2022-05-09T00:00:43.289Z"
   },
   {
    "duration": 8,
    "start_time": "2022-05-09T00:01:04.104Z"
   },
   {
    "duration": 1813,
    "start_time": "2022-05-09T00:01:29.221Z"
   },
   {
    "duration": 1740,
    "start_time": "2022-05-09T00:01:50.284Z"
   },
   {
    "duration": 4,
    "start_time": "2022-05-09T00:02:00.408Z"
   },
   {
    "duration": 345,
    "start_time": "2022-05-09T00:02:02.696Z"
   },
   {
    "duration": 3,
    "start_time": "2022-05-09T00:02:03.043Z"
   },
   {
    "duration": 22,
    "start_time": "2022-05-09T00:02:03.291Z"
   },
   {
    "duration": 42,
    "start_time": "2022-05-09T00:02:03.701Z"
   },
   {
    "duration": 4,
    "start_time": "2022-05-09T00:02:04.492Z"
   },
   {
    "duration": 423,
    "start_time": "2022-05-09T00:02:04.705Z"
   },
   {
    "duration": 15,
    "start_time": "2022-05-09T00:02:05.139Z"
   },
   {
    "duration": 416,
    "start_time": "2022-05-09T00:02:05.555Z"
   },
   {
    "duration": 22,
    "start_time": "2022-05-09T00:02:05.990Z"
   },
   {
    "duration": 411,
    "start_time": "2022-05-09T00:02:06.834Z"
   },
   {
    "duration": 15,
    "start_time": "2022-05-09T00:02:08.507Z"
   },
   {
    "duration": 112,
    "start_time": "2022-05-09T00:02:10.747Z"
   },
   {
    "duration": 42,
    "start_time": "2022-05-09T00:02:13.383Z"
   },
   {
    "duration": 9,
    "start_time": "2022-05-09T00:02:26.211Z"
   },
   {
    "duration": 6,
    "start_time": "2022-05-09T00:02:29.810Z"
   },
   {
    "duration": 26,
    "start_time": "2022-05-09T00:02:30.854Z"
   },
   {
    "duration": 3,
    "start_time": "2022-05-09T00:04:41.402Z"
   },
   {
    "duration": 3,
    "start_time": "2022-05-09T00:06:25.408Z"
   },
   {
    "duration": 2,
    "start_time": "2022-05-09T00:06:30.326Z"
   },
   {
    "duration": 4,
    "start_time": "2022-05-09T00:06:35.735Z"
   },
   {
    "duration": 3,
    "start_time": "2022-05-09T00:07:26.996Z"
   },
   {
    "duration": 4,
    "start_time": "2022-05-09T00:07:27.799Z"
   },
   {
    "duration": 3,
    "start_time": "2022-05-09T00:07:38.067Z"
   },
   {
    "duration": 3,
    "start_time": "2022-05-09T00:08:01.440Z"
   },
   {
    "duration": 3,
    "start_time": "2022-05-09T00:08:02.504Z"
   },
   {
    "duration": 2,
    "start_time": "2022-05-09T00:08:03.409Z"
   },
   {
    "duration": 3,
    "start_time": "2022-05-09T00:09:39.816Z"
   },
   {
    "duration": 3,
    "start_time": "2022-05-09T00:09:54.841Z"
   },
   {
    "duration": 9,
    "start_time": "2022-05-09T00:10:07.099Z"
   },
   {
    "duration": 3,
    "start_time": "2022-05-09T00:10:11.069Z"
   },
   {
    "duration": 10,
    "start_time": "2022-05-09T00:10:11.314Z"
   },
   {
    "duration": 2,
    "start_time": "2022-05-09T00:12:46.995Z"
   },
   {
    "duration": 4,
    "start_time": "2022-05-09T00:13:32.047Z"
   },
   {
    "duration": 2,
    "start_time": "2022-05-09T00:16:53.880Z"
   },
   {
    "duration": 2,
    "start_time": "2022-05-09T00:17:15.579Z"
   },
   {
    "duration": 3,
    "start_time": "2022-05-09T00:17:19.574Z"
   },
   {
    "duration": 5,
    "start_time": "2022-05-09T00:18:42.114Z"
   },
   {
    "duration": 416,
    "start_time": "2022-05-09T00:18:50.292Z"
   },
   {
    "duration": 9,
    "start_time": "2022-05-09T00:18:53.057Z"
   },
   {
    "duration": 17,
    "start_time": "2022-05-09T00:19:05.716Z"
   },
   {
    "duration": 2,
    "start_time": "2022-05-09T00:19:21.290Z"
   },
   {
    "duration": 4,
    "start_time": "2022-05-09T00:19:25.665Z"
   },
   {
    "duration": 17,
    "start_time": "2022-05-09T00:19:26.475Z"
   },
   {
    "duration": 6,
    "start_time": "2022-05-09T00:19:35.389Z"
   },
   {
    "duration": 4,
    "start_time": "2022-05-09T00:19:41.570Z"
   },
   {
    "duration": 5,
    "start_time": "2022-05-09T00:19:44.552Z"
   },
   {
    "duration": 14,
    "start_time": "2022-05-09T00:24:14.308Z"
   },
   {
    "duration": 5,
    "start_time": "2022-05-09T00:24:36.139Z"
   },
   {
    "duration": 14,
    "start_time": "2022-05-09T00:24:36.796Z"
   },
   {
    "duration": 5,
    "start_time": "2022-05-09T00:25:32.524Z"
   },
   {
    "duration": 14,
    "start_time": "2022-05-09T00:25:33.308Z"
   },
   {
    "duration": 5,
    "start_time": "2022-05-09T00:25:45.647Z"
   },
   {
    "duration": 15,
    "start_time": "2022-05-09T00:25:46.638Z"
   },
   {
    "duration": 4,
    "start_time": "2022-05-09T00:26:12.999Z"
   },
   {
    "duration": 4,
    "start_time": "2022-05-09T00:26:19.977Z"
   },
   {
    "duration": 113,
    "start_time": "2022-05-09T00:26:48.264Z"
   },
   {
    "duration": 5,
    "start_time": "2022-05-09T00:27:15.916Z"
   },
   {
    "duration": 15,
    "start_time": "2022-05-09T00:27:25.930Z"
   },
   {
    "duration": 14,
    "start_time": "2022-05-09T00:28:45.934Z"
   },
   {
    "duration": 6,
    "start_time": "2022-05-09T00:28:52.604Z"
   },
   {
    "duration": 14,
    "start_time": "2022-05-09T00:28:53.984Z"
   },
   {
    "duration": 3,
    "start_time": "2022-05-09T00:31:39.193Z"
   },
   {
    "duration": 2,
    "start_time": "2022-05-09T00:31:43.341Z"
   },
   {
    "duration": 3,
    "start_time": "2022-05-09T00:32:10.442Z"
   },
   {
    "duration": 4,
    "start_time": "2022-05-09T00:32:18.512Z"
   },
   {
    "duration": 4,
    "start_time": "2022-05-09T00:32:59.597Z"
   },
   {
    "duration": 12,
    "start_time": "2022-05-09T00:34:31.518Z"
   },
   {
    "duration": 3,
    "start_time": "2022-05-09T00:35:24.758Z"
   },
   {
    "duration": 21,
    "start_time": "2022-05-09T00:35:25.395Z"
   },
   {
    "duration": 127,
    "start_time": "2022-05-09T00:36:52.448Z"
   },
   {
    "duration": 102,
    "start_time": "2022-05-09T00:36:56.907Z"
   },
   {
    "duration": 13,
    "start_time": "2022-05-09T00:37:09.718Z"
   },
   {
    "duration": 9,
    "start_time": "2022-05-09T00:37:18.009Z"
   },
   {
    "duration": 1533,
    "start_time": "2022-05-09T08:17:18.548Z"
   },
   {
    "duration": 441,
    "start_time": "2022-05-09T08:17:20.084Z"
   },
   {
    "duration": 4,
    "start_time": "2022-05-09T08:17:20.528Z"
   },
   {
    "duration": 62,
    "start_time": "2022-05-09T08:17:20.536Z"
   },
   {
    "duration": 80,
    "start_time": "2022-05-09T08:17:20.600Z"
   },
   {
    "duration": 42,
    "start_time": "2022-05-09T08:17:20.682Z"
   },
   {
    "duration": 2110,
    "start_time": "2022-05-09T08:17:20.727Z"
   },
   {
    "duration": 30,
    "start_time": "2022-05-09T08:17:22.840Z"
   },
   {
    "duration": 761,
    "start_time": "2022-05-09T08:17:22.872Z"
   },
   {
    "duration": 21,
    "start_time": "2022-05-09T08:17:23.637Z"
   },
   {
    "duration": 863,
    "start_time": "2022-05-09T08:17:23.661Z"
   },
   {
    "duration": 21,
    "start_time": "2022-05-09T08:17:24.526Z"
   },
   {
    "duration": 238,
    "start_time": "2022-05-09T08:17:24.549Z"
   },
   {
    "duration": 70,
    "start_time": "2022-05-09T08:17:24.790Z"
   },
   {
    "duration": 20,
    "start_time": "2022-05-09T08:17:24.863Z"
   },
   {
    "duration": 10,
    "start_time": "2022-05-09T08:17:24.886Z"
   },
   {
    "duration": 59,
    "start_time": "2022-05-09T08:17:24.899Z"
   },
   {
    "duration": 9,
    "start_time": "2022-05-09T08:17:24.961Z"
   },
   {
    "duration": 652,
    "start_time": "2022-05-09T08:17:24.974Z"
   },
   {
    "duration": 101,
    "start_time": "2022-05-09T08:17:25.632Z"
   },
   {
    "duration": 5,
    "start_time": "2022-05-09T08:17:25.735Z"
   },
   {
    "duration": 6,
    "start_time": "2022-05-09T08:17:25.742Z"
   },
   {
    "duration": 10,
    "start_time": "2022-05-09T08:17:25.750Z"
   },
   {
    "duration": 4,
    "start_time": "2022-05-09T08:17:25.762Z"
   },
   {
    "duration": 57,
    "start_time": "2022-05-09T08:17:25.768Z"
   },
   {
    "duration": 17,
    "start_time": "2022-05-09T08:17:25.828Z"
   },
   {
    "duration": 24,
    "start_time": "2022-05-09T08:17:25.848Z"
   },
   {
    "duration": 18,
    "start_time": "2022-05-09T08:17:25.878Z"
   },
   {
    "duration": 197,
    "start_time": "2022-05-09T08:17:25.899Z"
   },
   {
    "duration": 0,
    "start_time": "2022-05-09T08:17:26.100Z"
   },
   {
    "duration": 0,
    "start_time": "2022-05-09T08:17:26.102Z"
   },
   {
    "duration": 202,
    "start_time": "2022-05-09T08:18:57.724Z"
   },
   {
    "duration": 1600,
    "start_time": "2022-05-09T08:21:24.948Z"
   },
   {
    "duration": 437,
    "start_time": "2022-05-09T08:21:26.551Z"
   },
   {
    "duration": 5,
    "start_time": "2022-05-09T08:21:26.991Z"
   },
   {
    "duration": 63,
    "start_time": "2022-05-09T08:21:27.000Z"
   },
   {
    "duration": 90,
    "start_time": "2022-05-09T08:21:27.065Z"
   },
   {
    "duration": 7,
    "start_time": "2022-05-09T08:21:27.157Z"
   },
   {
    "duration": 1176,
    "start_time": "2022-05-09T08:21:27.167Z"
   },
   {
    "duration": 22,
    "start_time": "2022-05-09T08:21:28.345Z"
   },
   {
    "duration": 765,
    "start_time": "2022-05-09T08:21:28.369Z"
   },
   {
    "duration": 22,
    "start_time": "2022-05-09T08:21:29.138Z"
   },
   {
    "duration": 867,
    "start_time": "2022-05-09T08:21:29.162Z"
   },
   {
    "duration": 21,
    "start_time": "2022-05-09T08:21:30.032Z"
   },
   {
    "duration": 242,
    "start_time": "2022-05-09T08:21:30.055Z"
   },
   {
    "duration": 68,
    "start_time": "2022-05-09T08:21:30.299Z"
   },
   {
    "duration": 23,
    "start_time": "2022-05-09T08:21:30.370Z"
   },
   {
    "duration": 11,
    "start_time": "2022-05-09T08:21:30.395Z"
   },
   {
    "duration": 52,
    "start_time": "2022-05-09T08:21:30.408Z"
   },
   {
    "duration": 9,
    "start_time": "2022-05-09T08:21:30.462Z"
   },
   {
    "duration": 480,
    "start_time": "2022-05-09T08:21:30.474Z"
   },
   {
    "duration": 102,
    "start_time": "2022-05-09T08:21:31.026Z"
   },
   {
    "duration": 4,
    "start_time": "2022-05-09T08:21:31.131Z"
   },
   {
    "duration": 15,
    "start_time": "2022-05-09T08:21:31.138Z"
   },
   {
    "duration": 20,
    "start_time": "2022-05-09T08:21:31.156Z"
   },
   {
    "duration": 5,
    "start_time": "2022-05-09T08:21:31.178Z"
   },
   {
    "duration": 40,
    "start_time": "2022-05-09T08:21:31.185Z"
   },
   {
    "duration": 16,
    "start_time": "2022-05-09T08:21:31.227Z"
   },
   {
    "duration": 41,
    "start_time": "2022-05-09T08:21:31.246Z"
   },
   {
    "duration": 139,
    "start_time": "2022-05-09T08:21:31.293Z"
   },
   {
    "duration": 97,
    "start_time": "2022-05-09T08:21:31.438Z"
   },
   {
    "duration": 195,
    "start_time": "2022-05-09T08:21:31.537Z"
   },
   {
    "duration": 0,
    "start_time": "2022-05-09T08:21:31.734Z"
   },
   {
    "duration": 0,
    "start_time": "2022-05-09T08:21:31.736Z"
   },
   {
    "duration": 124,
    "start_time": "2022-05-09T08:21:39.001Z"
   },
   {
    "duration": 163,
    "start_time": "2022-05-09T08:24:35.462Z"
   },
   {
    "duration": 507,
    "start_time": "2022-05-09T08:25:08.722Z"
   },
   {
    "duration": 19,
    "start_time": "2022-05-09T08:25:11.492Z"
   },
   {
    "duration": 8936,
    "start_time": "2022-05-09T08:25:48.389Z"
   },
   {
    "duration": 13,
    "start_time": "2022-05-09T08:26:12.050Z"
   },
   {
    "duration": 12,
    "start_time": "2022-05-09T08:29:47.986Z"
   },
   {
    "duration": 5962,
    "start_time": "2022-05-09T08:30:01.128Z"
   },
   {
    "duration": 11,
    "start_time": "2022-05-09T08:30:58.586Z"
   },
   {
    "duration": 8,
    "start_time": "2022-05-09T08:31:06.767Z"
   },
   {
    "duration": 8,
    "start_time": "2022-05-09T08:31:12.913Z"
   },
   {
    "duration": 6271,
    "start_time": "2022-05-09T08:31:14.970Z"
   },
   {
    "duration": 9,
    "start_time": "2022-05-09T08:33:42.369Z"
   },
   {
    "duration": 22,
    "start_time": "2022-05-09T08:33:43.624Z"
   },
   {
    "duration": 9,
    "start_time": "2022-05-09T08:34:13.685Z"
   },
   {
    "duration": 20,
    "start_time": "2022-05-09T08:34:17.190Z"
   },
   {
    "duration": 21,
    "start_time": "2022-05-09T08:53:59.197Z"
   },
   {
    "duration": 8,
    "start_time": "2022-05-09T09:02:30.008Z"
   },
   {
    "duration": 20,
    "start_time": "2022-05-09T09:02:32.098Z"
   },
   {
    "duration": 9,
    "start_time": "2022-05-09T09:02:48.956Z"
   },
   {
    "duration": 5886,
    "start_time": "2022-05-09T09:02:49.950Z"
   },
   {
    "duration": 9,
    "start_time": "2022-05-09T09:58:05.215Z"
   },
   {
    "duration": 6293,
    "start_time": "2022-05-09T09:58:06.441Z"
   },
   {
    "duration": 8,
    "start_time": "2022-05-09T09:59:01.961Z"
   },
   {
    "duration": 5931,
    "start_time": "2022-05-09T09:59:02.651Z"
   },
   {
    "duration": 9,
    "start_time": "2022-05-09T10:00:32.809Z"
   },
   {
    "duration": 23,
    "start_time": "2022-05-09T10:00:33.405Z"
   },
   {
    "duration": 8,
    "start_time": "2022-05-09T10:01:28.130Z"
   },
   {
    "duration": 6179,
    "start_time": "2022-05-09T10:01:28.799Z"
   },
   {
    "duration": 9,
    "start_time": "2022-05-09T10:02:21.513Z"
   },
   {
    "duration": 6625,
    "start_time": "2022-05-09T10:02:22.288Z"
   },
   {
    "duration": 128,
    "start_time": "2022-05-09T10:04:01.181Z"
   },
   {
    "duration": 9,
    "start_time": "2022-05-09T10:04:31.754Z"
   },
   {
    "duration": 6091,
    "start_time": "2022-05-09T10:04:34.196Z"
   },
   {
    "duration": 17,
    "start_time": "2022-05-09T10:04:50.070Z"
   },
   {
    "duration": 5922,
    "start_time": "2022-05-09T10:04:50.974Z"
   },
   {
    "duration": 13,
    "start_time": "2022-05-09T10:05:17.706Z"
   },
   {
    "duration": 5643,
    "start_time": "2022-05-09T10:05:26.859Z"
   },
   {
    "duration": 6249,
    "start_time": "2022-05-09T10:09:54.985Z"
   },
   {
    "duration": 5863,
    "start_time": "2022-05-09T10:10:44.940Z"
   },
   {
    "duration": 16,
    "start_time": "2022-05-09T10:10:52.806Z"
   },
   {
    "duration": 5,
    "start_time": "2022-05-09T10:11:32.630Z"
   },
   {
    "duration": 12,
    "start_time": "2022-05-09T10:11:33.817Z"
   },
   {
    "duration": 6400,
    "start_time": "2022-05-09T10:11:34.912Z"
   },
   {
    "duration": 19,
    "start_time": "2022-05-09T10:11:41.315Z"
   },
   {
    "duration": 4,
    "start_time": "2022-05-09T10:13:14.543Z"
   },
   {
    "duration": 4,
    "start_time": "2022-05-09T10:13:28.796Z"
   },
   {
    "duration": 8,
    "start_time": "2022-05-09T10:13:30.315Z"
   },
   {
    "duration": 6497,
    "start_time": "2022-05-09T10:13:31.399Z"
   },
   {
    "duration": 14,
    "start_time": "2022-05-09T10:13:40.140Z"
   },
   {
    "duration": 5989,
    "start_time": "2022-05-09T10:14:21.557Z"
   },
   {
    "duration": 15,
    "start_time": "2022-05-09T10:14:27.549Z"
   },
   {
    "duration": 16,
    "start_time": "2022-05-09T10:16:06.580Z"
   },
   {
    "duration": 9467,
    "start_time": "2022-05-09T10:16:07.187Z"
   },
   {
    "duration": 19,
    "start_time": "2022-05-09T10:16:16.657Z"
   },
   {
    "duration": 6,
    "start_time": "2022-05-09T10:25:34.912Z"
   },
   {
    "duration": 11,
    "start_time": "2022-05-09T10:25:42.746Z"
   },
   {
    "duration": 5,
    "start_time": "2022-05-09T10:25:44.065Z"
   },
   {
    "duration": 12,
    "start_time": "2022-05-09T10:25:45.151Z"
   },
   {
    "duration": 9625,
    "start_time": "2022-05-09T10:25:45.862Z"
   },
   {
    "duration": 12,
    "start_time": "2022-05-09T10:26:37.770Z"
   },
   {
    "duration": 9683,
    "start_time": "2022-05-09T10:26:38.651Z"
   },
   {
    "duration": 20,
    "start_time": "2022-05-09T10:26:48.338Z"
   },
   {
    "duration": 7,
    "start_time": "2022-05-09T10:28:26.018Z"
   },
   {
    "duration": 6,
    "start_time": "2022-05-09T10:28:39.984Z"
   },
   {
    "duration": 11,
    "start_time": "2022-05-09T10:29:07.212Z"
   },
   {
    "duration": 22,
    "start_time": "2022-05-09T10:29:07.778Z"
   },
   {
    "duration": 10,
    "start_time": "2022-05-09T10:29:10.761Z"
   },
   {
    "duration": 521,
    "start_time": "2022-05-09T10:29:11.814Z"
   },
   {
    "duration": 27,
    "start_time": "2022-05-09T10:29:12.742Z"
   },
   {
    "duration": 4,
    "start_time": "2022-05-09T10:29:16.922Z"
   },
   {
    "duration": 12,
    "start_time": "2022-05-09T10:29:17.748Z"
   },
   {
    "duration": 7,
    "start_time": "2022-05-09T10:29:19.679Z"
   },
   {
    "duration": 6,
    "start_time": "2022-05-09T10:29:23.218Z"
   },
   {
    "duration": 15,
    "start_time": "2022-05-09T10:29:24.451Z"
   },
   {
    "duration": 8422,
    "start_time": "2022-05-09T10:29:26.218Z"
   },
   {
    "duration": 18,
    "start_time": "2022-05-09T10:29:34.854Z"
   },
   {
    "duration": 5,
    "start_time": "2022-05-09T10:30:38.667Z"
   },
   {
    "duration": 5,
    "start_time": "2022-05-09T10:30:39.469Z"
   },
   {
    "duration": 4,
    "start_time": "2022-05-09T10:33:41.159Z"
   },
   {
    "duration": 5,
    "start_time": "2022-05-09T10:33:43.084Z"
   },
   {
    "duration": 7,
    "start_time": "2022-05-09T10:34:41.486Z"
   },
   {
    "duration": 6,
    "start_time": "2022-05-09T10:35:42.086Z"
   },
   {
    "duration": 6,
    "start_time": "2022-05-09T10:36:24.674Z"
   },
   {
    "duration": 11,
    "start_time": "2022-05-09T10:37:15.649Z"
   },
   {
    "duration": 6,
    "start_time": "2022-05-09T10:37:29.486Z"
   },
   {
    "duration": 5,
    "start_time": "2022-05-09T10:37:31.058Z"
   },
   {
    "duration": 8,
    "start_time": "2022-05-09T10:37:41.758Z"
   },
   {
    "duration": 5,
    "start_time": "2022-05-09T10:38:52.625Z"
   },
   {
    "duration": 5,
    "start_time": "2022-05-09T10:38:55.745Z"
   },
   {
    "duration": 7,
    "start_time": "2022-05-09T10:38:59.745Z"
   },
   {
    "duration": 9,
    "start_time": "2022-05-09T10:42:44.828Z"
   },
   {
    "duration": 8,
    "start_time": "2022-05-09T10:43:08.770Z"
   },
   {
    "duration": 7,
    "start_time": "2022-05-09T10:43:16.916Z"
   },
   {
    "duration": 6,
    "start_time": "2022-05-09T10:47:22.200Z"
   },
   {
    "duration": 17,
    "start_time": "2022-05-09T10:48:24.057Z"
   },
   {
    "duration": 8,
    "start_time": "2022-05-09T10:48:30.529Z"
   },
   {
    "duration": 5,
    "start_time": "2022-05-09T10:49:52.672Z"
   },
   {
    "duration": 13,
    "start_time": "2022-05-09T10:49:58.803Z"
   },
   {
    "duration": 10200,
    "start_time": "2022-05-09T10:50:00.415Z"
   },
   {
    "duration": 12,
    "start_time": "2022-05-09T10:51:56.040Z"
   },
   {
    "duration": 5780,
    "start_time": "2022-05-09T10:51:56.868Z"
   },
   {
    "duration": 8,
    "start_time": "2022-05-09T10:52:42.206Z"
   },
   {
    "duration": 20,
    "start_time": "2022-05-09T10:54:09.169Z"
   },
   {
    "duration": 8,
    "start_time": "2022-05-09T10:54:34.997Z"
   },
   {
    "duration": 23,
    "start_time": "2022-05-09T10:54:37.243Z"
   },
   {
    "duration": 7,
    "start_time": "2022-05-09T10:54:38.623Z"
   },
   {
    "duration": 20,
    "start_time": "2022-05-09T10:54:39.020Z"
   },
   {
    "duration": 7,
    "start_time": "2022-05-09T10:55:12.330Z"
   },
   {
    "duration": 20,
    "start_time": "2022-05-09T10:55:12.825Z"
   },
   {
    "duration": 7,
    "start_time": "2022-05-09T10:55:27.650Z"
   },
   {
    "duration": 1424,
    "start_time": "2022-05-09T10:55:28.146Z"
   },
   {
    "duration": 9,
    "start_time": "2022-05-09T10:59:01.146Z"
   },
   {
    "duration": 4266,
    "start_time": "2022-05-09T10:59:06.418Z"
   },
   {
    "duration": 10,
    "start_time": "2022-05-09T11:01:13.019Z"
   },
   {
    "duration": 1972,
    "start_time": "2022-05-09T11:01:13.188Z"
   },
   {
    "duration": 7,
    "start_time": "2022-05-09T11:01:26.530Z"
   },
   {
    "duration": 1421,
    "start_time": "2022-05-09T11:01:27.187Z"
   },
   {
    "duration": 8,
    "start_time": "2022-05-09T11:01:33.816Z"
   },
   {
    "duration": 1951,
    "start_time": "2022-05-09T11:01:34.341Z"
   },
   {
    "duration": 1992,
    "start_time": "2022-05-09T11:02:26.806Z"
   },
   {
    "duration": 8,
    "start_time": "2022-05-09T11:04:18.628Z"
   },
   {
    "duration": 1422,
    "start_time": "2022-05-09T11:04:19.125Z"
   },
   {
    "duration": 10,
    "start_time": "2022-05-09T11:05:19.856Z"
   },
   {
    "duration": 6191,
    "start_time": "2022-05-09T11:05:21.784Z"
   },
   {
    "duration": 10,
    "start_time": "2022-05-09T11:05:33.105Z"
   },
   {
    "duration": 4409,
    "start_time": "2022-05-09T11:05:35.503Z"
   },
   {
    "duration": 7,
    "start_time": "2022-05-09T11:06:52.571Z"
   },
   {
    "duration": 1610,
    "start_time": "2022-05-09T11:07:51.967Z"
   },
   {
    "duration": 1766,
    "start_time": "2022-05-09T11:09:46.268Z"
   },
   {
    "duration": 7,
    "start_time": "2022-05-09T11:10:04.632Z"
   },
   {
    "duration": 1468,
    "start_time": "2022-05-09T11:10:05.025Z"
   },
   {
    "duration": 8,
    "start_time": "2022-05-09T11:10:26.295Z"
   },
   {
    "duration": 2031,
    "start_time": "2022-05-09T11:10:27.053Z"
   },
   {
    "duration": 10,
    "start_time": "2022-05-09T11:11:18.298Z"
   },
   {
    "duration": 5790,
    "start_time": "2022-05-09T11:11:22.259Z"
   },
   {
    "duration": 9,
    "start_time": "2022-05-09T11:12:34.332Z"
   },
   {
    "duration": 10,
    "start_time": "2022-05-09T11:13:27.081Z"
   },
   {
    "duration": 1965,
    "start_time": "2022-05-09T11:13:37.221Z"
   },
   {
    "duration": 1911,
    "start_time": "2022-05-09T11:13:48.767Z"
   },
   {
    "duration": 8,
    "start_time": "2022-05-09T11:14:55.416Z"
   },
   {
    "duration": 9,
    "start_time": "2022-05-09T11:14:55.921Z"
   },
   {
    "duration": 2306,
    "start_time": "2022-05-09T11:14:56.834Z"
   },
   {
    "duration": 6258,
    "start_time": "2022-05-09T11:15:01.597Z"
   },
   {
    "duration": 8,
    "start_time": "2022-05-09T11:22:59.089Z"
   },
   {
    "duration": 6166,
    "start_time": "2022-05-09T11:23:01.222Z"
   },
   {
    "duration": 2916,
    "start_time": "2022-05-09T11:24:17.986Z"
   },
   {
    "duration": 14,
    "start_time": "2022-05-09T11:26:34.269Z"
   },
   {
    "duration": 2842,
    "start_time": "2022-05-09T11:26:48.856Z"
   },
   {
    "duration": 10,
    "start_time": "2022-05-09T11:28:04.782Z"
   },
   {
    "duration": 2181,
    "start_time": "2022-05-09T11:28:10.588Z"
   },
   {
    "duration": 12,
    "start_time": "2022-05-09T11:30:13.097Z"
   },
   {
    "duration": 8866,
    "start_time": "2022-05-09T11:30:13.112Z"
   },
   {
    "duration": 11,
    "start_time": "2022-05-09T11:30:56.591Z"
   },
   {
    "duration": 6149,
    "start_time": "2022-05-09T11:30:57.434Z"
   },
   {
    "duration": 12,
    "start_time": "2022-05-09T11:31:10.590Z"
   },
   {
    "duration": 12,
    "start_time": "2022-05-09T11:32:06.517Z"
   },
   {
    "duration": 5895,
    "start_time": "2022-05-09T11:32:07.966Z"
   },
   {
    "duration": 9,
    "start_time": "2022-05-09T11:33:35.766Z"
   },
   {
    "duration": 2083,
    "start_time": "2022-05-09T11:33:37.906Z"
   },
   {
    "duration": 11,
    "start_time": "2022-05-09T11:33:50.969Z"
   },
   {
    "duration": 6546,
    "start_time": "2022-05-09T11:33:51.792Z"
   },
   {
    "duration": 9,
    "start_time": "2022-05-09T11:34:10.006Z"
   },
   {
    "duration": 6325,
    "start_time": "2022-05-09T11:34:10.808Z"
   },
   {
    "duration": 9,
    "start_time": "2022-05-09T11:34:51.376Z"
   },
   {
    "duration": 1941,
    "start_time": "2022-05-09T11:34:52.105Z"
   },
   {
    "duration": 4,
    "start_time": "2022-05-09T11:35:48.616Z"
   },
   {
    "duration": 12,
    "start_time": "2022-05-09T11:35:56.254Z"
   },
   {
    "duration": 4,
    "start_time": "2022-05-09T11:36:08.834Z"
   },
   {
    "duration": 7,
    "start_time": "2022-05-09T11:36:09.543Z"
   },
   {
    "duration": 8,
    "start_time": "2022-05-09T11:36:19.992Z"
   },
   {
    "duration": 9,
    "start_time": "2022-05-09T11:37:57.754Z"
   },
   {
    "duration": 23,
    "start_time": "2022-05-09T11:37:58.827Z"
   },
   {
    "duration": 9,
    "start_time": "2022-05-09T11:38:24.384Z"
   },
   {
    "duration": 6127,
    "start_time": "2022-05-09T11:38:25.125Z"
   },
   {
    "duration": 8,
    "start_time": "2022-05-09T11:39:05.914Z"
   },
   {
    "duration": 9,
    "start_time": "2022-05-09T11:40:01.921Z"
   },
   {
    "duration": 7151,
    "start_time": "2022-05-09T11:40:06.760Z"
   },
   {
    "duration": 14,
    "start_time": "2022-05-09T11:40:28.013Z"
   },
   {
    "duration": 6453,
    "start_time": "2022-05-09T11:42:22.334Z"
   },
   {
    "duration": 15,
    "start_time": "2022-05-09T11:42:28.791Z"
   },
   {
    "duration": 8,
    "start_time": "2022-05-09T11:44:02.789Z"
   },
   {
    "duration": 6249,
    "start_time": "2022-05-09T11:44:03.558Z"
   },
   {
    "duration": 9,
    "start_time": "2022-05-09T11:47:00.433Z"
   },
   {
    "duration": 21,
    "start_time": "2022-05-09T11:47:12.992Z"
   },
   {
    "duration": 7478,
    "start_time": "2022-05-09T11:47:41.029Z"
   },
   {
    "duration": 11,
    "start_time": "2022-05-09T11:48:12.865Z"
   },
   {
    "duration": 7,
    "start_time": "2022-05-09T11:52:52.743Z"
   },
   {
    "duration": 15,
    "start_time": "2022-05-09T11:52:59.037Z"
   },
   {
    "duration": 20,
    "start_time": "2022-05-09T11:53:07.817Z"
   },
   {
    "duration": 1539,
    "start_time": "2022-05-09T11:53:32.368Z"
   },
   {
    "duration": 455,
    "start_time": "2022-05-09T11:53:33.911Z"
   },
   {
    "duration": 4,
    "start_time": "2022-05-09T11:53:34.369Z"
   },
   {
    "duration": 62,
    "start_time": "2022-05-09T11:53:34.376Z"
   },
   {
    "duration": 99,
    "start_time": "2022-05-09T11:53:34.440Z"
   },
   {
    "duration": 7,
    "start_time": "2022-05-09T11:53:34.541Z"
   },
   {
    "duration": 1304,
    "start_time": "2022-05-09T11:53:34.550Z"
   },
   {
    "duration": 24,
    "start_time": "2022-05-09T11:53:35.856Z"
   },
   {
    "duration": 1096,
    "start_time": "2022-05-09T11:53:35.883Z"
   },
   {
    "duration": 40,
    "start_time": "2022-05-09T11:53:36.985Z"
   },
   {
    "duration": 875,
    "start_time": "2022-05-09T11:53:37.027Z"
   },
   {
    "duration": 32,
    "start_time": "2022-05-09T11:53:37.904Z"
   },
   {
    "duration": 259,
    "start_time": "2022-05-09T11:53:37.938Z"
   },
   {
    "duration": 69,
    "start_time": "2022-05-09T11:53:38.199Z"
   },
   {
    "duration": 17,
    "start_time": "2022-05-09T11:53:38.270Z"
   },
   {
    "duration": 10,
    "start_time": "2022-05-09T11:53:38.290Z"
   },
   {
    "duration": 43,
    "start_time": "2022-05-09T11:53:38.325Z"
   },
   {
    "duration": 12,
    "start_time": "2022-05-09T11:53:38.371Z"
   },
   {
    "duration": 546,
    "start_time": "2022-05-09T11:53:38.386Z"
   },
   {
    "duration": 97,
    "start_time": "2022-05-09T11:53:38.935Z"
   },
   {
    "duration": 7,
    "start_time": "2022-05-09T11:53:39.034Z"
   },
   {
    "duration": 11,
    "start_time": "2022-05-09T11:53:39.044Z"
   },
   {
    "duration": 15,
    "start_time": "2022-05-09T11:53:39.058Z"
   },
   {
    "duration": 6,
    "start_time": "2022-05-09T11:53:39.076Z"
   },
   {
    "duration": 42,
    "start_time": "2022-05-09T11:53:39.085Z"
   },
   {
    "duration": 21,
    "start_time": "2022-05-09T11:53:39.130Z"
   },
   {
    "duration": 9,
    "start_time": "2022-05-09T11:53:39.154Z"
   },
   {
    "duration": 5720,
    "start_time": "2022-05-09T11:53:39.167Z"
   },
   {
    "duration": 13,
    "start_time": "2022-05-09T11:53:44.889Z"
   },
   {
    "duration": 6,
    "start_time": "2022-05-09T11:53:44.924Z"
   },
   {
    "duration": 22,
    "start_time": "2022-05-09T11:53:44.932Z"
   },
   {
    "duration": 179,
    "start_time": "2022-05-09T11:53:44.956Z"
   },
   {
    "duration": 5853,
    "start_time": "2022-05-09T11:54:40.652Z"
   },
   {
    "duration": 12,
    "start_time": "2022-05-09T11:54:48.358Z"
   },
   {
    "duration": 6,
    "start_time": "2022-05-09T11:54:49.514Z"
   },
   {
    "duration": 19,
    "start_time": "2022-05-09T11:54:49.981Z"
   },
   {
    "duration": 18,
    "start_time": "2022-05-09T11:54:59.757Z"
   },
   {
    "duration": 2781,
    "start_time": "2022-05-09T11:55:51.656Z"
   },
   {
    "duration": 1494,
    "start_time": "2022-05-09T11:57:44.657Z"
   },
   {
    "duration": 448,
    "start_time": "2022-05-09T11:57:46.154Z"
   },
   {
    "duration": 5,
    "start_time": "2022-05-09T11:57:46.604Z"
   },
   {
    "duration": 60,
    "start_time": "2022-05-09T11:57:46.613Z"
   },
   {
    "duration": 90,
    "start_time": "2022-05-09T11:57:46.675Z"
   },
   {
    "duration": 6,
    "start_time": "2022-05-09T11:57:46.768Z"
   },
   {
    "duration": 1209,
    "start_time": "2022-05-09T11:57:46.776Z"
   },
   {
    "duration": 41,
    "start_time": "2022-05-09T11:57:47.987Z"
   },
   {
    "duration": 764,
    "start_time": "2022-05-09T11:57:48.030Z"
   },
   {
    "duration": 35,
    "start_time": "2022-05-09T11:57:48.799Z"
   },
   {
    "duration": 873,
    "start_time": "2022-05-09T11:57:48.836Z"
   },
   {
    "duration": 31,
    "start_time": "2022-05-09T11:57:49.711Z"
   },
   {
    "duration": 250,
    "start_time": "2022-05-09T11:57:49.744Z"
   },
   {
    "duration": 68,
    "start_time": "2022-05-09T11:57:49.996Z"
   },
   {
    "duration": 13,
    "start_time": "2022-05-09T11:57:50.066Z"
   },
   {
    "duration": 11,
    "start_time": "2022-05-09T11:57:50.081Z"
   },
   {
    "duration": 37,
    "start_time": "2022-05-09T11:57:50.125Z"
   },
   {
    "duration": 8,
    "start_time": "2022-05-09T11:57:50.165Z"
   },
   {
    "duration": 550,
    "start_time": "2022-05-09T11:57:50.175Z"
   },
   {
    "duration": 104,
    "start_time": "2022-05-09T11:57:50.729Z"
   },
   {
    "duration": 3,
    "start_time": "2022-05-09T11:57:50.836Z"
   },
   {
    "duration": 7,
    "start_time": "2022-05-09T11:57:50.842Z"
   },
   {
    "duration": 18,
    "start_time": "2022-05-09T11:57:50.852Z"
   },
   {
    "duration": 5,
    "start_time": "2022-05-09T11:57:50.872Z"
   },
   {
    "duration": 46,
    "start_time": "2022-05-09T11:57:50.879Z"
   },
   {
    "duration": 12,
    "start_time": "2022-05-09T11:57:50.927Z"
   },
   {
    "duration": 9,
    "start_time": "2022-05-09T11:57:50.941Z"
   },
   {
    "duration": 5997,
    "start_time": "2022-05-09T11:57:50.955Z"
   },
   {
    "duration": 10,
    "start_time": "2022-05-09T11:57:56.955Z"
   },
   {
    "duration": 10,
    "start_time": "2022-05-09T11:57:56.968Z"
   },
   {
    "duration": 21,
    "start_time": "2022-05-09T11:57:56.980Z"
   },
   {
    "duration": 278,
    "start_time": "2022-05-09T11:57:57.026Z"
   },
   {
    "duration": 1556,
    "start_time": "2022-05-09T11:58:41.643Z"
   },
   {
    "duration": 698,
    "start_time": "2022-05-09T11:58:43.203Z"
   },
   {
    "duration": 5,
    "start_time": "2022-05-09T11:58:43.904Z"
   },
   {
    "duration": 61,
    "start_time": "2022-05-09T11:58:43.924Z"
   },
   {
    "duration": 88,
    "start_time": "2022-05-09T11:58:43.988Z"
   },
   {
    "duration": 8,
    "start_time": "2022-05-09T11:58:44.078Z"
   },
   {
    "duration": 1196,
    "start_time": "2022-05-09T11:58:44.088Z"
   },
   {
    "duration": 39,
    "start_time": "2022-05-09T11:58:45.286Z"
   },
   {
    "duration": 774,
    "start_time": "2022-05-09T11:58:45.328Z"
   },
   {
    "duration": 33,
    "start_time": "2022-05-09T11:58:46.106Z"
   },
   {
    "duration": 868,
    "start_time": "2022-05-09T11:58:46.142Z"
   },
   {
    "duration": 32,
    "start_time": "2022-05-09T11:58:47.012Z"
   },
   {
    "duration": 286,
    "start_time": "2022-05-09T11:58:47.047Z"
   },
   {
    "duration": 90,
    "start_time": "2022-05-09T11:58:47.336Z"
   },
   {
    "duration": 14,
    "start_time": "2022-05-09T11:58:47.428Z"
   },
   {
    "duration": 20,
    "start_time": "2022-05-09T11:58:47.445Z"
   },
   {
    "duration": 66,
    "start_time": "2022-05-09T11:58:47.468Z"
   },
   {
    "duration": 12,
    "start_time": "2022-05-09T11:58:47.538Z"
   },
   {
    "duration": 496,
    "start_time": "2022-05-09T11:58:47.553Z"
   },
   {
    "duration": 173,
    "start_time": "2022-05-09T11:58:48.052Z"
   },
   {
    "duration": 4,
    "start_time": "2022-05-09T11:58:48.228Z"
   },
   {
    "duration": 15,
    "start_time": "2022-05-09T11:58:48.234Z"
   },
   {
    "duration": 10,
    "start_time": "2022-05-09T11:58:48.252Z"
   },
   {
    "duration": 8,
    "start_time": "2022-05-09T11:58:48.265Z"
   },
   {
    "duration": 11,
    "start_time": "2022-05-09T11:58:48.275Z"
   },
   {
    "duration": 41,
    "start_time": "2022-05-09T11:58:48.288Z"
   },
   {
    "duration": 13,
    "start_time": "2022-05-09T11:58:48.332Z"
   },
   {
    "duration": 6161,
    "start_time": "2022-05-09T11:58:48.351Z"
   },
   {
    "duration": 18,
    "start_time": "2022-05-09T11:58:54.514Z"
   },
   {
    "duration": 8,
    "start_time": "2022-05-09T11:58:54.534Z"
   },
   {
    "duration": 23,
    "start_time": "2022-05-09T11:58:54.544Z"
   },
   {
    "duration": 185,
    "start_time": "2022-05-09T11:58:54.569Z"
   },
   {
    "duration": 9,
    "start_time": "2022-05-09T12:01:47.718Z"
   },
   {
    "duration": 6201,
    "start_time": "2022-05-09T12:01:50.754Z"
   },
   {
    "duration": 9,
    "start_time": "2022-05-09T12:03:24.200Z"
   },
   {
    "duration": 5908,
    "start_time": "2022-05-09T12:03:26.509Z"
   },
   {
    "duration": 5,
    "start_time": "2022-05-09T12:04:12.729Z"
   },
   {
    "duration": 6,
    "start_time": "2022-05-09T12:04:13.883Z"
   },
   {
    "duration": 8,
    "start_time": "2022-05-09T12:04:16.127Z"
   },
   {
    "duration": 8,
    "start_time": "2022-05-09T12:04:20.404Z"
   },
   {
    "duration": 9,
    "start_time": "2022-05-09T12:04:26.213Z"
   },
   {
    "duration": 5829,
    "start_time": "2022-05-09T12:04:27.377Z"
   },
   {
    "duration": 12,
    "start_time": "2022-05-09T12:04:35.578Z"
   },
   {
    "duration": 10,
    "start_time": "2022-05-09T12:04:58.565Z"
   },
   {
    "duration": 6056,
    "start_time": "2022-05-09T12:04:59.558Z"
   },
   {
    "duration": 16,
    "start_time": "2022-05-09T12:05:13.782Z"
   },
   {
    "duration": 1509,
    "start_time": "2022-05-09T12:06:01.063Z"
   },
   {
    "duration": 462,
    "start_time": "2022-05-09T12:06:02.575Z"
   },
   {
    "duration": 6,
    "start_time": "2022-05-09T12:06:03.039Z"
   },
   {
    "duration": 57,
    "start_time": "2022-05-09T12:06:03.048Z"
   },
   {
    "duration": 64,
    "start_time": "2022-05-09T12:06:03.126Z"
   },
   {
    "duration": 35,
    "start_time": "2022-05-09T12:06:03.192Z"
   },
   {
    "duration": 1174,
    "start_time": "2022-05-09T12:06:03.230Z"
   },
   {
    "duration": 34,
    "start_time": "2022-05-09T12:06:04.407Z"
   },
   {
    "duration": 789,
    "start_time": "2022-05-09T12:06:04.444Z"
   },
   {
    "duration": 24,
    "start_time": "2022-05-09T12:06:05.237Z"
   },
   {
    "duration": 879,
    "start_time": "2022-05-09T12:06:05.264Z"
   },
   {
    "duration": 22,
    "start_time": "2022-05-09T12:06:06.145Z"
   },
   {
    "duration": 267,
    "start_time": "2022-05-09T12:06:06.169Z"
   },
   {
    "duration": 60,
    "start_time": "2022-05-09T12:06:06.438Z"
   },
   {
    "duration": 29,
    "start_time": "2022-05-09T12:06:06.500Z"
   },
   {
    "duration": 10,
    "start_time": "2022-05-09T12:06:06.531Z"
   },
   {
    "duration": 54,
    "start_time": "2022-05-09T12:06:06.544Z"
   },
   {
    "duration": 9,
    "start_time": "2022-05-09T12:06:06.601Z"
   },
   {
    "duration": 429,
    "start_time": "2022-05-09T12:06:06.625Z"
   },
   {
    "duration": 110,
    "start_time": "2022-05-09T12:06:07.124Z"
   },
   {
    "duration": 5,
    "start_time": "2022-05-09T12:06:07.236Z"
   },
   {
    "duration": 10,
    "start_time": "2022-05-09T12:06:07.244Z"
   },
   {
    "duration": 16,
    "start_time": "2022-05-09T12:06:07.257Z"
   },
   {
    "duration": 7,
    "start_time": "2022-05-09T12:06:07.276Z"
   },
   {
    "duration": 14,
    "start_time": "2022-05-09T12:06:07.326Z"
   },
   {
    "duration": 6081,
    "start_time": "2022-05-09T12:06:07.343Z"
   },
   {
    "duration": 11,
    "start_time": "2022-05-09T12:06:13.427Z"
   },
   {
    "duration": 6,
    "start_time": "2022-05-09T12:06:13.444Z"
   },
   {
    "duration": 25,
    "start_time": "2022-05-09T12:06:13.452Z"
   },
   {
    "duration": 180,
    "start_time": "2022-05-09T12:06:13.479Z"
   },
   {
    "duration": 1597,
    "start_time": "2022-05-09T12:13:03.447Z"
   },
   {
    "duration": 472,
    "start_time": "2022-05-09T12:13:05.047Z"
   },
   {
    "duration": 4,
    "start_time": "2022-05-09T12:13:05.521Z"
   },
   {
    "duration": 46,
    "start_time": "2022-05-09T12:13:05.528Z"
   },
   {
    "duration": 100,
    "start_time": "2022-05-09T12:13:05.576Z"
   },
   {
    "duration": 7,
    "start_time": "2022-05-09T12:13:05.678Z"
   },
   {
    "duration": 1656,
    "start_time": "2022-05-09T12:13:05.724Z"
   },
   {
    "duration": 23,
    "start_time": "2022-05-09T12:13:07.383Z"
   },
   {
    "duration": 948,
    "start_time": "2022-05-09T12:13:07.425Z"
   },
   {
    "duration": 21,
    "start_time": "2022-05-09T12:13:08.378Z"
   },
   {
    "duration": 887,
    "start_time": "2022-05-09T12:13:08.402Z"
   },
   {
    "duration": 35,
    "start_time": "2022-05-09T12:13:09.292Z"
   },
   {
    "duration": 249,
    "start_time": "2022-05-09T12:13:09.329Z"
   },
   {
    "duration": 64,
    "start_time": "2022-05-09T12:13:09.581Z"
   },
   {
    "duration": 12,
    "start_time": "2022-05-09T12:13:09.647Z"
   },
   {
    "duration": 12,
    "start_time": "2022-05-09T12:13:09.661Z"
   },
   {
    "duration": 72,
    "start_time": "2022-05-09T12:13:09.675Z"
   },
   {
    "duration": 9,
    "start_time": "2022-05-09T12:13:09.750Z"
   },
   {
    "duration": 663,
    "start_time": "2022-05-09T12:13:09.761Z"
   },
   {
    "duration": 14,
    "start_time": "2022-05-09T12:13:10.427Z"
   },
   {
    "duration": 11,
    "start_time": "2022-05-09T12:13:10.443Z"
   },
   {
    "duration": 15,
    "start_time": "2022-05-09T12:13:10.456Z"
   },
   {
    "duration": 17,
    "start_time": "2022-05-09T12:13:10.473Z"
   },
   {
    "duration": 6,
    "start_time": "2022-05-09T12:13:10.493Z"
   },
   {
    "duration": 14,
    "start_time": "2022-05-09T12:13:10.526Z"
   },
   {
    "duration": 8825,
    "start_time": "2022-05-09T12:13:10.542Z"
   },
   {
    "duration": 18,
    "start_time": "2022-05-09T12:13:19.370Z"
   },
   {
    "duration": 29,
    "start_time": "2022-05-09T12:13:19.395Z"
   },
   {
    "duration": 19,
    "start_time": "2022-05-09T12:13:19.427Z"
   },
   {
    "duration": 286,
    "start_time": "2022-05-09T12:13:19.448Z"
   },
   {
    "duration": 1589,
    "start_time": "2022-05-09T12:14:04.557Z"
   },
   {
    "duration": 470,
    "start_time": "2022-05-09T12:14:06.149Z"
   },
   {
    "duration": 4,
    "start_time": "2022-05-09T12:14:06.621Z"
   },
   {
    "duration": 63,
    "start_time": "2022-05-09T12:14:06.628Z"
   },
   {
    "duration": 85,
    "start_time": "2022-05-09T12:14:06.693Z"
   },
   {
    "duration": 43,
    "start_time": "2022-05-09T12:14:06.781Z"
   },
   {
    "duration": 1224,
    "start_time": "2022-05-09T12:14:06.827Z"
   },
   {
    "duration": 23,
    "start_time": "2022-05-09T12:14:08.054Z"
   },
   {
    "duration": 870,
    "start_time": "2022-05-09T12:14:08.079Z"
   },
   {
    "duration": 22,
    "start_time": "2022-05-09T12:14:08.954Z"
   },
   {
    "duration": 928,
    "start_time": "2022-05-09T12:14:09.026Z"
   },
   {
    "duration": 21,
    "start_time": "2022-05-09T12:14:09.957Z"
   },
   {
    "duration": 281,
    "start_time": "2022-05-09T12:14:09.981Z"
   },
   {
    "duration": 90,
    "start_time": "2022-05-09T12:14:10.265Z"
   },
   {
    "duration": 15,
    "start_time": "2022-05-09T12:14:10.358Z"
   },
   {
    "duration": 11,
    "start_time": "2022-05-09T12:14:10.376Z"
   },
   {
    "duration": 69,
    "start_time": "2022-05-09T12:14:10.390Z"
   },
   {
    "duration": 9,
    "start_time": "2022-05-09T12:14:10.462Z"
   },
   {
    "duration": 489,
    "start_time": "2022-05-09T12:14:10.474Z"
   },
   {
    "duration": 100,
    "start_time": "2022-05-09T12:14:11.026Z"
   },
   {
    "duration": 5,
    "start_time": "2022-05-09T12:14:11.129Z"
   },
   {
    "duration": 16,
    "start_time": "2022-05-09T12:14:11.137Z"
   },
   {
    "duration": 16,
    "start_time": "2022-05-09T12:14:11.155Z"
   },
   {
    "duration": 6,
    "start_time": "2022-05-09T12:14:11.174Z"
   },
   {
    "duration": 44,
    "start_time": "2022-05-09T12:14:11.183Z"
   },
   {
    "duration": 6181,
    "start_time": "2022-05-09T12:14:11.230Z"
   },
   {
    "duration": 22,
    "start_time": "2022-05-09T12:14:17.414Z"
   },
   {
    "duration": 9,
    "start_time": "2022-05-09T12:14:17.443Z"
   },
   {
    "duration": 33,
    "start_time": "2022-05-09T12:14:17.455Z"
   },
   {
    "duration": 279,
    "start_time": "2022-05-09T12:14:17.491Z"
   },
   {
    "duration": 8726,
    "start_time": "2022-05-09T12:14:50.366Z"
   },
   {
    "duration": 18,
    "start_time": "2022-05-09T12:15:18.982Z"
   },
   {
    "duration": 8,
    "start_time": "2022-05-09T12:15:21.059Z"
   },
   {
    "duration": 18,
    "start_time": "2022-05-09T12:15:21.841Z"
   },
   {
    "duration": 1067,
    "start_time": "2022-05-09T12:18:22.262Z"
   },
   {
    "duration": 4,
    "start_time": "2022-05-09T12:18:41.509Z"
   },
   {
    "duration": 6019,
    "start_time": "2022-05-09T12:18:41.967Z"
   },
   {
    "duration": 4,
    "start_time": "2022-05-09T12:19:12.166Z"
   },
   {
    "duration": 5940,
    "start_time": "2022-05-09T12:19:17.826Z"
   },
   {
    "duration": 4,
    "start_time": "2022-05-09T12:19:31.473Z"
   },
   {
    "duration": 3029,
    "start_time": "2022-05-09T12:19:31.766Z"
   },
   {
    "duration": 4,
    "start_time": "2022-05-09T12:21:12.804Z"
   },
   {
    "duration": 5997,
    "start_time": "2022-05-09T12:21:13.241Z"
   },
   {
    "duration": 15,
    "start_time": "2022-05-09T12:21:53.100Z"
   },
   {
    "duration": 5,
    "start_time": "2022-05-09T12:21:53.766Z"
   },
   {
    "duration": 6358,
    "start_time": "2022-05-09T12:21:54.194Z"
   },
   {
    "duration": 15,
    "start_time": "2022-05-09T12:22:04.256Z"
   },
   {
    "duration": 5978,
    "start_time": "2022-05-09T12:22:56.997Z"
   },
   {
    "duration": 14,
    "start_time": "2022-05-09T12:23:02.978Z"
   },
   {
    "duration": 12,
    "start_time": "2022-05-09T12:23:13.165Z"
   },
   {
    "duration": 4,
    "start_time": "2022-05-09T12:23:20.566Z"
   },
   {
    "duration": 5594,
    "start_time": "2022-05-09T12:23:20.850Z"
   },
   {
    "duration": 13,
    "start_time": "2022-05-09T12:23:28.889Z"
   },
   {
    "duration": 3,
    "start_time": "2022-05-09T12:23:35.554Z"
   },
   {
    "duration": 5763,
    "start_time": "2022-05-09T12:23:35.939Z"
   },
   {
    "duration": 13,
    "start_time": "2022-05-09T12:23:44.959Z"
   },
   {
    "duration": 6151,
    "start_time": "2022-05-09T12:23:49.020Z"
   },
   {
    "duration": 13,
    "start_time": "2022-05-09T12:24:09.094Z"
   },
   {
    "duration": 7,
    "start_time": "2022-05-09T12:24:18.246Z"
   },
   {
    "duration": 18,
    "start_time": "2022-05-09T12:24:18.625Z"
   },
   {
    "duration": 23,
    "start_time": "2022-05-09T12:24:46.252Z"
   },
   {
    "duration": 26,
    "start_time": "2022-05-09T12:46:30.442Z"
   },
   {
    "duration": 120,
    "start_time": "2022-05-09T12:53:50.072Z"
   },
   {
    "duration": 979,
    "start_time": "2022-05-09T12:57:53.403Z"
   },
   {
    "duration": 125,
    "start_time": "2022-05-09T12:57:54.633Z"
   },
   {
    "duration": 387,
    "start_time": "2022-05-09T12:58:40.156Z"
   },
   {
    "duration": 127,
    "start_time": "2022-05-09T12:59:10.771Z"
   },
   {
    "duration": 2228,
    "start_time": "2022-05-09T13:02:20.476Z"
   },
   {
    "duration": 626,
    "start_time": "2022-05-09T13:02:22.708Z"
   },
   {
    "duration": 5,
    "start_time": "2022-05-09T13:02:23.337Z"
   },
   {
    "duration": 82,
    "start_time": "2022-05-09T13:02:23.346Z"
   },
   {
    "duration": 97,
    "start_time": "2022-05-09T13:02:23.430Z"
   },
   {
    "duration": 7,
    "start_time": "2022-05-09T13:02:23.530Z"
   },
   {
    "duration": 1375,
    "start_time": "2022-05-09T13:02:23.540Z"
   },
   {
    "duration": 29,
    "start_time": "2022-05-09T13:02:24.918Z"
   },
   {
    "duration": 803,
    "start_time": "2022-05-09T13:02:24.950Z"
   },
   {
    "duration": 23,
    "start_time": "2022-05-09T13:02:25.757Z"
   },
   {
    "duration": 999,
    "start_time": "2022-05-09T13:02:25.782Z"
   },
   {
    "duration": 42,
    "start_time": "2022-05-09T13:02:26.784Z"
   },
   {
    "duration": 291,
    "start_time": "2022-05-09T13:02:26.829Z"
   },
   {
    "duration": 130,
    "start_time": "2022-05-09T13:02:27.123Z"
   },
   {
    "duration": 17,
    "start_time": "2022-05-09T13:02:27.257Z"
   },
   {
    "duration": 10,
    "start_time": "2022-05-09T13:02:27.277Z"
   },
   {
    "duration": 68,
    "start_time": "2022-05-09T13:02:27.290Z"
   },
   {
    "duration": 9,
    "start_time": "2022-05-09T13:02:27.360Z"
   },
   {
    "duration": 573,
    "start_time": "2022-05-09T13:02:27.372Z"
   },
   {
    "duration": 103,
    "start_time": "2022-05-09T13:02:28.027Z"
   },
   {
    "duration": 10,
    "start_time": "2022-05-09T13:02:28.133Z"
   },
   {
    "duration": 17,
    "start_time": "2022-05-09T13:02:28.146Z"
   },
   {
    "duration": 31,
    "start_time": "2022-05-09T13:02:28.166Z"
   },
   {
    "duration": 16,
    "start_time": "2022-05-09T13:02:28.199Z"
   },
   {
    "duration": 175,
    "start_time": "2022-05-09T13:02:28.218Z"
   },
   {
    "duration": 0,
    "start_time": "2022-05-09T13:02:28.396Z"
   },
   {
    "duration": 0,
    "start_time": "2022-05-09T13:02:28.398Z"
   },
   {
    "duration": 0,
    "start_time": "2022-05-09T13:02:28.399Z"
   },
   {
    "duration": 0,
    "start_time": "2022-05-09T13:02:28.401Z"
   },
   {
    "duration": 0,
    "start_time": "2022-05-09T13:02:28.402Z"
   },
   {
    "duration": 0,
    "start_time": "2022-05-09T13:02:28.403Z"
   },
   {
    "duration": 1610,
    "start_time": "2022-05-09T13:03:06.324Z"
   },
   {
    "duration": 461,
    "start_time": "2022-05-09T13:03:07.937Z"
   },
   {
    "duration": 4,
    "start_time": "2022-05-09T13:03:08.400Z"
   },
   {
    "duration": 55,
    "start_time": "2022-05-09T13:03:08.408Z"
   },
   {
    "duration": 92,
    "start_time": "2022-05-09T13:03:08.465Z"
   },
   {
    "duration": 6,
    "start_time": "2022-05-09T13:03:08.559Z"
   },
   {
    "duration": 1301,
    "start_time": "2022-05-09T13:03:08.567Z"
   },
   {
    "duration": 21,
    "start_time": "2022-05-09T13:03:09.871Z"
   },
   {
    "duration": 873,
    "start_time": "2022-05-09T13:03:09.895Z"
   },
   {
    "duration": 22,
    "start_time": "2022-05-09T13:03:10.772Z"
   },
   {
    "duration": 902,
    "start_time": "2022-05-09T13:03:10.797Z"
   },
   {
    "duration": 41,
    "start_time": "2022-05-09T13:03:11.702Z"
   },
   {
    "duration": 278,
    "start_time": "2022-05-09T13:03:11.746Z"
   },
   {
    "duration": 71,
    "start_time": "2022-05-09T13:03:12.027Z"
   },
   {
    "duration": 33,
    "start_time": "2022-05-09T13:03:12.101Z"
   },
   {
    "duration": 9,
    "start_time": "2022-05-09T13:03:12.137Z"
   },
   {
    "duration": 76,
    "start_time": "2022-05-09T13:03:12.149Z"
   },
   {
    "duration": 9,
    "start_time": "2022-05-09T13:03:12.227Z"
   },
   {
    "duration": 486,
    "start_time": "2022-05-09T13:03:12.238Z"
   },
   {
    "duration": 102,
    "start_time": "2022-05-09T13:03:12.728Z"
   },
   {
    "duration": 5,
    "start_time": "2022-05-09T13:03:12.833Z"
   },
   {
    "duration": 15,
    "start_time": "2022-05-09T13:03:12.840Z"
   },
   {
    "duration": 13,
    "start_time": "2022-05-09T13:03:12.858Z"
   },
   {
    "duration": 5,
    "start_time": "2022-05-09T13:03:12.874Z"
   },
   {
    "duration": 47,
    "start_time": "2022-05-09T13:03:12.881Z"
   },
   {
    "duration": 5,
    "start_time": "2022-05-09T13:03:12.930Z"
   },
   {
    "duration": 6036,
    "start_time": "2022-05-09T13:03:12.938Z"
   },
   {
    "duration": 14,
    "start_time": "2022-05-09T13:03:18.981Z"
   },
   {
    "duration": 30,
    "start_time": "2022-05-09T13:03:18.998Z"
   },
   {
    "duration": 28,
    "start_time": "2022-05-09T13:03:19.030Z"
   },
   {
    "duration": 19,
    "start_time": "2022-05-09T13:03:19.060Z"
   },
   {
    "duration": 2016,
    "start_time": "2022-05-09T13:04:11.978Z"
   },
   {
    "duration": 678,
    "start_time": "2022-05-09T13:04:13.997Z"
   },
   {
    "duration": 5,
    "start_time": "2022-05-09T13:04:14.678Z"
   },
   {
    "duration": 60,
    "start_time": "2022-05-09T13:04:14.686Z"
   },
   {
    "duration": 96,
    "start_time": "2022-05-09T13:04:14.748Z"
   },
   {
    "duration": 6,
    "start_time": "2022-05-09T13:04:14.846Z"
   },
   {
    "duration": 1215,
    "start_time": "2022-05-09T13:04:14.855Z"
   },
   {
    "duration": 23,
    "start_time": "2022-05-09T13:04:16.072Z"
   },
   {
    "duration": 794,
    "start_time": "2022-05-09T13:04:16.097Z"
   },
   {
    "duration": 35,
    "start_time": "2022-05-09T13:04:16.895Z"
   },
   {
    "duration": 1257,
    "start_time": "2022-05-09T13:04:16.934Z"
   },
   {
    "duration": 47,
    "start_time": "2022-05-09T13:04:18.194Z"
   },
   {
    "duration": 282,
    "start_time": "2022-05-09T13:04:18.243Z"
   },
   {
    "duration": 95,
    "start_time": "2022-05-09T13:04:18.528Z"
   },
   {
    "duration": 12,
    "start_time": "2022-05-09T13:04:18.626Z"
   },
   {
    "duration": 14,
    "start_time": "2022-05-09T13:04:18.641Z"
   },
   {
    "duration": 52,
    "start_time": "2022-05-09T13:04:18.658Z"
   },
   {
    "duration": 10,
    "start_time": "2022-05-09T13:04:18.726Z"
   },
   {
    "duration": 589,
    "start_time": "2022-05-09T13:04:18.739Z"
   },
   {
    "duration": 106,
    "start_time": "2022-05-09T13:04:19.331Z"
   },
   {
    "duration": 5,
    "start_time": "2022-05-09T13:04:19.439Z"
   },
   {
    "duration": 10,
    "start_time": "2022-05-09T13:04:19.448Z"
   },
   {
    "duration": 11,
    "start_time": "2022-05-09T13:04:19.460Z"
   },
   {
    "duration": 6,
    "start_time": "2022-05-09T13:04:19.474Z"
   },
   {
    "duration": 9,
    "start_time": "2022-05-09T13:04:19.529Z"
   },
   {
    "duration": 10,
    "start_time": "2022-05-09T13:04:19.541Z"
   },
   {
    "duration": 6019,
    "start_time": "2022-05-09T13:04:19.554Z"
   },
   {
    "duration": 16,
    "start_time": "2022-05-09T13:04:25.578Z"
   },
   {
    "duration": 30,
    "start_time": "2022-05-09T13:04:25.596Z"
   },
   {
    "duration": 29,
    "start_time": "2022-05-09T13:04:25.630Z"
   },
   {
    "duration": 28,
    "start_time": "2022-05-09T13:04:25.661Z"
   },
   {
    "duration": 4,
    "start_time": "2022-05-09T13:12:04.165Z"
   },
   {
    "duration": 5,
    "start_time": "2022-05-09T13:13:22.904Z"
   },
   {
    "duration": 10,
    "start_time": "2022-05-09T13:13:41.432Z"
   },
   {
    "duration": 1585,
    "start_time": "2022-05-09T13:18:51.857Z"
   },
   {
    "duration": 479,
    "start_time": "2022-05-09T13:18:53.446Z"
   },
   {
    "duration": 4,
    "start_time": "2022-05-09T13:18:53.928Z"
   },
   {
    "duration": 92,
    "start_time": "2022-05-09T13:18:53.935Z"
   },
   {
    "duration": 96,
    "start_time": "2022-05-09T13:18:54.030Z"
   },
   {
    "duration": 7,
    "start_time": "2022-05-09T13:18:54.130Z"
   },
   {
    "duration": 1193,
    "start_time": "2022-05-09T13:18:54.141Z"
   },
   {
    "duration": 25,
    "start_time": "2022-05-09T13:18:55.339Z"
   },
   {
    "duration": 796,
    "start_time": "2022-05-09T13:18:55.367Z"
   },
   {
    "duration": 21,
    "start_time": "2022-05-09T13:18:56.167Z"
   },
   {
    "duration": 1002,
    "start_time": "2022-05-09T13:18:56.191Z"
   },
   {
    "duration": 34,
    "start_time": "2022-05-09T13:18:57.196Z"
   },
   {
    "duration": 313,
    "start_time": "2022-05-09T13:18:57.232Z"
   },
   {
    "duration": 104,
    "start_time": "2022-05-09T13:18:57.548Z"
   },
   {
    "duration": 12,
    "start_time": "2022-05-09T13:18:57.654Z"
   },
   {
    "duration": 10,
    "start_time": "2022-05-09T13:18:57.669Z"
   },
   {
    "duration": 74,
    "start_time": "2022-05-09T13:18:57.681Z"
   },
   {
    "duration": 10,
    "start_time": "2022-05-09T13:18:57.758Z"
   },
   {
    "duration": 490,
    "start_time": "2022-05-09T13:18:57.771Z"
   },
   {
    "duration": 102,
    "start_time": "2022-05-09T13:18:58.326Z"
   },
   {
    "duration": 7,
    "start_time": "2022-05-09T13:18:58.430Z"
   },
   {
    "duration": 12,
    "start_time": "2022-05-09T13:18:58.440Z"
   },
   {
    "duration": 15,
    "start_time": "2022-05-09T13:18:58.455Z"
   },
   {
    "duration": 10,
    "start_time": "2022-05-09T13:18:58.472Z"
   },
   {
    "duration": 46,
    "start_time": "2022-05-09T13:18:58.485Z"
   },
   {
    "duration": 14,
    "start_time": "2022-05-09T13:18:58.534Z"
   },
   {
    "duration": 5928,
    "start_time": "2022-05-09T13:18:58.551Z"
   },
   {
    "duration": 15,
    "start_time": "2022-05-09T13:19:04.484Z"
   },
   {
    "duration": 35,
    "start_time": "2022-05-09T13:19:04.501Z"
   },
   {
    "duration": 44,
    "start_time": "2022-05-09T13:19:04.540Z"
   },
   {
    "duration": 37,
    "start_time": "2022-05-09T13:19:04.587Z"
   },
   {
    "duration": 1168,
    "start_time": "2022-05-10T10:46:31.730Z"
   },
   {
    "duration": 336,
    "start_time": "2022-05-10T10:46:32.900Z"
   },
   {
    "duration": 2,
    "start_time": "2022-05-10T10:46:33.238Z"
   },
   {
    "duration": 29,
    "start_time": "2022-05-10T10:46:33.243Z"
   },
   {
    "duration": 49,
    "start_time": "2022-05-10T10:46:33.273Z"
   },
   {
    "duration": 4,
    "start_time": "2022-05-10T10:46:33.323Z"
   },
   {
    "duration": 833,
    "start_time": "2022-05-10T10:46:33.329Z"
   },
   {
    "duration": 16,
    "start_time": "2022-05-10T10:46:34.165Z"
   },
   {
    "duration": 391,
    "start_time": "2022-05-10T10:46:34.193Z"
   },
   {
    "duration": 20,
    "start_time": "2022-05-10T10:46:34.587Z"
   },
   {
    "duration": 510,
    "start_time": "2022-05-10T10:46:34.609Z"
   },
   {
    "duration": 15,
    "start_time": "2022-05-10T10:46:35.121Z"
   },
   {
    "duration": 133,
    "start_time": "2022-05-10T10:46:35.137Z"
   },
   {
    "duration": 47,
    "start_time": "2022-05-10T10:46:35.272Z"
   },
   {
    "duration": 9,
    "start_time": "2022-05-10T10:46:35.321Z"
   },
   {
    "duration": 6,
    "start_time": "2022-05-10T10:46:35.331Z"
   },
   {
    "duration": 29,
    "start_time": "2022-05-10T10:46:35.339Z"
   },
   {
    "duration": 27,
    "start_time": "2022-05-10T10:46:35.369Z"
   },
   {
    "duration": 512,
    "start_time": "2022-05-10T10:46:35.398Z"
   },
   {
    "duration": 102,
    "start_time": "2022-05-10T10:46:35.992Z"
   },
   {
    "duration": 7,
    "start_time": "2022-05-10T10:46:36.096Z"
   },
   {
    "duration": 9,
    "start_time": "2022-05-10T10:46:36.104Z"
   },
   {
    "duration": 12,
    "start_time": "2022-05-10T10:46:36.115Z"
   },
   {
    "duration": 5,
    "start_time": "2022-05-10T10:46:36.129Z"
   },
   {
    "duration": 6,
    "start_time": "2022-05-10T10:46:36.136Z"
   },
   {
    "duration": 11,
    "start_time": "2022-05-10T10:46:36.143Z"
   },
   {
    "duration": 124,
    "start_time": "2022-05-10T10:46:36.155Z"
   },
   {
    "duration": 0,
    "start_time": "2022-05-10T10:46:36.281Z"
   },
   {
    "duration": 0,
    "start_time": "2022-05-10T10:46:36.282Z"
   },
   {
    "duration": 0,
    "start_time": "2022-05-10T10:46:36.283Z"
   },
   {
    "duration": 0,
    "start_time": "2022-05-10T10:46:36.292Z"
   },
   {
    "duration": 21,
    "start_time": "2022-05-10T10:51:30.907Z"
   },
   {
    "duration": 1528,
    "start_time": "2022-05-10T10:51:50.312Z"
   },
   {
    "duration": 351,
    "start_time": "2022-05-10T10:51:51.843Z"
   },
   {
    "duration": 3,
    "start_time": "2022-05-10T10:51:52.196Z"
   },
   {
    "duration": 35,
    "start_time": "2022-05-10T10:51:52.202Z"
   },
   {
    "duration": 79,
    "start_time": "2022-05-10T10:51:52.239Z"
   },
   {
    "duration": 5,
    "start_time": "2022-05-10T10:51:52.320Z"
   },
   {
    "duration": 696,
    "start_time": "2022-05-10T10:51:52.327Z"
   },
   {
    "duration": 16,
    "start_time": "2022-05-10T10:51:53.025Z"
   },
   {
    "duration": 427,
    "start_time": "2022-05-10T10:51:53.043Z"
   },
   {
    "duration": 24,
    "start_time": "2022-05-10T10:51:53.472Z"
   },
   {
    "duration": 504,
    "start_time": "2022-05-10T10:51:53.498Z"
   },
   {
    "duration": 17,
    "start_time": "2022-05-10T10:51:54.004Z"
   },
   {
    "duration": 145,
    "start_time": "2022-05-10T10:51:54.022Z"
   },
   {
    "duration": 54,
    "start_time": "2022-05-10T10:51:54.168Z"
   },
   {
    "duration": 10,
    "start_time": "2022-05-10T10:51:54.224Z"
   },
   {
    "duration": 7,
    "start_time": "2022-05-10T10:51:54.236Z"
   },
   {
    "duration": 53,
    "start_time": "2022-05-10T10:51:54.245Z"
   },
   {
    "duration": 6,
    "start_time": "2022-05-10T10:51:54.299Z"
   },
   {
    "duration": 412,
    "start_time": "2022-05-10T10:51:54.307Z"
   },
   {
    "duration": 100,
    "start_time": "2022-05-10T10:51:54.794Z"
   },
   {
    "duration": 4,
    "start_time": "2022-05-10T10:51:54.896Z"
   },
   {
    "duration": 5,
    "start_time": "2022-05-10T10:51:54.901Z"
   },
   {
    "duration": 9,
    "start_time": "2022-05-10T10:51:54.907Z"
   },
   {
    "duration": 4,
    "start_time": "2022-05-10T10:51:54.917Z"
   },
   {
    "duration": 7,
    "start_time": "2022-05-10T10:51:54.923Z"
   },
   {
    "duration": 14,
    "start_time": "2022-05-10T10:51:54.932Z"
   },
   {
    "duration": 226,
    "start_time": "2022-05-10T10:51:54.949Z"
   },
   {
    "duration": 0,
    "start_time": "2022-05-10T10:51:55.178Z"
   },
   {
    "duration": 0,
    "start_time": "2022-05-10T10:51:55.179Z"
   },
   {
    "duration": 0,
    "start_time": "2022-05-10T10:51:55.181Z"
   },
   {
    "duration": 0,
    "start_time": "2022-05-10T10:51:55.183Z"
   },
   {
    "duration": 1244,
    "start_time": "2022-05-10T10:52:48.154Z"
   },
   {
    "duration": 354,
    "start_time": "2022-05-10T10:52:49.402Z"
   },
   {
    "duration": 3,
    "start_time": "2022-05-10T10:52:49.758Z"
   },
   {
    "duration": 40,
    "start_time": "2022-05-10T10:52:49.764Z"
   },
   {
    "duration": 42,
    "start_time": "2022-05-10T10:52:49.806Z"
   },
   {
    "duration": 4,
    "start_time": "2022-05-10T10:52:49.849Z"
   },
   {
    "duration": 721,
    "start_time": "2022-05-10T10:52:49.854Z"
   },
   {
    "duration": 20,
    "start_time": "2022-05-10T10:52:50.577Z"
   },
   {
    "duration": 440,
    "start_time": "2022-05-10T10:52:50.599Z"
   },
   {
    "duration": 17,
    "start_time": "2022-05-10T10:52:51.041Z"
   },
   {
    "duration": 553,
    "start_time": "2022-05-10T10:52:51.060Z"
   },
   {
    "duration": 17,
    "start_time": "2022-05-10T10:52:51.615Z"
   },
   {
    "duration": 138,
    "start_time": "2022-05-10T10:52:51.635Z"
   },
   {
    "duration": 45,
    "start_time": "2022-05-10T10:52:51.776Z"
   },
   {
    "duration": 8,
    "start_time": "2022-05-10T10:52:51.823Z"
   },
   {
    "duration": 8,
    "start_time": "2022-05-10T10:52:51.833Z"
   },
   {
    "duration": 53,
    "start_time": "2022-05-10T10:52:51.843Z"
   },
   {
    "duration": 5,
    "start_time": "2022-05-10T10:52:51.898Z"
   },
   {
    "duration": 412,
    "start_time": "2022-05-10T10:52:51.905Z"
   },
   {
    "duration": 178,
    "start_time": "2022-05-10T10:52:52.319Z"
   },
   {
    "duration": 4,
    "start_time": "2022-05-10T10:52:52.499Z"
   },
   {
    "duration": 6,
    "start_time": "2022-05-10T10:52:52.505Z"
   },
   {
    "duration": 12,
    "start_time": "2022-05-10T10:52:52.514Z"
   },
   {
    "duration": 4,
    "start_time": "2022-05-10T10:52:52.527Z"
   },
   {
    "duration": 6,
    "start_time": "2022-05-10T10:52:52.533Z"
   },
   {
    "duration": 11,
    "start_time": "2022-05-10T10:52:52.541Z"
   },
   {
    "duration": 4107,
    "start_time": "2022-05-10T10:52:52.554Z"
   },
   {
    "duration": 13,
    "start_time": "2022-05-10T10:52:56.665Z"
   },
   {
    "duration": 17,
    "start_time": "2022-05-10T10:52:56.680Z"
   },
   {
    "duration": 14,
    "start_time": "2022-05-10T10:52:56.699Z"
   },
   {
    "duration": 13,
    "start_time": "2022-05-10T10:52:56.715Z"
   },
   {
    "duration": 1312,
    "start_time": "2022-05-10T10:53:59.608Z"
   },
   {
    "duration": 370,
    "start_time": "2022-05-10T10:54:00.922Z"
   },
   {
    "duration": 3,
    "start_time": "2022-05-10T10:54:01.294Z"
   },
   {
    "duration": 62,
    "start_time": "2022-05-10T10:54:01.299Z"
   },
   {
    "duration": 47,
    "start_time": "2022-05-10T10:54:01.363Z"
   },
   {
    "duration": 7,
    "start_time": "2022-05-10T10:54:01.412Z"
   },
   {
    "duration": 755,
    "start_time": "2022-05-10T10:54:01.421Z"
   },
   {
    "duration": 21,
    "start_time": "2022-05-10T10:54:02.178Z"
   },
   {
    "duration": 441,
    "start_time": "2022-05-10T10:54:02.201Z"
   },
   {
    "duration": 17,
    "start_time": "2022-05-10T10:54:02.645Z"
   },
   {
    "duration": 544,
    "start_time": "2022-05-10T10:54:02.664Z"
   },
   {
    "duration": 16,
    "start_time": "2022-05-10T10:54:03.210Z"
   },
   {
    "duration": 142,
    "start_time": "2022-05-10T10:54:03.228Z"
   },
   {
    "duration": 51,
    "start_time": "2022-05-10T10:54:03.372Z"
   },
   {
    "duration": 9,
    "start_time": "2022-05-10T10:54:03.425Z"
   },
   {
    "duration": 10,
    "start_time": "2022-05-10T10:54:03.436Z"
   },
   {
    "duration": 51,
    "start_time": "2022-05-10T10:54:03.448Z"
   },
   {
    "duration": 6,
    "start_time": "2022-05-10T10:54:03.501Z"
   },
   {
    "duration": 488,
    "start_time": "2022-05-10T10:54:03.509Z"
   },
   {
    "duration": 100,
    "start_time": "2022-05-10T10:54:03.999Z"
   },
   {
    "duration": 9,
    "start_time": "2022-05-10T10:54:04.101Z"
   },
   {
    "duration": 15,
    "start_time": "2022-05-10T10:54:04.112Z"
   },
   {
    "duration": 20,
    "start_time": "2022-05-10T10:54:04.129Z"
   },
   {
    "duration": 5,
    "start_time": "2022-05-10T10:54:04.151Z"
   },
   {
    "duration": 9,
    "start_time": "2022-05-10T10:54:04.158Z"
   },
   {
    "duration": 13,
    "start_time": "2022-05-10T10:54:04.169Z"
   },
   {
    "duration": 130,
    "start_time": "2022-05-10T10:54:04.183Z"
   },
   {
    "duration": 0,
    "start_time": "2022-05-10T10:54:04.315Z"
   },
   {
    "duration": 0,
    "start_time": "2022-05-10T10:54:04.317Z"
   },
   {
    "duration": 0,
    "start_time": "2022-05-10T10:54:04.318Z"
   },
   {
    "duration": 0,
    "start_time": "2022-05-10T10:54:04.319Z"
   },
   {
    "duration": 449,
    "start_time": "2022-05-10T10:55:37.559Z"
   },
   {
    "duration": 1219,
    "start_time": "2022-05-10T10:55:47.102Z"
   },
   {
    "duration": 355,
    "start_time": "2022-05-10T10:55:48.323Z"
   },
   {
    "duration": 2,
    "start_time": "2022-05-10T10:55:48.680Z"
   },
   {
    "duration": 36,
    "start_time": "2022-05-10T10:55:48.685Z"
   },
   {
    "duration": 42,
    "start_time": "2022-05-10T10:55:48.723Z"
   },
   {
    "duration": 30,
    "start_time": "2022-05-10T10:55:48.766Z"
   },
   {
    "duration": 756,
    "start_time": "2022-05-10T10:55:48.798Z"
   },
   {
    "duration": 18,
    "start_time": "2022-05-10T10:55:49.556Z"
   },
   {
    "duration": 442,
    "start_time": "2022-05-10T10:55:49.593Z"
   },
   {
    "duration": 16,
    "start_time": "2022-05-10T10:55:50.038Z"
   },
   {
    "duration": 583,
    "start_time": "2022-05-10T10:55:50.056Z"
   },
   {
    "duration": 18,
    "start_time": "2022-05-10T10:55:50.642Z"
   },
   {
    "duration": 155,
    "start_time": "2022-05-10T10:55:50.662Z"
   },
   {
    "duration": 48,
    "start_time": "2022-05-10T10:55:50.819Z"
   },
   {
    "duration": 25,
    "start_time": "2022-05-10T10:55:50.869Z"
   },
   {
    "duration": 8,
    "start_time": "2022-05-10T10:55:50.896Z"
   },
   {
    "duration": 34,
    "start_time": "2022-05-10T10:55:50.906Z"
   },
   {
    "duration": 6,
    "start_time": "2022-05-10T10:55:50.942Z"
   },
   {
    "duration": 466,
    "start_time": "2022-05-10T10:55:50.951Z"
   },
   {
    "duration": 103,
    "start_time": "2022-05-10T10:55:51.493Z"
   },
   {
    "duration": 4,
    "start_time": "2022-05-10T10:55:51.598Z"
   },
   {
    "duration": 10,
    "start_time": "2022-05-10T10:55:51.604Z"
   },
   {
    "duration": 12,
    "start_time": "2022-05-10T10:55:51.616Z"
   },
   {
    "duration": 4,
    "start_time": "2022-05-10T10:55:51.630Z"
   },
   {
    "duration": 16,
    "start_time": "2022-05-10T10:55:51.635Z"
   },
   {
    "duration": 18,
    "start_time": "2022-05-10T10:55:51.652Z"
   },
   {
    "duration": 141,
    "start_time": "2022-05-10T10:55:51.672Z"
   },
   {
    "duration": 0,
    "start_time": "2022-05-10T10:55:51.815Z"
   },
   {
    "duration": 0,
    "start_time": "2022-05-10T10:55:51.817Z"
   },
   {
    "duration": 0,
    "start_time": "2022-05-10T10:55:51.818Z"
   },
   {
    "duration": 0,
    "start_time": "2022-05-10T10:55:51.820Z"
   },
   {
    "duration": 1254,
    "start_time": "2022-05-10T10:56:33.860Z"
   },
   {
    "duration": 364,
    "start_time": "2022-05-10T10:56:35.116Z"
   },
   {
    "duration": 3,
    "start_time": "2022-05-10T10:56:35.482Z"
   },
   {
    "duration": 40,
    "start_time": "2022-05-10T10:56:35.487Z"
   },
   {
    "duration": 42,
    "start_time": "2022-05-10T10:56:35.529Z"
   },
   {
    "duration": 22,
    "start_time": "2022-05-10T10:56:35.572Z"
   },
   {
    "duration": 702,
    "start_time": "2022-05-10T10:56:35.596Z"
   },
   {
    "duration": 17,
    "start_time": "2022-05-10T10:56:36.300Z"
   },
   {
    "duration": 443,
    "start_time": "2022-05-10T10:56:36.319Z"
   },
   {
    "duration": 28,
    "start_time": "2022-05-10T10:56:36.765Z"
   },
   {
    "duration": 515,
    "start_time": "2022-05-10T10:56:36.794Z"
   },
   {
    "duration": 15,
    "start_time": "2022-05-10T10:56:37.311Z"
   },
   {
    "duration": 141,
    "start_time": "2022-05-10T10:56:37.328Z"
   },
   {
    "duration": 50,
    "start_time": "2022-05-10T10:56:37.471Z"
   },
   {
    "duration": 9,
    "start_time": "2022-05-10T10:56:37.523Z"
   },
   {
    "duration": 9,
    "start_time": "2022-05-10T10:56:37.534Z"
   },
   {
    "duration": 48,
    "start_time": "2022-05-10T10:56:37.545Z"
   },
   {
    "duration": 5,
    "start_time": "2022-05-10T10:56:37.595Z"
   },
   {
    "duration": 415,
    "start_time": "2022-05-10T10:56:37.602Z"
   },
   {
    "duration": 102,
    "start_time": "2022-05-10T10:56:38.095Z"
   },
   {
    "duration": 7,
    "start_time": "2022-05-10T10:56:38.198Z"
   },
   {
    "duration": 9,
    "start_time": "2022-05-10T10:56:38.207Z"
   },
   {
    "duration": 10,
    "start_time": "2022-05-10T10:56:38.218Z"
   },
   {
    "duration": 7,
    "start_time": "2022-05-10T10:56:38.230Z"
   },
   {
    "duration": 11,
    "start_time": "2022-05-10T10:56:38.239Z"
   },
   {
    "duration": 11,
    "start_time": "2022-05-10T10:56:38.252Z"
   },
   {
    "duration": 133,
    "start_time": "2022-05-10T10:56:38.265Z"
   },
   {
    "duration": 0,
    "start_time": "2022-05-10T10:56:38.400Z"
   },
   {
    "duration": 0,
    "start_time": "2022-05-10T10:56:38.401Z"
   },
   {
    "duration": 0,
    "start_time": "2022-05-10T10:56:38.402Z"
   },
   {
    "duration": 0,
    "start_time": "2022-05-10T10:56:38.403Z"
   },
   {
    "duration": 11,
    "start_time": "2022-05-10T10:58:08.118Z"
   },
   {
    "duration": 6,
    "start_time": "2022-05-10T10:58:15.416Z"
   },
   {
    "duration": 5,
    "start_time": "2022-05-10T10:58:27.081Z"
   },
   {
    "duration": 6,
    "start_time": "2022-05-10T10:58:36.770Z"
   },
   {
    "duration": 7,
    "start_time": "2022-05-10T10:58:49.249Z"
   },
   {
    "duration": 1229,
    "start_time": "2022-05-10T10:59:54.596Z"
   },
   {
    "duration": 359,
    "start_time": "2022-05-10T10:59:55.827Z"
   },
   {
    "duration": 5,
    "start_time": "2022-05-10T10:59:56.188Z"
   },
   {
    "duration": 38,
    "start_time": "2022-05-10T10:59:56.195Z"
   },
   {
    "duration": 69,
    "start_time": "2022-05-10T10:59:56.234Z"
   },
   {
    "duration": 4,
    "start_time": "2022-05-10T10:59:56.305Z"
   },
   {
    "duration": 722,
    "start_time": "2022-05-10T10:59:56.311Z"
   },
   {
    "duration": 16,
    "start_time": "2022-05-10T10:59:57.035Z"
   },
   {
    "duration": 424,
    "start_time": "2022-05-10T10:59:57.052Z"
   },
   {
    "duration": 23,
    "start_time": "2022-05-10T10:59:57.479Z"
   },
   {
    "duration": 520,
    "start_time": "2022-05-10T10:59:57.504Z"
   },
   {
    "duration": 17,
    "start_time": "2022-05-10T10:59:58.026Z"
   },
   {
    "duration": 143,
    "start_time": "2022-05-10T10:59:58.045Z"
   },
   {
    "duration": 44,
    "start_time": "2022-05-10T10:59:58.189Z"
   },
   {
    "duration": 9,
    "start_time": "2022-05-10T10:59:58.234Z"
   },
   {
    "duration": 12,
    "start_time": "2022-05-10T10:59:58.245Z"
   },
   {
    "duration": 46,
    "start_time": "2022-05-10T10:59:58.259Z"
   },
   {
    "duration": 6,
    "start_time": "2022-05-10T10:59:58.307Z"
   },
   {
    "duration": 398,
    "start_time": "2022-05-10T10:59:58.314Z"
   },
   {
    "duration": 100,
    "start_time": "2022-05-10T10:59:58.799Z"
   },
   {
    "duration": 12,
    "start_time": "2022-05-10T10:59:58.901Z"
   },
   {
    "duration": 5,
    "start_time": "2022-05-10T10:59:58.915Z"
   },
   {
    "duration": 14,
    "start_time": "2022-05-10T10:59:58.922Z"
   },
   {
    "duration": 6,
    "start_time": "2022-05-10T10:59:58.938Z"
   },
   {
    "duration": 24,
    "start_time": "2022-05-10T10:59:58.945Z"
   },
   {
    "duration": 16,
    "start_time": "2022-05-10T10:59:58.971Z"
   },
   {
    "duration": 3760,
    "start_time": "2022-05-10T10:59:58.989Z"
   },
   {
    "duration": 9,
    "start_time": "2022-05-10T11:00:02.753Z"
   },
   {
    "duration": 15,
    "start_time": "2022-05-10T11:00:02.764Z"
   },
   {
    "duration": 40,
    "start_time": "2022-05-10T11:00:02.781Z"
   },
   {
    "duration": 111,
    "start_time": "2022-05-10T11:00:02.823Z"
   }
  ],
  "kernelspec": {
   "display_name": "Python 3 (ipykernel)",
   "language": "python",
   "name": "python3"
  },
  "language_info": {
   "codemirror_mode": {
    "name": "ipython",
    "version": 3
   },
   "file_extension": ".py",
   "mimetype": "text/x-python",
   "name": "python",
   "nbconvert_exporter": "python",
   "pygments_lexer": "ipython3",
   "version": "3.9.13"
  },
  "toc": {
   "base_numbering": 1,
   "nav_menu": {},
   "number_sections": true,
   "sideBar": true,
   "skip_h1_title": true,
   "title_cell": "Table of Contents",
   "title_sidebar": "Contents",
   "toc_cell": false,
   "toc_position": {
    "height": "calc(100% - 180px)",
    "left": "10px",
    "top": "150px",
    "width": "281.438px"
   },
   "toc_section_display": true,
   "toc_window_display": false
  },
  "toc-autonumbering": true
 },
 "nbformat": 4,
 "nbformat_minor": 4
}
