{
 "cells": [
  {
   "cell_type": "markdown",
   "metadata": {
    "toc": true
   },
   "source": [
    "<h1>Содержание<span class=\"tocSkip\"></span></h1>\n",
    "<div class=\"toc\"><ul class=\"toc-item\"><li><span><a href=\"#I.-Обзор-и-обработка-данных\" data-toc-modified-id=\"I.-Обзор-и-обработка-данных-1\"><span class=\"toc-item-num\">1&nbsp;&nbsp;</span><strong>I. Обзор и обработка данных</strong></a></span><ul class=\"toc-item\"><li><span><a href=\"#1.-Первичный-обзор\" data-toc-modified-id=\"1.-Первичный-обзор-1.1\"><span class=\"toc-item-num\">1.1&nbsp;&nbsp;</span>1. Первичный обзор</a></span></li><li><span><a href=\"#2.-Лемматизация-текста\" data-toc-modified-id=\"2.-Лемматизация-текста-1.2\"><span class=\"toc-item-num\">1.2&nbsp;&nbsp;</span>2. Лемматизация текста</a></span></li><li><span><a href=\"#Выводы\" data-toc-modified-id=\"Выводы-1.3\"><span class=\"toc-item-num\">1.3&nbsp;&nbsp;</span><strong>Выводы</strong></a></span></li></ul></li><li><span><a href=\"#II.-Сплит-данных-на-выборки\" data-toc-modified-id=\"II.-Сплит-данных-на-выборки-2\"><span class=\"toc-item-num\">2&nbsp;&nbsp;</span><strong>II. Сплит данных на выборки</strong></a></span><ul class=\"toc-item\"><li><span><a href=\"#Выводы\" data-toc-modified-id=\"Выводы-2.1\"><span class=\"toc-item-num\">2.1&nbsp;&nbsp;</span><strong>Выводы</strong></a></span></li></ul></li><li><span><a href=\"#III.-Построение-моделей\" data-toc-modified-id=\"III.-Построение-моделей-3\"><span class=\"toc-item-num\">3&nbsp;&nbsp;</span><strong>III. Построение моделей</strong></a></span><ul class=\"toc-item\"><li><span><a href=\"#1.-Модель-«Случайный-лес»\" data-toc-modified-id=\"1.-Модель-«Случайный-лес»-3.1\"><span class=\"toc-item-num\">3.1&nbsp;&nbsp;</span>1. Модель «Случайный лес»</a></span></li><li><span><a href=\"#2.-Модель-«Логистическая-регрессия»\" data-toc-modified-id=\"2.-Модель-«Логистическая-регрессия»-3.2\"><span class=\"toc-item-num\">3.2&nbsp;&nbsp;</span>2. Модель «Логистическая регрессия»</a></span></li><li><span><a href=\"#3.-Модель-LightGBM\" data-toc-modified-id=\"3.-Модель-LightGBM-3.3\"><span class=\"toc-item-num\">3.3&nbsp;&nbsp;</span>3. Модель LightGBM</a></span></li><li><span><a href=\"#4.-Модель-XGBoost\" data-toc-modified-id=\"4.-Модель-XGBoost-3.4\"><span class=\"toc-item-num\">3.4&nbsp;&nbsp;</span>4. Модель XGBoost</a></span></li><li><span><a href=\"#Выводы\" data-toc-modified-id=\"Выводы-3.5\"><span class=\"toc-item-num\">3.5&nbsp;&nbsp;</span>Выводы</a></span></li></ul></li><li><span><a href=\"#III.-Проверка-моделей-на-тестовой-выборке\" data-toc-modified-id=\"III.-Проверка-моделей-на-тестовой-выборке-4\"><span class=\"toc-item-num\">4&nbsp;&nbsp;</span><strong>III. Проверка моделей на тестовой выборке</strong></a></span><ul class=\"toc-item\"><li><span><a href=\"#Выводы\" data-toc-modified-id=\"Выводы-4.1\"><span class=\"toc-item-num\">4.1&nbsp;&nbsp;</span>Выводы</a></span></li></ul></li><li><span><a href=\"#IV.-Проверка-моделей-на-вменяемость\" data-toc-modified-id=\"IV.-Проверка-моделей-на-вменяемость-5\"><span class=\"toc-item-num\">5&nbsp;&nbsp;</span><strong>IV. Проверка моделей на вменяемость</strong></a></span></li><li><span><a href=\"#V.-Итоги-исследования\" data-toc-modified-id=\"V.-Итоги-исследования-6\"><span class=\"toc-item-num\">6&nbsp;&nbsp;</span><strong>V. Итоги исследования</strong></a></span><ul class=\"toc-item\"><li><span><a href=\"#Выводы\" data-toc-modified-id=\"Выводы-6.1\"><span class=\"toc-item-num\">6.1&nbsp;&nbsp;</span><strong>Выводы</strong></a></span></li></ul></li></ul></div>"
   ]
  },
  {
   "cell_type": "code",
   "execution_count": 2,
   "metadata": {},
   "outputs": [],
   "source": [
    "#pip list"
   ]
  },
  {
   "cell_type": "code",
   "execution_count": 1,
   "metadata": {
    "scrolled": true
   },
   "outputs": [
    {
     "name": "stdout",
     "output_type": "stream",
     "text": [
      "Collecting hyperopt\n",
      "  Downloading hyperopt-0.2.7-py2.py3-none-any.whl (1.6 MB)\n",
      "\u001b[K     |████████████████████████████████| 1.6 MB 1.2 MB/s eta 0:00:01\n",
      "\u001b[?25hRequirement already satisfied: scipy in /opt/conda/lib/python3.9/site-packages (from hyperopt) (1.8.0)\n",
      "Collecting networkx>=2.2\n",
      "  Downloading networkx-2.8.4-py3-none-any.whl (2.0 MB)\n",
      "\u001b[K     |████████████████████████████████| 2.0 MB 80.0 MB/s eta 0:00:01\n",
      "\u001b[?25hCollecting future\n",
      "  Downloading future-0.18.2.tar.gz (829 kB)\n",
      "\u001b[K     |████████████████████████████████| 829 kB 60.0 MB/s eta 0:00:01\n",
      "\u001b[?25hCollecting cloudpickle\n",
      "  Downloading cloudpickle-2.1.0-py3-none-any.whl (25 kB)\n",
      "Requirement already satisfied: numpy in /opt/conda/lib/python3.9/site-packages (from hyperopt) (1.21.1)\n",
      "Requirement already satisfied: py4j in /opt/conda/lib/python3.9/site-packages (from hyperopt) (0.10.9.3)\n",
      "Requirement already satisfied: tqdm in /opt/conda/lib/python3.9/site-packages (from hyperopt) (4.61.2)\n",
      "Requirement already satisfied: six in /opt/conda/lib/python3.9/site-packages (from hyperopt) (1.16.0)\n",
      "Building wheels for collected packages: future\n",
      "  Building wheel for future (setup.py) ... \u001b[?25ldone\n",
      "\u001b[?25h  Created wheel for future: filename=future-0.18.2-py3-none-any.whl size=491059 sha256=976534e2ae2b965a1af020dab785d735448bfe6ca9ed1ed672974d77677fc784\n",
      "  Stored in directory: /home/jovyan/.cache/pip/wheels/2f/a0/d3/4030d9f80e6b3be787f19fc911b8e7aa462986a40ab1e4bb94\n",
      "Successfully built future\n",
      "Installing collected packages: networkx, future, cloudpickle, hyperopt\n",
      "Successfully installed cloudpickle-2.1.0 future-0.18.2 hyperopt-0.2.7 networkx-2.8.4\n"
     ]
    }
   ],
   "source": [
    "#!pip3 install -U spacy\n",
    "#!pip3 install -U spacy-lookups-data\n",
    "#!python3 -m spacy download en_core_web_sm\n",
    "# !pip install hyperopt\n",
    "#!pip install xgboost"
   ]
  },
  {
   "cell_type": "code",
   "execution_count": 3,
   "metadata": {},
   "outputs": [
    {
     "name": "stderr",
     "output_type": "stream",
     "text": [
      "[nltk_data] Downloading package stopwords to /home/jovyan/nltk_data...\n",
      "[nltk_data]   Unzipping corpora/stopwords.zip.\n"
     ]
    }
   ],
   "source": [
    "import os\n",
    "import re\n",
    "import time\n",
    "import warnings\n",
    "warnings.filterwarnings('ignore')\n",
    "import math\n",
    "\n",
    "from tqdm.auto import tqdm\n",
    "tqdm.pandas()\n",
    "\n",
    "import pandas as pd\n",
    "import numpy as np\n",
    "\n",
    "import spacy\n",
    "disabled_pipes = [ \"parser\",  \"ner\"]\n",
    "nlp = spacy.load('en_core_web_sm', disable=disabled_pipes)\n",
    "\n",
    "import nltk\n",
    "from nltk.corpus import stopwords as nltk_stopwords\n",
    "nltk.download('stopwords')\n",
    "stop_words = set(nltk_stopwords.words('english'))\n",
    "\n",
    "from sklearn.feature_extraction.text import TfidfVectorizer\n",
    "from sklearn.model_selection import train_test_split, cross_val_score, GridSearchCV\n",
    "from sklearn.metrics import f1_score\n",
    "from sklearn.utils import shuffle\n",
    "\n",
    "from hyperopt import hp, fmin, tpe, STATUS_OK, Trials\n",
    "\n",
    "from sklearn.ensemble import RandomForestClassifier\n",
    "from sklearn.linear_model import LogisticRegression\n",
    "from lightgbm import LGBMClassifier\n",
    "import xgboost as xgb\n",
    "from sklearn.dummy import DummyClassifier"
   ]
  },
  {
   "cell_type": "markdown",
   "metadata": {},
   "source": [
    "# Проект для «Викишоп»"
   ]
  },
  {
   "cell_type": "markdown",
   "metadata": {},
   "source": [
    "**Заказчик** — интернет-магазин «Викишоп».\n",
    "\n",
    "**Цель исследования**:\n",
    "1. Построить систему, способную давать оценку эмоциональной окраске предлагаемого клиентом комментария.\n",
    "\n",
    "**Поставленные задачи**\n",
    "1. Изучить предоставленные данные и подготовить их для обучения моделей.\n",
    "2. Обучить разные модели и найти лучшую с предельно высоким значением F1-меры. Минимальный показатель метрики **желательно** 0.75.\n",
    "3. Проверить качество выбранной модели на тестовой выборке.\n",
    "\n",
    "**Дальнейшее использование**\n",
    "\n",
    "Результаты исследования будут использоваться в дальнейшем при модерации токсичных комментариев, добавляемых к описанию товаров, и для допуска к их публикации.\n",
    "\n",
    "**Дополнительно предоставленная инфомарция**\n",
    "\n",
    "- Имеется набор данных с разметкой о токсичности правок.\n",
    "- Ключевые показатели моделей:\n",
    "    * качество предсказания;\n",
    "    * скорость предсказания;\n",
    "    * время обучения.\n",
    "- Модель будет строиться без использоватья `BERT` из-за ограниченных возможностей Jupyter Notebook в 4 Гб оперативной памяти."
   ]
  },
  {
   "cell_type": "markdown",
   "metadata": {},
   "source": [
    "## **I. Обзор и обработка данных**"
   ]
  },
  {
   "cell_type": "markdown",
   "metadata": {},
   "source": [
    "### 1. Первичный обзор\n",
    "Сначала составим представление о полученных исходных данных.\n",
    "\n",
    "Прочитаем файл `toxic_comments.csv` из папки `/datasets/` и сохраним его в переменной `df`:"
   ]
  },
  {
   "cell_type": "code",
   "execution_count": 4,
   "metadata": {},
   "outputs": [],
   "source": [
    "pth1 = 'D:/Programs/Jupyter_projects/datasets/toxic_comments.csv'\n",
    "pth2 = '/datasets/toxic_comments.csv'\n",
    "\n",
    "if os.path.exists(pth1):\n",
    "    df = pd.read_csv(pth1)\n",
    "elif os.path.exists(pth2):\n",
    "    df = pd.read_csv(pth2)\n",
    "else:\n",
    "    print('Something is wrong')"
   ]
  },
  {
   "cell_type": "markdown",
   "metadata": {},
   "source": [
    "Выведем на экран первые пять строк таблицы и получим общую информацию:"
   ]
  },
  {
   "cell_type": "code",
   "execution_count": 5,
   "metadata": {},
   "outputs": [
    {
     "data": {
      "text/html": [
       "<div>\n",
       "<style scoped>\n",
       "    .dataframe tbody tr th:only-of-type {\n",
       "        vertical-align: middle;\n",
       "    }\n",
       "\n",
       "    .dataframe tbody tr th {\n",
       "        vertical-align: top;\n",
       "    }\n",
       "\n",
       "    .dataframe thead th {\n",
       "        text-align: right;\n",
       "    }\n",
       "</style>\n",
       "<table border=\"1\" class=\"dataframe\">\n",
       "  <thead>\n",
       "    <tr style=\"text-align: right;\">\n",
       "      <th></th>\n",
       "      <th>text</th>\n",
       "      <th>toxic</th>\n",
       "    </tr>\n",
       "  </thead>\n",
       "  <tbody>\n",
       "    <tr>\n",
       "      <th>0</th>\n",
       "      <td>Explanation\\nWhy the edits made under my usern...</td>\n",
       "      <td>0</td>\n",
       "    </tr>\n",
       "    <tr>\n",
       "      <th>1</th>\n",
       "      <td>D'aww! He matches this background colour I'm s...</td>\n",
       "      <td>0</td>\n",
       "    </tr>\n",
       "    <tr>\n",
       "      <th>2</th>\n",
       "      <td>Hey man, I'm really not trying to edit war. It...</td>\n",
       "      <td>0</td>\n",
       "    </tr>\n",
       "    <tr>\n",
       "      <th>3</th>\n",
       "      <td>\"\\nMore\\nI can't make any real suggestions on ...</td>\n",
       "      <td>0</td>\n",
       "    </tr>\n",
       "    <tr>\n",
       "      <th>4</th>\n",
       "      <td>You, sir, are my hero. Any chance you remember...</td>\n",
       "      <td>0</td>\n",
       "    </tr>\n",
       "  </tbody>\n",
       "</table>\n",
       "</div>"
      ],
      "text/plain": [
       "                                                text  toxic\n",
       "0  Explanation\\nWhy the edits made under my usern...      0\n",
       "1  D'aww! He matches this background colour I'm s...      0\n",
       "2  Hey man, I'm really not trying to edit war. It...      0\n",
       "3  \"\\nMore\\nI can't make any real suggestions on ...      0\n",
       "4  You, sir, are my hero. Any chance you remember...      0"
      ]
     },
     "execution_count": 5,
     "metadata": {},
     "output_type": "execute_result"
    }
   ],
   "source": [
    "df.head()"
   ]
  },
  {
   "cell_type": "code",
   "execution_count": 6,
   "metadata": {},
   "outputs": [
    {
     "name": "stdout",
     "output_type": "stream",
     "text": [
      "<class 'pandas.core.frame.DataFrame'>\n",
      "RangeIndex: 159571 entries, 0 to 159570\n",
      "Data columns (total 2 columns):\n",
      " #   Column  Non-Null Count   Dtype \n",
      "---  ------  --------------   ----- \n",
      " 0   text    159571 non-null  object\n",
      " 1   toxic   159571 non-null  int64 \n",
      "dtypes: int64(1), object(1)\n",
      "memory usage: 2.4+ MB\n"
     ]
    }
   ],
   "source": [
    "df.info()"
   ]
  },
  {
   "cell_type": "markdown",
   "metadata": {},
   "source": [
    "Итак, в таблице 2 столбца. Типы данных в столбцах — объекты (строки) `object` и целые числа `int64`.\n",
    "\n",
    "Согласно документации к данным:\n",
    "\n",
    "* `text` — текст оставленного комментария\n",
    "* `toxic` — эмоциональная оценка: отрицательная - 1 (токсичный комментарий), положительная - 0 (нейтральный/положительный)\n",
    "\n",
    "Количество значений в столбцах соотнесены полностью. Значит, в данных нет **пропущенных значений**."
   ]
  },
  {
   "cell_type": "markdown",
   "metadata": {},
   "source": [
    "### 2. Лемматизация текста"
   ]
  },
  {
   "cell_type": "markdown",
   "metadata": {},
   "source": [
    "Выведем размер классов"
   ]
  },
  {
   "cell_type": "code",
   "execution_count": 7,
   "metadata": {},
   "outputs": [
    {
     "data": {
      "text/plain": [
       "0    143346\n",
       "1     16225\n",
       "Name: toxic, dtype: int64"
      ]
     },
     "execution_count": 7,
     "metadata": {},
     "output_type": "execute_result"
    }
   ],
   "source": [
    "df['toxic'].value_counts()"
   ]
  },
  {
   "cell_type": "markdown",
   "metadata": {},
   "source": [
    "Видно, что классы перекошены, соответственно будем их в дальнейшем балансировать."
   ]
  },
  {
   "cell_type": "markdown",
   "metadata": {},
   "source": [
    "Напишем две функции: очистки текста от пунктуации и лишних знаков (для ускорения лемматизации) и для поиска лемм"
   ]
  },
  {
   "cell_type": "code",
   "execution_count": 8,
   "metadata": {
    "scrolled": true
   },
   "outputs": [],
   "source": [
    "# лемматизация с помощью библиотеки SpaCy\n",
    "def lemmatize(text):\n",
    "    doc = nlp(text)\n",
    "    lemm_list = []\n",
    "    \n",
    "    for token in doc:\n",
    "        lemm_list.append(token.lemma_)\n",
    "    lemm_text = \" \".join(lemm_list)\n",
    "    \n",
    "    return lemm_text\n",
    "\n",
    "\n",
    "# очистка текста\n",
    "def clear_text(text):\n",
    "    text = text.lower()\n",
    "    text = re.sub(r\"what's\", \"what is \", text)\n",
    "    text = re.sub(r\"\\'s\", \" \", text)\n",
    "    text = re.sub(r\"\\'ve\", \" have \", text)\n",
    "    text = re.sub(r\"can't\", \"cannot \", text)\n",
    "    text = re.sub(r\"n't\", \" not \", text)\n",
    "    text = re.sub(r\"i'm\", \"i am \", text)\n",
    "    text = re.sub(r\"\\'re\", \" are \", text)\n",
    "    text = re.sub(r\"\\'d\", \" would \", text)\n",
    "    text = re.sub(r\"\\'ll\", \" will \", text)\n",
    "    text = re.sub(r\"\\'scuse\", \" excuse \", text)\n",
    "    text = re.sub('\\W', ' ', text)\n",
    "    text = re.sub('\\s+', ' ', text)\n",
    "    text = text.strip(' ')\n",
    "    \n",
    "    \n",
    "    return ' '.join(re.sub(r'([^a-zA-Z ])()', ' ', text).split())"
   ]
  },
  {
   "cell_type": "markdown",
   "metadata": {},
   "source": [
    "Применим написанные функции к части исходного датафрейма для создания столбца с очищенным текстом и с леммами"
   ]
  },
  {
   "cell_type": "code",
   "execution_count": 9,
   "metadata": {},
   "outputs": [
    {
     "data": {
      "application/vnd.jupyter.widget-view+json": {
       "model_id": "3825ac0efaa44ed3a5024ee7587d9785",
       "version_major": 2,
       "version_minor": 0
      },
      "text/plain": [
       "  0%|          | 0/159571 [00:00<?, ?it/s]"
      ]
     },
     "metadata": {},
     "output_type": "display_data"
    },
    {
     "data": {
      "text/html": [
       "<div>\n",
       "<style scoped>\n",
       "    .dataframe tbody tr th:only-of-type {\n",
       "        vertical-align: middle;\n",
       "    }\n",
       "\n",
       "    .dataframe tbody tr th {\n",
       "        vertical-align: top;\n",
       "    }\n",
       "\n",
       "    .dataframe thead th {\n",
       "        text-align: right;\n",
       "    }\n",
       "</style>\n",
       "<table border=\"1\" class=\"dataframe\">\n",
       "  <thead>\n",
       "    <tr style=\"text-align: right;\">\n",
       "      <th></th>\n",
       "      <th>text</th>\n",
       "      <th>toxic</th>\n",
       "      <th>text_clear</th>\n",
       "      <th>text_lemm</th>\n",
       "    </tr>\n",
       "  </thead>\n",
       "  <tbody>\n",
       "    <tr>\n",
       "      <th>0</th>\n",
       "      <td>Explanation\\nWhy the edits made under my usern...</td>\n",
       "      <td>0</td>\n",
       "      <td>explanation why the edits made under my userna...</td>\n",
       "      <td>explanation why the edit make under my usernam...</td>\n",
       "    </tr>\n",
       "    <tr>\n",
       "      <th>1</th>\n",
       "      <td>D'aww! He matches this background colour I'm s...</td>\n",
       "      <td>0</td>\n",
       "      <td>d aww he matches this background colour i am s...</td>\n",
       "      <td>d aww he match this background colour I be see...</td>\n",
       "    </tr>\n",
       "    <tr>\n",
       "      <th>2</th>\n",
       "      <td>Hey man, I'm really not trying to edit war. It...</td>\n",
       "      <td>0</td>\n",
       "      <td>hey man i am really not trying to edit war it ...</td>\n",
       "      <td>hey man I be really not try to edit war it jus...</td>\n",
       "    </tr>\n",
       "  </tbody>\n",
       "</table>\n",
       "</div>"
      ],
      "text/plain": [
       "                                                text  toxic  \\\n",
       "0  Explanation\\nWhy the edits made under my usern...      0   \n",
       "1  D'aww! He matches this background colour I'm s...      0   \n",
       "2  Hey man, I'm really not trying to edit war. It...      0   \n",
       "\n",
       "                                          text_clear  \\\n",
       "0  explanation why the edits made under my userna...   \n",
       "1  d aww he matches this background colour i am s...   \n",
       "2  hey man i am really not trying to edit war it ...   \n",
       "\n",
       "                                           text_lemm  \n",
       "0  explanation why the edit make under my usernam...  \n",
       "1  d aww he match this background colour I be see...  \n",
       "2  hey man I be really not try to edit war it jus...  "
      ]
     },
     "execution_count": 9,
     "metadata": {},
     "output_type": "execute_result"
    }
   ],
   "source": [
    "df['text_clear'] = df['text'].map(lambda x: clear_text(x))\n",
    "\n",
    "df['text_lemm'] = df['text_clear'].progress_apply(lemmatize)\n",
    "\n",
    "df.head(3)"
   ]
  },
  {
   "cell_type": "markdown",
   "metadata": {},
   "source": [
    "### **Выводы**\n",
    "\n",
    "Каждый объект в наборе данных — уникальный комментарий пользователя сайта, оставленный в качестве описания к товару. \n",
    "В ходе подготовки данных текстовая часть была почищена и лемматизирована для анализа и обучения."
   ]
  },
  {
   "cell_type": "markdown",
   "metadata": {},
   "source": [
    "## **II. Сплит данных на выборки**"
   ]
  },
  {
   "cell_type": "markdown",
   "metadata": {},
   "source": [
    "Предоставленные данные представляют собой один единый датафрейм, разделения на обучающую, тестовую и валидационную выборки у нас сейчас нет. Поэтому выполним это сейчас с помощью алгоритма `train_test_split`."
   ]
  },
  {
   "cell_type": "markdown",
   "metadata": {},
   "source": [
    "Целевой признак - токсичность комментария"
   ]
  },
  {
   "cell_type": "code",
   "execution_count": 10,
   "metadata": {},
   "outputs": [],
   "source": [
    "features = df.drop('toxic', axis = 1)\n",
    "target = df['toxic']"
   ]
  },
  {
   "cell_type": "code",
   "execution_count": 11,
   "metadata": {},
   "outputs": [],
   "source": [
    "features_train, features_test, target_train, target_test = train_test_split(\n",
    "    features, target, test_size = 0.2, random_state=123456)"
   ]
  },
  {
   "cell_type": "markdown",
   "metadata": {},
   "source": [
    "Преобразуем выборки в корпусы"
   ]
  },
  {
   "cell_type": "code",
   "execution_count": 12,
   "metadata": {},
   "outputs": [],
   "source": [
    "corpus_train = features_train['text_lemm'].values #.astype('U')\n",
    "\n",
    "corpus_test = features_test['text_lemm'].values #.astype('U')"
   ]
  },
  {
   "cell_type": "code",
   "execution_count": 13,
   "metadata": {},
   "outputs": [
    {
     "name": "stdout",
     "output_type": "stream",
     "text": [
      "\u001b[4m\u001b[1m\u001b[31mобучающая выборка\u001b[0m содержит объектов: 127656 (80.0%)\n",
      "\u001b[4m\u001b[1m\u001b[31mтестовая выборка\u001b[0m содержит объектов: 31915 (20.0%)\n"
     ]
    }
   ],
   "source": [
    "# добавим все выборки в словарь\n",
    "arrays = {\n",
    "    'обучающая' : corpus_train,\n",
    "    'тестовая' : corpus_test}\n",
    "\n",
    "# выведем количество содержащихся объектов\n",
    "for array_name, array in arrays.items():\n",
    "    print(\"\\033[4m\\033[1m\\033[31m{}\\033[0m содержит объектов:\".format(f'{array_name} выборка'), \n",
    "          array.shape[0], f'({array.shape[0]/df.shape[0]:.1%})')"
   ]
  },
  {
   "cell_type": "markdown",
   "metadata": {},
   "source": [
    "Создадим матрицы признаков для выборок для дальнейшего определения тональности. В качестве целевого признака укажем определение токсичности комментария"
   ]
  },
  {
   "cell_type": "code",
   "execution_count": 14,
   "metadata": {},
   "outputs": [],
   "source": [
    "# фитим обучающую выборку\n",
    "count_tf_idf = TfidfVectorizer(ngram_range=(1,3), min_df=3, max_df=0.9, use_idf=1,\n",
    "               smooth_idf=1, sublinear_tf=1, stop_words=stop_words) \n",
    "tf_idf_fitted = count_tf_idf.fit(corpus_train)"
   ]
  },
  {
   "cell_type": "code",
   "execution_count": 15,
   "metadata": {},
   "outputs": [
    {
     "name": "stdout",
     "output_type": "stream",
     "text": [
      "Размер обучающей матрицы: (127656, 304588)\n",
      "Размер тестовой матрицы: (31915, 304588)\n"
     ]
    }
   ],
   "source": [
    "# трансформируем\n",
    "tf_idf_train = tf_idf_fitted.transform(corpus_train)\n",
    "print(\"Размер обучающей матрицы:\", tf_idf_train.shape)\n",
    "\n",
    "tf_idf_test = tf_idf_fitted.transform(corpus_test)\n",
    "print(\"Размер тестовой матрицы:\", tf_idf_test.shape)"
   ]
  },
  {
   "cell_type": "markdown",
   "metadata": {},
   "source": [
    "### **Выводы**\n",
    "\n",
    "- Создали две выборки: тестовую и обучающую. Преобразовали их в матрицы на основе TF-IDF для дальнейшего обучения.\n",
    "\n",
    "Также с целью выравнивания баланса классов были испробованы методы:\n",
    "- **взвешивания классов `class_weight = 'balanced'`- вариант, на котором остановился**\n",
    "- увеличения выборки редких значений путем их дублирования `upsample`\n",
    "- уменьшения выборки путем удаления частых значений `downsample` "
   ]
  },
  {
   "cell_type": "markdown",
   "metadata": {},
   "source": [
    "## **III. Построение моделей**"
   ]
  },
  {
   "cell_type": "markdown",
   "metadata": {},
   "source": [
    "### 1. Модель «Случайный лес»"
   ]
  },
  {
   "cell_type": "code",
   "execution_count": 16,
   "metadata": {},
   "outputs": [],
   "source": [
    "space = {'max_depth': hp.choice ('max_depth', np.arange(1, 100+1)),\n",
    "        'n_estimators' : hp.choice ('n_estimators', np.arange(1, 50, dtype=int)),\n",
    "        'min_samples_split' : hp.uniform ('min_samples_split', 0, 1),\n",
    "        }                        \n",
    "                                   \n",
    "def best_par_hyperopt(features_train, target_train):\n",
    "\n",
    "    features_subtrain, features_valid, target_subtrain, target_valid = train_test_split(\n",
    "    features_train, target_train, test_size=0.25, random_state = 12345)  \n",
    "    \n",
    "    def objective(space):\n",
    "        \n",
    "        model_opt = RandomForestClassifier(random_state=12345, \n",
    "                                      max_depth = space['max_depth'], \n",
    "                                      n_estimators = space['n_estimators'],\n",
    "                                      criterion = 'entropy',\n",
    "                                      min_samples_split = space['min_samples_split'],\n",
    "                                      class_weight = 'balanced'\n",
    "                                     )\n",
    "    \n",
    "        model_opt.fit(features_subtrain, target_subtrain)\n",
    "        \n",
    "        predictions = model_opt.predict(features_valid)\n",
    "        accuracy = f1_score(target_valid, predictions)\n",
    "\n",
    "        return {'loss': -accuracy, 'status': STATUS_OK }\n",
    "    \n",
    "    trials = Trials()\n",
    "    best = fmin(fn= objective,\n",
    "            space= space,\n",
    "            algo= tpe.suggest,\n",
    "            max_evals = 100,\n",
    "            trials= trials,\n",
    "            show_progressbar=True)\n",
    "    \n",
    "    print(best)\n",
    "\n",
    "    # засекаем время на обучение лучшей модели\n",
    "    start_time = time.time()\n",
    "    \n",
    "    #лучшую модель будем обучать уже на объединенной обучающей и валидационной\n",
    "    best_model = RandomForestClassifier(random_state=12345, \n",
    "                                        max_depth = best['max_depth'], \n",
    "                                        n_estimators = best['n_estimators'],\n",
    "                                        criterion = 'entropy',\n",
    "                                        min_samples_split = best['min_samples_split'],\n",
    "                                        class_weight = 'balanced'\n",
    "                                       )\n",
    "\n",
    "    best_model.fit(features_subtrain, target_subtrain)\n",
    "        \n",
    "    predictions = best_model.predict(features_valid)\n",
    "    accuracy_best = round(f1_score(target_valid, predictions), 3)\n",
    "     \n",
    "    model_time = round((time.time() - start_time), 5)\n",
    "    \n",
    "    print(f'Время выполнения обучения c с лучшими параметрами составляет {model_time:.3f} секунд')\n",
    "\n",
    "    return best, model_time, accuracy_best, best_model"
   ]
  },
  {
   "cell_type": "code",
   "execution_count": 17,
   "metadata": {},
   "outputs": [
    {
     "name": "stdout",
     "output_type": "stream",
     "text": [
      "100%|██████████| 100/100 [10:42<00:00,  6.43s/trial, best loss: -0.5001015228426395]\n",
      "{'max_depth': 99, 'min_samples_split': 0.0032991330999791, 'n_estimators': 34}\n",
      "Время выполнения обучения c с лучшими параметрами составляет 27.439 секунд\n",
      "Значение F1-меры равно 0.495\n"
     ]
    }
   ],
   "source": [
    "best_forest_param, best_forest_time, best_forest_f1, best_forest_model = (\n",
    "    best_par_hyperopt(tf_idf_train, target_train))\n",
    "print('Значение F1-меры равно', best_forest_f1)"
   ]
  },
  {
   "cell_type": "markdown",
   "metadata": {},
   "source": [
    "### 2. Модель «Логистическая регрессия»"
   ]
  },
  {
   "cell_type": "code",
   "execution_count": 18,
   "metadata": {},
   "outputs": [
    {
     "name": "stdout",
     "output_type": "stream",
     "text": [
      "{'C': 20}\n",
      "0.7622279510067863\n",
      "CPU times: user 5min 14s, sys: 9min 12s, total: 14min 26s\n",
      "Wall time: 14min 27s\n"
     ]
    }
   ],
   "source": [
    "%%time\n",
    "\n",
    "model_LR = LogisticRegression(random_state=12345)\n",
    "\n",
    "params = {'C': [0.1, 5, 10, 15, 20]}\n",
    "\n",
    "g_cv_LR = GridSearchCV(estimator=model_LR, param_grid=params, cv=3, scoring='f1', n_jobs=-1, refit=False)\n",
    "g_cv_LR.fit(tf_idf_train, target_train)\n",
    "\n",
    "model_LR_params_best = g_cv_LR.best_params_\n",
    "best_LR_f1 = g_cv_LR.best_score_\n",
    "\n",
    "print(model_LR_params_best)\n",
    "print(g_cv_LR.best_score_)"
   ]
  },
  {
   "cell_type": "code",
   "execution_count": 32,
   "metadata": {},
   "outputs": [
    {
     "name": "stdout",
     "output_type": "stream",
     "text": [
      "Значение F1-меры равно 0.7874250584681066\n"
     ]
    }
   ],
   "source": [
    "start_time = time.time()\n",
    "model_LR_cv = LogisticRegression(random_state=12345, solver='lbfgs', C=20, class_weight = 'balanced')\n",
    "model_LR_cv.fit(tf_idf_train, target_train)\n",
    "\n",
    "best_LR_cv_f1 = cross_val_score(model_LR_cv, tf_idf_train, target_train, scoring=\"f1\").mean()\n",
    "\n",
    "model_LR_cv_time = round((time.time() - start_time), 5)\n",
    "\n",
    "print('Значение F1-меры равно', best_LR_cv_f1)"
   ]
  },
  {
   "cell_type": "code",
   "execution_count": 24,
   "metadata": {},
   "outputs": [
    {
     "name": "stdout",
     "output_type": "stream",
     "text": [
      "Значение F1-меры равно 0.77861\n"
     ]
    }
   ],
   "source": [
    "start_time = time.time()\n",
    "model_LR_ncv = LogisticRegression(random_state=12345, solver='lbfgs', C=20, class_weight = 'balanced')\n",
    "\n",
    "tf_idf_subtrain, tf_idf_valid, target_subtrain, target_valid = train_test_split(\n",
    "tf_idf_train, target_train, test_size=0.25, random_state = 12345)  \n",
    "\n",
    "model_LR_ncv.fit(tf_idf_subtrain, target_subtrain)\n",
    "predictions_LR_ncv = model_LR_ncv.predict(tf_idf_valid)\n",
    "\n",
    "model_LR_ncv_time = round((time.time() - start_time), 5)\n",
    "\n",
    "best_LR_ncv_f1 = round(f1_score(target_valid, predictions_LR_ncv), 5)\n",
    "print('Значение F1-меры равно', best_LR_ncv_f1)"
   ]
  },
  {
   "cell_type": "code",
   "execution_count": 25,
   "metadata": {},
   "outputs": [
    {
     "name": "stdout",
     "output_type": "stream",
     "text": [
      "F1-мера модели на тестовой выборке: 0.788\n",
      "\n"
     ]
    }
   ],
   "source": [
    "test_predictions_LR_ncv = model_LR_ncv.predict(tf_idf_test)\n",
    "accuracy_test_LR_ncv = round(f1_score(target_test, test_predictions_LR_ncv), 3)\n",
    "    \n",
    "print(f'F1-мера модели на тестовой выборке:', accuracy_test_LR_ncv)\n",
    "print()"
   ]
  },
  {
   "cell_type": "markdown",
   "metadata": {},
   "source": [
    "### 3. Модель LightGBM"
   ]
  },
  {
   "cell_type": "code",
   "execution_count": 26,
   "metadata": {},
   "outputs": [],
   "source": [
    "space = {'max_depth': hp.choice ('max_depth', np.arange(1, 100+1, dtype=int)),\n",
    "        'n_estimators' : hp.choice ('n_estimators', np.arange(1, 100+1, dtype=int))\n",
    "    }\n",
    "\n",
    "def best_par_hyperopt(features_train, target_train):\n",
    "\n",
    "    features_subtrain, features_valid, target_subtrain, target_valid = train_test_split(\n",
    "    features_train, target_train, test_size=0.25, random_state = 12345)      \n",
    "    \n",
    "    def objective(space):\n",
    "        \n",
    "        model_opt = LGBMClassifier(random_state=12345, \n",
    "                                      max_depth = space['max_depth'], \n",
    "                                      n_estimators = space['n_estimators'],\n",
    "                                      class_weight = 'balanced'\n",
    "                                     )\n",
    "    \n",
    "        model_opt.fit(features_subtrain, target_subtrain, verbose=0)\n",
    "        \n",
    "        predictions = model_opt.predict(features_valid)\n",
    "        accuracy = f1_score(target_valid, predictions)\n",
    "\n",
    "        return {'loss': -accuracy, 'status': STATUS_OK }\n",
    "    \n",
    "    trials = Trials()\n",
    "    best = fmin(fn= objective,\n",
    "            space= space,\n",
    "            algo= tpe.suggest,\n",
    "            max_evals = 100,\n",
    "            trials= trials,\n",
    "            show_progressbar=True)\n",
    "    \n",
    "    print(best)\n",
    "\n",
    "    # засекаем время на обучение лучшей модели\n",
    "    start_time = time.time()\n",
    "    \n",
    "    #лучшую модель будем обучать уже на объединенной обучающей и валидационной\n",
    "    best_model = LGBMClassifier(random_state=12345, \n",
    "                                max_depth = best['max_depth'], \n",
    "                                n_estimators = best['n_estimators'],\n",
    "                                class_weight = 'balanced')\n",
    "    \n",
    "    best_model.fit(features_subtrain, target_subtrain, verbose=0)\n",
    "   \n",
    "    model_time = round((time.time() - start_time), 5)\n",
    "    \n",
    "    predictions = best_model.predict(features_valid)\n",
    "    accuracy_best = round(f1_score(target_valid, predictions), 3)\n",
    "    \n",
    "    print(f'Время выполнения обучения c с лучшими параметрами составляет {model_time:.3f} секунд')\n",
    "    \n",
    "    return best, model_time, accuracy_best, best_model"
   ]
  },
  {
   "cell_type": "code",
   "execution_count": 27,
   "metadata": {},
   "outputs": [
    {
     "name": "stdout",
     "output_type": "stream",
     "text": [
      "100%|██████████| 100/100 [3:44:13<00:00, 134.54s/trial, best loss: -0.7365070177977139] \n",
      "{'max_depth': 80, 'n_estimators': 86}\n",
      "Время выполнения обучения c с лучшими параметрами составляет 161.037 секунд\n",
      "Значение F1-меры равно 0.736\n"
     ]
    }
   ],
   "source": [
    "best_LGBM_param, best_LGBM_time, best_LGBM_f1, best_LGBM_model = (\n",
    "    best_par_hyperopt(tf_idf_train, target_train))\n",
    "print('Значение F1-меры равно', best_LGBM_f1)"
   ]
  },
  {
   "cell_type": "markdown",
   "metadata": {},
   "source": [
    "### 4. Модель XGBoost"
   ]
  },
  {
   "cell_type": "code",
   "execution_count": 33,
   "metadata": {},
   "outputs": [],
   "source": [
    "space={'max_depth': hp.choice('max_depth', np.arange(1, 100+1, 2, dtype=int)),\n",
    "        'n_estimators' : hp.choice('n_estimators', np.arange(1, 100+1, 2, dtype=int))\n",
    "      }\n",
    "\n",
    "def best_par_hyperopt(features_train, target_train):\n",
    "\n",
    "    features_subtrain, features_valid, target_subtrain, target_valid = train_test_split(\n",
    "    features_train, target_train, test_size=0.25, random_state = 12345)          \n",
    "    \n",
    "    def objective(space):\n",
    "        \n",
    "        model_opt = xgb.XGBClassifier(random_state=12345, \n",
    "                                      max_depth = space['max_depth'], \n",
    "                                      n_estimators = space['n_estimators'],\n",
    "                                      eval_metric='logloss'\n",
    "                                     )\n",
    "    \n",
    "        model_opt.fit(features_subtrain, target_subtrain)\n",
    "        \n",
    "        predictions = model_opt.predict(features_valid)\n",
    "        accuracy = f1_score(target_valid, predictions)\n",
    "\n",
    "        return {'loss': -accuracy, 'status': STATUS_OK }\n",
    "    \n",
    "    trials = Trials()\n",
    "    best = fmin(fn= objective,\n",
    "            space= space,\n",
    "            algo= tpe.suggest,\n",
    "            max_evals = 50,\n",
    "            trials= trials,\n",
    "            show_progressbar=True)\n",
    "    \n",
    "    print(best)\n",
    "\n",
    "    # засекаем время на обучение лучшей модели\n",
    "    start_time = time.time()\n",
    "    \n",
    "    best_model = xgb.XGBClassifier(random_state=12345, \n",
    "                                   max_depth = best['max_depth'],\n",
    "                                   eval_metric='logloss',\n",
    "                                   n_estimators = best['n_estimators']\n",
    "                                  )\n",
    "    \n",
    "    best_model.fit(features_subtrain, target_subtrain)\n",
    "    \n",
    "    model_time = round((time.time() - start_time), 5)\n",
    "    \n",
    "    predictions = best_model.predict(features_valid)\n",
    "    accuracy_best = round(f1_score(target_valid, predictions), 3)\n",
    "    \n",
    "    print(f'Время выполнения обучения c с лучшими параметрами составляет {model_time:.3f} секунд')\n",
    "    \n",
    "    return best, model_time, accuracy_best, best_model"
   ]
  },
  {
   "cell_type": "code",
   "execution_count": 29,
   "metadata": {},
   "outputs": [
    {
     "name": "stdout",
     "output_type": "stream",
     "text": [
      "[01:22:58] WARNING: ../src/learner.cc:576:            \n",
      "Parameters: { \"class_weight\" } might not be used.\n",
      "\n",
      "  This could be a false alarm, with some parameters getting used by language bindings but\n",
      "  then being mistakenly passed down to XGBoost core, or some parameter actually being used\n",
      "  but getting flagged wrongly here. Please open an issue if you find any such cases.\n",
      "\n",
      "\n",
      "[01:24:56] WARNING: ../src/learner.cc:576:                                          \n",
      "Parameters: { \"class_weight\" } might not be used.\n",
      "\n",
      "  This could be a false alarm, with some parameters getting used by language bindings but\n",
      "  then being mistakenly passed down to XGBoost core, or some parameter actually being used\n",
      "  but getting flagged wrongly here. Please open an issue if you find any such cases.\n",
      "\n",
      "\n",
      "[01:34:00] WARNING: ../src/learner.cc:576:                                          \n",
      "Parameters: { \"class_weight\" } might not be used.\n",
      "\n",
      "  This could be a false alarm, with some parameters getting used by language bindings but\n",
      "  then being mistakenly passed down to XGBoost core, or some parameter actually being used\n",
      "  but getting flagged wrongly here. Please open an issue if you find any such cases.\n",
      "\n",
      "\n",
      "[02:04:57] WARNING: ../src/learner.cc:576:                                            \n",
      "Parameters: { \"class_weight\" } might not be used.\n",
      "\n",
      "  This could be a false alarm, with some parameters getting used by language bindings but\n",
      "  then being mistakenly passed down to XGBoost core, or some parameter actually being used\n",
      "  but getting flagged wrongly here. Please open an issue if you find any such cases.\n",
      "\n",
      "\n",
      "[02:13:48] WARNING: ../src/learner.cc:576:                                            \n",
      "Parameters: { \"class_weight\" } might not be used.\n",
      "\n",
      "  This could be a false alarm, with some parameters getting used by language bindings but\n",
      "  then being mistakenly passed down to XGBoost core, or some parameter actually being used\n",
      "  but getting flagged wrongly here. Please open an issue if you find any such cases.\n",
      "\n",
      "\n",
      "[02:15:09] WARNING: ../src/learner.cc:576:                                           \n",
      "Parameters: { \"class_weight\" } might not be used.\n",
      "\n",
      "  This could be a false alarm, with some parameters getting used by language bindings but\n",
      "  then being mistakenly passed down to XGBoost core, or some parameter actually being used\n",
      "  but getting flagged wrongly here. Please open an issue if you find any such cases.\n",
      "\n",
      "\n",
      "[02:18:07] WARNING: ../src/learner.cc:576:                                          \n",
      "Parameters: { \"class_weight\" } might not be used.\n",
      "\n",
      "  This could be a false alarm, with some parameters getting used by language bindings but\n",
      "  then being mistakenly passed down to XGBoost core, or some parameter actually being used\n",
      "  but getting flagged wrongly here. Please open an issue if you find any such cases.\n",
      "\n",
      "\n",
      "[02:27:33] WARNING: ../src/learner.cc:576:                                            \n",
      "Parameters: { \"class_weight\" } might not be used.\n",
      "\n",
      "  This could be a false alarm, with some parameters getting used by language bindings but\n",
      "  then being mistakenly passed down to XGBoost core, or some parameter actually being used\n",
      "  but getting flagged wrongly here. Please open an issue if you find any such cases.\n",
      "\n",
      "\n",
      "[02:41:15] WARNING: ../src/learner.cc:576:                                            \n",
      "Parameters: { \"class_weight\" } might not be used.\n",
      "\n",
      "  This could be a false alarm, with some parameters getting used by language bindings but\n",
      "  then being mistakenly passed down to XGBoost core, or some parameter actually being used\n",
      "  but getting flagged wrongly here. Please open an issue if you find any such cases.\n",
      "\n",
      "\n",
      "[02:52:48] WARNING: ../src/learner.cc:576:                                            \n",
      "Parameters: { \"class_weight\" } might not be used.\n",
      "\n",
      "  This could be a false alarm, with some parameters getting used by language bindings but\n",
      "  then being mistakenly passed down to XGBoost core, or some parameter actually being used\n",
      "  but getting flagged wrongly here. Please open an issue if you find any such cases.\n",
      "\n",
      "\n",
      "[02:59:03] WARNING: ../src/learner.cc:576:                                             \n",
      "Parameters: { \"class_weight\" } might not be used.\n",
      "\n",
      "  This could be a false alarm, with some parameters getting used by language bindings but\n",
      "  then being mistakenly passed down to XGBoost core, or some parameter actually being used\n",
      "  but getting flagged wrongly here. Please open an issue if you find any such cases.\n",
      "\n",
      "\n",
      "[03:13:17] WARNING: ../src/learner.cc:576:                                             \n",
      "Parameters: { \"class_weight\" } might not be used.\n",
      "\n",
      "  This could be a false alarm, with some parameters getting used by language bindings but\n",
      "  then being mistakenly passed down to XGBoost core, or some parameter actually being used\n",
      "  but getting flagged wrongly here. Please open an issue if you find any such cases.\n",
      "\n",
      "\n",
      "[03:13:39] WARNING: ../src/learner.cc:576:                                             \n",
      "Parameters: { \"class_weight\" } might not be used.\n",
      "\n",
      "  This could be a false alarm, with some parameters getting used by language bindings but\n",
      "  then being mistakenly passed down to XGBoost core, or some parameter actually being used\n",
      "  but getting flagged wrongly here. Please open an issue if you find any such cases.\n",
      "\n",
      "\n",
      "[03:28:13] WARNING: ../src/learner.cc:576:                                             \n",
      "Parameters: { \"class_weight\" } might not be used.\n",
      "\n",
      "  This could be a false alarm, with some parameters getting used by language bindings but\n",
      "  then being mistakenly passed down to XGBoost core, or some parameter actually being used\n",
      "  but getting flagged wrongly here. Please open an issue if you find any such cases.\n",
      "\n",
      "\n",
      "[03:42:31] WARNING: ../src/learner.cc:576:                                             \n",
      "Parameters: { \"class_weight\" } might not be used.\n",
      "\n",
      "  This could be a false alarm, with some parameters getting used by language bindings but\n",
      "  then being mistakenly passed down to XGBoost core, or some parameter actually being used\n",
      "  but getting flagged wrongly here. Please open an issue if you find any such cases.\n",
      "\n",
      "\n",
      "[03:59:48] WARNING: ../src/learner.cc:576:                                             \n",
      "Parameters: { \"class_weight\" } might not be used.\n",
      "\n",
      "  This could be a false alarm, with some parameters getting used by language bindings but\n",
      "  then being mistakenly passed down to XGBoost core, or some parameter actually being used\n",
      "  but getting flagged wrongly here. Please open an issue if you find any such cases.\n",
      "\n",
      "\n",
      "[04:03:51] WARNING: ../src/learner.cc:576:                                             \n",
      "Parameters: { \"class_weight\" } might not be used.\n",
      "\n",
      "  This could be a false alarm, with some parameters getting used by language bindings but\n",
      "  then being mistakenly passed down to XGBoost core, or some parameter actually being used\n",
      "  but getting flagged wrongly here. Please open an issue if you find any such cases.\n",
      "\n",
      "\n",
      "[04:15:40] WARNING: ../src/learner.cc:576:                                             \n",
      "Parameters: { \"class_weight\" } might not be used.\n",
      "\n",
      "  This could be a false alarm, with some parameters getting used by language bindings but\n",
      "  then being mistakenly passed down to XGBoost core, or some parameter actually being used\n",
      "  but getting flagged wrongly here. Please open an issue if you find any such cases.\n",
      "\n",
      "\n",
      "[04:26:00] WARNING: ../src/learner.cc:576:                                             \n",
      "Parameters: { \"class_weight\" } might not be used.\n",
      "\n",
      "  This could be a false alarm, with some parameters getting used by language bindings but\n",
      "  then being mistakenly passed down to XGBoost core, or some parameter actually being used\n",
      "  but getting flagged wrongly here. Please open an issue if you find any such cases.\n",
      "\n",
      "\n",
      "[04:32:58] WARNING: ../src/learner.cc:576:                                             \n",
      "Parameters: { \"class_weight\" } might not be used.\n",
      "\n",
      "  This could be a false alarm, with some parameters getting used by language bindings but\n",
      "  then being mistakenly passed down to XGBoost core, or some parameter actually being used\n",
      "  but getting flagged wrongly here. Please open an issue if you find any such cases.\n",
      "\n",
      "\n",
      "[05:07:45] WARNING: ../src/learner.cc:576:                                              \n",
      "Parameters: { \"class_weight\" } might not be used.\n",
      "\n",
      "  This could be a false alarm, with some parameters getting used by language bindings but\n",
      "  then being mistakenly passed down to XGBoost core, or some parameter actually being used\n",
      "  but getting flagged wrongly here. Please open an issue if you find any such cases.\n",
      "\n",
      "\n",
      "[05:22:09] WARNING: ../src/learner.cc:576:                                              \n",
      "Parameters: { \"class_weight\" } might not be used.\n",
      "\n",
      "  This could be a false alarm, with some parameters getting used by language bindings but\n",
      "  then being mistakenly passed down to XGBoost core, or some parameter actually being used\n",
      "  but getting flagged wrongly here. Please open an issue if you find any such cases.\n",
      "\n",
      "\n",
      "[05:38:03] WARNING: ../src/learner.cc:576:                                             \n",
      "Parameters: { \"class_weight\" } might not be used.\n",
      "\n",
      "  This could be a false alarm, with some parameters getting used by language bindings but\n",
      "  then being mistakenly passed down to XGBoost core, or some parameter actually being used\n",
      "  but getting flagged wrongly here. Please open an issue if you find any such cases.\n",
      "\n",
      "\n",
      "[05:59:30] WARNING: ../src/learner.cc:576:                                              \n",
      "Parameters: { \"class_weight\" } might not be used.\n",
      "\n",
      "  This could be a false alarm, with some parameters getting used by language bindings but\n",
      "  then being mistakenly passed down to XGBoost core, or some parameter actually being used\n",
      "  but getting flagged wrongly here. Please open an issue if you find any such cases.\n",
      "\n",
      "\n",
      " 46%|████▌     | 23/50 [4:50:38<5:41:11, 758.20s/trial, best loss: -0.7607340103331551] \n"
     ]
    },
    {
     "ename": "KeyboardInterrupt",
     "evalue": "",
     "output_type": "error",
     "traceback": [
      "\u001b[0;31m---------------------------------------------------------------------------\u001b[0m",
      "\u001b[0;31mKeyboardInterrupt\u001b[0m                         Traceback (most recent call last)",
      "\u001b[0;32m/tmp/ipykernel_50/3514306925.py\u001b[0m in \u001b[0;36m<module>\u001b[0;34m\u001b[0m\n\u001b[1;32m      1\u001b[0m best_XGB_param, best_XGB_time, best_XGB_f1, best_XGB_model = (\n\u001b[0;32m----> 2\u001b[0;31m     best_par_hyperopt(tf_idf_train, target_train))\n\u001b[0m\u001b[1;32m      3\u001b[0m \u001b[0mprint\u001b[0m\u001b[0;34m(\u001b[0m\u001b[0;34m'Значение F1-меры равно'\u001b[0m\u001b[0;34m,\u001b[0m \u001b[0mbest_XGB_f1\u001b[0m\u001b[0;34m)\u001b[0m\u001b[0;34m\u001b[0m\u001b[0;34m\u001b[0m\u001b[0m\n",
      "\u001b[0;32m/tmp/ipykernel_50/4173688644.py\u001b[0m in \u001b[0;36mbest_par_hyperopt\u001b[0;34m(features_train, target_train)\u001b[0m\n\u001b[1;32m     25\u001b[0m \u001b[0;34m\u001b[0m\u001b[0m\n\u001b[1;32m     26\u001b[0m     \u001b[0mtrials\u001b[0m \u001b[0;34m=\u001b[0m \u001b[0mTrials\u001b[0m\u001b[0;34m(\u001b[0m\u001b[0;34m)\u001b[0m\u001b[0;34m\u001b[0m\u001b[0;34m\u001b[0m\u001b[0m\n\u001b[0;32m---> 27\u001b[0;31m     best = fmin(fn= objective,\n\u001b[0m\u001b[1;32m     28\u001b[0m             \u001b[0mspace\u001b[0m\u001b[0;34m=\u001b[0m \u001b[0mspace\u001b[0m\u001b[0;34m,\u001b[0m\u001b[0;34m\u001b[0m\u001b[0;34m\u001b[0m\u001b[0m\n\u001b[1;32m     29\u001b[0m             \u001b[0malgo\u001b[0m\u001b[0;34m=\u001b[0m \u001b[0mtpe\u001b[0m\u001b[0;34m.\u001b[0m\u001b[0msuggest\u001b[0m\u001b[0;34m,\u001b[0m\u001b[0;34m\u001b[0m\u001b[0;34m\u001b[0m\u001b[0m\n",
      "\u001b[0;32m/opt/conda/lib/python3.9/site-packages/hyperopt/fmin.py\u001b[0m in \u001b[0;36mfmin\u001b[0;34m(fn, space, algo, max_evals, timeout, loss_threshold, trials, rstate, allow_trials_fmin, pass_expr_memo_ctrl, catch_eval_exceptions, verbose, return_argmin, points_to_evaluate, max_queue_len, show_progressbar, early_stop_fn, trials_save_file)\u001b[0m\n\u001b[1;32m    538\u001b[0m \u001b[0;34m\u001b[0m\u001b[0m\n\u001b[1;32m    539\u001b[0m     \u001b[0;32mif\u001b[0m \u001b[0mallow_trials_fmin\u001b[0m \u001b[0;32mand\u001b[0m \u001b[0mhasattr\u001b[0m\u001b[0;34m(\u001b[0m\u001b[0mtrials\u001b[0m\u001b[0;34m,\u001b[0m \u001b[0;34m\"fmin\"\u001b[0m\u001b[0;34m)\u001b[0m\u001b[0;34m:\u001b[0m\u001b[0;34m\u001b[0m\u001b[0;34m\u001b[0m\u001b[0m\n\u001b[0;32m--> 540\u001b[0;31m         return trials.fmin(\n\u001b[0m\u001b[1;32m    541\u001b[0m             \u001b[0mfn\u001b[0m\u001b[0;34m,\u001b[0m\u001b[0;34m\u001b[0m\u001b[0;34m\u001b[0m\u001b[0m\n\u001b[1;32m    542\u001b[0m             \u001b[0mspace\u001b[0m\u001b[0;34m,\u001b[0m\u001b[0;34m\u001b[0m\u001b[0;34m\u001b[0m\u001b[0m\n",
      "\u001b[0;32m/opt/conda/lib/python3.9/site-packages/hyperopt/base.py\u001b[0m in \u001b[0;36mfmin\u001b[0;34m(self, fn, space, algo, max_evals, timeout, loss_threshold, max_queue_len, rstate, verbose, pass_expr_memo_ctrl, catch_eval_exceptions, return_argmin, show_progressbar, early_stop_fn, trials_save_file)\u001b[0m\n\u001b[1;32m    669\u001b[0m         \u001b[0;32mfrom\u001b[0m \u001b[0;34m.\u001b[0m\u001b[0mfmin\u001b[0m \u001b[0;32mimport\u001b[0m \u001b[0mfmin\u001b[0m\u001b[0;34m\u001b[0m\u001b[0;34m\u001b[0m\u001b[0m\n\u001b[1;32m    670\u001b[0m \u001b[0;34m\u001b[0m\u001b[0m\n\u001b[0;32m--> 671\u001b[0;31m         return fmin(\n\u001b[0m\u001b[1;32m    672\u001b[0m             \u001b[0mfn\u001b[0m\u001b[0;34m,\u001b[0m\u001b[0;34m\u001b[0m\u001b[0;34m\u001b[0m\u001b[0m\n\u001b[1;32m    673\u001b[0m             \u001b[0mspace\u001b[0m\u001b[0;34m,\u001b[0m\u001b[0;34m\u001b[0m\u001b[0;34m\u001b[0m\u001b[0m\n",
      "\u001b[0;32m/opt/conda/lib/python3.9/site-packages/hyperopt/fmin.py\u001b[0m in \u001b[0;36mfmin\u001b[0;34m(fn, space, algo, max_evals, timeout, loss_threshold, trials, rstate, allow_trials_fmin, pass_expr_memo_ctrl, catch_eval_exceptions, verbose, return_argmin, points_to_evaluate, max_queue_len, show_progressbar, early_stop_fn, trials_save_file)\u001b[0m\n\u001b[1;32m    584\u001b[0m \u001b[0;34m\u001b[0m\u001b[0m\n\u001b[1;32m    585\u001b[0m     \u001b[0;31m# next line is where the fmin is actually executed\u001b[0m\u001b[0;34m\u001b[0m\u001b[0;34m\u001b[0m\u001b[0;34m\u001b[0m\u001b[0m\n\u001b[0;32m--> 586\u001b[0;31m     \u001b[0mrval\u001b[0m\u001b[0;34m.\u001b[0m\u001b[0mexhaust\u001b[0m\u001b[0;34m(\u001b[0m\u001b[0;34m)\u001b[0m\u001b[0;34m\u001b[0m\u001b[0;34m\u001b[0m\u001b[0m\n\u001b[0m\u001b[1;32m    587\u001b[0m \u001b[0;34m\u001b[0m\u001b[0m\n\u001b[1;32m    588\u001b[0m     \u001b[0;32mif\u001b[0m \u001b[0mreturn_argmin\u001b[0m\u001b[0;34m:\u001b[0m\u001b[0;34m\u001b[0m\u001b[0;34m\u001b[0m\u001b[0m\n",
      "\u001b[0;32m/opt/conda/lib/python3.9/site-packages/hyperopt/fmin.py\u001b[0m in \u001b[0;36mexhaust\u001b[0;34m(self)\u001b[0m\n\u001b[1;32m    362\u001b[0m     \u001b[0;32mdef\u001b[0m \u001b[0mexhaust\u001b[0m\u001b[0;34m(\u001b[0m\u001b[0mself\u001b[0m\u001b[0;34m)\u001b[0m\u001b[0;34m:\u001b[0m\u001b[0;34m\u001b[0m\u001b[0;34m\u001b[0m\u001b[0m\n\u001b[1;32m    363\u001b[0m         \u001b[0mn_done\u001b[0m \u001b[0;34m=\u001b[0m \u001b[0mlen\u001b[0m\u001b[0;34m(\u001b[0m\u001b[0mself\u001b[0m\u001b[0;34m.\u001b[0m\u001b[0mtrials\u001b[0m\u001b[0;34m)\u001b[0m\u001b[0;34m\u001b[0m\u001b[0;34m\u001b[0m\u001b[0m\n\u001b[0;32m--> 364\u001b[0;31m         \u001b[0mself\u001b[0m\u001b[0;34m.\u001b[0m\u001b[0mrun\u001b[0m\u001b[0;34m(\u001b[0m\u001b[0mself\u001b[0m\u001b[0;34m.\u001b[0m\u001b[0mmax_evals\u001b[0m \u001b[0;34m-\u001b[0m \u001b[0mn_done\u001b[0m\u001b[0;34m,\u001b[0m \u001b[0mblock_until_done\u001b[0m\u001b[0;34m=\u001b[0m\u001b[0mself\u001b[0m\u001b[0;34m.\u001b[0m\u001b[0masynchronous\u001b[0m\u001b[0;34m)\u001b[0m\u001b[0;34m\u001b[0m\u001b[0;34m\u001b[0m\u001b[0m\n\u001b[0m\u001b[1;32m    365\u001b[0m         \u001b[0mself\u001b[0m\u001b[0;34m.\u001b[0m\u001b[0mtrials\u001b[0m\u001b[0;34m.\u001b[0m\u001b[0mrefresh\u001b[0m\u001b[0;34m(\u001b[0m\u001b[0;34m)\u001b[0m\u001b[0;34m\u001b[0m\u001b[0;34m\u001b[0m\u001b[0m\n\u001b[1;32m    366\u001b[0m         \u001b[0;32mreturn\u001b[0m \u001b[0mself\u001b[0m\u001b[0;34m\u001b[0m\u001b[0;34m\u001b[0m\u001b[0m\n",
      "\u001b[0;32m/opt/conda/lib/python3.9/site-packages/hyperopt/fmin.py\u001b[0m in \u001b[0;36mrun\u001b[0;34m(self, N, block_until_done)\u001b[0m\n\u001b[1;32m    298\u001b[0m                 \u001b[0;32melse\u001b[0m\u001b[0;34m:\u001b[0m\u001b[0;34m\u001b[0m\u001b[0;34m\u001b[0m\u001b[0m\n\u001b[1;32m    299\u001b[0m                     \u001b[0;31m# -- loop over trials and do the jobs directly\u001b[0m\u001b[0;34m\u001b[0m\u001b[0;34m\u001b[0m\u001b[0;34m\u001b[0m\u001b[0m\n\u001b[0;32m--> 300\u001b[0;31m                     \u001b[0mself\u001b[0m\u001b[0;34m.\u001b[0m\u001b[0mserial_evaluate\u001b[0m\u001b[0;34m(\u001b[0m\u001b[0;34m)\u001b[0m\u001b[0;34m\u001b[0m\u001b[0;34m\u001b[0m\u001b[0m\n\u001b[0m\u001b[1;32m    301\u001b[0m \u001b[0;34m\u001b[0m\u001b[0m\n\u001b[1;32m    302\u001b[0m                 \u001b[0mself\u001b[0m\u001b[0;34m.\u001b[0m\u001b[0mtrials\u001b[0m\u001b[0;34m.\u001b[0m\u001b[0mrefresh\u001b[0m\u001b[0;34m(\u001b[0m\u001b[0;34m)\u001b[0m\u001b[0;34m\u001b[0m\u001b[0;34m\u001b[0m\u001b[0m\n",
      "\u001b[0;32m/opt/conda/lib/python3.9/site-packages/hyperopt/fmin.py\u001b[0m in \u001b[0;36mserial_evaluate\u001b[0;34m(self, N)\u001b[0m\n\u001b[1;32m    176\u001b[0m                 \u001b[0mctrl\u001b[0m \u001b[0;34m=\u001b[0m \u001b[0mbase\u001b[0m\u001b[0;34m.\u001b[0m\u001b[0mCtrl\u001b[0m\u001b[0;34m(\u001b[0m\u001b[0mself\u001b[0m\u001b[0;34m.\u001b[0m\u001b[0mtrials\u001b[0m\u001b[0;34m,\u001b[0m \u001b[0mcurrent_trial\u001b[0m\u001b[0;34m=\u001b[0m\u001b[0mtrial\u001b[0m\u001b[0;34m)\u001b[0m\u001b[0;34m\u001b[0m\u001b[0;34m\u001b[0m\u001b[0m\n\u001b[1;32m    177\u001b[0m                 \u001b[0;32mtry\u001b[0m\u001b[0;34m:\u001b[0m\u001b[0;34m\u001b[0m\u001b[0;34m\u001b[0m\u001b[0m\n\u001b[0;32m--> 178\u001b[0;31m                     \u001b[0mresult\u001b[0m \u001b[0;34m=\u001b[0m \u001b[0mself\u001b[0m\u001b[0;34m.\u001b[0m\u001b[0mdomain\u001b[0m\u001b[0;34m.\u001b[0m\u001b[0mevaluate\u001b[0m\u001b[0;34m(\u001b[0m\u001b[0mspec\u001b[0m\u001b[0;34m,\u001b[0m \u001b[0mctrl\u001b[0m\u001b[0;34m)\u001b[0m\u001b[0;34m\u001b[0m\u001b[0;34m\u001b[0m\u001b[0m\n\u001b[0m\u001b[1;32m    179\u001b[0m                 \u001b[0;32mexcept\u001b[0m \u001b[0mException\u001b[0m \u001b[0;32mas\u001b[0m \u001b[0me\u001b[0m\u001b[0;34m:\u001b[0m\u001b[0;34m\u001b[0m\u001b[0;34m\u001b[0m\u001b[0m\n\u001b[1;32m    180\u001b[0m                     \u001b[0mlogger\u001b[0m\u001b[0;34m.\u001b[0m\u001b[0merror\u001b[0m\u001b[0;34m(\u001b[0m\u001b[0;34m\"job exception: %s\"\u001b[0m \u001b[0;34m%\u001b[0m \u001b[0mstr\u001b[0m\u001b[0;34m(\u001b[0m\u001b[0me\u001b[0m\u001b[0;34m)\u001b[0m\u001b[0;34m)\u001b[0m\u001b[0;34m\u001b[0m\u001b[0;34m\u001b[0m\u001b[0m\n",
      "\u001b[0;32m/opt/conda/lib/python3.9/site-packages/hyperopt/base.py\u001b[0m in \u001b[0;36mevaluate\u001b[0;34m(self, config, ctrl, attach_attachments)\u001b[0m\n\u001b[1;32m    890\u001b[0m                 \u001b[0mprint_node_on_error\u001b[0m\u001b[0;34m=\u001b[0m\u001b[0mself\u001b[0m\u001b[0;34m.\u001b[0m\u001b[0mrec_eval_print_node_on_error\u001b[0m\u001b[0;34m,\u001b[0m\u001b[0;34m\u001b[0m\u001b[0;34m\u001b[0m\u001b[0m\n\u001b[1;32m    891\u001b[0m             )\n\u001b[0;32m--> 892\u001b[0;31m             \u001b[0mrval\u001b[0m \u001b[0;34m=\u001b[0m \u001b[0mself\u001b[0m\u001b[0;34m.\u001b[0m\u001b[0mfn\u001b[0m\u001b[0;34m(\u001b[0m\u001b[0mpyll_rval\u001b[0m\u001b[0;34m)\u001b[0m\u001b[0;34m\u001b[0m\u001b[0;34m\u001b[0m\u001b[0m\n\u001b[0m\u001b[1;32m    893\u001b[0m \u001b[0;34m\u001b[0m\u001b[0m\n\u001b[1;32m    894\u001b[0m         \u001b[0;32mif\u001b[0m \u001b[0misinstance\u001b[0m\u001b[0;34m(\u001b[0m\u001b[0mrval\u001b[0m\u001b[0;34m,\u001b[0m \u001b[0;34m(\u001b[0m\u001b[0mfloat\u001b[0m\u001b[0;34m,\u001b[0m \u001b[0mint\u001b[0m\u001b[0;34m,\u001b[0m \u001b[0mnp\u001b[0m\u001b[0;34m.\u001b[0m\u001b[0mnumber\u001b[0m\u001b[0;34m)\u001b[0m\u001b[0;34m)\u001b[0m\u001b[0;34m:\u001b[0m\u001b[0;34m\u001b[0m\u001b[0;34m\u001b[0m\u001b[0m\n",
      "\u001b[0;32m/tmp/ipykernel_50/4173688644.py\u001b[0m in \u001b[0;36mobjective\u001b[0;34m(space)\u001b[0m\n\u001b[1;32m     17\u001b[0m                                      )\n\u001b[1;32m     18\u001b[0m \u001b[0;34m\u001b[0m\u001b[0m\n\u001b[0;32m---> 19\u001b[0;31m         \u001b[0mmodel_opt\u001b[0m\u001b[0;34m.\u001b[0m\u001b[0mfit\u001b[0m\u001b[0;34m(\u001b[0m\u001b[0mfeatures_subtrain\u001b[0m\u001b[0;34m,\u001b[0m \u001b[0mtarget_subtrain\u001b[0m\u001b[0;34m)\u001b[0m\u001b[0;34m\u001b[0m\u001b[0;34m\u001b[0m\u001b[0m\n\u001b[0m\u001b[1;32m     20\u001b[0m \u001b[0;34m\u001b[0m\u001b[0m\n\u001b[1;32m     21\u001b[0m         \u001b[0mpredictions\u001b[0m \u001b[0;34m=\u001b[0m \u001b[0mmodel_opt\u001b[0m\u001b[0;34m.\u001b[0m\u001b[0mpredict\u001b[0m\u001b[0;34m(\u001b[0m\u001b[0mfeatures_valid\u001b[0m\u001b[0;34m)\u001b[0m\u001b[0;34m\u001b[0m\u001b[0;34m\u001b[0m\u001b[0m\n",
      "\u001b[0;32m/opt/conda/lib/python3.9/site-packages/xgboost/core.py\u001b[0m in \u001b[0;36minner_f\u001b[0;34m(*args, **kwargs)\u001b[0m\n\u001b[1;32m    504\u001b[0m         \u001b[0;32mfor\u001b[0m \u001b[0mk\u001b[0m\u001b[0;34m,\u001b[0m \u001b[0marg\u001b[0m \u001b[0;32min\u001b[0m \u001b[0mzip\u001b[0m\u001b[0;34m(\u001b[0m\u001b[0msig\u001b[0m\u001b[0;34m.\u001b[0m\u001b[0mparameters\u001b[0m\u001b[0;34m,\u001b[0m \u001b[0margs\u001b[0m\u001b[0;34m)\u001b[0m\u001b[0;34m:\u001b[0m\u001b[0;34m\u001b[0m\u001b[0;34m\u001b[0m\u001b[0m\n\u001b[1;32m    505\u001b[0m             \u001b[0mkwargs\u001b[0m\u001b[0;34m[\u001b[0m\u001b[0mk\u001b[0m\u001b[0;34m]\u001b[0m \u001b[0;34m=\u001b[0m \u001b[0marg\u001b[0m\u001b[0;34m\u001b[0m\u001b[0;34m\u001b[0m\u001b[0m\n\u001b[0;32m--> 506\u001b[0;31m         \u001b[0;32mreturn\u001b[0m \u001b[0mf\u001b[0m\u001b[0;34m(\u001b[0m\u001b[0;34m**\u001b[0m\u001b[0mkwargs\u001b[0m\u001b[0;34m)\u001b[0m\u001b[0;34m\u001b[0m\u001b[0;34m\u001b[0m\u001b[0m\n\u001b[0m\u001b[1;32m    507\u001b[0m \u001b[0;34m\u001b[0m\u001b[0m\n\u001b[1;32m    508\u001b[0m     \u001b[0;32mreturn\u001b[0m \u001b[0minner_f\u001b[0m\u001b[0;34m\u001b[0m\u001b[0;34m\u001b[0m\u001b[0m\n",
      "\u001b[0;32m/opt/conda/lib/python3.9/site-packages/xgboost/sklearn.py\u001b[0m in \u001b[0;36mfit\u001b[0;34m(self, X, y, sample_weight, base_margin, eval_set, eval_metric, early_stopping_rounds, verbose, xgb_model, sample_weight_eval_set, base_margin_eval_set, feature_weights, callbacks)\u001b[0m\n\u001b[1;32m   1248\u001b[0m         )\n\u001b[1;32m   1249\u001b[0m \u001b[0;34m\u001b[0m\u001b[0m\n\u001b[0;32m-> 1250\u001b[0;31m         self._Booster = train(\n\u001b[0m\u001b[1;32m   1251\u001b[0m             \u001b[0mparams\u001b[0m\u001b[0;34m,\u001b[0m\u001b[0;34m\u001b[0m\u001b[0;34m\u001b[0m\u001b[0m\n\u001b[1;32m   1252\u001b[0m             \u001b[0mtrain_dmatrix\u001b[0m\u001b[0;34m,\u001b[0m\u001b[0;34m\u001b[0m\u001b[0;34m\u001b[0m\u001b[0m\n",
      "\u001b[0;32m/opt/conda/lib/python3.9/site-packages/xgboost/training.py\u001b[0m in \u001b[0;36mtrain\u001b[0;34m(params, dtrain, num_boost_round, evals, obj, feval, maximize, early_stopping_rounds, evals_result, verbose_eval, xgb_model, callbacks)\u001b[0m\n\u001b[1;32m    186\u001b[0m     \u001b[0mBooster\u001b[0m \u001b[0;34m:\u001b[0m \u001b[0ma\u001b[0m \u001b[0mtrained\u001b[0m \u001b[0mbooster\u001b[0m \u001b[0mmodel\u001b[0m\u001b[0;34m\u001b[0m\u001b[0;34m\u001b[0m\u001b[0m\n\u001b[1;32m    187\u001b[0m     \"\"\"\n\u001b[0;32m--> 188\u001b[0;31m     bst = _train_internal(params, dtrain,\n\u001b[0m\u001b[1;32m    189\u001b[0m                           \u001b[0mnum_boost_round\u001b[0m\u001b[0;34m=\u001b[0m\u001b[0mnum_boost_round\u001b[0m\u001b[0;34m,\u001b[0m\u001b[0;34m\u001b[0m\u001b[0;34m\u001b[0m\u001b[0m\n\u001b[1;32m    190\u001b[0m                           \u001b[0mevals\u001b[0m\u001b[0;34m=\u001b[0m\u001b[0mevals\u001b[0m\u001b[0;34m,\u001b[0m\u001b[0;34m\u001b[0m\u001b[0;34m\u001b[0m\u001b[0m\n",
      "\u001b[0;32m/opt/conda/lib/python3.9/site-packages/xgboost/training.py\u001b[0m in \u001b[0;36m_train_internal\u001b[0;34m(params, dtrain, num_boost_round, evals, obj, feval, xgb_model, callbacks, evals_result, maximize, verbose_eval, early_stopping_rounds)\u001b[0m\n\u001b[1;32m     79\u001b[0m         \u001b[0;32mif\u001b[0m \u001b[0mcallbacks\u001b[0m\u001b[0;34m.\u001b[0m\u001b[0mbefore_iteration\u001b[0m\u001b[0;34m(\u001b[0m\u001b[0mbst\u001b[0m\u001b[0;34m,\u001b[0m \u001b[0mi\u001b[0m\u001b[0;34m,\u001b[0m \u001b[0mdtrain\u001b[0m\u001b[0;34m,\u001b[0m \u001b[0mevals\u001b[0m\u001b[0;34m)\u001b[0m\u001b[0;34m:\u001b[0m\u001b[0;34m\u001b[0m\u001b[0;34m\u001b[0m\u001b[0m\n\u001b[1;32m     80\u001b[0m             \u001b[0;32mbreak\u001b[0m\u001b[0;34m\u001b[0m\u001b[0;34m\u001b[0m\u001b[0m\n\u001b[0;32m---> 81\u001b[0;31m         \u001b[0mbst\u001b[0m\u001b[0;34m.\u001b[0m\u001b[0mupdate\u001b[0m\u001b[0;34m(\u001b[0m\u001b[0mdtrain\u001b[0m\u001b[0;34m,\u001b[0m \u001b[0mi\u001b[0m\u001b[0;34m,\u001b[0m \u001b[0mobj\u001b[0m\u001b[0;34m)\u001b[0m\u001b[0;34m\u001b[0m\u001b[0;34m\u001b[0m\u001b[0m\n\u001b[0m\u001b[1;32m     82\u001b[0m         \u001b[0;32mif\u001b[0m \u001b[0mcallbacks\u001b[0m\u001b[0;34m.\u001b[0m\u001b[0mafter_iteration\u001b[0m\u001b[0;34m(\u001b[0m\u001b[0mbst\u001b[0m\u001b[0;34m,\u001b[0m \u001b[0mi\u001b[0m\u001b[0;34m,\u001b[0m \u001b[0mdtrain\u001b[0m\u001b[0;34m,\u001b[0m \u001b[0mevals\u001b[0m\u001b[0;34m)\u001b[0m\u001b[0;34m:\u001b[0m\u001b[0;34m\u001b[0m\u001b[0;34m\u001b[0m\u001b[0m\n\u001b[1;32m     83\u001b[0m             \u001b[0;32mbreak\u001b[0m\u001b[0;34m\u001b[0m\u001b[0;34m\u001b[0m\u001b[0m\n",
      "\u001b[0;32m/opt/conda/lib/python3.9/site-packages/xgboost/core.py\u001b[0m in \u001b[0;36mupdate\u001b[0;34m(self, dtrain, iteration, fobj)\u001b[0m\n\u001b[1;32m   1678\u001b[0m \u001b[0;34m\u001b[0m\u001b[0m\n\u001b[1;32m   1679\u001b[0m         \u001b[0;32mif\u001b[0m \u001b[0mfobj\u001b[0m \u001b[0;32mis\u001b[0m \u001b[0;32mNone\u001b[0m\u001b[0;34m:\u001b[0m\u001b[0;34m\u001b[0m\u001b[0;34m\u001b[0m\u001b[0m\n\u001b[0;32m-> 1680\u001b[0;31m             _check_call(_LIB.XGBoosterUpdateOneIter(self.handle,\n\u001b[0m\u001b[1;32m   1681\u001b[0m                                                     \u001b[0mctypes\u001b[0m\u001b[0;34m.\u001b[0m\u001b[0mc_int\u001b[0m\u001b[0;34m(\u001b[0m\u001b[0miteration\u001b[0m\u001b[0;34m)\u001b[0m\u001b[0;34m,\u001b[0m\u001b[0;34m\u001b[0m\u001b[0;34m\u001b[0m\u001b[0m\n\u001b[1;32m   1682\u001b[0m                                                     dtrain.handle))\n",
      "\u001b[0;31mKeyboardInterrupt\u001b[0m: "
     ]
    }
   ],
   "source": [
    "#best_XGB_param, best_XGB_time, best_XGB_f1, best_XGB_model = (\n",
    "#    best_par_hyperopt(tf_idf_train, target_train))\n",
    "#print('Значение F1-меры равно', best_XGB_f1)"
   ]
  },
  {
   "cell_type": "markdown",
   "metadata": {},
   "source": [
    "<div class=\"alert alert-info\">\n",
    "\n",
    "### <span style=\"color: ##4682b4; font-weight: 600\">Комментарий </span> <a class=\"tocSkip\">\n",
    "     \n",
    "очень долгое выполнение модели... остановил после 4,5 часов при лучшем результате \n",
    "\n",
    "46%|████▌     | 23/50 [4:36:32<7:59:24, 1065.36s/trial, best loss: -0.7607340103331551]\n",
    "\n",
    "Даже из коробки не смогла запуститься... По всей видимости, слишком много признаков и объектов для обучения, юпитер не вывозит быстрое обучение)\n",
    "\n",
    "</div>"
   ]
  },
  {
   "cell_type": "markdown",
   "metadata": {},
   "source": [
    "start_time = time.time()\n",
    "best_XGB_model = xgb.XGBClassifier(random_state=12345, \n",
    "                                   #max_depth = 80, \n",
    "                                   #n_estimators = 80,\n",
    "                                   eval_metric='logloss'\n",
    "                                  )\n",
    "\n",
    "best_XGB_model.fit(tf_idf_train, target_train)\n",
    "\n",
    "best_XGB_f1 = cross_val_score(best_XGB_model, tf_idf_train, target_train, scoring=\"f1\").mean()\n",
    "        \n",
    "best_XGB_time = round((time.time() - start_time), 5)\n",
    "\n",
    "print('Значение F1-меры равно', best_XGB_f1)"
   ]
  },
  {
   "cell_type": "markdown",
   "metadata": {},
   "source": [
    "### Выводы"
   ]
  },
  {
   "cell_type": "markdown",
   "metadata": {},
   "source": [
    "Получили следующие данных по лучшим моделям на обучении"
   ]
  },
  {
   "cell_type": "code",
   "execution_count": 46,
   "metadata": {},
   "outputs": [
    {
     "data": {
      "text/html": [
       "<div>\n",
       "<style scoped>\n",
       "    .dataframe tbody tr th:only-of-type {\n",
       "        vertical-align: middle;\n",
       "    }\n",
       "\n",
       "    .dataframe tbody tr th {\n",
       "        vertical-align: top;\n",
       "    }\n",
       "\n",
       "    .dataframe thead th {\n",
       "        text-align: right;\n",
       "    }\n",
       "</style>\n",
       "<table border=\"1\" class=\"dataframe\">\n",
       "  <thead>\n",
       "    <tr style=\"text-align: right;\">\n",
       "      <th></th>\n",
       "      <th>Модель</th>\n",
       "      <th>Лучшее качество F1-меры при обучении</th>\n",
       "      <th>Время выполнения оптимального параметра, сек.</th>\n",
       "      <th>Лучшие гиперпараметры</th>\n",
       "    </tr>\n",
       "  </thead>\n",
       "  <tbody>\n",
       "    <tr>\n",
       "      <th>1</th>\n",
       "      <td>Логистическая регрессия с CV</td>\n",
       "      <td>0.787425</td>\n",
       "      <td>385.77596</td>\n",
       "      <td>['C' : 20, 'class_weight' : 'balanced']</td>\n",
       "    </tr>\n",
       "    <tr>\n",
       "      <th>2</th>\n",
       "      <td>Логистическая регрессия без CV</td>\n",
       "      <td>0.778610</td>\n",
       "      <td>60.79804</td>\n",
       "      <td>['C' : 20, 'class_weight' : 'balanced']</td>\n",
       "    </tr>\n",
       "    <tr>\n",
       "      <th>3</th>\n",
       "      <td>LightGBM</td>\n",
       "      <td>0.736000</td>\n",
       "      <td>161.03665</td>\n",
       "      <td>{'max_depth': 80, 'n_estimators': 86}</td>\n",
       "    </tr>\n",
       "    <tr>\n",
       "      <th>0</th>\n",
       "      <td>Случайный лес</td>\n",
       "      <td>0.495000</td>\n",
       "      <td>27.43883</td>\n",
       "      <td>{'max_depth': 99, 'min_samples_split': 0.00329...</td>\n",
       "    </tr>\n",
       "  </tbody>\n",
       "</table>\n",
       "</div>"
      ],
      "text/plain": [
       "                           Модель  Лучшее качество F1-меры при обучении  \\\n",
       "1    Логистическая регрессия с CV                              0.787425   \n",
       "2  Логистическая регрессия без CV                              0.778610   \n",
       "3                        LightGBM                              0.736000   \n",
       "0                   Случайный лес                              0.495000   \n",
       "\n",
       "   Время выполнения оптимального параметра, сек.  \\\n",
       "1                                      385.77596   \n",
       "2                                       60.79804   \n",
       "3                                      161.03665   \n",
       "0                                       27.43883   \n",
       "\n",
       "                               Лучшие гиперпараметры  \n",
       "1            ['C' : 20, 'class_weight' : 'balanced']  \n",
       "2            ['C' : 20, 'class_weight' : 'balanced']  \n",
       "3              {'max_depth': 80, 'n_estimators': 86}  \n",
       "0  {'max_depth': 99, 'min_samples_split': 0.00329...  "
      ]
     },
     "execution_count": 46,
     "metadata": {},
     "output_type": "execute_result"
    }
   ],
   "source": [
    "models_description = [\n",
    "    ['Случайный лес', best_forest_f1, best_forest_time, best_forest_param],\n",
    "    ['Логистическая регрессия с CV', best_LR_cv_f1, model_LR_cv_time, [\"'C' : 20\", \"'class_weight' : 'balanced'\"]],\n",
    "    ['Логистическая регрессия без CV', best_LR_ncv_f1, model_LR_ncv_time, [\"'C' : 20\", \"'class_weight' : 'balanced'\"]],\n",
    "    #['XGBoost', best_XGB_f1, best_XGB_time, best_XGB_param],\n",
    "    ['LightGBM', best_LGBM_f1, best_LGBM_time, best_LGBM_param],\n",
    "]\n",
    "\n",
    "columns_models_description = ['Модель', 'Лучшее качество F1-меры при обучении', \n",
    "                              'Время выполнения оптимального параметра, сек.', 'Лучшие гиперпараметры']\n",
    "\n",
    "models_summary = pd.DataFrame(data=models_description, columns=columns_models_description)\n",
    "models_summary.sort_values(by='Лучшее качество F1-меры при обучении', ascending=False)"
   ]
  },
  {
   "cell_type": "markdown",
   "metadata": {},
   "source": [
    "## **III. Проверка моделей на тестовой выборке**"
   ]
  },
  {
   "cell_type": "markdown",
   "metadata": {},
   "source": [
    "Проверим наши лучшие модели на тестовой выбоке, чтобы убедиться в их качестве"
   ]
  },
  {
   "cell_type": "code",
   "execution_count": 47,
   "metadata": {},
   "outputs": [],
   "source": [
    "# добавим все лучшие модели в словарь для быстрого доступа к названию и самой модели\n",
    "models = {'Случайный лес' : best_forest_model,\n",
    "          'Логистическая регрессия с CV' : model_LR_cv,\n",
    "          'Логистическая регрессия без CV' : model_LR_ncv,\n",
    "          #'XGBoost' : best_XGB_model,\n",
    "          'LightGBM' : best_LGBM_model\n",
    "         }"
   ]
  },
  {
   "cell_type": "code",
   "execution_count": 48,
   "metadata": {},
   "outputs": [
    {
     "name": "stdout",
     "output_type": "stream",
     "text": [
      "F1-мера модели Случайный лес на тестовой выборке: 0.508\n",
      "\n",
      "F1-мера модели Логистическая регрессия с CV на тестовой выборке: 0.789\n",
      "\n",
      "F1-мера модели Логистическая регрессия без CV на тестовой выборке: 0.788\n",
      "\n",
      "F1-мера модели LightGBM на тестовой выборке: 0.741\n",
      "\n"
     ]
    }
   ],
   "source": [
    "# создадим пустой список для последующего добавления в обзорную таблицу лучших моделей\n",
    "f1_tests = []\n",
    "                \n",
    "# через цикл, обращаясь к словарю моделей, определим качество моделей по тестовой выборке\n",
    "for name, model in models.items():\n",
    "    test_predictions = model.predict(tf_idf_test)\n",
    "    accuracy_test = round(f1_score(target_test, test_predictions), 3)\n",
    "    f1_tests.append(accuracy_test)\n",
    "    \n",
    "    print(f'F1-мера модели {name} на тестовой выборке:', accuracy_test)\n",
    "    print()\n",
    "    \n",
    "# создадим новый столбец в выводной таблице по лучшим моделям\n",
    "models_summary['Качество при тесте'] = f1_tests"
   ]
  },
  {
   "cell_type": "markdown",
   "metadata": {},
   "source": [
    "Выведем еще раз итоговую таблицу"
   ]
  },
  {
   "cell_type": "code",
   "execution_count": 49,
   "metadata": {},
   "outputs": [
    {
     "data": {
      "text/html": [
       "<div>\n",
       "<style scoped>\n",
       "    .dataframe tbody tr th:only-of-type {\n",
       "        vertical-align: middle;\n",
       "    }\n",
       "\n",
       "    .dataframe tbody tr th {\n",
       "        vertical-align: top;\n",
       "    }\n",
       "\n",
       "    .dataframe thead th {\n",
       "        text-align: right;\n",
       "    }\n",
       "</style>\n",
       "<table border=\"1\" class=\"dataframe\">\n",
       "  <thead>\n",
       "    <tr style=\"text-align: right;\">\n",
       "      <th></th>\n",
       "      <th>Модель</th>\n",
       "      <th>Лучшее качество F1-меры при обучении</th>\n",
       "      <th>Время выполнения оптимального параметра, сек.</th>\n",
       "      <th>Лучшие гиперпараметры</th>\n",
       "      <th>Качество при тесте</th>\n",
       "    </tr>\n",
       "  </thead>\n",
       "  <tbody>\n",
       "    <tr>\n",
       "      <th>1</th>\n",
       "      <td>Логистическая регрессия с CV</td>\n",
       "      <td>0.787425</td>\n",
       "      <td>385.77596</td>\n",
       "      <td>['C' : 20, 'class_weight' : 'balanced']</td>\n",
       "      <td>0.789</td>\n",
       "    </tr>\n",
       "    <tr>\n",
       "      <th>2</th>\n",
       "      <td>Логистическая регрессия без CV</td>\n",
       "      <td>0.778610</td>\n",
       "      <td>60.79804</td>\n",
       "      <td>['C' : 20, 'class_weight' : 'balanced']</td>\n",
       "      <td>0.788</td>\n",
       "    </tr>\n",
       "    <tr>\n",
       "      <th>3</th>\n",
       "      <td>LightGBM</td>\n",
       "      <td>0.736000</td>\n",
       "      <td>161.03665</td>\n",
       "      <td>{'max_depth': 80, 'n_estimators': 86}</td>\n",
       "      <td>0.741</td>\n",
       "    </tr>\n",
       "    <tr>\n",
       "      <th>0</th>\n",
       "      <td>Случайный лес</td>\n",
       "      <td>0.495000</td>\n",
       "      <td>27.43883</td>\n",
       "      <td>{'max_depth': 99, 'min_samples_split': 0.00329...</td>\n",
       "      <td>0.508</td>\n",
       "    </tr>\n",
       "  </tbody>\n",
       "</table>\n",
       "</div>"
      ],
      "text/plain": [
       "                           Модель  Лучшее качество F1-меры при обучении  \\\n",
       "1    Логистическая регрессия с CV                              0.787425   \n",
       "2  Логистическая регрессия без CV                              0.778610   \n",
       "3                        LightGBM                              0.736000   \n",
       "0                   Случайный лес                              0.495000   \n",
       "\n",
       "   Время выполнения оптимального параметра, сек.  \\\n",
       "1                                      385.77596   \n",
       "2                                       60.79804   \n",
       "3                                      161.03665   \n",
       "0                                       27.43883   \n",
       "\n",
       "                               Лучшие гиперпараметры  Качество при тесте  \n",
       "1            ['C' : 20, 'class_weight' : 'balanced']               0.789  \n",
       "2            ['C' : 20, 'class_weight' : 'balanced']               0.788  \n",
       "3              {'max_depth': 80, 'n_estimators': 86}               0.741  \n",
       "0  {'max_depth': 99, 'min_samples_split': 0.00329...               0.508  "
      ]
     },
     "execution_count": 49,
     "metadata": {},
     "output_type": "execute_result"
    }
   ],
   "source": [
    "models_summary.sort_values(by='Качество при тесте', ascending=False)"
   ]
  },
  {
   "cell_type": "markdown",
   "metadata": {},
   "source": [
    "### Выводы\n",
    "\n",
    "По итогу проверки на тестовых данных:\n",
    "* модели Логистическая регрессия и LightGBM показали лучшее качество. К сожалению, XGBoost не удалось посмотреть из-за длительного перебора параметров ~7 часов в онлайн юпитере; потенциально там могли быть хорошие показатели, тк на момент остановки уже было 0.76, т.е. на тесте мы бы получили +/- .77-.78"
   ]
  },
  {
   "cell_type": "markdown",
   "metadata": {},
   "source": [
    "## **IV. Проверка моделей на вменяемость**"
   ]
  },
  {
   "cell_type": "markdown",
   "metadata": {},
   "source": [
    "Также проверим наши модели на адекватность сравнив их со случайными результатами, которые игнорируют правило входных данных. И если модель ведет себя лучше, то значит она может извлекать какой-то сигнал из данных и имеет предсказательную силу.\n",
    "Для этого воспользуемся `sklearn.dummy.DummyClassifier`"
   ]
  },
  {
   "cell_type": "code",
   "execution_count": 50,
   "metadata": {},
   "outputs": [
    {
     "name": "stdout",
     "output_type": "stream",
     "text": [
      "F1-мера: 0.171\n"
     ]
    }
   ],
   "source": [
    "X = tf_idf_test\n",
    "y = target_test\n",
    "dummy_reg = DummyClassifier(strategy=\"uniform\")\n",
    "dummy_reg.fit(X, y)\n",
    "dummy_predictions = dummy_reg.predict(X)\n",
    "\n",
    "print(f'F1-мера: {round(f1_score(y, dummy_predictions), 3)}')"
   ]
  },
  {
   "cell_type": "markdown",
   "metadata": {},
   "source": [
    "Наши лучшие модели показали качество лучше, чем случаная, следовательно имеет смысл использовать модели машинного обучения."
   ]
  },
  {
   "cell_type": "markdown",
   "metadata": {},
   "source": [
    "## **V. Итоги исследования**"
   ]
  },
  {
   "cell_type": "markdown",
   "metadata": {},
   "source": [
    "### **Выводы**\n",
    "\n",
    "В ходе подготовки данных текстовая часть была почищена и лемматизирована для анализа и дальнейшего обучения обучения. Также с целью выравнивания баланса классов были испробованы методы:\n",
    "Также с целью выравнивания баланса классов были испробованы методы:\n",
    "- **взвешивания классов `class_weight = 'balanced'`- вариант, на котором остановился**\n",
    "- увеличения выборки редких значений путем их дублирования `upsample`\n",
    "- уменьшения выборки путем удаления частых значений `downsample` \n",
    "\n",
    "На основании обработанных данных мы создали несколько моделей, выбрали лучшие, подобрали оптимальные гиперпараметры и проверили их на адекватность. И вот что у нас получилось:"
   ]
  },
  {
   "cell_type": "code",
   "execution_count": 51,
   "metadata": {
    "scrolled": true
   },
   "outputs": [
    {
     "data": {
      "text/html": [
       "<div>\n",
       "<style scoped>\n",
       "    .dataframe tbody tr th:only-of-type {\n",
       "        vertical-align: middle;\n",
       "    }\n",
       "\n",
       "    .dataframe tbody tr th {\n",
       "        vertical-align: top;\n",
       "    }\n",
       "\n",
       "    .dataframe thead th {\n",
       "        text-align: right;\n",
       "    }\n",
       "</style>\n",
       "<table border=\"1\" class=\"dataframe\">\n",
       "  <thead>\n",
       "    <tr style=\"text-align: right;\">\n",
       "      <th></th>\n",
       "      <th>Модель</th>\n",
       "      <th>Лучшее качество F1-меры при обучении</th>\n",
       "      <th>Время выполнения оптимального параметра, сек.</th>\n",
       "      <th>Лучшие гиперпараметры</th>\n",
       "      <th>Качество при тесте</th>\n",
       "    </tr>\n",
       "  </thead>\n",
       "  <tbody>\n",
       "    <tr>\n",
       "      <th>1</th>\n",
       "      <td>Логистическая регрессия с CV</td>\n",
       "      <td>0.787425</td>\n",
       "      <td>385.77596</td>\n",
       "      <td>['C' : 20, 'class_weight' : 'balanced']</td>\n",
       "      <td>0.789</td>\n",
       "    </tr>\n",
       "    <tr>\n",
       "      <th>2</th>\n",
       "      <td>Логистическая регрессия без CV</td>\n",
       "      <td>0.778610</td>\n",
       "      <td>60.79804</td>\n",
       "      <td>['C' : 20, 'class_weight' : 'balanced']</td>\n",
       "      <td>0.788</td>\n",
       "    </tr>\n",
       "    <tr>\n",
       "      <th>3</th>\n",
       "      <td>LightGBM</td>\n",
       "      <td>0.736000</td>\n",
       "      <td>161.03665</td>\n",
       "      <td>{'max_depth': 80, 'n_estimators': 86}</td>\n",
       "      <td>0.741</td>\n",
       "    </tr>\n",
       "    <tr>\n",
       "      <th>0</th>\n",
       "      <td>Случайный лес</td>\n",
       "      <td>0.495000</td>\n",
       "      <td>27.43883</td>\n",
       "      <td>{'max_depth': 99, 'min_samples_split': 0.00329...</td>\n",
       "      <td>0.508</td>\n",
       "    </tr>\n",
       "  </tbody>\n",
       "</table>\n",
       "</div>"
      ],
      "text/plain": [
       "                           Модель  Лучшее качество F1-меры при обучении  \\\n",
       "1    Логистическая регрессия с CV                              0.787425   \n",
       "2  Логистическая регрессия без CV                              0.778610   \n",
       "3                        LightGBM                              0.736000   \n",
       "0                   Случайный лес                              0.495000   \n",
       "\n",
       "   Время выполнения оптимального параметра, сек.  \\\n",
       "1                                      385.77596   \n",
       "2                                       60.79804   \n",
       "3                                      161.03665   \n",
       "0                                       27.43883   \n",
       "\n",
       "                               Лучшие гиперпараметры  Качество при тесте  \n",
       "1            ['C' : 20, 'class_weight' : 'balanced']               0.789  \n",
       "2            ['C' : 20, 'class_weight' : 'balanced']               0.788  \n",
       "3              {'max_depth': 80, 'n_estimators': 86}               0.741  \n",
       "0  {'max_depth': 99, 'min_samples_split': 0.00329...               0.508  "
      ]
     },
     "execution_count": 51,
     "metadata": {},
     "output_type": "execute_result"
    }
   ],
   "source": [
    "models_summary.sort_values(by='Качество при тесте', ascending=False)"
   ]
  },
  {
   "cell_type": "markdown",
   "metadata": {},
   "source": [
    "Лучшей моделью для решения поставленной цели будет являться модель Логистическая регрессия. Кросс-валидация занимает слишком много времени, хоть и незначительно улучшает качество."
   ]
  }
 ],
 "metadata": {
  "ExecuteTimeLog": [
   {
    "duration": 1301,
    "start_time": "2022-07-10T15:01:23.255Z"
   },
   {
    "duration": 6030,
    "start_time": "2022-07-10T15:01:37.421Z"
   },
   {
    "duration": 2008,
    "start_time": "2022-07-10T15:01:50.749Z"
   },
   {
    "duration": 2043,
    "start_time": "2022-07-10T15:01:58.223Z"
   },
   {
    "duration": 478,
    "start_time": "2022-07-10T15:02:05.819Z"
   },
   {
    "duration": 25,
    "start_time": "2022-07-10T15:02:44.796Z"
   },
   {
    "duration": 2173,
    "start_time": "2022-07-10T15:11:23.866Z"
   },
   {
    "duration": 60,
    "start_time": "2022-07-10T15:11:34.937Z"
   },
   {
    "duration": 12,
    "start_time": "2022-07-10T15:11:41.888Z"
   },
   {
    "duration": 33,
    "start_time": "2022-07-10T15:11:47.916Z"
   },
   {
    "duration": 99,
    "start_time": "2022-07-10T15:14:17.433Z"
   },
   {
    "duration": 11,
    "start_time": "2022-07-10T15:14:23.616Z"
   },
   {
    "duration": 5,
    "start_time": "2022-07-10T15:33:54.901Z"
   },
   {
    "duration": 49,
    "start_time": "2022-07-10T15:34:10.633Z"
   },
   {
    "duration": 2005,
    "start_time": "2022-07-10T15:34:14.592Z"
   },
   {
    "duration": 1897,
    "start_time": "2022-07-10T15:34:17.411Z"
   },
   {
    "duration": 1939,
    "start_time": "2022-07-10T15:34:19.311Z"
   },
   {
    "duration": 2105,
    "start_time": "2022-07-10T15:34:24.110Z"
   },
   {
    "duration": 2285,
    "start_time": "2022-07-10T15:34:28.931Z"
   },
   {
    "duration": 10,
    "start_time": "2022-07-10T15:34:33.759Z"
   },
   {
    "duration": 16,
    "start_time": "2022-07-10T15:34:36.196Z"
   },
   {
    "duration": 33,
    "start_time": "2022-07-10T15:34:37.786Z"
   },
   {
    "duration": 76,
    "start_time": "2022-07-10T15:34:40.039Z"
   },
   {
    "duration": 12,
    "start_time": "2022-07-10T15:35:03.843Z"
   },
   {
    "duration": 48,
    "start_time": "2022-07-10T15:35:04.210Z"
   },
   {
    "duration": 2010,
    "start_time": "2022-07-10T15:35:13.554Z"
   },
   {
    "duration": 2242,
    "start_time": "2022-07-10T15:35:17.545Z"
   },
   {
    "duration": 43,
    "start_time": "2022-07-10T15:36:42.970Z"
   },
   {
    "duration": 341,
    "start_time": "2022-07-10T15:36:46.162Z"
   },
   {
    "duration": 2077,
    "start_time": "2022-07-10T15:36:46.505Z"
   },
   {
    "duration": 18,
    "start_time": "2022-07-10T15:36:56.012Z"
   },
   {
    "duration": 53,
    "start_time": "2022-07-10T15:39:42.860Z"
   },
   {
    "duration": 378,
    "start_time": "2022-07-10T15:39:45.615Z"
   },
   {
    "duration": 2109,
    "start_time": "2022-07-10T15:39:45.995Z"
   },
   {
    "duration": 731,
    "start_time": "2022-07-10T15:39:54.642Z"
   },
   {
    "duration": 678,
    "start_time": "2022-07-10T15:40:44.369Z"
   },
   {
    "duration": 765,
    "start_time": "2022-07-10T15:41:14.961Z"
   },
   {
    "duration": 695,
    "start_time": "2022-07-10T15:41:18.303Z"
   },
   {
    "duration": 14,
    "start_time": "2022-07-10T15:41:20.592Z"
   },
   {
    "duration": 7,
    "start_time": "2022-07-10T15:41:24.046Z"
   },
   {
    "duration": 713,
    "start_time": "2022-07-10T15:41:34.320Z"
   },
   {
    "duration": 0,
    "start_time": "2022-07-10T15:41:35.035Z"
   },
   {
    "duration": 721,
    "start_time": "2022-07-10T15:41:55.975Z"
   },
   {
    "duration": 724,
    "start_time": "2022-07-10T15:42:01.591Z"
   },
   {
    "duration": 8,
    "start_time": "2022-07-10T15:42:03.157Z"
   },
   {
    "duration": 934,
    "start_time": "2022-07-10T15:42:23.142Z"
   },
   {
    "duration": 3,
    "start_time": "2022-07-10T15:42:28.352Z"
   },
   {
    "duration": 12,
    "start_time": "2022-07-10T15:42:54.774Z"
   },
   {
    "duration": 10,
    "start_time": "2022-07-10T15:42:58.681Z"
   },
   {
    "duration": 11,
    "start_time": "2022-07-10T15:43:05.335Z"
   },
   {
    "duration": 603,
    "start_time": "2022-07-10T15:43:27.180Z"
   },
   {
    "duration": 6,
    "start_time": "2022-07-10T15:43:41.845Z"
   },
   {
    "duration": 5,
    "start_time": "2022-07-10T15:44:05.974Z"
   },
   {
    "duration": 8,
    "start_time": "2022-07-10T15:45:30.796Z"
   },
   {
    "duration": 51,
    "start_time": "2022-07-10T15:45:40.149Z"
   },
   {
    "duration": 8,
    "start_time": "2022-07-10T15:45:47.335Z"
   },
   {
    "duration": 8,
    "start_time": "2022-07-10T15:45:54.506Z"
   },
   {
    "duration": 10,
    "start_time": "2022-07-10T15:45:59.975Z"
   },
   {
    "duration": 11,
    "start_time": "2022-07-10T15:49:23.816Z"
   },
   {
    "duration": 4,
    "start_time": "2022-07-10T15:49:36.637Z"
   },
   {
    "duration": 13,
    "start_time": "2022-07-10T15:54:38.338Z"
   },
   {
    "duration": 760,
    "start_time": "2022-07-10T15:54:48.805Z"
   },
   {
    "duration": 9,
    "start_time": "2022-07-10T15:54:58.788Z"
   },
   {
    "duration": 18,
    "start_time": "2022-07-10T15:55:24.611Z"
   },
   {
    "duration": 3,
    "start_time": "2022-07-10T16:06:16.421Z"
   },
   {
    "duration": 758,
    "start_time": "2022-07-10T16:06:16.845Z"
   },
   {
    "duration": 7,
    "start_time": "2022-07-10T16:06:17.605Z"
   },
   {
    "duration": 9,
    "start_time": "2022-07-10T16:06:18.648Z"
   },
   {
    "duration": 52715,
    "start_time": "2022-07-10T16:09:59.473Z"
   },
   {
    "duration": 64,
    "start_time": "2022-07-10T16:12:18.107Z"
   },
   {
    "duration": 6238,
    "start_time": "2022-07-10T16:12:29.216Z"
   },
   {
    "duration": 56,
    "start_time": "2022-07-10T16:12:41.529Z"
   },
   {
    "duration": 46,
    "start_time": "2022-07-10T16:12:53.238Z"
   },
   {
    "duration": 25,
    "start_time": "2022-07-10T16:12:56.080Z"
   },
   {
    "duration": 486,
    "start_time": "2022-07-10T16:14:09.556Z"
   },
   {
    "duration": 4,
    "start_time": "2022-07-10T16:14:13.754Z"
   },
   {
    "duration": 18,
    "start_time": "2022-07-10T16:14:20.873Z"
   },
   {
    "duration": 31916,
    "start_time": "2022-07-10T16:14:52.641Z"
   },
   {
    "duration": 33372,
    "start_time": "2022-07-10T16:15:32.409Z"
   },
   {
    "duration": 27,
    "start_time": "2022-07-10T16:16:25.758Z"
   },
   {
    "duration": 59,
    "start_time": "2022-07-10T16:18:02.316Z"
   },
   {
    "duration": 61,
    "start_time": "2022-07-10T16:18:07.117Z"
   },
   {
    "duration": 2341,
    "start_time": "2022-07-10T16:18:20.056Z"
   },
   {
    "duration": 52,
    "start_time": "2022-07-10T16:18:33.861Z"
   },
   {
    "duration": 355,
    "start_time": "2022-07-10T16:19:39.370Z"
   },
   {
    "duration": 34639,
    "start_time": "2022-07-10T16:20:37.245Z"
   },
   {
    "duration": 48414,
    "start_time": "2022-07-10T16:21:14.166Z"
   },
   {
    "duration": 406,
    "start_time": "2022-07-10T16:22:21.239Z"
   },
   {
    "duration": 2214,
    "start_time": "2022-07-10T16:22:22.339Z"
   },
   {
    "duration": 17,
    "start_time": "2022-07-10T16:22:24.555Z"
   },
   {
    "duration": 12,
    "start_time": "2022-07-10T16:22:25.216Z"
   },
   {
    "duration": 132,
    "start_time": "2022-07-10T16:23:01.660Z"
   },
   {
    "duration": 3,
    "start_time": "2022-07-10T16:23:07.984Z"
   },
   {
    "duration": 31,
    "start_time": "2022-07-10T16:23:10.939Z"
   },
   {
    "duration": 59,
    "start_time": "2022-07-10T16:24:21.741Z"
   },
   {
    "duration": 3,
    "start_time": "2022-07-10T16:24:35.772Z"
   },
   {
    "duration": 25,
    "start_time": "2022-07-10T16:25:08.115Z"
   },
   {
    "duration": 905,
    "start_time": "2022-07-10T16:25:27.325Z"
   },
   {
    "duration": 25,
    "start_time": "2022-07-10T16:25:43.863Z"
   },
   {
    "duration": 4,
    "start_time": "2022-07-10T16:25:57.745Z"
   },
   {
    "duration": 8,
    "start_time": "2022-07-10T16:26:07.547Z"
   },
   {
    "duration": 4,
    "start_time": "2022-07-10T16:26:13.516Z"
   },
   {
    "duration": 8,
    "start_time": "2022-07-10T16:26:14.045Z"
   },
   {
    "duration": 2,
    "start_time": "2022-07-10T16:26:44.061Z"
   },
   {
    "duration": 47,
    "start_time": "2022-07-10T16:26:47.056Z"
   },
   {
    "duration": 7,
    "start_time": "2022-07-10T16:26:53.340Z"
   },
   {
    "duration": 1106,
    "start_time": "2022-07-10T16:26:58.971Z"
   },
   {
    "duration": 2206,
    "start_time": "2022-07-10T16:27:01.198Z"
   },
   {
    "duration": 15,
    "start_time": "2022-07-10T16:27:06.127Z"
   },
   {
    "duration": 3,
    "start_time": "2022-07-10T16:27:07.687Z"
   },
   {
    "duration": 937,
    "start_time": "2022-07-10T16:27:09.893Z"
   },
   {
    "duration": 63,
    "start_time": "2022-07-10T16:27:13.189Z"
   },
   {
    "duration": 2,
    "start_time": "2022-07-10T16:27:54.425Z"
   },
   {
    "duration": 5,
    "start_time": "2022-07-10T16:27:56.644Z"
   },
   {
    "duration": 9,
    "start_time": "2022-07-10T16:27:57.879Z"
   },
   {
    "duration": 18,
    "start_time": "2022-07-10T16:28:29.390Z"
   },
   {
    "duration": 46,
    "start_time": "2022-07-10T16:28:50.409Z"
   },
   {
    "duration": 12,
    "start_time": "2022-07-10T16:28:58.841Z"
   },
   {
    "duration": 12,
    "start_time": "2022-07-10T16:29:03.565Z"
   },
   {
    "duration": 4,
    "start_time": "2022-07-10T16:29:35.834Z"
   },
   {
    "duration": 4,
    "start_time": "2022-07-10T16:29:47.293Z"
   },
   {
    "duration": 43,
    "start_time": "2022-07-10T16:29:56.121Z"
   },
   {
    "duration": 9,
    "start_time": "2022-07-10T16:30:01.380Z"
   },
   {
    "duration": 44836,
    "start_time": "2022-07-10T16:30:21.075Z"
   },
   {
    "duration": 0,
    "start_time": "2022-07-10T16:31:05.913Z"
   },
   {
    "duration": 4,
    "start_time": "2022-07-10T16:31:10.402Z"
   },
   {
    "duration": 758,
    "start_time": "2022-07-10T16:31:19.013Z"
   },
   {
    "duration": 10,
    "start_time": "2022-07-10T16:31:20.451Z"
   },
   {
    "duration": 759,
    "start_time": "2022-07-10T16:31:32.173Z"
   },
   {
    "duration": 10,
    "start_time": "2022-07-10T16:31:33.535Z"
   },
   {
    "duration": 715,
    "start_time": "2022-07-10T16:31:42.634Z"
   },
   {
    "duration": 11,
    "start_time": "2022-07-10T16:31:43.351Z"
   },
   {
    "duration": 3,
    "start_time": "2022-07-10T16:31:48.566Z"
   },
   {
    "duration": 733,
    "start_time": "2022-07-10T16:32:02.755Z"
   },
   {
    "duration": 31,
    "start_time": "2022-07-10T16:32:03.490Z"
   },
   {
    "duration": 1050,
    "start_time": "2022-07-10T16:32:09.731Z"
   },
   {
    "duration": 10,
    "start_time": "2022-07-10T16:32:10.784Z"
   },
   {
    "duration": 833,
    "start_time": "2022-07-10T16:32:14.935Z"
   },
   {
    "duration": 11,
    "start_time": "2022-07-10T16:32:15.769Z"
   },
   {
    "duration": 784,
    "start_time": "2022-07-10T16:32:19.759Z"
   },
   {
    "duration": 9,
    "start_time": "2022-07-10T16:32:20.545Z"
   },
   {
    "duration": 2,
    "start_time": "2022-07-10T16:32:21.915Z"
   },
   {
    "duration": 93,
    "start_time": "2022-07-10T16:32:22.538Z"
   },
   {
    "duration": 4,
    "start_time": "2022-07-10T16:32:22.892Z"
   },
   {
    "duration": 403,
    "start_time": "2022-07-10T16:32:25.440Z"
   },
   {
    "duration": 8,
    "start_time": "2022-07-10T16:32:27.466Z"
   },
   {
    "duration": 3,
    "start_time": "2022-07-10T16:33:28.443Z"
   },
   {
    "duration": 54,
    "start_time": "2022-07-10T16:33:28.951Z"
   },
   {
    "duration": 5,
    "start_time": "2022-07-10T16:33:29.540Z"
   },
   {
    "duration": 391,
    "start_time": "2022-07-10T16:33:30.057Z"
   },
   {
    "duration": 9,
    "start_time": "2022-07-10T16:33:31.157Z"
   },
   {
    "duration": 3,
    "start_time": "2022-07-10T16:34:32.559Z"
   },
   {
    "duration": 51,
    "start_time": "2022-07-10T16:34:33.291Z"
   },
   {
    "duration": 4,
    "start_time": "2022-07-10T16:34:33.760Z"
   },
   {
    "duration": 12,
    "start_time": "2022-07-10T16:34:34.138Z"
   },
   {
    "duration": 3,
    "start_time": "2022-07-10T16:34:48.578Z"
   },
   {
    "duration": 64,
    "start_time": "2022-07-10T16:34:49.659Z"
   },
   {
    "duration": 4,
    "start_time": "2022-07-10T16:34:50.202Z"
   },
   {
    "duration": 482,
    "start_time": "2022-07-10T16:34:51.085Z"
   },
   {
    "duration": 3213,
    "start_time": "2022-07-10T16:35:19.396Z"
   },
   {
    "duration": 8,
    "start_time": "2022-07-10T16:35:22.610Z"
   },
   {
    "duration": 763,
    "start_time": "2022-07-10T16:36:17.429Z"
   },
   {
    "duration": 16,
    "start_time": "2022-07-10T16:36:18.195Z"
   },
   {
    "duration": 4,
    "start_time": "2022-07-10T16:36:18.252Z"
   },
   {
    "duration": 53,
    "start_time": "2022-07-10T16:36:19.849Z"
   },
   {
    "duration": 5,
    "start_time": "2022-07-10T16:36:21.060Z"
   },
   {
    "duration": 740,
    "start_time": "2022-07-10T16:36:37.062Z"
   },
   {
    "duration": 787,
    "start_time": "2022-07-10T16:36:58.251Z"
   },
   {
    "duration": 758,
    "start_time": "2022-07-10T16:37:30.477Z"
   },
   {
    "duration": 9,
    "start_time": "2022-07-10T16:37:31.237Z"
   },
   {
    "duration": 3,
    "start_time": "2022-07-10T16:37:32.181Z"
   },
   {
    "duration": 48,
    "start_time": "2022-07-10T16:37:33.289Z"
   },
   {
    "duration": 5,
    "start_time": "2022-07-10T16:37:33.549Z"
   },
   {
    "duration": 8,
    "start_time": "2022-07-10T16:37:41.918Z"
   },
   {
    "duration": 7,
    "start_time": "2022-07-10T16:37:48.560Z"
   },
   {
    "duration": 7,
    "start_time": "2022-07-10T16:38:27.023Z"
   },
   {
    "duration": 863,
    "start_time": "2022-07-10T16:38:39.717Z"
   },
   {
    "duration": 5,
    "start_time": "2022-07-10T16:39:00.307Z"
   },
   {
    "duration": 7,
    "start_time": "2022-07-10T16:39:16.827Z"
   },
   {
    "duration": 5,
    "start_time": "2022-07-10T16:39:20.614Z"
   },
   {
    "duration": 7,
    "start_time": "2022-07-10T16:39:49.868Z"
   },
   {
    "duration": 9,
    "start_time": "2022-07-10T16:40:10.441Z"
   },
   {
    "duration": 3,
    "start_time": "2022-07-10T16:40:18.700Z"
   },
   {
    "duration": 48,
    "start_time": "2022-07-10T16:40:35.898Z"
   },
   {
    "duration": 882,
    "start_time": "2022-07-10T16:40:42.375Z"
   },
   {
    "duration": 11,
    "start_time": "2022-07-10T16:41:12.001Z"
   },
   {
    "duration": 8,
    "start_time": "2022-07-10T16:41:19.588Z"
   },
   {
    "duration": 682,
    "start_time": "2022-07-10T16:48:56.323Z"
   },
   {
    "duration": 10,
    "start_time": "2022-07-10T16:48:57.007Z"
   },
   {
    "duration": 3,
    "start_time": "2022-07-10T16:48:57.142Z"
   },
   {
    "duration": 44,
    "start_time": "2022-07-10T16:48:57.863Z"
   },
   {
    "duration": 4,
    "start_time": "2022-07-10T16:48:58.497Z"
   },
   {
    "duration": 7,
    "start_time": "2022-07-10T16:48:58.973Z"
   },
   {
    "duration": 48,
    "start_time": "2022-07-10T16:49:47.710Z"
   },
   {
    "duration": 8,
    "start_time": "2022-07-10T16:49:57.089Z"
   },
   {
    "duration": 56,
    "start_time": "2022-07-10T16:50:33.643Z"
   },
   {
    "duration": 13,
    "start_time": "2022-07-10T16:50:34.331Z"
   },
   {
    "duration": 809,
    "start_time": "2022-07-10T16:50:38.356Z"
   },
   {
    "duration": 9,
    "start_time": "2022-07-10T16:50:39.167Z"
   },
   {
    "duration": 3,
    "start_time": "2022-07-10T16:50:39.422Z"
   },
   {
    "duration": 50,
    "start_time": "2022-07-10T16:50:40.019Z"
   },
   {
    "duration": 4,
    "start_time": "2022-07-10T16:50:40.364Z"
   },
   {
    "duration": 7,
    "start_time": "2022-07-10T16:50:40.795Z"
   },
   {
    "duration": 51,
    "start_time": "2022-07-10T16:50:43.710Z"
   },
   {
    "duration": 751,
    "start_time": "2022-07-10T16:50:58.247Z"
   },
   {
    "duration": 10,
    "start_time": "2022-07-10T16:51:00.212Z"
   },
   {
    "duration": 3,
    "start_time": "2022-07-10T16:51:00.866Z"
   },
   {
    "duration": 50,
    "start_time": "2022-07-10T16:51:01.352Z"
   },
   {
    "duration": 5,
    "start_time": "2022-07-10T16:51:01.715Z"
   },
   {
    "duration": 7,
    "start_time": "2022-07-10T16:51:02.082Z"
   },
   {
    "duration": 51,
    "start_time": "2022-07-10T16:51:03.097Z"
   },
   {
    "duration": 7,
    "start_time": "2022-07-10T16:51:04.329Z"
   },
   {
    "duration": 3,
    "start_time": "2022-07-10T16:51:40.279Z"
   },
   {
    "duration": 53,
    "start_time": "2022-07-10T16:51:40.666Z"
   },
   {
    "duration": 5,
    "start_time": "2022-07-10T16:51:41.019Z"
   },
   {
    "duration": 8,
    "start_time": "2022-07-10T16:51:41.541Z"
   },
   {
    "duration": 3,
    "start_time": "2022-07-10T16:58:19.233Z"
   },
   {
    "duration": 742,
    "start_time": "2022-07-10T16:58:22.055Z"
   },
   {
    "duration": 12,
    "start_time": "2022-07-10T16:58:23.974Z"
   },
   {
    "duration": 3,
    "start_time": "2022-07-10T16:58:25.522Z"
   },
   {
    "duration": 52,
    "start_time": "2022-07-10T16:58:26.726Z"
   },
   {
    "duration": 5,
    "start_time": "2022-07-10T16:58:27.449Z"
   },
   {
    "duration": 8,
    "start_time": "2022-07-10T16:58:28.522Z"
   },
   {
    "duration": 70,
    "start_time": "2022-07-10T16:58:32.924Z"
   },
   {
    "duration": 8,
    "start_time": "2022-07-10T16:58:34.828Z"
   },
   {
    "duration": 3,
    "start_time": "2022-07-10T16:59:07.156Z"
   },
   {
    "duration": 53,
    "start_time": "2022-07-10T16:59:08.545Z"
   },
   {
    "duration": 4,
    "start_time": "2022-07-10T16:59:10.493Z"
   },
   {
    "duration": 8,
    "start_time": "2022-07-10T16:59:10.990Z"
   },
   {
    "duration": 50,
    "start_time": "2022-07-10T16:59:13.246Z"
   },
   {
    "duration": 9,
    "start_time": "2022-07-10T16:59:16.010Z"
   },
   {
    "duration": 12,
    "start_time": "2022-07-10T16:59:59.947Z"
   },
   {
    "duration": 5,
    "start_time": "2022-07-10T17:01:44.743Z"
   },
   {
    "duration": 49,
    "start_time": "2022-07-10T17:02:09.317Z"
   },
   {
    "duration": 927,
    "start_time": "2022-07-10T17:02:12.899Z"
   },
   {
    "duration": 62,
    "start_time": "2022-07-10T17:02:19.476Z"
   },
   {
    "duration": 11,
    "start_time": "2022-07-10T17:02:47.301Z"
   },
   {
    "duration": 11,
    "start_time": "2022-07-10T17:02:52.450Z"
   },
   {
    "duration": 10,
    "start_time": "2022-07-10T17:04:28.619Z"
   },
   {
    "duration": 5,
    "start_time": "2022-07-10T17:04:33.238Z"
   },
   {
    "duration": 4,
    "start_time": "2022-07-10T17:05:52.439Z"
   },
   {
    "duration": 941,
    "start_time": "2022-07-10T17:06:03.069Z"
   },
   {
    "duration": 5,
    "start_time": "2022-07-10T17:06:24.544Z"
   },
   {
    "duration": 4,
    "start_time": "2022-07-10T17:06:56.209Z"
   },
   {
    "duration": 3,
    "start_time": "2022-07-10T17:08:57.995Z"
   },
   {
    "duration": 50,
    "start_time": "2022-07-10T17:08:59.342Z"
   },
   {
    "duration": 4,
    "start_time": "2022-07-10T17:09:00.246Z"
   },
   {
    "duration": 8,
    "start_time": "2022-07-10T17:09:00.672Z"
   },
   {
    "duration": 50,
    "start_time": "2022-07-10T17:09:09.484Z"
   },
   {
    "duration": 4,
    "start_time": "2022-07-10T17:09:10.314Z"
   },
   {
    "duration": 4,
    "start_time": "2022-07-10T17:09:10.842Z"
   },
   {
    "duration": 3,
    "start_time": "2022-07-10T17:10:04.061Z"
   },
   {
    "duration": 50,
    "start_time": "2022-07-10T17:10:06.516Z"
   },
   {
    "duration": 4,
    "start_time": "2022-07-10T17:10:06.877Z"
   },
   {
    "duration": 8,
    "start_time": "2022-07-10T17:10:07.438Z"
   },
   {
    "duration": 2,
    "start_time": "2022-07-10T17:10:16.785Z"
   },
   {
    "duration": 47,
    "start_time": "2022-07-10T17:10:17.940Z"
   },
   {
    "duration": 4,
    "start_time": "2022-07-10T17:10:19.626Z"
   },
   {
    "duration": 9,
    "start_time": "2022-07-10T17:10:20.790Z"
   },
   {
    "duration": 80,
    "start_time": "2022-07-10T17:10:29.575Z"
   },
   {
    "duration": 5,
    "start_time": "2022-07-10T17:10:30.670Z"
   },
   {
    "duration": 5,
    "start_time": "2022-07-10T17:10:31.307Z"
   },
   {
    "duration": 4,
    "start_time": "2022-07-10T17:10:53.885Z"
   },
   {
    "duration": 48,
    "start_time": "2022-07-10T17:10:55.101Z"
   },
   {
    "duration": 5,
    "start_time": "2022-07-10T17:10:55.285Z"
   },
   {
    "duration": 8,
    "start_time": "2022-07-10T17:10:56.351Z"
   },
   {
    "duration": 47,
    "start_time": "2022-07-10T17:10:57.709Z"
   },
   {
    "duration": 4,
    "start_time": "2022-07-10T17:10:58.293Z"
   },
   {
    "duration": 5,
    "start_time": "2022-07-10T17:10:58.701Z"
   },
   {
    "duration": 3,
    "start_time": "2022-07-10T17:13:11.733Z"
   },
   {
    "duration": 52,
    "start_time": "2022-07-10T17:13:13.209Z"
   },
   {
    "duration": 5,
    "start_time": "2022-07-10T17:13:13.591Z"
   },
   {
    "duration": 8,
    "start_time": "2022-07-10T17:13:14.467Z"
   },
   {
    "duration": 63,
    "start_time": "2022-07-10T17:13:15.035Z"
   },
   {
    "duration": 5,
    "start_time": "2022-07-10T17:13:16.432Z"
   },
   {
    "duration": 5,
    "start_time": "2022-07-10T17:13:17.000Z"
   },
   {
    "duration": 4,
    "start_time": "2022-07-10T17:13:26.475Z"
   },
   {
    "duration": 59,
    "start_time": "2022-07-10T17:13:30.016Z"
   },
   {
    "duration": 6,
    "start_time": "2022-07-10T17:13:30.680Z"
   },
   {
    "duration": 9,
    "start_time": "2022-07-10T17:13:31.462Z"
   },
   {
    "duration": 46,
    "start_time": "2022-07-10T17:13:33.671Z"
   },
   {
    "duration": 50964,
    "start_time": "2022-07-10T17:19:08.317Z"
   },
   {
    "duration": 43238,
    "start_time": "2022-07-10T17:28:17.564Z"
   },
   {
    "duration": 762,
    "start_time": "2022-07-10T17:29:50.584Z"
   },
   {
    "duration": 1029,
    "start_time": "2022-07-10T17:31:24.046Z"
   },
   {
    "duration": 919,
    "start_time": "2022-07-10T17:31:43.643Z"
   },
   {
    "duration": 1123,
    "start_time": "2022-07-10T17:32:03.758Z"
   },
   {
    "duration": 828,
    "start_time": "2022-07-10T17:32:10.779Z"
   },
   {
    "duration": 4,
    "start_time": "2022-07-10T17:32:35.376Z"
   },
   {
    "duration": 4,
    "start_time": "2022-07-10T17:32:42.648Z"
   },
   {
    "duration": 101,
    "start_time": "2022-07-10T17:32:59.262Z"
   },
   {
    "duration": 751,
    "start_time": "2022-07-10T17:34:10.926Z"
   },
   {
    "duration": 9,
    "start_time": "2022-07-10T17:34:11.679Z"
   },
   {
    "duration": 3,
    "start_time": "2022-07-10T17:34:12.925Z"
   },
   {
    "duration": 46,
    "start_time": "2022-07-10T17:34:14.090Z"
   },
   {
    "duration": 46,
    "start_time": "2022-07-10T17:34:14.575Z"
   },
   {
    "duration": 11,
    "start_time": "2022-07-10T17:34:15.367Z"
   },
   {
    "duration": 5,
    "start_time": "2022-07-10T17:34:20.165Z"
   },
   {
    "duration": 97,
    "start_time": "2022-07-10T17:34:21.451Z"
   },
   {
    "duration": 3,
    "start_time": "2022-07-10T17:34:56.845Z"
   },
   {
    "duration": 44,
    "start_time": "2022-07-10T17:34:57.667Z"
   },
   {
    "duration": 40,
    "start_time": "2022-07-10T17:35:01.117Z"
   },
   {
    "duration": 8,
    "start_time": "2022-07-10T17:35:03.501Z"
   },
   {
    "duration": 4,
    "start_time": "2022-07-10T17:35:32.881Z"
   },
   {
    "duration": 131,
    "start_time": "2022-07-10T17:35:45.676Z"
   },
   {
    "duration": 3,
    "start_time": "2022-07-10T17:36:10.646Z"
   },
   {
    "duration": 46,
    "start_time": "2022-07-10T17:36:11.061Z"
   },
   {
    "duration": 50,
    "start_time": "2022-07-10T17:36:11.394Z"
   },
   {
    "duration": 8,
    "start_time": "2022-07-10T17:36:12.522Z"
   },
   {
    "duration": 5,
    "start_time": "2022-07-10T17:36:13.449Z"
   },
   {
    "duration": 2,
    "start_time": "2022-07-10T17:36:23.678Z"
   },
   {
    "duration": 47,
    "start_time": "2022-07-10T17:36:24.215Z"
   },
   {
    "duration": 44,
    "start_time": "2022-07-10T17:36:24.721Z"
   },
   {
    "duration": 9,
    "start_time": "2022-07-10T17:36:26.164Z"
   },
   {
    "duration": 5,
    "start_time": "2022-07-10T17:36:27.325Z"
   },
   {
    "duration": 116,
    "start_time": "2022-07-10T17:36:28.201Z"
   },
   {
    "duration": 54,
    "start_time": "2022-07-10T17:36:45.494Z"
   },
   {
    "duration": 50,
    "start_time": "2022-07-10T17:36:57.013Z"
   },
   {
    "duration": 8,
    "start_time": "2022-07-10T17:37:41.830Z"
   },
   {
    "duration": 36,
    "start_time": "2022-07-10T17:39:24.656Z"
   },
   {
    "duration": 3,
    "start_time": "2022-07-10T17:41:29.465Z"
   },
   {
    "duration": 47,
    "start_time": "2022-07-10T17:41:29.848Z"
   },
   {
    "duration": 50,
    "start_time": "2022-07-10T17:41:30.163Z"
   },
   {
    "duration": 7,
    "start_time": "2022-07-10T17:41:30.880Z"
   },
   {
    "duration": 4,
    "start_time": "2022-07-10T17:41:31.348Z"
   },
   {
    "duration": 138,
    "start_time": "2022-07-10T17:41:35.375Z"
   },
   {
    "duration": 755,
    "start_time": "2022-07-10T17:55:35.948Z"
   },
   {
    "duration": 1080,
    "start_time": "2022-07-10T17:57:50.374Z"
   },
   {
    "duration": 847,
    "start_time": "2022-07-10T17:58:01.310Z"
   },
   {
    "duration": 4,
    "start_time": "2022-07-10T17:59:37.591Z"
   },
   {
    "duration": 55,
    "start_time": "2022-07-10T17:59:38.849Z"
   },
   {
    "duration": 48,
    "start_time": "2022-07-10T17:59:39.509Z"
   },
   {
    "duration": 8,
    "start_time": "2022-07-10T17:59:42.177Z"
   },
   {
    "duration": 89,
    "start_time": "2022-07-10T17:59:56.363Z"
   },
   {
    "duration": 1583,
    "start_time": "2022-07-10T18:00:03.956Z"
   },
   {
    "duration": 103,
    "start_time": "2022-07-10T18:00:10.405Z"
   },
   {
    "duration": 5,
    "start_time": "2022-07-10T18:03:13.115Z"
   },
   {
    "duration": 52,
    "start_time": "2022-07-10T18:03:15.147Z"
   },
   {
    "duration": 49,
    "start_time": "2022-07-10T18:03:40.846Z"
   },
   {
    "duration": 9,
    "start_time": "2022-07-10T18:03:41.615Z"
   },
   {
    "duration": 45,
    "start_time": "2022-07-10T18:05:19.547Z"
   },
   {
    "duration": 48,
    "start_time": "2022-07-10T18:05:27.665Z"
   },
   {
    "duration": 48,
    "start_time": "2022-07-10T18:05:31.188Z"
   },
   {
    "duration": 42,
    "start_time": "2022-07-10T18:05:36.481Z"
   },
   {
    "duration": 46,
    "start_time": "2022-07-10T18:05:42.069Z"
   },
   {
    "duration": 50,
    "start_time": "2022-07-10T18:07:31.463Z"
   },
   {
    "duration": 45,
    "start_time": "2022-07-10T18:09:03.274Z"
   },
   {
    "duration": 54,
    "start_time": "2022-07-10T18:09:21.155Z"
   },
   {
    "duration": 31,
    "start_time": "2022-07-10T18:09:44.154Z"
   },
   {
    "duration": 35,
    "start_time": "2022-07-10T18:09:52.350Z"
   },
   {
    "duration": 3,
    "start_time": "2022-07-10T18:12:17.266Z"
   },
   {
    "duration": 50,
    "start_time": "2022-07-10T18:12:20.458Z"
   },
   {
    "duration": 300,
    "start_time": "2022-07-10T18:12:21.882Z"
   },
   {
    "duration": 743,
    "start_time": "2022-07-10T18:14:10.705Z"
   },
   {
    "duration": 4,
    "start_time": "2022-07-10T18:14:12.711Z"
   },
   {
    "duration": 50,
    "start_time": "2022-07-10T18:14:13.486Z"
   },
   {
    "duration": 47,
    "start_time": "2022-07-10T18:14:14.605Z"
   },
   {
    "duration": 7,
    "start_time": "2022-07-10T18:14:16.840Z"
   },
   {
    "duration": 239,
    "start_time": "2022-07-10T18:14:19.634Z"
   },
   {
    "duration": 8,
    "start_time": "2022-07-10T18:14:21.447Z"
   },
   {
    "duration": 764,
    "start_time": "2022-07-10T18:15:48.302Z"
   },
   {
    "duration": 4,
    "start_time": "2022-07-10T18:15:49.864Z"
   },
   {
    "duration": 50,
    "start_time": "2022-07-10T18:15:50.783Z"
   },
   {
    "duration": 58,
    "start_time": "2022-07-10T18:15:51.789Z"
   },
   {
    "duration": 8,
    "start_time": "2022-07-10T18:15:53.226Z"
   },
   {
    "duration": 51311,
    "start_time": "2022-07-10T18:15:54.958Z"
   },
   {
    "duration": 8,
    "start_time": "2022-07-10T18:16:46.271Z"
   },
   {
    "duration": 44089,
    "start_time": "2022-07-10T18:17:43.598Z"
   },
   {
    "duration": 8,
    "start_time": "2022-07-10T18:18:27.689Z"
   },
   {
    "duration": 243,
    "start_time": "2022-07-10T19:23:42.214Z"
   },
   {
    "duration": 724,
    "start_time": "2022-07-10T19:25:20.941Z"
   },
   {
    "duration": 3,
    "start_time": "2022-07-10T19:25:22.748Z"
   },
   {
    "duration": 50,
    "start_time": "2022-07-10T19:25:23.543Z"
   },
   {
    "duration": 53,
    "start_time": "2022-07-10T19:25:23.873Z"
   },
   {
    "duration": 43034,
    "start_time": "2022-07-10T19:25:24.240Z"
   },
   {
    "duration": 8,
    "start_time": "2022-07-10T19:26:07.276Z"
   },
   {
    "duration": 9,
    "start_time": "2022-07-10T19:27:03.605Z"
   },
   {
    "duration": 7,
    "start_time": "2022-07-10T19:27:57.594Z"
   },
   {
    "duration": 886,
    "start_time": "2022-07-10T19:28:31.264Z"
   },
   {
    "duration": 37,
    "start_time": "2022-07-10T19:28:44.106Z"
   },
   {
    "duration": 61,
    "start_time": "2022-07-10T19:29:26.699Z"
   },
   {
    "duration": 309,
    "start_time": "2022-07-10T19:30:33.349Z"
   },
   {
    "duration": 31,
    "start_time": "2022-07-10T19:30:46.140Z"
   },
   {
    "duration": 6,
    "start_time": "2022-07-10T19:33:00.612Z"
   },
   {
    "duration": 7,
    "start_time": "2022-07-10T19:33:37.844Z"
   },
   {
    "duration": 18,
    "start_time": "2022-07-10T19:37:47.576Z"
   },
   {
    "duration": 4,
    "start_time": "2022-07-10T19:38:27.758Z"
   },
   {
    "duration": 189,
    "start_time": "2022-07-10T19:38:30.656Z"
   },
   {
    "duration": 4,
    "start_time": "2022-07-10T19:38:35.659Z"
   },
   {
    "duration": 3,
    "start_time": "2022-07-10T19:39:00.387Z"
   },
   {
    "duration": 3,
    "start_time": "2022-07-10T19:40:01.503Z"
   },
   {
    "duration": 3,
    "start_time": "2022-07-10T19:40:11.401Z"
   },
   {
    "duration": 22,
    "start_time": "2022-07-10T19:40:26.207Z"
   },
   {
    "duration": 5,
    "start_time": "2022-07-10T19:41:06.164Z"
   },
   {
    "duration": 5,
    "start_time": "2022-07-10T19:41:25.297Z"
   },
   {
    "duration": 4,
    "start_time": "2022-07-10T19:41:41.201Z"
   },
   {
    "duration": 4,
    "start_time": "2022-07-10T19:42:17.914Z"
   },
   {
    "duration": 148,
    "start_time": "2022-07-10T19:42:31.553Z"
   },
   {
    "duration": 4,
    "start_time": "2022-07-10T19:42:32.406Z"
   },
   {
    "duration": 3,
    "start_time": "2022-07-10T19:42:33.781Z"
   },
   {
    "duration": 3,
    "start_time": "2022-07-10T19:42:36.216Z"
   },
   {
    "duration": 50,
    "start_time": "2022-07-10T19:42:37.120Z"
   },
   {
    "duration": 21,
    "start_time": "2022-07-10T19:43:28.490Z"
   },
   {
    "duration": 19,
    "start_time": "2022-07-10T19:45:49.829Z"
   },
   {
    "duration": 17,
    "start_time": "2022-07-10T19:46:31.397Z"
   },
   {
    "duration": 1060,
    "start_time": "2022-07-10T19:46:48.167Z"
   },
   {
    "duration": 64,
    "start_time": "2022-07-10T19:46:53.986Z"
   },
   {
    "duration": 29,
    "start_time": "2022-07-10T19:47:36.013Z"
   },
   {
    "duration": 22,
    "start_time": "2022-07-10T19:47:36.480Z"
   },
   {
    "duration": 7,
    "start_time": "2022-07-10T19:47:45.738Z"
   },
   {
    "duration": 153,
    "start_time": "2022-07-10T19:51:10.493Z"
   },
   {
    "duration": 4,
    "start_time": "2022-07-10T19:51:14.927Z"
   },
   {
    "duration": 2,
    "start_time": "2022-07-10T19:51:21.304Z"
   },
   {
    "duration": 3,
    "start_time": "2022-07-10T19:51:21.514Z"
   },
   {
    "duration": 49,
    "start_time": "2022-07-10T19:51:22.046Z"
   },
   {
    "duration": 93,
    "start_time": "2022-07-10T19:54:31.046Z"
   },
   {
    "duration": 7,
    "start_time": "2022-07-10T19:56:29.223Z"
   },
   {
    "duration": 7,
    "start_time": "2022-07-10T19:58:55.059Z"
   },
   {
    "duration": 16348,
    "start_time": "2022-07-10T19:58:56.710Z"
   },
   {
    "duration": 7,
    "start_time": "2022-07-10T19:59:29.827Z"
   },
   {
    "duration": 14986,
    "start_time": "2022-07-10T19:59:30.668Z"
   },
   {
    "duration": 4,
    "start_time": "2022-07-10T20:01:20.975Z"
   },
   {
    "duration": 27,
    "start_time": "2022-07-10T20:03:45.906Z"
   },
   {
    "duration": 10,
    "start_time": "2022-07-10T20:03:52.103Z"
   },
   {
    "duration": 13,
    "start_time": "2022-07-10T20:04:03.676Z"
   },
   {
    "duration": 11,
    "start_time": "2022-07-10T20:04:06.395Z"
   },
   {
    "duration": 11,
    "start_time": "2022-07-10T20:04:08.773Z"
   },
   {
    "duration": 11,
    "start_time": "2022-07-10T20:04:11.197Z"
   },
   {
    "duration": 11,
    "start_time": "2022-07-10T20:04:15.587Z"
   },
   {
    "duration": 14,
    "start_time": "2022-07-10T20:04:18.130Z"
   },
   {
    "duration": 15,
    "start_time": "2022-07-10T20:04:20.350Z"
   },
   {
    "duration": 13,
    "start_time": "2022-07-10T20:04:23.731Z"
   },
   {
    "duration": 13,
    "start_time": "2022-07-10T20:04:29.673Z"
   },
   {
    "duration": 17,
    "start_time": "2022-07-10T20:04:33.350Z"
   },
   {
    "duration": 15,
    "start_time": "2022-07-10T20:04:35.380Z"
   },
   {
    "duration": 12,
    "start_time": "2022-07-10T20:04:37.956Z"
   },
   {
    "duration": 14,
    "start_time": "2022-07-10T20:04:40.355Z"
   },
   {
    "duration": 9,
    "start_time": "2022-07-10T21:36:56.658Z"
   },
   {
    "duration": 1801,
    "start_time": "2022-07-10T21:36:57.415Z"
   },
   {
    "duration": 4,
    "start_time": "2022-07-10T21:37:01.802Z"
   },
   {
    "duration": 8,
    "start_time": "2022-07-10T21:37:34.353Z"
   },
   {
    "duration": 52,
    "start_time": "2022-07-10T21:37:34.930Z"
   },
   {
    "duration": 11,
    "start_time": "2022-07-10T21:37:46.331Z"
   },
   {
    "duration": 43,
    "start_time": "2022-07-10T21:37:46.846Z"
   },
   {
    "duration": 7,
    "start_time": "2022-07-10T21:37:52.011Z"
   },
   {
    "duration": 1926,
    "start_time": "2022-07-10T21:37:52.547Z"
   },
   {
    "duration": 5,
    "start_time": "2022-07-10T21:37:56.771Z"
   },
   {
    "duration": 10,
    "start_time": "2022-07-10T21:38:08.514Z"
   },
   {
    "duration": 7,
    "start_time": "2022-07-10T21:42:53.756Z"
   },
   {
    "duration": 1481,
    "start_time": "2022-07-10T21:42:54.628Z"
   },
   {
    "duration": 4,
    "start_time": "2022-07-10T21:42:58.038Z"
   },
   {
    "duration": 7,
    "start_time": "2022-07-10T21:43:13.219Z"
   },
   {
    "duration": 2629,
    "start_time": "2022-07-10T21:43:13.675Z"
   },
   {
    "duration": 3,
    "start_time": "2022-07-10T21:43:17.368Z"
   },
   {
    "duration": 7,
    "start_time": "2022-07-10T21:43:32.873Z"
   },
   {
    "duration": 7643,
    "start_time": "2022-07-10T21:43:33.458Z"
   },
   {
    "duration": 4,
    "start_time": "2022-07-10T21:43:42.060Z"
   },
   {
    "duration": 9,
    "start_time": "2022-07-10T21:43:51.343Z"
   },
   {
    "duration": 21477,
    "start_time": "2022-07-10T21:43:51.739Z"
   },
   {
    "duration": 4,
    "start_time": "2022-07-10T21:44:15.786Z"
   },
   {
    "duration": 45,
    "start_time": "2022-07-10T21:45:42.840Z"
   },
   {
    "duration": 161,
    "start_time": "2022-07-10T21:46:54.092Z"
   },
   {
    "duration": 149,
    "start_time": "2022-07-10T21:47:07.168Z"
   },
   {
    "duration": 52,
    "start_time": "2022-07-10T21:51:52.960Z"
   },
   {
    "duration": 351,
    "start_time": "2022-07-10T21:52:39.347Z"
   },
   {
    "duration": 8,
    "start_time": "2022-07-10T21:55:13.489Z"
   },
   {
    "duration": 19873,
    "start_time": "2022-07-10T21:55:14.216Z"
   },
   {
    "duration": 8,
    "start_time": "2022-07-10T21:56:26.851Z"
   },
   {
    "duration": 11638,
    "start_time": "2022-07-10T21:56:27.529Z"
   },
   {
    "duration": 8,
    "start_time": "2022-07-10T21:57:14.248Z"
   },
   {
    "duration": 13781,
    "start_time": "2022-07-10T21:57:14.601Z"
   },
   {
    "duration": 4,
    "start_time": "2022-07-10T21:57:32.057Z"
   },
   {
    "duration": 149,
    "start_time": "2022-07-10T21:57:38.408Z"
   },
   {
    "duration": 9,
    "start_time": "2022-07-10T21:58:12.328Z"
   },
   {
    "duration": 12347,
    "start_time": "2022-07-10T21:58:12.613Z"
   },
   {
    "duration": 3,
    "start_time": "2022-07-10T21:58:32.631Z"
   },
   {
    "duration": 137,
    "start_time": "2022-07-10T21:58:37.443Z"
   },
   {
    "duration": 9,
    "start_time": "2022-07-10T21:58:44.550Z"
   },
   {
    "duration": 9946,
    "start_time": "2022-07-10T21:58:45.005Z"
   },
   {
    "duration": 4,
    "start_time": "2022-07-10T21:58:56.037Z"
   },
   {
    "duration": 127,
    "start_time": "2022-07-10T21:58:57.326Z"
   },
   {
    "duration": 8,
    "start_time": "2022-07-10T21:59:08.835Z"
   },
   {
    "duration": 10445,
    "start_time": "2022-07-10T21:59:09.130Z"
   },
   {
    "duration": 3,
    "start_time": "2022-07-10T21:59:20.948Z"
   },
   {
    "duration": 8,
    "start_time": "2022-07-10T21:59:29.427Z"
   },
   {
    "duration": 28,
    "start_time": "2022-07-10T21:59:30.125Z"
   },
   {
    "duration": 18,
    "start_time": "2022-07-10T22:01:22.424Z"
   },
   {
    "duration": 7,
    "start_time": "2022-07-10T22:01:24.159Z"
   },
   {
    "duration": 72,
    "start_time": "2022-07-10T22:01:24.739Z"
   },
   {
    "duration": 9,
    "start_time": "2022-07-10T22:01:45.313Z"
   },
   {
    "duration": 13153,
    "start_time": "2022-07-10T22:01:45.529Z"
   },
   {
    "duration": 4,
    "start_time": "2022-07-10T22:01:59.925Z"
   },
   {
    "duration": 139,
    "start_time": "2022-07-10T22:02:03.274Z"
   },
   {
    "duration": 8,
    "start_time": "2022-07-10T22:02:25.391Z"
   },
   {
    "duration": 11463,
    "start_time": "2022-07-10T22:02:25.751Z"
   },
   {
    "duration": 4,
    "start_time": "2022-07-10T22:02:40.520Z"
   },
   {
    "duration": 94,
    "start_time": "2022-07-10T22:02:49.837Z"
   },
   {
    "duration": 8,
    "start_time": "2022-07-10T22:03:25.828Z"
   },
   {
    "duration": 12126,
    "start_time": "2022-07-10T22:03:26.057Z"
   },
   {
    "duration": 9,
    "start_time": "2022-07-10T22:04:23.887Z"
   },
   {
    "duration": 11854,
    "start_time": "2022-07-10T22:04:24.630Z"
   },
   {
    "duration": 4,
    "start_time": "2022-07-10T22:04:39.527Z"
   },
   {
    "duration": 120,
    "start_time": "2022-07-10T22:04:40.787Z"
   },
   {
    "duration": 78,
    "start_time": "2022-07-10T22:06:51.279Z"
   },
   {
    "duration": 9,
    "start_time": "2022-07-10T22:06:59.393Z"
   },
   {
    "duration": 552,
    "start_time": "2022-07-10T22:07:00.253Z"
   },
   {
    "duration": 8,
    "start_time": "2022-07-10T22:07:09.829Z"
   },
   {
    "duration": 77,
    "start_time": "2022-07-10T22:07:10.216Z"
   },
   {
    "duration": 9,
    "start_time": "2022-07-10T22:07:21.577Z"
   },
   {
    "duration": 79,
    "start_time": "2022-07-10T22:07:22.099Z"
   },
   {
    "duration": 8,
    "start_time": "2022-07-10T22:13:24.222Z"
   },
   {
    "duration": 83,
    "start_time": "2022-07-10T22:13:24.792Z"
   },
   {
    "duration": 25,
    "start_time": "2022-07-10T22:13:37.787Z"
   },
   {
    "duration": 9,
    "start_time": "2022-07-10T22:13:54.858Z"
   },
   {
    "duration": 122,
    "start_time": "2022-07-10T22:13:55.466Z"
   },
   {
    "duration": 9,
    "start_time": "2022-07-10T22:14:12.734Z"
   },
   {
    "duration": 988,
    "start_time": "2022-07-10T22:14:13.265Z"
   },
   {
    "duration": 9,
    "start_time": "2022-07-10T22:14:30.692Z"
   },
   {
    "duration": 128,
    "start_time": "2022-07-10T22:14:30.774Z"
   },
   {
    "duration": 9,
    "start_time": "2022-07-10T22:14:47.524Z"
   },
   {
    "duration": 262,
    "start_time": "2022-07-10T22:14:48.013Z"
   },
   {
    "duration": 8,
    "start_time": "2022-07-10T22:15:08.363Z"
   },
   {
    "duration": 12033,
    "start_time": "2022-07-10T22:15:08.730Z"
   },
   {
    "duration": 4,
    "start_time": "2022-07-10T22:15:21.842Z"
   },
   {
    "duration": 146,
    "start_time": "2022-07-10T22:15:24.310Z"
   },
   {
    "duration": 9,
    "start_time": "2022-07-10T22:15:56.679Z"
   },
   {
    "duration": 11909,
    "start_time": "2022-07-10T22:15:57.023Z"
   },
   {
    "duration": 4,
    "start_time": "2022-07-10T22:16:09.821Z"
   },
   {
    "duration": 135,
    "start_time": "2022-07-10T22:16:10.978Z"
   },
   {
    "duration": 9,
    "start_time": "2022-07-10T22:16:22.844Z"
   },
   {
    "duration": 9247,
    "start_time": "2022-07-10T22:16:23.102Z"
   },
   {
    "duration": 4,
    "start_time": "2022-07-10T22:16:33.042Z"
   },
   {
    "duration": 109,
    "start_time": "2022-07-10T22:16:34.187Z"
   },
   {
    "duration": 10,
    "start_time": "2022-07-10T22:19:15.710Z"
   },
   {
    "duration": 26115,
    "start_time": "2022-07-10T22:19:16.318Z"
   },
   {
    "duration": 4,
    "start_time": "2022-07-10T22:19:54.294Z"
   },
   {
    "duration": 117,
    "start_time": "2022-07-10T22:19:55.114Z"
   },
   {
    "duration": 9,
    "start_time": "2022-07-10T22:20:13.503Z"
   },
   {
    "duration": 23190,
    "start_time": "2022-07-10T22:20:13.855Z"
   },
   {
    "duration": 4,
    "start_time": "2022-07-10T22:20:38.878Z"
   },
   {
    "duration": 134,
    "start_time": "2022-07-10T22:20:39.763Z"
   },
   {
    "duration": 9,
    "start_time": "2022-07-10T22:20:47.326Z"
   },
   {
    "duration": 23950,
    "start_time": "2022-07-10T22:20:47.772Z"
   },
   {
    "duration": 3,
    "start_time": "2022-07-10T22:27:23.492Z"
   },
   {
    "duration": 51,
    "start_time": "2022-07-10T22:33:10.036Z"
   },
   {
    "duration": 27318656,
    "start_time": "2022-07-10T22:33:15.283Z"
   },
   {
    "duration": 22,
    "start_time": "2022-07-11T06:15:55.206Z"
   },
   {
    "duration": 81,
    "start_time": "2022-07-11T06:15:55.866Z"
   },
   {
    "duration": 12,
    "start_time": "2022-07-11T06:16:04.993Z"
   },
   {
    "duration": 89,
    "start_time": "2022-07-11T06:16:06.472Z"
   },
   {
    "duration": 9,
    "start_time": "2022-07-11T06:17:32.159Z"
   },
   {
    "duration": 12534,
    "start_time": "2022-07-11T06:17:32.727Z"
   },
   {
    "duration": 13,
    "start_time": "2022-07-11T06:18:10.708Z"
   },
   {
    "duration": 13157,
    "start_time": "2022-07-11T06:18:11.272Z"
   },
   {
    "duration": 4,
    "start_time": "2022-07-11T06:18:27.459Z"
   },
   {
    "duration": 154,
    "start_time": "2022-07-11T06:18:33.124Z"
   },
   {
    "duration": 14,
    "start_time": "2022-07-11T06:27:16.098Z"
   },
   {
    "duration": 11979,
    "start_time": "2022-07-11T06:27:17.647Z"
   },
   {
    "duration": 4,
    "start_time": "2022-07-11T06:27:31.898Z"
   },
   {
    "duration": 16,
    "start_time": "2022-07-11T06:29:28.799Z"
   },
   {
    "duration": 12373,
    "start_time": "2022-07-11T06:29:33.117Z"
   },
   {
    "duration": 3,
    "start_time": "2022-07-11T06:29:46.334Z"
   },
   {
    "duration": 122,
    "start_time": "2022-07-11T06:29:48.630Z"
   },
   {
    "duration": 10,
    "start_time": "2022-07-11T06:30:34.491Z"
   },
   {
    "duration": 13083,
    "start_time": "2022-07-11T06:30:35.180Z"
   },
   {
    "duration": 8,
    "start_time": "2022-07-11T06:31:06.478Z"
   },
   {
    "duration": 11848,
    "start_time": "2022-07-11T06:42:19.316Z"
   },
   {
    "duration": 12114,
    "start_time": "2022-07-11T06:43:51.584Z"
   },
   {
    "duration": 4,
    "start_time": "2022-07-11T06:44:05.751Z"
   },
   {
    "duration": 8,
    "start_time": "2022-07-11T06:44:50.974Z"
   },
   {
    "duration": 12731,
    "start_time": "2022-07-11T06:44:51.594Z"
   },
   {
    "duration": 4,
    "start_time": "2022-07-11T06:45:05.704Z"
   },
   {
    "duration": 126,
    "start_time": "2022-07-11T06:45:07.323Z"
   },
   {
    "duration": 12,
    "start_time": "2022-07-11T06:45:52.840Z"
   },
   {
    "duration": 13043,
    "start_time": "2022-07-11T06:45:55.276Z"
   },
   {
    "duration": 4,
    "start_time": "2022-07-11T06:46:09.723Z"
   },
   {
    "duration": 138,
    "start_time": "2022-07-11T06:46:10.809Z"
   },
   {
    "duration": 8,
    "start_time": "2022-07-11T06:46:23.088Z"
   },
   {
    "duration": 11915,
    "start_time": "2022-07-11T06:46:23.657Z"
   },
   {
    "duration": 4,
    "start_time": "2022-07-11T06:46:35.574Z"
   },
   {
    "duration": 8,
    "start_time": "2022-07-11T06:46:48.968Z"
   },
   {
    "duration": 13221,
    "start_time": "2022-07-11T06:46:49.928Z"
   },
   {
    "duration": 4,
    "start_time": "2022-07-11T06:47:04.070Z"
   },
   {
    "duration": 132,
    "start_time": "2022-07-11T06:47:08.974Z"
   },
   {
    "duration": 9,
    "start_time": "2022-07-11T06:47:16.005Z"
   },
   {
    "duration": 10710,
    "start_time": "2022-07-11T06:47:16.726Z"
   },
   {
    "duration": 4,
    "start_time": "2022-07-11T06:47:29.012Z"
   },
   {
    "duration": 8,
    "start_time": "2022-07-11T06:47:33.422Z"
   },
   {
    "duration": 12332,
    "start_time": "2022-07-11T06:47:33.756Z"
   },
   {
    "duration": 4,
    "start_time": "2022-07-11T06:47:47.071Z"
   },
   {
    "duration": 99,
    "start_time": "2022-07-11T06:47:47.823Z"
   },
   {
    "duration": 9,
    "start_time": "2022-07-11T06:48:10.744Z"
   },
   {
    "duration": 13425,
    "start_time": "2022-07-11T06:48:11.370Z"
   },
   {
    "duration": 3,
    "start_time": "2022-07-11T06:48:25.844Z"
   },
   {
    "duration": 120,
    "start_time": "2022-07-11T06:48:26.957Z"
   },
   {
    "duration": 10,
    "start_time": "2022-07-11T06:48:43.743Z"
   },
   {
    "duration": 11697,
    "start_time": "2022-07-11T06:48:44.063Z"
   },
   {
    "duration": 4,
    "start_time": "2022-07-11T06:48:57.585Z"
   },
   {
    "duration": 141,
    "start_time": "2022-07-11T06:48:59.269Z"
   },
   {
    "duration": 10742,
    "start_time": "2022-07-11T06:49:02.437Z"
   },
   {
    "duration": 4,
    "start_time": "2022-07-11T06:49:20.053Z"
   },
   {
    "duration": 118,
    "start_time": "2022-07-11T06:49:21.938Z"
   },
   {
    "duration": 9,
    "start_time": "2022-07-11T06:50:15.014Z"
   },
   {
    "duration": 69,
    "start_time": "2022-07-11T06:50:15.450Z"
   },
   {
    "duration": 9,
    "start_time": "2022-07-11T06:50:53.789Z"
   },
   {
    "duration": 60665,
    "start_time": "2022-07-11T06:50:54.337Z"
   },
   {
    "duration": 8,
    "start_time": "2022-07-11T07:00:49.991Z"
   },
   {
    "duration": 347,
    "start_time": "2022-07-11T07:00:56.489Z"
   },
   {
    "duration": 9,
    "start_time": "2022-07-11T07:01:54.690Z"
   },
   {
    "duration": 374576,
    "start_time": "2022-07-11T07:01:55.276Z"
   },
   {
    "duration": 10,
    "start_time": "2022-07-11T07:09:30.766Z"
   },
   {
    "duration": 8,
    "start_time": "2022-07-11T07:09:42.456Z"
   },
   {
    "duration": 64,
    "start_time": "2022-07-11T07:09:43.225Z"
   },
   {
    "duration": 8,
    "start_time": "2022-07-11T07:09:49.514Z"
   },
   {
    "duration": 324346,
    "start_time": "2022-07-11T07:09:49.946Z"
   },
   {
    "duration": 4,
    "start_time": "2022-07-11T07:18:10.489Z"
   },
   {
    "duration": 55,
    "start_time": "2022-07-11T07:19:59.478Z"
   },
   {
    "duration": 58,
    "start_time": "2022-07-11T07:20:08.451Z"
   },
   {
    "duration": 9,
    "start_time": "2022-07-11T07:20:26.111Z"
   },
   {
    "duration": 32433,
    "start_time": "2022-07-11T07:20:28.295Z"
   },
   {
    "duration": 9,
    "start_time": "2022-07-11T07:26:28.360Z"
   },
   {
    "duration": 275,
    "start_time": "2022-07-11T07:26:28.561Z"
   },
   {
    "duration": 8,
    "start_time": "2022-07-11T07:26:46.748Z"
   },
   {
    "duration": 22115,
    "start_time": "2022-07-11T07:26:47.389Z"
   },
   {
    "duration": 4,
    "start_time": "2022-07-11T07:28:22.118Z"
   },
   {
    "duration": 110,
    "start_time": "2022-07-11T07:28:23.201Z"
   },
   {
    "duration": 10,
    "start_time": "2022-07-11T07:29:11.434Z"
   },
   {
    "duration": 429940,
    "start_time": "2022-07-11T07:29:12.251Z"
   },
   {
    "duration": 10,
    "start_time": "2022-07-11T07:39:54.621Z"
   },
   {
    "duration": 5,
    "start_time": "2022-07-11T07:41:05.927Z"
   },
   {
    "duration": 5,
    "start_time": "2022-07-11T07:41:10.391Z"
   },
   {
    "duration": 115,
    "start_time": "2022-07-11T07:41:58.004Z"
   },
   {
    "duration": 9,
    "start_time": "2022-07-11T07:42:44.385Z"
   },
   {
    "duration": 3,
    "start_time": "2022-07-11T08:09:05.835Z"
   },
   {
    "duration": 53,
    "start_time": "2022-07-11T08:09:06.177Z"
   },
   {
    "duration": 18,
    "start_time": "2022-07-11T08:10:40.461Z"
   },
   {
    "duration": 3,
    "start_time": "2022-07-11T08:10:44.539Z"
   },
   {
    "duration": 52,
    "start_time": "2022-07-11T08:10:44.972Z"
   },
   {
    "duration": 20,
    "start_time": "2022-07-11T08:10:45.828Z"
   },
   {
    "duration": 250,
    "start_time": "2022-07-11T08:10:53.482Z"
   },
   {
    "duration": 448,
    "start_time": "2022-07-11T08:11:16.098Z"
   },
   {
    "duration": 238,
    "start_time": "2022-07-11T08:11:23.478Z"
   },
   {
    "duration": 489,
    "start_time": "2022-07-11T08:11:28.559Z"
   },
   {
    "duration": 742,
    "start_time": "2022-07-11T08:11:34.537Z"
   },
   {
    "duration": 705,
    "start_time": "2022-07-11T08:11:38.864Z"
   },
   {
    "duration": 515,
    "start_time": "2022-07-11T08:27:02.685Z"
   },
   {
    "duration": 527,
    "start_time": "2022-07-11T08:27:05.568Z"
   },
   {
    "duration": 488,
    "start_time": "2022-07-11T08:27:08.415Z"
   },
   {
    "duration": 163,
    "start_time": "2022-07-11T08:27:14.848Z"
   },
   {
    "duration": 360,
    "start_time": "2022-07-11T08:27:17.962Z"
   },
   {
    "duration": 282,
    "start_time": "2022-07-11T08:27:21.708Z"
   },
   {
    "duration": 514,
    "start_time": "2022-07-11T08:28:36.681Z"
   },
   {
    "duration": 228,
    "start_time": "2022-07-11T08:28:41.006Z"
   },
   {
    "duration": 233,
    "start_time": "2022-07-11T08:28:43.509Z"
   },
   {
    "duration": 259,
    "start_time": "2022-07-11T08:28:46.184Z"
   },
   {
    "duration": 480,
    "start_time": "2022-07-11T08:28:48.868Z"
   },
   {
    "duration": 303,
    "start_time": "2022-07-11T08:28:55.584Z"
   },
   {
    "duration": 485,
    "start_time": "2022-07-11T08:28:58.822Z"
   },
   {
    "duration": 352,
    "start_time": "2022-07-11T08:29:04.584Z"
   },
   {
    "duration": 506,
    "start_time": "2022-07-11T08:29:07.948Z"
   },
   {
    "duration": 585,
    "start_time": "2022-07-11T08:29:10.732Z"
   },
   {
    "duration": 826,
    "start_time": "2022-07-11T08:29:14.877Z"
   },
   {
    "duration": 315,
    "start_time": "2022-07-11T08:29:18.396Z"
   },
   {
    "duration": 7,
    "start_time": "2022-07-11T08:36:56.807Z"
   },
   {
    "duration": 470815,
    "start_time": "2022-07-11T08:36:58.525Z"
   },
   {
    "duration": 8,
    "start_time": "2022-07-11T08:47:01.991Z"
   },
   {
    "duration": 443058,
    "start_time": "2022-07-11T08:47:02.687Z"
   },
   {
    "duration": 0,
    "start_time": "2022-07-11T08:54:25.747Z"
   },
   {
    "duration": 21,
    "start_time": "2022-07-11T08:55:27.494Z"
   },
   {
    "duration": 442577,
    "start_time": "2022-07-11T08:55:31.584Z"
   },
   {
    "duration": 8,
    "start_time": "2022-07-11T09:03:32.506Z"
   },
   {
    "duration": 397708,
    "start_time": "2022-07-11T09:03:35.207Z"
   },
   {
    "duration": 9,
    "start_time": "2022-07-11T09:12:41.756Z"
   },
   {
    "duration": 19,
    "start_time": "2022-07-11T09:13:12.932Z"
   },
   {
    "duration": 17353,
    "start_time": "2022-07-11T09:13:32.310Z"
   },
   {
    "duration": 10,
    "start_time": "2022-07-11T09:14:13.282Z"
   },
   {
    "duration": 38452,
    "start_time": "2022-07-11T09:14:15.150Z"
   },
   {
    "duration": 9,
    "start_time": "2022-07-11T09:15:46.694Z"
   },
   {
    "duration": 2240661,
    "start_time": "2022-07-11T09:15:47.041Z"
   },
   {
    "duration": 8,
    "start_time": "2022-07-11T09:54:37.784Z"
   },
   {
    "duration": 76509,
    "start_time": "2022-07-11T09:54:38.120Z"
   },
   {
    "duration": 8,
    "start_time": "2022-07-11T09:56:59.222Z"
   },
   {
    "duration": 84452,
    "start_time": "2022-07-11T09:56:59.769Z"
   },
   {
    "duration": 8,
    "start_time": "2022-07-11T09:59:21.504Z"
   },
   {
    "duration": 95857,
    "start_time": "2022-07-11T09:59:21.863Z"
   },
   {
    "duration": 10,
    "start_time": "2022-07-11T10:02:34.550Z"
   },
   {
    "duration": 97988,
    "start_time": "2022-07-11T10:02:36.069Z"
   },
   {
    "duration": 8,
    "start_time": "2022-07-11T10:04:26.412Z"
   },
   {
    "duration": 100096,
    "start_time": "2022-07-11T10:04:27.902Z"
   },
   {
    "duration": 8,
    "start_time": "2022-07-11T10:06:16.302Z"
   },
   {
    "duration": 92454,
    "start_time": "2022-07-11T10:06:17.563Z"
   },
   {
    "duration": 8,
    "start_time": "2022-07-11T10:07:55.038Z"
   },
   {
    "duration": 83992,
    "start_time": "2022-07-11T10:07:57.352Z"
   },
   {
    "duration": 10,
    "start_time": "2022-07-11T10:09:25.376Z"
   },
   {
    "duration": 95116,
    "start_time": "2022-07-11T10:09:26.805Z"
   },
   {
    "duration": 7,
    "start_time": "2022-07-11T10:11:08.407Z"
   },
   {
    "duration": 96123,
    "start_time": "2022-07-11T10:11:09.145Z"
   },
   {
    "duration": 9,
    "start_time": "2022-07-11T10:12:55.672Z"
   },
   {
    "duration": 94860,
    "start_time": "2022-07-11T10:12:55.998Z"
   },
   {
    "duration": 46111,
    "start_time": "2022-07-11T10:16:48.158Z"
   },
   {
    "duration": 530,
    "start_time": "2022-07-11T10:19:57.860Z"
   },
   {
    "duration": 872,
    "start_time": "2022-07-11T10:20:02.093Z"
   },
   {
    "duration": 8,
    "start_time": "2022-07-11T10:20:03.428Z"
   },
   {
    "duration": 28,
    "start_time": "2022-07-11T10:20:03.898Z"
   },
   {
    "duration": 35,
    "start_time": "2022-07-11T10:20:04.353Z"
   },
   {
    "duration": 732,
    "start_time": "2022-07-11T10:20:05.751Z"
   },
   {
    "duration": 736,
    "start_time": "2022-07-11T10:20:13.921Z"
   },
   {
    "duration": 4,
    "start_time": "2022-07-11T10:20:18.804Z"
   },
   {
    "duration": 731840,
    "start_time": "2022-07-11T10:20:21.900Z"
   },
   {
    "duration": 47,
    "start_time": "2022-07-11T10:33:09.496Z"
   },
   {
    "duration": 48,
    "start_time": "2022-07-11T10:33:30.655Z"
   },
   {
    "duration": 6,
    "start_time": "2022-07-11T10:33:45.961Z"
   },
   {
    "duration": 43091,
    "start_time": "2022-07-11T10:34:14.623Z"
   },
   {
    "duration": 2125,
    "start_time": "2022-07-11T10:35:59.220Z"
   },
   {
    "duration": 12,
    "start_time": "2022-07-11T10:36:01.348Z"
   },
   {
    "duration": 51,
    "start_time": "2022-07-11T10:36:01.361Z"
   },
   {
    "duration": 39,
    "start_time": "2022-07-11T10:36:01.414Z"
   },
   {
    "duration": 759,
    "start_time": "2022-07-11T10:36:01.455Z"
   },
   {
    "duration": 726,
    "start_time": "2022-07-11T10:36:06.741Z"
   },
   {
    "duration": 7,
    "start_time": "2022-07-11T10:36:08.475Z"
   },
   {
    "duration": 31,
    "start_time": "2022-07-11T10:36:08.952Z"
   },
   {
    "duration": 753,
    "start_time": "2022-07-11T10:36:19.035Z"
   },
   {
    "duration": 4,
    "start_time": "2022-07-11T10:36:32.040Z"
   },
   {
    "duration": 789,
    "start_time": "2022-07-11T10:36:45.753Z"
   },
   {
    "duration": 217210,
    "start_time": "2022-07-11T10:37:48.479Z"
   },
   {
    "duration": 28,
    "start_time": "2022-07-11T10:42:01.524Z"
   },
   {
    "duration": 3013,
    "start_time": "2022-07-11T10:42:56.086Z"
   },
   {
    "duration": 29,
    "start_time": "2022-07-11T10:43:15.645Z"
   },
   {
    "duration": 34,
    "start_time": "2022-07-11T10:43:30.041Z"
   },
   {
    "duration": 24,
    "start_time": "2022-07-11T10:43:57.945Z"
   },
   {
    "duration": 12886,
    "start_time": "2022-07-11T10:44:12.059Z"
   },
   {
    "duration": 20,
    "start_time": "2022-07-11T10:45:03.289Z"
   },
   {
    "duration": 283,
    "start_time": "2022-07-11T10:45:41.861Z"
   },
   {
    "duration": 447671,
    "start_time": "2022-07-11T10:46:09.736Z"
   },
   {
    "duration": 9,
    "start_time": "2022-07-11T10:53:53.872Z"
   },
   {
    "duration": 17,
    "start_time": "2022-07-11T10:55:24.434Z"
   },
   {
    "duration": 367,
    "start_time": "2022-07-11T10:55:28.313Z"
   },
   {
    "duration": 4,
    "start_time": "2022-07-11T10:57:10.649Z"
   },
   {
    "duration": 19,
    "start_time": "2022-07-11T10:57:17.176Z"
   },
   {
    "duration": 885,
    "start_time": "2022-07-11T10:57:22.212Z"
   },
   {
    "duration": 1663,
    "start_time": "2022-07-11T11:00:37.811Z"
   },
   {
    "duration": 1649,
    "start_time": "2022-07-11T11:00:56.080Z"
   },
   {
    "duration": 7,
    "start_time": "2022-07-11T11:01:58.052Z"
   },
   {
    "duration": 1497519,
    "start_time": "2022-07-11T11:02:01.033Z"
   },
   {
    "duration": 18,
    "start_time": "2022-07-11T11:27:10.294Z"
   },
   {
    "duration": 21356,
    "start_time": "2022-07-11T11:27:20.954Z"
   },
   {
    "duration": 276,
    "start_time": "2022-07-11T11:30:19.038Z"
   },
   {
    "duration": 7,
    "start_time": "2022-07-11T11:30:38.818Z"
   },
   {
    "duration": 2015351,
    "start_time": "2022-07-11T11:31:06.823Z"
   },
   {
    "duration": 7,
    "start_time": "2022-07-11T12:04:55.646Z"
   },
   {
    "duration": 25436,
    "start_time": "2022-07-11T12:04:56.333Z"
   },
   {
    "duration": 8,
    "start_time": "2022-07-11T12:09:18.113Z"
   },
   {
    "duration": 290890,
    "start_time": "2022-07-11T12:09:32.040Z"
   },
   {
    "duration": 8,
    "start_time": "2022-07-11T12:15:33.572Z"
   },
   {
    "duration": 252798,
    "start_time": "2022-07-11T12:15:34.099Z"
   },
   {
    "duration": 57,
    "start_time": "2022-07-11T12:22:23.716Z"
   },
   {
    "duration": 15,
    "start_time": "2022-07-11T12:22:45.344Z"
   },
   {
    "duration": 277018,
    "start_time": "2022-07-11T12:22:46.075Z"
   },
   {
    "duration": 1146,
    "start_time": "2022-07-11T12:30:31.456Z"
   },
   {
    "duration": 308,
    "start_time": "2022-07-11T12:30:37.199Z"
   },
   {
    "duration": 1889,
    "start_time": "2022-07-11T12:30:40.313Z"
   },
   {
    "duration": 2539,
    "start_time": "2022-07-11T12:30:46.069Z"
   },
   {
    "duration": 1934,
    "start_time": "2022-07-11T12:30:54.767Z"
   },
   {
    "duration": 6014,
    "start_time": "2022-07-11T12:31:00.291Z"
   },
   {
    "duration": 9961,
    "start_time": "2022-07-11T12:31:09.145Z"
   },
   {
    "duration": 8015,
    "start_time": "2022-07-11T12:31:26.495Z"
   },
   {
    "duration": 5157,
    "start_time": "2022-07-11T12:32:02.343Z"
   },
   {
    "duration": 6732,
    "start_time": "2022-07-11T12:32:29.170Z"
   },
   {
    "duration": 603,
    "start_time": "2022-07-11T12:32:40.100Z"
   },
   {
    "duration": 5591,
    "start_time": "2022-07-11T12:32:44.210Z"
   },
   {
    "duration": 1854,
    "start_time": "2022-07-11T12:32:51.947Z"
   },
   {
    "duration": 714,
    "start_time": "2022-07-11T12:33:05.593Z"
   },
   {
    "duration": 6612,
    "start_time": "2022-07-11T12:33:11.094Z"
   },
   {
    "duration": 5782,
    "start_time": "2022-07-11T12:33:21.918Z"
   },
   {
    "duration": 6331,
    "start_time": "2022-07-11T12:33:31.872Z"
   },
   {
    "duration": 6204,
    "start_time": "2022-07-11T12:33:43.698Z"
   },
   {
    "duration": 5369,
    "start_time": "2022-07-11T12:33:53.139Z"
   },
   {
    "duration": 5170,
    "start_time": "2022-07-11T12:34:02.935Z"
   },
   {
    "duration": 3251,
    "start_time": "2022-07-11T12:34:13.651Z"
   },
   {
    "duration": 3032,
    "start_time": "2022-07-11T12:34:23.970Z"
   },
   {
    "duration": 1942,
    "start_time": "2022-07-11T12:34:30.066Z"
   },
   {
    "duration": 2725,
    "start_time": "2022-07-11T12:34:37.282Z"
   },
   {
    "duration": 8,
    "start_time": "2022-07-11T12:36:39.310Z"
   },
   {
    "duration": 326852,
    "start_time": "2022-07-11T12:36:40.257Z"
   },
   {
    "duration": 6,
    "start_time": "2022-07-11T12:42:39.059Z"
   },
   {
    "duration": 385417,
    "start_time": "2022-07-11T12:42:39.492Z"
   },
   {
    "duration": 2985,
    "start_time": "2022-07-11T12:50:45.416Z"
   },
   {
    "duration": 2505,
    "start_time": "2022-07-11T12:50:53.800Z"
   },
   {
    "duration": 9,
    "start_time": "2022-07-11T12:51:50.344Z"
   },
   {
    "duration": 290697,
    "start_time": "2022-07-11T12:51:51.974Z"
   },
   {
    "duration": 12,
    "start_time": "2022-07-11T12:59:48.643Z"
   },
   {
    "duration": 685118,
    "start_time": "2022-07-11T12:59:52.127Z"
   },
   {
    "duration": 14,
    "start_time": "2022-07-11T13:12:37.512Z"
   },
   {
    "duration": 2960273,
    "start_time": "2022-07-11T13:12:47.961Z"
   },
   {
    "duration": 4,
    "start_time": "2022-07-11T14:03:13.394Z"
   },
   {
    "duration": 21,
    "start_time": "2022-07-11T14:08:54.487Z"
   },
   {
    "duration": 202,
    "start_time": "2022-07-11T14:09:03.835Z"
   },
   {
    "duration": 6,
    "start_time": "2022-07-11T14:19:03.025Z"
   },
   {
    "duration": 708,
    "start_time": "2022-07-11T14:19:10.459Z"
   },
   {
    "duration": 7,
    "start_time": "2022-07-11T14:19:12.825Z"
   },
   {
    "duration": 33,
    "start_time": "2022-07-11T14:19:13.760Z"
   },
   {
    "duration": 755,
    "start_time": "2022-07-11T14:19:16.123Z"
   },
   {
    "duration": 6,
    "start_time": "2022-07-11T14:19:20.857Z"
   },
   {
    "duration": 20,
    "start_time": "2022-07-11T14:19:27.284Z"
   },
   {
    "duration": 6,
    "start_time": "2022-07-11T14:20:11.666Z"
   },
   {
    "duration": 422,
    "start_time": "2022-07-11T14:20:12.915Z"
   },
   {
    "duration": 1924,
    "start_time": "2022-07-11T14:20:28.478Z"
   },
   {
    "duration": 8,
    "start_time": "2022-07-11T14:20:40.189Z"
   },
   {
    "duration": 11,
    "start_time": "2022-07-11T14:21:05.470Z"
   },
   {
    "duration": 9,
    "start_time": "2022-07-11T14:21:16.393Z"
   },
   {
    "duration": 449923,
    "start_time": "2022-07-11T14:22:21.689Z"
   },
   {
    "duration": 19,
    "start_time": "2022-07-11T14:30:00.605Z"
   },
   {
    "duration": 439,
    "start_time": "2022-07-11T14:30:03.672Z"
   },
   {
    "duration": 28,
    "start_time": "2022-07-11T14:30:13.142Z"
   },
   {
    "duration": 5,
    "start_time": "2022-07-11T14:30:16.531Z"
   },
   {
    "duration": 873,
    "start_time": "2022-07-11T14:30:19.158Z"
   },
   {
    "duration": 1638,
    "start_time": "2022-07-11T14:30:23.524Z"
   },
   {
    "duration": 2936,
    "start_time": "2022-07-11T14:31:26.069Z"
   },
   {
    "duration": 1680,
    "start_time": "2022-07-11T14:31:35.323Z"
   },
   {
    "duration": 1512,
    "start_time": "2022-07-11T14:31:38.790Z"
   },
   {
    "duration": 2850,
    "start_time": "2022-07-11T14:31:43.961Z"
   },
   {
    "duration": 733,
    "start_time": "2022-07-11T14:31:52.669Z"
   },
   {
    "duration": 506,
    "start_time": "2022-07-11T14:31:55.301Z"
   },
   {
    "duration": 555,
    "start_time": "2022-07-11T14:31:58.447Z"
   },
   {
    "duration": 697,
    "start_time": "2022-07-11T14:32:03.012Z"
   },
   {
    "duration": 1383,
    "start_time": "2022-07-11T14:32:06.220Z"
   },
   {
    "duration": 1337,
    "start_time": "2022-07-11T14:32:09.964Z"
   },
   {
    "duration": 814,
    "start_time": "2022-07-11T14:32:13.092Z"
   },
   {
    "duration": 1781,
    "start_time": "2022-07-11T14:32:16.229Z"
   },
   {
    "duration": 1162,
    "start_time": "2022-07-11T14:32:24.142Z"
   },
   {
    "duration": 2228,
    "start_time": "2022-07-11T14:32:26.874Z"
   },
   {
    "duration": 2734,
    "start_time": "2022-07-11T14:32:31.572Z"
   },
   {
    "duration": 3527,
    "start_time": "2022-07-11T14:32:36.974Z"
   },
   {
    "duration": 4793,
    "start_time": "2022-07-11T14:32:45.417Z"
   },
   {
    "duration": 2736,
    "start_time": "2022-07-11T14:32:54.569Z"
   },
   {
    "duration": 2876,
    "start_time": "2022-07-11T14:33:01.327Z"
   },
   {
    "duration": 3464,
    "start_time": "2022-07-11T14:33:07.339Z"
   },
   {
    "duration": 4693,
    "start_time": "2022-07-11T14:33:14.109Z"
   },
   {
    "duration": 2483,
    "start_time": "2022-07-11T14:33:22.921Z"
   },
   {
    "duration": 6516,
    "start_time": "2022-07-11T14:33:28.991Z"
   },
   {
    "duration": 1796,
    "start_time": "2022-07-11T14:33:39.006Z"
   },
   {
    "duration": 2148,
    "start_time": "2022-07-11T14:33:45.262Z"
   },
   {
    "duration": 4023,
    "start_time": "2022-07-11T14:33:50.480Z"
   },
   {
    "duration": 4,
    "start_time": "2022-07-11T14:35:27.861Z"
   },
   {
    "duration": 21,
    "start_time": "2022-07-11T14:35:51.503Z"
   },
   {
    "duration": 3,
    "start_time": "2022-07-11T14:38:07.989Z"
   },
   {
    "duration": 15,
    "start_time": "2022-07-11T14:39:03.977Z"
   },
   {
    "duration": 3,
    "start_time": "2022-07-11T14:39:08.094Z"
   },
   {
    "duration": 4,
    "start_time": "2022-07-11T14:39:09.569Z"
   },
   {
    "duration": 19,
    "start_time": "2022-07-11T14:39:32.355Z"
   },
   {
    "duration": 7,
    "start_time": "2022-07-11T14:39:44.079Z"
   },
   {
    "duration": 42,
    "start_time": "2022-07-11T14:40:46.570Z"
   },
   {
    "duration": 718,
    "start_time": "2022-07-11T14:41:24.820Z"
   },
   {
    "duration": 29,
    "start_time": "2022-07-11T14:41:30.069Z"
   },
   {
    "duration": 46,
    "start_time": "2022-07-11T14:41:43.777Z"
   },
   {
    "duration": 42840,
    "start_time": "2022-07-11T14:42:02.651Z"
   },
   {
    "duration": 58767,
    "start_time": "2022-07-11T14:42:45.493Z"
   },
   {
    "duration": 2080,
    "start_time": "2022-07-11T14:43:44.262Z"
   },
   {
    "duration": 10,
    "start_time": "2022-07-11T14:43:46.345Z"
   },
   {
    "duration": 31,
    "start_time": "2022-07-11T14:43:46.357Z"
   },
   {
    "duration": 791,
    "start_time": "2022-07-11T14:43:47.117Z"
   },
   {
    "duration": 6,
    "start_time": "2022-07-11T14:48:27.808Z"
   },
   {
    "duration": 434594,
    "start_time": "2022-07-11T14:48:34.276Z"
   },
   {
    "duration": 16,
    "start_time": "2022-07-11T14:56:02.046Z"
   },
   {
    "duration": 3,
    "start_time": "2022-07-11T14:56:02.898Z"
   },
   {
    "duration": 4,
    "start_time": "2022-07-11T14:56:04.025Z"
   },
   {
    "duration": 10,
    "start_time": "2022-07-11T14:56:05.314Z"
   },
   {
    "duration": 19,
    "start_time": "2022-07-11T14:56:08.791Z"
   },
   {
    "duration": 232,
    "start_time": "2022-07-11T14:56:09.752Z"
   },
   {
    "duration": 5,
    "start_time": "2022-07-11T14:56:13.285Z"
   },
   {
    "duration": 741,
    "start_time": "2022-07-11T14:56:31.301Z"
   },
   {
    "duration": 6,
    "start_time": "2022-07-11T14:56:38.875Z"
   },
   {
    "duration": 1102980,
    "start_time": "2022-07-11T14:56:45.821Z"
   },
   {
    "duration": 40,
    "start_time": "2022-07-11T15:15:21.601Z"
   },
   {
    "duration": 3,
    "start_time": "2022-07-11T15:15:22.991Z"
   },
   {
    "duration": 5,
    "start_time": "2022-07-11T15:15:23.640Z"
   },
   {
    "duration": 6,
    "start_time": "2022-07-11T15:15:24.411Z"
   },
   {
    "duration": 31,
    "start_time": "2022-07-11T15:15:26.335Z"
   },
   {
    "duration": 630,
    "start_time": "2022-07-11T15:15:27.066Z"
   },
   {
    "duration": 28,
    "start_time": "2022-07-11T15:15:28.637Z"
   },
   {
    "duration": 4,
    "start_time": "2022-07-11T15:16:02.862Z"
   },
   {
    "duration": 122,
    "start_time": "2022-07-11T15:16:06.116Z"
   },
   {
    "duration": 404,
    "start_time": "2022-07-11T15:16:08.062Z"
   },
   {
    "duration": 2510,
    "start_time": "2022-07-11T15:16:11.720Z"
   },
   {
    "duration": 3060,
    "start_time": "2022-07-11T15:16:21.540Z"
   },
   {
    "duration": 562,
    "start_time": "2022-07-11T15:16:31.939Z"
   },
   {
    "duration": 854,
    "start_time": "2022-07-11T15:16:36.451Z"
   },
   {
    "duration": 342,
    "start_time": "2022-07-11T15:16:43.160Z"
   },
   {
    "duration": 585,
    "start_time": "2022-07-11T15:16:47.917Z"
   },
   {
    "duration": 252,
    "start_time": "2022-07-11T15:16:50.957Z"
   },
   {
    "duration": 558,
    "start_time": "2022-07-11T15:16:53.543Z"
   },
   {
    "duration": 666,
    "start_time": "2022-07-11T15:16:55.935Z"
   },
   {
    "duration": 695,
    "start_time": "2022-07-11T15:16:58.409Z"
   },
   {
    "duration": 735,
    "start_time": "2022-07-11T15:17:01.074Z"
   },
   {
    "duration": 567,
    "start_time": "2022-07-11T15:17:04.843Z"
   },
   {
    "duration": 479,
    "start_time": "2022-07-11T15:17:07.822Z"
   },
   {
    "duration": 576,
    "start_time": "2022-07-11T15:17:11.133Z"
   },
   {
    "duration": 968,
    "start_time": "2022-07-11T15:17:25.036Z"
   },
   {
    "duration": 1853,
    "start_time": "2022-07-11T15:17:29.448Z"
   },
   {
    "duration": 1762,
    "start_time": "2022-07-11T15:17:35.447Z"
   },
   {
    "duration": 1178,
    "start_time": "2022-07-11T15:17:40.431Z"
   },
   {
    "duration": 2320,
    "start_time": "2022-07-11T15:17:45.582Z"
   },
   {
    "duration": 4939,
    "start_time": "2022-07-11T15:17:50.962Z"
   },
   {
    "duration": 1334,
    "start_time": "2022-07-11T15:17:58.775Z"
   },
   {
    "duration": 1930,
    "start_time": "2022-07-11T15:18:06.572Z"
   },
   {
    "duration": 1649,
    "start_time": "2022-07-11T15:18:12.358Z"
   },
   {
    "duration": 1697,
    "start_time": "2022-07-11T15:18:16.005Z"
   },
   {
    "duration": 669,
    "start_time": "2022-07-11T15:18:20.433Z"
   },
   {
    "duration": 830,
    "start_time": "2022-07-11T15:18:26.374Z"
   },
   {
    "duration": 594,
    "start_time": "2022-07-11T15:18:32.616Z"
   },
   {
    "duration": 1994,
    "start_time": "2022-07-11T15:18:35.907Z"
   },
   {
    "duration": 2170,
    "start_time": "2022-07-11T15:18:39.739Z"
   },
   {
    "duration": 2761,
    "start_time": "2022-07-11T15:18:44.641Z"
   },
   {
    "duration": 844,
    "start_time": "2022-07-11T15:18:50.765Z"
   },
   {
    "duration": 157,
    "start_time": "2022-07-11T15:20:03.551Z"
   },
   {
    "duration": 8,
    "start_time": "2022-07-11T15:22:07.005Z"
   },
   {
    "duration": 32219,
    "start_time": "2022-07-11T15:22:08.282Z"
   },
   {
    "duration": 9,
    "start_time": "2022-07-11T15:23:18.510Z"
   },
   {
    "duration": 129533,
    "start_time": "2022-07-11T15:23:19.684Z"
   },
   {
    "duration": 7,
    "start_time": "2022-07-11T15:25:46.945Z"
   },
   {
    "duration": 33655,
    "start_time": "2022-07-11T15:25:47.792Z"
   },
   {
    "duration": 8,
    "start_time": "2022-07-11T15:26:50.665Z"
   },
   {
    "duration": 250209,
    "start_time": "2022-07-11T15:26:52.025Z"
   },
   {
    "duration": 10,
    "start_time": "2022-07-11T15:32:29.212Z"
   },
   {
    "duration": 907066,
    "start_time": "2022-07-11T15:32:41.853Z"
   },
   {
    "duration": 54,
    "start_time": "2022-07-11T15:48:30.047Z"
   },
   {
    "duration": 61,
    "start_time": "2022-07-11T15:48:49.044Z"
   },
   {
    "duration": 313,
    "start_time": "2022-07-11T15:49:08.152Z"
   },
   {
    "duration": 1061,
    "start_time": "2022-07-11T15:49:21.241Z"
   },
   {
    "duration": 13,
    "start_time": "2022-07-11T15:49:30.133Z"
   },
   {
    "duration": 48,
    "start_time": "2022-07-11T15:49:59.057Z"
   },
   {
    "duration": 13,
    "start_time": "2022-07-11T15:50:08.050Z"
   },
   {
    "duration": 15,
    "start_time": "2022-07-11T15:50:33.896Z"
   },
   {
    "duration": 11,
    "start_time": "2022-07-11T15:50:54.745Z"
   },
   {
    "duration": 3,
    "start_time": "2022-07-11T15:51:18.772Z"
   },
   {
    "duration": 384,
    "start_time": "2022-07-11T15:51:19.929Z"
   },
   {
    "duration": 1032,
    "start_time": "2022-07-11T15:51:28.191Z"
   },
   {
    "duration": 12,
    "start_time": "2022-07-11T15:51:35.086Z"
   },
   {
    "duration": 10,
    "start_time": "2022-07-11T15:51:44.525Z"
   },
   {
    "duration": 22,
    "start_time": "2022-07-11T15:52:41.723Z"
   },
   {
    "duration": 17,
    "start_time": "2022-07-11T15:53:03.872Z"
   },
   {
    "duration": 16,
    "start_time": "2022-07-11T15:53:12.542Z"
   },
   {
    "duration": 18,
    "start_time": "2022-07-11T15:53:16.823Z"
   },
   {
    "duration": 22,
    "start_time": "2022-07-11T15:53:19.786Z"
   },
   {
    "duration": 16,
    "start_time": "2022-07-11T15:53:32.978Z"
   },
   {
    "duration": 38,
    "start_time": "2022-07-11T15:53:37.409Z"
   },
   {
    "duration": 15,
    "start_time": "2022-07-11T15:53:42.702Z"
   },
   {
    "duration": 16,
    "start_time": "2022-07-11T15:53:45.559Z"
   },
   {
    "duration": 18,
    "start_time": "2022-07-11T15:53:48.598Z"
   },
   {
    "duration": 14,
    "start_time": "2022-07-11T15:55:45.680Z"
   },
   {
    "duration": 15,
    "start_time": "2022-07-11T15:55:54.251Z"
   },
   {
    "duration": 18,
    "start_time": "2022-07-11T15:55:57.980Z"
   },
   {
    "duration": 2100,
    "start_time": "2022-07-11T15:59:53.626Z"
   },
   {
    "duration": 557,
    "start_time": "2022-07-11T16:00:14.853Z"
   },
   {
    "duration": 12,
    "start_time": "2022-07-11T16:06:22.703Z"
   },
   {
    "duration": 11,
    "start_time": "2022-07-11T16:06:28.356Z"
   },
   {
    "duration": 748,
    "start_time": "2022-07-11T16:08:50.495Z"
   },
   {
    "duration": 8,
    "start_time": "2022-07-11T16:08:51.923Z"
   },
   {
    "duration": 36,
    "start_time": "2022-07-11T16:08:52.392Z"
   },
   {
    "duration": 13,
    "start_time": "2022-07-11T16:09:28.627Z"
   },
   {
    "duration": 810,
    "start_time": "2022-07-11T16:11:03.770Z"
   },
   {
    "duration": 794,
    "start_time": "2022-07-11T16:11:11.898Z"
   },
   {
    "duration": 10,
    "start_time": "2022-07-11T16:11:21.382Z"
   },
   {
    "duration": 2166354,
    "start_time": "2022-07-11T16:11:22.964Z"
   },
   {
    "duration": 92,
    "start_time": "2022-07-11T16:48:12.888Z"
   },
   {
    "duration": 4,
    "start_time": "2022-07-11T16:48:14.151Z"
   },
   {
    "duration": 4,
    "start_time": "2022-07-11T16:48:16.674Z"
   },
   {
    "duration": 7,
    "start_time": "2022-07-11T16:48:18.490Z"
   },
   {
    "duration": 71,
    "start_time": "2022-07-11T16:48:20.760Z"
   },
   {
    "duration": 57,
    "start_time": "2022-07-11T16:48:38.808Z"
   },
   {
    "duration": 8,
    "start_time": "2022-07-11T16:49:13.496Z"
   },
   {
    "duration": 58338,
    "start_time": "2022-07-11T16:49:22.850Z"
   },
   {
    "duration": 2122,
    "start_time": "2022-07-11T16:50:25.436Z"
   },
   {
    "duration": 16,
    "start_time": "2022-07-11T16:50:28.440Z"
   },
   {
    "duration": 35,
    "start_time": "2022-07-11T16:50:29.155Z"
   },
   {
    "duration": 804,
    "start_time": "2022-07-11T16:50:31.746Z"
   },
   {
    "duration": 5,
    "start_time": "2022-07-11T16:50:40.148Z"
   },
   {
    "duration": 1604214,
    "start_time": "2022-07-11T16:50:43.639Z"
   },
   {
    "duration": 65,
    "start_time": "2022-07-11T17:17:33.991Z"
   },
   {
    "duration": 3,
    "start_time": "2022-07-11T17:17:35.013Z"
   },
   {
    "duration": 4,
    "start_time": "2022-07-11T17:17:35.988Z"
   },
   {
    "duration": 7,
    "start_time": "2022-07-11T17:17:37.820Z"
   },
   {
    "duration": 46,
    "start_time": "2022-07-11T17:17:40.629Z"
   },
   {
    "duration": 950,
    "start_time": "2022-07-11T17:17:43.083Z"
   },
   {
    "duration": 4,
    "start_time": "2022-07-11T17:17:46.617Z"
   },
   {
    "duration": 202,
    "start_time": "2022-07-11T17:17:52.616Z"
   },
   {
    "duration": 669,
    "start_time": "2022-07-11T17:17:54.410Z"
   },
   {
    "duration": 3416,
    "start_time": "2022-07-11T17:17:56.699Z"
   },
   {
    "duration": 918,
    "start_time": "2022-07-11T17:18:17.091Z"
   },
   {
    "duration": 517,
    "start_time": "2022-07-11T17:18:25.287Z"
   },
   {
    "duration": 784,
    "start_time": "2022-07-11T17:18:29.317Z"
   },
   {
    "duration": 984,
    "start_time": "2022-07-11T17:18:32.817Z"
   },
   {
    "duration": 727,
    "start_time": "2022-07-11T17:18:36.481Z"
   },
   {
    "duration": 672,
    "start_time": "2022-07-11T17:18:39.830Z"
   },
   {
    "duration": 1416,
    "start_time": "2022-07-11T17:18:42.986Z"
   },
   {
    "duration": 934,
    "start_time": "2022-07-11T17:18:47.578Z"
   },
   {
    "duration": 1310,
    "start_time": "2022-07-11T17:18:51.192Z"
   },
   {
    "duration": 1498,
    "start_time": "2022-07-11T17:18:56.906Z"
   },
   {
    "duration": 1313,
    "start_time": "2022-07-11T17:19:01.596Z"
   },
   {
    "duration": 1258,
    "start_time": "2022-07-11T17:19:06.744Z"
   },
   {
    "duration": 3144,
    "start_time": "2022-07-11T17:19:11.558Z"
   },
   {
    "duration": 711,
    "start_time": "2022-07-11T17:19:20.202Z"
   },
   {
    "duration": 1426,
    "start_time": "2022-07-11T17:19:23.682Z"
   },
   {
    "duration": 2463,
    "start_time": "2022-07-11T17:19:35.438Z"
   },
   {
    "duration": 6538,
    "start_time": "2022-07-11T17:19:41.774Z"
   },
   {
    "duration": 5364,
    "start_time": "2022-07-11T17:19:52.537Z"
   },
   {
    "duration": 2354,
    "start_time": "2022-07-11T17:20:03.248Z"
   },
   {
    "duration": 8,
    "start_time": "2022-07-11T17:20:18.100Z"
   },
   {
    "duration": 54605,
    "start_time": "2022-07-11T17:20:21.982Z"
   },
   {
    "duration": 11,
    "start_time": "2022-07-11T17:21:38.663Z"
   },
   {
    "duration": 465176,
    "start_time": "2022-07-11T17:21:39.848Z"
   },
   {
    "duration": 10,
    "start_time": "2022-07-11T17:30:20.562Z"
   },
   {
    "duration": 163390,
    "start_time": "2022-07-11T17:30:22.435Z"
   },
   {
    "duration": 12,
    "start_time": "2022-07-11T17:33:15.583Z"
   },
   {
    "duration": 3,
    "start_time": "2022-07-11T17:33:22.310Z"
   },
   {
    "duration": 20,
    "start_time": "2022-07-11T17:33:25.997Z"
   },
   {
    "duration": 1329,
    "start_time": "2022-07-11T17:33:45.811Z"
   },
   {
    "duration": 11,
    "start_time": "2022-07-11T17:33:56.086Z"
   },
   {
    "duration": 26,
    "start_time": "2022-07-11T17:34:09.019Z"
   },
   {
    "duration": 10,
    "start_time": "2022-07-11T17:34:11.889Z"
   },
   {
    "duration": 5,
    "start_time": "2022-07-11T17:51:27.050Z"
   },
   {
    "duration": 3,
    "start_time": "2022-07-11T17:51:29.569Z"
   },
   {
    "duration": 4,
    "start_time": "2022-07-11T17:51:30.647Z"
   },
   {
    "duration": 6,
    "start_time": "2022-07-11T17:51:31.793Z"
   },
   {
    "duration": 9,
    "start_time": "2022-07-11T17:51:33.104Z"
   },
   {
    "duration": 1153,
    "start_time": "2022-07-11T17:51:34.349Z"
   },
   {
    "duration": 6,
    "start_time": "2022-07-11T17:52:19.326Z"
   },
   {
    "duration": 519,
    "start_time": "2022-07-11T17:52:29.708Z"
   },
   {
    "duration": 716,
    "start_time": "2022-07-11T17:52:33.543Z"
   },
   {
    "duration": 9,
    "start_time": "2022-07-11T17:52:35.051Z"
   },
   {
    "duration": 31,
    "start_time": "2022-07-11T17:52:36.274Z"
   },
   {
    "duration": 763,
    "start_time": "2022-07-11T17:52:37.798Z"
   },
   {
    "duration": 6,
    "start_time": "2022-07-11T17:52:40.698Z"
   },
   {
    "duration": 1592244,
    "start_time": "2022-07-11T17:52:48.695Z"
   },
   {
    "duration": 70,
    "start_time": "2022-07-11T18:19:20.941Z"
   },
   {
    "duration": 3,
    "start_time": "2022-07-11T18:19:21.013Z"
   },
   {
    "duration": 10,
    "start_time": "2022-07-11T18:19:21.017Z"
   },
   {
    "duration": 21,
    "start_time": "2022-07-11T18:19:21.028Z"
   },
   {
    "duration": 63,
    "start_time": "2022-07-11T18:19:21.051Z"
   },
   {
    "duration": 580,
    "start_time": "2022-07-11T18:20:46.655Z"
   },
   {
    "duration": 4,
    "start_time": "2022-07-11T18:20:50.781Z"
   },
   {
    "duration": 209,
    "start_time": "2022-07-11T18:20:52.231Z"
   },
   {
    "duration": 945,
    "start_time": "2022-07-11T18:20:55.397Z"
   },
   {
    "duration": 2230,
    "start_time": "2022-07-11T18:20:58.316Z"
   },
   {
    "duration": 1171,
    "start_time": "2022-07-11T18:21:16.939Z"
   },
   {
    "duration": 1455,
    "start_time": "2022-07-11T18:21:24.451Z"
   },
   {
    "duration": 1925,
    "start_time": "2022-07-11T18:21:29.276Z"
   },
   {
    "duration": 1103,
    "start_time": "2022-07-11T18:21:33.699Z"
   },
   {
    "duration": 1177,
    "start_time": "2022-07-11T18:21:38.025Z"
   },
   {
    "duration": 1082,
    "start_time": "2022-07-11T18:21:41.821Z"
   },
   {
    "duration": 1082,
    "start_time": "2022-07-11T18:21:45.820Z"
   },
   {
    "duration": 2617,
    "start_time": "2022-07-11T18:21:51.483Z"
   },
   {
    "duration": 2584,
    "start_time": "2022-07-11T18:21:56.825Z"
   },
   {
    "duration": 2445,
    "start_time": "2022-07-11T18:22:03.756Z"
   },
   {
    "duration": 4003,
    "start_time": "2022-07-11T18:22:14.508Z"
   },
   {
    "duration": 2609,
    "start_time": "2022-07-11T18:22:24.093Z"
   },
   {
    "duration": 4645,
    "start_time": "2022-07-11T18:22:47.656Z"
   },
   {
    "duration": 2050,
    "start_time": "2022-07-11T18:22:56.853Z"
   },
   {
    "duration": 2884,
    "start_time": "2022-07-11T18:23:02.824Z"
   },
   {
    "duration": 2012,
    "start_time": "2022-07-11T18:23:09.892Z"
   },
   {
    "duration": 3386,
    "start_time": "2022-07-11T18:23:17.015Z"
   },
   {
    "duration": 5022,
    "start_time": "2022-07-11T18:23:24.785Z"
   },
   {
    "duration": 9791,
    "start_time": "2022-07-11T18:23:35.816Z"
   },
   {
    "duration": 9299,
    "start_time": "2022-07-11T18:23:50.205Z"
   },
   {
    "duration": 8729,
    "start_time": "2022-07-11T18:24:03.472Z"
   },
   {
    "duration": 9770,
    "start_time": "2022-07-11T18:24:13.433Z"
   },
   {
    "duration": 11343,
    "start_time": "2022-07-11T18:24:32.660Z"
   },
   {
    "duration": 12508,
    "start_time": "2022-07-11T18:24:48.193Z"
   },
   {
    "duration": 9,
    "start_time": "2022-07-11T18:25:10.341Z"
   },
   {
    "duration": 73966,
    "start_time": "2022-07-11T18:25:12.785Z"
   },
   {
    "duration": 8,
    "start_time": "2022-07-11T18:26:45.635Z"
   },
   {
    "duration": 636754,
    "start_time": "2022-07-11T18:26:46.847Z"
   },
   {
    "duration": 8,
    "start_time": "2022-07-11T18:40:56.769Z"
   },
   {
    "duration": 6103685,
    "start_time": "2022-07-11T18:40:57.916Z"
   },
   {
    "duration": 12,
    "start_time": "2022-07-11T20:23:43.569Z"
   },
   {
    "duration": 14,
    "start_time": "2022-07-11T20:24:19.475Z"
   },
   {
    "duration": 3,
    "start_time": "2022-07-11T20:24:31.390Z"
   },
   {
    "duration": 78554,
    "start_time": "2022-07-11T20:25:52.953Z"
   },
   {
    "duration": 10,
    "start_time": "2022-07-11T20:27:15.185Z"
   },
   {
    "duration": 760,
    "start_time": "2022-07-11T20:27:27.461Z"
   },
   {
    "duration": 12,
    "start_time": "2022-07-11T20:27:44.767Z"
   },
   {
    "duration": 12,
    "start_time": "2022-07-11T20:28:29.949Z"
   },
   {
    "duration": 11,
    "start_time": "2022-07-11T20:31:33.622Z"
   },
   {
    "duration": 1020,
    "start_time": "2022-07-12T10:38:59.670Z"
   },
   {
    "duration": 248,
    "start_time": "2022-07-12T15:02:59.782Z"
   },
   {
    "duration": 76824,
    "start_time": "2022-07-12T15:11:49.793Z"
   },
   {
    "duration": 524,
    "start_time": "2022-07-12T15:25:11.794Z"
   },
   {
    "duration": 2505,
    "start_time": "2022-07-12T15:25:19.560Z"
   },
   {
    "duration": 18,
    "start_time": "2022-07-12T15:25:22.986Z"
   },
   {
    "duration": 36,
    "start_time": "2022-07-12T15:25:23.965Z"
   },
   {
    "duration": 1018,
    "start_time": "2022-07-12T15:25:28.772Z"
   },
   {
    "duration": 7,
    "start_time": "2022-07-12T15:25:32.164Z"
   },
   {
    "duration": 815008,
    "start_time": "2022-07-12T15:26:43.490Z"
   },
   {
    "duration": 70,
    "start_time": "2022-07-12T15:40:21.869Z"
   },
   {
    "duration": 4,
    "start_time": "2022-07-12T15:40:22.976Z"
   },
   {
    "duration": 6,
    "start_time": "2022-07-12T15:40:58.429Z"
   },
   {
    "duration": 36,
    "start_time": "2022-07-12T15:41:00.484Z"
   },
   {
    "duration": 38,
    "start_time": "2022-07-12T15:43:30.392Z"
   },
   {
    "duration": 5,
    "start_time": "2022-07-12T15:44:01.604Z"
   },
   {
    "duration": 11,
    "start_time": "2022-07-12T15:44:03.925Z"
   },
   {
    "duration": 58,
    "start_time": "2022-07-12T15:44:42.608Z"
   },
   {
    "duration": 4,
    "start_time": "2022-07-12T15:45:21.236Z"
   },
   {
    "duration": 7,
    "start_time": "2022-07-12T15:47:32.832Z"
   },
   {
    "duration": 359,
    "start_time": "2022-07-12T15:47:41.738Z"
   },
   {
    "duration": 3861,
    "start_time": "2022-07-12T15:52:24.926Z"
   },
   {
    "duration": 5131,
    "start_time": "2022-07-12T15:52:28.789Z"
   },
   {
    "duration": 3913,
    "start_time": "2022-07-12T15:52:47.737Z"
   },
   {
    "duration": 3923,
    "start_time": "2022-07-12T15:53:46.525Z"
   },
   {
    "duration": 2132,
    "start_time": "2022-07-12T15:53:52.771Z"
   },
   {
    "duration": 3801,
    "start_time": "2022-07-12T15:54:00.580Z"
   },
   {
    "duration": 4216,
    "start_time": "2022-07-12T15:54:18.716Z"
   },
   {
    "duration": 4252,
    "start_time": "2022-07-12T15:54:32.532Z"
   },
   {
    "duration": 4168,
    "start_time": "2022-07-12T15:54:40.152Z"
   },
   {
    "duration": 3070,
    "start_time": "2022-07-12T15:54:45.495Z"
   },
   {
    "duration": 4122,
    "start_time": "2022-07-12T15:54:52.751Z"
   },
   {
    "duration": 2698,
    "start_time": "2022-07-12T15:54:59.333Z"
   },
   {
    "duration": 4394,
    "start_time": "2022-07-12T15:55:11.801Z"
   },
   {
    "duration": 2785,
    "start_time": "2022-07-12T15:55:16.841Z"
   },
   {
    "duration": 4221,
    "start_time": "2022-07-12T15:55:22.246Z"
   },
   {
    "duration": 2736,
    "start_time": "2022-07-12T15:55:27.029Z"
   },
   {
    "duration": 4146,
    "start_time": "2022-07-12T15:56:20.378Z"
   },
   {
    "duration": 2672,
    "start_time": "2022-07-12T15:56:28.634Z"
   },
   {
    "duration": 625,
    "start_time": "2022-07-12T15:57:18.936Z"
   },
   {
    "duration": 2595,
    "start_time": "2022-07-12T15:57:21.527Z"
   },
   {
    "duration": 19,
    "start_time": "2022-07-12T15:57:39.806Z"
   },
   {
    "duration": 67402,
    "start_time": "2022-07-12T15:57:58.277Z"
   },
   {
    "duration": 525,
    "start_time": "2022-07-12T15:59:16.958Z"
   },
   {
    "duration": 207,
    "start_time": "2022-07-12T15:59:29.485Z"
   },
   {
    "duration": 196,
    "start_time": "2022-07-12T15:59:46.677Z"
   },
   {
    "duration": 23,
    "start_time": "2022-07-12T15:59:57.231Z"
   },
   {
    "duration": 46601,
    "start_time": "2022-07-12T16:00:18.935Z"
   },
   {
    "duration": 60896,
    "start_time": "2022-07-12T16:01:15.238Z"
   },
   {
    "duration": 867,
    "start_time": "2022-07-12T16:05:00.507Z"
   },
   {
    "duration": 15,
    "start_time": "2022-07-12T16:05:10.550Z"
   },
   {
    "duration": 36,
    "start_time": "2022-07-12T16:05:11.871Z"
   },
   {
    "duration": 899,
    "start_time": "2022-07-12T16:05:15.018Z"
   },
   {
    "duration": 8,
    "start_time": "2022-07-12T16:05:20.461Z"
   },
   {
    "duration": 594,
    "start_time": "2022-07-12T16:05:30.934Z"
   },
   {
    "duration": 20387,
    "start_time": "2022-07-12T16:05:39.435Z"
   },
   {
    "duration": 920,
    "start_time": "2022-07-12T16:06:12.854Z"
   },
   {
    "duration": 7,
    "start_time": "2022-07-12T16:06:23.069Z"
   },
   {
    "duration": 1080421,
    "start_time": "2022-07-12T16:06:32.097Z"
   },
   {
    "duration": 112,
    "start_time": "2022-07-12T16:58:21.575Z"
   },
   {
    "duration": 4,
    "start_time": "2022-07-12T16:58:23.410Z"
   },
   {
    "duration": 67,
    "start_time": "2022-07-12T16:58:41.754Z"
   },
   {
    "duration": 4,
    "start_time": "2022-07-12T16:58:42.987Z"
   },
   {
    "duration": 22,
    "start_time": "2022-07-12T16:58:43.899Z"
   },
   {
    "duration": 120,
    "start_time": "2022-07-12T16:58:47.994Z"
   },
   {
    "duration": 5,
    "start_time": "2022-07-12T16:59:03.912Z"
   },
   {
    "duration": 39,
    "start_time": "2022-07-12T16:59:09.869Z"
   },
   {
    "duration": 5,
    "start_time": "2022-07-12T16:59:16.072Z"
   },
   {
    "duration": 5,
    "start_time": "2022-07-12T16:59:17.197Z"
   },
   {
    "duration": 210,
    "start_time": "2022-07-12T16:59:21.872Z"
   },
   {
    "duration": 988,
    "start_time": "2022-07-12T17:00:52.123Z"
   },
   {
    "duration": 953,
    "start_time": "2022-07-12T17:00:53.817Z"
   },
   {
    "duration": 2393,
    "start_time": "2022-07-12T17:01:09.418Z"
   },
   {
    "duration": 3874,
    "start_time": "2022-07-12T17:01:56.371Z"
   },
   {
    "duration": 906,
    "start_time": "2022-07-12T17:02:31.179Z"
   },
   {
    "duration": 3580,
    "start_time": "2022-07-12T17:02:32.700Z"
   },
   {
    "duration": 762,
    "start_time": "2022-07-12T17:02:53.664Z"
   },
   {
    "duration": 3066,
    "start_time": "2022-07-12T17:02:55.173Z"
   },
   {
    "duration": 14171,
    "start_time": "2022-07-12T17:03:05.685Z"
   },
   {
    "duration": 1694,
    "start_time": "2022-07-12T17:03:28.453Z"
   },
   {
    "duration": 796,
    "start_time": "2022-07-12T17:04:12.407Z"
   },
   {
    "duration": 3558,
    "start_time": "2022-07-12T17:04:14.051Z"
   },
   {
    "duration": 3616,
    "start_time": "2022-07-12T17:04:23.648Z"
   },
   {
    "duration": 26480,
    "start_time": "2022-07-12T17:04:32.796Z"
   },
   {
    "duration": 24922,
    "start_time": "2022-07-12T17:05:06.543Z"
   },
   {
    "duration": 23989,
    "start_time": "2022-07-12T17:05:38.967Z"
   },
   {
    "duration": 12672,
    "start_time": "2022-07-12T17:06:08.575Z"
   },
   {
    "duration": 14835,
    "start_time": "2022-07-12T17:06:31.231Z"
   },
   {
    "duration": 103,
    "start_time": "2022-07-12T17:10:16.094Z"
   },
   {
    "duration": 15,
    "start_time": "2022-07-12T17:10:20.506Z"
   },
   {
    "duration": 5,
    "start_time": "2022-07-12T17:10:25.569Z"
   },
   {
    "duration": 27,
    "start_time": "2022-07-12T17:10:29.659Z"
   },
   {
    "duration": 5,
    "start_time": "2022-07-12T17:10:31.389Z"
   },
   {
    "duration": 1253,
    "start_time": "2022-07-12T17:10:39.485Z"
   },
   {
    "duration": 2481,
    "start_time": "2022-07-12T17:10:59.344Z"
   },
   {
    "duration": 1124,
    "start_time": "2022-07-12T17:11:07.493Z"
   },
   {
    "duration": 2422,
    "start_time": "2022-07-12T17:11:10.994Z"
   },
   {
    "duration": 10208,
    "start_time": "2022-07-12T17:11:35.068Z"
   },
   {
    "duration": 8639,
    "start_time": "2022-07-12T17:12:01.813Z"
   },
   {
    "duration": 15,
    "start_time": "2022-07-12T17:12:39.284Z"
   },
   {
    "duration": 4,
    "start_time": "2022-07-12T17:12:43.760Z"
   },
   {
    "duration": 18,
    "start_time": "2022-07-12T17:12:46.821Z"
   },
   {
    "duration": 1102,
    "start_time": "2022-07-12T17:14:33.799Z"
   },
   {
    "duration": 2453,
    "start_time": "2022-07-12T17:14:35.466Z"
   },
   {
    "duration": 9351,
    "start_time": "2022-07-12T17:15:03.998Z"
   },
   {
    "duration": 12,
    "start_time": "2022-07-12T17:15:33.509Z"
   },
   {
    "duration": 4,
    "start_time": "2022-07-12T17:15:38.173Z"
   },
   {
    "duration": 22,
    "start_time": "2022-07-12T17:15:39.007Z"
   },
   {
    "duration": 53,
    "start_time": "2022-07-12T17:17:10.966Z"
   },
   {
    "duration": 18,
    "start_time": "2022-07-12T17:17:34.315Z"
   },
   {
    "duration": 866,
    "start_time": "2022-07-12T17:18:34.471Z"
   },
   {
    "duration": 896,
    "start_time": "2022-07-12T17:19:31.084Z"
   },
   {
    "duration": 1020,
    "start_time": "2022-07-12T17:19:35.783Z"
   },
   {
    "duration": 7,
    "start_time": "2022-07-12T17:19:38.268Z"
   },
   {
    "duration": 34,
    "start_time": "2022-07-12T17:19:41.399Z"
   },
   {
    "duration": 19,
    "start_time": "2022-07-12T17:19:48.493Z"
   },
   {
    "duration": 10,
    "start_time": "2022-07-12T17:20:07.160Z"
   },
   {
    "duration": 788,
    "start_time": "2022-07-12T17:20:09.090Z"
   },
   {
    "duration": 1150511,
    "start_time": "2022-07-12T17:20:15.367Z"
   },
   {
    "duration": 117,
    "start_time": "2022-07-12T18:42:24.810Z"
   },
   {
    "duration": 5,
    "start_time": "2022-07-12T18:42:27.060Z"
   },
   {
    "duration": 4,
    "start_time": "2022-07-12T18:42:41.316Z"
   },
   {
    "duration": 10,
    "start_time": "2022-07-12T18:42:44.658Z"
   },
   {
    "duration": 101,
    "start_time": "2022-07-12T18:42:49.692Z"
   },
   {
    "duration": 4,
    "start_time": "2022-07-12T18:43:09.882Z"
   },
   {
    "duration": 17,
    "start_time": "2022-07-12T18:43:23.059Z"
   },
   {
    "duration": 219,
    "start_time": "2022-07-12T18:43:26.967Z"
   },
   {
    "duration": 36,
    "start_time": "2022-07-12T18:43:46.284Z"
   },
   {
    "duration": 3986,
    "start_time": "2022-07-12T18:45:52.919Z"
   },
   {
    "duration": 2494,
    "start_time": "2022-07-12T18:46:17.564Z"
   },
   {
    "duration": 5720,
    "start_time": "2022-07-12T18:46:28.423Z"
   },
   {
    "duration": 154,
    "start_time": "2022-07-12T18:51:15.944Z"
   },
   {
    "duration": 650,
    "start_time": "2022-07-12T18:51:21.475Z"
   },
   {
    "duration": 107,
    "start_time": "2022-07-12T18:51:25.856Z"
   },
   {
    "duration": 395067,
    "start_time": "2022-07-12T18:53:17.280Z"
   },
   {
    "duration": 6226,
    "start_time": "2022-07-12T19:01:09.622Z"
   },
   {
    "duration": 396089,
    "start_time": "2022-07-12T19:02:04.181Z"
   },
   {
    "duration": 23,
    "start_time": "2022-07-12T19:10:15.620Z"
   },
   {
    "duration": 357787,
    "start_time": "2022-07-12T19:15:09.363Z"
   },
   {
    "duration": 24,
    "start_time": "2022-07-12T19:21:20.062Z"
   },
   {
    "duration": 4,
    "start_time": "2022-07-12T19:21:37.266Z"
   },
   {
    "duration": 22,
    "start_time": "2022-07-12T19:22:16.069Z"
   },
   {
    "duration": 5,
    "start_time": "2022-07-12T19:22:31.856Z"
   },
   {
    "duration": 23,
    "start_time": "2022-07-12T19:23:15.264Z"
   },
   {
    "duration": 5,
    "start_time": "2022-07-12T19:25:42.974Z"
   },
   {
    "duration": 15360,
    "start_time": "2022-07-12T19:27:05.505Z"
   },
   {
    "duration": 190744,
    "start_time": "2022-07-12T19:27:59.405Z"
   },
   {
    "duration": 14276,
    "start_time": "2022-07-12T19:33:25.879Z"
   },
   {
    "duration": 73,
    "start_time": "2022-07-12T19:33:47.961Z"
   },
   {
    "duration": 4,
    "start_time": "2022-07-12T19:33:49.778Z"
   },
   {
    "duration": 44,
    "start_time": "2022-07-12T19:34:07.581Z"
   },
   {
    "duration": 9,
    "start_time": "2022-07-12T19:34:30.859Z"
   },
   {
    "duration": 13,
    "start_time": "2022-07-12T19:34:39.185Z"
   },
   {
    "duration": 6,
    "start_time": "2022-07-12T19:34:41.481Z"
   },
   {
    "duration": 14533,
    "start_time": "2022-07-12T19:35:18.386Z"
   },
   {
    "duration": 33,
    "start_time": "2022-07-12T19:36:34.557Z"
   },
   {
    "duration": 28,
    "start_time": "2022-07-12T19:38:24.920Z"
   },
   {
    "duration": 5,
    "start_time": "2022-07-12T19:39:09.272Z"
   },
   {
    "duration": 122172,
    "start_time": "2022-07-13T08:35:12.462Z"
   },
   {
    "duration": 3,
    "start_time": "2022-07-13T08:37:14.636Z"
   },
   {
    "duration": 24383,
    "start_time": "2022-07-13T08:37:33.172Z"
   },
   {
    "duration": 2076,
    "start_time": "2022-07-13T08:38:02.281Z"
   },
   {
    "duration": 4,
    "start_time": "2022-07-13T08:38:15.596Z"
   },
   {
    "duration": 1064,
    "start_time": "2022-07-13T08:38:19.545Z"
   },
   {
    "duration": 124710,
    "start_time": "2022-07-13T08:38:51.193Z"
   },
   {
    "duration": 2493,
    "start_time": "2022-07-13T08:44:40.356Z"
   },
   {
    "duration": 1178,
    "start_time": "2022-07-13T08:44:47.059Z"
   },
   {
    "duration": 14,
    "start_time": "2022-07-13T08:44:49.313Z"
   },
   {
    "duration": 33,
    "start_time": "2022-07-13T08:44:52.588Z"
   },
   {
    "duration": 775,
    "start_time": "2022-07-13T08:45:51.001Z"
   },
   {
    "duration": 6,
    "start_time": "2022-07-13T08:46:28.582Z"
   },
   {
    "duration": 7,
    "start_time": "2022-07-13T08:46:48.959Z"
   },
   {
    "duration": 6,
    "start_time": "2022-07-13T08:47:04.362Z"
   },
   {
    "duration": 929334,
    "start_time": "2022-07-13T08:47:26.911Z"
   },
   {
    "duration": 45,
    "start_time": "2022-07-13T09:06:18.235Z"
   },
   {
    "duration": 48,
    "start_time": "2022-07-13T09:06:27.619Z"
   },
   {
    "duration": 4,
    "start_time": "2022-07-13T09:07:24.349Z"
   },
   {
    "duration": 4,
    "start_time": "2022-07-13T09:07:37.063Z"
   },
   {
    "duration": 23631,
    "start_time": "2022-07-13T09:08:13.047Z"
   },
   {
    "duration": 16125,
    "start_time": "2022-07-13T09:08:50.712Z"
   },
   {
    "duration": 55458,
    "start_time": "2022-07-13T09:11:40.113Z"
   },
   {
    "duration": 19,
    "start_time": "2022-07-13T09:13:39.369Z"
   },
   {
    "duration": 22859,
    "start_time": "2022-07-13T09:14:17.432Z"
   },
   {
    "duration": 16507,
    "start_time": "2022-07-13T09:14:40.293Z"
   },
   {
    "duration": 59289,
    "start_time": "2022-07-13T09:18:56.699Z"
   },
   {
    "duration": 83,
    "start_time": "2022-07-13T09:19:55.990Z"
   },
   {
    "duration": 25177,
    "start_time": "2022-07-13T09:20:07.621Z"
   },
   {
    "duration": 19965,
    "start_time": "2022-07-13T09:20:32.801Z"
   },
   {
    "duration": 85006,
    "start_time": "2022-07-13T09:21:15.888Z"
   },
   {
    "duration": 22,
    "start_time": "2022-07-13T09:22:40.896Z"
   },
   {
    "duration": 23220,
    "start_time": "2022-07-13T09:25:59.446Z"
   },
   {
    "duration": 16126,
    "start_time": "2022-07-13T09:26:22.668Z"
   },
   {
    "duration": 60992,
    "start_time": "2022-07-13T09:29:48.279Z"
   },
   {
    "duration": 18,
    "start_time": "2022-07-13T09:30:49.273Z"
   },
   {
    "duration": 28706,
    "start_time": "2022-07-13T09:34:35.606Z"
   },
   {
    "duration": 22926,
    "start_time": "2022-07-13T09:35:04.314Z"
   },
   {
    "duration": 46,
    "start_time": "2022-07-13T11:16:29.300Z"
   },
   {
    "duration": 7376,
    "start_time": "2022-07-13T11:33:03.625Z"
   },
   {
    "duration": 3,
    "start_time": "2022-07-13T11:33:11.003Z"
   },
   {
    "duration": 93224,
    "start_time": "2022-07-13T11:33:11.008Z"
   },
   {
    "duration": 3735,
    "start_time": "2022-07-13T11:34:44.234Z"
   },
   {
    "duration": 13,
    "start_time": "2022-07-13T11:34:47.972Z"
   },
   {
    "duration": 31,
    "start_time": "2022-07-13T11:34:47.986Z"
   },
   {
    "duration": 5,
    "start_time": "2022-07-13T11:34:48.019Z"
   },
   {
    "duration": 5,
    "start_time": "2022-07-13T11:34:48.026Z"
   },
   {
    "duration": 996536,
    "start_time": "2022-07-13T11:34:48.032Z"
   },
   {
    "duration": 47,
    "start_time": "2022-07-13T11:51:24.572Z"
   },
   {
    "duration": 56,
    "start_time": "2022-07-13T11:51:24.621Z"
   },
   {
    "duration": 5,
    "start_time": "2022-07-13T11:51:24.679Z"
   },
   {
    "duration": 7,
    "start_time": "2022-07-13T11:51:24.686Z"
   },
   {
    "duration": 22637,
    "start_time": "2022-07-13T11:51:24.697Z"
   },
   {
    "duration": 17028,
    "start_time": "2022-07-13T11:51:47.335Z"
   },
   {
    "duration": 13,
    "start_time": "2022-07-13T11:52:04.367Z"
   },
   {
    "duration": 670131,
    "start_time": "2022-07-13T11:52:04.383Z"
   },
   {
    "duration": 867769,
    "start_time": "2022-07-13T12:03:14.515Z"
   },
   {
    "duration": 329,
    "start_time": "2022-07-13T12:17:42.356Z"
   },
   {
    "duration": 0,
    "start_time": "2022-07-13T12:17:42.686Z"
   },
   {
    "duration": 0,
    "start_time": "2022-07-13T12:17:42.687Z"
   },
   {
    "duration": 0,
    "start_time": "2022-07-13T12:17:42.688Z"
   },
   {
    "duration": 0,
    "start_time": "2022-07-13T12:17:42.690Z"
   },
   {
    "duration": 0,
    "start_time": "2022-07-13T12:17:42.691Z"
   },
   {
    "duration": 0,
    "start_time": "2022-07-13T12:17:42.693Z"
   },
   {
    "duration": 0,
    "start_time": "2022-07-13T12:17:42.693Z"
   },
   {
    "duration": 0,
    "start_time": "2022-07-13T12:17:42.695Z"
   },
   {
    "duration": 0,
    "start_time": "2022-07-13T12:17:42.696Z"
   },
   {
    "duration": 0,
    "start_time": "2022-07-13T12:17:42.697Z"
   },
   {
    "duration": 0,
    "start_time": "2022-07-13T12:17:42.698Z"
   },
   {
    "duration": 0,
    "start_time": "2022-07-13T12:17:42.699Z"
   },
   {
    "duration": 344693,
    "start_time": "2022-07-13T12:21:21.813Z"
   },
   {
    "duration": 331297,
    "start_time": "2022-07-13T12:28:18.461Z"
   },
   {
    "duration": 63597,
    "start_time": "2022-07-13T12:33:49.763Z"
   },
   {
    "duration": 0,
    "start_time": "2022-07-13T12:34:53.363Z"
   },
   {
    "duration": 0,
    "start_time": "2022-07-13T12:34:53.365Z"
   },
   {
    "duration": 0,
    "start_time": "2022-07-13T12:34:53.366Z"
   },
   {
    "duration": 0,
    "start_time": "2022-07-13T12:34:53.369Z"
   },
   {
    "duration": 0,
    "start_time": "2022-07-13T12:34:53.370Z"
   },
   {
    "duration": 0,
    "start_time": "2022-07-13T12:34:53.371Z"
   },
   {
    "duration": 0,
    "start_time": "2022-07-13T12:34:53.372Z"
   },
   {
    "duration": 0,
    "start_time": "2022-07-13T12:34:53.374Z"
   },
   {
    "duration": 0,
    "start_time": "2022-07-13T12:34:53.375Z"
   },
   {
    "duration": 0,
    "start_time": "2022-07-13T12:34:53.376Z"
   },
   {
    "duration": 0,
    "start_time": "2022-07-13T12:34:53.377Z"
   },
   {
    "duration": 63889,
    "start_time": "2022-07-13T21:31:53.166Z"
   },
   {
    "duration": 60809,
    "start_time": "2022-07-13T21:34:11.263Z"
   },
   {
    "duration": 17,
    "start_time": "2022-07-13T21:35:46.410Z"
   },
   {
    "duration": 8,
    "start_time": "2022-07-13T21:36:00.424Z"
   },
   {
    "duration": 13616748,
    "start_time": "2022-07-13T21:36:01.368Z"
   },
   {
    "duration": 8,
    "start_time": "2022-07-14T01:22:58.118Z"
   },
   {
    "duration": 17438765,
    "start_time": "2022-07-14T01:22:58.127Z"
   },
   {
    "duration": 0,
    "start_time": "2022-07-14T06:13:36.895Z"
   },
   {
    "duration": 0,
    "start_time": "2022-07-14T06:13:36.896Z"
   },
   {
    "duration": 0,
    "start_time": "2022-07-14T06:13:36.897Z"
   },
   {
    "duration": 0,
    "start_time": "2022-07-14T06:13:36.898Z"
   },
   {
    "duration": 0,
    "start_time": "2022-07-14T06:13:36.900Z"
   },
   {
    "duration": 0,
    "start_time": "2022-07-14T06:13:36.901Z"
   },
   {
    "duration": 35692,
    "start_time": "2022-07-14T06:17:34.878Z"
   },
   {
    "duration": 26,
    "start_time": "2022-07-14T06:18:35.036Z"
   },
   {
    "duration": 385780,
    "start_time": "2022-07-14T06:18:57.579Z"
   },
   {
    "duration": 8,
    "start_time": "2022-07-14T06:25:23.361Z"
   },
   {
    "duration": 1157935,
    "start_time": "2022-07-14T06:25:30.533Z"
   },
   {
    "duration": 30888,
    "start_time": "2022-07-14T06:45:01.771Z"
   },
   {
    "duration": 1203816,
    "start_time": "2022-07-14T06:45:35.745Z"
   },
   {
    "duration": 16,
    "start_time": "2022-07-14T07:06:04.883Z"
   },
   {
    "duration": 18,
    "start_time": "2022-07-14T07:06:15.516Z"
   },
   {
    "duration": 20,
    "start_time": "2022-07-14T07:07:55.077Z"
   },
   {
    "duration": 18,
    "start_time": "2022-07-14T07:08:18.991Z"
   },
   {
    "duration": 17,
    "start_time": "2022-07-14T07:09:07.083Z"
   },
   {
    "duration": 17,
    "start_time": "2022-07-14T07:09:26.271Z"
   },
   {
    "duration": 18,
    "start_time": "2022-07-14T07:10:19.156Z"
   },
   {
    "duration": 33,
    "start_time": "2022-07-14T07:10:23.406Z"
   },
   {
    "duration": 19,
    "start_time": "2022-07-14T07:10:27.325Z"
   },
   {
    "duration": 15,
    "start_time": "2022-07-14T07:11:19.009Z"
   },
   {
    "duration": 3,
    "start_time": "2022-07-14T07:11:33.545Z"
   },
   {
    "duration": 2609,
    "start_time": "2022-07-14T07:11:39.196Z"
   },
   {
    "duration": 12,
    "start_time": "2022-07-14T07:11:45.382Z"
   },
   {
    "duration": 14,
    "start_time": "2022-07-14T07:14:46.699Z"
   },
   {
    "duration": 11,
    "start_time": "2022-07-14T07:15:12.068Z"
   }
  ],
  "kernelspec": {
   "display_name": "Python 3 (ipykernel)",
   "language": "python",
   "name": "python3"
  },
  "language_info": {
   "codemirror_mode": {
    "name": "ipython",
    "version": 3
   },
   "file_extension": ".py",
   "mimetype": "text/x-python",
   "name": "python",
   "nbconvert_exporter": "python",
   "pygments_lexer": "ipython3",
   "version": "3.9.13"
  },
  "toc": {
   "base_numbering": 1,
   "nav_menu": {},
   "number_sections": true,
   "sideBar": true,
   "skip_h1_title": true,
   "title_cell": "Содержание",
   "title_sidebar": "Contents",
   "toc_cell": true,
   "toc_position": {
    "height": "calc(100% - 180px)",
    "left": "10px",
    "top": "150px",
    "width": "302.388px"
   },
   "toc_section_display": true,
   "toc_window_display": true
  }
 },
 "nbformat": 4,
 "nbformat_minor": 4
}
