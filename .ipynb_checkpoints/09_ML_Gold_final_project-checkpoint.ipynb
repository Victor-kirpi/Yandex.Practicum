{
 "cells": [
  {
   "cell_type": "code",
   "execution_count": null,
   "id": "c2b46a49-d56e-4df0-9a50-5c85ccec480d",
   "metadata": {},
   "outputs": [],
   "source": [
    "# pip install xgboost"
   ]
  },
  {
   "cell_type": "code",
   "execution_count": null,
   "id": "9247c00f-35c7-4577-98cd-c2c45010d112",
   "metadata": {},
   "outputs": [],
   "source": [
    "# pip install hyperopt"
   ]
  },
  {
   "cell_type": "code",
   "execution_count": 3,
   "id": "4ac2cc1e",
   "metadata": {},
   "outputs": [],
   "source": [
    "import xgboost as xgb\n",
    "\n",
    "from hyperopt import hp, fmin, tpe, STATUS_OK, Trials\n",
    "\n",
    "import pandas as pd\n",
    "\n",
    "import warnings\n",
    "warnings.filterwarnings('ignore')\n",
    "\n",
    "import seaborn as sb\n",
    "\n",
    "import matplotlib.pyplot as plt\n",
    "\n",
    "import numpy as np\n",
    "\n",
    "import time\n",
    "\n",
    "from sklearn.metrics import r2_score, mean_absolute_error, make_scorer\n",
    "\n",
    "from sklearn.model_selection import cross_val_score, GridSearchCV\n",
    "\n",
    "from sklearn.preprocessing import StandardScaler\n",
    "\n",
    "from sklearn.ensemble import RandomForestRegressor, RandomForestClassifier\n",
    "\n",
    "from sklearn.tree import DecisionTreeRegressor\n",
    "\n",
    "from sklearn.linear_model import LinearRegression\n",
    "\n",
    "from sklearn.dummy import DummyRegressor"
   ]
  },
  {
   "cell_type": "markdown",
   "id": "a804865c",
   "metadata": {},
   "source": [
    "## <font size=\"4\"><b>Оглавление </b></p></font> \n",
    "<a id='contents'></a>\n",
    "\n",
    "1. [Постановка задания](#intro)\n",
    "2. [Обзор данных](#data_review)\n",
    "- [Пропуски](#nan)\n",
    "- [Проверка расчета эффективности обогащения](#recovery)\n",
    "- [Выбор целевых признаков](#target_scope)\n",
    "- [Выводы](#data_review_summary)\n",
    "3. [Анализ данных](#data_analysis)\n",
    "- [Концентрации металлов](#metalls_concentrate)\n",
    "- [Размер гранул](#granule_size)\n",
    "- [Выводы](#data_analysis_summary)\n",
    "4. [Построение моделей](#models)\n",
    "- [Подготовка выборок](#data_split)\n",
    "- [sMAPE](#sMAPE)\n",
    "- [Дерево решений](#model_1)\n",
    "- [Случайный лес](#model_2)\n",
    "- [Линейная регрессия](#model_3)\n",
    "- [Dummy model](#dummy_model)\n",
    "- [Выводы](#models_summary)\n",
    "5. [Итоги исследования](#summary)"
   ]
  },
  {
   "cell_type": "markdown",
   "id": "f944630a-aa97-4f1e-9217-e81bdc97767f",
   "metadata": {},
   "source": [
    "<a id='intro'></a>"
   ]
  },
  {
   "cell_type": "markdown",
   "id": "2e1dd285",
   "metadata": {},
   "source": [
    "# **Процесс получения золота из горной руды**"
   ]
  },
  {
   "cell_type": "markdown",
   "id": "0bb2a599",
   "metadata": {},
   "source": [
    "<a id='intro'></a>"
   ]
  },
  {
   "cell_type": "markdown",
   "id": "5e7a80bf",
   "metadata": {},
   "source": [
    "**Заказчик** — Группа компаний «Цифра», которая разрабатывает решения для эффективной работы промышленных предприятий.\n",
    "\n",
    "**Цель исследования**:\n",
    "1. Подготовить прототип модели, способной на основании предоставленных данных предсказать коэффициент восстановления золота из золотосодержащей руды.\n",
    "\n",
    "**Поставленные задачи**\n",
    "1. Изучить предоставленные данные и подготовить их для обучения моделей. Разделить исходные данные на обучающую и валидационную выборки в соотношении 75:25.\n",
    "2. Обучить и проверить модель для каждого региона. Предсказать объём запасов сырья в  скважинах и проанализировать RMSE модели.\n",
    "3. Рассчитать достаточный объём сырья для безубыточной разработки новой скважины. Сравнить полученный объём сырья со средним запасом в каждом регионе.\n",
    "4. Выбрать скважины с самыми высокими оценками значений и рассчитать прибыль для объёма сырья по выбранным скважинам.\n",
    "5. Посчитать риски и прибыль для каждого региона с помощью техники Bootstrap с 1000 выборок и 95%-м доверительным интервалом.\n",
    "6. Определить регион с максимальной суммарной прибылью отобранных скважин.\n",
    "\n",
    "**Дальнейшее использование**\n",
    "\n",
    "Созданная в результате исследования система будет использоваться в дальнейшем при планировании запуска новых предприятий и оптимизации уже существующих производств.\n",
    "\n",
    "**Дополнительно предоставленная инфомарция и условия**\n",
    "\n",
    "*1. Наименование признаков должно быть такое:*\n",
    "\n",
    "    `[этап].[тип_параметра].[название_параметра]`\n",
    "\n",
    "    Возможные значения для блока `[этап]`:\n",
    "   -   *rougher —* флотация\n",
    "   -   *primary\\_cleaner* — первичная очистка\n",
    "   -   *secondary\\_cleaner* — вторичная очистка\n",
    "   -   *final* — финальные характеристики\n",
    "\n",
    "    Возможные значения для блока `[тип_параметра]`:\n",
    "   -   *input* — параметры сырья\n",
    "   -   *output* — параметры продукта\n",
    "   -   *state* — параметры, характеризующие текущее состояние этапа\n",
    "   -   *calculation —* расчётные характеристики\n",
    "\n",
    "\n",
    "*2.  В качестве метрики качества использовать `sMAPE` — симметричное среднее абсолютное процентное отклонение*\n",
    "\n",
    "$$sMAPE = \\frac{1}{N} \\sum_{i=1}^N \\frac{|{y_i - \\hat{y}_i}|}{\\left( |y_i| + |\\hat{y}_i| \\right) / \\ 2} \\times 100\\% \\ ,$$ \n",
    "    где: \n",
    "   - $y_i$ — значение целевого признака для объекта с порядковым номером i в выборке, на которой измеряется качество;\n",
    "   - $\\hat{y}_i$ — значение предсказания для объекта с порядковым номером i, например, в тестовой выборке;\n",
    "   - $N$ — количество объектов в выборке;\n",
    "   - $\\sum_{i=1}^N$ — суммирование по всем объектам выборки (i меняется от 1 до N).\n",
    "\n",
    "    Итоговая метрика складывается из двух величин:\n",
    "   - эффективность обогащения чернового концентрата rougher.output.recovery;\n",
    "   - эффективность обогащения финального концентрата final.output.recovery.\n",
    "\n",
    "$$Итоговое \\ sMAPE = 25\\% \\times sMAPE(rougher) + 75\\% \\times sMAPE(final)$$\n",
    "\n",
    "3. *Эффективность обогащения* рассчитывается по формуле:\n",
    "$$Recovery = \\frac{C \\times (F - T)}{F \\times (C - T)} \\times 100\\% \\ ,$$\n",
    "    где:\n",
    "- ***C*** — доля золота в концентрате после флотации/очистки;\n",
    "- ***F*** — доля золота в сырье/концентрате до флотации/очистки;\n",
    "- ***T*** — доля золота в отвальных хвостах после флотации/очистки.\n",
    "\n",
    "4. *Вводные*:\n",
    "    - Имеются сырые исторические данные из хранилища.\n",
    "    - Исходный датасет содержит обучающую и тестовую выборки со всеми признаками.\n",
    "    - Данные индексируются датой и временем получения информации (признак `date`). Соседние по времени параметры часто похожи.\n",
    "    - Некоторые параметры недоступны, потому что замеряются и/или рассчитываются значительно позже. Из-за этого в тестовой выборке отсутствуют некоторые признаки, которые могут быть в обучающей. Также в тестовом наборе нет целевых признаков."
   ]
  },
  {
   "cell_type": "markdown",
   "id": "c5246d6b-c213-4d6d-b33e-1f11f9d5dd9d",
   "metadata": {},
   "source": [
    "[К оглавлению](#contents)"
   ]
  },
  {
   "cell_type": "markdown",
   "id": "f92b1844-c485-4299-9550-56a5f6de202c",
   "metadata": {
    "tags": []
   },
   "source": [
    "<a id='data_review'></a>"
   ]
  },
  {
   "cell_type": "markdown",
   "id": "15c16e0c-2c8b-40d0-b9d8-d08542f028d0",
   "metadata": {},
   "source": [
    "## **I. Обзор и подготовка данных**"
   ]
  },
  {
   "cell_type": "markdown",
   "id": "e2e1aab7-497d-4fdd-926a-f83d045ea8c2",
   "metadata": {},
   "source": [
    "### 1. Первичный обзор"
   ]
  },
  {
   "cell_type": "markdown",
   "id": "e9096b98-18ca-40c1-a47a-eba6a9480076",
   "metadata": {},
   "source": [
    "В ходе исследования нам понадобятся библиотеки и модули:\n",
    "\n",
    "* `pandas`\n",
    "* `seaborn`\n",
    "* `matplotlib.pyplot`\n",
    "* `numpy`\n",
    "* `time`\n",
    "* `sklearn`:\n",
    "    - `metrics`\n",
    "    - `preprocessing`\n",
    "    - `linear_model`    \n",
    "    - `model_selection`\n",
    "    - `ensemble`\n",
    "    - `tree`\n",
    "    - `dummy`"
   ]
  },
  {
   "cell_type": "markdown",
   "id": "7f0d515e-6d44-4ae6-bdf5-d9aa14899995",
   "metadata": {},
   "source": [
    "Сначала составим представление о полученных исходных данных.\n",
    "\n",
    "Прочитаем файлы `gold_recovery_train_new.csv`, `gold_recovery_test_new.csv`, `gold_recovery_full_new.csv` из папки `/datasets/` и сохраним их в переменных `gold_recovery_train`, `gold_recovery_test`, `gold_recovery_full`:"
   ]
  },
  {
   "cell_type": "code",
   "execution_count": 4,
   "id": "b515c1de-f1a1-48cb-b07b-05ca1727ca39",
   "metadata": {},
   "outputs": [],
   "source": [
    "gold_recovery_train = pd.read_csv('/datasets/gold_recovery_train_new.csv') # D:/Programs/Jupyter_projects/datasets/gold_recovery_full_new.csv on local machine\n",
    "gold_recovery_test = pd.read_csv('/datasets/gold_recovery_test_new.csv')   # D:/Programs/Jupyter_projects/datasets/gold_recovery_full_new.csv on local machine\n",
    "gold_recovery_full = pd.read_csv('/datasets/gold_recovery_full_new.csv')   # D:/Programs/Jupyter_projects/datasets/gold_recovery_full_new.csv on local machine"
   ]
  },
  {
   "cell_type": "code",
   "execution_count": 5,
   "id": "360c343e-aefe-451d-be18-1eb9256c8dec",
   "metadata": {},
   "outputs": [],
   "source": [
    "#сохраним все в единую пемеренную `datas`:\n",
    "datas = {\n",
    "    'gold_train':[gold_recovery_train],\n",
    "    'gold_test':[gold_recovery_test], \n",
    "    'gold_full':[gold_recovery_full],\n",
    "}"
   ]
  },
  {
   "cell_type": "markdown",
   "id": "7debc58d-eecf-4bae-b777-e84622c128dd",
   "metadata": {},
   "source": [
    "Выведем на экран первые строки таблиц:"
   ]
  },
  {
   "cell_type": "code",
   "execution_count": 6,
   "id": "c0d3ea19-14e0-4a6d-94a2-173eb275f477",
   "metadata": {
    "collapsed": true,
    "jupyter": {
     "outputs_hidden": true
    },
    "scrolled": true,
    "tags": []
   },
   "outputs": [
    {
     "name": "stdout",
     "output_type": "stream",
     "text": [
      "\n",
      "\t\u001b[4m\u001b[1m\u001b[31mgold_train\u001b[0m\n"
     ]
    },
    {
     "data": {
      "text/html": [
       "<div>\n",
       "<style scoped>\n",
       "    .dataframe tbody tr th:only-of-type {\n",
       "        vertical-align: middle;\n",
       "    }\n",
       "\n",
       "    .dataframe tbody tr th {\n",
       "        vertical-align: top;\n",
       "    }\n",
       "\n",
       "    .dataframe thead th {\n",
       "        text-align: right;\n",
       "    }\n",
       "</style>\n",
       "<table border=\"1\" class=\"dataframe\">\n",
       "  <thead>\n",
       "    <tr style=\"text-align: right;\">\n",
       "      <th></th>\n",
       "      <th>date</th>\n",
       "      <th>final.output.concentrate_ag</th>\n",
       "      <th>final.output.concentrate_pb</th>\n",
       "      <th>final.output.concentrate_sol</th>\n",
       "      <th>final.output.concentrate_au</th>\n",
       "      <th>final.output.recovery</th>\n",
       "      <th>final.output.tail_ag</th>\n",
       "      <th>final.output.tail_pb</th>\n",
       "      <th>final.output.tail_sol</th>\n",
       "      <th>final.output.tail_au</th>\n",
       "      <th>...</th>\n",
       "      <th>secondary_cleaner.state.floatbank4_a_air</th>\n",
       "      <th>secondary_cleaner.state.floatbank4_a_level</th>\n",
       "      <th>secondary_cleaner.state.floatbank4_b_air</th>\n",
       "      <th>secondary_cleaner.state.floatbank4_b_level</th>\n",
       "      <th>secondary_cleaner.state.floatbank5_a_air</th>\n",
       "      <th>secondary_cleaner.state.floatbank5_a_level</th>\n",
       "      <th>secondary_cleaner.state.floatbank5_b_air</th>\n",
       "      <th>secondary_cleaner.state.floatbank5_b_level</th>\n",
       "      <th>secondary_cleaner.state.floatbank6_a_air</th>\n",
       "      <th>secondary_cleaner.state.floatbank6_a_level</th>\n",
       "    </tr>\n",
       "  </thead>\n",
       "  <tbody>\n",
       "    <tr>\n",
       "      <th>0</th>\n",
       "      <td>2016-01-15 00:00:00</td>\n",
       "      <td>6.055403</td>\n",
       "      <td>9.889648</td>\n",
       "      <td>5.507324</td>\n",
       "      <td>42.192020</td>\n",
       "      <td>70.541216</td>\n",
       "      <td>10.411962</td>\n",
       "      <td>0.895447</td>\n",
       "      <td>16.904297</td>\n",
       "      <td>2.143149</td>\n",
       "      <td>...</td>\n",
       "      <td>14.016835</td>\n",
       "      <td>-502.488007</td>\n",
       "      <td>12.099931</td>\n",
       "      <td>-504.715942</td>\n",
       "      <td>9.925633</td>\n",
       "      <td>-498.310211</td>\n",
       "      <td>8.079666</td>\n",
       "      <td>-500.470978</td>\n",
       "      <td>14.151341</td>\n",
       "      <td>-605.841980</td>\n",
       "    </tr>\n",
       "    <tr>\n",
       "      <th>1</th>\n",
       "      <td>2016-01-15 01:00:00</td>\n",
       "      <td>6.029369</td>\n",
       "      <td>9.968944</td>\n",
       "      <td>5.257781</td>\n",
       "      <td>42.701629</td>\n",
       "      <td>69.266198</td>\n",
       "      <td>10.462676</td>\n",
       "      <td>0.927452</td>\n",
       "      <td>16.634514</td>\n",
       "      <td>2.224930</td>\n",
       "      <td>...</td>\n",
       "      <td>13.992281</td>\n",
       "      <td>-505.503262</td>\n",
       "      <td>11.950531</td>\n",
       "      <td>-501.331529</td>\n",
       "      <td>10.039245</td>\n",
       "      <td>-500.169983</td>\n",
       "      <td>7.984757</td>\n",
       "      <td>-500.582168</td>\n",
       "      <td>13.998353</td>\n",
       "      <td>-599.787184</td>\n",
       "    </tr>\n",
       "    <tr>\n",
       "      <th>2</th>\n",
       "      <td>2016-01-15 02:00:00</td>\n",
       "      <td>6.055926</td>\n",
       "      <td>10.213995</td>\n",
       "      <td>5.383759</td>\n",
       "      <td>42.657501</td>\n",
       "      <td>68.116445</td>\n",
       "      <td>10.507046</td>\n",
       "      <td>0.953716</td>\n",
       "      <td>16.208849</td>\n",
       "      <td>2.257889</td>\n",
       "      <td>...</td>\n",
       "      <td>14.015015</td>\n",
       "      <td>-502.520901</td>\n",
       "      <td>11.912783</td>\n",
       "      <td>-501.133383</td>\n",
       "      <td>10.070913</td>\n",
       "      <td>-500.129135</td>\n",
       "      <td>8.013877</td>\n",
       "      <td>-500.517572</td>\n",
       "      <td>14.028663</td>\n",
       "      <td>-601.427363</td>\n",
       "    </tr>\n",
       "  </tbody>\n",
       "</table>\n",
       "<p>3 rows × 87 columns</p>\n",
       "</div>"
      ],
      "text/plain": [
       "                  date  final.output.concentrate_ag  \\\n",
       "0  2016-01-15 00:00:00                     6.055403   \n",
       "1  2016-01-15 01:00:00                     6.029369   \n",
       "2  2016-01-15 02:00:00                     6.055926   \n",
       "\n",
       "   final.output.concentrate_pb  final.output.concentrate_sol  \\\n",
       "0                     9.889648                      5.507324   \n",
       "1                     9.968944                      5.257781   \n",
       "2                    10.213995                      5.383759   \n",
       "\n",
       "   final.output.concentrate_au  final.output.recovery  final.output.tail_ag  \\\n",
       "0                    42.192020              70.541216             10.411962   \n",
       "1                    42.701629              69.266198             10.462676   \n",
       "2                    42.657501              68.116445             10.507046   \n",
       "\n",
       "   final.output.tail_pb  final.output.tail_sol  final.output.tail_au  ...  \\\n",
       "0              0.895447              16.904297              2.143149  ...   \n",
       "1              0.927452              16.634514              2.224930  ...   \n",
       "2              0.953716              16.208849              2.257889  ...   \n",
       "\n",
       "   secondary_cleaner.state.floatbank4_a_air  \\\n",
       "0                                 14.016835   \n",
       "1                                 13.992281   \n",
       "2                                 14.015015   \n",
       "\n",
       "   secondary_cleaner.state.floatbank4_a_level  \\\n",
       "0                                 -502.488007   \n",
       "1                                 -505.503262   \n",
       "2                                 -502.520901   \n",
       "\n",
       "   secondary_cleaner.state.floatbank4_b_air  \\\n",
       "0                                 12.099931   \n",
       "1                                 11.950531   \n",
       "2                                 11.912783   \n",
       "\n",
       "   secondary_cleaner.state.floatbank4_b_level  \\\n",
       "0                                 -504.715942   \n",
       "1                                 -501.331529   \n",
       "2                                 -501.133383   \n",
       "\n",
       "   secondary_cleaner.state.floatbank5_a_air  \\\n",
       "0                                  9.925633   \n",
       "1                                 10.039245   \n",
       "2                                 10.070913   \n",
       "\n",
       "   secondary_cleaner.state.floatbank5_a_level  \\\n",
       "0                                 -498.310211   \n",
       "1                                 -500.169983   \n",
       "2                                 -500.129135   \n",
       "\n",
       "   secondary_cleaner.state.floatbank5_b_air  \\\n",
       "0                                  8.079666   \n",
       "1                                  7.984757   \n",
       "2                                  8.013877   \n",
       "\n",
       "   secondary_cleaner.state.floatbank5_b_level  \\\n",
       "0                                 -500.470978   \n",
       "1                                 -500.582168   \n",
       "2                                 -500.517572   \n",
       "\n",
       "   secondary_cleaner.state.floatbank6_a_air  \\\n",
       "0                                 14.151341   \n",
       "1                                 13.998353   \n",
       "2                                 14.028663   \n",
       "\n",
       "   secondary_cleaner.state.floatbank6_a_level  \n",
       "0                                 -605.841980  \n",
       "1                                 -599.787184  \n",
       "2                                 -601.427363  \n",
       "\n",
       "[3 rows x 87 columns]"
      ]
     },
     "metadata": {},
     "output_type": "display_data"
    },
    {
     "name": "stdout",
     "output_type": "stream",
     "text": [
      "__________________________________________________\n",
      "\n",
      "\t\u001b[4m\u001b[1m\u001b[31mgold_test\u001b[0m\n"
     ]
    },
    {
     "data": {
      "text/html": [
       "<div>\n",
       "<style scoped>\n",
       "    .dataframe tbody tr th:only-of-type {\n",
       "        vertical-align: middle;\n",
       "    }\n",
       "\n",
       "    .dataframe tbody tr th {\n",
       "        vertical-align: top;\n",
       "    }\n",
       "\n",
       "    .dataframe thead th {\n",
       "        text-align: right;\n",
       "    }\n",
       "</style>\n",
       "<table border=\"1\" class=\"dataframe\">\n",
       "  <thead>\n",
       "    <tr style=\"text-align: right;\">\n",
       "      <th></th>\n",
       "      <th>date</th>\n",
       "      <th>primary_cleaner.input.sulfate</th>\n",
       "      <th>primary_cleaner.input.depressant</th>\n",
       "      <th>primary_cleaner.input.feed_size</th>\n",
       "      <th>primary_cleaner.input.xanthate</th>\n",
       "      <th>primary_cleaner.state.floatbank8_a_air</th>\n",
       "      <th>primary_cleaner.state.floatbank8_a_level</th>\n",
       "      <th>primary_cleaner.state.floatbank8_b_air</th>\n",
       "      <th>primary_cleaner.state.floatbank8_b_level</th>\n",
       "      <th>primary_cleaner.state.floatbank8_c_air</th>\n",
       "      <th>...</th>\n",
       "      <th>secondary_cleaner.state.floatbank4_a_air</th>\n",
       "      <th>secondary_cleaner.state.floatbank4_a_level</th>\n",
       "      <th>secondary_cleaner.state.floatbank4_b_air</th>\n",
       "      <th>secondary_cleaner.state.floatbank4_b_level</th>\n",
       "      <th>secondary_cleaner.state.floatbank5_a_air</th>\n",
       "      <th>secondary_cleaner.state.floatbank5_a_level</th>\n",
       "      <th>secondary_cleaner.state.floatbank5_b_air</th>\n",
       "      <th>secondary_cleaner.state.floatbank5_b_level</th>\n",
       "      <th>secondary_cleaner.state.floatbank6_a_air</th>\n",
       "      <th>secondary_cleaner.state.floatbank6_a_level</th>\n",
       "    </tr>\n",
       "  </thead>\n",
       "  <tbody>\n",
       "    <tr>\n",
       "      <th>0</th>\n",
       "      <td>2016-09-01 00:59:59</td>\n",
       "      <td>210.800909</td>\n",
       "      <td>14.993118</td>\n",
       "      <td>8.080000</td>\n",
       "      <td>1.005021</td>\n",
       "      <td>1398.981301</td>\n",
       "      <td>-500.225577</td>\n",
       "      <td>1399.144926</td>\n",
       "      <td>-499.919735</td>\n",
       "      <td>1400.102998</td>\n",
       "      <td>...</td>\n",
       "      <td>12.023554</td>\n",
       "      <td>-497.795834</td>\n",
       "      <td>8.016656</td>\n",
       "      <td>-501.289139</td>\n",
       "      <td>7.946562</td>\n",
       "      <td>-432.317850</td>\n",
       "      <td>4.872511</td>\n",
       "      <td>-500.037437</td>\n",
       "      <td>26.705889</td>\n",
       "      <td>-499.709414</td>\n",
       "    </tr>\n",
       "    <tr>\n",
       "      <th>1</th>\n",
       "      <td>2016-09-01 01:59:59</td>\n",
       "      <td>215.392455</td>\n",
       "      <td>14.987471</td>\n",
       "      <td>8.080000</td>\n",
       "      <td>0.990469</td>\n",
       "      <td>1398.777912</td>\n",
       "      <td>-500.057435</td>\n",
       "      <td>1398.055362</td>\n",
       "      <td>-499.778182</td>\n",
       "      <td>1396.151033</td>\n",
       "      <td>...</td>\n",
       "      <td>12.058140</td>\n",
       "      <td>-498.695773</td>\n",
       "      <td>8.130979</td>\n",
       "      <td>-499.634209</td>\n",
       "      <td>7.958270</td>\n",
       "      <td>-525.839648</td>\n",
       "      <td>4.878850</td>\n",
       "      <td>-500.162375</td>\n",
       "      <td>25.019940</td>\n",
       "      <td>-499.819438</td>\n",
       "    </tr>\n",
       "    <tr>\n",
       "      <th>2</th>\n",
       "      <td>2016-09-01 02:59:59</td>\n",
       "      <td>215.259946</td>\n",
       "      <td>12.884934</td>\n",
       "      <td>7.786667</td>\n",
       "      <td>0.996043</td>\n",
       "      <td>1398.493666</td>\n",
       "      <td>-500.868360</td>\n",
       "      <td>1398.860436</td>\n",
       "      <td>-499.764529</td>\n",
       "      <td>1398.075709</td>\n",
       "      <td>...</td>\n",
       "      <td>11.962366</td>\n",
       "      <td>-498.767484</td>\n",
       "      <td>8.096893</td>\n",
       "      <td>-500.827423</td>\n",
       "      <td>8.071056</td>\n",
       "      <td>-500.801673</td>\n",
       "      <td>4.905125</td>\n",
       "      <td>-499.828510</td>\n",
       "      <td>24.994862</td>\n",
       "      <td>-500.622559</td>\n",
       "    </tr>\n",
       "  </tbody>\n",
       "</table>\n",
       "<p>3 rows × 53 columns</p>\n",
       "</div>"
      ],
      "text/plain": [
       "                  date  primary_cleaner.input.sulfate  \\\n",
       "0  2016-09-01 00:59:59                     210.800909   \n",
       "1  2016-09-01 01:59:59                     215.392455   \n",
       "2  2016-09-01 02:59:59                     215.259946   \n",
       "\n",
       "   primary_cleaner.input.depressant  primary_cleaner.input.feed_size  \\\n",
       "0                         14.993118                         8.080000   \n",
       "1                         14.987471                         8.080000   \n",
       "2                         12.884934                         7.786667   \n",
       "\n",
       "   primary_cleaner.input.xanthate  primary_cleaner.state.floatbank8_a_air  \\\n",
       "0                        1.005021                             1398.981301   \n",
       "1                        0.990469                             1398.777912   \n",
       "2                        0.996043                             1398.493666   \n",
       "\n",
       "   primary_cleaner.state.floatbank8_a_level  \\\n",
       "0                               -500.225577   \n",
       "1                               -500.057435   \n",
       "2                               -500.868360   \n",
       "\n",
       "   primary_cleaner.state.floatbank8_b_air  \\\n",
       "0                             1399.144926   \n",
       "1                             1398.055362   \n",
       "2                             1398.860436   \n",
       "\n",
       "   primary_cleaner.state.floatbank8_b_level  \\\n",
       "0                               -499.919735   \n",
       "1                               -499.778182   \n",
       "2                               -499.764529   \n",
       "\n",
       "   primary_cleaner.state.floatbank8_c_air  ...  \\\n",
       "0                             1400.102998  ...   \n",
       "1                             1396.151033  ...   \n",
       "2                             1398.075709  ...   \n",
       "\n",
       "   secondary_cleaner.state.floatbank4_a_air  \\\n",
       "0                                 12.023554   \n",
       "1                                 12.058140   \n",
       "2                                 11.962366   \n",
       "\n",
       "   secondary_cleaner.state.floatbank4_a_level  \\\n",
       "0                                 -497.795834   \n",
       "1                                 -498.695773   \n",
       "2                                 -498.767484   \n",
       "\n",
       "   secondary_cleaner.state.floatbank4_b_air  \\\n",
       "0                                  8.016656   \n",
       "1                                  8.130979   \n",
       "2                                  8.096893   \n",
       "\n",
       "   secondary_cleaner.state.floatbank4_b_level  \\\n",
       "0                                 -501.289139   \n",
       "1                                 -499.634209   \n",
       "2                                 -500.827423   \n",
       "\n",
       "   secondary_cleaner.state.floatbank5_a_air  \\\n",
       "0                                  7.946562   \n",
       "1                                  7.958270   \n",
       "2                                  8.071056   \n",
       "\n",
       "   secondary_cleaner.state.floatbank5_a_level  \\\n",
       "0                                 -432.317850   \n",
       "1                                 -525.839648   \n",
       "2                                 -500.801673   \n",
       "\n",
       "   secondary_cleaner.state.floatbank5_b_air  \\\n",
       "0                                  4.872511   \n",
       "1                                  4.878850   \n",
       "2                                  4.905125   \n",
       "\n",
       "   secondary_cleaner.state.floatbank5_b_level  \\\n",
       "0                                 -500.037437   \n",
       "1                                 -500.162375   \n",
       "2                                 -499.828510   \n",
       "\n",
       "   secondary_cleaner.state.floatbank6_a_air  \\\n",
       "0                                 26.705889   \n",
       "1                                 25.019940   \n",
       "2                                 24.994862   \n",
       "\n",
       "   secondary_cleaner.state.floatbank6_a_level  \n",
       "0                                 -499.709414  \n",
       "1                                 -499.819438  \n",
       "2                                 -500.622559  \n",
       "\n",
       "[3 rows x 53 columns]"
      ]
     },
     "metadata": {},
     "output_type": "display_data"
    },
    {
     "name": "stdout",
     "output_type": "stream",
     "text": [
      "__________________________________________________\n",
      "\n",
      "\t\u001b[4m\u001b[1m\u001b[31mgold_full\u001b[0m\n"
     ]
    },
    {
     "data": {
      "text/html": [
       "<div>\n",
       "<style scoped>\n",
       "    .dataframe tbody tr th:only-of-type {\n",
       "        vertical-align: middle;\n",
       "    }\n",
       "\n",
       "    .dataframe tbody tr th {\n",
       "        vertical-align: top;\n",
       "    }\n",
       "\n",
       "    .dataframe thead th {\n",
       "        text-align: right;\n",
       "    }\n",
       "</style>\n",
       "<table border=\"1\" class=\"dataframe\">\n",
       "  <thead>\n",
       "    <tr style=\"text-align: right;\">\n",
       "      <th></th>\n",
       "      <th>date</th>\n",
       "      <th>final.output.concentrate_ag</th>\n",
       "      <th>final.output.concentrate_pb</th>\n",
       "      <th>final.output.concentrate_sol</th>\n",
       "      <th>final.output.concentrate_au</th>\n",
       "      <th>final.output.recovery</th>\n",
       "      <th>final.output.tail_ag</th>\n",
       "      <th>final.output.tail_pb</th>\n",
       "      <th>final.output.tail_sol</th>\n",
       "      <th>final.output.tail_au</th>\n",
       "      <th>...</th>\n",
       "      <th>secondary_cleaner.state.floatbank4_a_air</th>\n",
       "      <th>secondary_cleaner.state.floatbank4_a_level</th>\n",
       "      <th>secondary_cleaner.state.floatbank4_b_air</th>\n",
       "      <th>secondary_cleaner.state.floatbank4_b_level</th>\n",
       "      <th>secondary_cleaner.state.floatbank5_a_air</th>\n",
       "      <th>secondary_cleaner.state.floatbank5_a_level</th>\n",
       "      <th>secondary_cleaner.state.floatbank5_b_air</th>\n",
       "      <th>secondary_cleaner.state.floatbank5_b_level</th>\n",
       "      <th>secondary_cleaner.state.floatbank6_a_air</th>\n",
       "      <th>secondary_cleaner.state.floatbank6_a_level</th>\n",
       "    </tr>\n",
       "  </thead>\n",
       "  <tbody>\n",
       "    <tr>\n",
       "      <th>0</th>\n",
       "      <td>2016-01-15 00:00:00</td>\n",
       "      <td>6.055403</td>\n",
       "      <td>9.889648</td>\n",
       "      <td>5.507324</td>\n",
       "      <td>42.192020</td>\n",
       "      <td>70.541216</td>\n",
       "      <td>10.411962</td>\n",
       "      <td>0.895447</td>\n",
       "      <td>16.904297</td>\n",
       "      <td>2.143149</td>\n",
       "      <td>...</td>\n",
       "      <td>14.016835</td>\n",
       "      <td>-502.488007</td>\n",
       "      <td>12.099931</td>\n",
       "      <td>-504.715942</td>\n",
       "      <td>9.925633</td>\n",
       "      <td>-498.310211</td>\n",
       "      <td>8.079666</td>\n",
       "      <td>-500.470978</td>\n",
       "      <td>14.151341</td>\n",
       "      <td>-605.841980</td>\n",
       "    </tr>\n",
       "    <tr>\n",
       "      <th>1</th>\n",
       "      <td>2016-01-15 01:00:00</td>\n",
       "      <td>6.029369</td>\n",
       "      <td>9.968944</td>\n",
       "      <td>5.257781</td>\n",
       "      <td>42.701629</td>\n",
       "      <td>69.266198</td>\n",
       "      <td>10.462676</td>\n",
       "      <td>0.927452</td>\n",
       "      <td>16.634514</td>\n",
       "      <td>2.224930</td>\n",
       "      <td>...</td>\n",
       "      <td>13.992281</td>\n",
       "      <td>-505.503262</td>\n",
       "      <td>11.950531</td>\n",
       "      <td>-501.331529</td>\n",
       "      <td>10.039245</td>\n",
       "      <td>-500.169983</td>\n",
       "      <td>7.984757</td>\n",
       "      <td>-500.582168</td>\n",
       "      <td>13.998353</td>\n",
       "      <td>-599.787184</td>\n",
       "    </tr>\n",
       "    <tr>\n",
       "      <th>2</th>\n",
       "      <td>2016-01-15 02:00:00</td>\n",
       "      <td>6.055926</td>\n",
       "      <td>10.213995</td>\n",
       "      <td>5.383759</td>\n",
       "      <td>42.657501</td>\n",
       "      <td>68.116445</td>\n",
       "      <td>10.507046</td>\n",
       "      <td>0.953716</td>\n",
       "      <td>16.208849</td>\n",
       "      <td>2.257889</td>\n",
       "      <td>...</td>\n",
       "      <td>14.015015</td>\n",
       "      <td>-502.520901</td>\n",
       "      <td>11.912783</td>\n",
       "      <td>-501.133383</td>\n",
       "      <td>10.070913</td>\n",
       "      <td>-500.129135</td>\n",
       "      <td>8.013877</td>\n",
       "      <td>-500.517572</td>\n",
       "      <td>14.028663</td>\n",
       "      <td>-601.427363</td>\n",
       "    </tr>\n",
       "  </tbody>\n",
       "</table>\n",
       "<p>3 rows × 87 columns</p>\n",
       "</div>"
      ],
      "text/plain": [
       "                  date  final.output.concentrate_ag  \\\n",
       "0  2016-01-15 00:00:00                     6.055403   \n",
       "1  2016-01-15 01:00:00                     6.029369   \n",
       "2  2016-01-15 02:00:00                     6.055926   \n",
       "\n",
       "   final.output.concentrate_pb  final.output.concentrate_sol  \\\n",
       "0                     9.889648                      5.507324   \n",
       "1                     9.968944                      5.257781   \n",
       "2                    10.213995                      5.383759   \n",
       "\n",
       "   final.output.concentrate_au  final.output.recovery  final.output.tail_ag  \\\n",
       "0                    42.192020              70.541216             10.411962   \n",
       "1                    42.701629              69.266198             10.462676   \n",
       "2                    42.657501              68.116445             10.507046   \n",
       "\n",
       "   final.output.tail_pb  final.output.tail_sol  final.output.tail_au  ...  \\\n",
       "0              0.895447              16.904297              2.143149  ...   \n",
       "1              0.927452              16.634514              2.224930  ...   \n",
       "2              0.953716              16.208849              2.257889  ...   \n",
       "\n",
       "   secondary_cleaner.state.floatbank4_a_air  \\\n",
       "0                                 14.016835   \n",
       "1                                 13.992281   \n",
       "2                                 14.015015   \n",
       "\n",
       "   secondary_cleaner.state.floatbank4_a_level  \\\n",
       "0                                 -502.488007   \n",
       "1                                 -505.503262   \n",
       "2                                 -502.520901   \n",
       "\n",
       "   secondary_cleaner.state.floatbank4_b_air  \\\n",
       "0                                 12.099931   \n",
       "1                                 11.950531   \n",
       "2                                 11.912783   \n",
       "\n",
       "   secondary_cleaner.state.floatbank4_b_level  \\\n",
       "0                                 -504.715942   \n",
       "1                                 -501.331529   \n",
       "2                                 -501.133383   \n",
       "\n",
       "   secondary_cleaner.state.floatbank5_a_air  \\\n",
       "0                                  9.925633   \n",
       "1                                 10.039245   \n",
       "2                                 10.070913   \n",
       "\n",
       "   secondary_cleaner.state.floatbank5_a_level  \\\n",
       "0                                 -498.310211   \n",
       "1                                 -500.169983   \n",
       "2                                 -500.129135   \n",
       "\n",
       "   secondary_cleaner.state.floatbank5_b_air  \\\n",
       "0                                  8.079666   \n",
       "1                                  7.984757   \n",
       "2                                  8.013877   \n",
       "\n",
       "   secondary_cleaner.state.floatbank5_b_level  \\\n",
       "0                                 -500.470978   \n",
       "1                                 -500.582168   \n",
       "2                                 -500.517572   \n",
       "\n",
       "   secondary_cleaner.state.floatbank6_a_air  \\\n",
       "0                                 14.151341   \n",
       "1                                 13.998353   \n",
       "2                                 14.028663   \n",
       "\n",
       "   secondary_cleaner.state.floatbank6_a_level  \n",
       "0                                 -605.841980  \n",
       "1                                 -599.787184  \n",
       "2                                 -601.427363  \n",
       "\n",
       "[3 rows x 87 columns]"
      ]
     },
     "metadata": {},
     "output_type": "display_data"
    },
    {
     "name": "stdout",
     "output_type": "stream",
     "text": [
      "__________________________________________________\n"
     ]
    }
   ],
   "source": [
    "for df in datas:\n",
    "    print('\\n\\t\\033[4m\\033[1m\\033[31m{}\\033[0m'.format(df))\n",
    "    display(datas.get(df)[0].head(3))\n",
    "    print('_' * 50)"
   ]
  },
  {
   "cell_type": "markdown",
   "id": "1b79154c-cb44-44aa-9065-b18707e75260",
   "metadata": {},
   "source": [
    "Получим общую информацию: <a id='df.info'></a>"
   ]
  },
  {
   "cell_type": "code",
   "execution_count": 7,
   "id": "10426cda-8f40-47a4-8c5d-cea5216aeb7d",
   "metadata": {
    "collapsed": true,
    "jupyter": {
     "outputs_hidden": true
    },
    "tags": []
   },
   "outputs": [
    {
     "name": "stdout",
     "output_type": "stream",
     "text": [
      "\t\t\u001b[4m\u001b[1m\u001b[31mgold_train\u001b[0m \n",
      "\n",
      "<class 'pandas.core.frame.DataFrame'>\n",
      "RangeIndex: 14149 entries, 0 to 14148\n",
      "Data columns (total 87 columns):\n",
      " #   Column                                              Non-Null Count  Dtype  \n",
      "---  ------                                              --------------  -----  \n",
      " 0   date                                                14149 non-null  object \n",
      " 1   final.output.concentrate_ag                         14148 non-null  float64\n",
      " 2   final.output.concentrate_pb                         14148 non-null  float64\n",
      " 3   final.output.concentrate_sol                        13938 non-null  float64\n",
      " 4   final.output.concentrate_au                         14149 non-null  float64\n",
      " 5   final.output.recovery                               14149 non-null  float64\n",
      " 6   final.output.tail_ag                                14149 non-null  float64\n",
      " 7   final.output.tail_pb                                14049 non-null  float64\n",
      " 8   final.output.tail_sol                               14144 non-null  float64\n",
      " 9   final.output.tail_au                                14149 non-null  float64\n",
      " 10  primary_cleaner.input.sulfate                       14129 non-null  float64\n",
      " 11  primary_cleaner.input.depressant                    14117 non-null  float64\n",
      " 12  primary_cleaner.input.feed_size                     14149 non-null  float64\n",
      " 13  primary_cleaner.input.xanthate                      14049 non-null  float64\n",
      " 14  primary_cleaner.output.concentrate_ag               14149 non-null  float64\n",
      " 15  primary_cleaner.output.concentrate_pb               14063 non-null  float64\n",
      " 16  primary_cleaner.output.concentrate_sol              13863 non-null  float64\n",
      " 17  primary_cleaner.output.concentrate_au               14149 non-null  float64\n",
      " 18  primary_cleaner.output.tail_ag                      14148 non-null  float64\n",
      " 19  primary_cleaner.output.tail_pb                      14134 non-null  float64\n",
      " 20  primary_cleaner.output.tail_sol                     14103 non-null  float64\n",
      " 21  primary_cleaner.output.tail_au                      14149 non-null  float64\n",
      " 22  primary_cleaner.state.floatbank8_a_air              14145 non-null  float64\n",
      " 23  primary_cleaner.state.floatbank8_a_level            14148 non-null  float64\n",
      " 24  primary_cleaner.state.floatbank8_b_air              14145 non-null  float64\n",
      " 25  primary_cleaner.state.floatbank8_b_level            14148 non-null  float64\n",
      " 26  primary_cleaner.state.floatbank8_c_air              14147 non-null  float64\n",
      " 27  primary_cleaner.state.floatbank8_c_level            14148 non-null  float64\n",
      " 28  primary_cleaner.state.floatbank8_d_air              14146 non-null  float64\n",
      " 29  primary_cleaner.state.floatbank8_d_level            14148 non-null  float64\n",
      " 30  rougher.calculation.sulfate_to_au_concentrate       14148 non-null  float64\n",
      " 31  rougher.calculation.floatbank10_sulfate_to_au_feed  14148 non-null  float64\n",
      " 32  rougher.calculation.floatbank11_sulfate_to_au_feed  14148 non-null  float64\n",
      " 33  rougher.calculation.au_pb_ratio                     14149 non-null  float64\n",
      " 34  rougher.input.feed_ag                               14149 non-null  float64\n",
      " 35  rougher.input.feed_pb                               14049 non-null  float64\n",
      " 36  rougher.input.feed_rate                             14141 non-null  float64\n",
      " 37  rougher.input.feed_size                             14005 non-null  float64\n",
      " 38  rougher.input.feed_sol                              14071 non-null  float64\n",
      " 39  rougher.input.feed_au                               14149 non-null  float64\n",
      " 40  rougher.input.floatbank10_sulfate                   14120 non-null  float64\n",
      " 41  rougher.input.floatbank10_xanthate                  14141 non-null  float64\n",
      " 42  rougher.input.floatbank11_sulfate                   14113 non-null  float64\n",
      " 43  rougher.input.floatbank11_xanthate                  13721 non-null  float64\n",
      " 44  rougher.output.concentrate_ag                       14149 non-null  float64\n",
      " 45  rougher.output.concentrate_pb                       14149 non-null  float64\n",
      " 46  rougher.output.concentrate_sol                      14127 non-null  float64\n",
      " 47  rougher.output.concentrate_au                       14149 non-null  float64\n",
      " 48  rougher.output.recovery                             14149 non-null  float64\n",
      " 49  rougher.output.tail_ag                              14148 non-null  float64\n",
      " 50  rougher.output.tail_pb                              14149 non-null  float64\n",
      " 51  rougher.output.tail_sol                             14149 non-null  float64\n",
      " 52  rougher.output.tail_au                              14149 non-null  float64\n",
      " 53  rougher.state.floatbank10_a_air                     14148 non-null  float64\n",
      " 54  rougher.state.floatbank10_a_level                   14148 non-null  float64\n",
      " 55  rougher.state.floatbank10_b_air                     14148 non-null  float64\n",
      " 56  rougher.state.floatbank10_b_level                   14148 non-null  float64\n",
      " 57  rougher.state.floatbank10_c_air                     14148 non-null  float64\n",
      " 58  rougher.state.floatbank10_c_level                   14148 non-null  float64\n",
      " 59  rougher.state.floatbank10_d_air                     14149 non-null  float64\n",
      " 60  rougher.state.floatbank10_d_level                   14149 non-null  float64\n",
      " 61  rougher.state.floatbank10_e_air                     13713 non-null  float64\n",
      " 62  rougher.state.floatbank10_e_level                   14149 non-null  float64\n",
      " 63  rougher.state.floatbank10_f_air                     14149 non-null  float64\n",
      " 64  rougher.state.floatbank10_f_level                   14149 non-null  float64\n",
      " 65  secondary_cleaner.output.tail_ag                    14147 non-null  float64\n",
      " 66  secondary_cleaner.output.tail_pb                    14139 non-null  float64\n",
      " 67  secondary_cleaner.output.tail_sol                   12544 non-null  float64\n",
      " 68  secondary_cleaner.output.tail_au                    14149 non-null  float64\n",
      " 69  secondary_cleaner.state.floatbank2_a_air            13932 non-null  float64\n",
      " 70  secondary_cleaner.state.floatbank2_a_level          14148 non-null  float64\n",
      " 71  secondary_cleaner.state.floatbank2_b_air            14128 non-null  float64\n",
      " 72  secondary_cleaner.state.floatbank2_b_level          14148 non-null  float64\n",
      " 73  secondary_cleaner.state.floatbank3_a_air            14145 non-null  float64\n",
      " 74  secondary_cleaner.state.floatbank3_a_level          14148 non-null  float64\n",
      " 75  secondary_cleaner.state.floatbank3_b_air            14148 non-null  float64\n",
      " 76  secondary_cleaner.state.floatbank3_b_level          14148 non-null  float64\n",
      " 77  secondary_cleaner.state.floatbank4_a_air            14143 non-null  float64\n",
      " 78  secondary_cleaner.state.floatbank4_a_level          14148 non-null  float64\n",
      " 79  secondary_cleaner.state.floatbank4_b_air            14148 non-null  float64\n",
      " 80  secondary_cleaner.state.floatbank4_b_level          14148 non-null  float64\n",
      " 81  secondary_cleaner.state.floatbank5_a_air            14148 non-null  float64\n",
      " 82  secondary_cleaner.state.floatbank5_a_level          14148 non-null  float64\n",
      " 83  secondary_cleaner.state.floatbank5_b_air            14148 non-null  float64\n",
      " 84  secondary_cleaner.state.floatbank5_b_level          14148 non-null  float64\n",
      " 85  secondary_cleaner.state.floatbank6_a_air            14147 non-null  float64\n",
      " 86  secondary_cleaner.state.floatbank6_a_level          14148 non-null  float64\n",
      "dtypes: float64(86), object(1)\n",
      "memory usage: 9.4+ MB\n"
     ]
    },
    {
     "data": {
      "text/plain": [
       "None"
      ]
     },
     "metadata": {},
     "output_type": "display_data"
    },
    {
     "name": "stdout",
     "output_type": "stream",
     "text": [
      "********************************************************************************\n",
      "\t\t\u001b[4m\u001b[1m\u001b[31mgold_test\u001b[0m \n",
      "\n",
      "<class 'pandas.core.frame.DataFrame'>\n",
      "RangeIndex: 5290 entries, 0 to 5289\n",
      "Data columns (total 53 columns):\n",
      " #   Column                                      Non-Null Count  Dtype  \n",
      "---  ------                                      --------------  -----  \n",
      " 0   date                                        5290 non-null   object \n",
      " 1   primary_cleaner.input.sulfate               5286 non-null   float64\n",
      " 2   primary_cleaner.input.depressant            5285 non-null   float64\n",
      " 3   primary_cleaner.input.feed_size             5290 non-null   float64\n",
      " 4   primary_cleaner.input.xanthate              5286 non-null   float64\n",
      " 5   primary_cleaner.state.floatbank8_a_air      5290 non-null   float64\n",
      " 6   primary_cleaner.state.floatbank8_a_level    5290 non-null   float64\n",
      " 7   primary_cleaner.state.floatbank8_b_air      5290 non-null   float64\n",
      " 8   primary_cleaner.state.floatbank8_b_level    5290 non-null   float64\n",
      " 9   primary_cleaner.state.floatbank8_c_air      5290 non-null   float64\n",
      " 10  primary_cleaner.state.floatbank8_c_level    5290 non-null   float64\n",
      " 11  primary_cleaner.state.floatbank8_d_air      5290 non-null   float64\n",
      " 12  primary_cleaner.state.floatbank8_d_level    5290 non-null   float64\n",
      " 13  rougher.input.feed_ag                       5290 non-null   float64\n",
      " 14  rougher.input.feed_pb                       5290 non-null   float64\n",
      " 15  rougher.input.feed_rate                     5287 non-null   float64\n",
      " 16  rougher.input.feed_size                     5289 non-null   float64\n",
      " 17  rougher.input.feed_sol                      5269 non-null   float64\n",
      " 18  rougher.input.feed_au                       5290 non-null   float64\n",
      " 19  rougher.input.floatbank10_sulfate           5285 non-null   float64\n",
      " 20  rougher.input.floatbank10_xanthate          5290 non-null   float64\n",
      " 21  rougher.input.floatbank11_sulfate           5282 non-null   float64\n",
      " 22  rougher.input.floatbank11_xanthate          5265 non-null   float64\n",
      " 23  rougher.state.floatbank10_a_air             5290 non-null   float64\n",
      " 24  rougher.state.floatbank10_a_level           5290 non-null   float64\n",
      " 25  rougher.state.floatbank10_b_air             5290 non-null   float64\n",
      " 26  rougher.state.floatbank10_b_level           5290 non-null   float64\n",
      " 27  rougher.state.floatbank10_c_air             5290 non-null   float64\n",
      " 28  rougher.state.floatbank10_c_level           5290 non-null   float64\n",
      " 29  rougher.state.floatbank10_d_air             5290 non-null   float64\n",
      " 30  rougher.state.floatbank10_d_level           5290 non-null   float64\n",
      " 31  rougher.state.floatbank10_e_air             5290 non-null   float64\n",
      " 32  rougher.state.floatbank10_e_level           5290 non-null   float64\n",
      " 33  rougher.state.floatbank10_f_air             5290 non-null   float64\n",
      " 34  rougher.state.floatbank10_f_level           5290 non-null   float64\n",
      " 35  secondary_cleaner.state.floatbank2_a_air    5287 non-null   float64\n",
      " 36  secondary_cleaner.state.floatbank2_a_level  5290 non-null   float64\n",
      " 37  secondary_cleaner.state.floatbank2_b_air    5288 non-null   float64\n",
      " 38  secondary_cleaner.state.floatbank2_b_level  5290 non-null   float64\n",
      " 39  secondary_cleaner.state.floatbank3_a_air    5281 non-null   float64\n",
      " 40  secondary_cleaner.state.floatbank3_a_level  5290 non-null   float64\n",
      " 41  secondary_cleaner.state.floatbank3_b_air    5290 non-null   float64\n",
      " 42  secondary_cleaner.state.floatbank3_b_level  5290 non-null   float64\n",
      " 43  secondary_cleaner.state.floatbank4_a_air    5290 non-null   float64\n",
      " 44  secondary_cleaner.state.floatbank4_a_level  5290 non-null   float64\n",
      " 45  secondary_cleaner.state.floatbank4_b_air    5290 non-null   float64\n",
      " 46  secondary_cleaner.state.floatbank4_b_level  5290 non-null   float64\n",
      " 47  secondary_cleaner.state.floatbank5_a_air    5290 non-null   float64\n",
      " 48  secondary_cleaner.state.floatbank5_a_level  5290 non-null   float64\n",
      " 49  secondary_cleaner.state.floatbank5_b_air    5290 non-null   float64\n",
      " 50  secondary_cleaner.state.floatbank5_b_level  5290 non-null   float64\n",
      " 51  secondary_cleaner.state.floatbank6_a_air    5290 non-null   float64\n",
      " 52  secondary_cleaner.state.floatbank6_a_level  5290 non-null   float64\n",
      "dtypes: float64(52), object(1)\n",
      "memory usage: 2.1+ MB\n"
     ]
    },
    {
     "data": {
      "text/plain": [
       "None"
      ]
     },
     "metadata": {},
     "output_type": "display_data"
    },
    {
     "name": "stdout",
     "output_type": "stream",
     "text": [
      "********************************************************************************\n",
      "\t\t\u001b[4m\u001b[1m\u001b[31mgold_full\u001b[0m \n",
      "\n",
      "<class 'pandas.core.frame.DataFrame'>\n",
      "RangeIndex: 19439 entries, 0 to 19438\n",
      "Data columns (total 87 columns):\n",
      " #   Column                                              Non-Null Count  Dtype  \n",
      "---  ------                                              --------------  -----  \n",
      " 0   date                                                19439 non-null  object \n",
      " 1   final.output.concentrate_ag                         19438 non-null  float64\n",
      " 2   final.output.concentrate_pb                         19438 non-null  float64\n",
      " 3   final.output.concentrate_sol                        19228 non-null  float64\n",
      " 4   final.output.concentrate_au                         19439 non-null  float64\n",
      " 5   final.output.recovery                               19439 non-null  float64\n",
      " 6   final.output.tail_ag                                19438 non-null  float64\n",
      " 7   final.output.tail_pb                                19338 non-null  float64\n",
      " 8   final.output.tail_sol                               19433 non-null  float64\n",
      " 9   final.output.tail_au                                19439 non-null  float64\n",
      " 10  primary_cleaner.input.sulfate                       19415 non-null  float64\n",
      " 11  primary_cleaner.input.depressant                    19402 non-null  float64\n",
      " 12  primary_cleaner.input.feed_size                     19439 non-null  float64\n",
      " 13  primary_cleaner.input.xanthate                      19335 non-null  float64\n",
      " 14  primary_cleaner.output.concentrate_ag               19439 non-null  float64\n",
      " 15  primary_cleaner.output.concentrate_pb               19323 non-null  float64\n",
      " 16  primary_cleaner.output.concentrate_sol              19069 non-null  float64\n",
      " 17  primary_cleaner.output.concentrate_au               19439 non-null  float64\n",
      " 18  primary_cleaner.output.tail_ag                      19435 non-null  float64\n",
      " 19  primary_cleaner.output.tail_pb                      19418 non-null  float64\n",
      " 20  primary_cleaner.output.tail_sol                     19377 non-null  float64\n",
      " 21  primary_cleaner.output.tail_au                      19439 non-null  float64\n",
      " 22  primary_cleaner.state.floatbank8_a_air              19435 non-null  float64\n",
      " 23  primary_cleaner.state.floatbank8_a_level            19438 non-null  float64\n",
      " 24  primary_cleaner.state.floatbank8_b_air              19435 non-null  float64\n",
      " 25  primary_cleaner.state.floatbank8_b_level            19438 non-null  float64\n",
      " 26  primary_cleaner.state.floatbank8_c_air              19437 non-null  float64\n",
      " 27  primary_cleaner.state.floatbank8_c_level            19438 non-null  float64\n",
      " 28  primary_cleaner.state.floatbank8_d_air              19436 non-null  float64\n",
      " 29  primary_cleaner.state.floatbank8_d_level            19438 non-null  float64\n",
      " 30  rougher.calculation.sulfate_to_au_concentrate       19437 non-null  float64\n",
      " 31  rougher.calculation.floatbank10_sulfate_to_au_feed  19437 non-null  float64\n",
      " 32  rougher.calculation.floatbank11_sulfate_to_au_feed  19437 non-null  float64\n",
      " 33  rougher.calculation.au_pb_ratio                     19439 non-null  float64\n",
      " 34  rougher.input.feed_ag                               19439 non-null  float64\n",
      " 35  rougher.input.feed_pb                               19339 non-null  float64\n",
      " 36  rougher.input.feed_rate                             19428 non-null  float64\n",
      " 37  rougher.input.feed_size                             19294 non-null  float64\n",
      " 38  rougher.input.feed_sol                              19340 non-null  float64\n",
      " 39  rougher.input.feed_au                               19439 non-null  float64\n",
      " 40  rougher.input.floatbank10_sulfate                   19405 non-null  float64\n",
      " 41  rougher.input.floatbank10_xanthate                  19431 non-null  float64\n",
      " 42  rougher.input.floatbank11_sulfate                   19395 non-null  float64\n",
      " 43  rougher.input.floatbank11_xanthate                  18986 non-null  float64\n",
      " 44  rougher.output.concentrate_ag                       19439 non-null  float64\n",
      " 45  rougher.output.concentrate_pb                       19439 non-null  float64\n",
      " 46  rougher.output.concentrate_sol                      19416 non-null  float64\n",
      " 47  rougher.output.concentrate_au                       19439 non-null  float64\n",
      " 48  rougher.output.recovery                             19439 non-null  float64\n",
      " 49  rougher.output.tail_ag                              19438 non-null  float64\n",
      " 50  rougher.output.tail_pb                              19439 non-null  float64\n",
      " 51  rougher.output.tail_sol                             19439 non-null  float64\n",
      " 52  rougher.output.tail_au                              19439 non-null  float64\n",
      " 53  rougher.state.floatbank10_a_air                     19438 non-null  float64\n",
      " 54  rougher.state.floatbank10_a_level                   19438 non-null  float64\n",
      " 55  rougher.state.floatbank10_b_air                     19438 non-null  float64\n",
      " 56  rougher.state.floatbank10_b_level                   19438 non-null  float64\n",
      " 57  rougher.state.floatbank10_c_air                     19438 non-null  float64\n",
      " 58  rougher.state.floatbank10_c_level                   19438 non-null  float64\n",
      " 59  rougher.state.floatbank10_d_air                     19439 non-null  float64\n",
      " 60  rougher.state.floatbank10_d_level                   19439 non-null  float64\n",
      " 61  rougher.state.floatbank10_e_air                     19003 non-null  float64\n",
      " 62  rougher.state.floatbank10_e_level                   19439 non-null  float64\n",
      " 63  rougher.state.floatbank10_f_air                     19439 non-null  float64\n",
      " 64  rougher.state.floatbank10_f_level                   19439 non-null  float64\n",
      " 65  secondary_cleaner.output.tail_ag                    19437 non-null  float64\n",
      " 66  secondary_cleaner.output.tail_pb                    19427 non-null  float64\n",
      " 67  secondary_cleaner.output.tail_sol                   17691 non-null  float64\n",
      " 68  secondary_cleaner.output.tail_au                    19439 non-null  float64\n",
      " 69  secondary_cleaner.state.floatbank2_a_air            19219 non-null  float64\n",
      " 70  secondary_cleaner.state.floatbank2_a_level          19438 non-null  float64\n",
      " 71  secondary_cleaner.state.floatbank2_b_air            19416 non-null  float64\n",
      " 72  secondary_cleaner.state.floatbank2_b_level          19438 non-null  float64\n",
      " 73  secondary_cleaner.state.floatbank3_a_air            19426 non-null  float64\n",
      " 74  secondary_cleaner.state.floatbank3_a_level          19438 non-null  float64\n",
      " 75  secondary_cleaner.state.floatbank3_b_air            19438 non-null  float64\n",
      " 76  secondary_cleaner.state.floatbank3_b_level          19438 non-null  float64\n",
      " 77  secondary_cleaner.state.floatbank4_a_air            19433 non-null  float64\n",
      " 78  secondary_cleaner.state.floatbank4_a_level          19438 non-null  float64\n",
      " 79  secondary_cleaner.state.floatbank4_b_air            19438 non-null  float64\n",
      " 80  secondary_cleaner.state.floatbank4_b_level          19438 non-null  float64\n",
      " 81  secondary_cleaner.state.floatbank5_a_air            19438 non-null  float64\n",
      " 82  secondary_cleaner.state.floatbank5_a_level          19438 non-null  float64\n",
      " 83  secondary_cleaner.state.floatbank5_b_air            19438 non-null  float64\n",
      " 84  secondary_cleaner.state.floatbank5_b_level          19438 non-null  float64\n",
      " 85  secondary_cleaner.state.floatbank6_a_air            19437 non-null  float64\n",
      " 86  secondary_cleaner.state.floatbank6_a_level          19438 non-null  float64\n",
      "dtypes: float64(86), object(1)\n",
      "memory usage: 12.9+ MB\n"
     ]
    },
    {
     "data": {
      "text/plain": [
       "None"
      ]
     },
     "metadata": {},
     "output_type": "display_data"
    },
    {
     "name": "stdout",
     "output_type": "stream",
     "text": [
      "********************************************************************************\n"
     ]
    }
   ],
   "source": [
    "for df in datas:\n",
    "    print('\\t\\t\\033[4m\\033[1m\\033[31m{}\\033[0m'.format(df), '\\n')\n",
    "    display(datas.get(df)[0].info())\n",
    "    print('*' * 80)"
   ]
  },
  {
   "cell_type": "markdown",
   "id": "4ce05a7b-f1ab-4423-8443-c919ac28c92c",
   "metadata": {},
   "source": [
    "Итак, в таблицах по 86 столбцов. В тестовой выборке отсутствуют некоторые признаки, которые есть в обучающей. Типы данных в столбцах — вещественные числа `float` и строки `object`.\n",
    "Присутствует столбец с датой, по которому можно индексировать.\n",
    "\n",
    "Согласно документации к данным:\n",
    "\n",
    "*Технологический процесс:*\n",
    "- `Rougher feed` — исходное сырье;\n",
    "- `Rougher additions` (или `reagent additions`) — флотационные реагенты: \n",
    "    - `Xanthate` — ксантогенат (промотер, или активатор флотации); \n",
    "    - `Sulphate` — сульфат (на данном производстве сульфид натрия); \n",
    "    - `Depressant` — депрессант (силикат натрия);\n",
    "- `Rougher process` (англ. «грубый процесс») — флотация;\n",
    "- `Rougher tails` — отвальные хвосты;\n",
    "- `Float banks` — флотационная установка;\n",
    "- `Cleaner process` — очистка;\n",
    "- `Rougher Au` — черновой концентрат золота;\n",
    "- `Final Au` — финальный концентрат золота;\n",
    "\n",
    "*Параметры этапов:*\n",
    "- `air amount` — объём воздуха;\n",
    "- `fluid levels` — уровень жидкости;\n",
    "- `feed size` — размер гранул сырья;\n",
    "- `feed rate` — скорость подачи.\n",
    "\n",
    "Количество значений в столбцах соотнесены не полностью. Значит, в данных есть **пропущенные значения**, которые будем в дальнейшем устранять."
   ]
  },
  {
   "cell_type": "markdown",
   "id": "65535d01-1372-4c2a-8bf2-569bee59b608",
   "metadata": {},
   "source": [
    "[К оглавлению](#contents)"
   ]
  },
  {
   "cell_type": "markdown",
   "id": "f1737024-117c-4032-ba70-44c67a619444",
   "metadata": {},
   "source": [
    "<a id='nan'></a>"
   ]
  },
  {
   "cell_type": "markdown",
   "id": "4a89dc0e-1e06-4aac-a5a9-435d923912b7",
   "metadata": {},
   "source": [
    "### 2. Пропуски"
   ]
  },
  {
   "cell_type": "markdown",
   "id": "09500b2c-5089-41ac-b6da-4f791a75fe08",
   "metadata": {},
   "source": [
    "Изучим объем пропусков в исходном датасете"
   ]
  },
  {
   "cell_type": "code",
   "execution_count": 8,
   "id": "c4b5da25-35e0-4d30-868b-ec1ef430585a",
   "metadata": {
    "tags": []
   },
   "outputs": [
    {
     "name": "stdout",
     "output_type": "stream",
     "text": [
      "\n",
      "\t\u001b[4m\u001b[1m\u001b[31mgold_train\u001b[0m\n",
      "Количество пропусков в столбце \u001b[4m\u001b[1m\u001b[31mfinal.output.concentrate_ag\u001b[0m: 1\n",
      "Таким образом доля незаполненных данных составляет: 0.01%\n",
      "\n",
      "Количество пропусков в столбце \u001b[4m\u001b[1m\u001b[31mfinal.output.concentrate_pb\u001b[0m: 1\n",
      "Таким образом доля незаполненных данных составляет: 0.01%\n",
      "\n",
      "Количество пропусков в столбце \u001b[4m\u001b[1m\u001b[31mfinal.output.concentrate_sol\u001b[0m: 211\n",
      "Таким образом доля незаполненных данных составляет: 1.49%\n",
      "\n",
      "Количество пропусков в столбце \u001b[4m\u001b[1m\u001b[31mfinal.output.tail_pb\u001b[0m: 100\n",
      "Таким образом доля незаполненных данных составляет: 0.71%\n",
      "\n",
      "Количество пропусков в столбце \u001b[4m\u001b[1m\u001b[31mfinal.output.tail_sol\u001b[0m: 5\n",
      "Таким образом доля незаполненных данных составляет: 0.04%\n",
      "\n",
      "Количество пропусков в столбце \u001b[4m\u001b[1m\u001b[31mprimary_cleaner.input.sulfate\u001b[0m: 20\n",
      "Таким образом доля незаполненных данных составляет: 0.14%\n",
      "\n",
      "Количество пропусков в столбце \u001b[4m\u001b[1m\u001b[31mprimary_cleaner.input.depressant\u001b[0m: 32\n",
      "Таким образом доля незаполненных данных составляет: 0.23%\n",
      "\n",
      "Количество пропусков в столбце \u001b[4m\u001b[1m\u001b[31mprimary_cleaner.input.xanthate\u001b[0m: 100\n",
      "Таким образом доля незаполненных данных составляет: 0.71%\n",
      "\n",
      "Количество пропусков в столбце \u001b[4m\u001b[1m\u001b[31mprimary_cleaner.output.concentrate_pb\u001b[0m: 86\n",
      "Таким образом доля незаполненных данных составляет: 0.61%\n",
      "\n",
      "Количество пропусков в столбце \u001b[4m\u001b[1m\u001b[31mprimary_cleaner.output.concentrate_sol\u001b[0m: 286\n",
      "Таким образом доля незаполненных данных составляет: 2.02%\n",
      "\n",
      "Количество пропусков в столбце \u001b[4m\u001b[1m\u001b[31mprimary_cleaner.output.tail_ag\u001b[0m: 1\n",
      "Таким образом доля незаполненных данных составляет: 0.01%\n",
      "\n",
      "Количество пропусков в столбце \u001b[4m\u001b[1m\u001b[31mprimary_cleaner.output.tail_pb\u001b[0m: 15\n",
      "Таким образом доля незаполненных данных составляет: 0.11%\n",
      "\n",
      "Количество пропусков в столбце \u001b[4m\u001b[1m\u001b[31mprimary_cleaner.output.tail_sol\u001b[0m: 46\n",
      "Таким образом доля незаполненных данных составляет: 0.33%\n",
      "\n",
      "Количество пропусков в столбце \u001b[4m\u001b[1m\u001b[31mprimary_cleaner.state.floatbank8_a_air\u001b[0m: 4\n",
      "Таким образом доля незаполненных данных составляет: 0.03%\n",
      "\n",
      "Количество пропусков в столбце \u001b[4m\u001b[1m\u001b[31mprimary_cleaner.state.floatbank8_a_level\u001b[0m: 1\n",
      "Таким образом доля незаполненных данных составляет: 0.01%\n",
      "\n",
      "Количество пропусков в столбце \u001b[4m\u001b[1m\u001b[31mprimary_cleaner.state.floatbank8_b_air\u001b[0m: 4\n",
      "Таким образом доля незаполненных данных составляет: 0.03%\n",
      "\n",
      "Количество пропусков в столбце \u001b[4m\u001b[1m\u001b[31mprimary_cleaner.state.floatbank8_b_level\u001b[0m: 1\n",
      "Таким образом доля незаполненных данных составляет: 0.01%\n",
      "\n",
      "Количество пропусков в столбце \u001b[4m\u001b[1m\u001b[31mprimary_cleaner.state.floatbank8_c_air\u001b[0m: 2\n",
      "Таким образом доля незаполненных данных составляет: 0.01%\n",
      "\n",
      "Количество пропусков в столбце \u001b[4m\u001b[1m\u001b[31mprimary_cleaner.state.floatbank8_c_level\u001b[0m: 1\n",
      "Таким образом доля незаполненных данных составляет: 0.01%\n",
      "\n",
      "Количество пропусков в столбце \u001b[4m\u001b[1m\u001b[31mprimary_cleaner.state.floatbank8_d_air\u001b[0m: 3\n",
      "Таким образом доля незаполненных данных составляет: 0.02%\n",
      "\n",
      "Количество пропусков в столбце \u001b[4m\u001b[1m\u001b[31mprimary_cleaner.state.floatbank8_d_level\u001b[0m: 1\n",
      "Таким образом доля незаполненных данных составляет: 0.01%\n",
      "\n",
      "Количество пропусков в столбце \u001b[4m\u001b[1m\u001b[31mrougher.calculation.sulfate_to_au_concentrate\u001b[0m: 1\n",
      "Таким образом доля незаполненных данных составляет: 0.01%\n",
      "\n",
      "Количество пропусков в столбце \u001b[4m\u001b[1m\u001b[31mrougher.calculation.floatbank10_sulfate_to_au_feed\u001b[0m: 1\n",
      "Таким образом доля незаполненных данных составляет: 0.01%\n",
      "\n",
      "Количество пропусков в столбце \u001b[4m\u001b[1m\u001b[31mrougher.calculation.floatbank11_sulfate_to_au_feed\u001b[0m: 1\n",
      "Таким образом доля незаполненных данных составляет: 0.01%\n",
      "\n",
      "Количество пропусков в столбце \u001b[4m\u001b[1m\u001b[31mrougher.input.feed_pb\u001b[0m: 100\n",
      "Таким образом доля незаполненных данных составляет: 0.71%\n",
      "\n",
      "Количество пропусков в столбце \u001b[4m\u001b[1m\u001b[31mrougher.input.feed_rate\u001b[0m: 8\n",
      "Таким образом доля незаполненных данных составляет: 0.06%\n",
      "\n",
      "Количество пропусков в столбце \u001b[4m\u001b[1m\u001b[31mrougher.input.feed_size\u001b[0m: 144\n",
      "Таким образом доля незаполненных данных составляет: 1.02%\n",
      "\n",
      "Количество пропусков в столбце \u001b[4m\u001b[1m\u001b[31mrougher.input.feed_sol\u001b[0m: 78\n",
      "Таким образом доля незаполненных данных составляет: 0.55%\n",
      "\n",
      "Количество пропусков в столбце \u001b[4m\u001b[1m\u001b[31mrougher.input.floatbank10_sulfate\u001b[0m: 29\n",
      "Таким образом доля незаполненных данных составляет: 0.20%\n",
      "\n",
      "Количество пропусков в столбце \u001b[4m\u001b[1m\u001b[31mrougher.input.floatbank10_xanthate\u001b[0m: 8\n",
      "Таким образом доля незаполненных данных составляет: 0.06%\n",
      "\n",
      "Количество пропусков в столбце \u001b[4m\u001b[1m\u001b[31mrougher.input.floatbank11_sulfate\u001b[0m: 36\n",
      "Таким образом доля незаполненных данных составляет: 0.25%\n",
      "\n",
      "Количество пропусков в столбце \u001b[4m\u001b[1m\u001b[31mrougher.input.floatbank11_xanthate\u001b[0m: 428\n",
      "Таким образом доля незаполненных данных составляет: 3.02%\n",
      "\n",
      "Количество пропусков в столбце \u001b[4m\u001b[1m\u001b[31mrougher.output.concentrate_sol\u001b[0m: 22\n",
      "Таким образом доля незаполненных данных составляет: 0.16%\n",
      "\n",
      "Количество пропусков в столбце \u001b[4m\u001b[1m\u001b[31mrougher.output.tail_ag\u001b[0m: 1\n",
      "Таким образом доля незаполненных данных составляет: 0.01%\n",
      "\n",
      "Количество пропусков в столбце \u001b[4m\u001b[1m\u001b[31mrougher.state.floatbank10_a_air\u001b[0m: 1\n",
      "Таким образом доля незаполненных данных составляет: 0.01%\n",
      "\n",
      "Количество пропусков в столбце \u001b[4m\u001b[1m\u001b[31mrougher.state.floatbank10_a_level\u001b[0m: 1\n",
      "Таким образом доля незаполненных данных составляет: 0.01%\n",
      "\n",
      "Количество пропусков в столбце \u001b[4m\u001b[1m\u001b[31mrougher.state.floatbank10_b_air\u001b[0m: 1\n",
      "Таким образом доля незаполненных данных составляет: 0.01%\n",
      "\n",
      "Количество пропусков в столбце \u001b[4m\u001b[1m\u001b[31mrougher.state.floatbank10_b_level\u001b[0m: 1\n",
      "Таким образом доля незаполненных данных составляет: 0.01%\n",
      "\n",
      "Количество пропусков в столбце \u001b[4m\u001b[1m\u001b[31mrougher.state.floatbank10_c_air\u001b[0m: 1\n",
      "Таким образом доля незаполненных данных составляет: 0.01%\n",
      "\n",
      "Количество пропусков в столбце \u001b[4m\u001b[1m\u001b[31mrougher.state.floatbank10_c_level\u001b[0m: 1\n",
      "Таким образом доля незаполненных данных составляет: 0.01%\n",
      "\n",
      "Количество пропусков в столбце \u001b[4m\u001b[1m\u001b[31mrougher.state.floatbank10_e_air\u001b[0m: 436\n",
      "Таким образом доля незаполненных данных составляет: 3.08%\n",
      "\n",
      "Количество пропусков в столбце \u001b[4m\u001b[1m\u001b[31msecondary_cleaner.output.tail_ag\u001b[0m: 2\n",
      "Таким образом доля незаполненных данных составляет: 0.01%\n",
      "\n",
      "Количество пропусков в столбце \u001b[4m\u001b[1m\u001b[31msecondary_cleaner.output.tail_pb\u001b[0m: 10\n",
      "Таким образом доля незаполненных данных составляет: 0.07%\n",
      "\n",
      "Количество пропусков в столбце \u001b[4m\u001b[1m\u001b[31msecondary_cleaner.output.tail_sol\u001b[0m: 1605\n",
      "Таким образом доля незаполненных данных составляет: 11.34%\n",
      "\n",
      "Количество пропусков в столбце \u001b[4m\u001b[1m\u001b[31msecondary_cleaner.state.floatbank2_a_air\u001b[0m: 217\n",
      "Таким образом доля незаполненных данных составляет: 1.53%\n",
      "\n",
      "Количество пропусков в столбце \u001b[4m\u001b[1m\u001b[31msecondary_cleaner.state.floatbank2_a_level\u001b[0m: 1\n",
      "Таким образом доля незаполненных данных составляет: 0.01%\n",
      "\n",
      "Количество пропусков в столбце \u001b[4m\u001b[1m\u001b[31msecondary_cleaner.state.floatbank2_b_air\u001b[0m: 21\n",
      "Таким образом доля незаполненных данных составляет: 0.15%\n",
      "\n",
      "Количество пропусков в столбце \u001b[4m\u001b[1m\u001b[31msecondary_cleaner.state.floatbank2_b_level\u001b[0m: 1\n",
      "Таким образом доля незаполненных данных составляет: 0.01%\n",
      "\n",
      "Количество пропусков в столбце \u001b[4m\u001b[1m\u001b[31msecondary_cleaner.state.floatbank3_a_air\u001b[0m: 4\n",
      "Таким образом доля незаполненных данных составляет: 0.03%\n",
      "\n",
      "Количество пропусков в столбце \u001b[4m\u001b[1m\u001b[31msecondary_cleaner.state.floatbank3_a_level\u001b[0m: 1\n",
      "Таким образом доля незаполненных данных составляет: 0.01%\n",
      "\n",
      "Количество пропусков в столбце \u001b[4m\u001b[1m\u001b[31msecondary_cleaner.state.floatbank3_b_air\u001b[0m: 1\n",
      "Таким образом доля незаполненных данных составляет: 0.01%\n",
      "\n",
      "Количество пропусков в столбце \u001b[4m\u001b[1m\u001b[31msecondary_cleaner.state.floatbank3_b_level\u001b[0m: 1\n",
      "Таким образом доля незаполненных данных составляет: 0.01%\n",
      "\n",
      "Количество пропусков в столбце \u001b[4m\u001b[1m\u001b[31msecondary_cleaner.state.floatbank4_a_air\u001b[0m: 6\n",
      "Таким образом доля незаполненных данных составляет: 0.04%\n",
      "\n",
      "Количество пропусков в столбце \u001b[4m\u001b[1m\u001b[31msecondary_cleaner.state.floatbank4_a_level\u001b[0m: 1\n",
      "Таким образом доля незаполненных данных составляет: 0.01%\n",
      "\n",
      "Количество пропусков в столбце \u001b[4m\u001b[1m\u001b[31msecondary_cleaner.state.floatbank4_b_air\u001b[0m: 1\n",
      "Таким образом доля незаполненных данных составляет: 0.01%\n",
      "\n",
      "Количество пропусков в столбце \u001b[4m\u001b[1m\u001b[31msecondary_cleaner.state.floatbank4_b_level\u001b[0m: 1\n",
      "Таким образом доля незаполненных данных составляет: 0.01%\n",
      "\n",
      "Количество пропусков в столбце \u001b[4m\u001b[1m\u001b[31msecondary_cleaner.state.floatbank5_a_air\u001b[0m: 1\n",
      "Таким образом доля незаполненных данных составляет: 0.01%\n",
      "\n",
      "Количество пропусков в столбце \u001b[4m\u001b[1m\u001b[31msecondary_cleaner.state.floatbank5_a_level\u001b[0m: 1\n",
      "Таким образом доля незаполненных данных составляет: 0.01%\n",
      "\n",
      "Количество пропусков в столбце \u001b[4m\u001b[1m\u001b[31msecondary_cleaner.state.floatbank5_b_air\u001b[0m: 1\n",
      "Таким образом доля незаполненных данных составляет: 0.01%\n",
      "\n",
      "Количество пропусков в столбце \u001b[4m\u001b[1m\u001b[31msecondary_cleaner.state.floatbank5_b_level\u001b[0m: 1\n",
      "Таким образом доля незаполненных данных составляет: 0.01%\n",
      "\n",
      "Количество пропусков в столбце \u001b[4m\u001b[1m\u001b[31msecondary_cleaner.state.floatbank6_a_air\u001b[0m: 2\n",
      "Таким образом доля незаполненных данных составляет: 0.01%\n",
      "\n",
      "Количество пропусков в столбце \u001b[4m\u001b[1m\u001b[31msecondary_cleaner.state.floatbank6_a_level\u001b[0m: 1\n",
      "Таким образом доля незаполненных данных составляет: 0.01%\n",
      "\n",
      "\n",
      "\t\u001b[4m\u001b[1m\u001b[31mgold_test\u001b[0m\n",
      "Количество пропусков в столбце \u001b[4m\u001b[1m\u001b[31mprimary_cleaner.input.sulfate\u001b[0m: 4\n",
      "Таким образом доля незаполненных данных составляет: 0.08%\n",
      "\n",
      "Количество пропусков в столбце \u001b[4m\u001b[1m\u001b[31mprimary_cleaner.input.depressant\u001b[0m: 5\n",
      "Таким образом доля незаполненных данных составляет: 0.09%\n",
      "\n",
      "Количество пропусков в столбце \u001b[4m\u001b[1m\u001b[31mprimary_cleaner.input.xanthate\u001b[0m: 4\n",
      "Таким образом доля незаполненных данных составляет: 0.08%\n",
      "\n",
      "Количество пропусков в столбце \u001b[4m\u001b[1m\u001b[31mrougher.input.feed_rate\u001b[0m: 3\n",
      "Таким образом доля незаполненных данных составляет: 0.06%\n",
      "\n",
      "Количество пропусков в столбце \u001b[4m\u001b[1m\u001b[31mrougher.input.feed_size\u001b[0m: 1\n",
      "Таким образом доля незаполненных данных составляет: 0.02%\n",
      "\n",
      "Количество пропусков в столбце \u001b[4m\u001b[1m\u001b[31mrougher.input.feed_sol\u001b[0m: 21\n",
      "Таким образом доля незаполненных данных составляет: 0.40%\n",
      "\n",
      "Количество пропусков в столбце \u001b[4m\u001b[1m\u001b[31mrougher.input.floatbank10_sulfate\u001b[0m: 5\n",
      "Таким образом доля незаполненных данных составляет: 0.09%\n",
      "\n",
      "Количество пропусков в столбце \u001b[4m\u001b[1m\u001b[31mrougher.input.floatbank11_sulfate\u001b[0m: 8\n",
      "Таким образом доля незаполненных данных составляет: 0.15%\n",
      "\n",
      "Количество пропусков в столбце \u001b[4m\u001b[1m\u001b[31mrougher.input.floatbank11_xanthate\u001b[0m: 25\n",
      "Таким образом доля незаполненных данных составляет: 0.47%\n",
      "\n",
      "Количество пропусков в столбце \u001b[4m\u001b[1m\u001b[31msecondary_cleaner.state.floatbank2_a_air\u001b[0m: 3\n",
      "Таким образом доля незаполненных данных составляет: 0.06%\n",
      "\n",
      "Количество пропусков в столбце \u001b[4m\u001b[1m\u001b[31msecondary_cleaner.state.floatbank2_b_air\u001b[0m: 2\n",
      "Таким образом доля незаполненных данных составляет: 0.04%\n",
      "\n",
      "Количество пропусков в столбце \u001b[4m\u001b[1m\u001b[31msecondary_cleaner.state.floatbank3_a_air\u001b[0m: 9\n",
      "Таким образом доля незаполненных данных составляет: 0.17%\n",
      "\n",
      "\n",
      "\t\u001b[4m\u001b[1m\u001b[31mgold_full\u001b[0m\n",
      "Количество пропусков в столбце \u001b[4m\u001b[1m\u001b[31mfinal.output.concentrate_ag\u001b[0m: 1\n",
      "Таким образом доля незаполненных данных составляет: 0.01%\n",
      "\n",
      "Количество пропусков в столбце \u001b[4m\u001b[1m\u001b[31mfinal.output.concentrate_pb\u001b[0m: 1\n",
      "Таким образом доля незаполненных данных составляет: 0.01%\n",
      "\n",
      "Количество пропусков в столбце \u001b[4m\u001b[1m\u001b[31mfinal.output.concentrate_sol\u001b[0m: 211\n",
      "Таким образом доля незаполненных данных составляет: 1.09%\n",
      "\n",
      "Количество пропусков в столбце \u001b[4m\u001b[1m\u001b[31mfinal.output.tail_ag\u001b[0m: 1\n",
      "Таким образом доля незаполненных данных составляет: 0.01%\n",
      "\n",
      "Количество пропусков в столбце \u001b[4m\u001b[1m\u001b[31mfinal.output.tail_pb\u001b[0m: 101\n",
      "Таким образом доля незаполненных данных составляет: 0.52%\n",
      "\n",
      "Количество пропусков в столбце \u001b[4m\u001b[1m\u001b[31mfinal.output.tail_sol\u001b[0m: 6\n",
      "Таким образом доля незаполненных данных составляет: 0.03%\n",
      "\n",
      "Количество пропусков в столбце \u001b[4m\u001b[1m\u001b[31mprimary_cleaner.input.sulfate\u001b[0m: 24\n",
      "Таким образом доля незаполненных данных составляет: 0.12%\n",
      "\n",
      "Количество пропусков в столбце \u001b[4m\u001b[1m\u001b[31mprimary_cleaner.input.depressant\u001b[0m: 37\n",
      "Таким образом доля незаполненных данных составляет: 0.19%\n",
      "\n",
      "Количество пропусков в столбце \u001b[4m\u001b[1m\u001b[31mprimary_cleaner.input.xanthate\u001b[0m: 104\n",
      "Таким образом доля незаполненных данных составляет: 0.54%\n",
      "\n",
      "Количество пропусков в столбце \u001b[4m\u001b[1m\u001b[31mprimary_cleaner.output.concentrate_pb\u001b[0m: 116\n",
      "Таким образом доля незаполненных данных составляет: 0.60%\n",
      "\n",
      "Количество пропусков в столбце \u001b[4m\u001b[1m\u001b[31mprimary_cleaner.output.concentrate_sol\u001b[0m: 370\n",
      "Таким образом доля незаполненных данных составляет: 1.90%\n",
      "\n",
      "Количество пропусков в столбце \u001b[4m\u001b[1m\u001b[31mprimary_cleaner.output.tail_ag\u001b[0m: 4\n",
      "Таким образом доля незаполненных данных составляет: 0.02%\n",
      "\n",
      "Количество пропусков в столбце \u001b[4m\u001b[1m\u001b[31mprimary_cleaner.output.tail_pb\u001b[0m: 21\n",
      "Таким образом доля незаполненных данных составляет: 0.11%\n",
      "\n",
      "Количество пропусков в столбце \u001b[4m\u001b[1m\u001b[31mprimary_cleaner.output.tail_sol\u001b[0m: 62\n",
      "Таким образом доля незаполненных данных составляет: 0.32%\n",
      "\n",
      "Количество пропусков в столбце \u001b[4m\u001b[1m\u001b[31mprimary_cleaner.state.floatbank8_a_air\u001b[0m: 4\n",
      "Таким образом доля незаполненных данных составляет: 0.02%\n",
      "\n",
      "Количество пропусков в столбце \u001b[4m\u001b[1m\u001b[31mprimary_cleaner.state.floatbank8_a_level\u001b[0m: 1\n",
      "Таким образом доля незаполненных данных составляет: 0.01%\n",
      "\n",
      "Количество пропусков в столбце \u001b[4m\u001b[1m\u001b[31mprimary_cleaner.state.floatbank8_b_air\u001b[0m: 4\n",
      "Таким образом доля незаполненных данных составляет: 0.02%\n",
      "\n",
      "Количество пропусков в столбце \u001b[4m\u001b[1m\u001b[31mprimary_cleaner.state.floatbank8_b_level\u001b[0m: 1\n",
      "Таким образом доля незаполненных данных составляет: 0.01%\n",
      "\n",
      "Количество пропусков в столбце \u001b[4m\u001b[1m\u001b[31mprimary_cleaner.state.floatbank8_c_air\u001b[0m: 2\n",
      "Таким образом доля незаполненных данных составляет: 0.01%\n",
      "\n",
      "Количество пропусков в столбце \u001b[4m\u001b[1m\u001b[31mprimary_cleaner.state.floatbank8_c_level\u001b[0m: 1\n",
      "Таким образом доля незаполненных данных составляет: 0.01%\n",
      "\n",
      "Количество пропусков в столбце \u001b[4m\u001b[1m\u001b[31mprimary_cleaner.state.floatbank8_d_air\u001b[0m: 3\n",
      "Таким образом доля незаполненных данных составляет: 0.02%\n",
      "\n",
      "Количество пропусков в столбце \u001b[4m\u001b[1m\u001b[31mprimary_cleaner.state.floatbank8_d_level\u001b[0m: 1\n",
      "Таким образом доля незаполненных данных составляет: 0.01%\n",
      "\n",
      "Количество пропусков в столбце \u001b[4m\u001b[1m\u001b[31mrougher.calculation.sulfate_to_au_concentrate\u001b[0m: 2\n",
      "Таким образом доля незаполненных данных составляет: 0.01%\n",
      "\n",
      "Количество пропусков в столбце \u001b[4m\u001b[1m\u001b[31mrougher.calculation.floatbank10_sulfate_to_au_feed\u001b[0m: 2\n",
      "Таким образом доля незаполненных данных составляет: 0.01%\n",
      "\n",
      "Количество пропусков в столбце \u001b[4m\u001b[1m\u001b[31mrougher.calculation.floatbank11_sulfate_to_au_feed\u001b[0m: 2\n",
      "Таким образом доля незаполненных данных составляет: 0.01%\n",
      "\n",
      "Количество пропусков в столбце \u001b[4m\u001b[1m\u001b[31mrougher.input.feed_pb\u001b[0m: 100\n",
      "Таким образом доля незаполненных данных составляет: 0.51%\n",
      "\n",
      "Количество пропусков в столбце \u001b[4m\u001b[1m\u001b[31mrougher.input.feed_rate\u001b[0m: 11\n",
      "Таким образом доля незаполненных данных составляет: 0.06%\n",
      "\n",
      "Количество пропусков в столбце \u001b[4m\u001b[1m\u001b[31mrougher.input.feed_size\u001b[0m: 145\n",
      "Таким образом доля незаполненных данных составляет: 0.75%\n",
      "\n",
      "Количество пропусков в столбце \u001b[4m\u001b[1m\u001b[31mrougher.input.feed_sol\u001b[0m: 99\n",
      "Таким образом доля незаполненных данных составляет: 0.51%\n",
      "\n",
      "Количество пропусков в столбце \u001b[4m\u001b[1m\u001b[31mrougher.input.floatbank10_sulfate\u001b[0m: 34\n",
      "Таким образом доля незаполненных данных составляет: 0.17%\n",
      "\n",
      "Количество пропусков в столбце \u001b[4m\u001b[1m\u001b[31mrougher.input.floatbank10_xanthate\u001b[0m: 8\n",
      "Таким образом доля незаполненных данных составляет: 0.04%\n",
      "\n",
      "Количество пропусков в столбце \u001b[4m\u001b[1m\u001b[31mrougher.input.floatbank11_sulfate\u001b[0m: 44\n",
      "Таким образом доля незаполненных данных составляет: 0.23%\n",
      "\n",
      "Количество пропусков в столбце \u001b[4m\u001b[1m\u001b[31mrougher.input.floatbank11_xanthate\u001b[0m: 453\n",
      "Таким образом доля незаполненных данных составляет: 2.33%\n",
      "\n",
      "Количество пропусков в столбце \u001b[4m\u001b[1m\u001b[31mrougher.output.concentrate_sol\u001b[0m: 23\n",
      "Таким образом доля незаполненных данных составляет: 0.12%\n",
      "\n",
      "Количество пропусков в столбце \u001b[4m\u001b[1m\u001b[31mrougher.output.tail_ag\u001b[0m: 1\n",
      "Таким образом доля незаполненных данных составляет: 0.01%\n",
      "\n",
      "Количество пропусков в столбце \u001b[4m\u001b[1m\u001b[31mrougher.state.floatbank10_a_air\u001b[0m: 1\n",
      "Таким образом доля незаполненных данных составляет: 0.01%\n",
      "\n",
      "Количество пропусков в столбце \u001b[4m\u001b[1m\u001b[31mrougher.state.floatbank10_a_level\u001b[0m: 1\n",
      "Таким образом доля незаполненных данных составляет: 0.01%\n",
      "\n",
      "Количество пропусков в столбце \u001b[4m\u001b[1m\u001b[31mrougher.state.floatbank10_b_air\u001b[0m: 1\n",
      "Таким образом доля незаполненных данных составляет: 0.01%\n",
      "\n",
      "Количество пропусков в столбце \u001b[4m\u001b[1m\u001b[31mrougher.state.floatbank10_b_level\u001b[0m: 1\n",
      "Таким образом доля незаполненных данных составляет: 0.01%\n",
      "\n",
      "Количество пропусков в столбце \u001b[4m\u001b[1m\u001b[31mrougher.state.floatbank10_c_air\u001b[0m: 1\n",
      "Таким образом доля незаполненных данных составляет: 0.01%\n",
      "\n",
      "Количество пропусков в столбце \u001b[4m\u001b[1m\u001b[31mrougher.state.floatbank10_c_level\u001b[0m: 1\n",
      "Таким образом доля незаполненных данных составляет: 0.01%\n",
      "\n",
      "Количество пропусков в столбце \u001b[4m\u001b[1m\u001b[31mrougher.state.floatbank10_e_air\u001b[0m: 436\n",
      "Таким образом доля незаполненных данных составляет: 2.24%\n",
      "\n",
      "Количество пропусков в столбце \u001b[4m\u001b[1m\u001b[31msecondary_cleaner.output.tail_ag\u001b[0m: 2\n",
      "Таким образом доля незаполненных данных составляет: 0.01%\n",
      "\n",
      "Количество пропусков в столбце \u001b[4m\u001b[1m\u001b[31msecondary_cleaner.output.tail_pb\u001b[0m: 12\n",
      "Таким образом доля незаполненных данных составляет: 0.06%\n",
      "\n",
      "Количество пропусков в столбце \u001b[4m\u001b[1m\u001b[31msecondary_cleaner.output.tail_sol\u001b[0m: 1748\n",
      "Таким образом доля незаполненных данных составляет: 8.99%\n",
      "\n",
      "Количество пропусков в столбце \u001b[4m\u001b[1m\u001b[31msecondary_cleaner.state.floatbank2_a_air\u001b[0m: 220\n",
      "Таким образом доля незаполненных данных составляет: 1.13%\n",
      "\n",
      "Количество пропусков в столбце \u001b[4m\u001b[1m\u001b[31msecondary_cleaner.state.floatbank2_a_level\u001b[0m: 1\n",
      "Таким образом доля незаполненных данных составляет: 0.01%\n",
      "\n",
      "Количество пропусков в столбце \u001b[4m\u001b[1m\u001b[31msecondary_cleaner.state.floatbank2_b_air\u001b[0m: 23\n",
      "Таким образом доля незаполненных данных составляет: 0.12%\n",
      "\n",
      "Количество пропусков в столбце \u001b[4m\u001b[1m\u001b[31msecondary_cleaner.state.floatbank2_b_level\u001b[0m: 1\n",
      "Таким образом доля незаполненных данных составляет: 0.01%\n",
      "\n",
      "Количество пропусков в столбце \u001b[4m\u001b[1m\u001b[31msecondary_cleaner.state.floatbank3_a_air\u001b[0m: 13\n",
      "Таким образом доля незаполненных данных составляет: 0.07%\n",
      "\n",
      "Количество пропусков в столбце \u001b[4m\u001b[1m\u001b[31msecondary_cleaner.state.floatbank3_a_level\u001b[0m: 1\n",
      "Таким образом доля незаполненных данных составляет: 0.01%\n",
      "\n",
      "Количество пропусков в столбце \u001b[4m\u001b[1m\u001b[31msecondary_cleaner.state.floatbank3_b_air\u001b[0m: 1\n",
      "Таким образом доля незаполненных данных составляет: 0.01%\n",
      "\n",
      "Количество пропусков в столбце \u001b[4m\u001b[1m\u001b[31msecondary_cleaner.state.floatbank3_b_level\u001b[0m: 1\n",
      "Таким образом доля незаполненных данных составляет: 0.01%\n",
      "\n",
      "Количество пропусков в столбце \u001b[4m\u001b[1m\u001b[31msecondary_cleaner.state.floatbank4_a_air\u001b[0m: 6\n",
      "Таким образом доля незаполненных данных составляет: 0.03%\n",
      "\n",
      "Количество пропусков в столбце \u001b[4m\u001b[1m\u001b[31msecondary_cleaner.state.floatbank4_a_level\u001b[0m: 1\n",
      "Таким образом доля незаполненных данных составляет: 0.01%\n",
      "\n",
      "Количество пропусков в столбце \u001b[4m\u001b[1m\u001b[31msecondary_cleaner.state.floatbank4_b_air\u001b[0m: 1\n",
      "Таким образом доля незаполненных данных составляет: 0.01%\n",
      "\n",
      "Количество пропусков в столбце \u001b[4m\u001b[1m\u001b[31msecondary_cleaner.state.floatbank4_b_level\u001b[0m: 1\n",
      "Таким образом доля незаполненных данных составляет: 0.01%\n",
      "\n",
      "Количество пропусков в столбце \u001b[4m\u001b[1m\u001b[31msecondary_cleaner.state.floatbank5_a_air\u001b[0m: 1\n",
      "Таким образом доля незаполненных данных составляет: 0.01%\n",
      "\n",
      "Количество пропусков в столбце \u001b[4m\u001b[1m\u001b[31msecondary_cleaner.state.floatbank5_a_level\u001b[0m: 1\n",
      "Таким образом доля незаполненных данных составляет: 0.01%\n",
      "\n",
      "Количество пропусков в столбце \u001b[4m\u001b[1m\u001b[31msecondary_cleaner.state.floatbank5_b_air\u001b[0m: 1\n",
      "Таким образом доля незаполненных данных составляет: 0.01%\n",
      "\n",
      "Количество пропусков в столбце \u001b[4m\u001b[1m\u001b[31msecondary_cleaner.state.floatbank5_b_level\u001b[0m: 1\n",
      "Таким образом доля незаполненных данных составляет: 0.01%\n",
      "\n",
      "Количество пропусков в столбце \u001b[4m\u001b[1m\u001b[31msecondary_cleaner.state.floatbank6_a_air\u001b[0m: 2\n",
      "Таким образом доля незаполненных данных составляет: 0.01%\n",
      "\n",
      "Количество пропусков в столбце \u001b[4m\u001b[1m\u001b[31msecondary_cleaner.state.floatbank6_a_level\u001b[0m: 1\n",
      "Таким образом доля незаполненных данных составляет: 0.01%\n",
      "\n"
     ]
    }
   ],
   "source": [
    "for df in datas:\n",
    "    print('\\n\\t\\033[4m\\033[1m\\033[31m{}\\033[0m'.format(df))\n",
    "    df = datas.get(df)[0]\n",
    "    i = 0\n",
    "    for column in list(df.columns):\n",
    "        if len(df[df[column].isna()]) > 0:\n",
    "            print('Количество пропусков в столбце \\033[4m\\033[1m\\033[31m{}\\033[0m:'.format(column), len(df[df[column].isna()]))\n",
    "            k = len(df[df[column].isna()]) / df.shape[0]\n",
    "            print(f'Таким образом доля незаполненных данных составляет: {k:.2%}\\n')\n",
    "            i = 1\n",
    "    if i == 0:\n",
    "        print('Пропусков нет!')"
   ]
  },
  {
   "cell_type": "markdown",
   "id": "dcac54d5-11cf-469b-b9b1-673b5b75975c",
   "metadata": {},
   "source": [
    "Согласно вводной информации данные индексируются датой и временем получения информации (признак `date`) и соседние по времени параметры часто похожи. Доля пропущенных значений в столбцах достаточно мала, поэтому воспользуемся функцией замены `NaN`, используя предыдущее не пропущенное значение, чтобы заполнить пропущенное."
   ]
  },
  {
   "cell_type": "markdown",
   "id": "2f676e0e",
   "metadata": {},
   "source": [
    "for df in datas:\n",
    "    df_new = datas.get(df)[0].fillna(method='ffill')\n",
    "    datas.update({df:[df_new]})"
   ]
  },
  {
   "cell_type": "markdown",
   "id": "f04c9bc8-96a1-4b4e-9734-e56bc1c9b6b3",
   "metadata": {},
   "source": [
    "Через интерполяцию:"
   ]
  },
  {
   "cell_type": "code",
   "execution_count": 9,
   "id": "640d93bd",
   "metadata": {},
   "outputs": [],
   "source": [
    "for df in datas:\n",
    "    df_new = datas.get(df)[0].interpolate()\n",
    "    datas.update({df:[df_new]})"
   ]
  },
  {
   "cell_type": "markdown",
   "id": "e428d169-18ef-4f69-99b7-0995bb4ce648",
   "metadata": {},
   "source": [
    "Проверим результат:"
   ]
  },
  {
   "cell_type": "code",
   "execution_count": 10,
   "id": "f6c437a2-ecef-4532-8d2f-1fc6035c11a1",
   "metadata": {},
   "outputs": [
    {
     "name": "stdout",
     "output_type": "stream",
     "text": [
      "\n",
      "\t\u001b[4m\u001b[1m\u001b[31mgold_train\u001b[0m\n",
      "Пропусков нет!\n",
      "\n",
      "\t\u001b[4m\u001b[1m\u001b[31mgold_test\u001b[0m\n",
      "Пропусков нет!\n",
      "\n",
      "\t\u001b[4m\u001b[1m\u001b[31mgold_full\u001b[0m\n",
      "Пропусков нет!\n"
     ]
    }
   ],
   "source": [
    "for df in datas:\n",
    "    print('\\n\\t\\033[4m\\033[1m\\033[31m{}\\033[0m'.format(df))\n",
    "    df = datas.get(df)[0]\n",
    "    i = 0\n",
    "    for column in list(df.columns):\n",
    "        if len(df[df[column].isna()]) > 0:\n",
    "            print('Количество пропусков в столбце \\033[4m\\033[1m\\033[31m{}\\033[0m:'.format(column), len(df[df[column].isna()]))\n",
    "            k = len(df[df[column].isna()]) / df.shape[0]\n",
    "            print(f'Таким образом доля незаполненных данных составляет: {k:.2%}\\n')\n",
    "            i = 1\n",
    "    if i == 0:\n",
    "        print('Пропусков нет!')"
   ]
  },
  {
   "cell_type": "markdown",
   "id": "eccad67e-2efe-47dc-a956-b3fd7f737848",
   "metadata": {},
   "source": [
    "[К оглавлению](#contents)"
   ]
  },
  {
   "cell_type": "markdown",
   "id": "c782930f-f52d-48ef-a9ab-0f7910524310",
   "metadata": {},
   "source": [
    "<a id='recovery'></a>"
   ]
  },
  {
   "cell_type": "markdown",
   "id": "cf5b59a4-730b-437a-b395-3f030d6aa027",
   "metadata": {},
   "source": [
    "### 3. Проверка расчета эффективности обогащения"
   ]
  },
  {
   "cell_type": "markdown",
   "id": "a5044f3a-e3b6-40aa-8323-cccaa24b681f",
   "metadata": {},
   "source": [
    "Проверим, что эффективность обогащения рассчитана правильно. Вычислим её на обучающей выборке для признака `rougher.output.recovery` по формуле\n",
    "$$Recovery = \\frac{C \\times (F - T)}{F \\times (C - T)} \\times 100\\% \\ ,$$\n",
    "    где:\n",
    "- ***C*** — доля золота в концентрате после флотации/очистки;\n",
    "- ***F*** — доля золота в сырье/концентрате до флотации/очистки;\n",
    "- ***T*** — доля золота в отвальных хвостах после флотации/очистки."
   ]
  },
  {
   "cell_type": "code",
   "execution_count": 11,
   "id": "6489315b-b4b9-441f-89ed-51c60d6df118",
   "metadata": {},
   "outputs": [],
   "source": [
    "train = datas.get('gold_train')[0]\n",
    "c = train['rougher.output.concentrate_au']\n",
    "f = train['rougher.input.feed_au']\n",
    "t = train['rougher.output.tail_au']\n",
    "recovery_from_formula = (c*(f-t))/(f*(c-t))*100 # по формуле посчитаем эффективность обогащения\n",
    "\n",
    "recovery_from_data = train['rougher.output.recovery'] # эффективность обогащения из данных"
   ]
  },
  {
   "cell_type": "code",
   "execution_count": 12,
   "id": "cd145561-53b5-466f-b794-2476951454c3",
   "metadata": {},
   "outputs": [
    {
     "name": "stdout",
     "output_type": "stream",
     "text": [
      "Значение среднего абсолютного отклонения равно: 9.73512347450521e-15\n"
     ]
    }
   ],
   "source": [
    "# вычислим MAE для расчетной величины и значениям из данных\n",
    "print('Значение среднего абсолютного отклонения равно:', mean_absolute_error(recovery_from_data, recovery_from_formula))"
   ]
  },
  {
   "cell_type": "markdown",
   "id": "f019aefd-dd5a-442a-9e6a-0617ec0a2e25",
   "metadata": {},
   "source": [
    "Значение MAE говорит нам о том, что в среднем мы ошибаемся на 9.73512347450521e-15 процентов в наших расчетах. Это незначительная ошибка на уровне погрешности, что говорит о сопоставимости данных и столбца `rougher.output.recovery`."
   ]
  },
  {
   "cell_type": "markdown",
   "id": "f17e81e8-342c-469d-9cec-ed1fcdd62efd",
   "metadata": {},
   "source": [
    "[К оглавлению](#contents)"
   ]
  },
  {
   "cell_type": "markdown",
   "id": "22ed4121-b71b-4521-802d-a989d7a32fac",
   "metadata": {},
   "source": [
    "<a id='target_scope'></a>"
   ]
  },
  {
   "cell_type": "markdown",
   "id": "beff32d8-371b-4510-8f8f-585fad8076d2",
   "metadata": {
    "tags": []
   },
   "source": [
    "### 4. Выбор целевых признаков и подготовка данных"
   ]
  },
  {
   "cell_type": "markdown",
   "id": "f250d85c-ce18-454c-98ed-82f6232abdc9",
   "metadata": {},
   "source": [
    "Как было установлено ранее по общему обзору данных и вводной информации, в тестовой выборке пропущены часть признаков. Найдем их все в сравнении с тренировочной"
   ]
  },
  {
   "cell_type": "code",
   "execution_count": 13,
   "id": "11a96ddf-edf1-4258-a9f4-48d9636ec93a",
   "metadata": {
    "tags": []
   },
   "outputs": [
    {
     "data": {
      "text/plain": [
       "['rougher.calculation.floatbank11_sulfate_to_au_feed',\n",
       " 'final.output.tail_sol',\n",
       " 'final.output.concentrate_au',\n",
       " 'rougher.output.tail_au',\n",
       " 'rougher.output.concentrate_sol',\n",
       " 'rougher.output.concentrate_au',\n",
       " 'primary_cleaner.output.tail_au',\n",
       " 'rougher.output.concentrate_pb',\n",
       " 'final.output.tail_ag',\n",
       " 'rougher.output.tail_sol',\n",
       " 'final.output.concentrate_sol',\n",
       " 'primary_cleaner.output.tail_sol',\n",
       " 'rougher.calculation.au_pb_ratio',\n",
       " 'final.output.recovery',\n",
       " 'final.output.tail_au',\n",
       " 'rougher.output.recovery',\n",
       " 'rougher.calculation.sulfate_to_au_concentrate',\n",
       " 'primary_cleaner.output.concentrate_pb',\n",
       " 'primary_cleaner.output.concentrate_ag',\n",
       " 'rougher.calculation.floatbank10_sulfate_to_au_feed',\n",
       " 'final.output.concentrate_pb',\n",
       " 'final.output.concentrate_ag',\n",
       " 'secondary_cleaner.output.tail_au',\n",
       " 'primary_cleaner.output.concentrate_au',\n",
       " 'rougher.output.concentrate_ag',\n",
       " 'secondary_cleaner.output.tail_ag',\n",
       " 'secondary_cleaner.output.tail_pb',\n",
       " 'rougher.output.tail_pb',\n",
       " 'final.output.tail_pb',\n",
       " 'primary_cleaner.output.concentrate_sol',\n",
       " 'primary_cleaner.output.tail_pb',\n",
       " 'primary_cleaner.output.tail_ag',\n",
       " 'rougher.output.tail_ag',\n",
       " 'secondary_cleaner.output.tail_sol']"
      ]
     },
     "execution_count": 13,
     "metadata": {},
     "output_type": "execute_result"
    }
   ],
   "source": [
    "missed_columns = list(set(gold_recovery_train.columns) - set(gold_recovery_test.columns))\n",
    "missed_columns"
   ]
  },
  {
   "cell_type": "markdown",
   "id": "9dfa0e9a-68ba-4e17-9311-74fc7cd9f143",
   "metadata": {},
   "source": [
    "Из пропущенных признаков при обучении нашей модели для предсказания коэффициента восстановления золота из золотосодержащей руды нам понадобятся для оценки качества при тесте признаки, характеризующие ступени очистки в технологическом процессе:\n",
    "\n",
    "- rougher.output\n",
    "- rougher.calculation\n",
    "- primary_cleaner.output\n",
    "- secondary_cleaner.output\n",
    "- final.output\n",
    "\n",
    "Все эти параметры отсутствуют в тестовой выборке, потому что являются онлайн метриками, то есть, получаемыми в процессе очистки сырья. Известные же параметры - это исторические данные (оффлайн метрики), т.е. те, которые мы получаем в начале процесса, основываясь на знаниях об исходном сырье.\n",
    "\n",
    "Процесс обогащения золота длительный и ресурсозатратный. Поэтому прогнозирование для наших моделей необходимо разбить на два этапа:\n",
    "1. В качестве целевого признака берется степень обогащения в черновом концентрате (`rougher.output.recovery`) после флотации и отсеивания отвальных хвостов. Уже исходя из эих данных можно оценить объем необходимых материалов и вспомогательных реагентов, необходимых на этапе двойной очистки. Поэтому нам сначала необходимо отобрать все признаки с названием `rougher` и построить лучшую модель модель для предсказания целевого признака. \n",
    "2. В качестве второго целевого признака  будет выступать степень обогащения в уже финальном концентрате (`final.output.recovery`) после двойного этапа очистки с высокой концентрацией ценных металлов. Для обучения будем использовать уже все исходные данные."
   ]
  },
  {
   "cell_type": "markdown",
   "id": "f93860a0-d9af-4ec5-8017-bd06a26cc7fb",
   "metadata": {},
   "source": [
    "Проверим целевые признаки на наличие аномалий:"
   ]
  },
  {
   "cell_type": "code",
   "execution_count": 14,
   "id": "eb83854e-4911-4f86-a30b-1ace53b5f358",
   "metadata": {},
   "outputs": [
    {
     "data": {
      "text/plain": [
       "count    14149.000000\n",
       "mean        82.704502\n",
       "std         14.479156\n",
       "min          0.000000\n",
       "25%         79.993067\n",
       "50%         85.299462\n",
       "75%         90.165021\n",
       "max        100.000000\n",
       "Name: rougher.output.recovery, dtype: float64"
      ]
     },
     "metadata": {},
     "output_type": "display_data"
    },
    {
     "name": "stdout",
     "output_type": "stream",
     "text": [
      "--------------------------------------------------\n"
     ]
    },
    {
     "data": {
      "text/plain": [
       "count    14149.000000\n",
       "mean        66.518832\n",
       "std         10.295402\n",
       "min          0.000000\n",
       "25%         62.545817\n",
       "50%         67.432775\n",
       "75%         72.346428\n",
       "max        100.000000\n",
       "Name: final.output.recovery, dtype: float64"
      ]
     },
     "metadata": {},
     "output_type": "display_data"
    },
    {
     "name": "stdout",
     "output_type": "stream",
     "text": [
      "--------------------------------------------------\n"
     ]
    }
   ],
   "source": [
    "for target in ['rougher.output.recovery', 'final.output.recovery']:\n",
    "    display(datas.get('gold_train')[0][target].describe())\n",
    "    print('-' * 50)"
   ]
  },
  {
   "cell_type": "markdown",
   "id": "01939a58-c0c4-4c7a-821e-01a18b5e7e58",
   "metadata": {},
   "source": [
    "У нас присутствуют **нулевые значения степени обогащения** на обоих этапах, что может свидетельствовать об аномалии либо характеризовать исходное сырье. Помимо аномалий:\n",
    "- В первом случае это может быть показатель того, что флотация прошла неэффективно (исходное сырье не имело пустой породы для отсева), значит концентрация на входе и на выходе этапа должна быть одинаковой;\n",
    "- Во втором случае может сложиться ситуация, когда в исходном сырье не было хвостов, загрязняющих руду и концентрация золота после обогащения равняется исходной.\n",
    "\n",
    "Для этого выведем на экран две сводные таблицы только по интересующим нас столбцам."
   ]
  },
  {
   "cell_type": "code",
   "execution_count": 15,
   "id": "eb5074fe-7f9f-4444-8818-d6d99a147c7a",
   "metadata": {},
   "outputs": [
    {
     "name": "stdout",
     "output_type": "stream",
     "text": [
      "\n",
      "\t\u001b[4m\u001b[1m\u001b[31mrougher.output.recovery\u001b[0m\n"
     ]
    },
    {
     "data": {
      "text/html": [
       "<div>\n",
       "<style scoped>\n",
       "    .dataframe tbody tr th:only-of-type {\n",
       "        vertical-align: middle;\n",
       "    }\n",
       "\n",
       "    .dataframe tbody tr th {\n",
       "        vertical-align: top;\n",
       "    }\n",
       "\n",
       "    .dataframe thead th {\n",
       "        text-align: right;\n",
       "    }\n",
       "</style>\n",
       "<table border=\"1\" class=\"dataframe\">\n",
       "  <thead>\n",
       "    <tr style=\"text-align: right;\">\n",
       "      <th></th>\n",
       "      <th>rougher.input.feed_au</th>\n",
       "      <th>rougher.output.concentrate_au</th>\n",
       "      <th>rougher.output.recovery</th>\n",
       "      <th>final.output.concentrate_au</th>\n",
       "      <th>final.output.recovery</th>\n",
       "    </tr>\n",
       "  </thead>\n",
       "  <tbody>\n",
       "    <tr>\n",
       "      <th>45</th>\n",
       "      <td>7.114065</td>\n",
       "      <td>0.0</td>\n",
       "      <td>0.0</td>\n",
       "      <td>46.614456</td>\n",
       "      <td>68.403877</td>\n",
       "    </tr>\n",
       "    <tr>\n",
       "      <th>46</th>\n",
       "      <td>7.651522</td>\n",
       "      <td>0.0</td>\n",
       "      <td>0.0</td>\n",
       "      <td>46.250638</td>\n",
       "      <td>70.675633</td>\n",
       "    </tr>\n",
       "    <tr>\n",
       "      <th>47</th>\n",
       "      <td>5.587750</td>\n",
       "      <td>0.0</td>\n",
       "      <td>0.0</td>\n",
       "      <td>46.663335</td>\n",
       "      <td>55.088448</td>\n",
       "    </tr>\n",
       "    <tr>\n",
       "      <th>48</th>\n",
       "      <td>4.752992</td>\n",
       "      <td>0.0</td>\n",
       "      <td>0.0</td>\n",
       "      <td>44.015642</td>\n",
       "      <td>41.962008</td>\n",
       "    </tr>\n",
       "    <tr>\n",
       "      <th>49</th>\n",
       "      <td>5.122801</td>\n",
       "      <td>0.0</td>\n",
       "      <td>0.0</td>\n",
       "      <td>40.715973</td>\n",
       "      <td>49.884856</td>\n",
       "    </tr>\n",
       "  </tbody>\n",
       "</table>\n",
       "</div>"
      ],
      "text/plain": [
       "    rougher.input.feed_au  rougher.output.concentrate_au  \\\n",
       "45               7.114065                            0.0   \n",
       "46               7.651522                            0.0   \n",
       "47               5.587750                            0.0   \n",
       "48               4.752992                            0.0   \n",
       "49               5.122801                            0.0   \n",
       "\n",
       "    rougher.output.recovery  final.output.concentrate_au  \\\n",
       "45                      0.0                    46.614456   \n",
       "46                      0.0                    46.250638   \n",
       "47                      0.0                    46.663335   \n",
       "48                      0.0                    44.015642   \n",
       "49                      0.0                    40.715973   \n",
       "\n",
       "    final.output.recovery  \n",
       "45              68.403877  \n",
       "46              70.675633  \n",
       "47              55.088448  \n",
       "48              41.962008  \n",
       "49              49.884856  "
      ]
     },
     "metadata": {},
     "output_type": "display_data"
    },
    {
     "name": "stdout",
     "output_type": "stream",
     "text": [
      "Доля пропущенных значений составляет: 2.10%\n",
      "------------------------------------------------------------------------------------------------------------------------\n",
      "\n",
      "\t\u001b[4m\u001b[1m\u001b[31mfinal.output.recovery\u001b[0m\n"
     ]
    },
    {
     "data": {
      "text/html": [
       "<div>\n",
       "<style scoped>\n",
       "    .dataframe tbody tr th:only-of-type {\n",
       "        vertical-align: middle;\n",
       "    }\n",
       "\n",
       "    .dataframe tbody tr th {\n",
       "        vertical-align: top;\n",
       "    }\n",
       "\n",
       "    .dataframe thead th {\n",
       "        text-align: right;\n",
       "    }\n",
       "</style>\n",
       "<table border=\"1\" class=\"dataframe\">\n",
       "  <thead>\n",
       "    <tr style=\"text-align: right;\">\n",
       "      <th></th>\n",
       "      <th>rougher.input.feed_au</th>\n",
       "      <th>rougher.output.concentrate_au</th>\n",
       "      <th>rougher.output.recovery</th>\n",
       "      <th>final.output.concentrate_au</th>\n",
       "      <th>final.output.recovery</th>\n",
       "    </tr>\n",
       "  </thead>\n",
       "  <tbody>\n",
       "    <tr>\n",
       "      <th>644</th>\n",
       "      <td>5.598971</td>\n",
       "      <td>15.935190</td>\n",
       "      <td>68.960993</td>\n",
       "      <td>0.0</td>\n",
       "      <td>0.0</td>\n",
       "    </tr>\n",
       "    <tr>\n",
       "      <th>1193</th>\n",
       "      <td>7.786147</td>\n",
       "      <td>18.682162</td>\n",
       "      <td>82.787322</td>\n",
       "      <td>0.0</td>\n",
       "      <td>0.0</td>\n",
       "    </tr>\n",
       "    <tr>\n",
       "      <th>1194</th>\n",
       "      <td>7.499248</td>\n",
       "      <td>18.231121</td>\n",
       "      <td>83.515262</td>\n",
       "      <td>0.0</td>\n",
       "      <td>0.0</td>\n",
       "    </tr>\n",
       "    <tr>\n",
       "      <th>1195</th>\n",
       "      <td>7.032278</td>\n",
       "      <td>18.190655</td>\n",
       "      <td>83.702224</td>\n",
       "      <td>0.0</td>\n",
       "      <td>0.0</td>\n",
       "    </tr>\n",
       "    <tr>\n",
       "      <th>1196</th>\n",
       "      <td>7.021635</td>\n",
       "      <td>18.194323</td>\n",
       "      <td>84.836821</td>\n",
       "      <td>0.0</td>\n",
       "      <td>0.0</td>\n",
       "    </tr>\n",
       "  </tbody>\n",
       "</table>\n",
       "</div>"
      ],
      "text/plain": [
       "      rougher.input.feed_au  rougher.output.concentrate_au  \\\n",
       "644                5.598971                      15.935190   \n",
       "1193               7.786147                      18.682162   \n",
       "1194               7.499248                      18.231121   \n",
       "1195               7.032278                      18.190655   \n",
       "1196               7.021635                      18.194323   \n",
       "\n",
       "      rougher.output.recovery  final.output.concentrate_au  \\\n",
       "644                 68.960993                          0.0   \n",
       "1193                82.787322                          0.0   \n",
       "1194                83.515262                          0.0   \n",
       "1195                83.702224                          0.0   \n",
       "1196                84.836821                          0.0   \n",
       "\n",
       "      final.output.recovery  \n",
       "644                     0.0  \n",
       "1193                    0.0  \n",
       "1194                    0.0  \n",
       "1195                    0.0  \n",
       "1196                    0.0  "
      ]
     },
     "metadata": {},
     "output_type": "display_data"
    },
    {
     "name": "stdout",
     "output_type": "stream",
     "text": [
      "Доля пропущенных значений составляет: 0.41%\n",
      "------------------------------------------------------------------------------------------------------------------------\n"
     ]
    }
   ],
   "source": [
    "for target in ['rougher.output.recovery', 'final.output.recovery']:\n",
    "    print('\\n\\t\\033[4m\\033[1m\\033[31m{}\\033[0m'.format(target))\n",
    "    display((datas.get('gold_train')[0][datas.get('gold_train')[0][target] == 0]\n",
    "             [['rougher.input.feed_au' ,'rougher.output.concentrate_au','rougher.output.recovery', 'final.output.concentrate_au', 'final.output.recovery']]).head())\n",
    "    print('Доля пропущенных значений составляет: {:.2%}'.format(round(datas.get('gold_train')[0][datas.get('gold_train')[0][target] == 0][target].count() / len(datas.get('gold_train')[0]), 4)))\n",
    "    print('-' * 120)"
   ]
  },
  {
   "cell_type": "markdown",
   "id": "f3ba24d2-8fdd-4a9d-81d9-daac83119fd2",
   "metadata": {},
   "source": [
    "Как мы видим, нулевые значения степени обогащения сопровождаются отсутствием показателем содержанием золота в концентрате каждого этапа. Следовательно, данные признаки не снимались датчиками или же были повреждены. Доля таких значений в каждом случае не велика: 2,1% и 0,41% соответственно. Предлагаю удалить эти строки, дабы избежать негативного влияния на процесс обучения моделей."
   ]
  },
  {
   "cell_type": "code",
   "execution_count": 16,
   "id": "379db9f6-36b8-492b-b934-7fd3cb374ea3",
   "metadata": {},
   "outputs": [],
   "source": [
    "for target in ['rougher.output.recovery', 'final.output.recovery']:\n",
    "    datas.get('gold_train')[0] = datas.get('gold_train')[0].drop(datas.get('gold_train')[0][datas.get('gold_train')[0][target] == 0].index)"
   ]
  },
  {
   "cell_type": "markdown",
   "id": "a61ec7de-d68b-4a78-8514-f74dfa957b39",
   "metadata": {},
   "source": [
    "Предлагаю таким же образом проверить другие столбцы на наличие нулевых значений"
   ]
  },
  {
   "cell_type": "code",
   "execution_count": 17,
   "id": "3d84628c-4df7-43b0-b90a-0819ba6c3b17",
   "metadata": {},
   "outputs": [
    {
     "name": "stdout",
     "output_type": "stream",
     "text": [
      "\n",
      "\t\u001b[4m\u001b[1m\u001b[31mfinal.output.tail_ag\u001b[0m\n"
     ]
    },
    {
     "data": {
      "text/html": [
       "<div>\n",
       "<style scoped>\n",
       "    .dataframe tbody tr th:only-of-type {\n",
       "        vertical-align: middle;\n",
       "    }\n",
       "\n",
       "    .dataframe tbody tr th {\n",
       "        vertical-align: top;\n",
       "    }\n",
       "\n",
       "    .dataframe thead th {\n",
       "        text-align: right;\n",
       "    }\n",
       "</style>\n",
       "<table border=\"1\" class=\"dataframe\">\n",
       "  <thead>\n",
       "    <tr style=\"text-align: right;\">\n",
       "      <th></th>\n",
       "      <th>final.output.tail_ag</th>\n",
       "      <th>rougher.input.feed_au</th>\n",
       "      <th>rougher.output.concentrate_au</th>\n",
       "      <th>rougher.output.recovery</th>\n",
       "      <th>final.output.concentrate_au</th>\n",
       "      <th>final.output.recovery</th>\n",
       "    </tr>\n",
       "  </thead>\n",
       "  <tbody>\n",
       "    <tr>\n",
       "      <th>75</th>\n",
       "      <td>0.0</td>\n",
       "      <td>7.121792</td>\n",
       "      <td>18.861476</td>\n",
       "      <td>76.989555</td>\n",
       "      <td>46.543285</td>\n",
       "      <td>100.0</td>\n",
       "    </tr>\n",
       "    <tr>\n",
       "      <th>1916</th>\n",
       "      <td>0.0</td>\n",
       "      <td>6.785848</td>\n",
       "      <td>22.013020</td>\n",
       "      <td>77.621604</td>\n",
       "      <td>25.773495</td>\n",
       "      <td>100.0</td>\n",
       "    </tr>\n",
       "    <tr>\n",
       "      <th>1927</th>\n",
       "      <td>0.0</td>\n",
       "      <td>7.395918</td>\n",
       "      <td>19.038865</td>\n",
       "      <td>86.814820</td>\n",
       "      <td>42.984047</td>\n",
       "      <td>100.0</td>\n",
       "    </tr>\n",
       "  </tbody>\n",
       "</table>\n",
       "</div>"
      ],
      "text/plain": [
       "      final.output.tail_ag  rougher.input.feed_au  \\\n",
       "75                     0.0               7.121792   \n",
       "1916                   0.0               6.785848   \n",
       "1927                   0.0               7.395918   \n",
       "\n",
       "      rougher.output.concentrate_au  rougher.output.recovery  \\\n",
       "75                        18.861476                76.989555   \n",
       "1916                      22.013020                77.621604   \n",
       "1927                      19.038865                86.814820   \n",
       "\n",
       "      final.output.concentrate_au  final.output.recovery  \n",
       "75                      46.543285                  100.0  \n",
       "1916                    25.773495                  100.0  \n",
       "1927                    42.984047                  100.0  "
      ]
     },
     "metadata": {},
     "output_type": "display_data"
    },
    {
     "name": "stdout",
     "output_type": "stream",
     "text": [
      "Доля пропущенных значений составляет: 0.54%\n",
      "------------------------------------------------------------------------------------------------------------------------\n",
      "\n",
      "\t\u001b[4m\u001b[1m\u001b[31mfinal.output.tail_pb\u001b[0m\n"
     ]
    },
    {
     "data": {
      "text/html": [
       "<div>\n",
       "<style scoped>\n",
       "    .dataframe tbody tr th:only-of-type {\n",
       "        vertical-align: middle;\n",
       "    }\n",
       "\n",
       "    .dataframe tbody tr th {\n",
       "        vertical-align: top;\n",
       "    }\n",
       "\n",
       "    .dataframe thead th {\n",
       "        text-align: right;\n",
       "    }\n",
       "</style>\n",
       "<table border=\"1\" class=\"dataframe\">\n",
       "  <thead>\n",
       "    <tr style=\"text-align: right;\">\n",
       "      <th></th>\n",
       "      <th>final.output.tail_pb</th>\n",
       "      <th>rougher.input.feed_au</th>\n",
       "      <th>rougher.output.concentrate_au</th>\n",
       "      <th>rougher.output.recovery</th>\n",
       "      <th>final.output.concentrate_au</th>\n",
       "      <th>final.output.recovery</th>\n",
       "    </tr>\n",
       "  </thead>\n",
       "  <tbody>\n",
       "    <tr>\n",
       "      <th>75</th>\n",
       "      <td>0.0</td>\n",
       "      <td>7.121792</td>\n",
       "      <td>18.861476</td>\n",
       "      <td>76.989555</td>\n",
       "      <td>46.543285</td>\n",
       "      <td>100.0</td>\n",
       "    </tr>\n",
       "    <tr>\n",
       "      <th>1916</th>\n",
       "      <td>0.0</td>\n",
       "      <td>6.785848</td>\n",
       "      <td>22.013020</td>\n",
       "      <td>77.621604</td>\n",
       "      <td>25.773495</td>\n",
       "      <td>100.0</td>\n",
       "    </tr>\n",
       "    <tr>\n",
       "      <th>1927</th>\n",
       "      <td>0.0</td>\n",
       "      <td>7.395918</td>\n",
       "      <td>19.038865</td>\n",
       "      <td>86.814820</td>\n",
       "      <td>42.984047</td>\n",
       "      <td>100.0</td>\n",
       "    </tr>\n",
       "  </tbody>\n",
       "</table>\n",
       "</div>"
      ],
      "text/plain": [
       "      final.output.tail_pb  rougher.input.feed_au  \\\n",
       "75                     0.0               7.121792   \n",
       "1916                   0.0               6.785848   \n",
       "1927                   0.0               7.395918   \n",
       "\n",
       "      rougher.output.concentrate_au  rougher.output.recovery  \\\n",
       "75                        18.861476                76.989555   \n",
       "1916                      22.013020                77.621604   \n",
       "1927                      19.038865                86.814820   \n",
       "\n",
       "      final.output.concentrate_au  final.output.recovery  \n",
       "75                      46.543285                  100.0  \n",
       "1916                    25.773495                  100.0  \n",
       "1927                    42.984047                  100.0  "
      ]
     },
     "metadata": {},
     "output_type": "display_data"
    },
    {
     "name": "stdout",
     "output_type": "stream",
     "text": [
      "Доля пропущенных значений составляет: 0.54%\n",
      "------------------------------------------------------------------------------------------------------------------------\n",
      "\n",
      "\t\u001b[4m\u001b[1m\u001b[31mfinal.output.tail_sol\u001b[0m\n"
     ]
    },
    {
     "data": {
      "text/html": [
       "<div>\n",
       "<style scoped>\n",
       "    .dataframe tbody tr th:only-of-type {\n",
       "        vertical-align: middle;\n",
       "    }\n",
       "\n",
       "    .dataframe tbody tr th {\n",
       "        vertical-align: top;\n",
       "    }\n",
       "\n",
       "    .dataframe thead th {\n",
       "        text-align: right;\n",
       "    }\n",
       "</style>\n",
       "<table border=\"1\" class=\"dataframe\">\n",
       "  <thead>\n",
       "    <tr style=\"text-align: right;\">\n",
       "      <th></th>\n",
       "      <th>final.output.tail_sol</th>\n",
       "      <th>rougher.input.feed_au</th>\n",
       "      <th>rougher.output.concentrate_au</th>\n",
       "      <th>rougher.output.recovery</th>\n",
       "      <th>final.output.concentrate_au</th>\n",
       "      <th>final.output.recovery</th>\n",
       "    </tr>\n",
       "  </thead>\n",
       "  <tbody>\n",
       "    <tr>\n",
       "      <th>75</th>\n",
       "      <td>0.0</td>\n",
       "      <td>7.121792</td>\n",
       "      <td>18.861476</td>\n",
       "      <td>76.989555</td>\n",
       "      <td>46.543285</td>\n",
       "      <td>100.0</td>\n",
       "    </tr>\n",
       "    <tr>\n",
       "      <th>1916</th>\n",
       "      <td>0.0</td>\n",
       "      <td>6.785848</td>\n",
       "      <td>22.013020</td>\n",
       "      <td>77.621604</td>\n",
       "      <td>25.773495</td>\n",
       "      <td>100.0</td>\n",
       "    </tr>\n",
       "    <tr>\n",
       "      <th>1927</th>\n",
       "      <td>0.0</td>\n",
       "      <td>7.395918</td>\n",
       "      <td>19.038865</td>\n",
       "      <td>86.814820</td>\n",
       "      <td>42.984047</td>\n",
       "      <td>100.0</td>\n",
       "    </tr>\n",
       "  </tbody>\n",
       "</table>\n",
       "</div>"
      ],
      "text/plain": [
       "      final.output.tail_sol  rougher.input.feed_au  \\\n",
       "75                      0.0               7.121792   \n",
       "1916                    0.0               6.785848   \n",
       "1927                    0.0               7.395918   \n",
       "\n",
       "      rougher.output.concentrate_au  rougher.output.recovery  \\\n",
       "75                        18.861476                76.989555   \n",
       "1916                      22.013020                77.621604   \n",
       "1927                      19.038865                86.814820   \n",
       "\n",
       "      final.output.concentrate_au  final.output.recovery  \n",
       "75                      46.543285                  100.0  \n",
       "1916                    25.773495                  100.0  \n",
       "1927                    42.984047                  100.0  "
      ]
     },
     "metadata": {},
     "output_type": "display_data"
    },
    {
     "name": "stdout",
     "output_type": "stream",
     "text": [
      "Доля пропущенных значений составляет: 0.54%\n",
      "------------------------------------------------------------------------------------------------------------------------\n",
      "\n",
      "\t\u001b[4m\u001b[1m\u001b[31mfinal.output.tail_au\u001b[0m\n"
     ]
    },
    {
     "data": {
      "text/html": [
       "<div>\n",
       "<style scoped>\n",
       "    .dataframe tbody tr th:only-of-type {\n",
       "        vertical-align: middle;\n",
       "    }\n",
       "\n",
       "    .dataframe tbody tr th {\n",
       "        vertical-align: top;\n",
       "    }\n",
       "\n",
       "    .dataframe thead th {\n",
       "        text-align: right;\n",
       "    }\n",
       "</style>\n",
       "<table border=\"1\" class=\"dataframe\">\n",
       "  <thead>\n",
       "    <tr style=\"text-align: right;\">\n",
       "      <th></th>\n",
       "      <th>final.output.tail_au</th>\n",
       "      <th>rougher.input.feed_au</th>\n",
       "      <th>rougher.output.concentrate_au</th>\n",
       "      <th>rougher.output.recovery</th>\n",
       "      <th>final.output.concentrate_au</th>\n",
       "      <th>final.output.recovery</th>\n",
       "    </tr>\n",
       "  </thead>\n",
       "  <tbody>\n",
       "    <tr>\n",
       "      <th>75</th>\n",
       "      <td>0.0</td>\n",
       "      <td>7.121792</td>\n",
       "      <td>18.861476</td>\n",
       "      <td>76.989555</td>\n",
       "      <td>46.543285</td>\n",
       "      <td>100.0</td>\n",
       "    </tr>\n",
       "    <tr>\n",
       "      <th>1916</th>\n",
       "      <td>0.0</td>\n",
       "      <td>6.785848</td>\n",
       "      <td>22.013020</td>\n",
       "      <td>77.621604</td>\n",
       "      <td>25.773495</td>\n",
       "      <td>100.0</td>\n",
       "    </tr>\n",
       "    <tr>\n",
       "      <th>1927</th>\n",
       "      <td>0.0</td>\n",
       "      <td>7.395918</td>\n",
       "      <td>19.038865</td>\n",
       "      <td>86.814820</td>\n",
       "      <td>42.984047</td>\n",
       "      <td>100.0</td>\n",
       "    </tr>\n",
       "  </tbody>\n",
       "</table>\n",
       "</div>"
      ],
      "text/plain": [
       "      final.output.tail_au  rougher.input.feed_au  \\\n",
       "75                     0.0               7.121792   \n",
       "1916                   0.0               6.785848   \n",
       "1927                   0.0               7.395918   \n",
       "\n",
       "      rougher.output.concentrate_au  rougher.output.recovery  \\\n",
       "75                        18.861476                76.989555   \n",
       "1916                      22.013020                77.621604   \n",
       "1927                      19.038865                86.814820   \n",
       "\n",
       "      final.output.concentrate_au  final.output.recovery  \n",
       "75                      46.543285                  100.0  \n",
       "1916                    25.773495                  100.0  \n",
       "1927                    42.984047                  100.0  "
      ]
     },
     "metadata": {},
     "output_type": "display_data"
    },
    {
     "name": "stdout",
     "output_type": "stream",
     "text": [
      "Доля пропущенных значений составляет: 0.54%\n",
      "------------------------------------------------------------------------------------------------------------------------\n",
      "\n",
      "\t\u001b[4m\u001b[1m\u001b[31mprimary_cleaner.input.depressant\u001b[0m\n"
     ]
    },
    {
     "data": {
      "text/html": [
       "<div>\n",
       "<style scoped>\n",
       "    .dataframe tbody tr th:only-of-type {\n",
       "        vertical-align: middle;\n",
       "    }\n",
       "\n",
       "    .dataframe tbody tr th {\n",
       "        vertical-align: top;\n",
       "    }\n",
       "\n",
       "    .dataframe thead th {\n",
       "        text-align: right;\n",
       "    }\n",
       "</style>\n",
       "<table border=\"1\" class=\"dataframe\">\n",
       "  <thead>\n",
       "    <tr style=\"text-align: right;\">\n",
       "      <th></th>\n",
       "      <th>primary_cleaner.input.depressant</th>\n",
       "      <th>rougher.input.feed_au</th>\n",
       "      <th>rougher.output.concentrate_au</th>\n",
       "      <th>rougher.output.recovery</th>\n",
       "      <th>final.output.concentrate_au</th>\n",
       "      <th>final.output.recovery</th>\n",
       "    </tr>\n",
       "  </thead>\n",
       "  <tbody>\n",
       "    <tr>\n",
       "      <th>12278</th>\n",
       "      <td>0.0</td>\n",
       "      <td>6.695833</td>\n",
       "      <td>21.566302</td>\n",
       "      <td>79.363471</td>\n",
       "      <td>31.796344</td>\n",
       "      <td>67.850137</td>\n",
       "    </tr>\n",
       "    <tr>\n",
       "      <th>12279</th>\n",
       "      <td>0.0</td>\n",
       "      <td>6.499089</td>\n",
       "      <td>21.315193</td>\n",
       "      <td>79.624715</td>\n",
       "      <td>37.956968</td>\n",
       "      <td>65.765572</td>\n",
       "    </tr>\n",
       "    <tr>\n",
       "      <th>12280</th>\n",
       "      <td>0.0</td>\n",
       "      <td>6.510243</td>\n",
       "      <td>20.325517</td>\n",
       "      <td>82.137439</td>\n",
       "      <td>37.499655</td>\n",
       "      <td>62.137689</td>\n",
       "    </tr>\n",
       "  </tbody>\n",
       "</table>\n",
       "</div>"
      ],
      "text/plain": [
       "       primary_cleaner.input.depressant  rougher.input.feed_au  \\\n",
       "12278                               0.0               6.695833   \n",
       "12279                               0.0               6.499089   \n",
       "12280                               0.0               6.510243   \n",
       "\n",
       "       rougher.output.concentrate_au  rougher.output.recovery  \\\n",
       "12278                      21.566302                79.363471   \n",
       "12279                      21.315193                79.624715   \n",
       "12280                      20.325517                82.137439   \n",
       "\n",
       "       final.output.concentrate_au  final.output.recovery  \n",
       "12278                    31.796344              67.850137  \n",
       "12279                    37.956968              65.765572  \n",
       "12280                    37.499655              62.137689  "
      ]
     },
     "metadata": {},
     "output_type": "display_data"
    },
    {
     "name": "stdout",
     "output_type": "stream",
     "text": [
      "Доля пропущенных значений составляет: 0.07%\n",
      "------------------------------------------------------------------------------------------------------------------------\n",
      "\n",
      "\t\u001b[4m\u001b[1m\u001b[31mprimary_cleaner.output.concentrate_ag\u001b[0m\n"
     ]
    },
    {
     "data": {
      "text/html": [
       "<div>\n",
       "<style scoped>\n",
       "    .dataframe tbody tr th:only-of-type {\n",
       "        vertical-align: middle;\n",
       "    }\n",
       "\n",
       "    .dataframe tbody tr th {\n",
       "        vertical-align: top;\n",
       "    }\n",
       "\n",
       "    .dataframe thead th {\n",
       "        text-align: right;\n",
       "    }\n",
       "</style>\n",
       "<table border=\"1\" class=\"dataframe\">\n",
       "  <thead>\n",
       "    <tr style=\"text-align: right;\">\n",
       "      <th></th>\n",
       "      <th>primary_cleaner.output.concentrate_ag</th>\n",
       "      <th>rougher.input.feed_au</th>\n",
       "      <th>rougher.output.concentrate_au</th>\n",
       "      <th>rougher.output.recovery</th>\n",
       "      <th>final.output.concentrate_au</th>\n",
       "      <th>final.output.recovery</th>\n",
       "    </tr>\n",
       "  </thead>\n",
       "  <tbody>\n",
       "    <tr>\n",
       "      <th>19</th>\n",
       "      <td>0.0</td>\n",
       "      <td>6.801254</td>\n",
       "      <td>18.511902</td>\n",
       "      <td>86.241795</td>\n",
       "      <td>42.509402</td>\n",
       "      <td>70.34830</td>\n",
       "    </tr>\n",
       "    <tr>\n",
       "      <th>22</th>\n",
       "      <td>0.0</td>\n",
       "      <td>6.610732</td>\n",
       "      <td>18.089134</td>\n",
       "      <td>88.132239</td>\n",
       "      <td>41.406172</td>\n",
       "      <td>69.82390</td>\n",
       "    </tr>\n",
       "    <tr>\n",
       "      <th>30</th>\n",
       "      <td>0.0</td>\n",
       "      <td>6.524249</td>\n",
       "      <td>17.583602</td>\n",
       "      <td>88.066903</td>\n",
       "      <td>44.059908</td>\n",
       "      <td>69.19384</td>\n",
       "    </tr>\n",
       "  </tbody>\n",
       "</table>\n",
       "</div>"
      ],
      "text/plain": [
       "    primary_cleaner.output.concentrate_ag  rougher.input.feed_au  \\\n",
       "19                                    0.0               6.801254   \n",
       "22                                    0.0               6.610732   \n",
       "30                                    0.0               6.524249   \n",
       "\n",
       "    rougher.output.concentrate_au  rougher.output.recovery  \\\n",
       "19                      18.511902                86.241795   \n",
       "22                      18.089134                88.132239   \n",
       "30                      17.583602                88.066903   \n",
       "\n",
       "    final.output.concentrate_au  final.output.recovery  \n",
       "19                    42.509402               70.34830  \n",
       "22                    41.406172               69.82390  \n",
       "30                    44.059908               69.19384  "
      ]
     },
     "metadata": {},
     "output_type": "display_data"
    },
    {
     "name": "stdout",
     "output_type": "stream",
     "text": [
      "Доля пропущенных значений составляет: 0.51%\n",
      "------------------------------------------------------------------------------------------------------------------------\n",
      "\n",
      "\t\u001b[4m\u001b[1m\u001b[31mprimary_cleaner.output.concentrate_pb\u001b[0m\n"
     ]
    },
    {
     "data": {
      "text/html": [
       "<div>\n",
       "<style scoped>\n",
       "    .dataframe tbody tr th:only-of-type {\n",
       "        vertical-align: middle;\n",
       "    }\n",
       "\n",
       "    .dataframe tbody tr th {\n",
       "        vertical-align: top;\n",
       "    }\n",
       "\n",
       "    .dataframe thead th {\n",
       "        text-align: right;\n",
       "    }\n",
       "</style>\n",
       "<table border=\"1\" class=\"dataframe\">\n",
       "  <thead>\n",
       "    <tr style=\"text-align: right;\">\n",
       "      <th></th>\n",
       "      <th>primary_cleaner.output.concentrate_pb</th>\n",
       "      <th>rougher.input.feed_au</th>\n",
       "      <th>rougher.output.concentrate_au</th>\n",
       "      <th>rougher.output.recovery</th>\n",
       "      <th>final.output.concentrate_au</th>\n",
       "      <th>final.output.recovery</th>\n",
       "    </tr>\n",
       "  </thead>\n",
       "  <tbody>\n",
       "    <tr>\n",
       "      <th>19</th>\n",
       "      <td>0.0</td>\n",
       "      <td>6.801254</td>\n",
       "      <td>18.511902</td>\n",
       "      <td>86.241795</td>\n",
       "      <td>42.509402</td>\n",
       "      <td>70.34830</td>\n",
       "    </tr>\n",
       "    <tr>\n",
       "      <th>22</th>\n",
       "      <td>0.0</td>\n",
       "      <td>6.610732</td>\n",
       "      <td>18.089134</td>\n",
       "      <td>88.132239</td>\n",
       "      <td>41.406172</td>\n",
       "      <td>69.82390</td>\n",
       "    </tr>\n",
       "    <tr>\n",
       "      <th>30</th>\n",
       "      <td>0.0</td>\n",
       "      <td>6.524249</td>\n",
       "      <td>17.583602</td>\n",
       "      <td>88.066903</td>\n",
       "      <td>44.059908</td>\n",
       "      <td>69.19384</td>\n",
       "    </tr>\n",
       "  </tbody>\n",
       "</table>\n",
       "</div>"
      ],
      "text/plain": [
       "    primary_cleaner.output.concentrate_pb  rougher.input.feed_au  \\\n",
       "19                                    0.0               6.801254   \n",
       "22                                    0.0               6.610732   \n",
       "30                                    0.0               6.524249   \n",
       "\n",
       "    rougher.output.concentrate_au  rougher.output.recovery  \\\n",
       "19                      18.511902                86.241795   \n",
       "22                      18.089134                88.132239   \n",
       "30                      17.583602                88.066903   \n",
       "\n",
       "    final.output.concentrate_au  final.output.recovery  \n",
       "19                    42.509402               70.34830  \n",
       "22                    41.406172               69.82390  \n",
       "30                    44.059908               69.19384  "
      ]
     },
     "metadata": {},
     "output_type": "display_data"
    },
    {
     "name": "stdout",
     "output_type": "stream",
     "text": [
      "Доля пропущенных значений составляет: 0.51%\n",
      "------------------------------------------------------------------------------------------------------------------------\n",
      "\n",
      "\t\u001b[4m\u001b[1m\u001b[31mprimary_cleaner.output.concentrate_sol\u001b[0m\n"
     ]
    },
    {
     "data": {
      "text/html": [
       "<div>\n",
       "<style scoped>\n",
       "    .dataframe tbody tr th:only-of-type {\n",
       "        vertical-align: middle;\n",
       "    }\n",
       "\n",
       "    .dataframe tbody tr th {\n",
       "        vertical-align: top;\n",
       "    }\n",
       "\n",
       "    .dataframe thead th {\n",
       "        text-align: right;\n",
       "    }\n",
       "</style>\n",
       "<table border=\"1\" class=\"dataframe\">\n",
       "  <thead>\n",
       "    <tr style=\"text-align: right;\">\n",
       "      <th></th>\n",
       "      <th>primary_cleaner.output.concentrate_sol</th>\n",
       "      <th>rougher.input.feed_au</th>\n",
       "      <th>rougher.output.concentrate_au</th>\n",
       "      <th>rougher.output.recovery</th>\n",
       "      <th>final.output.concentrate_au</th>\n",
       "      <th>final.output.recovery</th>\n",
       "    </tr>\n",
       "  </thead>\n",
       "  <tbody>\n",
       "    <tr>\n",
       "      <th>19</th>\n",
       "      <td>0.0</td>\n",
       "      <td>6.801254</td>\n",
       "      <td>18.511902</td>\n",
       "      <td>86.241795</td>\n",
       "      <td>42.509402</td>\n",
       "      <td>70.34830</td>\n",
       "    </tr>\n",
       "    <tr>\n",
       "      <th>22</th>\n",
       "      <td>0.0</td>\n",
       "      <td>6.610732</td>\n",
       "      <td>18.089134</td>\n",
       "      <td>88.132239</td>\n",
       "      <td>41.406172</td>\n",
       "      <td>69.82390</td>\n",
       "    </tr>\n",
       "    <tr>\n",
       "      <th>30</th>\n",
       "      <td>0.0</td>\n",
       "      <td>6.524249</td>\n",
       "      <td>17.583602</td>\n",
       "      <td>88.066903</td>\n",
       "      <td>44.059908</td>\n",
       "      <td>69.19384</td>\n",
       "    </tr>\n",
       "  </tbody>\n",
       "</table>\n",
       "</div>"
      ],
      "text/plain": [
       "    primary_cleaner.output.concentrate_sol  rougher.input.feed_au  \\\n",
       "19                                     0.0               6.801254   \n",
       "22                                     0.0               6.610732   \n",
       "30                                     0.0               6.524249   \n",
       "\n",
       "    rougher.output.concentrate_au  rougher.output.recovery  \\\n",
       "19                      18.511902                86.241795   \n",
       "22                      18.089134                88.132239   \n",
       "30                      17.583602                88.066903   \n",
       "\n",
       "    final.output.concentrate_au  final.output.recovery  \n",
       "19                    42.509402               70.34830  \n",
       "22                    41.406172               69.82390  \n",
       "30                    44.059908               69.19384  "
      ]
     },
     "metadata": {},
     "output_type": "display_data"
    },
    {
     "name": "stdout",
     "output_type": "stream",
     "text": [
      "Доля пропущенных значений составляет: 0.51%\n",
      "------------------------------------------------------------------------------------------------------------------------\n",
      "\n",
      "\t\u001b[4m\u001b[1m\u001b[31mprimary_cleaner.output.concentrate_au\u001b[0m\n"
     ]
    },
    {
     "data": {
      "text/html": [
       "<div>\n",
       "<style scoped>\n",
       "    .dataframe tbody tr th:only-of-type {\n",
       "        vertical-align: middle;\n",
       "    }\n",
       "\n",
       "    .dataframe tbody tr th {\n",
       "        vertical-align: top;\n",
       "    }\n",
       "\n",
       "    .dataframe thead th {\n",
       "        text-align: right;\n",
       "    }\n",
       "</style>\n",
       "<table border=\"1\" class=\"dataframe\">\n",
       "  <thead>\n",
       "    <tr style=\"text-align: right;\">\n",
       "      <th></th>\n",
       "      <th>primary_cleaner.output.concentrate_au</th>\n",
       "      <th>rougher.input.feed_au</th>\n",
       "      <th>rougher.output.concentrate_au</th>\n",
       "      <th>rougher.output.recovery</th>\n",
       "      <th>final.output.concentrate_au</th>\n",
       "      <th>final.output.recovery</th>\n",
       "    </tr>\n",
       "  </thead>\n",
       "  <tbody>\n",
       "    <tr>\n",
       "      <th>19</th>\n",
       "      <td>0.0</td>\n",
       "      <td>6.801254</td>\n",
       "      <td>18.511902</td>\n",
       "      <td>86.241795</td>\n",
       "      <td>42.509402</td>\n",
       "      <td>70.34830</td>\n",
       "    </tr>\n",
       "    <tr>\n",
       "      <th>22</th>\n",
       "      <td>0.0</td>\n",
       "      <td>6.610732</td>\n",
       "      <td>18.089134</td>\n",
       "      <td>88.132239</td>\n",
       "      <td>41.406172</td>\n",
       "      <td>69.82390</td>\n",
       "    </tr>\n",
       "    <tr>\n",
       "      <th>30</th>\n",
       "      <td>0.0</td>\n",
       "      <td>6.524249</td>\n",
       "      <td>17.583602</td>\n",
       "      <td>88.066903</td>\n",
       "      <td>44.059908</td>\n",
       "      <td>69.19384</td>\n",
       "    </tr>\n",
       "  </tbody>\n",
       "</table>\n",
       "</div>"
      ],
      "text/plain": [
       "    primary_cleaner.output.concentrate_au  rougher.input.feed_au  \\\n",
       "19                                    0.0               6.801254   \n",
       "22                                    0.0               6.610732   \n",
       "30                                    0.0               6.524249   \n",
       "\n",
       "    rougher.output.concentrate_au  rougher.output.recovery  \\\n",
       "19                      18.511902                86.241795   \n",
       "22                      18.089134                88.132239   \n",
       "30                      17.583602                88.066903   \n",
       "\n",
       "    final.output.concentrate_au  final.output.recovery  \n",
       "19                    42.509402               70.34830  \n",
       "22                    41.406172               69.82390  \n",
       "30                    44.059908               69.19384  "
      ]
     },
     "metadata": {},
     "output_type": "display_data"
    },
    {
     "name": "stdout",
     "output_type": "stream",
     "text": [
      "Доля пропущенных значений составляет: 0.51%\n",
      "------------------------------------------------------------------------------------------------------------------------\n",
      "\n",
      "\t\u001b[4m\u001b[1m\u001b[31mprimary_cleaner.output.tail_ag\u001b[0m\n"
     ]
    },
    {
     "data": {
      "text/html": [
       "<div>\n",
       "<style scoped>\n",
       "    .dataframe tbody tr th:only-of-type {\n",
       "        vertical-align: middle;\n",
       "    }\n",
       "\n",
       "    .dataframe tbody tr th {\n",
       "        vertical-align: top;\n",
       "    }\n",
       "\n",
       "    .dataframe thead th {\n",
       "        text-align: right;\n",
       "    }\n",
       "</style>\n",
       "<table border=\"1\" class=\"dataframe\">\n",
       "  <thead>\n",
       "    <tr style=\"text-align: right;\">\n",
       "      <th></th>\n",
       "      <th>primary_cleaner.output.tail_ag</th>\n",
       "      <th>rougher.input.feed_au</th>\n",
       "      <th>rougher.output.concentrate_au</th>\n",
       "      <th>rougher.output.recovery</th>\n",
       "      <th>final.output.concentrate_au</th>\n",
       "      <th>final.output.recovery</th>\n",
       "    </tr>\n",
       "  </thead>\n",
       "  <tbody>\n",
       "    <tr>\n",
       "      <th>1929</th>\n",
       "      <td>0.0</td>\n",
       "      <td>1.033221</td>\n",
       "      <td>0.570819</td>\n",
       "      <td>48.457734</td>\n",
       "      <td>7.148353</td>\n",
       "      <td>59.657700</td>\n",
       "    </tr>\n",
       "    <tr>\n",
       "      <th>2533</th>\n",
       "      <td>0.0</td>\n",
       "      <td>8.439383</td>\n",
       "      <td>22.567554</td>\n",
       "      <td>80.872494</td>\n",
       "      <td>46.454830</td>\n",
       "      <td>71.212122</td>\n",
       "    </tr>\n",
       "    <tr>\n",
       "      <th>2534</th>\n",
       "      <td>0.0</td>\n",
       "      <td>8.569867</td>\n",
       "      <td>22.825088</td>\n",
       "      <td>81.996340</td>\n",
       "      <td>45.173790</td>\n",
       "      <td>87.486661</td>\n",
       "    </tr>\n",
       "  </tbody>\n",
       "</table>\n",
       "</div>"
      ],
      "text/plain": [
       "      primary_cleaner.output.tail_ag  rougher.input.feed_au  \\\n",
       "1929                             0.0               1.033221   \n",
       "2533                             0.0               8.439383   \n",
       "2534                             0.0               8.569867   \n",
       "\n",
       "      rougher.output.concentrate_au  rougher.output.recovery  \\\n",
       "1929                       0.570819                48.457734   \n",
       "2533                      22.567554                80.872494   \n",
       "2534                      22.825088                81.996340   \n",
       "\n",
       "      final.output.concentrate_au  final.output.recovery  \n",
       "1929                     7.148353              59.657700  \n",
       "2533                    46.454830              71.212122  \n",
       "2534                    45.173790              87.486661  "
      ]
     },
     "metadata": {},
     "output_type": "display_data"
    },
    {
     "name": "stdout",
     "output_type": "stream",
     "text": [
      "Доля пропущенных значений составляет: 0.48%\n",
      "------------------------------------------------------------------------------------------------------------------------\n",
      "\n",
      "\t\u001b[4m\u001b[1m\u001b[31mprimary_cleaner.output.tail_pb\u001b[0m\n"
     ]
    },
    {
     "data": {
      "text/html": [
       "<div>\n",
       "<style scoped>\n",
       "    .dataframe tbody tr th:only-of-type {\n",
       "        vertical-align: middle;\n",
       "    }\n",
       "\n",
       "    .dataframe tbody tr th {\n",
       "        vertical-align: top;\n",
       "    }\n",
       "\n",
       "    .dataframe thead th {\n",
       "        text-align: right;\n",
       "    }\n",
       "</style>\n",
       "<table border=\"1\" class=\"dataframe\">\n",
       "  <thead>\n",
       "    <tr style=\"text-align: right;\">\n",
       "      <th></th>\n",
       "      <th>primary_cleaner.output.tail_pb</th>\n",
       "      <th>rougher.input.feed_au</th>\n",
       "      <th>rougher.output.concentrate_au</th>\n",
       "      <th>rougher.output.recovery</th>\n",
       "      <th>final.output.concentrate_au</th>\n",
       "      <th>final.output.recovery</th>\n",
       "    </tr>\n",
       "  </thead>\n",
       "  <tbody>\n",
       "    <tr>\n",
       "      <th>1929</th>\n",
       "      <td>0.0</td>\n",
       "      <td>1.033221</td>\n",
       "      <td>0.570819</td>\n",
       "      <td>48.457734</td>\n",
       "      <td>7.148353</td>\n",
       "      <td>59.657700</td>\n",
       "    </tr>\n",
       "    <tr>\n",
       "      <th>2533</th>\n",
       "      <td>0.0</td>\n",
       "      <td>8.439383</td>\n",
       "      <td>22.567554</td>\n",
       "      <td>80.872494</td>\n",
       "      <td>46.454830</td>\n",
       "      <td>71.212122</td>\n",
       "    </tr>\n",
       "    <tr>\n",
       "      <th>2534</th>\n",
       "      <td>0.0</td>\n",
       "      <td>8.569867</td>\n",
       "      <td>22.825088</td>\n",
       "      <td>81.996340</td>\n",
       "      <td>45.173790</td>\n",
       "      <td>87.486661</td>\n",
       "    </tr>\n",
       "  </tbody>\n",
       "</table>\n",
       "</div>"
      ],
      "text/plain": [
       "      primary_cleaner.output.tail_pb  rougher.input.feed_au  \\\n",
       "1929                             0.0               1.033221   \n",
       "2533                             0.0               8.439383   \n",
       "2534                             0.0               8.569867   \n",
       "\n",
       "      rougher.output.concentrate_au  rougher.output.recovery  \\\n",
       "1929                       0.570819                48.457734   \n",
       "2533                      22.567554                80.872494   \n",
       "2534                      22.825088                81.996340   \n",
       "\n",
       "      final.output.concentrate_au  final.output.recovery  \n",
       "1929                     7.148353              59.657700  \n",
       "2533                    46.454830              71.212122  \n",
       "2534                    45.173790              87.486661  "
      ]
     },
     "metadata": {},
     "output_type": "display_data"
    },
    {
     "name": "stdout",
     "output_type": "stream",
     "text": [
      "Доля пропущенных значений составляет: 0.48%\n",
      "------------------------------------------------------------------------------------------------------------------------\n",
      "\n",
      "\t\u001b[4m\u001b[1m\u001b[31mprimary_cleaner.output.tail_sol\u001b[0m\n"
     ]
    },
    {
     "data": {
      "text/html": [
       "<div>\n",
       "<style scoped>\n",
       "    .dataframe tbody tr th:only-of-type {\n",
       "        vertical-align: middle;\n",
       "    }\n",
       "\n",
       "    .dataframe tbody tr th {\n",
       "        vertical-align: top;\n",
       "    }\n",
       "\n",
       "    .dataframe thead th {\n",
       "        text-align: right;\n",
       "    }\n",
       "</style>\n",
       "<table border=\"1\" class=\"dataframe\">\n",
       "  <thead>\n",
       "    <tr style=\"text-align: right;\">\n",
       "      <th></th>\n",
       "      <th>primary_cleaner.output.tail_sol</th>\n",
       "      <th>rougher.input.feed_au</th>\n",
       "      <th>rougher.output.concentrate_au</th>\n",
       "      <th>rougher.output.recovery</th>\n",
       "      <th>final.output.concentrate_au</th>\n",
       "      <th>final.output.recovery</th>\n",
       "    </tr>\n",
       "  </thead>\n",
       "  <tbody>\n",
       "    <tr>\n",
       "      <th>1929</th>\n",
       "      <td>0.0</td>\n",
       "      <td>1.033221</td>\n",
       "      <td>0.570819</td>\n",
       "      <td>48.457734</td>\n",
       "      <td>7.148353</td>\n",
       "      <td>59.657700</td>\n",
       "    </tr>\n",
       "    <tr>\n",
       "      <th>2533</th>\n",
       "      <td>0.0</td>\n",
       "      <td>8.439383</td>\n",
       "      <td>22.567554</td>\n",
       "      <td>80.872494</td>\n",
       "      <td>46.454830</td>\n",
       "      <td>71.212122</td>\n",
       "    </tr>\n",
       "    <tr>\n",
       "      <th>2534</th>\n",
       "      <td>0.0</td>\n",
       "      <td>8.569867</td>\n",
       "      <td>22.825088</td>\n",
       "      <td>81.996340</td>\n",
       "      <td>45.173790</td>\n",
       "      <td>87.486661</td>\n",
       "    </tr>\n",
       "  </tbody>\n",
       "</table>\n",
       "</div>"
      ],
      "text/plain": [
       "      primary_cleaner.output.tail_sol  rougher.input.feed_au  \\\n",
       "1929                              0.0               1.033221   \n",
       "2533                              0.0               8.439383   \n",
       "2534                              0.0               8.569867   \n",
       "\n",
       "      rougher.output.concentrate_au  rougher.output.recovery  \\\n",
       "1929                       0.570819                48.457734   \n",
       "2533                      22.567554                80.872494   \n",
       "2534                      22.825088                81.996340   \n",
       "\n",
       "      final.output.concentrate_au  final.output.recovery  \n",
       "1929                     7.148353              59.657700  \n",
       "2533                    46.454830              71.212122  \n",
       "2534                    45.173790              87.486661  "
      ]
     },
     "metadata": {},
     "output_type": "display_data"
    },
    {
     "name": "stdout",
     "output_type": "stream",
     "text": [
      "Доля пропущенных значений составляет: 0.48%\n",
      "------------------------------------------------------------------------------------------------------------------------\n",
      "\n",
      "\t\u001b[4m\u001b[1m\u001b[31mprimary_cleaner.output.tail_au\u001b[0m\n"
     ]
    },
    {
     "data": {
      "text/html": [
       "<div>\n",
       "<style scoped>\n",
       "    .dataframe tbody tr th:only-of-type {\n",
       "        vertical-align: middle;\n",
       "    }\n",
       "\n",
       "    .dataframe tbody tr th {\n",
       "        vertical-align: top;\n",
       "    }\n",
       "\n",
       "    .dataframe thead th {\n",
       "        text-align: right;\n",
       "    }\n",
       "</style>\n",
       "<table border=\"1\" class=\"dataframe\">\n",
       "  <thead>\n",
       "    <tr style=\"text-align: right;\">\n",
       "      <th></th>\n",
       "      <th>primary_cleaner.output.tail_au</th>\n",
       "      <th>rougher.input.feed_au</th>\n",
       "      <th>rougher.output.concentrate_au</th>\n",
       "      <th>rougher.output.recovery</th>\n",
       "      <th>final.output.concentrate_au</th>\n",
       "      <th>final.output.recovery</th>\n",
       "    </tr>\n",
       "  </thead>\n",
       "  <tbody>\n",
       "    <tr>\n",
       "      <th>1929</th>\n",
       "      <td>0.0</td>\n",
       "      <td>1.033221</td>\n",
       "      <td>0.570819</td>\n",
       "      <td>48.457734</td>\n",
       "      <td>7.148353</td>\n",
       "      <td>59.657700</td>\n",
       "    </tr>\n",
       "    <tr>\n",
       "      <th>2533</th>\n",
       "      <td>0.0</td>\n",
       "      <td>8.439383</td>\n",
       "      <td>22.567554</td>\n",
       "      <td>80.872494</td>\n",
       "      <td>46.454830</td>\n",
       "      <td>71.212122</td>\n",
       "    </tr>\n",
       "    <tr>\n",
       "      <th>2534</th>\n",
       "      <td>0.0</td>\n",
       "      <td>8.569867</td>\n",
       "      <td>22.825088</td>\n",
       "      <td>81.996340</td>\n",
       "      <td>45.173790</td>\n",
       "      <td>87.486661</td>\n",
       "    </tr>\n",
       "  </tbody>\n",
       "</table>\n",
       "</div>"
      ],
      "text/plain": [
       "      primary_cleaner.output.tail_au  rougher.input.feed_au  \\\n",
       "1929                             0.0               1.033221   \n",
       "2533                             0.0               8.439383   \n",
       "2534                             0.0               8.569867   \n",
       "\n",
       "      rougher.output.concentrate_au  rougher.output.recovery  \\\n",
       "1929                       0.570819                48.457734   \n",
       "2533                      22.567554                80.872494   \n",
       "2534                      22.825088                81.996340   \n",
       "\n",
       "      final.output.concentrate_au  final.output.recovery  \n",
       "1929                     7.148353              59.657700  \n",
       "2533                    46.454830              71.212122  \n",
       "2534                    45.173790              87.486661  "
      ]
     },
     "metadata": {},
     "output_type": "display_data"
    },
    {
     "name": "stdout",
     "output_type": "stream",
     "text": [
      "Доля пропущенных значений составляет: 0.48%\n",
      "------------------------------------------------------------------------------------------------------------------------\n",
      "\n",
      "\t\u001b[4m\u001b[1m\u001b[31msecondary_cleaner.output.tail_ag\u001b[0m\n"
     ]
    },
    {
     "data": {
      "text/html": [
       "<div>\n",
       "<style scoped>\n",
       "    .dataframe tbody tr th:only-of-type {\n",
       "        vertical-align: middle;\n",
       "    }\n",
       "\n",
       "    .dataframe tbody tr th {\n",
       "        vertical-align: top;\n",
       "    }\n",
       "\n",
       "    .dataframe thead th {\n",
       "        text-align: right;\n",
       "    }\n",
       "</style>\n",
       "<table border=\"1\" class=\"dataframe\">\n",
       "  <thead>\n",
       "    <tr style=\"text-align: right;\">\n",
       "      <th></th>\n",
       "      <th>secondary_cleaner.output.tail_ag</th>\n",
       "      <th>rougher.input.feed_au</th>\n",
       "      <th>rougher.output.concentrate_au</th>\n",
       "      <th>rougher.output.recovery</th>\n",
       "      <th>final.output.concentrate_au</th>\n",
       "      <th>final.output.recovery</th>\n",
       "    </tr>\n",
       "  </thead>\n",
       "  <tbody>\n",
       "    <tr>\n",
       "      <th>74</th>\n",
       "      <td>0.0</td>\n",
       "      <td>7.103887</td>\n",
       "      <td>18.614079</td>\n",
       "      <td>76.149160</td>\n",
       "      <td>43.264258</td>\n",
       "      <td>84.687443</td>\n",
       "    </tr>\n",
       "    <tr>\n",
       "      <th>75</th>\n",
       "      <td>0.0</td>\n",
       "      <td>7.121792</td>\n",
       "      <td>18.861476</td>\n",
       "      <td>76.989555</td>\n",
       "      <td>46.543285</td>\n",
       "      <td>100.000000</td>\n",
       "    </tr>\n",
       "    <tr>\n",
       "      <th>124</th>\n",
       "      <td>0.0</td>\n",
       "      <td>9.374748</td>\n",
       "      <td>19.450838</td>\n",
       "      <td>81.998948</td>\n",
       "      <td>42.601096</td>\n",
       "      <td>65.868895</td>\n",
       "    </tr>\n",
       "  </tbody>\n",
       "</table>\n",
       "</div>"
      ],
      "text/plain": [
       "     secondary_cleaner.output.tail_ag  rougher.input.feed_au  \\\n",
       "74                                0.0               7.103887   \n",
       "75                                0.0               7.121792   \n",
       "124                               0.0               9.374748   \n",
       "\n",
       "     rougher.output.concentrate_au  rougher.output.recovery  \\\n",
       "74                       18.614079                76.149160   \n",
       "75                       18.861476                76.989555   \n",
       "124                      19.450838                81.998948   \n",
       "\n",
       "     final.output.concentrate_au  final.output.recovery  \n",
       "74                     43.264258              84.687443  \n",
       "75                     46.543285             100.000000  \n",
       "124                    42.601096              65.868895  "
      ]
     },
     "metadata": {},
     "output_type": "display_data"
    },
    {
     "name": "stdout",
     "output_type": "stream",
     "text": [
      "Доля пропущенных значений составляет: 5.13%\n",
      "------------------------------------------------------------------------------------------------------------------------\n",
      "\n",
      "\t\u001b[4m\u001b[1m\u001b[31msecondary_cleaner.output.tail_pb\u001b[0m\n"
     ]
    },
    {
     "data": {
      "text/html": [
       "<div>\n",
       "<style scoped>\n",
       "    .dataframe tbody tr th:only-of-type {\n",
       "        vertical-align: middle;\n",
       "    }\n",
       "\n",
       "    .dataframe tbody tr th {\n",
       "        vertical-align: top;\n",
       "    }\n",
       "\n",
       "    .dataframe thead th {\n",
       "        text-align: right;\n",
       "    }\n",
       "</style>\n",
       "<table border=\"1\" class=\"dataframe\">\n",
       "  <thead>\n",
       "    <tr style=\"text-align: right;\">\n",
       "      <th></th>\n",
       "      <th>secondary_cleaner.output.tail_pb</th>\n",
       "      <th>rougher.input.feed_au</th>\n",
       "      <th>rougher.output.concentrate_au</th>\n",
       "      <th>rougher.output.recovery</th>\n",
       "      <th>final.output.concentrate_au</th>\n",
       "      <th>final.output.recovery</th>\n",
       "    </tr>\n",
       "  </thead>\n",
       "  <tbody>\n",
       "    <tr>\n",
       "      <th>74</th>\n",
       "      <td>0.0</td>\n",
       "      <td>7.103887</td>\n",
       "      <td>18.614079</td>\n",
       "      <td>76.149160</td>\n",
       "      <td>43.264258</td>\n",
       "      <td>84.687443</td>\n",
       "    </tr>\n",
       "    <tr>\n",
       "      <th>75</th>\n",
       "      <td>0.0</td>\n",
       "      <td>7.121792</td>\n",
       "      <td>18.861476</td>\n",
       "      <td>76.989555</td>\n",
       "      <td>46.543285</td>\n",
       "      <td>100.000000</td>\n",
       "    </tr>\n",
       "    <tr>\n",
       "      <th>124</th>\n",
       "      <td>0.0</td>\n",
       "      <td>9.374748</td>\n",
       "      <td>19.450838</td>\n",
       "      <td>81.998948</td>\n",
       "      <td>42.601096</td>\n",
       "      <td>65.868895</td>\n",
       "    </tr>\n",
       "  </tbody>\n",
       "</table>\n",
       "</div>"
      ],
      "text/plain": [
       "     secondary_cleaner.output.tail_pb  rougher.input.feed_au  \\\n",
       "74                                0.0               7.103887   \n",
       "75                                0.0               7.121792   \n",
       "124                               0.0               9.374748   \n",
       "\n",
       "     rougher.output.concentrate_au  rougher.output.recovery  \\\n",
       "74                       18.614079                76.149160   \n",
       "75                       18.861476                76.989555   \n",
       "124                      19.450838                81.998948   \n",
       "\n",
       "     final.output.concentrate_au  final.output.recovery  \n",
       "74                     43.264258              84.687443  \n",
       "75                     46.543285             100.000000  \n",
       "124                    42.601096              65.868895  "
      ]
     },
     "metadata": {},
     "output_type": "display_data"
    },
    {
     "name": "stdout",
     "output_type": "stream",
     "text": [
      "Доля пропущенных значений составляет: 5.13%\n",
      "------------------------------------------------------------------------------------------------------------------------\n",
      "\n",
      "\t\u001b[4m\u001b[1m\u001b[31msecondary_cleaner.output.tail_sol\u001b[0m\n"
     ]
    },
    {
     "data": {
      "text/html": [
       "<div>\n",
       "<style scoped>\n",
       "    .dataframe tbody tr th:only-of-type {\n",
       "        vertical-align: middle;\n",
       "    }\n",
       "\n",
       "    .dataframe tbody tr th {\n",
       "        vertical-align: top;\n",
       "    }\n",
       "\n",
       "    .dataframe thead th {\n",
       "        text-align: right;\n",
       "    }\n",
       "</style>\n",
       "<table border=\"1\" class=\"dataframe\">\n",
       "  <thead>\n",
       "    <tr style=\"text-align: right;\">\n",
       "      <th></th>\n",
       "      <th>secondary_cleaner.output.tail_sol</th>\n",
       "      <th>rougher.input.feed_au</th>\n",
       "      <th>rougher.output.concentrate_au</th>\n",
       "      <th>rougher.output.recovery</th>\n",
       "      <th>final.output.concentrate_au</th>\n",
       "      <th>final.output.recovery</th>\n",
       "    </tr>\n",
       "  </thead>\n",
       "  <tbody>\n",
       "    <tr>\n",
       "      <th>74</th>\n",
       "      <td>0.0</td>\n",
       "      <td>7.103887</td>\n",
       "      <td>18.614079</td>\n",
       "      <td>76.149160</td>\n",
       "      <td>43.264258</td>\n",
       "      <td>84.687443</td>\n",
       "    </tr>\n",
       "    <tr>\n",
       "      <th>75</th>\n",
       "      <td>0.0</td>\n",
       "      <td>7.121792</td>\n",
       "      <td>18.861476</td>\n",
       "      <td>76.989555</td>\n",
       "      <td>46.543285</td>\n",
       "      <td>100.000000</td>\n",
       "    </tr>\n",
       "    <tr>\n",
       "      <th>124</th>\n",
       "      <td>0.0</td>\n",
       "      <td>9.374748</td>\n",
       "      <td>19.450838</td>\n",
       "      <td>81.998948</td>\n",
       "      <td>42.601096</td>\n",
       "      <td>65.868895</td>\n",
       "    </tr>\n",
       "  </tbody>\n",
       "</table>\n",
       "</div>"
      ],
      "text/plain": [
       "     secondary_cleaner.output.tail_sol  rougher.input.feed_au  \\\n",
       "74                                 0.0               7.103887   \n",
       "75                                 0.0               7.121792   \n",
       "124                                0.0               9.374748   \n",
       "\n",
       "     rougher.output.concentrate_au  rougher.output.recovery  \\\n",
       "74                       18.614079                76.149160   \n",
       "75                       18.861476                76.989555   \n",
       "124                      19.450838                81.998948   \n",
       "\n",
       "     final.output.concentrate_au  final.output.recovery  \n",
       "74                     43.264258              84.687443  \n",
       "75                     46.543285             100.000000  \n",
       "124                    42.601096              65.868895  "
      ]
     },
     "metadata": {},
     "output_type": "display_data"
    },
    {
     "name": "stdout",
     "output_type": "stream",
     "text": [
      "Доля пропущенных значений составляет: 5.16%\n",
      "------------------------------------------------------------------------------------------------------------------------\n",
      "\n",
      "\t\u001b[4m\u001b[1m\u001b[31msecondary_cleaner.output.tail_au\u001b[0m\n"
     ]
    },
    {
     "data": {
      "text/html": [
       "<div>\n",
       "<style scoped>\n",
       "    .dataframe tbody tr th:only-of-type {\n",
       "        vertical-align: middle;\n",
       "    }\n",
       "\n",
       "    .dataframe tbody tr th {\n",
       "        vertical-align: top;\n",
       "    }\n",
       "\n",
       "    .dataframe thead th {\n",
       "        text-align: right;\n",
       "    }\n",
       "</style>\n",
       "<table border=\"1\" class=\"dataframe\">\n",
       "  <thead>\n",
       "    <tr style=\"text-align: right;\">\n",
       "      <th></th>\n",
       "      <th>secondary_cleaner.output.tail_au</th>\n",
       "      <th>rougher.input.feed_au</th>\n",
       "      <th>rougher.output.concentrate_au</th>\n",
       "      <th>rougher.output.recovery</th>\n",
       "      <th>final.output.concentrate_au</th>\n",
       "      <th>final.output.recovery</th>\n",
       "    </tr>\n",
       "  </thead>\n",
       "  <tbody>\n",
       "    <tr>\n",
       "      <th>74</th>\n",
       "      <td>0.0</td>\n",
       "      <td>7.103887</td>\n",
       "      <td>18.614079</td>\n",
       "      <td>76.149160</td>\n",
       "      <td>43.264258</td>\n",
       "      <td>84.687443</td>\n",
       "    </tr>\n",
       "    <tr>\n",
       "      <th>75</th>\n",
       "      <td>0.0</td>\n",
       "      <td>7.121792</td>\n",
       "      <td>18.861476</td>\n",
       "      <td>76.989555</td>\n",
       "      <td>46.543285</td>\n",
       "      <td>100.000000</td>\n",
       "    </tr>\n",
       "    <tr>\n",
       "      <th>124</th>\n",
       "      <td>0.0</td>\n",
       "      <td>9.374748</td>\n",
       "      <td>19.450838</td>\n",
       "      <td>81.998948</td>\n",
       "      <td>42.601096</td>\n",
       "      <td>65.868895</td>\n",
       "    </tr>\n",
       "  </tbody>\n",
       "</table>\n",
       "</div>"
      ],
      "text/plain": [
       "     secondary_cleaner.output.tail_au  rougher.input.feed_au  \\\n",
       "74                                0.0               7.103887   \n",
       "75                                0.0               7.121792   \n",
       "124                               0.0               9.374748   \n",
       "\n",
       "     rougher.output.concentrate_au  rougher.output.recovery  \\\n",
       "74                       18.614079                76.149160   \n",
       "75                       18.861476                76.989555   \n",
       "124                      19.450838                81.998948   \n",
       "\n",
       "     final.output.concentrate_au  final.output.recovery  \n",
       "74                     43.264258              84.687443  \n",
       "75                     46.543285             100.000000  \n",
       "124                    42.601096              65.868895  "
      ]
     },
     "metadata": {},
     "output_type": "display_data"
    },
    {
     "name": "stdout",
     "output_type": "stream",
     "text": [
      "Доля пропущенных значений составляет: 5.13%\n",
      "------------------------------------------------------------------------------------------------------------------------\n",
      "\n",
      "\t\u001b[4m\u001b[1m\u001b[31msecondary_cleaner.state.floatbank2_b_air\u001b[0m\n"
     ]
    },
    {
     "data": {
      "text/html": [
       "<div>\n",
       "<style scoped>\n",
       "    .dataframe tbody tr th:only-of-type {\n",
       "        vertical-align: middle;\n",
       "    }\n",
       "\n",
       "    .dataframe tbody tr th {\n",
       "        vertical-align: top;\n",
       "    }\n",
       "\n",
       "    .dataframe thead th {\n",
       "        text-align: right;\n",
       "    }\n",
       "</style>\n",
       "<table border=\"1\" class=\"dataframe\">\n",
       "  <thead>\n",
       "    <tr style=\"text-align: right;\">\n",
       "      <th></th>\n",
       "      <th>secondary_cleaner.state.floatbank2_b_air</th>\n",
       "      <th>rougher.input.feed_au</th>\n",
       "      <th>rougher.output.concentrate_au</th>\n",
       "      <th>rougher.output.recovery</th>\n",
       "      <th>final.output.concentrate_au</th>\n",
       "      <th>final.output.recovery</th>\n",
       "    </tr>\n",
       "  </thead>\n",
       "  <tbody>\n",
       "    <tr>\n",
       "      <th>4819</th>\n",
       "      <td>0.0</td>\n",
       "      <td>8.518138</td>\n",
       "      <td>20.341888</td>\n",
       "      <td>91.792293</td>\n",
       "      <td>44.528214</td>\n",
       "      <td>67.275195</td>\n",
       "    </tr>\n",
       "    <tr>\n",
       "      <th>6474</th>\n",
       "      <td>0.0</td>\n",
       "      <td>7.428312</td>\n",
       "      <td>23.860933</td>\n",
       "      <td>84.140395</td>\n",
       "      <td>47.606907</td>\n",
       "      <td>58.130765</td>\n",
       "    </tr>\n",
       "    <tr>\n",
       "      <th>6475</th>\n",
       "      <td>0.0</td>\n",
       "      <td>7.698814</td>\n",
       "      <td>23.628367</td>\n",
       "      <td>83.734715</td>\n",
       "      <td>47.409629</td>\n",
       "      <td>57.229451</td>\n",
       "    </tr>\n",
       "  </tbody>\n",
       "</table>\n",
       "</div>"
      ],
      "text/plain": [
       "      secondary_cleaner.state.floatbank2_b_air  rougher.input.feed_au  \\\n",
       "4819                                       0.0               8.518138   \n",
       "6474                                       0.0               7.428312   \n",
       "6475                                       0.0               7.698814   \n",
       "\n",
       "      rougher.output.concentrate_au  rougher.output.recovery  \\\n",
       "4819                      20.341888                91.792293   \n",
       "6474                      23.860933                84.140395   \n",
       "6475                      23.628367                83.734715   \n",
       "\n",
       "      final.output.concentrate_au  final.output.recovery  \n",
       "4819                    44.528214              67.275195  \n",
       "6474                    47.606907              58.130765  \n",
       "6475                    47.409629              57.229451  "
      ]
     },
     "metadata": {},
     "output_type": "display_data"
    },
    {
     "name": "stdout",
     "output_type": "stream",
     "text": [
      "Доля пропущенных значений составляет: 0.06%\n",
      "------------------------------------------------------------------------------------------------------------------------\n",
      "\n",
      "\t\u001b[4m\u001b[1m\u001b[31msecondary_cleaner.state.floatbank3_a_air\u001b[0m\n"
     ]
    },
    {
     "data": {
      "text/html": [
       "<div>\n",
       "<style scoped>\n",
       "    .dataframe tbody tr th:only-of-type {\n",
       "        vertical-align: middle;\n",
       "    }\n",
       "\n",
       "    .dataframe tbody tr th {\n",
       "        vertical-align: top;\n",
       "    }\n",
       "\n",
       "    .dataframe thead th {\n",
       "        text-align: right;\n",
       "    }\n",
       "</style>\n",
       "<table border=\"1\" class=\"dataframe\">\n",
       "  <thead>\n",
       "    <tr style=\"text-align: right;\">\n",
       "      <th></th>\n",
       "      <th>secondary_cleaner.state.floatbank3_a_air</th>\n",
       "      <th>rougher.input.feed_au</th>\n",
       "      <th>rougher.output.concentrate_au</th>\n",
       "      <th>rougher.output.recovery</th>\n",
       "      <th>final.output.concentrate_au</th>\n",
       "      <th>final.output.recovery</th>\n",
       "    </tr>\n",
       "  </thead>\n",
       "  <tbody>\n",
       "    <tr>\n",
       "      <th>4819</th>\n",
       "      <td>0.0</td>\n",
       "      <td>8.518138</td>\n",
       "      <td>20.341888</td>\n",
       "      <td>91.792293</td>\n",
       "      <td>44.528214</td>\n",
       "      <td>67.275195</td>\n",
       "    </tr>\n",
       "  </tbody>\n",
       "</table>\n",
       "</div>"
      ],
      "text/plain": [
       "      secondary_cleaner.state.floatbank3_a_air  rougher.input.feed_au  \\\n",
       "4819                                       0.0               8.518138   \n",
       "\n",
       "      rougher.output.concentrate_au  rougher.output.recovery  \\\n",
       "4819                      20.341888                91.792293   \n",
       "\n",
       "      final.output.concentrate_au  final.output.recovery  \n",
       "4819                    44.528214              67.275195  "
      ]
     },
     "metadata": {},
     "output_type": "display_data"
    },
    {
     "name": "stdout",
     "output_type": "stream",
     "text": [
      "Доля пропущенных значений составляет: 0.01%\n",
      "------------------------------------------------------------------------------------------------------------------------\n",
      "\n",
      "\t\u001b[4m\u001b[1m\u001b[31msecondary_cleaner.state.floatbank3_b_air\u001b[0m\n"
     ]
    },
    {
     "data": {
      "text/html": [
       "<div>\n",
       "<style scoped>\n",
       "    .dataframe tbody tr th:only-of-type {\n",
       "        vertical-align: middle;\n",
       "    }\n",
       "\n",
       "    .dataframe tbody tr th {\n",
       "        vertical-align: top;\n",
       "    }\n",
       "\n",
       "    .dataframe thead th {\n",
       "        text-align: right;\n",
       "    }\n",
       "</style>\n",
       "<table border=\"1\" class=\"dataframe\">\n",
       "  <thead>\n",
       "    <tr style=\"text-align: right;\">\n",
       "      <th></th>\n",
       "      <th>secondary_cleaner.state.floatbank3_b_air</th>\n",
       "      <th>rougher.input.feed_au</th>\n",
       "      <th>rougher.output.concentrate_au</th>\n",
       "      <th>rougher.output.recovery</th>\n",
       "      <th>final.output.concentrate_au</th>\n",
       "      <th>final.output.recovery</th>\n",
       "    </tr>\n",
       "  </thead>\n",
       "  <tbody>\n",
       "    <tr>\n",
       "      <th>4819</th>\n",
       "      <td>0.0</td>\n",
       "      <td>8.518138</td>\n",
       "      <td>20.341888</td>\n",
       "      <td>91.792293</td>\n",
       "      <td>44.528214</td>\n",
       "      <td>67.275195</td>\n",
       "    </tr>\n",
       "  </tbody>\n",
       "</table>\n",
       "</div>"
      ],
      "text/plain": [
       "      secondary_cleaner.state.floatbank3_b_air  rougher.input.feed_au  \\\n",
       "4819                                       0.0               8.518138   \n",
       "\n",
       "      rougher.output.concentrate_au  rougher.output.recovery  \\\n",
       "4819                      20.341888                91.792293   \n",
       "\n",
       "      final.output.concentrate_au  final.output.recovery  \n",
       "4819                    44.528214              67.275195  "
      ]
     },
     "metadata": {},
     "output_type": "display_data"
    },
    {
     "name": "stdout",
     "output_type": "stream",
     "text": [
      "Доля пропущенных значений составляет: 0.01%\n",
      "------------------------------------------------------------------------------------------------------------------------\n",
      "\n",
      "\t\u001b[4m\u001b[1m\u001b[31msecondary_cleaner.state.floatbank4_a_air\u001b[0m\n"
     ]
    },
    {
     "data": {
      "text/html": [
       "<div>\n",
       "<style scoped>\n",
       "    .dataframe tbody tr th:only-of-type {\n",
       "        vertical-align: middle;\n",
       "    }\n",
       "\n",
       "    .dataframe tbody tr th {\n",
       "        vertical-align: top;\n",
       "    }\n",
       "\n",
       "    .dataframe thead th {\n",
       "        text-align: right;\n",
       "    }\n",
       "</style>\n",
       "<table border=\"1\" class=\"dataframe\">\n",
       "  <thead>\n",
       "    <tr style=\"text-align: right;\">\n",
       "      <th></th>\n",
       "      <th>secondary_cleaner.state.floatbank4_a_air</th>\n",
       "      <th>rougher.input.feed_au</th>\n",
       "      <th>rougher.output.concentrate_au</th>\n",
       "      <th>rougher.output.recovery</th>\n",
       "      <th>final.output.concentrate_au</th>\n",
       "      <th>final.output.recovery</th>\n",
       "    </tr>\n",
       "  </thead>\n",
       "  <tbody>\n",
       "    <tr>\n",
       "      <th>4819</th>\n",
       "      <td>0.0</td>\n",
       "      <td>8.518138</td>\n",
       "      <td>20.341888</td>\n",
       "      <td>91.792293</td>\n",
       "      <td>44.528214</td>\n",
       "      <td>67.275195</td>\n",
       "    </tr>\n",
       "  </tbody>\n",
       "</table>\n",
       "</div>"
      ],
      "text/plain": [
       "      secondary_cleaner.state.floatbank4_a_air  rougher.input.feed_au  \\\n",
       "4819                                       0.0               8.518138   \n",
       "\n",
       "      rougher.output.concentrate_au  rougher.output.recovery  \\\n",
       "4819                      20.341888                91.792293   \n",
       "\n",
       "      final.output.concentrate_au  final.output.recovery  \n",
       "4819                    44.528214              67.275195  "
      ]
     },
     "metadata": {},
     "output_type": "display_data"
    },
    {
     "name": "stdout",
     "output_type": "stream",
     "text": [
      "Доля пропущенных значений составляет: 0.01%\n",
      "------------------------------------------------------------------------------------------------------------------------\n",
      "\n",
      "\t\u001b[4m\u001b[1m\u001b[31msecondary_cleaner.state.floatbank4_b_air\u001b[0m\n"
     ]
    },
    {
     "data": {
      "text/html": [
       "<div>\n",
       "<style scoped>\n",
       "    .dataframe tbody tr th:only-of-type {\n",
       "        vertical-align: middle;\n",
       "    }\n",
       "\n",
       "    .dataframe tbody tr th {\n",
       "        vertical-align: top;\n",
       "    }\n",
       "\n",
       "    .dataframe thead th {\n",
       "        text-align: right;\n",
       "    }\n",
       "</style>\n",
       "<table border=\"1\" class=\"dataframe\">\n",
       "  <thead>\n",
       "    <tr style=\"text-align: right;\">\n",
       "      <th></th>\n",
       "      <th>secondary_cleaner.state.floatbank4_b_air</th>\n",
       "      <th>rougher.input.feed_au</th>\n",
       "      <th>rougher.output.concentrate_au</th>\n",
       "      <th>rougher.output.recovery</th>\n",
       "      <th>final.output.concentrate_au</th>\n",
       "      <th>final.output.recovery</th>\n",
       "    </tr>\n",
       "  </thead>\n",
       "  <tbody>\n",
       "    <tr>\n",
       "      <th>4819</th>\n",
       "      <td>0.0</td>\n",
       "      <td>8.518138</td>\n",
       "      <td>20.341888</td>\n",
       "      <td>91.792293</td>\n",
       "      <td>44.528214</td>\n",
       "      <td>67.275195</td>\n",
       "    </tr>\n",
       "  </tbody>\n",
       "</table>\n",
       "</div>"
      ],
      "text/plain": [
       "      secondary_cleaner.state.floatbank4_b_air  rougher.input.feed_au  \\\n",
       "4819                                       0.0               8.518138   \n",
       "\n",
       "      rougher.output.concentrate_au  rougher.output.recovery  \\\n",
       "4819                      20.341888                91.792293   \n",
       "\n",
       "      final.output.concentrate_au  final.output.recovery  \n",
       "4819                    44.528214              67.275195  "
      ]
     },
     "metadata": {},
     "output_type": "display_data"
    },
    {
     "name": "stdout",
     "output_type": "stream",
     "text": [
      "Доля пропущенных значений составляет: 0.01%\n",
      "------------------------------------------------------------------------------------------------------------------------\n"
     ]
    }
   ],
   "source": [
    "for target in list(datas.get('gold_train')[0].columns):\n",
    "    a = datas.get('gold_train')[0][datas.get('gold_train')[0][target] == 0][target].count()\n",
    "    if a > 0:\n",
    "        print('\\n\\t\\033[4m\\033[1m\\033[31m{}\\033[0m'.format(target))\n",
    "        display((datas.get('gold_train')[0][datas.get('gold_train')[0][target] == 0]\n",
    "                 [[target, 'rougher.input.feed_au' ,'rougher.output.concentrate_au','rougher.output.recovery', 'final.output.concentrate_au', 'final.output.recovery']]).head(3))\n",
    "        print('Доля пропущенных значений составляет: {:.2%}'.format(round(datas.get('gold_train')[0][datas.get('gold_train')[0][target] == 0][target].count() / len(datas.get('gold_train')[0]), 4)))\n",
    "        print('-' * 120)"
   ]
  },
  {
   "cell_type": "markdown",
   "id": "40af5ead-6317-449b-9722-43f306b7b7d9",
   "metadata": {},
   "source": [
    "Многие из нулевых значений объясняются отсутствием того или иного элемента в отводимых частях, например, возможна ситуация, в которой в отвальных хвостах не содержится золото (`secondary_cleaner.output.tail_au`). Как мы уже выяснили, финальная концентрация золота в концентрате больше 0, значит у нас не может быть нулевым доля этого элемента в промежуточных этапах.\n",
    "\n",
    "Поэтому однозначно в признаке `primary_cleaner.output.concentrate_au` 0,51% нулевых значений не может быть. Можем смело их удалить."
   ]
  },
  {
   "cell_type": "code",
   "execution_count": 18,
   "id": "5169da2f-8bbd-4dc9-a714-9aa22df62061",
   "metadata": {},
   "outputs": [],
   "source": [
    "datas.get('gold_train')[0] = (datas.get('gold_train')[0]\n",
    "                              .drop(datas.get('gold_train')[0]\n",
    "                                    [datas.get('gold_train')[0]['primary_cleaner.output.concentrate_au'] == 0]\n",
    "                                    .index))"
   ]
  },
  {
   "cell_type": "markdown",
   "id": "419eb339",
   "metadata": {},
   "source": [
    "Преобразуем столбец дат в наших датафрейках в индекс для последующего восстановления тестовой выборки"
   ]
  },
  {
   "cell_type": "code",
   "execution_count": 19,
   "id": "6d78b421",
   "metadata": {},
   "outputs": [],
   "source": [
    "for df in datas:\n",
    "    df_new = datas.get(df)[0].set_index('date')\n",
    "    datas.update({df:[df_new]})"
   ]
  },
  {
   "cell_type": "markdown",
   "id": "7607342b-33b6-4b4d-8a77-9e4693ba70a5",
   "metadata": {},
   "source": [
    "<a id='data_reviw_summary'></a>"
   ]
  },
  {
   "cell_type": "markdown",
   "id": "e0dac751-a10b-41ee-be66-ae7a2e1e82f6",
   "metadata": {},
   "source": [
    "### **Выводы**\n",
    "Был проведен первичный осмотр и предобработка данных, в результате которых:\n",
    "- выявили и устранили наличие пропусков в признаках;\n",
    "- проверена правильность занесенных данных по формуле эффективности обогащения;\n",
    "- выяснен характер неполноты признаков в предоставленной тестовой выборке в связи с отсутствием онлайн метрик, получаемых в процессе обогащения исходного сырья;\n",
    "- определены целевые признаки - `rougher.output.recovery` и `final.output.recovery`, по которым необходимо будет отобрать соответствующие признаки при подготовке выборок к обучению (для степени обогащения после флотации необходимы будут все данные с `rougher`, а для финального значения обогащения будем использовать все признаки)."
   ]
  },
  {
   "cell_type": "markdown",
   "id": "582aea2a-7f55-4047-b04a-332e927bd5c8",
   "metadata": {},
   "source": [
    "[К оглавлению](#contents)"
   ]
  },
  {
   "cell_type": "markdown",
   "id": "263926b4-a075-4339-a88e-587699610322",
   "metadata": {},
   "source": [
    "<a id='data_analysis'></a>"
   ]
  },
  {
   "cell_type": "markdown",
   "id": "ae51f365-9b46-4019-9bb3-037ed0b5cb95",
   "metadata": {},
   "source": [
    "## II. Анализ данных"
   ]
  },
  {
   "cell_type": "markdown",
   "id": "1c1bef1e-c982-48c2-9ca7-bd81c25f740a",
   "metadata": {},
   "source": [
    "<a id='metalls_concentrate'></a>"
   ]
  },
  {
   "cell_type": "markdown",
   "id": "07943317-2f18-41f5-93f9-5d4468e524dc",
   "metadata": {},
   "source": [
    "### 1. Концентрации металлов"
   ]
  },
  {
   "cell_type": "markdown",
   "id": "e5ad5cd0-e5f6-4ce1-8e01-72fb41aa9ebc",
   "metadata": {},
   "source": [
    "Для начала посмотрим, как меняется концентрация металлов (Au, Ag, Pb) на различных этапах очистки"
   ]
  },
  {
   "cell_type": "code",
   "execution_count": 20,
   "id": "30196bbd-a15b-49c3-b091-7a3569127680",
   "metadata": {},
   "outputs": [],
   "source": [
    "au_output_concentrate = [col for col in datas.get('gold_train')[0].columns if 'output.concentrate_au' in col] # золото\n",
    "ag_output_concentrate = [col for col in datas.get('gold_train')[0].columns if 'output.concentrate_ag' in col] # серебро\n",
    "pb_output_concentrate = [col for col in datas.get('gold_train')[0].columns if 'output.concentrate_pb' in col] # свинец\n",
    "metalls_output_concentrate = {'Золото (Au)': au_output_concentrate,\n",
    "                             'Серебро (Ag)': ag_output_concentrate,\n",
    "                             'Свинец (Pb)': pb_output_concentrate}"
   ]
  },
  {
   "cell_type": "code",
   "execution_count": 21,
   "id": "34dd2d4a-8dff-404f-a7d2-0a42b42961e5",
   "metadata": {},
   "outputs": [
    {
     "data": {
      "text/plain": [
       "['final.output.concentrate_au',\n",
       " 'primary_cleaner.output.concentrate_au',\n",
       " 'rougher.output.concentrate_au']"
      ]
     },
     "execution_count": 21,
     "metadata": {},
     "output_type": "execute_result"
    }
   ],
   "source": [
    "au_output_concentrate"
   ]
  },
  {
   "cell_type": "markdown",
   "id": "ef8335b5-bf9a-469b-9439-2ef941cdf59d",
   "metadata": {
    "tags": []
   },
   "source": [
    "Построим графики распределения элементов на каждом этапе"
   ]
  },
  {
   "cell_type": "code",
   "execution_count": 22,
   "id": "1ceeecb1-c59a-43a6-8317-4f681552c0a5",
   "metadata": {},
   "outputs": [
    {
     "data": {
      "image/png": "[encoded data removed]",
      "text/plain": [
       "<Figure size 1728x576 with 3 Axes>"
      ]
     },
     "metadata": {
      "needs_background": "light"
     },
     "output_type": "display_data"
    }
   ],
   "source": [
    "fig, (ax1, ax2, ax3) = plt.subplots(nrows = 1, ncols = 3, figsize = (24, 8))\n",
    "k = 0\n",
    "x = [ax1, ax2, ax3]\n",
    "\n",
    "for metall in metalls_output_concentrate:\n",
    "    ax = x[k]\n",
    "    stages = metalls_output_concentrate.get(metall)\n",
    "\n",
    "    for stage in stages:\n",
    "        ax.set_title(f'Концентрации элемента {metall} в процессе очищения', fontsize = 13)\n",
    "        ax.hist(datas.get('gold_train')[0][stage], bins=100, label = stage, alpha=.5)\n",
    "        ax.set_xlabel(f'Концентрация элемента {metall}', fontsize = 12)\n",
    "        ax.set_ylabel('Количество измерений', fontsize = 12)\n",
    "    ax.legend(['Финальный концентрат ', 'Первичная очистка', 'Флотация'])\n",
    "    k += 1"
   ]
  },
  {
   "cell_type": "markdown",
   "id": "33d2254a-fe1f-49b1-94df-89ed7c42192f",
   "metadata": {},
   "source": [
    "Как мы видим, в процессе обогащения концентрация драгоценного металла Золото (Au) увеличивается с каждым этапом очистки, концентрация серебра уменьшается (скорее всего данный элемент связывается с реагентами и отводится вместе с хвостами для дальнейшей очитски от пустой породы), а доля свинца в концентрате увеличивается только после этапа флотации, значит в дальнейшем он не вступает в контакт с реагентами двухэтапной очистки, а переходит вместе в ценным металлом (золото) в виде комплексного соединения в финальный концентрат.\n",
    "\n",
    "Также на этапе Флотация заметен аномальный пик, хотя нулевые значения были ранее удалены."
   ]
  },
  {
   "cell_type": "code",
   "execution_count": 23,
   "id": "4ceed5d1-4dee-4bde-af5d-7bc405df0f71",
   "metadata": {},
   "outputs": [
    {
     "name": "stdout",
     "output_type": "stream",
     "text": [
      "0.010000    117\n",
      "0.056590      1\n",
      "0.135919      1\n",
      "Name: primary_cleaner.output.concentrate_au, dtype: int64\n",
      "0.010000    117\n",
      "0.186975      1\n",
      "0.116097      1\n",
      "0.038086      1\n",
      "0.131111      1\n",
      "0.018661      1\n",
      "Name: primary_cleaner.output.concentrate_ag, dtype: int64\n",
      "0.010000    117\n",
      "0.045857      1\n",
      "0.135342      1\n",
      "0.021357      1\n",
      "0.137007      1\n",
      "Name: primary_cleaner.output.concentrate_pb, dtype: int64\n"
     ]
    }
   ],
   "source": [
    "for primary_cleaner_output in ['primary_cleaner.output.concentrate_au', 'primary_cleaner.output.concentrate_ag', 'primary_cleaner.output.concentrate_pb']:\n",
    "    print(datas.get('gold_train')[0][datas.get('gold_train')[0][primary_cleaner_output] < .2][primary_cleaner_output].value_counts())"
   ]
  },
  {
   "cell_type": "markdown",
   "id": "46008641-afa8-4d79-946c-ea3031d8f1db",
   "metadata": {},
   "source": [
    "А вот и наши аномалии `0.01`. Предлагаю от них избавиться, дабы не смущать наши будущие модели."
   ]
  },
  {
   "cell_type": "code",
   "execution_count": 24,
   "id": "a552dfdb-4bcf-433e-8bc6-fcb466334e16",
   "metadata": {
    "tags": []
   },
   "outputs": [],
   "source": [
    "a = datas.get('gold_train')[0]\n",
    "\n",
    "for primary_cleaner_output in ['primary_cleaner.output.concentrate_au', 'primary_cleaner.output.concentrate_ag', 'primary_cleaner.output.concentrate_pb']:\n",
    "    a = a.loc[a[primary_cleaner_output] > .01]"
   ]
  },
  {
   "cell_type": "markdown",
   "id": "a2f8bcc1-a1a1-49ed-a2fc-f38bb4aff777",
   "metadata": {},
   "source": [
    "[К оглавлению](#contents)"
   ]
  },
  {
   "cell_type": "markdown",
   "id": "c2c4e8a4-d328-4f26-9133-84d5f434e59b",
   "metadata": {},
   "source": [
    "<a id='granule_size'></a>"
   ]
  },
  {
   "cell_type": "markdown",
   "id": "b6ca9761-c91e-4c8a-b7ba-712f0818b190",
   "metadata": {},
   "source": [
    "### 2. Размер гранул сырья в тестовой и обучающей выборках"
   ]
  },
  {
   "cell_type": "markdown",
   "id": "396b98ce-d666-489b-a4df-50b4f37b933d",
   "metadata": {},
   "source": [
    "Следующим этапом сравним распределения размеров гранул сырья на обучающей и тестовой выборках, так как, если распределения будут сильно отличаться друг от друга, оценка модели будет неправильной."
   ]
  },
  {
   "cell_type": "code",
   "execution_count": 25,
   "id": "e2b7a37d-90ab-4cd7-b3e3-9443497d13c8",
   "metadata": {
    "scrolled": true
   },
   "outputs": [
    {
     "data": {
      "image/png": "[encoded data removed]",
      "text/plain": [
       "<Figure size 1728x432 with 2 Axes>"
      ]
     },
     "metadata": {
      "needs_background": "light"
     },
     "output_type": "display_data"
    }
   ],
   "source": [
    "fig, (ax1, ax2) = plt.subplots(nrows = 1, ncols = 2, figsize = (24, 6))\n",
    "k = 0\n",
    "x = [ax1, ax2]\n",
    "\n",
    "for df in ['gold_train', 'gold_test']:\n",
    "    ax = x[k]\n",
    "    ax.set_title(f'Распределение размеров гранул исходного сырья в выборке {df} ', fontsize = 13)\n",
    "    ax.hist(datas.get(df)[0]['rougher.input.feed_size'], bins=300, density=True, alpha=.5)\n",
    "    ax.set_xlim([0, 120])\n",
    "    ax.set_xlabel('Размер гранул сырья', fontsize = 12)\n",
    "    ax.set_ylabel('Количество измерений', fontsize = 12)\n",
    "    k += 1"
   ]
  },
  {
   "cell_type": "markdown",
   "id": "0ea3c2eb-d836-488b-a3f6-2a7c366efacb",
   "metadata": {},
   "source": [
    "Проведем тест Колмогорова-Смирнова для сравнения распределений"
   ]
  },
  {
   "cell_type": "code",
   "execution_count": 26,
   "id": "cdc0b093",
   "metadata": {},
   "outputs": [],
   "source": [
    "from scipy.stats import ks_2samp"
   ]
  },
  {
   "cell_type": "code",
   "execution_count": 27,
   "id": "de6237be",
   "metadata": {},
   "outputs": [
    {
     "data": {
      "text/plain": [
       "KstestResult(statistic=0.24731455369962915, pvalue=3.557716557416183e-206)"
      ]
     },
     "execution_count": 27,
     "metadata": {},
     "output_type": "execute_result"
    }
   ],
   "source": [
    "x = datas.get('gold_train')[0]['rougher.input.feed_size']\n",
    "y = datas.get('gold_test')[0]['rougher.input.feed_size']\n",
    "ks_2samp(x, y)"
   ]
  },
  {
   "cell_type": "markdown",
   "id": "9acfb229",
   "metadata": {},
   "source": [
    "Значение pvalue очень мало и явно меньше разумного уровня значимости 5%, следовательно мы можем отклонить нулевую гипотезу, гласящую: два распределения идентичны.\n",
    "Первое значение вывода показывает, как сильно отличаются друг от друга распределения."
   ]
  },
  {
   "cell_type": "code",
   "execution_count": 28,
   "id": "b2b62253",
   "metadata": {},
   "outputs": [
    {
     "data": {
      "image/png": "[encoded data removed]",
      "text/plain": [
       "<Figure size 1152x648 with 1 Axes>"
      ]
     },
     "metadata": {
      "needs_background": "light"
     },
     "output_type": "display_data"
    }
   ],
   "source": [
    "plt.figure(figsize=[16,9])\n",
    "\n",
    "plt.hist(datas.get('gold_train')[0]['rougher.input.feed_size'], \n",
    "         bins=300, \n",
    "         label='Train_rougher.input.feed_size', \n",
    "         alpha=.5)\n",
    "plt.hist(datas.get('gold_test')[0]['rougher.input.feed_size'], \n",
    "         bins=300, \n",
    "         label='Test_rougher.input.feed_size', \n",
    "         alpha=.5) \n",
    "\n",
    "plt.xlim([0, 125])\n",
    "plt.ylim([0, 1100])\n",
    "\n",
    "plt.xlabel('Размер гранул сырья', fontsize = 12)\n",
    "plt.ylabel('Количество измерений', fontsize = 12)\n",
    "\n",
    "plt.legend(loc='upper right', fontsize=13)\n",
    "\n",
    "plt.title('Гистограмма распределения размеров гранул исходного сырья')\n",
    "plt.show()"
   ]
  },
  {
   "cell_type": "code",
   "execution_count": 29,
   "id": "da7f0e00-f3fc-4cfe-801b-8ac67907dcfb",
   "metadata": {},
   "outputs": [
    {
     "name": "stdout",
     "output_type": "stream",
     "text": [
      "count    13725.000000\n",
      "mean        60.170758\n",
      "std         23.137250\n",
      "min          9.659576\n",
      "25%         48.982458\n",
      "50%         55.392467\n",
      "75%         66.034792\n",
      "max        484.967466\n",
      "Name: rougher.input.feed_size, dtype: float64\n",
      "\n",
      "count    5290.000000\n",
      "mean       55.952835\n",
      "std        19.080372\n",
      "min         0.046369\n",
      "25%        43.906504\n",
      "50%        50.846843\n",
      "75%        62.451165\n",
      "max       392.494040\n",
      "Name: rougher.input.feed_size, dtype: float64\n",
      "\n"
     ]
    },
    {
     "data": {
      "image/png": "[encoded data removed]",
      "text/plain": [
       "<Figure size 1440x432 with 2 Axes>"
      ]
     },
     "metadata": {
      "needs_background": "light"
     },
     "output_type": "display_data"
    }
   ],
   "source": [
    "fig, (ax1, ax2) = plt.subplots(nrows = 1, ncols = 2, figsize = (20, 6))\n",
    "k = 0\n",
    "x = [ax1, ax2]\n",
    "\n",
    "for df in ['gold_train', 'gold_test']:\n",
    "    ax = x[k]\n",
    "    ax.set_title(f'Распределение размеров гранул исходного сырья в выборке {df}', fontsize = 12)\n",
    "    ax.boxplot(datas.get(df)[0]['rougher.input.feed_size'])\n",
    "    ax.set_ylim([0, 110])\n",
    "    ax.set_ylabel('Размер гранул сырья', fontsize = 12)\n",
    "    k += 1\n",
    "    print(datas.get(df)[0]['rougher.input.feed_size'].describe())\n",
    "    print()"
   ]
  },
  {
   "cell_type": "markdown",
   "id": "b8277d0e-f72d-4eda-bb1a-b5946e8f5e7d",
   "metadata": {},
   "source": [
    "Признак `Размер гранул сырья` в обучающей выбоке для исходного сырья распределен близко к нормальному с небольшим смещением влево и медианным размером гранул `55.392764`, тогда как в тестовой выборке смещение влево более ярковыражено и существует просадка по `50-й фракции`, медианное значение здесь равняется `50.846843`. И в том и в другом случае присутствуют выбросы после `90-й фракции`, но они достаточно редки, что видно на распределении \"ящика с усами\", где видно, насколько медиана не стремится к длинному хвосту высоких значений. Также высокое стандартное отклонение  показывает, что в наборе данных могут быть серьёзные аномалии или выбросы, и состав первичного сырья очень неоднороден."
   ]
  },
  {
   "cell_type": "code",
   "execution_count": 30,
   "id": "1785dbd8-de6f-4d51-a1e3-0f6e1eb9bda1",
   "metadata": {},
   "outputs": [
    {
     "data": {
      "image/png": "[encoded data removed]",
      "text/plain": [
       "<Figure size 1728x432 with 2 Axes>"
      ]
     },
     "metadata": {
      "needs_background": "light"
     },
     "output_type": "display_data"
    }
   ],
   "source": [
    "fig, (ax1, ax2) = plt.subplots(nrows = 1, ncols = 2, figsize = (24, 6))\n",
    "k = 0\n",
    "x = [ax1, ax2]\n",
    "\n",
    "for df in ['gold_train', 'gold_test']:\n",
    "    ax = x[k]\n",
    "    ax.set_title(f'Распределение размеров гранул сырья после флотации в выборке {df} ', fontsize = 13)\n",
    "    ax.hist(datas.get(df)[0]['primary_cleaner.input.feed_size'], bins=100, density=True, alpha=.5)\n",
    "    ax.set_xlim([5, 10])\n",
    "    ax.set_xlabel('Размер гранул сырья', fontsize = 12)\n",
    "    ax.set_ylabel('Количество измерений', fontsize = 12)\n",
    "    k += 1"
   ]
  },
  {
   "cell_type": "code",
   "execution_count": 31,
   "id": "9e6af344",
   "metadata": {},
   "outputs": [
    {
     "data": {
      "image/png": "[encoded data removed]",
      "text/plain": [
       "<Figure size 1152x648 with 1 Axes>"
      ]
     },
     "metadata": {
      "needs_background": "light"
     },
     "output_type": "display_data"
    }
   ],
   "source": [
    "plt.figure(figsize=[16,9])\n",
    "\n",
    "plt.hist(datas.get('gold_train')[0]['primary_cleaner.input.feed_size'], \n",
    "         bins=100, \n",
    "         label='Train_primary_cleaner.input.feed_size', \n",
    "         alpha=.5)\n",
    "plt.hist(datas.get('gold_test')[0]['primary_cleaner.input.feed_size'], \n",
    "         bins=100, \n",
    "         label='Test_primary_cleaner.input.feed_size', \n",
    "         alpha=.5) \n",
    "\n",
    "plt.xlim([4, 10])\n",
    "plt.ylim([0, 1300])\n",
    "\n",
    "plt.xlabel('Размер гранул сырья', fontsize = 12)\n",
    "plt.ylabel('Количество измерений', fontsize = 12)\n",
    "\n",
    "plt.legend(loc='upper right', fontsize=13)\n",
    "\n",
    "plt.title('Гистограмма распределения размеров гранул сырья после флотации')\n",
    "plt.show()"
   ]
  },
  {
   "cell_type": "code",
   "execution_count": 32,
   "id": "cc86bf33",
   "metadata": {},
   "outputs": [
    {
     "data": {
      "text/plain": [
       "KstestResult(statistic=0.06266888413716643, pvalue=1.7698612247044874e-13)"
      ]
     },
     "execution_count": 32,
     "metadata": {},
     "output_type": "execute_result"
    }
   ],
   "source": [
    "x = datas.get('gold_train')[0]['primary_cleaner.input.feed_size']\n",
    "y = datas.get('gold_test')[0]['primary_cleaner.input.feed_size']\n",
    "ks_2samp(x, y)"
   ]
  },
  {
   "cell_type": "code",
   "execution_count": 33,
   "id": "85850907-e283-4518-ba10-d9bae4ae3b26",
   "metadata": {},
   "outputs": [
    {
     "name": "stdout",
     "output_type": "stream",
     "text": [
      "count    13725.000000\n",
      "mean         7.324104\n",
      "std          0.616810\n",
      "min          1.080000\n",
      "25%          6.960000\n",
      "50%          7.300000\n",
      "75%          7.700000\n",
      "max         10.470000\n",
      "Name: primary_cleaner.input.feed_size, dtype: float64\n",
      "\n",
      "count    5290.000000\n",
      "mean        7.266339\n",
      "std         0.610219\n",
      "min         5.650000\n",
      "25%         6.890000\n",
      "50%         7.250000\n",
      "75%         7.600000\n",
      "max        15.500000\n",
      "Name: primary_cleaner.input.feed_size, dtype: float64\n",
      "\n"
     ]
    },
    {
     "data": {
      "image/png": "[encoded data removed]",
      "text/plain": [
       "<Figure size 1440x432 with 2 Axes>"
      ]
     },
     "metadata": {
      "needs_background": "light"
     },
     "output_type": "display_data"
    }
   ],
   "source": [
    "fig, (ax1, ax2) = plt.subplots(nrows = 1, ncols = 2, figsize = (20, 6))\n",
    "k = 0\n",
    "x = [ax1, ax2]\n",
    "\n",
    "for df in ['gold_train', 'gold_test']:\n",
    "    ax = x[k]\n",
    "    ax.set_title(f'Распределение размеров гранул сырья после флотащии в выборке {df}', fontsize = 12)\n",
    "    ax.boxplot(datas.get(df)[0]['rougher.input.feed_size'])\n",
    "    ax.set_ylim([0, 110])\n",
    "    ax.set_ylabel('Размер гранул сырья', fontsize = 12)\n",
    "    k += 1\n",
    "    print(datas.get(df)[0]['primary_cleaner.input.feed_size'].describe())\n",
    "    print()"
   ]
  },
  {
   "cell_type": "markdown",
   "id": "2c692201-48fe-4bfb-a02d-d001a57b83c2",
   "metadata": {},
   "source": [
    "Признак `Размер гранул сырья` в обучающей и тестовой выбоках для сырья после флотащии распределен нормально. Малое стандартное отклонение `0.61` показывает, что все значения близки к среднему."
   ]
  },
  {
   "cell_type": "markdown",
   "id": "c2038f26-b5cb-400c-8531-e4c221499330",
   "metadata": {},
   "source": [
    "<a id='data_analysis_summary'></a>"
   ]
  },
  {
   "cell_type": "markdown",
   "id": "ec904369-250c-4728-ae85-0512ab2456e4",
   "metadata": {},
   "source": [
    "### Выводы"
   ]
  },
  {
   "cell_type": "markdown",
   "id": "8805568c-21ad-40a2-a71d-366ecff9582d",
   "metadata": {},
   "source": [
    "В ходе анализа данных было выполнено:\n",
    "- Определен характер поведения целевых элементов в технологическом процессе обогащения золота: концентрация Золота (Au) увеличивается с каждым этапом очистки, концентрация серебра уменьшается (скорее всего данный элемент связывается с реагентами и отводится вместе с хвостами для дальнейшей очитски от пустой породы), а доля свинца в концентрате увеличивается только после этапа флотации, значит в дальнейшем он не вступает в контакт с реагентами двухэтапной очистки, а переходит вместе в ценным металлом (золото) в виде комплексного соединения в финальный концентрат.\n",
    "- Данные дополительно почищены от аномальных значений концентраций.\n",
    "- Изучены распределения размеров гранул сырья для обучающей и тестовой выборкок. По распределениям видно, весь спект значений тестовой выборки содержится в обучающей, поэтому, несмотря на неидеальное сходство, сильного искажения быть не должно."
   ]
  },
  {
   "cell_type": "markdown",
   "id": "9991ad2e-c052-4ff3-a32c-3f16c524998a",
   "metadata": {},
   "source": [
    "[К оглавлению](#contents)"
   ]
  },
  {
   "cell_type": "markdown",
   "id": "da5e728a-d524-4eae-bc43-80135b6a4f5c",
   "metadata": {},
   "source": [
    "<a id='models'></a>"
   ]
  },
  {
   "cell_type": "markdown",
   "id": "5dba817e-5692-4ada-8e11-927a5260d6f4",
   "metadata": {},
   "source": [
    "## III. Построение моделей"
   ]
  },
  {
   "cell_type": "markdown",
   "id": "d5f1faa8-fe1b-46a6-8310-817cf5634374",
   "metadata": {},
   "source": [
    "<a id='data_split'></a>"
   ]
  },
  {
   "cell_type": "markdown",
   "id": "3a3cda5b-0ab3-4890-95fc-7e121abd1017",
   "metadata": {},
   "source": [
    "### 1. Подготовка выборок"
   ]
  },
  {
   "cell_type": "markdown",
   "id": "33b00e8d-b8df-4489-988c-bc39378b4bce",
   "metadata": {},
   "source": [
    "Из предыдущих выводов следует, что нам необходимо создать две отдельные выборки для обучения моделей, предсказывающих целевой признак `rougher.output.recovery` и `final.output.recovery`.\n",
    "1. Для этапа флотации и определения степени обогащения после этого этапа нам потребуется оставить в `features` все признаки, входящие в этап `rougher`; причем все эти названия признаков мы будем смотреть по выборке `test`, по которым в дальнейшем возьмем для обучения из `train` значения.\n",
    "2. Для всего процесса в целом мы будем использовать все названия признаков, представленных в выборке `test`, по которым в дальнейшем возьмем для обучения из `train` значения.\n",
    "\n",
    "Помимо этого все признаки представлены числовыми значениями, поэтому на всякий случай смасштабируем их между собой, чтобы избежать негативного влияния на наши модели."
   ]
  },
  {
   "cell_type": "code",
   "execution_count": 34,
   "id": "043cf5b5-95b4-41d2-a65d-75dff4b535f9",
   "metadata": {},
   "outputs": [
    {
     "data": {
      "text/plain": [
       "['rougher.input.feed_ag',\n",
       " 'rougher.input.feed_pb',\n",
       " 'rougher.input.feed_rate',\n",
       " 'rougher.input.feed_size',\n",
       " 'rougher.input.feed_sol',\n",
       " 'rougher.input.feed_au',\n",
       " 'rougher.input.floatbank10_sulfate',\n",
       " 'rougher.input.floatbank10_xanthate',\n",
       " 'rougher.input.floatbank11_sulfate',\n",
       " 'rougher.input.floatbank11_xanthate',\n",
       " 'rougher.state.floatbank10_a_air',\n",
       " 'rougher.state.floatbank10_a_level',\n",
       " 'rougher.state.floatbank10_b_air',\n",
       " 'rougher.state.floatbank10_b_level',\n",
       " 'rougher.state.floatbank10_c_air',\n",
       " 'rougher.state.floatbank10_c_level',\n",
       " 'rougher.state.floatbank10_d_air',\n",
       " 'rougher.state.floatbank10_d_level',\n",
       " 'rougher.state.floatbank10_e_air',\n",
       " 'rougher.state.floatbank10_e_level',\n",
       " 'rougher.state.floatbank10_f_air',\n",
       " 'rougher.state.floatbank10_f_level']"
      ]
     },
     "metadata": {},
     "output_type": "display_data"
    }
   ],
   "source": [
    "# 1. Для предсказания степени обогащения после флотации\n",
    "rougher = [col for col in datas.get('gold_test')[0].columns if 'rougher' in col]\n",
    "# чтобы убедиться, что мы не захватили лишнего. Целевого признака здесь нет, так как названия признаков брались по тестовой выборке\n",
    "display(rougher)\n",
    "\n",
    "features_rougher_train = datas.get('gold_train')[0][rougher]                                # признаки\n",
    "target_rougher_train = datas.get('gold_train')[0]['rougher.output.recovery']                # целевлй признак\n",
    "\n",
    "# МАСШТАБИРОВАНИЕ\n",
    "# создадим объект масштабирования, скормим ему тренировочную выборку количественных признаков \n",
    "# преобразуем обучающую выборки функцией `transform()`\n",
    "scaler_r = StandardScaler()\n",
    "scaler_r.fit(features_rougher_train)\n",
    "\n",
    "features_rougher_train = scaler_r.transform(features_rougher_train)"
   ]
  },
  {
   "cell_type": "code",
   "execution_count": 35,
   "id": "cf211ee9-da1c-44c2-9043-a2f13f11d509",
   "metadata": {},
   "outputs": [
    {
     "data": {
      "text/plain": [
       "Index(['primary_cleaner.input.sulfate', 'primary_cleaner.input.depressant',\n",
       "       'primary_cleaner.input.feed_size', 'primary_cleaner.input.xanthate',\n",
       "       'primary_cleaner.state.floatbank8_a_air',\n",
       "       'primary_cleaner.state.floatbank8_a_level',\n",
       "       'primary_cleaner.state.floatbank8_b_air',\n",
       "       'primary_cleaner.state.floatbank8_b_level',\n",
       "       'primary_cleaner.state.floatbank8_c_air',\n",
       "       'primary_cleaner.state.floatbank8_c_level',\n",
       "       'primary_cleaner.state.floatbank8_d_air',\n",
       "       'primary_cleaner.state.floatbank8_d_level', 'rougher.input.feed_ag',\n",
       "       'rougher.input.feed_pb', 'rougher.input.feed_rate',\n",
       "       'rougher.input.feed_size', 'rougher.input.feed_sol',\n",
       "       'rougher.input.feed_au', 'rougher.input.floatbank10_sulfate',\n",
       "       'rougher.input.floatbank10_xanthate',\n",
       "       'rougher.input.floatbank11_sulfate',\n",
       "       'rougher.input.floatbank11_xanthate', 'rougher.state.floatbank10_a_air',\n",
       "       'rougher.state.floatbank10_a_level', 'rougher.state.floatbank10_b_air',\n",
       "       'rougher.state.floatbank10_b_level', 'rougher.state.floatbank10_c_air',\n",
       "       'rougher.state.floatbank10_c_level', 'rougher.state.floatbank10_d_air',\n",
       "       'rougher.state.floatbank10_d_level', 'rougher.state.floatbank10_e_air',\n",
       "       'rougher.state.floatbank10_e_level', 'rougher.state.floatbank10_f_air',\n",
       "       'rougher.state.floatbank10_f_level',\n",
       "       'secondary_cleaner.state.floatbank2_a_air',\n",
       "       'secondary_cleaner.state.floatbank2_a_level',\n",
       "       'secondary_cleaner.state.floatbank2_b_air',\n",
       "       'secondary_cleaner.state.floatbank2_b_level',\n",
       "       'secondary_cleaner.state.floatbank3_a_air',\n",
       "       'secondary_cleaner.state.floatbank3_a_level',\n",
       "       'secondary_cleaner.state.floatbank3_b_air',\n",
       "       'secondary_cleaner.state.floatbank3_b_level',\n",
       "       'secondary_cleaner.state.floatbank4_a_air',\n",
       "       'secondary_cleaner.state.floatbank4_a_level',\n",
       "       'secondary_cleaner.state.floatbank4_b_air',\n",
       "       'secondary_cleaner.state.floatbank4_b_level',\n",
       "       'secondary_cleaner.state.floatbank5_a_air',\n",
       "       'secondary_cleaner.state.floatbank5_a_level',\n",
       "       'secondary_cleaner.state.floatbank5_b_air',\n",
       "       'secondary_cleaner.state.floatbank5_b_level',\n",
       "       'secondary_cleaner.state.floatbank6_a_air',\n",
       "       'secondary_cleaner.state.floatbank6_a_level'],\n",
       "      dtype='object')"
      ]
     },
     "metadata": {},
     "output_type": "display_data"
    }
   ],
   "source": [
    "# 2. Для предсказания степени обогащения после двухэтапной очистки\n",
    "final = datas.get('gold_test')[0].columns\n",
    "display(final)\n",
    "\n",
    "features_final_train = datas.get('gold_train')[0][final]                                # признаки\n",
    "target_final_train = datas.get('gold_train')[0]['final.output.recovery']                # целевлй признак\n",
    "\n",
    "# МАСШТАБИРОВАНИЕ\n",
    "# создадим объект масштабирования, скормим ему тренировочную выборку количественных признаков \n",
    "# преобразуем обучающую выборки функцией `transform()`\n",
    "scaler_f = StandardScaler()\n",
    "scaler_f.fit(features_final_train)\n",
    "\n",
    "features_final_train = scaler_f.transform(features_final_train)"
   ]
  },
  {
   "cell_type": "markdown",
   "id": "35815f86-310d-45d3-b08b-532606eeca2c",
   "metadata": {},
   "source": [
    "А тестовая выборка у нас уже готова"
   ]
  },
  {
   "cell_type": "code",
   "execution_count": 36,
   "id": "2ea784fb-208a-472b-a8f1-822b217a67d5",
   "metadata": {},
   "outputs": [],
   "source": [
    "# признаки для тестовой выборки rougher\n",
    "features_rougher_test = datas.get('gold_test')[0][rougher]\n",
    "target_rougher_test = datas.get('gold_full')[0].loc[features_rougher_test.index,'rougher.output.recovery']\n",
    "\n",
    "\n",
    "# масштабирование по обученному скаллеру rougher\n",
    "features_rougher_test = scaler_r.transform(features_rougher_test)\n",
    "\n",
    "# признаки для тестовой выборки final\n",
    "features_final_test = datas.get('gold_test')[0]\n",
    "target_final_test = datas.get('gold_full')[0].loc[features_final_test.index,'final.output.recovery']\n",
    "\n",
    "# масштабирование по обученному скаллеру final\n",
    "features_final_test = scaler_f.transform(features_final_test)\n"
   ]
  },
  {
   "cell_type": "markdown",
   "id": "2d4200f0-f915-41c5-9390-ae28f1832805",
   "metadata": {},
   "source": [
    "#### Выводы\n",
    "Так как в исследовании необходимыми целевыми признаками являются количественные параметры (нужно ответить предсказать, сколько ожидается степень обогащения золота на этапе после флотации и после всего технологического процесса), следовательно будем использовать модели через регрессию. Обучим разные модели и оценим их качество кросс-валидацией. Затем выберем лучшую модель и проверим её на тестовой выборке."
   ]
  },
  {
   "cell_type": "markdown",
   "id": "04a0afdb-c1d0-4271-84c2-44cfa68a6410",
   "metadata": {},
   "source": [
    "[К оглавлению](#contents)"
   ]
  },
  {
   "cell_type": "markdown",
   "id": "faca3f92-76eb-4fe4-a5f4-5c58caa0bc36",
   "metadata": {},
   "source": [
    "<a id='sMAPE'></a>"
   ]
  },
  {
   "cell_type": "markdown",
   "id": "4b893eb0-1d85-47af-9679-f51a754eb8a0",
   "metadata": {},
   "source": [
    "### 2. Подготовка в расчету итоговой sMAPE"
   ]
  },
  {
   "cell_type": "markdown",
   "id": "ee8768a8-1aa9-4926-9f4e-1974746c3284",
   "metadata": {},
   "source": [
    "Напишем функцию для вычисления итоговой sMAPE по формулам\n",
    "$$sMAPE = \\frac{1}{N} \\sum_{i=1}^N \\frac{|{y_i - \\hat{y}_i}|}{\\left( |y_i| + |\\hat{y}_i| \\right) / \\ 2} \\times 100\\% \\ ,$$ \n",
    "    где: \n",
    "   - $y_i$ — значение целевого признака для объекта с порядковым номером i в выборке, на которой измеряется качество;\n",
    "   - $\\hat{y}_i$ — значение предсказания для объекта с порядковым номером i, например, в тестовой выборке;\n",
    "   - $N$ — количество объектов в выборке;\n",
    "   - $\\sum_{i=1}^N$ — суммирование по всем объектам выборки (i меняется от 1 до N).\n",
    "   \n",
    "$$Итоговое \\ sMAPE = 25\\% \\times sMAPE(rougher) + 75\\% \\times sMAPE(final)$$"
   ]
  },
  {
   "cell_type": "code",
   "execution_count": 37,
   "id": "3b839dcb-ea73-45a5-abc3-39019cbc2361",
   "metadata": {},
   "outputs": [],
   "source": [
    "def sMAPE(target_rougher, target_final, predictions_rougher, predictions_final):\n",
    "    y_r_t = target_rougher\n",
    "    y_r_p = predictions_rougher\n",
    "    y_f_t = target_final\n",
    "    y_f_p = predictions_final\n",
    "    n = len(target_rougher)\n",
    "\n",
    "    sMAPE_rougher = 1 / n * (abs(y_r_t - y_r_p) / (abs(y_r_t) + abs(y_r_p)) / 2 ).sum() * 100\n",
    "\n",
    "    sMAPE_final = 1 / n * (abs(y_f_t - y_f_p) / (abs(y_f_t) + abs(y_f_p)) / 2 ).sum() * 100\n",
    "\n",
    "    sMAPE = .25 * sMAPE_rougher + .75 * sMAPE_final\n",
    "    print(f'sMAPE_rougher: {sMAPE_rougher / 100 :.2%}')\n",
    "    print(f'sMAPE_final: {sMAPE_final / 100 :.2%}')\n",
    "    print(''.center(20, '-'))\n",
    "    print(f'sMAPE: {sMAPE / 100 :.2%}')\n",
    "    return sMAPE"
   ]
  },
  {
   "cell_type": "code",
   "execution_count": 38,
   "id": "5d67cf6b",
   "metadata": {},
   "outputs": [],
   "source": [
    "def smape_scorer (target, predictions):\n",
    "    y_t = target\n",
    "    y_p = predictions\n",
    "    n = len(target)\n",
    "\n",
    "    smape = 1 / n * (abs(y_t - y_p) / (abs(y_t) + abs(y_p)) / 2 ).sum() * 100\n",
    "\n",
    "    return smape"
   ]
  },
  {
   "cell_type": "markdown",
   "id": "c5cc791d-1eeb-433e-b440-df4fcf7d5867",
   "metadata": {},
   "source": [
    "[К оглавлению](#contents)"
   ]
  },
  {
   "cell_type": "markdown",
   "id": "4407b378-3526-4bd3-a906-f8de0e34f89b",
   "metadata": {},
   "source": [
    "<a id='model_1'></a>"
   ]
  },
  {
   "cell_type": "markdown",
   "id": "b3613677-c061-4536-9027-bfc0fc787862",
   "metadata": {},
   "source": [
    "### 3. Модель «Дерево решений в регрессии»"
   ]
  },
  {
   "cell_type": "markdown",
   "id": "d3772132-6a05-4bf4-bbb8-cf6b3ae0b779",
   "metadata": {},
   "source": [
    "Применим GridSearchCV для перебора гиперпараметров глубины ветвления и количества разделений блоков"
   ]
  },
  {
   "cell_type": "code",
   "execution_count": 39,
   "id": "15204eb1-d868-4f33-ab1f-7e737726f85e",
   "metadata": {},
   "outputs": [
    {
     "name": "stdout",
     "output_type": "stream",
     "text": [
      "Лучшие параметры: {'max_depth': 3, 'min_samples_split': 2}\n",
      "170 секунд\n",
      "R2 score: -0.000796044215480407\n"
     ]
    }
   ],
   "source": [
    "start_time = time.time()\n",
    "\n",
    "scoring = make_scorer(r2_score)\n",
    "g_cv_r = GridSearchCV(DecisionTreeRegressor(random_state=12345),\n",
    "              param_grid={'min_samples_split': range(2, 10), 'max_depth': range(2, 20)},\n",
    "              scoring=scoring, cv=5, refit=True)\n",
    "\n",
    "g_cv_r.fit(features_rougher_train, target_rougher_train)\n",
    "g_cv_r.best_params_\n",
    "print('Лучшие параметры:', g_cv_r.best_params_)\n",
    "result = g_cv_r.cv_results_\n",
    "\n",
    "print(f'{round(time.time() - start_time)} секунд')\n",
    "\n",
    "print('R2 score:', r2_score(target_rougher_test, g_cv_r.best_estimator_.predict(features_rougher_test)))"
   ]
  },
  {
   "cell_type": "markdown",
   "id": "d1f75fbf-0990-42cb-b7c8-848b5c2e181f",
   "metadata": {},
   "source": [
    "Лучшие параметры: max_depth: 4, min_samples_split: 3"
   ]
  },
  {
   "cell_type": "code",
   "execution_count": 40,
   "id": "e2ee26e5-a860-4733-8841-7b3e5b2b21f0",
   "metadata": {},
   "outputs": [
    {
     "name": "stdout",
     "output_type": "stream",
     "text": [
      "\n",
      "\u001b[4m\u001b[1m\u001b[31mMean cross validation score:\u001b[0m -0.21014063121220433\n"
     ]
    }
   ],
   "source": [
    "model = g_cv_r.best_estimator_\n",
    "model_fit = model.fit(features_rougher_train, target_rougher_train)\n",
    "model_scores = cross_val_score(model_fit, features_rougher_train, target_rougher_train, cv = 5)\n",
    "print('\\n\\033[4m\\033[1m\\033[31m{}\\033[0m {}'.format('Mean cross validation score:', np.mean(model_scores)))"
   ]
  },
  {
   "cell_type": "markdown",
   "id": "0369536a-e875-4b00-b3db-774124e042bb",
   "metadata": {},
   "source": [
    "Mean cross validation score: -0.164"
   ]
  },
  {
   "cell_type": "code",
   "execution_count": null,
   "id": "310c1925-155a-4924-b2f1-cd52d8ee358f",
   "metadata": {},
   "outputs": [],
   "source": [
    "start_time = time.time()\n",
    "\n",
    "scoring = make_scorer(r2_score)\n",
    "g_cv_f = GridSearchCV(DecisionTreeRegressor(random_state=12345),\n",
    "              param_grid={'min_samples_split': range(2, 10), 'max_depth': range(2, 10)},\n",
    "              scoring=scoring, cv=5, refit=True)\n",
    "\n",
    "g_cv_f.fit(features_final_train, target_final_train)\n",
    "g_cv_f.best_params_\n",
    "print('Лучшие параметры:', g_cv_f.best_params_)\n",
    "result = g_cv_f.cv_results_\n",
    "\n",
    "print(f'{round(time.time() - start_time)} секунд')\n",
    "\n",
    "print('R2 score:', r2_score(target_final_test, g_cv_f.best_estimator_.predict(features_final_test)))"
   ]
  },
  {
   "cell_type": "markdown",
   "id": "02121e6f-3541-4af4-bbde-11fb958dded9",
   "metadata": {},
   "source": [
    "Лучшие параметры: max_depth: 3, min_samples_split: 2"
   ]
  },
  {
   "cell_type": "code",
   "execution_count": null,
   "id": "53598a88-eedc-4a0f-a2f1-7bdf63885903",
   "metadata": {},
   "outputs": [],
   "source": [
    "model = g_cv_f.best_estimator_\n",
    "model_fit = model.fit(features_rougher_train, target_rougher_train)\n",
    "model_scores = cross_val_score(model_fit, features_rougher_train, target_rougher_train, cv = 5)\n",
    "print('\\n\\033[4m\\033[1m\\033[31m{}\\033[0m {}'.format('Mean cross validation score:', np.mean(model_scores)))"
   ]
  },
  {
   "cell_type": "markdown",
   "id": "502e8290-0fda-478b-a02a-943f1d6b793e",
   "metadata": {},
   "source": [
    "Mean cross validation score: -0.165"
   ]
  },
  {
   "cell_type": "markdown",
   "id": "87a870ed-7050-4143-9791-a13f0cae83a4",
   "metadata": {},
   "source": [
    "Теперь, используя лучшие параметры, посчитаем sMAPE для модели данного типа"
   ]
  },
  {
   "cell_type": "code",
   "execution_count": null,
   "id": "156f3879-43b8-43f7-8cd4-1993e73247d3",
   "metadata": {},
   "outputs": [],
   "source": [
    "# sMAPE_rougher\n",
    "model = g_cv_r.best_estimator_\n",
    "\n",
    "model.fit(features_rougher_train, target_rougher_train)\n",
    "predictions_rougher = model.predict(features_rougher_test)\n",
    "\n",
    "# sMAPE_final\n",
    "model = g_cv_f.best_estimator_\n",
    "\n",
    "model.fit(features_final_train, target_final_train)\n",
    "predictions_final = model.predict(features_final_test)\n",
    "\n",
    "print('\\n\\033[4m\\033[1m\\033[31m{}\\033[0m'.format('sMAPE для модели «Дерево решений в регрессии»:'))\n",
    "sMAPE(target_rougher_test, target_final_test, predictions_rougher, predictions_final)\n",
    "pass"
   ]
  },
  {
   "cell_type": "markdown",
   "id": "af6ebc44-3de8-40e2-bc60-f1afd962cae3",
   "metadata": {},
   "source": [
    "Cимметричное среднее абсолютное процентное отклонение для модели «Дерево решений в регрессии» при лучших параметрах равняется 2.41%"
   ]
  },
  {
   "cell_type": "markdown",
   "id": "183577ee-d86e-4708-b003-d21e5b17f562",
   "metadata": {},
   "source": [
    "Cимметричное среднее абсолютное процентное отклонение для модели «Дерево решений в регрессии» при лучших параметрах равняется 2.42% при интерполяции пропущенных значений"
   ]
  },
  {
   "cell_type": "markdown",
   "id": "7c65508e",
   "metadata": {},
   "source": [
    "#### **Модель «Дерево решений» через score=smape**"
   ]
  },
  {
   "cell_type": "code",
   "execution_count": 44,
   "id": "f5eb7ac1",
   "metadata": {},
   "outputs": [
    {
     "name": "stdout",
     "output_type": "stream",
     "text": [
      "Лучшие параметры: {'max_depth': 3, 'min_samples_split': 2}\n",
      "147 секунд\n",
      "sMAPE score: 2.22%\n"
     ]
    }
   ],
   "source": [
    "start_time = time.time()\n",
    "\n",
    "scoring = make_scorer(smape_scorer, greater_is_better=False)\n",
    "g_cv_r = GridSearchCV(DecisionTreeRegressor(random_state=12345),\n",
    "              param_grid={'min_samples_split': range(2, 10), 'max_depth': range(2, 20)},\n",
    "              scoring=scoring, cv=5, refit=True)\n",
    "\n",
    "g_cv_r.fit(features_rougher_train, target_rougher_train)\n",
    "g_cv_r.best_params_\n",
    "print('Лучшие параметры:', g_cv_r.best_params_)\n",
    "result = g_cv_r.cv_results_\n",
    "\n",
    "print(f'{round(time.time() - start_time)} секунд')\n",
    "\n",
    "smape_rougher = round(smape_scorer(target_rougher_test, g_cv_r.best_estimator_.predict(features_rougher_test)), 2)\n",
    "\n",
    "print(f'sMAPE score: {smape_rougher}%')"
   ]
  },
  {
   "cell_type": "code",
   "execution_count": 45,
   "id": "d4ed4139",
   "metadata": {},
   "outputs": [
    {
     "name": "stdout",
     "output_type": "stream",
     "text": [
      "Лучшие параметры: {'max_depth': 2, 'min_samples_split': 2}\n",
      "371 секунд\n",
      "sMAPE score: 2.48%\n"
     ]
    }
   ],
   "source": [
    "start_time = time.time()\n",
    "\n",
    "scoring = make_scorer(smape_scorer, greater_is_better=False)\n",
    "g_cv_f = GridSearchCV(DecisionTreeRegressor(random_state=12345),\n",
    "              param_grid={'min_samples_split': range(2, 10), 'max_depth': range(2, 20)},\n",
    "              scoring=scoring, cv=5, refit=True)\n",
    "\n",
    "g_cv_f.fit(features_final_train, target_final_train)\n",
    "g_cv_f.best_params_\n",
    "print('Лучшие параметры:', g_cv_f.best_params_)\n",
    "result = g_cv_f.cv_results_\n",
    "\n",
    "print(f'{round(time.time() - start_time)} секунд')\n",
    "\n",
    "smape_final = round(smape_scorer(target_final_test, g_cv_f.best_estimator_.predict(features_final_test)), 2)\n",
    "\n",
    "print(f'sMAPE score: {smape_final}%')"
   ]
  },
  {
   "cell_type": "code",
   "execution_count": 46,
   "id": "6902cac8",
   "metadata": {},
   "outputs": [
    {
     "name": "stdout",
     "output_type": "stream",
     "text": [
      "sMAPE_rougher: 2.22%\n",
      "sMAPE_final: 2.48%\n",
      "--------------------\n",
      "sMAPE: 2.42%\n"
     ]
    }
   ],
   "source": [
    "total_smape = .25 * smape_rougher + .75 * smape_final\n",
    "print(f'sMAPE_rougher: {smape_rougher / 100 :.2%}')\n",
    "print(f'sMAPE_final: {smape_final / 100 :.2%}')\n",
    "print(''.center(20, '-'))\n",
    "print(f'sMAPE: {total_smape / 100 :.2%}')"
   ]
  },
  {
   "cell_type": "markdown",
   "id": "c935d25e-cd0c-4b6c-9ef8-130aa8c787ae",
   "metadata": {},
   "source": [
    "[К оглавлению](#contents)"
   ]
  },
  {
   "cell_type": "markdown",
   "id": "2115ea61-083b-4702-97f7-ddf1969d089f",
   "metadata": {},
   "source": [
    "<a id='model_2'></a>"
   ]
  },
  {
   "cell_type": "markdown",
   "id": "b401d8cc-c2bc-400a-9851-d19c3bd2bf5c",
   "metadata": {},
   "source": [
    "### 4. Модель «Случайный лес в регрессии»"
   ]
  },
  {
   "cell_type": "markdown",
   "id": "ac2243a7-3573-4b17-a6f4-4b05d28419bb",
   "metadata": {},
   "source": [
    "Аналогично модели «Дерево решений в регрессии» прибегнем к GridSearchCV"
   ]
  },
  {
   "cell_type": "code",
   "execution_count": 47,
   "id": "03d6c81c-40f9-4983-9dd3-0219ed7d857f",
   "metadata": {},
   "outputs": [
    {
     "name": "stdout",
     "output_type": "stream",
     "text": [
      "Лучшие параметры: {'max_depth': 4, 'min_samples_split': 2, 'n_estimators': 5}\n",
      "375 секунд\n",
      "R2 score: 0.025172788586508954\n"
     ]
    }
   ],
   "source": [
    "start_time = time.time()\n",
    "\n",
    "scoring = make_scorer(r2_score)\n",
    "g_cv_r = GridSearchCV(RandomForestRegressor(random_state=12345),\n",
    "              param_grid={'min_samples_split': range(2, 10), 'n_estimators': range (2, 6), 'max_depth': range(2, 10)},\n",
    "              scoring=scoring, cv=5, refit=True)\n",
    "\n",
    "g_cv_r.fit(features_rougher_train, target_rougher_train)\n",
    "g_cv_r.best_params_\n",
    "print('Лучшие параметры:', g_cv_r.best_params_)\n",
    "result = g_cv_r.cv_results_\n",
    "\n",
    "print(f'{round(time.time() - start_time)} секунд')\n",
    "\n",
    "print('R2 score:', r2_score(target_rougher_test, g_cv_r.best_estimator_.predict(features_rougher_test)))"
   ]
  },
  {
   "cell_type": "markdown",
   "id": "ee8034bd-7395-44f4-8ee3-5372a775aeef",
   "metadata": {},
   "source": [
    "Лучшие параметры: max_depth: 5, min_samples_split: 2, n_estimators: 4"
   ]
  },
  {
   "cell_type": "code",
   "execution_count": 48,
   "id": "d9118482-9257-4a08-acbd-7ba4dcf33f8b",
   "metadata": {},
   "outputs": [
    {
     "name": "stdout",
     "output_type": "stream",
     "text": [
      "\n",
      "\u001b[4m\u001b[1m\u001b[31mMean cross validation score:\u001b[0m -0.05574138058256346\n"
     ]
    }
   ],
   "source": [
    "model = g_cv_r.best_estimator_\n",
    "model_fit = model.fit(features_rougher_train, target_rougher_train)\n",
    "model_scores = cross_val_score(model_fit, features_rougher_train, target_rougher_train, cv = 5)\n",
    "print('\\n\\033[4m\\033[1m\\033[31m{}\\033[0m {}'.format('Mean cross validation score:', np.mean(model_scores)))"
   ]
  },
  {
   "cell_type": "markdown",
   "id": "2cb5c48d-a3dc-4e1f-8450-1b051dc2cdd5",
   "metadata": {},
   "source": [
    "Mean cross validation score: -0.057"
   ]
  },
  {
   "cell_type": "code",
   "execution_count": 49,
   "id": "8d3163b3-8851-409b-9687-7a69992b2040",
   "metadata": {},
   "outputs": [
    {
     "name": "stdout",
     "output_type": "stream",
     "text": [
      "Лучшие параметры: {'max_depth': 5, 'min_samples_split': 2, 'n_estimators': 3}\n",
      "815 секунд\n",
      "R2 score: -0.0003018627211368585\n"
     ]
    }
   ],
   "source": [
    "start_time = time.time()\n",
    "\n",
    "scoring = make_scorer(r2_score)\n",
    "g_cv_f = GridSearchCV(RandomForestRegressor(random_state=12345),\n",
    "              param_grid={'min_samples_split': range(2, 10), 'n_estimators': range (2, 6), 'max_depth': range(2, 10)},\n",
    "              scoring=scoring, cv=5, refit=True)\n",
    "\n",
    "g_cv_f.fit(features_final_train, target_final_train)\n",
    "g_cv_f.best_params_\n",
    "print('Лучшие параметры:', g_cv_f.best_params_)\n",
    "result = g_cv_f.cv_results_\n",
    "\n",
    "print(f'{round(time.time() - start_time)} секунд')\n",
    "\n",
    "print('R2 score:', r2_score(target_final_test, g_cv_f.best_estimator_.predict(features_final_test)))"
   ]
  },
  {
   "cell_type": "markdown",
   "id": "c2bfafdf-1b92-4f60-9d98-1f154ee83443",
   "metadata": {},
   "source": [
    "Лучшие параметры: max_depth: 5, min_samples_split: 6, n_estimators: 5"
   ]
  },
  {
   "cell_type": "code",
   "execution_count": 50,
   "id": "c012e1e8-f4bc-4ec4-982f-ab0b8ca7f03e",
   "metadata": {},
   "outputs": [
    {
     "name": "stdout",
     "output_type": "stream",
     "text": [
      "\n",
      "\u001b[4m\u001b[1m\u001b[31mMean cross validation score:\u001b[0m -0.1324391222233671\n"
     ]
    }
   ],
   "source": [
    "model = g_cv_f.best_estimator_\n",
    "model_fit = model.fit(features_rougher_train, target_rougher_train)\n",
    "model_scores = cross_val_score(model_fit, features_rougher_train, target_rougher_train, cv = 5)\n",
    "print('\\n\\033[4m\\033[1m\\033[31m{}\\033[0m {}'.format('Mean cross validation score:', np.mean(model_scores)))"
   ]
  },
  {
   "cell_type": "markdown",
   "id": "6bd71b15-d53c-4ddc-849f-1305485e0a1e",
   "metadata": {},
   "source": [
    "Mean cross validation score: -0.094"
   ]
  },
  {
   "cell_type": "markdown",
   "id": "b7b133e0-11b7-4183-a583-2808e210cea4",
   "metadata": {},
   "source": [
    "Теперь, используя лучшие параметры, посчитаем sMAPE для модели данного типа"
   ]
  },
  {
   "cell_type": "code",
   "execution_count": 51,
   "id": "806feb18-1ba3-4a6f-a043-e2d0ba6e85dc",
   "metadata": {},
   "outputs": [
    {
     "name": "stdout",
     "output_type": "stream",
     "text": [
      "\n",
      "\u001b[4m\u001b[1m\u001b[31msMAPE для модели «Дерево решений в регрессии»:\u001b[0m\n",
      "sMAPE_rougher: 2.15%\n",
      "sMAPE_final: 2.50%\n",
      "--------------------\n",
      "sMAPE: 2.41%\n"
     ]
    }
   ],
   "source": [
    "# sMAPE_rougher\n",
    "model = g_cv_r.best_estimator_\n",
    "\n",
    "model.fit(features_rougher_train, target_rougher_train)\n",
    "predictions_rougher = model.predict(features_rougher_test)\n",
    "\n",
    "# sMAPE_final\n",
    "model = g_cv_f.best_estimator_\n",
    "\n",
    "model.fit(features_final_train, target_final_train)\n",
    "predictions_final = model.predict(features_final_test)\n",
    "\n",
    "print('\\n\\033[4m\\033[1m\\033[31m{}\\033[0m'.format('sMAPE для модели «Дерево решений в регрессии»:'))\n",
    "sMAPE(target_rougher_test, target_final_test, predictions_rougher, predictions_final)\n",
    "pass"
   ]
  },
  {
   "cell_type": "markdown",
   "id": "946d7690-df78-4672-b93a-cc03635970c1",
   "metadata": {},
   "source": [
    "Cимметричное среднее абсолютное процентное отклонение для модели «Случайный лес в регрессии» при лучших параметрах равняется 2.40%"
   ]
  },
  {
   "cell_type": "markdown",
   "id": "a1b3dd21-80f6-4196-aecf-94f1b4ccac93",
   "metadata": {},
   "source": [
    "Cимметричное среднее абсолютное процентное отклонение для модели «Случайный лес в регрессии» при лучших параметрах равняется 2.41% при интерполяции пропущенных значений"
   ]
  },
  {
   "cell_type": "markdown",
   "id": "ec859734",
   "metadata": {},
   "source": [
    "#### **Подбор гиперпараметров через Hyperopt**"
   ]
  },
  {
   "cell_type": "code",
   "execution_count": 70,
   "id": "bf530ec8",
   "metadata": {},
   "outputs": [],
   "source": [
    "space = {'max_depth': hp.quniform('max_depth', 2, 40, 2),\n",
    "        'min_samples_split' : hp.uniform ('min_samples_split', 0, 1),\n",
    "        'n_estimators' : hp.choice ('n_estimators', range(2, 20))\n",
    "    }\n",
    "\n",
    "def best_par_hyperopt(features_train, target_train,features_test, target_test):\n",
    "    \n",
    "    def objective(space):\n",
    "        \n",
    "        model_opt = RandomForestRegressor(random_state=12345, \n",
    "                                      max_depth = space['max_depth'], \n",
    "                                      min_samples_split = space['min_samples_split'],\n",
    "                                      n_estimators = space['n_estimators']\n",
    "                                     )\n",
    "    \n",
    "        model_opt.fit(features_train, target_train)\n",
    "        predictions = model_opt.predict(features_test)\n",
    "    \n",
    "        smape = round(smape_scorer(target_test, predictions), 2)\n",
    "\n",
    "        return {'loss': smape, 'status': STATUS_OK }\n",
    "    \n",
    "    trials = Trials()\n",
    "    best = fmin(fn= objective,\n",
    "            space= space,\n",
    "            algo= tpe.suggest,\n",
    "            max_evals = 100,\n",
    "            trials= trials)\n",
    "    \n",
    "    print(best)\n",
    "    \n",
    "    best_model = (RandomForestRegressor(random_state=12345, \n",
    "                                        max_depth = best['max_depth'], \n",
    "                                        min_samples_split = best['min_samples_split'],\n",
    "                                        n_estimators = best['n_estimators']\n",
    "                                       )\n",
    "                  .fit(features_train, target_train))\n",
    "\n",
    "    predictions = best_model.predict(features_test)\n",
    "    \n",
    "    return best, predictions"
   ]
  },
  {
   "cell_type": "code",
   "execution_count": 71,
   "id": "ae0739bc",
   "metadata": {},
   "outputs": [
    {
     "name": "stdout",
     "output_type": "stream",
     "text": [
      "(13725, 22)\n",
      "(13725,)\n",
      "(5290, 22)\n",
      "(5290,)\n"
     ]
    }
   ],
   "source": [
    "for sample in [features_rougher_train, target_rougher_train, features_rougher_test, target_rougher_test]:\n",
    "    print(sample.shape)"
   ]
  },
  {
   "cell_type": "code",
   "execution_count": 72,
   "id": "424aeb9e",
   "metadata": {},
   "outputs": [
    {
     "name": "stdout",
     "output_type": "stream",
     "text": [
      "100%|██████████| 100/100 [01:06<00:00,  1.50trial/s, best loss: 2.02]\n",
      "{'max_depth': 20.0, 'min_samples_split': 0.028920595642631913, 'n_estimators': 12}\n"
     ]
    }
   ],
   "source": [
    "best_rougher, predictions_rougher = best_par_hyperopt(features_rougher_train, target_rougher_train, \n",
    "                                        features_rougher_test, target_rougher_test)"
   ]
  },
  {
   "cell_type": "code",
   "execution_count": 73,
   "id": "4db94a2a",
   "metadata": {},
   "outputs": [
    {
     "data": {
      "text/plain": [
       "(5290,)"
      ]
     },
     "execution_count": 73,
     "metadata": {},
     "output_type": "execute_result"
    }
   ],
   "source": [
    "predictions_rougher.shape"
   ]
  },
  {
   "cell_type": "code",
   "execution_count": 74,
   "id": "eb390ce0",
   "metadata": {},
   "outputs": [
    {
     "name": "stdout",
     "output_type": "stream",
     "text": [
      "100%|██████████| 100/100 [01:43<00:00,  1.04s/trial, best loss: 2.31]\n",
      "{'max_depth': 26.0, 'min_samples_split': 0.38758323984676146, 'n_estimators': 1}\n"
     ]
    }
   ],
   "source": [
    "best_final, predictions_final = best_par_hyperopt(features_final_train, target_final_train, \n",
    "                                        features_final_test, target_final_test)"
   ]
  },
  {
   "cell_type": "code",
   "execution_count": 75,
   "id": "104031b3",
   "metadata": {},
   "outputs": [
    {
     "name": "stdout",
     "output_type": "stream",
     "text": [
      "\n",
      "\u001b[4m\u001b[1m\u001b[31msMAPE для модели «Случайный лес» через Hyperopt:\u001b[0m\n",
      "sMAPE_rougher: 2.04%\n",
      "sMAPE_final: 2.33%\n",
      "--------------------\n",
      "sMAPE: 2.26%\n"
     ]
    }
   ],
   "source": [
    "print('\\n\\033[4m\\033[1m\\033[31m{}\\033[0m'.format('sMAPE для модели «Случайный лес» через Hyperopt:'))\n",
    "sMAPE(target_rougher_test, target_final_test, predictions_rougher, predictions_final)\n",
    "pass"
   ]
  },
  {
   "cell_type": "markdown",
   "id": "7317d6f4-7652-476a-a64c-3b9a118597c9",
   "metadata": {},
   "source": [
    "[К оглавлению](#contents)"
   ]
  },
  {
   "cell_type": "markdown",
   "id": "cd4a26a5-4f67-4146-af8f-e07db09e115e",
   "metadata": {},
   "source": [
    "<a id='model_3'></a>"
   ]
  },
  {
   "cell_type": "markdown",
   "id": "e768421c-4cde-4c51-9e23-5e0a4f4fa9df",
   "metadata": {
    "tags": []
   },
   "source": [
    "### 5. Модель «Линейная регрессия»"
   ]
  },
  {
   "cell_type": "code",
   "execution_count": 76,
   "id": "71ef075b-0aaa-4449-ab73-37fcf0d7d3e0",
   "metadata": {},
   "outputs": [
    {
     "name": "stdout",
     "output_type": "stream",
     "text": [
      "R2 score: -0.02359983949613449\n",
      "MAE score: -5.2904793014475615\n",
      "R2 score: -0.15953853888456007\n",
      "MAE score: -7.0430444429870676\n",
      "\n",
      "\u001b[4m\u001b[1m\u001b[31msMAPE для модели «Линейная регрессия»:\u001b[0m\n",
      "sMAPE_rougher: 2.05%\n",
      "sMAPE_final: 2.42%\n",
      "--------------------\n",
      "sMAPE: 2.33%\n"
     ]
    }
   ],
   "source": [
    "# rougher\n",
    "\n",
    "model = LinearRegression()\n",
    "print('R2 score:', cross_val_score(model, features_rougher_train, target_rougher_train, cv=5).mean())\n",
    "print('MAE score:', cross_val_score(model, features_rougher_train, target_rougher_train, cv=5, scoring='neg_mean_absolute_error').mean())\n",
    "\n",
    "model.fit(features_rougher_train, target_rougher_train)\n",
    "predictions_rougher = model.predict(features_rougher_test)\n",
    "\n",
    "# final\n",
    "\n",
    "model = LinearRegression()\n",
    "print('R2 score:', cross_val_score(model, features_final_train, target_final_train, cv=5).mean())\n",
    "print('MAE score:', cross_val_score(model, features_final_train, target_final_train, cv=5, scoring='neg_mean_absolute_error').mean())\n",
    "\n",
    "model.fit(features_final_train, target_final_train)\n",
    "predictions_final = model.predict(features_final_test)\n",
    "\n",
    "print('\\n\\033[4m\\033[1m\\033[31m{}\\033[0m'.format('sMAPE для модели «Линейная регрессия»:'))\n",
    "sMAPE(target_rougher_test, target_final_test, predictions_rougher, predictions_final)\n",
    "pass"
   ]
  },
  {
   "cell_type": "markdown",
   "id": "37b4bc72-ce23-4ea5-a0f9-3df541644551",
   "metadata": {},
   "source": [
    "Cимметричное среднее абсолютное процентное отклонение для модели «Случайный лес в регрессии» при лучших параметрах равняется 2,31%"
   ]
  },
  {
   "cell_type": "markdown",
   "id": "35fa71c0-fae0-4685-9445-399ad84549d7",
   "metadata": {},
   "source": [
    "sMAPE при интерполяции пропущенных значений равняется 2.33%"
   ]
  },
  {
   "cell_type": "markdown",
   "id": "cc0ecf8e-4d0e-4305-bced-07c88df639a8",
   "metadata": {},
   "source": [
    "[К оглавлению](#contents)"
   ]
  },
  {
   "cell_type": "markdown",
   "id": "c951fe58",
   "metadata": {},
   "source": [
    "### 6. **Модель XGBoost**"
   ]
  },
  {
   "cell_type": "markdown",
   "id": "a6809422",
   "metadata": {},
   "source": [
    "#### **Встроенный интерфейс XGBoost**"
   ]
  },
  {
   "cell_type": "markdown",
   "id": "34a0427a",
   "metadata": {},
   "source": [
    "Зададим основные параметры"
   ]
  },
  {
   "cell_type": "code",
   "execution_count": null,
   "id": "7cc5f5a8",
   "metadata": {},
   "outputs": [],
   "source": [
    "params = {\n",
    "    'booster': 'gbtree',\n",
    "    'objective': 'reg:gamma',\n",
    "    'gamma': 0.1,\n",
    "    'max_depth': 5,\n",
    "    'lambda': 3,\n",
    "    'subsample': 0.7,\n",
    "    'colsample_bytree': 0.7,\n",
    "    'min_child_weight': 3,\n",
    "    'eta': 0.1,\n",
    "    'seed': 1000,\n",
    "    'nthread': 4,\n",
    "}\n",
    "\n",
    "num_rounds = 100"
   ]
  },
  {
   "cell_type": "code",
   "execution_count": null,
   "id": "620ce536",
   "metadata": {},
   "outputs": [],
   "source": [
    "# rougher\n",
    "dtrain_rougher = xgb.DMatrix(features_rougher_train, target_rougher_train)\n",
    "dtest_rougher = xgb.DMatrix(features_rougher_test)\n",
    "\n",
    "# final\n",
    "dtrain_final = xgb.DMatrix(features_final_train, target_final_train)\n",
    "dtest_final = xgb.DMatrix(features_final_test)"
   ]
  },
  {
   "cell_type": "code",
   "execution_count": null,
   "id": "8fd14e39",
   "metadata": {},
   "outputs": [],
   "source": [
    "model = xgb.train(params, dtrain_rougher, num_rounds)\n",
    "predictions_rougher = model.predict(dtest_rougher)\n",
    "\n",
    "\n",
    "model = xgb.train(params, dtrain_final, num_rounds)\n",
    "predictions_final = model.predict(dtest_final)"
   ]
  },
  {
   "cell_type": "code",
   "execution_count": null,
   "id": "56877c3c",
   "metadata": {},
   "outputs": [],
   "source": [
    "print('\\n\\033[4m\\033[1m\\033[31m{}\\033[0m'.format('sMAPE для модели «XGBoost»:'))\n",
    "sMAPE(target_rougher_test, target_final_test, predictions_rougher, predictions_final)\n",
    "pass"
   ]
  },
  {
   "cell_type": "markdown",
   "id": "b1aeb355",
   "metadata": {},
   "source": [
    "Неплохое симметричное среднее абсолютное процентное отклонение для модели без ее тонкой настройки"
   ]
  },
  {
   "cell_type": "markdown",
   "id": "20473c1b",
   "metadata": {},
   "source": [
    "#### **Через интерфейс Scikit-learn**"
   ]
  },
  {
   "cell_type": "code",
   "execution_count": null,
   "id": "022b071b",
   "metadata": {},
   "outputs": [],
   "source": [
    "# rougher\n",
    "model_r = xgb.XGBRegressor(max_depth=5, learning_rate=0.1, n_estimators=160, objective='reg:gamma')\n",
    "\n",
    "model_r.fit(features_rougher_train, target_rougher_train)\n",
    "predictions_rougher = model_r.predict(features_rougher_test)\n",
    "\n",
    "# final\n",
    "model_f = xgb.XGBRegressor(max_depth=5, learning_rate=0.1, n_estimators=160, objective='reg:gamma')\n",
    "\n",
    "model_f.fit(features_final_train, target_final_train)\n",
    "predictions_final = model_f.predict(features_final_test)"
   ]
  },
  {
   "cell_type": "code",
   "execution_count": null,
   "id": "2c77f080",
   "metadata": {},
   "outputs": [],
   "source": [
    "print('\\n\\033[4m\\033[1m\\033[31m{}\\033[0m'.format('sMAPE для модели «XGBoost»:'))\n",
    "sMAPE(target_rougher_test, target_final_test, predictions_rougher, predictions_final)\n",
    "pass"
   ]
  },
  {
   "cell_type": "markdown",
   "id": "040941da-4d49-44ac-bdf2-93d696378c9c",
   "metadata": {},
   "source": [
    "<a id='dummy_model'></a>"
   ]
  },
  {
   "cell_type": "markdown",
   "id": "f5508932-705d-4132-9ba4-15454606d645",
   "metadata": {},
   "source": [
    "### 7. Проверка на адекватность"
   ]
  },
  {
   "cell_type": "markdown",
   "id": "319382bf-567d-4afe-bd24-4137a32a6acd",
   "metadata": {},
   "source": [
    "Сравним нашу лучшую модель со случайными результатами, которые игнорируют правило входных данных. И если модель ведет себя лучше, то значит она может извлекать какой-то сигнал из данных и имеет предсказательную силу. Для этого воспользуемся `sklearn.dummy.DummyRegressor`"
   ]
  },
  {
   "cell_type": "code",
   "execution_count": null,
   "id": "ef32bb96-eb82-4a58-8c33-6ee4b3cb8214",
   "metadata": {},
   "outputs": [],
   "source": [
    "dummy_rgr = DummyRegressor(strategy='median') \n",
    "dummy_rgr.fit(features_rougher_test, target_rougher_test)\n",
    "predictions_rougher = dummy_rgr.predict(features_rougher_test)\n",
    "\n",
    "\n",
    "dummy_rgr = DummyRegressor(strategy='median')\n",
    "dummy_rgr.fit(features_final_test, target_final_test)\n",
    "predictions_final = dummy_rgr.predict(features_final_test)\n",
    "\n",
    "print('\\n\\033[4m\\033[1m\\033[31m{}\\033[0m'.format('sMAPE для модели «Dummy Regressor»:'))\n",
    "sMAPE(target_rougher_test, target_final_test, predictions_rougher, predictions_final)\n",
    "pass\n",
    "\n",
    "print('R2 score constant model:', r2_score(target_final_test, predictions_final))\n",
    "print('MAE constant model:', mean_absolute_error(target_final_test, predictions_final))"
   ]
  },
  {
   "cell_type": "markdown",
   "id": "fc2763e7-942c-4f9f-8831-ca5da2946c23",
   "metadata": {},
   "source": [
    "Cимметричное среднее абсолютное процентное отклонение для модели случайных значений, построенных на медианных значениях равняется 2,22%, R2 score: -0.02, MAE: 5.66"
   ]
  },
  {
   "cell_type": "markdown",
   "id": "9d8aa037-d4ef-4533-9535-bd284ffe1996",
   "metadata": {},
   "source": [
    "при интерполяции пропущенных значений для Dummy те же значения."
   ]
  },
  {
   "cell_type": "code",
   "execution_count": null,
   "id": "946f4620-6e6d-469a-9ace-092b88d62c48",
   "metadata": {},
   "outputs": [],
   "source": [
    "model = RandomForestRegressor(random_state=12345, min_samples_split=2, n_estimators=3, max_depth=5)\n",
    "model.fit(features_final_train, target_final_train)\n",
    "predictions = model.predict(features_final_test)\n",
    "\n",
    "print('R2 score:', r2_score(target_final_test, predictions))\n",
    "print('MAE constant model:', mean_absolute_error(target_final_test, predictions))"
   ]
  },
  {
   "cell_type": "code",
   "execution_count": null,
   "id": "90bbaed8",
   "metadata": {},
   "outputs": [],
   "source": [
    "model = LinearRegression()\n",
    "model.fit(features_final_train, target_final_train)\n",
    "predictions = model.predict(features_final_test)\n",
    "\n",
    "print('R2 score:', r2_score(target_final_test, predictions))\n",
    "print('MAE constant model:', mean_absolute_error(target_final_test, predictions))"
   ]
  },
  {
   "cell_type": "markdown",
   "id": "fa87e601-965f-4e18-b30c-634bae805ff0",
   "metadata": {},
   "source": [
    "<a id='models_summary'></a>"
   ]
  },
  {
   "cell_type": "markdown",
   "id": "62b27933-e6ab-4d2f-9f16-5322379ba2c4",
   "metadata": {},
   "source": [
    "### Выводы\n",
    "\n",
    "По итогу создания различных моделей:\n",
    "- у модели, построенной на основе алгоритма «Случайный лес» (при параметрах `max_depth: 5`, `min_samples_split: 6`, `n_estimators: 5` и `max_depth: 5`, `min_samples_split: 2`, `n_estimators: 3` при интерполяции) наблюдаются лучшие показатели качества предсказания \n",
    "    - `sMAPE 2,4%` при заполнении предыдущим | `2,41%` при интерполяции пропущенных значений\n",
    "    - `R2 score: 0.009` при заполнении предыдущим | `-0.03` при интерполяции пропущенных значений\n",
    "    - `MAE: 6.06` при заполнении предыдущим | `6.01` при интерполяции пропущенных значений\n",
    "\n",
    "- у модели, построенной на основе алгоритма «Случайный лес» при помощи анйденных гиперпараметров методом Hyperopt\n",
    "    - `sMAPE 2,33%` при интерполяции пропущенных значений\n",
    "\n",
    "- у модели, построенной на основе алгоритма «Линейная регрессия» наблюдаются лучшие показатели качества предсказания \n",
    "    - `sMAPE 2,7%` при заполнении предыдущим | `2,33%` при интерполяции пропущенных значений\n",
    "    - `R2 score: -0.017` при заполнении предыдущим | `-0.0003` при интерполяции пропущенных значений\n",
    "    - `MAE: 6.32` при заполнении предыдущим | `6.06` при интерполяции пропущенных значений\n",
    "\n",
    "- у модели, построенной на основе алгоритма «XGBoost» самые лучшие показатели среди других моделей, при том что гиперпараметры для этой модели не подбирались\n",
    "    - `sMAPE 2.32%` при интерполяции пропущенных значений\n",
    "\n",
    "- однако у модели, подставляющей рандомные значения, построенных на медианных значениях, показатели оказываются лучше:\n",
    "    - `sMAPE 2,22%` | `2,22%` при интерполяции пропущенных значений\n",
    "    - `R2 score: -0.02` | `-0.02` при интерполяции пропущенных значений\n",
    "    - `MAE: 5.66` | `5.66` при интерполяции пропущенных значений\n",
    "    \n",
    "Эти различия не столь масштабны и скорее всего связаны с наличием выбросов, от которых мы не смогли почистить исходные данные полностью, а также близость основного объема значений между собой сыграло в пользу медианной константной модели, не подверженной влиянию выбросов так сильно. "
   ]
  },
  {
   "cell_type": "markdown",
   "id": "5fb1adcd-873d-42b9-bd77-7d32227a4abe",
   "metadata": {},
   "source": [
    "[К оглавлению](#contents)"
   ]
  },
  {
   "cell_type": "markdown",
   "id": "575bea9f-25e6-434c-b904-459bea1ba472",
   "metadata": {},
   "source": [
    "<a id='summary'></a>"
   ]
  },
  {
   "cell_type": "markdown",
   "id": "4bbcc0c7-0cce-421a-be8e-521b73a206c8",
   "metadata": {},
   "source": [
    "## **IV. Итоги исследования**"
   ]
  },
  {
   "cell_type": "markdown",
   "id": "1662cf7f-bc4c-4701-b590-80602d1e9d29",
   "metadata": {},
   "source": [
    "На основании предоставленных данных мы создали несколько моделей для определения предполагаемой степени обогащения золота на двух стадиях: после флотации и в конце технологического процесса по заданным признакам, проанализировали данные и выявили поведение элементов Au, Ag и Pb в сырье/концентрате в ходе очистки, посмотрели на размеры частиц до флотации и после. Лучшей моделью на основании данных (среди трех рассмотренных типов) для прогнозирования является алгоритм «XGBoost» (при интерполяции данных для заполнения пропущенных значений в выбоках, масштабировании признаков)."
   ]
  },
  {
   "cell_type": "markdown",
   "id": "cce722a8-b90f-407b-914b-abca91c1228e",
   "metadata": {},
   "source": [
    "[К оглавлению](#contents)"
   ]
  }
 ],
 "metadata": {
  "ExecuteTimeLog": [
   {
    "duration": 1484,
    "start_time": "2022-05-10T11:31:23.481Z"
   },
   {
    "duration": 106,
    "start_time": "2022-05-10T11:31:33.724Z"
   },
   {
    "duration": 2,
    "start_time": "2022-05-10T11:33:17.222Z"
   },
   {
    "duration": 108,
    "start_time": "2022-05-10T11:33:27.770Z"
   },
   {
    "duration": 1407,
    "start_time": "2022-05-18T09:29:17.018Z"
   },
   {
    "duration": 736,
    "start_time": "2022-05-18T09:29:18.427Z"
   },
   {
    "duration": 3,
    "start_time": "2022-05-18T09:29:19.165Z"
   },
   {
    "duration": 86,
    "start_time": "2022-05-18T09:29:19.171Z"
   },
   {
    "duration": 78,
    "start_time": "2022-05-18T09:29:19.258Z"
   },
   {
    "duration": 321,
    "start_time": "2022-05-18T09:29:19.338Z"
   },
   {
    "duration": 43,
    "start_time": "2022-05-18T09:29:19.661Z"
   },
   {
    "duration": 108,
    "start_time": "2022-05-18T09:29:19.723Z"
   },
   {
    "duration": 6,
    "start_time": "2022-05-18T09:29:19.833Z"
   },
   {
    "duration": 4,
    "start_time": "2022-05-18T09:29:19.841Z"
   },
   {
    "duration": 6,
    "start_time": "2022-05-18T09:29:19.847Z"
   },
   {
    "duration": 16,
    "start_time": "2022-05-18T09:29:19.855Z"
   },
   {
    "duration": 50,
    "start_time": "2022-05-18T09:29:19.873Z"
   },
   {
    "duration": 25,
    "start_time": "2022-05-18T09:29:19.925Z"
   },
   {
    "duration": 337,
    "start_time": "2022-05-18T09:29:19.952Z"
   },
   {
    "duration": 34,
    "start_time": "2022-05-18T09:29:20.291Z"
   },
   {
    "duration": 22,
    "start_time": "2022-05-18T09:29:20.327Z"
   },
   {
    "duration": 11,
    "start_time": "2022-05-18T09:29:20.351Z"
   },
   {
    "duration": 15,
    "start_time": "2022-05-18T09:29:20.363Z"
   },
   {
    "duration": 1990,
    "start_time": "2022-05-18T09:29:20.380Z"
   },
   {
    "duration": 11,
    "start_time": "2022-05-18T09:29:22.372Z"
   },
   {
    "duration": 20,
    "start_time": "2022-05-18T09:29:22.384Z"
   },
   {
    "duration": 1222,
    "start_time": "2022-05-18T09:29:22.406Z"
   },
   {
    "duration": 235,
    "start_time": "2022-05-18T09:29:23.629Z"
   },
   {
    "duration": 544,
    "start_time": "2022-05-18T09:29:23.866Z"
   },
   {
    "duration": 228,
    "start_time": "2022-05-18T09:29:24.411Z"
   },
   {
    "duration": 16,
    "start_time": "2022-05-18T09:29:24.640Z"
   },
   {
    "duration": 41,
    "start_time": "2022-05-18T09:29:24.659Z"
   },
   {
    "duration": 23,
    "start_time": "2022-05-18T09:29:24.702Z"
   },
   {
    "duration": 5,
    "start_time": "2022-05-18T09:29:24.727Z"
   },
   {
    "duration": 156773,
    "start_time": "2022-05-18T09:29:24.733Z"
   },
   {
    "duration": 651,
    "start_time": "2022-05-18T09:32:01.507Z"
   },
   {
    "duration": 112892,
    "start_time": "2022-05-18T09:32:02.159Z"
   },
   {
    "duration": 975,
    "start_time": "2022-05-18T09:33:55.052Z"
   },
   {
    "duration": 350,
    "start_time": "2022-05-18T09:33:56.032Z"
   },
   {
    "duration": 391418,
    "start_time": "2022-05-18T09:33:56.383Z"
   },
   {
    "duration": 1907,
    "start_time": "2022-05-18T09:40:27.803Z"
   },
   {
    "duration": 881067,
    "start_time": "2022-05-18T09:40:29.711Z"
   },
   {
    "duration": 2431,
    "start_time": "2022-05-18T09:55:10.780Z"
   },
   {
    "duration": 1525,
    "start_time": "2022-05-18T09:55:13.213Z"
   },
   {
    "duration": 5903,
    "start_time": "2022-05-18T09:55:14.739Z"
   },
   {
    "duration": 87,
    "start_time": "2022-05-18T09:55:20.645Z"
   },
   {
    "duration": 1200,
    "start_time": "2022-05-18T09:55:20.734Z"
   },
   {
    "duration": 201,
    "start_time": "2022-05-18T10:22:15.122Z"
   },
   {
    "duration": 3,
    "start_time": "2022-05-18T10:22:37.841Z"
   },
   {
    "duration": 38,
    "start_time": "2022-05-18T10:22:45.857Z"
   },
   {
    "duration": 69,
    "start_time": "2022-05-18T10:23:05.948Z"
   },
   {
    "duration": 22,
    "start_time": "2022-05-18T10:23:32.752Z"
   },
   {
    "duration": 1979,
    "start_time": "2022-05-18T16:20:30.678Z"
   },
   {
    "duration": 4000,
    "start_time": "2022-05-18T16:20:41.695Z"
   },
   {
    "duration": 4,
    "start_time": "2022-05-18T16:20:46.526Z"
   },
   {
    "duration": 79,
    "start_time": "2022-05-18T16:20:47.609Z"
   },
   {
    "duration": 88,
    "start_time": "2022-05-18T16:20:53.176Z"
   },
   {
    "duration": 37,
    "start_time": "2022-05-18T16:35:12.788Z"
   },
   {
    "duration": 116,
    "start_time": "2022-05-18T16:35:14.597Z"
   },
   {
    "duration": 475,
    "start_time": "2022-05-18T16:35:17.233Z"
   },
   {
    "duration": 5,
    "start_time": "2022-05-18T16:35:17.711Z"
   },
   {
    "duration": 8,
    "start_time": "2022-05-18T16:35:21.035Z"
   },
   {
    "duration": 27,
    "start_time": "2022-05-18T16:35:23.559Z"
   },
   {
    "duration": 37,
    "start_time": "2022-05-18T16:35:25.397Z"
   },
   {
    "duration": 22,
    "start_time": "2022-05-18T16:35:27.136Z"
   },
   {
    "duration": 465,
    "start_time": "2022-05-18T16:35:27.939Z"
   },
   {
    "duration": 13,
    "start_time": "2022-05-18T16:35:29.706Z"
   },
   {
    "duration": 14,
    "start_time": "2022-05-18T16:37:37.469Z"
   },
   {
    "duration": 41,
    "start_time": "2022-05-18T16:43:42.288Z"
   },
   {
    "duration": 6,
    "start_time": "2022-05-18T16:45:24.617Z"
   },
   {
    "duration": 4,
    "start_time": "2022-05-18T16:45:25.941Z"
   },
   {
    "duration": 2867,
    "start_time": "2022-05-18T16:45:28.544Z"
   },
   {
    "duration": 16,
    "start_time": "2022-05-18T16:45:34.650Z"
   },
   {
    "duration": 18,
    "start_time": "2022-05-18T16:45:37.642Z"
   },
   {
    "duration": 1480,
    "start_time": "2022-05-18T16:45:40.622Z"
   },
   {
    "duration": 795,
    "start_time": "2022-05-18T16:50:12.792Z"
   },
   {
    "duration": 978,
    "start_time": "2022-05-18T16:50:36.168Z"
   },
   {
    "duration": 1142,
    "start_time": "2022-05-18T16:52:03.806Z"
   },
   {
    "duration": 780,
    "start_time": "2022-05-18T16:52:25.248Z"
   },
   {
    "duration": 1031,
    "start_time": "2022-05-18T16:53:07.414Z"
   },
   {
    "duration": 852,
    "start_time": "2022-05-18T16:53:28.200Z"
   },
   {
    "duration": 1234,
    "start_time": "2022-05-18T16:53:40.957Z"
   },
   {
    "duration": 899,
    "start_time": "2022-05-18T16:53:50.871Z"
   },
   {
    "duration": 830,
    "start_time": "2022-05-18T16:53:57.300Z"
   },
   {
    "duration": 963,
    "start_time": "2022-05-18T16:54:13.804Z"
   },
   {
    "duration": 701,
    "start_time": "2022-05-18T16:54:24.266Z"
   },
   {
    "duration": 888,
    "start_time": "2022-05-18T16:54:28.008Z"
   },
   {
    "duration": 742,
    "start_time": "2022-05-18T16:54:32.851Z"
   },
   {
    "duration": 1203,
    "start_time": "2022-05-18T16:54:43.957Z"
   },
   {
    "duration": 1147,
    "start_time": "2022-05-18T16:54:55.739Z"
   },
   {
    "duration": 940,
    "start_time": "2022-05-18T16:55:05.659Z"
   },
   {
    "duration": 1128,
    "start_time": "2022-05-18T16:55:09.593Z"
   },
   {
    "duration": 901,
    "start_time": "2022-05-18T16:55:37.838Z"
   },
   {
    "duration": 1209,
    "start_time": "2022-05-18T16:55:56.017Z"
   },
   {
    "duration": 1242,
    "start_time": "2022-05-18T16:56:10.210Z"
   },
   {
    "duration": 1066,
    "start_time": "2022-05-18T16:57:41.897Z"
   },
   {
    "duration": 1257,
    "start_time": "2022-05-18T16:58:38.786Z"
   },
   {
    "duration": 1262,
    "start_time": "2022-05-18T16:59:07.346Z"
   },
   {
    "duration": 1165,
    "start_time": "2022-05-18T16:59:12.203Z"
   },
   {
    "duration": 3,
    "start_time": "2022-05-18T17:04:37.141Z"
   },
   {
    "duration": 6,
    "start_time": "2022-05-18T17:05:20.544Z"
   },
   {
    "duration": 10,
    "start_time": "2022-05-18T17:07:29.343Z"
   },
   {
    "duration": 12,
    "start_time": "2022-05-18T17:07:56.919Z"
   },
   {
    "duration": 3,
    "start_time": "2022-05-18T17:08:09.865Z"
   },
   {
    "duration": 9,
    "start_time": "2022-05-18T17:08:12.703Z"
   },
   {
    "duration": 1606,
    "start_time": "2022-05-18T18:29:35.483Z"
   },
   {
    "duration": 3451,
    "start_time": "2022-05-18T18:29:44.339Z"
   },
   {
    "duration": 3,
    "start_time": "2022-05-18T18:29:49.838Z"
   },
   {
    "duration": 56,
    "start_time": "2022-05-18T18:29:50.534Z"
   },
   {
    "duration": 43,
    "start_time": "2022-05-18T18:29:51.071Z"
   },
   {
    "duration": 290,
    "start_time": "2022-05-18T18:29:53.138Z"
   },
   {
    "duration": 24,
    "start_time": "2022-05-18T18:29:54.671Z"
   },
   {
    "duration": 89,
    "start_time": "2022-05-18T18:29:56.841Z"
   },
   {
    "duration": 7,
    "start_time": "2022-05-18T18:30:03.180Z"
   },
   {
    "duration": 5,
    "start_time": "2022-05-18T18:30:03.878Z"
   },
   {
    "duration": 5,
    "start_time": "2022-05-18T18:30:08.644Z"
   },
   {
    "duration": 14,
    "start_time": "2022-05-18T18:30:09.736Z"
   },
   {
    "duration": 26,
    "start_time": "2022-05-18T18:30:11.014Z"
   },
   {
    "duration": 19,
    "start_time": "2022-05-18T18:30:12.487Z"
   },
   {
    "duration": 520,
    "start_time": "2022-05-18T18:30:13.403Z"
   },
   {
    "duration": 11,
    "start_time": "2022-05-18T18:30:17.262Z"
   },
   {
    "duration": 19,
    "start_time": "2022-05-18T18:30:21.320Z"
   },
   {
    "duration": 4,
    "start_time": "2022-05-18T18:30:27.553Z"
   },
   {
    "duration": 4,
    "start_time": "2022-05-18T18:30:27.929Z"
   },
   {
    "duration": 1903,
    "start_time": "2022-05-18T18:30:28.749Z"
   },
   {
    "duration": 11,
    "start_time": "2022-05-18T18:30:33.045Z"
   },
   {
    "duration": 21,
    "start_time": "2022-05-18T18:30:35.452Z"
   },
   {
    "duration": 1071,
    "start_time": "2022-05-18T18:30:39.047Z"
   },
   {
    "duration": 3,
    "start_time": "2022-05-18T18:30:50.787Z"
   },
   {
    "duration": 12,
    "start_time": "2022-05-18T18:30:58.204Z"
   },
   {
    "duration": 11,
    "start_time": "2022-05-18T18:31:05.610Z"
   },
   {
    "duration": 882,
    "start_time": "2022-05-18T18:31:59.958Z"
   },
   {
    "duration": 206,
    "start_time": "2022-05-18T18:32:06.232Z"
   },
   {
    "duration": 928,
    "start_time": "2022-05-18T18:32:10.939Z"
   },
   {
    "duration": 575,
    "start_time": "2022-05-18T18:32:59.243Z"
   },
   {
    "duration": 994,
    "start_time": "2022-05-18T18:33:35.857Z"
   },
   {
    "duration": 1175,
    "start_time": "2022-05-18T18:33:49.332Z"
   },
   {
    "duration": 1197,
    "start_time": "2022-05-18T18:34:07.949Z"
   },
   {
    "duration": 570,
    "start_time": "2022-05-18T18:34:29.383Z"
   },
   {
    "duration": 710,
    "start_time": "2022-05-18T18:34:41.458Z"
   },
   {
    "duration": 958,
    "start_time": "2022-05-18T18:34:53.110Z"
   },
   {
    "duration": 615,
    "start_time": "2022-05-18T18:35:06.937Z"
   },
   {
    "duration": 500,
    "start_time": "2022-05-18T18:35:15.948Z"
   },
   {
    "duration": 15,
    "start_time": "2022-05-18T18:35:56.578Z"
   },
   {
    "duration": 371,
    "start_time": "2022-05-18T18:36:10.006Z"
   },
   {
    "duration": 145,
    "start_time": "2022-05-18T18:38:08.243Z"
   },
   {
    "duration": 22,
    "start_time": "2022-05-18T18:38:15.399Z"
   },
   {
    "duration": 30,
    "start_time": "2022-05-18T18:38:18.268Z"
   },
   {
    "duration": 10,
    "start_time": "2022-05-18T18:38:20.717Z"
   },
   {
    "duration": 32,
    "start_time": "2022-05-18T18:39:20.454Z"
   },
   {
    "duration": 5,
    "start_time": "2022-05-18T18:39:30.845Z"
   },
   {
    "duration": 27,
    "start_time": "2022-05-18T18:39:40.872Z"
   },
   {
    "duration": 222,
    "start_time": "2022-05-18T18:39:49.667Z"
   },
   {
    "duration": 44,
    "start_time": "2022-05-18T18:40:00.809Z"
   },
   {
    "duration": 4,
    "start_time": "2022-05-18T18:40:06.201Z"
   },
   {
    "duration": 12,
    "start_time": "2022-05-18T18:42:04.743Z"
   },
   {
    "duration": 15,
    "start_time": "2022-05-18T18:44:30.369Z"
   },
   {
    "duration": 27,
    "start_time": "2022-05-18T18:44:46.351Z"
   },
   {
    "duration": 16,
    "start_time": "2022-05-18T18:45:40.886Z"
   },
   {
    "duration": 6,
    "start_time": "2022-05-18T18:46:25.741Z"
   },
   {
    "duration": 64,
    "start_time": "2022-05-18T18:46:33.411Z"
   },
   {
    "duration": 12,
    "start_time": "2022-05-18T18:46:51.342Z"
   },
   {
    "duration": 26,
    "start_time": "2022-05-18T18:47:21.732Z"
   },
   {
    "duration": 13,
    "start_time": "2022-05-18T18:48:15.063Z"
   },
   {
    "duration": 13,
    "start_time": "2022-05-18T18:49:21.770Z"
   },
   {
    "duration": 4,
    "start_time": "2022-05-18T18:49:49.738Z"
   },
   {
    "duration": 138128,
    "start_time": "2022-05-18T18:51:57.764Z"
   },
   {
    "duration": 587,
    "start_time": "2022-05-18T18:54:50.370Z"
   },
   {
    "duration": 95946,
    "start_time": "2022-05-18T18:55:01.081Z"
   },
   {
    "duration": 95728,
    "start_time": "2022-05-18T18:59:12.461Z"
   },
   {
    "duration": 0,
    "start_time": "2022-05-18T19:00:48.191Z"
   },
   {
    "duration": 5999,
    "start_time": "2022-05-18T19:01:24.916Z"
   },
   {
    "duration": 17,
    "start_time": "2022-05-18T19:08:30.507Z"
   },
   {
    "duration": 12,
    "start_time": "2022-05-18T19:11:55.458Z"
   },
   {
    "duration": 14,
    "start_time": "2022-05-18T19:12:12.572Z"
   },
   {
    "duration": 16,
    "start_time": "2022-05-18T19:12:16.898Z"
   },
   {
    "duration": 10,
    "start_time": "2022-05-18T19:13:14.064Z"
   },
   {
    "duration": 10,
    "start_time": "2022-05-18T19:13:17.476Z"
   },
   {
    "duration": 24,
    "start_time": "2022-05-18T19:13:20.978Z"
   },
   {
    "duration": 21,
    "start_time": "2022-05-18T19:13:34.799Z"
   },
   {
    "duration": 49,
    "start_time": "2022-05-18T19:14:31.626Z"
   },
   {
    "duration": 1216,
    "start_time": "2022-05-18T19:14:37.667Z"
   },
   {
    "duration": 633,
    "start_time": "2022-05-18T19:14:38.885Z"
   },
   {
    "duration": 2,
    "start_time": "2022-05-18T19:14:39.520Z"
   },
   {
    "duration": 66,
    "start_time": "2022-05-18T19:14:39.524Z"
   },
   {
    "duration": 62,
    "start_time": "2022-05-18T19:14:39.592Z"
   },
   {
    "duration": 363,
    "start_time": "2022-05-18T19:14:39.655Z"
   },
   {
    "duration": 23,
    "start_time": "2022-05-18T19:14:40.019Z"
   },
   {
    "duration": 114,
    "start_time": "2022-05-18T19:14:40.044Z"
   },
   {
    "duration": 6,
    "start_time": "2022-05-18T19:14:40.160Z"
   },
   {
    "duration": 6,
    "start_time": "2022-05-18T19:14:40.168Z"
   },
   {
    "duration": 4,
    "start_time": "2022-05-18T19:14:40.176Z"
   },
   {
    "duration": 34,
    "start_time": "2022-05-18T19:14:40.182Z"
   },
   {
    "duration": 22,
    "start_time": "2022-05-18T19:14:40.218Z"
   },
   {
    "duration": 17,
    "start_time": "2022-05-18T19:14:40.241Z"
   },
   {
    "duration": 368,
    "start_time": "2022-05-18T19:14:40.259Z"
   },
   {
    "duration": 9,
    "start_time": "2022-05-18T19:14:40.628Z"
   },
   {
    "duration": 17,
    "start_time": "2022-05-18T19:14:40.639Z"
   },
   {
    "duration": 4,
    "start_time": "2022-05-18T19:14:40.658Z"
   },
   {
    "duration": 6,
    "start_time": "2022-05-18T19:14:40.664Z"
   },
   {
    "duration": 1975,
    "start_time": "2022-05-18T19:14:40.672Z"
   },
   {
    "duration": 10,
    "start_time": "2022-05-18T19:14:42.649Z"
   },
   {
    "duration": 19,
    "start_time": "2022-05-18T19:14:42.661Z"
   },
   {
    "duration": 1974,
    "start_time": "2022-05-18T19:14:42.682Z"
   },
   {
    "duration": 4,
    "start_time": "2022-05-18T19:14:44.658Z"
   },
   {
    "duration": 16,
    "start_time": "2022-05-18T19:14:44.663Z"
   },
   {
    "duration": 893,
    "start_time": "2022-05-18T19:14:44.680Z"
   },
   {
    "duration": 218,
    "start_time": "2022-05-18T19:14:45.575Z"
   },
   {
    "duration": 690,
    "start_time": "2022-05-18T19:14:45.797Z"
   },
   {
    "duration": 423,
    "start_time": "2022-05-18T19:14:46.489Z"
   },
   {
    "duration": 11,
    "start_time": "2022-05-18T19:14:46.913Z"
   },
   {
    "duration": 222,
    "start_time": "2022-05-18T19:14:46.926Z"
   },
   {
    "duration": 15,
    "start_time": "2022-05-18T19:14:47.149Z"
   },
   {
    "duration": 24,
    "start_time": "2022-05-18T19:14:47.166Z"
   },
   {
    "duration": 20,
    "start_time": "2022-05-18T19:14:47.192Z"
   },
   {
    "duration": 0,
    "start_time": "2022-05-18T19:14:47.214Z"
   },
   {
    "duration": 0,
    "start_time": "2022-05-18T19:14:47.215Z"
   },
   {
    "duration": 0,
    "start_time": "2022-05-18T19:14:47.216Z"
   },
   {
    "duration": 0,
    "start_time": "2022-05-18T19:14:47.217Z"
   },
   {
    "duration": 0,
    "start_time": "2022-05-18T19:14:47.218Z"
   },
   {
    "duration": 0,
    "start_time": "2022-05-18T19:14:47.219Z"
   },
   {
    "duration": 0,
    "start_time": "2022-05-18T19:14:47.220Z"
   },
   {
    "duration": 0,
    "start_time": "2022-05-18T19:14:47.221Z"
   },
   {
    "duration": 0,
    "start_time": "2022-05-18T19:14:47.222Z"
   },
   {
    "duration": 0,
    "start_time": "2022-05-18T19:14:47.223Z"
   },
   {
    "duration": 0,
    "start_time": "2022-05-18T19:14:47.224Z"
   },
   {
    "duration": 0,
    "start_time": "2022-05-18T19:14:47.225Z"
   },
   {
    "duration": 0,
    "start_time": "2022-05-18T19:14:47.227Z"
   },
   {
    "duration": 0,
    "start_time": "2022-05-18T19:14:47.228Z"
   },
   {
    "duration": 0,
    "start_time": "2022-05-18T19:14:47.229Z"
   },
   {
    "duration": 4,
    "start_time": "2022-05-18T19:15:16.068Z"
   },
   {
    "duration": 24,
    "start_time": "2022-05-18T19:17:26.506Z"
   },
   {
    "duration": 37,
    "start_time": "2022-05-18T19:18:01.057Z"
   },
   {
    "duration": 26,
    "start_time": "2022-05-18T19:18:42.182Z"
   },
   {
    "duration": 21,
    "start_time": "2022-05-18T19:20:14.390Z"
   },
   {
    "duration": 19,
    "start_time": "2022-05-18T19:20:21.388Z"
   },
   {
    "duration": 5,
    "start_time": "2022-05-18T19:20:26.372Z"
   },
   {
    "duration": 137707,
    "start_time": "2022-05-18T19:20:30.240Z"
   },
   {
    "duration": 561,
    "start_time": "2022-05-18T19:24:55.026Z"
   },
   {
    "duration": 90494,
    "start_time": "2022-05-18T19:24:59.954Z"
   },
   {
    "duration": 438,
    "start_time": "2022-05-18T19:26:58.316Z"
   },
   {
    "duration": 323,
    "start_time": "2022-05-18T19:27:02.672Z"
   },
   {
    "duration": 334427,
    "start_time": "2022-05-18T19:32:25.921Z"
   },
   {
    "duration": 1967,
    "start_time": "2022-05-18T19:38:00.350Z"
   },
   {
    "duration": 786130,
    "start_time": "2022-05-18T19:39:21.757Z"
   },
   {
    "duration": 2160,
    "start_time": "2022-05-18T19:52:27.889Z"
   },
   {
    "duration": 1320,
    "start_time": "2022-05-18T19:53:55.421Z"
   },
   {
    "duration": 4235,
    "start_time": "2022-05-18T19:54:42.485Z"
   },
   {
    "duration": 11,
    "start_time": "2022-05-18T20:04:25.969Z"
   },
   {
    "duration": 1013,
    "start_time": "2022-05-18T20:04:42.417Z"
   },
   {
    "duration": 235,
    "start_time": "2022-05-18T20:07:39.779Z"
   },
   {
    "duration": 322,
    "start_time": "2022-05-18T20:07:44.103Z"
   },
   {
    "duration": 5716,
    "start_time": "2022-05-18T20:08:09.001Z"
   },
   {
    "duration": 39,
    "start_time": "2022-05-18T20:19:26.257Z"
   },
   {
    "duration": 40,
    "start_time": "2022-05-18T20:19:44.653Z"
   },
   {
    "duration": 1378,
    "start_time": "2022-05-18T20:19:54.356Z"
   },
   {
    "duration": 795,
    "start_time": "2022-05-18T20:19:55.739Z"
   },
   {
    "duration": 4,
    "start_time": "2022-05-18T20:19:56.535Z"
   },
   {
    "duration": 88,
    "start_time": "2022-05-18T20:19:56.541Z"
   },
   {
    "duration": 60,
    "start_time": "2022-05-18T20:19:56.631Z"
   },
   {
    "duration": 395,
    "start_time": "2022-05-18T20:19:56.693Z"
   },
   {
    "duration": 158,
    "start_time": "2022-05-18T20:19:57.091Z"
   },
   {
    "duration": 149,
    "start_time": "2022-05-18T20:19:57.251Z"
   },
   {
    "duration": 10,
    "start_time": "2022-05-18T20:19:57.402Z"
   },
   {
    "duration": 35,
    "start_time": "2022-05-18T20:19:57.415Z"
   },
   {
    "duration": 26,
    "start_time": "2022-05-18T20:19:57.453Z"
   },
   {
    "duration": 104,
    "start_time": "2022-05-18T20:19:57.481Z"
   },
   {
    "duration": 50,
    "start_time": "2022-05-18T20:19:57.587Z"
   },
   {
    "duration": 52,
    "start_time": "2022-05-18T20:19:57.639Z"
   },
   {
    "duration": 396,
    "start_time": "2022-05-18T20:19:57.693Z"
   },
   {
    "duration": 28,
    "start_time": "2022-05-18T20:19:58.091Z"
   },
   {
    "duration": 45,
    "start_time": "2022-05-18T20:19:58.121Z"
   },
   {
    "duration": 9,
    "start_time": "2022-05-18T20:19:58.167Z"
   },
   {
    "duration": 13,
    "start_time": "2022-05-18T20:19:58.178Z"
   },
   {
    "duration": 2322,
    "start_time": "2022-05-18T20:19:58.193Z"
   },
   {
    "duration": 17,
    "start_time": "2022-05-18T20:20:00.517Z"
   },
   {
    "duration": 58,
    "start_time": "2022-05-18T20:20:00.536Z"
   },
   {
    "duration": 1335,
    "start_time": "2022-05-18T20:20:00.595Z"
   },
   {
    "duration": 4,
    "start_time": "2022-05-18T20:20:01.932Z"
   },
   {
    "duration": 67,
    "start_time": "2022-05-18T20:20:01.938Z"
   },
   {
    "duration": 1072,
    "start_time": "2022-05-18T20:20:02.007Z"
   },
   {
    "duration": 259,
    "start_time": "2022-05-18T20:20:03.081Z"
   },
   {
    "duration": 824,
    "start_time": "2022-05-18T20:20:03.346Z"
   },
   {
    "duration": 553,
    "start_time": "2022-05-18T20:20:04.172Z"
   },
   {
    "duration": 32,
    "start_time": "2022-05-18T20:20:04.727Z"
   },
   {
    "duration": 272,
    "start_time": "2022-05-18T20:20:04.761Z"
   },
   {
    "duration": 21,
    "start_time": "2022-05-18T20:20:05.036Z"
   },
   {
    "duration": 57,
    "start_time": "2022-05-18T20:20:05.058Z"
   },
   {
    "duration": 62,
    "start_time": "2022-05-18T20:20:05.117Z"
   },
   {
    "duration": 26,
    "start_time": "2022-05-18T20:20:05.181Z"
   },
   {
    "duration": 149833,
    "start_time": "2022-05-18T20:20:05.209Z"
   },
   {
    "duration": 514,
    "start_time": "2022-05-18T20:22:35.044Z"
   },
   {
    "duration": 96057,
    "start_time": "2022-05-18T20:22:35.560Z"
   },
   {
    "duration": 411,
    "start_time": "2022-05-18T20:24:11.622Z"
   },
   {
    "duration": 299,
    "start_time": "2022-05-18T20:24:12.035Z"
   },
   {
    "duration": 342096,
    "start_time": "2022-05-18T20:24:12.336Z"
   },
   {
    "duration": 1738,
    "start_time": "2022-05-18T20:29:54.433Z"
   },
   {
    "duration": 792049,
    "start_time": "2022-05-18T20:29:56.173Z"
   },
   {
    "duration": 1360,
    "start_time": "2022-05-18T20:43:08.224Z"
   },
   {
    "duration": 1018,
    "start_time": "2022-05-18T20:43:09.586Z"
   },
   {
    "duration": 5122,
    "start_time": "2022-05-18T20:43:10.606Z"
   },
   {
    "duration": 95,
    "start_time": "2022-05-18T20:43:15.732Z"
   },
   {
    "duration": 1152,
    "start_time": "2022-05-18T20:43:15.839Z"
   },
   {
    "duration": 320,
    "start_time": "2022-05-18T20:43:16.993Z"
   },
   {
    "duration": 654,
    "start_time": "2022-05-18T20:47:47.191Z"
   },
   {
    "duration": 34,
    "start_time": "2022-05-18T20:57:18.654Z"
   },
   {
    "duration": 40,
    "start_time": "2022-05-18T20:57:24.712Z"
   },
   {
    "duration": 3233,
    "start_time": "2022-05-18T20:57:32.487Z"
   },
   {
    "duration": 62,
    "start_time": "2022-05-18T20:57:44.781Z"
   },
   {
    "duration": 5,
    "start_time": "2022-05-18T20:59:26.101Z"
   },
   {
    "duration": 195,
    "start_time": "2022-05-18T21:05:49.217Z"
   },
   {
    "duration": 3,
    "start_time": "2022-05-18T21:11:43.367Z"
   },
   {
    "duration": 166,
    "start_time": "2022-05-18T21:12:28.129Z"
   },
   {
    "duration": 24,
    "start_time": "2022-05-18T21:12:55.488Z"
   },
   {
    "duration": 28494988,
    "start_time": "2022-05-18T21:23:14.458Z"
   },
   {
    "duration": 4,
    "start_time": "2022-05-19T05:23:38.604Z"
   },
   {
    "duration": 2,
    "start_time": "2022-05-19T05:28:17.582Z"
   },
   {
    "duration": 18,
    "start_time": "2022-05-19T05:29:20.073Z"
   },
   {
    "duration": 18,
    "start_time": "2022-05-19T05:29:46.293Z"
   },
   {
    "duration": 4,
    "start_time": "2022-05-19T05:29:59.826Z"
   },
   {
    "duration": 6,
    "start_time": "2022-05-19T05:30:08.382Z"
   },
   {
    "duration": 5,
    "start_time": "2022-05-19T05:30:17.130Z"
   },
   {
    "duration": 3,
    "start_time": "2022-05-19T05:30:41.270Z"
   },
   {
    "duration": 18,
    "start_time": "2022-05-19T05:30:41.486Z"
   },
   {
    "duration": 3,
    "start_time": "2022-05-19T05:30:50.484Z"
   },
   {
    "duration": 3,
    "start_time": "2022-05-19T05:31:41.496Z"
   },
   {
    "duration": 640,
    "start_time": "2022-05-19T05:31:43.174Z"
   },
   {
    "duration": 357,
    "start_time": "2022-05-19T05:32:42.767Z"
   },
   {
    "duration": 6,
    "start_time": "2022-05-19T05:32:52.500Z"
   },
   {
    "duration": 17,
    "start_time": "2022-05-19T05:33:02.611Z"
   },
   {
    "duration": 4,
    "start_time": "2022-05-19T05:33:09.766Z"
   },
   {
    "duration": 4,
    "start_time": "2022-05-19T05:33:25.322Z"
   },
   {
    "duration": 4,
    "start_time": "2022-05-19T05:33:57.063Z"
   },
   {
    "duration": 574,
    "start_time": "2022-05-19T05:33:57.350Z"
   },
   {
    "duration": 6,
    "start_time": "2022-05-19T05:33:57.926Z"
   },
   {
    "duration": 96,
    "start_time": "2022-05-19T05:33:57.933Z"
   },
   {
    "duration": 4,
    "start_time": "2022-05-19T05:33:58.685Z"
   },
   {
    "duration": 4,
    "start_time": "2022-05-19T05:34:05.298Z"
   },
   {
    "duration": 9,
    "start_time": "2022-05-19T05:37:35.407Z"
   },
   {
    "duration": 14542,
    "start_time": "2022-05-19T05:38:01.089Z"
   },
   {
    "duration": 11,
    "start_time": "2022-05-19T05:38:22.612Z"
   },
   {
    "duration": 13,
    "start_time": "2022-05-19T05:38:57.849Z"
   },
   {
    "duration": 14437,
    "start_time": "2022-05-19T05:39:40.975Z"
   },
   {
    "duration": 12,
    "start_time": "2022-05-19T05:40:01.025Z"
   },
   {
    "duration": 5,
    "start_time": "2022-05-19T05:40:08.725Z"
   },
   {
    "duration": 390216,
    "start_time": "2022-05-19T05:44:49.618Z"
   },
   {
    "duration": 11,
    "start_time": "2022-05-19T05:52:57.574Z"
   },
   {
    "duration": 4,
    "start_time": "2022-05-19T05:53:08.867Z"
   },
   {
    "duration": 21,
    "start_time": "2022-05-19T05:53:55.391Z"
   },
   {
    "duration": 22,
    "start_time": "2022-05-19T05:53:57.263Z"
   },
   {
    "duration": 28,
    "start_time": "2022-05-19T05:54:31.624Z"
   },
   {
    "duration": 25,
    "start_time": "2022-05-19T05:54:34.070Z"
   },
   {
    "duration": 1579,
    "start_time": "2022-05-19T06:06:50.451Z"
   },
   {
    "duration": 1563,
    "start_time": "2022-05-19T06:07:39.036Z"
   },
   {
    "duration": 11,
    "start_time": "2022-05-19T06:07:51.625Z"
   },
   {
    "duration": 9,
    "start_time": "2022-05-19T06:08:01.209Z"
   },
   {
    "duration": 6,
    "start_time": "2022-05-19T06:08:20.226Z"
   },
   {
    "duration": 10,
    "start_time": "2022-05-19T06:08:56.106Z"
   },
   {
    "duration": 10,
    "start_time": "2022-05-19T06:09:13.891Z"
   },
   {
    "duration": 5,
    "start_time": "2022-05-19T06:09:33.078Z"
   },
   {
    "duration": 7,
    "start_time": "2022-05-19T06:11:18.622Z"
   },
   {
    "duration": 1572,
    "start_time": "2022-05-19T06:11:19.945Z"
   },
   {
    "duration": 4320,
    "start_time": "2022-05-19T06:12:34.400Z"
   },
   {
    "duration": 5,
    "start_time": "2022-05-19T06:12:47.573Z"
   },
   {
    "duration": 4,
    "start_time": "2022-05-19T06:12:54.028Z"
   },
   {
    "duration": 4,
    "start_time": "2022-05-19T06:13:52.045Z"
   },
   {
    "duration": 4,
    "start_time": "2022-05-19T06:14:16.799Z"
   },
   {
    "duration": 390849,
    "start_time": "2022-05-19T06:14:51.080Z"
   },
   {
    "duration": 7,
    "start_time": "2022-05-19T06:22:58.850Z"
   },
   {
    "duration": 1666182,
    "start_time": "2022-05-19T08:03:48.338Z"
   },
   {
    "duration": 0,
    "start_time": "2022-05-19T08:31:34.522Z"
   },
   {
    "duration": 4,
    "start_time": "2022-05-19T08:31:43.988Z"
   },
   {
    "duration": 3,
    "start_time": "2022-05-19T08:35:16.753Z"
   },
   {
    "duration": 3,
    "start_time": "2022-05-19T08:37:33.415Z"
   },
   {
    "duration": 27250,
    "start_time": "2022-05-19T08:40:24.278Z"
   },
   {
    "duration": 38069,
    "start_time": "2022-05-19T08:44:50.184Z"
   },
   {
    "duration": 38225,
    "start_time": "2022-05-19T08:56:06.661Z"
   },
   {
    "duration": 3,
    "start_time": "2022-05-19T08:57:23.072Z"
   },
   {
    "duration": 39574,
    "start_time": "2022-05-19T08:57:27.989Z"
   },
   {
    "duration": 140355,
    "start_time": "2022-05-19T09:00:15.780Z"
   },
   {
    "duration": 3,
    "start_time": "2022-05-19T09:02:36.137Z"
   },
   {
    "duration": 138910,
    "start_time": "2022-05-19T09:02:52.077Z"
   },
   {
    "duration": 142997,
    "start_time": "2022-05-19T09:06:48.247Z"
   },
   {
    "duration": 346406,
    "start_time": "2022-05-19T09:11:40.518Z"
   },
   {
    "duration": 15,
    "start_time": "2022-05-19T09:19:27.787Z"
   },
   {
    "duration": 5,
    "start_time": "2022-05-19T09:19:39.507Z"
   },
   {
    "duration": 4,
    "start_time": "2022-05-19T09:49:13.494Z"
   },
   {
    "duration": 329,
    "start_time": "2022-05-19T09:51:16.394Z"
   },
   {
    "duration": 155,
    "start_time": "2022-05-19T09:53:10.669Z"
   },
   {
    "duration": 4,
    "start_time": "2022-05-19T09:54:18.916Z"
   },
   {
    "duration": 4,
    "start_time": "2022-05-19T09:55:47.007Z"
   },
   {
    "duration": 4,
    "start_time": "2022-05-19T09:56:07.554Z"
   },
   {
    "duration": 16,
    "start_time": "2022-05-19T09:56:32.174Z"
   },
   {
    "duration": 4,
    "start_time": "2022-05-19T09:56:56.606Z"
   },
   {
    "duration": 13,
    "start_time": "2022-05-19T09:56:58.924Z"
   },
   {
    "duration": 155,
    "start_time": "2022-05-19T09:57:50.364Z"
   },
   {
    "duration": 3,
    "start_time": "2022-05-19T09:57:50.905Z"
   },
   {
    "duration": 17,
    "start_time": "2022-05-19T09:57:51.414Z"
   },
   {
    "duration": 3,
    "start_time": "2022-05-19T09:59:12.917Z"
   },
   {
    "duration": 25,
    "start_time": "2022-05-19T09:59:15.290Z"
   },
   {
    "duration": 3,
    "start_time": "2022-05-19T09:59:15.884Z"
   },
   {
    "duration": 13,
    "start_time": "2022-05-19T09:59:16.305Z"
   },
   {
    "duration": 9,
    "start_time": "2022-05-19T10:01:58.320Z"
   },
   {
    "duration": 9,
    "start_time": "2022-05-19T10:02:34.186Z"
   },
   {
    "duration": 14,
    "start_time": "2022-05-19T10:02:35.024Z"
   },
   {
    "duration": 5,
    "start_time": "2022-05-19T10:02:46.699Z"
   },
   {
    "duration": 4,
    "start_time": "2022-05-19T10:03:05.607Z"
   },
   {
    "duration": 3561,
    "start_time": "2022-05-19T10:03:23.269Z"
   },
   {
    "duration": 8,
    "start_time": "2022-05-19T10:03:42.270Z"
   },
   {
    "duration": 4,
    "start_time": "2022-05-19T10:03:42.725Z"
   },
   {
    "duration": 3666,
    "start_time": "2022-05-19T10:03:44.148Z"
   },
   {
    "duration": 12,
    "start_time": "2022-05-19T10:04:36.065Z"
   },
   {
    "duration": 9,
    "start_time": "2022-05-19T10:04:46.756Z"
   },
   {
    "duration": 336,
    "start_time": "2022-05-19T10:05:06.033Z"
   },
   {
    "duration": 19,
    "start_time": "2022-05-19T10:07:15.351Z"
   },
   {
    "duration": 9,
    "start_time": "2022-05-19T10:07:35.194Z"
   },
   {
    "duration": 2,
    "start_time": "2022-05-19T10:07:45.302Z"
   },
   {
    "duration": 4,
    "start_time": "2022-05-19T10:09:14.122Z"
   },
   {
    "duration": 4,
    "start_time": "2022-05-19T10:17:43.679Z"
   },
   {
    "duration": 304,
    "start_time": "2022-05-19T10:19:40.706Z"
   },
   {
    "duration": 4,
    "start_time": "2022-05-19T10:20:30.206Z"
   },
   {
    "duration": 13,
    "start_time": "2022-05-19T10:20:33.293Z"
   },
   {
    "duration": 133,
    "start_time": "2022-05-19T10:21:27.718Z"
   },
   {
    "duration": 4018,
    "start_time": "2022-05-19T10:21:27.919Z"
   },
   {
    "duration": 12,
    "start_time": "2022-05-19T10:21:57.255Z"
   },
   {
    "duration": 10,
    "start_time": "2022-05-19T10:22:30.753Z"
   },
   {
    "duration": 4182,
    "start_time": "2022-05-19T10:22:31.140Z"
   },
   {
    "duration": 3,
    "start_time": "2022-05-19T10:22:54.051Z"
   },
   {
    "duration": 22,
    "start_time": "2022-05-19T10:23:43.582Z"
   },
   {
    "duration": 11377,
    "start_time": "2022-05-19T10:24:44.065Z"
   },
   {
    "duration": 7,
    "start_time": "2022-05-19T10:25:22.428Z"
   },
   {
    "duration": 50333,
    "start_time": "2022-05-19T10:27:03.688Z"
   },
   {
    "duration": 43,
    "start_time": "2022-05-19T10:28:40.002Z"
   },
   {
    "duration": 31,
    "start_time": "2022-05-19T10:29:28.382Z"
   },
   {
    "duration": 278496,
    "start_time": "2022-05-19T10:34:56.817Z"
   },
   {
    "duration": 7,
    "start_time": "2022-05-19T10:40:09.047Z"
   },
   {
    "duration": 5623,
    "start_time": "2022-05-19T10:41:14.606Z"
   },
   {
    "duration": 298474,
    "start_time": "2022-05-19T10:50:05.470Z"
   },
   {
    "duration": 11,
    "start_time": "2022-05-19T10:58:18.938Z"
   },
   {
    "duration": 39,
    "start_time": "2022-05-19T10:59:35.047Z"
   },
   {
    "duration": 2479,
    "start_time": "2022-05-19T10:59:40.781Z"
   },
   {
    "duration": 3090,
    "start_time": "2022-05-19T10:59:48.840Z"
   },
   {
    "duration": 62,
    "start_time": "2022-05-19T11:00:05.369Z"
   },
   {
    "duration": 2,
    "start_time": "2022-05-19T11:00:43.618Z"
   },
   {
    "duration": 36,
    "start_time": "2022-05-19T11:08:15.335Z"
   },
   {
    "duration": 11,
    "start_time": "2022-05-19T11:08:25.198Z"
   },
   {
    "duration": 11,
    "start_time": "2022-05-19T11:08:27.902Z"
   },
   {
    "duration": 5,
    "start_time": "2022-05-19T11:25:38.013Z"
   },
   {
    "duration": 66,
    "start_time": "2022-05-19T11:29:28.383Z"
   },
   {
    "duration": 12,
    "start_time": "2022-05-19T11:30:57.760Z"
   },
   {
    "duration": 6,
    "start_time": "2022-05-19T11:31:01.350Z"
   },
   {
    "duration": 56,
    "start_time": "2022-05-19T11:31:08.065Z"
   },
   {
    "duration": 46,
    "start_time": "2022-05-19T11:32:50.726Z"
   },
   {
    "duration": 59,
    "start_time": "2022-05-19T11:33:37.303Z"
   },
   {
    "duration": 14,
    "start_time": "2022-05-19T12:00:16.362Z"
   },
   {
    "duration": 6282,
    "start_time": "2022-05-19T12:00:57.146Z"
   },
   {
    "duration": 262,
    "start_time": "2022-05-19T12:01:13.409Z"
   },
   {
    "duration": 27,
    "start_time": "2022-05-19T12:03:11.364Z"
   },
   {
    "duration": 35,
    "start_time": "2022-05-19T12:04:34.151Z"
   },
   {
    "duration": 4,
    "start_time": "2022-05-19T12:05:22.541Z"
   },
   {
    "duration": 35,
    "start_time": "2022-05-19T12:05:28.378Z"
   },
   {
    "duration": 27,
    "start_time": "2022-05-19T12:06:58.739Z"
   },
   {
    "duration": 26,
    "start_time": "2022-05-19T12:09:22.146Z"
   },
   {
    "duration": 24,
    "start_time": "2022-05-19T12:14:40.374Z"
   },
   {
    "duration": 20064,
    "start_time": "2022-05-19T12:20:12.966Z"
   },
   {
    "duration": 47,
    "start_time": "2022-05-19T12:21:00.055Z"
   },
   {
    "duration": 30,
    "start_time": "2022-05-19T12:21:05.350Z"
   },
   {
    "duration": 57,
    "start_time": "2022-05-19T12:21:19.385Z"
   },
   {
    "duration": 53,
    "start_time": "2022-05-19T12:21:45.389Z"
   },
   {
    "duration": 12646,
    "start_time": "2022-05-19T12:21:48.825Z"
   },
   {
    "duration": 51,
    "start_time": "2022-05-19T12:23:16.621Z"
   },
   {
    "duration": 56,
    "start_time": "2022-05-19T12:24:03.426Z"
   },
   {
    "duration": 46,
    "start_time": "2022-05-19T12:26:03.549Z"
   },
   {
    "duration": 48,
    "start_time": "2022-05-19T12:26:15.453Z"
   },
   {
    "duration": 45,
    "start_time": "2022-05-19T12:26:18.099Z"
   },
   {
    "duration": 58,
    "start_time": "2022-05-19T12:26:22.108Z"
   },
   {
    "duration": 38,
    "start_time": "2022-05-19T12:26:50.594Z"
   },
   {
    "duration": 29525,
    "start_time": "2022-05-19T12:27:27.268Z"
   },
   {
    "duration": 43,
    "start_time": "2022-05-19T12:28:26.337Z"
   },
   {
    "duration": 1028,
    "start_time": "2022-05-19T12:28:33.222Z"
   },
   {
    "duration": 15,
    "start_time": "2022-05-19T12:29:09.981Z"
   },
   {
    "duration": 18,
    "start_time": "2022-05-19T12:29:16.342Z"
   },
   {
    "duration": 14,
    "start_time": "2022-05-19T12:29:22.386Z"
   },
   {
    "duration": 25,
    "start_time": "2022-05-19T12:29:35.341Z"
   },
   {
    "duration": 122,
    "start_time": "2022-05-19T12:29:39.853Z"
   },
   {
    "duration": 40,
    "start_time": "2022-05-19T12:29:44.139Z"
   },
   {
    "duration": 247,
    "start_time": "2022-05-19T12:29:57.635Z"
   },
   {
    "duration": 30978,
    "start_time": "2022-05-19T12:30:51.563Z"
   },
   {
    "duration": 24,
    "start_time": "2022-05-19T12:31:26.846Z"
   },
   {
    "duration": 25572,
    "start_time": "2022-05-19T12:31:31.289Z"
   },
   {
    "duration": 23614,
    "start_time": "2022-05-19T12:32:44.037Z"
   },
   {
    "duration": 31,
    "start_time": "2022-05-19T12:33:40.626Z"
   },
   {
    "duration": 60673,
    "start_time": "2022-05-19T12:34:55.992Z"
   },
   {
    "duration": 5,
    "start_time": "2022-05-19T12:47:07.074Z"
   },
   {
    "duration": 3,
    "start_time": "2022-05-19T12:49:40.091Z"
   },
   {
    "duration": 5,
    "start_time": "2022-05-19T12:52:26.523Z"
   },
   {
    "duration": 7,
    "start_time": "2022-05-19T12:54:16.075Z"
   },
   {
    "duration": 132,
    "start_time": "2022-05-19T12:54:29.030Z"
   },
   {
    "duration": 13,
    "start_time": "2022-05-19T12:55:11.421Z"
   },
   {
    "duration": 400,
    "start_time": "2022-05-19T12:55:13.070Z"
   },
   {
    "duration": 5,
    "start_time": "2022-05-19T12:55:24.687Z"
   },
   {
    "duration": 53621,
    "start_time": "2022-05-19T12:55:25.654Z"
   },
   {
    "duration": 5,
    "start_time": "2022-05-19T12:56:50.733Z"
   },
   {
    "duration": 48821,
    "start_time": "2022-05-19T12:56:51.137Z"
   },
   {
    "duration": 4,
    "start_time": "2022-05-19T12:58:30.533Z"
   },
   {
    "duration": 93415,
    "start_time": "2022-05-19T12:59:04.197Z"
   },
   {
    "duration": 8,
    "start_time": "2022-05-19T13:02:34.058Z"
   },
   {
    "duration": 7,
    "start_time": "2022-05-19T13:03:41.762Z"
   },
   {
    "duration": 49313,
    "start_time": "2022-05-19T13:03:42.765Z"
   },
   {
    "duration": 69866,
    "start_time": "2022-05-19T13:04:41.495Z"
   },
   {
    "duration": 7,
    "start_time": "2022-05-19T13:06:58.290Z"
   },
   {
    "duration": 65819,
    "start_time": "2022-05-19T13:06:59.799Z"
   },
   {
    "duration": 7,
    "start_time": "2022-05-19T13:11:10.923Z"
   },
   {
    "duration": 29,
    "start_time": "2022-05-19T13:13:24.469Z"
   },
   {
    "duration": 7,
    "start_time": "2022-05-19T13:14:26.049Z"
   },
   {
    "duration": 6,
    "start_time": "2022-05-19T13:15:12.293Z"
   },
   {
    "duration": 61323,
    "start_time": "2022-05-19T13:15:43.549Z"
   },
   {
    "duration": 1539,
    "start_time": "2022-05-19T13:17:22.218Z"
   },
   {
    "duration": 5,
    "start_time": "2022-05-19T13:18:10.154Z"
   },
   {
    "duration": 67234,
    "start_time": "2022-05-19T13:18:11.665Z"
   },
   {
    "duration": 60539,
    "start_time": "2022-05-19T13:21:49.553Z"
   },
   {
    "duration": 1673,
    "start_time": "2022-05-19T13:24:57.862Z"
   },
   {
    "duration": 3,
    "start_time": "2022-05-19T13:26:46.250Z"
   },
   {
    "duration": 7,
    "start_time": "2022-05-19T13:26:48.428Z"
   },
   {
    "duration": 3,
    "start_time": "2022-05-19T13:27:17.046Z"
   },
   {
    "duration": 50,
    "start_time": "2022-05-19T13:27:22.429Z"
   },
   {
    "duration": 3,
    "start_time": "2022-05-19T13:28:00.371Z"
   },
   {
    "duration": 4,
    "start_time": "2022-05-19T13:28:08.081Z"
   },
   {
    "duration": 4,
    "start_time": "2022-05-19T13:28:13.229Z"
   },
   {
    "duration": 31,
    "start_time": "2022-05-19T13:28:41.680Z"
   },
   {
    "duration": 55839,
    "start_time": "2022-05-19T13:28:48.164Z"
   },
   {
    "duration": 4,
    "start_time": "2022-05-19T13:29:44.011Z"
   },
   {
    "duration": 3,
    "start_time": "2022-05-19T13:29:50.349Z"
   },
   {
    "duration": 1522,
    "start_time": "2022-05-19T13:30:12.330Z"
   },
   {
    "duration": 2978,
    "start_time": "2022-05-19T13:32:36.460Z"
   },
   {
    "duration": 1349,
    "start_time": "2022-05-19T13:33:47.283Z"
   },
   {
    "duration": 2724,
    "start_time": "2022-05-19T13:33:53.089Z"
   },
   {
    "duration": 8,
    "start_time": "2022-05-19T13:36:10.882Z"
   },
   {
    "duration": 5,
    "start_time": "2022-05-19T13:36:11.976Z"
   },
   {
    "duration": 49754,
    "start_time": "2022-05-19T13:36:35.617Z"
   },
   {
    "duration": 9,
    "start_time": "2022-05-19T13:37:27.023Z"
   },
   {
    "duration": 14,
    "start_time": "2022-05-19T13:37:42.759Z"
   },
   {
    "duration": 15,
    "start_time": "2022-05-19T13:37:44.896Z"
   },
   {
    "duration": 4,
    "start_time": "2022-05-19T13:37:54.284Z"
   },
   {
    "duration": 2,
    "start_time": "2022-05-19T13:38:43.882Z"
   },
   {
    "duration": 3,
    "start_time": "2022-05-19T13:38:50.808Z"
   },
   {
    "duration": 58310,
    "start_time": "2022-05-19T13:39:09.374Z"
   },
   {
    "duration": 5317,
    "start_time": "2022-05-19T13:41:58.596Z"
   },
   {
    "duration": 4,
    "start_time": "2022-05-19T13:42:29.159Z"
   },
   {
    "duration": 105050,
    "start_time": "2022-05-19T13:45:53.522Z"
   },
   {
    "duration": 11,
    "start_time": "2022-05-19T13:52:23.294Z"
   },
   {
    "duration": 4,
    "start_time": "2022-05-19T13:53:20.036Z"
   },
   {
    "duration": 4,
    "start_time": "2022-05-19T13:53:39.395Z"
   },
   {
    "duration": 32138,
    "start_time": "2022-05-19T13:54:06.705Z"
   },
   {
    "duration": 5,
    "start_time": "2022-05-19T13:54:39.695Z"
   },
   {
    "duration": 4,
    "start_time": "2022-05-19T13:54:42.427Z"
   },
   {
    "duration": 60432,
    "start_time": "2022-05-19T13:54:48.431Z"
   },
   {
    "duration": 4,
    "start_time": "2022-05-19T13:55:54.659Z"
   },
   {
    "duration": 102864,
    "start_time": "2022-05-19T13:55:56.996Z"
   },
   {
    "duration": 4,
    "start_time": "2022-05-19T13:57:47.644Z"
   },
   {
    "duration": 6,
    "start_time": "2022-05-19T13:58:43.076Z"
   },
   {
    "duration": 4,
    "start_time": "2022-05-19T13:58:44.070Z"
   },
   {
    "duration": 59835,
    "start_time": "2022-05-19T13:58:46.162Z"
   },
   {
    "duration": 4,
    "start_time": "2022-05-19T13:59:49.705Z"
   },
   {
    "duration": 6,
    "start_time": "2022-05-19T14:00:01.859Z"
   },
   {
    "duration": 93534,
    "start_time": "2022-05-19T14:00:07.692Z"
   },
   {
    "duration": 4,
    "start_time": "2022-05-19T14:03:11.158Z"
   },
   {
    "duration": 8,
    "start_time": "2022-05-19T14:04:40.049Z"
   },
   {
    "duration": 3063,
    "start_time": "2022-05-19T15:48:33.596Z"
   },
   {
    "duration": 8348,
    "start_time": "2022-05-19T15:48:36.662Z"
   },
   {
    "duration": 2470,
    "start_time": "2022-05-19T15:48:45.011Z"
   },
   {
    "duration": 3777,
    "start_time": "2022-05-19T15:48:47.483Z"
   },
   {
    "duration": 3,
    "start_time": "2022-05-19T15:48:51.263Z"
   },
   {
    "duration": 114,
    "start_time": "2022-05-19T15:48:51.268Z"
   },
   {
    "duration": 70,
    "start_time": "2022-05-19T15:48:51.384Z"
   },
   {
    "duration": 529,
    "start_time": "2022-05-19T15:48:51.456Z"
   },
   {
    "duration": 148,
    "start_time": "2022-05-19T15:48:51.987Z"
   },
   {
    "duration": 184,
    "start_time": "2022-05-19T15:48:52.137Z"
   },
   {
    "duration": 12,
    "start_time": "2022-05-19T15:48:52.322Z"
   },
   {
    "duration": 15,
    "start_time": "2022-05-19T15:48:52.336Z"
   },
   {
    "duration": 49,
    "start_time": "2022-05-19T15:48:52.353Z"
   },
   {
    "duration": 35,
    "start_time": "2022-05-19T15:48:52.406Z"
   },
   {
    "duration": 45,
    "start_time": "2022-05-19T15:48:52.443Z"
   },
   {
    "duration": 40,
    "start_time": "2022-05-19T15:48:52.494Z"
   },
   {
    "duration": 484,
    "start_time": "2022-05-19T15:48:52.540Z"
   },
   {
    "duration": 10,
    "start_time": "2022-05-19T15:48:53.026Z"
   },
   {
    "duration": 56,
    "start_time": "2022-05-19T15:48:53.038Z"
   },
   {
    "duration": 34,
    "start_time": "2022-05-19T15:48:53.096Z"
   },
   {
    "duration": 35,
    "start_time": "2022-05-19T15:48:53.132Z"
   },
   {
    "duration": 3026,
    "start_time": "2022-05-19T15:48:53.170Z"
   },
   {
    "duration": 17,
    "start_time": "2022-05-19T15:48:56.198Z"
   },
   {
    "duration": 56,
    "start_time": "2022-05-19T15:48:56.225Z"
   },
   {
    "duration": 1736,
    "start_time": "2022-05-19T15:48:56.282Z"
   },
   {
    "duration": 5,
    "start_time": "2022-05-19T15:48:58.024Z"
   },
   {
    "duration": 33,
    "start_time": "2022-05-19T15:48:58.034Z"
   },
   {
    "duration": 1662,
    "start_time": "2022-05-19T15:48:58.070Z"
   },
   {
    "duration": 312,
    "start_time": "2022-05-19T15:48:59.734Z"
   },
   {
    "duration": 788,
    "start_time": "2022-05-19T15:49:00.047Z"
   },
   {
    "duration": 666,
    "start_time": "2022-05-19T15:49:00.837Z"
   },
   {
    "duration": 14,
    "start_time": "2022-05-19T15:49:01.506Z"
   },
   {
    "duration": 597,
    "start_time": "2022-05-19T15:49:01.522Z"
   },
   {
    "duration": 20,
    "start_time": "2022-05-19T15:49:02.121Z"
   },
   {
    "duration": 49,
    "start_time": "2022-05-19T15:49:02.143Z"
   },
   {
    "duration": 55,
    "start_time": "2022-05-19T15:49:02.194Z"
   },
   {
    "duration": 14,
    "start_time": "2022-05-19T15:49:02.251Z"
   },
   {
    "duration": 52,
    "start_time": "2022-05-19T15:49:02.271Z"
   },
   {
    "duration": 170397,
    "start_time": "2022-05-19T15:49:02.326Z"
   },
   {
    "duration": 546,
    "start_time": "2022-05-19T15:51:52.724Z"
   },
   {
    "duration": 146757,
    "start_time": "2022-05-19T15:53:32.274Z"
   },
   {
    "duration": 370987,
    "start_time": "2022-05-19T15:55:59.032Z"
   },
   {
    "duration": 5,
    "start_time": "2022-05-19T16:02:10.021Z"
   },
   {
    "duration": 374957,
    "start_time": "2022-05-19T16:02:10.028Z"
   },
   {
    "duration": 1817,
    "start_time": "2022-05-19T16:08:24.992Z"
   },
   {
    "duration": 815390,
    "start_time": "2022-05-19T16:08:26.811Z"
   },
   {
    "duration": 1383,
    "start_time": "2022-05-19T16:22:02.203Z"
   },
   {
    "duration": 1018,
    "start_time": "2022-05-19T16:22:03.587Z"
   },
   {
    "duration": 6,
    "start_time": "2022-05-19T16:22:04.607Z"
   },
   {
    "duration": 11,
    "start_time": "2022-05-19T16:22:04.615Z"
   },
   {
    "duration": 69155,
    "start_time": "2022-05-19T16:22:04.627Z"
   },
   {
    "duration": 0,
    "start_time": "2022-05-19T16:23:13.784Z"
   },
   {
    "duration": 0,
    "start_time": "2022-05-19T16:23:13.785Z"
   },
   {
    "duration": 0,
    "start_time": "2022-05-19T16:23:13.786Z"
   },
   {
    "duration": 0,
    "start_time": "2022-05-19T16:23:13.787Z"
   },
   {
    "duration": 0,
    "start_time": "2022-05-19T16:23:13.787Z"
   },
   {
    "duration": 0,
    "start_time": "2022-05-19T16:23:13.788Z"
   },
   {
    "duration": 0,
    "start_time": "2022-05-19T16:23:13.789Z"
   },
   {
    "duration": 0,
    "start_time": "2022-05-19T16:23:13.790Z"
   },
   {
    "duration": 1,
    "start_time": "2022-05-19T16:23:13.790Z"
   },
   {
    "duration": 0,
    "start_time": "2022-05-19T16:23:13.791Z"
   },
   {
    "duration": 0,
    "start_time": "2022-05-19T16:23:13.792Z"
   },
   {
    "duration": 0,
    "start_time": "2022-05-19T16:23:13.793Z"
   },
   {
    "duration": 0,
    "start_time": "2022-05-19T16:23:13.794Z"
   },
   {
    "duration": 6,
    "start_time": "2022-05-19T16:36:37.016Z"
   },
   {
    "duration": 4,
    "start_time": "2022-05-19T16:36:39.512Z"
   },
   {
    "duration": 52,
    "start_time": "2022-05-19T16:36:40.610Z"
   },
   {
    "duration": 7,
    "start_time": "2022-05-19T16:38:39.410Z"
   },
   {
    "duration": 7,
    "start_time": "2022-05-19T16:38:40.683Z"
   },
   {
    "duration": 90,
    "start_time": "2022-05-19T16:38:41.710Z"
   },
   {
    "duration": 6,
    "start_time": "2022-05-19T16:39:12.396Z"
   },
   {
    "duration": 5,
    "start_time": "2022-05-19T16:39:13.047Z"
   },
   {
    "duration": 77,
    "start_time": "2022-05-19T16:39:14.113Z"
   },
   {
    "duration": 6,
    "start_time": "2022-05-19T16:39:50.196Z"
   },
   {
    "duration": 4,
    "start_time": "2022-05-19T16:39:51.350Z"
   },
   {
    "duration": 526,
    "start_time": "2022-05-19T16:39:51.881Z"
   },
   {
    "duration": 6,
    "start_time": "2022-05-19T16:39:59.953Z"
   },
   {
    "duration": 4,
    "start_time": "2022-05-19T16:40:00.562Z"
   },
   {
    "duration": 77957,
    "start_time": "2022-05-19T16:40:01.393Z"
   },
   {
    "duration": 8,
    "start_time": "2022-05-19T16:42:12.810Z"
   },
   {
    "duration": 7,
    "start_time": "2022-05-19T16:42:15.073Z"
   },
   {
    "duration": 68201,
    "start_time": "2022-05-19T16:42:15.930Z"
   },
   {
    "duration": 4,
    "start_time": "2022-05-19T16:50:36.749Z"
   },
   {
    "duration": 103957,
    "start_time": "2022-05-19T16:50:38.589Z"
   },
   {
    "duration": 9,
    "start_time": "2022-05-19T16:52:22.548Z"
   },
   {
    "duration": 8068,
    "start_time": "2022-05-19T16:52:26.713Z"
   }
  ],
  "kernelspec": {
   "display_name": "Python 3 (ipykernel)",
   "language": "python",
   "name": "python3"
  },
  "language_info": {
   "codemirror_mode": {
    "name": "ipython",
    "version": 3
   },
   "file_extension": ".py",
   "mimetype": "text/x-python",
   "name": "python",
   "nbconvert_exporter": "python",
   "pygments_lexer": "ipython3",
   "version": "3.9.13"
  },
  "toc": {
   "base_numbering": 1,
   "nav_menu": {},
   "number_sections": true,
   "sideBar": true,
   "skip_h1_title": true,
   "title_cell": "Table of Contents",
   "title_sidebar": "Contents",
   "toc_cell": false,
   "toc_position": {
    "height": "calc(100% - 180px)",
    "left": "10px",
    "top": "150px",
    "width": "281.438px"
   },
   "toc_section_display": true,
   "toc_window_display": true
  },
  "toc-autonumbering": false,
  "toc-showmarkdowntxt": false
 },
 "nbformat": 4,
 "nbformat_minor": 5
}
