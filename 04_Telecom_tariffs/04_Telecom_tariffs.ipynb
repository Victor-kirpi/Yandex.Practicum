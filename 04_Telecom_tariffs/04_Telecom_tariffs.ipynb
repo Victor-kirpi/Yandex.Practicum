{
 "cells": [
  {
   "cell_type": "markdown",
   "metadata": {},
   "source": [
    "<font size=\"4\"><b>Оглавление </b></p></font> \n",
    "<a id='contents'></a>\n",
    "\n",
    "1. [Постановка задания](#intro)\n",
    "2. [Обзор данных](#data_review)\n",
    "- [Выводы](#data_reviw_summary)\n",
    "3. [Предобработка данных](#data_moderation)\n",
    "- [Типы данных](#data_type)\n",
    "- [Проверка явных дубликатов](#data_duplicates)\n",
    "- [Обработка тарифов](#tariffs)\n",
    "- [Выводы](#data_moderation_summary)\n",
    "4. [Исследование данных](#data_research)\n",
    "- [Выводы](#data_research_summary)\n",
    "5. [Проверка гипотез](#hypothesis_check)\n",
    "- [Гипотеза 1](#hypothesis_1)\n",
    "- [Гипотеза 2](#hypothesis_2)\n",
    "6. [Итоги исследования](#summary)"
   ]
  },
  {
   "cell_type": "markdown",
   "metadata": {},
   "source": [
    "# **Определение перспективного тарифа для телеком-компании** \n",
    "<a id='intro'></a>"
   ]
  },
  {
   "cell_type": "markdown",
   "metadata": {},
   "source": [
    "**Заказчик** — федеральный оператор сотовой связи «Мегалайн».\n",
    "\n",
    "**Цель исследования**:\n",
    "1. Сравнить два перспективных тарифных плана: «Смарт» и «Ультра» - на основании клиентской базы оператора для определения наиболее прибыльного.\n",
    "\n",
    "**Поставленные задачи**\n",
    "1. Изучить предоставленную базу данных клиентов и модели их потребительского поведения.\n",
    "2. Сделать предварительный анализ тарифов на небольшой выборке клиентов.\n",
    "3. Резюмировать анализ и выбрать лучшее решение для бизнеса, которое следует развивать среди клиентов.\n",
    "\n",
    "**Дальнейшее использование**\n",
    "\n",
    "Результаты исследования будут использоваться в дальнейшем при планировании бюджета компании на маркетинговые процессы и позволит сконцентрировать внимание на развитии наиболее выгодного и прибыльного тарифа. \n",
    "\n",
    "**Дополнительно предоставленная инфомарция о тарифах**\n",
    "\n",
    "***Тариф «Смарт»***\n",
    "- Ежемесячная плата, руб.\t550\t\n",
    "- Включено: (мин/смс/Гб)\t500/50/15\t\n",
    "- Сверх пакета, ру.: (мин/смс/Гб)\t3/3/200\t\n",
    "\n",
    "***Тариф «Ультра»***\n",
    "- Ежемесячная плата, руб.\t1950\t\n",
    "- Включено: (мин/смс/Гб)\t3000/1000/30\t\n",
    "- Сверх пакета, ру.: (мин/смс/Гб)\t1/1/150\n",
    "\n",
    "[К оглавлению](#contents)"
   ]
  },
  {
   "cell_type": "markdown",
   "metadata": {},
   "source": [
    "## **I. Обзор данных** \n",
    "<a id='data_review'></a>"
   ]
  },
  {
   "cell_type": "markdown",
   "metadata": {},
   "source": [
    "В ходе исследования нам понадобятся библиотеки:\n",
    "\n",
    "* `pandas`\n",
    "* `seaborn`\n",
    "* `math`\n",
    "* `matplotlib`\n",
    "* `numpy`\n",
    "* `scipy`\n",
    "* `copy`\n",
    "* `datetime`\n",
    "\n",
    "Поэтому сразу импортируем их."
   ]
  },
  {
   "cell_type": "code",
   "execution_count": 1,
   "metadata": {},
   "outputs": [],
   "source": [
    "import pandas as pd\n",
    "\n",
    "pd.options.display.float_format ='{:,.1f}'.format\n",
    "\n",
    "import seaborn as sb\n",
    "\n",
    "import math\n",
    "\n",
    "import matplotlib.pyplot as plt\n",
    "\n",
    "import numpy as np\n",
    "\n",
    "from scipy import stats as st\n",
    "\n",
    "import copy\n",
    "\n",
    "from datetime import datetime"
   ]
  },
  {
   "cell_type": "markdown",
   "metadata": {},
   "source": [
    "Сначала составим представление о полученных исходных данных.\n",
    "\n",
    "Прочитаем исходные файлы с данными клиентов `calls.csv`, `internet.csv`, `messages.csv`, `tariffs.csv` и `users.csv` из папки `/datasets/` и сохраним их в одноименные переменные:"
   ]
  },
  {
   "cell_type": "code",
   "execution_count": 2,
   "metadata": {},
   "outputs": [],
   "source": [
    "calls = pd.read_csv('/datasets/calls.csv')\n",
    "internet = pd.read_csv('/datasets/internet.csv', index_col=0)\n",
    "messages = pd.read_csv('/datasets/messages.csv')\n",
    "tariffs = pd.read_csv('/datasets/tariffs.csv')\n",
    "users = pd.read_csv('/datasets/users.csv')\n",
    "\n",
    "#сохраним все в единую пемеренную `df`:\n",
    "df = {\n",
    "    'users':users,\n",
    "    'calls': calls, \n",
    "    'messages':messages,\n",
    "    'internet': internet, \n",
    "    'tariffs':tariffs\n",
    "}"
   ]
  },
  {
   "cell_type": "markdown",
   "metadata": {},
   "source": [
    "Выведем на экран первые пять строк таблицы:"
   ]
  },
  {
   "cell_type": "code",
   "execution_count": 3,
   "metadata": {},
   "outputs": [
    {
     "name": "stdout",
     "output_type": "stream",
     "text": [
      "\n",
      "\t\u001b[4m\u001b[1m\u001b[31musers\u001b[0m\n"
     ]
    },
    {
     "data": {
      "text/html": [
       "<div>\n",
       "<style scoped>\n",
       "    .dataframe tbody tr th:only-of-type {\n",
       "        vertical-align: middle;\n",
       "    }\n",
       "\n",
       "    .dataframe tbody tr th {\n",
       "        vertical-align: top;\n",
       "    }\n",
       "\n",
       "    .dataframe thead th {\n",
       "        text-align: right;\n",
       "    }\n",
       "</style>\n",
       "<table border=\"1\" class=\"dataframe\">\n",
       "  <thead>\n",
       "    <tr style=\"text-align: right;\">\n",
       "      <th></th>\n",
       "      <th>user_id</th>\n",
       "      <th>age</th>\n",
       "      <th>churn_date</th>\n",
       "      <th>city</th>\n",
       "      <th>first_name</th>\n",
       "      <th>last_name</th>\n",
       "      <th>reg_date</th>\n",
       "      <th>tariff</th>\n",
       "    </tr>\n",
       "  </thead>\n",
       "  <tbody>\n",
       "    <tr>\n",
       "      <th>0</th>\n",
       "      <td>1000</td>\n",
       "      <td>52</td>\n",
       "      <td>NaN</td>\n",
       "      <td>Краснодар</td>\n",
       "      <td>Рафаил</td>\n",
       "      <td>Верещагин</td>\n",
       "      <td>2018-05-25</td>\n",
       "      <td>ultra</td>\n",
       "    </tr>\n",
       "    <tr>\n",
       "      <th>1</th>\n",
       "      <td>1001</td>\n",
       "      <td>41</td>\n",
       "      <td>NaN</td>\n",
       "      <td>Москва</td>\n",
       "      <td>Иван</td>\n",
       "      <td>Ежов</td>\n",
       "      <td>2018-11-01</td>\n",
       "      <td>smart</td>\n",
       "    </tr>\n",
       "    <tr>\n",
       "      <th>2</th>\n",
       "      <td>1002</td>\n",
       "      <td>59</td>\n",
       "      <td>NaN</td>\n",
       "      <td>Стерлитамак</td>\n",
       "      <td>Евгений</td>\n",
       "      <td>Абрамович</td>\n",
       "      <td>2018-06-17</td>\n",
       "      <td>smart</td>\n",
       "    </tr>\n",
       "    <tr>\n",
       "      <th>3</th>\n",
       "      <td>1003</td>\n",
       "      <td>23</td>\n",
       "      <td>NaN</td>\n",
       "      <td>Москва</td>\n",
       "      <td>Белла</td>\n",
       "      <td>Белякова</td>\n",
       "      <td>2018-08-17</td>\n",
       "      <td>ultra</td>\n",
       "    </tr>\n",
       "    <tr>\n",
       "      <th>4</th>\n",
       "      <td>1004</td>\n",
       "      <td>68</td>\n",
       "      <td>NaN</td>\n",
       "      <td>Новокузнецк</td>\n",
       "      <td>Татьяна</td>\n",
       "      <td>Авдеенко</td>\n",
       "      <td>2018-05-14</td>\n",
       "      <td>ultra</td>\n",
       "    </tr>\n",
       "  </tbody>\n",
       "</table>\n",
       "</div>"
      ],
      "text/plain": [
       "   user_id  age churn_date         city first_name  last_name    reg_date  \\\n",
       "0     1000   52        NaN    Краснодар     Рафаил  Верещагин  2018-05-25   \n",
       "1     1001   41        NaN       Москва       Иван       Ежов  2018-11-01   \n",
       "2     1002   59        NaN  Стерлитамак    Евгений  Абрамович  2018-06-17   \n",
       "3     1003   23        NaN       Москва      Белла   Белякова  2018-08-17   \n",
       "4     1004   68        NaN  Новокузнецк    Татьяна   Авдеенко  2018-05-14   \n",
       "\n",
       "  tariff  \n",
       "0  ultra  \n",
       "1  smart  \n",
       "2  smart  \n",
       "3  ultra  \n",
       "4  ultra  "
      ]
     },
     "metadata": {},
     "output_type": "display_data"
    },
    {
     "name": "stdout",
     "output_type": "stream",
     "text": [
      "________________________________________________________________________________________________________________________\n",
      "\n",
      "\t\u001b[4m\u001b[1m\u001b[31mcalls\u001b[0m\n"
     ]
    },
    {
     "data": {
      "text/html": [
       "<div>\n",
       "<style scoped>\n",
       "    .dataframe tbody tr th:only-of-type {\n",
       "        vertical-align: middle;\n",
       "    }\n",
       "\n",
       "    .dataframe tbody tr th {\n",
       "        vertical-align: top;\n",
       "    }\n",
       "\n",
       "    .dataframe thead th {\n",
       "        text-align: right;\n",
       "    }\n",
       "</style>\n",
       "<table border=\"1\" class=\"dataframe\">\n",
       "  <thead>\n",
       "    <tr style=\"text-align: right;\">\n",
       "      <th></th>\n",
       "      <th>id</th>\n",
       "      <th>call_date</th>\n",
       "      <th>duration</th>\n",
       "      <th>user_id</th>\n",
       "    </tr>\n",
       "  </thead>\n",
       "  <tbody>\n",
       "    <tr>\n",
       "      <th>0</th>\n",
       "      <td>1000_0</td>\n",
       "      <td>2018-07-25</td>\n",
       "      <td>0.0</td>\n",
       "      <td>1000</td>\n",
       "    </tr>\n",
       "    <tr>\n",
       "      <th>1</th>\n",
       "      <td>1000_1</td>\n",
       "      <td>2018-08-17</td>\n",
       "      <td>0.0</td>\n",
       "      <td>1000</td>\n",
       "    </tr>\n",
       "    <tr>\n",
       "      <th>2</th>\n",
       "      <td>1000_2</td>\n",
       "      <td>2018-06-11</td>\n",
       "      <td>2.9</td>\n",
       "      <td>1000</td>\n",
       "    </tr>\n",
       "    <tr>\n",
       "      <th>3</th>\n",
       "      <td>1000_3</td>\n",
       "      <td>2018-09-21</td>\n",
       "      <td>13.8</td>\n",
       "      <td>1000</td>\n",
       "    </tr>\n",
       "    <tr>\n",
       "      <th>4</th>\n",
       "      <td>1000_4</td>\n",
       "      <td>2018-12-15</td>\n",
       "      <td>5.2</td>\n",
       "      <td>1000</td>\n",
       "    </tr>\n",
       "  </tbody>\n",
       "</table>\n",
       "</div>"
      ],
      "text/plain": [
       "       id   call_date  duration  user_id\n",
       "0  1000_0  2018-07-25       0.0     1000\n",
       "1  1000_1  2018-08-17       0.0     1000\n",
       "2  1000_2  2018-06-11       2.9     1000\n",
       "3  1000_3  2018-09-21      13.8     1000\n",
       "4  1000_4  2018-12-15       5.2     1000"
      ]
     },
     "metadata": {},
     "output_type": "display_data"
    },
    {
     "name": "stdout",
     "output_type": "stream",
     "text": [
      "________________________________________________________________________________________________________________________\n",
      "\n",
      "\t\u001b[4m\u001b[1m\u001b[31mmessages\u001b[0m\n"
     ]
    },
    {
     "data": {
      "text/html": [
       "<div>\n",
       "<style scoped>\n",
       "    .dataframe tbody tr th:only-of-type {\n",
       "        vertical-align: middle;\n",
       "    }\n",
       "\n",
       "    .dataframe tbody tr th {\n",
       "        vertical-align: top;\n",
       "    }\n",
       "\n",
       "    .dataframe thead th {\n",
       "        text-align: right;\n",
       "    }\n",
       "</style>\n",
       "<table border=\"1\" class=\"dataframe\">\n",
       "  <thead>\n",
       "    <tr style=\"text-align: right;\">\n",
       "      <th></th>\n",
       "      <th>id</th>\n",
       "      <th>message_date</th>\n",
       "      <th>user_id</th>\n",
       "    </tr>\n",
       "  </thead>\n",
       "  <tbody>\n",
       "    <tr>\n",
       "      <th>0</th>\n",
       "      <td>1000_0</td>\n",
       "      <td>2018-06-27</td>\n",
       "      <td>1000</td>\n",
       "    </tr>\n",
       "    <tr>\n",
       "      <th>1</th>\n",
       "      <td>1000_1</td>\n",
       "      <td>2018-10-08</td>\n",
       "      <td>1000</td>\n",
       "    </tr>\n",
       "    <tr>\n",
       "      <th>2</th>\n",
       "      <td>1000_2</td>\n",
       "      <td>2018-08-04</td>\n",
       "      <td>1000</td>\n",
       "    </tr>\n",
       "    <tr>\n",
       "      <th>3</th>\n",
       "      <td>1000_3</td>\n",
       "      <td>2018-06-16</td>\n",
       "      <td>1000</td>\n",
       "    </tr>\n",
       "    <tr>\n",
       "      <th>4</th>\n",
       "      <td>1000_4</td>\n",
       "      <td>2018-12-05</td>\n",
       "      <td>1000</td>\n",
       "    </tr>\n",
       "  </tbody>\n",
       "</table>\n",
       "</div>"
      ],
      "text/plain": [
       "       id message_date  user_id\n",
       "0  1000_0   2018-06-27     1000\n",
       "1  1000_1   2018-10-08     1000\n",
       "2  1000_2   2018-08-04     1000\n",
       "3  1000_3   2018-06-16     1000\n",
       "4  1000_4   2018-12-05     1000"
      ]
     },
     "metadata": {},
     "output_type": "display_data"
    },
    {
     "name": "stdout",
     "output_type": "stream",
     "text": [
      "________________________________________________________________________________________________________________________\n",
      "\n",
      "\t\u001b[4m\u001b[1m\u001b[31minternet\u001b[0m\n"
     ]
    },
    {
     "data": {
      "text/html": [
       "<div>\n",
       "<style scoped>\n",
       "    .dataframe tbody tr th:only-of-type {\n",
       "        vertical-align: middle;\n",
       "    }\n",
       "\n",
       "    .dataframe tbody tr th {\n",
       "        vertical-align: top;\n",
       "    }\n",
       "\n",
       "    .dataframe thead th {\n",
       "        text-align: right;\n",
       "    }\n",
       "</style>\n",
       "<table border=\"1\" class=\"dataframe\">\n",
       "  <thead>\n",
       "    <tr style=\"text-align: right;\">\n",
       "      <th></th>\n",
       "      <th>id</th>\n",
       "      <th>mb_used</th>\n",
       "      <th>session_date</th>\n",
       "      <th>user_id</th>\n",
       "    </tr>\n",
       "  </thead>\n",
       "  <tbody>\n",
       "    <tr>\n",
       "      <th>0</th>\n",
       "      <td>1000_0</td>\n",
       "      <td>113.0</td>\n",
       "      <td>2018-11-25</td>\n",
       "      <td>1000</td>\n",
       "    </tr>\n",
       "    <tr>\n",
       "      <th>1</th>\n",
       "      <td>1000_1</td>\n",
       "      <td>1,052.8</td>\n",
       "      <td>2018-09-07</td>\n",
       "      <td>1000</td>\n",
       "    </tr>\n",
       "    <tr>\n",
       "      <th>2</th>\n",
       "      <td>1000_2</td>\n",
       "      <td>1,197.3</td>\n",
       "      <td>2018-06-25</td>\n",
       "      <td>1000</td>\n",
       "    </tr>\n",
       "    <tr>\n",
       "      <th>3</th>\n",
       "      <td>1000_3</td>\n",
       "      <td>550.3</td>\n",
       "      <td>2018-08-22</td>\n",
       "      <td>1000</td>\n",
       "    </tr>\n",
       "    <tr>\n",
       "      <th>4</th>\n",
       "      <td>1000_4</td>\n",
       "      <td>302.6</td>\n",
       "      <td>2018-09-24</td>\n",
       "      <td>1000</td>\n",
       "    </tr>\n",
       "  </tbody>\n",
       "</table>\n",
       "</div>"
      ],
      "text/plain": [
       "       id  mb_used session_date  user_id\n",
       "0  1000_0    113.0   2018-11-25     1000\n",
       "1  1000_1  1,052.8   2018-09-07     1000\n",
       "2  1000_2  1,197.3   2018-06-25     1000\n",
       "3  1000_3    550.3   2018-08-22     1000\n",
       "4  1000_4    302.6   2018-09-24     1000"
      ]
     },
     "metadata": {},
     "output_type": "display_data"
    },
    {
     "name": "stdout",
     "output_type": "stream",
     "text": [
      "________________________________________________________________________________________________________________________\n",
      "\n",
      "\t\u001b[4m\u001b[1m\u001b[31mtariffs\u001b[0m\n"
     ]
    },
    {
     "data": {
      "text/html": [
       "<div>\n",
       "<style scoped>\n",
       "    .dataframe tbody tr th:only-of-type {\n",
       "        vertical-align: middle;\n",
       "    }\n",
       "\n",
       "    .dataframe tbody tr th {\n",
       "        vertical-align: top;\n",
       "    }\n",
       "\n",
       "    .dataframe thead th {\n",
       "        text-align: right;\n",
       "    }\n",
       "</style>\n",
       "<table border=\"1\" class=\"dataframe\">\n",
       "  <thead>\n",
       "    <tr style=\"text-align: right;\">\n",
       "      <th></th>\n",
       "      <th>messages_included</th>\n",
       "      <th>mb_per_month_included</th>\n",
       "      <th>minutes_included</th>\n",
       "      <th>rub_monthly_fee</th>\n",
       "      <th>rub_per_gb</th>\n",
       "      <th>rub_per_message</th>\n",
       "      <th>rub_per_minute</th>\n",
       "      <th>tariff_name</th>\n",
       "    </tr>\n",
       "  </thead>\n",
       "  <tbody>\n",
       "    <tr>\n",
       "      <th>0</th>\n",
       "      <td>50</td>\n",
       "      <td>15360</td>\n",
       "      <td>500</td>\n",
       "      <td>550</td>\n",
       "      <td>200</td>\n",
       "      <td>3</td>\n",
       "      <td>3</td>\n",
       "      <td>smart</td>\n",
       "    </tr>\n",
       "    <tr>\n",
       "      <th>1</th>\n",
       "      <td>1000</td>\n",
       "      <td>30720</td>\n",
       "      <td>3000</td>\n",
       "      <td>1950</td>\n",
       "      <td>150</td>\n",
       "      <td>1</td>\n",
       "      <td>1</td>\n",
       "      <td>ultra</td>\n",
       "    </tr>\n",
       "  </tbody>\n",
       "</table>\n",
       "</div>"
      ],
      "text/plain": [
       "   messages_included  mb_per_month_included  minutes_included  \\\n",
       "0                 50                  15360               500   \n",
       "1               1000                  30720              3000   \n",
       "\n",
       "   rub_monthly_fee  rub_per_gb  rub_per_message  rub_per_minute tariff_name  \n",
       "0              550         200                3               3       smart  \n",
       "1             1950         150                1               1       ultra  "
      ]
     },
     "metadata": {},
     "output_type": "display_data"
    },
    {
     "name": "stdout",
     "output_type": "stream",
     "text": [
      "________________________________________________________________________________________________________________________\n"
     ]
    }
   ],
   "source": [
    "for data in df:\n",
    "    print('\\n\\t\\033[4m\\033[1m\\033[31m{}\\033[0m'.format(data))\n",
    "    display(df.get(data).head())\n",
    "    print('_' * 120)"
   ]
  },
  {
   "cell_type": "markdown",
   "metadata": {},
   "source": [
    "И получим общую информацию: <a id='info'></a>"
   ]
  },
  {
   "cell_type": "code",
   "execution_count": 4,
   "metadata": {},
   "outputs": [
    {
     "name": "stdout",
     "output_type": "stream",
     "text": [
      "\t\t\u001b[4m\u001b[1m\u001b[31musers\u001b[0m \n",
      "\n",
      "<class 'pandas.core.frame.DataFrame'>\n",
      "RangeIndex: 500 entries, 0 to 499\n",
      "Data columns (total 8 columns):\n",
      " #   Column      Non-Null Count  Dtype \n",
      "---  ------      --------------  ----- \n",
      " 0   user_id     500 non-null    int64 \n",
      " 1   age         500 non-null    int64 \n",
      " 2   churn_date  38 non-null     object\n",
      " 3   city        500 non-null    object\n",
      " 4   first_name  500 non-null    object\n",
      " 5   last_name   500 non-null    object\n",
      " 6   reg_date    500 non-null    object\n",
      " 7   tariff      500 non-null    object\n",
      "dtypes: int64(2), object(6)\n",
      "memory usage: 31.4+ KB\n"
     ]
    },
    {
     "data": {
      "text/plain": [
       "None"
      ]
     },
     "metadata": {},
     "output_type": "display_data"
    },
    {
     "name": "stdout",
     "output_type": "stream",
     "text": [
      "**************************************************\n",
      "\t\t\u001b[4m\u001b[1m\u001b[31mcalls\u001b[0m \n",
      "\n",
      "<class 'pandas.core.frame.DataFrame'>\n",
      "RangeIndex: 202607 entries, 0 to 202606\n",
      "Data columns (total 4 columns):\n",
      " #   Column     Non-Null Count   Dtype  \n",
      "---  ------     --------------   -----  \n",
      " 0   id         202607 non-null  object \n",
      " 1   call_date  202607 non-null  object \n",
      " 2   duration   202607 non-null  float64\n",
      " 3   user_id    202607 non-null  int64  \n",
      "dtypes: float64(1), int64(1), object(2)\n",
      "memory usage: 6.2+ MB\n"
     ]
    },
    {
     "data": {
      "text/plain": [
       "None"
      ]
     },
     "metadata": {},
     "output_type": "display_data"
    },
    {
     "name": "stdout",
     "output_type": "stream",
     "text": [
      "**************************************************\n",
      "\t\t\u001b[4m\u001b[1m\u001b[31mmessages\u001b[0m \n",
      "\n",
      "<class 'pandas.core.frame.DataFrame'>\n",
      "RangeIndex: 123036 entries, 0 to 123035\n",
      "Data columns (total 3 columns):\n",
      " #   Column        Non-Null Count   Dtype \n",
      "---  ------        --------------   ----- \n",
      " 0   id            123036 non-null  object\n",
      " 1   message_date  123036 non-null  object\n",
      " 2   user_id       123036 non-null  int64 \n",
      "dtypes: int64(1), object(2)\n",
      "memory usage: 2.8+ MB\n"
     ]
    },
    {
     "data": {
      "text/plain": [
       "None"
      ]
     },
     "metadata": {},
     "output_type": "display_data"
    },
    {
     "name": "stdout",
     "output_type": "stream",
     "text": [
      "**************************************************\n",
      "\t\t\u001b[4m\u001b[1m\u001b[31minternet\u001b[0m \n",
      "\n",
      "<class 'pandas.core.frame.DataFrame'>\n",
      "Int64Index: 149396 entries, 0 to 149395\n",
      "Data columns (total 4 columns):\n",
      " #   Column        Non-Null Count   Dtype  \n",
      "---  ------        --------------   -----  \n",
      " 0   id            149396 non-null  object \n",
      " 1   mb_used       149396 non-null  float64\n",
      " 2   session_date  149396 non-null  object \n",
      " 3   user_id       149396 non-null  int64  \n",
      "dtypes: float64(1), int64(1), object(2)\n",
      "memory usage: 5.7+ MB\n"
     ]
    },
    {
     "data": {
      "text/plain": [
       "None"
      ]
     },
     "metadata": {},
     "output_type": "display_data"
    },
    {
     "name": "stdout",
     "output_type": "stream",
     "text": [
      "**************************************************\n",
      "\t\t\u001b[4m\u001b[1m\u001b[31mtariffs\u001b[0m \n",
      "\n",
      "<class 'pandas.core.frame.DataFrame'>\n",
      "RangeIndex: 2 entries, 0 to 1\n",
      "Data columns (total 8 columns):\n",
      " #   Column                 Non-Null Count  Dtype \n",
      "---  ------                 --------------  ----- \n",
      " 0   messages_included      2 non-null      int64 \n",
      " 1   mb_per_month_included  2 non-null      int64 \n",
      " 2   minutes_included       2 non-null      int64 \n",
      " 3   rub_monthly_fee        2 non-null      int64 \n",
      " 4   rub_per_gb             2 non-null      int64 \n",
      " 5   rub_per_message        2 non-null      int64 \n",
      " 6   rub_per_minute         2 non-null      int64 \n",
      " 7   tariff_name            2 non-null      object\n",
      "dtypes: int64(7), object(1)\n",
      "memory usage: 256.0+ bytes\n"
     ]
    },
    {
     "data": {
      "text/plain": [
       "None"
      ]
     },
     "metadata": {},
     "output_type": "display_data"
    },
    {
     "name": "stdout",
     "output_type": "stream",
     "text": [
      "**************************************************\n"
     ]
    }
   ],
   "source": [
    "for data in df:\n",
    "    print('\\t\\t\\033[4m\\033[1m\\033[31m{}\\033[0m'.format(data), '\\n')\n",
    "    display(df.get(data).info())\n",
    "    print('*' * 50)"
   ]
  },
  {
   "cell_type": "markdown",
   "metadata": {},
   "source": [
    "Итак, мы имеем следующие данные и информацию о них согласно исходной документации: \n",
    "    \n",
    "**1. Таблица `users` (информация о пользователях):** \n",
    "\n",
    "* `user_id` — уникальный идентификатор пользователя\n",
    "* `first_name`— имя пользователя\n",
    "* `last_name` — фамилия пользователя\n",
    "* `age` — возраст пользователя в годах\n",
    "* `reg_date` — дата подключения тарифа (день, месяц, год)\n",
    "* `churn_date` — дата прекращения пользования тарифом (если значение пропущено, то тариф ещё действовал на момент выгрузки данных)\n",
    "* `city` — город проживания пользователя\n",
    "* `tariff` — название тарифного плана\n",
    "\n",
    "Типы данных в столбцах — целые числа `int` и строки `object`.\n",
    "\n",
    "**2. Таблица `calls` (информация о звонках):** \n",
    "\n",
    "* `id` — уникальный номер звонка\n",
    "* `call_date` — дата звонка\n",
    "* `duration` — длительность звонка в минутах\n",
    "* `user_id` — идентификатор пользователя, сделавшего звонок\n",
    "\n",
    "Типы данных в столбцах — целые числа `int`, вещественные числа `float` и строки `object`.\n",
    "\n",
    "**3. Таблица `messages` (информация о сообщениях):**\n",
    "\n",
    "* `id` — уникальный номер сообщения\n",
    "* `message_date` — дата сообщения\n",
    "* `user_id` — идентификатор пользователя, отправившего сообщение\n",
    "\n",
    "Типы данных в столбцах — целые числа `int` и строки `object`.\n",
    "\n",
    "**4. Таблица `internet` (информация об интернет-сессиях):**\n",
    "\n",
    "* `id` — уникальный номер сессии\n",
    "* `mb_used` — объём потраченного за сессию интернет-трафика (в мегабайтах)\n",
    "* `session_date` — дата интернет-сессии\n",
    "* `user_id` — идентификатор пользователя\n",
    "\n",
    "Типы данных в столбцах — целые числа `int`, вещественные числа `float` и строки `object`.\n",
    "\n",
    "**5. Таблица `tariffs` (информация о тарифах):**\n",
    "\n",
    "* `tariff_name` — название тарифа\n",
    "* `rub_monthly_fee` — ежемесячная абонентская плата в рублях\n",
    "* `minutes_included` — количество минут разговора в месяц, включённых в абонентскую плату\n",
    "* `messages_included` — количество сообщений в месяц, включённых в абонентскую плату\n",
    "* `mb_per_month_included` — объём интернет-трафика, включённого в абонентскую плату (в мегабайтах)\n",
    "* `rub_per_minute` — стоимость минуты разговора сверх тарифного пакета (например, если в тарифе 100 минут разговора в месяц, то со 101 минуты будет взиматься плата)\n",
    "* `rub_per_message` — стоимость отправки сообщения сверх тарифного пакета\n",
    "* `rub_per_gb` — стоимость дополнительного гигабайта интернет-трафика сверх тарифного пакета (1 гигабайт = 1024 мегабайта)\n",
    "\n",
    "Типы данных в столбцах — целые числа `int` и строки `object`.\n",
    "\n",
    "Среди всех датастов в глаза бросается сразу:\n",
    "- неравное количество значений в `churn_date`, что можно объяснить продолжением пользованием тарифом клиентом на момент выгрузки; эти пропуски удалять не будем;\n",
    "- разное количество предоставленной информации по пользователям (в каждом датасете, за исключением данных и тарифах, есть уникальный идентификатор пользователя);\n",
    "- в таблице `calls` столбцы `duration` имеют нулевые значения, что свидетельствует о пропущенных звонках;\n",
    "- в таблице `internet` данные были выгружены с указанием индекса, что генерировало дополнительный столбец `Unnamed`, не представляющий никакой ценной информации;\n",
    "- по правилам оператора связи надо будет округлить значения в большую сторону до минут и Мб. Нулевые значения заменим на 1;\n",
    "- интернет трафик переведем в Гб для удобства дальнейшей обработки.\n",
    "    \n",
    "**Для второго разночтения будем придерживаться следующей логики:** <a id='logic'></a>\n",
    "* <span style=\"color: #4682B4; font-weight: 600\"> Некоторые клиенты пользовались не всеми услугами: кто-то только звонками (подавляющее большинство значений).</span>\n",
    "\n",
    "В последующем для анализа нам потребуется объединить данные из нескольких датасетов для создания выборки и проведения исследования, поэтому **образовавшиеся в процессе слияния пропуски мы заполним нулями**, основываясь принятой логике. \n",
    "\n",
    "В названиях колонок нарушений стиля не замечено.\n",
    "\n",
    "[К оглавлению](#contents)"
   ]
  },
  {
   "cell_type": "markdown",
   "metadata": {},
   "source": [
    "### **Выводы** \n",
    "<a id='data_reviw_summary'></a>\n",
    "\n",
    "В предоставленных исходных данных хранится инфомармация о пользователях, их трафике и пользованием различными услугами оператора связи, а также описание тарифов. Все данные разбиты на несколько датафреймов, объединенные уникальным идентификатором. \n",
    "\n",
    "Предварительно можно утверждать, что данных достаточно для исследования и решения поставленных задач. Однако первично потребуется преобразовать исходные данные для последующего анализа:\n",
    "1. В столбцах с датами `churn_date`, `reg_date`, `session_date`, `message_date`, `call_date`необходимо будет заменить тип данных на `datetime` вместо `object` для обработки;\n",
    "2. По правилам оператора связи нужно округлить значения времени до минут и интернет трафик до Мб в большую сторону; нулевые значения при этом заменить на 1, а Мб перевести в Гб для удобства дальнейшего анализа; при этом для веб-трафика отдельные сессии не считаются. Вместо этого общая сумма за месяц округляется в бо́льшую сторону;\n",
    "3. Объединить информацию по пользователям из нескольких датафреймов по `user_id` и устранить пропуски путем замены их на нуль на основании ранее описанной логики: некоторые клиенты пользовались не всеми услугами;\n",
    "\n",
    "[К оглавлению](#contents)"
   ]
  },
  {
   "cell_type": "markdown",
   "metadata": {},
   "source": [
    "## **II. Предобработка данных** \n",
    "<a id='data_moderation'></a>"
   ]
  },
  {
   "cell_type": "markdown",
   "metadata": {
    "tags": []
   },
   "source": [
    "### 1. Типы данных \n",
    "<a id='data_type'></a>"
   ]
  },
  {
   "cell_type": "markdown",
   "metadata": {},
   "source": [
    "Согласно ранее поставленным задачам выполним сперва преобразование типов данных.\n",
    "\n",
    "Для этого сначала переведем **столбцы с датами** `churn_date`, `reg_date`, `call_date`, `message_date`, `session_date` с типа `object` на **`datetime`**."
   ]
  },
  {
   "cell_type": "code",
   "execution_count": 5,
   "metadata": {},
   "outputs": [],
   "source": [
    "# check\n",
    "\n",
    "users['churn_date'] = users['churn_date'].fillna('2018-12-31')"
   ]
  },
  {
   "cell_type": "code",
   "execution_count": 6,
   "metadata": {},
   "outputs": [],
   "source": [
    "# check\n",
    "\n",
    "col = {'call_date':calls,\n",
    "                       'session_date':internet,\n",
    "                       'message_date':messages,\n",
    "                       'reg_date':users,\n",
    "                       'churn_date':users\n",
    "                       }\n",
    "\n",
    "for _, data in col.items():\n",
    "    data[_] = pd.to_datetime(data[_],format = '%Y-%m-%d')"
   ]
  },
  {
   "cell_type": "code",
   "execution_count": 7,
   "metadata": {},
   "outputs": [
    {
     "name": "stdout",
     "output_type": "stream",
     "text": [
      "<class 'pandas.core.frame.DataFrame'>\n",
      "RangeIndex: 500 entries, 0 to 499\n",
      "Data columns (total 8 columns):\n",
      " #   Column      Non-Null Count  Dtype         \n",
      "---  ------      --------------  -----         \n",
      " 0   user_id     500 non-null    int64         \n",
      " 1   age         500 non-null    int64         \n",
      " 2   churn_date  500 non-null    datetime64[ns]\n",
      " 3   city        500 non-null    object        \n",
      " 4   first_name  500 non-null    object        \n",
      " 5   last_name   500 non-null    object        \n",
      " 6   reg_date    500 non-null    datetime64[ns]\n",
      " 7   tariff      500 non-null    object        \n",
      "dtypes: datetime64[ns](2), int64(2), object(4)\n",
      "memory usage: 31.4+ KB\n"
     ]
    }
   ],
   "source": [
    "users.info()"
   ]
  },
  {
   "cell_type": "markdown",
   "metadata": {},
   "source": [
    "[К оглавлению](#contents)"
   ]
  },
  {
   "cell_type": "markdown",
   "metadata": {},
   "source": [
    "### 2. Проверка явных дубликатов \n",
    "<a id='data_duplicates'></a>"
   ]
  },
  {
   "cell_type": "markdown",
   "metadata": {},
   "source": [
    "Выполним проверку явных дубликатов для датасетов"
   ]
  },
  {
   "cell_type": "code",
   "execution_count": 8,
   "metadata": {},
   "outputs": [
    {
     "name": "stdout",
     "output_type": "stream",
     "text": [
      "Дубликатов в \u001b[4m\u001b[1m\u001b[31musers\u001b[0m: 0\n",
      "-------------------------\n",
      "Дубликатов в \u001b[4m\u001b[1m\u001b[31mcalls\u001b[0m: 0\n",
      "-------------------------\n",
      "Дубликатов в \u001b[4m\u001b[1m\u001b[31mmessages\u001b[0m: 0\n",
      "-------------------------\n",
      "Дубликатов в \u001b[4m\u001b[1m\u001b[31minternet\u001b[0m: 0\n",
      "-------------------------\n",
      "Дубликатов в \u001b[4m\u001b[1m\u001b[31mtariffs\u001b[0m: 0\n",
      "-------------------------\n"
     ]
    }
   ],
   "source": [
    "for data in df:\n",
    "    print(f'Дубликатов в \\033[4m\\033[1m\\033[31m{data}\\033[0m:', df.get(data).duplicated().sum())\n",
    "    print('-' * 25)"
   ]
  },
  {
   "cell_type": "markdown",
   "metadata": {},
   "source": [
    "[К оглавлению](#contents)"
   ]
  },
  {
   "cell_type": "markdown",
   "metadata": {},
   "source": [
    "### 3. Обработка тарифов \n",
    "<a id='tariffs'></a>"
   ]
  },
  {
   "cell_type": "markdown",
   "metadata": {},
   "source": [
    "В датафрейме `users` указана информация о **используемом тарифе в текстовом виде**. Добавим столбец с целочисленными значениями согласно `tariffs`:\n",
    "- 0 - `smart`\n",
    "- 1 - `ultra`"
   ]
  },
  {
   "cell_type": "code",
   "execution_count": 9,
   "metadata": {},
   "outputs": [
    {
     "data": {
      "text/plain": [
       "0    351\n",
       "1    149\n",
       "Name: tariff_id, dtype: int64"
      ]
     },
     "execution_count": 9,
     "metadata": {},
     "output_type": "execute_result"
    }
   ],
   "source": [
    "users['tariff_id'] = users['tariff'].apply(lambda x: 1 if x == 'ultra' else 0)\n",
    "users['tariff_id'].value_counts()"
   ]
  },
  {
   "cell_type": "code",
   "execution_count": 10,
   "metadata": {},
   "outputs": [],
   "source": [
    "def age_group(age):\n",
    "    if age < 18:\n",
    "        return 'дети'\n",
    "    if age <=64:\n",
    "        return 'взрослые'\n",
    "    return 'пенсионеры'"
   ]
  },
  {
   "cell_type": "code",
   "execution_count": 11,
   "metadata": {},
   "outputs": [],
   "source": [
    "users['age_group'] =  users['age'].apply(age_group)"
   ]
  },
  {
   "cell_type": "markdown",
   "metadata": {},
   "source": [
    "Для целевого анализа нужно знать, сколько минут разговора, сколько сообщений и какой объём интернет-трафика требуется пользователям каждого тарифа в месяц. Для этого добавим столбец с датами в таблицы с сообщениями, звонками и траффиком"
   ]
  },
  {
   "cell_type": "code",
   "execution_count": 12,
   "metadata": {},
   "outputs": [],
   "source": [
    "calls['month'] = pd.DatetimeIndex(calls['call_date']).month\n",
    "internet['month'] = pd.DatetimeIndex(internet['session_date']).month\n",
    "messages['month'] = pd.DatetimeIndex(messages['message_date']).month"
   ]
  },
  {
   "cell_type": "markdown",
   "metadata": {},
   "source": [
    "<a id='tyt'></a>"
   ]
  },
  {
   "cell_type": "code",
   "execution_count": 13,
   "metadata": {},
   "outputs": [
    {
     "data": {
      "text/plain": [
       "datetime.datetime(2018, 12, 25, 0, 0)"
      ]
     },
     "metadata": {},
     "output_type": "display_data"
    },
    {
     "data": {
      "text/plain": [
       "'2018-12-25'"
      ]
     },
     "metadata": {},
     "output_type": "display_data"
    },
    {
     "data": {
      "text/plain": [
       "'1975'"
      ]
     },
     "execution_count": 13,
     "metadata": {},
     "output_type": "execute_result"
    }
   ],
   "source": [
    "\n",
    "display (datetime.strptime(str('2018-12-25'),'%Y-%m-%d'))\n",
    "display (datetime.strptime(str('2018-12-25'),'%Y-%m-%d').strftime('%Y-%m-%d'))\n",
    "str(2018-12-31)\n"
   ]
  },
  {
   "cell_type": "code",
   "execution_count": 14,
   "metadata": {},
   "outputs": [],
   "source": [
    "# есть простой способ, пандосовский :)\n",
    "\n",
    "users['time_interval'] = (users['churn_date'] - users['reg_date']).dt.days\n"
   ]
  },
  {
   "cell_type": "markdown",
   "metadata": {},
   "source": [
    "Посмотрим, что получилось"
   ]
  },
  {
   "cell_type": "code",
   "execution_count": 15,
   "metadata": {},
   "outputs": [
    {
     "name": "stdout",
     "output_type": "stream",
     "text": [
      "\n",
      "\t\u001b[4m\u001b[1m\u001b[31musers\u001b[0m\n"
     ]
    },
    {
     "data": {
      "text/html": [
       "<div>\n",
       "<style scoped>\n",
       "    .dataframe tbody tr th:only-of-type {\n",
       "        vertical-align: middle;\n",
       "    }\n",
       "\n",
       "    .dataframe tbody tr th {\n",
       "        vertical-align: top;\n",
       "    }\n",
       "\n",
       "    .dataframe thead th {\n",
       "        text-align: right;\n",
       "    }\n",
       "</style>\n",
       "<table border=\"1\" class=\"dataframe\">\n",
       "  <thead>\n",
       "    <tr style=\"text-align: right;\">\n",
       "      <th></th>\n",
       "      <th>user_id</th>\n",
       "      <th>age</th>\n",
       "      <th>churn_date</th>\n",
       "      <th>city</th>\n",
       "      <th>first_name</th>\n",
       "      <th>last_name</th>\n",
       "      <th>reg_date</th>\n",
       "      <th>tariff</th>\n",
       "      <th>tariff_id</th>\n",
       "      <th>age_group</th>\n",
       "      <th>time_interval</th>\n",
       "    </tr>\n",
       "  </thead>\n",
       "  <tbody>\n",
       "    <tr>\n",
       "      <th>0</th>\n",
       "      <td>1000</td>\n",
       "      <td>52</td>\n",
       "      <td>2018-12-31</td>\n",
       "      <td>Краснодар</td>\n",
       "      <td>Рафаил</td>\n",
       "      <td>Верещагин</td>\n",
       "      <td>2018-05-25</td>\n",
       "      <td>ultra</td>\n",
       "      <td>1</td>\n",
       "      <td>взрослые</td>\n",
       "      <td>220</td>\n",
       "    </tr>\n",
       "    <tr>\n",
       "      <th>1</th>\n",
       "      <td>1001</td>\n",
       "      <td>41</td>\n",
       "      <td>2018-12-31</td>\n",
       "      <td>Москва</td>\n",
       "      <td>Иван</td>\n",
       "      <td>Ежов</td>\n",
       "      <td>2018-11-01</td>\n",
       "      <td>smart</td>\n",
       "      <td>0</td>\n",
       "      <td>взрослые</td>\n",
       "      <td>60</td>\n",
       "    </tr>\n",
       "    <tr>\n",
       "      <th>2</th>\n",
       "      <td>1002</td>\n",
       "      <td>59</td>\n",
       "      <td>2018-12-31</td>\n",
       "      <td>Стерлитамак</td>\n",
       "      <td>Евгений</td>\n",
       "      <td>Абрамович</td>\n",
       "      <td>2018-06-17</td>\n",
       "      <td>smart</td>\n",
       "      <td>0</td>\n",
       "      <td>взрослые</td>\n",
       "      <td>197</td>\n",
       "    </tr>\n",
       "    <tr>\n",
       "      <th>3</th>\n",
       "      <td>1003</td>\n",
       "      <td>23</td>\n",
       "      <td>2018-12-31</td>\n",
       "      <td>Москва</td>\n",
       "      <td>Белла</td>\n",
       "      <td>Белякова</td>\n",
       "      <td>2018-08-17</td>\n",
       "      <td>ultra</td>\n",
       "      <td>1</td>\n",
       "      <td>взрослые</td>\n",
       "      <td>136</td>\n",
       "    </tr>\n",
       "    <tr>\n",
       "      <th>4</th>\n",
       "      <td>1004</td>\n",
       "      <td>68</td>\n",
       "      <td>2018-12-31</td>\n",
       "      <td>Новокузнецк</td>\n",
       "      <td>Татьяна</td>\n",
       "      <td>Авдеенко</td>\n",
       "      <td>2018-05-14</td>\n",
       "      <td>ultra</td>\n",
       "      <td>1</td>\n",
       "      <td>пенсионеры</td>\n",
       "      <td>231</td>\n",
       "    </tr>\n",
       "  </tbody>\n",
       "</table>\n",
       "</div>"
      ],
      "text/plain": [
       "   user_id  age churn_date         city first_name  last_name   reg_date  \\\n",
       "0     1000   52 2018-12-31    Краснодар     Рафаил  Верещагин 2018-05-25   \n",
       "1     1001   41 2018-12-31       Москва       Иван       Ежов 2018-11-01   \n",
       "2     1002   59 2018-12-31  Стерлитамак    Евгений  Абрамович 2018-06-17   \n",
       "3     1003   23 2018-12-31       Москва      Белла   Белякова 2018-08-17   \n",
       "4     1004   68 2018-12-31  Новокузнецк    Татьяна   Авдеенко 2018-05-14   \n",
       "\n",
       "  tariff  tariff_id   age_group  time_interval  \n",
       "0  ultra          1    взрослые            220  \n",
       "1  smart          0    взрослые             60  \n",
       "2  smart          0    взрослые            197  \n",
       "3  ultra          1    взрослые            136  \n",
       "4  ultra          1  пенсионеры            231  "
      ]
     },
     "metadata": {},
     "output_type": "display_data"
    },
    {
     "name": "stdout",
     "output_type": "stream",
     "text": [
      "________________________________________________________________________________________________________________________\n",
      "\n",
      "\t\u001b[4m\u001b[1m\u001b[31mcalls\u001b[0m\n"
     ]
    },
    {
     "data": {
      "text/html": [
       "<div>\n",
       "<style scoped>\n",
       "    .dataframe tbody tr th:only-of-type {\n",
       "        vertical-align: middle;\n",
       "    }\n",
       "\n",
       "    .dataframe tbody tr th {\n",
       "        vertical-align: top;\n",
       "    }\n",
       "\n",
       "    .dataframe thead th {\n",
       "        text-align: right;\n",
       "    }\n",
       "</style>\n",
       "<table border=\"1\" class=\"dataframe\">\n",
       "  <thead>\n",
       "    <tr style=\"text-align: right;\">\n",
       "      <th></th>\n",
       "      <th>id</th>\n",
       "      <th>call_date</th>\n",
       "      <th>duration</th>\n",
       "      <th>user_id</th>\n",
       "      <th>month</th>\n",
       "    </tr>\n",
       "  </thead>\n",
       "  <tbody>\n",
       "    <tr>\n",
       "      <th>0</th>\n",
       "      <td>1000_0</td>\n",
       "      <td>2018-07-25</td>\n",
       "      <td>0.0</td>\n",
       "      <td>1000</td>\n",
       "      <td>7</td>\n",
       "    </tr>\n",
       "    <tr>\n",
       "      <th>1</th>\n",
       "      <td>1000_1</td>\n",
       "      <td>2018-08-17</td>\n",
       "      <td>0.0</td>\n",
       "      <td>1000</td>\n",
       "      <td>8</td>\n",
       "    </tr>\n",
       "    <tr>\n",
       "      <th>2</th>\n",
       "      <td>1000_2</td>\n",
       "      <td>2018-06-11</td>\n",
       "      <td>2.9</td>\n",
       "      <td>1000</td>\n",
       "      <td>6</td>\n",
       "    </tr>\n",
       "    <tr>\n",
       "      <th>3</th>\n",
       "      <td>1000_3</td>\n",
       "      <td>2018-09-21</td>\n",
       "      <td>13.8</td>\n",
       "      <td>1000</td>\n",
       "      <td>9</td>\n",
       "    </tr>\n",
       "    <tr>\n",
       "      <th>4</th>\n",
       "      <td>1000_4</td>\n",
       "      <td>2018-12-15</td>\n",
       "      <td>5.2</td>\n",
       "      <td>1000</td>\n",
       "      <td>12</td>\n",
       "    </tr>\n",
       "  </tbody>\n",
       "</table>\n",
       "</div>"
      ],
      "text/plain": [
       "       id  call_date  duration  user_id  month\n",
       "0  1000_0 2018-07-25       0.0     1000      7\n",
       "1  1000_1 2018-08-17       0.0     1000      8\n",
       "2  1000_2 2018-06-11       2.9     1000      6\n",
       "3  1000_3 2018-09-21      13.8     1000      9\n",
       "4  1000_4 2018-12-15       5.2     1000     12"
      ]
     },
     "metadata": {},
     "output_type": "display_data"
    },
    {
     "name": "stdout",
     "output_type": "stream",
     "text": [
      "________________________________________________________________________________________________________________________\n",
      "\n",
      "\t\u001b[4m\u001b[1m\u001b[31mmessages\u001b[0m\n"
     ]
    },
    {
     "data": {
      "text/html": [
       "<div>\n",
       "<style scoped>\n",
       "    .dataframe tbody tr th:only-of-type {\n",
       "        vertical-align: middle;\n",
       "    }\n",
       "\n",
       "    .dataframe tbody tr th {\n",
       "        vertical-align: top;\n",
       "    }\n",
       "\n",
       "    .dataframe thead th {\n",
       "        text-align: right;\n",
       "    }\n",
       "</style>\n",
       "<table border=\"1\" class=\"dataframe\">\n",
       "  <thead>\n",
       "    <tr style=\"text-align: right;\">\n",
       "      <th></th>\n",
       "      <th>id</th>\n",
       "      <th>message_date</th>\n",
       "      <th>user_id</th>\n",
       "      <th>month</th>\n",
       "    </tr>\n",
       "  </thead>\n",
       "  <tbody>\n",
       "    <tr>\n",
       "      <th>0</th>\n",
       "      <td>1000_0</td>\n",
       "      <td>2018-06-27</td>\n",
       "      <td>1000</td>\n",
       "      <td>6</td>\n",
       "    </tr>\n",
       "    <tr>\n",
       "      <th>1</th>\n",
       "      <td>1000_1</td>\n",
       "      <td>2018-10-08</td>\n",
       "      <td>1000</td>\n",
       "      <td>10</td>\n",
       "    </tr>\n",
       "    <tr>\n",
       "      <th>2</th>\n",
       "      <td>1000_2</td>\n",
       "      <td>2018-08-04</td>\n",
       "      <td>1000</td>\n",
       "      <td>8</td>\n",
       "    </tr>\n",
       "    <tr>\n",
       "      <th>3</th>\n",
       "      <td>1000_3</td>\n",
       "      <td>2018-06-16</td>\n",
       "      <td>1000</td>\n",
       "      <td>6</td>\n",
       "    </tr>\n",
       "    <tr>\n",
       "      <th>4</th>\n",
       "      <td>1000_4</td>\n",
       "      <td>2018-12-05</td>\n",
       "      <td>1000</td>\n",
       "      <td>12</td>\n",
       "    </tr>\n",
       "  </tbody>\n",
       "</table>\n",
       "</div>"
      ],
      "text/plain": [
       "       id message_date  user_id  month\n",
       "0  1000_0   2018-06-27     1000      6\n",
       "1  1000_1   2018-10-08     1000     10\n",
       "2  1000_2   2018-08-04     1000      8\n",
       "3  1000_3   2018-06-16     1000      6\n",
       "4  1000_4   2018-12-05     1000     12"
      ]
     },
     "metadata": {},
     "output_type": "display_data"
    },
    {
     "name": "stdout",
     "output_type": "stream",
     "text": [
      "________________________________________________________________________________________________________________________\n",
      "\n",
      "\t\u001b[4m\u001b[1m\u001b[31minternet\u001b[0m\n"
     ]
    },
    {
     "data": {
      "text/html": [
       "<div>\n",
       "<style scoped>\n",
       "    .dataframe tbody tr th:only-of-type {\n",
       "        vertical-align: middle;\n",
       "    }\n",
       "\n",
       "    .dataframe tbody tr th {\n",
       "        vertical-align: top;\n",
       "    }\n",
       "\n",
       "    .dataframe thead th {\n",
       "        text-align: right;\n",
       "    }\n",
       "</style>\n",
       "<table border=\"1\" class=\"dataframe\">\n",
       "  <thead>\n",
       "    <tr style=\"text-align: right;\">\n",
       "      <th></th>\n",
       "      <th>id</th>\n",
       "      <th>mb_used</th>\n",
       "      <th>session_date</th>\n",
       "      <th>user_id</th>\n",
       "      <th>month</th>\n",
       "    </tr>\n",
       "  </thead>\n",
       "  <tbody>\n",
       "    <tr>\n",
       "      <th>0</th>\n",
       "      <td>1000_0</td>\n",
       "      <td>113.0</td>\n",
       "      <td>2018-11-25</td>\n",
       "      <td>1000</td>\n",
       "      <td>11</td>\n",
       "    </tr>\n",
       "    <tr>\n",
       "      <th>1</th>\n",
       "      <td>1000_1</td>\n",
       "      <td>1,052.8</td>\n",
       "      <td>2018-09-07</td>\n",
       "      <td>1000</td>\n",
       "      <td>9</td>\n",
       "    </tr>\n",
       "    <tr>\n",
       "      <th>2</th>\n",
       "      <td>1000_2</td>\n",
       "      <td>1,197.3</td>\n",
       "      <td>2018-06-25</td>\n",
       "      <td>1000</td>\n",
       "      <td>6</td>\n",
       "    </tr>\n",
       "    <tr>\n",
       "      <th>3</th>\n",
       "      <td>1000_3</td>\n",
       "      <td>550.3</td>\n",
       "      <td>2018-08-22</td>\n",
       "      <td>1000</td>\n",
       "      <td>8</td>\n",
       "    </tr>\n",
       "    <tr>\n",
       "      <th>4</th>\n",
       "      <td>1000_4</td>\n",
       "      <td>302.6</td>\n",
       "      <td>2018-09-24</td>\n",
       "      <td>1000</td>\n",
       "      <td>9</td>\n",
       "    </tr>\n",
       "  </tbody>\n",
       "</table>\n",
       "</div>"
      ],
      "text/plain": [
       "       id  mb_used session_date  user_id  month\n",
       "0  1000_0    113.0   2018-11-25     1000     11\n",
       "1  1000_1  1,052.8   2018-09-07     1000      9\n",
       "2  1000_2  1,197.3   2018-06-25     1000      6\n",
       "3  1000_3    550.3   2018-08-22     1000      8\n",
       "4  1000_4    302.6   2018-09-24     1000      9"
      ]
     },
     "metadata": {},
     "output_type": "display_data"
    },
    {
     "name": "stdout",
     "output_type": "stream",
     "text": [
      "________________________________________________________________________________________________________________________\n",
      "\n",
      "\t\u001b[4m\u001b[1m\u001b[31mtariffs\u001b[0m\n"
     ]
    },
    {
     "data": {
      "text/html": [
       "<div>\n",
       "<style scoped>\n",
       "    .dataframe tbody tr th:only-of-type {\n",
       "        vertical-align: middle;\n",
       "    }\n",
       "\n",
       "    .dataframe tbody tr th {\n",
       "        vertical-align: top;\n",
       "    }\n",
       "\n",
       "    .dataframe thead th {\n",
       "        text-align: right;\n",
       "    }\n",
       "</style>\n",
       "<table border=\"1\" class=\"dataframe\">\n",
       "  <thead>\n",
       "    <tr style=\"text-align: right;\">\n",
       "      <th></th>\n",
       "      <th>messages_included</th>\n",
       "      <th>mb_per_month_included</th>\n",
       "      <th>minutes_included</th>\n",
       "      <th>rub_monthly_fee</th>\n",
       "      <th>rub_per_gb</th>\n",
       "      <th>rub_per_message</th>\n",
       "      <th>rub_per_minute</th>\n",
       "      <th>tariff_name</th>\n",
       "    </tr>\n",
       "  </thead>\n",
       "  <tbody>\n",
       "    <tr>\n",
       "      <th>0</th>\n",
       "      <td>50</td>\n",
       "      <td>15360</td>\n",
       "      <td>500</td>\n",
       "      <td>550</td>\n",
       "      <td>200</td>\n",
       "      <td>3</td>\n",
       "      <td>3</td>\n",
       "      <td>smart</td>\n",
       "    </tr>\n",
       "    <tr>\n",
       "      <th>1</th>\n",
       "      <td>1000</td>\n",
       "      <td>30720</td>\n",
       "      <td>3000</td>\n",
       "      <td>1950</td>\n",
       "      <td>150</td>\n",
       "      <td>1</td>\n",
       "      <td>1</td>\n",
       "      <td>ultra</td>\n",
       "    </tr>\n",
       "  </tbody>\n",
       "</table>\n",
       "</div>"
      ],
      "text/plain": [
       "   messages_included  mb_per_month_included  minutes_included  \\\n",
       "0                 50                  15360               500   \n",
       "1               1000                  30720              3000   \n",
       "\n",
       "   rub_monthly_fee  rub_per_gb  rub_per_message  rub_per_minute tariff_name  \n",
       "0              550         200                3               3       smart  \n",
       "1             1950         150                1               1       ultra  "
      ]
     },
     "metadata": {},
     "output_type": "display_data"
    },
    {
     "name": "stdout",
     "output_type": "stream",
     "text": [
      "________________________________________________________________________________________________________________________\n"
     ]
    }
   ],
   "source": [
    "for data in df:\n",
    "    print('\\n\\t\\033[4m\\033[1m\\033[31m{}\\033[0m'.format(data))\n",
    "    display(df.get(data).head())\n",
    "    print('_' * 120)"
   ]
  },
  {
   "cell_type": "markdown",
   "metadata": {},
   "source": [
    "Затем для **каждого пользователя определим** с помощью сводных таблиц:\n",
    "- количество сделанных звонков и израсходованных минут разговора по месяцам;\n",
    "- количество отправленных сообщений по месяцам;\n",
    "- объем израсходованного интернет-трафика по месяцам;\n",
    "- помесячную выручку с каждого пользователя."
   ]
  },
  {
   "cell_type": "markdown",
   "metadata": {},
   "source": [
    "Для начала узнаем сколько у нас нулевых значений времени звонка"
   ]
  },
  {
   "cell_type": "code",
   "execution_count": 16,
   "metadata": {},
   "outputs": [
    {
     "data": {
      "text/plain": [
       "0.0    39613\n",
       "Name: duration, dtype: int64"
      ]
     },
     "execution_count": 16,
     "metadata": {},
     "output_type": "execute_result"
    }
   ],
   "source": [
    "calls.loc[calls['duration'] == 0, 'duration'].value_counts()"
   ]
  },
  {
   "cell_type": "markdown",
   "metadata": {},
   "source": [
    "По правилам оператора связи **округлим значения времени до минут в большую сторону**"
   ]
  },
  {
   "cell_type": "code",
   "execution_count": 17,
   "metadata": {
    "tags": []
   },
   "outputs": [],
   "source": [
    "calls['duration'] = np.ceil(calls['duration'])"
   ]
  },
  {
   "cell_type": "code",
   "execution_count": 18,
   "metadata": {},
   "outputs": [
    {
     "data": {
      "text/html": [
       "<div>\n",
       "<style scoped>\n",
       "    .dataframe tbody tr th:only-of-type {\n",
       "        vertical-align: middle;\n",
       "    }\n",
       "\n",
       "    .dataframe tbody tr th {\n",
       "        vertical-align: top;\n",
       "    }\n",
       "\n",
       "    .dataframe thead th {\n",
       "        text-align: right;\n",
       "    }\n",
       "</style>\n",
       "<table border=\"1\" class=\"dataframe\">\n",
       "  <thead>\n",
       "    <tr style=\"text-align: right;\">\n",
       "      <th></th>\n",
       "      <th></th>\n",
       "      <th>duration</th>\n",
       "      <th>calls</th>\n",
       "    </tr>\n",
       "    <tr>\n",
       "      <th>user_id</th>\n",
       "      <th>month</th>\n",
       "      <th></th>\n",
       "      <th></th>\n",
       "    </tr>\n",
       "  </thead>\n",
       "  <tbody>\n",
       "    <tr>\n",
       "      <th rowspan=\"5\" valign=\"top\">1000</th>\n",
       "      <th>5.0</th>\n",
       "      <td>159.0</td>\n",
       "      <td>22</td>\n",
       "    </tr>\n",
       "    <tr>\n",
       "      <th>6.0</th>\n",
       "      <td>172.0</td>\n",
       "      <td>43</td>\n",
       "    </tr>\n",
       "    <tr>\n",
       "      <th>7.0</th>\n",
       "      <td>340.0</td>\n",
       "      <td>47</td>\n",
       "    </tr>\n",
       "    <tr>\n",
       "      <th>8.0</th>\n",
       "      <td>408.0</td>\n",
       "      <td>52</td>\n",
       "    </tr>\n",
       "    <tr>\n",
       "      <th>9.0</th>\n",
       "      <td>466.0</td>\n",
       "      <td>58</td>\n",
       "    </tr>\n",
       "  </tbody>\n",
       "</table>\n",
       "</div>"
      ],
      "text/plain": [
       "               duration  calls\n",
       "user_id month                 \n",
       "1000    5.0       159.0     22\n",
       "        6.0       172.0     43\n",
       "        7.0       340.0     47\n",
       "        8.0       408.0     52\n",
       "        9.0       466.0     58"
      ]
     },
     "execution_count": 18,
     "metadata": {},
     "output_type": "execute_result"
    }
   ],
   "source": [
    "# звонки\n",
    "users_calls = (calls\n",
    "               .merge(users, \n",
    "                      on='user_id', \n",
    "                      how='outer')\n",
    "               .pivot_table(values=['duration'], \n",
    "                            index=['user_id', 'month'], \n",
    "                            aggfunc={'user_id': 'count', 'duration': 'sum'})\n",
    "              )\n",
    "\n",
    "\n",
    "users_calls.columns = ['duration', 'calls']\n",
    "users_calls.head()"
   ]
  },
  {
   "cell_type": "code",
   "execution_count": 19,
   "metadata": {},
   "outputs": [
    {
     "data": {
      "text/html": [
       "<div>\n",
       "<style scoped>\n",
       "    .dataframe tbody tr th:only-of-type {\n",
       "        vertical-align: middle;\n",
       "    }\n",
       "\n",
       "    .dataframe tbody tr th {\n",
       "        vertical-align: top;\n",
       "    }\n",
       "\n",
       "    .dataframe thead th {\n",
       "        text-align: right;\n",
       "    }\n",
       "</style>\n",
       "<table border=\"1\" class=\"dataframe\">\n",
       "  <thead>\n",
       "    <tr style=\"text-align: right;\">\n",
       "      <th></th>\n",
       "      <th></th>\n",
       "      <th>messages</th>\n",
       "    </tr>\n",
       "    <tr>\n",
       "      <th>user_id</th>\n",
       "      <th>month</th>\n",
       "      <th></th>\n",
       "    </tr>\n",
       "  </thead>\n",
       "  <tbody>\n",
       "    <tr>\n",
       "      <th rowspan=\"5\" valign=\"top\">1000</th>\n",
       "      <th>5.0</th>\n",
       "      <td>22</td>\n",
       "    </tr>\n",
       "    <tr>\n",
       "      <th>6.0</th>\n",
       "      <td>60</td>\n",
       "    </tr>\n",
       "    <tr>\n",
       "      <th>7.0</th>\n",
       "      <td>75</td>\n",
       "    </tr>\n",
       "    <tr>\n",
       "      <th>8.0</th>\n",
       "      <td>81</td>\n",
       "    </tr>\n",
       "    <tr>\n",
       "      <th>9.0</th>\n",
       "      <td>57</td>\n",
       "    </tr>\n",
       "  </tbody>\n",
       "</table>\n",
       "</div>"
      ],
      "text/plain": [
       "               messages\n",
       "user_id month          \n",
       "1000    5.0          22\n",
       "        6.0          60\n",
       "        7.0          75\n",
       "        8.0          81\n",
       "        9.0          57"
      ]
     },
     "execution_count": 19,
     "metadata": {},
     "output_type": "execute_result"
    }
   ],
   "source": [
    "# сообщения\n",
    "users_messages = (messages\n",
    "                  .merge(users, \n",
    "                         on='user_id', \n",
    "                         how='outer')\n",
    "                  .pivot_table(values='id', \n",
    "                               index=['user_id', 'month',], \n",
    "                               aggfunc={'user_id': 'count'}))\n",
    "\n",
    "users_messages.columns = ['messages']\n",
    "users_messages.head()"
   ]
  },
  {
   "cell_type": "markdown",
   "metadata": {},
   "source": [
    "По правилам оператора связи также **переведем интернет трафик из Мб в Гб и округлим в большую сторону**"
   ]
  },
  {
   "cell_type": "code",
   "execution_count": 20,
   "metadata": {},
   "outputs": [
    {
     "data": {
      "text/html": [
       "<div>\n",
       "<style scoped>\n",
       "    .dataframe tbody tr th:only-of-type {\n",
       "        vertical-align: middle;\n",
       "    }\n",
       "\n",
       "    .dataframe tbody tr th {\n",
       "        vertical-align: top;\n",
       "    }\n",
       "\n",
       "    .dataframe thead th {\n",
       "        text-align: right;\n",
       "    }\n",
       "</style>\n",
       "<table border=\"1\" class=\"dataframe\">\n",
       "  <thead>\n",
       "    <tr style=\"text-align: right;\">\n",
       "      <th></th>\n",
       "      <th></th>\n",
       "      <th>gb_used</th>\n",
       "    </tr>\n",
       "    <tr>\n",
       "      <th>user_id</th>\n",
       "      <th>month</th>\n",
       "      <th></th>\n",
       "    </tr>\n",
       "  </thead>\n",
       "  <tbody>\n",
       "    <tr>\n",
       "      <th rowspan=\"5\" valign=\"top\">1000</th>\n",
       "      <th>5.0</th>\n",
       "      <td>3.0</td>\n",
       "    </tr>\n",
       "    <tr>\n",
       "      <th>6.0</th>\n",
       "      <td>23.0</td>\n",
       "    </tr>\n",
       "    <tr>\n",
       "      <th>7.0</th>\n",
       "      <td>14.0</td>\n",
       "    </tr>\n",
       "    <tr>\n",
       "      <th>8.0</th>\n",
       "      <td>14.0</td>\n",
       "    </tr>\n",
       "    <tr>\n",
       "      <th>9.0</th>\n",
       "      <td>15.0</td>\n",
       "    </tr>\n",
       "  </tbody>\n",
       "</table>\n",
       "</div>"
      ],
      "text/plain": [
       "               gb_used\n",
       "user_id month         \n",
       "1000    5.0        3.0\n",
       "        6.0       23.0\n",
       "        7.0       14.0\n",
       "        8.0       14.0\n",
       "        9.0       15.0"
      ]
     },
     "execution_count": 20,
     "metadata": {},
     "output_type": "execute_result"
    }
   ],
   "source": [
    "# интернет-трафик\n",
    "users_internet = (internet\n",
    "    .merge(users, \n",
    "           on='user_id', \n",
    "           how='outer')\n",
    "    .pivot_table(values='mb_used', \n",
    "                 index=['user_id', 'month'], \n",
    "                 aggfunc={'mb_used': 'sum'})\n",
    "                 )\n",
    "\n",
    "users_internet['mb_used'] = np.ceil(users_internet['mb_used'] / 1024)\n",
    "users_internet.columns = ['gb_used']\n",
    "\n",
    "users_internet.head()"
   ]
  },
  {
   "cell_type": "markdown",
   "metadata": {},
   "source": [
    "Сведем три таблицы в одну и добавим тарифы"
   ]
  },
  {
   "cell_type": "code",
   "execution_count": 21,
   "metadata": {},
   "outputs": [
    {
     "data": {
      "text/html": [
       "<div>\n",
       "<style scoped>\n",
       "    .dataframe tbody tr th:only-of-type {\n",
       "        vertical-align: middle;\n",
       "    }\n",
       "\n",
       "    .dataframe tbody tr th {\n",
       "        vertical-align: top;\n",
       "    }\n",
       "\n",
       "    .dataframe thead th {\n",
       "        text-align: right;\n",
       "    }\n",
       "</style>\n",
       "<table border=\"1\" class=\"dataframe\">\n",
       "  <thead>\n",
       "    <tr style=\"text-align: right;\">\n",
       "      <th></th>\n",
       "      <th>user_id</th>\n",
       "      <th>month</th>\n",
       "      <th>duration</th>\n",
       "      <th>calls</th>\n",
       "      <th>messages</th>\n",
       "      <th>gb_used</th>\n",
       "      <th>tariff_id</th>\n",
       "      <th>age_group</th>\n",
       "    </tr>\n",
       "  </thead>\n",
       "  <tbody>\n",
       "    <tr>\n",
       "      <th>0</th>\n",
       "      <td>1000</td>\n",
       "      <td>5.0</td>\n",
       "      <td>159.0</td>\n",
       "      <td>22.0</td>\n",
       "      <td>22.0</td>\n",
       "      <td>3.0</td>\n",
       "      <td>1</td>\n",
       "      <td>взрослые</td>\n",
       "    </tr>\n",
       "    <tr>\n",
       "      <th>1</th>\n",
       "      <td>1000</td>\n",
       "      <td>6.0</td>\n",
       "      <td>172.0</td>\n",
       "      <td>43.0</td>\n",
       "      <td>60.0</td>\n",
       "      <td>23.0</td>\n",
       "      <td>1</td>\n",
       "      <td>взрослые</td>\n",
       "    </tr>\n",
       "    <tr>\n",
       "      <th>2</th>\n",
       "      <td>1000</td>\n",
       "      <td>7.0</td>\n",
       "      <td>340.0</td>\n",
       "      <td>47.0</td>\n",
       "      <td>75.0</td>\n",
       "      <td>14.0</td>\n",
       "      <td>1</td>\n",
       "      <td>взрослые</td>\n",
       "    </tr>\n",
       "    <tr>\n",
       "      <th>3</th>\n",
       "      <td>1000</td>\n",
       "      <td>8.0</td>\n",
       "      <td>408.0</td>\n",
       "      <td>52.0</td>\n",
       "      <td>81.0</td>\n",
       "      <td>14.0</td>\n",
       "      <td>1</td>\n",
       "      <td>взрослые</td>\n",
       "    </tr>\n",
       "    <tr>\n",
       "      <th>4</th>\n",
       "      <td>1000</td>\n",
       "      <td>9.0</td>\n",
       "      <td>466.0</td>\n",
       "      <td>58.0</td>\n",
       "      <td>57.0</td>\n",
       "      <td>15.0</td>\n",
       "      <td>1</td>\n",
       "      <td>взрослые</td>\n",
       "    </tr>\n",
       "    <tr>\n",
       "      <th>...</th>\n",
       "      <td>...</td>\n",
       "      <td>...</td>\n",
       "      <td>...</td>\n",
       "      <td>...</td>\n",
       "      <td>...</td>\n",
       "      <td>...</td>\n",
       "      <td>...</td>\n",
       "      <td>...</td>\n",
       "    </tr>\n",
       "    <tr>\n",
       "      <th>3211</th>\n",
       "      <td>1489</td>\n",
       "      <td>10.0</td>\n",
       "      <td>NaN</td>\n",
       "      <td>NaN</td>\n",
       "      <td>21.0</td>\n",
       "      <td>20.0</td>\n",
       "      <td>0</td>\n",
       "      <td>взрослые</td>\n",
       "    </tr>\n",
       "    <tr>\n",
       "      <th>3212</th>\n",
       "      <td>1489</td>\n",
       "      <td>11.0</td>\n",
       "      <td>NaN</td>\n",
       "      <td>NaN</td>\n",
       "      <td>20.0</td>\n",
       "      <td>18.0</td>\n",
       "      <td>0</td>\n",
       "      <td>взрослые</td>\n",
       "    </tr>\n",
       "    <tr>\n",
       "      <th>3213</th>\n",
       "      <td>1489</td>\n",
       "      <td>12.0</td>\n",
       "      <td>NaN</td>\n",
       "      <td>NaN</td>\n",
       "      <td>35.0</td>\n",
       "      <td>17.0</td>\n",
       "      <td>0</td>\n",
       "      <td>взрослые</td>\n",
       "    </tr>\n",
       "    <tr>\n",
       "      <th>3214</th>\n",
       "      <td>1128</td>\n",
       "      <td>NaN</td>\n",
       "      <td>NaN</td>\n",
       "      <td>NaN</td>\n",
       "      <td>NaN</td>\n",
       "      <td>NaN</td>\n",
       "      <td>1</td>\n",
       "      <td>взрослые</td>\n",
       "    </tr>\n",
       "    <tr>\n",
       "      <th>3215</th>\n",
       "      <td>1371</td>\n",
       "      <td>NaN</td>\n",
       "      <td>NaN</td>\n",
       "      <td>NaN</td>\n",
       "      <td>NaN</td>\n",
       "      <td>NaN</td>\n",
       "      <td>0</td>\n",
       "      <td>взрослые</td>\n",
       "    </tr>\n",
       "  </tbody>\n",
       "</table>\n",
       "<p>3216 rows × 8 columns</p>\n",
       "</div>"
      ],
      "text/plain": [
       "      user_id  month  duration  calls  messages  gb_used  tariff_id age_group\n",
       "0        1000    5.0     159.0   22.0      22.0      3.0          1  взрослые\n",
       "1        1000    6.0     172.0   43.0      60.0     23.0          1  взрослые\n",
       "2        1000    7.0     340.0   47.0      75.0     14.0          1  взрослые\n",
       "3        1000    8.0     408.0   52.0      81.0     14.0          1  взрослые\n",
       "4        1000    9.0     466.0   58.0      57.0     15.0          1  взрослые\n",
       "...       ...    ...       ...    ...       ...      ...        ...       ...\n",
       "3211     1489   10.0       NaN    NaN      21.0     20.0          0  взрослые\n",
       "3212     1489   11.0       NaN    NaN      20.0     18.0          0  взрослые\n",
       "3213     1489   12.0       NaN    NaN      35.0     17.0          0  взрослые\n",
       "3214     1128    NaN       NaN    NaN       NaN      NaN          1  взрослые\n",
       "3215     1371    NaN       NaN    NaN       NaN      NaN          0  взрослые\n",
       "\n",
       "[3216 rows x 8 columns]"
      ]
     },
     "execution_count": 21,
     "metadata": {},
     "output_type": "execute_result"
    }
   ],
   "source": [
    "#последовательное объединение:\n",
    "for df in [users_calls, users_messages, users_internet]:\n",
    "    df.reset_index(level=[0,1], inplace=True)\n",
    "\n",
    "all_services = (users_calls\n",
    "                .merge(users_messages, \n",
    "                       how='outer', \n",
    "                       on=['user_id', 'month'])\n",
    "                .merge(users_internet, \n",
    "                       how='outer', \n",
    "                       on=['user_id', 'month'])\n",
    "                #добавляем тарифы и возрастную группу:\n",
    "                .merge(users[['user_id', 'tariff_id', 'age_group']], \n",
    "                                  on='user_id', \n",
    "                                  how='outer')\n",
    "               )\n",
    "all_services"
   ]
  },
  {
   "cell_type": "code",
   "execution_count": 22,
   "metadata": {},
   "outputs": [
    {
     "name": "stdout",
     "output_type": "stream",
     "text": [
      "всего пользователей 500\n",
      "пользователей в сводной таблице 500\n"
     ]
    }
   ],
   "source": [
    "print('всего пользователей', users['user_id'].count())\n",
    "\n",
    "print('пользователей в сводной таблице', len(all_services['user_id'].unique()))"
   ]
  },
  {
   "cell_type": "code",
   "execution_count": 23,
   "metadata": {},
   "outputs": [],
   "source": [
    "def not_active (service_name, service):\n",
    "    print(f'Количество пользователей, периодически или постоянно не пользующихся сервисом {service_name}:', \n",
    "      len(users['user_id'].unique()) - len(service['user_id'].unique()))"
   ]
  },
  {
   "cell_type": "code",
   "execution_count": 24,
   "metadata": {},
   "outputs": [
    {
     "name": "stdout",
     "output_type": "stream",
     "text": [
      "Количество пользователей, периодически или постоянно не пользующихся сервисом SMS: 74\n"
     ]
    }
   ],
   "source": [
    "not_active('SMS', messages)"
   ]
  },
  {
   "cell_type": "code",
   "execution_count": 25,
   "metadata": {},
   "outputs": [
    {
     "name": "stdout",
     "output_type": "stream",
     "text": [
      "Количество пользователей, периодически или постоянно не пользующихся сервисом интернетом: 3\n"
     ]
    }
   ],
   "source": [
    "not_active('интернетом', internet)"
   ]
  },
  {
   "cell_type": "code",
   "execution_count": 26,
   "metadata": {},
   "outputs": [
    {
     "name": "stdout",
     "output_type": "stream",
     "text": [
      "Количество пользователей, периодически или постоянно не пользующихся сервисом звонками: 8\n"
     ]
    }
   ],
   "source": [
    "not_active('звонками', calls)"
   ]
  },
  {
   "cell_type": "code",
   "execution_count": 27,
   "metadata": {},
   "outputs": [
    {
     "data": {
      "text/html": [
       "<div>\n",
       "<style scoped>\n",
       "    .dataframe tbody tr th:only-of-type {\n",
       "        vertical-align: middle;\n",
       "    }\n",
       "\n",
       "    .dataframe tbody tr th {\n",
       "        vertical-align: top;\n",
       "    }\n",
       "\n",
       "    .dataframe thead th {\n",
       "        text-align: right;\n",
       "    }\n",
       "</style>\n",
       "<table border=\"1\" class=\"dataframe\">\n",
       "  <thead>\n",
       "    <tr style=\"text-align: right;\">\n",
       "      <th></th>\n",
       "      <th>user_id</th>\n",
       "      <th>month</th>\n",
       "      <th>duration</th>\n",
       "      <th>calls</th>\n",
       "      <th>messages</th>\n",
       "      <th>gb_used</th>\n",
       "      <th>tariff_id</th>\n",
       "      <th>age_group</th>\n",
       "    </tr>\n",
       "  </thead>\n",
       "  <tbody>\n",
       "    <tr>\n",
       "      <th>3214</th>\n",
       "      <td>1128</td>\n",
       "      <td>NaN</td>\n",
       "      <td>NaN</td>\n",
       "      <td>NaN</td>\n",
       "      <td>NaN</td>\n",
       "      <td>NaN</td>\n",
       "      <td>1</td>\n",
       "      <td>взрослые</td>\n",
       "    </tr>\n",
       "    <tr>\n",
       "      <th>3215</th>\n",
       "      <td>1371</td>\n",
       "      <td>NaN</td>\n",
       "      <td>NaN</td>\n",
       "      <td>NaN</td>\n",
       "      <td>NaN</td>\n",
       "      <td>NaN</td>\n",
       "      <td>0</td>\n",
       "      <td>взрослые</td>\n",
       "    </tr>\n",
       "  </tbody>\n",
       "</table>\n",
       "</div>"
      ],
      "text/plain": [
       "      user_id  month  duration  calls  messages  gb_used  tariff_id age_group\n",
       "3214     1128    NaN       NaN    NaN       NaN      NaN          1  взрослые\n",
       "3215     1371    NaN       NaN    NaN       NaN      NaN          0  взрослые"
      ]
     },
     "execution_count": 27,
     "metadata": {},
     "output_type": "execute_result"
    }
   ],
   "source": [
    "all_services[all_services[['calls','messages','gb_used']].isnull().all(1)]"
   ]
  },
  {
   "cell_type": "markdown",
   "metadata": {},
   "source": [
    "два пользователя 1128 и 1371 вообще не пользуются подключенными тарифами"
   ]
  },
  {
   "cell_type": "code",
   "execution_count": 28,
   "metadata": {},
   "outputs": [
    {
     "data": {
      "text/html": [
       "<div>\n",
       "<style scoped>\n",
       "    .dataframe tbody tr th:only-of-type {\n",
       "        vertical-align: middle;\n",
       "    }\n",
       "\n",
       "    .dataframe tbody tr th {\n",
       "        vertical-align: top;\n",
       "    }\n",
       "\n",
       "    .dataframe thead th {\n",
       "        text-align: right;\n",
       "    }\n",
       "</style>\n",
       "<table border=\"1\" class=\"dataframe\">\n",
       "  <thead>\n",
       "    <tr style=\"text-align: right;\">\n",
       "      <th></th>\n",
       "      <th>user_id</th>\n",
       "      <th>calls</th>\n",
       "      <th>messages</th>\n",
       "      <th>gb_used</th>\n",
       "      <th>tariff_id</th>\n",
       "    </tr>\n",
       "  </thead>\n",
       "  <tbody>\n",
       "    <tr>\n",
       "      <th>8</th>\n",
       "      <td>1001</td>\n",
       "      <td>59.0</td>\n",
       "      <td>NaN</td>\n",
       "      <td>18.0</td>\n",
       "      <td>0</td>\n",
       "    </tr>\n",
       "    <tr>\n",
       "      <th>9</th>\n",
       "      <td>1001</td>\n",
       "      <td>63.0</td>\n",
       "      <td>NaN</td>\n",
       "      <td>14.0</td>\n",
       "      <td>0</td>\n",
       "    </tr>\n",
       "    <tr>\n",
       "      <th>42</th>\n",
       "      <td>1006</td>\n",
       "      <td>3.0</td>\n",
       "      <td>NaN</td>\n",
       "      <td>2.0</td>\n",
       "      <td>0</td>\n",
       "    </tr>\n",
       "    <tr>\n",
       "      <th>43</th>\n",
       "      <td>1006</td>\n",
       "      <td>46.0</td>\n",
       "      <td>NaN</td>\n",
       "      <td>17.0</td>\n",
       "      <td>0</td>\n",
       "    </tr>\n",
       "    <tr>\n",
       "      <th>44</th>\n",
       "      <td>1006</td>\n",
       "      <td>47.0</td>\n",
       "      <td>NaN</td>\n",
       "      <td>14.0</td>\n",
       "      <td>0</td>\n",
       "    </tr>\n",
       "    <tr>\n",
       "      <th>...</th>\n",
       "      <td>...</td>\n",
       "      <td>...</td>\n",
       "      <td>...</td>\n",
       "      <td>...</td>\n",
       "      <td>...</td>\n",
       "    </tr>\n",
       "    <tr>\n",
       "      <th>3211</th>\n",
       "      <td>1489</td>\n",
       "      <td>NaN</td>\n",
       "      <td>21.0</td>\n",
       "      <td>20.0</td>\n",
       "      <td>0</td>\n",
       "    </tr>\n",
       "    <tr>\n",
       "      <th>3212</th>\n",
       "      <td>1489</td>\n",
       "      <td>NaN</td>\n",
       "      <td>20.0</td>\n",
       "      <td>18.0</td>\n",
       "      <td>0</td>\n",
       "    </tr>\n",
       "    <tr>\n",
       "      <th>3213</th>\n",
       "      <td>1489</td>\n",
       "      <td>NaN</td>\n",
       "      <td>35.0</td>\n",
       "      <td>17.0</td>\n",
       "      <td>0</td>\n",
       "    </tr>\n",
       "    <tr>\n",
       "      <th>3214</th>\n",
       "      <td>1128</td>\n",
       "      <td>NaN</td>\n",
       "      <td>NaN</td>\n",
       "      <td>NaN</td>\n",
       "      <td>1</td>\n",
       "    </tr>\n",
       "    <tr>\n",
       "      <th>3215</th>\n",
       "      <td>1371</td>\n",
       "      <td>NaN</td>\n",
       "      <td>NaN</td>\n",
       "      <td>NaN</td>\n",
       "      <td>0</td>\n",
       "    </tr>\n",
       "  </tbody>\n",
       "</table>\n",
       "<p>549 rows × 5 columns</p>\n",
       "</div>"
      ],
      "text/plain": [
       "      user_id  calls  messages  gb_used  tariff_id\n",
       "8        1001   59.0       NaN     18.0          0\n",
       "9        1001   63.0       NaN     14.0          0\n",
       "42       1006    3.0       NaN      2.0          0\n",
       "43       1006   46.0       NaN     17.0          0\n",
       "44       1006   47.0       NaN     14.0          0\n",
       "...       ...    ...       ...      ...        ...\n",
       "3211     1489    NaN      21.0     20.0          0\n",
       "3212     1489    NaN      20.0     18.0          0\n",
       "3213     1489    NaN      35.0     17.0          0\n",
       "3214     1128    NaN       NaN      NaN          1\n",
       "3215     1371    NaN       NaN      NaN          0\n",
       "\n",
       "[549 rows x 5 columns]"
      ]
     },
     "execution_count": 28,
     "metadata": {},
     "output_type": "execute_result"
    }
   ],
   "source": [
    "(all_services[['user_id','calls','messages', 'gb_used', 'tariff_id']]\n",
    " [all_services[['calls','messages','gb_used']]\n",
    "  .isnull().any(1)])"
   ]
  },
  {
   "cell_type": "markdown",
   "metadata": {},
   "source": [
    "Как описывалась выше [логика](#logic) появления пустых значений при объединении, заполним пропуски нулями:"
   ]
  },
  {
   "cell_type": "code",
   "execution_count": 29,
   "metadata": {},
   "outputs": [
    {
     "name": "stdout",
     "output_type": "stream",
     "text": [
      "<class 'pandas.core.frame.DataFrame'>\n",
      "Int64Index: 3216 entries, 0 to 3215\n",
      "Data columns (total 8 columns):\n",
      " #   Column     Non-Null Count  Dtype  \n",
      "---  ------     --------------  -----  \n",
      " 0   user_id    3216 non-null   int64  \n",
      " 1   month      3214 non-null   float64\n",
      " 2   duration   3174 non-null   float64\n",
      " 3   calls      3174 non-null   float64\n",
      " 4   messages   2717 non-null   float64\n",
      " 5   gb_used    3203 non-null   float64\n",
      " 6   tariff_id  3216 non-null   int64  \n",
      " 7   age_group  3216 non-null   object \n",
      "dtypes: float64(5), int64(2), object(1)\n",
      "memory usage: 226.1+ KB\n"
     ]
    }
   ],
   "source": [
    "all_services.info()"
   ]
  },
  {
   "cell_type": "code",
   "execution_count": 30,
   "metadata": {},
   "outputs": [
    {
     "name": "stdout",
     "output_type": "stream",
     "text": [
      "<class 'pandas.core.frame.DataFrame'>\n",
      "Int64Index: 3216 entries, 0 to 3215\n",
      "Data columns (total 8 columns):\n",
      " #   Column     Non-Null Count  Dtype  \n",
      "---  ------     --------------  -----  \n",
      " 0   user_id    3216 non-null   int64  \n",
      " 1   month      3214 non-null   float64\n",
      " 2   duration   3216 non-null   int64  \n",
      " 3   calls      3216 non-null   int64  \n",
      " 4   messages   3216 non-null   int64  \n",
      " 5   gb_used    3216 non-null   int64  \n",
      " 6   tariff_id  3216 non-null   int64  \n",
      " 7   age_group  3216 non-null   object \n",
      "dtypes: float64(1), int64(6), object(1)\n",
      "memory usage: 226.1+ KB\n"
     ]
    }
   ],
   "source": [
    "empty_values = ['calls', 'duration', 'messages', 'gb_used']\n",
    "\n",
    "for empty in empty_values:\n",
    "    all_services[empty] = all_services[empty].fillna(0).astype('int64')\n",
    "\n",
    "all_services.info()"
   ]
  },
  {
   "cell_type": "markdown",
   "metadata": {},
   "source": [
    "Посчитаем выручку оператора связи в зависимости от тарифа"
   ]
  },
  {
   "cell_type": "code",
   "execution_count": 31,
   "metadata": {},
   "outputs": [
    {
     "data": {
      "text/html": [
       "<div>\n",
       "<style scoped>\n",
       "    .dataframe tbody tr th:only-of-type {\n",
       "        vertical-align: middle;\n",
       "    }\n",
       "\n",
       "    .dataframe tbody tr th {\n",
       "        vertical-align: top;\n",
       "    }\n",
       "\n",
       "    .dataframe thead th {\n",
       "        text-align: right;\n",
       "    }\n",
       "</style>\n",
       "<table border=\"1\" class=\"dataframe\">\n",
       "  <thead>\n",
       "    <tr style=\"text-align: right;\">\n",
       "      <th></th>\n",
       "      <th>user_id</th>\n",
       "      <th>month</th>\n",
       "      <th>duration</th>\n",
       "      <th>calls</th>\n",
       "      <th>messages</th>\n",
       "      <th>gb_used</th>\n",
       "      <th>tariff_id</th>\n",
       "      <th>age_group</th>\n",
       "      <th>revenue</th>\n",
       "    </tr>\n",
       "  </thead>\n",
       "  <tbody>\n",
       "    <tr>\n",
       "      <th>0</th>\n",
       "      <td>1000</td>\n",
       "      <td>5.0</td>\n",
       "      <td>159</td>\n",
       "      <td>22</td>\n",
       "      <td>22</td>\n",
       "      <td>3</td>\n",
       "      <td>1</td>\n",
       "      <td>взрослые</td>\n",
       "      <td>1,950.0</td>\n",
       "    </tr>\n",
       "    <tr>\n",
       "      <th>1</th>\n",
       "      <td>1000</td>\n",
       "      <td>6.0</td>\n",
       "      <td>172</td>\n",
       "      <td>43</td>\n",
       "      <td>60</td>\n",
       "      <td>23</td>\n",
       "      <td>1</td>\n",
       "      <td>взрослые</td>\n",
       "      <td>1,950.0</td>\n",
       "    </tr>\n",
       "    <tr>\n",
       "      <th>2</th>\n",
       "      <td>1000</td>\n",
       "      <td>7.0</td>\n",
       "      <td>340</td>\n",
       "      <td>47</td>\n",
       "      <td>75</td>\n",
       "      <td>14</td>\n",
       "      <td>1</td>\n",
       "      <td>взрослые</td>\n",
       "      <td>1,950.0</td>\n",
       "    </tr>\n",
       "    <tr>\n",
       "      <th>3</th>\n",
       "      <td>1000</td>\n",
       "      <td>8.0</td>\n",
       "      <td>408</td>\n",
       "      <td>52</td>\n",
       "      <td>81</td>\n",
       "      <td>14</td>\n",
       "      <td>1</td>\n",
       "      <td>взрослые</td>\n",
       "      <td>1,950.0</td>\n",
       "    </tr>\n",
       "    <tr>\n",
       "      <th>4</th>\n",
       "      <td>1000</td>\n",
       "      <td>9.0</td>\n",
       "      <td>466</td>\n",
       "      <td>58</td>\n",
       "      <td>57</td>\n",
       "      <td>15</td>\n",
       "      <td>1</td>\n",
       "      <td>взрослые</td>\n",
       "      <td>1,950.0</td>\n",
       "    </tr>\n",
       "    <tr>\n",
       "      <th>5</th>\n",
       "      <td>1000</td>\n",
       "      <td>10.0</td>\n",
       "      <td>350</td>\n",
       "      <td>57</td>\n",
       "      <td>73</td>\n",
       "      <td>15</td>\n",
       "      <td>1</td>\n",
       "      <td>взрослые</td>\n",
       "      <td>1,950.0</td>\n",
       "    </tr>\n",
       "    <tr>\n",
       "      <th>6</th>\n",
       "      <td>1000</td>\n",
       "      <td>11.0</td>\n",
       "      <td>338</td>\n",
       "      <td>43</td>\n",
       "      <td>58</td>\n",
       "      <td>15</td>\n",
       "      <td>1</td>\n",
       "      <td>взрослые</td>\n",
       "      <td>1,950.0</td>\n",
       "    </tr>\n",
       "    <tr>\n",
       "      <th>7</th>\n",
       "      <td>1000</td>\n",
       "      <td>12.0</td>\n",
       "      <td>333</td>\n",
       "      <td>46</td>\n",
       "      <td>70</td>\n",
       "      <td>10</td>\n",
       "      <td>1</td>\n",
       "      <td>взрослые</td>\n",
       "      <td>1,950.0</td>\n",
       "    </tr>\n",
       "    <tr>\n",
       "      <th>8</th>\n",
       "      <td>1001</td>\n",
       "      <td>11.0</td>\n",
       "      <td>430</td>\n",
       "      <td>59</td>\n",
       "      <td>0</td>\n",
       "      <td>18</td>\n",
       "      <td>0</td>\n",
       "      <td>взрослые</td>\n",
       "      <td>1,150.0</td>\n",
       "    </tr>\n",
       "    <tr>\n",
       "      <th>9</th>\n",
       "      <td>1001</td>\n",
       "      <td>12.0</td>\n",
       "      <td>414</td>\n",
       "      <td>63</td>\n",
       "      <td>0</td>\n",
       "      <td>14</td>\n",
       "      <td>0</td>\n",
       "      <td>взрослые</td>\n",
       "      <td>550.0</td>\n",
       "    </tr>\n",
       "  </tbody>\n",
       "</table>\n",
       "</div>"
      ],
      "text/plain": [
       "   user_id  month  duration  calls  messages  gb_used  tariff_id age_group  \\\n",
       "0     1000    5.0       159     22        22        3          1  взрослые   \n",
       "1     1000    6.0       172     43        60       23          1  взрослые   \n",
       "2     1000    7.0       340     47        75       14          1  взрослые   \n",
       "3     1000    8.0       408     52        81       14          1  взрослые   \n",
       "4     1000    9.0       466     58        57       15          1  взрослые   \n",
       "5     1000   10.0       350     57        73       15          1  взрослые   \n",
       "6     1000   11.0       338     43        58       15          1  взрослые   \n",
       "7     1000   12.0       333     46        70       10          1  взрослые   \n",
       "8     1001   11.0       430     59         0       18          0  взрослые   \n",
       "9     1001   12.0       414     63         0       14          0  взрослые   \n",
       "\n",
       "   revenue  \n",
       "0  1,950.0  \n",
       "1  1,950.0  \n",
       "2  1,950.0  \n",
       "3  1,950.0  \n",
       "4  1,950.0  \n",
       "5  1,950.0  \n",
       "6  1,950.0  \n",
       "7  1,950.0  \n",
       "8  1,150.0  \n",
       "9    550.0  "
      ]
     },
     "execution_count": 31,
     "metadata": {},
     "output_type": "execute_result"
    }
   ],
   "source": [
    "def revenue(row):\n",
    "    duration = row['duration']\n",
    "    calls = row['calls']\n",
    "    messages = row['messages']\n",
    "    gb_used = row['gb_used']\n",
    "    tariff = row['tariff_id']\n",
    "    added = []\n",
    "    \n",
    "    if tariff == 0:\n",
    "        added.append(duration - tariffs.loc[0, 'minutes_included'])\n",
    "        added.append(gb_used - tariffs.loc[0, 'mb_per_month_included'] / 1024)\n",
    "        added.append(messages - tariffs.loc[0, 'messages_included'])\n",
    "        \n",
    "        x = [0 if x < 0 else x for x in added]\n",
    "        \n",
    "        return x[2] * tariffs.loc[0, 'rub_per_message'] + x[1] * tariffs.loc[0, 'rub_per_gb'] + x[0] * tariffs.loc[0, 'rub_per_minute'] + tariffs.loc[0, 'rub_monthly_fee']\n",
    "        \n",
    "        \n",
    "    else:\n",
    "        added.append(duration - tariffs.loc[1, 'minutes_included'])\n",
    "        added.append(gb_used - tariffs.loc[1, 'mb_per_month_included'] / 1024)\n",
    "        added.append(messages - tariffs.loc[1, 'messages_included'])\n",
    "        \n",
    "        x = [0 if x < 0 else x for x in added]\n",
    "        \n",
    "        return x[2] * tariffs.loc[1, 'rub_per_message'] + x[1] * tariffs.loc[1, 'rub_per_gb'] + x[0] * tariffs.loc[1, 'rub_per_minute'] + tariffs.loc[1, 'rub_monthly_fee']\n",
    "        \n",
    "\n",
    "all_services['revenue'] = all_services.apply(revenue, axis=1)\n",
    "all_services.head(10)   "
   ]
  },
  {
   "cell_type": "markdown",
   "metadata": {},
   "source": [
    "[К оглавлению](#contents)"
   ]
  },
  {
   "cell_type": "markdown",
   "metadata": {},
   "source": [
    "### **Выводы** \n",
    "\n",
    "<a id='data_moderation_summary'></a>\n",
    "\n",
    "Во время предобработки данных было выполнено:\n",
    "* в столбцах, содержащих информацию о дате и времени, был изменен тип данных на корректный `datetime` для анализа;\n",
    "* значения времени и интернет-трафика были приведены к стандартам оператора связи, а Мб переведены в Гб для удобства дальнейшего анализа;\n",
    "* выявили количество пользователей, не пользующихся теми или иными сервисами;\n",
    "* сформировали общую информацию по пользовательской активности из нескольких датафреймов и устранили пропуски на основании ранее описанной логики: некоторые клиенты пользовались не всеми услугами;\n",
    "* посчитали выручку в зависимости от тарифа и с каждого пользователя по отдельности."
   ]
  },
  {
   "cell_type": "markdown",
   "metadata": {},
   "source": [
    "[К оглавлению](#contents)"
   ]
  },
  {
   "cell_type": "code",
   "execution_count": 32,
   "metadata": {},
   "outputs": [
    {
     "data": {
      "text/plain": [
       "4916951.0"
      ]
     },
     "execution_count": 32,
     "metadata": {},
     "output_type": "execute_result"
    }
   ],
   "source": [
    "all_services['revenue'].sum()"
   ]
  },
  {
   "cell_type": "markdown",
   "metadata": {},
   "source": [
    "## **III. Исследование данных** \n",
    "<a id='data_research'></a>"
   ]
  },
  {
   "cell_type": "markdown",
   "metadata": {},
   "source": [
    "Используя обработанные исходные данные исследуем их:\n",
    "\n",
    "* вычислим, сколько минут разговора, сколько сообщений и какой объём интернет-трафика требуется пользователям каждого тарифа в месяц \n",
    "* посчитаем среднее количество, дисперсию и стандартное отклонение\n",
    "* построем гистограммы \n",
    "* опишем распределения.\n",
    "\n",
    "Но прежде, чем начать анализ, для упрощения дальнейшей работы создадим функцию `plot`, которая будет:\n",
    "1. Принимать значение датафрейма, целевого столбца и названия \n",
    "2. Создавать на основании входной информации по столбцу и датафрейму диаграму распределения, на которой видно выбросы, верхние границы, верхние квартили, среднее значение, медиана, нижние квартили, нижние границы, выбросы"
   ]
  },
  {
   "cell_type": "code",
   "execution_count": 33,
   "metadata": {},
   "outputs": [],
   "source": [
    "def plot (DF, column, title):\n",
    "    for tariff in range(2):\n",
    "        sb.distplot(DF.query('tariff_id == @tariff')[column], kde=False)\n",
    "    names = plt.legend(['smart', 'ultra'])\n",
    "    title = plt.title(title)"
   ]
  },
  {
   "cell_type": "markdown",
   "metadata": {},
   "source": [
    "Создадим сводные таблицы для тарифов по месяцам"
   ]
  },
  {
   "cell_type": "code",
   "execution_count": 34,
   "metadata": {},
   "outputs": [],
   "source": [
    "values = ['duration', 'messages', 'gb_used', 'revenue']\n",
    "\n",
    "month_data = all_services.pivot_table(\n",
    "    index=['tariff_id', 'month', 'age_group'],\n",
    "    values=values\n",
    ")\n",
    "\n",
    "smart_per_month = month_data.loc[0]\n",
    "ultra_per_month = month_data.loc[1]"
   ]
  },
  {
   "cell_type": "code",
   "execution_count": 35,
   "metadata": {},
   "outputs": [
    {
     "name": "stdout",
     "output_type": "stream",
     "text": [
      "\t\t\u001b[4m\u001b[1m\u001b[31mТариф «Смарт»\u001b[0m\n"
     ]
    },
    {
     "data": {
      "text/html": [
       "<div>\n",
       "<style scoped>\n",
       "    .dataframe tbody tr th:only-of-type {\n",
       "        vertical-align: middle;\n",
       "    }\n",
       "\n",
       "    .dataframe tbody tr th {\n",
       "        vertical-align: top;\n",
       "    }\n",
       "\n",
       "    .dataframe thead th {\n",
       "        text-align: right;\n",
       "    }\n",
       "</style>\n",
       "<table border=\"1\" class=\"dataframe\">\n",
       "  <thead>\n",
       "    <tr style=\"text-align: right;\">\n",
       "      <th></th>\n",
       "      <th></th>\n",
       "      <th>duration</th>\n",
       "      <th>gb_used</th>\n",
       "      <th>messages</th>\n",
       "      <th>revenue</th>\n",
       "    </tr>\n",
       "    <tr>\n",
       "      <th>month</th>\n",
       "      <th>age_group</th>\n",
       "      <th></th>\n",
       "      <th></th>\n",
       "      <th></th>\n",
       "      <th></th>\n",
       "    </tr>\n",
       "  </thead>\n",
       "  <tbody>\n",
       "    <tr>\n",
       "      <th rowspan=\"2\" valign=\"top\">1.0</th>\n",
       "      <th>взрослые</th>\n",
       "      <td>172.8</td>\n",
       "      <td>7.8</td>\n",
       "      <td>15.1</td>\n",
       "      <td>655.9</td>\n",
       "    </tr>\n",
       "    <tr>\n",
       "      <th>пенсионеры</th>\n",
       "      <td>304.9</td>\n",
       "      <td>11.9</td>\n",
       "      <td>28.5</td>\n",
       "      <td>934.0</td>\n",
       "    </tr>\n",
       "    <tr>\n",
       "      <th rowspan=\"2\" valign=\"top\">2.0</th>\n",
       "      <th>взрослые</th>\n",
       "      <td>276.8</td>\n",
       "      <td>11.9</td>\n",
       "      <td>23.2</td>\n",
       "      <td>813.3</td>\n",
       "    </tr>\n",
       "    <tr>\n",
       "      <th>пенсионеры</th>\n",
       "      <td>392.4</td>\n",
       "      <td>11.8</td>\n",
       "      <td>28.0</td>\n",
       "      <td>888.5</td>\n",
       "    </tr>\n",
       "    <tr>\n",
       "      <th rowspan=\"2\" valign=\"top\">3.0</th>\n",
       "      <th>взрослые</th>\n",
       "      <td>369.9</td>\n",
       "      <td>15.1</td>\n",
       "      <td>31.3</td>\n",
       "      <td>1,157.9</td>\n",
       "    </tr>\n",
       "    <tr>\n",
       "      <th>пенсионеры</th>\n",
       "      <td>480.8</td>\n",
       "      <td>15.6</td>\n",
       "      <td>34.4</td>\n",
       "      <td>1,194.8</td>\n",
       "    </tr>\n",
       "    <tr>\n",
       "      <th rowspan=\"2\" valign=\"top\">4.0</th>\n",
       "      <th>взрослые</th>\n",
       "      <td>363.1</td>\n",
       "      <td>13.6</td>\n",
       "      <td>30.9</td>\n",
       "      <td>940.8</td>\n",
       "    </tr>\n",
       "    <tr>\n",
       "      <th>пенсионеры</th>\n",
       "      <td>384.7</td>\n",
       "      <td>13.5</td>\n",
       "      <td>29.9</td>\n",
       "      <td>1,059.6</td>\n",
       "    </tr>\n",
       "    <tr>\n",
       "      <th rowspan=\"2\" valign=\"top\">5.0</th>\n",
       "      <th>взрослые</th>\n",
       "      <td>378.3</td>\n",
       "      <td>16.0</td>\n",
       "      <td>32.5</td>\n",
       "      <td>1,230.6</td>\n",
       "    </tr>\n",
       "    <tr>\n",
       "      <th>пенсионеры</th>\n",
       "      <td>425.7</td>\n",
       "      <td>15.4</td>\n",
       "      <td>39.1</td>\n",
       "      <td>1,057.9</td>\n",
       "    </tr>\n",
       "    <tr>\n",
       "      <th rowspan=\"2\" valign=\"top\">6.0</th>\n",
       "      <th>взрослые</th>\n",
       "      <td>392.5</td>\n",
       "      <td>16.1</td>\n",
       "      <td>33.2</td>\n",
       "      <td>1,221.4</td>\n",
       "    </tr>\n",
       "    <tr>\n",
       "      <th>пенсионеры</th>\n",
       "      <td>409.2</td>\n",
       "      <td>15.5</td>\n",
       "      <td>34.2</td>\n",
       "      <td>1,129.5</td>\n",
       "    </tr>\n",
       "    <tr>\n",
       "      <th rowspan=\"2\" valign=\"top\">7.0</th>\n",
       "      <th>взрослые</th>\n",
       "      <td>405.3</td>\n",
       "      <td>15.7</td>\n",
       "      <td>32.8</td>\n",
       "      <td>1,221.4</td>\n",
       "    </tr>\n",
       "    <tr>\n",
       "      <th>пенсионеры</th>\n",
       "      <td>420.9</td>\n",
       "      <td>16.5</td>\n",
       "      <td>37.9</td>\n",
       "      <td>1,234.7</td>\n",
       "    </tr>\n",
       "    <tr>\n",
       "      <th rowspan=\"2\" valign=\"top\">8.0</th>\n",
       "      <th>взрослые</th>\n",
       "      <td>419.0</td>\n",
       "      <td>16.8</td>\n",
       "      <td>32.4</td>\n",
       "      <td>1,326.6</td>\n",
       "    </tr>\n",
       "    <tr>\n",
       "      <th>пенсионеры</th>\n",
       "      <td>431.6</td>\n",
       "      <td>16.5</td>\n",
       "      <td>38.5</td>\n",
       "      <td>1,295.9</td>\n",
       "    </tr>\n",
       "    <tr>\n",
       "      <th rowspan=\"2\" valign=\"top\">9.0</th>\n",
       "      <th>взрослые</th>\n",
       "      <td>423.2</td>\n",
       "      <td>16.2</td>\n",
       "      <td>32.2</td>\n",
       "      <td>1,227.6</td>\n",
       "    </tr>\n",
       "    <tr>\n",
       "      <th>пенсионеры</th>\n",
       "      <td>453.2</td>\n",
       "      <td>17.1</td>\n",
       "      <td>40.0</td>\n",
       "      <td>1,351.3</td>\n",
       "    </tr>\n",
       "    <tr>\n",
       "      <th rowspan=\"2\" valign=\"top\">10.0</th>\n",
       "      <th>взрослые</th>\n",
       "      <td>423.1</td>\n",
       "      <td>16.9</td>\n",
       "      <td>33.2</td>\n",
       "      <td>1,366.6</td>\n",
       "    </tr>\n",
       "    <tr>\n",
       "      <th>пенсионеры</th>\n",
       "      <td>440.5</td>\n",
       "      <td>16.7</td>\n",
       "      <td>36.6</td>\n",
       "      <td>1,356.5</td>\n",
       "    </tr>\n",
       "    <tr>\n",
       "      <th rowspan=\"2\" valign=\"top\">11.0</th>\n",
       "      <th>взрослые</th>\n",
       "      <td>427.3</td>\n",
       "      <td>16.9</td>\n",
       "      <td>33.7</td>\n",
       "      <td>1,326.0</td>\n",
       "    </tr>\n",
       "    <tr>\n",
       "      <th>пенсионеры</th>\n",
       "      <td>474.8</td>\n",
       "      <td>17.5</td>\n",
       "      <td>35.8</td>\n",
       "      <td>1,427.5</td>\n",
       "    </tr>\n",
       "    <tr>\n",
       "      <th rowspan=\"2\" valign=\"top\">12.0</th>\n",
       "      <th>взрослые</th>\n",
       "      <td>473.2</td>\n",
       "      <td>18.3</td>\n",
       "      <td>35.8</td>\n",
       "      <td>1,592.8</td>\n",
       "    </tr>\n",
       "    <tr>\n",
       "      <th>пенсионеры</th>\n",
       "      <td>502.6</td>\n",
       "      <td>17.8</td>\n",
       "      <td>37.0</td>\n",
       "      <td>1,514.0</td>\n",
       "    </tr>\n",
       "  </tbody>\n",
       "</table>\n",
       "</div>"
      ],
      "text/plain": [
       "                  duration  gb_used  messages  revenue\n",
       "month age_group                                       \n",
       "1.0   взрослые       172.8      7.8      15.1    655.9\n",
       "      пенсионеры     304.9     11.9      28.5    934.0\n",
       "2.0   взрослые       276.8     11.9      23.2    813.3\n",
       "      пенсионеры     392.4     11.8      28.0    888.5\n",
       "3.0   взрослые       369.9     15.1      31.3  1,157.9\n",
       "      пенсионеры     480.8     15.6      34.4  1,194.8\n",
       "4.0   взрослые       363.1     13.6      30.9    940.8\n",
       "      пенсионеры     384.7     13.5      29.9  1,059.6\n",
       "5.0   взрослые       378.3     16.0      32.5  1,230.6\n",
       "      пенсионеры     425.7     15.4      39.1  1,057.9\n",
       "6.0   взрослые       392.5     16.1      33.2  1,221.4\n",
       "      пенсионеры     409.2     15.5      34.2  1,129.5\n",
       "7.0   взрослые       405.3     15.7      32.8  1,221.4\n",
       "      пенсионеры     420.9     16.5      37.9  1,234.7\n",
       "8.0   взрослые       419.0     16.8      32.4  1,326.6\n",
       "      пенсионеры     431.6     16.5      38.5  1,295.9\n",
       "9.0   взрослые       423.2     16.2      32.2  1,227.6\n",
       "      пенсионеры     453.2     17.1      40.0  1,351.3\n",
       "10.0  взрослые       423.1     16.9      33.2  1,366.6\n",
       "      пенсионеры     440.5     16.7      36.6  1,356.5\n",
       "11.0  взрослые       427.3     16.9      33.7  1,326.0\n",
       "      пенсионеры     474.8     17.5      35.8  1,427.5\n",
       "12.0  взрослые       473.2     18.3      35.8  1,592.8\n",
       "      пенсионеры     502.6     17.8      37.0  1,514.0"
      ]
     },
     "execution_count": 35,
     "metadata": {},
     "output_type": "execute_result"
    }
   ],
   "source": [
    "print('\\t\\t\\033[4m\\033[1m\\033[31m{}\\033[0m'.format('Тариф «Смарт»'))\n",
    "smart_per_month"
   ]
  },
  {
   "cell_type": "code",
   "execution_count": 36,
   "metadata": {},
   "outputs": [
    {
     "name": "stdout",
     "output_type": "stream",
     "text": [
      "\t\t\u001b[4m\u001b[1m\u001b[31mТариф «Ультра»\u001b[0m\n"
     ]
    },
    {
     "data": {
      "text/html": [
       "<div>\n",
       "<style scoped>\n",
       "    .dataframe tbody tr th:only-of-type {\n",
       "        vertical-align: middle;\n",
       "    }\n",
       "\n",
       "    .dataframe tbody tr th {\n",
       "        vertical-align: top;\n",
       "    }\n",
       "\n",
       "    .dataframe thead th {\n",
       "        text-align: right;\n",
       "    }\n",
       "</style>\n",
       "<table border=\"1\" class=\"dataframe\">\n",
       "  <thead>\n",
       "    <tr style=\"text-align: right;\">\n",
       "      <th></th>\n",
       "      <th></th>\n",
       "      <th>duration</th>\n",
       "      <th>gb_used</th>\n",
       "      <th>messages</th>\n",
       "      <th>revenue</th>\n",
       "    </tr>\n",
       "    <tr>\n",
       "      <th>month</th>\n",
       "      <th>age_group</th>\n",
       "      <th></th>\n",
       "      <th></th>\n",
       "      <th></th>\n",
       "      <th></th>\n",
       "    </tr>\n",
       "  </thead>\n",
       "  <tbody>\n",
       "    <tr>\n",
       "      <th rowspan=\"2\" valign=\"top\">1.0</th>\n",
       "      <th>взрослые</th>\n",
       "      <td>445.0</td>\n",
       "      <td>11.9</td>\n",
       "      <td>42.9</td>\n",
       "      <td>1,950.0</td>\n",
       "    </tr>\n",
       "    <tr>\n",
       "      <th>пенсионеры</th>\n",
       "      <td>369.0</td>\n",
       "      <td>18.0</td>\n",
       "      <td>2.0</td>\n",
       "      <td>1,950.0</td>\n",
       "    </tr>\n",
       "    <tr>\n",
       "      <th rowspan=\"2\" valign=\"top\">2.0</th>\n",
       "      <th>взрослые</th>\n",
       "      <td>275.1</td>\n",
       "      <td>10.2</td>\n",
       "      <td>23.2</td>\n",
       "      <td>1,965.0</td>\n",
       "    </tr>\n",
       "    <tr>\n",
       "      <th>пенсионеры</th>\n",
       "      <td>407.5</td>\n",
       "      <td>20.8</td>\n",
       "      <td>15.8</td>\n",
       "      <td>2,025.0</td>\n",
       "    </tr>\n",
       "    <tr>\n",
       "      <th rowspan=\"2\" valign=\"top\">3.0</th>\n",
       "      <th>взрослые</th>\n",
       "      <td>486.0</td>\n",
       "      <td>17.1</td>\n",
       "      <td>35.9</td>\n",
       "      <td>2,030.0</td>\n",
       "    </tr>\n",
       "    <tr>\n",
       "      <th>пенсионеры</th>\n",
       "      <td>505.3</td>\n",
       "      <td>19.9</td>\n",
       "      <td>17.0</td>\n",
       "      <td>1,950.0</td>\n",
       "    </tr>\n",
       "    <tr>\n",
       "      <th rowspan=\"2\" valign=\"top\">4.0</th>\n",
       "      <th>взрослые</th>\n",
       "      <td>469.8</td>\n",
       "      <td>17.2</td>\n",
       "      <td>33.7</td>\n",
       "      <td>2,005.8</td>\n",
       "    </tr>\n",
       "    <tr>\n",
       "      <th>пенсионеры</th>\n",
       "      <td>415.7</td>\n",
       "      <td>16.2</td>\n",
       "      <td>24.1</td>\n",
       "      <td>1,987.5</td>\n",
       "    </tr>\n",
       "    <tr>\n",
       "      <th rowspan=\"2\" valign=\"top\">5.0</th>\n",
       "      <th>взрослые</th>\n",
       "      <td>513.9</td>\n",
       "      <td>18.8</td>\n",
       "      <td>38.4</td>\n",
       "      <td>2,052.8</td>\n",
       "    </tr>\n",
       "    <tr>\n",
       "      <th>пенсионеры</th>\n",
       "      <td>495.5</td>\n",
       "      <td>21.8</td>\n",
       "      <td>35.5</td>\n",
       "      <td>2,088.5</td>\n",
       "    </tr>\n",
       "    <tr>\n",
       "      <th rowspan=\"2\" valign=\"top\">6.0</th>\n",
       "      <th>взрослые</th>\n",
       "      <td>483.7</td>\n",
       "      <td>18.5</td>\n",
       "      <td>43.9</td>\n",
       "      <td>2,043.2</td>\n",
       "    </tr>\n",
       "    <tr>\n",
       "      <th>пенсионеры</th>\n",
       "      <td>465.1</td>\n",
       "      <td>20.7</td>\n",
       "      <td>33.9</td>\n",
       "      <td>2,025.0</td>\n",
       "    </tr>\n",
       "    <tr>\n",
       "      <th rowspan=\"2\" valign=\"top\">7.0</th>\n",
       "      <th>взрослые</th>\n",
       "      <td>541.6</td>\n",
       "      <td>20.8</td>\n",
       "      <td>51.9</td>\n",
       "      <td>2,165.5</td>\n",
       "    </tr>\n",
       "    <tr>\n",
       "      <th>пенсионеры</th>\n",
       "      <td>560.7</td>\n",
       "      <td>19.6</td>\n",
       "      <td>42.5</td>\n",
       "      <td>1,950.0</td>\n",
       "    </tr>\n",
       "    <tr>\n",
       "      <th rowspan=\"2\" valign=\"top\">8.0</th>\n",
       "      <th>взрослые</th>\n",
       "      <td>510.4</td>\n",
       "      <td>19.7</td>\n",
       "      <td>50.7</td>\n",
       "      <td>2,112.5</td>\n",
       "    </tr>\n",
       "    <tr>\n",
       "      <th>пенсионеры</th>\n",
       "      <td>512.1</td>\n",
       "      <td>19.1</td>\n",
       "      <td>40.2</td>\n",
       "      <td>1,976.1</td>\n",
       "    </tr>\n",
       "    <tr>\n",
       "      <th rowspan=\"2\" valign=\"top\">9.0</th>\n",
       "      <th>взрослые</th>\n",
       "      <td>525.0</td>\n",
       "      <td>18.9</td>\n",
       "      <td>52.9</td>\n",
       "      <td>2,033.9</td>\n",
       "    </tr>\n",
       "    <tr>\n",
       "      <th>пенсионеры</th>\n",
       "      <td>600.4</td>\n",
       "      <td>20.7</td>\n",
       "      <td>49.8</td>\n",
       "      <td>1,984.1</td>\n",
       "    </tr>\n",
       "    <tr>\n",
       "      <th rowspan=\"2\" valign=\"top\">10.0</th>\n",
       "      <th>взрослые</th>\n",
       "      <td>556.1</td>\n",
       "      <td>20.1</td>\n",
       "      <td>59.5</td>\n",
       "      <td>2,080.5</td>\n",
       "    </tr>\n",
       "    <tr>\n",
       "      <th>пенсионеры</th>\n",
       "      <td>566.7</td>\n",
       "      <td>20.0</td>\n",
       "      <td>53.7</td>\n",
       "      <td>2,002.2</td>\n",
       "    </tr>\n",
       "    <tr>\n",
       "      <th rowspan=\"2\" valign=\"top\">11.0</th>\n",
       "      <th>взрослые</th>\n",
       "      <td>531.8</td>\n",
       "      <td>19.6</td>\n",
       "      <td>58.2</td>\n",
       "      <td>2,088.7</td>\n",
       "    </tr>\n",
       "    <tr>\n",
       "      <th>пенсионеры</th>\n",
       "      <td>577.5</td>\n",
       "      <td>20.4</td>\n",
       "      <td>46.7</td>\n",
       "      <td>2,105.4</td>\n",
       "    </tr>\n",
       "    <tr>\n",
       "      <th rowspan=\"2\" valign=\"top\">12.0</th>\n",
       "      <th>взрослые</th>\n",
       "      <td>565.7</td>\n",
       "      <td>21.0</td>\n",
       "      <td>62.9</td>\n",
       "      <td>2,110.8</td>\n",
       "    </tr>\n",
       "    <tr>\n",
       "      <th>пенсионеры</th>\n",
       "      <td>700.1</td>\n",
       "      <td>24.5</td>\n",
       "      <td>51.4</td>\n",
       "      <td>2,250.0</td>\n",
       "    </tr>\n",
       "  </tbody>\n",
       "</table>\n",
       "</div>"
      ],
      "text/plain": [
       "                  duration  gb_used  messages  revenue\n",
       "month age_group                                       \n",
       "1.0   взрослые       445.0     11.9      42.9  1,950.0\n",
       "      пенсионеры     369.0     18.0       2.0  1,950.0\n",
       "2.0   взрослые       275.1     10.2      23.2  1,965.0\n",
       "      пенсионеры     407.5     20.8      15.8  2,025.0\n",
       "3.0   взрослые       486.0     17.1      35.9  2,030.0\n",
       "      пенсионеры     505.3     19.9      17.0  1,950.0\n",
       "4.0   взрослые       469.8     17.2      33.7  2,005.8\n",
       "      пенсионеры     415.7     16.2      24.1  1,987.5\n",
       "5.0   взрослые       513.9     18.8      38.4  2,052.8\n",
       "      пенсионеры     495.5     21.8      35.5  2,088.5\n",
       "6.0   взрослые       483.7     18.5      43.9  2,043.2\n",
       "      пенсионеры     465.1     20.7      33.9  2,025.0\n",
       "7.0   взрослые       541.6     20.8      51.9  2,165.5\n",
       "      пенсионеры     560.7     19.6      42.5  1,950.0\n",
       "8.0   взрослые       510.4     19.7      50.7  2,112.5\n",
       "      пенсионеры     512.1     19.1      40.2  1,976.1\n",
       "9.0   взрослые       525.0     18.9      52.9  2,033.9\n",
       "      пенсионеры     600.4     20.7      49.8  1,984.1\n",
       "10.0  взрослые       556.1     20.1      59.5  2,080.5\n",
       "      пенсионеры     566.7     20.0      53.7  2,002.2\n",
       "11.0  взрослые       531.8     19.6      58.2  2,088.7\n",
       "      пенсионеры     577.5     20.4      46.7  2,105.4\n",
       "12.0  взрослые       565.7     21.0      62.9  2,110.8\n",
       "      пенсионеры     700.1     24.5      51.4  2,250.0"
      ]
     },
     "execution_count": 36,
     "metadata": {},
     "output_type": "execute_result"
    }
   ],
   "source": [
    "print('\\t\\t\\033[4m\\033[1m\\033[31m{}\\033[0m'.format('Тариф «Ультра»'))\n",
    "ultra_per_month"
   ]
  },
  {
   "cell_type": "markdown",
   "metadata": {},
   "source": [
    "И посчитаем средние значения для тарифов"
   ]
  },
  {
   "cell_type": "markdown",
   "metadata": {},
   "source": [
    "<a id='additional'></a>"
   ]
  },
  {
   "cell_type": "code",
   "execution_count": 38,
   "metadata": {},
   "outputs": [
    {
     "data": {
      "text/html": [
       "<div>\n",
       "<style scoped>\n",
       "    .dataframe tbody tr th:only-of-type {\n",
       "        vertical-align: middle;\n",
       "    }\n",
       "\n",
       "    .dataframe tbody tr th {\n",
       "        vertical-align: top;\n",
       "    }\n",
       "\n",
       "    .dataframe thead th {\n",
       "        text-align: right;\n",
       "    }\n",
       "</style>\n",
       "<table border=\"1\" class=\"dataframe\">\n",
       "  <thead>\n",
       "    <tr style=\"text-align: right;\">\n",
       "      <th></th>\n",
       "      <th>tariff_id</th>\n",
       "      <th>age_group</th>\n",
       "      <th>duration</th>\n",
       "      <th>gb_used</th>\n",
       "      <th>messages</th>\n",
       "      <th>revenue</th>\n",
       "    </tr>\n",
       "  </thead>\n",
       "  <tbody>\n",
       "    <tr>\n",
       "      <th>0</th>\n",
       "      <td>0</td>\n",
       "      <td>взрослые</td>\n",
       "      <td>411.8</td>\n",
       "      <td>16.3</td>\n",
       "      <td>32.7</td>\n",
       "      <td>1,289.2</td>\n",
       "    </tr>\n",
       "    <tr>\n",
       "      <th>1</th>\n",
       "      <td>0</td>\n",
       "      <td>пенсионеры</td>\n",
       "      <td>444.0</td>\n",
       "      <td>16.4</td>\n",
       "      <td>36.5</td>\n",
       "      <td>1,291.8</td>\n",
       "    </tr>\n",
       "    <tr>\n",
       "      <th>2</th>\n",
       "      <td>1</td>\n",
       "      <td>взрослые</td>\n",
       "      <td>519.1</td>\n",
       "      <td>19.2</td>\n",
       "      <td>51.2</td>\n",
       "      <td>2,076.1</td>\n",
       "    </tr>\n",
       "    <tr>\n",
       "      <th>3</th>\n",
       "      <td>1</td>\n",
       "      <td>пенсионеры</td>\n",
       "      <td>553.6</td>\n",
       "      <td>20.6</td>\n",
       "      <td>42.0</td>\n",
       "      <td>2,046.0</td>\n",
       "    </tr>\n",
       "  </tbody>\n",
       "</table>\n",
       "</div>"
      ],
      "text/plain": [
       "   tariff_id   age_group  duration  gb_used  messages  revenue\n",
       "0          0    взрослые     411.8     16.3      32.7  1,289.2\n",
       "1          0  пенсионеры     444.0     16.4      36.5  1,291.8\n",
       "2          1    взрослые     519.1     19.2      51.2  2,076.1\n",
       "3          1  пенсионеры     553.6     20.6      42.0  2,046.0"
      ]
     },
     "metadata": {},
     "output_type": "display_data"
    }
   ],
   "source": [
    "tariff_average = (\n",
    "    all_services\n",
    "         .pivot_table(index = ['tariff_id', 'age_group'], values = values)\n",
    "         .reset_index(inplace=False)\n",
    ")\n",
    "\n",
    "\n",
    "display(tariff_average)"
   ]
  },
  {
   "cell_type": "markdown",
   "metadata": {},
   "source": [
    "Посчитаем среднее количество, дисперсию и стандартное отклонение. Построим гистограммы. Опишем распределения."
   ]
  },
  {
   "cell_type": "code",
   "execution_count": 40,
   "metadata": {},
   "outputs": [
    {
     "data": {
      "text/html": [
       "<div>\n",
       "<style scoped>\n",
       "    .dataframe tbody tr th:only-of-type {\n",
       "        vertical-align: middle;\n",
       "    }\n",
       "\n",
       "    .dataframe tbody tr th {\n",
       "        vertical-align: top;\n",
       "    }\n",
       "\n",
       "    .dataframe thead tr th {\n",
       "        text-align: left;\n",
       "    }\n",
       "</style>\n",
       "<table border=\"1\" class=\"dataframe\">\n",
       "  <thead>\n",
       "    <tr>\n",
       "      <th></th>\n",
       "      <th>tariff_id</th>\n",
       "      <th colspan=\"4\" halign=\"left\">mean</th>\n",
       "      <th colspan=\"4\" halign=\"left\">var</th>\n",
       "      <th colspan=\"4\" halign=\"left\">std</th>\n",
       "      <th colspan=\"4\" halign=\"left\">max</th>\n",
       "    </tr>\n",
       "    <tr>\n",
       "      <th></th>\n",
       "      <th></th>\n",
       "      <th>min</th>\n",
       "      <th>gb_used</th>\n",
       "      <th>mes</th>\n",
       "      <th>revenue</th>\n",
       "      <th>min</th>\n",
       "      <th>gb_used</th>\n",
       "      <th>mes</th>\n",
       "      <th>revenue</th>\n",
       "      <th>min</th>\n",
       "      <th>gb_used</th>\n",
       "      <th>mes</th>\n",
       "      <th>revenue</th>\n",
       "      <th>min</th>\n",
       "      <th>gb_used</th>\n",
       "      <th>mes</th>\n",
       "      <th>revenue</th>\n",
       "    </tr>\n",
       "  </thead>\n",
       "  <tbody>\n",
       "    <tr>\n",
       "      <th>0</th>\n",
       "      <td>0</td>\n",
       "      <td>417.7</td>\n",
       "      <td>16.3</td>\n",
       "      <td>33.4</td>\n",
       "      <td>1,289.6</td>\n",
       "      <td>36,281.4</td>\n",
       "      <td>33.1</td>\n",
       "      <td>797.0</td>\n",
       "      <td>669,730.8</td>\n",
       "      <td>190.5</td>\n",
       "      <td>5.8</td>\n",
       "      <td>28.2</td>\n",
       "      <td>818.4</td>\n",
       "      <td>1435</td>\n",
       "      <td>38</td>\n",
       "      <td>143</td>\n",
       "      <td>6,770.0</td>\n",
       "    </tr>\n",
       "    <tr>\n",
       "      <th>1</th>\n",
       "      <td>1</td>\n",
       "      <td>526.1</td>\n",
       "      <td>19.5</td>\n",
       "      <td>49.3</td>\n",
       "      <td>2,070.0</td>\n",
       "      <td>101,052.5</td>\n",
       "      <td>97.4</td>\n",
       "      <td>2,285.4</td>\n",
       "      <td>141,387.7</td>\n",
       "      <td>317.9</td>\n",
       "      <td>9.9</td>\n",
       "      <td>47.8</td>\n",
       "      <td>376.0</td>\n",
       "      <td>1673</td>\n",
       "      <td>49</td>\n",
       "      <td>224</td>\n",
       "      <td>4,800.0</td>\n",
       "    </tr>\n",
       "  </tbody>\n",
       "</table>\n",
       "</div>"
      ],
      "text/plain": [
       "  tariff_id  mean                            var                            \\\n",
       "              min gb_used  mes revenue       min gb_used     mes   revenue   \n",
       "0         0 417.7    16.3 33.4 1,289.6  36,281.4    33.1   797.0 669,730.8   \n",
       "1         1 526.1    19.5 49.3 2,070.0 101,052.5    97.4 2,285.4 141,387.7   \n",
       "\n",
       "    std                        max                       \n",
       "    min gb_used  mes revenue   min gb_used  mes revenue  \n",
       "0 190.5     5.8 28.2   818.4  1435      38  143 6,770.0  \n",
       "1 317.9     9.9 47.8   376.0  1673      49  224 4,800.0  "
      ]
     },
     "metadata": {},
     "output_type": "display_data"
    }
   ],
   "source": [
    "# нахождение через среднее\n",
    "statistics = (\n",
    "    all_services\n",
    "        .pivot_table(index=['tariff_id'], values=values, aggfunc=[np.mean, np.var, np.std, 'max'])\n",
    "        .rename(columns = {'duration' : 'min', 'messages': 'mes'})\n",
    ") \n",
    "display(statistics.reset_index(inplace=False))"
   ]
  },
  {
   "cell_type": "code",
   "execution_count": 41,
   "metadata": {},
   "outputs": [
    {
     "data": {
      "text/html": [
       "<div>\n",
       "<style scoped>\n",
       "    .dataframe tbody tr th:only-of-type {\n",
       "        vertical-align: middle;\n",
       "    }\n",
       "\n",
       "    .dataframe tbody tr th {\n",
       "        vertical-align: top;\n",
       "    }\n",
       "\n",
       "    .dataframe thead tr th {\n",
       "        text-align: left;\n",
       "    }\n",
       "\n",
       "    .dataframe thead tr:last-of-type th {\n",
       "        text-align: right;\n",
       "    }\n",
       "</style>\n",
       "<table border=\"1\" class=\"dataframe\">\n",
       "  <thead>\n",
       "    <tr>\n",
       "      <th></th>\n",
       "      <th colspan=\"4\" halign=\"left\">mean</th>\n",
       "      <th colspan=\"4\" halign=\"left\">var</th>\n",
       "      <th colspan=\"4\" halign=\"left\">std</th>\n",
       "      <th colspan=\"4\" halign=\"left\">max</th>\n",
       "    </tr>\n",
       "    <tr>\n",
       "      <th></th>\n",
       "      <th>min</th>\n",
       "      <th>gb_used</th>\n",
       "      <th>mes</th>\n",
       "      <th>revenue</th>\n",
       "      <th>min</th>\n",
       "      <th>gb_used</th>\n",
       "      <th>mes</th>\n",
       "      <th>revenue</th>\n",
       "      <th>min</th>\n",
       "      <th>gb_used</th>\n",
       "      <th>mes</th>\n",
       "      <th>revenue</th>\n",
       "      <th>min</th>\n",
       "      <th>gb_used</th>\n",
       "      <th>mes</th>\n",
       "      <th>revenue</th>\n",
       "    </tr>\n",
       "    <tr>\n",
       "      <th>tariff_id</th>\n",
       "      <th></th>\n",
       "      <th></th>\n",
       "      <th></th>\n",
       "      <th></th>\n",
       "      <th></th>\n",
       "      <th></th>\n",
       "      <th></th>\n",
       "      <th></th>\n",
       "      <th></th>\n",
       "      <th></th>\n",
       "      <th></th>\n",
       "      <th></th>\n",
       "      <th></th>\n",
       "      <th></th>\n",
       "      <th></th>\n",
       "      <th></th>\n",
       "    </tr>\n",
       "  </thead>\n",
       "  <tbody>\n",
       "    <tr>\n",
       "      <th>0</th>\n",
       "      <td>417.7</td>\n",
       "      <td>16.3</td>\n",
       "      <td>33.4</td>\n",
       "      <td>1,289.6</td>\n",
       "      <td>36,281.4</td>\n",
       "      <td>33.1</td>\n",
       "      <td>797.0</td>\n",
       "      <td>669,730.8</td>\n",
       "      <td>190.5</td>\n",
       "      <td>5.8</td>\n",
       "      <td>28.2</td>\n",
       "      <td>818.4</td>\n",
       "      <td>1435</td>\n",
       "      <td>38</td>\n",
       "      <td>143</td>\n",
       "      <td>6,770.0</td>\n",
       "    </tr>\n",
       "    <tr>\n",
       "      <th>1</th>\n",
       "      <td>526.1</td>\n",
       "      <td>19.5</td>\n",
       "      <td>49.3</td>\n",
       "      <td>2,070.0</td>\n",
       "      <td>101,052.5</td>\n",
       "      <td>97.4</td>\n",
       "      <td>2,285.4</td>\n",
       "      <td>141,387.7</td>\n",
       "      <td>317.9</td>\n",
       "      <td>9.9</td>\n",
       "      <td>47.8</td>\n",
       "      <td>376.0</td>\n",
       "      <td>1673</td>\n",
       "      <td>49</td>\n",
       "      <td>224</td>\n",
       "      <td>4,800.0</td>\n",
       "    </tr>\n",
       "  </tbody>\n",
       "</table>\n",
       "</div>"
      ],
      "text/plain": [
       "           mean                            var                            \\\n",
       "            min gb_used  mes revenue       min gb_used     mes   revenue   \n",
       "tariff_id                                                                  \n",
       "0         417.7    16.3 33.4 1,289.6  36,281.4    33.1   797.0 669,730.8   \n",
       "1         526.1    19.5 49.3 2,070.0 101,052.5    97.4 2,285.4 141,387.7   \n",
       "\n",
       "            std                        max                       \n",
       "            min gb_used  mes revenue   min gb_used  mes revenue  \n",
       "tariff_id                                                        \n",
       "0         190.5     5.8 28.2   818.4  1435      38  143 6,770.0  \n",
       "1         317.9     9.9 47.8   376.0  1673      49  224 4,800.0  "
      ]
     },
     "execution_count": 41,
     "metadata": {},
     "output_type": "execute_result"
    }
   ],
   "source": [
    "# check\n",
    "(\n",
    "    all_services\n",
    "        .pivot_table(index=['tariff_id'], values=values, aggfunc=[np.mean, np.var, np.std, 'max'])\n",
    "        .rename(columns = {'duration' : 'min', 'messages': 'mes'})\n",
    ") "
   ]
  },
  {
   "cell_type": "code",
   "execution_count": 42,
   "metadata": {},
   "outputs": [
    {
     "data": {
      "image/png": "[encoded data removed]",
      "text/plain": [
       "<Figure size 360x360 with 1 Axes>"
      ]
     },
     "metadata": {
      "needs_background": "light"
     },
     "output_type": "display_data"
    },
    {
     "data": {
      "image/png": "[encoded data removed]",
      "text/plain": [
       "<Figure size 360x360 with 1 Axes>"
      ]
     },
     "metadata": {
      "needs_background": "light"
     },
     "output_type": "display_data"
    },
    {
     "data": {
      "image/png": "[encoded data removed]",
      "text/plain": [
       "<Figure size 360x360 with 1 Axes>"
      ]
     },
     "metadata": {
      "needs_background": "light"
     },
     "output_type": "display_data"
    }
   ],
   "source": [
    "for column in [['duration', 'Распределение израсходованных минут звонков по тарифам'], \n",
    "               ['gb_used', 'Распределение израсходованного интернет-трафика по тарифам'], \n",
    "               ['messages', 'Распределение израсходованного пакета сообщений по тарифам']]:    \n",
    "    sb.catplot(kind=\"box\", x=\"tariff_id\", y=column[0], data=all_services, orient='v', dodge=False)\n",
    "    title = plt.title(column[1])"
   ]
  },
  {
   "cell_type": "code",
   "execution_count": null,
   "metadata": {},
   "outputs": [],
   "source": [
    "def plot (DF, column, title):\n",
    "    for tariff in range(2):\n",
    "        sb.distplot(DF.query('tariff_id == @tariff')[column], kde=False)\n",
    "    names = plt.legend(['smart', 'ultra'])\n",
    "    title = plt.title(title)"
   ]
  },
  {
   "cell_type": "code",
   "execution_count": 43,
   "metadata": {},
   "outputs": [
    {
     "name": "stderr",
     "output_type": "stream",
     "text": [
      "/opt/conda/lib/python3.9/site-packages/seaborn/distributions.py:2557: FutureWarning: `distplot` is a deprecated function and will be removed in a future version. Please adapt your code to use either `displot` (a figure-level function with similar flexibility) or `histplot` (an axes-level function for histograms).\n",
      "  warnings.warn(msg, FutureWarning)\n",
      "/opt/conda/lib/python3.9/site-packages/seaborn/distributions.py:2557: FutureWarning: `distplot` is a deprecated function and will be removed in a future version. Please adapt your code to use either `displot` (a figure-level function with similar flexibility) or `histplot` (an axes-level function for histograms).\n",
      "  warnings.warn(msg, FutureWarning)\n"
     ]
    },
    {
     "data": {
      "image/png": "[encoded data removed]",
      "text/plain": [
       "<Figure size 432x288 with 1 Axes>"
      ]
     },
     "metadata": {
      "needs_background": "light"
     },
     "output_type": "display_data"
    },
    {
     "name": "stderr",
     "output_type": "stream",
     "text": [
      "/opt/conda/lib/python3.9/site-packages/seaborn/distributions.py:2557: FutureWarning: `distplot` is a deprecated function and will be removed in a future version. Please adapt your code to use either `displot` (a figure-level function with similar flexibility) or `histplot` (an axes-level function for histograms).\n",
      "  warnings.warn(msg, FutureWarning)\n",
      "/opt/conda/lib/python3.9/site-packages/seaborn/distributions.py:2557: FutureWarning: `distplot` is a deprecated function and will be removed in a future version. Please adapt your code to use either `displot` (a figure-level function with similar flexibility) or `histplot` (an axes-level function for histograms).\n",
      "  warnings.warn(msg, FutureWarning)\n"
     ]
    },
    {
     "data": {
      "image/png": "[encoded data removed]",
      "text/plain": [
       "<Figure size 432x288 with 1 Axes>"
      ]
     },
     "metadata": {
      "needs_background": "light"
     },
     "output_type": "display_data"
    },
    {
     "name": "stderr",
     "output_type": "stream",
     "text": [
      "/opt/conda/lib/python3.9/site-packages/seaborn/distributions.py:2557: FutureWarning: `distplot` is a deprecated function and will be removed in a future version. Please adapt your code to use either `displot` (a figure-level function with similar flexibility) or `histplot` (an axes-level function for histograms).\n",
      "  warnings.warn(msg, FutureWarning)\n",
      "/opt/conda/lib/python3.9/site-packages/seaborn/distributions.py:2557: FutureWarning: `distplot` is a deprecated function and will be removed in a future version. Please adapt your code to use either `displot` (a figure-level function with similar flexibility) or `histplot` (an axes-level function for histograms).\n",
      "  warnings.warn(msg, FutureWarning)\n"
     ]
    },
    {
     "data": {
      "image/png": "[encoded data removed]",
      "text/plain": [
       "<Figure size 432x288 with 1 Axes>"
      ]
     },
     "metadata": {
      "needs_background": "light"
     },
     "output_type": "display_data"
    }
   ],
   "source": [
    "for column in [['duration', 'График плотностей тарифов по израсходованным минутам звонков'], \n",
    "               ['gb_used', 'График плотностей тарифов по израсходованному интернет-трафику'], \n",
    "               ['messages', 'График плотностей тарифов по израсходованному пакета сообщений']]:    \n",
    "    plot(all_services, column[0], column[1])\n",
    "    plt.show()"
   ]
  },
  {
   "cell_type": "markdown",
   "metadata": {},
   "source": [
    "[К оглавлению](#contents)"
   ]
  },
  {
   "cell_type": "markdown",
   "metadata": {},
   "source": [
    "### **Выводы** \n",
    "\n",
    "<a id='data_research_summary'></a>\n",
    "\n",
    "* из графиков распределения видно, что размах между квартилями у тарифа «Ультра» шире, что также хорошо видно на графиках плотностей, свидетельствует о большем разбросе и неоднородности среди клиентов, чем у тарифа «Смарт». \n",
    "\n",
    "Объяснить такую статистику можно поведением пользователей, подключающих более дорогой тариф, что говорит о желании комфортно бесконтрольно пользоваться услугами связи, не обращая внимания на ограничения временем разговора. \n",
    "\n",
    "Не исключено, что часть из пользователей являются корпоративными клиентами, которые оформляют тарифы для своих сотрудников на комфортных условиях. Необходимо уточнить данную информацию у источника данных. \n",
    "\n",
    "Люди же, использующие «Смарт» тариф скорее всего ставят перед собой рамки ограничения покупаемого пакета услуг, потому что при полном израсходовании трафика дополнительный взнос на продление обычно составляет большую цену, нежели приобретение пакетом.\n",
    "\n",
    "* клиенты с тарифом «Ультра» более осознанно тратят предоставляемые пакеты услуг и редко перевлачивают (их средний ценник составляет 1950 рублей как в договоре), однако клиенты с тарифом «Смарт» часто выходят за рамки пакетных услуг, что приводит к большим тратам на дополнительные услуги и расширения (их средний ценник составляет чуть больше 1200 рублей против 550 о договору);\n",
    "* согласно статистике тариф «Смарт» приносит больше прибыли бизнесу за счет активного привлечения новых клиентов и частому превышению лимитов, в среднем человек в месяц тратит больше 1200 рублей вместо 550 по тарифу. Однако такое поведениепользователей очень непостоянное и со временем будет увеличивать недовольство тарифной политикой."
   ]
  },
  {
   "cell_type": "markdown",
   "metadata": {},
   "source": [
    "[К оглавлению](#contents)"
   ]
  },
  {
   "cell_type": "markdown",
   "metadata": {},
   "source": [
    "## **IV. Проверка гипотез**\n",
    "<a id='hypothesis_check'></a>"
   ]
  },
  {
   "cell_type": "markdown",
   "metadata": {},
   "source": [
    "\n",
    "По результатам полученных статистических данных и их анализа осталось проверить несколько гипотез:\n",
    "1. средняя выручка пользователей тарифов «Ультра» и «Смарт» различаются;\n",
    "2. средняя выручка пользователей из Москвы отличается от выручки пользователей из других регионов."
   ]
  },
  {
   "cell_type": "code",
   "execution_count": 44,
   "metadata": {},
   "outputs": [],
   "source": [
    "def hypothesis_equal_check (array1, array2, alpha):\n",
    "    alpha = 0.05\n",
    "    array1 = array1['revenue']\n",
    "    array2 = array2['revenue']\n",
    "    results = st.ttest_ind(array2, array1, equal_var = False)\n",
    "    \n",
    "    print('P-value:', results.pvalue)\n",
    "    \n",
    "    if (results.pvalue < alpha):\n",
    "        print(\"Отвергаем нулевую гипотезу\")\n",
    "    else:\n",
    "        print(\"Не получилось отвергнуть нулевую гипотезу\")"
   ]
  },
  {
   "cell_type": "markdown",
   "metadata": {},
   "source": [
    "[К оглавлению](#contents)"
   ]
  },
  {
   "cell_type": "markdown",
   "metadata": {},
   "source": [
    "### 1. Гипотеза: средняя выручка пользователей тарифов «Ультра» и «Смарт» различаются\n",
    "<a id='hypothesis_1'></a>"
   ]
  },
  {
   "cell_type": "markdown",
   "metadata": {},
   "source": [
    "* За **нулевую гипотезу H(0)** примем утверждение, что средняя выручка пользователей тарифов «Ультра» и «Смарт» **равны**.\n",
    "* В качестве **альтернативной гипотезы H(1)** представим **двустороннюю** - средние выручки тарифов **различаются**.\n",
    "* Критический уровень значимости зададим 5%."
   ]
  },
  {
   "cell_type": "code",
   "execution_count": 45,
   "metadata": {},
   "outputs": [
    {
     "name": "stdout",
     "output_type": "stream",
     "text": [
      "P-value: 8.744897687035538e-17\n",
      "Отвергаем нулевую гипотезу\n"
     ]
    }
   ],
   "source": [
    "hypothesis_equal_check(smart_per_month, ultra_per_month, .05)"
   ]
  },
  {
   "cell_type": "markdown",
   "metadata": {},
   "source": [
    "Значение p-value говорит нам о малой вероятности случайности результатов, что дает основание отвергнуть предположение об отсутствии различий между двумя выручками двух тарифов (отвергнуть нулевую гипотезу)."
   ]
  },
  {
   "cell_type": "markdown",
   "metadata": {},
   "source": [
    "[К оглавлению](#contents)"
   ]
  },
  {
   "cell_type": "markdown",
   "metadata": {},
   "source": [
    "### 2. Гипотеза: средняя выручка пользователей из Москвы отличается от выручки пользователей из других регионов\n",
    "<a id='hypothesis_2'></a>"
   ]
  },
  {
   "cell_type": "markdown",
   "metadata": {},
   "source": [
    "* За **нулевую гипотезу H(0)** примем утверждение, что средняя выручка пользователей из Москвы **равна** выручке пользователей из других регионов.\n",
    "* В качестве **альтернативной гипотезы H(1)** представим **двустороннюю** - средняя выручка пользователей Москвы и других регионов **различается**.\n",
    "* Критический уровень значимости зададим 5%."
   ]
  },
  {
   "cell_type": "code",
   "execution_count": 46,
   "metadata": {},
   "outputs": [],
   "source": [
    "citys = all_services.merge(users.loc[: , ['user_id', 'city']], on='user_id')\n",
    "\n",
    "moscow = citys.query('city == \"Москва\"')\n",
    "regions = citys.query('city != \"Москва\"')"
   ]
  },
  {
   "cell_type": "code",
   "execution_count": 47,
   "metadata": {},
   "outputs": [
    {
     "name": "stdout",
     "output_type": "stream",
     "text": [
      "P-value: 0.5216952110000279\n",
      "Не получилось отвергнуть нулевую гипотезу\n"
     ]
    }
   ],
   "source": [
    "hypothesis_equal_check(moscow, regions, .05)"
   ]
  },
  {
   "cell_type": "markdown",
   "metadata": {},
   "source": [
    "Большое значение p-value указывает, что наблюдаемая разница в 52% случаях может быть результатом случайности. Данная вероятность слишком большая, чтобы отвергнуть предположение об отсутствии различий между средней выручкой Москвы и других регионов."
   ]
  },
  {
   "cell_type": "markdown",
   "metadata": {},
   "source": [
    "[К оглавлению](#contents)"
   ]
  },
  {
   "cell_type": "code",
   "execution_count": 48,
   "metadata": {},
   "outputs": [
    {
     "data": {
      "text/html": [
       "<div>\n",
       "<style scoped>\n",
       "    .dataframe tbody tr th:only-of-type {\n",
       "        vertical-align: middle;\n",
       "    }\n",
       "\n",
       "    .dataframe tbody tr th {\n",
       "        vertical-align: top;\n",
       "    }\n",
       "\n",
       "    .dataframe thead th {\n",
       "        text-align: right;\n",
       "    }\n",
       "</style>\n",
       "<table border=\"1\" class=\"dataframe\">\n",
       "  <thead>\n",
       "    <tr style=\"text-align: right;\">\n",
       "      <th></th>\n",
       "      <th>tariff_id</th>\n",
       "      <th>age_group</th>\n",
       "      <th>duration</th>\n",
       "      <th>gb_used</th>\n",
       "      <th>messages</th>\n",
       "      <th>revenue</th>\n",
       "    </tr>\n",
       "  </thead>\n",
       "  <tbody>\n",
       "    <tr>\n",
       "      <th>0</th>\n",
       "      <td>0</td>\n",
       "      <td>взрослые</td>\n",
       "      <td>411.8</td>\n",
       "      <td>16.3</td>\n",
       "      <td>32.7</td>\n",
       "      <td>1,289.2</td>\n",
       "    </tr>\n",
       "    <tr>\n",
       "      <th>1</th>\n",
       "      <td>0</td>\n",
       "      <td>пенсионеры</td>\n",
       "      <td>444.0</td>\n",
       "      <td>16.4</td>\n",
       "      <td>36.5</td>\n",
       "      <td>1,291.8</td>\n",
       "    </tr>\n",
       "    <tr>\n",
       "      <th>2</th>\n",
       "      <td>1</td>\n",
       "      <td>взрослые</td>\n",
       "      <td>519.1</td>\n",
       "      <td>19.2</td>\n",
       "      <td>51.2</td>\n",
       "      <td>2,076.1</td>\n",
       "    </tr>\n",
       "    <tr>\n",
       "      <th>3</th>\n",
       "      <td>1</td>\n",
       "      <td>пенсионеры</td>\n",
       "      <td>553.6</td>\n",
       "      <td>20.6</td>\n",
       "      <td>42.0</td>\n",
       "      <td>2,046.0</td>\n",
       "    </tr>\n",
       "  </tbody>\n",
       "</table>\n",
       "</div>"
      ],
      "text/plain": [
       "   tariff_id   age_group  duration  gb_used  messages  revenue\n",
       "0          0    взрослые     411.8     16.3      32.7  1,289.2\n",
       "1          0  пенсионеры     444.0     16.4      36.5  1,291.8\n",
       "2          1    взрослые     519.1     19.2      51.2  2,076.1\n",
       "3          1  пенсионеры     553.6     20.6      42.0  2,046.0"
      ]
     },
     "metadata": {},
     "output_type": "display_data"
    }
   ],
   "source": [
    "display(tariff_average)"
   ]
  },
  {
   "cell_type": "markdown",
   "metadata": {},
   "source": [
    "## **V. Итоги исследования**\n",
    "\n",
    "<a id='summary'></a>"
   ]
  },
  {
   "cell_type": "markdown",
   "metadata": {},
   "source": [
    "На основании предоставленной клиентской базы федерального оператора сотовой связи «Мегалайн» было проведено сравнительное исследование двух перспективных тарифных плана: «Смарт» и «Ультра» - для определения наиболее прибыльного для бизнеса, которое следует продвигать среди клиентов за счет маркетинговых кампаний.\n",
    "\n",
    "По результатам основных показателей каждого тарифа установлено, что:\n",
    "\n",
    "* клиенты с тарифом «Ультра» более осознанно тратят предоставляемые пакеты услуг и редко перевлачивают (их средний ценник составляет 1950 рублей как в договоре), однако клиенты с тарифом «Смарт» часто выходят за рамки пакетных услуг, что приводит к большим тратам на дополнительные услуги и расширения (их средний ценник составляет чуть больше 1200 рублей против 550 о договору);\n",
    "* выход за рамки тарифного плана или наоборот не полное его исчерпывание приводит к достаточно большому оттоку пользователей:\n",
    "    - при значительном росте почти до 130 пользователей для тарифа «Ультра» отток составил 13 юзеров (~10%), при этом для «Смарт» их стало свыше 340 с оттоком в 22 юзера (всего 6%). Получается, что людей на более дорогом тарифе не устраивает их завышенные лимиты, которых они чаще всего не достигают: в среднем телефонные разговоры длятся 526 минут вместо 3000, смс отправляется около 49 вместо 1000, а интернет трафика тратится около 19 Гб (по тарифу 30). На «Смарт» же люди часто выходят за рамки тарифного интернет плана в 15 Гб, используя 16 и выше. \n",
    "* согласно статистике тариф «Смарт» приносит больше прибыли бизнесу за счет активного привлечения новых клиентов и частому превышению лимитов, в среднем человек в месяц тратит больше 1200 рублей вместо 550 по тарифу. Однако такое поведениепользователей очень непостоянное и со временем будет увеличивать недовольство тарифной политикой.\n",
    "* оператору сотовой связи «Мегалайн» с целью получения большей прибыли выгоднее пересмотреть существующие тарифные планы и вложиться в маркетинговую кампанию по их обновленным версиям: чтобы сохранить клиентов, готовых заплатить больше с «Ультра» и постоянно переплачивающих с «Смарт», достаточно ввести новый товар с увеличенным интернет трафиком и возможно регулируемыми настройками СМС-звонки. Это позволит снизить уровень недовольства путем предоставления пользователям осознанного выбора их активности при сохранении показателей прибыли\n",
    "* некоторые пользователи не пользуются теми или инами сервисами:\n",
    "    - SMS: 74 юзера;\n",
    "    - интернетом: 3 юзера;\n",
    "    - звонками: 8 юзеров;\n",
    "    - ни одним из сервисов за рассмотренный период: 2 юзера.\n",
    "* взрослые люди (до 65) чаще предпочитают тариф «Смарт» \n",
    "* по [статистике](#additional) люди пенсионного возрастна больше используют интернет (необъяснимый статистический факт =)) и на том и на другом тарифе, сообщений примерно одно и то же количество ~35 в месяц (тариф «Смарт»), а вот разговаривают по телефону дольше взрослых (до 65), которые на тарифе «Смарт» еще и СМС сообщениями чаще перекидываются\n",
    "\n",
    "---\n",
    "\n",
    "На основании данных, предоставленных оператором, мы проверили две гипотезы и установили:\n",
    "\n",
    "---\n",
    "\n",
    "**1. Гипотеза: Средняя выручка пользователей тарифов «Ультра» и «Смарт» различаются**.\n",
    "\n",
    "В ходе анализа выявили малую вероятность случайности результатов, что дает основание ***отвергнуть предположение об отсутствии различий между двумя выручками двух тарифов***.\n",
    "\n",
    "---\n",
    "\n",
    "**2. Гипотеза: Средняя выручка пользователей из Москвы отличается от выручки пользователей из других регионов.**\n",
    "\n",
    "По полученным данным сделали вывод:\n",
    "\n",
    "Наблюдаемая разница между средней выручки Москвы и регионов в 52% случаях может быть результатом случайности. Данная вероятность **слишком большая, чтобы отвергнуть предположение об отсутствии различий между средней выручкой Москвы и других регионов**\n",
    "\n",
    "\n",
    "---\n",
    "\n",
    "**Помимо этого в ходе исследования была выполнена [обработка исходных данных](#data_moderation_summary) для удобства анализа.**"
   ]
  },
  {
   "cell_type": "markdown",
   "metadata": {},
   "source": [
    "[К оглавлению](#contents)"
   ]
  }
 ],
 "metadata": {
  "ExecuteTimeLog": [
   {
    "duration": 525,
    "start_time": "2022-02-03T12:51:37.293Z"
   },
   {
    "duration": 441,
    "start_time": "2022-02-03T12:52:38.232Z"
   },
   {
    "duration": 194,
    "start_time": "2022-02-03T12:54:47.270Z"
   },
   {
    "duration": 151,
    "start_time": "2022-02-03T12:54:52.722Z"
   },
   {
    "duration": 136,
    "start_time": "2022-02-03T12:54:54.952Z"
   },
   {
    "duration": 1326,
    "start_time": "2022-02-03T12:54:59.011Z"
   },
   {
    "duration": 200,
    "start_time": "2022-02-03T12:55:04.279Z"
   },
   {
    "duration": 189,
    "start_time": "2022-02-03T12:55:12.138Z"
   },
   {
    "duration": 171,
    "start_time": "2022-02-03T12:57:55.172Z"
   },
   {
    "duration": 41,
    "start_time": "2022-02-03T13:05:38.011Z"
   },
   {
    "duration": 58,
    "start_time": "2022-02-03T13:19:50.020Z"
   },
   {
    "duration": 1191,
    "start_time": "2022-02-03T13:24:35.765Z"
   },
   {
    "duration": 1057,
    "start_time": "2022-02-03T13:24:47.007Z"
   },
   {
    "duration": 900,
    "start_time": "2022-02-03T13:25:24.951Z"
   },
   {
    "duration": 1217,
    "start_time": "2022-02-03T13:25:32.197Z"
   },
   {
    "duration": 991,
    "start_time": "2022-02-03T13:25:46.005Z"
   },
   {
    "duration": 1074,
    "start_time": "2022-02-03T13:26:08.960Z"
   },
   {
    "duration": 886,
    "start_time": "2022-02-03T13:26:37.150Z"
   },
   {
    "duration": 133,
    "start_time": "2022-02-03T13:27:00.027Z"
   },
   {
    "duration": 277,
    "start_time": "2022-02-03T13:27:42.857Z"
   },
   {
    "duration": 125,
    "start_time": "2022-02-03T13:28:22.518Z"
   },
   {
    "duration": 13,
    "start_time": "2022-02-03T13:28:44.922Z"
   },
   {
    "duration": 12,
    "start_time": "2022-02-03T13:29:16.111Z"
   },
   {
    "duration": 12,
    "start_time": "2022-02-03T13:29:30.739Z"
   },
   {
    "duration": 11,
    "start_time": "2022-02-03T13:30:18.839Z"
   },
   {
    "duration": 11,
    "start_time": "2022-02-03T13:43:37.593Z"
   },
   {
    "duration": 46,
    "start_time": "2022-02-03T13:53:18.905Z"
   },
   {
    "duration": 160,
    "start_time": "2022-02-03T13:53:51.741Z"
   },
   {
    "duration": 5,
    "start_time": "2022-02-03T13:54:05.865Z"
   },
   {
    "duration": 4,
    "start_time": "2022-02-03T13:54:28.811Z"
   },
   {
    "duration": 155,
    "start_time": "2022-02-03T13:54:42.439Z"
   },
   {
    "duration": 4,
    "start_time": "2022-02-03T13:54:49.799Z"
   },
   {
    "duration": 126,
    "start_time": "2022-02-03T13:55:37.467Z"
   },
   {
    "duration": 129,
    "start_time": "2022-02-03T13:55:43.369Z"
   },
   {
    "duration": 4,
    "start_time": "2022-02-03T13:55:48.728Z"
   },
   {
    "duration": 10,
    "start_time": "2022-02-03T13:56:18.054Z"
   },
   {
    "duration": 11,
    "start_time": "2022-02-03T13:56:20.237Z"
   },
   {
    "duration": 16,
    "start_time": "2022-02-03T13:56:31.459Z"
   },
   {
    "duration": 26,
    "start_time": "2022-02-03T13:56:42.317Z"
   },
   {
    "duration": 14,
    "start_time": "2022-02-03T13:56:48.890Z"
   },
   {
    "duration": 131,
    "start_time": "2022-02-03T13:59:47.425Z"
   },
   {
    "duration": 151,
    "start_time": "2022-02-03T14:00:08.231Z"
   },
   {
    "duration": 156,
    "start_time": "2022-02-03T14:02:16.621Z"
   },
   {
    "duration": 69,
    "start_time": "2022-02-03T14:03:11.947Z"
   },
   {
    "duration": 51,
    "start_time": "2022-02-03T14:03:31.195Z"
   },
   {
    "duration": 9,
    "start_time": "2022-02-03T14:04:52.728Z"
   },
   {
    "duration": 11,
    "start_time": "2022-02-03T14:07:15.894Z"
   },
   {
    "duration": 198,
    "start_time": "2022-02-03T14:07:43.329Z"
   },
   {
    "duration": 164,
    "start_time": "2022-02-03T14:08:39.083Z"
   },
   {
    "duration": 12,
    "start_time": "2022-02-03T14:08:50.636Z"
   },
   {
    "duration": 143,
    "start_time": "2022-02-03T14:10:06.956Z"
   },
   {
    "duration": 10,
    "start_time": "2022-02-03T14:10:14.582Z"
   },
   {
    "duration": 10,
    "start_time": "2022-02-03T14:12:15.683Z"
   },
   {
    "duration": 150,
    "start_time": "2022-02-03T14:12:33.630Z"
   },
   {
    "duration": 10,
    "start_time": "2022-02-03T14:12:38.800Z"
   },
   {
    "duration": 11,
    "start_time": "2022-02-03T14:16:19.696Z"
   },
   {
    "duration": 45,
    "start_time": "2022-02-03T14:16:30.397Z"
   },
   {
    "duration": 11,
    "start_time": "2022-02-03T14:16:38.576Z"
   },
   {
    "duration": 11,
    "start_time": "2022-02-03T14:18:13.076Z"
   },
   {
    "duration": 10,
    "start_time": "2022-02-03T14:18:20.690Z"
   },
   {
    "duration": 17,
    "start_time": "2022-02-03T14:18:36.201Z"
   },
   {
    "duration": 9,
    "start_time": "2022-02-03T14:18:45.615Z"
   },
   {
    "duration": 5,
    "start_time": "2022-02-03T14:19:23.685Z"
   },
   {
    "duration": 24,
    "start_time": "2022-02-03T14:19:28.671Z"
   },
   {
    "duration": 16,
    "start_time": "2022-02-03T14:20:33.529Z"
   },
   {
    "duration": 10,
    "start_time": "2022-02-03T14:20:46.404Z"
   },
   {
    "duration": 10,
    "start_time": "2022-02-03T14:21:00.998Z"
   },
   {
    "duration": 11,
    "start_time": "2022-02-03T14:21:55.719Z"
   },
   {
    "duration": 11,
    "start_time": "2022-02-03T14:22:29.008Z"
   },
   {
    "duration": 9,
    "start_time": "2022-02-03T14:22:49.841Z"
   },
   {
    "duration": 10,
    "start_time": "2022-02-03T14:28:10.412Z"
   },
   {
    "duration": 11,
    "start_time": "2022-02-03T14:28:43.434Z"
   },
   {
    "duration": 11,
    "start_time": "2022-02-03T14:30:53.886Z"
   },
   {
    "duration": 11,
    "start_time": "2022-02-03T14:31:43.208Z"
   },
   {
    "duration": 81,
    "start_time": "2022-02-03T14:31:58.539Z"
   },
   {
    "duration": 10,
    "start_time": "2022-02-03T14:32:07.608Z"
   },
   {
    "duration": 9,
    "start_time": "2022-02-03T14:33:43.219Z"
   },
   {
    "duration": 10,
    "start_time": "2022-02-03T14:34:09.898Z"
   },
   {
    "duration": 10,
    "start_time": "2022-02-03T14:34:14.022Z"
   },
   {
    "duration": 9,
    "start_time": "2022-02-03T14:34:29.009Z"
   },
   {
    "duration": 12,
    "start_time": "2022-02-03T14:34:40.189Z"
   },
   {
    "duration": 10,
    "start_time": "2022-02-03T14:35:06.619Z"
   },
   {
    "duration": 12,
    "start_time": "2022-02-03T14:35:17.747Z"
   },
   {
    "duration": 10,
    "start_time": "2022-02-03T14:35:23.587Z"
   },
   {
    "duration": 10,
    "start_time": "2022-02-03T14:35:33.378Z"
   },
   {
    "duration": 10,
    "start_time": "2022-02-03T14:35:36.188Z"
   },
   {
    "duration": 9,
    "start_time": "2022-02-03T14:35:40.851Z"
   },
   {
    "duration": 9,
    "start_time": "2022-02-03T14:35:44.620Z"
   },
   {
    "duration": 11,
    "start_time": "2022-02-03T14:35:48.328Z"
   },
   {
    "duration": 10,
    "start_time": "2022-02-03T14:35:53.752Z"
   },
   {
    "duration": 10,
    "start_time": "2022-02-03T14:36:02.216Z"
   },
   {
    "duration": 55,
    "start_time": "2022-02-03T14:37:43.082Z"
   },
   {
    "duration": 9,
    "start_time": "2022-02-03T14:37:47.064Z"
   },
   {
    "duration": 10,
    "start_time": "2022-02-03T14:39:27.290Z"
   },
   {
    "duration": 10,
    "start_time": "2022-02-03T14:39:41.149Z"
   },
   {
    "duration": 12,
    "start_time": "2022-02-03T14:40:05.960Z"
   },
   {
    "duration": 10,
    "start_time": "2022-02-03T14:41:28.457Z"
   },
   {
    "duration": 129,
    "start_time": "2022-02-03T14:44:02.389Z"
   },
   {
    "duration": 10,
    "start_time": "2022-02-03T14:46:07.337Z"
   },
   {
    "duration": 56,
    "start_time": "2022-02-03T14:48:08.982Z"
   },
   {
    "duration": 65,
    "start_time": "2022-02-03T14:49:25.560Z"
   },
   {
    "duration": 47,
    "start_time": "2022-02-03T14:49:32.359Z"
   },
   {
    "duration": 44,
    "start_time": "2022-02-03T14:49:42.900Z"
   },
   {
    "duration": 81,
    "start_time": "2022-02-03T14:49:50.433Z"
   },
   {
    "duration": 101,
    "start_time": "2022-02-03T14:50:37.695Z"
   },
   {
    "duration": 8,
    "start_time": "2022-02-03T14:51:04.677Z"
   },
   {
    "duration": 144,
    "start_time": "2022-02-03T14:51:30.132Z"
   },
   {
    "duration": 4214,
    "start_time": "2022-02-03T14:51:34.601Z"
   },
   {
    "duration": 44,
    "start_time": "2022-02-03T15:20:31.492Z"
   },
   {
    "duration": 46,
    "start_time": "2022-02-03T15:21:08.228Z"
   },
   {
    "duration": 44,
    "start_time": "2022-02-03T15:21:17.351Z"
   },
   {
    "duration": 44,
    "start_time": "2022-02-03T15:21:19.912Z"
   },
   {
    "duration": 45,
    "start_time": "2022-02-03T15:21:53.674Z"
   },
   {
    "duration": 58,
    "start_time": "2022-02-03T15:22:05.447Z"
   },
   {
    "duration": 41,
    "start_time": "2022-02-03T15:23:02.486Z"
   },
   {
    "duration": 47,
    "start_time": "2022-02-03T15:24:12.257Z"
   },
   {
    "duration": 49,
    "start_time": "2022-02-03T15:24:21.575Z"
   },
   {
    "duration": 48,
    "start_time": "2022-02-03T15:24:29.642Z"
   },
   {
    "duration": 3,
    "start_time": "2022-02-03T15:25:13.128Z"
   },
   {
    "duration": 50,
    "start_time": "2022-02-03T15:25:25.601Z"
   },
   {
    "duration": 4,
    "start_time": "2022-02-03T15:25:59.884Z"
   },
   {
    "duration": 4,
    "start_time": "2022-02-03T15:27:34.833Z"
   },
   {
    "duration": 4,
    "start_time": "2022-02-03T15:27:53.206Z"
   },
   {
    "duration": 3,
    "start_time": "2022-02-03T15:27:56.796Z"
   },
   {
    "duration": 331,
    "start_time": "2022-02-03T15:28:32.522Z"
   },
   {
    "duration": 3,
    "start_time": "2022-02-03T15:30:58.927Z"
   },
   {
    "duration": 3,
    "start_time": "2022-02-03T15:31:00.265Z"
   },
   {
    "duration": 3,
    "start_time": "2022-02-03T15:31:08.889Z"
   },
   {
    "duration": 3,
    "start_time": "2022-02-03T15:31:13.084Z"
   },
   {
    "duration": 3,
    "start_time": "2022-02-03T15:31:56.991Z"
   },
   {
    "duration": 3,
    "start_time": "2022-02-03T15:31:57.487Z"
   },
   {
    "duration": 44,
    "start_time": "2022-02-03T15:39:26.576Z"
   },
   {
    "duration": 3,
    "start_time": "2022-02-03T15:42:26.898Z"
   },
   {
    "duration": 4,
    "start_time": "2022-02-03T15:42:28.485Z"
   },
   {
    "duration": 3,
    "start_time": "2022-02-03T15:43:05.737Z"
   },
   {
    "duration": 3,
    "start_time": "2022-02-03T15:44:05.327Z"
   },
   {
    "duration": 144,
    "start_time": "2022-02-03T15:46:30.786Z"
   },
   {
    "duration": 3,
    "start_time": "2022-02-03T15:46:36.854Z"
   },
   {
    "duration": 18,
    "start_time": "2022-02-03T15:46:37.697Z"
   },
   {
    "duration": 22,
    "start_time": "2022-02-03T15:46:43.006Z"
   },
   {
    "duration": 27,
    "start_time": "2022-02-03T15:47:03.135Z"
   },
   {
    "duration": 3,
    "start_time": "2022-02-03T15:47:45.851Z"
   },
   {
    "duration": 26,
    "start_time": "2022-02-03T15:47:48.105Z"
   },
   {
    "duration": 3,
    "start_time": "2022-02-03T15:49:30.969Z"
   },
   {
    "duration": 32,
    "start_time": "2022-02-03T15:49:31.851Z"
   },
   {
    "duration": 25,
    "start_time": "2022-02-03T15:50:34.682Z"
   },
   {
    "duration": 27,
    "start_time": "2022-02-03T15:51:07.233Z"
   },
   {
    "duration": 36,
    "start_time": "2022-02-03T15:52:59.989Z"
   },
   {
    "duration": 14,
    "start_time": "2022-02-03T15:53:06.162Z"
   },
   {
    "duration": 22,
    "start_time": "2022-02-03T15:53:13.681Z"
   },
   {
    "duration": 14,
    "start_time": "2022-02-03T15:53:21.137Z"
   },
   {
    "duration": 49,
    "start_time": "2022-02-03T15:57:31.507Z"
   },
   {
    "duration": 4,
    "start_time": "2022-02-03T16:02:26.345Z"
   },
   {
    "duration": 5,
    "start_time": "2022-02-03T16:02:31.502Z"
   },
   {
    "duration": 5,
    "start_time": "2022-02-03T16:02:35.512Z"
   },
   {
    "duration": 5,
    "start_time": "2022-02-03T16:02:47.740Z"
   },
   {
    "duration": 4,
    "start_time": "2022-02-03T16:02:53.851Z"
   },
   {
    "duration": 53,
    "start_time": "2022-02-03T16:02:56.674Z"
   },
   {
    "duration": 6,
    "start_time": "2022-02-03T16:02:58.456Z"
   },
   {
    "duration": 5,
    "start_time": "2022-02-03T16:03:10.416Z"
   },
   {
    "duration": 6,
    "start_time": "2022-02-03T16:04:16.430Z"
   },
   {
    "duration": 9,
    "start_time": "2022-02-03T16:06:49.405Z"
   },
   {
    "duration": 53,
    "start_time": "2022-02-03T16:07:56.515Z"
   },
   {
    "duration": 46,
    "start_time": "2022-02-03T16:08:01.016Z"
   },
   {
    "duration": 7,
    "start_time": "2022-02-03T16:08:07.889Z"
   },
   {
    "duration": 9,
    "start_time": "2022-02-03T16:08:57.233Z"
   },
   {
    "duration": 1780,
    "start_time": "2022-02-03T16:10:47.123Z"
   },
   {
    "duration": 1046,
    "start_time": "2022-02-03T16:11:42.700Z"
   },
   {
    "duration": 6,
    "start_time": "2022-02-03T16:11:50.814Z"
   },
   {
    "duration": 137,
    "start_time": "2022-02-03T16:12:30.758Z"
   },
   {
    "duration": 134,
    "start_time": "2022-02-03T16:12:35.466Z"
   },
   {
    "duration": 60,
    "start_time": "2022-02-03T16:12:46.186Z"
   },
   {
    "duration": 5,
    "start_time": "2022-02-03T16:16:15.044Z"
   },
   {
    "duration": 554,
    "start_time": "2022-02-03T16:27:46.818Z"
   },
   {
    "duration": 160,
    "start_time": "2022-02-03T16:34:24.065Z"
   },
   {
    "duration": 894,
    "start_time": "2022-02-03T16:34:24.297Z"
   },
   {
    "duration": 17,
    "start_time": "2022-02-03T16:34:25.193Z"
   },
   {
    "duration": 14,
    "start_time": "2022-02-03T16:34:25.212Z"
   },
   {
    "duration": 7,
    "start_time": "2022-02-03T16:34:25.228Z"
   },
   {
    "duration": 26,
    "start_time": "2022-02-03T16:34:25.237Z"
   },
   {
    "duration": 119,
    "start_time": "2022-02-03T16:34:25.265Z"
   },
   {
    "duration": 3,
    "start_time": "2022-02-03T16:34:25.386Z"
   },
   {
    "duration": 7,
    "start_time": "2022-02-03T16:34:25.391Z"
   },
   {
    "duration": 29,
    "start_time": "2022-02-03T16:34:25.400Z"
   },
   {
    "duration": 576,
    "start_time": "2022-02-03T16:34:40.930Z"
   },
   {
    "duration": 2,
    "start_time": "2022-02-03T16:34:57.941Z"
   },
   {
    "duration": 149,
    "start_time": "2022-02-03T16:35:11.037Z"
   },
   {
    "duration": 399,
    "start_time": "2022-02-03T16:36:15.289Z"
   },
   {
    "duration": 3,
    "start_time": "2022-02-03T16:36:52.621Z"
   },
   {
    "duration": 3,
    "start_time": "2022-02-03T16:36:56.028Z"
   },
   {
    "duration": 3,
    "start_time": "2022-02-03T16:37:25.624Z"
   },
   {
    "duration": 537,
    "start_time": "2022-02-03T16:37:28.475Z"
   },
   {
    "duration": 42,
    "start_time": "2022-02-03T16:37:51.333Z"
   },
   {
    "duration": 49,
    "start_time": "2022-02-03T16:37:56.072Z"
   },
   {
    "duration": 5259,
    "start_time": "2022-02-03T16:37:56.668Z"
   },
   {
    "duration": 58,
    "start_time": "2022-02-03T16:39:11.169Z"
   },
   {
    "duration": 678,
    "start_time": "2022-02-03T16:39:12.619Z"
   },
   {
    "duration": 7,
    "start_time": "2022-02-03T16:40:44.209Z"
   },
   {
    "duration": 3,
    "start_time": "2022-02-03T16:42:41.042Z"
   },
   {
    "duration": 527,
    "start_time": "2022-02-03T16:42:42.753Z"
   },
   {
    "duration": 55,
    "start_time": "2022-02-03T16:43:08.977Z"
   },
   {
    "duration": 545,
    "start_time": "2022-02-03T16:43:10.073Z"
   },
   {
    "duration": 443,
    "start_time": "2022-02-03T16:45:24.129Z"
   },
   {
    "duration": 447,
    "start_time": "2022-02-03T16:46:44.124Z"
   },
   {
    "duration": 454,
    "start_time": "2022-02-03T16:47:50.484Z"
   },
   {
    "duration": 453,
    "start_time": "2022-02-03T16:48:02.656Z"
   },
   {
    "duration": 483,
    "start_time": "2022-02-03T16:48:20.796Z"
   },
   {
    "duration": 1832,
    "start_time": "2022-02-03T16:49:09.255Z"
   },
   {
    "duration": 726,
    "start_time": "2022-02-03T16:51:49.895Z"
   },
   {
    "duration": 18,
    "start_time": "2022-02-03T16:51:50.624Z"
   },
   {
    "duration": 10,
    "start_time": "2022-02-03T16:51:50.647Z"
   },
   {
    "duration": 14,
    "start_time": "2022-02-03T16:51:50.659Z"
   },
   {
    "duration": 545,
    "start_time": "2022-02-03T16:51:50.674Z"
   },
   {
    "duration": 11,
    "start_time": "2022-02-03T16:53:07.976Z"
   },
   {
    "duration": 117,
    "start_time": "2022-02-03T16:53:07.988Z"
   },
   {
    "duration": 3,
    "start_time": "2022-02-03T16:53:08.107Z"
   },
   {
    "duration": 9,
    "start_time": "2022-02-03T16:53:08.111Z"
   },
   {
    "duration": 29,
    "start_time": "2022-02-03T16:53:08.121Z"
   },
   {
    "duration": 2,
    "start_time": "2022-02-03T16:53:08.161Z"
   },
   {
    "duration": 719,
    "start_time": "2022-02-03T16:53:35.685Z"
   },
   {
    "duration": 17,
    "start_time": "2022-02-03T16:53:36.608Z"
   },
   {
    "duration": 11,
    "start_time": "2022-02-03T16:53:38.782Z"
   },
   {
    "duration": 8,
    "start_time": "2022-02-03T16:53:41.498Z"
   },
   {
    "duration": 558,
    "start_time": "2022-02-03T16:53:42.823Z"
   },
   {
    "duration": 13917,
    "start_time": "2022-02-03T16:53:43.787Z"
   },
   {
    "duration": 697,
    "start_time": "2022-02-03T16:54:23.137Z"
   },
   {
    "duration": 17,
    "start_time": "2022-02-03T16:54:23.836Z"
   },
   {
    "duration": 10,
    "start_time": "2022-02-03T16:54:23.857Z"
   },
   {
    "duration": 6,
    "start_time": "2022-02-03T16:54:23.869Z"
   },
   {
    "duration": 13,
    "start_time": "2022-02-03T16:54:23.877Z"
   },
   {
    "duration": 127,
    "start_time": "2022-02-03T16:54:23.892Z"
   },
   {
    "duration": 3,
    "start_time": "2022-02-03T16:54:24.021Z"
   },
   {
    "duration": 4,
    "start_time": "2022-02-03T16:54:24.026Z"
   },
   {
    "duration": 38,
    "start_time": "2022-02-03T16:54:24.032Z"
   },
   {
    "duration": 204,
    "start_time": "2022-02-03T17:00:18.308Z"
   },
   {
    "duration": 15,
    "start_time": "2022-02-03T17:00:30.381Z"
   },
   {
    "duration": 136,
    "start_time": "2022-02-03T17:01:10.362Z"
   },
   {
    "duration": 137,
    "start_time": "2022-02-03T17:02:35.741Z"
   },
   {
    "duration": 3,
    "start_time": "2022-02-03T17:02:50.603Z"
   },
   {
    "duration": 194,
    "start_time": "2022-02-03T17:04:19.313Z"
   },
   {
    "duration": 5,
    "start_time": "2022-02-03T17:06:40.012Z"
   },
   {
    "duration": 46,
    "start_time": "2022-02-03T17:09:33.236Z"
   },
   {
    "duration": 110,
    "start_time": "2022-02-03T17:09:37.403Z"
   },
   {
    "duration": 15,
    "start_time": "2022-02-03T17:09:53.076Z"
   },
   {
    "duration": 72,
    "start_time": "2022-02-03T17:10:21.552Z"
   },
   {
    "duration": 3,
    "start_time": "2022-02-03T17:10:26.268Z"
   },
   {
    "duration": 4,
    "start_time": "2022-02-03T17:10:31.580Z"
   },
   {
    "duration": 25,
    "start_time": "2022-02-03T17:11:24.932Z"
   },
   {
    "duration": 4,
    "start_time": "2022-02-03T17:11:25.871Z"
   },
   {
    "duration": 203,
    "start_time": "2022-02-03T17:11:37.900Z"
   },
   {
    "duration": 4,
    "start_time": "2022-02-03T17:11:48.152Z"
   },
   {
    "duration": 23,
    "start_time": "2022-02-03T17:12:18.098Z"
   },
   {
    "duration": 3,
    "start_time": "2022-02-03T17:12:18.524Z"
   },
   {
    "duration": 22,
    "start_time": "2022-02-03T17:13:38.313Z"
   },
   {
    "duration": 4,
    "start_time": "2022-02-03T17:13:38.729Z"
   },
   {
    "duration": 23,
    "start_time": "2022-02-03T17:13:59.265Z"
   },
   {
    "duration": 3,
    "start_time": "2022-02-03T17:13:59.977Z"
   },
   {
    "duration": 23,
    "start_time": "2022-02-03T17:14:25.135Z"
   },
   {
    "duration": 4,
    "start_time": "2022-02-03T17:14:26.057Z"
   },
   {
    "duration": 10,
    "start_time": "2022-02-03T17:14:34.818Z"
   },
   {
    "duration": 41,
    "start_time": "2022-02-03T17:15:42.636Z"
   },
   {
    "duration": 22,
    "start_time": "2022-02-03T17:15:56.638Z"
   },
   {
    "duration": 10,
    "start_time": "2022-02-03T17:18:58.482Z"
   },
   {
    "duration": 6,
    "start_time": "2022-02-03T17:19:28.305Z"
   },
   {
    "duration": 5,
    "start_time": "2022-02-03T17:19:36.132Z"
   },
   {
    "duration": 4,
    "start_time": "2022-02-03T17:20:05.920Z"
   },
   {
    "duration": 4,
    "start_time": "2022-02-03T17:20:13.537Z"
   },
   {
    "duration": 4,
    "start_time": "2022-02-03T17:20:17.153Z"
   },
   {
    "duration": 21,
    "start_time": "2022-02-03T17:22:09.855Z"
   },
   {
    "duration": 15,
    "start_time": "2022-02-03T17:22:31.184Z"
   },
   {
    "duration": 14,
    "start_time": "2022-02-03T17:23:00.760Z"
   },
   {
    "duration": 31,
    "start_time": "2022-02-03T17:23:52.483Z"
   },
   {
    "duration": 10,
    "start_time": "2022-02-03T17:26:50.151Z"
   },
   {
    "duration": 10,
    "start_time": "2022-02-03T17:26:59.099Z"
   },
   {
    "duration": 13,
    "start_time": "2022-02-03T17:27:05.938Z"
   },
   {
    "duration": 51,
    "start_time": "2022-02-03T17:27:40.888Z"
   },
   {
    "duration": 62,
    "start_time": "2022-02-03T17:28:36.161Z"
   },
   {
    "duration": 44,
    "start_time": "2022-02-03T17:29:19.700Z"
   },
   {
    "duration": 53,
    "start_time": "2022-02-03T17:29:24.820Z"
   },
   {
    "duration": 12,
    "start_time": "2022-02-03T17:30:13.859Z"
   },
   {
    "duration": 11,
    "start_time": "2022-02-03T17:30:33.349Z"
   },
   {
    "duration": 48,
    "start_time": "2022-02-03T17:31:18.339Z"
   },
   {
    "duration": 10,
    "start_time": "2022-02-03T17:31:23.121Z"
   },
   {
    "duration": 367,
    "start_time": "2022-02-03T17:32:33.798Z"
   },
   {
    "duration": 1157,
    "start_time": "2022-02-03T17:32:52.442Z"
   },
   {
    "duration": 354,
    "start_time": "2022-02-03T17:32:58.977Z"
   },
   {
    "duration": 338,
    "start_time": "2022-02-03T17:33:21.426Z"
   },
   {
    "duration": 11,
    "start_time": "2022-02-03T17:33:33.924Z"
   },
   {
    "duration": 46,
    "start_time": "2022-02-03T17:51:24.928Z"
   },
   {
    "duration": 50,
    "start_time": "2022-02-03T17:51:44.158Z"
   },
   {
    "duration": 48,
    "start_time": "2022-02-03T17:52:15.270Z"
   },
   {
    "duration": 14,
    "start_time": "2022-02-03T17:54:54.447Z"
   },
   {
    "duration": 22,
    "start_time": "2022-02-03T17:55:48.537Z"
   },
   {
    "duration": 23,
    "start_time": "2022-02-03T17:56:08.204Z"
   },
   {
    "duration": 12,
    "start_time": "2022-02-03T17:56:37.455Z"
   },
   {
    "duration": 125,
    "start_time": "2022-02-03T17:57:15.977Z"
   },
   {
    "duration": 5,
    "start_time": "2022-02-03T17:57:18.793Z"
   },
   {
    "duration": 10,
    "start_time": "2022-02-03T17:57:25.570Z"
   },
   {
    "duration": 12,
    "start_time": "2022-02-03T18:04:41.276Z"
   },
   {
    "duration": 22,
    "start_time": "2022-02-03T18:05:30.850Z"
   },
   {
    "duration": 22,
    "start_time": "2022-02-03T18:05:41.339Z"
   },
   {
    "duration": 20,
    "start_time": "2022-02-03T18:05:51.631Z"
   },
   {
    "duration": 40,
    "start_time": "2022-02-03T18:06:16.164Z"
   },
   {
    "duration": 22,
    "start_time": "2022-02-03T18:06:24.962Z"
   },
   {
    "duration": 23,
    "start_time": "2022-02-03T18:08:03.020Z"
   },
   {
    "duration": 22,
    "start_time": "2022-02-03T18:08:06.827Z"
   },
   {
    "duration": 23,
    "start_time": "2022-02-03T18:08:16.902Z"
   },
   {
    "duration": 23,
    "start_time": "2022-02-03T18:08:36.277Z"
   },
   {
    "duration": 28,
    "start_time": "2022-02-03T18:08:44.625Z"
   },
   {
    "duration": 28,
    "start_time": "2022-02-03T18:08:52.632Z"
   },
   {
    "duration": 30,
    "start_time": "2022-02-03T18:09:19.007Z"
   },
   {
    "duration": 33,
    "start_time": "2022-02-03T18:20:48.819Z"
   },
   {
    "duration": 17,
    "start_time": "2022-02-03T18:24:20.160Z"
   },
   {
    "duration": 9,
    "start_time": "2022-02-03T18:24:39.323Z"
   },
   {
    "duration": 21,
    "start_time": "2022-02-03T18:25:01.622Z"
   },
   {
    "duration": 8,
    "start_time": "2022-02-03T18:27:38.416Z"
   },
   {
    "duration": 11,
    "start_time": "2022-02-03T18:27:48.246Z"
   },
   {
    "duration": 21,
    "start_time": "2022-02-03T18:28:04.974Z"
   },
   {
    "duration": 31,
    "start_time": "2022-02-03T18:28:20.573Z"
   },
   {
    "duration": 27,
    "start_time": "2022-02-03T18:28:34.533Z"
   },
   {
    "duration": 28,
    "start_time": "2022-02-03T18:28:47.865Z"
   },
   {
    "duration": 11,
    "start_time": "2022-02-03T18:28:58.499Z"
   },
   {
    "duration": 135,
    "start_time": "2022-02-03T18:36:46.594Z"
   },
   {
    "duration": 34,
    "start_time": "2022-02-03T18:36:55.158Z"
   },
   {
    "duration": 45,
    "start_time": "2022-02-03T18:37:05.580Z"
   },
   {
    "duration": 39,
    "start_time": "2022-02-03T18:37:53.383Z"
   },
   {
    "duration": 33,
    "start_time": "2022-02-03T18:40:05.890Z"
   },
   {
    "duration": 33,
    "start_time": "2022-02-03T18:40:29.013Z"
   },
   {
    "duration": 27,
    "start_time": "2022-02-03T18:45:36.143Z"
   },
   {
    "duration": 38,
    "start_time": "2022-02-03T18:50:02.570Z"
   },
   {
    "duration": 121,
    "start_time": "2022-02-03T18:54:37.679Z"
   },
   {
    "duration": 150,
    "start_time": "2022-02-03T18:54:47.817Z"
   },
   {
    "duration": 10,
    "start_time": "2022-02-03T18:55:26.552Z"
   },
   {
    "duration": 148,
    "start_time": "2022-02-03T18:55:58.552Z"
   },
   {
    "duration": 10,
    "start_time": "2022-02-03T18:56:03.619Z"
   },
   {
    "duration": 3269,
    "start_time": "2022-02-03T18:56:23.125Z"
   },
   {
    "duration": 11,
    "start_time": "2022-02-03T18:56:28.771Z"
   },
   {
    "duration": 2255,
    "start_time": "2022-02-03T18:56:42.925Z"
   },
   {
    "duration": 9,
    "start_time": "2022-02-03T18:56:50.772Z"
   },
   {
    "duration": 44,
    "start_time": "2022-02-03T18:57:10.291Z"
   },
   {
    "duration": 3754,
    "start_time": "2022-02-03T18:57:17.865Z"
   },
   {
    "duration": 3072,
    "start_time": "2022-02-03T18:57:24.296Z"
   },
   {
    "duration": 143,
    "start_time": "2022-02-03T18:57:30.000Z"
   },
   {
    "duration": 9,
    "start_time": "2022-02-03T18:57:37.616Z"
   },
   {
    "duration": 37,
    "start_time": "2022-02-03T18:59:50.604Z"
   },
   {
    "duration": 149,
    "start_time": "2022-02-03T19:00:02.041Z"
   },
   {
    "duration": 29,
    "start_time": "2022-02-03T19:00:07.367Z"
   },
   {
    "duration": 26,
    "start_time": "2022-02-03T19:00:44.903Z"
   },
   {
    "duration": 29,
    "start_time": "2022-02-03T19:00:59.043Z"
   },
   {
    "duration": 25,
    "start_time": "2022-02-03T19:01:28.288Z"
   },
   {
    "duration": 27,
    "start_time": "2022-02-03T19:01:36.087Z"
   },
   {
    "duration": 28,
    "start_time": "2022-02-03T19:01:46.349Z"
   },
   {
    "duration": 673,
    "start_time": "2022-02-03T19:02:10.122Z"
   },
   {
    "duration": 17,
    "start_time": "2022-02-03T19:02:10.797Z"
   },
   {
    "duration": 9,
    "start_time": "2022-02-03T19:02:10.816Z"
   },
   {
    "duration": 204,
    "start_time": "2022-02-03T19:02:10.828Z"
   },
   {
    "duration": -135,
    "start_time": "2022-02-03T19:02:11.169Z"
   },
   {
    "duration": -136,
    "start_time": "2022-02-03T19:02:11.171Z"
   },
   {
    "duration": -138,
    "start_time": "2022-02-03T19:02:11.173Z"
   },
   {
    "duration": -138,
    "start_time": "2022-02-03T19:02:11.174Z"
   },
   {
    "duration": -138,
    "start_time": "2022-02-03T19:02:11.175Z"
   },
   {
    "duration": -139,
    "start_time": "2022-02-03T19:02:11.177Z"
   },
   {
    "duration": -139,
    "start_time": "2022-02-03T19:02:11.178Z"
   },
   {
    "duration": -140,
    "start_time": "2022-02-03T19:02:11.180Z"
   },
   {
    "duration": -141,
    "start_time": "2022-02-03T19:02:11.182Z"
   },
   {
    "duration": -142,
    "start_time": "2022-02-03T19:02:11.183Z"
   },
   {
    "duration": -174,
    "start_time": "2022-02-03T19:02:11.216Z"
   },
   {
    "duration": -176,
    "start_time": "2022-02-03T19:02:11.219Z"
   },
   {
    "duration": -177,
    "start_time": "2022-02-03T19:02:11.221Z"
   },
   {
    "duration": -178,
    "start_time": "2022-02-03T19:02:11.223Z"
   },
   {
    "duration": 26,
    "start_time": "2022-02-03T19:02:19.953Z"
   },
   {
    "duration": 38,
    "start_time": "2022-02-03T19:03:26.889Z"
   },
   {
    "duration": 25,
    "start_time": "2022-02-03T19:03:31.757Z"
   },
   {
    "duration": 25,
    "start_time": "2022-02-03T19:03:41.827Z"
   },
   {
    "duration": 629,
    "start_time": "2022-02-03T19:04:32.808Z"
   },
   {
    "duration": 17,
    "start_time": "2022-02-03T19:04:33.439Z"
   },
   {
    "duration": 10,
    "start_time": "2022-02-03T19:04:33.460Z"
   },
   {
    "duration": 22,
    "start_time": "2022-02-03T19:04:33.472Z"
   },
   {
    "duration": 7,
    "start_time": "2022-02-03T19:04:33.496Z"
   },
   {
    "duration": 183,
    "start_time": "2022-02-03T19:04:33.504Z"
   },
   {
    "duration": -36,
    "start_time": "2022-02-03T19:04:33.725Z"
   },
   {
    "duration": -37,
    "start_time": "2022-02-03T19:04:33.727Z"
   },
   {
    "duration": -37,
    "start_time": "2022-02-03T19:04:33.728Z"
   },
   {
    "duration": -38,
    "start_time": "2022-02-03T19:04:33.730Z"
   },
   {
    "duration": -39,
    "start_time": "2022-02-03T19:04:33.732Z"
   },
   {
    "duration": -39,
    "start_time": "2022-02-03T19:04:33.733Z"
   },
   {
    "duration": -40,
    "start_time": "2022-02-03T19:04:33.735Z"
   },
   {
    "duration": -41,
    "start_time": "2022-02-03T19:04:33.737Z"
   },
   {
    "duration": -42,
    "start_time": "2022-02-03T19:04:33.739Z"
   },
   {
    "duration": -43,
    "start_time": "2022-02-03T19:04:33.741Z"
   },
   {
    "duration": -44,
    "start_time": "2022-02-03T19:04:33.743Z"
   },
   {
    "duration": -44,
    "start_time": "2022-02-03T19:04:33.744Z"
   },
   {
    "duration": 215,
    "start_time": "2022-02-03T19:04:50.626Z"
   },
   {
    "duration": 25,
    "start_time": "2022-02-03T19:04:57.345Z"
   },
   {
    "duration": 26,
    "start_time": "2022-02-03T19:05:34.959Z"
   },
   {
    "duration": 25,
    "start_time": "2022-02-03T19:05:39.951Z"
   },
   {
    "duration": 34,
    "start_time": "2022-02-03T19:05:44.974Z"
   },
   {
    "duration": 26,
    "start_time": "2022-02-03T19:05:46.781Z"
   },
   {
    "duration": 26,
    "start_time": "2022-02-03T19:06:19.407Z"
   },
   {
    "duration": 26,
    "start_time": "2022-02-03T19:06:22.438Z"
   },
   {
    "duration": 28,
    "start_time": "2022-02-03T19:06:27.816Z"
   },
   {
    "duration": 26,
    "start_time": "2022-02-03T19:06:29.695Z"
   },
   {
    "duration": 175,
    "start_time": "2022-02-03T19:06:48.012Z"
   },
   {
    "duration": 740,
    "start_time": "2022-02-03T19:06:52.912Z"
   },
   {
    "duration": 17,
    "start_time": "2022-02-03T19:06:53.654Z"
   },
   {
    "duration": 11,
    "start_time": "2022-02-03T19:06:53.674Z"
   },
   {
    "duration": 27,
    "start_time": "2022-02-03T19:06:53.687Z"
   },
   {
    "duration": 6,
    "start_time": "2022-02-03T19:06:53.715Z"
   },
   {
    "duration": 189,
    "start_time": "2022-02-03T19:06:53.723Z"
   },
   {
    "duration": -31,
    "start_time": "2022-02-03T19:06:53.945Z"
   },
   {
    "duration": -32,
    "start_time": "2022-02-03T19:06:53.947Z"
   },
   {
    "duration": -37,
    "start_time": "2022-02-03T19:06:53.953Z"
   },
   {
    "duration": -45,
    "start_time": "2022-02-03T19:06:53.962Z"
   },
   {
    "duration": -82,
    "start_time": "2022-02-03T19:06:54.000Z"
   },
   {
    "duration": -83,
    "start_time": "2022-02-03T19:06:54.002Z"
   },
   {
    "duration": -84,
    "start_time": "2022-02-03T19:06:54.004Z"
   },
   {
    "duration": -84,
    "start_time": "2022-02-03T19:06:54.005Z"
   },
   {
    "duration": -85,
    "start_time": "2022-02-03T19:06:54.007Z"
   },
   {
    "duration": -85,
    "start_time": "2022-02-03T19:06:54.008Z"
   },
   {
    "duration": -86,
    "start_time": "2022-02-03T19:06:54.010Z"
   },
   {
    "duration": -86,
    "start_time": "2022-02-03T19:06:54.011Z"
   },
   {
    "duration": 138,
    "start_time": "2022-02-03T19:07:13.626Z"
   },
   {
    "duration": 637,
    "start_time": "2022-02-03T19:07:20.979Z"
   },
   {
    "duration": 18,
    "start_time": "2022-02-03T19:07:21.618Z"
   },
   {
    "duration": 13,
    "start_time": "2022-02-03T19:07:21.637Z"
   },
   {
    "duration": 224,
    "start_time": "2022-02-03T19:07:21.652Z"
   },
   {
    "duration": -78,
    "start_time": "2022-02-03T19:07:21.957Z"
   },
   {
    "duration": -83,
    "start_time": "2022-02-03T19:07:21.963Z"
   },
   {
    "duration": -84,
    "start_time": "2022-02-03T19:07:21.965Z"
   },
   {
    "duration": -128,
    "start_time": "2022-02-03T19:07:22.011Z"
   },
   {
    "duration": -130,
    "start_time": "2022-02-03T19:07:22.014Z"
   },
   {
    "duration": -131,
    "start_time": "2022-02-03T19:07:22.016Z"
   },
   {
    "duration": -130,
    "start_time": "2022-02-03T19:07:22.017Z"
   },
   {
    "duration": -131,
    "start_time": "2022-02-03T19:07:22.019Z"
   },
   {
    "duration": -131,
    "start_time": "2022-02-03T19:07:22.020Z"
   },
   {
    "duration": -130,
    "start_time": "2022-02-03T19:07:22.021Z"
   },
   {
    "duration": -131,
    "start_time": "2022-02-03T19:07:22.023Z"
   },
   {
    "duration": -131,
    "start_time": "2022-02-03T19:07:22.025Z"
   },
   {
    "duration": -132,
    "start_time": "2022-02-03T19:07:22.027Z"
   },
   {
    "duration": -131,
    "start_time": "2022-02-03T19:07:22.028Z"
   },
   {
    "duration": 28,
    "start_time": "2022-02-03T19:07:50.011Z"
   },
   {
    "duration": 655,
    "start_time": "2022-02-03T19:07:55.884Z"
   },
   {
    "duration": 16,
    "start_time": "2022-02-03T19:07:56.541Z"
   },
   {
    "duration": 10,
    "start_time": "2022-02-03T19:07:56.559Z"
   },
   {
    "duration": 23,
    "start_time": "2022-02-03T19:07:56.571Z"
   },
   {
    "duration": 6,
    "start_time": "2022-02-03T19:07:56.596Z"
   },
   {
    "duration": 183,
    "start_time": "2022-02-03T19:07:56.603Z"
   },
   {
    "duration": -37,
    "start_time": "2022-02-03T19:07:56.825Z"
   },
   {
    "duration": -38,
    "start_time": "2022-02-03T19:07:56.827Z"
   },
   {
    "duration": -38,
    "start_time": "2022-02-03T19:07:56.828Z"
   },
   {
    "duration": -84,
    "start_time": "2022-02-03T19:07:56.875Z"
   },
   {
    "duration": -83,
    "start_time": "2022-02-03T19:07:56.876Z"
   },
   {
    "duration": -84,
    "start_time": "2022-02-03T19:07:56.878Z"
   },
   {
    "duration": -84,
    "start_time": "2022-02-03T19:07:56.879Z"
   },
   {
    "duration": -90,
    "start_time": "2022-02-03T19:07:56.886Z"
   },
   {
    "duration": -92,
    "start_time": "2022-02-03T19:07:56.889Z"
   },
   {
    "duration": -94,
    "start_time": "2022-02-03T19:07:56.891Z"
   },
   {
    "duration": -94,
    "start_time": "2022-02-03T19:07:56.892Z"
   },
   {
    "duration": -95,
    "start_time": "2022-02-03T19:07:56.894Z"
   },
   {
    "duration": 345,
    "start_time": "2022-02-03T19:20:29.463Z"
   },
   {
    "duration": 446,
    "start_time": "2022-02-03T19:20:47.961Z"
   },
   {
    "duration": 570,
    "start_time": "2022-02-03T19:21:05.355Z"
   },
   {
    "duration": 578,
    "start_time": "2022-02-03T19:21:26.669Z"
   },
   {
    "duration": 518,
    "start_time": "2022-02-03T19:25:16.645Z"
   },
   {
    "duration": 492,
    "start_time": "2022-02-03T19:26:59.445Z"
   },
   {
    "duration": 746,
    "start_time": "2022-02-03T19:27:10.184Z"
   },
   {
    "duration": 19,
    "start_time": "2022-02-03T19:27:10.932Z"
   },
   {
    "duration": 12,
    "start_time": "2022-02-03T19:27:10.953Z"
   },
   {
    "duration": 393,
    "start_time": "2022-02-03T19:27:10.967Z"
   },
   {
    "duration": 7,
    "start_time": "2022-02-03T19:27:11.363Z"
   },
   {
    "duration": 200,
    "start_time": "2022-02-03T19:27:11.372Z"
   },
   {
    "duration": 33,
    "start_time": "2022-02-03T19:27:11.541Z"
   },
   {
    "duration": 31,
    "start_time": "2022-02-03T19:27:11.545Z"
   },
   {
    "duration": 31,
    "start_time": "2022-02-03T19:27:11.546Z"
   },
   {
    "duration": -8,
    "start_time": "2022-02-03T19:27:11.585Z"
   },
   {
    "duration": -10,
    "start_time": "2022-02-03T19:27:11.588Z"
   },
   {
    "duration": -11,
    "start_time": "2022-02-03T19:27:11.590Z"
   },
   {
    "duration": -11,
    "start_time": "2022-02-03T19:27:11.591Z"
   },
   {
    "duration": -11,
    "start_time": "2022-02-03T19:27:11.592Z"
   },
   {
    "duration": -12,
    "start_time": "2022-02-03T19:27:11.594Z"
   },
   {
    "duration": -12,
    "start_time": "2022-02-03T19:27:11.595Z"
   },
   {
    "duration": -13,
    "start_time": "2022-02-03T19:27:11.597Z"
   },
   {
    "duration": -19,
    "start_time": "2022-02-03T19:27:11.603Z"
   },
   {
    "duration": 480,
    "start_time": "2022-02-03T19:27:26.905Z"
   },
   {
    "duration": 361,
    "start_time": "2022-02-04T17:46:23.006Z"
   },
   {
    "duration": 1110,
    "start_time": "2022-02-04T17:46:28.268Z"
   },
   {
    "duration": 29,
    "start_time": "2022-02-04T17:46:29.381Z"
   },
   {
    "duration": 24,
    "start_time": "2022-02-04T17:46:29.412Z"
   },
   {
    "duration": 1011,
    "start_time": "2022-02-04T17:46:29.438Z"
   },
   {
    "duration": -496,
    "start_time": "2022-02-04T17:46:30.948Z"
   },
   {
    "duration": -497,
    "start_time": "2022-02-04T17:46:30.951Z"
   },
   {
    "duration": -535,
    "start_time": "2022-02-04T17:46:30.990Z"
   },
   {
    "duration": -536,
    "start_time": "2022-02-04T17:46:30.993Z"
   },
   {
    "duration": -537,
    "start_time": "2022-02-04T17:46:30.995Z"
   },
   {
    "duration": -537,
    "start_time": "2022-02-04T17:46:30.996Z"
   },
   {
    "duration": -536,
    "start_time": "2022-02-04T17:46:30.997Z"
   },
   {
    "duration": -537,
    "start_time": "2022-02-04T17:46:30.999Z"
   },
   {
    "duration": -536,
    "start_time": "2022-02-04T17:46:31.000Z"
   },
   {
    "duration": -536,
    "start_time": "2022-02-04T17:46:31.001Z"
   },
   {
    "duration": -536,
    "start_time": "2022-02-04T17:46:31.003Z"
   },
   {
    "duration": -536,
    "start_time": "2022-02-04T17:46:31.004Z"
   },
   {
    "duration": -535,
    "start_time": "2022-02-04T17:46:31.005Z"
   },
   {
    "duration": -535,
    "start_time": "2022-02-04T17:46:31.007Z"
   },
   {
    "duration": 3931,
    "start_time": "2022-02-04T17:46:43.375Z"
   },
   {
    "duration": -540,
    "start_time": "2022-02-04T17:46:47.849Z"
   },
   {
    "duration": -541,
    "start_time": "2022-02-04T17:46:47.851Z"
   },
   {
    "duration": -540,
    "start_time": "2022-02-04T17:46:47.852Z"
   },
   {
    "duration": 3755,
    "start_time": "2022-02-04T17:46:55.037Z"
   },
   {
    "duration": -540,
    "start_time": "2022-02-04T17:46:59.335Z"
   },
   {
    "duration": -540,
    "start_time": "2022-02-04T17:46:59.336Z"
   },
   {
    "duration": 297,
    "start_time": "2022-02-04T17:46:59.014Z"
   },
   {
    "duration": 346,
    "start_time": "2022-02-08T13:23:50.047Z"
   },
   {
    "duration": 835,
    "start_time": "2022-02-08T13:24:00.614Z"
   },
   {
    "duration": 16,
    "start_time": "2022-02-08T13:24:01.727Z"
   },
   {
    "duration": 11,
    "start_time": "2022-02-08T13:24:04.102Z"
   },
   {
    "duration": 4,
    "start_time": "2022-02-08T13:24:07.537Z"
   },
   {
    "duration": 282,
    "start_time": "2022-02-08T13:24:22.212Z"
   },
   {
    "duration": 3,
    "start_time": "2022-02-08T13:24:32.315Z"
   },
   {
    "duration": 95,
    "start_time": "2022-02-08T13:24:52.524Z"
   },
   {
    "duration": 4,
    "start_time": "2022-02-08T13:24:55.061Z"
   },
   {
    "duration": 6,
    "start_time": "2022-02-08T13:27:29.222Z"
   },
   {
    "duration": 5,
    "start_time": "2022-02-08T13:27:31.642Z"
   },
   {
    "duration": 4,
    "start_time": "2022-02-08T13:47:18.932Z"
   },
   {
    "duration": 23,
    "start_time": "2022-02-08T13:48:11.431Z"
   },
   {
    "duration": 23,
    "start_time": "2022-02-08T13:48:21.644Z"
   },
   {
    "duration": 79,
    "start_time": "2022-02-08T13:48:47.048Z"
   },
   {
    "duration": 4,
    "start_time": "2022-02-08T13:48:55.376Z"
   },
   {
    "duration": 23,
    "start_time": "2022-02-08T13:48:58.104Z"
   },
   {
    "duration": 3,
    "start_time": "2022-02-08T13:50:19.935Z"
   },
   {
    "duration": 22,
    "start_time": "2022-02-08T13:50:36.855Z"
   },
   {
    "duration": 24,
    "start_time": "2022-02-08T13:50:45.110Z"
   },
   {
    "duration": 3,
    "start_time": "2022-02-08T13:51:32.716Z"
   },
   {
    "duration": 4,
    "start_time": "2022-02-08T13:52:03.964Z"
   },
   {
    "duration": 22,
    "start_time": "2022-02-08T13:52:05.555Z"
   },
   {
    "duration": 22,
    "start_time": "2022-02-08T13:52:12.514Z"
   },
   {
    "duration": 3,
    "start_time": "2022-02-08T13:52:20.668Z"
   },
   {
    "duration": 23,
    "start_time": "2022-02-08T13:52:21.681Z"
   },
   {
    "duration": 4,
    "start_time": "2022-02-08T13:52:50.205Z"
   },
   {
    "duration": 24,
    "start_time": "2022-02-08T13:52:51.319Z"
   },
   {
    "duration": 4,
    "start_time": "2022-02-08T13:53:04.462Z"
   },
   {
    "duration": 23,
    "start_time": "2022-02-08T13:53:05.642Z"
   },
   {
    "duration": 4,
    "start_time": "2022-02-08T13:54:31.244Z"
   },
   {
    "duration": 22,
    "start_time": "2022-02-08T13:54:33.272Z"
   },
   {
    "duration": 8,
    "start_time": "2022-02-08T13:54:52.277Z"
   },
   {
    "duration": 3,
    "start_time": "2022-02-08T13:55:45.770Z"
   },
   {
    "duration": 311,
    "start_time": "2022-02-08T13:56:03.356Z"
   },
   {
    "duration": 280,
    "start_time": "2022-02-08T13:56:04.482Z"
   },
   {
    "duration": 5,
    "start_time": "2022-02-08T13:56:29.750Z"
   },
   {
    "duration": 987,
    "start_time": "2022-02-08T13:58:16.516Z"
   },
   {
    "duration": -17,
    "start_time": "2022-02-08T13:58:17.521Z"
   },
   {
    "duration": 1015,
    "start_time": "2022-02-08T13:58:54.844Z"
   },
   {
    "duration": 1161,
    "start_time": "2022-02-08T13:59:59.270Z"
   },
   {
    "duration": 1009,
    "start_time": "2022-02-08T14:00:31.380Z"
   },
   {
    "duration": 1238,
    "start_time": "2022-02-08T14:00:44.416Z"
   },
   {
    "duration": 972,
    "start_time": "2022-02-08T14:00:50.340Z"
   },
   {
    "duration": 3,
    "start_time": "2022-02-08T14:02:45.120Z"
   },
   {
    "duration": 992,
    "start_time": "2022-02-08T14:02:47.686Z"
   },
   {
    "duration": 3,
    "start_time": "2022-02-08T14:07:52.011Z"
   },
   {
    "duration": 3,
    "start_time": "2022-02-08T14:07:55.835Z"
   },
   {
    "duration": 3254,
    "start_time": "2022-02-08T14:08:41.152Z"
   },
   {
    "duration": 2,
    "start_time": "2022-02-08T14:09:38.704Z"
   },
   {
    "duration": 3672,
    "start_time": "2022-02-08T14:09:57.832Z"
   },
   {
    "duration": 2,
    "start_time": "2022-02-08T14:10:16.604Z"
   },
   {
    "duration": 3550,
    "start_time": "2022-02-08T14:10:17.981Z"
   },
   {
    "duration": 3292,
    "start_time": "2022-02-08T14:12:01.128Z"
   },
   {
    "duration": -69,
    "start_time": "2022-02-08T14:12:04.491Z"
   },
   {
    "duration": 3737,
    "start_time": "2022-02-08T14:12:32.991Z"
   },
   {
    "duration": -70,
    "start_time": "2022-02-08T14:12:36.800Z"
   },
   {
    "duration": 388,
    "start_time": "2022-02-08T14:12:55.136Z"
   },
   {
    "duration": 10,
    "start_time": "2022-02-08T14:12:56.980Z"
   },
   {
    "duration": 11,
    "start_time": "2022-02-08T14:12:58.926Z"
   },
   {
    "duration": 4,
    "start_time": "2022-02-08T14:13:01.625Z"
   },
   {
    "duration": 5,
    "start_time": "2022-02-08T14:13:02.659Z"
   },
   {
    "duration": 3,
    "start_time": "2022-02-08T14:13:03.905Z"
   },
   {
    "duration": 3,
    "start_time": "2022-02-08T14:13:27.913Z"
   },
   {
    "duration": 313,
    "start_time": "2022-02-08T14:13:28.965Z"
   },
   {
    "duration": 23,
    "start_time": "2022-02-08T14:13:33.441Z"
   },
   {
    "duration": 3,
    "start_time": "2022-02-08T14:13:58.944Z"
   },
   {
    "duration": 332,
    "start_time": "2022-02-08T14:14:00.030Z"
   },
   {
    "duration": 24,
    "start_time": "2022-02-08T14:14:01.431Z"
   },
   {
    "duration": 815,
    "start_time": "2022-02-08T14:15:24.760Z"
   },
   {
    "duration": 16,
    "start_time": "2022-02-08T14:15:25.577Z"
   },
   {
    "duration": 9,
    "start_time": "2022-02-08T14:15:25.598Z"
   },
   {
    "duration": 3,
    "start_time": "2022-02-08T14:15:25.609Z"
   },
   {
    "duration": 359,
    "start_time": "2022-02-08T14:15:25.613Z"
   },
   {
    "duration": 26,
    "start_time": "2022-02-08T14:15:25.974Z"
   },
   {
    "duration": 6,
    "start_time": "2022-02-08T14:15:26.003Z"
   },
   {
    "duration": 317,
    "start_time": "2022-02-08T14:15:26.011Z"
   },
   {
    "duration": -26,
    "start_time": "2022-02-08T14:15:26.356Z"
   },
   {
    "duration": -28,
    "start_time": "2022-02-08T14:15:26.359Z"
   },
   {
    "duration": -29,
    "start_time": "2022-02-08T14:15:26.360Z"
   },
   {
    "duration": -30,
    "start_time": "2022-02-08T14:15:26.362Z"
   },
   {
    "duration": -31,
    "start_time": "2022-02-08T14:15:26.364Z"
   },
   {
    "duration": -31,
    "start_time": "2022-02-08T14:15:26.365Z"
   },
   {
    "duration": -59,
    "start_time": "2022-02-08T14:15:26.394Z"
   },
   {
    "duration": -60,
    "start_time": "2022-02-08T14:15:26.395Z"
   },
   {
    "duration": -61,
    "start_time": "2022-02-08T14:15:26.397Z"
   },
   {
    "duration": -62,
    "start_time": "2022-02-08T14:15:26.399Z"
   },
   {
    "duration": -62,
    "start_time": "2022-02-08T14:15:26.400Z"
   },
   {
    "duration": -63,
    "start_time": "2022-02-08T14:15:26.402Z"
   },
   {
    "duration": 227,
    "start_time": "2022-02-08T14:15:29.672Z"
   },
   {
    "duration": 12,
    "start_time": "2022-02-08T14:15:30.380Z"
   },
   {
    "duration": 10,
    "start_time": "2022-02-08T14:15:31.525Z"
   },
   {
    "duration": 3,
    "start_time": "2022-02-08T14:15:40.247Z"
   },
   {
    "duration": 329,
    "start_time": "2022-02-08T14:15:40.833Z"
   },
   {
    "duration": 23,
    "start_time": "2022-02-08T14:15:41.797Z"
   },
   {
    "duration": 23,
    "start_time": "2022-02-08T14:15:53.581Z"
   },
   {
    "duration": 327,
    "start_time": "2022-02-08T14:16:51.137Z"
   },
   {
    "duration": 284,
    "start_time": "2022-02-08T14:16:51.805Z"
   },
   {
    "duration": 1134,
    "start_time": "2022-02-08T14:17:04.541Z"
   },
   {
    "duration": -66,
    "start_time": "2022-02-08T14:17:05.743Z"
   },
   {
    "duration": 817,
    "start_time": "2022-02-08T14:17:12.466Z"
   },
   {
    "duration": 16,
    "start_time": "2022-02-08T14:17:13.285Z"
   },
   {
    "duration": 9,
    "start_time": "2022-02-08T14:17:13.303Z"
   },
   {
    "duration": 3,
    "start_time": "2022-02-08T14:17:13.314Z"
   },
   {
    "duration": 325,
    "start_time": "2022-02-08T14:17:13.318Z"
   },
   {
    "duration": 28,
    "start_time": "2022-02-08T14:17:13.644Z"
   },
   {
    "duration": 6,
    "start_time": "2022-02-08T14:17:13.674Z"
   },
   {
    "duration": 328,
    "start_time": "2022-02-08T14:17:13.681Z"
   },
   {
    "duration": -35,
    "start_time": "2022-02-08T14:17:14.047Z"
   },
   {
    "duration": -38,
    "start_time": "2022-02-08T14:17:14.051Z"
   },
   {
    "duration": -39,
    "start_time": "2022-02-08T14:17:14.053Z"
   },
   {
    "duration": -75,
    "start_time": "2022-02-08T14:17:14.090Z"
   },
   {
    "duration": -78,
    "start_time": "2022-02-08T14:17:14.094Z"
   },
   {
    "duration": -80,
    "start_time": "2022-02-08T14:17:14.096Z"
   },
   {
    "duration": -80,
    "start_time": "2022-02-08T14:17:14.097Z"
   },
   {
    "duration": -81,
    "start_time": "2022-02-08T14:17:14.099Z"
   },
   {
    "duration": -82,
    "start_time": "2022-02-08T14:17:14.101Z"
   },
   {
    "duration": -82,
    "start_time": "2022-02-08T14:17:14.102Z"
   },
   {
    "duration": -86,
    "start_time": "2022-02-08T14:17:14.107Z"
   },
   {
    "duration": -89,
    "start_time": "2022-02-08T14:17:14.111Z"
   },
   {
    "duration": 6,
    "start_time": "2022-02-08T14:17:35.641Z"
   },
   {
    "duration": 5,
    "start_time": "2022-02-08T14:17:47.743Z"
   },
   {
    "duration": 25,
    "start_time": "2022-02-08T14:19:00.862Z"
   },
   {
    "duration": 26,
    "start_time": "2022-02-08T14:19:15.619Z"
   },
   {
    "duration": 26,
    "start_time": "2022-02-08T14:19:39.370Z"
   },
   {
    "duration": 3,
    "start_time": "2022-02-08T14:24:47.210Z"
   },
   {
    "duration": 426,
    "start_time": "2022-02-08T14:24:48.052Z"
   },
   {
    "duration": 25,
    "start_time": "2022-02-08T14:24:48.750Z"
   },
   {
    "duration": 28,
    "start_time": "2022-02-08T14:24:56.941Z"
   },
   {
    "duration": 4,
    "start_time": "2022-02-08T14:26:07.901Z"
   },
   {
    "duration": 341,
    "start_time": "2022-02-08T14:26:08.378Z"
   },
   {
    "duration": 26,
    "start_time": "2022-02-08T14:26:11.050Z"
   },
   {
    "duration": 319,
    "start_time": "2022-02-08T14:26:21.792Z"
   },
   {
    "duration": 292,
    "start_time": "2022-02-08T14:26:22.360Z"
   },
   {
    "duration": 270,
    "start_time": "2022-02-08T14:26:35.953Z"
   },
   {
    "duration": 1210,
    "start_time": "2022-02-08T14:26:37.651Z"
   },
   {
    "duration": 1139,
    "start_time": "2022-02-08T14:26:52.447Z"
   },
   {
    "duration": 1062,
    "start_time": "2022-02-08T14:29:44.754Z"
   },
   {
    "duration": 263,
    "start_time": "2022-02-08T14:29:46.020Z"
   },
   {
    "duration": 4,
    "start_time": "2022-02-08T14:30:34.036Z"
   },
   {
    "duration": 1046,
    "start_time": "2022-02-08T14:30:34.745Z"
   },
   {
    "duration": 835,
    "start_time": "2022-02-08T14:30:47.717Z"
   },
   {
    "duration": 17,
    "start_time": "2022-02-08T14:30:48.554Z"
   },
   {
    "duration": 28,
    "start_time": "2022-02-08T14:30:48.574Z"
   },
   {
    "duration": 3,
    "start_time": "2022-02-08T14:30:48.604Z"
   },
   {
    "duration": 986,
    "start_time": "2022-02-08T14:30:48.608Z"
   },
   {
    "duration": -63,
    "start_time": "2022-02-08T14:30:49.660Z"
   },
   {
    "duration": -66,
    "start_time": "2022-02-08T14:30:49.664Z"
   },
   {
    "duration": -67,
    "start_time": "2022-02-08T14:30:49.666Z"
   },
   {
    "duration": -73,
    "start_time": "2022-02-08T14:30:49.674Z"
   },
   {
    "duration": -76,
    "start_time": "2022-02-08T14:30:49.678Z"
   },
   {
    "duration": -76,
    "start_time": "2022-02-08T14:30:49.680Z"
   },
   {
    "duration": -78,
    "start_time": "2022-02-08T14:30:49.683Z"
   },
   {
    "duration": -79,
    "start_time": "2022-02-08T14:30:49.686Z"
   },
   {
    "duration": -88,
    "start_time": "2022-02-08T14:30:49.696Z"
   },
   {
    "duration": -90,
    "start_time": "2022-02-08T14:30:49.699Z"
   },
   {
    "duration": -90,
    "start_time": "2022-02-08T14:30:49.701Z"
   },
   {
    "duration": -94,
    "start_time": "2022-02-08T14:30:49.706Z"
   },
   {
    "duration": -96,
    "start_time": "2022-02-08T14:30:49.709Z"
   },
   {
    "duration": -96,
    "start_time": "2022-02-08T14:30:49.711Z"
   },
   {
    "duration": -97,
    "start_time": "2022-02-08T14:30:49.713Z"
   },
   {
    "duration": 326,
    "start_time": "2022-02-08T14:31:02.424Z"
   },
   {
    "duration": 25,
    "start_time": "2022-02-08T14:31:05.591Z"
   },
   {
    "duration": 3,
    "start_time": "2022-02-08T14:31:12.498Z"
   },
   {
    "duration": 359,
    "start_time": "2022-02-08T14:31:13.004Z"
   },
   {
    "duration": 24,
    "start_time": "2022-02-08T14:31:13.482Z"
   },
   {
    "duration": 15,
    "start_time": "2022-02-08T14:34:50.225Z"
   },
   {
    "duration": 26,
    "start_time": "2022-02-08T14:35:01.730Z"
   },
   {
    "duration": 27,
    "start_time": "2022-02-08T14:35:16.518Z"
   },
   {
    "duration": 8,
    "start_time": "2022-02-08T14:36:36.690Z"
   },
   {
    "duration": 26,
    "start_time": "2022-02-08T14:36:40.341Z"
   },
   {
    "duration": 25,
    "start_time": "2022-02-08T14:37:15.577Z"
   },
   {
    "duration": 26,
    "start_time": "2022-02-08T14:37:22.798Z"
   },
   {
    "duration": 714,
    "start_time": "2022-02-08T14:38:19.497Z"
   },
   {
    "duration": 17,
    "start_time": "2022-02-08T14:38:20.213Z"
   },
   {
    "duration": 10,
    "start_time": "2022-02-08T14:38:20.234Z"
   },
   {
    "duration": 3,
    "start_time": "2022-02-08T14:38:20.246Z"
   },
   {
    "duration": 22,
    "start_time": "2022-02-08T14:38:20.251Z"
   },
   {
    "duration": 24,
    "start_time": "2022-02-08T14:38:20.274Z"
   },
   {
    "duration": 2,
    "start_time": "2022-02-08T14:38:20.300Z"
   },
   {
    "duration": 26,
    "start_time": "2022-02-08T14:38:20.304Z"
   },
   {
    "duration": 48,
    "start_time": "2022-02-08T14:38:20.331Z"
   },
   {
    "duration": 6805,
    "start_time": "2022-02-08T14:38:20.380Z"
   },
   {
    "duration": -66,
    "start_time": "2022-02-08T14:38:27.253Z"
   },
   {
    "duration": -68,
    "start_time": "2022-02-08T14:38:27.256Z"
   },
   {
    "duration": -69,
    "start_time": "2022-02-08T14:38:27.258Z"
   },
   {
    "duration": -74,
    "start_time": "2022-02-08T14:38:27.264Z"
   },
   {
    "duration": -76,
    "start_time": "2022-02-08T14:38:27.267Z"
   },
   {
    "duration": -78,
    "start_time": "2022-02-08T14:38:27.270Z"
   },
   {
    "duration": -79,
    "start_time": "2022-02-08T14:38:27.272Z"
   },
   {
    "duration": -81,
    "start_time": "2022-02-08T14:38:27.275Z"
   },
   {
    "duration": -87,
    "start_time": "2022-02-08T14:38:27.282Z"
   },
   {
    "duration": -90,
    "start_time": "2022-02-08T14:38:27.286Z"
   },
   {
    "duration": -91,
    "start_time": "2022-02-08T14:38:27.288Z"
   },
   {
    "duration": -92,
    "start_time": "2022-02-08T14:38:27.290Z"
   },
   {
    "duration": -97,
    "start_time": "2022-02-08T14:38:27.296Z"
   },
   {
    "duration": 25,
    "start_time": "2022-02-08T14:38:34.195Z"
   },
   {
    "duration": 24,
    "start_time": "2022-02-08T14:38:52.732Z"
   },
   {
    "duration": 2,
    "start_time": "2022-02-08T14:38:54.751Z"
   },
   {
    "duration": 4,
    "start_time": "2022-02-08T14:39:11.869Z"
   },
   {
    "duration": 6,
    "start_time": "2022-02-08T14:39:12.346Z"
   },
   {
    "duration": 25,
    "start_time": "2022-02-08T14:39:12.916Z"
   },
   {
    "duration": 844,
    "start_time": "2022-02-08T14:39:25.246Z"
   },
   {
    "duration": 17,
    "start_time": "2022-02-08T14:39:26.092Z"
   },
   {
    "duration": 11,
    "start_time": "2022-02-08T14:39:26.110Z"
   },
   {
    "duration": 3,
    "start_time": "2022-02-08T14:39:26.122Z"
   },
   {
    "duration": 11,
    "start_time": "2022-02-08T14:39:26.126Z"
   },
   {
    "duration": 44,
    "start_time": "2022-02-08T14:39:26.139Z"
   },
   {
    "duration": 2,
    "start_time": "2022-02-08T14:39:26.184Z"
   },
   {
    "duration": 24,
    "start_time": "2022-02-08T14:39:26.188Z"
   },
   {
    "duration": 23,
    "start_time": "2022-02-08T14:39:26.214Z"
   },
   {
    "duration": 6771,
    "start_time": "2022-02-08T14:39:26.238Z"
   },
   {
    "duration": -68,
    "start_time": "2022-02-08T14:39:33.079Z"
   },
   {
    "duration": -69,
    "start_time": "2022-02-08T14:39:33.081Z"
   },
   {
    "duration": -70,
    "start_time": "2022-02-08T14:39:33.083Z"
   },
   {
    "duration": -70,
    "start_time": "2022-02-08T14:39:33.084Z"
   },
   {
    "duration": -70,
    "start_time": "2022-02-08T14:39:33.085Z"
   },
   {
    "duration": -72,
    "start_time": "2022-02-08T14:39:33.088Z"
   },
   {
    "duration": -78,
    "start_time": "2022-02-08T14:39:33.094Z"
   },
   {
    "duration": -80,
    "start_time": "2022-02-08T14:39:33.097Z"
   },
   {
    "duration": -81,
    "start_time": "2022-02-08T14:39:33.099Z"
   },
   {
    "duration": -81,
    "start_time": "2022-02-08T14:39:33.100Z"
   },
   {
    "duration": -83,
    "start_time": "2022-02-08T14:39:33.102Z"
   },
   {
    "duration": -83,
    "start_time": "2022-02-08T14:39:33.103Z"
   },
   {
    "duration": -88,
    "start_time": "2022-02-08T14:39:33.109Z"
   },
   {
    "duration": 3,
    "start_time": "2022-02-08T14:39:43.893Z"
   },
   {
    "duration": 6,
    "start_time": "2022-02-08T14:39:44.247Z"
   },
   {
    "duration": 26,
    "start_time": "2022-02-08T14:39:44.521Z"
   },
   {
    "duration": 774,
    "start_time": "2022-02-08T14:39:57.920Z"
   },
   {
    "duration": 17,
    "start_time": "2022-02-08T14:39:58.696Z"
   },
   {
    "duration": 25,
    "start_time": "2022-02-08T14:39:58.715Z"
   },
   {
    "duration": 11,
    "start_time": "2022-02-08T14:39:58.742Z"
   },
   {
    "duration": 30,
    "start_time": "2022-02-08T14:39:58.755Z"
   },
   {
    "duration": 23,
    "start_time": "2022-02-08T14:39:58.786Z"
   },
   {
    "duration": 3,
    "start_time": "2022-02-08T14:39:58.811Z"
   },
   {
    "duration": 36,
    "start_time": "2022-02-08T14:39:58.816Z"
   },
   {
    "duration": 28,
    "start_time": "2022-02-08T14:39:58.854Z"
   },
   {
    "duration": 18740,
    "start_time": "2022-02-08T14:39:58.884Z"
   },
   {
    "duration": -69,
    "start_time": "2022-02-08T14:40:17.695Z"
   },
   {
    "duration": -69,
    "start_time": "2022-02-08T14:40:17.696Z"
   },
   {
    "duration": -70,
    "start_time": "2022-02-08T14:40:17.698Z"
   },
   {
    "duration": -71,
    "start_time": "2022-02-08T14:40:17.700Z"
   },
   {
    "duration": -73,
    "start_time": "2022-02-08T14:40:17.702Z"
   },
   {
    "duration": -73,
    "start_time": "2022-02-08T14:40:17.703Z"
   },
   {
    "duration": -74,
    "start_time": "2022-02-08T14:40:17.705Z"
   },
   {
    "duration": -75,
    "start_time": "2022-02-08T14:40:17.706Z"
   },
   {
    "duration": -77,
    "start_time": "2022-02-08T14:40:17.709Z"
   },
   {
    "duration": -77,
    "start_time": "2022-02-08T14:40:17.710Z"
   },
   {
    "duration": -78,
    "start_time": "2022-02-08T14:40:17.712Z"
   },
   {
    "duration": -79,
    "start_time": "2022-02-08T14:40:17.713Z"
   },
   {
    "duration": -80,
    "start_time": "2022-02-08T14:40:17.715Z"
   },
   {
    "duration": -80,
    "start_time": "2022-02-08T14:40:17.717Z"
   },
   {
    "duration": -82,
    "start_time": "2022-02-08T14:40:17.719Z"
   },
   {
    "duration": -84,
    "start_time": "2022-02-08T14:40:17.722Z"
   },
   {
    "duration": 1224,
    "start_time": "2022-02-08T14:40:25.467Z"
   },
   {
    "duration": 16,
    "start_time": "2022-02-08T14:40:26.693Z"
   },
   {
    "duration": 11,
    "start_time": "2022-02-08T14:40:26.711Z"
   },
   {
    "duration": 2,
    "start_time": "2022-02-08T14:40:26.724Z"
   },
   {
    "duration": 13,
    "start_time": "2022-02-08T14:40:26.728Z"
   },
   {
    "duration": 51,
    "start_time": "2022-02-08T14:40:26.742Z"
   },
   {
    "duration": 2,
    "start_time": "2022-02-08T14:40:26.795Z"
   },
   {
    "duration": 26,
    "start_time": "2022-02-08T14:40:26.799Z"
   },
   {
    "duration": 55,
    "start_time": "2022-02-08T14:40:26.828Z"
   },
   {
    "duration": 16394,
    "start_time": "2022-02-08T14:40:26.884Z"
   },
   {
    "duration": -66,
    "start_time": "2022-02-08T14:40:43.346Z"
   },
   {
    "duration": -67,
    "start_time": "2022-02-08T14:40:43.347Z"
   },
   {
    "duration": -68,
    "start_time": "2022-02-08T14:40:43.349Z"
   },
   {
    "duration": -69,
    "start_time": "2022-02-08T14:40:43.351Z"
   },
   {
    "duration": -69,
    "start_time": "2022-02-08T14:40:43.352Z"
   },
   {
    "duration": -70,
    "start_time": "2022-02-08T14:40:43.354Z"
   },
   {
    "duration": -71,
    "start_time": "2022-02-08T14:40:43.356Z"
   },
   {
    "duration": -71,
    "start_time": "2022-02-08T14:40:43.357Z"
   },
   {
    "duration": -72,
    "start_time": "2022-02-08T14:40:43.359Z"
   },
   {
    "duration": -72,
    "start_time": "2022-02-08T14:40:43.360Z"
   },
   {
    "duration": -72,
    "start_time": "2022-02-08T14:40:43.361Z"
   },
   {
    "duration": -74,
    "start_time": "2022-02-08T14:40:43.364Z"
   },
   {
    "duration": -75,
    "start_time": "2022-02-08T14:40:43.366Z"
   },
   {
    "duration": -76,
    "start_time": "2022-02-08T14:40:43.367Z"
   },
   {
    "duration": -76,
    "start_time": "2022-02-08T14:40:43.368Z"
   },
   {
    "duration": 183,
    "start_time": "2022-02-08T14:41:15.441Z"
   },
   {
    "duration": 11,
    "start_time": "2022-02-08T14:41:16.727Z"
   },
   {
    "duration": 11,
    "start_time": "2022-02-08T14:41:19.767Z"
   },
   {
    "duration": 3,
    "start_time": "2022-02-08T14:41:23.249Z"
   },
   {
    "duration": 10,
    "start_time": "2022-02-08T14:41:24.980Z"
   },
   {
    "duration": 23,
    "start_time": "2022-02-08T14:41:27.055Z"
   },
   {
    "duration": 24,
    "start_time": "2022-02-08T14:42:07.095Z"
   },
   {
    "duration": 25,
    "start_time": "2022-02-08T14:42:10.865Z"
   },
   {
    "duration": 3,
    "start_time": "2022-02-08T14:42:24.981Z"
   },
   {
    "duration": 7,
    "start_time": "2022-02-08T14:42:25.394Z"
   },
   {
    "duration": 26,
    "start_time": "2022-02-08T14:42:25.802Z"
   },
   {
    "duration": 14,
    "start_time": "2022-02-08T14:48:23.866Z"
   },
   {
    "duration": 25,
    "start_time": "2022-02-08T14:48:27.201Z"
   },
   {
    "duration": 25,
    "start_time": "2022-02-08T14:48:34.140Z"
   },
   {
    "duration": 24,
    "start_time": "2022-02-08T14:48:44.979Z"
   },
   {
    "duration": 2,
    "start_time": "2022-02-08T14:48:45.689Z"
   },
   {
    "duration": 10,
    "start_time": "2022-02-08T14:51:02.832Z"
   },
   {
    "duration": 24,
    "start_time": "2022-02-08T14:51:03.260Z"
   },
   {
    "duration": 24,
    "start_time": "2022-02-08T14:51:16.423Z"
   },
   {
    "duration": 6,
    "start_time": "2022-02-08T14:51:46.642Z"
   },
   {
    "duration": 25,
    "start_time": "2022-02-08T14:51:47.456Z"
   },
   {
    "duration": 7,
    "start_time": "2022-02-08T14:51:51.407Z"
   },
   {
    "duration": 25,
    "start_time": "2022-02-08T14:51:51.783Z"
   },
   {
    "duration": 6,
    "start_time": "2022-02-08T14:52:04.201Z"
   },
   {
    "duration": 2,
    "start_time": "2022-02-08T14:52:11.543Z"
   },
   {
    "duration": 3,
    "start_time": "2022-02-08T14:52:18.391Z"
   },
   {
    "duration": 714,
    "start_time": "2022-02-08T14:52:25.703Z"
   },
   {
    "duration": 16,
    "start_time": "2022-02-08T14:52:26.419Z"
   },
   {
    "duration": 10,
    "start_time": "2022-02-08T14:52:26.436Z"
   },
   {
    "duration": 2,
    "start_time": "2022-02-08T14:52:26.447Z"
   },
   {
    "duration": 6,
    "start_time": "2022-02-08T14:52:26.451Z"
   },
   {
    "duration": 21,
    "start_time": "2022-02-08T14:52:26.458Z"
   },
   {
    "duration": 2,
    "start_time": "2022-02-08T14:52:26.481Z"
   },
   {
    "duration": 24,
    "start_time": "2022-02-08T14:52:26.485Z"
   },
   {
    "duration": 2,
    "start_time": "2022-02-08T14:52:26.511Z"
   },
   {
    "duration": 26,
    "start_time": "2022-02-08T14:52:26.514Z"
   },
   {
    "duration": 53,
    "start_time": "2022-02-08T14:52:26.541Z"
   },
   {
    "duration": 6471,
    "start_time": "2022-02-08T14:52:26.595Z"
   },
   {
    "duration": -74,
    "start_time": "2022-02-08T14:52:33.142Z"
   },
   {
    "duration": -77,
    "start_time": "2022-02-08T14:52:33.145Z"
   },
   {
    "duration": -78,
    "start_time": "2022-02-08T14:52:33.147Z"
   },
   {
    "duration": -79,
    "start_time": "2022-02-08T14:52:33.149Z"
   },
   {
    "duration": -80,
    "start_time": "2022-02-08T14:52:33.151Z"
   },
   {
    "duration": -81,
    "start_time": "2022-02-08T14:52:33.153Z"
   },
   {
    "duration": -81,
    "start_time": "2022-02-08T14:52:33.154Z"
   },
   {
    "duration": -89,
    "start_time": "2022-02-08T14:52:33.163Z"
   },
   {
    "duration": -91,
    "start_time": "2022-02-08T14:52:33.166Z"
   },
   {
    "duration": -93,
    "start_time": "2022-02-08T14:52:33.169Z"
   },
   {
    "duration": -94,
    "start_time": "2022-02-08T14:52:33.171Z"
   },
   {
    "duration": -115,
    "start_time": "2022-02-08T14:52:33.193Z"
   },
   {
    "duration": -119,
    "start_time": "2022-02-08T14:52:33.198Z"
   },
   {
    "duration": 26,
    "start_time": "2022-02-08T14:52:36.751Z"
   },
   {
    "duration": 24,
    "start_time": "2022-02-08T14:52:41.234Z"
   },
   {
    "duration": 24,
    "start_time": "2022-02-08T14:53:08.279Z"
   },
   {
    "duration": 22,
    "start_time": "2022-02-08T14:53:12.299Z"
   },
   {
    "duration": 25,
    "start_time": "2022-02-08T14:53:15.694Z"
   },
   {
    "duration": 29,
    "start_time": "2022-02-08T14:53:30.863Z"
   },
   {
    "duration": 30,
    "start_time": "2022-02-08T14:54:17.215Z"
   },
   {
    "duration": 7,
    "start_time": "2022-02-08T14:54:26.361Z"
   },
   {
    "duration": 29,
    "start_time": "2022-02-08T14:54:27.205Z"
   },
   {
    "duration": 24,
    "start_time": "2022-02-08T15:03:09.295Z"
   },
   {
    "duration": 7,
    "start_time": "2022-02-08T15:04:03.925Z"
   },
   {
    "duration": 6782,
    "start_time": "2022-02-08T15:04:09.073Z"
   },
   {
    "duration": -78,
    "start_time": "2022-02-08T15:04:15.934Z"
   },
   {
    "duration": -82,
    "start_time": "2022-02-08T15:04:15.940Z"
   },
   {
    "duration": 844,
    "start_time": "2022-02-08T15:04:30.852Z"
   },
   {
    "duration": 16,
    "start_time": "2022-02-08T15:04:31.698Z"
   },
   {
    "duration": 23,
    "start_time": "2022-02-08T15:04:31.715Z"
   },
   {
    "duration": 11,
    "start_time": "2022-02-08T15:04:31.739Z"
   },
   {
    "duration": 9,
    "start_time": "2022-02-08T15:04:31.751Z"
   },
   {
    "duration": 6755,
    "start_time": "2022-02-08T15:04:31.762Z"
   },
   {
    "duration": -62,
    "start_time": "2022-02-08T15:04:38.582Z"
   },
   {
    "duration": -63,
    "start_time": "2022-02-08T15:04:38.584Z"
   },
   {
    "duration": -63,
    "start_time": "2022-02-08T15:04:38.585Z"
   },
   {
    "duration": -64,
    "start_time": "2022-02-08T15:04:38.587Z"
   },
   {
    "duration": -63,
    "start_time": "2022-02-08T15:04:38.588Z"
   },
   {
    "duration": -64,
    "start_time": "2022-02-08T15:04:38.590Z"
   },
   {
    "duration": -64,
    "start_time": "2022-02-08T15:04:38.591Z"
   },
   {
    "duration": -66,
    "start_time": "2022-02-08T15:04:38.593Z"
   },
   {
    "duration": -66,
    "start_time": "2022-02-08T15:04:38.594Z"
   },
   {
    "duration": -67,
    "start_time": "2022-02-08T15:04:38.596Z"
   },
   {
    "duration": -78,
    "start_time": "2022-02-08T15:04:38.608Z"
   },
   {
    "duration": -81,
    "start_time": "2022-02-08T15:04:38.612Z"
   },
   {
    "duration": -82,
    "start_time": "2022-02-08T15:04:38.614Z"
   },
   {
    "duration": -82,
    "start_time": "2022-02-08T15:04:38.615Z"
   },
   {
    "duration": -83,
    "start_time": "2022-02-08T15:04:38.617Z"
   },
   {
    "duration": -83,
    "start_time": "2022-02-08T15:04:38.618Z"
   },
   {
    "duration": -84,
    "start_time": "2022-02-08T15:04:38.620Z"
   },
   {
    "duration": -86,
    "start_time": "2022-02-08T15:04:38.622Z"
   },
   {
    "duration": -91,
    "start_time": "2022-02-08T15:04:38.628Z"
   },
   {
    "duration": -92,
    "start_time": "2022-02-08T15:04:38.630Z"
   },
   {
    "duration": 11,
    "start_time": "2022-02-08T15:04:39.246Z"
   },
   {
    "duration": 10,
    "start_time": "2022-02-08T15:04:41.063Z"
   },
   {
    "duration": 2,
    "start_time": "2022-02-08T15:04:44.937Z"
   },
   {
    "duration": 8,
    "start_time": "2022-02-08T15:04:46.211Z"
   },
   {
    "duration": 7128,
    "start_time": "2022-02-08T15:04:48.799Z"
   },
   {
    "duration": -64,
    "start_time": "2022-02-08T15:04:55.992Z"
   },
   {
    "duration": 7,
    "start_time": "2022-02-08T15:05:28.610Z"
   },
   {
    "duration": 6705,
    "start_time": "2022-02-08T15:05:29.363Z"
   },
   {
    "duration": 7247,
    "start_time": "2022-02-08T15:05:54.506Z"
   },
   {
    "duration": 11,
    "start_time": "2022-02-08T15:06:14.340Z"
   },
   {
    "duration": 794,
    "start_time": "2022-02-08T15:07:10.030Z"
   },
   {
    "duration": 17,
    "start_time": "2022-02-08T15:07:10.826Z"
   },
   {
    "duration": 10,
    "start_time": "2022-02-08T15:07:10.845Z"
   },
   {
    "duration": 2,
    "start_time": "2022-02-08T15:07:10.857Z"
   },
   {
    "duration": 14,
    "start_time": "2022-02-08T15:07:10.861Z"
   },
   {
    "duration": 11,
    "start_time": "2022-02-08T15:07:10.876Z"
   },
   {
    "duration": 7,
    "start_time": "2022-02-08T15:07:10.888Z"
   },
   {
    "duration": 302,
    "start_time": "2022-02-08T15:07:10.897Z"
   },
   {
    "duration": -36,
    "start_time": "2022-02-08T15:07:11.237Z"
   },
   {
    "duration": -40,
    "start_time": "2022-02-08T15:07:11.242Z"
   },
   {
    "duration": -41,
    "start_time": "2022-02-08T15:07:11.244Z"
   },
   {
    "duration": -68,
    "start_time": "2022-02-08T15:07:11.271Z"
   },
   {
    "duration": -72,
    "start_time": "2022-02-08T15:07:11.276Z"
   },
   {
    "duration": -75,
    "start_time": "2022-02-08T15:07:11.280Z"
   },
   {
    "duration": -75,
    "start_time": "2022-02-08T15:07:11.281Z"
   },
   {
    "duration": -77,
    "start_time": "2022-02-08T15:07:11.283Z"
   },
   {
    "duration": -77,
    "start_time": "2022-02-08T15:07:11.284Z"
   },
   {
    "duration": -78,
    "start_time": "2022-02-08T15:07:11.286Z"
   },
   {
    "duration": -78,
    "start_time": "2022-02-08T15:07:11.287Z"
   },
   {
    "duration": -79,
    "start_time": "2022-02-08T15:07:11.289Z"
   },
   {
    "duration": -79,
    "start_time": "2022-02-08T15:07:11.290Z"
   },
   {
    "duration": -79,
    "start_time": "2022-02-08T15:07:11.291Z"
   },
   {
    "duration": -80,
    "start_time": "2022-02-08T15:07:11.293Z"
   },
   {
    "duration": -80,
    "start_time": "2022-02-08T15:07:11.294Z"
   },
   {
    "duration": -80,
    "start_time": "2022-02-08T15:07:11.295Z"
   },
   {
    "duration": 484,
    "start_time": "2022-02-08T15:07:14.330Z"
   },
   {
    "duration": 10,
    "start_time": "2022-02-08T15:07:15.203Z"
   },
   {
    "duration": 11,
    "start_time": "2022-02-08T15:07:17.499Z"
   },
   {
    "duration": 3,
    "start_time": "2022-02-08T15:07:20.249Z"
   },
   {
    "duration": 7,
    "start_time": "2022-02-08T15:07:20.859Z"
   },
   {
    "duration": 10,
    "start_time": "2022-02-08T15:07:22.534Z"
   },
   {
    "duration": 8,
    "start_time": "2022-02-08T15:07:24.025Z"
   },
   {
    "duration": 271,
    "start_time": "2022-02-08T15:07:24.748Z"
   },
   {
    "duration": 38,
    "start_time": "2022-02-08T15:07:31.081Z"
   },
   {
    "duration": 6506,
    "start_time": "2022-02-08T15:13:45.695Z"
   },
   {
    "duration": 238,
    "start_time": "2022-02-08T15:14:03.481Z"
   },
   {
    "duration": 12,
    "start_time": "2022-02-08T15:14:04.688Z"
   },
   {
    "duration": 13,
    "start_time": "2022-02-08T15:14:06.536Z"
   },
   {
    "duration": 3,
    "start_time": "2022-02-08T15:14:09.422Z"
   },
   {
    "duration": 8,
    "start_time": "2022-02-08T15:14:10.426Z"
   },
   {
    "duration": 85,
    "start_time": "2022-02-08T15:18:56.897Z"
   },
   {
    "duration": 10,
    "start_time": "2022-02-08T15:19:11.662Z"
   },
   {
    "duration": 7,
    "start_time": "2022-02-08T15:19:12.391Z"
   },
   {
    "duration": 26,
    "start_time": "2022-02-08T15:19:13.509Z"
   },
   {
    "duration": 16,
    "start_time": "2022-02-08T15:19:27.225Z"
   },
   {
    "duration": 90,
    "start_time": "2022-02-08T15:22:54.817Z"
   },
   {
    "duration": 15,
    "start_time": "2022-02-08T15:23:51.325Z"
   },
   {
    "duration": 7009,
    "start_time": "2022-02-08T15:25:02.061Z"
   },
   {
    "duration": 6778,
    "start_time": "2022-02-08T15:25:43.679Z"
   },
   {
    "duration": 810,
    "start_time": "2022-02-08T15:26:11.145Z"
   },
   {
    "duration": 19,
    "start_time": "2022-02-08T15:26:11.957Z"
   },
   {
    "duration": 11,
    "start_time": "2022-02-08T15:26:11.983Z"
   },
   {
    "duration": 7,
    "start_time": "2022-02-08T15:26:11.995Z"
   },
   {
    "duration": 5,
    "start_time": "2022-02-08T15:26:12.004Z"
   },
   {
    "duration": 9,
    "start_time": "2022-02-08T15:26:12.012Z"
   },
   {
    "duration": 56,
    "start_time": "2022-02-08T15:26:12.023Z"
   },
   {
    "duration": 8,
    "start_time": "2022-02-08T15:26:12.081Z"
   },
   {
    "duration": 19,
    "start_time": "2022-02-08T15:26:12.091Z"
   },
   {
    "duration": 2,
    "start_time": "2022-02-08T15:26:12.112Z"
   },
   {
    "duration": 4,
    "start_time": "2022-02-08T15:26:12.116Z"
   },
   {
    "duration": 6496,
    "start_time": "2022-02-08T15:26:12.122Z"
   },
   {
    "duration": -68,
    "start_time": "2022-02-08T15:26:18.688Z"
   },
   {
    "duration": -69,
    "start_time": "2022-02-08T15:26:18.690Z"
   },
   {
    "duration": -70,
    "start_time": "2022-02-08T15:26:18.693Z"
   },
   {
    "duration": -73,
    "start_time": "2022-02-08T15:26:18.696Z"
   },
   {
    "duration": -75,
    "start_time": "2022-02-08T15:26:18.699Z"
   },
   {
    "duration": -77,
    "start_time": "2022-02-08T15:26:18.702Z"
   },
   {
    "duration": -78,
    "start_time": "2022-02-08T15:26:18.704Z"
   },
   {
    "duration": -78,
    "start_time": "2022-02-08T15:26:18.705Z"
   },
   {
    "duration": -78,
    "start_time": "2022-02-08T15:26:18.706Z"
   },
   {
    "duration": -80,
    "start_time": "2022-02-08T15:26:18.708Z"
   },
   {
    "duration": -81,
    "start_time": "2022-02-08T15:26:18.710Z"
   },
   {
    "duration": -103,
    "start_time": "2022-02-08T15:26:18.733Z"
   },
   {
    "duration": -108,
    "start_time": "2022-02-08T15:26:18.739Z"
   },
   {
    "duration": 16,
    "start_time": "2022-02-08T15:26:19.505Z"
   },
   {
    "duration": 11,
    "start_time": "2022-02-08T15:26:21.582Z"
   },
   {
    "duration": 6386,
    "start_time": "2022-02-08T15:26:38.735Z"
   },
   {
    "duration": 417,
    "start_time": "2022-02-08T15:26:50.452Z"
   },
   {
    "duration": 11,
    "start_time": "2022-02-08T15:26:51.272Z"
   },
   {
    "duration": 9,
    "start_time": "2022-02-08T15:26:51.983Z"
   },
   {
    "duration": 7,
    "start_time": "2022-02-08T15:26:54.800Z"
   },
   {
    "duration": 269,
    "start_time": "2022-02-08T15:36:55.022Z"
   },
   {
    "duration": 6,
    "start_time": "2022-02-08T15:37:25.063Z"
   },
   {
    "duration": 6294,
    "start_time": "2022-02-08T15:37:37.046Z"
   },
   {
    "duration": 813,
    "start_time": "2022-02-08T15:37:55.244Z"
   },
   {
    "duration": 17,
    "start_time": "2022-02-08T15:37:56.105Z"
   },
   {
    "duration": 10,
    "start_time": "2022-02-08T15:37:57.069Z"
   },
   {
    "duration": 8,
    "start_time": "2022-02-08T15:37:59.846Z"
   },
   {
    "duration": 3,
    "start_time": "2022-02-08T15:38:01.053Z"
   },
   {
    "duration": 11,
    "start_time": "2022-02-08T15:38:02.047Z"
   },
   {
    "duration": 11,
    "start_time": "2022-02-08T15:38:02.866Z"
   },
   {
    "duration": 7,
    "start_time": "2022-02-08T15:38:03.750Z"
   },
   {
    "duration": 15,
    "start_time": "2022-02-08T15:38:04.855Z"
   },
   {
    "duration": 2,
    "start_time": "2022-02-08T15:38:08.775Z"
   },
   {
    "duration": 2,
    "start_time": "2022-02-08T15:38:09.170Z"
   },
   {
    "duration": 7,
    "start_time": "2022-02-08T15:38:11.997Z"
   },
   {
    "duration": 6283,
    "start_time": "2022-02-08T15:39:36.853Z"
   },
   {
    "duration": 8,
    "start_time": "2022-02-08T15:40:06.298Z"
   },
   {
    "duration": 19,
    "start_time": "2022-02-08T15:41:11.851Z"
   },
   {
    "duration": 273,
    "start_time": "2022-02-08T15:45:15.436Z"
   },
   {
    "duration": 9,
    "start_time": "2022-02-08T15:46:23.910Z"
   },
   {
    "duration": 20,
    "start_time": "2022-02-08T15:46:27.356Z"
   },
   {
    "duration": 9,
    "start_time": "2022-02-08T15:48:19.493Z"
   },
   {
    "duration": 10,
    "start_time": "2022-02-08T15:48:23.030Z"
   },
   {
    "duration": 6594,
    "start_time": "2022-02-08T15:48:38.117Z"
   },
   {
    "duration": -79,
    "start_time": "2022-02-08T15:48:44.792Z"
   },
   {
    "duration": 13,
    "start_time": "2022-02-08T15:49:08.994Z"
   },
   {
    "duration": 8,
    "start_time": "2022-02-08T15:49:20.365Z"
   },
   {
    "duration": 14,
    "start_time": "2022-02-08T15:50:03.914Z"
   },
   {
    "duration": 10,
    "start_time": "2022-02-08T15:50:05.993Z"
   },
   {
    "duration": 5,
    "start_time": "2022-02-08T15:51:46.863Z"
   },
   {
    "duration": 133,
    "start_time": "2022-02-08T15:51:59.589Z"
   },
   {
    "duration": 18,
    "start_time": "2022-02-08T15:52:10.591Z"
   },
   {
    "duration": 828,
    "start_time": "2022-02-08T15:52:38.289Z"
   },
   {
    "duration": 17,
    "start_time": "2022-02-08T15:52:39.119Z"
   },
   {
    "duration": 11,
    "start_time": "2022-02-08T15:52:39.137Z"
   },
   {
    "duration": 5,
    "start_time": "2022-02-08T15:52:39.150Z"
   },
   {
    "duration": 2,
    "start_time": "2022-02-08T15:52:39.157Z"
   },
   {
    "duration": 9,
    "start_time": "2022-02-08T15:52:39.172Z"
   },
   {
    "duration": 10,
    "start_time": "2022-02-08T15:52:39.182Z"
   },
   {
    "duration": 8,
    "start_time": "2022-02-08T15:52:39.194Z"
   },
   {
    "duration": 15,
    "start_time": "2022-02-08T15:52:39.204Z"
   },
   {
    "duration": 2,
    "start_time": "2022-02-08T15:52:39.220Z"
   },
   {
    "duration": 6,
    "start_time": "2022-02-08T15:52:39.224Z"
   },
   {
    "duration": 45,
    "start_time": "2022-02-08T15:52:39.232Z"
   },
   {
    "duration": 21,
    "start_time": "2022-02-08T15:52:39.278Z"
   },
   {
    "duration": 8,
    "start_time": "2022-02-08T15:52:39.300Z"
   },
   {
    "duration": 9,
    "start_time": "2022-02-08T15:52:39.310Z"
   },
   {
    "duration": 13,
    "start_time": "2022-02-08T15:52:39.320Z"
   },
   {
    "duration": 46,
    "start_time": "2022-02-08T15:52:39.334Z"
   },
   {
    "duration": 8,
    "start_time": "2022-02-08T15:52:39.382Z"
   },
   {
    "duration": 28,
    "start_time": "2022-02-08T15:52:39.391Z"
   },
   {
    "duration": 12,
    "start_time": "2022-02-08T15:52:39.420Z"
   },
   {
    "duration": 123,
    "start_time": "2022-02-08T15:52:39.434Z"
   },
   {
    "duration": 4,
    "start_time": "2022-02-08T15:52:39.559Z"
   },
   {
    "duration": 21,
    "start_time": "2022-02-08T15:52:39.565Z"
   },
   {
    "duration": 26,
    "start_time": "2022-02-08T15:52:39.588Z"
   },
   {
    "duration": 13,
    "start_time": "2022-02-08T15:54:14.348Z"
   },
   {
    "duration": 4,
    "start_time": "2022-02-08T15:54:45.206Z"
   },
   {
    "duration": 4,
    "start_time": "2022-02-08T15:56:29.241Z"
   },
   {
    "duration": 6295,
    "start_time": "2022-02-08T15:59:14.188Z"
   },
   {
    "duration": 6241,
    "start_time": "2022-02-08T15:59:36.388Z"
   },
   {
    "duration": 7175,
    "start_time": "2022-02-08T16:00:02.333Z"
   },
   {
    "duration": 243,
    "start_time": "2022-02-08T16:00:31.397Z"
   },
   {
    "duration": 9,
    "start_time": "2022-02-08T16:00:42.508Z"
   },
   {
    "duration": 7,
    "start_time": "2022-02-08T16:01:27.950Z"
   },
   {
    "duration": 15,
    "start_time": "2022-02-08T16:01:53.986Z"
   },
   {
    "duration": 13,
    "start_time": "2022-02-08T16:02:14.989Z"
   },
   {
    "duration": 13,
    "start_time": "2022-02-08T16:02:27.508Z"
   },
   {
    "duration": 14,
    "start_time": "2022-02-08T16:02:39.467Z"
   },
   {
    "duration": 13,
    "start_time": "2022-02-08T16:02:53.225Z"
   },
   {
    "duration": 18,
    "start_time": "2022-02-08T16:52:12.260Z"
   },
   {
    "duration": 13,
    "start_time": "2022-02-08T17:04:22.926Z"
   },
   {
    "duration": 257,
    "start_time": "2022-02-08T17:06:02.079Z"
   },
   {
    "duration": 14,
    "start_time": "2022-02-08T17:06:15.941Z"
   },
   {
    "duration": 14,
    "start_time": "2022-02-08T17:06:25.547Z"
   },
   {
    "duration": 14,
    "start_time": "2022-02-08T17:06:56.662Z"
   },
   {
    "duration": 14,
    "start_time": "2022-02-08T17:06:58.698Z"
   },
   {
    "duration": 13,
    "start_time": "2022-02-08T17:07:03.883Z"
   },
   {
    "duration": 15,
    "start_time": "2022-02-08T17:07:04.462Z"
   },
   {
    "duration": 13,
    "start_time": "2022-02-08T17:11:13.354Z"
   },
   {
    "duration": 974,
    "start_time": "2022-02-08T17:11:26.013Z"
   },
   {
    "duration": 16,
    "start_time": "2022-02-08T17:11:26.989Z"
   },
   {
    "duration": 325,
    "start_time": "2022-02-08T17:11:27.007Z"
   },
   {
    "duration": 935,
    "start_time": "2022-02-08T17:11:27.334Z"
   },
   {
    "duration": 494,
    "start_time": "2022-02-08T17:11:28.274Z"
   },
   {
    "duration": 662,
    "start_time": "2022-02-08T17:11:28.770Z"
   },
   {
    "duration": 515,
    "start_time": "2022-02-08T17:11:29.434Z"
   },
   {
    "duration": 788,
    "start_time": "2022-02-08T17:11:29.952Z"
   },
   {
    "duration": 641,
    "start_time": "2022-02-08T17:11:30.742Z"
   },
   {
    "duration": 1082,
    "start_time": "2022-02-08T17:11:31.384Z"
   },
   {
    "duration": 565,
    "start_time": "2022-02-08T17:11:32.468Z"
   },
   {
    "duration": 270,
    "start_time": "2022-02-08T17:11:33.034Z"
   },
   {
    "duration": 1470,
    "start_time": "2022-02-08T17:11:33.306Z"
   },
   {
    "duration": 958,
    "start_time": "2022-02-08T17:11:34.777Z"
   },
   {
    "duration": 788,
    "start_time": "2022-02-08T17:11:35.737Z"
   },
   {
    "duration": 529,
    "start_time": "2022-02-08T17:11:36.526Z"
   },
   {
    "duration": 621,
    "start_time": "2022-02-08T17:11:37.057Z"
   },
   {
    "duration": 510,
    "start_time": "2022-02-08T17:11:37.680Z"
   },
   {
    "duration": 1137,
    "start_time": "2022-02-08T17:11:38.193Z"
   },
   {
    "duration": 403,
    "start_time": "2022-02-08T17:11:39.331Z"
   },
   {
    "duration": 313,
    "start_time": "2022-02-08T17:11:39.736Z"
   },
   {
    "duration": 669,
    "start_time": "2022-02-08T17:11:40.050Z"
   },
   {
    "duration": 309,
    "start_time": "2022-02-08T17:11:40.722Z"
   },
   {
    "duration": 196,
    "start_time": "2022-02-08T17:11:41.033Z"
   },
   {
    "duration": 226,
    "start_time": "2022-02-08T17:11:41.231Z"
   },
   {
    "duration": 368,
    "start_time": "2022-02-08T17:11:41.458Z"
   },
   {
    "duration": 498,
    "start_time": "2022-02-08T17:11:41.828Z"
   },
   {
    "duration": 24,
    "start_time": "2022-02-08T17:12:04.393Z"
   },
   {
    "duration": 968,
    "start_time": "2022-02-08T17:12:10.824Z"
   },
   {
    "duration": 16,
    "start_time": "2022-02-08T17:12:11.795Z"
   },
   {
    "duration": 791,
    "start_time": "2022-02-08T17:12:11.813Z"
   },
   {
    "duration": 380,
    "start_time": "2022-02-08T17:12:12.606Z"
   },
   {
    "duration": 241,
    "start_time": "2022-02-08T17:12:12.988Z"
   },
   {
    "duration": 501,
    "start_time": "2022-02-08T17:12:13.231Z"
   },
   {
    "duration": 815,
    "start_time": "2022-02-08T17:12:13.734Z"
   },
   {
    "duration": 485,
    "start_time": "2022-02-08T17:12:14.553Z"
   },
   {
    "duration": 513,
    "start_time": "2022-02-08T17:12:15.040Z"
   },
   {
    "duration": 712,
    "start_time": "2022-02-08T17:12:15.554Z"
   },
   {
    "duration": 1031,
    "start_time": "2022-02-08T17:12:16.268Z"
   },
   {
    "duration": 1066,
    "start_time": "2022-02-08T17:12:17.301Z"
   },
   {
    "duration": 996,
    "start_time": "2022-02-08T17:12:18.369Z"
   },
   {
    "duration": 1088,
    "start_time": "2022-02-08T17:12:19.367Z"
   },
   {
    "duration": 694,
    "start_time": "2022-02-08T17:12:20.456Z"
   },
   {
    "duration": 1084,
    "start_time": "2022-02-08T17:12:21.152Z"
   },
   {
    "duration": 453,
    "start_time": "2022-02-08T17:12:22.238Z"
   },
   {
    "duration": 872,
    "start_time": "2022-02-08T17:12:22.692Z"
   },
   {
    "duration": 924,
    "start_time": "2022-02-08T17:12:23.565Z"
   },
   {
    "duration": 535,
    "start_time": "2022-02-08T17:12:24.491Z"
   },
   {
    "duration": 512,
    "start_time": "2022-02-08T17:12:25.028Z"
   },
   {
    "duration": 464,
    "start_time": "2022-02-08T17:12:25.541Z"
   },
   {
    "duration": 700,
    "start_time": "2022-02-08T17:12:26.008Z"
   },
   {
    "duration": 558,
    "start_time": "2022-02-08T17:12:26.709Z"
   },
   {
    "duration": 214,
    "start_time": "2022-02-08T17:12:27.272Z"
   },
   {
    "duration": 913,
    "start_time": "2022-02-08T17:12:27.488Z"
   },
   {
    "duration": 1431,
    "start_time": "2022-02-08T17:12:28.403Z"
   },
   {
    "duration": 4,
    "start_time": "2022-02-08T17:13:06.845Z"
   },
   {
    "duration": 811,
    "start_time": "2022-02-08T17:13:11.871Z"
   },
   {
    "duration": 17,
    "start_time": "2022-02-08T17:13:12.684Z"
   },
   {
    "duration": 295,
    "start_time": "2022-02-08T17:13:12.704Z"
   },
   {
    "duration": 333,
    "start_time": "2022-02-08T17:13:13.000Z"
   },
   {
    "duration": 441,
    "start_time": "2022-02-08T17:13:13.335Z"
   },
   {
    "duration": 237,
    "start_time": "2022-02-08T17:13:13.778Z"
   },
   {
    "duration": 529,
    "start_time": "2022-02-08T17:13:14.017Z"
   },
   {
    "duration": 588,
    "start_time": "2022-02-08T17:13:14.549Z"
   },
   {
    "duration": 538,
    "start_time": "2022-02-08T17:13:15.140Z"
   },
   {
    "duration": 550,
    "start_time": "2022-02-08T17:13:15.679Z"
   },
   {
    "duration": 327,
    "start_time": "2022-02-08T17:13:16.231Z"
   },
   {
    "duration": 541,
    "start_time": "2022-02-08T17:13:16.560Z"
   },
   {
    "duration": 295,
    "start_time": "2022-02-08T17:13:17.103Z"
   },
   {
    "duration": 628,
    "start_time": "2022-02-08T17:13:17.400Z"
   },
   {
    "duration": -83,
    "start_time": "2022-02-08T17:13:18.113Z"
   },
   {
    "duration": -85,
    "start_time": "2022-02-08T17:13:18.116Z"
   },
   {
    "duration": -85,
    "start_time": "2022-02-08T17:13:18.117Z"
   },
   {
    "duration": -85,
    "start_time": "2022-02-08T17:13:18.119Z"
   },
   {
    "duration": -85,
    "start_time": "2022-02-08T17:13:18.120Z"
   },
   {
    "duration": -86,
    "start_time": "2022-02-08T17:13:18.122Z"
   },
   {
    "duration": -88,
    "start_time": "2022-02-08T17:13:18.124Z"
   },
   {
    "duration": -88,
    "start_time": "2022-02-08T17:13:18.126Z"
   },
   {
    "duration": -90,
    "start_time": "2022-02-08T17:13:18.129Z"
   },
   {
    "duration": -103,
    "start_time": "2022-02-08T17:13:18.143Z"
   },
   {
    "duration": -107,
    "start_time": "2022-02-08T17:13:18.148Z"
   },
   {
    "duration": -109,
    "start_time": "2022-02-08T17:13:18.150Z"
   },
   {
    "duration": -110,
    "start_time": "2022-02-08T17:13:18.152Z"
   },
   {
    "duration": 923,
    "start_time": "2022-02-08T17:13:35.782Z"
   },
   {
    "duration": 16,
    "start_time": "2022-02-08T17:13:36.707Z"
   },
   {
    "duration": 223,
    "start_time": "2022-02-08T17:13:36.725Z"
   },
   {
    "duration": 129,
    "start_time": "2022-02-08T17:13:36.949Z"
   },
   {
    "duration": 161,
    "start_time": "2022-02-08T17:13:37.081Z"
   },
   {
    "duration": 154,
    "start_time": "2022-02-08T17:13:37.244Z"
   },
   {
    "duration": 135,
    "start_time": "2022-02-08T17:13:37.399Z"
   },
   {
    "duration": 256,
    "start_time": "2022-02-08T17:13:37.536Z"
   },
   {
    "duration": 238,
    "start_time": "2022-02-08T17:13:37.795Z"
   },
   {
    "duration": 223,
    "start_time": "2022-02-08T17:13:38.035Z"
   },
   {
    "duration": 168,
    "start_time": "2022-02-08T17:13:38.260Z"
   },
   {
    "duration": 197,
    "start_time": "2022-02-08T17:13:38.430Z"
   },
   {
    "duration": 128,
    "start_time": "2022-02-08T17:13:38.629Z"
   },
   {
    "duration": 150,
    "start_time": "2022-02-08T17:13:38.759Z"
   },
   {
    "duration": 190,
    "start_time": "2022-02-08T17:13:38.911Z"
   },
   {
    "duration": 433,
    "start_time": "2022-02-08T17:13:39.102Z"
   },
   {
    "duration": 199,
    "start_time": "2022-02-08T17:13:39.536Z"
   },
   {
    "duration": 412,
    "start_time": "2022-02-08T17:13:39.737Z"
   },
   {
    "duration": 191,
    "start_time": "2022-02-08T17:13:40.150Z"
   },
   {
    "duration": 286,
    "start_time": "2022-02-08T17:13:40.342Z"
   },
   {
    "duration": 232,
    "start_time": "2022-02-08T17:13:40.630Z"
   },
   {
    "duration": 197,
    "start_time": "2022-02-08T17:13:40.863Z"
   },
   {
    "duration": 290,
    "start_time": "2022-02-08T17:13:41.062Z"
   },
   {
    "duration": 220,
    "start_time": "2022-02-08T17:13:41.354Z"
   },
   {
    "duration": 148,
    "start_time": "2022-02-08T17:13:41.576Z"
   },
   {
    "duration": 209,
    "start_time": "2022-02-08T17:13:41.726Z"
   },
   {
    "duration": 26,
    "start_time": "2022-02-08T17:35:47.480Z"
   },
   {
    "duration": 18,
    "start_time": "2022-02-08T17:35:53.724Z"
   },
   {
    "duration": 4,
    "start_time": "2022-02-08T17:36:19.537Z"
   },
   {
    "duration": 5,
    "start_time": "2022-02-08T17:36:24.248Z"
   },
   {
    "duration": 4,
    "start_time": "2022-02-08T17:36:32.362Z"
   },
   {
    "duration": 8,
    "start_time": "2022-02-08T17:37:25.931Z"
   },
   {
    "duration": 318,
    "start_time": "2022-02-08T17:38:08.840Z"
   },
   {
    "duration": 297,
    "start_time": "2022-02-08T17:38:21.023Z"
   },
   {
    "duration": 281,
    "start_time": "2022-02-08T17:38:31.182Z"
   },
   {
    "duration": 6,
    "start_time": "2022-02-08T17:38:41.626Z"
   },
   {
    "duration": 8,
    "start_time": "2022-02-08T17:40:47.784Z"
   },
   {
    "duration": 4469,
    "start_time": "2022-02-08T17:42:54.161Z"
   },
   {
    "duration": 9,
    "start_time": "2022-02-08T17:42:58.632Z"
   },
   {
    "duration": 2119,
    "start_time": "2022-02-08T17:42:58.642Z"
   },
   {
    "duration": 2454,
    "start_time": "2022-02-08T17:43:00.763Z"
   },
   {
    "duration": 1713,
    "start_time": "2022-02-08T17:43:03.218Z"
   },
   {
    "duration": 1817,
    "start_time": "2022-02-08T17:43:04.933Z"
   },
   {
    "duration": 1599,
    "start_time": "2022-02-08T17:43:06.751Z"
   },
   {
    "duration": 2114,
    "start_time": "2022-02-08T17:43:08.352Z"
   },
   {
    "duration": 1789,
    "start_time": "2022-02-08T17:43:15.029Z"
   },
   {
    "duration": 18355,
    "start_time": "2022-02-08T17:43:16.820Z"
   },
   {
    "duration": 2128,
    "start_time": "2022-02-08T17:43:35.177Z"
   },
   {
    "duration": 1344,
    "start_time": "2022-02-08T17:43:37.307Z"
   },
   {
    "duration": 2568,
    "start_time": "2022-02-08T17:43:38.653Z"
   },
   {
    "duration": 1964,
    "start_time": "2022-02-08T17:43:41.223Z"
   },
   {
    "duration": 2048,
    "start_time": "2022-02-08T17:43:43.189Z"
   },
   {
    "duration": 1992,
    "start_time": "2022-02-08T17:43:45.239Z"
   },
   {
    "duration": 1972,
    "start_time": "2022-02-08T17:43:47.232Z"
   },
   {
    "duration": 1265,
    "start_time": "2022-02-08T17:43:49.205Z"
   },
   {
    "duration": 1055,
    "start_time": "2022-02-08T17:43:50.472Z"
   },
   {
    "duration": 4319,
    "start_time": "2022-02-08T17:43:51.529Z"
   },
   {
    "duration": 4502,
    "start_time": "2022-02-08T17:43:55.849Z"
   },
   {
    "duration": 3737,
    "start_time": "2022-02-08T17:44:58.291Z"
   },
   {
    "duration": 19,
    "start_time": "2022-02-08T17:45:02.030Z"
   },
   {
    "duration": 2096,
    "start_time": "2022-02-08T17:45:02.052Z"
   },
   {
    "duration": 1192,
    "start_time": "2022-02-08T17:45:04.151Z"
   },
   {
    "duration": 1170,
    "start_time": "2022-02-08T17:45:05.345Z"
   },
   {
    "duration": 5754,
    "start_time": "2022-02-08T17:45:06.517Z"
   },
   {
    "duration": 673,
    "start_time": "2022-02-08T17:45:12.272Z"
   },
   {
    "duration": 964,
    "start_time": "2022-02-08T17:45:12.947Z"
   },
   {
    "duration": 1265,
    "start_time": "2022-02-08T17:45:13.913Z"
   },
   {
    "duration": 1095,
    "start_time": "2022-02-08T17:45:15.180Z"
   },
   {
    "duration": 487,
    "start_time": "2022-02-08T17:45:16.277Z"
   },
   {
    "duration": 1534,
    "start_time": "2022-02-08T17:45:16.766Z"
   },
   {
    "duration": 1643,
    "start_time": "2022-02-08T17:45:18.302Z"
   },
   {
    "duration": 657,
    "start_time": "2022-02-08T17:45:19.947Z"
   },
   {
    "duration": 1000,
    "start_time": "2022-02-08T17:45:20.605Z"
   },
   {
    "duration": 11552,
    "start_time": "2022-02-08T17:45:21.607Z"
   },
   {
    "duration": 1498,
    "start_time": "2022-02-08T17:45:33.160Z"
   },
   {
    "duration": 1631,
    "start_time": "2022-02-08T17:45:34.660Z"
   },
   {
    "duration": 1100,
    "start_time": "2022-02-08T17:45:36.293Z"
   },
   {
    "duration": 945,
    "start_time": "2022-02-08T17:45:37.395Z"
   },
   {
    "duration": 624,
    "start_time": "2022-02-08T17:45:38.342Z"
   },
   {
    "duration": 654,
    "start_time": "2022-02-08T17:45:38.967Z"
   },
   {
    "duration": 741,
    "start_time": "2022-02-08T17:45:39.624Z"
   },
   {
    "duration": 563,
    "start_time": "2022-02-08T17:45:40.368Z"
   },
   {
    "duration": 750,
    "start_time": "2022-02-08T17:45:40.933Z"
   },
   {
    "duration": 963,
    "start_time": "2022-02-08T17:45:41.685Z"
   },
   {
    "duration": 512,
    "start_time": "2022-02-08T17:47:14.857Z"
   },
   {
    "duration": 11,
    "start_time": "2022-02-08T17:47:17.622Z"
   },
   {
    "duration": 1589,
    "start_time": "2022-02-08T17:47:22.106Z"
   },
   {
    "duration": 1343,
    "start_time": "2022-02-08T17:47:36.413Z"
   },
   {
    "duration": 16,
    "start_time": "2022-02-08T17:47:39.342Z"
   },
   {
    "duration": 11398,
    "start_time": "2022-02-08T17:47:42.309Z"
   },
   {
    "duration": 8,
    "start_time": "2022-02-08T17:48:06.056Z"
   },
   {
    "duration": 3,
    "start_time": "2022-02-08T17:48:08.076Z"
   },
   {
    "duration": 2196,
    "start_time": "2022-02-08T17:48:08.845Z"
   },
   {
    "duration": 15,
    "start_time": "2022-02-08T17:48:32.811Z"
   },
   {
    "duration": 8,
    "start_time": "2022-02-08T17:48:35.950Z"
   },
   {
    "duration": 992,
    "start_time": "2022-02-08T17:48:37.103Z"
   },
   {
    "duration": 2,
    "start_time": "2022-02-08T17:48:51.439Z"
   },
   {
    "duration": 1940,
    "start_time": "2022-02-08T17:48:51.844Z"
   },
   {
    "duration": 14,
    "start_time": "2022-02-08T17:48:55.708Z"
   },
   {
    "duration": 9239,
    "start_time": "2022-02-08T17:49:00.774Z"
   },
   {
    "duration": 7,
    "start_time": "2022-02-08T17:49:22.565Z"
   },
   {
    "duration": 16,
    "start_time": "2022-02-08T17:49:34.839Z"
   },
   {
    "duration": 942,
    "start_time": "2022-02-08T17:49:35.376Z"
   },
   {
    "duration": 8,
    "start_time": "2022-02-08T17:49:49.286Z"
   },
   {
    "duration": 21,
    "start_time": "2022-02-08T17:49:53.570Z"
   },
   {
    "duration": 11,
    "start_time": "2022-02-08T17:49:56.979Z"
   },
   {
    "duration": 10,
    "start_time": "2022-02-08T17:49:59.549Z"
   },
   {
    "duration": 14,
    "start_time": "2022-02-08T17:51:31.276Z"
   },
   {
    "duration": 9986,
    "start_time": "2022-02-08T17:51:32.455Z"
   },
   {
    "duration": 887,
    "start_time": "2022-02-08T17:51:43.889Z"
   },
   {
    "duration": 11,
    "start_time": "2022-02-08T17:51:50.019Z"
   },
   {
    "duration": 10,
    "start_time": "2022-02-08T17:51:58.262Z"
   },
   {
    "duration": 98,
    "start_time": "2022-02-08T17:52:04.937Z"
   },
   {
    "duration": -140253,
    "start_time": "2022-02-08T18:23:38.609Z"
   },
   {
    "duration": 9,
    "start_time": "2022-02-08T18:37:12.884Z"
   },
   {
    "duration": 14,
    "start_time": "2022-02-08T18:38:00.345Z"
   },
   {
    "duration": 12,
    "start_time": "2022-02-08T18:38:10.584Z"
   },
   {
    "duration": 11,
    "start_time": "2022-02-08T18:40:16.555Z"
   },
   {
    "duration": 14,
    "start_time": "2022-02-08T18:40:41.715Z"
   },
   {
    "duration": 12,
    "start_time": "2022-02-08T18:42:44.913Z"
   },
   {
    "duration": 12,
    "start_time": "2022-02-08T18:43:33.157Z"
   },
   {
    "duration": 331,
    "start_time": "2022-02-08T18:50:08.417Z"
   },
   {
    "duration": 7,
    "start_time": "2022-02-08T18:50:43.801Z"
   },
   {
    "duration": 16,
    "start_time": "2022-02-08T18:50:56.365Z"
   },
   {
    "duration": 269,
    "start_time": "2022-02-08T18:51:36.725Z"
   },
   {
    "duration": 14,
    "start_time": "2022-02-08T18:51:37.378Z"
   },
   {
    "duration": 885,
    "start_time": "2022-02-08T18:51:51.268Z"
   },
   {
    "duration": 17,
    "start_time": "2022-02-08T18:51:52.154Z"
   },
   {
    "duration": 10,
    "start_time": "2022-02-08T18:51:52.173Z"
   },
   {
    "duration": 5,
    "start_time": "2022-02-08T18:51:52.185Z"
   },
   {
    "duration": 2,
    "start_time": "2022-02-08T18:51:52.192Z"
   },
   {
    "duration": 9,
    "start_time": "2022-02-08T18:51:52.195Z"
   },
   {
    "duration": 11,
    "start_time": "2022-02-08T18:51:52.205Z"
   },
   {
    "duration": 8,
    "start_time": "2022-02-08T18:51:52.218Z"
   },
   {
    "duration": 47,
    "start_time": "2022-02-08T18:51:52.228Z"
   },
   {
    "duration": 3,
    "start_time": "2022-02-08T18:51:52.277Z"
   },
   {
    "duration": 5,
    "start_time": "2022-02-08T18:51:52.281Z"
   },
   {
    "duration": 18,
    "start_time": "2022-02-08T18:51:52.287Z"
   },
   {
    "duration": 13,
    "start_time": "2022-02-08T18:51:52.306Z"
   },
   {
    "duration": 8,
    "start_time": "2022-02-08T18:51:52.320Z"
   },
   {
    "duration": 44,
    "start_time": "2022-02-08T18:51:52.329Z"
   },
   {
    "duration": 12,
    "start_time": "2022-02-08T18:51:52.374Z"
   },
   {
    "duration": 6,
    "start_time": "2022-02-08T18:51:52.388Z"
   },
   {
    "duration": 6,
    "start_time": "2022-02-08T18:51:52.395Z"
   },
   {
    "duration": 14,
    "start_time": "2022-02-08T18:51:52.402Z"
   },
   {
    "duration": 12,
    "start_time": "2022-02-08T18:51:52.417Z"
   },
   {
    "duration": 114,
    "start_time": "2022-02-08T18:51:52.430Z"
   },
   {
    "duration": 26,
    "start_time": "2022-02-08T18:51:52.546Z"
   },
   {
    "duration": 12,
    "start_time": "2022-02-08T18:51:52.575Z"
   },
   {
    "duration": 4,
    "start_time": "2022-02-08T18:51:52.588Z"
   },
   {
    "duration": 14,
    "start_time": "2022-02-08T18:51:52.594Z"
   },
   {
    "duration": 5,
    "start_time": "2022-02-08T18:51:52.610Z"
   },
   {
    "duration": 19,
    "start_time": "2022-02-08T18:51:52.617Z"
   },
   {
    "duration": 42,
    "start_time": "2022-02-08T18:51:52.637Z"
   },
   {
    "duration": 5,
    "start_time": "2022-02-08T18:52:35.991Z"
   },
   {
    "duration": 10,
    "start_time": "2022-02-08T18:52:36.924Z"
   },
   {
    "duration": 765,
    "start_time": "2022-02-08T18:52:40.752Z"
   },
   {
    "duration": 17,
    "start_time": "2022-02-08T18:52:41.519Z"
   },
   {
    "duration": 12,
    "start_time": "2022-02-08T18:52:41.538Z"
   },
   {
    "duration": 6,
    "start_time": "2022-02-08T18:52:41.552Z"
   },
   {
    "duration": 2,
    "start_time": "2022-02-08T18:52:41.560Z"
   },
   {
    "duration": 14,
    "start_time": "2022-02-08T18:52:41.563Z"
   },
   {
    "duration": 10,
    "start_time": "2022-02-08T18:52:41.579Z"
   },
   {
    "duration": 7,
    "start_time": "2022-02-08T18:52:41.591Z"
   },
   {
    "duration": 14,
    "start_time": "2022-02-08T18:52:41.600Z"
   },
   {
    "duration": 2,
    "start_time": "2022-02-08T18:52:41.615Z"
   },
   {
    "duration": 11,
    "start_time": "2022-02-08T18:52:41.619Z"
   },
   {
    "duration": 20,
    "start_time": "2022-02-08T18:52:41.632Z"
   },
   {
    "duration": 15,
    "start_time": "2022-02-08T18:52:41.671Z"
   },
   {
    "duration": 7,
    "start_time": "2022-02-08T18:52:41.687Z"
   },
   {
    "duration": 18,
    "start_time": "2022-02-08T18:52:41.696Z"
   },
   {
    "duration": 11,
    "start_time": "2022-02-08T18:52:41.715Z"
   },
   {
    "duration": 7,
    "start_time": "2022-02-08T18:52:41.727Z"
   },
   {
    "duration": 7,
    "start_time": "2022-02-08T18:52:41.736Z"
   },
   {
    "duration": 10,
    "start_time": "2022-02-08T18:52:41.772Z"
   },
   {
    "duration": 9,
    "start_time": "2022-02-08T18:52:41.784Z"
   },
   {
    "duration": 109,
    "start_time": "2022-02-08T18:52:41.795Z"
   },
   {
    "duration": 11,
    "start_time": "2022-02-08T18:52:41.906Z"
   },
   {
    "duration": 11,
    "start_time": "2022-02-08T18:52:41.920Z"
   },
   {
    "duration": 5,
    "start_time": "2022-02-08T18:52:41.932Z"
   },
   {
    "duration": 38,
    "start_time": "2022-02-08T18:52:41.938Z"
   },
   {
    "duration": 3,
    "start_time": "2022-02-08T18:52:41.978Z"
   },
   {
    "duration": 3,
    "start_time": "2022-02-08T18:52:41.983Z"
   },
   {
    "duration": 26,
    "start_time": "2022-02-08T18:52:41.988Z"
   },
   {
    "duration": 368,
    "start_time": "2022-02-08T18:53:28.073Z"
   },
   {
    "duration": 4,
    "start_time": "2022-02-08T18:53:33.796Z"
   },
   {
    "duration": 3,
    "start_time": "2022-02-08T18:53:59.709Z"
   },
   {
    "duration": 10,
    "start_time": "2022-02-08T18:54:06.445Z"
   },
   {
    "duration": 4,
    "start_time": "2022-02-08T18:57:06.126Z"
   },
   {
    "duration": 8,
    "start_time": "2022-02-08T18:58:09.157Z"
   },
   {
    "duration": 10,
    "start_time": "2022-02-08T18:58:09.825Z"
   },
   {
    "duration": 5,
    "start_time": "2022-02-08T19:00:27.819Z"
   },
   {
    "duration": 6,
    "start_time": "2022-02-08T19:00:46.902Z"
   },
   {
    "duration": 15,
    "start_time": "2022-02-08T19:00:47.481Z"
   },
   {
    "duration": 149,
    "start_time": "2022-02-08T19:01:09.040Z"
   },
   {
    "duration": 820,
    "start_time": "2022-02-08T19:01:21.347Z"
   },
   {
    "duration": 24,
    "start_time": "2022-02-08T19:01:22.169Z"
   },
   {
    "duration": 26,
    "start_time": "2022-02-08T19:01:22.195Z"
   },
   {
    "duration": 8,
    "start_time": "2022-02-08T19:01:22.223Z"
   },
   {
    "duration": 9,
    "start_time": "2022-02-08T19:01:22.233Z"
   },
   {
    "duration": 19,
    "start_time": "2022-02-08T19:01:22.244Z"
   },
   {
    "duration": 11,
    "start_time": "2022-02-08T19:01:22.265Z"
   },
   {
    "duration": 7,
    "start_time": "2022-02-08T19:01:22.279Z"
   },
   {
    "duration": 15,
    "start_time": "2022-02-08T19:01:22.288Z"
   },
   {
    "duration": 2,
    "start_time": "2022-02-08T19:01:22.305Z"
   },
   {
    "duration": 7,
    "start_time": "2022-02-08T19:01:22.308Z"
   },
   {
    "duration": 19,
    "start_time": "2022-02-08T19:01:22.316Z"
   },
   {
    "duration": 43,
    "start_time": "2022-02-08T19:01:22.336Z"
   },
   {
    "duration": 8,
    "start_time": "2022-02-08T19:01:22.380Z"
   },
   {
    "duration": 18,
    "start_time": "2022-02-08T19:01:22.390Z"
   },
   {
    "duration": 11,
    "start_time": "2022-02-08T19:01:22.410Z"
   },
   {
    "duration": 6,
    "start_time": "2022-02-08T19:01:22.423Z"
   },
   {
    "duration": 6,
    "start_time": "2022-02-08T19:01:22.431Z"
   },
   {
    "duration": 38,
    "start_time": "2022-02-08T19:01:22.439Z"
   },
   {
    "duration": 14,
    "start_time": "2022-02-08T19:01:22.479Z"
   },
   {
    "duration": 179,
    "start_time": "2022-02-08T19:01:22.495Z"
   },
   {
    "duration": 16,
    "start_time": "2022-02-08T19:01:22.676Z"
   },
   {
    "duration": 12,
    "start_time": "2022-02-08T19:01:22.696Z"
   },
   {
    "duration": 4,
    "start_time": "2022-02-08T19:01:22.710Z"
   },
   {
    "duration": 15,
    "start_time": "2022-02-08T19:01:22.715Z"
   },
   {
    "duration": 3,
    "start_time": "2022-02-08T19:01:22.731Z"
   },
   {
    "duration": 44,
    "start_time": "2022-02-08T19:01:22.736Z"
   },
   {
    "duration": 31,
    "start_time": "2022-02-08T19:01:22.782Z"
   },
   {
    "duration": 10,
    "start_time": "2022-02-08T19:01:34.750Z"
   },
   {
    "duration": 751,
    "start_time": "2022-02-08T19:01:44.539Z"
   },
   {
    "duration": 16,
    "start_time": "2022-02-08T19:01:45.292Z"
   },
   {
    "duration": 9,
    "start_time": "2022-02-08T19:01:45.309Z"
   },
   {
    "duration": 6,
    "start_time": "2022-02-08T19:01:45.320Z"
   },
   {
    "duration": 3,
    "start_time": "2022-02-08T19:01:45.327Z"
   },
   {
    "duration": 9,
    "start_time": "2022-02-08T19:01:45.331Z"
   },
   {
    "duration": 38,
    "start_time": "2022-02-08T19:01:45.342Z"
   },
   {
    "duration": 7,
    "start_time": "2022-02-08T19:01:45.381Z"
   },
   {
    "duration": 13,
    "start_time": "2022-02-08T19:01:45.391Z"
   },
   {
    "duration": 2,
    "start_time": "2022-02-08T19:01:45.406Z"
   },
   {
    "duration": 8,
    "start_time": "2022-02-08T19:01:45.409Z"
   },
   {
    "duration": 18,
    "start_time": "2022-02-08T19:01:45.419Z"
   },
   {
    "duration": 34,
    "start_time": "2022-02-08T19:01:45.439Z"
   },
   {
    "duration": 8,
    "start_time": "2022-02-08T19:01:45.474Z"
   },
   {
    "duration": 19,
    "start_time": "2022-02-08T19:01:45.483Z"
   },
   {
    "duration": 12,
    "start_time": "2022-02-08T19:01:45.503Z"
   },
   {
    "duration": 6,
    "start_time": "2022-02-08T19:01:45.516Z"
   },
   {
    "duration": 8,
    "start_time": "2022-02-08T19:01:45.523Z"
   },
   {
    "duration": 13,
    "start_time": "2022-02-08T19:01:45.533Z"
   },
   {
    "duration": 32,
    "start_time": "2022-02-08T19:01:45.548Z"
   },
   {
    "duration": 109,
    "start_time": "2022-02-08T19:01:45.582Z"
   },
   {
    "duration": 13,
    "start_time": "2022-02-08T19:01:45.692Z"
   },
   {
    "duration": 13,
    "start_time": "2022-02-08T19:01:45.706Z"
   },
   {
    "duration": 4,
    "start_time": "2022-02-08T19:01:45.721Z"
   },
   {
    "duration": 10,
    "start_time": "2022-02-08T19:01:45.727Z"
   },
   {
    "duration": 3,
    "start_time": "2022-02-08T19:01:45.738Z"
   },
   {
    "duration": 3,
    "start_time": "2022-02-08T19:01:45.773Z"
   },
   {
    "duration": 24,
    "start_time": "2022-02-08T19:01:45.777Z"
   },
   {
    "duration": 3,
    "start_time": "2022-02-08T19:10:41.100Z"
   },
   {
    "duration": 7,
    "start_time": "2022-02-08T19:11:58.639Z"
   },
   {
    "duration": 11,
    "start_time": "2022-02-08T19:12:00.120Z"
   },
   {
    "duration": 3,
    "start_time": "2022-02-08T19:17:22.345Z"
   },
   {
    "duration": 3,
    "start_time": "2022-02-08T19:17:23.388Z"
   },
   {
    "duration": 27,
    "start_time": "2022-02-08T19:17:24.147Z"
   },
   {
    "duration": 9,
    "start_time": "2022-02-08T19:25:01.365Z"
   },
   {
    "duration": 10,
    "start_time": "2022-02-08T19:25:05.515Z"
   },
   {
    "duration": 5,
    "start_time": "2022-02-08T19:29:41.719Z"
   },
   {
    "duration": 10,
    "start_time": "2022-02-08T19:29:42.658Z"
   },
   {
    "duration": 945,
    "start_time": "2022-02-08T19:29:51.140Z"
   },
   {
    "duration": 18,
    "start_time": "2022-02-08T19:29:52.087Z"
   },
   {
    "duration": 11,
    "start_time": "2022-02-08T19:29:52.107Z"
   },
   {
    "duration": 7,
    "start_time": "2022-02-08T19:29:52.120Z"
   },
   {
    "duration": 3,
    "start_time": "2022-02-08T19:29:52.129Z"
   },
   {
    "duration": 40,
    "start_time": "2022-02-08T19:29:52.134Z"
   },
   {
    "duration": 12,
    "start_time": "2022-02-08T19:29:52.175Z"
   },
   {
    "duration": 8,
    "start_time": "2022-02-08T19:29:52.190Z"
   },
   {
    "duration": 20,
    "start_time": "2022-02-08T19:29:52.200Z"
   },
   {
    "duration": 2,
    "start_time": "2022-02-08T19:29:52.221Z"
   },
   {
    "duration": 12,
    "start_time": "2022-02-08T19:29:52.225Z"
   },
   {
    "duration": 16,
    "start_time": "2022-02-08T19:29:52.238Z"
   },
   {
    "duration": 28,
    "start_time": "2022-02-08T19:29:52.255Z"
   },
   {
    "duration": 7,
    "start_time": "2022-02-08T19:29:52.284Z"
   },
   {
    "duration": 19,
    "start_time": "2022-02-08T19:29:52.293Z"
   },
   {
    "duration": 13,
    "start_time": "2022-02-08T19:29:52.314Z"
   },
   {
    "duration": 7,
    "start_time": "2022-02-08T19:29:52.329Z"
   },
   {
    "duration": 37,
    "start_time": "2022-02-08T19:29:52.338Z"
   },
   {
    "duration": 10,
    "start_time": "2022-02-08T19:29:52.377Z"
   },
   {
    "duration": 12,
    "start_time": "2022-02-08T19:29:52.388Z"
   },
   {
    "duration": 120,
    "start_time": "2022-02-08T19:29:52.401Z"
   },
   {
    "duration": 12,
    "start_time": "2022-02-08T19:29:52.523Z"
   },
   {
    "duration": 26,
    "start_time": "2022-02-08T19:29:52.537Z"
   },
   {
    "duration": 9,
    "start_time": "2022-02-08T19:29:52.565Z"
   },
   {
    "duration": 17,
    "start_time": "2022-02-08T19:29:52.576Z"
   },
   {
    "duration": 24,
    "start_time": "2022-02-08T19:29:52.595Z"
   },
   {
    "duration": 11,
    "start_time": "2022-02-08T19:29:52.621Z"
   },
   {
    "duration": 15,
    "start_time": "2022-02-08T19:29:52.634Z"
   },
   {
    "duration": 21,
    "start_time": "2022-02-08T19:29:52.651Z"
   },
   {
    "duration": 30,
    "start_time": "2022-02-08T19:29:52.674Z"
   },
   {
    "duration": 14,
    "start_time": "2022-02-08T19:29:52.706Z"
   },
   {
    "duration": 38,
    "start_time": "2022-02-08T19:29:52.721Z"
   },
   {
    "duration": 332,
    "start_time": "2022-02-08T19:39:40.950Z"
   },
   {
    "duration": 420,
    "start_time": "2022-02-08T19:39:51.083Z"
   },
   {
    "duration": 773,
    "start_time": "2022-02-08T19:40:33.437Z"
   },
   {
    "duration": 17,
    "start_time": "2022-02-08T19:40:41.832Z"
   },
   {
    "duration": 13,
    "start_time": "2022-02-08T19:40:54.492Z"
   },
   {
    "duration": 18,
    "start_time": "2022-02-08T19:41:30.179Z"
   },
   {
    "duration": 23,
    "start_time": "2022-02-08T19:41:30.714Z"
   },
   {
    "duration": 13,
    "start_time": "2022-02-08T19:42:24.400Z"
   },
   {
    "duration": 8,
    "start_time": "2022-02-08T19:42:25.858Z"
   },
   {
    "duration": 13,
    "start_time": "2022-02-08T19:42:44.946Z"
   },
   {
    "duration": 8,
    "start_time": "2022-02-08T19:42:46.155Z"
   },
   {
    "duration": 12,
    "start_time": "2022-02-08T19:42:51.784Z"
   },
   {
    "duration": 8,
    "start_time": "2022-02-08T19:42:52.453Z"
   },
   {
    "duration": 472,
    "start_time": "2022-02-08T19:43:48.889Z"
   },
   {
    "duration": 660,
    "start_time": "2022-02-08T19:48:00.971Z"
   },
   {
    "duration": 4,
    "start_time": "2022-02-08T19:48:10.290Z"
   },
   {
    "duration": 573,
    "start_time": "2022-02-08T19:50:17.252Z"
   },
   {
    "duration": 162,
    "start_time": "2022-02-08T19:50:40.831Z"
   },
   {
    "duration": 152,
    "start_time": "2022-02-08T19:51:26.461Z"
   },
   {
    "duration": 272,
    "start_time": "2022-02-08T19:52:16.785Z"
   },
   {
    "duration": 257,
    "start_time": "2022-02-08T19:52:39.056Z"
   },
   {
    "duration": 257,
    "start_time": "2022-02-08T19:52:43.446Z"
   },
   {
    "duration": 156,
    "start_time": "2022-02-08T19:53:46.782Z"
   },
   {
    "duration": 2,
    "start_time": "2022-02-08T19:55:41.282Z"
   },
   {
    "duration": 4,
    "start_time": "2022-02-08T19:55:45.283Z"
   },
   {
    "duration": 153,
    "start_time": "2022-02-08T19:55:45.831Z"
   },
   {
    "duration": 815,
    "start_time": "2022-02-08T19:56:58.465Z"
   },
   {
    "duration": 15,
    "start_time": "2022-02-08T19:56:59.282Z"
   },
   {
    "duration": 10,
    "start_time": "2022-02-08T19:56:59.299Z"
   },
   {
    "duration": 6,
    "start_time": "2022-02-08T19:56:59.310Z"
   },
   {
    "duration": 2,
    "start_time": "2022-02-08T19:56:59.317Z"
   },
   {
    "duration": 8,
    "start_time": "2022-02-08T19:56:59.321Z"
   },
   {
    "duration": 9,
    "start_time": "2022-02-08T19:56:59.330Z"
   },
   {
    "duration": 35,
    "start_time": "2022-02-08T19:56:59.341Z"
   },
   {
    "duration": 13,
    "start_time": "2022-02-08T19:56:59.377Z"
   },
   {
    "duration": 4,
    "start_time": "2022-02-08T19:56:59.391Z"
   },
   {
    "duration": 14,
    "start_time": "2022-02-08T19:56:59.396Z"
   },
   {
    "duration": 23,
    "start_time": "2022-02-08T19:56:59.411Z"
   },
   {
    "duration": 14,
    "start_time": "2022-02-08T19:56:59.435Z"
   },
   {
    "duration": 7,
    "start_time": "2022-02-08T19:56:59.450Z"
   },
   {
    "duration": 26,
    "start_time": "2022-02-08T19:56:59.458Z"
   },
   {
    "duration": 11,
    "start_time": "2022-02-08T19:56:59.485Z"
   },
   {
    "duration": 6,
    "start_time": "2022-02-08T19:56:59.497Z"
   },
   {
    "duration": 8,
    "start_time": "2022-02-08T19:56:59.504Z"
   },
   {
    "duration": 18,
    "start_time": "2022-02-08T19:56:59.514Z"
   },
   {
    "duration": 12,
    "start_time": "2022-02-08T19:56:59.533Z"
   },
   {
    "duration": 115,
    "start_time": "2022-02-08T19:56:59.547Z"
   },
   {
    "duration": 14,
    "start_time": "2022-02-08T19:56:59.671Z"
   },
   {
    "duration": 17,
    "start_time": "2022-02-08T19:56:59.688Z"
   },
   {
    "duration": 7,
    "start_time": "2022-02-08T19:56:59.707Z"
   },
   {
    "duration": 18,
    "start_time": "2022-02-08T19:56:59.716Z"
   },
   {
    "duration": 20,
    "start_time": "2022-02-08T19:56:59.736Z"
   },
   {
    "duration": 15,
    "start_time": "2022-02-08T19:56:59.758Z"
   },
   {
    "duration": 10,
    "start_time": "2022-02-08T19:56:59.775Z"
   },
   {
    "duration": 12,
    "start_time": "2022-02-08T19:56:59.787Z"
   },
   {
    "duration": 34,
    "start_time": "2022-02-08T19:56:59.800Z"
   },
   {
    "duration": 8,
    "start_time": "2022-02-08T19:56:59.836Z"
   },
   {
    "duration": 18,
    "start_time": "2022-02-08T19:56:59.845Z"
   },
   {
    "duration": 21,
    "start_time": "2022-02-08T19:56:59.864Z"
   },
   {
    "duration": 9,
    "start_time": "2022-02-08T19:56:59.886Z"
   },
   {
    "duration": 580,
    "start_time": "2022-02-08T19:56:59.896Z"
   },
   {
    "duration": 4,
    "start_time": "2022-02-08T19:57:00.478Z"
   },
   {
    "duration": 169,
    "start_time": "2022-02-08T19:57:00.484Z"
   },
   {
    "duration": 776,
    "start_time": "2022-02-08T19:57:30.949Z"
   },
   {
    "duration": 15,
    "start_time": "2022-02-08T19:57:31.727Z"
   },
   {
    "duration": 11,
    "start_time": "2022-02-08T19:57:31.744Z"
   },
   {
    "duration": 6,
    "start_time": "2022-02-08T19:57:31.757Z"
   },
   {
    "duration": 2,
    "start_time": "2022-02-08T19:57:31.764Z"
   },
   {
    "duration": 10,
    "start_time": "2022-02-08T19:57:31.768Z"
   },
   {
    "duration": 10,
    "start_time": "2022-02-08T19:57:31.779Z"
   },
   {
    "duration": 7,
    "start_time": "2022-02-08T19:57:31.791Z"
   },
   {
    "duration": 20,
    "start_time": "2022-02-08T19:57:31.799Z"
   },
   {
    "duration": 2,
    "start_time": "2022-02-08T19:57:31.821Z"
   },
   {
    "duration": 13,
    "start_time": "2022-02-08T19:57:31.825Z"
   },
   {
    "duration": 19,
    "start_time": "2022-02-08T19:57:31.839Z"
   },
   {
    "duration": 23,
    "start_time": "2022-02-08T19:57:31.859Z"
   },
   {
    "duration": 7,
    "start_time": "2022-02-08T19:57:31.884Z"
   },
   {
    "duration": 18,
    "start_time": "2022-02-08T19:57:31.892Z"
   },
   {
    "duration": 12,
    "start_time": "2022-02-08T19:57:31.911Z"
   },
   {
    "duration": 6,
    "start_time": "2022-02-08T19:57:31.924Z"
   },
   {
    "duration": 7,
    "start_time": "2022-02-08T19:57:31.932Z"
   },
   {
    "duration": 38,
    "start_time": "2022-02-08T19:57:31.940Z"
   },
   {
    "duration": 10,
    "start_time": "2022-02-08T19:57:31.979Z"
   },
   {
    "duration": 109,
    "start_time": "2022-02-08T19:57:31.991Z"
   },
   {
    "duration": 12,
    "start_time": "2022-02-08T19:57:32.102Z"
   },
   {
    "duration": 12,
    "start_time": "2022-02-08T19:57:32.117Z"
   },
   {
    "duration": 4,
    "start_time": "2022-02-08T19:57:32.130Z"
   },
   {
    "duration": 4,
    "start_time": "2022-02-08T19:57:32.136Z"
   },
   {
    "duration": 31,
    "start_time": "2022-02-08T19:57:32.141Z"
   },
   {
    "duration": 9,
    "start_time": "2022-02-08T19:57:32.174Z"
   },
   {
    "duration": 3,
    "start_time": "2022-02-08T19:57:32.185Z"
   },
   {
    "duration": 4,
    "start_time": "2022-02-08T19:57:32.190Z"
   },
   {
    "duration": 28,
    "start_time": "2022-02-08T19:57:32.196Z"
   },
   {
    "duration": 8,
    "start_time": "2022-02-08T19:57:32.226Z"
   },
   {
    "duration": 36,
    "start_time": "2022-02-08T19:57:32.236Z"
   },
   {
    "duration": 13,
    "start_time": "2022-02-08T19:57:32.274Z"
   },
   {
    "duration": 7,
    "start_time": "2022-02-08T19:57:32.288Z"
   },
   {
    "duration": 470,
    "start_time": "2022-02-08T19:57:32.296Z"
   },
   {
    "duration": 4,
    "start_time": "2022-02-08T19:57:32.767Z"
   },
   {
    "duration": 161,
    "start_time": "2022-02-08T19:57:32.773Z"
   },
   {
    "duration": 560,
    "start_time": "2022-02-08T20:02:26.638Z"
   },
   {
    "duration": 434,
    "start_time": "2022-02-08T20:03:01.483Z"
   },
   {
    "duration": 573,
    "start_time": "2022-02-08T20:03:07.562Z"
   },
   {
    "duration": 293,
    "start_time": "2022-02-08T20:05:12.613Z"
   },
   {
    "duration": 171,
    "start_time": "2022-02-08T20:06:24.296Z"
   },
   {
    "duration": 239,
    "start_time": "2022-02-08T20:08:46.423Z"
   },
   {
    "duration": 4,
    "start_time": "2022-02-08T20:13:38.143Z"
   },
   {
    "duration": 6,
    "start_time": "2022-02-08T20:13:53.999Z"
   },
   {
    "duration": 6,
    "start_time": "2022-02-08T20:15:11.013Z"
   },
   {
    "duration": 7,
    "start_time": "2022-02-08T20:15:11.459Z"
   },
   {
    "duration": 143,
    "start_time": "2022-02-08T20:19:52.122Z"
   },
   {
    "duration": 414,
    "start_time": "2022-02-08T20:19:59.785Z"
   },
   {
    "duration": 972,
    "start_time": "2022-02-08T20:20:55.867Z"
   },
   {
    "duration": 16,
    "start_time": "2022-02-08T20:20:56.840Z"
   },
   {
    "duration": 29,
    "start_time": "2022-02-08T20:20:56.857Z"
   },
   {
    "duration": 16,
    "start_time": "2022-02-08T20:20:56.888Z"
   },
   {
    "duration": 18,
    "start_time": "2022-02-08T20:20:56.906Z"
   },
   {
    "duration": 19,
    "start_time": "2022-02-08T20:20:56.925Z"
   },
   {
    "duration": 17,
    "start_time": "2022-02-08T20:20:56.945Z"
   },
   {
    "duration": 10,
    "start_time": "2022-02-08T20:20:56.964Z"
   },
   {
    "duration": 22,
    "start_time": "2022-02-08T20:20:56.975Z"
   },
   {
    "duration": 10,
    "start_time": "2022-02-08T20:20:56.999Z"
   },
   {
    "duration": 9,
    "start_time": "2022-02-08T20:20:57.010Z"
   },
   {
    "duration": 32,
    "start_time": "2022-02-08T20:20:57.020Z"
   },
   {
    "duration": 13,
    "start_time": "2022-02-08T20:20:57.054Z"
   },
   {
    "duration": 9,
    "start_time": "2022-02-08T20:20:57.069Z"
   },
   {
    "duration": 34,
    "start_time": "2022-02-08T20:20:57.079Z"
   },
   {
    "duration": 18,
    "start_time": "2022-02-08T20:20:57.115Z"
   },
   {
    "duration": 10,
    "start_time": "2022-02-08T20:20:57.135Z"
   },
   {
    "duration": 8,
    "start_time": "2022-02-08T20:20:57.146Z"
   },
   {
    "duration": 18,
    "start_time": "2022-02-08T20:20:57.156Z"
   },
   {
    "duration": 12,
    "start_time": "2022-02-08T20:20:57.175Z"
   },
   {
    "duration": 103,
    "start_time": "2022-02-08T20:20:57.188Z"
   },
   {
    "duration": 12,
    "start_time": "2022-02-08T20:20:57.292Z"
   },
   {
    "duration": 11,
    "start_time": "2022-02-08T20:20:57.307Z"
   },
   {
    "duration": 5,
    "start_time": "2022-02-08T20:20:57.319Z"
   },
   {
    "duration": 4,
    "start_time": "2022-02-08T20:20:57.325Z"
   },
   {
    "duration": 9,
    "start_time": "2022-02-08T20:20:57.331Z"
   },
   {
    "duration": 35,
    "start_time": "2022-02-08T20:20:57.341Z"
   },
   {
    "duration": 3,
    "start_time": "2022-02-08T20:20:57.377Z"
   },
   {
    "duration": 7,
    "start_time": "2022-02-08T20:20:57.381Z"
   },
   {
    "duration": 41,
    "start_time": "2022-02-08T20:20:57.389Z"
   },
   {
    "duration": 8,
    "start_time": "2022-02-08T20:20:57.431Z"
   },
   {
    "duration": 24,
    "start_time": "2022-02-08T20:20:57.440Z"
   },
   {
    "duration": 356,
    "start_time": "2022-02-08T20:20:57.466Z"
   },
   {
    "duration": -28,
    "start_time": "2022-02-08T20:20:57.851Z"
   },
   {
    "duration": -33,
    "start_time": "2022-02-08T20:20:57.857Z"
   },
   {
    "duration": -34,
    "start_time": "2022-02-08T20:20:57.859Z"
   },
   {
    "duration": 14,
    "start_time": "2022-02-08T20:21:17.325Z"
   },
   {
    "duration": 690,
    "start_time": "2022-02-08T20:21:18.215Z"
   },
   {
    "duration": 949,
    "start_time": "2022-02-08T20:22:04.530Z"
   },
   {
    "duration": 17,
    "start_time": "2022-02-08T20:22:05.481Z"
   },
   {
    "duration": 10,
    "start_time": "2022-02-08T20:22:05.500Z"
   },
   {
    "duration": 5,
    "start_time": "2022-02-08T20:22:05.512Z"
   },
   {
    "duration": 3,
    "start_time": "2022-02-08T20:22:05.519Z"
   },
   {
    "duration": 10,
    "start_time": "2022-02-08T20:22:05.524Z"
   },
   {
    "duration": 9,
    "start_time": "2022-02-08T20:22:05.535Z"
   },
   {
    "duration": 28,
    "start_time": "2022-02-08T20:22:05.546Z"
   },
   {
    "duration": 13,
    "start_time": "2022-02-08T20:22:05.576Z"
   },
   {
    "duration": 2,
    "start_time": "2022-02-08T20:22:05.591Z"
   },
   {
    "duration": 6,
    "start_time": "2022-02-08T20:22:05.594Z"
   },
   {
    "duration": 18,
    "start_time": "2022-02-08T20:22:05.602Z"
   },
   {
    "duration": 13,
    "start_time": "2022-02-08T20:22:05.622Z"
   },
   {
    "duration": 7,
    "start_time": "2022-02-08T20:22:05.637Z"
   },
   {
    "duration": 43,
    "start_time": "2022-02-08T20:22:05.646Z"
   },
   {
    "duration": 13,
    "start_time": "2022-02-08T20:22:05.691Z"
   },
   {
    "duration": 9,
    "start_time": "2022-02-08T20:22:05.705Z"
   },
   {
    "duration": 7,
    "start_time": "2022-02-08T20:22:05.716Z"
   },
   {
    "duration": 16,
    "start_time": "2022-02-08T20:22:05.725Z"
   },
   {
    "duration": 31,
    "start_time": "2022-02-08T20:22:05.742Z"
   },
   {
    "duration": 115,
    "start_time": "2022-02-08T20:22:05.775Z"
   },
   {
    "duration": 13,
    "start_time": "2022-02-08T20:22:05.892Z"
   },
   {
    "duration": 13,
    "start_time": "2022-02-08T20:22:05.909Z"
   },
   {
    "duration": 5,
    "start_time": "2022-02-08T20:22:05.923Z"
   },
   {
    "duration": 3,
    "start_time": "2022-02-08T20:22:05.930Z"
   },
   {
    "duration": 40,
    "start_time": "2022-02-08T20:22:05.935Z"
   },
   {
    "duration": 9,
    "start_time": "2022-02-08T20:22:05.977Z"
   },
   {
    "duration": 3,
    "start_time": "2022-02-08T20:22:05.988Z"
   },
   {
    "duration": 4,
    "start_time": "2022-02-08T20:22:05.993Z"
   },
   {
    "duration": 28,
    "start_time": "2022-02-08T20:22:05.998Z"
   },
   {
    "duration": 7,
    "start_time": "2022-02-08T20:22:06.028Z"
   },
   {
    "duration": 40,
    "start_time": "2022-02-08T20:22:06.036Z"
   },
   {
    "duration": 21,
    "start_time": "2022-02-08T20:22:06.077Z"
   },
   {
    "duration": 699,
    "start_time": "2022-02-08T20:22:06.099Z"
   },
   {
    "duration": 15,
    "start_time": "2022-02-08T20:23:46.880Z"
   },
   {
    "duration": 158,
    "start_time": "2022-02-08T20:23:47.842Z"
   },
   {
    "duration": 16,
    "start_time": "2022-02-08T20:31:19.592Z"
   },
   {
    "duration": 381,
    "start_time": "2022-02-08T20:31:21.376Z"
   },
   {
    "duration": 2188,
    "start_time": "2022-02-08T20:31:31.619Z"
   },
   {
    "duration": -91,
    "start_time": "2022-02-08T20:31:33.900Z"
   },
   {
    "duration": 294,
    "start_time": "2022-02-08T20:31:52.508Z"
   },
   {
    "duration": 14,
    "start_time": "2022-02-08T20:32:03.848Z"
   },
   {
    "duration": 288,
    "start_time": "2022-02-08T20:32:05.038Z"
   },
   {
    "duration": 87,
    "start_time": "2022-02-08T20:34:28.969Z"
   },
   {
    "duration": 931,
    "start_time": "2022-02-08T20:35:17.552Z"
   },
   {
    "duration": 3371,
    "start_time": "2022-02-08T20:35:18.736Z"
   },
   {
    "duration": 1163,
    "start_time": "2022-02-08T20:35:44.961Z"
   },
   {
    "duration": 827,
    "start_time": "2022-02-08T20:35:46.572Z"
   },
   {
    "duration": 9763,
    "start_time": "2022-02-08T20:35:59.778Z"
   },
   {
    "duration": 12,
    "start_time": "2022-02-08T20:37:55.545Z"
   },
   {
    "duration": 275,
    "start_time": "2022-02-08T20:37:57.380Z"
   },
   {
    "duration": 161,
    "start_time": "2022-02-08T20:38:12.446Z"
   },
   {
    "duration": 17,
    "start_time": "2022-02-08T20:38:59.623Z"
   },
   {
    "duration": 194,
    "start_time": "2022-02-08T20:39:00.873Z"
   },
   {
    "duration": 12,
    "start_time": "2022-02-08T20:39:24.588Z"
   },
   {
    "duration": 163,
    "start_time": "2022-02-08T20:39:26.423Z"
   },
   {
    "duration": 13,
    "start_time": "2022-02-08T20:42:47.858Z"
   },
   {
    "duration": 156,
    "start_time": "2022-02-08T20:42:48.630Z"
   },
   {
    "duration": 14,
    "start_time": "2022-02-08T20:43:10.378Z"
   },
   {
    "duration": 163,
    "start_time": "2022-02-08T20:43:10.756Z"
   },
   {
    "duration": 7085,
    "start_time": "2022-02-08T20:45:10.428Z"
   },
   {
    "duration": -71,
    "start_time": "2022-02-08T20:45:17.587Z"
   },
   {
    "duration": 15,
    "start_time": "2022-02-08T20:46:32.474Z"
   },
   {
    "duration": 247,
    "start_time": "2022-02-08T20:46:33.752Z"
   },
   {
    "duration": 21,
    "start_time": "2022-02-08T20:48:46.986Z"
   },
   {
    "duration": 17,
    "start_time": "2022-02-08T20:49:39.241Z"
   },
   {
    "duration": 712,
    "start_time": "2022-02-08T20:53:29.978Z"
   },
   {
    "duration": 290,
    "start_time": "2022-02-08T20:54:12.730Z"
   },
   {
    "duration": 274,
    "start_time": "2022-02-08T20:54:28.052Z"
   },
   {
    "duration": 280,
    "start_time": "2022-02-08T20:54:36.673Z"
   },
   {
    "duration": 16,
    "start_time": "2022-02-08T20:54:50.475Z"
   },
   {
    "duration": 14,
    "start_time": "2022-02-08T20:55:03.984Z"
   },
   {
    "duration": 266,
    "start_time": "2022-02-08T20:55:27.309Z"
   },
   {
    "duration": 17,
    "start_time": "2022-02-08T20:56:01.949Z"
   },
   {
    "duration": 18,
    "start_time": "2022-02-08T20:56:14.875Z"
   },
   {
    "duration": 14,
    "start_time": "2022-02-08T20:58:56.138Z"
   },
   {
    "duration": 5091,
    "start_time": "2022-02-08T20:59:55.241Z"
   },
   {
    "duration": 14,
    "start_time": "2022-02-08T21:00:08.063Z"
   },
   {
    "duration": 16,
    "start_time": "2022-02-08T21:00:39.706Z"
   },
   {
    "duration": 14,
    "start_time": "2022-02-08T21:01:01.740Z"
   },
   {
    "duration": 15,
    "start_time": "2022-02-08T21:02:37.470Z"
   },
   {
    "duration": 297,
    "start_time": "2022-02-08T21:04:26.929Z"
   },
   {
    "duration": 298,
    "start_time": "2022-02-08T21:04:38.541Z"
   },
   {
    "duration": 290,
    "start_time": "2022-02-08T21:05:20.621Z"
   },
   {
    "duration": 14,
    "start_time": "2022-02-08T21:05:43.219Z"
   },
   {
    "duration": 15,
    "start_time": "2022-02-08T21:07:17.146Z"
   },
   {
    "duration": 17,
    "start_time": "2022-02-08T21:07:56.781Z"
   },
   {
    "duration": 16,
    "start_time": "2022-02-08T21:08:07.540Z"
   },
   {
    "duration": 17,
    "start_time": "2022-02-08T21:08:18.391Z"
   },
   {
    "duration": 300,
    "start_time": "2022-02-08T21:09:23.963Z"
   },
   {
    "duration": 305,
    "start_time": "2022-02-08T21:09:29.184Z"
   },
   {
    "duration": 335,
    "start_time": "2022-02-08T21:10:32.867Z"
   },
   {
    "duration": 14,
    "start_time": "2022-02-08T21:10:57.440Z"
   },
   {
    "duration": 16,
    "start_time": "2022-02-08T21:11:15.639Z"
   },
   {
    "duration": 15,
    "start_time": "2022-02-08T21:11:32.793Z"
   },
   {
    "duration": 17,
    "start_time": "2022-02-08T21:11:56.108Z"
   },
   {
    "duration": 279,
    "start_time": "2022-02-08T21:12:38.996Z"
   },
   {
    "duration": 16,
    "start_time": "2022-02-08T21:12:43.559Z"
   },
   {
    "duration": 310,
    "start_time": "2022-02-08T21:13:13.701Z"
   },
   {
    "duration": 16,
    "start_time": "2022-02-08T21:13:25.652Z"
   },
   {
    "duration": 16,
    "start_time": "2022-02-08T21:16:22.256Z"
   },
   {
    "duration": 15,
    "start_time": "2022-02-08T21:16:27.581Z"
   },
   {
    "duration": 17,
    "start_time": "2022-02-08T21:16:43.395Z"
   },
   {
    "duration": 289,
    "start_time": "2022-02-08T21:17:46.479Z"
   },
   {
    "duration": 292,
    "start_time": "2022-02-08T21:17:58.786Z"
   },
   {
    "duration": 19,
    "start_time": "2022-02-08T21:18:07.725Z"
   },
   {
    "duration": 362,
    "start_time": "2022-02-09T16:58:40.541Z"
   },
   {
    "duration": 1216,
    "start_time": "2022-02-09T16:58:46.984Z"
   },
   {
    "duration": 27,
    "start_time": "2022-02-09T16:58:48.203Z"
   },
   {
    "duration": 41,
    "start_time": "2022-02-09T16:58:48.234Z"
   },
   {
    "duration": 13,
    "start_time": "2022-02-09T16:58:48.278Z"
   },
   {
    "duration": 4,
    "start_time": "2022-02-09T16:58:48.294Z"
   },
   {
    "duration": 19,
    "start_time": "2022-02-09T16:58:48.301Z"
   },
   {
    "duration": 52,
    "start_time": "2022-02-09T16:58:48.323Z"
   },
   {
    "duration": 14,
    "start_time": "2022-02-09T16:58:48.381Z"
   },
   {
    "duration": 33,
    "start_time": "2022-02-09T16:58:48.399Z"
   },
   {
    "duration": 5,
    "start_time": "2022-02-09T16:58:48.435Z"
   },
   {
    "duration": 3,
    "start_time": "2022-02-09T16:58:48.470Z"
   },
   {
    "duration": 28,
    "start_time": "2022-02-09T16:58:48.476Z"
   },
   {
    "duration": 26,
    "start_time": "2022-02-09T16:58:48.506Z"
   },
   {
    "duration": 46,
    "start_time": "2022-02-09T16:58:48.535Z"
   },
   {
    "duration": 35,
    "start_time": "2022-02-09T16:58:48.584Z"
   },
   {
    "duration": 52,
    "start_time": "2022-02-09T16:58:48.621Z"
   },
   {
    "duration": 11,
    "start_time": "2022-02-09T16:58:48.675Z"
   },
   {
    "duration": 12,
    "start_time": "2022-02-09T16:58:48.689Z"
   },
   {
    "duration": 31,
    "start_time": "2022-02-09T16:58:48.704Z"
   },
   {
    "duration": 46,
    "start_time": "2022-02-09T16:58:48.738Z"
   },
   {
    "duration": 271,
    "start_time": "2022-02-09T16:58:48.787Z"
   },
   {
    "duration": 27,
    "start_time": "2022-02-09T16:58:49.071Z"
   },
   {
    "duration": 28,
    "start_time": "2022-02-09T16:58:49.104Z"
   },
   {
    "duration": 38,
    "start_time": "2022-02-09T16:58:49.136Z"
   },
   {
    "duration": 11,
    "start_time": "2022-02-09T16:58:49.177Z"
   },
   {
    "duration": 25,
    "start_time": "2022-02-09T16:58:49.190Z"
   },
   {
    "duration": 28,
    "start_time": "2022-02-09T16:58:49.218Z"
   },
   {
    "duration": 29,
    "start_time": "2022-02-09T16:58:49.250Z"
   },
   {
    "duration": 24,
    "start_time": "2022-02-09T16:58:49.282Z"
   },
   {
    "duration": 55,
    "start_time": "2022-02-09T16:58:49.309Z"
   },
   {
    "duration": 14,
    "start_time": "2022-02-09T16:58:49.367Z"
   },
   {
    "duration": 21,
    "start_time": "2022-02-09T16:58:49.384Z"
   },
   {
    "duration": 36,
    "start_time": "2022-02-09T16:58:49.407Z"
   },
   {
    "duration": 1133,
    "start_time": "2022-02-09T16:58:49.446Z"
   },
   {
    "duration": 25,
    "start_time": "2022-02-09T16:59:02.822Z"
   },
   {
    "duration": 632,
    "start_time": "2022-02-09T17:01:21.212Z"
   },
   {
    "duration": 520,
    "start_time": "2022-02-09T17:02:01.076Z"
   },
   {
    "duration": 24,
    "start_time": "2022-02-09T17:02:58.330Z"
   },
   {
    "duration": 26,
    "start_time": "2022-02-09T17:03:20.467Z"
   },
   {
    "duration": 28,
    "start_time": "2022-02-09T17:03:37.077Z"
   },
   {
    "duration": 25,
    "start_time": "2022-02-09T17:04:24.323Z"
   },
   {
    "duration": 24,
    "start_time": "2022-02-09T17:04:34.399Z"
   },
   {
    "duration": 31,
    "start_time": "2022-02-09T17:04:45.586Z"
   },
   {
    "duration": 353,
    "start_time": "2022-02-09T17:04:47.599Z"
   },
   {
    "duration": 22,
    "start_time": "2022-02-09T17:05:54.618Z"
   },
   {
    "duration": 94,
    "start_time": "2022-02-09T17:07:22.497Z"
   },
   {
    "duration": 97,
    "start_time": "2022-02-09T17:07:44.637Z"
   },
   {
    "duration": 527,
    "start_time": "2022-02-09T17:08:04.212Z"
   },
   {
    "duration": 138,
    "start_time": "2022-02-09T17:08:07.899Z"
   },
   {
    "duration": 198,
    "start_time": "2022-02-09T17:08:52.379Z"
   },
   {
    "duration": 128,
    "start_time": "2022-02-09T17:09:09.084Z"
   },
   {
    "duration": 371,
    "start_time": "2022-02-09T17:09:31.320Z"
   },
   {
    "duration": 120,
    "start_time": "2022-02-09T17:09:40.490Z"
   },
   {
    "duration": 99,
    "start_time": "2022-02-09T17:09:46.146Z"
   },
   {
    "duration": 404,
    "start_time": "2022-02-09T17:09:53.017Z"
   },
   {
    "duration": 25,
    "start_time": "2022-02-09T17:11:57.257Z"
   },
   {
    "duration": 28,
    "start_time": "2022-02-09T17:12:06.818Z"
   },
   {
    "duration": 25,
    "start_time": "2022-02-09T17:13:08.434Z"
   },
   {
    "duration": 46,
    "start_time": "2022-02-09T17:14:03.712Z"
   },
   {
    "duration": 24,
    "start_time": "2022-02-09T17:14:29.425Z"
   },
   {
    "duration": 23,
    "start_time": "2022-02-09T17:14:45.193Z"
   },
   {
    "duration": 404,
    "start_time": "2022-02-09T17:14:45.923Z"
   },
   {
    "duration": 26,
    "start_time": "2022-02-09T17:16:41.130Z"
   },
   {
    "duration": 28,
    "start_time": "2022-02-09T17:16:49.646Z"
   },
   {
    "duration": 380,
    "start_time": "2022-02-09T17:18:01.588Z"
   },
   {
    "duration": 366,
    "start_time": "2022-02-09T17:18:53.418Z"
   },
   {
    "duration": 23,
    "start_time": "2022-02-09T17:19:24.466Z"
   },
   {
    "duration": 6420,
    "start_time": "2022-02-09T17:20:25.001Z"
   },
   {
    "duration": 335,
    "start_time": "2022-02-09T17:21:32.386Z"
   },
   {
    "duration": 342,
    "start_time": "2022-02-09T17:21:38.027Z"
   },
   {
    "duration": 335,
    "start_time": "2022-02-09T17:21:56.734Z"
   },
   {
    "duration": 36,
    "start_time": "2022-02-09T17:22:09.111Z"
   },
   {
    "duration": 432,
    "start_time": "2022-02-09T17:22:27.306Z"
   },
   {
    "duration": 320,
    "start_time": "2022-02-09T17:23:15.881Z"
   },
   {
    "duration": 307,
    "start_time": "2022-02-09T17:23:45.093Z"
   },
   {
    "duration": 26,
    "start_time": "2022-02-09T17:26:42.390Z"
   },
   {
    "duration": 318,
    "start_time": "2022-02-09T17:41:36.475Z"
   },
   {
    "duration": 319,
    "start_time": "2022-02-09T17:41:37.396Z"
   },
   {
    "duration": 27,
    "start_time": "2022-02-09T17:41:57.040Z"
   },
   {
    "duration": 150,
    "start_time": "2022-02-09T17:42:03.881Z"
   },
   {
    "duration": 339,
    "start_time": "2022-02-09T17:42:05.219Z"
   },
   {
    "duration": 26,
    "start_time": "2022-02-09T17:42:09.488Z"
   },
   {
    "duration": 325,
    "start_time": "2022-02-09T17:42:10.400Z"
   },
   {
    "duration": 33,
    "start_time": "2022-02-09T17:42:24.586Z"
   },
   {
    "duration": 327,
    "start_time": "2022-02-09T17:42:25.429Z"
   },
   {
    "duration": 26,
    "start_time": "2022-02-09T17:43:08.195Z"
   },
   {
    "duration": 302,
    "start_time": "2022-02-09T17:43:10.433Z"
   },
   {
    "duration": 409,
    "start_time": "2022-02-09T17:44:59.299Z"
   },
   {
    "duration": 351,
    "start_time": "2022-02-09T17:45:20.820Z"
   },
   {
    "duration": 360,
    "start_time": "2022-02-09T17:46:20.931Z"
   },
   {
    "duration": 361,
    "start_time": "2022-02-09T17:46:24.669Z"
   },
   {
    "duration": 539,
    "start_time": "2022-02-09T17:47:32.432Z"
   },
   {
    "duration": 104,
    "start_time": "2022-02-09T18:03:20.988Z"
   },
   {
    "duration": 6,
    "start_time": "2022-02-09T18:04:22.090Z"
   },
   {
    "duration": 693,
    "start_time": "2022-02-09T18:04:52.162Z"
   },
   {
    "duration": 6,
    "start_time": "2022-02-09T18:05:09.320Z"
   },
   {
    "duration": 348,
    "start_time": "2022-02-09T18:05:09.329Z"
   },
   {
    "duration": 10,
    "start_time": "2022-02-09T18:10:41.294Z"
   },
   {
    "duration": 8,
    "start_time": "2022-02-09T18:12:16.782Z"
   },
   {
    "duration": 339,
    "start_time": "2022-02-09T18:14:06.958Z"
   },
   {
    "duration": 343,
    "start_time": "2022-02-09T18:15:55.350Z"
   },
   {
    "duration": 465,
    "start_time": "2022-02-09T18:19:29.980Z"
   },
   {
    "duration": 7,
    "start_time": "2022-02-09T18:19:46.018Z"
   },
   {
    "duration": 341,
    "start_time": "2022-02-09T18:19:46.858Z"
   },
   {
    "duration": 338,
    "start_time": "2022-02-09T18:19:49.426Z"
   },
   {
    "duration": 337,
    "start_time": "2022-02-09T18:19:51.584Z"
   },
   {
    "duration": 313,
    "start_time": "2022-02-09T18:20:28.685Z"
   },
   {
    "duration": 327,
    "start_time": "2022-02-09T18:20:38.320Z"
   },
   {
    "duration": 346,
    "start_time": "2022-02-09T18:20:59.739Z"
   },
   {
    "duration": 336,
    "start_time": "2022-02-09T18:21:21.134Z"
   },
   {
    "duration": 335,
    "start_time": "2022-02-09T18:21:27.149Z"
   },
   {
    "duration": 325,
    "start_time": "2022-02-09T18:22:19.599Z"
   },
   {
    "duration": 336,
    "start_time": "2022-02-09T18:22:31.670Z"
   },
   {
    "duration": 440,
    "start_time": "2022-02-09T18:22:50.049Z"
   },
   {
    "duration": 327,
    "start_time": "2022-02-09T18:23:10.719Z"
   },
   {
    "duration": 381,
    "start_time": "2022-02-09T18:23:58.054Z"
   },
   {
    "duration": 331,
    "start_time": "2022-02-09T18:24:15.219Z"
   },
   {
    "duration": 335,
    "start_time": "2022-02-09T18:24:20.358Z"
   },
   {
    "duration": 337,
    "start_time": "2022-02-09T18:24:44.898Z"
   },
   {
    "duration": 6,
    "start_time": "2022-02-09T18:25:32.503Z"
   },
   {
    "duration": 325,
    "start_time": "2022-02-09T18:25:34.793Z"
   },
   {
    "duration": 7,
    "start_time": "2022-02-09T18:25:47.237Z"
   },
   {
    "duration": 337,
    "start_time": "2022-02-09T18:25:48.271Z"
   },
   {
    "duration": 8,
    "start_time": "2022-02-09T18:26:11.639Z"
   },
   {
    "duration": 334,
    "start_time": "2022-02-09T18:26:12.602Z"
   },
   {
    "duration": 7,
    "start_time": "2022-02-09T18:26:25.649Z"
   },
   {
    "duration": 328,
    "start_time": "2022-02-09T18:26:26.559Z"
   },
   {
    "duration": 356,
    "start_time": "2022-02-09T18:26:29.145Z"
   },
   {
    "duration": 445,
    "start_time": "2022-02-09T18:26:54.198Z"
   },
   {
    "duration": 7,
    "start_time": "2022-02-09T18:27:03.612Z"
   },
   {
    "duration": 330,
    "start_time": "2022-02-09T18:27:04.402Z"
   },
   {
    "duration": 8,
    "start_time": "2022-02-09T18:27:13.361Z"
   },
   {
    "duration": 481,
    "start_time": "2022-02-09T18:27:14.314Z"
   },
   {
    "duration": 8,
    "start_time": "2022-02-09T18:27:20.353Z"
   },
   {
    "duration": 334,
    "start_time": "2022-02-09T18:27:22.205Z"
   },
   {
    "duration": 318,
    "start_time": "2022-02-09T18:27:47.381Z"
   },
   {
    "duration": 337,
    "start_time": "2022-02-09T18:28:04.597Z"
   },
   {
    "duration": 111,
    "start_time": "2022-02-09T18:28:45.015Z"
   },
   {
    "duration": 330,
    "start_time": "2022-02-09T18:40:43.842Z"
   },
   {
    "duration": 1086,
    "start_time": "2022-02-09T18:43:42.229Z"
   },
   {
    "duration": 26,
    "start_time": "2022-02-09T18:43:43.318Z"
   },
   {
    "duration": 24,
    "start_time": "2022-02-09T18:43:43.347Z"
   },
   {
    "duration": 10,
    "start_time": "2022-02-09T18:43:43.374Z"
   },
   {
    "duration": 3,
    "start_time": "2022-02-09T18:43:43.387Z"
   },
   {
    "duration": 19,
    "start_time": "2022-02-09T18:43:43.393Z"
   },
   {
    "duration": 15,
    "start_time": "2022-02-09T18:43:43.414Z"
   },
   {
    "duration": 12,
    "start_time": "2022-02-09T18:43:43.469Z"
   },
   {
    "duration": 28,
    "start_time": "2022-02-09T18:43:43.484Z"
   },
   {
    "duration": 3,
    "start_time": "2022-02-09T18:43:43.514Z"
   },
   {
    "duration": 8,
    "start_time": "2022-02-09T18:43:43.519Z"
   },
   {
    "duration": 59,
    "start_time": "2022-02-09T18:43:43.529Z"
   },
   {
    "duration": 23,
    "start_time": "2022-02-09T18:43:43.592Z"
   },
   {
    "duration": 11,
    "start_time": "2022-02-09T18:43:43.618Z"
   },
   {
    "duration": 61,
    "start_time": "2022-02-09T18:43:43.631Z"
   },
   {
    "duration": 22,
    "start_time": "2022-02-09T18:43:43.695Z"
   },
   {
    "duration": 9,
    "start_time": "2022-02-09T18:43:43.720Z"
   },
   {
    "duration": 41,
    "start_time": "2022-02-09T18:43:43.732Z"
   },
   {
    "duration": 17,
    "start_time": "2022-02-09T18:43:43.775Z"
   },
   {
    "duration": 18,
    "start_time": "2022-02-09T18:43:43.794Z"
   },
   {
    "duration": 216,
    "start_time": "2022-02-09T18:43:43.815Z"
   },
   {
    "duration": 18,
    "start_time": "2022-02-09T18:43:44.033Z"
   },
   {
    "duration": 19,
    "start_time": "2022-02-09T18:43:44.068Z"
   },
   {
    "duration": 7,
    "start_time": "2022-02-09T18:43:44.090Z"
   },
   {
    "duration": 7,
    "start_time": "2022-02-09T18:43:44.099Z"
   },
   {
    "duration": 15,
    "start_time": "2022-02-09T18:43:44.108Z"
   },
   {
    "duration": 53,
    "start_time": "2022-02-09T18:43:44.126Z"
   },
   {
    "duration": 8,
    "start_time": "2022-02-09T18:43:44.181Z"
   },
   {
    "duration": 9,
    "start_time": "2022-02-09T18:43:44.191Z"
   },
   {
    "duration": 69,
    "start_time": "2022-02-09T18:43:44.202Z"
   },
   {
    "duration": 11,
    "start_time": "2022-02-09T18:43:44.273Z"
   },
   {
    "duration": 17,
    "start_time": "2022-02-09T18:43:44.286Z"
   },
   {
    "duration": 8,
    "start_time": "2022-02-09T18:43:44.305Z"
   },
   {
    "duration": 1103,
    "start_time": "2022-02-09T18:43:44.316Z"
   },
   {
    "duration": 351,
    "start_time": "2022-02-09T18:43:45.421Z"
   },
   {
    "duration": 337,
    "start_time": "2022-02-09T18:43:45.775Z"
   },
   {
    "duration": 359,
    "start_time": "2022-02-09T18:43:46.115Z"
   },
   {
    "duration": 4,
    "start_time": "2022-02-09T18:51:52.830Z"
   },
   {
    "duration": 1459,
    "start_time": "2022-02-09T19:36:18.252Z"
   },
   {
    "duration": 30,
    "start_time": "2022-02-09T19:36:19.713Z"
   },
   {
    "duration": 23,
    "start_time": "2022-02-09T19:36:19.746Z"
   },
   {
    "duration": 11,
    "start_time": "2022-02-09T19:36:19.772Z"
   },
   {
    "duration": 4,
    "start_time": "2022-02-09T19:36:19.785Z"
   },
   {
    "duration": 20,
    "start_time": "2022-02-09T19:36:19.791Z"
   },
   {
    "duration": 14,
    "start_time": "2022-02-09T19:36:19.813Z"
   },
   {
    "duration": 45,
    "start_time": "2022-02-09T19:36:19.831Z"
   },
   {
    "duration": 25,
    "start_time": "2022-02-09T19:36:19.880Z"
   },
   {
    "duration": 3,
    "start_time": "2022-02-09T19:36:19.908Z"
   },
   {
    "duration": 6,
    "start_time": "2022-02-09T19:36:19.913Z"
   },
   {
    "duration": 55,
    "start_time": "2022-02-09T19:36:19.922Z"
   },
   {
    "duration": 24,
    "start_time": "2022-02-09T19:36:19.979Z"
   },
   {
    "duration": 12,
    "start_time": "2022-02-09T19:36:20.006Z"
   },
   {
    "duration": 71,
    "start_time": "2022-02-09T19:36:20.021Z"
   },
   {
    "duration": 25,
    "start_time": "2022-02-09T19:36:20.095Z"
   },
   {
    "duration": 12,
    "start_time": "2022-02-09T19:36:20.122Z"
   },
   {
    "duration": 38,
    "start_time": "2022-02-09T19:36:20.137Z"
   },
   {
    "duration": 20,
    "start_time": "2022-02-09T19:36:20.178Z"
   },
   {
    "duration": 21,
    "start_time": "2022-02-09T19:36:20.201Z"
   },
   {
    "duration": 225,
    "start_time": "2022-02-09T19:36:20.224Z"
   },
   {
    "duration": 27,
    "start_time": "2022-02-09T19:36:20.451Z"
   },
   {
    "duration": 19,
    "start_time": "2022-02-09T19:36:20.483Z"
   },
   {
    "duration": 7,
    "start_time": "2022-02-09T19:36:20.505Z"
   },
   {
    "duration": 7,
    "start_time": "2022-02-09T19:36:20.515Z"
   },
   {
    "duration": 62,
    "start_time": "2022-02-09T19:36:20.524Z"
   },
   {
    "duration": 20,
    "start_time": "2022-02-09T19:36:20.589Z"
   },
   {
    "duration": 6,
    "start_time": "2022-02-09T19:36:20.612Z"
   },
   {
    "duration": 5,
    "start_time": "2022-02-09T19:36:20.621Z"
   },
   {
    "duration": 94,
    "start_time": "2022-02-09T19:36:20.629Z"
   },
   {
    "duration": 12,
    "start_time": "2022-02-09T19:36:20.726Z"
   },
   {
    "duration": 46,
    "start_time": "2022-02-09T19:36:20.741Z"
   },
   {
    "duration": 8,
    "start_time": "2022-02-09T19:36:20.789Z"
   },
   {
    "duration": 1070,
    "start_time": "2022-02-09T19:36:20.799Z"
   },
   {
    "duration": 354,
    "start_time": "2022-02-09T19:36:21.871Z"
   },
   {
    "duration": 342,
    "start_time": "2022-02-09T19:36:22.227Z"
   },
   {
    "duration": 366,
    "start_time": "2022-02-09T19:36:22.572Z"
   },
   {
    "duration": 667,
    "start_time": "2022-02-10T05:26:18.292Z"
   },
   {
    "duration": 18,
    "start_time": "2022-02-10T05:26:20.797Z"
   },
   {
    "duration": 645,
    "start_time": "2022-02-10T05:26:31.143Z"
   },
   {
    "duration": 19,
    "start_time": "2022-02-10T05:26:31.790Z"
   },
   {
    "duration": 26,
    "start_time": "2022-02-10T05:26:31.812Z"
   },
   {
    "duration": 31,
    "start_time": "2022-02-10T05:26:31.841Z"
   },
   {
    "duration": 74,
    "start_time": "2022-02-10T05:26:31.874Z"
   },
   {
    "duration": 167,
    "start_time": "2022-02-10T05:26:31.950Z"
   },
   {
    "duration": 137,
    "start_time": "2022-02-10T05:26:32.120Z"
   },
   {
    "duration": 96,
    "start_time": "2022-02-10T05:26:32.261Z"
   },
   {
    "duration": 137,
    "start_time": "2022-02-10T05:26:32.360Z"
   },
   {
    "duration": 2,
    "start_time": "2022-02-10T05:26:32.499Z"
   },
   {
    "duration": 8,
    "start_time": "2022-02-10T05:26:32.503Z"
   },
   {
    "duration": 32,
    "start_time": "2022-02-10T05:26:32.513Z"
   },
   {
    "duration": 14,
    "start_time": "2022-02-10T05:26:32.547Z"
   },
   {
    "duration": 9,
    "start_time": "2022-02-10T05:26:32.563Z"
   },
   {
    "duration": 19,
    "start_time": "2022-02-10T05:26:32.574Z"
   },
   {
    "duration": 28,
    "start_time": "2022-02-10T05:26:32.594Z"
   },
   {
    "duration": 10,
    "start_time": "2022-02-10T05:26:32.624Z"
   },
   {
    "duration": 9,
    "start_time": "2022-02-10T05:26:32.636Z"
   },
   {
    "duration": 12,
    "start_time": "2022-02-10T05:26:32.646Z"
   },
   {
    "duration": 14,
    "start_time": "2022-02-10T05:26:32.659Z"
   },
   {
    "duration": 149,
    "start_time": "2022-02-10T05:26:32.675Z"
   },
   {
    "duration": 22,
    "start_time": "2022-02-10T05:26:32.826Z"
   },
   {
    "duration": 18,
    "start_time": "2022-02-10T05:26:32.852Z"
   },
   {
    "duration": 6,
    "start_time": "2022-02-10T05:26:32.873Z"
   },
   {
    "duration": 5,
    "start_time": "2022-02-10T05:26:32.881Z"
   },
   {
    "duration": 44,
    "start_time": "2022-02-10T05:26:32.887Z"
   },
   {
    "duration": 20,
    "start_time": "2022-02-10T05:26:32.934Z"
   },
   {
    "duration": 4,
    "start_time": "2022-02-10T05:26:32.956Z"
   },
   {
    "duration": 6,
    "start_time": "2022-02-10T05:26:32.962Z"
   },
   {
    "duration": 33,
    "start_time": "2022-02-10T05:26:32.969Z"
   },
   {
    "duration": 23,
    "start_time": "2022-02-10T05:26:33.004Z"
   },
   {
    "duration": 16,
    "start_time": "2022-02-10T05:26:33.029Z"
   },
   {
    "duration": 6,
    "start_time": "2022-02-10T05:26:33.047Z"
   },
   {
    "duration": 805,
    "start_time": "2022-02-10T05:26:33.055Z"
   },
   {
    "duration": 215,
    "start_time": "2022-02-10T05:26:33.862Z"
   },
   {
    "duration": 226,
    "start_time": "2022-02-10T05:26:34.079Z"
   },
   {
    "duration": 270,
    "start_time": "2022-02-10T05:26:34.306Z"
   },
   {
    "duration": 698,
    "start_time": "2022-02-15T16:57:29.793Z"
   },
   {
    "duration": 21,
    "start_time": "2022-02-15T16:57:30.492Z"
   },
   {
    "duration": 29,
    "start_time": "2022-02-15T16:57:30.515Z"
   },
   {
    "duration": 20,
    "start_time": "2022-02-15T16:57:30.546Z"
   },
   {
    "duration": 6,
    "start_time": "2022-02-15T16:57:30.568Z"
   },
   {
    "duration": 18,
    "start_time": "2022-02-15T16:57:30.575Z"
   },
   {
    "duration": 13,
    "start_time": "2022-02-15T16:57:30.595Z"
   },
   {
    "duration": 30,
    "start_time": "2022-02-15T16:57:30.611Z"
   },
   {
    "duration": 23,
    "start_time": "2022-02-15T16:57:30.644Z"
   },
   {
    "duration": 5,
    "start_time": "2022-02-15T16:57:30.669Z"
   },
   {
    "duration": 24,
    "start_time": "2022-02-15T16:57:30.676Z"
   },
   {
    "duration": 31,
    "start_time": "2022-02-15T16:57:30.702Z"
   },
   {
    "duration": 25,
    "start_time": "2022-02-15T16:57:30.735Z"
   },
   {
    "duration": 21,
    "start_time": "2022-02-15T16:57:30.762Z"
   },
   {
    "duration": 42,
    "start_time": "2022-02-15T16:57:30.785Z"
   },
   {
    "duration": 30,
    "start_time": "2022-02-15T16:57:30.829Z"
   },
   {
    "duration": 13,
    "start_time": "2022-02-15T16:57:30.861Z"
   },
   {
    "duration": 16,
    "start_time": "2022-02-15T16:57:30.876Z"
   },
   {
    "duration": 23,
    "start_time": "2022-02-15T16:57:30.894Z"
   },
   {
    "duration": 26,
    "start_time": "2022-02-15T16:57:30.919Z"
   },
   {
    "duration": 127,
    "start_time": "2022-02-15T16:57:30.947Z"
   },
   {
    "duration": 16,
    "start_time": "2022-02-15T16:57:31.076Z"
   },
   {
    "duration": 18,
    "start_time": "2022-02-15T16:57:31.108Z"
   },
   {
    "duration": 16,
    "start_time": "2022-02-15T16:57:31.129Z"
   },
   {
    "duration": 8,
    "start_time": "2022-02-15T16:57:31.147Z"
   },
   {
    "duration": 17,
    "start_time": "2022-02-15T16:57:31.157Z"
   },
   {
    "duration": 27,
    "start_time": "2022-02-15T16:57:31.177Z"
   },
   {
    "duration": 36,
    "start_time": "2022-02-15T16:57:31.206Z"
   },
   {
    "duration": 12,
    "start_time": "2022-02-15T16:57:31.245Z"
   },
   {
    "duration": 49,
    "start_time": "2022-02-15T16:57:31.259Z"
   },
   {
    "duration": 22,
    "start_time": "2022-02-15T16:57:31.311Z"
   },
   {
    "duration": 25,
    "start_time": "2022-02-15T16:57:31.335Z"
   },
   {
    "duration": 9,
    "start_time": "2022-02-15T16:57:31.362Z"
   },
   {
    "duration": 799,
    "start_time": "2022-02-15T16:57:31.372Z"
   },
   {
    "duration": 242,
    "start_time": "2022-02-15T16:57:32.173Z"
   },
   {
    "duration": 242,
    "start_time": "2022-02-15T16:57:32.418Z"
   },
   {
    "duration": 254,
    "start_time": "2022-02-15T16:57:32.662Z"
   },
   {
    "duration": 15,
    "start_time": "2022-02-15T17:01:33.203Z"
   },
   {
    "duration": 15,
    "start_time": "2022-02-15T17:06:42.167Z"
   },
   {
    "duration": 1126,
    "start_time": "2022-02-16T14:45:26.249Z"
   },
   {
    "duration": 2,
    "start_time": "2022-02-16T14:46:57.905Z"
   },
   {
    "duration": 65,
    "start_time": "2022-02-16T14:47:05.500Z"
   },
   {
    "duration": 3,
    "start_time": "2022-02-16T14:47:12.028Z"
   },
   {
    "duration": 51,
    "start_time": "2022-02-16T14:47:13.307Z"
   },
   {
    "duration": 6757,
    "start_time": "2022-02-16T14:49:44.812Z"
   },
   {
    "duration": 1118,
    "start_time": "2022-02-16T14:50:14.914Z"
   },
   {
    "duration": 47,
    "start_time": "2022-02-16T14:50:16.034Z"
   },
   {
    "duration": 12,
    "start_time": "2022-02-16T14:50:16.083Z"
   },
   {
    "duration": 10,
    "start_time": "2022-02-16T14:50:16.097Z"
   },
   {
    "duration": 6,
    "start_time": "2022-02-16T14:50:16.109Z"
   },
   {
    "duration": 30,
    "start_time": "2022-02-16T14:50:16.117Z"
   },
   {
    "duration": 10,
    "start_time": "2022-02-16T14:50:16.149Z"
   },
   {
    "duration": 7,
    "start_time": "2022-02-16T14:50:16.161Z"
   },
   {
    "duration": 16,
    "start_time": "2022-02-16T14:50:16.170Z"
   },
   {
    "duration": 3,
    "start_time": "2022-02-16T14:50:16.187Z"
   },
   {
    "duration": 3,
    "start_time": "2022-02-16T14:50:16.191Z"
   },
   {
    "duration": 45,
    "start_time": "2022-02-16T14:50:16.196Z"
   },
   {
    "duration": 15,
    "start_time": "2022-02-16T14:50:16.243Z"
   },
   {
    "duration": 7,
    "start_time": "2022-02-16T14:50:16.260Z"
   },
   {
    "duration": 19,
    "start_time": "2022-02-16T14:50:16.268Z"
   },
   {
    "duration": 12,
    "start_time": "2022-02-16T14:50:16.288Z"
   },
   {
    "duration": 6,
    "start_time": "2022-02-16T14:50:16.301Z"
   },
   {
    "duration": 30,
    "start_time": "2022-02-16T14:50:16.309Z"
   },
   {
    "duration": 12,
    "start_time": "2022-02-16T14:50:16.342Z"
   },
   {
    "duration": 13,
    "start_time": "2022-02-16T14:50:16.356Z"
   },
   {
    "duration": 126,
    "start_time": "2022-02-16T14:50:16.370Z"
   },
   {
    "duration": 12,
    "start_time": "2022-02-16T14:50:16.497Z"
   },
   {
    "duration": 25,
    "start_time": "2022-02-16T14:50:16.512Z"
   },
   {
    "duration": 5,
    "start_time": "2022-02-16T14:50:16.539Z"
   },
   {
    "duration": 4,
    "start_time": "2022-02-16T14:50:16.546Z"
   },
   {
    "duration": 11,
    "start_time": "2022-02-16T14:50:16.551Z"
   },
   {
    "duration": 10,
    "start_time": "2022-02-16T14:50:16.564Z"
   },
   {
    "duration": 3,
    "start_time": "2022-02-16T14:50:16.576Z"
   },
   {
    "duration": 4,
    "start_time": "2022-02-16T14:50:16.581Z"
   },
   {
    "duration": 80,
    "start_time": "2022-02-16T14:50:16.586Z"
   },
   {
    "duration": 7,
    "start_time": "2022-02-16T14:50:16.668Z"
   },
   {
    "duration": 10,
    "start_time": "2022-02-16T14:50:16.677Z"
   },
   {
    "duration": 4,
    "start_time": "2022-02-16T14:50:16.689Z"
   },
   {
    "duration": 202,
    "start_time": "2022-02-16T14:50:16.695Z"
   },
   {
    "duration": 188,
    "start_time": "2022-02-16T14:50:16.899Z"
   },
   {
    "duration": 213,
    "start_time": "2022-02-16T14:50:17.088Z"
   },
   {
    "duration": 209,
    "start_time": "2022-02-16T14:50:17.302Z"
   },
   {
    "duration": 32,
    "start_time": "2022-02-16T14:55:54.709Z"
   },
   {
    "duration": 22,
    "start_time": "2022-02-16T14:56:18.788Z"
   },
   {
    "duration": 7,
    "start_time": "2022-02-16T14:57:52.370Z"
   },
   {
    "duration": 93,
    "start_time": "2022-02-16T14:58:21.853Z"
   },
   {
    "duration": 6,
    "start_time": "2022-02-16T14:58:24.109Z"
   },
   {
    "duration": 1108,
    "start_time": "2022-02-16T14:58:33.638Z"
   },
   {
    "duration": 46,
    "start_time": "2022-02-16T14:58:34.748Z"
   },
   {
    "duration": 13,
    "start_time": "2022-02-16T14:58:34.796Z"
   },
   {
    "duration": 10,
    "start_time": "2022-02-16T14:58:34.811Z"
   },
   {
    "duration": 22,
    "start_time": "2022-02-16T14:58:34.822Z"
   },
   {
    "duration": 8,
    "start_time": "2022-02-16T14:58:34.846Z"
   },
   {
    "duration": 2,
    "start_time": "2022-02-16T14:58:34.856Z"
   },
   {
    "duration": 8,
    "start_time": "2022-02-16T14:58:34.861Z"
   },
   {
    "duration": 13,
    "start_time": "2022-02-16T14:58:34.871Z"
   },
   {
    "duration": 13,
    "start_time": "2022-02-16T14:58:34.886Z"
   },
   {
    "duration": 45,
    "start_time": "2022-02-16T14:58:34.901Z"
   },
   {
    "duration": 8,
    "start_time": "2022-02-16T14:58:34.947Z"
   },
   {
    "duration": 26,
    "start_time": "2022-02-16T14:58:34.957Z"
   },
   {
    "duration": 86,
    "start_time": "2022-02-16T14:58:34.984Z"
   },
   {
    "duration": 7,
    "start_time": "2022-02-16T14:58:35.071Z"
   },
   {
    "duration": 367,
    "start_time": "2022-02-16T14:58:35.080Z"
   },
   {
    "duration": -47,
    "start_time": "2022-02-16T14:58:35.497Z"
   },
   {
    "duration": -49,
    "start_time": "2022-02-16T14:58:35.500Z"
   },
   {
    "duration": -50,
    "start_time": "2022-02-16T14:58:35.502Z"
   },
   {
    "duration": -50,
    "start_time": "2022-02-16T14:58:35.503Z"
   },
   {
    "duration": -52,
    "start_time": "2022-02-16T14:58:35.505Z"
   },
   {
    "duration": -78,
    "start_time": "2022-02-16T14:58:35.532Z"
   },
   {
    "duration": -82,
    "start_time": "2022-02-16T14:58:35.536Z"
   },
   {
    "duration": -83,
    "start_time": "2022-02-16T14:58:35.538Z"
   },
   {
    "duration": -85,
    "start_time": "2022-02-16T14:58:35.541Z"
   },
   {
    "duration": -87,
    "start_time": "2022-02-16T14:58:35.543Z"
   },
   {
    "duration": -87,
    "start_time": "2022-02-16T14:58:35.544Z"
   },
   {
    "duration": -89,
    "start_time": "2022-02-16T14:58:35.546Z"
   },
   {
    "duration": -90,
    "start_time": "2022-02-16T14:58:35.548Z"
   },
   {
    "duration": -91,
    "start_time": "2022-02-16T14:58:35.549Z"
   },
   {
    "duration": -92,
    "start_time": "2022-02-16T14:58:35.551Z"
   },
   {
    "duration": -94,
    "start_time": "2022-02-16T14:58:35.553Z"
   },
   {
    "duration": -95,
    "start_time": "2022-02-16T14:58:35.555Z"
   },
   {
    "duration": -95,
    "start_time": "2022-02-16T14:58:35.556Z"
   },
   {
    "duration": -97,
    "start_time": "2022-02-16T14:58:35.558Z"
   },
   {
    "duration": 15,
    "start_time": "2022-02-16T14:59:03.627Z"
   },
   {
    "duration": 7,
    "start_time": "2022-02-16T14:59:05.372Z"
   },
   {
    "duration": 6,
    "start_time": "2022-02-16T14:59:10.532Z"
   },
   {
    "duration": 139,
    "start_time": "2022-02-16T15:18:51.175Z"
   },
   {
    "duration": 3,
    "start_time": "2022-02-16T15:31:02.116Z"
   },
   {
    "duration": 3,
    "start_time": "2022-02-16T15:32:21.375Z"
   },
   {
    "duration": 543,
    "start_time": "2022-02-16T15:34:13.826Z"
   },
   {
    "duration": 4,
    "start_time": "2022-02-16T15:34:26.754Z"
   },
   {
    "duration": 159,
    "start_time": "2022-02-16T15:34:27.122Z"
   },
   {
    "duration": 120,
    "start_time": "2022-02-16T15:36:28.929Z"
   },
   {
    "duration": 3,
    "start_time": "2022-02-16T15:36:32.921Z"
   },
   {
    "duration": 161,
    "start_time": "2022-02-16T15:36:33.601Z"
   },
   {
    "duration": 4,
    "start_time": "2022-02-16T15:37:47.072Z"
   },
   {
    "duration": 153,
    "start_time": "2022-02-16T15:37:48.946Z"
   },
   {
    "duration": 46,
    "start_time": "2022-02-16T15:38:15.034Z"
   },
   {
    "duration": 7,
    "start_time": "2022-02-16T15:38:32.937Z"
   },
   {
    "duration": 36,
    "start_time": "2022-02-16T15:38:33.786Z"
   },
   {
    "duration": 3,
    "start_time": "2022-02-16T15:38:39.888Z"
   },
   {
    "duration": 34,
    "start_time": "2022-02-16T15:38:40.144Z"
   },
   {
    "duration": 5,
    "start_time": "2022-02-16T15:40:12.664Z"
   },
   {
    "duration": 6,
    "start_time": "2022-02-16T15:40:20.329Z"
   },
   {
    "duration": 1261,
    "start_time": "2022-02-16T15:41:09.503Z"
   },
   {
    "duration": 64,
    "start_time": "2022-02-16T15:41:10.766Z"
   },
   {
    "duration": 19,
    "start_time": "2022-02-16T15:41:10.835Z"
   },
   {
    "duration": 11,
    "start_time": "2022-02-16T15:41:10.856Z"
   },
   {
    "duration": 5,
    "start_time": "2022-02-16T15:41:10.869Z"
   },
   {
    "duration": 8,
    "start_time": "2022-02-16T15:41:10.876Z"
   },
   {
    "duration": 3,
    "start_time": "2022-02-16T15:41:10.885Z"
   },
   {
    "duration": 10,
    "start_time": "2022-02-16T15:41:10.890Z"
   },
   {
    "duration": 48,
    "start_time": "2022-02-16T15:41:10.902Z"
   },
   {
    "duration": 14,
    "start_time": "2022-02-16T15:41:10.951Z"
   },
   {
    "duration": 14,
    "start_time": "2022-02-16T15:41:10.966Z"
   },
   {
    "duration": 8,
    "start_time": "2022-02-16T15:41:10.981Z"
   },
   {
    "duration": 50,
    "start_time": "2022-02-16T15:41:10.990Z"
   },
   {
    "duration": 7,
    "start_time": "2022-02-16T15:41:11.042Z"
   },
   {
    "duration": 37,
    "start_time": "2022-02-16T15:41:11.051Z"
   },
   {
    "duration": 3,
    "start_time": "2022-02-16T15:41:11.090Z"
   },
   {
    "duration": 5,
    "start_time": "2022-02-16T15:41:11.095Z"
   },
   {
    "duration": 382,
    "start_time": "2022-02-16T15:41:11.102Z"
   },
   {
    "duration": -61,
    "start_time": "2022-02-16T15:41:11.547Z"
   },
   {
    "duration": -61,
    "start_time": "2022-02-16T15:41:11.548Z"
   },
   {
    "duration": -62,
    "start_time": "2022-02-16T15:41:11.550Z"
   },
   {
    "duration": -63,
    "start_time": "2022-02-16T15:41:11.552Z"
   },
   {
    "duration": -64,
    "start_time": "2022-02-16T15:41:11.554Z"
   },
   {
    "duration": -65,
    "start_time": "2022-02-16T15:41:11.556Z"
   },
   {
    "duration": -66,
    "start_time": "2022-02-16T15:41:11.558Z"
   },
   {
    "duration": -67,
    "start_time": "2022-02-16T15:41:11.560Z"
   },
   {
    "duration": -83,
    "start_time": "2022-02-16T15:41:11.577Z"
   },
   {
    "duration": -86,
    "start_time": "2022-02-16T15:41:11.581Z"
   },
   {
    "duration": -88,
    "start_time": "2022-02-16T15:41:11.584Z"
   },
   {
    "duration": -90,
    "start_time": "2022-02-16T15:41:11.587Z"
   },
   {
    "duration": -91,
    "start_time": "2022-02-16T15:41:11.589Z"
   },
   {
    "duration": -92,
    "start_time": "2022-02-16T15:41:11.591Z"
   },
   {
    "duration": -93,
    "start_time": "2022-02-16T15:41:11.593Z"
   },
   {
    "duration": -95,
    "start_time": "2022-02-16T15:41:11.595Z"
   },
   {
    "duration": -96,
    "start_time": "2022-02-16T15:41:11.597Z"
   },
   {
    "duration": -97,
    "start_time": "2022-02-16T15:41:11.599Z"
   },
   {
    "duration": -98,
    "start_time": "2022-02-16T15:41:11.601Z"
   },
   {
    "duration": 287,
    "start_time": "2022-02-16T15:42:30.625Z"
   },
   {
    "duration": 273,
    "start_time": "2022-02-16T15:42:35.073Z"
   },
   {
    "duration": 6,
    "start_time": "2022-02-16T15:42:46.641Z"
   },
   {
    "duration": 332,
    "start_time": "2022-02-16T15:42:50.824Z"
   },
   {
    "duration": 4,
    "start_time": "2022-02-16T15:44:37.785Z"
   },
   {
    "duration": 53,
    "start_time": "2022-02-16T15:44:38.527Z"
   },
   {
    "duration": 4,
    "start_time": "2022-02-16T15:44:48.304Z"
   },
   {
    "duration": 10,
    "start_time": "2022-02-16T15:44:50.535Z"
   },
   {
    "duration": 5,
    "start_time": "2022-02-16T15:44:53.808Z"
   },
   {
    "duration": 1225,
    "start_time": "2022-02-16T15:45:37.189Z"
   },
   {
    "duration": 68,
    "start_time": "2022-02-16T15:45:38.416Z"
   },
   {
    "duration": 18,
    "start_time": "2022-02-16T15:45:38.487Z"
   },
   {
    "duration": 33,
    "start_time": "2022-02-16T15:45:38.507Z"
   },
   {
    "duration": 19,
    "start_time": "2022-02-16T15:45:38.544Z"
   },
   {
    "duration": 11,
    "start_time": "2022-02-16T15:45:38.566Z"
   },
   {
    "duration": 4,
    "start_time": "2022-02-16T15:45:38.578Z"
   },
   {
    "duration": 8,
    "start_time": "2022-02-16T15:45:38.585Z"
   },
   {
    "duration": 15,
    "start_time": "2022-02-16T15:45:38.595Z"
   },
   {
    "duration": 37,
    "start_time": "2022-02-16T15:45:38.612Z"
   },
   {
    "duration": 20,
    "start_time": "2022-02-16T15:45:38.651Z"
   },
   {
    "duration": 11,
    "start_time": "2022-02-16T15:45:38.673Z"
   },
   {
    "duration": 71,
    "start_time": "2022-02-16T15:45:38.686Z"
   },
   {
    "duration": 4,
    "start_time": "2022-02-16T15:45:38.759Z"
   },
   {
    "duration": 46,
    "start_time": "2022-02-16T15:45:38.766Z"
   },
   {
    "duration": 28,
    "start_time": "2022-02-16T15:45:38.814Z"
   },
   {
    "duration": 7,
    "start_time": "2022-02-16T15:45:38.844Z"
   },
   {
    "duration": 7,
    "start_time": "2022-02-16T15:45:38.853Z"
   },
   {
    "duration": 12,
    "start_time": "2022-02-16T15:45:38.862Z"
   },
   {
    "duration": 17,
    "start_time": "2022-02-16T15:45:38.876Z"
   },
   {
    "duration": 165,
    "start_time": "2022-02-16T15:45:38.895Z"
   },
   {
    "duration": 17,
    "start_time": "2022-02-16T15:45:39.061Z"
   },
   {
    "duration": 15,
    "start_time": "2022-02-16T15:45:39.082Z"
   },
   {
    "duration": 4,
    "start_time": "2022-02-16T15:45:39.099Z"
   },
   {
    "duration": 30,
    "start_time": "2022-02-16T15:45:39.105Z"
   },
   {
    "duration": 21,
    "start_time": "2022-02-16T15:45:39.138Z"
   },
   {
    "duration": 13,
    "start_time": "2022-02-16T15:45:39.161Z"
   },
   {
    "duration": 6,
    "start_time": "2022-02-16T15:45:39.176Z"
   },
   {
    "duration": 7,
    "start_time": "2022-02-16T15:45:39.184Z"
   },
   {
    "duration": 31,
    "start_time": "2022-02-16T15:45:39.193Z"
   },
   {
    "duration": 12,
    "start_time": "2022-02-16T15:45:39.231Z"
   },
   {
    "duration": 20,
    "start_time": "2022-02-16T15:45:39.248Z"
   },
   {
    "duration": 5,
    "start_time": "2022-02-16T15:45:39.271Z"
   },
   {
    "duration": 269,
    "start_time": "2022-02-16T15:45:39.278Z"
   },
   {
    "duration": 270,
    "start_time": "2022-02-16T15:45:39.552Z"
   },
   {
    "duration": 269,
    "start_time": "2022-02-16T15:45:39.824Z"
   },
   {
    "duration": 256,
    "start_time": "2022-02-16T15:45:40.095Z"
   },
   {
    "duration": 4,
    "start_time": "2022-02-16T15:46:38.895Z"
   },
   {
    "duration": 38,
    "start_time": "2022-02-16T15:46:39.598Z"
   },
   {
    "duration": 5,
    "start_time": "2022-02-16T15:46:59.063Z"
   },
   {
    "duration": 43,
    "start_time": "2022-02-16T15:46:59.526Z"
   },
   {
    "duration": 4,
    "start_time": "2022-02-16T15:47:24.406Z"
   },
   {
    "duration": 36,
    "start_time": "2022-02-16T15:47:24.726Z"
   },
   {
    "duration": 19,
    "start_time": "2022-02-16T15:48:21.734Z"
   },
   {
    "duration": 15,
    "start_time": "2022-02-16T15:48:28.206Z"
   },
   {
    "duration": 14,
    "start_time": "2022-02-16T15:48:32.526Z"
   },
   {
    "duration": 334,
    "start_time": "2022-02-16T15:49:02.966Z"
   },
   {
    "duration": 259,
    "start_time": "2022-02-16T15:49:36.461Z"
   },
   {
    "duration": 19,
    "start_time": "2022-02-16T15:49:47.997Z"
   },
   {
    "duration": 16,
    "start_time": "2022-02-16T15:50:14.469Z"
   },
   {
    "duration": 18,
    "start_time": "2022-02-16T15:50:22.885Z"
   },
   {
    "duration": 27,
    "start_time": "2022-02-16T15:50:40.894Z"
   },
   {
    "duration": 20,
    "start_time": "2022-02-16T15:51:48.533Z"
   },
   {
    "duration": 13,
    "start_time": "2022-02-16T15:52:10.061Z"
   },
   {
    "duration": 16,
    "start_time": "2022-02-16T15:52:14.124Z"
   },
   {
    "duration": 17,
    "start_time": "2022-02-16T15:53:28.220Z"
   },
   {
    "duration": 19,
    "start_time": "2022-02-16T15:53:32.469Z"
   },
   {
    "duration": 27,
    "start_time": "2022-02-16T15:53:41.118Z"
   },
   {
    "duration": 306,
    "start_time": "2022-02-16T15:54:19.676Z"
   },
   {
    "duration": 91,
    "start_time": "2022-02-16T15:54:24.501Z"
   },
   {
    "duration": 496,
    "start_time": "2022-02-16T15:54:37.124Z"
   },
   {
    "duration": 6386,
    "start_time": "2022-02-16T15:55:24.516Z"
   },
   {
    "duration": 28,
    "start_time": "2022-02-16T15:55:38.356Z"
   },
   {
    "duration": 19,
    "start_time": "2022-02-16T15:55:46.092Z"
   },
   {
    "duration": 17,
    "start_time": "2022-02-16T15:55:55.676Z"
   },
   {
    "duration": 27,
    "start_time": "2022-02-16T15:56:05.213Z"
   },
   {
    "duration": 32,
    "start_time": "2022-02-16T15:56:19.843Z"
   },
   {
    "duration": 27,
    "start_time": "2022-02-16T15:56:23.252Z"
   },
   {
    "duration": 3,
    "start_time": "2022-02-16T15:56:55.507Z"
   },
   {
    "duration": 28,
    "start_time": "2022-02-16T15:57:52.123Z"
   },
   {
    "duration": 23,
    "start_time": "2022-02-16T15:58:02.155Z"
   },
   {
    "duration": 255,
    "start_time": "2022-02-16T15:58:10.980Z"
   },
   {
    "duration": 17,
    "start_time": "2022-02-16T15:58:20.939Z"
   },
   {
    "duration": 17,
    "start_time": "2022-02-16T15:58:29.826Z"
   },
   {
    "duration": 16,
    "start_time": "2022-02-16T15:58:42.186Z"
   },
   {
    "duration": 15,
    "start_time": "2022-02-16T15:58:47.066Z"
   },
   {
    "duration": 276,
    "start_time": "2022-02-16T15:59:58.019Z"
   },
   {
    "duration": 34,
    "start_time": "2022-02-16T16:01:13.793Z"
   },
   {
    "duration": 27,
    "start_time": "2022-02-16T16:01:27.595Z"
   },
   {
    "duration": 27,
    "start_time": "2022-02-16T16:01:38.010Z"
   },
   {
    "duration": 14,
    "start_time": "2022-02-16T16:01:59.025Z"
   },
   {
    "duration": 29,
    "start_time": "2022-02-16T16:02:00.737Z"
   },
   {
    "duration": 100,
    "start_time": "2022-02-16T16:06:01.969Z"
   },
   {
    "duration": 5,
    "start_time": "2022-02-16T16:15:39.526Z"
   },
   {
    "duration": 82,
    "start_time": "2022-02-16T16:37:43.927Z"
   },
   {
    "duration": 1100,
    "start_time": "2022-02-16T16:52:50.797Z"
   },
   {
    "duration": 66,
    "start_time": "2022-02-16T16:52:51.898Z"
   },
   {
    "duration": 14,
    "start_time": "2022-02-16T16:52:51.966Z"
   },
   {
    "duration": 11,
    "start_time": "2022-02-16T16:52:51.982Z"
   },
   {
    "duration": 7,
    "start_time": "2022-02-16T16:52:51.995Z"
   },
   {
    "duration": 39,
    "start_time": "2022-02-16T16:52:52.004Z"
   },
   {
    "duration": 4,
    "start_time": "2022-02-16T16:52:52.046Z"
   },
   {
    "duration": 11,
    "start_time": "2022-02-16T16:52:52.053Z"
   },
   {
    "duration": 16,
    "start_time": "2022-02-16T16:52:52.067Z"
   },
   {
    "duration": 18,
    "start_time": "2022-02-16T16:52:52.085Z"
   },
   {
    "duration": 20,
    "start_time": "2022-02-16T16:52:52.133Z"
   },
   {
    "duration": 10,
    "start_time": "2022-02-16T16:52:52.155Z"
   },
   {
    "duration": 27,
    "start_time": "2022-02-16T16:52:52.167Z"
   },
   {
    "duration": 5,
    "start_time": "2022-02-16T16:52:52.196Z"
   },
   {
    "duration": 64,
    "start_time": "2022-02-16T16:52:52.202Z"
   },
   {
    "duration": 4,
    "start_time": "2022-02-16T16:52:52.267Z"
   },
   {
    "duration": 5,
    "start_time": "2022-02-16T16:52:52.273Z"
   },
   {
    "duration": 8,
    "start_time": "2022-02-16T16:52:52.280Z"
   },
   {
    "duration": 14,
    "start_time": "2022-02-16T16:52:52.290Z"
   },
   {
    "duration": 30,
    "start_time": "2022-02-16T16:52:52.306Z"
   },
   {
    "duration": 114,
    "start_time": "2022-02-16T16:52:52.339Z"
   },
   {
    "duration": 17,
    "start_time": "2022-02-16T16:52:52.454Z"
   },
   {
    "duration": 24,
    "start_time": "2022-02-16T16:52:52.474Z"
   },
   {
    "duration": 58,
    "start_time": "2022-02-16T16:52:52.500Z"
   },
   {
    "duration": 11,
    "start_time": "2022-02-16T16:52:52.559Z"
   },
   {
    "duration": 10,
    "start_time": "2022-02-16T16:52:52.572Z"
   },
   {
    "duration": 7,
    "start_time": "2022-02-16T16:52:52.583Z"
   },
   {
    "duration": 4,
    "start_time": "2022-02-16T16:52:52.592Z"
   },
   {
    "duration": 41,
    "start_time": "2022-02-16T16:52:52.598Z"
   },
   {
    "duration": 13,
    "start_time": "2022-02-16T16:52:52.642Z"
   },
   {
    "duration": 9,
    "start_time": "2022-02-16T16:52:52.657Z"
   },
   {
    "duration": 6,
    "start_time": "2022-02-16T16:52:52.668Z"
   },
   {
    "duration": 35,
    "start_time": "2022-02-16T16:52:52.676Z"
   },
   {
    "duration": 24,
    "start_time": "2022-02-16T16:52:52.713Z"
   },
   {
    "duration": 12,
    "start_time": "2022-02-16T16:52:52.739Z"
   },
   {
    "duration": 6,
    "start_time": "2022-02-16T16:52:52.753Z"
   },
   {
    "duration": 206,
    "start_time": "2022-02-16T16:52:52.760Z"
   },
   {
    "duration": 190,
    "start_time": "2022-02-16T16:52:52.968Z"
   },
   {
    "duration": 274,
    "start_time": "2022-02-16T16:52:53.161Z"
   },
   {
    "duration": 198,
    "start_time": "2022-02-16T16:52:53.437Z"
   },
   {
    "duration": 40,
    "start_time": "2022-02-16T17:08:15.672Z"
   },
   {
    "duration": 382,
    "start_time": "2022-02-16T17:12:44.174Z"
   },
   {
    "duration": 40,
    "start_time": "2022-02-16T17:12:49.567Z"
   },
   {
    "duration": 288,
    "start_time": "2022-02-16T17:13:35.351Z"
   },
   {
    "duration": 1082,
    "start_time": "2022-02-16T17:20:38.561Z"
   },
   {
    "duration": 59,
    "start_time": "2022-02-16T17:20:39.645Z"
   },
   {
    "duration": 13,
    "start_time": "2022-02-16T17:20:39.706Z"
   },
   {
    "duration": 11,
    "start_time": "2022-02-16T17:20:39.721Z"
   },
   {
    "duration": 6,
    "start_time": "2022-02-16T17:20:39.734Z"
   },
   {
    "duration": 8,
    "start_time": "2022-02-16T17:20:39.741Z"
   },
   {
    "duration": 3,
    "start_time": "2022-02-16T17:20:39.751Z"
   },
   {
    "duration": 9,
    "start_time": "2022-02-16T17:20:39.755Z"
   },
   {
    "duration": 14,
    "start_time": "2022-02-16T17:20:39.766Z"
   },
   {
    "duration": 50,
    "start_time": "2022-02-16T17:20:39.782Z"
   },
   {
    "duration": 16,
    "start_time": "2022-02-16T17:20:39.834Z"
   },
   {
    "duration": 7,
    "start_time": "2022-02-16T17:20:39.852Z"
   },
   {
    "duration": 27,
    "start_time": "2022-02-16T17:20:39.861Z"
   },
   {
    "duration": 4,
    "start_time": "2022-02-16T17:20:39.889Z"
   },
   {
    "duration": 69,
    "start_time": "2022-02-16T17:20:39.895Z"
   },
   {
    "duration": 5,
    "start_time": "2022-02-16T17:20:39.966Z"
   },
   {
    "duration": 7,
    "start_time": "2022-02-16T17:20:39.973Z"
   },
   {
    "duration": 5,
    "start_time": "2022-02-16T17:20:39.981Z"
   },
   {
    "duration": 11,
    "start_time": "2022-02-16T17:20:39.987Z"
   },
   {
    "duration": 44,
    "start_time": "2022-02-16T17:20:40.000Z"
   },
   {
    "duration": 118,
    "start_time": "2022-02-16T17:20:40.045Z"
   },
   {
    "duration": 18,
    "start_time": "2022-02-16T17:20:40.165Z"
   },
   {
    "duration": 48,
    "start_time": "2022-02-16T17:20:40.185Z"
   },
   {
    "duration": 33,
    "start_time": "2022-02-16T17:20:40.234Z"
   },
   {
    "duration": 10,
    "start_time": "2022-02-16T17:20:40.269Z"
   },
   {
    "duration": 10,
    "start_time": "2022-02-16T17:20:40.281Z"
   },
   {
    "duration": 6,
    "start_time": "2022-02-16T17:20:40.294Z"
   },
   {
    "duration": 4,
    "start_time": "2022-02-16T17:20:40.301Z"
   },
   {
    "duration": 9,
    "start_time": "2022-02-16T17:20:40.332Z"
   },
   {
    "duration": 10,
    "start_time": "2022-02-16T17:20:40.342Z"
   },
   {
    "duration": 4,
    "start_time": "2022-02-16T17:20:40.353Z"
   },
   {
    "duration": 4,
    "start_time": "2022-02-16T17:20:40.359Z"
   },
   {
    "duration": 33,
    "start_time": "2022-02-16T17:20:40.365Z"
   },
   {
    "duration": 36,
    "start_time": "2022-02-16T17:20:40.400Z"
   },
   {
    "duration": 9,
    "start_time": "2022-02-16T17:20:40.437Z"
   },
   {
    "duration": 4,
    "start_time": "2022-02-16T17:20:40.448Z"
   },
   {
    "duration": 210,
    "start_time": "2022-02-16T17:20:40.453Z"
   },
   {
    "duration": 196,
    "start_time": "2022-02-16T17:20:40.665Z"
   },
   {
    "duration": 199,
    "start_time": "2022-02-16T17:20:40.863Z"
   },
   {
    "duration": 209,
    "start_time": "2022-02-16T17:20:41.063Z"
   },
   {
    "duration": 1286,
    "start_time": "2022-02-16T20:43:14.147Z"
   },
   {
    "duration": 61,
    "start_time": "2022-02-16T20:43:15.435Z"
   },
   {
    "duration": 14,
    "start_time": "2022-02-16T20:43:15.499Z"
   },
   {
    "duration": 34,
    "start_time": "2022-02-16T20:43:15.515Z"
   },
   {
    "duration": 12,
    "start_time": "2022-02-16T20:43:15.551Z"
   },
   {
    "duration": 15,
    "start_time": "2022-02-16T20:43:15.565Z"
   },
   {
    "duration": 12,
    "start_time": "2022-02-16T20:43:15.582Z"
   },
   {
    "duration": 11,
    "start_time": "2022-02-16T20:43:15.598Z"
   },
   {
    "duration": 25,
    "start_time": "2022-02-16T20:43:15.612Z"
   },
   {
    "duration": 20,
    "start_time": "2022-02-16T20:43:15.639Z"
   },
   {
    "duration": 23,
    "start_time": "2022-02-16T20:43:15.661Z"
   },
   {
    "duration": 10,
    "start_time": "2022-02-16T20:43:15.687Z"
   },
   {
    "duration": 44,
    "start_time": "2022-02-16T20:43:15.699Z"
   },
   {
    "duration": 28,
    "start_time": "2022-02-16T20:43:15.745Z"
   },
   {
    "duration": 71,
    "start_time": "2022-02-16T20:43:15.776Z"
   },
   {
    "duration": 6,
    "start_time": "2022-02-16T20:43:15.849Z"
   },
   {
    "duration": 25,
    "start_time": "2022-02-16T20:43:15.857Z"
   },
   {
    "duration": 26,
    "start_time": "2022-02-16T20:43:15.885Z"
   },
   {
    "duration": 20,
    "start_time": "2022-02-16T20:43:15.914Z"
   },
   {
    "duration": 35,
    "start_time": "2022-02-16T20:43:15.937Z"
   },
   {
    "duration": 140,
    "start_time": "2022-02-16T20:43:15.974Z"
   },
   {
    "duration": 19,
    "start_time": "2022-02-16T20:43:16.116Z"
   },
   {
    "duration": 61,
    "start_time": "2022-02-16T20:43:16.139Z"
   },
   {
    "duration": 36,
    "start_time": "2022-02-16T20:43:16.201Z"
   },
   {
    "duration": 12,
    "start_time": "2022-02-16T20:43:16.239Z"
   },
   {
    "duration": 21,
    "start_time": "2022-02-16T20:43:16.271Z"
   },
   {
    "duration": 7,
    "start_time": "2022-02-16T20:43:16.294Z"
   },
   {
    "duration": 33,
    "start_time": "2022-02-16T20:43:16.303Z"
   },
   {
    "duration": 22,
    "start_time": "2022-02-16T20:43:16.338Z"
   },
   {
    "duration": 27,
    "start_time": "2022-02-16T20:43:16.362Z"
   },
   {
    "duration": 34,
    "start_time": "2022-02-16T20:43:16.393Z"
   },
   {
    "duration": 33,
    "start_time": "2022-02-16T20:43:16.429Z"
   },
   {
    "duration": 52,
    "start_time": "2022-02-16T20:43:16.464Z"
   },
   {
    "duration": 10,
    "start_time": "2022-02-16T20:43:16.517Z"
   },
   {
    "duration": 17,
    "start_time": "2022-02-16T20:43:16.529Z"
   },
   {
    "duration": 15,
    "start_time": "2022-02-16T20:43:16.548Z"
   },
   {
    "duration": 247,
    "start_time": "2022-02-16T20:43:16.565Z"
   },
   {
    "duration": 250,
    "start_time": "2022-02-16T20:43:16.813Z"
   },
   {
    "duration": 259,
    "start_time": "2022-02-16T20:43:17.069Z"
   },
   {
    "duration": 280,
    "start_time": "2022-02-16T20:43:17.329Z"
   },
   {
    "duration": 1317,
    "start_time": "2022-03-24T15:31:34.389Z"
   },
   {
    "duration": 381,
    "start_time": "2022-03-24T15:35:20.903Z"
   },
   {
    "duration": 398,
    "start_time": "2022-03-24T15:36:37.150Z"
   },
   {
    "duration": 378,
    "start_time": "2022-03-24T15:37:17.736Z"
   },
   {
    "duration": 99,
    "start_time": "2022-03-24T15:37:26.094Z"
   },
   {
    "duration": 33,
    "start_time": "2022-03-24T15:37:53.032Z"
   },
   {
    "duration": 78,
    "start_time": "2022-03-24T15:40:47.506Z"
   },
   {
    "duration": 73,
    "start_time": "2022-03-24T15:40:54.640Z"
   },
   {
    "duration": 78,
    "start_time": "2022-03-24T15:40:59.913Z"
   },
   {
    "duration": 98,
    "start_time": "2022-03-24T15:41:06.864Z"
   },
   {
    "duration": 75,
    "start_time": "2022-03-24T15:41:09.569Z"
   },
   {
    "duration": 81,
    "start_time": "2022-03-24T15:41:13.217Z"
   },
   {
    "duration": 59,
    "start_time": "2022-03-24T15:44:28.069Z"
   },
   {
    "duration": 61,
    "start_time": "2022-03-24T15:44:46.704Z"
   },
   {
    "duration": 44,
    "start_time": "2022-03-24T15:44:57.120Z"
   },
   {
    "duration": 26,
    "start_time": "2022-03-24T15:45:14.479Z"
   },
   {
    "duration": 19,
    "start_time": "2022-03-24T15:45:27.831Z"
   },
   {
    "duration": 3,
    "start_time": "2022-03-24T15:45:34.342Z"
   },
   {
    "duration": 11,
    "start_time": "2022-03-24T15:45:52.014Z"
   },
   {
    "duration": 5,
    "start_time": "2022-03-24T15:45:57.654Z"
   },
   {
    "duration": 9,
    "start_time": "2022-03-24T15:46:29.470Z"
   },
   {
    "duration": 10,
    "start_time": "2022-03-24T15:46:41.344Z"
   },
   {
    "duration": 107,
    "start_time": "2022-03-24T15:47:22.861Z"
   },
   {
    "duration": 35,
    "start_time": "2022-03-24T15:47:27.387Z"
   },
   {
    "duration": 10,
    "start_time": "2022-03-24T15:48:32.561Z"
   },
   {
    "duration": 9,
    "start_time": "2022-03-24T15:48:39.326Z"
   },
   {
    "duration": 31,
    "start_time": "2022-03-24T15:51:54.685Z"
   },
   {
    "duration": 173,
    "start_time": "2022-03-24T15:52:04.133Z"
   },
   {
    "duration": 164,
    "start_time": "2022-03-24T15:52:25.639Z"
   },
   {
    "duration": 177,
    "start_time": "2022-03-24T15:52:28.887Z"
   },
   {
    "duration": 174,
    "start_time": "2022-03-24T15:52:36.247Z"
   },
   {
    "duration": 123,
    "start_time": "2022-03-24T15:52:40.798Z"
   },
   {
    "duration": 170,
    "start_time": "2022-03-24T15:52:49.119Z"
   },
   {
    "duration": 105,
    "start_time": "2022-03-24T15:53:02.231Z"
   },
   {
    "duration": 125,
    "start_time": "2022-03-24T15:53:13.285Z"
   },
   {
    "duration": 184,
    "start_time": "2022-03-24T15:53:18.012Z"
   },
   {
    "duration": 93,
    "start_time": "2022-03-24T15:53:27.900Z"
   },
   {
    "duration": 185,
    "start_time": "2022-03-24T15:53:34.733Z"
   },
   {
    "duration": 180,
    "start_time": "2022-03-24T15:53:39.543Z"
   },
   {
    "duration": 9,
    "start_time": "2022-03-24T16:00:28.526Z"
   },
   {
    "duration": 9,
    "start_time": "2022-03-24T16:04:30.658Z"
   },
   {
    "duration": 28,
    "start_time": "2022-03-24T16:04:37.482Z"
   },
   {
    "duration": 2102,
    "start_time": "2022-03-24T16:04:59.755Z"
   },
   {
    "duration": 2421,
    "start_time": "2022-03-24T16:05:07.130Z"
   },
   {
    "duration": 30,
    "start_time": "2022-03-24T16:05:18.121Z"
   },
   {
    "duration": 2053,
    "start_time": "2022-03-24T16:06:44.587Z"
   },
   {
    "duration": 173,
    "start_time": "2022-03-24T16:08:36.642Z"
   },
   {
    "duration": 124,
    "start_time": "2022-03-24T16:08:43.442Z"
   },
   {
    "duration": 10,
    "start_time": "2022-03-24T16:08:51.809Z"
   },
   {
    "duration": 9,
    "start_time": "2022-03-24T16:09:30.585Z"
   },
   {
    "duration": 8,
    "start_time": "2022-03-24T16:10:00.713Z"
   },
   {
    "duration": 2094,
    "start_time": "2022-03-24T16:11:55.760Z"
   },
   {
    "duration": 1881,
    "start_time": "2022-03-24T16:12:04.738Z"
   },
   {
    "duration": 8,
    "start_time": "2022-03-24T16:12:23.233Z"
   },
   {
    "duration": 41,
    "start_time": "2022-03-24T16:13:06.544Z"
   },
   {
    "duration": 9,
    "start_time": "2022-03-24T16:14:51.089Z"
   },
   {
    "duration": 9,
    "start_time": "2022-03-24T16:15:17.313Z"
   },
   {
    "duration": 17,
    "start_time": "2022-03-24T16:15:49.288Z"
   },
   {
    "duration": 1892,
    "start_time": "2022-03-24T16:16:15.335Z"
   },
   {
    "duration": 1897,
    "start_time": "2022-03-24T16:17:00.295Z"
   },
   {
    "duration": 28,
    "start_time": "2022-03-24T16:17:13.815Z"
   },
   {
    "duration": 38,
    "start_time": "2022-03-24T16:21:49.086Z"
   },
   {
    "duration": 28,
    "start_time": "2022-03-24T16:22:03.694Z"
   },
   {
    "duration": 18,
    "start_time": "2022-03-24T16:22:56.270Z"
   },
   {
    "duration": 354,
    "start_time": "2022-03-24T16:23:06.133Z"
   },
   {
    "duration": 4,
    "start_time": "2022-03-24T16:23:08.589Z"
   },
   {
    "duration": 569,
    "start_time": "2022-03-24T16:23:20.908Z"
   },
   {
    "duration": 4,
    "start_time": "2022-03-24T16:23:21.688Z"
   },
   {
    "duration": 5,
    "start_time": "2022-03-24T16:23:46.692Z"
   },
   {
    "duration": 31,
    "start_time": "2022-03-24T16:25:19.781Z"
   },
   {
    "duration": 30,
    "start_time": "2022-03-24T16:25:27.181Z"
   },
   {
    "duration": 43,
    "start_time": "2022-03-24T16:25:45.838Z"
   },
   {
    "duration": 33,
    "start_time": "2022-03-24T16:25:50.701Z"
   },
   {
    "duration": 35,
    "start_time": "2022-03-24T16:26:37.605Z"
   },
   {
    "duration": 29,
    "start_time": "2022-03-24T16:27:06.157Z"
   },
   {
    "duration": 31,
    "start_time": "2022-03-24T16:27:29.246Z"
   },
   {
    "duration": 108,
    "start_time": "2022-03-24T16:28:27.269Z"
   },
   {
    "duration": 119,
    "start_time": "2022-03-24T16:28:54.363Z"
   },
   {
    "duration": 30,
    "start_time": "2022-03-24T16:30:04.205Z"
   },
   {
    "duration": 32,
    "start_time": "2022-03-24T16:30:51.165Z"
   },
   {
    "duration": 33,
    "start_time": "2022-03-24T16:30:54.128Z"
   },
   {
    "duration": 35,
    "start_time": "2022-03-24T16:30:58.444Z"
   },
   {
    "duration": 31,
    "start_time": "2022-03-24T16:31:02.748Z"
   },
   {
    "duration": 34,
    "start_time": "2022-03-24T16:31:08.556Z"
   },
   {
    "duration": 80,
    "start_time": "2022-03-24T16:31:39.452Z"
   },
   {
    "duration": 79,
    "start_time": "2022-03-24T16:31:52.413Z"
   },
   {
    "duration": 80,
    "start_time": "2022-03-24T16:31:56.996Z"
   },
   {
    "duration": 81,
    "start_time": "2022-03-24T16:32:40.236Z"
   },
   {
    "duration": 33,
    "start_time": "2022-03-24T16:32:51.709Z"
   },
   {
    "duration": 76,
    "start_time": "2022-03-24T16:33:05.212Z"
   },
   {
    "duration": 76,
    "start_time": "2022-03-24T16:33:19.755Z"
   },
   {
    "duration": 79,
    "start_time": "2022-03-24T16:33:28.100Z"
   },
   {
    "duration": 102,
    "start_time": "2022-03-24T16:33:36.363Z"
   },
   {
    "duration": 75,
    "start_time": "2022-03-24T16:33:52.091Z"
   },
   {
    "duration": 74,
    "start_time": "2022-03-24T16:34:07.764Z"
   },
   {
    "duration": 75,
    "start_time": "2022-03-24T16:34:17.748Z"
   },
   {
    "duration": 75,
    "start_time": "2022-03-24T16:34:32.300Z"
   },
   {
    "duration": 374,
    "start_time": "2022-03-24T16:55:09.838Z"
   },
   {
    "duration": 11,
    "start_time": "2022-03-24T16:55:10.663Z"
   },
   {
    "duration": 4,
    "start_time": "2022-03-24T16:55:27.917Z"
   },
   {
    "duration": 362,
    "start_time": "2022-03-24T16:55:28.910Z"
   },
   {
    "duration": 11,
    "start_time": "2022-03-24T16:55:30.445Z"
   },
   {
    "duration": 359,
    "start_time": "2022-03-24T16:56:00.679Z"
   },
   {
    "duration": 9,
    "start_time": "2022-03-24T16:56:01.534Z"
   },
   {
    "duration": 373,
    "start_time": "2022-03-24T16:56:29.894Z"
   },
   {
    "duration": 10,
    "start_time": "2022-03-24T16:56:30.654Z"
   },
   {
    "duration": 361,
    "start_time": "2022-03-24T16:56:45.909Z"
   },
   {
    "duration": 28,
    "start_time": "2022-03-24T16:56:46.526Z"
   },
   {
    "duration": 362,
    "start_time": "2022-03-24T16:57:19.462Z"
   },
   {
    "duration": 30,
    "start_time": "2022-03-24T16:57:20.342Z"
   },
   {
    "duration": 80,
    "start_time": "2022-03-24T16:57:34.214Z"
   },
   {
    "duration": 9,
    "start_time": "2022-03-24T17:52:52.697Z"
   },
   {
    "duration": 60,
    "start_time": "2022-03-24T17:52:58.281Z"
   },
   {
    "duration": 6,
    "start_time": "2022-03-24T18:02:13.054Z"
   },
   {
    "duration": 13,
    "start_time": "2022-03-24T18:06:02.950Z"
   },
   {
    "duration": 2829,
    "start_time": "2022-03-24T18:08:19.967Z"
   },
   {
    "duration": 6,
    "start_time": "2022-03-24T18:08:37.149Z"
   },
   {
    "duration": 168,
    "start_time": "2022-03-24T18:08:55.058Z"
   },
   {
    "duration": 6,
    "start_time": "2022-03-24T18:16:01.611Z"
   },
   {
    "duration": 5,
    "start_time": "2022-03-24T18:16:55.171Z"
   },
   {
    "duration": 8,
    "start_time": "2022-03-24T18:23:53.049Z"
   },
   {
    "duration": 11,
    "start_time": "2022-03-24T18:27:32.200Z"
   },
   {
    "duration": 16,
    "start_time": "2022-03-24T18:27:36.912Z"
   },
   {
    "duration": 12,
    "start_time": "2022-03-24T18:29:42.761Z"
   },
   {
    "duration": 261,
    "start_time": "2022-03-24T18:30:25.616Z"
   },
   {
    "duration": 244,
    "start_time": "2022-03-24T18:31:43.800Z"
   },
   {
    "duration": 230,
    "start_time": "2022-03-24T18:32:19.816Z"
   },
   {
    "duration": 235,
    "start_time": "2022-03-24T18:32:28.192Z"
   },
   {
    "duration": 234,
    "start_time": "2022-03-24T18:33:35.232Z"
   },
   {
    "duration": 227,
    "start_time": "2022-03-24T18:33:46.287Z"
   },
   {
    "duration": 237,
    "start_time": "2022-03-24T18:34:51.087Z"
   },
   {
    "duration": 233,
    "start_time": "2022-03-24T18:35:00.463Z"
   },
   {
    "duration": 241,
    "start_time": "2022-03-24T18:35:08.343Z"
   },
   {
    "duration": 223,
    "start_time": "2022-03-24T18:35:11.711Z"
   },
   {
    "duration": 243,
    "start_time": "2022-03-24T18:35:15.311Z"
   },
   {
    "duration": 360,
    "start_time": "2022-03-24T18:35:18.311Z"
   },
   {
    "duration": 171,
    "start_time": "2022-03-24T18:37:38.366Z"
   },
   {
    "duration": 124,
    "start_time": "2022-03-24T18:51:33.459Z"
   },
   {
    "duration": 158,
    "start_time": "2022-03-24T18:51:40.610Z"
   },
   {
    "duration": 15,
    "start_time": "2022-03-24T18:51:49.547Z"
   },
   {
    "duration": 10,
    "start_time": "2022-03-24T18:52:10.547Z"
   },
   {
    "duration": 12,
    "start_time": "2022-03-24T18:52:16.116Z"
   },
   {
    "duration": 12,
    "start_time": "2022-03-24T18:54:02.524Z"
   },
   {
    "duration": 4,
    "start_time": "2022-03-24T18:56:26.362Z"
   },
   {
    "duration": 125,
    "start_time": "2022-03-24T18:58:58.768Z"
   },
   {
    "duration": 116,
    "start_time": "2022-03-24T19:00:41.609Z"
   },
   {
    "duration": 114,
    "start_time": "2022-03-24T19:01:06.464Z"
   },
   {
    "duration": 118,
    "start_time": "2022-03-24T19:01:20.657Z"
   },
   {
    "duration": 105,
    "start_time": "2022-03-24T19:02:44.105Z"
   },
   {
    "duration": 109,
    "start_time": "2022-03-24T19:02:55.503Z"
   },
   {
    "duration": 126,
    "start_time": "2022-03-24T19:04:10.431Z"
   },
   {
    "duration": 126,
    "start_time": "2022-03-24T19:05:52.449Z"
   },
   {
    "duration": 203,
    "start_time": "2022-03-24T19:06:04.584Z"
   },
   {
    "duration": 30,
    "start_time": "2022-03-24T19:07:37.487Z"
   },
   {
    "duration": 216,
    "start_time": "2022-03-24T19:09:37.086Z"
   },
   {
    "duration": 3,
    "start_time": "2022-03-24T19:15:13.813Z"
   },
   {
    "duration": 11,
    "start_time": "2022-03-24T19:17:04.652Z"
   },
   {
    "duration": 29,
    "start_time": "2022-03-24T19:18:36.137Z"
   },
   {
    "duration": 35,
    "start_time": "2022-03-24T19:19:16.085Z"
   },
   {
    "duration": 34,
    "start_time": "2022-03-24T19:20:26.445Z"
   },
   {
    "duration": 4,
    "start_time": "2022-03-24T19:21:38.757Z"
   },
   {
    "duration": 30,
    "start_time": "2022-03-24T19:22:41.505Z"
   },
   {
    "duration": 6,
    "start_time": "2022-03-24T19:22:54.224Z"
   },
   {
    "duration": 386,
    "start_time": "2022-03-24T19:22:54.232Z"
   },
   {
    "duration": 45,
    "start_time": "2022-03-24T19:22:55.132Z"
   },
   {
    "duration": 87,
    "start_time": "2022-03-24T19:22:56.139Z"
   },
   {
    "duration": 72,
    "start_time": "2022-03-24T19:22:58.755Z"
   },
   {
    "duration": 9,
    "start_time": "2022-03-24T19:23:00.011Z"
   },
   {
    "duration": 5,
    "start_time": "2022-03-24T19:23:00.853Z"
   },
   {
    "duration": 6,
    "start_time": "2022-03-24T19:23:01.578Z"
   },
   {
    "duration": 13,
    "start_time": "2022-03-24T19:23:05.515Z"
   },
   {
    "duration": 374,
    "start_time": "2022-03-24T19:23:07.891Z"
   },
   {
    "duration": 10,
    "start_time": "2022-03-24T19:23:09.835Z"
   },
   {
    "duration": 161,
    "start_time": "2022-03-24T19:23:10.843Z"
   },
   {
    "duration": 42,
    "start_time": "2022-03-24T19:23:11.764Z"
   },
   {
    "duration": 116,
    "start_time": "2022-03-24T19:23:13.042Z"
   },
   {
    "duration": 58,
    "start_time": "2022-03-24T19:23:13.875Z"
   },
   {
    "duration": 84,
    "start_time": "2022-03-24T19:23:14.401Z"
   },
   {
    "duration": 3,
    "start_time": "2022-03-24T19:23:15.754Z"
   },
   {
    "duration": 37,
    "start_time": "2022-03-24T19:23:16.660Z"
   },
   {
    "duration": 23,
    "start_time": "2022-03-24T19:23:57.171Z"
   },
   {
    "duration": 26,
    "start_time": "2022-03-24T19:26:19.138Z"
   },
   {
    "duration": 14,
    "start_time": "2022-03-24T19:33:12.382Z"
   },
   {
    "duration": 7,
    "start_time": "2022-03-24T19:33:31.168Z"
   },
   {
    "duration": 13,
    "start_time": "2022-03-24T19:33:59.648Z"
   },
   {
    "duration": 110,
    "start_time": "2022-03-24T19:35:23.752Z"
   },
   {
    "duration": 114,
    "start_time": "2022-03-24T19:39:04.055Z"
   },
   {
    "duration": 124,
    "start_time": "2022-03-24T19:39:13.143Z"
   },
   {
    "duration": 126,
    "start_time": "2022-03-24T19:39:19.783Z"
   },
   {
    "duration": 115,
    "start_time": "2022-03-24T19:39:57.552Z"
   },
   {
    "duration": 224,
    "start_time": "2022-03-24T19:40:23.919Z"
   },
   {
    "duration": 4,
    "start_time": "2022-03-24T20:07:47.341Z"
   },
   {
    "duration": 3,
    "start_time": "2022-03-24T20:08:02.648Z"
   },
   {
    "duration": 3,
    "start_time": "2022-03-24T20:08:04.031Z"
   },
   {
    "duration": 12,
    "start_time": "2022-03-24T20:08:56.279Z"
   },
   {
    "duration": 3,
    "start_time": "2022-03-24T20:09:07.143Z"
   },
   {
    "duration": 14,
    "start_time": "2022-03-24T20:09:08.064Z"
   },
   {
    "duration": 10,
    "start_time": "2022-03-24T20:09:20.318Z"
   },
   {
    "duration": 15,
    "start_time": "2022-03-24T20:09:40.175Z"
   },
   {
    "duration": 12,
    "start_time": "2022-03-24T20:09:40.711Z"
   },
   {
    "duration": 22,
    "start_time": "2022-03-24T20:09:49.630Z"
   },
   {
    "duration": 9,
    "start_time": "2022-03-24T20:09:53.960Z"
   },
   {
    "duration": 3,
    "start_time": "2022-03-24T20:13:36.366Z"
   },
   {
    "duration": 4,
    "start_time": "2022-03-24T20:14:04.629Z"
   },
   {
    "duration": 350,
    "start_time": "2022-03-24T20:14:05.534Z"
   },
   {
    "duration": 31,
    "start_time": "2022-03-24T20:14:06.622Z"
   },
   {
    "duration": 84,
    "start_time": "2022-03-24T20:14:07.541Z"
   },
   {
    "duration": 73,
    "start_time": "2022-03-24T20:14:09.797Z"
   },
   {
    "duration": 8,
    "start_time": "2022-03-24T20:14:10.902Z"
   },
   {
    "duration": 6,
    "start_time": "2022-03-24T20:14:11.725Z"
   },
   {
    "duration": 4,
    "start_time": "2022-03-24T20:14:12.574Z"
   },
   {
    "duration": 8,
    "start_time": "2022-03-24T20:14:13.797Z"
   },
   {
    "duration": 226,
    "start_time": "2022-03-24T20:14:15.014Z"
   },
   {
    "duration": 8,
    "start_time": "2022-03-24T20:14:16.988Z"
   },
   {
    "duration": 116,
    "start_time": "2022-03-24T20:14:18.078Z"
   },
   {
    "duration": 32,
    "start_time": "2022-03-24T20:14:19.119Z"
   },
   {
    "duration": 120,
    "start_time": "2022-03-24T20:14:20.157Z"
   },
   {
    "duration": 63,
    "start_time": "2022-03-24T20:14:20.790Z"
   },
   {
    "duration": 81,
    "start_time": "2022-03-24T20:14:21.749Z"
   },
   {
    "duration": 29,
    "start_time": "2022-03-24T20:14:23.133Z"
   },
   {
    "duration": 13,
    "start_time": "2022-03-24T20:14:24.772Z"
   },
   {
    "duration": 15,
    "start_time": "2022-03-24T20:14:25.262Z"
   },
   {
    "duration": 408,
    "start_time": "2022-03-24T20:14:26.302Z"
   },
   {
    "duration": 4,
    "start_time": "2022-03-24T20:14:29.246Z"
   },
   {
    "duration": 5,
    "start_time": "2022-03-24T20:14:31.526Z"
   },
   {
    "duration": 39,
    "start_time": "2022-03-24T20:14:34.070Z"
   },
   {
    "duration": 13,
    "start_time": "2022-03-24T20:14:35.013Z"
   },
   {
    "duration": 3,
    "start_time": "2022-03-24T20:15:17.670Z"
   },
   {
    "duration": 22,
    "start_time": "2022-03-24T20:15:47.725Z"
   },
   {
    "duration": 2,
    "start_time": "2022-03-24T20:15:48.102Z"
   },
   {
    "duration": 4,
    "start_time": "2022-03-24T20:15:58.509Z"
   },
   {
    "duration": 13,
    "start_time": "2022-03-24T20:16:08.693Z"
   },
   {
    "duration": 17,
    "start_time": "2022-03-24T20:17:11.525Z"
   },
   {
    "duration": 11,
    "start_time": "2022-03-24T20:17:17.430Z"
   },
   {
    "duration": 9,
    "start_time": "2022-03-24T20:17:32.750Z"
   },
   {
    "duration": 8,
    "start_time": "2022-03-24T20:18:01.158Z"
   },
   {
    "duration": 9,
    "start_time": "2022-03-24T20:18:21.101Z"
   },
   {
    "duration": 14,
    "start_time": "2022-03-24T20:18:28.229Z"
   },
   {
    "duration": 10,
    "start_time": "2022-03-24T20:18:28.612Z"
   },
   {
    "duration": 9,
    "start_time": "2022-03-24T20:18:29.381Z"
   },
   {
    "duration": 8,
    "start_time": "2022-03-24T20:20:05.133Z"
   },
   {
    "duration": 9,
    "start_time": "2022-03-24T20:20:36.461Z"
   },
   {
    "duration": 7,
    "start_time": "2022-03-24T20:20:46.293Z"
   },
   {
    "duration": 11,
    "start_time": "2022-03-24T20:21:00.718Z"
   },
   {
    "duration": 12,
    "start_time": "2022-03-24T20:22:43.563Z"
   },
   {
    "duration": 12,
    "start_time": "2022-03-24T20:23:17.843Z"
   },
   {
    "duration": 11,
    "start_time": "2022-03-24T20:23:22.836Z"
   },
   {
    "duration": 17,
    "start_time": "2022-03-24T20:24:04.507Z"
   },
   {
    "duration": 25,
    "start_time": "2022-03-24T20:24:11.548Z"
   },
   {
    "duration": 14,
    "start_time": "2022-03-24T20:24:15.619Z"
   },
   {
    "duration": 9,
    "start_time": "2022-03-24T20:24:19.916Z"
   },
   {
    "duration": 13,
    "start_time": "2022-03-24T20:24:23.068Z"
   },
   {
    "duration": 13,
    "start_time": "2022-03-24T20:24:40.645Z"
   },
   {
    "duration": 38,
    "start_time": "2022-03-24T20:26:47.763Z"
   },
   {
    "duration": 46,
    "start_time": "2022-03-24T20:27:40.987Z"
   },
   {
    "duration": 38,
    "start_time": "2022-03-24T20:27:51.954Z"
   },
   {
    "duration": 38,
    "start_time": "2022-03-24T20:28:03.435Z"
   },
   {
    "duration": 39,
    "start_time": "2022-03-24T20:28:12.202Z"
   },
   {
    "duration": 10,
    "start_time": "2022-03-24T20:28:41.402Z"
   },
   {
    "duration": 366,
    "start_time": "2022-03-24T20:28:46.498Z"
   },
   {
    "duration": 4,
    "start_time": "2022-03-24T20:29:03.691Z"
   },
   {
    "duration": 39,
    "start_time": "2022-03-24T20:29:04.251Z"
   },
   {
    "duration": 808,
    "start_time": "2022-03-24T20:29:05.027Z"
   },
   {
    "duration": 247,
    "start_time": "2022-03-24T20:29:34.538Z"
   },
   {
    "duration": 751,
    "start_time": "2022-03-24T20:30:48.586Z"
   },
   {
    "duration": 828,
    "start_time": "2022-03-24T20:31:09.619Z"
   },
   {
    "duration": 13,
    "start_time": "2022-03-24T20:32:44.874Z"
   },
   {
    "duration": 915,
    "start_time": "2022-03-24T20:32:59.438Z"
   },
   {
    "duration": 828,
    "start_time": "2022-03-24T20:34:01.065Z"
   },
   {
    "duration": 213,
    "start_time": "2022-03-24T20:34:18.392Z"
   },
   {
    "duration": 117,
    "start_time": "2022-03-24T20:35:25.426Z"
   },
   {
    "duration": 11,
    "start_time": "2022-03-24T20:35:30.313Z"
   },
   {
    "duration": 283,
    "start_time": "2022-03-24T20:35:35.129Z"
   },
   {
    "duration": 738,
    "start_time": "2022-03-24T20:35:41.107Z"
   },
   {
    "duration": 21,
    "start_time": "2022-03-24T20:36:50.065Z"
   },
   {
    "duration": 1123,
    "start_time": "2022-03-24T20:37:03.665Z"
   },
   {
    "duration": 318,
    "start_time": "2022-03-24T20:38:04.619Z"
   },
   {
    "duration": 1217,
    "start_time": "2022-03-24T20:38:18.082Z"
   },
   {
    "duration": 27,
    "start_time": "2022-03-24T20:39:47.593Z"
   },
   {
    "duration": 29,
    "start_time": "2022-03-24T20:40:27.017Z"
   },
   {
    "duration": 740,
    "start_time": "2022-03-24T20:40:34.112Z"
   },
   {
    "duration": 3,
    "start_time": "2022-03-24T20:41:41.992Z"
   },
   {
    "duration": 5,
    "start_time": "2022-03-24T20:42:43.663Z"
   },
   {
    "duration": 9,
    "start_time": "2022-03-24T20:42:54.298Z"
   },
   {
    "duration": 5,
    "start_time": "2022-03-24T20:43:19.369Z"
   },
   {
    "duration": 8,
    "start_time": "2022-03-24T20:43:23.551Z"
   },
   {
    "duration": 5,
    "start_time": "2022-03-24T20:43:32.336Z"
   },
   {
    "duration": 9,
    "start_time": "2022-03-24T20:43:38.271Z"
   },
   {
    "duration": 352,
    "start_time": "2022-03-24T20:45:43.094Z"
   },
   {
    "duration": 14,
    "start_time": "2022-03-24T20:46:07.223Z"
   },
   {
    "duration": 359,
    "start_time": "2022-03-24T20:46:12.951Z"
   },
   {
    "duration": 890,
    "start_time": "2022-03-24T20:47:33.519Z"
   },
   {
    "duration": 870,
    "start_time": "2022-03-24T20:47:55.477Z"
   },
   {
    "duration": 4,
    "start_time": "2022-03-24T20:49:18.901Z"
   },
   {
    "duration": 14,
    "start_time": "2022-03-24T20:49:34.749Z"
   },
   {
    "duration": 4,
    "start_time": "2022-03-24T20:50:23.324Z"
   },
   {
    "duration": 15,
    "start_time": "2022-03-24T20:50:31.293Z"
   },
   {
    "duration": 4,
    "start_time": "2022-03-24T20:50:38.902Z"
   },
   {
    "duration": 213,
    "start_time": "2022-03-24T20:50:42.606Z"
   },
   {
    "duration": 784,
    "start_time": "2022-03-24T20:52:15.997Z"
   },
   {
    "duration": 931,
    "start_time": "2022-03-24T20:54:12.878Z"
   },
   {
    "duration": 792,
    "start_time": "2022-03-24T20:56:22.486Z"
   },
   {
    "duration": 216,
    "start_time": "2022-03-24T21:00:39.411Z"
   },
   {
    "duration": 497,
    "start_time": "2022-03-24T21:02:15.779Z"
   },
   {
    "duration": 364,
    "start_time": "2022-03-24T21:02:39.996Z"
   },
   {
    "duration": 698,
    "start_time": "2022-03-24T21:03:12.283Z"
   },
   {
    "duration": 789,
    "start_time": "2022-03-24T21:04:18.644Z"
   },
   {
    "duration": 11,
    "start_time": "2022-03-24T21:24:13.821Z"
   },
   {
    "duration": 40,
    "start_time": "2022-03-24T21:24:24.377Z"
   },
   {
    "duration": 4,
    "start_time": "2022-03-24T21:40:59.258Z"
   },
   {
    "duration": 5,
    "start_time": "2022-03-24T21:41:26.576Z"
   },
   {
    "duration": 4,
    "start_time": "2022-03-24T21:41:56.818Z"
   },
   {
    "duration": 6,
    "start_time": "2022-03-24T21:42:20.553Z"
   },
   {
    "duration": 14,
    "start_time": "2022-03-24T21:50:18.497Z"
   },
   {
    "duration": 1429,
    "start_time": "2022-03-24T21:50:50.344Z"
   },
   {
    "duration": 13,
    "start_time": "2022-03-24T21:51:36.489Z"
   },
   {
    "duration": 5,
    "start_time": "2022-03-24T21:51:37.168Z"
   },
   {
    "duration": 1117,
    "start_time": "2022-03-24T22:07:32.360Z"
   },
   {
    "duration": 377,
    "start_time": "2022-03-24T22:07:33.478Z"
   },
   {
    "duration": 33,
    "start_time": "2022-03-24T22:07:33.857Z"
   },
   {
    "duration": 101,
    "start_time": "2022-03-24T22:07:33.891Z"
   },
   {
    "duration": 81,
    "start_time": "2022-03-24T22:07:33.994Z"
   },
   {
    "duration": 14,
    "start_time": "2022-03-24T22:07:34.077Z"
   },
   {
    "duration": 56,
    "start_time": "2022-03-24T22:07:34.093Z"
   },
   {
    "duration": 53,
    "start_time": "2022-03-24T22:07:34.152Z"
   },
   {
    "duration": 57,
    "start_time": "2022-03-24T22:07:34.207Z"
   },
   {
    "duration": 240,
    "start_time": "2022-03-24T22:07:34.266Z"
   },
   {
    "duration": 7,
    "start_time": "2022-03-24T22:07:34.508Z"
   },
   {
    "duration": 127,
    "start_time": "2022-03-24T22:07:34.516Z"
   },
   {
    "duration": 35,
    "start_time": "2022-03-24T22:07:34.645Z"
   },
   {
    "duration": 155,
    "start_time": "2022-03-24T22:07:34.683Z"
   },
   {
    "duration": 83,
    "start_time": "2022-03-24T22:07:34.839Z"
   },
   {
    "duration": 123,
    "start_time": "2022-03-24T22:07:34.923Z"
   },
   {
    "duration": 28,
    "start_time": "2022-03-24T22:07:35.048Z"
   },
   {
    "duration": 16,
    "start_time": "2022-03-24T22:07:35.078Z"
   },
   {
    "duration": 42,
    "start_time": "2022-03-24T22:07:35.095Z"
   },
   {
    "duration": 219,
    "start_time": "2022-03-24T22:07:35.139Z"
   },
   {
    "duration": 3,
    "start_time": "2022-03-24T22:07:35.359Z"
   },
   {
    "duration": 33,
    "start_time": "2022-03-24T22:07:35.364Z"
   },
   {
    "duration": 15,
    "start_time": "2022-03-24T22:07:35.398Z"
   },
   {
    "duration": 35,
    "start_time": "2022-03-24T22:07:35.414Z"
   },
   {
    "duration": 36,
    "start_time": "2022-03-24T22:07:35.451Z"
   },
   {
    "duration": 19,
    "start_time": "2022-03-24T22:07:35.488Z"
   },
   {
    "duration": 58,
    "start_time": "2022-03-24T22:07:35.509Z"
   },
   {
    "duration": 800,
    "start_time": "2022-03-24T22:07:35.569Z"
   },
   {
    "duration": 592,
    "start_time": "2022-03-24T22:07:36.370Z"
   },
   {
    "duration": 4,
    "start_time": "2022-03-24T22:07:36.964Z"
   },
   {
    "duration": 14,
    "start_time": "2022-03-24T22:07:36.969Z"
   },
   {
    "duration": 16,
    "start_time": "2022-03-24T22:07:36.984Z"
   },
   {
    "duration": 4,
    "start_time": "2022-03-24T22:07:37.002Z"
   },
   {
    "duration": 74,
    "start_time": "2022-04-04T23:44:06.007Z"
   },
   {
    "duration": 1677,
    "start_time": "2022-04-04T23:44:16.068Z"
   },
   {
    "duration": 511,
    "start_time": "2022-04-04T23:44:17.747Z"
   },
   {
    "duration": 53,
    "start_time": "2022-04-04T23:44:18.260Z"
   },
   {
    "duration": 171,
    "start_time": "2022-04-04T23:44:18.316Z"
   },
   {
    "duration": 111,
    "start_time": "2022-04-04T23:44:18.490Z"
   },
   {
    "duration": 16,
    "start_time": "2022-04-04T23:44:18.603Z"
   },
   {
    "duration": 9,
    "start_time": "2022-04-04T23:44:18.621Z"
   },
   {
    "duration": 12,
    "start_time": "2022-04-04T23:44:18.632Z"
   },
   {
    "duration": 41,
    "start_time": "2022-04-04T23:44:18.646Z"
   },
   {
    "duration": 379,
    "start_time": "2022-04-04T23:44:18.690Z"
   },
   {
    "duration": 19,
    "start_time": "2022-04-04T23:44:19.071Z"
   },
   {
    "duration": 179,
    "start_time": "2022-04-04T23:44:19.092Z"
   },
   {
    "duration": 60,
    "start_time": "2022-04-04T23:44:19.274Z"
   },
   {
    "duration": 230,
    "start_time": "2022-04-04T23:44:19.336Z"
   },
   {
    "duration": 122,
    "start_time": "2022-04-04T23:44:19.569Z"
   },
   {
    "duration": 174,
    "start_time": "2022-04-04T23:44:19.693Z"
   },
   {
    "duration": 50,
    "start_time": "2022-04-04T23:44:19.869Z"
   },
   {
    "duration": 25,
    "start_time": "2022-04-04T23:44:19.921Z"
   },
   {
    "duration": 37,
    "start_time": "2022-04-04T23:44:19.949Z"
   },
   {
    "duration": 544,
    "start_time": "2022-04-04T23:44:19.988Z"
   },
   {
    "duration": 6,
    "start_time": "2022-04-04T23:44:20.534Z"
   },
   {
    "duration": 15,
    "start_time": "2022-04-04T23:44:20.542Z"
   },
   {
    "duration": 42,
    "start_time": "2022-04-04T23:44:20.559Z"
   },
   {
    "duration": 22,
    "start_time": "2022-04-04T23:44:20.603Z"
   },
   {
    "duration": 33,
    "start_time": "2022-04-04T23:44:20.627Z"
   },
   {
    "duration": 59,
    "start_time": "2022-04-04T23:44:20.662Z"
   },
   {
    "duration": 32,
    "start_time": "2022-04-04T23:44:20.723Z"
   },
   {
    "duration": 74,
    "start_time": "2022-04-04T23:44:20.759Z"
   },
   {
    "duration": 1176,
    "start_time": "2022-04-04T23:44:20.835Z"
   },
   {
    "duration": 1079,
    "start_time": "2022-04-04T23:44:22.013Z"
   },
   {
    "duration": 5,
    "start_time": "2022-04-04T23:44:23.094Z"
   },
   {
    "duration": 12,
    "start_time": "2022-04-04T23:44:23.101Z"
   },
   {
    "duration": 22,
    "start_time": "2022-04-04T23:44:23.115Z"
   },
   {
    "duration": 6,
    "start_time": "2022-04-04T23:44:23.139Z"
   },
   {
    "duration": 6,
    "start_time": "2022-04-04T23:44:54.187Z"
   },
   {
    "duration": 1550,
    "start_time": "2022-04-04T23:45:09.396Z"
   },
   {
    "duration": 553,
    "start_time": "2022-04-04T23:45:10.949Z"
   },
   {
    "duration": 59,
    "start_time": "2022-04-04T23:45:11.504Z"
   },
   {
    "duration": 141,
    "start_time": "2022-04-04T23:45:11.584Z"
   },
   {
    "duration": 128,
    "start_time": "2022-04-04T23:45:11.728Z"
   },
   {
    "duration": 18,
    "start_time": "2022-04-04T23:45:11.858Z"
   },
   {
    "duration": 8,
    "start_time": "2022-04-04T23:45:11.883Z"
   },
   {
    "duration": 15,
    "start_time": "2022-04-04T23:45:11.893Z"
   },
   {
    "duration": 18,
    "start_time": "2022-04-04T23:45:11.911Z"
   },
   {
    "duration": 428,
    "start_time": "2022-04-04T23:45:11.931Z"
   },
   {
    "duration": 24,
    "start_time": "2022-04-04T23:45:12.361Z"
   },
   {
    "duration": 173,
    "start_time": "2022-04-04T23:45:12.387Z"
   },
   {
    "duration": 58,
    "start_time": "2022-04-04T23:45:12.563Z"
   },
   {
    "duration": 234,
    "start_time": "2022-04-04T23:45:12.625Z"
   },
   {
    "duration": 124,
    "start_time": "2022-04-04T23:45:12.861Z"
   },
   {
    "duration": 170,
    "start_time": "2022-04-04T23:45:12.987Z"
   },
   {
    "duration": 55,
    "start_time": "2022-04-04T23:45:13.160Z"
   },
   {
    "duration": 17,
    "start_time": "2022-04-04T23:45:13.217Z"
   },
   {
    "duration": 23,
    "start_time": "2022-04-04T23:45:13.237Z"
   },
   {
    "duration": 452,
    "start_time": "2022-04-04T23:45:13.284Z"
   },
   {
    "duration": 6,
    "start_time": "2022-04-04T23:45:13.738Z"
   },
   {
    "duration": 10,
    "start_time": "2022-04-04T23:45:13.746Z"
   },
   {
    "duration": 0,
    "start_time": "2022-04-04T23:45:13.759Z"
   },
   {
    "duration": 0,
    "start_time": "2022-04-04T23:45:13.760Z"
   },
   {
    "duration": 0,
    "start_time": "2022-04-04T23:45:13.761Z"
   },
   {
    "duration": 0,
    "start_time": "2022-04-04T23:45:13.763Z"
   },
   {
    "duration": 0,
    "start_time": "2022-04-04T23:45:13.785Z"
   },
   {
    "duration": 0,
    "start_time": "2022-04-04T23:45:13.786Z"
   },
   {
    "duration": 0,
    "start_time": "2022-04-04T23:45:13.788Z"
   },
   {
    "duration": 0,
    "start_time": "2022-04-04T23:45:13.789Z"
   },
   {
    "duration": 0,
    "start_time": "2022-04-04T23:45:13.791Z"
   },
   {
    "duration": 0,
    "start_time": "2022-04-04T23:45:13.792Z"
   },
   {
    "duration": 0,
    "start_time": "2022-04-04T23:45:13.794Z"
   },
   {
    "duration": 0,
    "start_time": "2022-04-04T23:45:13.795Z"
   },
   {
    "duration": 0,
    "start_time": "2022-04-04T23:45:13.797Z"
   },
   {
    "duration": 1522,
    "start_time": "2022-04-04T23:50:05.807Z"
   },
   {
    "duration": 526,
    "start_time": "2022-04-04T23:50:07.332Z"
   },
   {
    "duration": 56,
    "start_time": "2022-04-04T23:50:07.860Z"
   },
   {
    "duration": 147,
    "start_time": "2022-04-04T23:50:07.919Z"
   },
   {
    "duration": 116,
    "start_time": "2022-04-04T23:50:08.086Z"
   },
   {
    "duration": 16,
    "start_time": "2022-04-04T23:50:08.205Z"
   },
   {
    "duration": 8,
    "start_time": "2022-04-04T23:50:08.224Z"
   },
   {
    "duration": 8,
    "start_time": "2022-04-04T23:50:08.235Z"
   },
   {
    "duration": 45,
    "start_time": "2022-04-04T23:50:08.246Z"
   },
   {
    "duration": 384,
    "start_time": "2022-04-04T23:50:08.294Z"
   },
   {
    "duration": 11,
    "start_time": "2022-04-04T23:50:08.684Z"
   },
   {
    "duration": 176,
    "start_time": "2022-04-04T23:50:08.697Z"
   },
   {
    "duration": 54,
    "start_time": "2022-04-04T23:50:08.876Z"
   },
   {
    "duration": 237,
    "start_time": "2022-04-04T23:50:08.934Z"
   },
   {
    "duration": 125,
    "start_time": "2022-04-04T23:50:09.173Z"
   },
   {
    "duration": 175,
    "start_time": "2022-04-04T23:50:09.300Z"
   },
   {
    "duration": 43,
    "start_time": "2022-04-04T23:50:09.477Z"
   },
   {
    "duration": 18,
    "start_time": "2022-04-04T23:50:09.522Z"
   },
   {
    "duration": 50,
    "start_time": "2022-04-04T23:50:09.542Z"
   },
   {
    "duration": 466,
    "start_time": "2022-04-04T23:50:09.594Z"
   },
   {
    "duration": 22,
    "start_time": "2022-04-04T23:50:10.062Z"
   },
   {
    "duration": 5,
    "start_time": "2022-04-04T23:50:10.086Z"
   },
   {
    "duration": 26,
    "start_time": "2022-04-04T23:50:10.093Z"
   },
   {
    "duration": 13,
    "start_time": "2022-04-04T23:50:10.122Z"
   },
   {
    "duration": 45,
    "start_time": "2022-04-04T23:50:10.139Z"
   },
   {
    "duration": 20,
    "start_time": "2022-04-04T23:50:10.187Z"
   },
   {
    "duration": 9,
    "start_time": "2022-04-04T23:50:10.210Z"
   },
   {
    "duration": 93,
    "start_time": "2022-04-04T23:50:10.221Z"
   },
   {
    "duration": 1279,
    "start_time": "2022-04-04T23:50:10.316Z"
   },
   {
    "duration": 1068,
    "start_time": "2022-04-04T23:50:11.597Z"
   },
   {
    "duration": 16,
    "start_time": "2022-04-04T23:50:12.667Z"
   },
   {
    "duration": 21,
    "start_time": "2022-04-04T23:50:12.685Z"
   },
   {
    "duration": 20,
    "start_time": "2022-04-04T23:50:12.708Z"
   },
   {
    "duration": 6,
    "start_time": "2022-04-04T23:50:12.730Z"
   },
   {
    "duration": 111,
    "start_time": "2022-04-04T23:51:51.544Z"
   },
   {
    "duration": 158,
    "start_time": "2022-04-04T23:57:48.574Z"
   },
   {
    "duration": 22,
    "start_time": "2022-04-04T23:58:03.861Z"
   },
   {
    "duration": 23,
    "start_time": "2022-04-04T23:58:17.911Z"
   },
   {
    "duration": 20,
    "start_time": "2022-04-04T23:58:23.959Z"
   },
   {
    "duration": 34,
    "start_time": "2022-04-04T23:58:36.135Z"
   },
   {
    "duration": 38,
    "start_time": "2022-04-04T23:58:57.152Z"
   },
   {
    "duration": 34,
    "start_time": "2022-04-04T23:59:05.400Z"
   },
   {
    "duration": 28,
    "start_time": "2022-04-04T23:59:15.024Z"
   },
   {
    "duration": 29,
    "start_time": "2022-04-04T23:59:23.161Z"
   },
   {
    "duration": 25,
    "start_time": "2022-04-04T23:59:32.145Z"
   },
   {
    "duration": 26,
    "start_time": "2022-04-04T23:59:40.506Z"
   },
   {
    "duration": 12,
    "start_time": "2022-04-05T00:03:03.880Z"
   },
   {
    "duration": 56,
    "start_time": "2022-04-05T00:03:16.737Z"
   },
   {
    "duration": 54,
    "start_time": "2022-04-05T00:05:22.943Z"
   },
   {
    "duration": 116,
    "start_time": "2022-04-05T00:06:35.953Z"
   },
   {
    "duration": 55,
    "start_time": "2022-04-05T00:06:45.641Z"
   },
   {
    "duration": 59,
    "start_time": "2022-04-05T00:07:08.001Z"
   },
   {
    "duration": 21,
    "start_time": "2022-04-05T00:12:03.758Z"
   },
   {
    "duration": 35,
    "start_time": "2022-04-05T00:12:04.644Z"
   },
   {
    "duration": 46,
    "start_time": "2022-04-05T00:15:16.252Z"
   },
   {
    "duration": 17,
    "start_time": "2022-04-05T00:18:34.748Z"
   },
   {
    "duration": 7,
    "start_time": "2022-04-05T00:19:18.052Z"
   },
   {
    "duration": 23,
    "start_time": "2022-04-05T00:19:32.324Z"
   },
   {
    "duration": 280,
    "start_time": "2022-04-05T00:19:38.861Z"
   },
   {
    "duration": 379,
    "start_time": "2022-04-05T00:20:04.221Z"
   },
   {
    "duration": 273,
    "start_time": "2022-04-05T00:20:13.863Z"
   },
   {
    "duration": 1516,
    "start_time": "2022-04-05T00:26:19.218Z"
   },
   {
    "duration": 521,
    "start_time": "2022-04-05T00:26:20.737Z"
   },
   {
    "duration": 55,
    "start_time": "2022-04-05T00:26:21.261Z"
   },
   {
    "duration": 144,
    "start_time": "2022-04-05T00:26:21.318Z"
   },
   {
    "duration": 108,
    "start_time": "2022-04-05T00:26:21.485Z"
   },
   {
    "duration": 16,
    "start_time": "2022-04-05T00:26:21.595Z"
   },
   {
    "duration": 8,
    "start_time": "2022-04-05T00:26:21.613Z"
   },
   {
    "duration": 5,
    "start_time": "2022-04-05T00:26:21.623Z"
   },
   {
    "duration": 18,
    "start_time": "2022-04-05T00:26:21.630Z"
   },
   {
    "duration": 389,
    "start_time": "2022-04-05T00:26:21.651Z"
   },
   {
    "duration": 9,
    "start_time": "2022-04-05T00:26:22.043Z"
   },
   {
    "duration": 182,
    "start_time": "2022-04-05T00:26:22.054Z"
   },
   {
    "duration": 66,
    "start_time": "2022-04-05T00:26:22.238Z"
   },
   {
    "duration": 219,
    "start_time": "2022-04-05T00:26:22.308Z"
   },
   {
    "duration": 121,
    "start_time": "2022-04-05T00:26:22.529Z"
   },
   {
    "duration": 172,
    "start_time": "2022-04-05T00:26:22.652Z"
   },
   {
    "duration": 39,
    "start_time": "2022-04-05T00:26:22.826Z"
   },
   {
    "duration": 32,
    "start_time": "2022-04-05T00:26:22.867Z"
   },
   {
    "duration": 24,
    "start_time": "2022-04-05T00:26:22.901Z"
   },
   {
    "duration": 456,
    "start_time": "2022-04-05T00:26:22.927Z"
   },
   {
    "duration": 107,
    "start_time": "2022-04-05T00:26:23.385Z"
   },
   {
    "duration": 0,
    "start_time": "2022-04-05T00:26:23.494Z"
   },
   {
    "duration": 0,
    "start_time": "2022-04-05T00:26:23.495Z"
   },
   {
    "duration": 0,
    "start_time": "2022-04-05T00:26:23.497Z"
   },
   {
    "duration": 0,
    "start_time": "2022-04-05T00:26:23.498Z"
   },
   {
    "duration": 0,
    "start_time": "2022-04-05T00:26:23.500Z"
   },
   {
    "duration": 0,
    "start_time": "2022-04-05T00:26:23.502Z"
   },
   {
    "duration": 0,
    "start_time": "2022-04-05T00:26:23.504Z"
   },
   {
    "duration": 0,
    "start_time": "2022-04-05T00:26:23.505Z"
   },
   {
    "duration": 0,
    "start_time": "2022-04-05T00:26:23.506Z"
   },
   {
    "duration": 0,
    "start_time": "2022-04-05T00:26:23.508Z"
   },
   {
    "duration": 0,
    "start_time": "2022-04-05T00:26:23.509Z"
   },
   {
    "duration": 0,
    "start_time": "2022-04-05T00:26:23.511Z"
   },
   {
    "duration": 0,
    "start_time": "2022-04-05T00:26:23.512Z"
   },
   {
    "duration": 0,
    "start_time": "2022-04-05T00:26:23.514Z"
   },
   {
    "duration": 0,
    "start_time": "2022-04-05T00:26:23.515Z"
   },
   {
    "duration": 0,
    "start_time": "2022-04-05T00:26:23.517Z"
   },
   {
    "duration": 0,
    "start_time": "2022-04-05T00:26:23.518Z"
   },
   {
    "duration": 0,
    "start_time": "2022-04-05T00:26:23.519Z"
   },
   {
    "duration": 0,
    "start_time": "2022-04-05T00:26:23.521Z"
   },
   {
    "duration": 0,
    "start_time": "2022-04-05T00:26:23.522Z"
   },
   {
    "duration": 0,
    "start_time": "2022-04-05T00:26:23.524Z"
   },
   {
    "duration": 1530,
    "start_time": "2022-04-05T00:26:51.416Z"
   },
   {
    "duration": 546,
    "start_time": "2022-04-05T00:26:52.949Z"
   },
   {
    "duration": 59,
    "start_time": "2022-04-05T00:26:53.497Z"
   },
   {
    "duration": 140,
    "start_time": "2022-04-05T00:26:53.585Z"
   },
   {
    "duration": 124,
    "start_time": "2022-04-05T00:26:53.728Z"
   },
   {
    "duration": 18,
    "start_time": "2022-04-05T00:26:53.854Z"
   },
   {
    "duration": 17,
    "start_time": "2022-04-05T00:26:53.874Z"
   },
   {
    "duration": 9,
    "start_time": "2022-04-05T00:26:53.894Z"
   },
   {
    "duration": 19,
    "start_time": "2022-04-05T00:26:53.906Z"
   },
   {
    "duration": 394,
    "start_time": "2022-04-05T00:26:53.928Z"
   },
   {
    "duration": 11,
    "start_time": "2022-04-05T00:26:54.324Z"
   },
   {
    "duration": 195,
    "start_time": "2022-04-05T00:26:54.338Z"
   },
   {
    "duration": 79,
    "start_time": "2022-04-05T00:26:54.535Z"
   },
   {
    "duration": 227,
    "start_time": "2022-04-05T00:26:54.621Z"
   },
   {
    "duration": 121,
    "start_time": "2022-04-05T00:26:54.850Z"
   },
   {
    "duration": 172,
    "start_time": "2022-04-05T00:26:54.974Z"
   },
   {
    "duration": 58,
    "start_time": "2022-04-05T00:26:55.148Z"
   },
   {
    "duration": 18,
    "start_time": "2022-04-05T00:26:55.208Z"
   },
   {
    "duration": 26,
    "start_time": "2022-04-05T00:26:55.228Z"
   },
   {
    "duration": 473,
    "start_time": "2022-04-05T00:26:55.256Z"
   },
   {
    "duration": 6,
    "start_time": "2022-04-05T00:26:55.731Z"
   },
   {
    "duration": 7,
    "start_time": "2022-04-05T00:26:55.740Z"
   },
   {
    "duration": 49,
    "start_time": "2022-04-05T00:26:55.749Z"
   },
   {
    "duration": 13,
    "start_time": "2022-04-05T00:26:55.800Z"
   },
   {
    "duration": 44,
    "start_time": "2022-04-05T00:26:55.816Z"
   },
   {
    "duration": 23,
    "start_time": "2022-04-05T00:26:55.862Z"
   },
   {
    "duration": 34,
    "start_time": "2022-04-05T00:26:55.887Z"
   },
   {
    "duration": 5,
    "start_time": "2022-04-05T00:26:55.923Z"
   },
   {
    "duration": 79,
    "start_time": "2022-04-05T00:26:55.930Z"
   },
   {
    "duration": 57,
    "start_time": "2022-04-05T00:26:56.011Z"
   },
   {
    "duration": 1157,
    "start_time": "2022-04-05T00:26:56.084Z"
   },
   {
    "duration": 1085,
    "start_time": "2022-04-05T00:26:57.244Z"
   },
   {
    "duration": 6,
    "start_time": "2022-04-05T00:26:58.332Z"
   },
   {
    "duration": 8,
    "start_time": "2022-04-05T00:26:58.341Z"
   },
   {
    "duration": 46,
    "start_time": "2022-04-05T00:26:58.351Z"
   },
   {
    "duration": 6,
    "start_time": "2022-04-05T00:26:58.399Z"
   },
   {
    "duration": 17,
    "start_time": "2022-04-05T00:26:58.408Z"
   },
   {
    "duration": 299,
    "start_time": "2022-04-05T00:26:58.428Z"
   },
   {
    "duration": 392,
    "start_time": "2022-04-05T00:26:58.730Z"
   },
   {
    "duration": 292,
    "start_time": "2022-04-05T00:26:59.125Z"
   },
   {
    "duration": 41,
    "start_time": "2022-04-05T00:26:59.422Z"
   },
   {
    "duration": 61,
    "start_time": "2022-04-05T14:03:15.371Z"
   },
   {
    "duration": 1475,
    "start_time": "2022-04-05T14:03:22.169Z"
   },
   {
    "duration": 401,
    "start_time": "2022-04-05T14:03:23.646Z"
   },
   {
    "duration": 39,
    "start_time": "2022-04-05T14:03:25.168Z"
   },
   {
    "duration": 386,
    "start_time": "2022-04-05T14:03:46.384Z"
   },
   {
    "duration": 32,
    "start_time": "2022-04-05T14:03:47.241Z"
   },
   {
    "duration": 398,
    "start_time": "2022-04-05T14:03:59.114Z"
   },
   {
    "duration": 50,
    "start_time": "2022-04-05T14:04:00.248Z"
   },
   {
    "duration": 84,
    "start_time": "2022-04-05T14:04:58.278Z"
   },
   {
    "duration": 3,
    "start_time": "2022-04-05T14:16:29.488Z"
   },
   {
    "duration": 147,
    "start_time": "2022-04-05T14:25:40.786Z"
   },
   {
    "duration": 130,
    "start_time": "2022-04-05T14:29:20.090Z"
   },
   {
    "duration": 1235,
    "start_time": "2022-04-05T14:49:55.626Z"
   },
   {
    "duration": 424,
    "start_time": "2022-04-05T14:49:56.863Z"
   },
   {
    "duration": 40,
    "start_time": "2022-04-05T14:49:57.289Z"
   },
   {
    "duration": 115,
    "start_time": "2022-04-05T14:49:57.333Z"
   },
   {
    "duration": 99,
    "start_time": "2022-04-05T14:49:57.450Z"
   },
   {
    "duration": 14,
    "start_time": "2022-04-05T14:49:57.552Z"
   },
   {
    "duration": 7,
    "start_time": "2022-04-05T14:49:57.568Z"
   },
   {
    "duration": 24,
    "start_time": "2022-04-05T14:49:57.577Z"
   },
   {
    "duration": 245,
    "start_time": "2022-04-05T14:49:57.603Z"
   },
   {
    "duration": 8,
    "start_time": "2022-04-05T14:49:57.851Z"
   },
   {
    "duration": 221,
    "start_time": "2022-04-05T14:49:57.862Z"
   },
   {
    "duration": 49,
    "start_time": "2022-04-05T14:49:58.085Z"
   },
   {
    "duration": 160,
    "start_time": "2022-04-05T14:49:58.136Z"
   },
   {
    "duration": 101,
    "start_time": "2022-04-05T14:49:58.300Z"
   },
   {
    "duration": 145,
    "start_time": "2022-04-05T14:49:58.403Z"
   },
   {
    "duration": 51,
    "start_time": "2022-04-05T14:49:58.550Z"
   },
   {
    "duration": 16,
    "start_time": "2022-04-05T14:49:58.604Z"
   },
   {
    "duration": 20,
    "start_time": "2022-04-05T14:49:58.622Z"
   },
   {
    "duration": 414,
    "start_time": "2022-04-05T14:49:58.644Z"
   },
   {
    "duration": 5,
    "start_time": "2022-04-05T14:49:59.060Z"
   },
   {
    "duration": 9,
    "start_time": "2022-04-05T14:49:59.066Z"
   },
   {
    "duration": 31,
    "start_time": "2022-04-05T14:49:59.077Z"
   },
   {
    "duration": 10,
    "start_time": "2022-04-05T14:49:59.110Z"
   },
   {
    "duration": 15,
    "start_time": "2022-04-05T14:49:59.122Z"
   },
   {
    "duration": 24,
    "start_time": "2022-04-05T14:49:59.139Z"
   },
   {
    "duration": 39,
    "start_time": "2022-04-05T14:49:59.165Z"
   },
   {
    "duration": 4,
    "start_time": "2022-04-05T14:49:59.207Z"
   },
   {
    "duration": 61,
    "start_time": "2022-04-05T14:49:59.215Z"
   },
   {
    "duration": 46,
    "start_time": "2022-04-05T14:49:59.278Z"
   },
   {
    "duration": 1006,
    "start_time": "2022-04-05T14:49:59.326Z"
   },
   {
    "duration": 1720,
    "start_time": "2022-04-05T14:50:00.334Z"
   },
   {
    "duration": 4,
    "start_time": "2022-04-05T14:50:02.056Z"
   },
   {
    "duration": 16,
    "start_time": "2022-04-05T14:50:02.062Z"
   },
   {
    "duration": 26,
    "start_time": "2022-04-05T14:50:02.080Z"
   },
   {
    "duration": 5,
    "start_time": "2022-04-05T14:50:02.109Z"
   },
   {
    "duration": 27,
    "start_time": "2022-04-05T14:50:02.116Z"
   },
   {
    "duration": 225,
    "start_time": "2022-04-05T14:50:02.145Z"
   },
   {
    "duration": 195,
    "start_time": "2022-04-05T14:50:02.371Z"
   },
   {
    "duration": 374,
    "start_time": "2022-04-05T14:50:02.569Z"
   },
   {
    "duration": 36,
    "start_time": "2022-04-05T14:50:02.945Z"
   },
   {
    "duration": 13,
    "start_time": "2022-04-05T14:53:43.942Z"
   },
   {
    "duration": 17,
    "start_time": "2022-04-05T14:56:25.276Z"
   },
   {
    "duration": 110,
    "start_time": "2022-04-05T15:18:16.872Z"
   },
   {
    "duration": 115,
    "start_time": "2022-04-05T15:19:06.881Z"
   },
   {
    "duration": 7,
    "start_time": "2022-04-05T15:19:49.320Z"
   },
   {
    "duration": 4,
    "start_time": "2022-04-05T15:19:57.312Z"
   },
   {
    "duration": 400,
    "start_time": "2022-04-05T15:19:57.656Z"
   },
   {
    "duration": 45,
    "start_time": "2022-04-05T15:19:58.058Z"
   },
   {
    "duration": 88,
    "start_time": "2022-04-05T15:19:58.633Z"
   },
   {
    "duration": 74,
    "start_time": "2022-04-05T15:19:59.944Z"
   },
   {
    "duration": 8,
    "start_time": "2022-04-05T15:20:01.128Z"
   },
   {
    "duration": 5,
    "start_time": "2022-04-05T15:20:01.792Z"
   },
   {
    "duration": 4,
    "start_time": "2022-04-05T15:20:03.288Z"
   },
   {
    "duration": 3,
    "start_time": "2022-04-05T15:20:19.064Z"
   },
   {
    "duration": 389,
    "start_time": "2022-04-05T15:20:19.616Z"
   },
   {
    "duration": 34,
    "start_time": "2022-04-05T15:20:20.193Z"
   },
   {
    "duration": 84,
    "start_time": "2022-04-05T15:20:21.633Z"
   },
   {
    "duration": 72,
    "start_time": "2022-04-05T15:20:25.464Z"
   },
   {
    "duration": 8,
    "start_time": "2022-04-05T15:20:28.552Z"
   },
   {
    "duration": 5,
    "start_time": "2022-04-05T15:20:31.279Z"
   },
   {
    "duration": 3,
    "start_time": "2022-04-05T15:20:43.464Z"
   },
   {
    "duration": 1259,
    "start_time": "2022-04-05T15:20:58.004Z"
   },
   {
    "duration": 410,
    "start_time": "2022-04-05T15:20:59.265Z"
   },
   {
    "duration": 40,
    "start_time": "2022-04-05T15:20:59.677Z"
   },
   {
    "duration": 92,
    "start_time": "2022-04-05T15:21:00.332Z"
   },
   {
    "duration": 71,
    "start_time": "2022-04-05T15:21:02.533Z"
   },
   {
    "duration": 14,
    "start_time": "2022-04-05T15:21:04.012Z"
   },
   {
    "duration": 5,
    "start_time": "2022-04-05T15:21:04.740Z"
   },
   {
    "duration": 3,
    "start_time": "2022-04-05T15:21:06.588Z"
   },
   {
    "duration": 235,
    "start_time": "2022-04-05T15:21:09.518Z"
   },
   {
    "duration": 7,
    "start_time": "2022-04-05T15:21:11.028Z"
   },
   {
    "duration": 120,
    "start_time": "2022-04-05T15:21:11.972Z"
   },
   {
    "duration": 38,
    "start_time": "2022-04-05T15:21:13.157Z"
   },
   {
    "duration": 124,
    "start_time": "2022-04-05T15:21:14.757Z"
   },
   {
    "duration": 75,
    "start_time": "2022-04-05T15:21:17.843Z"
   },
   {
    "duration": 103,
    "start_time": "2022-04-05T15:21:22.717Z"
   },
   {
    "duration": 101,
    "start_time": "2022-04-05T15:21:55.117Z"
   },
   {
    "duration": 102,
    "start_time": "2022-04-05T15:24:20.121Z"
   },
   {
    "duration": 97,
    "start_time": "2022-04-05T15:24:57.389Z"
   },
   {
    "duration": 9,
    "start_time": "2022-04-05T15:25:02.372Z"
   },
   {
    "duration": 29,
    "start_time": "2022-04-05T15:25:05.996Z"
   },
   {
    "duration": 12,
    "start_time": "2022-04-05T15:25:07.116Z"
   },
   {
    "duration": 9,
    "start_time": "2022-04-05T15:26:17.987Z"
   },
   {
    "duration": 6,
    "start_time": "2022-04-05T15:26:28.531Z"
   },
   {
    "duration": 10,
    "start_time": "2022-04-05T15:26:34.492Z"
   },
   {
    "duration": 10,
    "start_time": "2022-04-05T15:26:37.836Z"
   },
   {
    "duration": 5,
    "start_time": "2022-04-05T15:26:45.540Z"
   },
   {
    "duration": 7,
    "start_time": "2022-04-05T15:26:50.091Z"
   },
   {
    "duration": 4,
    "start_time": "2022-04-05T15:27:06.140Z"
   },
   {
    "duration": 6,
    "start_time": "2022-04-05T15:27:39.611Z"
   },
   {
    "duration": 5,
    "start_time": "2022-04-05T15:27:54.810Z"
   },
   {
    "duration": 29,
    "start_time": "2022-04-05T15:28:22.522Z"
   },
   {
    "duration": 5,
    "start_time": "2022-04-05T15:28:23.691Z"
   },
   {
    "duration": 5,
    "start_time": "2022-04-05T15:28:24.139Z"
   },
   {
    "duration": 125,
    "start_time": "2022-04-05T15:29:11.323Z"
   },
   {
    "duration": 5,
    "start_time": "2022-04-05T15:29:24.202Z"
   },
   {
    "duration": 4,
    "start_time": "2022-04-05T15:29:32.466Z"
   },
   {
    "duration": 5,
    "start_time": "2022-04-05T15:29:38.322Z"
   },
   {
    "duration": 4,
    "start_time": "2022-04-05T15:30:38.428Z"
   },
   {
    "duration": 11,
    "start_time": "2022-04-05T15:33:06.594Z"
   },
   {
    "duration": 11,
    "start_time": "2022-04-05T15:35:10.842Z"
   },
   {
    "duration": 122,
    "start_time": "2022-04-05T15:35:25.842Z"
   },
   {
    "duration": 78,
    "start_time": "2022-04-05T15:35:27.112Z"
   },
   {
    "duration": 102,
    "start_time": "2022-04-05T15:35:27.953Z"
   },
   {
    "duration": 30,
    "start_time": "2022-04-05T15:35:28.913Z"
   },
   {
    "duration": 14,
    "start_time": "2022-04-05T15:35:34.362Z"
   },
   {
    "duration": 5,
    "start_time": "2022-04-05T15:35:59.250Z"
   },
   {
    "duration": 13,
    "start_time": "2022-04-05T15:36:09.882Z"
   },
   {
    "duration": 16,
    "start_time": "2022-04-05T15:36:39.369Z"
   },
   {
    "duration": 14,
    "start_time": "2022-04-05T15:36:56.042Z"
   },
   {
    "duration": 120,
    "start_time": "2022-04-05T15:37:14.609Z"
   },
   {
    "duration": 80,
    "start_time": "2022-04-05T15:37:15.505Z"
   },
   {
    "duration": 100,
    "start_time": "2022-04-05T15:37:16.153Z"
   },
   {
    "duration": 32,
    "start_time": "2022-04-05T15:37:16.833Z"
   },
   {
    "duration": 15,
    "start_time": "2022-04-05T15:37:17.328Z"
   },
   {
    "duration": 6,
    "start_time": "2022-04-05T15:37:18.554Z"
   },
   {
    "duration": 20,
    "start_time": "2022-04-05T15:41:30.010Z"
   },
   {
    "duration": 19,
    "start_time": "2022-04-05T15:41:42.504Z"
   },
   {
    "duration": 8,
    "start_time": "2022-04-05T15:43:36.168Z"
   },
   {
    "duration": 7,
    "start_time": "2022-04-05T15:43:47.752Z"
   },
   {
    "duration": 15,
    "start_time": "2022-04-05T15:43:50.647Z"
   },
   {
    "duration": 29,
    "start_time": "2022-04-05T15:44:16.255Z"
   },
   {
    "duration": 76,
    "start_time": "2022-04-05T15:44:30.768Z"
   },
   {
    "duration": 108,
    "start_time": "2022-04-05T15:44:31.567Z"
   },
   {
    "duration": 26,
    "start_time": "2022-04-05T15:44:32.640Z"
   },
   {
    "duration": 125,
    "start_time": "2022-04-05T15:44:37.807Z"
   },
   {
    "duration": 82,
    "start_time": "2022-04-05T15:44:39.056Z"
   },
   {
    "duration": 109,
    "start_time": "2022-04-05T15:44:40.671Z"
   },
   {
    "duration": 33,
    "start_time": "2022-04-05T15:44:42.240Z"
   },
   {
    "duration": 9,
    "start_time": "2022-04-05T15:46:09.208Z"
   },
   {
    "duration": 7,
    "start_time": "2022-04-05T15:46:13.720Z"
   },
   {
    "duration": 12,
    "start_time": "2022-04-05T15:46:14.688Z"
   },
   {
    "duration": 16,
    "start_time": "2022-04-05T15:46:27.448Z"
   },
   {
    "duration": 7,
    "start_time": "2022-04-05T15:46:46.655Z"
   },
   {
    "duration": 7,
    "start_time": "2022-04-05T15:46:47.383Z"
   },
   {
    "duration": 12,
    "start_time": "2022-04-05T15:46:48.230Z"
   },
   {
    "duration": 5,
    "start_time": "2022-04-05T15:46:59.231Z"
   },
   {
    "duration": 13,
    "start_time": "2022-04-05T15:47:04.519Z"
   },
   {
    "duration": 7,
    "start_time": "2022-04-05T15:50:24.110Z"
   },
   {
    "duration": 16,
    "start_time": "2022-04-05T15:50:24.591Z"
   },
   {
    "duration": 10,
    "start_time": "2022-04-05T15:54:57.245Z"
   },
   {
    "duration": 12,
    "start_time": "2022-04-05T15:55:12.574Z"
   },
   {
    "duration": 127,
    "start_time": "2022-04-05T15:55:26.605Z"
   },
   {
    "duration": 83,
    "start_time": "2022-04-05T15:55:28.076Z"
   },
   {
    "duration": 109,
    "start_time": "2022-04-05T15:55:29.765Z"
   },
   {
    "duration": 11,
    "start_time": "2022-04-05T15:55:37.188Z"
   },
   {
    "duration": 7,
    "start_time": "2022-04-05T15:55:41.309Z"
   },
   {
    "duration": 11,
    "start_time": "2022-04-05T15:55:42.117Z"
   },
   {
    "duration": 11,
    "start_time": "2022-04-05T15:55:53.148Z"
   },
   {
    "duration": 11,
    "start_time": "2022-04-05T15:55:59.646Z"
   },
   {
    "duration": 14,
    "start_time": "2022-04-05T15:59:54.932Z"
   },
   {
    "duration": 17,
    "start_time": "2022-04-05T16:00:09.260Z"
   },
   {
    "duration": 83,
    "start_time": "2022-04-05T16:00:23.805Z"
   },
   {
    "duration": 104,
    "start_time": "2022-04-05T16:00:24.547Z"
   },
   {
    "duration": 25,
    "start_time": "2022-04-05T16:00:25.604Z"
   },
   {
    "duration": 169,
    "start_time": "2022-04-05T16:00:35.908Z"
   },
   {
    "duration": 84,
    "start_time": "2022-04-05T16:00:37.115Z"
   },
   {
    "duration": 111,
    "start_time": "2022-04-05T16:00:38.475Z"
   },
   {
    "duration": 14,
    "start_time": "2022-04-05T16:00:48.163Z"
   },
   {
    "duration": 6,
    "start_time": "2022-04-05T16:00:49.979Z"
   },
   {
    "duration": 15,
    "start_time": "2022-04-05T16:00:50.595Z"
   },
   {
    "duration": 125,
    "start_time": "2022-04-05T16:05:20.370Z"
   },
   {
    "duration": 79,
    "start_time": "2022-04-05T16:05:21.706Z"
   },
   {
    "duration": 108,
    "start_time": "2022-04-05T16:05:23.002Z"
   },
   {
    "duration": 18,
    "start_time": "2022-04-05T16:06:34.428Z"
   },
   {
    "duration": 127,
    "start_time": "2022-04-05T16:07:12.266Z"
   },
   {
    "duration": 79,
    "start_time": "2022-04-05T16:07:13.290Z"
   },
   {
    "duration": 105,
    "start_time": "2022-04-05T16:07:14.106Z"
   },
   {
    "duration": 25,
    "start_time": "2022-04-05T16:07:16.802Z"
   },
   {
    "duration": 8,
    "start_time": "2022-04-05T16:07:47.491Z"
   },
   {
    "duration": 27,
    "start_time": "2022-04-05T16:07:48.514Z"
   },
   {
    "duration": 135,
    "start_time": "2022-04-05T16:08:10.661Z"
   },
   {
    "duration": 84,
    "start_time": "2022-04-05T16:08:11.928Z"
   },
   {
    "duration": 113,
    "start_time": "2022-04-05T16:08:13.001Z"
   },
   {
    "duration": 7,
    "start_time": "2022-04-05T16:08:21.731Z"
   },
   {
    "duration": 25,
    "start_time": "2022-04-05T16:08:24.786Z"
   },
   {
    "duration": 14,
    "start_time": "2022-04-05T16:11:12.642Z"
   },
   {
    "duration": 7,
    "start_time": "2022-04-05T16:11:14.986Z"
   },
   {
    "duration": 14,
    "start_time": "2022-04-05T16:11:15.458Z"
   },
   {
    "duration": 14,
    "start_time": "2022-04-05T16:11:38.258Z"
   },
   {
    "duration": 4,
    "start_time": "2022-04-05T16:12:11.207Z"
   },
   {
    "duration": 14,
    "start_time": "2022-04-05T16:12:11.384Z"
   },
   {
    "duration": 127,
    "start_time": "2022-04-05T16:12:24.680Z"
   },
   {
    "duration": 85,
    "start_time": "2022-04-05T16:12:25.673Z"
   },
   {
    "duration": 103,
    "start_time": "2022-04-05T16:12:28.739Z"
   },
   {
    "duration": 7,
    "start_time": "2022-04-05T16:12:46.001Z"
   },
   {
    "duration": 11,
    "start_time": "2022-04-05T16:12:46.970Z"
   },
   {
    "duration": 19,
    "start_time": "2022-04-05T16:13:15.449Z"
   },
   {
    "duration": 14,
    "start_time": "2022-04-05T16:13:23.512Z"
   },
   {
    "duration": 21,
    "start_time": "2022-04-05T16:14:22.337Z"
   },
   {
    "duration": 14,
    "start_time": "2022-04-05T16:14:22.784Z"
   },
   {
    "duration": 15,
    "start_time": "2022-04-05T16:15:19.577Z"
   },
   {
    "duration": 131,
    "start_time": "2022-04-05T16:15:24.936Z"
   },
   {
    "duration": 85,
    "start_time": "2022-04-05T16:15:25.688Z"
   },
   {
    "duration": 107,
    "start_time": "2022-04-05T16:15:26.480Z"
   },
   {
    "duration": 23,
    "start_time": "2022-04-05T16:15:27.873Z"
   },
   {
    "duration": 132,
    "start_time": "2022-04-05T16:16:55.593Z"
   },
   {
    "duration": 81,
    "start_time": "2022-04-05T16:16:56.353Z"
   },
   {
    "duration": 106,
    "start_time": "2022-04-05T16:16:57.120Z"
   },
   {
    "duration": 33,
    "start_time": "2022-04-05T16:16:57.847Z"
   },
   {
    "duration": 141,
    "start_time": "2022-04-05T16:21:17.039Z"
   },
   {
    "duration": 155,
    "start_time": "2022-04-05T16:21:38.287Z"
   },
   {
    "duration": 55,
    "start_time": "2022-04-05T16:22:16.670Z"
   },
   {
    "duration": 127,
    "start_time": "2022-04-05T16:22:21.727Z"
   },
   {
    "duration": 3,
    "start_time": "2022-04-05T16:33:13.868Z"
   },
   {
    "duration": 15,
    "start_time": "2022-04-05T16:34:31.555Z"
   },
   {
    "duration": 3,
    "start_time": "2022-04-05T16:36:41.739Z"
   },
   {
    "duration": 4,
    "start_time": "2022-04-05T16:36:48.668Z"
   },
   {
    "duration": 5,
    "start_time": "2022-04-05T16:46:24.945Z"
   },
   {
    "duration": 5,
    "start_time": "2022-04-05T16:46:47.201Z"
   },
   {
    "duration": 22,
    "start_time": "2022-04-05T16:55:56.992Z"
   },
   {
    "duration": 11,
    "start_time": "2022-04-05T16:56:26.808Z"
   },
   {
    "duration": 10,
    "start_time": "2022-04-05T16:57:09.927Z"
   },
   {
    "duration": 11,
    "start_time": "2022-04-05T16:57:30.831Z"
   },
   {
    "duration": 8,
    "start_time": "2022-04-05T16:57:52.471Z"
   },
   {
    "duration": 11,
    "start_time": "2022-04-05T16:57:58.302Z"
   },
   {
    "duration": 7,
    "start_time": "2022-04-05T16:58:27.095Z"
   },
   {
    "duration": 11,
    "start_time": "2022-04-05T16:58:30.910Z"
   },
   {
    "duration": 8,
    "start_time": "2022-04-05T16:58:55.990Z"
   },
   {
    "duration": 9,
    "start_time": "2022-04-05T16:59:04.958Z"
   },
   {
    "duration": 10,
    "start_time": "2022-04-05T16:59:08.502Z"
   },
   {
    "duration": 9,
    "start_time": "2022-04-05T16:59:17.271Z"
   },
   {
    "duration": 10,
    "start_time": "2022-04-05T16:59:23.839Z"
   },
   {
    "duration": 6,
    "start_time": "2022-04-05T17:00:02.254Z"
   },
   {
    "duration": 2211,
    "start_time": "2022-04-05T17:00:22.278Z"
   },
   {
    "duration": 4,
    "start_time": "2022-04-05T17:00:52.279Z"
   },
   {
    "duration": 8,
    "start_time": "2022-04-05T17:01:09.230Z"
   },
   {
    "duration": 11,
    "start_time": "2022-04-05T17:01:46.494Z"
   },
   {
    "duration": 8,
    "start_time": "2022-04-05T17:01:54.919Z"
   },
   {
    "duration": 10,
    "start_time": "2022-04-05T17:04:23.021Z"
   },
   {
    "duration": 7,
    "start_time": "2022-04-05T17:06:02.845Z"
   },
   {
    "duration": 9,
    "start_time": "2022-04-05T17:06:09.077Z"
   },
   {
    "duration": 7,
    "start_time": "2022-04-05T17:06:21.172Z"
   },
   {
    "duration": 114,
    "start_time": "2022-04-05T17:07:56.476Z"
   },
   {
    "duration": 7,
    "start_time": "2022-04-05T17:08:01.420Z"
   },
   {
    "duration": 5,
    "start_time": "2022-04-05T17:08:04.964Z"
   },
   {
    "duration": 6,
    "start_time": "2022-04-05T17:08:09.356Z"
   },
   {
    "duration": 5,
    "start_time": "2022-04-05T17:09:02.165Z"
   },
   {
    "duration": 7,
    "start_time": "2022-04-05T17:09:39.412Z"
   },
   {
    "duration": 15,
    "start_time": "2022-04-05T17:10:21.227Z"
   },
   {
    "duration": 10,
    "start_time": "2022-04-05T17:10:30.420Z"
   },
   {
    "duration": 5,
    "start_time": "2022-04-05T17:10:32.900Z"
   },
   {
    "duration": 13,
    "start_time": "2022-04-05T17:10:37.213Z"
   },
   {
    "duration": 14,
    "start_time": "2022-04-05T17:12:00.236Z"
   },
   {
    "duration": 2168,
    "start_time": "2022-04-05T17:12:34.595Z"
   },
   {
    "duration": 15,
    "start_time": "2022-04-05T17:12:46.324Z"
   },
   {
    "duration": 17,
    "start_time": "2022-04-05T17:12:57.252Z"
   },
   {
    "duration": 15,
    "start_time": "2022-04-05T17:13:00.293Z"
   },
   {
    "duration": 11,
    "start_time": "2022-04-05T17:13:03.508Z"
   },
   {
    "duration": 15,
    "start_time": "2022-04-05T17:13:19.123Z"
   },
   {
    "duration": 11,
    "start_time": "2022-04-05T17:13:28.547Z"
   },
   {
    "duration": 16,
    "start_time": "2022-04-05T17:16:44.154Z"
   },
   {
    "duration": 20,
    "start_time": "2022-04-05T17:16:46.698Z"
   },
   {
    "duration": 14,
    "start_time": "2022-04-05T17:16:49.835Z"
   },
   {
    "duration": 126,
    "start_time": "2022-04-05T17:17:36.082Z"
   },
   {
    "duration": 142,
    "start_time": "2022-04-05T17:17:54.427Z"
   },
   {
    "duration": 13,
    "start_time": "2022-04-05T17:17:58.442Z"
   },
   {
    "duration": 15,
    "start_time": "2022-04-05T17:18:16.252Z"
   },
   {
    "duration": 6,
    "start_time": "2022-04-05T17:20:20.569Z"
   },
   {
    "duration": 6,
    "start_time": "2022-04-05T17:20:27.906Z"
   },
   {
    "duration": 5,
    "start_time": "2022-04-05T17:20:37.690Z"
   },
   {
    "duration": 6,
    "start_time": "2022-04-05T17:20:38.417Z"
   },
   {
    "duration": 5,
    "start_time": "2022-04-05T17:20:39.082Z"
   },
   {
    "duration": 10,
    "start_time": "2022-04-05T17:20:42.330Z"
   },
   {
    "duration": 3,
    "start_time": "2022-04-05T17:24:18.850Z"
   },
   {
    "duration": 9,
    "start_time": "2022-04-05T17:24:29.618Z"
   },
   {
    "duration": 3,
    "start_time": "2022-04-05T17:27:32.353Z"
   },
   {
    "duration": 9,
    "start_time": "2022-04-05T17:27:33.105Z"
   },
   {
    "duration": 3,
    "start_time": "2022-04-05T17:27:43.208Z"
   },
   {
    "duration": 13,
    "start_time": "2022-04-05T17:27:44.705Z"
   },
   {
    "duration": 4,
    "start_time": "2022-04-05T17:27:51.008Z"
   },
   {
    "duration": 4,
    "start_time": "2022-04-05T17:28:11.240Z"
   },
   {
    "duration": 10,
    "start_time": "2022-04-05T17:28:11.736Z"
   },
   {
    "duration": 113,
    "start_time": "2022-04-05T17:28:19.081Z"
   },
   {
    "duration": 4,
    "start_time": "2022-04-05T17:28:37.993Z"
   },
   {
    "duration": 9,
    "start_time": "2022-04-05T17:29:32.936Z"
   },
   {
    "duration": 4,
    "start_time": "2022-04-05T17:34:44.855Z"
   },
   {
    "duration": 5,
    "start_time": "2022-04-05T17:35:03.263Z"
   },
   {
    "duration": 3,
    "start_time": "2022-04-05T17:35:09.423Z"
   },
   {
    "duration": 4,
    "start_time": "2022-04-05T17:35:09.719Z"
   },
   {
    "duration": 5,
    "start_time": "2022-04-05T17:35:11.262Z"
   },
   {
    "duration": 5,
    "start_time": "2022-04-05T17:35:26.326Z"
   },
   {
    "duration": 5,
    "start_time": "2022-04-05T17:35:48.463Z"
   },
   {
    "duration": 15,
    "start_time": "2022-04-05T17:36:25.942Z"
   },
   {
    "duration": 8,
    "start_time": "2022-04-05T17:36:57.342Z"
   },
   {
    "duration": 15,
    "start_time": "2022-04-05T17:37:04.446Z"
   },
   {
    "duration": 112,
    "start_time": "2022-04-05T17:38:07.982Z"
   },
   {
    "duration": 11,
    "start_time": "2022-04-05T17:49:00.915Z"
   },
   {
    "duration": 409,
    "start_time": "2022-04-05T17:50:58.034Z"
   },
   {
    "duration": 5,
    "start_time": "2022-04-05T17:52:01.946Z"
   },
   {
    "duration": 231,
    "start_time": "2022-04-05T17:52:20.370Z"
   },
   {
    "duration": 242,
    "start_time": "2022-04-05T17:52:39.011Z"
   },
   {
    "duration": 1303,
    "start_time": "2022-04-05T17:53:57.714Z"
   },
   {
    "duration": 459,
    "start_time": "2022-04-05T17:53:59.019Z"
   },
   {
    "duration": 39,
    "start_time": "2022-04-05T17:53:59.480Z"
   },
   {
    "duration": 123,
    "start_time": "2022-04-05T17:53:59.522Z"
   },
   {
    "duration": 98,
    "start_time": "2022-04-05T17:53:59.647Z"
   },
   {
    "duration": 265,
    "start_time": "2022-04-05T17:53:59.748Z"
   },
   {
    "duration": 8,
    "start_time": "2022-04-05T17:54:00.016Z"
   },
   {
    "duration": 140,
    "start_time": "2022-04-05T17:54:00.026Z"
   },
   {
    "duration": 50,
    "start_time": "2022-04-05T17:54:00.168Z"
   },
   {
    "duration": 16,
    "start_time": "2022-04-05T17:54:00.223Z"
   },
   {
    "duration": 9,
    "start_time": "2022-04-05T17:54:00.242Z"
   },
   {
    "duration": 202,
    "start_time": "2022-04-05T17:54:00.253Z"
   },
   {
    "duration": 84,
    "start_time": "2022-04-05T17:54:00.457Z"
   },
   {
    "duration": 116,
    "start_time": "2022-04-05T17:54:00.542Z"
   },
   {
    "duration": 43,
    "start_time": "2022-04-05T17:54:00.660Z"
   },
   {
    "duration": 5,
    "start_time": "2022-04-05T17:54:00.704Z"
   },
   {
    "duration": 25,
    "start_time": "2022-04-05T17:54:00.711Z"
   },
   {
    "duration": 17,
    "start_time": "2022-04-05T17:54:00.738Z"
   },
   {
    "duration": 15,
    "start_time": "2022-04-05T17:54:00.756Z"
   },
   {
    "duration": 22,
    "start_time": "2022-04-05T17:54:00.774Z"
   },
   {
    "duration": 19,
    "start_time": "2022-04-05T17:54:00.799Z"
   },
   {
    "duration": 17,
    "start_time": "2022-04-05T17:54:00.820Z"
   },
   {
    "duration": 27,
    "start_time": "2022-04-05T17:54:00.839Z"
   },
   {
    "duration": 1953,
    "start_time": "2022-04-05T17:54:00.869Z"
   },
   {
    "duration": 0,
    "start_time": "2022-04-05T17:54:02.825Z"
   },
   {
    "duration": 0,
    "start_time": "2022-04-05T17:54:02.827Z"
   },
   {
    "duration": 0,
    "start_time": "2022-04-05T17:54:02.828Z"
   },
   {
    "duration": 0,
    "start_time": "2022-04-05T17:54:02.830Z"
   },
   {
    "duration": 0,
    "start_time": "2022-04-05T17:54:02.831Z"
   },
   {
    "duration": 0,
    "start_time": "2022-04-05T17:54:02.835Z"
   },
   {
    "duration": 0,
    "start_time": "2022-04-05T17:54:02.837Z"
   },
   {
    "duration": 0,
    "start_time": "2022-04-05T17:54:02.838Z"
   },
   {
    "duration": 0,
    "start_time": "2022-04-05T17:54:02.840Z"
   },
   {
    "duration": 0,
    "start_time": "2022-04-05T17:54:02.842Z"
   },
   {
    "duration": 0,
    "start_time": "2022-04-05T17:54:02.843Z"
   },
   {
    "duration": 0,
    "start_time": "2022-04-05T17:54:02.846Z"
   },
   {
    "duration": 0,
    "start_time": "2022-04-05T17:54:02.847Z"
   },
   {
    "duration": 0,
    "start_time": "2022-04-05T17:54:02.849Z"
   },
   {
    "duration": 0,
    "start_time": "2022-04-05T17:54:02.851Z"
   },
   {
    "duration": 0,
    "start_time": "2022-04-05T17:54:02.852Z"
   },
   {
    "duration": 0,
    "start_time": "2022-04-05T17:54:02.854Z"
   },
   {
    "duration": 1,
    "start_time": "2022-04-05T17:54:02.855Z"
   },
   {
    "duration": 0,
    "start_time": "2022-04-05T17:54:02.857Z"
   },
   {
    "duration": 0,
    "start_time": "2022-04-05T17:54:02.859Z"
   },
   {
    "duration": 0,
    "start_time": "2022-04-05T17:54:02.860Z"
   },
   {
    "duration": 0,
    "start_time": "2022-04-05T17:54:02.861Z"
   },
   {
    "duration": 16,
    "start_time": "2022-04-05T17:54:37.365Z"
   },
   {
    "duration": 234,
    "start_time": "2022-04-05T17:54:39.853Z"
   },
   {
    "duration": 226,
    "start_time": "2022-04-05T17:54:48.317Z"
   },
   {
    "duration": 230,
    "start_time": "2022-04-05T17:54:51.860Z"
   },
   {
    "duration": 5,
    "start_time": "2022-04-05T17:55:00.492Z"
   },
   {
    "duration": 4,
    "start_time": "2022-04-05T17:55:14.619Z"
   },
   {
    "duration": 16,
    "start_time": "2022-04-05T17:55:21.347Z"
   },
   {
    "duration": 10,
    "start_time": "2022-04-05T17:55:25.092Z"
   },
   {
    "duration": 11,
    "start_time": "2022-04-05T17:55:26.868Z"
   },
   {
    "duration": 15,
    "start_time": "2022-04-05T17:56:13.698Z"
   },
   {
    "duration": 18,
    "start_time": "2022-04-05T17:56:14.524Z"
   },
   {
    "duration": 4,
    "start_time": "2022-04-05T18:08:28.152Z"
   },
   {
    "duration": 15,
    "start_time": "2022-04-05T18:08:28.519Z"
   },
   {
    "duration": 9,
    "start_time": "2022-04-05T18:08:28.712Z"
   },
   {
    "duration": 9,
    "start_time": "2022-04-05T18:08:29.250Z"
   },
   {
    "duration": 14,
    "start_time": "2022-04-05T18:08:31.056Z"
   },
   {
    "duration": 18,
    "start_time": "2022-04-05T18:08:33.975Z"
   },
   {
    "duration": 15,
    "start_time": "2022-04-05T18:09:11.704Z"
   },
   {
    "duration": 127,
    "start_time": "2022-04-05T18:21:50.845Z"
   },
   {
    "duration": 20,
    "start_time": "2022-04-05T18:22:42.396Z"
   },
   {
    "duration": 42,
    "start_time": "2022-04-05T18:22:47.630Z"
   },
   {
    "duration": 842,
    "start_time": "2022-04-05T18:22:53.005Z"
   },
   {
    "duration": 734,
    "start_time": "2022-04-05T18:23:01.486Z"
   },
   {
    "duration": 40,
    "start_time": "2022-04-05T18:28:11.111Z"
   },
   {
    "duration": 4,
    "start_time": "2022-04-05T18:40:46.065Z"
   },
   {
    "duration": 15,
    "start_time": "2022-04-05T18:40:48.664Z"
   },
   {
    "duration": 9,
    "start_time": "2022-04-05T18:40:49.121Z"
   },
   {
    "duration": 10,
    "start_time": "2022-04-05T18:40:49.472Z"
   },
   {
    "duration": 22,
    "start_time": "2022-04-05T18:40:51.402Z"
   },
   {
    "duration": 20,
    "start_time": "2022-04-05T18:40:51.816Z"
   },
   {
    "duration": 42,
    "start_time": "2022-04-05T18:40:52.688Z"
   },
   {
    "duration": 43,
    "start_time": "2022-04-05T18:40:54.184Z"
   },
   {
    "duration": 934,
    "start_time": "2022-04-05T18:40:55.136Z"
   },
   {
    "duration": 563,
    "start_time": "2022-04-05T18:40:59.273Z"
   },
   {
    "duration": 116,
    "start_time": "2022-04-05T18:42:46.487Z"
   },
   {
    "duration": 3,
    "start_time": "2022-04-05T18:43:43.025Z"
   },
   {
    "duration": 17,
    "start_time": "2022-04-05T18:43:45.798Z"
   },
   {
    "duration": 10,
    "start_time": "2022-04-05T18:43:46.048Z"
   },
   {
    "duration": 11,
    "start_time": "2022-04-05T18:43:46.368Z"
   },
   {
    "duration": 20,
    "start_time": "2022-04-05T18:43:47.631Z"
   },
   {
    "duration": 29,
    "start_time": "2022-04-05T18:43:47.912Z"
   },
   {
    "duration": 46,
    "start_time": "2022-04-05T18:43:48.327Z"
   },
   {
    "duration": 41,
    "start_time": "2022-04-05T18:43:49.407Z"
   },
   {
    "duration": 868,
    "start_time": "2022-04-05T18:43:49.703Z"
   },
   {
    "duration": 929,
    "start_time": "2022-04-05T18:43:50.655Z"
   },
   {
    "duration": 4,
    "start_time": "2022-04-05T19:04:10.755Z"
   },
   {
    "duration": 5,
    "start_time": "2022-04-05T19:04:12.137Z"
   },
   {
    "duration": 14,
    "start_time": "2022-04-05T19:04:32.857Z"
   },
   {
    "duration": 6,
    "start_time": "2022-04-05T19:04:33.226Z"
   },
   {
    "duration": 1245,
    "start_time": "2022-04-05T19:28:49.425Z"
   },
   {
    "duration": 429,
    "start_time": "2022-04-05T19:28:50.672Z"
   },
   {
    "duration": 44,
    "start_time": "2022-04-05T19:28:51.103Z"
   },
   {
    "duration": 131,
    "start_time": "2022-04-05T19:28:51.149Z"
   },
   {
    "duration": 79,
    "start_time": "2022-04-05T19:28:51.301Z"
   },
   {
    "duration": 267,
    "start_time": "2022-04-05T19:28:51.382Z"
   },
   {
    "duration": 9,
    "start_time": "2022-04-05T19:28:51.651Z"
   },
   {
    "duration": 158,
    "start_time": "2022-04-05T19:28:51.663Z"
   },
   {
    "duration": 40,
    "start_time": "2022-04-05T19:28:51.823Z"
   },
   {
    "duration": 46,
    "start_time": "2022-04-05T19:28:51.866Z"
   },
   {
    "duration": 9,
    "start_time": "2022-04-05T19:28:51.914Z"
   },
   {
    "duration": 143,
    "start_time": "2022-04-05T19:28:51.925Z"
   },
   {
    "duration": 86,
    "start_time": "2022-04-05T19:28:52.069Z"
   },
   {
    "duration": 117,
    "start_time": "2022-04-05T19:28:52.157Z"
   },
   {
    "duration": 44,
    "start_time": "2022-04-05T19:28:52.276Z"
   },
   {
    "duration": 4,
    "start_time": "2022-04-05T19:28:52.323Z"
   },
   {
    "duration": 10,
    "start_time": "2022-04-05T19:28:52.329Z"
   },
   {
    "duration": 8,
    "start_time": "2022-04-05T19:28:52.341Z"
   },
   {
    "duration": 5,
    "start_time": "2022-04-05T19:28:52.351Z"
   },
   {
    "duration": 8,
    "start_time": "2022-04-05T19:28:52.358Z"
   },
   {
    "duration": 37,
    "start_time": "2022-04-05T19:28:52.368Z"
   },
   {
    "duration": 14,
    "start_time": "2022-04-05T19:28:52.407Z"
   },
   {
    "duration": 24,
    "start_time": "2022-04-05T19:28:52.423Z"
   },
   {
    "duration": 18,
    "start_time": "2022-04-05T19:28:52.448Z"
   },
   {
    "duration": 266,
    "start_time": "2022-04-05T19:28:52.468Z"
   },
   {
    "duration": 5,
    "start_time": "2022-04-05T19:28:52.737Z"
   },
   {
    "duration": 9,
    "start_time": "2022-04-05T19:28:52.743Z"
   },
   {
    "duration": 25,
    "start_time": "2022-04-05T19:28:52.757Z"
   },
   {
    "duration": 25,
    "start_time": "2022-04-05T19:28:52.784Z"
   },
   {
    "duration": 14,
    "start_time": "2022-04-05T19:28:52.811Z"
   },
   {
    "duration": 17,
    "start_time": "2022-04-05T19:28:52.827Z"
   },
   {
    "duration": 24,
    "start_time": "2022-04-05T19:28:52.845Z"
   },
   {
    "duration": 64,
    "start_time": "2022-04-05T19:28:52.871Z"
   },
   {
    "duration": 40,
    "start_time": "2022-04-05T19:28:52.937Z"
   },
   {
    "duration": 866,
    "start_time": "2022-04-05T19:28:52.978Z"
   },
   {
    "duration": 702,
    "start_time": "2022-04-05T19:28:53.845Z"
   },
   {
    "duration": 5,
    "start_time": "2022-04-05T19:28:54.548Z"
   },
   {
    "duration": 9,
    "start_time": "2022-04-05T19:28:54.555Z"
   },
   {
    "duration": 35,
    "start_time": "2022-04-05T19:28:54.566Z"
   },
   {
    "duration": 6,
    "start_time": "2022-04-05T19:28:54.603Z"
   },
   {
    "duration": 7,
    "start_time": "2022-04-05T19:28:54.611Z"
   },
   {
    "duration": 214,
    "start_time": "2022-04-05T19:28:54.620Z"
   },
   {
    "duration": 283,
    "start_time": "2022-04-05T19:28:54.836Z"
   },
   {
    "duration": 217,
    "start_time": "2022-04-05T19:28:55.121Z"
   },
   {
    "duration": 34,
    "start_time": "2022-04-05T19:28:55.341Z"
   },
   {
    "duration": 127,
    "start_time": "2022-04-05T19:41:17.838Z"
   },
   {
    "duration": 110,
    "start_time": "2022-04-05T19:43:53.398Z"
   },
   {
    "duration": 1272,
    "start_time": "2022-04-05T19:44:16.131Z"
   },
   {
    "duration": 501,
    "start_time": "2022-04-05T19:44:17.406Z"
   },
   {
    "duration": 61,
    "start_time": "2022-04-05T19:44:17.909Z"
   },
   {
    "duration": 116,
    "start_time": "2022-04-05T19:44:18.001Z"
   },
   {
    "duration": 86,
    "start_time": "2022-04-05T19:44:18.119Z"
   },
   {
    "duration": 268,
    "start_time": "2022-04-05T19:44:18.207Z"
   },
   {
    "duration": 8,
    "start_time": "2022-04-05T19:44:18.477Z"
   },
   {
    "duration": 132,
    "start_time": "2022-04-05T19:44:18.501Z"
   },
   {
    "duration": 40,
    "start_time": "2022-04-05T19:44:18.636Z"
   },
   {
    "duration": 14,
    "start_time": "2022-04-05T19:44:18.704Z"
   },
   {
    "duration": 6,
    "start_time": "2022-04-05T19:44:18.720Z"
   },
   {
    "duration": 164,
    "start_time": "2022-04-05T19:44:18.728Z"
   },
   {
    "duration": 86,
    "start_time": "2022-04-05T19:44:18.894Z"
   },
   {
    "duration": 135,
    "start_time": "2022-04-05T19:44:18.982Z"
   },
   {
    "duration": 35,
    "start_time": "2022-04-05T19:44:19.119Z"
   },
   {
    "duration": 4,
    "start_time": "2022-04-05T19:44:19.156Z"
   },
   {
    "duration": 13,
    "start_time": "2022-04-05T19:44:19.162Z"
   },
   {
    "duration": 26,
    "start_time": "2022-04-05T19:44:19.177Z"
   },
   {
    "duration": 6,
    "start_time": "2022-04-05T19:44:19.205Z"
   },
   {
    "duration": 12,
    "start_time": "2022-04-05T19:44:19.214Z"
   },
   {
    "duration": 12,
    "start_time": "2022-04-05T19:44:19.228Z"
   },
   {
    "duration": 17,
    "start_time": "2022-04-05T19:44:19.241Z"
   },
   {
    "duration": 19,
    "start_time": "2022-04-05T19:44:19.260Z"
   },
   {
    "duration": 16,
    "start_time": "2022-04-05T19:44:19.301Z"
   },
   {
    "duration": 273,
    "start_time": "2022-04-05T19:44:19.319Z"
   },
   {
    "duration": 9,
    "start_time": "2022-04-05T19:44:19.594Z"
   },
   {
    "duration": 7,
    "start_time": "2022-04-05T19:44:19.605Z"
   },
   {
    "duration": 26,
    "start_time": "2022-04-05T19:44:19.616Z"
   },
   {
    "duration": 11,
    "start_time": "2022-04-05T19:44:19.643Z"
   },
   {
    "duration": 13,
    "start_time": "2022-04-05T19:44:19.656Z"
   },
   {
    "duration": 37,
    "start_time": "2022-04-05T19:44:19.670Z"
   },
   {
    "duration": 71,
    "start_time": "2022-04-05T19:44:19.709Z"
   },
   {
    "duration": 42,
    "start_time": "2022-04-05T19:44:19.782Z"
   },
   {
    "duration": 39,
    "start_time": "2022-04-05T19:44:19.826Z"
   },
   {
    "duration": 911,
    "start_time": "2022-04-05T19:44:19.867Z"
   },
   {
    "duration": 680,
    "start_time": "2022-04-05T19:44:20.780Z"
   },
   {
    "duration": 5,
    "start_time": "2022-04-05T19:44:21.461Z"
   },
   {
    "duration": 9,
    "start_time": "2022-04-05T19:44:21.468Z"
   },
   {
    "duration": 30,
    "start_time": "2022-04-05T19:44:21.479Z"
   },
   {
    "duration": 6,
    "start_time": "2022-04-05T19:44:21.511Z"
   },
   {
    "duration": 8,
    "start_time": "2022-04-05T19:44:21.519Z"
   },
   {
    "duration": 197,
    "start_time": "2022-04-05T19:44:21.529Z"
   },
   {
    "duration": 270,
    "start_time": "2022-04-05T19:44:21.728Z"
   },
   {
    "duration": 178,
    "start_time": "2022-04-05T19:44:22.001Z"
   },
   {
    "duration": 38,
    "start_time": "2022-04-05T19:44:22.182Z"
   },
   {
    "duration": 69,
    "start_time": "2022-04-06T04:28:28.671Z"
   },
   {
    "duration": 10,
    "start_time": "2022-04-06T04:28:29.188Z"
   },
   {
    "duration": 1883,
    "start_time": "2022-04-06T04:28:36.690Z"
   },
   {
    "duration": 523,
    "start_time": "2022-04-06T04:28:38.576Z"
   },
   {
    "duration": 52,
    "start_time": "2022-04-06T04:28:39.101Z"
   },
   {
    "duration": 166,
    "start_time": "2022-04-06T04:28:39.156Z"
   },
   {
    "duration": 124,
    "start_time": "2022-04-06T04:28:39.324Z"
   },
   {
    "duration": 327,
    "start_time": "2022-04-06T04:28:39.451Z"
   },
   {
    "duration": 11,
    "start_time": "2022-04-06T04:28:39.780Z"
   },
   {
    "duration": 190,
    "start_time": "2022-04-06T04:28:39.794Z"
   },
   {
    "duration": 52,
    "start_time": "2022-04-06T04:28:39.986Z"
   },
   {
    "duration": 49,
    "start_time": "2022-04-06T04:28:40.042Z"
   },
   {
    "duration": 7,
    "start_time": "2022-04-06T04:28:40.093Z"
   },
   {
    "duration": 213,
    "start_time": "2022-04-06T04:28:40.103Z"
   },
   {
    "duration": 115,
    "start_time": "2022-04-06T04:28:40.318Z"
   },
   {
    "duration": 160,
    "start_time": "2022-04-06T04:28:40.435Z"
   },
   {
    "duration": 49,
    "start_time": "2022-04-06T04:28:40.598Z"
   },
   {
    "duration": 7,
    "start_time": "2022-04-06T04:28:40.650Z"
   },
   {
    "duration": 6,
    "start_time": "2022-04-06T04:28:40.685Z"
   },
   {
    "duration": 24,
    "start_time": "2022-04-06T04:28:40.694Z"
   },
   {
    "duration": 6,
    "start_time": "2022-04-06T04:28:40.721Z"
   },
   {
    "duration": 8,
    "start_time": "2022-04-06T04:28:40.729Z"
   },
   {
    "duration": 46,
    "start_time": "2022-04-06T04:28:40.739Z"
   },
   {
    "duration": 21,
    "start_time": "2022-04-06T04:28:40.787Z"
   },
   {
    "duration": 18,
    "start_time": "2022-04-06T04:28:40.810Z"
   },
   {
    "duration": 58,
    "start_time": "2022-04-06T04:28:40.830Z"
   },
   {
    "duration": 420,
    "start_time": "2022-04-06T04:28:40.890Z"
   },
   {
    "duration": 6,
    "start_time": "2022-04-06T04:28:41.312Z"
   },
   {
    "duration": 8,
    "start_time": "2022-04-06T04:28:41.320Z"
   },
   {
    "duration": 51,
    "start_time": "2022-04-06T04:28:41.333Z"
   },
   {
    "duration": 13,
    "start_time": "2022-04-06T04:28:41.386Z"
   },
   {
    "duration": 16,
    "start_time": "2022-04-06T04:28:41.401Z"
   },
   {
    "duration": 20,
    "start_time": "2022-04-06T04:28:41.419Z"
   },
   {
    "duration": 63,
    "start_time": "2022-04-06T04:28:41.441Z"
   },
   {
    "duration": 88,
    "start_time": "2022-04-06T04:28:41.506Z"
   },
   {
    "duration": 60,
    "start_time": "2022-04-06T04:28:41.596Z"
   },
   {
    "duration": 1225,
    "start_time": "2022-04-06T04:28:41.683Z"
   },
   {
    "duration": 1092,
    "start_time": "2022-04-06T04:28:42.911Z"
   },
   {
    "duration": 6,
    "start_time": "2022-04-06T04:28:44.006Z"
   },
   {
    "duration": 13,
    "start_time": "2022-04-06T04:28:44.015Z"
   },
   {
    "duration": 21,
    "start_time": "2022-04-06T04:28:44.030Z"
   },
   {
    "duration": 35,
    "start_time": "2022-04-06T04:28:44.054Z"
   },
   {
    "duration": 9,
    "start_time": "2022-04-06T04:28:44.091Z"
   },
   {
    "duration": 304,
    "start_time": "2022-04-06T04:28:44.103Z"
   },
   {
    "duration": 478,
    "start_time": "2022-04-06T04:28:44.409Z"
   },
   {
    "duration": 280,
    "start_time": "2022-04-06T04:28:44.890Z"
   },
   {
    "duration": 43,
    "start_time": "2022-04-06T04:28:45.172Z"
   },
   {
    "duration": 7,
    "start_time": "2022-04-06T04:36:30.636Z"
   },
   {
    "duration": 6,
    "start_time": "2022-04-06T04:36:35.801Z"
   },
   {
    "duration": 6,
    "start_time": "2022-04-06T04:36:48.491Z"
   },
   {
    "duration": 275,
    "start_time": "2022-04-06T04:38:32.939Z"
   },
   {
    "duration": 265,
    "start_time": "2022-04-06T04:38:41.883Z"
   },
   {
    "duration": 161,
    "start_time": "2022-04-06T04:42:14.090Z"
   },
   {
    "duration": 308,
    "start_time": "2022-04-06T04:42:19.526Z"
   },
   {
    "duration": 264,
    "start_time": "2022-04-06T04:42:50.859Z"
   },
   {
    "duration": 274,
    "start_time": "2022-04-06T04:43:57.570Z"
   },
   {
    "duration": 63,
    "start_time": "2022-04-06T05:11:02.053Z"
   },
   {
    "duration": 20,
    "start_time": "2022-04-06T05:27:42.544Z"
   },
   {
    "duration": 21,
    "start_time": "2022-04-06T05:28:02.240Z"
   },
   {
    "duration": 5,
    "start_time": "2022-04-06T05:30:26.815Z"
   },
   {
    "duration": 28,
    "start_time": "2022-04-06T05:31:38.644Z"
   },
   {
    "duration": 4,
    "start_time": "2022-04-06T05:35:19.664Z"
   },
   {
    "duration": 6,
    "start_time": "2022-04-06T05:35:40.559Z"
   },
   {
    "duration": 5,
    "start_time": "2022-04-06T05:35:45.421Z"
   },
   {
    "duration": 17,
    "start_time": "2022-04-06T05:35:49.342Z"
   },
   {
    "duration": 1575,
    "start_time": "2022-04-06T05:35:59.553Z"
   },
   {
    "duration": 547,
    "start_time": "2022-04-06T05:36:01.131Z"
   },
   {
    "duration": 56,
    "start_time": "2022-04-06T05:36:01.681Z"
   },
   {
    "duration": 160,
    "start_time": "2022-04-06T05:36:01.739Z"
   },
   {
    "duration": 115,
    "start_time": "2022-04-06T05:36:01.902Z"
   },
   {
    "duration": 349,
    "start_time": "2022-04-06T05:36:02.019Z"
   },
   {
    "duration": 20,
    "start_time": "2022-04-06T05:36:02.371Z"
   },
   {
    "duration": 192,
    "start_time": "2022-04-06T05:36:02.393Z"
   },
   {
    "duration": 0,
    "start_time": "2022-04-06T05:36:02.589Z"
   },
   {
    "duration": 0,
    "start_time": "2022-04-06T05:36:02.591Z"
   },
   {
    "duration": 0,
    "start_time": "2022-04-06T05:36:02.592Z"
   },
   {
    "duration": 0,
    "start_time": "2022-04-06T05:36:02.593Z"
   },
   {
    "duration": 0,
    "start_time": "2022-04-06T05:36:02.594Z"
   },
   {
    "duration": 0,
    "start_time": "2022-04-06T05:36:02.596Z"
   },
   {
    "duration": 0,
    "start_time": "2022-04-06T05:36:02.597Z"
   },
   {
    "duration": 0,
    "start_time": "2022-04-06T05:36:02.598Z"
   },
   {
    "duration": 0,
    "start_time": "2022-04-06T05:36:02.600Z"
   },
   {
    "duration": 0,
    "start_time": "2022-04-06T05:36:02.601Z"
   },
   {
    "duration": 0,
    "start_time": "2022-04-06T05:36:02.602Z"
   },
   {
    "duration": 0,
    "start_time": "2022-04-06T05:36:02.603Z"
   },
   {
    "duration": 0,
    "start_time": "2022-04-06T05:36:02.604Z"
   },
   {
    "duration": 0,
    "start_time": "2022-04-06T05:36:02.605Z"
   },
   {
    "duration": 0,
    "start_time": "2022-04-06T05:36:02.606Z"
   },
   {
    "duration": 0,
    "start_time": "2022-04-06T05:36:02.607Z"
   },
   {
    "duration": 0,
    "start_time": "2022-04-06T05:36:02.609Z"
   },
   {
    "duration": 0,
    "start_time": "2022-04-06T05:36:02.610Z"
   },
   {
    "duration": 0,
    "start_time": "2022-04-06T05:36:02.612Z"
   },
   {
    "duration": 0,
    "start_time": "2022-04-06T05:36:02.613Z"
   },
   {
    "duration": 0,
    "start_time": "2022-04-06T05:36:02.615Z"
   },
   {
    "duration": 0,
    "start_time": "2022-04-06T05:36:02.616Z"
   },
   {
    "duration": 0,
    "start_time": "2022-04-06T05:36:02.617Z"
   },
   {
    "duration": 0,
    "start_time": "2022-04-06T05:36:02.619Z"
   },
   {
    "duration": 0,
    "start_time": "2022-04-06T05:36:02.620Z"
   },
   {
    "duration": 0,
    "start_time": "2022-04-06T05:36:02.621Z"
   },
   {
    "duration": 0,
    "start_time": "2022-04-06T05:36:02.622Z"
   },
   {
    "duration": 0,
    "start_time": "2022-04-06T05:36:02.624Z"
   },
   {
    "duration": 0,
    "start_time": "2022-04-06T05:36:02.626Z"
   },
   {
    "duration": 0,
    "start_time": "2022-04-06T05:36:02.627Z"
   },
   {
    "duration": 0,
    "start_time": "2022-04-06T05:36:02.684Z"
   },
   {
    "duration": 0,
    "start_time": "2022-04-06T05:36:02.686Z"
   },
   {
    "duration": 0,
    "start_time": "2022-04-06T05:36:02.687Z"
   },
   {
    "duration": 0,
    "start_time": "2022-04-06T05:36:02.688Z"
   },
   {
    "duration": 0,
    "start_time": "2022-04-06T05:36:02.690Z"
   },
   {
    "duration": 0,
    "start_time": "2022-04-06T05:36:02.691Z"
   },
   {
    "duration": 0,
    "start_time": "2022-04-06T05:36:02.692Z"
   },
   {
    "duration": 0,
    "start_time": "2022-04-06T05:36:02.694Z"
   },
   {
    "duration": 0,
    "start_time": "2022-04-06T05:36:02.695Z"
   },
   {
    "duration": 0,
    "start_time": "2022-04-06T05:36:02.696Z"
   },
   {
    "duration": 0,
    "start_time": "2022-04-06T05:36:02.698Z"
   },
   {
    "duration": 0,
    "start_time": "2022-04-06T05:36:02.699Z"
   },
   {
    "duration": 0,
    "start_time": "2022-04-06T05:36:02.700Z"
   },
   {
    "duration": 0,
    "start_time": "2022-04-06T05:36:02.701Z"
   },
   {
    "duration": 5,
    "start_time": "2022-04-06T05:36:21.398Z"
   },
   {
    "duration": 6,
    "start_time": "2022-04-06T05:36:23.070Z"
   },
   {
    "duration": 162,
    "start_time": "2022-04-06T05:36:24.062Z"
   },
   {
    "duration": 55,
    "start_time": "2022-04-06T05:36:26.286Z"
   },
   {
    "duration": 1531,
    "start_time": "2022-04-06T05:39:04.017Z"
   },
   {
    "duration": 1179,
    "start_time": "2022-04-06T05:39:05.553Z"
   },
   {
    "duration": 73,
    "start_time": "2022-04-06T05:39:06.735Z"
   },
   {
    "duration": 178,
    "start_time": "2022-04-06T05:39:06.810Z"
   },
   {
    "duration": 124,
    "start_time": "2022-04-06T05:39:06.990Z"
   },
   {
    "duration": 373,
    "start_time": "2022-04-06T05:39:07.116Z"
   },
   {
    "duration": 10,
    "start_time": "2022-04-06T05:39:07.493Z"
   },
   {
    "duration": 5,
    "start_time": "2022-04-06T05:39:07.505Z"
   },
   {
    "duration": 8,
    "start_time": "2022-04-06T05:39:07.513Z"
   },
   {
    "duration": 190,
    "start_time": "2022-04-06T05:39:07.526Z"
   },
   {
    "duration": 77,
    "start_time": "2022-04-06T05:39:07.718Z"
   },
   {
    "duration": 15,
    "start_time": "2022-04-06T05:39:07.797Z"
   },
   {
    "duration": 8,
    "start_time": "2022-04-06T05:39:07.814Z"
   },
   {
    "duration": 289,
    "start_time": "2022-04-06T05:39:07.824Z"
   },
   {
    "duration": 166,
    "start_time": "2022-04-06T05:39:08.116Z"
   },
   {
    "duration": 215,
    "start_time": "2022-04-06T05:39:08.284Z"
   },
   {
    "duration": 47,
    "start_time": "2022-04-06T05:39:08.501Z"
   },
   {
    "duration": 6,
    "start_time": "2022-04-06T05:39:08.550Z"
   },
   {
    "duration": 33,
    "start_time": "2022-04-06T05:39:08.558Z"
   },
   {
    "duration": 16,
    "start_time": "2022-04-06T05:39:08.594Z"
   },
   {
    "duration": 13,
    "start_time": "2022-04-06T05:39:08.613Z"
   },
   {
    "duration": 14,
    "start_time": "2022-04-06T05:39:08.628Z"
   },
   {
    "duration": 69,
    "start_time": "2022-04-06T05:39:08.645Z"
   },
   {
    "duration": 24,
    "start_time": "2022-04-06T05:39:08.717Z"
   },
   {
    "duration": 39,
    "start_time": "2022-04-06T05:39:08.744Z"
   },
   {
    "duration": 27,
    "start_time": "2022-04-06T05:39:08.786Z"
   },
   {
    "duration": 425,
    "start_time": "2022-04-06T05:39:08.815Z"
   },
   {
    "duration": 5,
    "start_time": "2022-04-06T05:39:09.246Z"
   },
   {
    "duration": 8,
    "start_time": "2022-04-06T05:39:09.253Z"
   },
   {
    "duration": 61,
    "start_time": "2022-04-06T05:39:09.264Z"
   },
   {
    "duration": 33,
    "start_time": "2022-04-06T05:39:09.328Z"
   },
   {
    "duration": 23,
    "start_time": "2022-04-06T05:39:09.364Z"
   },
   {
    "duration": 19,
    "start_time": "2022-04-06T05:39:09.390Z"
   },
   {
    "duration": 35,
    "start_time": "2022-04-06T05:39:09.412Z"
   },
   {
    "duration": 91,
    "start_time": "2022-04-06T05:39:09.449Z"
   },
   {
    "duration": 74,
    "start_time": "2022-04-06T05:39:09.542Z"
   },
   {
    "duration": 1211,
    "start_time": "2022-04-06T05:39:09.618Z"
   },
   {
    "duration": 1112,
    "start_time": "2022-04-06T05:39:10.831Z"
   },
   {
    "duration": 6,
    "start_time": "2022-04-06T05:39:11.945Z"
   },
   {
    "duration": 21,
    "start_time": "2022-04-06T05:39:11.953Z"
   },
   {
    "duration": 24,
    "start_time": "2022-04-06T05:39:11.976Z"
   },
   {
    "duration": 9,
    "start_time": "2022-04-06T05:39:12.002Z"
   },
   {
    "duration": 106,
    "start_time": "2022-04-06T05:39:12.014Z"
   },
   {
    "duration": 7,
    "start_time": "2022-04-06T05:39:12.122Z"
   },
   {
    "duration": 322,
    "start_time": "2022-04-06T05:39:12.131Z"
   },
   {
    "duration": 555,
    "start_time": "2022-04-06T05:39:12.456Z"
   },
   {
    "duration": 296,
    "start_time": "2022-04-06T05:39:13.014Z"
   },
   {
    "duration": 50,
    "start_time": "2022-04-06T05:39:13.313Z"
   },
   {
    "duration": 25,
    "start_time": "2022-04-06T05:41:37.399Z"
   },
   {
    "duration": 159,
    "start_time": "2022-04-06T05:43:41.839Z"
   },
   {
    "duration": 1621,
    "start_time": "2022-04-06T05:43:49.627Z"
   },
   {
    "duration": 551,
    "start_time": "2022-04-06T05:43:51.251Z"
   },
   {
    "duration": 53,
    "start_time": "2022-04-06T05:43:51.805Z"
   },
   {
    "duration": 152,
    "start_time": "2022-04-06T05:43:51.860Z"
   },
   {
    "duration": 114,
    "start_time": "2022-04-06T05:43:52.014Z"
   },
   {
    "duration": 366,
    "start_time": "2022-04-06T05:43:52.130Z"
   },
   {
    "duration": 10,
    "start_time": "2022-04-06T05:43:52.498Z"
   },
   {
    "duration": 9,
    "start_time": "2022-04-06T05:43:52.510Z"
   },
   {
    "duration": 9,
    "start_time": "2022-04-06T05:43:52.521Z"
   },
   {
    "duration": 187,
    "start_time": "2022-04-06T05:43:52.534Z"
   },
   {
    "duration": 76,
    "start_time": "2022-04-06T05:43:52.723Z"
   },
   {
    "duration": 16,
    "start_time": "2022-04-06T05:43:52.801Z"
   },
   {
    "duration": 14,
    "start_time": "2022-04-06T05:43:52.820Z"
   },
   {
    "duration": 284,
    "start_time": "2022-04-06T05:43:52.836Z"
   },
   {
    "duration": 161,
    "start_time": "2022-04-06T05:43:53.122Z"
   },
   {
    "duration": 200,
    "start_time": "2022-04-06T05:43:53.285Z"
   },
   {
    "duration": 48,
    "start_time": "2022-04-06T05:43:53.487Z"
   },
   {
    "duration": 6,
    "start_time": "2022-04-06T05:43:53.538Z"
   },
   {
    "duration": 37,
    "start_time": "2022-04-06T05:43:53.547Z"
   },
   {
    "duration": 5,
    "start_time": "2022-04-06T05:43:53.587Z"
   },
   {
    "duration": 10,
    "start_time": "2022-04-06T05:43:53.594Z"
   },
   {
    "duration": 8,
    "start_time": "2022-04-06T05:43:53.606Z"
   },
   {
    "duration": 16,
    "start_time": "2022-04-06T05:43:53.616Z"
   },
   {
    "duration": 62,
    "start_time": "2022-04-06T05:43:53.635Z"
   },
   {
    "duration": 17,
    "start_time": "2022-04-06T05:43:53.699Z"
   },
   {
    "duration": 26,
    "start_time": "2022-04-06T05:43:53.718Z"
   },
   {
    "duration": 456,
    "start_time": "2022-04-06T05:43:53.746Z"
   },
   {
    "duration": 8,
    "start_time": "2022-04-06T05:43:54.207Z"
   },
   {
    "duration": 7,
    "start_time": "2022-04-06T05:43:54.218Z"
   },
   {
    "duration": 24,
    "start_time": "2022-04-06T05:43:54.227Z"
   },
   {
    "duration": 40,
    "start_time": "2022-04-06T05:43:54.254Z"
   },
   {
    "duration": 41,
    "start_time": "2022-04-06T05:43:54.297Z"
   },
   {
    "duration": 28,
    "start_time": "2022-04-06T05:43:54.340Z"
   },
   {
    "duration": 178,
    "start_time": "2022-04-06T05:43:54.370Z"
   },
   {
    "duration": 64,
    "start_time": "2022-04-06T05:43:54.550Z"
   },
   {
    "duration": 76,
    "start_time": "2022-04-06T05:43:54.616Z"
   },
   {
    "duration": 1155,
    "start_time": "2022-04-06T05:43:54.695Z"
   },
   {
    "duration": 2066,
    "start_time": "2022-04-06T05:43:55.853Z"
   },
   {
    "duration": 5,
    "start_time": "2022-04-06T05:43:57.922Z"
   },
   {
    "duration": 7,
    "start_time": "2022-04-06T05:43:57.985Z"
   },
   {
    "duration": 23,
    "start_time": "2022-04-06T05:43:57.994Z"
   },
   {
    "duration": 7,
    "start_time": "2022-04-06T05:43:58.019Z"
   },
   {
    "duration": 114,
    "start_time": "2022-04-06T05:43:58.084Z"
   },
   {
    "duration": 24,
    "start_time": "2022-04-06T05:43:58.201Z"
   },
   {
    "duration": 134,
    "start_time": "2022-04-06T05:43:58.228Z"
   },
   {
    "duration": 0,
    "start_time": "2022-04-06T05:43:58.364Z"
   },
   {
    "duration": 0,
    "start_time": "2022-04-06T05:43:58.366Z"
   },
   {
    "duration": 0,
    "start_time": "2022-04-06T05:43:58.368Z"
   },
   {
    "duration": 0,
    "start_time": "2022-04-06T05:43:58.370Z"
   },
   {
    "duration": 0,
    "start_time": "2022-04-06T05:43:58.384Z"
   },
   {
    "duration": 26,
    "start_time": "2022-04-06T05:45:44.201Z"
   },
   {
    "duration": 23,
    "start_time": "2022-04-06T05:46:02.336Z"
   },
   {
    "duration": 21,
    "start_time": "2022-04-06T05:47:54.800Z"
   },
   {
    "duration": 17,
    "start_time": "2022-04-06T05:47:55.639Z"
   },
   {
    "duration": 16,
    "start_time": "2022-04-06T05:48:15.360Z"
   },
   {
    "duration": 19,
    "start_time": "2022-04-06T05:52:48.239Z"
   },
   {
    "duration": 22,
    "start_time": "2022-04-06T05:53:27.688Z"
   },
   {
    "duration": 17,
    "start_time": "2022-04-06T05:54:13.815Z"
   },
   {
    "duration": 141,
    "start_time": "2022-04-06T05:54:33.247Z"
   },
   {
    "duration": 11,
    "start_time": "2022-04-06T05:55:25.152Z"
   },
   {
    "duration": 162,
    "start_time": "2022-04-06T05:59:50.365Z"
   },
   {
    "duration": 22,
    "start_time": "2022-04-06T06:03:22.019Z"
   },
   {
    "duration": 162,
    "start_time": "2022-04-06T06:05:00.187Z"
   },
   {
    "duration": 1088,
    "start_time": "2022-04-06T06:07:47.324Z"
   },
   {
    "duration": 19,
    "start_time": "2022-04-06T06:07:50.003Z"
   },
   {
    "duration": 5,
    "start_time": "2022-04-06T06:10:05.299Z"
   },
   {
    "duration": 2361,
    "start_time": "2022-04-06T06:11:03.883Z"
   },
   {
    "duration": 14,
    "start_time": "2022-04-06T06:11:17.258Z"
   },
   {
    "duration": 3,
    "start_time": "2022-04-06T06:11:28.075Z"
   },
   {
    "duration": 1563,
    "start_time": "2022-04-06T06:11:32.482Z"
   },
   {
    "duration": 551,
    "start_time": "2022-04-06T06:11:34.047Z"
   },
   {
    "duration": 55,
    "start_time": "2022-04-06T06:11:34.601Z"
   },
   {
    "duration": 133,
    "start_time": "2022-04-06T06:11:34.683Z"
   },
   {
    "duration": 148,
    "start_time": "2022-04-06T06:11:34.818Z"
   },
   {
    "duration": 343,
    "start_time": "2022-04-06T06:11:34.968Z"
   },
   {
    "duration": 10,
    "start_time": "2022-04-06T06:11:35.313Z"
   },
   {
    "duration": 9,
    "start_time": "2022-04-06T06:11:35.325Z"
   },
   {
    "duration": 12,
    "start_time": "2022-04-06T06:11:35.336Z"
   },
   {
    "duration": 186,
    "start_time": "2022-04-06T06:11:35.352Z"
   },
   {
    "duration": 3,
    "start_time": "2022-04-06T06:11:35.540Z"
   },
   {
    "duration": 75,
    "start_time": "2022-04-06T06:11:35.545Z"
   },
   {
    "duration": 16,
    "start_time": "2022-04-06T06:11:35.623Z"
   },
   {
    "duration": 45,
    "start_time": "2022-04-06T06:11:35.642Z"
   },
   {
    "duration": 267,
    "start_time": "2022-04-06T06:11:35.690Z"
   },
   {
    "duration": 158,
    "start_time": "2022-04-06T06:11:35.960Z"
   },
   {
    "duration": 210,
    "start_time": "2022-04-06T06:11:36.120Z"
   },
   {
    "duration": 69,
    "start_time": "2022-04-06T06:11:36.333Z"
   },
   {
    "duration": 8,
    "start_time": "2022-04-06T06:11:36.404Z"
   },
   {
    "duration": 8,
    "start_time": "2022-04-06T06:11:36.415Z"
   },
   {
    "duration": 13,
    "start_time": "2022-04-06T06:11:36.425Z"
   },
   {
    "duration": 9,
    "start_time": "2022-04-06T06:11:36.440Z"
   },
   {
    "duration": 8,
    "start_time": "2022-04-06T06:11:36.485Z"
   },
   {
    "duration": 18,
    "start_time": "2022-04-06T06:11:36.495Z"
   },
   {
    "duration": 22,
    "start_time": "2022-04-06T06:11:36.515Z"
   },
   {
    "duration": 58,
    "start_time": "2022-04-06T06:11:36.539Z"
   },
   {
    "duration": 23,
    "start_time": "2022-04-06T06:11:36.600Z"
   },
   {
    "duration": 450,
    "start_time": "2022-04-06T06:11:36.630Z"
   },
   {
    "duration": 7,
    "start_time": "2022-04-06T06:11:37.084Z"
   },
   {
    "duration": 6,
    "start_time": "2022-04-06T06:11:37.094Z"
   },
   {
    "duration": 26,
    "start_time": "2022-04-06T06:11:37.103Z"
   },
   {
    "duration": 55,
    "start_time": "2022-04-06T06:11:37.131Z"
   },
   {
    "duration": 17,
    "start_time": "2022-04-06T06:11:37.189Z"
   },
   {
    "duration": 25,
    "start_time": "2022-04-06T06:11:37.208Z"
   },
   {
    "duration": 57,
    "start_time": "2022-04-06T06:11:37.235Z"
   },
   {
    "duration": 65,
    "start_time": "2022-04-06T06:11:37.294Z"
   },
   {
    "duration": 78,
    "start_time": "2022-04-06T06:11:37.361Z"
   },
   {
    "duration": 1275,
    "start_time": "2022-04-06T06:11:37.441Z"
   },
   {
    "duration": 3498,
    "start_time": "2022-04-06T06:11:38.719Z"
   },
   {
    "duration": 7,
    "start_time": "2022-04-06T06:11:42.220Z"
   },
   {
    "duration": 7,
    "start_time": "2022-04-06T06:11:42.285Z"
   },
   {
    "duration": 30,
    "start_time": "2022-04-06T06:11:42.295Z"
   },
   {
    "duration": 61,
    "start_time": "2022-04-06T06:11:42.328Z"
   },
   {
    "duration": 201,
    "start_time": "2022-04-06T06:11:42.392Z"
   },
   {
    "duration": 17,
    "start_time": "2022-04-06T06:11:42.596Z"
   },
   {
    "duration": 87,
    "start_time": "2022-04-06T06:11:42.616Z"
   },
   {
    "duration": 80,
    "start_time": "2022-04-06T06:11:42.706Z"
   },
   {
    "duration": 8,
    "start_time": "2022-04-06T06:11:42.788Z"
   },
   {
    "duration": 897,
    "start_time": "2022-04-06T06:11:42.799Z"
   },
   {
    "duration": 1185,
    "start_time": "2022-04-06T06:11:43.699Z"
   },
   {
    "duration": 808,
    "start_time": "2022-04-06T06:11:44.887Z"
   },
   {
    "duration": 776,
    "start_time": "2022-04-06T06:11:45.698Z"
   },
   {
    "duration": 248,
    "start_time": "2022-04-06T06:12:18.597Z"
   },
   {
    "duration": 12,
    "start_time": "2022-04-06T06:12:59.278Z"
   },
   {
    "duration": 12,
    "start_time": "2022-04-06T06:19:49.195Z"
   },
   {
    "duration": 5,
    "start_time": "2022-04-06T06:20:05.436Z"
   },
   {
    "duration": 12,
    "start_time": "2022-04-06T06:20:12.410Z"
   },
   {
    "duration": 13,
    "start_time": "2022-04-06T06:21:11.418Z"
   },
   {
    "duration": 1648,
    "start_time": "2022-04-06T06:21:29.506Z"
   },
   {
    "duration": 550,
    "start_time": "2022-04-06T06:21:31.157Z"
   },
   {
    "duration": 56,
    "start_time": "2022-04-06T06:21:31.710Z"
   },
   {
    "duration": 159,
    "start_time": "2022-04-06T06:21:31.770Z"
   },
   {
    "duration": 121,
    "start_time": "2022-04-06T06:21:31.931Z"
   },
   {
    "duration": 361,
    "start_time": "2022-04-06T06:21:32.054Z"
   },
   {
    "duration": 9,
    "start_time": "2022-04-06T06:21:32.417Z"
   },
   {
    "duration": 26,
    "start_time": "2022-04-06T06:21:32.428Z"
   },
   {
    "duration": 24,
    "start_time": "2022-04-06T06:21:32.456Z"
   },
   {
    "duration": 180,
    "start_time": "2022-04-06T06:21:32.485Z"
   },
   {
    "duration": 161,
    "start_time": "2022-04-06T06:21:32.667Z"
   },
   {
    "duration": 0,
    "start_time": "2022-04-06T06:21:32.832Z"
   },
   {
    "duration": 0,
    "start_time": "2022-04-06T06:21:32.833Z"
   },
   {
    "duration": 0,
    "start_time": "2022-04-06T06:21:32.835Z"
   },
   {
    "duration": 0,
    "start_time": "2022-04-06T06:21:32.836Z"
   },
   {
    "duration": 0,
    "start_time": "2022-04-06T06:21:32.838Z"
   },
   {
    "duration": 0,
    "start_time": "2022-04-06T06:21:32.839Z"
   },
   {
    "duration": 0,
    "start_time": "2022-04-06T06:21:32.841Z"
   },
   {
    "duration": 0,
    "start_time": "2022-04-06T06:21:32.842Z"
   },
   {
    "duration": 0,
    "start_time": "2022-04-06T06:21:32.844Z"
   },
   {
    "duration": 0,
    "start_time": "2022-04-06T06:21:32.846Z"
   },
   {
    "duration": 0,
    "start_time": "2022-04-06T06:21:32.847Z"
   },
   {
    "duration": 0,
    "start_time": "2022-04-06T06:21:32.849Z"
   },
   {
    "duration": 0,
    "start_time": "2022-04-06T06:21:32.883Z"
   },
   {
    "duration": 0,
    "start_time": "2022-04-06T06:21:32.885Z"
   },
   {
    "duration": 0,
    "start_time": "2022-04-06T06:21:32.887Z"
   },
   {
    "duration": 0,
    "start_time": "2022-04-06T06:21:32.888Z"
   },
   {
    "duration": 0,
    "start_time": "2022-04-06T06:21:32.891Z"
   },
   {
    "duration": 0,
    "start_time": "2022-04-06T06:21:32.892Z"
   },
   {
    "duration": 0,
    "start_time": "2022-04-06T06:21:32.894Z"
   },
   {
    "duration": 0,
    "start_time": "2022-04-06T06:21:32.896Z"
   },
   {
    "duration": 0,
    "start_time": "2022-04-06T06:21:32.897Z"
   },
   {
    "duration": 0,
    "start_time": "2022-04-06T06:21:32.899Z"
   },
   {
    "duration": 0,
    "start_time": "2022-04-06T06:21:32.901Z"
   },
   {
    "duration": 0,
    "start_time": "2022-04-06T06:21:32.903Z"
   },
   {
    "duration": 0,
    "start_time": "2022-04-06T06:21:32.904Z"
   },
   {
    "duration": 0,
    "start_time": "2022-04-06T06:21:32.906Z"
   },
   {
    "duration": 0,
    "start_time": "2022-04-06T06:21:32.908Z"
   },
   {
    "duration": 0,
    "start_time": "2022-04-06T06:21:32.909Z"
   },
   {
    "duration": 0,
    "start_time": "2022-04-06T06:21:32.911Z"
   },
   {
    "duration": 0,
    "start_time": "2022-04-06T06:21:32.913Z"
   },
   {
    "duration": 0,
    "start_time": "2022-04-06T06:21:32.914Z"
   },
   {
    "duration": 0,
    "start_time": "2022-04-06T06:21:32.916Z"
   },
   {
    "duration": 0,
    "start_time": "2022-04-06T06:21:32.918Z"
   },
   {
    "duration": 1,
    "start_time": "2022-04-06T06:21:32.919Z"
   },
   {
    "duration": 0,
    "start_time": "2022-04-06T06:21:32.985Z"
   },
   {
    "duration": 0,
    "start_time": "2022-04-06T06:21:32.987Z"
   },
   {
    "duration": 0,
    "start_time": "2022-04-06T06:21:32.988Z"
   },
   {
    "duration": 0,
    "start_time": "2022-04-06T06:21:32.990Z"
   },
   {
    "duration": 0,
    "start_time": "2022-04-06T06:21:32.992Z"
   },
   {
    "duration": 0,
    "start_time": "2022-04-06T06:21:32.993Z"
   },
   {
    "duration": 0,
    "start_time": "2022-04-06T06:21:32.995Z"
   },
   {
    "duration": 0,
    "start_time": "2022-04-06T06:21:32.997Z"
   },
   {
    "duration": 6,
    "start_time": "2022-04-06T06:24:16.583Z"
   },
   {
    "duration": 534,
    "start_time": "2022-04-06T06:24:17.544Z"
   },
   {
    "duration": 53,
    "start_time": "2022-04-06T06:24:18.297Z"
   },
   {
    "duration": 116,
    "start_time": "2022-04-06T06:24:19.536Z"
   },
   {
    "duration": 107,
    "start_time": "2022-04-06T06:24:20.832Z"
   },
   {
    "duration": 275,
    "start_time": "2022-04-06T06:24:23.864Z"
   },
   {
    "duration": 1607,
    "start_time": "2022-04-06T06:24:30.648Z"
   },
   {
    "duration": 563,
    "start_time": "2022-04-06T06:24:32.258Z"
   },
   {
    "duration": 64,
    "start_time": "2022-04-06T06:24:32.824Z"
   },
   {
    "duration": 145,
    "start_time": "2022-04-06T06:24:32.892Z"
   },
   {
    "duration": 119,
    "start_time": "2022-04-06T06:24:33.039Z"
   },
   {
    "duration": 347,
    "start_time": "2022-04-06T06:24:33.161Z"
   },
   {
    "duration": 10,
    "start_time": "2022-04-06T06:24:33.510Z"
   },
   {
    "duration": 36,
    "start_time": "2022-04-06T06:24:33.523Z"
   },
   {
    "duration": 27,
    "start_time": "2022-04-06T06:24:33.561Z"
   },
   {
    "duration": 178,
    "start_time": "2022-04-06T06:24:33.592Z"
   },
   {
    "duration": 154,
    "start_time": "2022-04-06T06:24:33.773Z"
   },
   {
    "duration": 0,
    "start_time": "2022-04-06T06:24:33.931Z"
   },
   {
    "duration": 0,
    "start_time": "2022-04-06T06:24:33.933Z"
   },
   {
    "duration": 0,
    "start_time": "2022-04-06T06:24:33.934Z"
   },
   {
    "duration": 0,
    "start_time": "2022-04-06T06:24:33.936Z"
   },
   {
    "duration": 0,
    "start_time": "2022-04-06T06:24:33.937Z"
   },
   {
    "duration": 0,
    "start_time": "2022-04-06T06:24:33.938Z"
   },
   {
    "duration": 0,
    "start_time": "2022-04-06T06:24:33.940Z"
   },
   {
    "duration": 0,
    "start_time": "2022-04-06T06:24:33.941Z"
   },
   {
    "duration": 0,
    "start_time": "2022-04-06T06:24:33.943Z"
   },
   {
    "duration": 0,
    "start_time": "2022-04-06T06:24:33.944Z"
   },
   {
    "duration": 0,
    "start_time": "2022-04-06T06:24:33.945Z"
   },
   {
    "duration": 0,
    "start_time": "2022-04-06T06:24:33.947Z"
   },
   {
    "duration": 0,
    "start_time": "2022-04-06T06:24:33.948Z"
   },
   {
    "duration": 0,
    "start_time": "2022-04-06T06:24:33.950Z"
   },
   {
    "duration": 0,
    "start_time": "2022-04-06T06:24:33.984Z"
   },
   {
    "duration": 0,
    "start_time": "2022-04-06T06:24:33.986Z"
   },
   {
    "duration": 0,
    "start_time": "2022-04-06T06:24:33.987Z"
   },
   {
    "duration": 0,
    "start_time": "2022-04-06T06:24:33.989Z"
   },
   {
    "duration": 0,
    "start_time": "2022-04-06T06:24:33.990Z"
   },
   {
    "duration": 0,
    "start_time": "2022-04-06T06:24:33.991Z"
   },
   {
    "duration": 0,
    "start_time": "2022-04-06T06:24:33.992Z"
   },
   {
    "duration": 0,
    "start_time": "2022-04-06T06:24:33.994Z"
   },
   {
    "duration": 0,
    "start_time": "2022-04-06T06:24:33.995Z"
   },
   {
    "duration": 0,
    "start_time": "2022-04-06T06:24:33.996Z"
   },
   {
    "duration": 0,
    "start_time": "2022-04-06T06:24:33.998Z"
   },
   {
    "duration": 0,
    "start_time": "2022-04-06T06:24:33.999Z"
   },
   {
    "duration": 0,
    "start_time": "2022-04-06T06:24:34.000Z"
   },
   {
    "duration": 0,
    "start_time": "2022-04-06T06:24:34.002Z"
   },
   {
    "duration": 0,
    "start_time": "2022-04-06T06:24:34.004Z"
   },
   {
    "duration": 0,
    "start_time": "2022-04-06T06:24:34.005Z"
   },
   {
    "duration": 0,
    "start_time": "2022-04-06T06:24:34.006Z"
   },
   {
    "duration": 0,
    "start_time": "2022-04-06T06:24:34.007Z"
   },
   {
    "duration": 0,
    "start_time": "2022-04-06T06:24:34.009Z"
   },
   {
    "duration": 0,
    "start_time": "2022-04-06T06:24:34.010Z"
   },
   {
    "duration": 0,
    "start_time": "2022-04-06T06:24:34.011Z"
   },
   {
    "duration": 0,
    "start_time": "2022-04-06T06:24:34.013Z"
   },
   {
    "duration": 0,
    "start_time": "2022-04-06T06:24:34.014Z"
   },
   {
    "duration": 0,
    "start_time": "2022-04-06T06:24:34.015Z"
   },
   {
    "duration": 0,
    "start_time": "2022-04-06T06:24:34.016Z"
   },
   {
    "duration": 0,
    "start_time": "2022-04-06T06:24:34.018Z"
   },
   {
    "duration": 0,
    "start_time": "2022-04-06T06:24:34.084Z"
   },
   {
    "duration": 0,
    "start_time": "2022-04-06T06:24:34.086Z"
   },
   {
    "duration": 5,
    "start_time": "2022-04-06T06:24:59.839Z"
   },
   {
    "duration": 12,
    "start_time": "2022-04-06T06:25:16.838Z"
   },
   {
    "duration": 4,
    "start_time": "2022-04-06T06:25:22.063Z"
   },
   {
    "duration": 13,
    "start_time": "2022-04-06T06:25:32.894Z"
   },
   {
    "duration": 13,
    "start_time": "2022-04-06T06:25:35.486Z"
   },
   {
    "duration": 14,
    "start_time": "2022-04-06T06:25:37.670Z"
   },
   {
    "duration": 13,
    "start_time": "2022-04-06T06:26:29.605Z"
   },
   {
    "duration": 6,
    "start_time": "2022-04-06T06:31:54.125Z"
   },
   {
    "duration": 5,
    "start_time": "2022-04-06T06:32:06.117Z"
   },
   {
    "duration": 2422,
    "start_time": "2022-04-06T06:32:40.293Z"
   },
   {
    "duration": 24,
    "start_time": "2022-04-06T06:32:56.692Z"
   },
   {
    "duration": 4,
    "start_time": "2022-04-06T06:34:08.316Z"
   },
   {
    "duration": 37,
    "start_time": "2022-04-06T06:34:08.750Z"
   },
   {
    "duration": 5,
    "start_time": "2022-04-06T06:34:29.324Z"
   },
   {
    "duration": 26,
    "start_time": "2022-04-06T06:34:30.069Z"
   },
   {
    "duration": 28,
    "start_time": "2022-04-06T06:35:27.756Z"
   },
   {
    "duration": 5,
    "start_time": "2022-04-06T06:36:29.965Z"
   },
   {
    "duration": 5,
    "start_time": "2022-04-06T06:36:39.539Z"
   },
   {
    "duration": 23,
    "start_time": "2022-04-06T06:36:40.451Z"
   },
   {
    "duration": 5,
    "start_time": "2022-04-06T06:36:54.043Z"
   },
   {
    "duration": 26,
    "start_time": "2022-04-06T06:36:54.492Z"
   },
   {
    "duration": 27,
    "start_time": "2022-04-06T06:37:31.227Z"
   },
   {
    "duration": 1546,
    "start_time": "2022-04-06T06:40:01.408Z"
   },
   {
    "duration": 549,
    "start_time": "2022-04-06T06:40:02.957Z"
   },
   {
    "duration": 55,
    "start_time": "2022-04-06T06:40:03.508Z"
   },
   {
    "duration": 156,
    "start_time": "2022-04-06T06:40:03.566Z"
   },
   {
    "duration": 4,
    "start_time": "2022-04-06T06:40:03.724Z"
   },
   {
    "duration": 20,
    "start_time": "2022-04-06T06:40:03.730Z"
   },
   {
    "duration": 175,
    "start_time": "2022-04-06T06:40:03.752Z"
   },
   {
    "duration": 0,
    "start_time": "2022-04-06T06:40:03.932Z"
   },
   {
    "duration": 0,
    "start_time": "2022-04-06T06:40:03.934Z"
   },
   {
    "duration": 0,
    "start_time": "2022-04-06T06:40:03.935Z"
   },
   {
    "duration": 0,
    "start_time": "2022-04-06T06:40:03.937Z"
   },
   {
    "duration": 0,
    "start_time": "2022-04-06T06:40:03.939Z"
   },
   {
    "duration": 0,
    "start_time": "2022-04-06T06:40:03.940Z"
   },
   {
    "duration": 0,
    "start_time": "2022-04-06T06:40:03.942Z"
   },
   {
    "duration": 0,
    "start_time": "2022-04-06T06:40:03.944Z"
   },
   {
    "duration": 0,
    "start_time": "2022-04-06T06:40:03.945Z"
   },
   {
    "duration": 0,
    "start_time": "2022-04-06T06:40:03.947Z"
   },
   {
    "duration": 0,
    "start_time": "2022-04-06T06:40:03.949Z"
   },
   {
    "duration": 0,
    "start_time": "2022-04-06T06:40:03.951Z"
   },
   {
    "duration": 0,
    "start_time": "2022-04-06T06:40:03.984Z"
   },
   {
    "duration": 0,
    "start_time": "2022-04-06T06:40:03.985Z"
   },
   {
    "duration": 0,
    "start_time": "2022-04-06T06:40:03.987Z"
   },
   {
    "duration": 0,
    "start_time": "2022-04-06T06:40:03.988Z"
   },
   {
    "duration": 0,
    "start_time": "2022-04-06T06:40:03.989Z"
   },
   {
    "duration": 0,
    "start_time": "2022-04-06T06:40:03.990Z"
   },
   {
    "duration": 0,
    "start_time": "2022-04-06T06:40:03.992Z"
   },
   {
    "duration": 0,
    "start_time": "2022-04-06T06:40:03.993Z"
   },
   {
    "duration": 0,
    "start_time": "2022-04-06T06:40:03.995Z"
   },
   {
    "duration": 0,
    "start_time": "2022-04-06T06:40:03.996Z"
   },
   {
    "duration": 0,
    "start_time": "2022-04-06T06:40:03.997Z"
   },
   {
    "duration": 0,
    "start_time": "2022-04-06T06:40:03.999Z"
   },
   {
    "duration": 0,
    "start_time": "2022-04-06T06:40:04.000Z"
   },
   {
    "duration": 0,
    "start_time": "2022-04-06T06:40:04.001Z"
   },
   {
    "duration": 0,
    "start_time": "2022-04-06T06:40:04.003Z"
   },
   {
    "duration": 0,
    "start_time": "2022-04-06T06:40:04.004Z"
   },
   {
    "duration": 0,
    "start_time": "2022-04-06T06:40:04.005Z"
   },
   {
    "duration": 0,
    "start_time": "2022-04-06T06:40:04.007Z"
   },
   {
    "duration": 0,
    "start_time": "2022-04-06T06:40:04.008Z"
   },
   {
    "duration": 0,
    "start_time": "2022-04-06T06:40:04.009Z"
   },
   {
    "duration": 0,
    "start_time": "2022-04-06T06:40:04.010Z"
   },
   {
    "duration": 1,
    "start_time": "2022-04-06T06:40:04.011Z"
   },
   {
    "duration": 0,
    "start_time": "2022-04-06T06:40:04.013Z"
   },
   {
    "duration": 0,
    "start_time": "2022-04-06T06:40:04.014Z"
   },
   {
    "duration": 0,
    "start_time": "2022-04-06T06:40:04.015Z"
   },
   {
    "duration": 0,
    "start_time": "2022-04-06T06:40:04.017Z"
   },
   {
    "duration": 0,
    "start_time": "2022-04-06T06:40:04.018Z"
   },
   {
    "duration": 0,
    "start_time": "2022-04-06T06:40:04.019Z"
   },
   {
    "duration": 0,
    "start_time": "2022-04-06T06:40:04.085Z"
   },
   {
    "duration": 0,
    "start_time": "2022-04-06T06:40:04.086Z"
   },
   {
    "duration": 0,
    "start_time": "2022-04-06T06:40:04.088Z"
   },
   {
    "duration": 0,
    "start_time": "2022-04-06T06:40:04.089Z"
   },
   {
    "duration": 0,
    "start_time": "2022-04-06T06:40:04.090Z"
   },
   {
    "duration": 0,
    "start_time": "2022-04-06T06:40:04.091Z"
   },
   {
    "duration": 0,
    "start_time": "2022-04-06T06:40:04.093Z"
   },
   {
    "duration": 0,
    "start_time": "2022-04-06T06:40:04.094Z"
   },
   {
    "duration": 0,
    "start_time": "2022-04-06T06:40:04.095Z"
   },
   {
    "duration": 32,
    "start_time": "2022-04-06T06:41:03.810Z"
   },
   {
    "duration": 97,
    "start_time": "2022-04-06T06:42:26.802Z"
   },
   {
    "duration": 412,
    "start_time": "2022-04-06T06:42:53.954Z"
   },
   {
    "duration": 10,
    "start_time": "2022-04-06T06:42:55.625Z"
   },
   {
    "duration": 5,
    "start_time": "2022-04-06T06:42:56.162Z"
   },
   {
    "duration": 7,
    "start_time": "2022-04-06T06:42:58.848Z"
   },
   {
    "duration": 165,
    "start_time": "2022-04-06T06:43:01.362Z"
   },
   {
    "duration": 6,
    "start_time": "2022-04-06T06:44:16.114Z"
   },
   {
    "duration": 5,
    "start_time": "2022-04-06T06:44:35.089Z"
   },
   {
    "duration": 5,
    "start_time": "2022-04-06T06:44:36.801Z"
   },
   {
    "duration": 26,
    "start_time": "2022-04-06T06:44:37.561Z"
   },
   {
    "duration": 52,
    "start_time": "2022-04-06T06:44:46.714Z"
   },
   {
    "duration": 152,
    "start_time": "2022-04-06T06:46:59.105Z"
   },
   {
    "duration": 137,
    "start_time": "2022-04-06T06:50:24.354Z"
   },
   {
    "duration": 1556,
    "start_time": "2022-04-06T06:51:18.886Z"
   },
   {
    "duration": 551,
    "start_time": "2022-04-06T06:51:20.445Z"
   },
   {
    "duration": 55,
    "start_time": "2022-04-06T06:51:20.998Z"
   },
   {
    "duration": 165,
    "start_time": "2022-04-06T06:51:21.056Z"
   },
   {
    "duration": 123,
    "start_time": "2022-04-06T06:51:21.223Z"
   },
   {
    "duration": 330,
    "start_time": "2022-04-06T06:51:21.348Z"
   },
   {
    "duration": 9,
    "start_time": "2022-04-06T06:51:21.680Z"
   },
   {
    "duration": 7,
    "start_time": "2022-04-06T06:51:21.691Z"
   },
   {
    "duration": 9,
    "start_time": "2022-04-06T06:51:21.700Z"
   },
   {
    "duration": 189,
    "start_time": "2022-04-06T06:51:21.712Z"
   },
   {
    "duration": 50,
    "start_time": "2022-04-06T06:51:21.904Z"
   },
   {
    "duration": 15,
    "start_time": "2022-04-06T06:51:21.985Z"
   },
   {
    "duration": 7,
    "start_time": "2022-04-06T06:51:22.002Z"
   },
   {
    "duration": 266,
    "start_time": "2022-04-06T06:51:22.011Z"
   },
   {
    "duration": 150,
    "start_time": "2022-04-06T06:51:22.284Z"
   },
   {
    "duration": 196,
    "start_time": "2022-04-06T06:51:22.436Z"
   },
   {
    "duration": 65,
    "start_time": "2022-04-06T06:51:22.634Z"
   },
   {
    "duration": 9,
    "start_time": "2022-04-06T06:51:22.702Z"
   },
   {
    "duration": 13,
    "start_time": "2022-04-06T06:51:22.713Z"
   },
   {
    "duration": 14,
    "start_time": "2022-04-06T06:51:22.729Z"
   },
   {
    "duration": 9,
    "start_time": "2022-04-06T06:51:22.745Z"
   },
   {
    "duration": 5,
    "start_time": "2022-04-06T06:51:22.785Z"
   },
   {
    "duration": 20,
    "start_time": "2022-04-06T06:51:22.792Z"
   },
   {
    "duration": 19,
    "start_time": "2022-04-06T06:51:22.814Z"
   },
   {
    "duration": 56,
    "start_time": "2022-04-06T06:51:22.835Z"
   },
   {
    "duration": 23,
    "start_time": "2022-04-06T06:51:22.893Z"
   },
   {
    "duration": 433,
    "start_time": "2022-04-06T06:51:22.918Z"
   },
   {
    "duration": 5,
    "start_time": "2022-04-06T06:51:23.357Z"
   },
   {
    "duration": 20,
    "start_time": "2022-04-06T06:51:23.364Z"
   },
   {
    "duration": 28,
    "start_time": "2022-04-06T06:51:23.386Z"
   },
   {
    "duration": 16,
    "start_time": "2022-04-06T06:51:23.416Z"
   },
   {
    "duration": 21,
    "start_time": "2022-04-06T06:51:23.434Z"
   },
   {
    "duration": 24,
    "start_time": "2022-04-06T06:51:23.484Z"
   },
   {
    "duration": 32,
    "start_time": "2022-04-06T06:51:23.510Z"
   },
   {
    "duration": 94,
    "start_time": "2022-04-06T06:51:23.544Z"
   },
   {
    "duration": 83,
    "start_time": "2022-04-06T06:51:23.641Z"
   },
   {
    "duration": 1179,
    "start_time": "2022-04-06T06:51:23.726Z"
   },
   {
    "duration": 1084,
    "start_time": "2022-04-06T06:51:24.908Z"
   },
   {
    "duration": 5,
    "start_time": "2022-04-06T06:51:25.994Z"
   },
   {
    "duration": 12,
    "start_time": "2022-04-06T06:51:26.001Z"
   },
   {
    "duration": 21,
    "start_time": "2022-04-06T06:51:26.015Z"
   },
   {
    "duration": 6,
    "start_time": "2022-04-06T06:51:26.038Z"
   },
   {
    "duration": 96,
    "start_time": "2022-04-06T06:51:26.046Z"
   },
   {
    "duration": 11,
    "start_time": "2022-04-06T06:51:26.144Z"
   },
   {
    "duration": 28,
    "start_time": "2022-04-06T06:51:26.157Z"
   },
   {
    "duration": 300,
    "start_time": "2022-04-06T06:51:26.188Z"
   },
   {
    "duration": 396,
    "start_time": "2022-04-06T06:51:26.491Z"
   },
   {
    "duration": 287,
    "start_time": "2022-04-06T06:51:26.890Z"
   },
   {
    "duration": 47,
    "start_time": "2022-04-06T06:51:27.183Z"
   },
   {
    "duration": 177,
    "start_time": "2022-04-06T23:36:38.569Z"
   },
   {
    "duration": 1262,
    "start_time": "2022-04-06T23:50:38.820Z"
   },
   {
    "duration": 453,
    "start_time": "2022-04-06T23:50:40.085Z"
   },
   {
    "duration": 40,
    "start_time": "2022-04-06T23:50:40.540Z"
   },
   {
    "duration": 116,
    "start_time": "2022-04-06T23:50:40.582Z"
   },
   {
    "duration": 85,
    "start_time": "2022-04-06T23:50:40.700Z"
   },
   {
    "duration": 264,
    "start_time": "2022-04-06T23:50:40.787Z"
   },
   {
    "duration": 8,
    "start_time": "2022-04-06T23:50:41.053Z"
   },
   {
    "duration": 10,
    "start_time": "2022-04-06T23:50:41.062Z"
   },
   {
    "duration": 11,
    "start_time": "2022-04-06T23:50:41.073Z"
   },
   {
    "duration": 127,
    "start_time": "2022-04-06T23:50:41.085Z"
   },
   {
    "duration": 44,
    "start_time": "2022-04-06T23:50:41.214Z"
   },
   {
    "duration": 10,
    "start_time": "2022-04-06T23:50:41.260Z"
   },
   {
    "duration": 6,
    "start_time": "2022-04-06T23:50:41.273Z"
   },
   {
    "duration": 213,
    "start_time": "2022-04-06T23:50:41.283Z"
   },
   {
    "duration": 116,
    "start_time": "2022-04-06T23:50:41.497Z"
   },
   {
    "duration": 145,
    "start_time": "2022-04-06T23:50:41.614Z"
   },
   {
    "duration": 32,
    "start_time": "2022-04-06T23:50:41.762Z"
   },
   {
    "duration": 4,
    "start_time": "2022-04-06T23:50:41.796Z"
   },
   {
    "duration": 8,
    "start_time": "2022-04-06T23:50:41.802Z"
   },
   {
    "duration": 22,
    "start_time": "2022-04-06T23:50:41.812Z"
   },
   {
    "duration": 6,
    "start_time": "2022-04-06T23:50:41.836Z"
   },
   {
    "duration": 5,
    "start_time": "2022-04-06T23:50:41.844Z"
   },
   {
    "duration": 11,
    "start_time": "2022-04-06T23:50:41.850Z"
   },
   {
    "duration": 14,
    "start_time": "2022-04-06T23:50:41.863Z"
   },
   {
    "duration": 12,
    "start_time": "2022-04-06T23:50:41.878Z"
   },
   {
    "duration": 15,
    "start_time": "2022-04-06T23:50:41.931Z"
   },
   {
    "duration": 238,
    "start_time": "2022-04-06T23:50:41.948Z"
   },
   {
    "duration": 5,
    "start_time": "2022-04-06T23:50:42.188Z"
   },
   {
    "duration": 9,
    "start_time": "2022-04-06T23:50:42.194Z"
   },
   {
    "duration": 32,
    "start_time": "2022-04-06T23:50:42.204Z"
   },
   {
    "duration": 11,
    "start_time": "2022-04-06T23:50:42.238Z"
   },
   {
    "duration": 15,
    "start_time": "2022-04-06T23:50:42.251Z"
   },
   {
    "duration": 19,
    "start_time": "2022-04-06T23:50:42.268Z"
   },
   {
    "duration": 44,
    "start_time": "2022-04-06T23:50:42.289Z"
   },
   {
    "duration": 39,
    "start_time": "2022-04-06T23:50:42.335Z"
   },
   {
    "duration": 57,
    "start_time": "2022-04-06T23:50:42.376Z"
   },
   {
    "duration": 868,
    "start_time": "2022-04-06T23:50:42.435Z"
   },
   {
    "duration": 703,
    "start_time": "2022-04-06T23:50:43.305Z"
   },
   {
    "duration": 4,
    "start_time": "2022-04-06T23:50:44.009Z"
   },
   {
    "duration": 19,
    "start_time": "2022-04-06T23:50:44.015Z"
   },
   {
    "duration": 15,
    "start_time": "2022-04-06T23:50:44.038Z"
   },
   {
    "duration": 4,
    "start_time": "2022-04-06T23:50:44.055Z"
   },
   {
    "duration": 41,
    "start_time": "2022-04-06T23:50:44.061Z"
   },
   {
    "duration": 28,
    "start_time": "2022-04-06T23:50:44.104Z"
   },
   {
    "duration": 4,
    "start_time": "2022-04-06T23:50:44.134Z"
   },
   {
    "duration": 200,
    "start_time": "2022-04-06T23:50:44.139Z"
   },
   {
    "duration": 274,
    "start_time": "2022-04-06T23:50:44.341Z"
   },
   {
    "duration": 187,
    "start_time": "2022-04-06T23:50:44.616Z"
   },
   {
    "duration": 40,
    "start_time": "2022-04-06T23:50:44.805Z"
   },
   {
    "duration": 110,
    "start_time": "2022-04-06T23:52:15.346Z"
   },
   {
    "duration": 13,
    "start_time": "2022-04-06T23:52:18.963Z"
   },
   {
    "duration": 8,
    "start_time": "2022-04-06T23:53:06.478Z"
   },
   {
    "duration": 13,
    "start_time": "2022-04-06T23:53:16.173Z"
   },
   {
    "duration": 4,
    "start_time": "2022-04-06T23:56:21.514Z"
   },
   {
    "duration": 20,
    "start_time": "2022-04-06T23:56:33.324Z"
   },
   {
    "duration": 4,
    "start_time": "2022-04-06T23:57:31.142Z"
   },
   {
    "duration": 19,
    "start_time": "2022-04-06T23:57:35.797Z"
   },
   {
    "duration": 4,
    "start_time": "2022-04-06T23:58:01.136Z"
   },
   {
    "duration": 3,
    "start_time": "2022-04-06T23:58:04.585Z"
   },
   {
    "duration": 11,
    "start_time": "2022-04-06T23:58:11.175Z"
   },
   {
    "duration": 18,
    "start_time": "2022-04-06T23:58:27.144Z"
   },
   {
    "duration": 4,
    "start_time": "2022-04-06T23:59:18.625Z"
   },
   {
    "duration": 17,
    "start_time": "2022-04-06T23:59:19.896Z"
   },
   {
    "duration": 3,
    "start_time": "2022-04-07T00:00:03.572Z"
   },
   {
    "duration": 39,
    "start_time": "2022-04-07T00:00:17.316Z"
   },
   {
    "duration": 2,
    "start_time": "2022-04-07T00:00:34.773Z"
   },
   {
    "duration": 10,
    "start_time": "2022-04-07T00:01:21.741Z"
   },
   {
    "duration": 12,
    "start_time": "2022-04-07T00:01:29.927Z"
   },
   {
    "duration": 4,
    "start_time": "2022-04-07T00:01:51.943Z"
   },
   {
    "duration": 4,
    "start_time": "2022-04-07T00:02:07.632Z"
   },
   {
    "duration": 4,
    "start_time": "2022-04-07T00:02:45.450Z"
   },
   {
    "duration": 2,
    "start_time": "2022-04-07T00:02:47.320Z"
   },
   {
    "duration": 18,
    "start_time": "2022-04-07T00:02:51.690Z"
   },
   {
    "duration": 3,
    "start_time": "2022-04-07T00:03:15.034Z"
   },
   {
    "duration": 18,
    "start_time": "2022-04-07T00:03:17.610Z"
   },
   {
    "duration": 4,
    "start_time": "2022-04-07T00:04:00.668Z"
   },
   {
    "duration": 4,
    "start_time": "2022-04-07T00:06:16.904Z"
   },
   {
    "duration": 4,
    "start_time": "2022-04-07T00:06:28.881Z"
   },
   {
    "duration": 9,
    "start_time": "2022-04-07T00:06:40.441Z"
   },
   {
    "duration": 6,
    "start_time": "2022-04-07T00:08:21.765Z"
   },
   {
    "duration": 8,
    "start_time": "2022-04-07T00:09:01.973Z"
   },
   {
    "duration": 8,
    "start_time": "2022-04-07T00:09:12.950Z"
   },
   {
    "duration": 9,
    "start_time": "2022-04-07T00:09:38.655Z"
   },
   {
    "duration": 155,
    "start_time": "2022-04-07T00:09:42.024Z"
   },
   {
    "duration": 6,
    "start_time": "2022-04-07T00:09:45.136Z"
   },
   {
    "duration": 13,
    "start_time": "2022-04-07T00:11:12.899Z"
   },
   {
    "duration": 13,
    "start_time": "2022-04-07T00:11:21.963Z"
   },
   {
    "duration": 13,
    "start_time": "2022-04-07T00:12:40.455Z"
   },
   {
    "duration": 7,
    "start_time": "2022-04-07T00:12:45.982Z"
   },
   {
    "duration": 7,
    "start_time": "2022-04-07T00:13:06.398Z"
   },
   {
    "duration": 4,
    "start_time": "2022-04-07T00:16:45.558Z"
   },
   {
    "duration": 3,
    "start_time": "2022-04-07T00:17:03.400Z"
   },
   {
    "duration": 18,
    "start_time": "2022-04-07T00:17:05.679Z"
   },
   {
    "duration": 4,
    "start_time": "2022-04-07T00:19:17.635Z"
   },
   {
    "duration": 4,
    "start_time": "2022-04-07T00:19:39.268Z"
   },
   {
    "duration": 4,
    "start_time": "2022-04-07T00:20:17.190Z"
   },
   {
    "duration": 16,
    "start_time": "2022-04-07T00:20:19.926Z"
   },
   {
    "duration": 3,
    "start_time": "2022-04-07T00:20:39.694Z"
   },
   {
    "duration": 17,
    "start_time": "2022-04-07T00:20:41.446Z"
   },
   {
    "duration": 3,
    "start_time": "2022-04-07T00:20:56.343Z"
   },
   {
    "duration": 16,
    "start_time": "2022-04-07T00:20:58.600Z"
   },
   {
    "duration": 7,
    "start_time": "2022-04-07T00:23:01.628Z"
   },
   {
    "duration": 3,
    "start_time": "2022-04-07T00:23:40.500Z"
   },
   {
    "duration": 14,
    "start_time": "2022-04-07T00:24:50.983Z"
   },
   {
    "duration": 17,
    "start_time": "2022-04-07T00:26:01.417Z"
   },
   {
    "duration": 1179,
    "start_time": "2022-04-07T00:27:55.978Z"
   },
   {
    "duration": 418,
    "start_time": "2022-04-07T00:27:57.159Z"
   },
   {
    "duration": 34,
    "start_time": "2022-04-07T00:27:57.579Z"
   },
   {
    "duration": 81,
    "start_time": "2022-04-07T00:27:57.615Z"
   },
   {
    "duration": 80,
    "start_time": "2022-04-07T00:27:57.697Z"
   },
   {
    "duration": 11,
    "start_time": "2022-04-07T00:27:57.778Z"
   },
   {
    "duration": 252,
    "start_time": "2022-04-07T00:27:57.790Z"
   },
   {
    "duration": 7,
    "start_time": "2022-04-07T00:27:58.043Z"
   },
   {
    "duration": 7,
    "start_time": "2022-04-07T00:27:58.051Z"
   },
   {
    "duration": 8,
    "start_time": "2022-04-07T00:27:58.060Z"
   },
   {
    "duration": 139,
    "start_time": "2022-04-07T00:27:58.069Z"
   },
   {
    "duration": 7,
    "start_time": "2022-04-07T00:27:58.210Z"
   },
   {
    "duration": 172,
    "start_time": "2022-04-07T00:27:58.218Z"
   },
   {
    "duration": 0,
    "start_time": "2022-04-07T00:27:58.392Z"
   },
   {
    "duration": 0,
    "start_time": "2022-04-07T00:27:58.393Z"
   },
   {
    "duration": 0,
    "start_time": "2022-04-07T00:27:58.395Z"
   },
   {
    "duration": 0,
    "start_time": "2022-04-07T00:27:58.396Z"
   },
   {
    "duration": 0,
    "start_time": "2022-04-07T00:27:58.397Z"
   },
   {
    "duration": 0,
    "start_time": "2022-04-07T00:27:58.398Z"
   },
   {
    "duration": 0,
    "start_time": "2022-04-07T00:27:58.400Z"
   },
   {
    "duration": 0,
    "start_time": "2022-04-07T00:27:58.400Z"
   },
   {
    "duration": 0,
    "start_time": "2022-04-07T00:27:58.402Z"
   },
   {
    "duration": 0,
    "start_time": "2022-04-07T00:27:58.403Z"
   },
   {
    "duration": 0,
    "start_time": "2022-04-07T00:27:58.404Z"
   },
   {
    "duration": 0,
    "start_time": "2022-04-07T00:27:58.405Z"
   },
   {
    "duration": 0,
    "start_time": "2022-04-07T00:27:58.406Z"
   },
   {
    "duration": 0,
    "start_time": "2022-04-07T00:27:58.407Z"
   },
   {
    "duration": 0,
    "start_time": "2022-04-07T00:27:58.408Z"
   },
   {
    "duration": 0,
    "start_time": "2022-04-07T00:27:58.409Z"
   },
   {
    "duration": 0,
    "start_time": "2022-04-07T00:27:58.410Z"
   },
   {
    "duration": 0,
    "start_time": "2022-04-07T00:27:58.411Z"
   },
   {
    "duration": 0,
    "start_time": "2022-04-07T00:27:58.412Z"
   },
   {
    "duration": 0,
    "start_time": "2022-04-07T00:27:58.413Z"
   },
   {
    "duration": 0,
    "start_time": "2022-04-07T00:27:58.414Z"
   },
   {
    "duration": 0,
    "start_time": "2022-04-07T00:27:58.415Z"
   },
   {
    "duration": 0,
    "start_time": "2022-04-07T00:27:58.416Z"
   },
   {
    "duration": 0,
    "start_time": "2022-04-07T00:27:58.417Z"
   },
   {
    "duration": 0,
    "start_time": "2022-04-07T00:27:58.418Z"
   },
   {
    "duration": 0,
    "start_time": "2022-04-07T00:27:58.419Z"
   },
   {
    "duration": 0,
    "start_time": "2022-04-07T00:27:58.420Z"
   },
   {
    "duration": 0,
    "start_time": "2022-04-07T00:27:58.421Z"
   },
   {
    "duration": 0,
    "start_time": "2022-04-07T00:27:58.422Z"
   },
   {
    "duration": 0,
    "start_time": "2022-04-07T00:27:58.423Z"
   },
   {
    "duration": 0,
    "start_time": "2022-04-07T00:27:58.424Z"
   },
   {
    "duration": 0,
    "start_time": "2022-04-07T00:27:58.425Z"
   },
   {
    "duration": 0,
    "start_time": "2022-04-07T00:27:58.427Z"
   },
   {
    "duration": 0,
    "start_time": "2022-04-07T00:27:58.427Z"
   },
   {
    "duration": 0,
    "start_time": "2022-04-07T00:27:58.428Z"
   },
   {
    "duration": 0,
    "start_time": "2022-04-07T00:27:58.431Z"
   },
   {
    "duration": 0,
    "start_time": "2022-04-07T00:27:58.432Z"
   },
   {
    "duration": 0,
    "start_time": "2022-04-07T00:27:58.433Z"
   },
   {
    "duration": 0,
    "start_time": "2022-04-07T00:27:58.434Z"
   },
   {
    "duration": 0,
    "start_time": "2022-04-07T00:27:58.435Z"
   },
   {
    "duration": 0,
    "start_time": "2022-04-07T00:27:58.436Z"
   },
   {
    "duration": 72,
    "start_time": "2022-04-07T00:29:55.751Z"
   },
   {
    "duration": 12,
    "start_time": "2022-04-07T00:29:57.405Z"
   },
   {
    "duration": 166,
    "start_time": "2022-04-07T00:30:45.144Z"
   },
   {
    "duration": 51,
    "start_time": "2022-04-07T00:31:02.002Z"
   },
   {
    "duration": 1270,
    "start_time": "2022-04-07T00:31:22.899Z"
   },
   {
    "duration": 437,
    "start_time": "2022-04-07T00:31:24.172Z"
   },
   {
    "duration": 38,
    "start_time": "2022-04-07T00:31:24.611Z"
   },
   {
    "duration": 111,
    "start_time": "2022-04-07T00:31:24.651Z"
   },
   {
    "duration": 94,
    "start_time": "2022-04-07T00:31:24.765Z"
   },
   {
    "duration": 12,
    "start_time": "2022-04-07T00:31:24.860Z"
   },
   {
    "duration": 98,
    "start_time": "2022-04-07T00:31:24.874Z"
   },
   {
    "duration": 11,
    "start_time": "2022-04-07T00:31:24.974Z"
   },
   {
    "duration": 230,
    "start_time": "2022-04-07T00:31:24.987Z"
   },
   {
    "duration": 13,
    "start_time": "2022-04-07T00:31:25.220Z"
   },
   {
    "duration": 6,
    "start_time": "2022-04-07T00:31:25.235Z"
   },
   {
    "duration": 10,
    "start_time": "2022-04-07T00:31:25.243Z"
   },
   {
    "duration": 53,
    "start_time": "2022-04-07T00:31:25.254Z"
   },
   {
    "duration": 7,
    "start_time": "2022-04-07T00:31:25.310Z"
   },
   {
    "duration": 189,
    "start_time": "2022-04-07T00:31:25.333Z"
   },
   {
    "duration": 0,
    "start_time": "2022-04-07T00:31:25.524Z"
   },
   {
    "duration": 0,
    "start_time": "2022-04-07T00:31:25.525Z"
   },
   {
    "duration": 0,
    "start_time": "2022-04-07T00:31:25.526Z"
   },
   {
    "duration": 0,
    "start_time": "2022-04-07T00:31:25.528Z"
   },
   {
    "duration": 0,
    "start_time": "2022-04-07T00:31:25.528Z"
   },
   {
    "duration": 0,
    "start_time": "2022-04-07T00:31:25.529Z"
   },
   {
    "duration": 0,
    "start_time": "2022-04-07T00:31:25.530Z"
   },
   {
    "duration": 0,
    "start_time": "2022-04-07T00:31:25.531Z"
   },
   {
    "duration": 0,
    "start_time": "2022-04-07T00:31:25.532Z"
   },
   {
    "duration": 0,
    "start_time": "2022-04-07T00:31:25.533Z"
   },
   {
    "duration": 0,
    "start_time": "2022-04-07T00:31:25.534Z"
   },
   {
    "duration": 0,
    "start_time": "2022-04-07T00:31:25.535Z"
   },
   {
    "duration": 0,
    "start_time": "2022-04-07T00:31:25.536Z"
   },
   {
    "duration": 0,
    "start_time": "2022-04-07T00:31:25.537Z"
   },
   {
    "duration": 0,
    "start_time": "2022-04-07T00:31:25.538Z"
   },
   {
    "duration": 0,
    "start_time": "2022-04-07T00:31:25.539Z"
   },
   {
    "duration": 0,
    "start_time": "2022-04-07T00:31:25.540Z"
   },
   {
    "duration": 0,
    "start_time": "2022-04-07T00:31:25.541Z"
   },
   {
    "duration": 0,
    "start_time": "2022-04-07T00:31:25.542Z"
   },
   {
    "duration": 0,
    "start_time": "2022-04-07T00:31:25.542Z"
   },
   {
    "duration": 0,
    "start_time": "2022-04-07T00:31:25.544Z"
   },
   {
    "duration": 0,
    "start_time": "2022-04-07T00:31:25.545Z"
   },
   {
    "duration": 0,
    "start_time": "2022-04-07T00:31:25.546Z"
   },
   {
    "duration": 0,
    "start_time": "2022-04-07T00:31:25.547Z"
   },
   {
    "duration": 0,
    "start_time": "2022-04-07T00:31:25.548Z"
   },
   {
    "duration": 0,
    "start_time": "2022-04-07T00:31:25.549Z"
   },
   {
    "duration": 0,
    "start_time": "2022-04-07T00:31:25.550Z"
   },
   {
    "duration": 0,
    "start_time": "2022-04-07T00:31:25.551Z"
   },
   {
    "duration": 0,
    "start_time": "2022-04-07T00:31:25.552Z"
   },
   {
    "duration": 0,
    "start_time": "2022-04-07T00:31:25.553Z"
   },
   {
    "duration": 0,
    "start_time": "2022-04-07T00:31:25.554Z"
   },
   {
    "duration": 0,
    "start_time": "2022-04-07T00:31:25.555Z"
   },
   {
    "duration": 0,
    "start_time": "2022-04-07T00:31:25.556Z"
   },
   {
    "duration": 0,
    "start_time": "2022-04-07T00:31:25.557Z"
   },
   {
    "duration": 0,
    "start_time": "2022-04-07T00:31:25.558Z"
   },
   {
    "duration": 0,
    "start_time": "2022-04-07T00:31:25.559Z"
   },
   {
    "duration": 0,
    "start_time": "2022-04-07T00:31:25.560Z"
   },
   {
    "duration": 0,
    "start_time": "2022-04-07T00:31:25.561Z"
   },
   {
    "duration": 0,
    "start_time": "2022-04-07T00:31:25.562Z"
   },
   {
    "duration": 0,
    "start_time": "2022-04-07T00:31:25.563Z"
   },
   {
    "duration": 0,
    "start_time": "2022-04-07T00:31:25.564Z"
   },
   {
    "duration": 49,
    "start_time": "2022-04-07T00:32:02.451Z"
   },
   {
    "duration": 43,
    "start_time": "2022-04-07T00:33:02.029Z"
   },
   {
    "duration": 96,
    "start_time": "2022-04-07T00:33:09.605Z"
   },
   {
    "duration": 13,
    "start_time": "2022-04-07T00:33:30.222Z"
   },
   {
    "duration": 2153,
    "start_time": "2022-04-07T00:33:54.831Z"
   },
   {
    "duration": 0,
    "start_time": "2022-04-07T00:33:56.986Z"
   },
   {
    "duration": 1298,
    "start_time": "2022-04-07T00:34:22.507Z"
   },
   {
    "duration": 434,
    "start_time": "2022-04-07T00:34:23.807Z"
   },
   {
    "duration": 36,
    "start_time": "2022-04-07T00:34:24.243Z"
   },
   {
    "duration": 105,
    "start_time": "2022-04-07T00:34:24.281Z"
   },
   {
    "duration": 89,
    "start_time": "2022-04-07T00:34:24.388Z"
   },
   {
    "duration": 11,
    "start_time": "2022-04-07T00:34:24.478Z"
   },
   {
    "duration": 7,
    "start_time": "2022-04-07T00:34:24.491Z"
   },
   {
    "duration": 98,
    "start_time": "2022-04-07T00:34:24.500Z"
   },
   {
    "duration": 12,
    "start_time": "2022-04-07T00:34:24.599Z"
   },
   {
    "duration": 227,
    "start_time": "2022-04-07T00:34:24.614Z"
   },
   {
    "duration": 7,
    "start_time": "2022-04-07T00:34:24.843Z"
   },
   {
    "duration": 6,
    "start_time": "2022-04-07T00:34:24.852Z"
   },
   {
    "duration": 7,
    "start_time": "2022-04-07T00:34:24.860Z"
   },
   {
    "duration": 73,
    "start_time": "2022-04-07T00:34:24.868Z"
   },
   {
    "duration": 7,
    "start_time": "2022-04-07T00:34:24.943Z"
   },
   {
    "duration": 2,
    "start_time": "2022-04-07T00:34:24.952Z"
   },
   {
    "duration": 117,
    "start_time": "2022-04-07T00:34:24.956Z"
   },
   {
    "duration": 0,
    "start_time": "2022-04-07T00:34:25.076Z"
   },
   {
    "duration": 0,
    "start_time": "2022-04-07T00:34:25.077Z"
   },
   {
    "duration": 0,
    "start_time": "2022-04-07T00:34:25.078Z"
   },
   {
    "duration": 0,
    "start_time": "2022-04-07T00:34:25.079Z"
   },
   {
    "duration": 0,
    "start_time": "2022-04-07T00:34:25.080Z"
   },
   {
    "duration": 0,
    "start_time": "2022-04-07T00:34:25.081Z"
   },
   {
    "duration": 0,
    "start_time": "2022-04-07T00:34:25.082Z"
   },
   {
    "duration": 0,
    "start_time": "2022-04-07T00:34:25.083Z"
   },
   {
    "duration": 0,
    "start_time": "2022-04-07T00:34:25.085Z"
   },
   {
    "duration": 0,
    "start_time": "2022-04-07T00:34:25.085Z"
   },
   {
    "duration": 0,
    "start_time": "2022-04-07T00:34:25.086Z"
   },
   {
    "duration": 0,
    "start_time": "2022-04-07T00:34:25.087Z"
   },
   {
    "duration": 0,
    "start_time": "2022-04-07T00:34:25.089Z"
   },
   {
    "duration": 0,
    "start_time": "2022-04-07T00:34:25.090Z"
   },
   {
    "duration": 0,
    "start_time": "2022-04-07T00:34:25.091Z"
   },
   {
    "duration": 0,
    "start_time": "2022-04-07T00:34:25.092Z"
   },
   {
    "duration": 0,
    "start_time": "2022-04-07T00:34:25.093Z"
   },
   {
    "duration": 0,
    "start_time": "2022-04-07T00:34:25.094Z"
   },
   {
    "duration": 0,
    "start_time": "2022-04-07T00:34:25.132Z"
   },
   {
    "duration": 0,
    "start_time": "2022-04-07T00:34:25.133Z"
   },
   {
    "duration": 0,
    "start_time": "2022-04-07T00:34:25.134Z"
   },
   {
    "duration": 0,
    "start_time": "2022-04-07T00:34:25.135Z"
   },
   {
    "duration": 0,
    "start_time": "2022-04-07T00:34:25.137Z"
   },
   {
    "duration": 0,
    "start_time": "2022-04-07T00:34:25.137Z"
   },
   {
    "duration": 0,
    "start_time": "2022-04-07T00:34:25.139Z"
   },
   {
    "duration": 0,
    "start_time": "2022-04-07T00:34:25.140Z"
   },
   {
    "duration": 0,
    "start_time": "2022-04-07T00:34:25.141Z"
   },
   {
    "duration": 0,
    "start_time": "2022-04-07T00:34:25.142Z"
   },
   {
    "duration": 0,
    "start_time": "2022-04-07T00:34:25.143Z"
   },
   {
    "duration": 0,
    "start_time": "2022-04-07T00:34:25.144Z"
   },
   {
    "duration": 0,
    "start_time": "2022-04-07T00:34:25.145Z"
   },
   {
    "duration": 0,
    "start_time": "2022-04-07T00:34:25.146Z"
   },
   {
    "duration": 0,
    "start_time": "2022-04-07T00:34:25.147Z"
   },
   {
    "duration": 0,
    "start_time": "2022-04-07T00:34:25.148Z"
   },
   {
    "duration": 0,
    "start_time": "2022-04-07T00:34:25.149Z"
   },
   {
    "duration": 0,
    "start_time": "2022-04-07T00:34:25.150Z"
   },
   {
    "duration": 0,
    "start_time": "2022-04-07T00:34:25.151Z"
   },
   {
    "duration": 0,
    "start_time": "2022-04-07T00:34:25.152Z"
   },
   {
    "duration": 0,
    "start_time": "2022-04-07T00:34:25.153Z"
   },
   {
    "duration": 7,
    "start_time": "2022-04-07T00:36:22.677Z"
   },
   {
    "duration": 7,
    "start_time": "2022-04-07T00:36:37.501Z"
   },
   {
    "duration": 6,
    "start_time": "2022-04-07T00:36:56.863Z"
   },
   {
    "duration": 7,
    "start_time": "2022-04-07T00:37:43.496Z"
   },
   {
    "duration": 8,
    "start_time": "2022-04-07T00:37:54.912Z"
   },
   {
    "duration": 1212,
    "start_time": "2022-04-07T00:38:20.426Z"
   },
   {
    "duration": 430,
    "start_time": "2022-04-07T00:38:21.640Z"
   },
   {
    "duration": 36,
    "start_time": "2022-04-07T00:38:22.072Z"
   },
   {
    "duration": 83,
    "start_time": "2022-04-07T00:38:22.111Z"
   },
   {
    "duration": 84,
    "start_time": "2022-04-07T00:38:22.196Z"
   },
   {
    "duration": 10,
    "start_time": "2022-04-07T00:38:22.282Z"
   },
   {
    "duration": 10,
    "start_time": "2022-04-07T00:38:22.294Z"
   },
   {
    "duration": 89,
    "start_time": "2022-04-07T00:38:22.306Z"
   },
   {
    "duration": 11,
    "start_time": "2022-04-07T00:38:22.397Z"
   },
   {
    "duration": 222,
    "start_time": "2022-04-07T00:38:22.411Z"
   },
   {
    "duration": 7,
    "start_time": "2022-04-07T00:38:22.634Z"
   },
   {
    "duration": 9,
    "start_time": "2022-04-07T00:38:22.643Z"
   },
   {
    "duration": 10,
    "start_time": "2022-04-07T00:38:22.653Z"
   },
   {
    "duration": 56,
    "start_time": "2022-04-07T00:38:22.664Z"
   },
   {
    "duration": 16,
    "start_time": "2022-04-07T00:38:22.722Z"
   },
   {
    "duration": 3,
    "start_time": "2022-04-07T00:38:22.739Z"
   },
   {
    "duration": 11,
    "start_time": "2022-04-07T00:38:22.743Z"
   },
   {
    "duration": 41,
    "start_time": "2022-04-07T00:38:22.755Z"
   },
   {
    "duration": 41,
    "start_time": "2022-04-07T00:38:22.798Z"
   },
   {
    "duration": 7,
    "start_time": "2022-04-07T00:38:22.841Z"
   },
   {
    "duration": 193,
    "start_time": "2022-04-07T00:38:22.849Z"
   },
   {
    "duration": 114,
    "start_time": "2022-04-07T00:38:23.044Z"
   },
   {
    "duration": 139,
    "start_time": "2022-04-07T00:38:23.159Z"
   },
   {
    "duration": 43,
    "start_time": "2022-04-07T00:38:23.300Z"
   },
   {
    "duration": 4,
    "start_time": "2022-04-07T00:38:23.344Z"
   },
   {
    "duration": 9,
    "start_time": "2022-04-07T00:38:23.350Z"
   },
   {
    "duration": 7,
    "start_time": "2022-04-07T00:38:23.361Z"
   },
   {
    "duration": 5,
    "start_time": "2022-04-07T00:38:23.372Z"
   },
   {
    "duration": 8,
    "start_time": "2022-04-07T00:38:23.378Z"
   },
   {
    "duration": 13,
    "start_time": "2022-04-07T00:38:23.387Z"
   },
   {
    "duration": 16,
    "start_time": "2022-04-07T00:38:23.431Z"
   },
   {
    "duration": 19,
    "start_time": "2022-04-07T00:38:23.448Z"
   },
   {
    "duration": 19,
    "start_time": "2022-04-07T00:38:23.469Z"
   },
   {
    "duration": 237,
    "start_time": "2022-04-07T00:38:23.490Z"
   },
   {
    "duration": 6,
    "start_time": "2022-04-07T00:38:23.728Z"
   },
   {
    "duration": 7,
    "start_time": "2022-04-07T00:38:23.735Z"
   },
   {
    "duration": 19,
    "start_time": "2022-04-07T00:38:23.744Z"
   },
   {
    "duration": 12,
    "start_time": "2022-04-07T00:38:23.765Z"
   },
   {
    "duration": 13,
    "start_time": "2022-04-07T00:38:23.779Z"
   },
   {
    "duration": 47,
    "start_time": "2022-04-07T00:38:23.794Z"
   },
   {
    "duration": 17,
    "start_time": "2022-04-07T00:38:23.843Z"
   },
   {
    "duration": 39,
    "start_time": "2022-04-07T00:38:23.861Z"
   },
   {
    "duration": 63,
    "start_time": "2022-04-07T00:38:23.902Z"
   },
   {
    "duration": 831,
    "start_time": "2022-04-07T00:38:23.967Z"
   },
   {
    "duration": 704,
    "start_time": "2022-04-07T00:38:24.800Z"
   },
   {
    "duration": 4,
    "start_time": "2022-04-07T00:38:25.506Z"
   },
   {
    "duration": 12,
    "start_time": "2022-04-07T00:38:25.511Z"
   },
   {
    "duration": 13,
    "start_time": "2022-04-07T00:38:25.532Z"
   },
   {
    "duration": 4,
    "start_time": "2022-04-07T00:38:25.547Z"
   },
   {
    "duration": 44,
    "start_time": "2022-04-07T00:38:25.552Z"
   },
   {
    "duration": 8,
    "start_time": "2022-04-07T00:38:25.598Z"
   },
   {
    "duration": 4,
    "start_time": "2022-04-07T00:38:25.632Z"
   },
   {
    "duration": 193,
    "start_time": "2022-04-07T00:38:25.638Z"
   },
   {
    "duration": 265,
    "start_time": "2022-04-07T00:38:25.833Z"
   },
   {
    "duration": 175,
    "start_time": "2022-04-07T00:38:26.100Z"
   },
   {
    "duration": 40,
    "start_time": "2022-04-07T00:38:26.277Z"
   },
   {
    "duration": 7,
    "start_time": "2022-04-07T00:38:52.752Z"
   },
   {
    "duration": 56,
    "start_time": "2022-04-07T00:41:18.285Z"
   },
   {
    "duration": 1203,
    "start_time": "2022-04-07T00:41:26.959Z"
   },
   {
    "duration": 426,
    "start_time": "2022-04-07T00:41:28.164Z"
   },
   {
    "duration": 36,
    "start_time": "2022-04-07T00:41:28.591Z"
   },
   {
    "duration": 81,
    "start_time": "2022-04-07T00:41:28.629Z"
   },
   {
    "duration": 65,
    "start_time": "2022-04-07T00:41:28.731Z"
   },
   {
    "duration": 10,
    "start_time": "2022-04-07T00:41:28.798Z"
   },
   {
    "duration": 24,
    "start_time": "2022-04-07T00:41:28.809Z"
   },
   {
    "duration": 82,
    "start_time": "2022-04-07T00:41:28.834Z"
   },
   {
    "duration": 20,
    "start_time": "2022-04-07T00:41:28.917Z"
   },
   {
    "duration": 10,
    "start_time": "2022-04-07T00:41:28.940Z"
   },
   {
    "duration": 7,
    "start_time": "2022-04-07T00:41:28.951Z"
   },
   {
    "duration": 5,
    "start_time": "2022-04-07T00:41:28.959Z"
   },
   {
    "duration": 8,
    "start_time": "2022-04-07T00:41:28.966Z"
   },
   {
    "duration": 74,
    "start_time": "2022-04-07T00:41:28.976Z"
   },
   {
    "duration": 8,
    "start_time": "2022-04-07T00:41:29.052Z"
   },
   {
    "duration": 5,
    "start_time": "2022-04-07T00:41:29.061Z"
   },
   {
    "duration": 76,
    "start_time": "2022-04-07T00:41:29.067Z"
   },
   {
    "duration": 9,
    "start_time": "2022-04-07T00:41:29.145Z"
   },
   {
    "duration": 6,
    "start_time": "2022-04-07T00:41:29.156Z"
   },
   {
    "duration": 200,
    "start_time": "2022-04-07T00:41:29.164Z"
   },
   {
    "duration": 117,
    "start_time": "2022-04-07T00:41:29.366Z"
   },
   {
    "duration": 134,
    "start_time": "2022-04-07T00:41:29.485Z"
   },
   {
    "duration": 40,
    "start_time": "2022-04-07T00:41:29.620Z"
   },
   {
    "duration": 4,
    "start_time": "2022-04-07T00:41:29.661Z"
   },
   {
    "duration": 5,
    "start_time": "2022-04-07T00:41:29.667Z"
   },
   {
    "duration": 7,
    "start_time": "2022-04-07T00:41:29.673Z"
   },
   {
    "duration": 6,
    "start_time": "2022-04-07T00:41:29.682Z"
   },
   {
    "duration": 5,
    "start_time": "2022-04-07T00:41:29.691Z"
   },
   {
    "duration": 42,
    "start_time": "2022-04-07T00:41:29.697Z"
   },
   {
    "duration": 18,
    "start_time": "2022-04-07T00:41:29.740Z"
   },
   {
    "duration": 13,
    "start_time": "2022-04-07T00:41:29.759Z"
   },
   {
    "duration": 14,
    "start_time": "2022-04-07T00:41:29.774Z"
   },
   {
    "duration": 272,
    "start_time": "2022-04-07T00:41:29.790Z"
   },
   {
    "duration": 5,
    "start_time": "2022-04-07T00:41:30.063Z"
   },
   {
    "duration": 6,
    "start_time": "2022-04-07T00:41:30.069Z"
   },
   {
    "duration": 22,
    "start_time": "2022-04-07T00:41:30.077Z"
   },
   {
    "duration": 11,
    "start_time": "2022-04-07T00:41:30.101Z"
   },
   {
    "duration": 25,
    "start_time": "2022-04-07T00:41:30.113Z"
   },
   {
    "duration": 21,
    "start_time": "2022-04-07T00:41:30.139Z"
   },
   {
    "duration": 25,
    "start_time": "2022-04-07T00:41:30.162Z"
   },
   {
    "duration": 60,
    "start_time": "2022-04-07T00:41:30.189Z"
   },
   {
    "duration": 38,
    "start_time": "2022-04-07T00:41:30.251Z"
   },
   {
    "duration": 908,
    "start_time": "2022-04-07T00:41:30.290Z"
   },
   {
    "duration": 710,
    "start_time": "2022-04-07T00:41:31.199Z"
   },
   {
    "duration": 4,
    "start_time": "2022-04-07T00:41:31.911Z"
   },
   {
    "duration": 16,
    "start_time": "2022-04-07T00:41:31.916Z"
   },
   {
    "duration": 21,
    "start_time": "2022-04-07T00:41:31.934Z"
   },
   {
    "duration": 4,
    "start_time": "2022-04-07T00:41:31.957Z"
   },
   {
    "duration": 52,
    "start_time": "2022-04-07T00:41:31.962Z"
   },
   {
    "duration": 17,
    "start_time": "2022-04-07T00:41:32.016Z"
   },
   {
    "duration": 7,
    "start_time": "2022-04-07T00:41:32.035Z"
   },
   {
    "duration": 196,
    "start_time": "2022-04-07T00:41:32.043Z"
   },
   {
    "duration": 269,
    "start_time": "2022-04-07T00:41:32.241Z"
   },
   {
    "duration": 183,
    "start_time": "2022-04-07T00:41:32.512Z"
   },
   {
    "duration": 46,
    "start_time": "2022-04-07T00:41:32.696Z"
   },
   {
    "duration": 164,
    "start_time": "2022-04-07T00:55:23.147Z"
   },
   {
    "duration": 171,
    "start_time": "2022-04-07T01:07:51.334Z"
   },
   {
    "duration": 174,
    "start_time": "2022-04-07T01:07:55.542Z"
   },
   {
    "duration": 48,
    "start_time": "2022-04-07T01:09:17.633Z"
   },
   {
    "duration": 39,
    "start_time": "2022-04-07T01:09:52.769Z"
   },
   {
    "duration": 48,
    "start_time": "2022-04-07T01:11:10.141Z"
   },
   {
    "duration": 168,
    "start_time": "2022-04-07T01:12:15.920Z"
   },
   {
    "duration": 51,
    "start_time": "2022-04-07T01:12:25.584Z"
   },
   {
    "duration": 169,
    "start_time": "2022-04-07T01:18:28.759Z"
   },
   {
    "duration": 7,
    "start_time": "2022-04-07T01:20:56.484Z"
   },
   {
    "duration": 1190,
    "start_time": "2022-04-07T01:23:38.271Z"
   },
   {
    "duration": 424,
    "start_time": "2022-04-07T01:23:39.463Z"
   },
   {
    "duration": 36,
    "start_time": "2022-04-07T01:23:39.888Z"
   },
   {
    "duration": 84,
    "start_time": "2022-04-07T01:23:39.925Z"
   },
   {
    "duration": 67,
    "start_time": "2022-04-07T01:23:40.031Z"
   },
   {
    "duration": 11,
    "start_time": "2022-04-07T01:23:40.099Z"
   },
   {
    "duration": 22,
    "start_time": "2022-04-07T01:23:40.111Z"
   },
   {
    "duration": 82,
    "start_time": "2022-04-07T01:23:40.135Z"
   },
   {
    "duration": 17,
    "start_time": "2022-04-07T01:23:40.219Z"
   },
   {
    "duration": 13,
    "start_time": "2022-04-07T01:23:40.238Z"
   },
   {
    "duration": 7,
    "start_time": "2022-04-07T01:23:40.252Z"
   },
   {
    "duration": 6,
    "start_time": "2022-04-07T01:23:40.261Z"
   },
   {
    "duration": 7,
    "start_time": "2022-04-07T01:23:40.268Z"
   },
   {
    "duration": 75,
    "start_time": "2022-04-07T01:23:40.278Z"
   },
   {
    "duration": 7,
    "start_time": "2022-04-07T01:23:40.354Z"
   },
   {
    "duration": 4,
    "start_time": "2022-04-07T01:23:40.363Z"
   },
   {
    "duration": 70,
    "start_time": "2022-04-07T01:23:40.368Z"
   },
   {
    "duration": 10,
    "start_time": "2022-04-07T01:23:40.440Z"
   },
   {
    "duration": 6,
    "start_time": "2022-04-07T01:23:40.452Z"
   },
   {
    "duration": 196,
    "start_time": "2022-04-07T01:23:40.460Z"
   },
   {
    "duration": 108,
    "start_time": "2022-04-07T01:23:40.658Z"
   },
   {
    "duration": 139,
    "start_time": "2022-04-07T01:23:40.767Z"
   },
   {
    "duration": 41,
    "start_time": "2022-04-07T01:23:40.908Z"
   },
   {
    "duration": 4,
    "start_time": "2022-04-07T01:23:40.951Z"
   },
   {
    "duration": 8,
    "start_time": "2022-04-07T01:23:40.956Z"
   },
   {
    "duration": 7,
    "start_time": "2022-04-07T01:23:40.965Z"
   },
   {
    "duration": 6,
    "start_time": "2022-04-07T01:23:40.974Z"
   },
   {
    "duration": 5,
    "start_time": "2022-04-07T01:23:40.981Z"
   },
   {
    "duration": 12,
    "start_time": "2022-04-07T01:23:40.987Z"
   },
   {
    "duration": 44,
    "start_time": "2022-04-07T01:23:41.001Z"
   },
   {
    "duration": 11,
    "start_time": "2022-04-07T01:23:41.047Z"
   },
   {
    "duration": 21,
    "start_time": "2022-04-07T01:23:41.060Z"
   },
   {
    "duration": 250,
    "start_time": "2022-04-07T01:23:41.083Z"
   },
   {
    "duration": 4,
    "start_time": "2022-04-07T01:23:41.334Z"
   },
   {
    "duration": 5,
    "start_time": "2022-04-07T01:23:41.340Z"
   },
   {
    "duration": 18,
    "start_time": "2022-04-07T01:23:41.347Z"
   },
   {
    "duration": 11,
    "start_time": "2022-04-07T01:23:41.366Z"
   },
   {
    "duration": 12,
    "start_time": "2022-04-07T01:23:41.379Z"
   },
   {
    "duration": 47,
    "start_time": "2022-04-07T01:23:41.393Z"
   },
   {
    "duration": 17,
    "start_time": "2022-04-07T01:23:41.442Z"
   },
   {
    "duration": 39,
    "start_time": "2022-04-07T01:23:41.463Z"
   },
   {
    "duration": 71,
    "start_time": "2022-04-07T01:23:41.504Z"
   },
   {
    "duration": 915,
    "start_time": "2022-04-07T01:23:41.577Z"
   },
   {
    "duration": 712,
    "start_time": "2022-04-07T01:23:42.494Z"
   },
   {
    "duration": 5,
    "start_time": "2022-04-07T01:23:43.208Z"
   },
   {
    "duration": 17,
    "start_time": "2022-04-07T01:23:43.215Z"
   },
   {
    "duration": 17,
    "start_time": "2022-04-07T01:23:43.234Z"
   },
   {
    "duration": 5,
    "start_time": "2022-04-07T01:23:43.253Z"
   },
   {
    "duration": 45,
    "start_time": "2022-04-07T01:23:43.259Z"
   },
   {
    "duration": 6,
    "start_time": "2022-04-07T01:23:43.333Z"
   },
   {
    "duration": 16,
    "start_time": "2022-04-07T01:23:43.341Z"
   },
   {
    "duration": 7,
    "start_time": "2022-04-07T01:23:43.359Z"
   },
   {
    "duration": 201,
    "start_time": "2022-04-07T01:23:43.368Z"
   },
   {
    "duration": 271,
    "start_time": "2022-04-07T01:23:43.570Z"
   },
   {
    "duration": 177,
    "start_time": "2022-04-07T01:23:43.842Z"
   },
   {
    "duration": 46,
    "start_time": "2022-04-07T01:23:44.021Z"
   },
   {
    "duration": 1217,
    "start_time": "2022-04-07T01:29:57.137Z"
   },
   {
    "duration": 442,
    "start_time": "2022-04-07T01:29:58.356Z"
   },
   {
    "duration": 37,
    "start_time": "2022-04-07T01:29:58.800Z"
   },
   {
    "duration": 107,
    "start_time": "2022-04-07T01:29:58.839Z"
   },
   {
    "duration": 63,
    "start_time": "2022-04-07T01:29:58.948Z"
   },
   {
    "duration": 24,
    "start_time": "2022-04-07T01:29:59.013Z"
   },
   {
    "duration": 5,
    "start_time": "2022-04-07T01:29:59.039Z"
   },
   {
    "duration": 92,
    "start_time": "2022-04-07T01:29:59.045Z"
   },
   {
    "duration": 11,
    "start_time": "2022-04-07T01:29:59.139Z"
   },
   {
    "duration": 9,
    "start_time": "2022-04-07T01:29:59.153Z"
   },
   {
    "duration": 7,
    "start_time": "2022-04-07T01:29:59.164Z"
   },
   {
    "duration": 7,
    "start_time": "2022-04-07T01:29:59.172Z"
   },
   {
    "duration": 8,
    "start_time": "2022-04-07T01:29:59.180Z"
   },
   {
    "duration": 75,
    "start_time": "2022-04-07T01:29:59.190Z"
   },
   {
    "duration": 7,
    "start_time": "2022-04-07T01:29:59.267Z"
   },
   {
    "duration": 5,
    "start_time": "2022-04-07T01:29:59.275Z"
   },
   {
    "duration": 62,
    "start_time": "2022-04-07T01:29:59.282Z"
   },
   {
    "duration": 10,
    "start_time": "2022-04-07T01:29:59.346Z"
   },
   {
    "duration": 6,
    "start_time": "2022-04-07T01:29:59.357Z"
   },
   {
    "duration": 204,
    "start_time": "2022-04-07T01:29:59.365Z"
   },
   {
    "duration": 109,
    "start_time": "2022-04-07T01:29:59.570Z"
   },
   {
    "duration": 135,
    "start_time": "2022-04-07T01:29:59.681Z"
   },
   {
    "duration": 38,
    "start_time": "2022-04-07T01:29:59.818Z"
   },
   {
    "duration": 4,
    "start_time": "2022-04-07T01:29:59.858Z"
   },
   {
    "duration": 7,
    "start_time": "2022-04-07T01:29:59.864Z"
   },
   {
    "duration": 6,
    "start_time": "2022-04-07T01:29:59.873Z"
   },
   {
    "duration": 6,
    "start_time": "2022-04-07T01:29:59.881Z"
   },
   {
    "duration": 4,
    "start_time": "2022-04-07T01:29:59.891Z"
   },
   {
    "duration": 40,
    "start_time": "2022-04-07T01:29:59.897Z"
   },
   {
    "duration": 13,
    "start_time": "2022-04-07T01:29:59.939Z"
   },
   {
    "duration": 13,
    "start_time": "2022-04-07T01:29:59.954Z"
   },
   {
    "duration": 13,
    "start_time": "2022-04-07T01:29:59.969Z"
   },
   {
    "duration": 262,
    "start_time": "2022-04-07T01:29:59.984Z"
   },
   {
    "duration": 4,
    "start_time": "2022-04-07T01:30:00.248Z"
   },
   {
    "duration": 14,
    "start_time": "2022-04-07T01:30:00.254Z"
   },
   {
    "duration": 32,
    "start_time": "2022-04-07T01:30:00.269Z"
   },
   {
    "duration": 11,
    "start_time": "2022-04-07T01:30:00.303Z"
   },
   {
    "duration": 24,
    "start_time": "2022-04-07T01:30:00.316Z"
   },
   {
    "duration": 29,
    "start_time": "2022-04-07T01:30:00.342Z"
   },
   {
    "duration": 18,
    "start_time": "2022-04-07T01:30:00.373Z"
   },
   {
    "duration": 55,
    "start_time": "2022-04-07T01:30:00.392Z"
   },
   {
    "duration": 47,
    "start_time": "2022-04-07T01:30:00.449Z"
   },
   {
    "duration": 908,
    "start_time": "2022-04-07T01:30:00.498Z"
   },
   {
    "duration": 740,
    "start_time": "2022-04-07T01:30:01.408Z"
   },
   {
    "duration": 4,
    "start_time": "2022-04-07T01:30:02.151Z"
   },
   {
    "duration": 43,
    "start_time": "2022-04-07T01:30:02.157Z"
   },
   {
    "duration": 30,
    "start_time": "2022-04-07T01:30:02.202Z"
   },
   {
    "duration": 6,
    "start_time": "2022-04-07T01:30:02.234Z"
   },
   {
    "duration": 51,
    "start_time": "2022-04-07T01:30:02.241Z"
   },
   {
    "duration": 7,
    "start_time": "2022-04-07T01:30:02.294Z"
   },
   {
    "duration": 42,
    "start_time": "2022-04-07T01:30:02.303Z"
   },
   {
    "duration": 14,
    "start_time": "2022-04-07T01:30:02.347Z"
   },
   {
    "duration": 195,
    "start_time": "2022-04-07T01:30:02.363Z"
   },
   {
    "duration": 280,
    "start_time": "2022-04-07T01:30:02.560Z"
   },
   {
    "duration": 180,
    "start_time": "2022-04-07T01:30:02.842Z"
   },
   {
    "duration": 54,
    "start_time": "2022-04-07T01:30:03.024Z"
   },
   {
    "duration": 51,
    "start_time": "2022-04-07T04:45:30.708Z"
   },
   {
    "duration": 1260,
    "start_time": "2022-04-07T04:46:37.052Z"
   },
   {
    "duration": 358,
    "start_time": "2022-04-07T04:46:38.314Z"
   },
   {
    "duration": 36,
    "start_time": "2022-04-07T04:46:38.673Z"
   },
   {
    "duration": 102,
    "start_time": "2022-04-07T04:46:38.712Z"
   },
   {
    "duration": 84,
    "start_time": "2022-04-07T04:46:38.816Z"
   },
   {
    "duration": 11,
    "start_time": "2022-04-07T04:46:38.901Z"
   },
   {
    "duration": 11,
    "start_time": "2022-04-07T04:46:38.914Z"
   },
   {
    "duration": 78,
    "start_time": "2022-04-07T04:46:38.926Z"
   },
   {
    "duration": 11,
    "start_time": "2022-04-07T04:46:39.006Z"
   },
   {
    "duration": 12,
    "start_time": "2022-04-07T04:46:39.020Z"
   },
   {
    "duration": 14,
    "start_time": "2022-04-07T04:46:39.034Z"
   },
   {
    "duration": 4,
    "start_time": "2022-04-07T04:46:39.063Z"
   },
   {
    "duration": 7,
    "start_time": "2022-04-07T04:46:39.068Z"
   },
   {
    "duration": 51,
    "start_time": "2022-04-07T04:46:39.076Z"
   },
   {
    "duration": 8,
    "start_time": "2022-04-07T04:46:39.129Z"
   },
   {
    "duration": 24,
    "start_time": "2022-04-07T04:46:39.139Z"
   },
   {
    "duration": 53,
    "start_time": "2022-04-07T04:46:39.165Z"
   },
   {
    "duration": 11,
    "start_time": "2022-04-07T04:46:39.220Z"
   },
   {
    "duration": 31,
    "start_time": "2022-04-07T04:46:39.233Z"
   },
   {
    "duration": 163,
    "start_time": "2022-04-07T04:46:39.266Z"
   },
   {
    "duration": 97,
    "start_time": "2022-04-07T04:46:39.431Z"
   },
   {
    "duration": 120,
    "start_time": "2022-04-07T04:46:39.530Z"
   },
   {
    "duration": 32,
    "start_time": "2022-04-07T04:46:39.652Z"
   },
   {
    "duration": 4,
    "start_time": "2022-04-07T04:46:39.686Z"
   },
   {
    "duration": 12,
    "start_time": "2022-04-07T04:46:39.692Z"
   },
   {
    "duration": 11,
    "start_time": "2022-04-07T04:46:39.706Z"
   },
   {
    "duration": 18,
    "start_time": "2022-04-07T04:46:39.718Z"
   },
   {
    "duration": 5,
    "start_time": "2022-04-07T04:46:39.739Z"
   },
   {
    "duration": 14,
    "start_time": "2022-04-07T04:46:39.745Z"
   },
   {
    "duration": 16,
    "start_time": "2022-04-07T04:46:39.763Z"
   },
   {
    "duration": 18,
    "start_time": "2022-04-07T04:46:39.781Z"
   },
   {
    "duration": 17,
    "start_time": "2022-04-07T04:46:39.800Z"
   },
   {
    "duration": 213,
    "start_time": "2022-04-07T04:46:39.818Z"
   },
   {
    "duration": 4,
    "start_time": "2022-04-07T04:46:40.032Z"
   },
   {
    "duration": 8,
    "start_time": "2022-04-07T04:46:40.037Z"
   },
   {
    "duration": 22,
    "start_time": "2022-04-07T04:46:40.046Z"
   },
   {
    "duration": 9,
    "start_time": "2022-04-07T04:46:40.070Z"
   },
   {
    "duration": 11,
    "start_time": "2022-04-07T04:46:40.080Z"
   },
   {
    "duration": 18,
    "start_time": "2022-04-07T04:46:40.093Z"
   },
   {
    "duration": 16,
    "start_time": "2022-04-07T04:46:40.112Z"
   },
   {
    "duration": 56,
    "start_time": "2022-04-07T04:46:40.129Z"
   },
   {
    "duration": 37,
    "start_time": "2022-04-07T04:46:40.187Z"
   },
   {
    "duration": 901,
    "start_time": "2022-04-07T04:46:40.225Z"
   },
   {
    "duration": 651,
    "start_time": "2022-04-07T04:46:41.128Z"
   },
   {
    "duration": 3,
    "start_time": "2022-04-07T04:46:41.781Z"
   },
   {
    "duration": 7,
    "start_time": "2022-04-07T04:46:41.786Z"
   },
   {
    "duration": 16,
    "start_time": "2022-04-07T04:46:41.795Z"
   },
   {
    "duration": 12,
    "start_time": "2022-04-07T04:46:41.812Z"
   },
   {
    "duration": 60,
    "start_time": "2022-04-07T04:46:41.826Z"
   },
   {
    "duration": 7,
    "start_time": "2022-04-07T04:46:41.888Z"
   },
   {
    "duration": 15,
    "start_time": "2022-04-07T04:46:41.896Z"
   },
   {
    "duration": 6,
    "start_time": "2022-04-07T04:46:41.913Z"
   },
   {
    "duration": 307,
    "start_time": "2022-04-07T04:46:41.921Z"
   },
   {
    "duration": 235,
    "start_time": "2022-04-07T04:46:42.230Z"
   },
   {
    "duration": 151,
    "start_time": "2022-04-07T04:46:42.467Z"
   },
   {
    "duration": 30,
    "start_time": "2022-04-07T04:46:42.620Z"
   },
   {
    "duration": 5,
    "start_time": "2022-04-07T04:47:21.208Z"
   },
   {
    "duration": 5,
    "start_time": "2022-04-07T04:47:34.726Z"
   },
   {
    "duration": 103,
    "start_time": "2022-04-07T04:47:57.823Z"
   },
   {
    "duration": 11,
    "start_time": "2022-04-07T04:48:04.480Z"
   },
   {
    "duration": 12,
    "start_time": "2022-04-07T04:48:13.345Z"
   },
   {
    "duration": 12,
    "start_time": "2022-04-07T04:48:17.575Z"
   },
   {
    "duration": 32,
    "start_time": "2022-04-07T04:48:58.087Z"
   },
   {
    "duration": 8,
    "start_time": "2022-04-07T04:49:20.173Z"
   },
   {
    "duration": 4,
    "start_time": "2022-04-07T04:49:25.846Z"
   },
   {
    "duration": 5,
    "start_time": "2022-04-07T04:50:23.655Z"
   },
   {
    "duration": 32,
    "start_time": "2022-04-07T04:50:36.585Z"
   },
   {
    "duration": 99,
    "start_time": "2022-04-07T04:50:44.326Z"
   },
   {
    "duration": 10,
    "start_time": "2022-04-07T04:51:00.927Z"
   },
   {
    "duration": 1060,
    "start_time": "2022-04-07T04:51:08.699Z"
   },
   {
    "duration": 361,
    "start_time": "2022-04-07T04:51:09.761Z"
   },
   {
    "duration": 34,
    "start_time": "2022-04-07T04:51:10.123Z"
   },
   {
    "duration": 74,
    "start_time": "2022-04-07T04:51:10.159Z"
   },
   {
    "duration": 89,
    "start_time": "2022-04-07T04:51:10.234Z"
   },
   {
    "duration": 10,
    "start_time": "2022-04-07T04:51:10.325Z"
   },
   {
    "duration": 6,
    "start_time": "2022-04-07T04:51:10.336Z"
   },
   {
    "duration": 84,
    "start_time": "2022-04-07T04:51:10.343Z"
   },
   {
    "duration": 10,
    "start_time": "2022-04-07T04:51:10.429Z"
   },
   {
    "duration": 22,
    "start_time": "2022-04-07T04:51:10.441Z"
   },
   {
    "duration": 7,
    "start_time": "2022-04-07T04:51:10.464Z"
   },
   {
    "duration": 7,
    "start_time": "2022-04-07T04:51:10.472Z"
   },
   {
    "duration": 8,
    "start_time": "2022-04-07T04:51:10.480Z"
   },
   {
    "duration": 51,
    "start_time": "2022-04-07T04:51:10.489Z"
   },
   {
    "duration": 22,
    "start_time": "2022-04-07T04:51:10.541Z"
   },
   {
    "duration": 4,
    "start_time": "2022-04-07T04:51:10.565Z"
   },
   {
    "duration": 30,
    "start_time": "2022-04-07T04:51:10.570Z"
   },
   {
    "duration": 11,
    "start_time": "2022-04-07T04:51:10.601Z"
   },
   {
    "duration": 5,
    "start_time": "2022-04-07T04:51:10.613Z"
   },
   {
    "duration": 197,
    "start_time": "2022-04-07T04:51:10.619Z"
   },
   {
    "duration": 100,
    "start_time": "2022-04-07T04:51:10.818Z"
   },
   {
    "duration": 123,
    "start_time": "2022-04-07T04:51:10.920Z"
   },
   {
    "duration": 34,
    "start_time": "2022-04-07T04:51:11.045Z"
   },
   {
    "duration": 5,
    "start_time": "2022-04-07T04:51:11.081Z"
   },
   {
    "duration": 8,
    "start_time": "2022-04-07T04:51:11.087Z"
   },
   {
    "duration": 7,
    "start_time": "2022-04-07T04:51:11.097Z"
   },
   {
    "duration": 5,
    "start_time": "2022-04-07T04:51:11.105Z"
   },
   {
    "duration": 3,
    "start_time": "2022-04-07T04:51:11.115Z"
   },
   {
    "duration": 13,
    "start_time": "2022-04-07T04:51:11.120Z"
   },
   {
    "duration": 13,
    "start_time": "2022-04-07T04:51:11.163Z"
   },
   {
    "duration": 13,
    "start_time": "2022-04-07T04:51:11.177Z"
   },
   {
    "duration": 13,
    "start_time": "2022-04-07T04:51:11.191Z"
   },
   {
    "duration": 233,
    "start_time": "2022-04-07T04:51:11.205Z"
   },
   {
    "duration": 4,
    "start_time": "2022-04-07T04:51:11.439Z"
   },
   {
    "duration": 10,
    "start_time": "2022-04-07T04:51:11.445Z"
   },
   {
    "duration": 18,
    "start_time": "2022-04-07T04:51:11.456Z"
   },
   {
    "duration": 9,
    "start_time": "2022-04-07T04:51:11.475Z"
   },
   {
    "duration": 12,
    "start_time": "2022-04-07T04:51:11.486Z"
   },
   {
    "duration": 21,
    "start_time": "2022-04-07T04:51:11.500Z"
   },
   {
    "duration": 14,
    "start_time": "2022-04-07T04:51:11.523Z"
   },
   {
    "duration": 56,
    "start_time": "2022-04-07T04:51:11.538Z"
   },
   {
    "duration": 39,
    "start_time": "2022-04-07T04:51:11.596Z"
   },
   {
    "duration": 847,
    "start_time": "2022-04-07T04:51:11.637Z"
   },
   {
    "duration": 572,
    "start_time": "2022-04-07T04:51:12.486Z"
   },
   {
    "duration": 4,
    "start_time": "2022-04-07T04:51:13.063Z"
   },
   {
    "duration": 8,
    "start_time": "2022-04-07T04:51:13.069Z"
   },
   {
    "duration": 16,
    "start_time": "2022-04-07T04:51:13.078Z"
   },
   {
    "duration": 4,
    "start_time": "2022-04-07T04:51:13.095Z"
   },
   {
    "duration": 37,
    "start_time": "2022-04-07T04:51:13.100Z"
   },
   {
    "duration": 25,
    "start_time": "2022-04-07T04:51:13.138Z"
   },
   {
    "duration": 13,
    "start_time": "2022-04-07T04:51:13.164Z"
   },
   {
    "duration": 8,
    "start_time": "2022-04-07T04:51:13.178Z"
   },
   {
    "duration": 162,
    "start_time": "2022-04-07T04:51:13.187Z"
   },
   {
    "duration": 240,
    "start_time": "2022-04-07T04:51:13.350Z"
   },
   {
    "duration": 156,
    "start_time": "2022-04-07T04:51:13.591Z"
   },
   {
    "duration": 31,
    "start_time": "2022-04-07T04:51:13.749Z"
   },
   {
    "duration": 10,
    "start_time": "2022-04-07T04:51:42.983Z"
   },
   {
    "duration": 1106,
    "start_time": "2022-04-07T04:51:59.282Z"
   },
   {
    "duration": 370,
    "start_time": "2022-04-07T04:52:00.390Z"
   },
   {
    "duration": 31,
    "start_time": "2022-04-07T04:52:00.762Z"
   },
   {
    "duration": 75,
    "start_time": "2022-04-07T04:52:00.962Z"
   },
   {
    "duration": 61,
    "start_time": "2022-04-07T04:52:03.098Z"
   },
   {
    "duration": 10,
    "start_time": "2022-04-07T04:52:07.499Z"
   },
   {
    "duration": 103,
    "start_time": "2022-04-07T05:01:36.496Z"
   },
   {
    "duration": 1045,
    "start_time": "2022-04-07T05:01:48.600Z"
   },
   {
    "duration": 350,
    "start_time": "2022-04-07T05:01:49.647Z"
   },
   {
    "duration": 35,
    "start_time": "2022-04-07T05:01:49.998Z"
   },
   {
    "duration": 80,
    "start_time": "2022-04-07T05:01:50.034Z"
   },
   {
    "duration": 3,
    "start_time": "2022-04-07T05:01:50.115Z"
   },
   {
    "duration": 92,
    "start_time": "2022-04-07T05:01:50.120Z"
   },
   {
    "duration": 11,
    "start_time": "2022-04-07T05:01:50.213Z"
   },
   {
    "duration": 10,
    "start_time": "2022-04-07T05:01:50.225Z"
   },
   {
    "duration": 6,
    "start_time": "2022-04-07T05:01:50.236Z"
   },
   {
    "duration": 3,
    "start_time": "2022-04-07T05:01:50.264Z"
   },
   {
    "duration": 8,
    "start_time": "2022-04-07T05:01:50.268Z"
   },
   {
    "duration": 49,
    "start_time": "2022-04-07T05:01:50.277Z"
   },
   {
    "duration": 7,
    "start_time": "2022-04-07T05:01:50.328Z"
   },
   {
    "duration": 7,
    "start_time": "2022-04-07T05:01:50.336Z"
   },
   {
    "duration": 30,
    "start_time": "2022-04-07T05:01:50.362Z"
   },
   {
    "duration": 9,
    "start_time": "2022-04-07T05:01:50.393Z"
   },
   {
    "duration": 5,
    "start_time": "2022-04-07T05:01:50.404Z"
   },
   {
    "duration": 199,
    "start_time": "2022-04-07T05:01:50.410Z"
   },
   {
    "duration": 96,
    "start_time": "2022-04-07T05:01:50.611Z"
   },
   {
    "duration": 119,
    "start_time": "2022-04-07T05:01:50.708Z"
   },
   {
    "duration": 36,
    "start_time": "2022-04-07T05:01:50.828Z"
   },
   {
    "duration": 4,
    "start_time": "2022-04-07T05:01:50.865Z"
   },
   {
    "duration": 6,
    "start_time": "2022-04-07T05:01:50.870Z"
   },
   {
    "duration": 9,
    "start_time": "2022-04-07T05:01:50.877Z"
   },
   {
    "duration": 14,
    "start_time": "2022-04-07T05:01:50.888Z"
   },
   {
    "duration": 5,
    "start_time": "2022-04-07T05:01:50.904Z"
   },
   {
    "duration": 10,
    "start_time": "2022-04-07T05:01:50.910Z"
   },
   {
    "duration": 12,
    "start_time": "2022-04-07T05:01:50.923Z"
   },
   {
    "duration": 30,
    "start_time": "2022-04-07T05:01:50.936Z"
   },
   {
    "duration": 12,
    "start_time": "2022-04-07T05:01:50.967Z"
   },
   {
    "duration": 222,
    "start_time": "2022-04-07T05:01:50.980Z"
   },
   {
    "duration": 4,
    "start_time": "2022-04-07T05:01:51.203Z"
   },
   {
    "duration": 5,
    "start_time": "2022-04-07T05:01:51.209Z"
   },
   {
    "duration": 17,
    "start_time": "2022-04-07T05:01:51.215Z"
   },
   {
    "duration": 9,
    "start_time": "2022-04-07T05:01:51.234Z"
   },
   {
    "duration": 24,
    "start_time": "2022-04-07T05:01:51.245Z"
   },
   {
    "duration": 19,
    "start_time": "2022-04-07T05:01:51.270Z"
   },
   {
    "duration": 19,
    "start_time": "2022-04-07T05:01:51.291Z"
   },
   {
    "duration": 34,
    "start_time": "2022-04-07T05:01:51.312Z"
   },
   {
    "duration": 54,
    "start_time": "2022-04-07T05:01:51.347Z"
   },
   {
    "duration": 754,
    "start_time": "2022-04-07T05:01:51.402Z"
   },
   {
    "duration": 554,
    "start_time": "2022-04-07T05:01:52.157Z"
   },
   {
    "duration": 4,
    "start_time": "2022-04-07T05:01:52.712Z"
   },
   {
    "duration": 8,
    "start_time": "2022-04-07T05:01:52.718Z"
   },
   {
    "duration": 13,
    "start_time": "2022-04-07T05:01:52.728Z"
   },
   {
    "duration": 6,
    "start_time": "2022-04-07T05:01:52.743Z"
   },
   {
    "duration": 45,
    "start_time": "2022-04-07T05:01:52.750Z"
   },
   {
    "duration": 5,
    "start_time": "2022-04-07T05:01:52.797Z"
   },
   {
    "duration": 11,
    "start_time": "2022-04-07T05:01:52.804Z"
   },
   {
    "duration": 6,
    "start_time": "2022-04-07T05:01:52.816Z"
   },
   {
    "duration": 172,
    "start_time": "2022-04-07T05:01:52.824Z"
   },
   {
    "duration": 227,
    "start_time": "2022-04-07T05:01:52.998Z"
   },
   {
    "duration": 150,
    "start_time": "2022-04-07T05:01:53.227Z"
   },
   {
    "duration": 29,
    "start_time": "2022-04-07T05:01:53.379Z"
   },
   {
    "duration": 26,
    "start_time": "2022-04-07T05:03:43.871Z"
   },
   {
    "duration": 12,
    "start_time": "2022-04-07T05:03:52.174Z"
   },
   {
    "duration": 96,
    "start_time": "2022-04-07T05:04:41.878Z"
   },
   {
    "duration": 1680,
    "start_time": "2022-04-07T05:05:21.182Z"
   },
   {
    "duration": 11,
    "start_time": "2022-04-07T05:05:22.876Z"
   },
   {
    "duration": 1160,
    "start_time": "2022-04-07T05:05:29.812Z"
   },
   {
    "duration": 373,
    "start_time": "2022-04-07T05:05:30.973Z"
   },
   {
    "duration": 33,
    "start_time": "2022-04-07T05:05:31.347Z"
   },
   {
    "duration": 97,
    "start_time": "2022-04-07T05:05:31.382Z"
   },
   {
    "duration": 4,
    "start_time": "2022-04-07T05:05:31.480Z"
   },
   {
    "duration": 116,
    "start_time": "2022-04-07T05:05:31.485Z"
   },
   {
    "duration": 0,
    "start_time": "2022-04-07T05:05:31.604Z"
   },
   {
    "duration": 0,
    "start_time": "2022-04-07T05:05:31.605Z"
   },
   {
    "duration": 0,
    "start_time": "2022-04-07T05:05:31.606Z"
   },
   {
    "duration": 0,
    "start_time": "2022-04-07T05:05:31.607Z"
   },
   {
    "duration": 0,
    "start_time": "2022-04-07T05:05:31.608Z"
   },
   {
    "duration": 0,
    "start_time": "2022-04-07T05:05:31.609Z"
   },
   {
    "duration": 0,
    "start_time": "2022-04-07T05:05:31.610Z"
   },
   {
    "duration": 0,
    "start_time": "2022-04-07T05:05:31.611Z"
   },
   {
    "duration": 0,
    "start_time": "2022-04-07T05:05:31.612Z"
   },
   {
    "duration": 0,
    "start_time": "2022-04-07T05:05:31.613Z"
   },
   {
    "duration": 0,
    "start_time": "2022-04-07T05:05:31.614Z"
   },
   {
    "duration": 0,
    "start_time": "2022-04-07T05:05:31.615Z"
   },
   {
    "duration": 0,
    "start_time": "2022-04-07T05:05:31.616Z"
   },
   {
    "duration": 0,
    "start_time": "2022-04-07T05:05:31.617Z"
   },
   {
    "duration": 0,
    "start_time": "2022-04-07T05:05:31.618Z"
   },
   {
    "duration": 0,
    "start_time": "2022-04-07T05:05:31.619Z"
   },
   {
    "duration": 0,
    "start_time": "2022-04-07T05:05:31.620Z"
   },
   {
    "duration": 0,
    "start_time": "2022-04-07T05:05:31.621Z"
   },
   {
    "duration": 0,
    "start_time": "2022-04-07T05:05:31.621Z"
   },
   {
    "duration": 0,
    "start_time": "2022-04-07T05:05:31.622Z"
   },
   {
    "duration": 0,
    "start_time": "2022-04-07T05:05:31.623Z"
   },
   {
    "duration": 0,
    "start_time": "2022-04-07T05:05:31.624Z"
   },
   {
    "duration": 0,
    "start_time": "2022-04-07T05:05:31.625Z"
   },
   {
    "duration": 0,
    "start_time": "2022-04-07T05:05:31.663Z"
   },
   {
    "duration": 0,
    "start_time": "2022-04-07T05:05:31.664Z"
   },
   {
    "duration": 0,
    "start_time": "2022-04-07T05:05:31.665Z"
   },
   {
    "duration": 0,
    "start_time": "2022-04-07T05:05:31.666Z"
   },
   {
    "duration": 0,
    "start_time": "2022-04-07T05:05:31.667Z"
   },
   {
    "duration": 0,
    "start_time": "2022-04-07T05:05:31.668Z"
   },
   {
    "duration": 0,
    "start_time": "2022-04-07T05:05:31.669Z"
   },
   {
    "duration": 0,
    "start_time": "2022-04-07T05:05:31.670Z"
   },
   {
    "duration": 0,
    "start_time": "2022-04-07T05:05:31.670Z"
   },
   {
    "duration": 0,
    "start_time": "2022-04-07T05:05:31.671Z"
   },
   {
    "duration": 0,
    "start_time": "2022-04-07T05:05:31.672Z"
   },
   {
    "duration": 0,
    "start_time": "2022-04-07T05:05:31.673Z"
   },
   {
    "duration": 0,
    "start_time": "2022-04-07T05:05:31.674Z"
   },
   {
    "duration": 0,
    "start_time": "2022-04-07T05:05:31.675Z"
   },
   {
    "duration": 0,
    "start_time": "2022-04-07T05:05:31.675Z"
   },
   {
    "duration": 0,
    "start_time": "2022-04-07T05:05:31.676Z"
   },
   {
    "duration": 0,
    "start_time": "2022-04-07T05:05:31.677Z"
   },
   {
    "duration": 0,
    "start_time": "2022-04-07T05:05:31.678Z"
   },
   {
    "duration": 0,
    "start_time": "2022-04-07T05:05:31.679Z"
   },
   {
    "duration": 0,
    "start_time": "2022-04-07T05:05:31.679Z"
   },
   {
    "duration": 0,
    "start_time": "2022-04-07T05:05:31.680Z"
   },
   {
    "duration": 0,
    "start_time": "2022-04-07T05:05:31.681Z"
   },
   {
    "duration": 0,
    "start_time": "2022-04-07T05:05:31.682Z"
   },
   {
    "duration": 0,
    "start_time": "2022-04-07T05:05:31.683Z"
   },
   {
    "duration": 0,
    "start_time": "2022-04-07T05:05:31.683Z"
   },
   {
    "duration": 3,
    "start_time": "2022-04-07T05:06:39.210Z"
   },
   {
    "duration": 9,
    "start_time": "2022-04-07T05:06:39.586Z"
   },
   {
    "duration": 75,
    "start_time": "2022-04-07T05:06:56.786Z"
   },
   {
    "duration": 74,
    "start_time": "2022-04-07T05:07:19.754Z"
   },
   {
    "duration": 11,
    "start_time": "2022-04-07T05:07:21.322Z"
   },
   {
    "duration": 179,
    "start_time": "2022-04-07T05:07:39.010Z"
   },
   {
    "duration": 7,
    "start_time": "2022-04-07T05:07:41.682Z"
   },
   {
    "duration": 3,
    "start_time": "2022-04-07T05:07:42.522Z"
   },
   {
    "duration": 4,
    "start_time": "2022-04-07T05:07:44.009Z"
   },
   {
    "duration": 47,
    "start_time": "2022-04-07T05:07:45.225Z"
   },
   {
    "duration": 59,
    "start_time": "2022-04-07T05:07:50.890Z"
   },
   {
    "duration": 7,
    "start_time": "2022-04-07T05:08:05.081Z"
   },
   {
    "duration": 4,
    "start_time": "2022-04-07T05:08:05.779Z"
   },
   {
    "duration": 33,
    "start_time": "2022-04-07T05:08:08.874Z"
   },
   {
    "duration": 1088,
    "start_time": "2022-04-07T05:08:22.379Z"
   },
   {
    "duration": 365,
    "start_time": "2022-04-07T05:08:23.469Z"
   },
   {
    "duration": 31,
    "start_time": "2022-04-07T05:08:23.836Z"
   },
   {
    "duration": 71,
    "start_time": "2022-04-07T05:08:23.869Z"
   },
   {
    "duration": 21,
    "start_time": "2022-04-07T05:08:23.942Z"
   },
   {
    "duration": 72,
    "start_time": "2022-04-07T05:08:23.964Z"
   },
   {
    "duration": 27,
    "start_time": "2022-04-07T05:08:24.038Z"
   },
   {
    "duration": 183,
    "start_time": "2022-04-07T05:08:24.067Z"
   },
   {
    "duration": 11,
    "start_time": "2022-04-07T05:08:24.252Z"
   },
   {
    "duration": 6,
    "start_time": "2022-04-07T05:08:24.266Z"
   },
   {
    "duration": 9,
    "start_time": "2022-04-07T05:08:24.273Z"
   },
   {
    "duration": 49,
    "start_time": "2022-04-07T05:08:24.283Z"
   },
   {
    "duration": 6,
    "start_time": "2022-04-07T05:08:24.334Z"
   },
   {
    "duration": 21,
    "start_time": "2022-04-07T05:08:24.342Z"
   },
   {
    "duration": 32,
    "start_time": "2022-04-07T05:08:24.364Z"
   },
   {
    "duration": 11,
    "start_time": "2022-04-07T05:08:24.397Z"
   },
   {
    "duration": 5,
    "start_time": "2022-04-07T05:08:24.409Z"
   },
   {
    "duration": 180,
    "start_time": "2022-04-07T05:08:24.415Z"
   },
   {
    "duration": 106,
    "start_time": "2022-04-07T05:08:24.597Z"
   },
   {
    "duration": 119,
    "start_time": "2022-04-07T05:08:24.705Z"
   },
   {
    "duration": 38,
    "start_time": "2022-04-07T05:08:24.826Z"
   },
   {
    "duration": 4,
    "start_time": "2022-04-07T05:08:24.865Z"
   },
   {
    "duration": 7,
    "start_time": "2022-04-07T05:08:24.871Z"
   },
   {
    "duration": 6,
    "start_time": "2022-04-07T05:08:24.879Z"
   },
   {
    "duration": 4,
    "start_time": "2022-04-07T05:08:24.887Z"
   },
   {
    "duration": 5,
    "start_time": "2022-04-07T05:08:24.892Z"
   },
   {
    "duration": 10,
    "start_time": "2022-04-07T05:08:24.899Z"
   },
   {
    "duration": 12,
    "start_time": "2022-04-07T05:08:24.912Z"
   },
   {
    "duration": 42,
    "start_time": "2022-04-07T05:08:24.926Z"
   },
   {
    "duration": 14,
    "start_time": "2022-04-07T05:08:24.969Z"
   },
   {
    "duration": 219,
    "start_time": "2022-04-07T05:08:24.984Z"
   },
   {
    "duration": 4,
    "start_time": "2022-04-07T05:08:25.204Z"
   },
   {
    "duration": 5,
    "start_time": "2022-04-07T05:08:25.209Z"
   },
   {
    "duration": 15,
    "start_time": "2022-04-07T05:08:25.215Z"
   },
   {
    "duration": 9,
    "start_time": "2022-04-07T05:08:25.231Z"
   },
   {
    "duration": 29,
    "start_time": "2022-04-07T05:08:25.242Z"
   },
   {
    "duration": 21,
    "start_time": "2022-04-07T05:08:25.273Z"
   },
   {
    "duration": 18,
    "start_time": "2022-04-07T05:08:25.295Z"
   },
   {
    "duration": 33,
    "start_time": "2022-04-07T05:08:25.314Z"
   },
   {
    "duration": 41,
    "start_time": "2022-04-07T05:08:25.363Z"
   },
   {
    "duration": 763,
    "start_time": "2022-04-07T05:08:25.405Z"
   },
   {
    "duration": 574,
    "start_time": "2022-04-07T05:08:26.169Z"
   },
   {
    "duration": 4,
    "start_time": "2022-04-07T05:08:26.744Z"
   },
   {
    "duration": 14,
    "start_time": "2022-04-07T05:08:26.749Z"
   },
   {
    "duration": 14,
    "start_time": "2022-04-07T05:08:26.765Z"
   },
   {
    "duration": 4,
    "start_time": "2022-04-07T05:08:26.781Z"
   },
   {
    "duration": 36,
    "start_time": "2022-04-07T05:08:26.786Z"
   },
   {
    "duration": 5,
    "start_time": "2022-04-07T05:08:26.823Z"
   },
   {
    "duration": 11,
    "start_time": "2022-04-07T05:08:26.830Z"
   },
   {
    "duration": 3,
    "start_time": "2022-04-07T05:08:26.863Z"
   },
   {
    "duration": 154,
    "start_time": "2022-04-07T05:08:26.867Z"
   },
   {
    "duration": 235,
    "start_time": "2022-04-07T05:08:27.023Z"
   },
   {
    "duration": 146,
    "start_time": "2022-04-07T05:08:27.259Z"
   },
   {
    "duration": 31,
    "start_time": "2022-04-07T05:08:27.407Z"
   },
   {
    "duration": 101,
    "start_time": "2022-04-07T05:12:33.290Z"
   },
   {
    "duration": 19,
    "start_time": "2022-04-07T05:18:30.983Z"
   },
   {
    "duration": 20,
    "start_time": "2022-04-07T05:19:57.696Z"
   },
   {
    "duration": 1055,
    "start_time": "2022-04-07T05:20:11.408Z"
   },
   {
    "duration": 366,
    "start_time": "2022-04-07T05:20:12.465Z"
   },
   {
    "duration": 31,
    "start_time": "2022-04-07T05:20:12.833Z"
   },
   {
    "duration": 72,
    "start_time": "2022-04-07T05:20:12.865Z"
   },
   {
    "duration": 24,
    "start_time": "2022-04-07T05:20:12.939Z"
   },
   {
    "duration": 77,
    "start_time": "2022-04-07T05:20:12.965Z"
   },
   {
    "duration": 25,
    "start_time": "2022-04-07T05:20:13.044Z"
   },
   {
    "duration": 195,
    "start_time": "2022-04-07T05:20:13.071Z"
   },
   {
    "duration": 8,
    "start_time": "2022-04-07T05:20:13.268Z"
   },
   {
    "duration": 3,
    "start_time": "2022-04-07T05:20:13.279Z"
   },
   {
    "duration": 6,
    "start_time": "2022-04-07T05:20:13.284Z"
   },
   {
    "duration": 72,
    "start_time": "2022-04-07T05:20:13.291Z"
   },
   {
    "duration": 8,
    "start_time": "2022-04-07T05:20:13.365Z"
   },
   {
    "duration": 6,
    "start_time": "2022-04-07T05:20:13.375Z"
   },
   {
    "duration": 37,
    "start_time": "2022-04-07T05:20:13.382Z"
   },
   {
    "duration": 51,
    "start_time": "2022-04-07T05:20:13.421Z"
   },
   {
    "duration": 7,
    "start_time": "2022-04-07T05:20:13.474Z"
   },
   {
    "duration": 170,
    "start_time": "2022-04-07T05:20:13.482Z"
   },
   {
    "duration": 92,
    "start_time": "2022-04-07T05:20:13.662Z"
   },
   {
    "duration": 130,
    "start_time": "2022-04-07T05:20:13.756Z"
   },
   {
    "duration": 30,
    "start_time": "2022-04-07T05:20:13.888Z"
   },
   {
    "duration": 4,
    "start_time": "2022-04-07T05:20:13.920Z"
   },
   {
    "duration": 4,
    "start_time": "2022-04-07T05:20:13.926Z"
   },
   {
    "duration": 30,
    "start_time": "2022-04-07T05:20:13.932Z"
   },
   {
    "duration": 6,
    "start_time": "2022-04-07T05:20:13.964Z"
   },
   {
    "duration": 5,
    "start_time": "2022-04-07T05:20:13.972Z"
   },
   {
    "duration": 10,
    "start_time": "2022-04-07T05:20:13.979Z"
   },
   {
    "duration": 14,
    "start_time": "2022-04-07T05:20:13.993Z"
   },
   {
    "duration": 10,
    "start_time": "2022-04-07T05:20:14.009Z"
   },
   {
    "duration": 54,
    "start_time": "2022-04-07T05:20:14.021Z"
   },
   {
    "duration": 223,
    "start_time": "2022-04-07T05:20:14.077Z"
   },
   {
    "duration": 5,
    "start_time": "2022-04-07T05:20:14.301Z"
   },
   {
    "duration": 7,
    "start_time": "2022-04-07T05:20:14.307Z"
   },
   {
    "duration": 19,
    "start_time": "2022-04-07T05:20:14.315Z"
   },
   {
    "duration": 10,
    "start_time": "2022-04-07T05:20:14.336Z"
   },
   {
    "duration": 10,
    "start_time": "2022-04-07T05:20:14.363Z"
   },
   {
    "duration": 18,
    "start_time": "2022-04-07T05:20:14.374Z"
   },
   {
    "duration": 21,
    "start_time": "2022-04-07T05:20:14.394Z"
   },
   {
    "duration": 52,
    "start_time": "2022-04-07T05:20:14.417Z"
   },
   {
    "duration": 41,
    "start_time": "2022-04-07T05:20:14.470Z"
   },
   {
    "duration": 857,
    "start_time": "2022-04-07T05:20:14.513Z"
   },
   {
    "duration": 572,
    "start_time": "2022-04-07T05:20:15.372Z"
   },
   {
    "duration": 4,
    "start_time": "2022-04-07T05:20:15.946Z"
   },
   {
    "duration": 14,
    "start_time": "2022-04-07T05:20:15.951Z"
   },
   {
    "duration": 19,
    "start_time": "2022-04-07T05:20:15.966Z"
   },
   {
    "duration": 3,
    "start_time": "2022-04-07T05:20:15.986Z"
   },
   {
    "duration": 36,
    "start_time": "2022-04-07T05:20:15.991Z"
   },
   {
    "duration": 5,
    "start_time": "2022-04-07T05:20:16.029Z"
   },
   {
    "duration": 29,
    "start_time": "2022-04-07T05:20:16.035Z"
   },
   {
    "duration": 4,
    "start_time": "2022-04-07T05:20:16.065Z"
   },
   {
    "duration": 166,
    "start_time": "2022-04-07T05:20:16.070Z"
   },
   {
    "duration": 235,
    "start_time": "2022-04-07T05:20:16.238Z"
   },
   {
    "duration": 152,
    "start_time": "2022-04-07T05:20:16.475Z"
   },
   {
    "duration": 31,
    "start_time": "2022-04-07T05:20:16.629Z"
   },
   {
    "duration": 32,
    "start_time": "2022-04-07T05:24:27.474Z"
   },
   {
    "duration": 42,
    "start_time": "2022-04-07T05:24:37.498Z"
   },
   {
    "duration": 40,
    "start_time": "2022-04-07T05:24:42.923Z"
   },
   {
    "duration": 41,
    "start_time": "2022-04-07T05:24:52.339Z"
   },
   {
    "duration": 41,
    "start_time": "2022-04-07T05:27:12.387Z"
   },
   {
    "duration": 749,
    "start_time": "2022-04-07T05:27:13.722Z"
   },
   {
    "duration": 555,
    "start_time": "2022-04-07T05:27:18.538Z"
   },
   {
    "duration": 14,
    "start_time": "2022-04-07T05:30:30.801Z"
   },
   {
    "duration": 8,
    "start_time": "2022-04-07T05:32:04.000Z"
   },
   {
    "duration": 1132,
    "start_time": "2022-04-07T06:34:01.049Z"
   },
   {
    "duration": 394,
    "start_time": "2022-04-07T06:34:02.183Z"
   },
   {
    "duration": 33,
    "start_time": "2022-04-07T06:34:02.579Z"
   },
   {
    "duration": 92,
    "start_time": "2022-04-07T06:34:02.614Z"
   },
   {
    "duration": 3,
    "start_time": "2022-04-07T06:34:02.708Z"
   },
   {
    "duration": 99,
    "start_time": "2022-04-07T06:34:02.712Z"
   },
   {
    "duration": 11,
    "start_time": "2022-04-07T06:34:02.812Z"
   },
   {
    "duration": 180,
    "start_time": "2022-04-07T06:34:02.824Z"
   },
   {
    "duration": 6,
    "start_time": "2022-04-07T06:34:03.006Z"
   },
   {
    "duration": 6,
    "start_time": "2022-04-07T06:34:03.015Z"
   },
   {
    "duration": 8,
    "start_time": "2022-04-07T06:34:03.022Z"
   },
   {
    "duration": 63,
    "start_time": "2022-04-07T06:34:03.032Z"
   },
   {
    "duration": 6,
    "start_time": "2022-04-07T06:34:03.097Z"
   },
   {
    "duration": 9,
    "start_time": "2022-04-07T06:34:03.104Z"
   },
   {
    "duration": 54,
    "start_time": "2022-04-07T06:34:03.114Z"
   },
   {
    "duration": 11,
    "start_time": "2022-04-07T06:34:03.170Z"
   },
   {
    "duration": 6,
    "start_time": "2022-04-07T06:34:03.183Z"
   },
   {
    "duration": 168,
    "start_time": "2022-04-07T06:34:03.190Z"
   },
   {
    "duration": 101,
    "start_time": "2022-04-07T06:34:03.362Z"
   },
   {
    "duration": 118,
    "start_time": "2022-04-07T06:34:03.465Z"
   },
   {
    "duration": 29,
    "start_time": "2022-04-07T06:34:03.585Z"
   },
   {
    "duration": 4,
    "start_time": "2022-04-07T06:34:03.615Z"
   },
   {
    "duration": 5,
    "start_time": "2022-04-07T06:34:03.621Z"
   },
   {
    "duration": 12,
    "start_time": "2022-04-07T06:34:03.627Z"
   },
   {
    "duration": 24,
    "start_time": "2022-04-07T06:34:03.640Z"
   },
   {
    "duration": 5,
    "start_time": "2022-04-07T06:34:03.666Z"
   },
   {
    "duration": 11,
    "start_time": "2022-04-07T06:34:03.672Z"
   },
   {
    "duration": 22,
    "start_time": "2022-04-07T06:34:03.686Z"
   },
   {
    "duration": 10,
    "start_time": "2022-04-07T06:34:03.710Z"
   },
   {
    "duration": 12,
    "start_time": "2022-04-07T06:34:03.722Z"
   },
   {
    "duration": 242,
    "start_time": "2022-04-07T06:34:03.736Z"
   },
   {
    "duration": 4,
    "start_time": "2022-04-07T06:34:03.979Z"
   },
   {
    "duration": 7,
    "start_time": "2022-04-07T06:34:03.984Z"
   },
   {
    "duration": 18,
    "start_time": "2022-04-07T06:34:03.992Z"
   },
   {
    "duration": 10,
    "start_time": "2022-04-07T06:34:04.011Z"
   },
   {
    "duration": 11,
    "start_time": "2022-04-07T06:34:04.023Z"
   },
   {
    "duration": 3,
    "start_time": "2022-04-07T06:34:04.063Z"
   },
   {
    "duration": 21,
    "start_time": "2022-04-07T06:34:04.068Z"
   },
   {
    "duration": 3,
    "start_time": "2022-04-07T06:34:04.091Z"
   },
   {
    "duration": 40,
    "start_time": "2022-04-07T06:34:04.096Z"
   },
   {
    "duration": 63,
    "start_time": "2022-04-07T06:34:04.138Z"
   },
   {
    "duration": 793,
    "start_time": "2022-04-07T06:34:04.203Z"
   },
   {
    "duration": 594,
    "start_time": "2022-04-07T06:34:04.998Z"
   },
   {
    "duration": 3,
    "start_time": "2022-04-07T06:34:05.594Z"
   },
   {
    "duration": 7,
    "start_time": "2022-04-07T06:34:05.598Z"
   },
   {
    "duration": 13,
    "start_time": "2022-04-07T06:34:05.607Z"
   },
   {
    "duration": 3,
    "start_time": "2022-04-07T06:34:05.621Z"
   },
   {
    "duration": 9,
    "start_time": "2022-04-07T06:34:05.626Z"
   },
   {
    "duration": 30,
    "start_time": "2022-04-07T06:34:05.637Z"
   },
   {
    "duration": 8,
    "start_time": "2022-04-07T06:34:05.669Z"
   },
   {
    "duration": 165,
    "start_time": "2022-04-07T06:34:05.678Z"
   },
   {
    "duration": 244,
    "start_time": "2022-04-07T06:34:05.845Z"
   },
   {
    "duration": 153,
    "start_time": "2022-04-07T06:34:06.090Z"
   },
   {
    "duration": 29,
    "start_time": "2022-04-07T06:34:06.245Z"
   }
  ],
  "kernelspec": {
   "display_name": "Python 3 (ipykernel)",
   "language": "python",
   "name": "python3"
  },
  "language_info": {
   "codemirror_mode": {
    "name": "ipython",
    "version": 3
   },
   "file_extension": ".py",
   "mimetype": "text/x-python",
   "name": "python",
   "nbconvert_exporter": "python",
   "pygments_lexer": "ipython3",
   "version": "3.9.13"
  },
  "toc": {
   "base_numbering": 1,
   "nav_menu": {},
   "number_sections": false,
   "sideBar": true,
   "skip_h1_title": false,
   "title_cell": "Table of Contents",
   "title_sidebar": "Contents",
   "toc_cell": false,
   "toc_position": {
    "height": "calc(100% - 180px)",
    "left": "10px",
    "top": "150px",
    "width": "358.188px"
   },
   "toc_section_display": true,
   "toc_window_display": false
  }
 },
 "nbformat": 4,
 "nbformat_minor": 4
}
