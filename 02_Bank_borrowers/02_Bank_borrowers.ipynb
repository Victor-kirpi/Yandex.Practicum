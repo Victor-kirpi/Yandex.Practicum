{
 "cells": [
  {
   "cell_type": "markdown",
   "metadata": {},
   "source": [
    "# **Исследование надежности заемщиков**"
   ]
  },
  {
   "cell_type": "markdown",
   "metadata": {},
   "source": [
    "**Заказчик** — кредитный отдел банка. \n",
    "\n",
    "**Цель исследования** - проверить следующие гипотезы:\n",
    "1. Количество детей клиента влияет на факт погашения кредита в срок.\n",
    "2. Семейное положение клиента влияет на факт погашения кредита в срок.\n",
    "3. Люди с меньшим уровнем доходом чаще всего имеют задолжности по кредиту.\n",
    "4. Люди обращаются в банк с целью приобрести квартиру чаще, чем на другие нужды.\n",
    "\n",
    "**Поставленные задачи**\n",
    "1. Определить основные цели заемщиков.\n",
    "2. Выявить, какие существуют закономерности между положительным закрытием кредита и статусу потенциального заемщика.\n",
    "3. Создать категерии для облегчения восприятия и хранения информации в базе данных.\n",
    "\n",
    "**Дальнейшее использование**\n",
    "\n",
    "Результаты исследования будут учтены при построении модели кредитного скоринга — специальной системы, которая оценивает способность потенциального заёмщика вернуть кредит банку."
   ]
  },
  {
   "cell_type": "markdown",
   "metadata": {},
   "source": [
    "## **I. Обзор данных**"
   ]
  },
  {
   "cell_type": "markdown",
   "metadata": {},
   "source": [
    "В ходе исследования нам понадобятся библиотеки:\n",
    "\n",
    "* `pandas`\n",
    "* `seaborn`\n",
    "* `math`\n",
    "\n",
    "Поэтому сразу импортируем их."
   ]
  },
  {
   "cell_type": "code",
   "execution_count": 1,
   "metadata": {},
   "outputs": [],
   "source": [
    "import pandas as pd\n",
    "\n",
    "pd.options.display.float_format ='{:,.3f}'.format\n",
    "\n",
    "import seaborn as sb\n",
    "\n",
    "import math\n",
    "\n",
    "import matplotlib.pyplot as plt"
   ]
  },
  {
   "cell_type": "markdown",
   "metadata": {},
   "source": [
    "Сначала составим представление о полученных исходных данных.\n",
    "Для этого используем библиотеку `pandas`.\n",
    "\n",
    "Импортируем библиотеку и прочитаем файл `data.csv` из папки `/datasets/data.csv` и сохраним его в переменной `df`:"
   ]
  },
  {
   "cell_type": "code",
   "execution_count": 2,
   "metadata": {},
   "outputs": [],
   "source": [
    "df = pd.read_csv('/datasets/data.csv')"
   ]
  },
  {
   "cell_type": "markdown",
   "metadata": {},
   "source": [
    "Выведем на экран первые пять строк таблицы:"
   ]
  },
  {
   "cell_type": "code",
   "execution_count": 3,
   "metadata": {},
   "outputs": [
    {
     "data": {
      "text/html": [
       "<div>\n",
       "<style scoped>\n",
       "    .dataframe tbody tr th:only-of-type {\n",
       "        vertical-align: middle;\n",
       "    }\n",
       "\n",
       "    .dataframe tbody tr th {\n",
       "        vertical-align: top;\n",
       "    }\n",
       "\n",
       "    .dataframe thead th {\n",
       "        text-align: right;\n",
       "    }\n",
       "</style>\n",
       "<table border=\"1\" class=\"dataframe\">\n",
       "  <thead>\n",
       "    <tr style=\"text-align: right;\">\n",
       "      <th></th>\n",
       "      <th>children</th>\n",
       "      <th>days_employed</th>\n",
       "      <th>dob_years</th>\n",
       "      <th>education</th>\n",
       "      <th>education_id</th>\n",
       "      <th>family_status</th>\n",
       "      <th>family_status_id</th>\n",
       "      <th>gender</th>\n",
       "      <th>income_type</th>\n",
       "      <th>debt</th>\n",
       "      <th>total_income</th>\n",
       "      <th>purpose</th>\n",
       "    </tr>\n",
       "  </thead>\n",
       "  <tbody>\n",
       "    <tr>\n",
       "      <td>0</td>\n",
       "      <td>1</td>\n",
       "      <td>-8,437.673</td>\n",
       "      <td>42</td>\n",
       "      <td>высшее</td>\n",
       "      <td>0</td>\n",
       "      <td>женат / замужем</td>\n",
       "      <td>0</td>\n",
       "      <td>F</td>\n",
       "      <td>сотрудник</td>\n",
       "      <td>0</td>\n",
       "      <td>253,875.639</td>\n",
       "      <td>покупка жилья</td>\n",
       "    </tr>\n",
       "    <tr>\n",
       "      <td>1</td>\n",
       "      <td>1</td>\n",
       "      <td>-4,024.804</td>\n",
       "      <td>36</td>\n",
       "      <td>среднее</td>\n",
       "      <td>1</td>\n",
       "      <td>женат / замужем</td>\n",
       "      <td>0</td>\n",
       "      <td>F</td>\n",
       "      <td>сотрудник</td>\n",
       "      <td>0</td>\n",
       "      <td>112,080.014</td>\n",
       "      <td>приобретение автомобиля</td>\n",
       "    </tr>\n",
       "    <tr>\n",
       "      <td>2</td>\n",
       "      <td>0</td>\n",
       "      <td>-5,623.423</td>\n",
       "      <td>33</td>\n",
       "      <td>Среднее</td>\n",
       "      <td>1</td>\n",
       "      <td>женат / замужем</td>\n",
       "      <td>0</td>\n",
       "      <td>M</td>\n",
       "      <td>сотрудник</td>\n",
       "      <td>0</td>\n",
       "      <td>145,885.952</td>\n",
       "      <td>покупка жилья</td>\n",
       "    </tr>\n",
       "    <tr>\n",
       "      <td>3</td>\n",
       "      <td>3</td>\n",
       "      <td>-4,124.747</td>\n",
       "      <td>32</td>\n",
       "      <td>среднее</td>\n",
       "      <td>1</td>\n",
       "      <td>женат / замужем</td>\n",
       "      <td>0</td>\n",
       "      <td>M</td>\n",
       "      <td>сотрудник</td>\n",
       "      <td>0</td>\n",
       "      <td>267,628.550</td>\n",
       "      <td>дополнительное образование</td>\n",
       "    </tr>\n",
       "    <tr>\n",
       "      <td>4</td>\n",
       "      <td>0</td>\n",
       "      <td>340,266.072</td>\n",
       "      <td>53</td>\n",
       "      <td>среднее</td>\n",
       "      <td>1</td>\n",
       "      <td>гражданский брак</td>\n",
       "      <td>1</td>\n",
       "      <td>F</td>\n",
       "      <td>пенсионер</td>\n",
       "      <td>0</td>\n",
       "      <td>158,616.078</td>\n",
       "      <td>сыграть свадьбу</td>\n",
       "    </tr>\n",
       "  </tbody>\n",
       "</table>\n",
       "</div>"
      ],
      "text/plain": [
       "   children  days_employed  dob_years education  education_id  \\\n",
       "0         1     -8,437.673         42    высшее             0   \n",
       "1         1     -4,024.804         36   среднее             1   \n",
       "2         0     -5,623.423         33   Среднее             1   \n",
       "3         3     -4,124.747         32   среднее             1   \n",
       "4         0    340,266.072         53   среднее             1   \n",
       "\n",
       "      family_status  family_status_id gender income_type  debt  total_income  \\\n",
       "0   женат / замужем                 0      F   сотрудник     0   253,875.639   \n",
       "1   женат / замужем                 0      F   сотрудник     0   112,080.014   \n",
       "2   женат / замужем                 0      M   сотрудник     0   145,885.952   \n",
       "3   женат / замужем                 0      M   сотрудник     0   267,628.550   \n",
       "4  гражданский брак                 1      F   пенсионер     0   158,616.078   \n",
       "\n",
       "                      purpose  \n",
       "0               покупка жилья  \n",
       "1     приобретение автомобиля  \n",
       "2               покупка жилья  \n",
       "3  дополнительное образование  \n",
       "4             сыграть свадьбу  "
      ]
     },
     "metadata": {},
     "output_type": "display_data"
    }
   ],
   "source": [
    "display(df.head())"
   ]
  },
  {
   "cell_type": "markdown",
   "metadata": {},
   "source": [
    "Получим общую информацию о таблице: <a id='df.info'></a>"
   ]
  },
  {
   "cell_type": "code",
   "execution_count": 4,
   "metadata": {},
   "outputs": [
    {
     "name": "stdout",
     "output_type": "stream",
     "text": [
      "<class 'pandas.core.frame.DataFrame'>\n",
      "RangeIndex: 21525 entries, 0 to 21524\n",
      "Data columns (total 12 columns):\n",
      "children            21525 non-null int64\n",
      "days_employed       19351 non-null float64\n",
      "dob_years           21525 non-null int64\n",
      "education           21525 non-null object\n",
      "education_id        21525 non-null int64\n",
      "family_status       21525 non-null object\n",
      "family_status_id    21525 non-null int64\n",
      "gender              21525 non-null object\n",
      "income_type         21525 non-null object\n",
      "debt                21525 non-null int64\n",
      "total_income        19351 non-null float64\n",
      "purpose             21525 non-null object\n",
      "dtypes: float64(2), int64(5), object(5)\n",
      "memory usage: 2.0+ MB\n"
     ]
    }
   ],
   "source": [
    "df.info()"
   ]
  },
  {
   "cell_type": "markdown",
   "metadata": {},
   "source": [
    "Итак, в таблице двенадцать столбцов. Типы данных в столбцах — целые числа `int`, вещественные числа `float` и строки `object`.\n",
    "\n",
    "Согласно документации к данным:\n",
    "\n",
    "* `children` — количество детей в семье\n",
    "* `days_employed`— общий трудовой стаж в днях\n",
    "* `dob_years` — возраст клиента в годах\n",
    "* `education` — уровень образования клиента\n",
    "* `education_id` — идентификатор уровня образования\n",
    "* `family_status` — семейное положение\n",
    "* `family_status_id` — идентификатор семейного положения\n",
    "* `gender` — пол клиента\n",
    "* `income_type` — тип занятости\n",
    "* `debt` — имел ли задолженность по возврату кредитов\n",
    "* `total_income` — ежемесячный доход\n",
    "* `purpose` — цель получения кредита\n",
    "\n",
    "Количество значений в столбцах различается. Значит, в данных есть **пропущенные значения**.\n",
    "\n",
    "Помимо этого в значениях таблицы используются разные регистры к похожим данным."
   ]
  },
  {
   "cell_type": "markdown",
   "metadata": {},
   "source": [
    "### **Выводы**\n",
    "\n",
    "В каждой строке таблицы — данные об уникальном клиенте. Часть колонок описывает общие параметры клиента: дети, трудовой стаж, возраст, образование, семейное положение и пол. Остальные данные рассказывают о бизнес отношениях с банком: текущий тип занятости, кредитная история, ежемесячный доход и цель получения кредита.\n",
    "\n",
    "Предварительно можно утверждать, что, данных достаточно для ответа на целевой вопрос исследования и решения поставленных задач. Однако первично уже установлено, что встречаются пропуски в данных.\n",
    "\n",
    "Прежде, чем перейти к решению поставленных задач, необходимо устранить проблемы в данных."
   ]
  },
  {
   "cell_type": "markdown",
   "metadata": {},
   "source": [
    "## **II. Предобработка данных**"
   ]
  },
  {
   "cell_type": "markdown",
   "metadata": {},
   "source": [
    "### 1. Проверка данных на аномалии и исправления"
   ]
  },
  {
   "cell_type": "markdown",
   "metadata": {},
   "source": [
    "Если мы еще раз обратимся к первым строкам представленного `датафрейма`, то сразу же бросаются в глаза отрицательные значения столбца `days_employed`, соответствующего трудовому стажу.\n",
    "\n",
    "Но отрицательного значения не может быть, значит в процедуру сбора данных закралась ошибка. Посмотрим как много таких записей"
   ]
  },
  {
   "cell_type": "code",
   "execution_count": 5,
   "metadata": {},
   "outputs": [
    {
     "data": {
      "text/plain": [
       "15906"
      ]
     },
     "execution_count": 5,
     "metadata": {},
     "output_type": "execute_result"
    }
   ],
   "source": [
    "df[df['days_employed'] <= 0]['days_employed'].count()"
   ]
  },
  {
   "cell_type": "markdown",
   "metadata": {},
   "source": [
    "Почти 16 тысяч строк из 21,5 - это большая часть исходного столбца. \n",
    "\n",
    "1. Сделаем первое предположение, что <span style=\"color: #4682B4; font-weight: 600\">выгрузка данных по трудовому стажу настроена неверно</span> и необходимо сделать все значения положительными.\n",
    "\n",
    "Воспользуемся функцией `abs` из библиотеки `math` для преобразования в положительные значения."
   ]
  },
  {
   "cell_type": "markdown",
   "metadata": {},
   "source": [
    "Сначала переведем дни из столбца `days_employed` в года для удобства восприятия и внесем соответствующее изменение в название. "
   ]
  },
  {
   "cell_type": "code",
   "execution_count": 6,
   "metadata": {},
   "outputs": [],
   "source": [
    "df['days_employed'] = df['days_employed'] / 365 # перевод в года\n",
    "df = df.rename(columns={'days_employed':'years_employed'})\n",
    "pass"
   ]
  },
  {
   "cell_type": "markdown",
   "metadata": {},
   "source": [
    "Затем применим фильтр с логическим условием для определения отрицательных значений и получим модуль данного значения через `abs`."
   ]
  },
  {
   "cell_type": "code",
   "execution_count": 7,
   "metadata": {},
   "outputs": [],
   "source": [
    "df['years_employed'] = abs(df['years_employed'])"
   ]
  },
  {
   "cell_type": "markdown",
   "metadata": {},
   "source": [
    "Помимо отрицательных значений у нас имеются также пиковые положительные показатели трудового стажа, `свыше 1000 лет`. \n",
    "\n",
    "2. Сделаем второе предположение, что <span style=\"color: #4682B4; font-weight: 600\">при внесении части данных была допущена ошибка и вносились не `дни`, а `часы`</span>.\n",
    "\n",
    "Тогда согласно нашему предположению приведем к общей основе."
   ]
  },
  {
   "cell_type": "code",
   "execution_count": 8,
   "metadata": {},
   "outputs": [],
   "source": [
    "df.loc[df['years_employed'] > (df['dob_years'] - 16), ['years_employed']] = df['years_employed'] / 24\n",
    "# при условии, что по закону человек официально имеет право работать с 16 лет"
   ]
  },
  {
   "cell_type": "markdown",
   "metadata": {},
   "source": [
    "Выведем полученные результаты на экран"
   ]
  },
  {
   "cell_type": "code",
   "execution_count": 9,
   "metadata": {},
   "outputs": [
    {
     "data": {
      "text/html": [
       "<div>\n",
       "<style scoped>\n",
       "    .dataframe tbody tr th:only-of-type {\n",
       "        vertical-align: middle;\n",
       "    }\n",
       "\n",
       "    .dataframe tbody tr th {\n",
       "        vertical-align: top;\n",
       "    }\n",
       "\n",
       "    .dataframe thead th {\n",
       "        text-align: right;\n",
       "    }\n",
       "</style>\n",
       "<table border=\"1\" class=\"dataframe\">\n",
       "  <thead>\n",
       "    <tr style=\"text-align: right;\">\n",
       "      <th></th>\n",
       "      <th>children</th>\n",
       "      <th>years_employed</th>\n",
       "      <th>dob_years</th>\n",
       "      <th>education</th>\n",
       "      <th>education_id</th>\n",
       "      <th>family_status</th>\n",
       "      <th>family_status_id</th>\n",
       "      <th>gender</th>\n",
       "      <th>income_type</th>\n",
       "      <th>debt</th>\n",
       "      <th>total_income</th>\n",
       "      <th>purpose</th>\n",
       "    </tr>\n",
       "  </thead>\n",
       "  <tbody>\n",
       "    <tr>\n",
       "      <td>6954</td>\n",
       "      <td>0</td>\n",
       "      <td>45.862</td>\n",
       "      <td>56</td>\n",
       "      <td>среднее</td>\n",
       "      <td>1</td>\n",
       "      <td>вдовец / вдова</td>\n",
       "      <td>2</td>\n",
       "      <td>F</td>\n",
       "      <td>пенсионер</td>\n",
       "      <td>0</td>\n",
       "      <td>176,278.441</td>\n",
       "      <td>ремонт жилью</td>\n",
       "    </tr>\n",
       "    <tr>\n",
       "      <td>10006</td>\n",
       "      <td>0</td>\n",
       "      <td>45.858</td>\n",
       "      <td>69</td>\n",
       "      <td>высшее</td>\n",
       "      <td>0</td>\n",
       "      <td>Не женат / не замужем</td>\n",
       "      <td>4</td>\n",
       "      <td>F</td>\n",
       "      <td>пенсионер</td>\n",
       "      <td>0</td>\n",
       "      <td>57,390.257</td>\n",
       "      <td>получение образования</td>\n",
       "    </tr>\n",
       "    <tr>\n",
       "      <td>7664</td>\n",
       "      <td>1</td>\n",
       "      <td>45.853</td>\n",
       "      <td>61</td>\n",
       "      <td>среднее</td>\n",
       "      <td>1</td>\n",
       "      <td>женат / замужем</td>\n",
       "      <td>0</td>\n",
       "      <td>F</td>\n",
       "      <td>пенсионер</td>\n",
       "      <td>0</td>\n",
       "      <td>126,214.519</td>\n",
       "      <td>операции с жильем</td>\n",
       "    </tr>\n",
       "    <tr>\n",
       "      <td>2156</td>\n",
       "      <td>0</td>\n",
       "      <td>45.853</td>\n",
       "      <td>60</td>\n",
       "      <td>среднее</td>\n",
       "      <td>1</td>\n",
       "      <td>женат / замужем</td>\n",
       "      <td>0</td>\n",
       "      <td>M</td>\n",
       "      <td>пенсионер</td>\n",
       "      <td>0</td>\n",
       "      <td>325,395.725</td>\n",
       "      <td>автомобили</td>\n",
       "    </tr>\n",
       "    <tr>\n",
       "      <td>7794</td>\n",
       "      <td>0</td>\n",
       "      <td>45.852</td>\n",
       "      <td>61</td>\n",
       "      <td>среднее</td>\n",
       "      <td>1</td>\n",
       "      <td>гражданский брак</td>\n",
       "      <td>1</td>\n",
       "      <td>F</td>\n",
       "      <td>пенсионер</td>\n",
       "      <td>0</td>\n",
       "      <td>48,286.441</td>\n",
       "      <td>свадьба</td>\n",
       "    </tr>\n",
       "  </tbody>\n",
       "</table>\n",
       "</div>"
      ],
      "text/plain": [
       "       children  years_employed  dob_years education  education_id  \\\n",
       "6954          0          45.862         56   среднее             1   \n",
       "10006         0          45.858         69    высшее             0   \n",
       "7664          1          45.853         61   среднее             1   \n",
       "2156          0          45.853         60   среднее             1   \n",
       "7794          0          45.852         61   среднее             1   \n",
       "\n",
       "               family_status  family_status_id gender income_type  debt  \\\n",
       "6954          вдовец / вдова                 2      F   пенсионер     0   \n",
       "10006  Не женат / не замужем                 4      F   пенсионер     0   \n",
       "7664         женат / замужем                 0      F   пенсионер     0   \n",
       "2156         женат / замужем                 0      M   пенсионер     0   \n",
       "7794        гражданский брак                 1      F   пенсионер     0   \n",
       "\n",
       "       total_income                purpose  \n",
       "6954    176,278.441           ремонт жилью  \n",
       "10006    57,390.257  получение образования  \n",
       "7664    126,214.519      операции с жильем  \n",
       "2156    325,395.725             автомобили  \n",
       "7794     48,286.441                свадьба  "
      ]
     },
     "execution_count": 9,
     "metadata": {},
     "output_type": "execute_result"
    }
   ],
   "source": [
    "df.sort_values(by='years_employed',ascending=False).head()"
   ]
  },
  {
   "cell_type": "markdown",
   "metadata": {},
   "source": [
    "Проведем аналогичный анализ для других столбцов:"
   ]
  },
  {
   "cell_type": "code",
   "execution_count": 10,
   "metadata": {
    "scrolled": true
   },
   "outputs": [
    {
     "name": "stdout",
     "output_type": "stream",
     "text": [
      "Список уникальных значений столбца children\n",
      "  0     14149\n",
      " 1      4818\n",
      " 2      2055\n",
      " 3       330\n",
      " 20       76\n",
      "-1        47\n",
      " 4        41\n",
      " 5         9\n",
      "Name: children, dtype: int64 \n",
      "\n",
      "Список уникальных значений столбца dob_years\n",
      " 35    617\n",
      "40    609\n",
      "41    607\n",
      "34    603\n",
      "38    598\n",
      "42    597\n",
      "33    581\n",
      "39    573\n",
      "31    560\n",
      "36    555\n",
      "44    547\n",
      "29    545\n",
      "30    540\n",
      "48    538\n",
      "37    537\n",
      "50    514\n",
      "43    513\n",
      "32    510\n",
      "49    508\n",
      "28    503\n",
      "45    497\n",
      "27    493\n",
      "56    487\n",
      "52    484\n",
      "47    480\n",
      "54    479\n",
      "46    475\n",
      "58    461\n",
      "57    460\n",
      "53    459\n",
      "51    448\n",
      "59    444\n",
      "55    443\n",
      "26    408\n",
      "60    377\n",
      "25    357\n",
      "61    355\n",
      "62    352\n",
      "63    269\n",
      "64    265\n",
      "24    264\n",
      "23    254\n",
      "65    194\n",
      "66    183\n",
      "22    183\n",
      "67    167\n",
      "21    111\n",
      "0     101\n",
      "68     99\n",
      "69     85\n",
      "70     65\n",
      "71     58\n",
      "20     51\n",
      "72     33\n",
      "19     14\n",
      "73      8\n",
      "74      6\n",
      "75      1\n",
      "Name: dob_years, dtype: int64 \n",
      "\n",
      "Список уникальных значений столбца education_id\n",
      " 1    15233\n",
      "0     5260\n",
      "2      744\n",
      "3      282\n",
      "4        6\n",
      "Name: education_id, dtype: int64 \n",
      "\n",
      "Список уникальных значений столбца family_status_id\n",
      " 0    12380\n",
      "1     4177\n",
      "4     2813\n",
      "3     1195\n",
      "2      960\n",
      "Name: family_status_id, dtype: int64 \n",
      "\n",
      "Список уникальных значений столбца gender\n",
      " F      14236\n",
      "M       7288\n",
      "XNA        1\n",
      "Name: gender, dtype: int64 \n",
      "\n",
      "Список уникальных значений столбца debt\n",
      " 0    19784\n",
      "1     1741\n",
      "Name: debt, dtype: int64 \n",
      "\n"
     ]
    }
   ],
   "source": [
    "for column in ['children','dob_years','education_id','family_status_id','gender','debt']:\n",
    "    print(f'Список уникальных значений столбца {column}\\n {df[column].value_counts()} \\n')"
   ]
  },
  {
   "cell_type": "markdown",
   "metadata": {},
   "source": [
    "Итого мы получили следующую информацию:\n",
    "* в столбце `children` есть часть данных с значением `-1`, которые мы переведем в положительное значение, так как скорее всего при внесении данных был поставлен знак `-`, прочитанный как `минус`. \n",
    "* в столбце `children` есть часть данных с значением `20`, которые мы переведем в значение `2`, как наиболее подходящее. Иметь 20 детей в семье, возможно, при рассмотрении семьи с приемными детьми, однако их количество не может быть насколько высоким по отношению к общему числу.\n",
    "* в столбце `dob_years` есть незаполненные поля, в который сейчас `0`. Эти данные мы заменим средним значением возраста.\n",
    "* в столбце `gender` имеется значение `xna`, заменим на `x` соответсвующее небинарной личности"
   ]
  },
  {
   "cell_type": "code",
   "execution_count": 11,
   "metadata": {},
   "outputs": [],
   "source": [
    "df.loc[df['children'] == -1, ['children']] = 1\n",
    "df.loc[df['children'] == 20, ['children']] = 2\n",
    "df.loc[df['dob_years'] == 0, ['dob_years']] = df['dob_years'].mean()\n",
    "df.loc[df['gender'] == 'XNA', ['gender']] = 'x'"
   ]
  },
  {
   "cell_type": "markdown",
   "metadata": {},
   "source": [
    "#### **Выводы**\n",
    "\n",
    "Во время предобработки артефактов в данных было сделаны следующие допущения:\n",
    "* `выгрузка данных по трудовому стажу настроена неверно`, она генерирует значения со знаком минус.\n",
    "* `при внесении части данных была допущена ошибка и вносились не дни, а часы`.\n",
    "* `часть информации по количеству детей в семье была ошибочкой`. Скорее всего данное поле заполняется вручную и имеет место человеческий фактор.\n",
    "* `не все люди заполнили свой возраст`, посчитав эту информацию ненужной либо конфиденциальной. Для анализа был выбран усредненный возраст клиентов.\n",
    "* в графе определения пола присутствовало значение, соответствующее либо небинарной личности, либо человек не захотел или забыл заполнить данное поле.\n",
    "\n",
    "***Рекомендовано связаться с поставщиком исходных данных или с IT специалистами банка, чтобы уточнить способы заполнения данных полей при внесении информации о клиенте и настройки выгрузки.***\n",
    "\n",
    "***Для исключения человеческого фактора рекомендуется пользоваться предзаполненными списками, чтобы клиент либо сотрудник выбирал значения из предлагаемых, а не вписывал вручную.***\n",
    "\n",
    "Предварительно можно утверждать, что, данных достаточно для ответа на целевой вопрос исследования и решения поставленных задач. Однако первично уже установлено, что встречаются пропуски в данных.\n",
    "\n",
    "Прежде, чем перейти к решению поставленных задач, необходимо устранить оставшиеся проблемы в данных."
   ]
  },
  {
   "cell_type": "markdown",
   "metadata": {},
   "source": [
    "### 2. Пропуски в данных"
   ]
  },
  {
   "cell_type": "markdown",
   "metadata": {},
   "source": [
    "Как видно из [общей информации](#df.info) о датафрейме `df`, количество значений в столбцах `years_employed` и `total_income` отличается от общего количества строк (`19351` из `21525`), следовательно там есть **пропущенные значения**.\n",
    "\n",
    "Чтобы в этом убедиться вызовем метод `isna()` для двух столбцов: "
   ]
  },
  {
   "cell_type": "code",
   "execution_count": 12,
   "metadata": {},
   "outputs": [
    {
     "name": "stdout",
     "output_type": "stream",
     "text": [
      "Количество пропусков в столбце years_employed: 2174\n",
      "Количество пропусков в столбце total_income: 2174\n",
      "Таким образом доля незаполненных данных составляет: 10.1%\n"
     ]
    }
   ],
   "source": [
    "print('Количество пропусков в столбце years_employed:', len(df[df['years_employed'].isna()]))\n",
    "print('Количество пропусков в столбце total_income:', len(df[df['total_income'].isna()]))\n",
    "k = len(df[df['total_income'].isna()]) / df.shape[0]\n",
    "print(f'Таким образом доля незаполненных данных составляет: {k:.1%}')"
   ]
  },
  {
   "cell_type": "markdown",
   "metadata": {},
   "source": [
    "`10%` от общего количества собранных данных - это большой показатель, способный сказаться на результатах исследования при определении закономерности между положительным закрытием кредита и статусу потенциального заемщика.\n",
    "\n",
    "Однако главной целью нашего исследования является зависимость погашения кредита в срок от семейного положения и количества детей в семье. Поэтому существующие пропуски мы заменим на медианное значение, так как это количественные переменные."
   ]
  },
  {
   "cell_type": "markdown",
   "metadata": {},
   "source": [
    "Для начала определим крайние значения в столбцах и взглянем на общую картину. \n",
    "Выведем на экран характеристики датафрейма `df` с помощью метода `describe`, чтобы посмотреть на разброс значений:"
   ]
  },
  {
   "cell_type": "code",
   "execution_count": 13,
   "metadata": {},
   "outputs": [
    {
     "data": {
      "text/html": [
       "<div>\n",
       "<style scoped>\n",
       "    .dataframe tbody tr th:only-of-type {\n",
       "        vertical-align: middle;\n",
       "    }\n",
       "\n",
       "    .dataframe tbody tr th {\n",
       "        vertical-align: top;\n",
       "    }\n",
       "\n",
       "    .dataframe thead th {\n",
       "        text-align: right;\n",
       "    }\n",
       "</style>\n",
       "<table border=\"1\" class=\"dataframe\">\n",
       "  <thead>\n",
       "    <tr style=\"text-align: right;\">\n",
       "      <th></th>\n",
       "      <th>children</th>\n",
       "      <th>years_employed</th>\n",
       "      <th>dob_years</th>\n",
       "      <th>education_id</th>\n",
       "      <th>family_status_id</th>\n",
       "      <th>debt</th>\n",
       "      <th>total_income</th>\n",
       "    </tr>\n",
       "  </thead>\n",
       "  <tbody>\n",
       "    <tr>\n",
       "      <td>count</td>\n",
       "      <td>21,525.000</td>\n",
       "      <td>19,351.000</td>\n",
       "      <td>21,525.000</td>\n",
       "      <td>21,525.000</td>\n",
       "      <td>21,525.000</td>\n",
       "      <td>21,525.000</td>\n",
       "      <td>19,351.000</td>\n",
       "    </tr>\n",
       "    <tr>\n",
       "      <td>mean</td>\n",
       "      <td>0.480</td>\n",
       "      <td>12.585</td>\n",
       "      <td>43.497</td>\n",
       "      <td>0.817</td>\n",
       "      <td>0.973</td>\n",
       "      <td>0.081</td>\n",
       "      <td>167,422.302</td>\n",
       "    </tr>\n",
       "    <tr>\n",
       "      <td>std</td>\n",
       "      <td>0.756</td>\n",
       "      <td>14.663</td>\n",
       "      <td>12.218</td>\n",
       "      <td>0.548</td>\n",
       "      <td>1.420</td>\n",
       "      <td>0.273</td>\n",
       "      <td>102,971.566</td>\n",
       "    </tr>\n",
       "    <tr>\n",
       "      <td>min</td>\n",
       "      <td>0.000</td>\n",
       "      <td>0.012</td>\n",
       "      <td>19.000</td>\n",
       "      <td>0.000</td>\n",
       "      <td>0.000</td>\n",
       "      <td>0.000</td>\n",
       "      <td>20,667.264</td>\n",
       "    </tr>\n",
       "    <tr>\n",
       "      <td>25%</td>\n",
       "      <td>0.000</td>\n",
       "      <td>2.466</td>\n",
       "      <td>34.000</td>\n",
       "      <td>1.000</td>\n",
       "      <td>0.000</td>\n",
       "      <td>0.000</td>\n",
       "      <td>103,053.153</td>\n",
       "    </tr>\n",
       "    <tr>\n",
       "      <td>50%</td>\n",
       "      <td>0.000</td>\n",
       "      <td>5.882</td>\n",
       "      <td>43.000</td>\n",
       "      <td>1.000</td>\n",
       "      <td>0.000</td>\n",
       "      <td>0.000</td>\n",
       "      <td>145,017.938</td>\n",
       "    </tr>\n",
       "    <tr>\n",
       "      <td>75%</td>\n",
       "      <td>1.000</td>\n",
       "      <td>14.895</td>\n",
       "      <td>53.000</td>\n",
       "      <td>1.000</td>\n",
       "      <td>1.000</td>\n",
       "      <td>0.000</td>\n",
       "      <td>203,435.068</td>\n",
       "    </tr>\n",
       "    <tr>\n",
       "      <td>max</td>\n",
       "      <td>5.000</td>\n",
       "      <td>45.862</td>\n",
       "      <td>75.000</td>\n",
       "      <td>4.000</td>\n",
       "      <td>4.000</td>\n",
       "      <td>1.000</td>\n",
       "      <td>2,265,604.029</td>\n",
       "    </tr>\n",
       "  </tbody>\n",
       "</table>\n",
       "</div>"
      ],
      "text/plain": [
       "        children  years_employed  dob_years  education_id  family_status_id  \\\n",
       "count 21,525.000      19,351.000 21,525.000    21,525.000        21,525.000   \n",
       "mean       0.480          12.585     43.497         0.817             0.973   \n",
       "std        0.756          14.663     12.218         0.548             1.420   \n",
       "min        0.000           0.012     19.000         0.000             0.000   \n",
       "25%        0.000           2.466     34.000         1.000             0.000   \n",
       "50%        0.000           5.882     43.000         1.000             0.000   \n",
       "75%        1.000          14.895     53.000         1.000             1.000   \n",
       "max        5.000          45.862     75.000         4.000             4.000   \n",
       "\n",
       "            debt  total_income  \n",
       "count 21,525.000    19,351.000  \n",
       "mean       0.081   167,422.302  \n",
       "std        0.273   102,971.566  \n",
       "min        0.000    20,667.264  \n",
       "25%        0.000   103,053.153  \n",
       "50%        0.000   145,017.938  \n",
       "75%        0.000   203,435.068  \n",
       "max        1.000 2,265,604.029  "
      ]
     },
     "execution_count": 13,
     "metadata": {},
     "output_type": "execute_result"
    }
   ],
   "source": [
    "df.describe()"
   ]
  },
  {
   "cell_type": "markdown",
   "metadata": {},
   "source": [
    "Как видно из таблицы крайние значения в столбцах сильно отличаются друг от друга, поэтому праильно будет рассматривать медиану в качестве замены для пропусков."
   ]
  },
  {
   "cell_type": "markdown",
   "metadata": {},
   "source": [
    "Теперь выполним замену пропусков в столбцах `years_employed` и `total_income` на соответствующие медианные значения с помощью `fillna()`"
   ]
  },
  {
   "cell_type": "code",
   "execution_count": 14,
   "metadata": {},
   "outputs": [],
   "source": [
    "def na_to_median(column1, column2):\n",
    "    # column1 - столбец группировки\n",
    "    # column2 - целевой столбец в NA\n",
    "    \n",
    "    column1 = df[column1]\n",
    "    \n",
    "    for value in column1.unique():\n",
    "        median = df.loc[column1 == value, column2].median()\n",
    "        print(f'Для группы {value} медиана равна {median:.0f}')\n",
    "        df.loc[(df[column2].isna()) & (column1 == value), column2].median()\n",
    "    \n",
    "    df[column2] = df[column2].fillna(value=df[column2].median()) # для негруппируемых значений будет выводиться общая медиана"
   ]
  },
  {
   "cell_type": "code",
   "execution_count": 15,
   "metadata": {},
   "outputs": [
    {
     "name": "stdout",
     "output_type": "stream",
     "text": [
      "Для группы сотрудник медиана равна 142594\n",
      "Для группы пенсионер медиана равна 118514\n",
      "Для группы компаньон медиана равна 172358\n",
      "Для группы госслужащий медиана равна 150448\n",
      "Для группы безработный медиана равна 131340\n",
      "Для группы предприниматель медиана равна 499163\n",
      "Для группы студент медиана равна 98202\n",
      "Для группы в декрете медиана равна 53829\n"
     ]
    },
    {
     "name": "stderr",
     "output_type": "stream",
     "text": [
      "/opt/conda/lib/python3.7/site-packages/numpy/lib/nanfunctions.py:1111: RuntimeWarning: Mean of empty slice\n",
      "  return np.nanmean(a, axis, out=out, keepdims=keepdims)\n"
     ]
    }
   ],
   "source": [
    "na_to_median('income_type', 'total_income')"
   ]
  },
  {
   "cell_type": "code",
   "execution_count": 16,
   "metadata": {},
   "outputs": [],
   "source": [
    "df['years_employed'] = df['years_employed'].fillna(\n",
    "    value=df['years_employed'].median())"
   ]
  },
  {
   "cell_type": "markdown",
   "metadata": {},
   "source": [
    "Проверим еще раз столбцы на наличие пропусков:"
   ]
  },
  {
   "cell_type": "code",
   "execution_count": 17,
   "metadata": {},
   "outputs": [
    {
     "name": "stdout",
     "output_type": "stream",
     "text": [
      "Количество пропусков в столбце years_employed: 0\n",
      "Количество пропусков в столбце total_income: 0\n",
      "Таким образом доля незаполненных данных составляет: 0.0%\n"
     ]
    }
   ],
   "source": [
    "print('Количество пропусков в столбце years_employed:', df['years_employed'].isna().sum())\n",
    "print('Количество пропусков в столбце total_income:', df['total_income'].isna().sum())\n",
    "k = df['total_income'].isna().sum() / df.shape[0]\n",
    "print(f'Таким образом доля незаполненных данных составляет: {k:.1%}')"
   ]
  },
  {
   "cell_type": "markdown",
   "metadata": {},
   "source": [
    "Теперь для удобства восприятия изменим тип данных с `вещественных чисел`, на `целые числа`"
   ]
  },
  {
   "cell_type": "code",
   "execution_count": 18,
   "metadata": {},
   "outputs": [],
   "source": [
    "df['years_employed'] = df['years_employed'].astype('int')\n",
    "df['total_income'] = df['total_income'].astype('int')\n",
    "df['dob_years'] = df['dob_years'].astype('int')"
   ]
  },
  {
   "cell_type": "markdown",
   "metadata": {},
   "source": [
    "Выведем полученную таблицу:"
   ]
  },
  {
   "cell_type": "code",
   "execution_count": 19,
   "metadata": {
    "scrolled": true
   },
   "outputs": [
    {
     "data": {
      "text/html": [
       "<div>\n",
       "<style scoped>\n",
       "    .dataframe tbody tr th:only-of-type {\n",
       "        vertical-align: middle;\n",
       "    }\n",
       "\n",
       "    .dataframe tbody tr th {\n",
       "        vertical-align: top;\n",
       "    }\n",
       "\n",
       "    .dataframe thead th {\n",
       "        text-align: right;\n",
       "    }\n",
       "</style>\n",
       "<table border=\"1\" class=\"dataframe\">\n",
       "  <thead>\n",
       "    <tr style=\"text-align: right;\">\n",
       "      <th></th>\n",
       "      <th>children</th>\n",
       "      <th>years_employed</th>\n",
       "      <th>dob_years</th>\n",
       "      <th>education</th>\n",
       "      <th>education_id</th>\n",
       "      <th>family_status</th>\n",
       "      <th>family_status_id</th>\n",
       "      <th>gender</th>\n",
       "      <th>income_type</th>\n",
       "      <th>debt</th>\n",
       "      <th>total_income</th>\n",
       "      <th>purpose</th>\n",
       "    </tr>\n",
       "  </thead>\n",
       "  <tbody>\n",
       "    <tr>\n",
       "      <td>0</td>\n",
       "      <td>1</td>\n",
       "      <td>23</td>\n",
       "      <td>42</td>\n",
       "      <td>высшее</td>\n",
       "      <td>0</td>\n",
       "      <td>женат / замужем</td>\n",
       "      <td>0</td>\n",
       "      <td>F</td>\n",
       "      <td>сотрудник</td>\n",
       "      <td>0</td>\n",
       "      <td>253875</td>\n",
       "      <td>покупка жилья</td>\n",
       "    </tr>\n",
       "    <tr>\n",
       "      <td>1</td>\n",
       "      <td>1</td>\n",
       "      <td>11</td>\n",
       "      <td>36</td>\n",
       "      <td>среднее</td>\n",
       "      <td>1</td>\n",
       "      <td>женат / замужем</td>\n",
       "      <td>0</td>\n",
       "      <td>F</td>\n",
       "      <td>сотрудник</td>\n",
       "      <td>0</td>\n",
       "      <td>112080</td>\n",
       "      <td>приобретение автомобиля</td>\n",
       "    </tr>\n",
       "    <tr>\n",
       "      <td>2</td>\n",
       "      <td>0</td>\n",
       "      <td>15</td>\n",
       "      <td>33</td>\n",
       "      <td>Среднее</td>\n",
       "      <td>1</td>\n",
       "      <td>женат / замужем</td>\n",
       "      <td>0</td>\n",
       "      <td>M</td>\n",
       "      <td>сотрудник</td>\n",
       "      <td>0</td>\n",
       "      <td>145885</td>\n",
       "      <td>покупка жилья</td>\n",
       "    </tr>\n",
       "    <tr>\n",
       "      <td>3</td>\n",
       "      <td>3</td>\n",
       "      <td>11</td>\n",
       "      <td>32</td>\n",
       "      <td>среднее</td>\n",
       "      <td>1</td>\n",
       "      <td>женат / замужем</td>\n",
       "      <td>0</td>\n",
       "      <td>M</td>\n",
       "      <td>сотрудник</td>\n",
       "      <td>0</td>\n",
       "      <td>267628</td>\n",
       "      <td>дополнительное образование</td>\n",
       "    </tr>\n",
       "    <tr>\n",
       "      <td>4</td>\n",
       "      <td>0</td>\n",
       "      <td>38</td>\n",
       "      <td>53</td>\n",
       "      <td>среднее</td>\n",
       "      <td>1</td>\n",
       "      <td>гражданский брак</td>\n",
       "      <td>1</td>\n",
       "      <td>F</td>\n",
       "      <td>пенсионер</td>\n",
       "      <td>0</td>\n",
       "      <td>158616</td>\n",
       "      <td>сыграть свадьбу</td>\n",
       "    </tr>\n",
       "  </tbody>\n",
       "</table>\n",
       "</div>"
      ],
      "text/plain": [
       "   children  years_employed  dob_years education  education_id  \\\n",
       "0         1              23         42    высшее             0   \n",
       "1         1              11         36   среднее             1   \n",
       "2         0              15         33   Среднее             1   \n",
       "3         3              11         32   среднее             1   \n",
       "4         0              38         53   среднее             1   \n",
       "\n",
       "      family_status  family_status_id gender income_type  debt  total_income  \\\n",
       "0   женат / замужем                 0      F   сотрудник     0        253875   \n",
       "1   женат / замужем                 0      F   сотрудник     0        112080   \n",
       "2   женат / замужем                 0      M   сотрудник     0        145885   \n",
       "3   женат / замужем                 0      M   сотрудник     0        267628   \n",
       "4  гражданский брак                 1      F   пенсионер     0        158616   \n",
       "\n",
       "                      purpose  \n",
       "0               покупка жилья  \n",
       "1     приобретение автомобиля  \n",
       "2               покупка жилья  \n",
       "3  дополнительное образование  \n",
       "4             сыграть свадьбу  "
      ]
     },
     "metadata": {},
     "output_type": "display_data"
    }
   ],
   "source": [
    "display(df.head())"
   ]
  },
  {
   "cell_type": "markdown",
   "metadata": {},
   "source": [
    "#### **Выводы**\n",
    "\n",
    "По итогу предобработки пропусков в данных сделан следующий вывод:\n",
    "* `часть клиентов банка пожелала скрыть информацию о своем возрасте и доходах`при заполнении данных.\n",
    "\n",
    "***Рекомендовано подгружать информацию о возрасте на основании паспортных данных как наиболее достоверную***\n",
    "\n",
    "***Информацию о доходах клиентов необходимо дополнять на основании декларации о доходах для исключения ложных сведений, так как эти данные являются одними из ключевых при выдаче кредита***"
   ]
  },
  {
   "cell_type": "markdown",
   "metadata": {},
   "source": [
    "### 3. Cтиль в значениях данных / неявные дубликаты"
   ]
  },
  {
   "cell_type": "markdown",
   "metadata": {},
   "source": [
    "Вызовем на экран уникальные значения следующих столбцов, чтобы исключить неявные дубликаты в типе данных `object`:\n",
    "\n",
    "* `education` — уровень образования клиента\n",
    "* `family_status` — семейное положение\n",
    "* `gender` — пол клиента\n",
    "* `income_type` — тип занятости\n",
    "* `purpose` — цель получения кредита"
   ]
  },
  {
   "cell_type": "code",
   "execution_count": 20,
   "metadata": {
    "scrolled": true
   },
   "outputs": [
    {
     "name": "stdout",
     "output_type": "stream",
     "text": [
      "\u001b[4m\u001b[1m\u001b[31mСписок уникальных значений значений столбца education:\n",
      "\u001b[0m ['ВЫСШЕЕ', 'Высшее', 'НАЧАЛЬНОЕ', 'НЕОКОНЧЕННОЕ ВЫСШЕЕ', 'Начальное', 'Неоконченное высшее', 'СРЕДНЕЕ', 'Среднее', 'УЧЕНАЯ СТЕПЕНЬ', 'Ученая степень', 'высшее', 'начальное', 'неоконченное высшее', 'среднее', 'ученая степень']\n",
      "\n",
      "\u001b[4m\u001b[1m\u001b[31mСписок уникальных значений значений столбца family_status:\n",
      "\u001b[0m ['Не женат / не замужем', 'в разводе', 'вдовец / вдова', 'гражданский брак', 'женат / замужем']\n",
      "\n",
      "\u001b[4m\u001b[1m\u001b[31mСписок уникальных значений значений столбца gender:\n",
      "\u001b[0m ['F', 'M', 'x']\n",
      "\n",
      "\u001b[4m\u001b[1m\u001b[31mСписок уникальных значений значений столбца income_type:\n",
      "\u001b[0m ['безработный', 'в декрете', 'госслужащий', 'компаньон', 'пенсионер', 'предприниматель', 'сотрудник', 'студент']\n",
      "\n",
      "\u001b[4m\u001b[1m\u001b[31mСписок уникальных значений значений столбца purpose:\n",
      "\u001b[0m ['автомобили', 'автомобиль', 'высшее образование', 'дополнительное образование', 'жилье', 'заняться высшим образованием', 'заняться образованием', 'на покупку автомобиля', 'на покупку подержанного автомобиля', 'на покупку своего автомобиля', 'на проведение свадьбы', 'недвижимость', 'образование', 'операции с жильем', 'операции с коммерческой недвижимостью', 'операции с недвижимостью', 'операции со своей недвижимостью', 'покупка жилой недвижимости', 'покупка жилья', 'покупка жилья для сдачи', 'покупка жилья для семьи', 'покупка коммерческой недвижимости', 'покупка недвижимости', 'покупка своего жилья', 'получение высшего образования', 'получение дополнительного образования', 'получение образования', 'приобретение автомобиля', 'профильное образование', 'ремонт жилью', 'свадьба', 'свой автомобиль', 'сделка с автомобилем', 'сделка с подержанным автомобилем', 'строительство жилой недвижимости', 'строительство недвижимости', 'строительство собственной недвижимости', 'сыграть свадьбу']\n",
      "\n"
     ]
    }
   ],
   "source": [
    "str_columns = ['education', 'family_status', 'gender', 'income_type', 'purpose']\n",
    "for column in str_columns:\n",
    "    try:\n",
    "        print(\"\\033[4m\\033[1m\\033[31m{}\\033[0m\".format(f\"Список уникальных значений значений столбца {column}:\\n\"), \n",
    "              sorted(df[column].unique()))\n",
    "    except:\n",
    "        print('Проблемный столбец', i)\n",
    "    print()\n"
   ]
  },
  {
   "cell_type": "markdown",
   "metadata": {},
   "source": [
    "Как мы видим, в данных встречаются неявные дубликаты, связанные с использованием ***различного регистра***, например:\n",
    "\n",
    "* `ВЫСШЕЕ` - `Высшее` - `высшее`"
   ]
  },
  {
   "cell_type": "markdown",
   "metadata": {},
   "source": [
    "Исправим эту проблему приведением к единому стилю методом `str.lower()` и еще раз выведем уникальные значения столбцов:"
   ]
  },
  {
   "cell_type": "code",
   "execution_count": 21,
   "metadata": {},
   "outputs": [
    {
     "name": "stdout",
     "output_type": "stream",
     "text": [
      "\u001b[4m\u001b[1m\u001b[31mСписок уникальных значений значений столбца education:\n",
      "\u001b[0m ['высшее', 'начальное', 'неоконченное высшее', 'среднее', 'ученая степень']\n",
      "\n",
      "\u001b[4m\u001b[1m\u001b[31mСписок уникальных значений значений столбца family_status:\n",
      "\u001b[0m ['в разводе', 'вдовец / вдова', 'гражданский брак', 'женат / замужем', 'не женат / не замужем']\n",
      "\n",
      "\u001b[4m\u001b[1m\u001b[31mСписок уникальных значений значений столбца gender:\n",
      "\u001b[0m ['f', 'm', 'x']\n",
      "\n",
      "\u001b[4m\u001b[1m\u001b[31mСписок уникальных значений значений столбца income_type:\n",
      "\u001b[0m ['безработный', 'в декрете', 'госслужащий', 'компаньон', 'пенсионер', 'предприниматель', 'сотрудник', 'студент']\n",
      "\n",
      "\u001b[4m\u001b[1m\u001b[31mСписок уникальных значений значений столбца purpose:\n",
      "\u001b[0m ['автомобили', 'автомобиль', 'высшее образование', 'дополнительное образование', 'жилье', 'заняться высшим образованием', 'заняться образованием', 'на покупку автомобиля', 'на покупку подержанного автомобиля', 'на покупку своего автомобиля', 'на проведение свадьбы', 'недвижимость', 'образование', 'операции с жильем', 'операции с коммерческой недвижимостью', 'операции с недвижимостью', 'операции со своей недвижимостью', 'покупка жилой недвижимости', 'покупка жилья', 'покупка жилья для сдачи', 'покупка жилья для семьи', 'покупка коммерческой недвижимости', 'покупка недвижимости', 'покупка своего жилья', 'получение высшего образования', 'получение дополнительного образования', 'получение образования', 'приобретение автомобиля', 'профильное образование', 'ремонт жилью', 'свадьба', 'свой автомобиль', 'сделка с автомобилем', 'сделка с подержанным автомобилем', 'строительство жилой недвижимости', 'строительство недвижимости', 'строительство собственной недвижимости', 'сыграть свадьбу']\n",
      "\n"
     ]
    }
   ],
   "source": [
    "str_columns = ['education', 'family_status', 'gender', 'income_type', 'purpose']\n",
    "for column in str_columns:\n",
    "    try:\n",
    "        df[column] = df[column].str.lower()\n",
    "        print(\"\\033[4m\\033[1m\\033[31m{}\\033[0m\".format(f\"Список уникальных значений значений столбца {column}:\\n\"), \n",
    "              sorted(df[column].str.lower().unique()))\n",
    "    except:\n",
    "        print('Проблемный столбец', i)\n",
    "    print()"
   ]
  },
  {
   "cell_type": "code",
   "execution_count": 22,
   "metadata": {},
   "outputs": [
    {
     "data": {
      "text/html": [
       "<div>\n",
       "<style scoped>\n",
       "    .dataframe tbody tr th:only-of-type {\n",
       "        vertical-align: middle;\n",
       "    }\n",
       "\n",
       "    .dataframe tbody tr th {\n",
       "        vertical-align: top;\n",
       "    }\n",
       "\n",
       "    .dataframe thead th {\n",
       "        text-align: right;\n",
       "    }\n",
       "</style>\n",
       "<table border=\"1\" class=\"dataframe\">\n",
       "  <thead>\n",
       "    <tr style=\"text-align: right;\">\n",
       "      <th></th>\n",
       "      <th>children</th>\n",
       "      <th>years_employed</th>\n",
       "      <th>dob_years</th>\n",
       "      <th>education</th>\n",
       "      <th>education_id</th>\n",
       "      <th>family_status</th>\n",
       "      <th>family_status_id</th>\n",
       "      <th>gender</th>\n",
       "      <th>income_type</th>\n",
       "      <th>debt</th>\n",
       "      <th>total_income</th>\n",
       "      <th>purpose</th>\n",
       "    </tr>\n",
       "  </thead>\n",
       "  <tbody>\n",
       "    <tr>\n",
       "      <td>10</td>\n",
       "      <td>2</td>\n",
       "      <td>11</td>\n",
       "      <td>36</td>\n",
       "      <td>высшее</td>\n",
       "      <td>0</td>\n",
       "      <td>женат / замужем</td>\n",
       "      <td>0</td>\n",
       "      <td>m</td>\n",
       "      <td>компаньон</td>\n",
       "      <td>0</td>\n",
       "      <td>113943</td>\n",
       "      <td>покупка недвижимости</td>\n",
       "    </tr>\n",
       "    <tr>\n",
       "      <td>16</td>\n",
       "      <td>0</td>\n",
       "      <td>4</td>\n",
       "      <td>35</td>\n",
       "      <td>среднее</td>\n",
       "      <td>1</td>\n",
       "      <td>женат / замужем</td>\n",
       "      <td>0</td>\n",
       "      <td>f</td>\n",
       "      <td>сотрудник</td>\n",
       "      <td>0</td>\n",
       "      <td>289202</td>\n",
       "      <td>недвижимость</td>\n",
       "    </tr>\n",
       "    <tr>\n",
       "      <td>17</td>\n",
       "      <td>0</td>\n",
       "      <td>6</td>\n",
       "      <td>33</td>\n",
       "      <td>высшее</td>\n",
       "      <td>0</td>\n",
       "      <td>гражданский брак</td>\n",
       "      <td>1</td>\n",
       "      <td>m</td>\n",
       "      <td>сотрудник</td>\n",
       "      <td>0</td>\n",
       "      <td>90410</td>\n",
       "      <td>строительство недвижимости</td>\n",
       "    </tr>\n",
       "    <tr>\n",
       "      <td>18</td>\n",
       "      <td>0</td>\n",
       "      <td>45</td>\n",
       "      <td>53</td>\n",
       "      <td>среднее</td>\n",
       "      <td>1</td>\n",
       "      <td>вдовец / вдова</td>\n",
       "      <td>2</td>\n",
       "      <td>f</td>\n",
       "      <td>пенсионер</td>\n",
       "      <td>0</td>\n",
       "      <td>56823</td>\n",
       "      <td>на покупку подержанного автомобиля</td>\n",
       "    </tr>\n",
       "    <tr>\n",
       "      <td>20</td>\n",
       "      <td>1</td>\n",
       "      <td>3</td>\n",
       "      <td>36</td>\n",
       "      <td>среднее</td>\n",
       "      <td>1</td>\n",
       "      <td>женат / замужем</td>\n",
       "      <td>0</td>\n",
       "      <td>m</td>\n",
       "      <td>сотрудник</td>\n",
       "      <td>0</td>\n",
       "      <td>209552</td>\n",
       "      <td>недвижимость</td>\n",
       "    </tr>\n",
       "    <tr>\n",
       "      <td>21</td>\n",
       "      <td>1</td>\n",
       "      <td>0</td>\n",
       "      <td>33</td>\n",
       "      <td>среднее</td>\n",
       "      <td>1</td>\n",
       "      <td>гражданский брак</td>\n",
       "      <td>1</td>\n",
       "      <td>f</td>\n",
       "      <td>сотрудник</td>\n",
       "      <td>0</td>\n",
       "      <td>131812</td>\n",
       "      <td>приобретение автомобиля</td>\n",
       "    </tr>\n",
       "    <tr>\n",
       "      <td>26</td>\n",
       "      <td>0</td>\n",
       "      <td>5</td>\n",
       "      <td>41</td>\n",
       "      <td>среднее</td>\n",
       "      <td>1</td>\n",
       "      <td>женат / замужем</td>\n",
       "      <td>0</td>\n",
       "      <td>m</td>\n",
       "      <td>госслужащий</td>\n",
       "      <td>0</td>\n",
       "      <td>145017</td>\n",
       "      <td>образование</td>\n",
       "    </tr>\n",
       "    <tr>\n",
       "      <td>28</td>\n",
       "      <td>1</td>\n",
       "      <td>1</td>\n",
       "      <td>26</td>\n",
       "      <td>высшее</td>\n",
       "      <td>0</td>\n",
       "      <td>женат / замужем</td>\n",
       "      <td>0</td>\n",
       "      <td>f</td>\n",
       "      <td>сотрудник</td>\n",
       "      <td>0</td>\n",
       "      <td>187863</td>\n",
       "      <td>строительство собственной недвижимости</td>\n",
       "    </tr>\n",
       "    <tr>\n",
       "      <td>33</td>\n",
       "      <td>0</td>\n",
       "      <td>4</td>\n",
       "      <td>48</td>\n",
       "      <td>среднее</td>\n",
       "      <td>1</td>\n",
       "      <td>женат / замужем</td>\n",
       "      <td>0</td>\n",
       "      <td>f</td>\n",
       "      <td>компаньон</td>\n",
       "      <td>0</td>\n",
       "      <td>157245</td>\n",
       "      <td>покупка жилья</td>\n",
       "    </tr>\n",
       "    <tr>\n",
       "      <td>34</td>\n",
       "      <td>0</td>\n",
       "      <td>12</td>\n",
       "      <td>35</td>\n",
       "      <td>среднее</td>\n",
       "      <td>1</td>\n",
       "      <td>женат / замужем</td>\n",
       "      <td>0</td>\n",
       "      <td>f</td>\n",
       "      <td>сотрудник</td>\n",
       "      <td>0</td>\n",
       "      <td>104660</td>\n",
       "      <td>операции со своей недвижимостью</td>\n",
       "    </tr>\n",
       "    <tr>\n",
       "      <td>36</td>\n",
       "      <td>0</td>\n",
       "      <td>0</td>\n",
       "      <td>33</td>\n",
       "      <td>среднее</td>\n",
       "      <td>1</td>\n",
       "      <td>не женат / не замужем</td>\n",
       "      <td>4</td>\n",
       "      <td>m</td>\n",
       "      <td>сотрудник</td>\n",
       "      <td>0</td>\n",
       "      <td>138830</td>\n",
       "      <td>автомобили</td>\n",
       "    </tr>\n",
       "    <tr>\n",
       "      <td>37</td>\n",
       "      <td>0</td>\n",
       "      <td>17</td>\n",
       "      <td>43</td>\n",
       "      <td>высшее</td>\n",
       "      <td>0</td>\n",
       "      <td>гражданский брак</td>\n",
       "      <td>1</td>\n",
       "      <td>f</td>\n",
       "      <td>компаньон</td>\n",
       "      <td>0</td>\n",
       "      <td>154128</td>\n",
       "      <td>приобретение автомобиля</td>\n",
       "    </tr>\n",
       "    <tr>\n",
       "      <td>41</td>\n",
       "      <td>0</td>\n",
       "      <td>5</td>\n",
       "      <td>50</td>\n",
       "      <td>среднее</td>\n",
       "      <td>1</td>\n",
       "      <td>женат / замужем</td>\n",
       "      <td>0</td>\n",
       "      <td>f</td>\n",
       "      <td>госслужащий</td>\n",
       "      <td>0</td>\n",
       "      <td>145017</td>\n",
       "      <td>сделка с подержанным автомобилем</td>\n",
       "    </tr>\n",
       "    <tr>\n",
       "      <td>43</td>\n",
       "      <td>0</td>\n",
       "      <td>11</td>\n",
       "      <td>43</td>\n",
       "      <td>неоконченное высшее</td>\n",
       "      <td>2</td>\n",
       "      <td>в разводе</td>\n",
       "      <td>3</td>\n",
       "      <td>f</td>\n",
       "      <td>компаньон</td>\n",
       "      <td>0</td>\n",
       "      <td>272957</td>\n",
       "      <td>приобретение автомобиля</td>\n",
       "    </tr>\n",
       "    <tr>\n",
       "      <td>44</td>\n",
       "      <td>1</td>\n",
       "      <td>3</td>\n",
       "      <td>26</td>\n",
       "      <td>среднее</td>\n",
       "      <td>1</td>\n",
       "      <td>женат / замужем</td>\n",
       "      <td>0</td>\n",
       "      <td>f</td>\n",
       "      <td>сотрудник</td>\n",
       "      <td>0</td>\n",
       "      <td>100780</td>\n",
       "      <td>на покупку своего автомобиля</td>\n",
       "    </tr>\n",
       "  </tbody>\n",
       "</table>\n",
       "</div>"
      ],
      "text/plain": [
       "    children  years_employed  dob_years            education  education_id  \\\n",
       "10         2              11         36               высшее             0   \n",
       "16         0               4         35              среднее             1   \n",
       "17         0               6         33               высшее             0   \n",
       "18         0              45         53              среднее             1   \n",
       "20         1               3         36              среднее             1   \n",
       "21         1               0         33              среднее             1   \n",
       "26         0               5         41              среднее             1   \n",
       "28         1               1         26               высшее             0   \n",
       "33         0               4         48              среднее             1   \n",
       "34         0              12         35              среднее             1   \n",
       "36         0               0         33              среднее             1   \n",
       "37         0              17         43               высшее             0   \n",
       "41         0               5         50              среднее             1   \n",
       "43         0              11         43  неоконченное высшее             2   \n",
       "44         1               3         26              среднее             1   \n",
       "\n",
       "            family_status  family_status_id gender  income_type  debt  \\\n",
       "10        женат / замужем                 0      m    компаньон     0   \n",
       "16        женат / замужем                 0      f    сотрудник     0   \n",
       "17       гражданский брак                 1      m    сотрудник     0   \n",
       "18         вдовец / вдова                 2      f    пенсионер     0   \n",
       "20        женат / замужем                 0      m    сотрудник     0   \n",
       "21       гражданский брак                 1      f    сотрудник     0   \n",
       "26        женат / замужем                 0      m  госслужащий     0   \n",
       "28        женат / замужем                 0      f    сотрудник     0   \n",
       "33        женат / замужем                 0      f    компаньон     0   \n",
       "34        женат / замужем                 0      f    сотрудник     0   \n",
       "36  не женат / не замужем                 4      m    сотрудник     0   \n",
       "37       гражданский брак                 1      f    компаньон     0   \n",
       "41        женат / замужем                 0      f  госслужащий     0   \n",
       "43              в разводе                 3      f    компаньон     0   \n",
       "44        женат / замужем                 0      f    сотрудник     0   \n",
       "\n",
       "    total_income                                 purpose  \n",
       "10        113943                    покупка недвижимости  \n",
       "16        289202                            недвижимость  \n",
       "17         90410              строительство недвижимости  \n",
       "18         56823      на покупку подержанного автомобиля  \n",
       "20        209552                            недвижимость  \n",
       "21        131812                 приобретение автомобиля  \n",
       "26        145017                             образование  \n",
       "28        187863  строительство собственной недвижимости  \n",
       "33        157245                           покупка жилья  \n",
       "34        104660         операции со своей недвижимостью  \n",
       "36        138830                              автомобили  \n",
       "37        154128                 приобретение автомобиля  \n",
       "41        145017        сделка с подержанным автомобилем  \n",
       "43        272957                 приобретение автомобиля  \n",
       "44        100780            на покупку своего автомобиля  "
      ]
     },
     "execution_count": 22,
     "metadata": {},
     "output_type": "execute_result"
    }
   ],
   "source": [
    "df[df['dob_years'].duplicated() == True].head(15)"
   ]
  },
  {
   "cell_type": "markdown",
   "metadata": {},
   "source": [
    "#### **Выводы**\n",
    "\n",
    "По итогу предобработки неявных дубликатов в данных сделан следующий вывод:\n",
    "\n",
    "* в часть полей при заполнении анкеты клиента доспустим ручной ввод, что затрудняет дальнейшую обоработку собранной информации.\n",
    "\n",
    "***Рекомендуется пользоваться предзаполненными списками, чтобы клиент либо сотрудник выбирал значения из предлагаемых, а не вписывал вручную.***"
   ]
  },
  {
   "cell_type": "markdown",
   "metadata": {},
   "source": [
    "### 4. Явные дубликаты"
   ]
  },
  {
   "cell_type": "markdown",
   "metadata": {},
   "source": [
    "Для начала выведем на экран количество явных дубликатов в нашем датафрейме:"
   ]
  },
  {
   "cell_type": "code",
   "execution_count": 23,
   "metadata": {},
   "outputs": [
    {
     "data": {
      "text/plain": [
       "71"
      ]
     },
     "execution_count": 23,
     "metadata": {},
     "output_type": "execute_result"
    }
   ],
   "source": [
    "df.duplicated().sum()"
   ]
  },
  {
   "cell_type": "markdown",
   "metadata": {},
   "source": [
    "Избавимся от них с помощью метода `drop` и выведем еще раз количество дубликатов:"
   ]
  },
  {
   "cell_type": "code",
   "execution_count": 24,
   "metadata": {},
   "outputs": [
    {
     "data": {
      "text/plain": [
       "0"
      ]
     },
     "execution_count": 24,
     "metadata": {},
     "output_type": "execute_result"
    }
   ],
   "source": [
    "df = df.drop_duplicates().reset_index(drop=True)\n",
    "df.duplicated().sum()"
   ]
  },
  {
   "cell_type": "markdown",
   "metadata": {},
   "source": [
    "#### **Выводы**\n",
    "\n",
    "По итогу предобработки явных дубликатов в данных сделан следующий вывод:\n",
    "* `часть заявок, содержащие данные о клиентах заносились повторно`. Вероятно, это связано с человеческим фактором из-за смены сотрудника, ведущего клиента, либо имел место однократный/повторяющийся сбой в системе. Необходимо специалистам посмотреть логи и выяснить даты создания задублированных строк.\n"
   ]
  },
  {
   "cell_type": "markdown",
   "metadata": {},
   "source": [
    "### 5. Категоризация данных"
   ]
  },
  {
   "cell_type": "markdown",
   "metadata": {},
   "source": [
    "#### 5.1. Формирование дополнительных датафреймов словарей, декомпозиция исходного датафрейма."
   ]
  },
  {
   "cell_type": "markdown",
   "metadata": {},
   "source": [
    "В представленной таблице имеется повторяющаяся информация, содержащая в себе индентификатор категории и его расшифровку. Так как данная информация сильно раздувает объем таблицы, а значит и хранящуюся в ней информацию, то разумно будет создать отдельный датафрейм с расшифровкой идентифиваторов, а в исходной таблице убрать дублирующую информацию.\n",
    "\n",
    "Для этого извлечем `education_id` и `education` в новый датафрейм `education_dic` и удалим ненужные дубликаты:"
   ]
  },
  {
   "cell_type": "code",
   "execution_count": 25,
   "metadata": {},
   "outputs": [
    {
     "data": {
      "text/html": [
       "<div>\n",
       "<style scoped>\n",
       "    .dataframe tbody tr th:only-of-type {\n",
       "        vertical-align: middle;\n",
       "    }\n",
       "\n",
       "    .dataframe tbody tr th {\n",
       "        vertical-align: top;\n",
       "    }\n",
       "\n",
       "    .dataframe thead th {\n",
       "        text-align: right;\n",
       "    }\n",
       "</style>\n",
       "<table border=\"1\" class=\"dataframe\">\n",
       "  <thead>\n",
       "    <tr style=\"text-align: right;\">\n",
       "      <th></th>\n",
       "      <th>education_id</th>\n",
       "      <th>education</th>\n",
       "    </tr>\n",
       "  </thead>\n",
       "  <tbody>\n",
       "    <tr>\n",
       "      <td>0</td>\n",
       "      <td>0</td>\n",
       "      <td>высшее</td>\n",
       "    </tr>\n",
       "    <tr>\n",
       "      <td>1</td>\n",
       "      <td>1</td>\n",
       "      <td>среднее</td>\n",
       "    </tr>\n",
       "    <tr>\n",
       "      <td>2</td>\n",
       "      <td>2</td>\n",
       "      <td>неоконченное высшее</td>\n",
       "    </tr>\n",
       "    <tr>\n",
       "      <td>3</td>\n",
       "      <td>3</td>\n",
       "      <td>начальное</td>\n",
       "    </tr>\n",
       "    <tr>\n",
       "      <td>4</td>\n",
       "      <td>4</td>\n",
       "      <td>ученая степень</td>\n",
       "    </tr>\n",
       "  </tbody>\n",
       "</table>\n",
       "</div>"
      ],
      "text/plain": [
       "   education_id            education\n",
       "0             0               высшее\n",
       "1             1              среднее\n",
       "2             2  неоконченное высшее\n",
       "3             3            начальное\n",
       "4             4       ученая степень"
      ]
     },
     "metadata": {},
     "output_type": "display_data"
    }
   ],
   "source": [
    "education_dic = df[['education_id','education']]\n",
    "education_dic = education_dic.drop_duplicates().reset_index(drop=True)\n",
    "display(education_dic)"
   ]
  },
  {
   "cell_type": "markdown",
   "metadata": {},
   "source": [
    "Аналогичную операцию проделаем для `family_status_id` и `family_status` в `family_status_dic`:"
   ]
  },
  {
   "cell_type": "code",
   "execution_count": 26,
   "metadata": {
    "scrolled": true
   },
   "outputs": [
    {
     "data": {
      "text/html": [
       "<div>\n",
       "<style scoped>\n",
       "    .dataframe tbody tr th:only-of-type {\n",
       "        vertical-align: middle;\n",
       "    }\n",
       "\n",
       "    .dataframe tbody tr th {\n",
       "        vertical-align: top;\n",
       "    }\n",
       "\n",
       "    .dataframe thead th {\n",
       "        text-align: right;\n",
       "    }\n",
       "</style>\n",
       "<table border=\"1\" class=\"dataframe\">\n",
       "  <thead>\n",
       "    <tr style=\"text-align: right;\">\n",
       "      <th></th>\n",
       "      <th>family_status_id</th>\n",
       "      <th>family_status</th>\n",
       "    </tr>\n",
       "  </thead>\n",
       "  <tbody>\n",
       "    <tr>\n",
       "      <td>0</td>\n",
       "      <td>0</td>\n",
       "      <td>женат / замужем</td>\n",
       "    </tr>\n",
       "    <tr>\n",
       "      <td>1</td>\n",
       "      <td>1</td>\n",
       "      <td>гражданский брак</td>\n",
       "    </tr>\n",
       "    <tr>\n",
       "      <td>2</td>\n",
       "      <td>2</td>\n",
       "      <td>вдовец / вдова</td>\n",
       "    </tr>\n",
       "    <tr>\n",
       "      <td>3</td>\n",
       "      <td>3</td>\n",
       "      <td>в разводе</td>\n",
       "    </tr>\n",
       "    <tr>\n",
       "      <td>4</td>\n",
       "      <td>4</td>\n",
       "      <td>не женат / не замужем</td>\n",
       "    </tr>\n",
       "  </tbody>\n",
       "</table>\n",
       "</div>"
      ],
      "text/plain": [
       "   family_status_id          family_status\n",
       "0                 0        женат / замужем\n",
       "1                 1       гражданский брак\n",
       "2                 2         вдовец / вдова\n",
       "3                 3              в разводе\n",
       "4                 4  не женат / не замужем"
      ]
     },
     "metadata": {},
     "output_type": "display_data"
    }
   ],
   "source": [
    "family_status_dic = df[['family_status_id','family_status']]\n",
    "family_status_dic = family_status_dic.drop_duplicates().reset_index(drop=True)\n",
    "display(family_status_dic)"
   ]
  },
  {
   "cell_type": "markdown",
   "metadata": {},
   "source": [
    "Теперь необходимо удалить столбцы `family_status` и `education` из исходного датафрейма:"
   ]
  },
  {
   "cell_type": "code",
   "execution_count": 27,
   "metadata": {},
   "outputs": [],
   "source": [
    "df.drop(columns = ['education','family_status'],axis = 1, inplace=True)"
   ]
  },
  {
   "cell_type": "markdown",
   "metadata": {},
   "source": [
    "#### 5.2. Категоризация дохода"
   ]
  },
  {
   "cell_type": "markdown",
   "metadata": {},
   "source": [
    "Следующим шагом выполним категоризацию исходных данных по `среднемесячному доходу` по следующей логике:\n",
    "* `A` — 1000001 и выше\n",
    "* `B` — 200001–1000000\n",
    "* `C` — 50001–200000\n",
    "* `D` — 30001–50000\n",
    "* `E` — 0–30000\n",
    "\n",
    "Для этого напишем функцию `total_income_group` и применим с помощью метода `apply` к нашему датафрейму:"
   ]
  },
  {
   "cell_type": "code",
   "execution_count": 28,
   "metadata": {},
   "outputs": [],
   "source": [
    "def total_income_group(total_income):\n",
    "    if total_income <= 30000:\n",
    "        return 'E'\n",
    "    if total_income <= 50000:\n",
    "        return 'D'\n",
    "    if total_income <= 200000:\n",
    "        return 'C'\n",
    "    if total_income <= 1000000:\n",
    "        return 'B'\n",
    "    return 'A'"
   ]
  },
  {
   "cell_type": "code",
   "execution_count": 29,
   "metadata": {},
   "outputs": [],
   "source": [
    "df['total_income_category'] = df['total_income'].apply(total_income_group)"
   ]
  },
  {
   "cell_type": "code",
   "execution_count": 30,
   "metadata": {},
   "outputs": [
    {
     "data": {
      "text/html": [
       "<div>\n",
       "<style scoped>\n",
       "    .dataframe tbody tr th:only-of-type {\n",
       "        vertical-align: middle;\n",
       "    }\n",
       "\n",
       "    .dataframe tbody tr th {\n",
       "        vertical-align: top;\n",
       "    }\n",
       "\n",
       "    .dataframe thead th {\n",
       "        text-align: right;\n",
       "    }\n",
       "</style>\n",
       "<table border=\"1\" class=\"dataframe\">\n",
       "  <thead>\n",
       "    <tr style=\"text-align: right;\">\n",
       "      <th></th>\n",
       "      <th>children</th>\n",
       "      <th>years_employed</th>\n",
       "      <th>dob_years</th>\n",
       "      <th>education_id</th>\n",
       "      <th>family_status_id</th>\n",
       "      <th>gender</th>\n",
       "      <th>income_type</th>\n",
       "      <th>debt</th>\n",
       "      <th>total_income</th>\n",
       "      <th>purpose</th>\n",
       "      <th>total_income_category</th>\n",
       "    </tr>\n",
       "  </thead>\n",
       "  <tbody>\n",
       "    <tr>\n",
       "      <td>0</td>\n",
       "      <td>1</td>\n",
       "      <td>23</td>\n",
       "      <td>42</td>\n",
       "      <td>0</td>\n",
       "      <td>0</td>\n",
       "      <td>f</td>\n",
       "      <td>сотрудник</td>\n",
       "      <td>0</td>\n",
       "      <td>253875</td>\n",
       "      <td>покупка жилья</td>\n",
       "      <td>B</td>\n",
       "    </tr>\n",
       "    <tr>\n",
       "      <td>1</td>\n",
       "      <td>1</td>\n",
       "      <td>11</td>\n",
       "      <td>36</td>\n",
       "      <td>1</td>\n",
       "      <td>0</td>\n",
       "      <td>f</td>\n",
       "      <td>сотрудник</td>\n",
       "      <td>0</td>\n",
       "      <td>112080</td>\n",
       "      <td>приобретение автомобиля</td>\n",
       "      <td>C</td>\n",
       "    </tr>\n",
       "    <tr>\n",
       "      <td>2</td>\n",
       "      <td>0</td>\n",
       "      <td>15</td>\n",
       "      <td>33</td>\n",
       "      <td>1</td>\n",
       "      <td>0</td>\n",
       "      <td>m</td>\n",
       "      <td>сотрудник</td>\n",
       "      <td>0</td>\n",
       "      <td>145885</td>\n",
       "      <td>покупка жилья</td>\n",
       "      <td>C</td>\n",
       "    </tr>\n",
       "    <tr>\n",
       "      <td>3</td>\n",
       "      <td>3</td>\n",
       "      <td>11</td>\n",
       "      <td>32</td>\n",
       "      <td>1</td>\n",
       "      <td>0</td>\n",
       "      <td>m</td>\n",
       "      <td>сотрудник</td>\n",
       "      <td>0</td>\n",
       "      <td>267628</td>\n",
       "      <td>дополнительное образование</td>\n",
       "      <td>B</td>\n",
       "    </tr>\n",
       "    <tr>\n",
       "      <td>4</td>\n",
       "      <td>0</td>\n",
       "      <td>38</td>\n",
       "      <td>53</td>\n",
       "      <td>1</td>\n",
       "      <td>1</td>\n",
       "      <td>f</td>\n",
       "      <td>пенсионер</td>\n",
       "      <td>0</td>\n",
       "      <td>158616</td>\n",
       "      <td>сыграть свадьбу</td>\n",
       "      <td>C</td>\n",
       "    </tr>\n",
       "  </tbody>\n",
       "</table>\n",
       "</div>"
      ],
      "text/plain": [
       "   children  years_employed  dob_years  education_id  family_status_id gender  \\\n",
       "0         1              23         42             0                 0      f   \n",
       "1         1              11         36             1                 0      f   \n",
       "2         0              15         33             1                 0      m   \n",
       "3         3              11         32             1                 0      m   \n",
       "4         0              38         53             1                 1      f   \n",
       "\n",
       "  income_type  debt  total_income                     purpose  \\\n",
       "0   сотрудник     0        253875               покупка жилья   \n",
       "1   сотрудник     0        112080     приобретение автомобиля   \n",
       "2   сотрудник     0        145885               покупка жилья   \n",
       "3   сотрудник     0        267628  дополнительное образование   \n",
       "4   пенсионер     0        158616             сыграть свадьбу   \n",
       "\n",
       "  total_income_category  \n",
       "0                     B  \n",
       "1                     C  \n",
       "2                     C  \n",
       "3                     B  \n",
       "4                     C  "
      ]
     },
     "metadata": {},
     "output_type": "display_data"
    }
   ],
   "source": [
    "display(df.head())"
   ]
  },
  {
   "cell_type": "markdown",
   "metadata": {},
   "source": [
    "#### 5.3. Категоризация целей кредита"
   ]
  },
  {
   "cell_type": "markdown",
   "metadata": {},
   "source": [
    "Среди ранее рассмотренных данных в столбце `purpose` встречаются неявные дубликаты, например, такие как:\n",
    "\n",
    "* `автомобили` - `автомобиль` - `на покупку автомобиля` - `на покупку подержанного автомобиля` - `на покупку своего автомобиля` - `приобретение автомобиля` - `свой автомобиль` - `сделка с автомобилем` - `сделка с подержанным автомобилем`\n",
    "\n",
    "Так как о целях кредита клиенты пишут в свободной форме, то произвести группирование по данному столбцу не представляется возможным. Однако можно разделить все цели на категории, что облегчит их дальнейший анализ."
   ]
  },
  {
   "cell_type": "markdown",
   "metadata": {},
   "source": [
    "Для этого создадим словарь соответствия внесенных целей каждой категории `purpose_dic`, который можно будет пополнять при масштабировании исходных данных."
   ]
  },
  {
   "cell_type": "code",
   "execution_count": 31,
   "metadata": {},
   "outputs": [],
   "source": [
    "purpose_dic = {\n",
    "    'автомобиль': ['автомобил','машина'],\n",
    "    'бизнесс': ['коммерч','сдач','бизнесс'],\n",
    "    'образование': ['образов','учёб','учеб'],\n",
    "    'жилье': ['жиль','недвижимост','квартира'],\n",
    "    'личные цели': ['свадьб']\n",
    "}"
   ]
  },
  {
   "cell_type": "markdown",
   "metadata": {},
   "source": [
    "И напишем функцию `purpose_category(purpose)`, производящую сравнение внесенных клиентом данных с имеющимся словарем и присваивающую категорию. В случае отсутствия совпадения функция будет присваивать значение `неизвестно`."
   ]
  },
  {
   "cell_type": "code",
   "execution_count": 32,
   "metadata": {},
   "outputs": [],
   "source": [
    "def purpose_to_category(purpose):\n",
    "    for category, category_keys in purpose_dic.items():\n",
    "        for i in category_keys:\n",
    "            if i in purpose:\n",
    "                return (category)\n",
    "        else:\n",
    "            continue\n",
    "        return 'неизвестно'"
   ]
  },
  {
   "cell_type": "markdown",
   "metadata": {},
   "source": [
    "Применим функцию `purpose_to_category` ко всему датафрейму `df` с помощью метода `apply()` и выведем на экран первые 5 строк:"
   ]
  },
  {
   "cell_type": "code",
   "execution_count": 33,
   "metadata": {},
   "outputs": [
    {
     "data": {
      "text/html": [
       "<div>\n",
       "<style scoped>\n",
       "    .dataframe tbody tr th:only-of-type {\n",
       "        vertical-align: middle;\n",
       "    }\n",
       "\n",
       "    .dataframe tbody tr th {\n",
       "        vertical-align: top;\n",
       "    }\n",
       "\n",
       "    .dataframe thead th {\n",
       "        text-align: right;\n",
       "    }\n",
       "</style>\n",
       "<table border=\"1\" class=\"dataframe\">\n",
       "  <thead>\n",
       "    <tr style=\"text-align: right;\">\n",
       "      <th></th>\n",
       "      <th>children</th>\n",
       "      <th>years_employed</th>\n",
       "      <th>dob_years</th>\n",
       "      <th>education_id</th>\n",
       "      <th>family_status_id</th>\n",
       "      <th>gender</th>\n",
       "      <th>income_type</th>\n",
       "      <th>debt</th>\n",
       "      <th>total_income</th>\n",
       "      <th>purpose</th>\n",
       "      <th>total_income_category</th>\n",
       "      <th>purpose_category</th>\n",
       "    </tr>\n",
       "  </thead>\n",
       "  <tbody>\n",
       "    <tr>\n",
       "      <td>0</td>\n",
       "      <td>1</td>\n",
       "      <td>23</td>\n",
       "      <td>42</td>\n",
       "      <td>0</td>\n",
       "      <td>0</td>\n",
       "      <td>f</td>\n",
       "      <td>сотрудник</td>\n",
       "      <td>0</td>\n",
       "      <td>253875</td>\n",
       "      <td>покупка жилья</td>\n",
       "      <td>B</td>\n",
       "      <td>жилье</td>\n",
       "    </tr>\n",
       "    <tr>\n",
       "      <td>1</td>\n",
       "      <td>1</td>\n",
       "      <td>11</td>\n",
       "      <td>36</td>\n",
       "      <td>1</td>\n",
       "      <td>0</td>\n",
       "      <td>f</td>\n",
       "      <td>сотрудник</td>\n",
       "      <td>0</td>\n",
       "      <td>112080</td>\n",
       "      <td>приобретение автомобиля</td>\n",
       "      <td>C</td>\n",
       "      <td>автомобиль</td>\n",
       "    </tr>\n",
       "    <tr>\n",
       "      <td>2</td>\n",
       "      <td>0</td>\n",
       "      <td>15</td>\n",
       "      <td>33</td>\n",
       "      <td>1</td>\n",
       "      <td>0</td>\n",
       "      <td>m</td>\n",
       "      <td>сотрудник</td>\n",
       "      <td>0</td>\n",
       "      <td>145885</td>\n",
       "      <td>покупка жилья</td>\n",
       "      <td>C</td>\n",
       "      <td>жилье</td>\n",
       "    </tr>\n",
       "    <tr>\n",
       "      <td>3</td>\n",
       "      <td>3</td>\n",
       "      <td>11</td>\n",
       "      <td>32</td>\n",
       "      <td>1</td>\n",
       "      <td>0</td>\n",
       "      <td>m</td>\n",
       "      <td>сотрудник</td>\n",
       "      <td>0</td>\n",
       "      <td>267628</td>\n",
       "      <td>дополнительное образование</td>\n",
       "      <td>B</td>\n",
       "      <td>образование</td>\n",
       "    </tr>\n",
       "    <tr>\n",
       "      <td>4</td>\n",
       "      <td>0</td>\n",
       "      <td>38</td>\n",
       "      <td>53</td>\n",
       "      <td>1</td>\n",
       "      <td>1</td>\n",
       "      <td>f</td>\n",
       "      <td>пенсионер</td>\n",
       "      <td>0</td>\n",
       "      <td>158616</td>\n",
       "      <td>сыграть свадьбу</td>\n",
       "      <td>C</td>\n",
       "      <td>личные цели</td>\n",
       "    </tr>\n",
       "  </tbody>\n",
       "</table>\n",
       "</div>"
      ],
      "text/plain": [
       "   children  years_employed  dob_years  education_id  family_status_id gender  \\\n",
       "0         1              23         42             0                 0      f   \n",
       "1         1              11         36             1                 0      f   \n",
       "2         0              15         33             1                 0      m   \n",
       "3         3              11         32             1                 0      m   \n",
       "4         0              38         53             1                 1      f   \n",
       "\n",
       "  income_type  debt  total_income                     purpose  \\\n",
       "0   сотрудник     0        253875               покупка жилья   \n",
       "1   сотрудник     0        112080     приобретение автомобиля   \n",
       "2   сотрудник     0        145885               покупка жилья   \n",
       "3   сотрудник     0        267628  дополнительное образование   \n",
       "4   пенсионер     0        158616             сыграть свадьбу   \n",
       "\n",
       "  total_income_category purpose_category  \n",
       "0                     B            жилье  \n",
       "1                     C       автомобиль  \n",
       "2                     C            жилье  \n",
       "3                     B      образование  \n",
       "4                     C      личные цели  "
      ]
     },
     "metadata": {},
     "output_type": "display_data"
    }
   ],
   "source": [
    "df['purpose_category'] = df['purpose'].apply(purpose_to_category)\n",
    "display(df.head())"
   ]
  },
  {
   "cell_type": "markdown",
   "metadata": {},
   "source": [
    "Переиндексируем колонки для визуального удобства чтения с помощью `reindex`:"
   ]
  },
  {
   "cell_type": "code",
   "execution_count": 34,
   "metadata": {},
   "outputs": [],
   "source": [
    "df = df.reindex(columns=['gender', 'dob_years', 'education_id', 'family_status_id', 'children', \n",
    "                         'income_type', 'years_employed', 'total_income_category', 'total_income', 'debt', 'purpose_category', 'purpose'])"
   ]
  },
  {
   "cell_type": "code",
   "execution_count": 35,
   "metadata": {},
   "outputs": [
    {
     "data": {
      "text/html": [
       "<div>\n",
       "<style scoped>\n",
       "    .dataframe tbody tr th:only-of-type {\n",
       "        vertical-align: middle;\n",
       "    }\n",
       "\n",
       "    .dataframe tbody tr th {\n",
       "        vertical-align: top;\n",
       "    }\n",
       "\n",
       "    .dataframe thead th {\n",
       "        text-align: right;\n",
       "    }\n",
       "</style>\n",
       "<table border=\"1\" class=\"dataframe\">\n",
       "  <thead>\n",
       "    <tr style=\"text-align: right;\">\n",
       "      <th></th>\n",
       "      <th>gender</th>\n",
       "      <th>dob_years</th>\n",
       "      <th>education_id</th>\n",
       "      <th>family_status_id</th>\n",
       "      <th>children</th>\n",
       "      <th>income_type</th>\n",
       "      <th>years_employed</th>\n",
       "      <th>total_income_category</th>\n",
       "      <th>total_income</th>\n",
       "      <th>debt</th>\n",
       "      <th>purpose_category</th>\n",
       "      <th>purpose</th>\n",
       "    </tr>\n",
       "  </thead>\n",
       "  <tbody>\n",
       "    <tr>\n",
       "      <td>0</td>\n",
       "      <td>f</td>\n",
       "      <td>42</td>\n",
       "      <td>0</td>\n",
       "      <td>0</td>\n",
       "      <td>1</td>\n",
       "      <td>сотрудник</td>\n",
       "      <td>23</td>\n",
       "      <td>B</td>\n",
       "      <td>253875</td>\n",
       "      <td>0</td>\n",
       "      <td>жилье</td>\n",
       "      <td>покупка жилья</td>\n",
       "    </tr>\n",
       "    <tr>\n",
       "      <td>1</td>\n",
       "      <td>f</td>\n",
       "      <td>36</td>\n",
       "      <td>1</td>\n",
       "      <td>0</td>\n",
       "      <td>1</td>\n",
       "      <td>сотрудник</td>\n",
       "      <td>11</td>\n",
       "      <td>C</td>\n",
       "      <td>112080</td>\n",
       "      <td>0</td>\n",
       "      <td>автомобиль</td>\n",
       "      <td>приобретение автомобиля</td>\n",
       "    </tr>\n",
       "    <tr>\n",
       "      <td>2</td>\n",
       "      <td>m</td>\n",
       "      <td>33</td>\n",
       "      <td>1</td>\n",
       "      <td>0</td>\n",
       "      <td>0</td>\n",
       "      <td>сотрудник</td>\n",
       "      <td>15</td>\n",
       "      <td>C</td>\n",
       "      <td>145885</td>\n",
       "      <td>0</td>\n",
       "      <td>жилье</td>\n",
       "      <td>покупка жилья</td>\n",
       "    </tr>\n",
       "    <tr>\n",
       "      <td>3</td>\n",
       "      <td>m</td>\n",
       "      <td>32</td>\n",
       "      <td>1</td>\n",
       "      <td>0</td>\n",
       "      <td>3</td>\n",
       "      <td>сотрудник</td>\n",
       "      <td>11</td>\n",
       "      <td>B</td>\n",
       "      <td>267628</td>\n",
       "      <td>0</td>\n",
       "      <td>образование</td>\n",
       "      <td>дополнительное образование</td>\n",
       "    </tr>\n",
       "    <tr>\n",
       "      <td>4</td>\n",
       "      <td>f</td>\n",
       "      <td>53</td>\n",
       "      <td>1</td>\n",
       "      <td>1</td>\n",
       "      <td>0</td>\n",
       "      <td>пенсионер</td>\n",
       "      <td>38</td>\n",
       "      <td>C</td>\n",
       "      <td>158616</td>\n",
       "      <td>0</td>\n",
       "      <td>личные цели</td>\n",
       "      <td>сыграть свадьбу</td>\n",
       "    </tr>\n",
       "  </tbody>\n",
       "</table>\n",
       "</div>"
      ],
      "text/plain": [
       "  gender  dob_years  education_id  family_status_id  children income_type  \\\n",
       "0      f         42             0                 0         1   сотрудник   \n",
       "1      f         36             1                 0         1   сотрудник   \n",
       "2      m         33             1                 0         0   сотрудник   \n",
       "3      m         32             1                 0         3   сотрудник   \n",
       "4      f         53             1                 1         0   пенсионер   \n",
       "\n",
       "   years_employed total_income_category  total_income  debt purpose_category  \\\n",
       "0              23                     B        253875     0            жилье   \n",
       "1              11                     C        112080     0       автомобиль   \n",
       "2              15                     C        145885     0            жилье   \n",
       "3              11                     B        267628     0      образование   \n",
       "4              38                     C        158616     0      личные цели   \n",
       "\n",
       "                      purpose  \n",
       "0               покупка жилья  \n",
       "1     приобретение автомобиля  \n",
       "2               покупка жилья  \n",
       "3  дополнительное образование  \n",
       "4             сыграть свадьбу  "
      ]
     },
     "metadata": {},
     "output_type": "display_data"
    }
   ],
   "source": [
    "display(df.head())"
   ]
  },
  {
   "cell_type": "markdown",
   "metadata": {},
   "source": [
    "### **Выводы**\n",
    "\n",
    "По итогу предобработки данных сделаны следующий вывод:\n",
    "* в часть полей при заполнении анкеты клиента в общую базу данных доспустим ручной ввод, что затрудняет дальнейшую обоработку собранной информации. Для решения этой проблемы рекомендуется пользоваться предсозданными списками и выборками;\n",
    "* часть заявок, содержащие данные о клиентах заносились повторно. Это может быть связано либо с ошибками при ручном свободном вводе, либо с системном сбое. Для уточнения и решения проблемы необходимо связаться со специалистами и провести дополнительное исследование для поиска источника дуликатов;\n",
    "* выгрузка некоторых данных настроена неверно, что искажает интерпритацию исходных данных программой: присутствуют лишние знаки, символы, для счетчик времени необходимо проверить формулу;\n",
    "* имеются MNAR пропуски в данных, связанные с нежеланием некоторых клиентов передавать ту или иную информацию банку. Решением данной проблемы является использование дополнительных источников информации;\n",
    "* структура исходных данных нерациональная, так как имеет много дополнительной информации, тратящей ресурсы на ее обработку и хранение. Рекомендуется сделать реструктуризацию данных с созданием дополнительных БД с ключами-словарями;\n",
    "* в ходе этапа предобработки были исправлены все аномалии, и данных подготовлены для дальнейшего изучения. "
   ]
  },
  {
   "cell_type": "markdown",
   "metadata": {},
   "source": [
    "## **III. Исследование данных**"
   ]
  },
  {
   "cell_type": "markdown",
   "metadata": {},
   "source": [
    "Используя обработанные исходные данные исследуем их с целью ответа на поставленные вопросы.\n",
    "\n",
    "Но прежде, чем начать анализ, для упрощения дальнейшей работы создадим функцию `analisys`, которая будет:\n",
    "1. Принимать значение двух столбцов\n",
    "2. Создавать на основании входной информации по столбцам сводную таблицу\n",
    "3. Создавать по сводной таблице дополнительную с конверсией каждого элемента, т.е. отношение целевого параметра к сумме рассмотренных случаев для данной группы (например, конверсия успешно погашенных кредитов в семье с 1 ребенком составляет 0.925)\n",
    "4. Из библиотеки `seaborn` брать метод построения `тепловой карты` `heatmap()` по данным конверсии, сведенным в таблицу"
   ]
  },
  {
   "cell_type": "code",
   "execution_count": 36,
   "metadata": {},
   "outputs": [],
   "source": [
    "def analisys(column_1, column_2):\n",
    "    # основная сводная таблица\n",
    "    pivot_table = df.pivot_table(index=[column_1], columns=column_2, values='dob_years', aggfunc='count')\n",
    "    \n",
    "    # создание таблицы с конверсией\n",
    "    conversion = pivot_table / df.groupby(column_2)[column_1].count()\n",
    "    \n",
    "    # создание тепловой карты по таблице конверсии\n",
    "    sb.heatmap(conversion,\n",
    "            xticklabels=df[column_2].unique(),\n",
    "            yticklabels=df[column_1].unique(),\n",
    "            annot=True,cmap='RdYlGn')\n",
    "    \n",
    "    # вывод на экран сводной таблицы и таблицы с конверсиями\n",
    "    display(pivot_table)\n",
    "    print('\\033[4m\\033[1m\\033[31mКоэффициенты конверсии равны:')\n",
    "    display(conversion)"
   ]
  },
  {
   "cell_type": "markdown",
   "metadata": {},
   "source": [
    "### 1. Есть ли зависимость между количеством детей и возвратом кредита в срок?\n",
    "\n",
    "Для ответа на данный вопрос нам понадобятся значения из столбцов `debt` и `children`.\n",
    "\n",
    "Применим ранее созданную функцию `analisys`"
   ]
  },
  {
   "cell_type": "code",
   "execution_count": 37,
   "metadata": {},
   "outputs": [
    {
     "data": {
      "text/html": [
       "<div>\n",
       "<style scoped>\n",
       "    .dataframe tbody tr th:only-of-type {\n",
       "        vertical-align: middle;\n",
       "    }\n",
       "\n",
       "    .dataframe tbody tr th {\n",
       "        vertical-align: top;\n",
       "    }\n",
       "\n",
       "    .dataframe thead th {\n",
       "        text-align: right;\n",
       "    }\n",
       "</style>\n",
       "<table border=\"1\" class=\"dataframe\">\n",
       "  <thead>\n",
       "    <tr style=\"text-align: right;\">\n",
       "      <th>children</th>\n",
       "      <th>0</th>\n",
       "      <th>1</th>\n",
       "      <th>2</th>\n",
       "      <th>3</th>\n",
       "      <th>4</th>\n",
       "      <th>5</th>\n",
       "    </tr>\n",
       "    <tr>\n",
       "      <th>debt</th>\n",
       "      <th></th>\n",
       "      <th></th>\n",
       "      <th></th>\n",
       "      <th></th>\n",
       "      <th></th>\n",
       "      <th></th>\n",
       "    </tr>\n",
       "  </thead>\n",
       "  <tbody>\n",
       "    <tr>\n",
       "      <td>0</td>\n",
       "      <td>13,028.000</td>\n",
       "      <td>4,410.000</td>\n",
       "      <td>1,926.000</td>\n",
       "      <td>303.000</td>\n",
       "      <td>37.000</td>\n",
       "      <td>9.000</td>\n",
       "    </tr>\n",
       "    <tr>\n",
       "      <td>1</td>\n",
       "      <td>1,063.000</td>\n",
       "      <td>445.000</td>\n",
       "      <td>202.000</td>\n",
       "      <td>27.000</td>\n",
       "      <td>4.000</td>\n",
       "      <td>nan</td>\n",
       "    </tr>\n",
       "  </tbody>\n",
       "</table>\n",
       "</div>"
      ],
      "text/plain": [
       "children          0         1         2       3      4     5\n",
       "debt                                                        \n",
       "0        13,028.000 4,410.000 1,926.000 303.000 37.000 9.000\n",
       "1         1,063.000   445.000   202.000  27.000  4.000   nan"
      ]
     },
     "metadata": {},
     "output_type": "display_data"
    },
    {
     "name": "stdout",
     "output_type": "stream",
     "text": [
      "\u001b[4m\u001b[1m\u001b[31mКоэффициенты конверсии равны:\n"
     ]
    },
    {
     "data": {
      "text/html": [
       "<div>\n",
       "<style scoped>\n",
       "    .dataframe tbody tr th:only-of-type {\n",
       "        vertical-align: middle;\n",
       "    }\n",
       "\n",
       "    .dataframe tbody tr th {\n",
       "        vertical-align: top;\n",
       "    }\n",
       "\n",
       "    .dataframe thead th {\n",
       "        text-align: right;\n",
       "    }\n",
       "</style>\n",
       "<table border=\"1\" class=\"dataframe\">\n",
       "  <thead>\n",
       "    <tr style=\"text-align: right;\">\n",
       "      <th>children</th>\n",
       "      <th>0</th>\n",
       "      <th>1</th>\n",
       "      <th>2</th>\n",
       "      <th>3</th>\n",
       "      <th>4</th>\n",
       "      <th>5</th>\n",
       "    </tr>\n",
       "    <tr>\n",
       "      <th>debt</th>\n",
       "      <th></th>\n",
       "      <th></th>\n",
       "      <th></th>\n",
       "      <th></th>\n",
       "      <th></th>\n",
       "      <th></th>\n",
       "    </tr>\n",
       "  </thead>\n",
       "  <tbody>\n",
       "    <tr>\n",
       "      <td>0</td>\n",
       "      <td>0.925</td>\n",
       "      <td>0.908</td>\n",
       "      <td>0.905</td>\n",
       "      <td>0.918</td>\n",
       "      <td>0.902</td>\n",
       "      <td>1.000</td>\n",
       "    </tr>\n",
       "    <tr>\n",
       "      <td>1</td>\n",
       "      <td>0.075</td>\n",
       "      <td>0.092</td>\n",
       "      <td>0.095</td>\n",
       "      <td>0.082</td>\n",
       "      <td>0.098</td>\n",
       "      <td>nan</td>\n",
       "    </tr>\n",
       "  </tbody>\n",
       "</table>\n",
       "</div>"
      ],
      "text/plain": [
       "children     0     1     2     3     4     5\n",
       "debt                                        \n",
       "0        0.925 0.908 0.905 0.918 0.902 1.000\n",
       "1        0.075 0.092 0.095 0.082 0.098   nan"
      ]
     },
     "metadata": {},
     "output_type": "display_data"
    },
    {
     "data": {
      "image/png": "[encoded data removed]",
      "text/plain": [
       "<Figure size 432x288 with 2 Axes>"
      ]
     },
     "metadata": {
      "needs_background": "light"
     },
     "output_type": "display_data"
    }
   ],
   "source": [
    "analisys('debt', 'children')"
   ]
  },
  {
   "cell_type": "markdown",
   "metadata": {},
   "source": [
    "Из данного исследования можно сделать следующие **выводы**:\n",
    "* большая часть заемщиков возвращает кредит вовремя, задолжности по кредиту имело `менее 10%` клиентов\n",
    "* чаще всего кредит берут люди без детей\n",
    "* согласно статистике, можно сделать вывод, что `в семьях c 1м и с 2мя детьми задолжности по кредиту встречаются реже, а с 3, 4мя детьми чаще`. "
   ]
  },
  {
   "cell_type": "markdown",
   "metadata": {},
   "source": [
    "### 2. Есть ли зависимость между семейным положением и возвратом кредита в срок?"
   ]
  },
  {
   "cell_type": "markdown",
   "metadata": {},
   "source": [
    "Воспользуемся той же функцией, только теперь для анализа возьмем столбец `debt` и `family_status_id`. Дополнительно выведем словарь индексов семейного положения `family_status_dic`."
   ]
  },
  {
   "cell_type": "code",
   "execution_count": 38,
   "metadata": {},
   "outputs": [
    {
     "data": {
      "text/html": [
       "<div>\n",
       "<style scoped>\n",
       "    .dataframe tbody tr th:only-of-type {\n",
       "        vertical-align: middle;\n",
       "    }\n",
       "\n",
       "    .dataframe tbody tr th {\n",
       "        vertical-align: top;\n",
       "    }\n",
       "\n",
       "    .dataframe thead th {\n",
       "        text-align: right;\n",
       "    }\n",
       "</style>\n",
       "<table border=\"1\" class=\"dataframe\">\n",
       "  <thead>\n",
       "    <tr style=\"text-align: right;\">\n",
       "      <th>family_status_id</th>\n",
       "      <th>0</th>\n",
       "      <th>1</th>\n",
       "      <th>2</th>\n",
       "      <th>3</th>\n",
       "      <th>4</th>\n",
       "    </tr>\n",
       "    <tr>\n",
       "      <th>debt</th>\n",
       "      <th></th>\n",
       "      <th></th>\n",
       "      <th></th>\n",
       "      <th></th>\n",
       "      <th></th>\n",
       "    </tr>\n",
       "  </thead>\n",
       "  <tbody>\n",
       "    <tr>\n",
       "      <td>0</td>\n",
       "      <td>11408</td>\n",
       "      <td>3763</td>\n",
       "      <td>896</td>\n",
       "      <td>1110</td>\n",
       "      <td>2536</td>\n",
       "    </tr>\n",
       "    <tr>\n",
       "      <td>1</td>\n",
       "      <td>931</td>\n",
       "      <td>388</td>\n",
       "      <td>63</td>\n",
       "      <td>85</td>\n",
       "      <td>274</td>\n",
       "    </tr>\n",
       "  </tbody>\n",
       "</table>\n",
       "</div>"
      ],
      "text/plain": [
       "family_status_id      0     1    2     3     4\n",
       "debt                                          \n",
       "0                 11408  3763  896  1110  2536\n",
       "1                   931   388   63    85   274"
      ]
     },
     "metadata": {},
     "output_type": "display_data"
    },
    {
     "name": "stdout",
     "output_type": "stream",
     "text": [
      "\u001b[4m\u001b[1m\u001b[31mКоэффициенты конверсии равны:\n"
     ]
    },
    {
     "data": {
      "text/html": [
       "<div>\n",
       "<style scoped>\n",
       "    .dataframe tbody tr th:only-of-type {\n",
       "        vertical-align: middle;\n",
       "    }\n",
       "\n",
       "    .dataframe tbody tr th {\n",
       "        vertical-align: top;\n",
       "    }\n",
       "\n",
       "    .dataframe thead th {\n",
       "        text-align: right;\n",
       "    }\n",
       "</style>\n",
       "<table border=\"1\" class=\"dataframe\">\n",
       "  <thead>\n",
       "    <tr style=\"text-align: right;\">\n",
       "      <th>family_status_id</th>\n",
       "      <th>0</th>\n",
       "      <th>1</th>\n",
       "      <th>2</th>\n",
       "      <th>3</th>\n",
       "      <th>4</th>\n",
       "    </tr>\n",
       "    <tr>\n",
       "      <th>debt</th>\n",
       "      <th></th>\n",
       "      <th></th>\n",
       "      <th></th>\n",
       "      <th></th>\n",
       "      <th></th>\n",
       "    </tr>\n",
       "  </thead>\n",
       "  <tbody>\n",
       "    <tr>\n",
       "      <td>0</td>\n",
       "      <td>0.925</td>\n",
       "      <td>0.907</td>\n",
       "      <td>0.934</td>\n",
       "      <td>0.929</td>\n",
       "      <td>0.902</td>\n",
       "    </tr>\n",
       "    <tr>\n",
       "      <td>1</td>\n",
       "      <td>0.075</td>\n",
       "      <td>0.093</td>\n",
       "      <td>0.066</td>\n",
       "      <td>0.071</td>\n",
       "      <td>0.098</td>\n",
       "    </tr>\n",
       "  </tbody>\n",
       "</table>\n",
       "</div>"
      ],
      "text/plain": [
       "family_status_id     0     1     2     3     4\n",
       "debt                                          \n",
       "0                0.925 0.907 0.934 0.929 0.902\n",
       "1                0.075 0.093 0.066 0.071 0.098"
      ]
     },
     "metadata": {},
     "output_type": "display_data"
    },
    {
     "name": "stdout",
     "output_type": "stream",
     "text": [
      "\u001b[4m\u001b[1m\u001b[31mСловарь индексов семейного положения:\n"
     ]
    },
    {
     "data": {
      "text/html": [
       "<div>\n",
       "<style scoped>\n",
       "    .dataframe tbody tr th:only-of-type {\n",
       "        vertical-align: middle;\n",
       "    }\n",
       "\n",
       "    .dataframe tbody tr th {\n",
       "        vertical-align: top;\n",
       "    }\n",
       "\n",
       "    .dataframe thead th {\n",
       "        text-align: right;\n",
       "    }\n",
       "</style>\n",
       "<table border=\"1\" class=\"dataframe\">\n",
       "  <thead>\n",
       "    <tr style=\"text-align: right;\">\n",
       "      <th></th>\n",
       "      <th>family_status_id</th>\n",
       "      <th>family_status</th>\n",
       "    </tr>\n",
       "  </thead>\n",
       "  <tbody>\n",
       "    <tr>\n",
       "      <td>0</td>\n",
       "      <td>0</td>\n",
       "      <td>женат / замужем</td>\n",
       "    </tr>\n",
       "    <tr>\n",
       "      <td>1</td>\n",
       "      <td>1</td>\n",
       "      <td>гражданский брак</td>\n",
       "    </tr>\n",
       "    <tr>\n",
       "      <td>2</td>\n",
       "      <td>2</td>\n",
       "      <td>вдовец / вдова</td>\n",
       "    </tr>\n",
       "    <tr>\n",
       "      <td>3</td>\n",
       "      <td>3</td>\n",
       "      <td>в разводе</td>\n",
       "    </tr>\n",
       "    <tr>\n",
       "      <td>4</td>\n",
       "      <td>4</td>\n",
       "      <td>не женат / не замужем</td>\n",
       "    </tr>\n",
       "  </tbody>\n",
       "</table>\n",
       "</div>"
      ],
      "text/plain": [
       "   family_status_id          family_status\n",
       "0                 0        женат / замужем\n",
       "1                 1       гражданский брак\n",
       "2                 2         вдовец / вдова\n",
       "3                 3              в разводе\n",
       "4                 4  не женат / не замужем"
      ]
     },
     "metadata": {},
     "output_type": "display_data"
    },
    {
     "data": {
      "image/png": "[encoded data removed]",
      "text/plain": [
       "<Figure size 432x288 with 2 Axes>"
      ]
     },
     "metadata": {
      "needs_background": "light"
     },
     "output_type": "display_data"
    }
   ],
   "source": [
    "analisys('debt', 'family_status_id')\n",
    "\n",
    "print('\\033[4m\\033[1m\\033[31mСловарь индексов семейного положения:')\n",
    "display(family_status_dic)"
   ]
  },
  {
   "cell_type": "markdown",
   "metadata": {},
   "source": [
    "Из данного исследования можно сделать следующие **выводы**:\n",
    "* большая часть заемщиков возвращает кредит вовремя, задолжности по кредиту имело `менее 10%` клиентов\n",
    "* чаще всего кредит берут люди, состоящие в официальном браке\n",
    "* согласно статистике, можно сделать вывод, что `клиенты, имевшие опыт в браке, чаще возвращают кредит вовремя, а у холостяков и незамужних женщин чаще встречаются просрочки`."
   ]
  },
  {
   "cell_type": "markdown",
   "metadata": {},
   "source": [
    "### 3. Есть ли зависимость между уровнем дохода и возвратом кредита в срок?"
   ]
  },
  {
   "cell_type": "markdown",
   "metadata": {},
   "source": [
    "Воспользуемся той же функцией, только теперь для анализа возьмем столбец `debt` и `total_income_category`. Дополнительно выведем пояснения категорий."
   ]
  },
  {
   "cell_type": "code",
   "execution_count": 39,
   "metadata": {},
   "outputs": [
    {
     "data": {
      "text/html": [
       "<div>\n",
       "<style scoped>\n",
       "    .dataframe tbody tr th:only-of-type {\n",
       "        vertical-align: middle;\n",
       "    }\n",
       "\n",
       "    .dataframe tbody tr th {\n",
       "        vertical-align: top;\n",
       "    }\n",
       "\n",
       "    .dataframe thead th {\n",
       "        text-align: right;\n",
       "    }\n",
       "</style>\n",
       "<table border=\"1\" class=\"dataframe\">\n",
       "  <thead>\n",
       "    <tr style=\"text-align: right;\">\n",
       "      <th>total_income_category</th>\n",
       "      <th>A</th>\n",
       "      <th>B</th>\n",
       "      <th>C</th>\n",
       "      <th>D</th>\n",
       "      <th>E</th>\n",
       "    </tr>\n",
       "    <tr>\n",
       "      <th>debt</th>\n",
       "      <th></th>\n",
       "      <th></th>\n",
       "      <th></th>\n",
       "      <th></th>\n",
       "      <th></th>\n",
       "    </tr>\n",
       "  </thead>\n",
       "  <tbody>\n",
       "    <tr>\n",
       "      <td>0</td>\n",
       "      <td>23</td>\n",
       "      <td>4685</td>\n",
       "      <td>14656</td>\n",
       "      <td>329</td>\n",
       "      <td>20</td>\n",
       "    </tr>\n",
       "    <tr>\n",
       "      <td>1</td>\n",
       "      <td>2</td>\n",
       "      <td>356</td>\n",
       "      <td>1360</td>\n",
       "      <td>21</td>\n",
       "      <td>2</td>\n",
       "    </tr>\n",
       "  </tbody>\n",
       "</table>\n",
       "</div>"
      ],
      "text/plain": [
       "total_income_category   A     B      C    D   E\n",
       "debt                                           \n",
       "0                      23  4685  14656  329  20\n",
       "1                       2   356   1360   21   2"
      ]
     },
     "metadata": {},
     "output_type": "display_data"
    },
    {
     "name": "stdout",
     "output_type": "stream",
     "text": [
      "\u001b[4m\u001b[1m\u001b[31mКоэффициенты конверсии равны:\n"
     ]
    },
    {
     "data": {
      "text/html": [
       "<div>\n",
       "<style scoped>\n",
       "    .dataframe tbody tr th:only-of-type {\n",
       "        vertical-align: middle;\n",
       "    }\n",
       "\n",
       "    .dataframe tbody tr th {\n",
       "        vertical-align: top;\n",
       "    }\n",
       "\n",
       "    .dataframe thead th {\n",
       "        text-align: right;\n",
       "    }\n",
       "</style>\n",
       "<table border=\"1\" class=\"dataframe\">\n",
       "  <thead>\n",
       "    <tr style=\"text-align: right;\">\n",
       "      <th>total_income_category</th>\n",
       "      <th>A</th>\n",
       "      <th>B</th>\n",
       "      <th>C</th>\n",
       "      <th>D</th>\n",
       "      <th>E</th>\n",
       "    </tr>\n",
       "    <tr>\n",
       "      <th>debt</th>\n",
       "      <th></th>\n",
       "      <th></th>\n",
       "      <th></th>\n",
       "      <th></th>\n",
       "      <th></th>\n",
       "    </tr>\n",
       "  </thead>\n",
       "  <tbody>\n",
       "    <tr>\n",
       "      <td>0</td>\n",
       "      <td>0.920</td>\n",
       "      <td>0.929</td>\n",
       "      <td>0.915</td>\n",
       "      <td>0.940</td>\n",
       "      <td>0.909</td>\n",
       "    </tr>\n",
       "    <tr>\n",
       "      <td>1</td>\n",
       "      <td>0.080</td>\n",
       "      <td>0.071</td>\n",
       "      <td>0.085</td>\n",
       "      <td>0.060</td>\n",
       "      <td>0.091</td>\n",
       "    </tr>\n",
       "  </tbody>\n",
       "</table>\n",
       "</div>"
      ],
      "text/plain": [
       "total_income_category     A     B     C     D     E\n",
       "debt                                               \n",
       "0                     0.920 0.929 0.915 0.940 0.909\n",
       "1                     0.080 0.071 0.085 0.060 0.091"
      ]
     },
     "metadata": {},
     "output_type": "display_data"
    },
    {
     "name": "stdout",
     "output_type": "stream",
     "text": [
      "\t \u001b[4m\u001b[1m\u001b[31mРасшифровка категорий:\u001b[0m\n",
      "\t \u001b[3m\u001b[1m\u001b[30mA\u001b[0m — 1000001 и выше\n",
      "\t \u001b[3m\u001b[1m\u001b[30mB\u001b[0m — 200001–1000000\n",
      "\t \u001b[3m\u001b[1m\u001b[30mC\u001b[0m — 50001–200000\n",
      "\t \u001b[3m\u001b[1m\u001b[30mD\u001b[0m — 30001–50000\n",
      "\t \u001b[3m\u001b[1m\u001b[30mE\u001b[0m — 0–30000\n",
      "\n"
     ]
    },
    {
     "data": {
      "image/png": "[encoded data removed]",
      "text/plain": [
       "<Figure size 432x288 with 2 Axes>"
      ]
     },
     "metadata": {
      "needs_background": "light"
     },
     "output_type": "display_data"
    }
   ],
   "source": [
    "analisys('debt', 'total_income_category')\n",
    "\n",
    "print('''\\t \\033[4m\\033[1m\\033[31mРасшифровка категорий:\\033[0m\n",
    "\\t \\033[3m\\033[1m\\033[30mA\\033[0m — 1000001 и выше\n",
    "\\t \\033[3m\\033[1m\\033[30mB\\033[0m — 200001–1000000\n",
    "\\t \\033[3m\\033[1m\\033[30mC\\033[0m — 50001–200000\n",
    "\\t \\033[3m\\033[1m\\033[30mD\\033[0m — 30001–50000\n",
    "\\t \\033[3m\\033[1m\\033[30mE\\033[0m — 0–30000\n",
    "''')"
   ]
  },
  {
   "cell_type": "markdown",
   "metadata": {},
   "source": [
    "Из данного исследования можно сделать следующие **выводы**:\n",
    "* большая часть заемщиков возвращает кредит вовремя, задолжности по кредиту имело `менее 10%` клиентов\n",
    "* чаще всего кредит берут люди c доходом выше среднего — 50001–200000\n",
    "* `клиенты, с самым высоким доходом, чаще имеют задолжности по кредиту, чем те, у кого доход самый низкий`. Такой вывод связан с тем, что люди с низким доходом реже берут кредит и на меньшие суммы, нежели те, у кого в декларации о доходах заявлены высокие суммы."
   ]
  },
  {
   "cell_type": "markdown",
   "metadata": {},
   "source": [
    "### 4. Как разные цели кредита влияют на его возврат в срок?"
   ]
  },
  {
   "cell_type": "markdown",
   "metadata": {},
   "source": [
    "Воспользуемся той же функцией, только теперь для анализа возьмем столбец `debt` и `purpose_category`."
   ]
  },
  {
   "cell_type": "code",
   "execution_count": 40,
   "metadata": {},
   "outputs": [
    {
     "data": {
      "text/html": [
       "<div>\n",
       "<style scoped>\n",
       "    .dataframe tbody tr th:only-of-type {\n",
       "        vertical-align: middle;\n",
       "    }\n",
       "\n",
       "    .dataframe tbody tr th {\n",
       "        vertical-align: top;\n",
       "    }\n",
       "\n",
       "    .dataframe thead th {\n",
       "        text-align: right;\n",
       "    }\n",
       "</style>\n",
       "<table border=\"1\" class=\"dataframe\">\n",
       "  <thead>\n",
       "    <tr style=\"text-align: right;\">\n",
       "      <th>purpose_category</th>\n",
       "      <th>автомобиль</th>\n",
       "      <th>бизнесс</th>\n",
       "      <th>жилье</th>\n",
       "      <th>личные цели</th>\n",
       "      <th>образование</th>\n",
       "    </tr>\n",
       "    <tr>\n",
       "      <th>debt</th>\n",
       "      <th></th>\n",
       "      <th></th>\n",
       "      <th></th>\n",
       "      <th></th>\n",
       "      <th></th>\n",
       "    </tr>\n",
       "  </thead>\n",
       "  <tbody>\n",
       "    <tr>\n",
       "      <td>0</td>\n",
       "      <td>3903</td>\n",
       "      <td>1811</td>\n",
       "      <td>8218</td>\n",
       "      <td>2138</td>\n",
       "      <td>3643</td>\n",
       "    </tr>\n",
       "    <tr>\n",
       "      <td>1</td>\n",
       "      <td>403</td>\n",
       "      <td>151</td>\n",
       "      <td>631</td>\n",
       "      <td>186</td>\n",
       "      <td>370</td>\n",
       "    </tr>\n",
       "  </tbody>\n",
       "</table>\n",
       "</div>"
      ],
      "text/plain": [
       "purpose_category  автомобиль  бизнесс  жилье  личные цели  образование\n",
       "debt                                                                  \n",
       "0                       3903     1811   8218         2138         3643\n",
       "1                        403      151    631          186          370"
      ]
     },
     "metadata": {},
     "output_type": "display_data"
    },
    {
     "name": "stdout",
     "output_type": "stream",
     "text": [
      "\u001b[4m\u001b[1m\u001b[31mКоэффициенты конверсии равны:\n"
     ]
    },
    {
     "data": {
      "text/html": [
       "<div>\n",
       "<style scoped>\n",
       "    .dataframe tbody tr th:only-of-type {\n",
       "        vertical-align: middle;\n",
       "    }\n",
       "\n",
       "    .dataframe tbody tr th {\n",
       "        vertical-align: top;\n",
       "    }\n",
       "\n",
       "    .dataframe thead th {\n",
       "        text-align: right;\n",
       "    }\n",
       "</style>\n",
       "<table border=\"1\" class=\"dataframe\">\n",
       "  <thead>\n",
       "    <tr style=\"text-align: right;\">\n",
       "      <th>purpose_category</th>\n",
       "      <th>автомобиль</th>\n",
       "      <th>бизнесс</th>\n",
       "      <th>жилье</th>\n",
       "      <th>личные цели</th>\n",
       "      <th>образование</th>\n",
       "    </tr>\n",
       "    <tr>\n",
       "      <th>debt</th>\n",
       "      <th></th>\n",
       "      <th></th>\n",
       "      <th></th>\n",
       "      <th></th>\n",
       "      <th></th>\n",
       "    </tr>\n",
       "  </thead>\n",
       "  <tbody>\n",
       "    <tr>\n",
       "      <td>0</td>\n",
       "      <td>0.906</td>\n",
       "      <td>0.923</td>\n",
       "      <td>0.929</td>\n",
       "      <td>0.920</td>\n",
       "      <td>0.908</td>\n",
       "    </tr>\n",
       "    <tr>\n",
       "      <td>1</td>\n",
       "      <td>0.094</td>\n",
       "      <td>0.077</td>\n",
       "      <td>0.071</td>\n",
       "      <td>0.080</td>\n",
       "      <td>0.092</td>\n",
       "    </tr>\n",
       "  </tbody>\n",
       "</table>\n",
       "</div>"
      ],
      "text/plain": [
       "purpose_category  автомобиль  бизнесс  жилье  личные цели  образование\n",
       "debt                                                                  \n",
       "0                      0.906    0.923  0.929        0.920        0.908\n",
       "1                      0.094    0.077  0.071        0.080        0.092"
      ]
     },
     "metadata": {},
     "output_type": "display_data"
    },
    {
     "data": {
      "image/png": "[encoded data removed]",
      "text/plain": [
       "<Figure size 432x288 with 2 Axes>"
      ]
     },
     "metadata": {
      "needs_background": "light"
     },
     "output_type": "display_data"
    }
   ],
   "source": [
    "analisys('debt', 'purpose_category')"
   ]
  },
  {
   "cell_type": "markdown",
   "metadata": {},
   "source": [
    "Из данного исследования можно сделать следующие **выводы**:\n",
    "* большая часть заемщиков возвращает кредит вовремя, задолжности по кредиту имело `менее 10%` клиентов\n",
    "* чаще всего кредит берут люди c целью улучшить свои жилищные условия: купить новую квартиру или сделать ремонт в существующей\n",
    "* реже всего целью получения кредита является коммерческая выгода: сдача в аренду помещения, открытие или поддержание бизнеса\n",
    "* согласно статистике, можно сделать вывод, что `клиенты, целью которых является жилье либо бизнес, чаще имеют задолжности по кредиту, чем те, кто берет взаймы у банка для получения образования`. Такой вывод связан с тем, что люди, берущие кредит на образование с большей вероятностью поддерживаются семьей и близкими, готовыми помочь, и подобные связи с банком чаще всего краткосрочные; а кредит на жилье или в коммерческих целях всегда долгосрочный и на большие суммы, что влечет за собой риск оказаться в красной зоне."
   ]
  },
  {
   "cell_type": "markdown",
   "metadata": {},
   "source": [
    "## **Итоги исследования**"
   ]
  },
  {
   "cell_type": "markdown",
   "metadata": {},
   "source": [
    "На основании данных, предоставленных банком, мы проверили четыре гипотезы и установили:\n",
    "\n",
    "---\n",
    "\n",
    "1. **Гипотеза: Количество детей клиента влияет на факт погашения кредита в срок**.\n",
    "\n",
    "Согласно статистике, сделали несколько выводов:\n",
    "\n",
    "* чаще всего кредит берут люди **без детей**,\n",
    "* в семьях **с одним ребенком и с двумя детьми** задолжности по кредиту встречаются реже, а **с 3 и 4 детьми** чаще всего,\n",
    "* в семьях **без детей** процент погашения кредита без задолжности средний по сравнению с другими \n",
    "\n",
    "Таким образом, ***первая гипотеза подтвердилась частично***, так как прямой зависимости между количеством детей и возвратом кредита в срок не наблюдается, однако есть некоторые закономерности в семьях с несколькими детьми. Для более детального анализа необходимо рассматривать смежные факторы: доход, возраст, цели.\n",
    "\n",
    "---\n",
    "\n",
    "2. **Гипотеза: Семейное положение клиента влияет на факт погашения кредита в срок.**\n",
    "\n",
    "По полученным данным сделали несколько важных выводов:\n",
    "\n",
    "* чаще всего кредит берут люди, состоящие в **официальном браке**,\n",
    "* клиенты, имевшие **опыт в браке**, чаще возвращают кредит вовремя,\n",
    "* у **холостяков** и **незамужних женщин** чаще встречаются просрочки.\n",
    "\n",
    "***Вторая гипотеза подтвердилась***\n",
    "\n",
    "---\n",
    "\n",
    "3. **Гипотеза: Люди с меньшим уровнем доходом чаще всего имеют задолжности по кредиту.**\n",
    "\n",
    "Как мы выяснили:\n",
    "\n",
    "* чаще всего кредит берут люди **c доходом выше среднего — 50001–200000**, а **с низким доходом** практически нет,\n",
    "* клиенты, **с самым высоким доходом**, чаще имеют задолжности по кредиту, чем те, у кого **доход самый низкий**. \n",
    "\n",
    "Такой вывод связан с тем, что люди с низким доходом реже берут кредит и на меньшие суммы, нежели те, у кого в декларации о доходах заявлены высокие суммы.\n",
    "\n",
    "***Третья гипотеза не подтвердилась***\n",
    "\n",
    "---\n",
    "\n",
    "4. **Гипотеза: Люди обращаются в банк с целью приобрести квартиру чаще, чем на другие нужды.**\n",
    "\n",
    "* чаще всего кредит берут люди c целью улучшить свои **жилищные условия**: купить новую квартиру или сделать ремонт в существующей,\n",
    "* реже всего целью получения кредита является **коммерческая выгода**: сдача в аренду помещения, открытие или поддержание бизнеса,\n",
    "* клиенты, целью которых является **жилье** либо **бизнес**, чаще имеют задолжности по кредиту, чем те, кто берет взаймы у банка для получения **образования**. \n",
    "\n",
    "Такой вывод связан с тем, что люди, берущие кредит на образование с большей вероятностью поддерживаются семьей и близкими, готовыми помочь, и подобные связи с банком чаще всего краткосрочные; а кредит на жилье или в коммерческих целях всегда долгосрочный и на большие суммы, что влечет за собой риск оказаться в красной зоне.\n",
    "\n",
    "***Четвертая гипотеза подтвердилась***\n",
    "\n",
    "---\n",
    "\n",
    "Помимо этого в ходе исследования было выполнено:\n",
    "* созданы категории данных, что облегчает процесс изучения и хранения информации, уменьшает занимаемое место и тратит меньше ресурсов на обработку,\n",
    "* убраны дубликаты и пропуски в данных на основании принятых решений. \n",
    "\n",
    "Дополнительные рекомендации:\n",
    "* рекомендуется пользоваться предзаполненными списками, чтобы клиент либо сотрудник выбирал значения из предлагаемых, а не вписывал вручную,\n",
    "* рекомендуется подгружать пропущенную информацию из дополнительных источников, получаемых при составлени анкеты клиента и внесении его в базу данных, таких как: возраст из паспортных данных, сведения о ежемесячных поступлениях на основании декларации о доходах. Это позволит использовать максимально достоверную информацию, содержащую ключевые данные, необходимые для принятия решения при выдаче кредита,\n",
    "* рекомендуется связаться с поставщиком исходных данных или с IT специалистами банка, чтобы уточнить способы заполнения данных полей при внесении информации о клиенте и настройки выгрузки. Правильно настроенная выгрузка исходных данных позволит сэкономить человеко-часы при их анализе и улучшит его качество."
   ]
  }
 ],
 "metadata": {
  "ExecuteTimeLog": [
   {
    "duration": 525,
    "start_time": "2022-02-03T12:51:37.293Z"
   },
   {
    "duration": 441,
    "start_time": "2022-02-03T12:52:38.232Z"
   },
   {
    "duration": 194,
    "start_time": "2022-02-03T12:54:47.270Z"
   },
   {
    "duration": 151,
    "start_time": "2022-02-03T12:54:52.722Z"
   },
   {
    "duration": 136,
    "start_time": "2022-02-03T12:54:54.952Z"
   },
   {
    "duration": 1326,
    "start_time": "2022-02-03T12:54:59.011Z"
   },
   {
    "duration": 200,
    "start_time": "2022-02-03T12:55:04.279Z"
   },
   {
    "duration": 189,
    "start_time": "2022-02-03T12:55:12.138Z"
   },
   {
    "duration": 171,
    "start_time": "2022-02-03T12:57:55.172Z"
   },
   {
    "duration": 41,
    "start_time": "2022-02-03T13:05:38.011Z"
   },
   {
    "duration": 58,
    "start_time": "2022-02-03T13:19:50.020Z"
   },
   {
    "duration": 1191,
    "start_time": "2022-02-03T13:24:35.765Z"
   },
   {
    "duration": 1057,
    "start_time": "2022-02-03T13:24:47.007Z"
   },
   {
    "duration": 900,
    "start_time": "2022-02-03T13:25:24.951Z"
   },
   {
    "duration": 1217,
    "start_time": "2022-02-03T13:25:32.197Z"
   },
   {
    "duration": 991,
    "start_time": "2022-02-03T13:25:46.005Z"
   },
   {
    "duration": 1074,
    "start_time": "2022-02-03T13:26:08.960Z"
   },
   {
    "duration": 886,
    "start_time": "2022-02-03T13:26:37.150Z"
   },
   {
    "duration": 133,
    "start_time": "2022-02-03T13:27:00.027Z"
   },
   {
    "duration": 277,
    "start_time": "2022-02-03T13:27:42.857Z"
   },
   {
    "duration": 125,
    "start_time": "2022-02-03T13:28:22.518Z"
   },
   {
    "duration": 13,
    "start_time": "2022-02-03T13:28:44.922Z"
   },
   {
    "duration": 12,
    "start_time": "2022-02-03T13:29:16.111Z"
   },
   {
    "duration": 12,
    "start_time": "2022-02-03T13:29:30.739Z"
   },
   {
    "duration": 11,
    "start_time": "2022-02-03T13:30:18.839Z"
   },
   {
    "duration": 11,
    "start_time": "2022-02-03T13:43:37.593Z"
   },
   {
    "duration": 46,
    "start_time": "2022-02-03T13:53:18.905Z"
   },
   {
    "duration": 160,
    "start_time": "2022-02-03T13:53:51.741Z"
   },
   {
    "duration": 5,
    "start_time": "2022-02-03T13:54:05.865Z"
   },
   {
    "duration": 4,
    "start_time": "2022-02-03T13:54:28.811Z"
   },
   {
    "duration": 155,
    "start_time": "2022-02-03T13:54:42.439Z"
   },
   {
    "duration": 4,
    "start_time": "2022-02-03T13:54:49.799Z"
   },
   {
    "duration": 126,
    "start_time": "2022-02-03T13:55:37.467Z"
   },
   {
    "duration": 129,
    "start_time": "2022-02-03T13:55:43.369Z"
   },
   {
    "duration": 4,
    "start_time": "2022-02-03T13:55:48.728Z"
   },
   {
    "duration": 10,
    "start_time": "2022-02-03T13:56:18.054Z"
   },
   {
    "duration": 11,
    "start_time": "2022-02-03T13:56:20.237Z"
   },
   {
    "duration": 16,
    "start_time": "2022-02-03T13:56:31.459Z"
   },
   {
    "duration": 26,
    "start_time": "2022-02-03T13:56:42.317Z"
   },
   {
    "duration": 14,
    "start_time": "2022-02-03T13:56:48.890Z"
   },
   {
    "duration": 131,
    "start_time": "2022-02-03T13:59:47.425Z"
   },
   {
    "duration": 151,
    "start_time": "2022-02-03T14:00:08.231Z"
   },
   {
    "duration": 156,
    "start_time": "2022-02-03T14:02:16.621Z"
   },
   {
    "duration": 69,
    "start_time": "2022-02-03T14:03:11.947Z"
   },
   {
    "duration": 51,
    "start_time": "2022-02-03T14:03:31.195Z"
   },
   {
    "duration": 9,
    "start_time": "2022-02-03T14:04:52.728Z"
   },
   {
    "duration": 11,
    "start_time": "2022-02-03T14:07:15.894Z"
   },
   {
    "duration": 198,
    "start_time": "2022-02-03T14:07:43.329Z"
   },
   {
    "duration": 164,
    "start_time": "2022-02-03T14:08:39.083Z"
   },
   {
    "duration": 12,
    "start_time": "2022-02-03T14:08:50.636Z"
   },
   {
    "duration": 143,
    "start_time": "2022-02-03T14:10:06.956Z"
   },
   {
    "duration": 10,
    "start_time": "2022-02-03T14:10:14.582Z"
   },
   {
    "duration": 10,
    "start_time": "2022-02-03T14:12:15.683Z"
   },
   {
    "duration": 150,
    "start_time": "2022-02-03T14:12:33.630Z"
   },
   {
    "duration": 10,
    "start_time": "2022-02-03T14:12:38.800Z"
   },
   {
    "duration": 11,
    "start_time": "2022-02-03T14:16:19.696Z"
   },
   {
    "duration": 45,
    "start_time": "2022-02-03T14:16:30.397Z"
   },
   {
    "duration": 11,
    "start_time": "2022-02-03T14:16:38.576Z"
   },
   {
    "duration": 11,
    "start_time": "2022-02-03T14:18:13.076Z"
   },
   {
    "duration": 10,
    "start_time": "2022-02-03T14:18:20.690Z"
   },
   {
    "duration": 17,
    "start_time": "2022-02-03T14:18:36.201Z"
   },
   {
    "duration": 9,
    "start_time": "2022-02-03T14:18:45.615Z"
   },
   {
    "duration": 5,
    "start_time": "2022-02-03T14:19:23.685Z"
   },
   {
    "duration": 24,
    "start_time": "2022-02-03T14:19:28.671Z"
   },
   {
    "duration": 16,
    "start_time": "2022-02-03T14:20:33.529Z"
   },
   {
    "duration": 10,
    "start_time": "2022-02-03T14:20:46.404Z"
   },
   {
    "duration": 10,
    "start_time": "2022-02-03T14:21:00.998Z"
   },
   {
    "duration": 11,
    "start_time": "2022-02-03T14:21:55.719Z"
   },
   {
    "duration": 11,
    "start_time": "2022-02-03T14:22:29.008Z"
   },
   {
    "duration": 9,
    "start_time": "2022-02-03T14:22:49.841Z"
   },
   {
    "duration": 10,
    "start_time": "2022-02-03T14:28:10.412Z"
   },
   {
    "duration": 11,
    "start_time": "2022-02-03T14:28:43.434Z"
   },
   {
    "duration": 11,
    "start_time": "2022-02-03T14:30:53.886Z"
   },
   {
    "duration": 11,
    "start_time": "2022-02-03T14:31:43.208Z"
   },
   {
    "duration": 81,
    "start_time": "2022-02-03T14:31:58.539Z"
   },
   {
    "duration": 10,
    "start_time": "2022-02-03T14:32:07.608Z"
   },
   {
    "duration": 9,
    "start_time": "2022-02-03T14:33:43.219Z"
   },
   {
    "duration": 10,
    "start_time": "2022-02-03T14:34:09.898Z"
   },
   {
    "duration": 10,
    "start_time": "2022-02-03T14:34:14.022Z"
   },
   {
    "duration": 9,
    "start_time": "2022-02-03T14:34:29.009Z"
   },
   {
    "duration": 12,
    "start_time": "2022-02-03T14:34:40.189Z"
   },
   {
    "duration": 10,
    "start_time": "2022-02-03T14:35:06.619Z"
   },
   {
    "duration": 12,
    "start_time": "2022-02-03T14:35:17.747Z"
   },
   {
    "duration": 10,
    "start_time": "2022-02-03T14:35:23.587Z"
   },
   {
    "duration": 10,
    "start_time": "2022-02-03T14:35:33.378Z"
   },
   {
    "duration": 10,
    "start_time": "2022-02-03T14:35:36.188Z"
   },
   {
    "duration": 9,
    "start_time": "2022-02-03T14:35:40.851Z"
   },
   {
    "duration": 9,
    "start_time": "2022-02-03T14:35:44.620Z"
   },
   {
    "duration": 11,
    "start_time": "2022-02-03T14:35:48.328Z"
   },
   {
    "duration": 10,
    "start_time": "2022-02-03T14:35:53.752Z"
   },
   {
    "duration": 10,
    "start_time": "2022-02-03T14:36:02.216Z"
   },
   {
    "duration": 55,
    "start_time": "2022-02-03T14:37:43.082Z"
   },
   {
    "duration": 9,
    "start_time": "2022-02-03T14:37:47.064Z"
   },
   {
    "duration": 10,
    "start_time": "2022-02-03T14:39:27.290Z"
   },
   {
    "duration": 10,
    "start_time": "2022-02-03T14:39:41.149Z"
   },
   {
    "duration": 12,
    "start_time": "2022-02-03T14:40:05.960Z"
   },
   {
    "duration": 10,
    "start_time": "2022-02-03T14:41:28.457Z"
   },
   {
    "duration": 129,
    "start_time": "2022-02-03T14:44:02.389Z"
   },
   {
    "duration": 10,
    "start_time": "2022-02-03T14:46:07.337Z"
   },
   {
    "duration": 56,
    "start_time": "2022-02-03T14:48:08.982Z"
   },
   {
    "duration": 65,
    "start_time": "2022-02-03T14:49:25.560Z"
   },
   {
    "duration": 47,
    "start_time": "2022-02-03T14:49:32.359Z"
   },
   {
    "duration": 44,
    "start_time": "2022-02-03T14:49:42.900Z"
   },
   {
    "duration": 81,
    "start_time": "2022-02-03T14:49:50.433Z"
   },
   {
    "duration": 101,
    "start_time": "2022-02-03T14:50:37.695Z"
   },
   {
    "duration": 8,
    "start_time": "2022-02-03T14:51:04.677Z"
   },
   {
    "duration": 144,
    "start_time": "2022-02-03T14:51:30.132Z"
   },
   {
    "duration": 4214,
    "start_time": "2022-02-03T14:51:34.601Z"
   },
   {
    "duration": 44,
    "start_time": "2022-02-03T15:20:31.492Z"
   },
   {
    "duration": 46,
    "start_time": "2022-02-03T15:21:08.228Z"
   },
   {
    "duration": 44,
    "start_time": "2022-02-03T15:21:17.351Z"
   },
   {
    "duration": 44,
    "start_time": "2022-02-03T15:21:19.912Z"
   },
   {
    "duration": 45,
    "start_time": "2022-02-03T15:21:53.674Z"
   },
   {
    "duration": 58,
    "start_time": "2022-02-03T15:22:05.447Z"
   },
   {
    "duration": 41,
    "start_time": "2022-02-03T15:23:02.486Z"
   },
   {
    "duration": 47,
    "start_time": "2022-02-03T15:24:12.257Z"
   },
   {
    "duration": 49,
    "start_time": "2022-02-03T15:24:21.575Z"
   },
   {
    "duration": 48,
    "start_time": "2022-02-03T15:24:29.642Z"
   },
   {
    "duration": 3,
    "start_time": "2022-02-03T15:25:13.128Z"
   },
   {
    "duration": 50,
    "start_time": "2022-02-03T15:25:25.601Z"
   },
   {
    "duration": 4,
    "start_time": "2022-02-03T15:25:59.884Z"
   },
   {
    "duration": 4,
    "start_time": "2022-02-03T15:27:34.833Z"
   },
   {
    "duration": 4,
    "start_time": "2022-02-03T15:27:53.206Z"
   },
   {
    "duration": 3,
    "start_time": "2022-02-03T15:27:56.796Z"
   },
   {
    "duration": 331,
    "start_time": "2022-02-03T15:28:32.522Z"
   },
   {
    "duration": 3,
    "start_time": "2022-02-03T15:30:58.927Z"
   },
   {
    "duration": 3,
    "start_time": "2022-02-03T15:31:00.265Z"
   },
   {
    "duration": 3,
    "start_time": "2022-02-03T15:31:08.889Z"
   },
   {
    "duration": 3,
    "start_time": "2022-02-03T15:31:13.084Z"
   },
   {
    "duration": 3,
    "start_time": "2022-02-03T15:31:56.991Z"
   },
   {
    "duration": 3,
    "start_time": "2022-02-03T15:31:57.487Z"
   },
   {
    "duration": 44,
    "start_time": "2022-02-03T15:39:26.576Z"
   },
   {
    "duration": 3,
    "start_time": "2022-02-03T15:42:26.898Z"
   },
   {
    "duration": 4,
    "start_time": "2022-02-03T15:42:28.485Z"
   },
   {
    "duration": 3,
    "start_time": "2022-02-03T15:43:05.737Z"
   },
   {
    "duration": 3,
    "start_time": "2022-02-03T15:44:05.327Z"
   },
   {
    "duration": 144,
    "start_time": "2022-02-03T15:46:30.786Z"
   },
   {
    "duration": 3,
    "start_time": "2022-02-03T15:46:36.854Z"
   },
   {
    "duration": 18,
    "start_time": "2022-02-03T15:46:37.697Z"
   },
   {
    "duration": 22,
    "start_time": "2022-02-03T15:46:43.006Z"
   },
   {
    "duration": 27,
    "start_time": "2022-02-03T15:47:03.135Z"
   },
   {
    "duration": 3,
    "start_time": "2022-02-03T15:47:45.851Z"
   },
   {
    "duration": 26,
    "start_time": "2022-02-03T15:47:48.105Z"
   },
   {
    "duration": 3,
    "start_time": "2022-02-03T15:49:30.969Z"
   },
   {
    "duration": 32,
    "start_time": "2022-02-03T15:49:31.851Z"
   },
   {
    "duration": 25,
    "start_time": "2022-02-03T15:50:34.682Z"
   },
   {
    "duration": 27,
    "start_time": "2022-02-03T15:51:07.233Z"
   },
   {
    "duration": 36,
    "start_time": "2022-02-03T15:52:59.989Z"
   },
   {
    "duration": 14,
    "start_time": "2022-02-03T15:53:06.162Z"
   },
   {
    "duration": 22,
    "start_time": "2022-02-03T15:53:13.681Z"
   },
   {
    "duration": 14,
    "start_time": "2022-02-03T15:53:21.137Z"
   },
   {
    "duration": 49,
    "start_time": "2022-02-03T15:57:31.507Z"
   },
   {
    "duration": 4,
    "start_time": "2022-02-03T16:02:26.345Z"
   },
   {
    "duration": 5,
    "start_time": "2022-02-03T16:02:31.502Z"
   },
   {
    "duration": 5,
    "start_time": "2022-02-03T16:02:35.512Z"
   },
   {
    "duration": 5,
    "start_time": "2022-02-03T16:02:47.740Z"
   },
   {
    "duration": 4,
    "start_time": "2022-02-03T16:02:53.851Z"
   },
   {
    "duration": 53,
    "start_time": "2022-02-03T16:02:56.674Z"
   },
   {
    "duration": 6,
    "start_time": "2022-02-03T16:02:58.456Z"
   },
   {
    "duration": 5,
    "start_time": "2022-02-03T16:03:10.416Z"
   },
   {
    "duration": 6,
    "start_time": "2022-02-03T16:04:16.430Z"
   },
   {
    "duration": 9,
    "start_time": "2022-02-03T16:06:49.405Z"
   },
   {
    "duration": 53,
    "start_time": "2022-02-03T16:07:56.515Z"
   },
   {
    "duration": 46,
    "start_time": "2022-02-03T16:08:01.016Z"
   },
   {
    "duration": 7,
    "start_time": "2022-02-03T16:08:07.889Z"
   },
   {
    "duration": 9,
    "start_time": "2022-02-03T16:08:57.233Z"
   },
   {
    "duration": 1780,
    "start_time": "2022-02-03T16:10:47.123Z"
   },
   {
    "duration": 1046,
    "start_time": "2022-02-03T16:11:42.700Z"
   },
   {
    "duration": 6,
    "start_time": "2022-02-03T16:11:50.814Z"
   },
   {
    "duration": 137,
    "start_time": "2022-02-03T16:12:30.758Z"
   },
   {
    "duration": 134,
    "start_time": "2022-02-03T16:12:35.466Z"
   },
   {
    "duration": 60,
    "start_time": "2022-02-03T16:12:46.186Z"
   },
   {
    "duration": 5,
    "start_time": "2022-02-03T16:16:15.044Z"
   },
   {
    "duration": 554,
    "start_time": "2022-02-03T16:27:46.818Z"
   },
   {
    "duration": 160,
    "start_time": "2022-02-03T16:34:24.065Z"
   },
   {
    "duration": 894,
    "start_time": "2022-02-03T16:34:24.297Z"
   },
   {
    "duration": 17,
    "start_time": "2022-02-03T16:34:25.193Z"
   },
   {
    "duration": 14,
    "start_time": "2022-02-03T16:34:25.212Z"
   },
   {
    "duration": 7,
    "start_time": "2022-02-03T16:34:25.228Z"
   },
   {
    "duration": 26,
    "start_time": "2022-02-03T16:34:25.237Z"
   },
   {
    "duration": 119,
    "start_time": "2022-02-03T16:34:25.265Z"
   },
   {
    "duration": 3,
    "start_time": "2022-02-03T16:34:25.386Z"
   },
   {
    "duration": 7,
    "start_time": "2022-02-03T16:34:25.391Z"
   },
   {
    "duration": 29,
    "start_time": "2022-02-03T16:34:25.400Z"
   },
   {
    "duration": 576,
    "start_time": "2022-02-03T16:34:40.930Z"
   },
   {
    "duration": 2,
    "start_time": "2022-02-03T16:34:57.941Z"
   },
   {
    "duration": 149,
    "start_time": "2022-02-03T16:35:11.037Z"
   },
   {
    "duration": 399,
    "start_time": "2022-02-03T16:36:15.289Z"
   },
   {
    "duration": 3,
    "start_time": "2022-02-03T16:36:52.621Z"
   },
   {
    "duration": 3,
    "start_time": "2022-02-03T16:36:56.028Z"
   },
   {
    "duration": 3,
    "start_time": "2022-02-03T16:37:25.624Z"
   },
   {
    "duration": 537,
    "start_time": "2022-02-03T16:37:28.475Z"
   },
   {
    "duration": 42,
    "start_time": "2022-02-03T16:37:51.333Z"
   },
   {
    "duration": 49,
    "start_time": "2022-02-03T16:37:56.072Z"
   },
   {
    "duration": 5259,
    "start_time": "2022-02-03T16:37:56.668Z"
   },
   {
    "duration": 58,
    "start_time": "2022-02-03T16:39:11.169Z"
   },
   {
    "duration": 678,
    "start_time": "2022-02-03T16:39:12.619Z"
   },
   {
    "duration": 7,
    "start_time": "2022-02-03T16:40:44.209Z"
   },
   {
    "duration": 3,
    "start_time": "2022-02-03T16:42:41.042Z"
   },
   {
    "duration": 527,
    "start_time": "2022-02-03T16:42:42.753Z"
   },
   {
    "duration": 55,
    "start_time": "2022-02-03T16:43:08.977Z"
   },
   {
    "duration": 545,
    "start_time": "2022-02-03T16:43:10.073Z"
   },
   {
    "duration": 443,
    "start_time": "2022-02-03T16:45:24.129Z"
   },
   {
    "duration": 447,
    "start_time": "2022-02-03T16:46:44.124Z"
   },
   {
    "duration": 454,
    "start_time": "2022-02-03T16:47:50.484Z"
   },
   {
    "duration": 453,
    "start_time": "2022-02-03T16:48:02.656Z"
   },
   {
    "duration": 483,
    "start_time": "2022-02-03T16:48:20.796Z"
   },
   {
    "duration": 1832,
    "start_time": "2022-02-03T16:49:09.255Z"
   },
   {
    "duration": 726,
    "start_time": "2022-02-03T16:51:49.895Z"
   },
   {
    "duration": 18,
    "start_time": "2022-02-03T16:51:50.624Z"
   },
   {
    "duration": 10,
    "start_time": "2022-02-03T16:51:50.647Z"
   },
   {
    "duration": 14,
    "start_time": "2022-02-03T16:51:50.659Z"
   },
   {
    "duration": 545,
    "start_time": "2022-02-03T16:51:50.674Z"
   },
   {
    "duration": 11,
    "start_time": "2022-02-03T16:53:07.976Z"
   },
   {
    "duration": 117,
    "start_time": "2022-02-03T16:53:07.988Z"
   },
   {
    "duration": 3,
    "start_time": "2022-02-03T16:53:08.107Z"
   },
   {
    "duration": 9,
    "start_time": "2022-02-03T16:53:08.111Z"
   },
   {
    "duration": 29,
    "start_time": "2022-02-03T16:53:08.121Z"
   },
   {
    "duration": 2,
    "start_time": "2022-02-03T16:53:08.161Z"
   },
   {
    "duration": 719,
    "start_time": "2022-02-03T16:53:35.685Z"
   },
   {
    "duration": 17,
    "start_time": "2022-02-03T16:53:36.608Z"
   },
   {
    "duration": 11,
    "start_time": "2022-02-03T16:53:38.782Z"
   },
   {
    "duration": 8,
    "start_time": "2022-02-03T16:53:41.498Z"
   },
   {
    "duration": 558,
    "start_time": "2022-02-03T16:53:42.823Z"
   },
   {
    "duration": 13917,
    "start_time": "2022-02-03T16:53:43.787Z"
   },
   {
    "duration": 697,
    "start_time": "2022-02-03T16:54:23.137Z"
   },
   {
    "duration": 17,
    "start_time": "2022-02-03T16:54:23.836Z"
   },
   {
    "duration": 10,
    "start_time": "2022-02-03T16:54:23.857Z"
   },
   {
    "duration": 6,
    "start_time": "2022-02-03T16:54:23.869Z"
   },
   {
    "duration": 13,
    "start_time": "2022-02-03T16:54:23.877Z"
   },
   {
    "duration": 127,
    "start_time": "2022-02-03T16:54:23.892Z"
   },
   {
    "duration": 3,
    "start_time": "2022-02-03T16:54:24.021Z"
   },
   {
    "duration": 4,
    "start_time": "2022-02-03T16:54:24.026Z"
   },
   {
    "duration": 38,
    "start_time": "2022-02-03T16:54:24.032Z"
   },
   {
    "duration": 204,
    "start_time": "2022-02-03T17:00:18.308Z"
   },
   {
    "duration": 15,
    "start_time": "2022-02-03T17:00:30.381Z"
   },
   {
    "duration": 136,
    "start_time": "2022-02-03T17:01:10.362Z"
   },
   {
    "duration": 137,
    "start_time": "2022-02-03T17:02:35.741Z"
   },
   {
    "duration": 3,
    "start_time": "2022-02-03T17:02:50.603Z"
   },
   {
    "duration": 194,
    "start_time": "2022-02-03T17:04:19.313Z"
   },
   {
    "duration": 5,
    "start_time": "2022-02-03T17:06:40.012Z"
   },
   {
    "duration": 46,
    "start_time": "2022-02-03T17:09:33.236Z"
   },
   {
    "duration": 110,
    "start_time": "2022-02-03T17:09:37.403Z"
   },
   {
    "duration": 15,
    "start_time": "2022-02-03T17:09:53.076Z"
   },
   {
    "duration": 72,
    "start_time": "2022-02-03T17:10:21.552Z"
   },
   {
    "duration": 3,
    "start_time": "2022-02-03T17:10:26.268Z"
   },
   {
    "duration": 4,
    "start_time": "2022-02-03T17:10:31.580Z"
   },
   {
    "duration": 25,
    "start_time": "2022-02-03T17:11:24.932Z"
   },
   {
    "duration": 4,
    "start_time": "2022-02-03T17:11:25.871Z"
   },
   {
    "duration": 203,
    "start_time": "2022-02-03T17:11:37.900Z"
   },
   {
    "duration": 4,
    "start_time": "2022-02-03T17:11:48.152Z"
   },
   {
    "duration": 23,
    "start_time": "2022-02-03T17:12:18.098Z"
   },
   {
    "duration": 3,
    "start_time": "2022-02-03T17:12:18.524Z"
   },
   {
    "duration": 22,
    "start_time": "2022-02-03T17:13:38.313Z"
   },
   {
    "duration": 4,
    "start_time": "2022-02-03T17:13:38.729Z"
   },
   {
    "duration": 23,
    "start_time": "2022-02-03T17:13:59.265Z"
   },
   {
    "duration": 3,
    "start_time": "2022-02-03T17:13:59.977Z"
   },
   {
    "duration": 23,
    "start_time": "2022-02-03T17:14:25.135Z"
   },
   {
    "duration": 4,
    "start_time": "2022-02-03T17:14:26.057Z"
   },
   {
    "duration": 10,
    "start_time": "2022-02-03T17:14:34.818Z"
   },
   {
    "duration": 41,
    "start_time": "2022-02-03T17:15:42.636Z"
   },
   {
    "duration": 22,
    "start_time": "2022-02-03T17:15:56.638Z"
   },
   {
    "duration": 10,
    "start_time": "2022-02-03T17:18:58.482Z"
   },
   {
    "duration": 6,
    "start_time": "2022-02-03T17:19:28.305Z"
   },
   {
    "duration": 5,
    "start_time": "2022-02-03T17:19:36.132Z"
   },
   {
    "duration": 4,
    "start_time": "2022-02-03T17:20:05.920Z"
   },
   {
    "duration": 4,
    "start_time": "2022-02-03T17:20:13.537Z"
   },
   {
    "duration": 4,
    "start_time": "2022-02-03T17:20:17.153Z"
   },
   {
    "duration": 21,
    "start_time": "2022-02-03T17:22:09.855Z"
   },
   {
    "duration": 15,
    "start_time": "2022-02-03T17:22:31.184Z"
   },
   {
    "duration": 14,
    "start_time": "2022-02-03T17:23:00.760Z"
   },
   {
    "duration": 31,
    "start_time": "2022-02-03T17:23:52.483Z"
   },
   {
    "duration": 10,
    "start_time": "2022-02-03T17:26:50.151Z"
   },
   {
    "duration": 10,
    "start_time": "2022-02-03T17:26:59.099Z"
   },
   {
    "duration": 13,
    "start_time": "2022-02-03T17:27:05.938Z"
   },
   {
    "duration": 51,
    "start_time": "2022-02-03T17:27:40.888Z"
   },
   {
    "duration": 62,
    "start_time": "2022-02-03T17:28:36.161Z"
   },
   {
    "duration": 44,
    "start_time": "2022-02-03T17:29:19.700Z"
   },
   {
    "duration": 53,
    "start_time": "2022-02-03T17:29:24.820Z"
   },
   {
    "duration": 12,
    "start_time": "2022-02-03T17:30:13.859Z"
   },
   {
    "duration": 11,
    "start_time": "2022-02-03T17:30:33.349Z"
   },
   {
    "duration": 48,
    "start_time": "2022-02-03T17:31:18.339Z"
   },
   {
    "duration": 10,
    "start_time": "2022-02-03T17:31:23.121Z"
   },
   {
    "duration": 367,
    "start_time": "2022-02-03T17:32:33.798Z"
   },
   {
    "duration": 1157,
    "start_time": "2022-02-03T17:32:52.442Z"
   },
   {
    "duration": 354,
    "start_time": "2022-02-03T17:32:58.977Z"
   },
   {
    "duration": 338,
    "start_time": "2022-02-03T17:33:21.426Z"
   },
   {
    "duration": 11,
    "start_time": "2022-02-03T17:33:33.924Z"
   },
   {
    "duration": 46,
    "start_time": "2022-02-03T17:51:24.928Z"
   },
   {
    "duration": 50,
    "start_time": "2022-02-03T17:51:44.158Z"
   },
   {
    "duration": 48,
    "start_time": "2022-02-03T17:52:15.270Z"
   },
   {
    "duration": 14,
    "start_time": "2022-02-03T17:54:54.447Z"
   },
   {
    "duration": 22,
    "start_time": "2022-02-03T17:55:48.537Z"
   },
   {
    "duration": 23,
    "start_time": "2022-02-03T17:56:08.204Z"
   },
   {
    "duration": 12,
    "start_time": "2022-02-03T17:56:37.455Z"
   },
   {
    "duration": 125,
    "start_time": "2022-02-03T17:57:15.977Z"
   },
   {
    "duration": 5,
    "start_time": "2022-02-03T17:57:18.793Z"
   },
   {
    "duration": 10,
    "start_time": "2022-02-03T17:57:25.570Z"
   },
   {
    "duration": 12,
    "start_time": "2022-02-03T18:04:41.276Z"
   },
   {
    "duration": 22,
    "start_time": "2022-02-03T18:05:30.850Z"
   },
   {
    "duration": 22,
    "start_time": "2022-02-03T18:05:41.339Z"
   },
   {
    "duration": 20,
    "start_time": "2022-02-03T18:05:51.631Z"
   },
   {
    "duration": 40,
    "start_time": "2022-02-03T18:06:16.164Z"
   },
   {
    "duration": 22,
    "start_time": "2022-02-03T18:06:24.962Z"
   },
   {
    "duration": 23,
    "start_time": "2022-02-03T18:08:03.020Z"
   },
   {
    "duration": 22,
    "start_time": "2022-02-03T18:08:06.827Z"
   },
   {
    "duration": 23,
    "start_time": "2022-02-03T18:08:16.902Z"
   },
   {
    "duration": 23,
    "start_time": "2022-02-03T18:08:36.277Z"
   },
   {
    "duration": 28,
    "start_time": "2022-02-03T18:08:44.625Z"
   },
   {
    "duration": 28,
    "start_time": "2022-02-03T18:08:52.632Z"
   },
   {
    "duration": 30,
    "start_time": "2022-02-03T18:09:19.007Z"
   },
   {
    "duration": 33,
    "start_time": "2022-02-03T18:20:48.819Z"
   },
   {
    "duration": 17,
    "start_time": "2022-02-03T18:24:20.160Z"
   },
   {
    "duration": 9,
    "start_time": "2022-02-03T18:24:39.323Z"
   },
   {
    "duration": 21,
    "start_time": "2022-02-03T18:25:01.622Z"
   },
   {
    "duration": 8,
    "start_time": "2022-02-03T18:27:38.416Z"
   },
   {
    "duration": 11,
    "start_time": "2022-02-03T18:27:48.246Z"
   },
   {
    "duration": 21,
    "start_time": "2022-02-03T18:28:04.974Z"
   },
   {
    "duration": 31,
    "start_time": "2022-02-03T18:28:20.573Z"
   },
   {
    "duration": 27,
    "start_time": "2022-02-03T18:28:34.533Z"
   },
   {
    "duration": 28,
    "start_time": "2022-02-03T18:28:47.865Z"
   },
   {
    "duration": 11,
    "start_time": "2022-02-03T18:28:58.499Z"
   },
   {
    "duration": 135,
    "start_time": "2022-02-03T18:36:46.594Z"
   },
   {
    "duration": 34,
    "start_time": "2022-02-03T18:36:55.158Z"
   },
   {
    "duration": 45,
    "start_time": "2022-02-03T18:37:05.580Z"
   },
   {
    "duration": 39,
    "start_time": "2022-02-03T18:37:53.383Z"
   },
   {
    "duration": 33,
    "start_time": "2022-02-03T18:40:05.890Z"
   },
   {
    "duration": 33,
    "start_time": "2022-02-03T18:40:29.013Z"
   },
   {
    "duration": 27,
    "start_time": "2022-02-03T18:45:36.143Z"
   },
   {
    "duration": 38,
    "start_time": "2022-02-03T18:50:02.570Z"
   },
   {
    "duration": 121,
    "start_time": "2022-02-03T18:54:37.679Z"
   },
   {
    "duration": 150,
    "start_time": "2022-02-03T18:54:47.817Z"
   },
   {
    "duration": 10,
    "start_time": "2022-02-03T18:55:26.552Z"
   },
   {
    "duration": 148,
    "start_time": "2022-02-03T18:55:58.552Z"
   },
   {
    "duration": 10,
    "start_time": "2022-02-03T18:56:03.619Z"
   },
   {
    "duration": 3269,
    "start_time": "2022-02-03T18:56:23.125Z"
   },
   {
    "duration": 11,
    "start_time": "2022-02-03T18:56:28.771Z"
   },
   {
    "duration": 2255,
    "start_time": "2022-02-03T18:56:42.925Z"
   },
   {
    "duration": 9,
    "start_time": "2022-02-03T18:56:50.772Z"
   },
   {
    "duration": 44,
    "start_time": "2022-02-03T18:57:10.291Z"
   },
   {
    "duration": 3754,
    "start_time": "2022-02-03T18:57:17.865Z"
   },
   {
    "duration": 3072,
    "start_time": "2022-02-03T18:57:24.296Z"
   },
   {
    "duration": 143,
    "start_time": "2022-02-03T18:57:30.000Z"
   },
   {
    "duration": 9,
    "start_time": "2022-02-03T18:57:37.616Z"
   },
   {
    "duration": 37,
    "start_time": "2022-02-03T18:59:50.604Z"
   },
   {
    "duration": 149,
    "start_time": "2022-02-03T19:00:02.041Z"
   },
   {
    "duration": 29,
    "start_time": "2022-02-03T19:00:07.367Z"
   },
   {
    "duration": 26,
    "start_time": "2022-02-03T19:00:44.903Z"
   },
   {
    "duration": 29,
    "start_time": "2022-02-03T19:00:59.043Z"
   },
   {
    "duration": 25,
    "start_time": "2022-02-03T19:01:28.288Z"
   },
   {
    "duration": 27,
    "start_time": "2022-02-03T19:01:36.087Z"
   },
   {
    "duration": 28,
    "start_time": "2022-02-03T19:01:46.349Z"
   },
   {
    "duration": 673,
    "start_time": "2022-02-03T19:02:10.122Z"
   },
   {
    "duration": 17,
    "start_time": "2022-02-03T19:02:10.797Z"
   },
   {
    "duration": 9,
    "start_time": "2022-02-03T19:02:10.816Z"
   },
   {
    "duration": 204,
    "start_time": "2022-02-03T19:02:10.828Z"
   },
   {
    "duration": -135,
    "start_time": "2022-02-03T19:02:11.169Z"
   },
   {
    "duration": -136,
    "start_time": "2022-02-03T19:02:11.171Z"
   },
   {
    "duration": -138,
    "start_time": "2022-02-03T19:02:11.173Z"
   },
   {
    "duration": -138,
    "start_time": "2022-02-03T19:02:11.174Z"
   },
   {
    "duration": -138,
    "start_time": "2022-02-03T19:02:11.175Z"
   },
   {
    "duration": -139,
    "start_time": "2022-02-03T19:02:11.177Z"
   },
   {
    "duration": -139,
    "start_time": "2022-02-03T19:02:11.178Z"
   },
   {
    "duration": -140,
    "start_time": "2022-02-03T19:02:11.180Z"
   },
   {
    "duration": -141,
    "start_time": "2022-02-03T19:02:11.182Z"
   },
   {
    "duration": -142,
    "start_time": "2022-02-03T19:02:11.183Z"
   },
   {
    "duration": -174,
    "start_time": "2022-02-03T19:02:11.216Z"
   },
   {
    "duration": -176,
    "start_time": "2022-02-03T19:02:11.219Z"
   },
   {
    "duration": -177,
    "start_time": "2022-02-03T19:02:11.221Z"
   },
   {
    "duration": -178,
    "start_time": "2022-02-03T19:02:11.223Z"
   },
   {
    "duration": 26,
    "start_time": "2022-02-03T19:02:19.953Z"
   },
   {
    "duration": 38,
    "start_time": "2022-02-03T19:03:26.889Z"
   },
   {
    "duration": 25,
    "start_time": "2022-02-03T19:03:31.757Z"
   },
   {
    "duration": 25,
    "start_time": "2022-02-03T19:03:41.827Z"
   },
   {
    "duration": 629,
    "start_time": "2022-02-03T19:04:32.808Z"
   },
   {
    "duration": 17,
    "start_time": "2022-02-03T19:04:33.439Z"
   },
   {
    "duration": 10,
    "start_time": "2022-02-03T19:04:33.460Z"
   },
   {
    "duration": 22,
    "start_time": "2022-02-03T19:04:33.472Z"
   },
   {
    "duration": 7,
    "start_time": "2022-02-03T19:04:33.496Z"
   },
   {
    "duration": 183,
    "start_time": "2022-02-03T19:04:33.504Z"
   },
   {
    "duration": -36,
    "start_time": "2022-02-03T19:04:33.725Z"
   },
   {
    "duration": -37,
    "start_time": "2022-02-03T19:04:33.727Z"
   },
   {
    "duration": -37,
    "start_time": "2022-02-03T19:04:33.728Z"
   },
   {
    "duration": -38,
    "start_time": "2022-02-03T19:04:33.730Z"
   },
   {
    "duration": -39,
    "start_time": "2022-02-03T19:04:33.732Z"
   },
   {
    "duration": -39,
    "start_time": "2022-02-03T19:04:33.733Z"
   },
   {
    "duration": -40,
    "start_time": "2022-02-03T19:04:33.735Z"
   },
   {
    "duration": -41,
    "start_time": "2022-02-03T19:04:33.737Z"
   },
   {
    "duration": -42,
    "start_time": "2022-02-03T19:04:33.739Z"
   },
   {
    "duration": -43,
    "start_time": "2022-02-03T19:04:33.741Z"
   },
   {
    "duration": -44,
    "start_time": "2022-02-03T19:04:33.743Z"
   },
   {
    "duration": -44,
    "start_time": "2022-02-03T19:04:33.744Z"
   },
   {
    "duration": 215,
    "start_time": "2022-02-03T19:04:50.626Z"
   },
   {
    "duration": 25,
    "start_time": "2022-02-03T19:04:57.345Z"
   },
   {
    "duration": 26,
    "start_time": "2022-02-03T19:05:34.959Z"
   },
   {
    "duration": 25,
    "start_time": "2022-02-03T19:05:39.951Z"
   },
   {
    "duration": 34,
    "start_time": "2022-02-03T19:05:44.974Z"
   },
   {
    "duration": 26,
    "start_time": "2022-02-03T19:05:46.781Z"
   },
   {
    "duration": 26,
    "start_time": "2022-02-03T19:06:19.407Z"
   },
   {
    "duration": 26,
    "start_time": "2022-02-03T19:06:22.438Z"
   },
   {
    "duration": 28,
    "start_time": "2022-02-03T19:06:27.816Z"
   },
   {
    "duration": 26,
    "start_time": "2022-02-03T19:06:29.695Z"
   },
   {
    "duration": 175,
    "start_time": "2022-02-03T19:06:48.012Z"
   },
   {
    "duration": 740,
    "start_time": "2022-02-03T19:06:52.912Z"
   },
   {
    "duration": 17,
    "start_time": "2022-02-03T19:06:53.654Z"
   },
   {
    "duration": 11,
    "start_time": "2022-02-03T19:06:53.674Z"
   },
   {
    "duration": 27,
    "start_time": "2022-02-03T19:06:53.687Z"
   },
   {
    "duration": 6,
    "start_time": "2022-02-03T19:06:53.715Z"
   },
   {
    "duration": 189,
    "start_time": "2022-02-03T19:06:53.723Z"
   },
   {
    "duration": -31,
    "start_time": "2022-02-03T19:06:53.945Z"
   },
   {
    "duration": -32,
    "start_time": "2022-02-03T19:06:53.947Z"
   },
   {
    "duration": -37,
    "start_time": "2022-02-03T19:06:53.953Z"
   },
   {
    "duration": -45,
    "start_time": "2022-02-03T19:06:53.962Z"
   },
   {
    "duration": -82,
    "start_time": "2022-02-03T19:06:54.000Z"
   },
   {
    "duration": -83,
    "start_time": "2022-02-03T19:06:54.002Z"
   },
   {
    "duration": -84,
    "start_time": "2022-02-03T19:06:54.004Z"
   },
   {
    "duration": -84,
    "start_time": "2022-02-03T19:06:54.005Z"
   },
   {
    "duration": -85,
    "start_time": "2022-02-03T19:06:54.007Z"
   },
   {
    "duration": -85,
    "start_time": "2022-02-03T19:06:54.008Z"
   },
   {
    "duration": -86,
    "start_time": "2022-02-03T19:06:54.010Z"
   },
   {
    "duration": -86,
    "start_time": "2022-02-03T19:06:54.011Z"
   },
   {
    "duration": 138,
    "start_time": "2022-02-03T19:07:13.626Z"
   },
   {
    "duration": 637,
    "start_time": "2022-02-03T19:07:20.979Z"
   },
   {
    "duration": 18,
    "start_time": "2022-02-03T19:07:21.618Z"
   },
   {
    "duration": 13,
    "start_time": "2022-02-03T19:07:21.637Z"
   },
   {
    "duration": 224,
    "start_time": "2022-02-03T19:07:21.652Z"
   },
   {
    "duration": -78,
    "start_time": "2022-02-03T19:07:21.957Z"
   },
   {
    "duration": -83,
    "start_time": "2022-02-03T19:07:21.963Z"
   },
   {
    "duration": -84,
    "start_time": "2022-02-03T19:07:21.965Z"
   },
   {
    "duration": -128,
    "start_time": "2022-02-03T19:07:22.011Z"
   },
   {
    "duration": -130,
    "start_time": "2022-02-03T19:07:22.014Z"
   },
   {
    "duration": -131,
    "start_time": "2022-02-03T19:07:22.016Z"
   },
   {
    "duration": -130,
    "start_time": "2022-02-03T19:07:22.017Z"
   },
   {
    "duration": -131,
    "start_time": "2022-02-03T19:07:22.019Z"
   },
   {
    "duration": -131,
    "start_time": "2022-02-03T19:07:22.020Z"
   },
   {
    "duration": -130,
    "start_time": "2022-02-03T19:07:22.021Z"
   },
   {
    "duration": -131,
    "start_time": "2022-02-03T19:07:22.023Z"
   },
   {
    "duration": -131,
    "start_time": "2022-02-03T19:07:22.025Z"
   },
   {
    "duration": -132,
    "start_time": "2022-02-03T19:07:22.027Z"
   },
   {
    "duration": -131,
    "start_time": "2022-02-03T19:07:22.028Z"
   },
   {
    "duration": 28,
    "start_time": "2022-02-03T19:07:50.011Z"
   },
   {
    "duration": 655,
    "start_time": "2022-02-03T19:07:55.884Z"
   },
   {
    "duration": 16,
    "start_time": "2022-02-03T19:07:56.541Z"
   },
   {
    "duration": 10,
    "start_time": "2022-02-03T19:07:56.559Z"
   },
   {
    "duration": 23,
    "start_time": "2022-02-03T19:07:56.571Z"
   },
   {
    "duration": 6,
    "start_time": "2022-02-03T19:07:56.596Z"
   },
   {
    "duration": 183,
    "start_time": "2022-02-03T19:07:56.603Z"
   },
   {
    "duration": -37,
    "start_time": "2022-02-03T19:07:56.825Z"
   },
   {
    "duration": -38,
    "start_time": "2022-02-03T19:07:56.827Z"
   },
   {
    "duration": -38,
    "start_time": "2022-02-03T19:07:56.828Z"
   },
   {
    "duration": -84,
    "start_time": "2022-02-03T19:07:56.875Z"
   },
   {
    "duration": -83,
    "start_time": "2022-02-03T19:07:56.876Z"
   },
   {
    "duration": -84,
    "start_time": "2022-02-03T19:07:56.878Z"
   },
   {
    "duration": -84,
    "start_time": "2022-02-03T19:07:56.879Z"
   },
   {
    "duration": -90,
    "start_time": "2022-02-03T19:07:56.886Z"
   },
   {
    "duration": -92,
    "start_time": "2022-02-03T19:07:56.889Z"
   },
   {
    "duration": -94,
    "start_time": "2022-02-03T19:07:56.891Z"
   },
   {
    "duration": -94,
    "start_time": "2022-02-03T19:07:56.892Z"
   },
   {
    "duration": -95,
    "start_time": "2022-02-03T19:07:56.894Z"
   },
   {
    "duration": 345,
    "start_time": "2022-02-03T19:20:29.463Z"
   },
   {
    "duration": 446,
    "start_time": "2022-02-03T19:20:47.961Z"
   },
   {
    "duration": 570,
    "start_time": "2022-02-03T19:21:05.355Z"
   },
   {
    "duration": 578,
    "start_time": "2022-02-03T19:21:26.669Z"
   },
   {
    "duration": 518,
    "start_time": "2022-02-03T19:25:16.645Z"
   },
   {
    "duration": 492,
    "start_time": "2022-02-03T19:26:59.445Z"
   },
   {
    "duration": 746,
    "start_time": "2022-02-03T19:27:10.184Z"
   },
   {
    "duration": 19,
    "start_time": "2022-02-03T19:27:10.932Z"
   },
   {
    "duration": 12,
    "start_time": "2022-02-03T19:27:10.953Z"
   },
   {
    "duration": 393,
    "start_time": "2022-02-03T19:27:10.967Z"
   },
   {
    "duration": 7,
    "start_time": "2022-02-03T19:27:11.363Z"
   },
   {
    "duration": 200,
    "start_time": "2022-02-03T19:27:11.372Z"
   },
   {
    "duration": 33,
    "start_time": "2022-02-03T19:27:11.541Z"
   },
   {
    "duration": 31,
    "start_time": "2022-02-03T19:27:11.545Z"
   },
   {
    "duration": 31,
    "start_time": "2022-02-03T19:27:11.546Z"
   },
   {
    "duration": -8,
    "start_time": "2022-02-03T19:27:11.585Z"
   },
   {
    "duration": -10,
    "start_time": "2022-02-03T19:27:11.588Z"
   },
   {
    "duration": -11,
    "start_time": "2022-02-03T19:27:11.590Z"
   },
   {
    "duration": -11,
    "start_time": "2022-02-03T19:27:11.591Z"
   },
   {
    "duration": -11,
    "start_time": "2022-02-03T19:27:11.592Z"
   },
   {
    "duration": -12,
    "start_time": "2022-02-03T19:27:11.594Z"
   },
   {
    "duration": -12,
    "start_time": "2022-02-03T19:27:11.595Z"
   },
   {
    "duration": -13,
    "start_time": "2022-02-03T19:27:11.597Z"
   },
   {
    "duration": -19,
    "start_time": "2022-02-03T19:27:11.603Z"
   },
   {
    "duration": 480,
    "start_time": "2022-02-03T19:27:26.905Z"
   },
   {
    "duration": 361,
    "start_time": "2022-02-04T17:46:23.006Z"
   },
   {
    "duration": 1110,
    "start_time": "2022-02-04T17:46:28.268Z"
   },
   {
    "duration": 29,
    "start_time": "2022-02-04T17:46:29.381Z"
   },
   {
    "duration": 24,
    "start_time": "2022-02-04T17:46:29.412Z"
   },
   {
    "duration": 1011,
    "start_time": "2022-02-04T17:46:29.438Z"
   },
   {
    "duration": -496,
    "start_time": "2022-02-04T17:46:30.948Z"
   },
   {
    "duration": -497,
    "start_time": "2022-02-04T17:46:30.951Z"
   },
   {
    "duration": -535,
    "start_time": "2022-02-04T17:46:30.990Z"
   },
   {
    "duration": -536,
    "start_time": "2022-02-04T17:46:30.993Z"
   },
   {
    "duration": -537,
    "start_time": "2022-02-04T17:46:30.995Z"
   },
   {
    "duration": -537,
    "start_time": "2022-02-04T17:46:30.996Z"
   },
   {
    "duration": -536,
    "start_time": "2022-02-04T17:46:30.997Z"
   },
   {
    "duration": -537,
    "start_time": "2022-02-04T17:46:30.999Z"
   },
   {
    "duration": -536,
    "start_time": "2022-02-04T17:46:31.000Z"
   },
   {
    "duration": -536,
    "start_time": "2022-02-04T17:46:31.001Z"
   },
   {
    "duration": -536,
    "start_time": "2022-02-04T17:46:31.003Z"
   },
   {
    "duration": -536,
    "start_time": "2022-02-04T17:46:31.004Z"
   },
   {
    "duration": -535,
    "start_time": "2022-02-04T17:46:31.005Z"
   },
   {
    "duration": -535,
    "start_time": "2022-02-04T17:46:31.007Z"
   },
   {
    "duration": 3931,
    "start_time": "2022-02-04T17:46:43.375Z"
   },
   {
    "duration": -540,
    "start_time": "2022-02-04T17:46:47.849Z"
   },
   {
    "duration": -541,
    "start_time": "2022-02-04T17:46:47.851Z"
   },
   {
    "duration": -540,
    "start_time": "2022-02-04T17:46:47.852Z"
   },
   {
    "duration": 3755,
    "start_time": "2022-02-04T17:46:55.037Z"
   },
   {
    "duration": -540,
    "start_time": "2022-02-04T17:46:59.335Z"
   },
   {
    "duration": -540,
    "start_time": "2022-02-04T17:46:59.336Z"
   },
   {
    "duration": 297,
    "start_time": "2022-02-04T17:46:59.014Z"
   },
   {
    "duration": 346,
    "start_time": "2022-02-08T13:23:50.047Z"
   },
   {
    "duration": 835,
    "start_time": "2022-02-08T13:24:00.614Z"
   },
   {
    "duration": 16,
    "start_time": "2022-02-08T13:24:01.727Z"
   },
   {
    "duration": 11,
    "start_time": "2022-02-08T13:24:04.102Z"
   },
   {
    "duration": 4,
    "start_time": "2022-02-08T13:24:07.537Z"
   },
   {
    "duration": 282,
    "start_time": "2022-02-08T13:24:22.212Z"
   },
   {
    "duration": 3,
    "start_time": "2022-02-08T13:24:32.315Z"
   },
   {
    "duration": 95,
    "start_time": "2022-02-08T13:24:52.524Z"
   },
   {
    "duration": 4,
    "start_time": "2022-02-08T13:24:55.061Z"
   },
   {
    "duration": 6,
    "start_time": "2022-02-08T13:27:29.222Z"
   },
   {
    "duration": 5,
    "start_time": "2022-02-08T13:27:31.642Z"
   },
   {
    "duration": 4,
    "start_time": "2022-02-08T13:47:18.932Z"
   },
   {
    "duration": 23,
    "start_time": "2022-02-08T13:48:11.431Z"
   },
   {
    "duration": 23,
    "start_time": "2022-02-08T13:48:21.644Z"
   },
   {
    "duration": 79,
    "start_time": "2022-02-08T13:48:47.048Z"
   },
   {
    "duration": 4,
    "start_time": "2022-02-08T13:48:55.376Z"
   },
   {
    "duration": 23,
    "start_time": "2022-02-08T13:48:58.104Z"
   },
   {
    "duration": 3,
    "start_time": "2022-02-08T13:50:19.935Z"
   },
   {
    "duration": 22,
    "start_time": "2022-02-08T13:50:36.855Z"
   },
   {
    "duration": 24,
    "start_time": "2022-02-08T13:50:45.110Z"
   },
   {
    "duration": 3,
    "start_time": "2022-02-08T13:51:32.716Z"
   },
   {
    "duration": 4,
    "start_time": "2022-02-08T13:52:03.964Z"
   },
   {
    "duration": 22,
    "start_time": "2022-02-08T13:52:05.555Z"
   },
   {
    "duration": 22,
    "start_time": "2022-02-08T13:52:12.514Z"
   },
   {
    "duration": 3,
    "start_time": "2022-02-08T13:52:20.668Z"
   },
   {
    "duration": 23,
    "start_time": "2022-02-08T13:52:21.681Z"
   },
   {
    "duration": 4,
    "start_time": "2022-02-08T13:52:50.205Z"
   },
   {
    "duration": 24,
    "start_time": "2022-02-08T13:52:51.319Z"
   },
   {
    "duration": 4,
    "start_time": "2022-02-08T13:53:04.462Z"
   },
   {
    "duration": 23,
    "start_time": "2022-02-08T13:53:05.642Z"
   },
   {
    "duration": 4,
    "start_time": "2022-02-08T13:54:31.244Z"
   },
   {
    "duration": 22,
    "start_time": "2022-02-08T13:54:33.272Z"
   },
   {
    "duration": 8,
    "start_time": "2022-02-08T13:54:52.277Z"
   },
   {
    "duration": 3,
    "start_time": "2022-02-08T13:55:45.770Z"
   },
   {
    "duration": 311,
    "start_time": "2022-02-08T13:56:03.356Z"
   },
   {
    "duration": 280,
    "start_time": "2022-02-08T13:56:04.482Z"
   },
   {
    "duration": 5,
    "start_time": "2022-02-08T13:56:29.750Z"
   },
   {
    "duration": 987,
    "start_time": "2022-02-08T13:58:16.516Z"
   },
   {
    "duration": -17,
    "start_time": "2022-02-08T13:58:17.521Z"
   },
   {
    "duration": 1015,
    "start_time": "2022-02-08T13:58:54.844Z"
   },
   {
    "duration": 1161,
    "start_time": "2022-02-08T13:59:59.270Z"
   },
   {
    "duration": 1009,
    "start_time": "2022-02-08T14:00:31.380Z"
   },
   {
    "duration": 1238,
    "start_time": "2022-02-08T14:00:44.416Z"
   },
   {
    "duration": 972,
    "start_time": "2022-02-08T14:00:50.340Z"
   },
   {
    "duration": 3,
    "start_time": "2022-02-08T14:02:45.120Z"
   },
   {
    "duration": 992,
    "start_time": "2022-02-08T14:02:47.686Z"
   },
   {
    "duration": 3,
    "start_time": "2022-02-08T14:07:52.011Z"
   },
   {
    "duration": 3,
    "start_time": "2022-02-08T14:07:55.835Z"
   },
   {
    "duration": 3254,
    "start_time": "2022-02-08T14:08:41.152Z"
   },
   {
    "duration": 2,
    "start_time": "2022-02-08T14:09:38.704Z"
   },
   {
    "duration": 3672,
    "start_time": "2022-02-08T14:09:57.832Z"
   },
   {
    "duration": 2,
    "start_time": "2022-02-08T14:10:16.604Z"
   },
   {
    "duration": 3550,
    "start_time": "2022-02-08T14:10:17.981Z"
   },
   {
    "duration": 3292,
    "start_time": "2022-02-08T14:12:01.128Z"
   },
   {
    "duration": -69,
    "start_time": "2022-02-08T14:12:04.491Z"
   },
   {
    "duration": 3737,
    "start_time": "2022-02-08T14:12:32.991Z"
   },
   {
    "duration": -70,
    "start_time": "2022-02-08T14:12:36.800Z"
   },
   {
    "duration": 388,
    "start_time": "2022-02-08T14:12:55.136Z"
   },
   {
    "duration": 10,
    "start_time": "2022-02-08T14:12:56.980Z"
   },
   {
    "duration": 11,
    "start_time": "2022-02-08T14:12:58.926Z"
   },
   {
    "duration": 4,
    "start_time": "2022-02-08T14:13:01.625Z"
   },
   {
    "duration": 5,
    "start_time": "2022-02-08T14:13:02.659Z"
   },
   {
    "duration": 3,
    "start_time": "2022-02-08T14:13:03.905Z"
   },
   {
    "duration": 3,
    "start_time": "2022-02-08T14:13:27.913Z"
   },
   {
    "duration": 313,
    "start_time": "2022-02-08T14:13:28.965Z"
   },
   {
    "duration": 23,
    "start_time": "2022-02-08T14:13:33.441Z"
   },
   {
    "duration": 3,
    "start_time": "2022-02-08T14:13:58.944Z"
   },
   {
    "duration": 332,
    "start_time": "2022-02-08T14:14:00.030Z"
   },
   {
    "duration": 24,
    "start_time": "2022-02-08T14:14:01.431Z"
   },
   {
    "duration": 815,
    "start_time": "2022-02-08T14:15:24.760Z"
   },
   {
    "duration": 16,
    "start_time": "2022-02-08T14:15:25.577Z"
   },
   {
    "duration": 9,
    "start_time": "2022-02-08T14:15:25.598Z"
   },
   {
    "duration": 3,
    "start_time": "2022-02-08T14:15:25.609Z"
   },
   {
    "duration": 359,
    "start_time": "2022-02-08T14:15:25.613Z"
   },
   {
    "duration": 26,
    "start_time": "2022-02-08T14:15:25.974Z"
   },
   {
    "duration": 6,
    "start_time": "2022-02-08T14:15:26.003Z"
   },
   {
    "duration": 317,
    "start_time": "2022-02-08T14:15:26.011Z"
   },
   {
    "duration": -26,
    "start_time": "2022-02-08T14:15:26.356Z"
   },
   {
    "duration": -28,
    "start_time": "2022-02-08T14:15:26.359Z"
   },
   {
    "duration": -29,
    "start_time": "2022-02-08T14:15:26.360Z"
   },
   {
    "duration": -30,
    "start_time": "2022-02-08T14:15:26.362Z"
   },
   {
    "duration": -31,
    "start_time": "2022-02-08T14:15:26.364Z"
   },
   {
    "duration": -31,
    "start_time": "2022-02-08T14:15:26.365Z"
   },
   {
    "duration": -59,
    "start_time": "2022-02-08T14:15:26.394Z"
   },
   {
    "duration": -60,
    "start_time": "2022-02-08T14:15:26.395Z"
   },
   {
    "duration": -61,
    "start_time": "2022-02-08T14:15:26.397Z"
   },
   {
    "duration": -62,
    "start_time": "2022-02-08T14:15:26.399Z"
   },
   {
    "duration": -62,
    "start_time": "2022-02-08T14:15:26.400Z"
   },
   {
    "duration": -63,
    "start_time": "2022-02-08T14:15:26.402Z"
   },
   {
    "duration": 227,
    "start_time": "2022-02-08T14:15:29.672Z"
   },
   {
    "duration": 12,
    "start_time": "2022-02-08T14:15:30.380Z"
   },
   {
    "duration": 10,
    "start_time": "2022-02-08T14:15:31.525Z"
   },
   {
    "duration": 3,
    "start_time": "2022-02-08T14:15:40.247Z"
   },
   {
    "duration": 329,
    "start_time": "2022-02-08T14:15:40.833Z"
   },
   {
    "duration": 23,
    "start_time": "2022-02-08T14:15:41.797Z"
   },
   {
    "duration": 23,
    "start_time": "2022-02-08T14:15:53.581Z"
   },
   {
    "duration": 327,
    "start_time": "2022-02-08T14:16:51.137Z"
   },
   {
    "duration": 284,
    "start_time": "2022-02-08T14:16:51.805Z"
   },
   {
    "duration": 1134,
    "start_time": "2022-02-08T14:17:04.541Z"
   },
   {
    "duration": -66,
    "start_time": "2022-02-08T14:17:05.743Z"
   },
   {
    "duration": 817,
    "start_time": "2022-02-08T14:17:12.466Z"
   },
   {
    "duration": 16,
    "start_time": "2022-02-08T14:17:13.285Z"
   },
   {
    "duration": 9,
    "start_time": "2022-02-08T14:17:13.303Z"
   },
   {
    "duration": 3,
    "start_time": "2022-02-08T14:17:13.314Z"
   },
   {
    "duration": 325,
    "start_time": "2022-02-08T14:17:13.318Z"
   },
   {
    "duration": 28,
    "start_time": "2022-02-08T14:17:13.644Z"
   },
   {
    "duration": 6,
    "start_time": "2022-02-08T14:17:13.674Z"
   },
   {
    "duration": 328,
    "start_time": "2022-02-08T14:17:13.681Z"
   },
   {
    "duration": -35,
    "start_time": "2022-02-08T14:17:14.047Z"
   },
   {
    "duration": -38,
    "start_time": "2022-02-08T14:17:14.051Z"
   },
   {
    "duration": -39,
    "start_time": "2022-02-08T14:17:14.053Z"
   },
   {
    "duration": -75,
    "start_time": "2022-02-08T14:17:14.090Z"
   },
   {
    "duration": -78,
    "start_time": "2022-02-08T14:17:14.094Z"
   },
   {
    "duration": -80,
    "start_time": "2022-02-08T14:17:14.096Z"
   },
   {
    "duration": -80,
    "start_time": "2022-02-08T14:17:14.097Z"
   },
   {
    "duration": -81,
    "start_time": "2022-02-08T14:17:14.099Z"
   },
   {
    "duration": -82,
    "start_time": "2022-02-08T14:17:14.101Z"
   },
   {
    "duration": -82,
    "start_time": "2022-02-08T14:17:14.102Z"
   },
   {
    "duration": -86,
    "start_time": "2022-02-08T14:17:14.107Z"
   },
   {
    "duration": -89,
    "start_time": "2022-02-08T14:17:14.111Z"
   },
   {
    "duration": 6,
    "start_time": "2022-02-08T14:17:35.641Z"
   },
   {
    "duration": 5,
    "start_time": "2022-02-08T14:17:47.743Z"
   },
   {
    "duration": 25,
    "start_time": "2022-02-08T14:19:00.862Z"
   },
   {
    "duration": 26,
    "start_time": "2022-02-08T14:19:15.619Z"
   },
   {
    "duration": 26,
    "start_time": "2022-02-08T14:19:39.370Z"
   },
   {
    "duration": 3,
    "start_time": "2022-02-08T14:24:47.210Z"
   },
   {
    "duration": 426,
    "start_time": "2022-02-08T14:24:48.052Z"
   },
   {
    "duration": 25,
    "start_time": "2022-02-08T14:24:48.750Z"
   },
   {
    "duration": 28,
    "start_time": "2022-02-08T14:24:56.941Z"
   },
   {
    "duration": 4,
    "start_time": "2022-02-08T14:26:07.901Z"
   },
   {
    "duration": 341,
    "start_time": "2022-02-08T14:26:08.378Z"
   },
   {
    "duration": 26,
    "start_time": "2022-02-08T14:26:11.050Z"
   },
   {
    "duration": 319,
    "start_time": "2022-02-08T14:26:21.792Z"
   },
   {
    "duration": 292,
    "start_time": "2022-02-08T14:26:22.360Z"
   },
   {
    "duration": 270,
    "start_time": "2022-02-08T14:26:35.953Z"
   },
   {
    "duration": 1210,
    "start_time": "2022-02-08T14:26:37.651Z"
   },
   {
    "duration": 1139,
    "start_time": "2022-02-08T14:26:52.447Z"
   },
   {
    "duration": 1062,
    "start_time": "2022-02-08T14:29:44.754Z"
   },
   {
    "duration": 263,
    "start_time": "2022-02-08T14:29:46.020Z"
   },
   {
    "duration": 4,
    "start_time": "2022-02-08T14:30:34.036Z"
   },
   {
    "duration": 1046,
    "start_time": "2022-02-08T14:30:34.745Z"
   },
   {
    "duration": 835,
    "start_time": "2022-02-08T14:30:47.717Z"
   },
   {
    "duration": 17,
    "start_time": "2022-02-08T14:30:48.554Z"
   },
   {
    "duration": 28,
    "start_time": "2022-02-08T14:30:48.574Z"
   },
   {
    "duration": 3,
    "start_time": "2022-02-08T14:30:48.604Z"
   },
   {
    "duration": 986,
    "start_time": "2022-02-08T14:30:48.608Z"
   },
   {
    "duration": -63,
    "start_time": "2022-02-08T14:30:49.660Z"
   },
   {
    "duration": -66,
    "start_time": "2022-02-08T14:30:49.664Z"
   },
   {
    "duration": -67,
    "start_time": "2022-02-08T14:30:49.666Z"
   },
   {
    "duration": -73,
    "start_time": "2022-02-08T14:30:49.674Z"
   },
   {
    "duration": -76,
    "start_time": "2022-02-08T14:30:49.678Z"
   },
   {
    "duration": -76,
    "start_time": "2022-02-08T14:30:49.680Z"
   },
   {
    "duration": -78,
    "start_time": "2022-02-08T14:30:49.683Z"
   },
   {
    "duration": -79,
    "start_time": "2022-02-08T14:30:49.686Z"
   },
   {
    "duration": -88,
    "start_time": "2022-02-08T14:30:49.696Z"
   },
   {
    "duration": -90,
    "start_time": "2022-02-08T14:30:49.699Z"
   },
   {
    "duration": -90,
    "start_time": "2022-02-08T14:30:49.701Z"
   },
   {
    "duration": -94,
    "start_time": "2022-02-08T14:30:49.706Z"
   },
   {
    "duration": -96,
    "start_time": "2022-02-08T14:30:49.709Z"
   },
   {
    "duration": -96,
    "start_time": "2022-02-08T14:30:49.711Z"
   },
   {
    "duration": -97,
    "start_time": "2022-02-08T14:30:49.713Z"
   },
   {
    "duration": 326,
    "start_time": "2022-02-08T14:31:02.424Z"
   },
   {
    "duration": 25,
    "start_time": "2022-02-08T14:31:05.591Z"
   },
   {
    "duration": 3,
    "start_time": "2022-02-08T14:31:12.498Z"
   },
   {
    "duration": 359,
    "start_time": "2022-02-08T14:31:13.004Z"
   },
   {
    "duration": 24,
    "start_time": "2022-02-08T14:31:13.482Z"
   },
   {
    "duration": 15,
    "start_time": "2022-02-08T14:34:50.225Z"
   },
   {
    "duration": 26,
    "start_time": "2022-02-08T14:35:01.730Z"
   },
   {
    "duration": 27,
    "start_time": "2022-02-08T14:35:16.518Z"
   },
   {
    "duration": 8,
    "start_time": "2022-02-08T14:36:36.690Z"
   },
   {
    "duration": 26,
    "start_time": "2022-02-08T14:36:40.341Z"
   },
   {
    "duration": 25,
    "start_time": "2022-02-08T14:37:15.577Z"
   },
   {
    "duration": 26,
    "start_time": "2022-02-08T14:37:22.798Z"
   },
   {
    "duration": 714,
    "start_time": "2022-02-08T14:38:19.497Z"
   },
   {
    "duration": 17,
    "start_time": "2022-02-08T14:38:20.213Z"
   },
   {
    "duration": 10,
    "start_time": "2022-02-08T14:38:20.234Z"
   },
   {
    "duration": 3,
    "start_time": "2022-02-08T14:38:20.246Z"
   },
   {
    "duration": 22,
    "start_time": "2022-02-08T14:38:20.251Z"
   },
   {
    "duration": 24,
    "start_time": "2022-02-08T14:38:20.274Z"
   },
   {
    "duration": 2,
    "start_time": "2022-02-08T14:38:20.300Z"
   },
   {
    "duration": 26,
    "start_time": "2022-02-08T14:38:20.304Z"
   },
   {
    "duration": 48,
    "start_time": "2022-02-08T14:38:20.331Z"
   },
   {
    "duration": 6805,
    "start_time": "2022-02-08T14:38:20.380Z"
   },
   {
    "duration": -66,
    "start_time": "2022-02-08T14:38:27.253Z"
   },
   {
    "duration": -68,
    "start_time": "2022-02-08T14:38:27.256Z"
   },
   {
    "duration": -69,
    "start_time": "2022-02-08T14:38:27.258Z"
   },
   {
    "duration": -74,
    "start_time": "2022-02-08T14:38:27.264Z"
   },
   {
    "duration": -76,
    "start_time": "2022-02-08T14:38:27.267Z"
   },
   {
    "duration": -78,
    "start_time": "2022-02-08T14:38:27.270Z"
   },
   {
    "duration": -79,
    "start_time": "2022-02-08T14:38:27.272Z"
   },
   {
    "duration": -81,
    "start_time": "2022-02-08T14:38:27.275Z"
   },
   {
    "duration": -87,
    "start_time": "2022-02-08T14:38:27.282Z"
   },
   {
    "duration": -90,
    "start_time": "2022-02-08T14:38:27.286Z"
   },
   {
    "duration": -91,
    "start_time": "2022-02-08T14:38:27.288Z"
   },
   {
    "duration": -92,
    "start_time": "2022-02-08T14:38:27.290Z"
   },
   {
    "duration": -97,
    "start_time": "2022-02-08T14:38:27.296Z"
   },
   {
    "duration": 25,
    "start_time": "2022-02-08T14:38:34.195Z"
   },
   {
    "duration": 24,
    "start_time": "2022-02-08T14:38:52.732Z"
   },
   {
    "duration": 2,
    "start_time": "2022-02-08T14:38:54.751Z"
   },
   {
    "duration": 4,
    "start_time": "2022-02-08T14:39:11.869Z"
   },
   {
    "duration": 6,
    "start_time": "2022-02-08T14:39:12.346Z"
   },
   {
    "duration": 25,
    "start_time": "2022-02-08T14:39:12.916Z"
   },
   {
    "duration": 844,
    "start_time": "2022-02-08T14:39:25.246Z"
   },
   {
    "duration": 17,
    "start_time": "2022-02-08T14:39:26.092Z"
   },
   {
    "duration": 11,
    "start_time": "2022-02-08T14:39:26.110Z"
   },
   {
    "duration": 3,
    "start_time": "2022-02-08T14:39:26.122Z"
   },
   {
    "duration": 11,
    "start_time": "2022-02-08T14:39:26.126Z"
   },
   {
    "duration": 44,
    "start_time": "2022-02-08T14:39:26.139Z"
   },
   {
    "duration": 2,
    "start_time": "2022-02-08T14:39:26.184Z"
   },
   {
    "duration": 24,
    "start_time": "2022-02-08T14:39:26.188Z"
   },
   {
    "duration": 23,
    "start_time": "2022-02-08T14:39:26.214Z"
   },
   {
    "duration": 6771,
    "start_time": "2022-02-08T14:39:26.238Z"
   },
   {
    "duration": -68,
    "start_time": "2022-02-08T14:39:33.079Z"
   },
   {
    "duration": -69,
    "start_time": "2022-02-08T14:39:33.081Z"
   },
   {
    "duration": -70,
    "start_time": "2022-02-08T14:39:33.083Z"
   },
   {
    "duration": -70,
    "start_time": "2022-02-08T14:39:33.084Z"
   },
   {
    "duration": -70,
    "start_time": "2022-02-08T14:39:33.085Z"
   },
   {
    "duration": -72,
    "start_time": "2022-02-08T14:39:33.088Z"
   },
   {
    "duration": -78,
    "start_time": "2022-02-08T14:39:33.094Z"
   },
   {
    "duration": -80,
    "start_time": "2022-02-08T14:39:33.097Z"
   },
   {
    "duration": -81,
    "start_time": "2022-02-08T14:39:33.099Z"
   },
   {
    "duration": -81,
    "start_time": "2022-02-08T14:39:33.100Z"
   },
   {
    "duration": -83,
    "start_time": "2022-02-08T14:39:33.102Z"
   },
   {
    "duration": -83,
    "start_time": "2022-02-08T14:39:33.103Z"
   },
   {
    "duration": -88,
    "start_time": "2022-02-08T14:39:33.109Z"
   },
   {
    "duration": 3,
    "start_time": "2022-02-08T14:39:43.893Z"
   },
   {
    "duration": 6,
    "start_time": "2022-02-08T14:39:44.247Z"
   },
   {
    "duration": 26,
    "start_time": "2022-02-08T14:39:44.521Z"
   },
   {
    "duration": 774,
    "start_time": "2022-02-08T14:39:57.920Z"
   },
   {
    "duration": 17,
    "start_time": "2022-02-08T14:39:58.696Z"
   },
   {
    "duration": 25,
    "start_time": "2022-02-08T14:39:58.715Z"
   },
   {
    "duration": 11,
    "start_time": "2022-02-08T14:39:58.742Z"
   },
   {
    "duration": 30,
    "start_time": "2022-02-08T14:39:58.755Z"
   },
   {
    "duration": 23,
    "start_time": "2022-02-08T14:39:58.786Z"
   },
   {
    "duration": 3,
    "start_time": "2022-02-08T14:39:58.811Z"
   },
   {
    "duration": 36,
    "start_time": "2022-02-08T14:39:58.816Z"
   },
   {
    "duration": 28,
    "start_time": "2022-02-08T14:39:58.854Z"
   },
   {
    "duration": 18740,
    "start_time": "2022-02-08T14:39:58.884Z"
   },
   {
    "duration": -69,
    "start_time": "2022-02-08T14:40:17.695Z"
   },
   {
    "duration": -69,
    "start_time": "2022-02-08T14:40:17.696Z"
   },
   {
    "duration": -70,
    "start_time": "2022-02-08T14:40:17.698Z"
   },
   {
    "duration": -71,
    "start_time": "2022-02-08T14:40:17.700Z"
   },
   {
    "duration": -73,
    "start_time": "2022-02-08T14:40:17.702Z"
   },
   {
    "duration": -73,
    "start_time": "2022-02-08T14:40:17.703Z"
   },
   {
    "duration": -74,
    "start_time": "2022-02-08T14:40:17.705Z"
   },
   {
    "duration": -75,
    "start_time": "2022-02-08T14:40:17.706Z"
   },
   {
    "duration": -77,
    "start_time": "2022-02-08T14:40:17.709Z"
   },
   {
    "duration": -77,
    "start_time": "2022-02-08T14:40:17.710Z"
   },
   {
    "duration": -78,
    "start_time": "2022-02-08T14:40:17.712Z"
   },
   {
    "duration": -79,
    "start_time": "2022-02-08T14:40:17.713Z"
   },
   {
    "duration": -80,
    "start_time": "2022-02-08T14:40:17.715Z"
   },
   {
    "duration": -80,
    "start_time": "2022-02-08T14:40:17.717Z"
   },
   {
    "duration": -82,
    "start_time": "2022-02-08T14:40:17.719Z"
   },
   {
    "duration": -84,
    "start_time": "2022-02-08T14:40:17.722Z"
   },
   {
    "duration": 1224,
    "start_time": "2022-02-08T14:40:25.467Z"
   },
   {
    "duration": 16,
    "start_time": "2022-02-08T14:40:26.693Z"
   },
   {
    "duration": 11,
    "start_time": "2022-02-08T14:40:26.711Z"
   },
   {
    "duration": 2,
    "start_time": "2022-02-08T14:40:26.724Z"
   },
   {
    "duration": 13,
    "start_time": "2022-02-08T14:40:26.728Z"
   },
   {
    "duration": 51,
    "start_time": "2022-02-08T14:40:26.742Z"
   },
   {
    "duration": 2,
    "start_time": "2022-02-08T14:40:26.795Z"
   },
   {
    "duration": 26,
    "start_time": "2022-02-08T14:40:26.799Z"
   },
   {
    "duration": 55,
    "start_time": "2022-02-08T14:40:26.828Z"
   },
   {
    "duration": 16394,
    "start_time": "2022-02-08T14:40:26.884Z"
   },
   {
    "duration": -66,
    "start_time": "2022-02-08T14:40:43.346Z"
   },
   {
    "duration": -67,
    "start_time": "2022-02-08T14:40:43.347Z"
   },
   {
    "duration": -68,
    "start_time": "2022-02-08T14:40:43.349Z"
   },
   {
    "duration": -69,
    "start_time": "2022-02-08T14:40:43.351Z"
   },
   {
    "duration": -69,
    "start_time": "2022-02-08T14:40:43.352Z"
   },
   {
    "duration": -70,
    "start_time": "2022-02-08T14:40:43.354Z"
   },
   {
    "duration": -71,
    "start_time": "2022-02-08T14:40:43.356Z"
   },
   {
    "duration": -71,
    "start_time": "2022-02-08T14:40:43.357Z"
   },
   {
    "duration": -72,
    "start_time": "2022-02-08T14:40:43.359Z"
   },
   {
    "duration": -72,
    "start_time": "2022-02-08T14:40:43.360Z"
   },
   {
    "duration": -72,
    "start_time": "2022-02-08T14:40:43.361Z"
   },
   {
    "duration": -74,
    "start_time": "2022-02-08T14:40:43.364Z"
   },
   {
    "duration": -75,
    "start_time": "2022-02-08T14:40:43.366Z"
   },
   {
    "duration": -76,
    "start_time": "2022-02-08T14:40:43.367Z"
   },
   {
    "duration": -76,
    "start_time": "2022-02-08T14:40:43.368Z"
   },
   {
    "duration": 183,
    "start_time": "2022-02-08T14:41:15.441Z"
   },
   {
    "duration": 11,
    "start_time": "2022-02-08T14:41:16.727Z"
   },
   {
    "duration": 11,
    "start_time": "2022-02-08T14:41:19.767Z"
   },
   {
    "duration": 3,
    "start_time": "2022-02-08T14:41:23.249Z"
   },
   {
    "duration": 10,
    "start_time": "2022-02-08T14:41:24.980Z"
   },
   {
    "duration": 23,
    "start_time": "2022-02-08T14:41:27.055Z"
   },
   {
    "duration": 24,
    "start_time": "2022-02-08T14:42:07.095Z"
   },
   {
    "duration": 25,
    "start_time": "2022-02-08T14:42:10.865Z"
   },
   {
    "duration": 3,
    "start_time": "2022-02-08T14:42:24.981Z"
   },
   {
    "duration": 7,
    "start_time": "2022-02-08T14:42:25.394Z"
   },
   {
    "duration": 26,
    "start_time": "2022-02-08T14:42:25.802Z"
   },
   {
    "duration": 14,
    "start_time": "2022-02-08T14:48:23.866Z"
   },
   {
    "duration": 25,
    "start_time": "2022-02-08T14:48:27.201Z"
   },
   {
    "duration": 25,
    "start_time": "2022-02-08T14:48:34.140Z"
   },
   {
    "duration": 24,
    "start_time": "2022-02-08T14:48:44.979Z"
   },
   {
    "duration": 2,
    "start_time": "2022-02-08T14:48:45.689Z"
   },
   {
    "duration": 10,
    "start_time": "2022-02-08T14:51:02.832Z"
   },
   {
    "duration": 24,
    "start_time": "2022-02-08T14:51:03.260Z"
   },
   {
    "duration": 24,
    "start_time": "2022-02-08T14:51:16.423Z"
   },
   {
    "duration": 6,
    "start_time": "2022-02-08T14:51:46.642Z"
   },
   {
    "duration": 25,
    "start_time": "2022-02-08T14:51:47.456Z"
   },
   {
    "duration": 7,
    "start_time": "2022-02-08T14:51:51.407Z"
   },
   {
    "duration": 25,
    "start_time": "2022-02-08T14:51:51.783Z"
   },
   {
    "duration": 6,
    "start_time": "2022-02-08T14:52:04.201Z"
   },
   {
    "duration": 2,
    "start_time": "2022-02-08T14:52:11.543Z"
   },
   {
    "duration": 3,
    "start_time": "2022-02-08T14:52:18.391Z"
   },
   {
    "duration": 714,
    "start_time": "2022-02-08T14:52:25.703Z"
   },
   {
    "duration": 16,
    "start_time": "2022-02-08T14:52:26.419Z"
   },
   {
    "duration": 10,
    "start_time": "2022-02-08T14:52:26.436Z"
   },
   {
    "duration": 2,
    "start_time": "2022-02-08T14:52:26.447Z"
   },
   {
    "duration": 6,
    "start_time": "2022-02-08T14:52:26.451Z"
   },
   {
    "duration": 21,
    "start_time": "2022-02-08T14:52:26.458Z"
   },
   {
    "duration": 2,
    "start_time": "2022-02-08T14:52:26.481Z"
   },
   {
    "duration": 24,
    "start_time": "2022-02-08T14:52:26.485Z"
   },
   {
    "duration": 2,
    "start_time": "2022-02-08T14:52:26.511Z"
   },
   {
    "duration": 26,
    "start_time": "2022-02-08T14:52:26.514Z"
   },
   {
    "duration": 53,
    "start_time": "2022-02-08T14:52:26.541Z"
   },
   {
    "duration": 6471,
    "start_time": "2022-02-08T14:52:26.595Z"
   },
   {
    "duration": -74,
    "start_time": "2022-02-08T14:52:33.142Z"
   },
   {
    "duration": -77,
    "start_time": "2022-02-08T14:52:33.145Z"
   },
   {
    "duration": -78,
    "start_time": "2022-02-08T14:52:33.147Z"
   },
   {
    "duration": -79,
    "start_time": "2022-02-08T14:52:33.149Z"
   },
   {
    "duration": -80,
    "start_time": "2022-02-08T14:52:33.151Z"
   },
   {
    "duration": -81,
    "start_time": "2022-02-08T14:52:33.153Z"
   },
   {
    "duration": -81,
    "start_time": "2022-02-08T14:52:33.154Z"
   },
   {
    "duration": -89,
    "start_time": "2022-02-08T14:52:33.163Z"
   },
   {
    "duration": -91,
    "start_time": "2022-02-08T14:52:33.166Z"
   },
   {
    "duration": -93,
    "start_time": "2022-02-08T14:52:33.169Z"
   },
   {
    "duration": -94,
    "start_time": "2022-02-08T14:52:33.171Z"
   },
   {
    "duration": -115,
    "start_time": "2022-02-08T14:52:33.193Z"
   },
   {
    "duration": -119,
    "start_time": "2022-02-08T14:52:33.198Z"
   },
   {
    "duration": 26,
    "start_time": "2022-02-08T14:52:36.751Z"
   },
   {
    "duration": 24,
    "start_time": "2022-02-08T14:52:41.234Z"
   },
   {
    "duration": 24,
    "start_time": "2022-02-08T14:53:08.279Z"
   },
   {
    "duration": 22,
    "start_time": "2022-02-08T14:53:12.299Z"
   },
   {
    "duration": 25,
    "start_time": "2022-02-08T14:53:15.694Z"
   },
   {
    "duration": 29,
    "start_time": "2022-02-08T14:53:30.863Z"
   },
   {
    "duration": 30,
    "start_time": "2022-02-08T14:54:17.215Z"
   },
   {
    "duration": 7,
    "start_time": "2022-02-08T14:54:26.361Z"
   },
   {
    "duration": 29,
    "start_time": "2022-02-08T14:54:27.205Z"
   },
   {
    "duration": 24,
    "start_time": "2022-02-08T15:03:09.295Z"
   },
   {
    "duration": 7,
    "start_time": "2022-02-08T15:04:03.925Z"
   },
   {
    "duration": 6782,
    "start_time": "2022-02-08T15:04:09.073Z"
   },
   {
    "duration": -78,
    "start_time": "2022-02-08T15:04:15.934Z"
   },
   {
    "duration": -82,
    "start_time": "2022-02-08T15:04:15.940Z"
   },
   {
    "duration": 844,
    "start_time": "2022-02-08T15:04:30.852Z"
   },
   {
    "duration": 16,
    "start_time": "2022-02-08T15:04:31.698Z"
   },
   {
    "duration": 23,
    "start_time": "2022-02-08T15:04:31.715Z"
   },
   {
    "duration": 11,
    "start_time": "2022-02-08T15:04:31.739Z"
   },
   {
    "duration": 9,
    "start_time": "2022-02-08T15:04:31.751Z"
   },
   {
    "duration": 6755,
    "start_time": "2022-02-08T15:04:31.762Z"
   },
   {
    "duration": -62,
    "start_time": "2022-02-08T15:04:38.582Z"
   },
   {
    "duration": -63,
    "start_time": "2022-02-08T15:04:38.584Z"
   },
   {
    "duration": -63,
    "start_time": "2022-02-08T15:04:38.585Z"
   },
   {
    "duration": -64,
    "start_time": "2022-02-08T15:04:38.587Z"
   },
   {
    "duration": -63,
    "start_time": "2022-02-08T15:04:38.588Z"
   },
   {
    "duration": -64,
    "start_time": "2022-02-08T15:04:38.590Z"
   },
   {
    "duration": -64,
    "start_time": "2022-02-08T15:04:38.591Z"
   },
   {
    "duration": -66,
    "start_time": "2022-02-08T15:04:38.593Z"
   },
   {
    "duration": -66,
    "start_time": "2022-02-08T15:04:38.594Z"
   },
   {
    "duration": -67,
    "start_time": "2022-02-08T15:04:38.596Z"
   },
   {
    "duration": -78,
    "start_time": "2022-02-08T15:04:38.608Z"
   },
   {
    "duration": -81,
    "start_time": "2022-02-08T15:04:38.612Z"
   },
   {
    "duration": -82,
    "start_time": "2022-02-08T15:04:38.614Z"
   },
   {
    "duration": -82,
    "start_time": "2022-02-08T15:04:38.615Z"
   },
   {
    "duration": -83,
    "start_time": "2022-02-08T15:04:38.617Z"
   },
   {
    "duration": -83,
    "start_time": "2022-02-08T15:04:38.618Z"
   },
   {
    "duration": -84,
    "start_time": "2022-02-08T15:04:38.620Z"
   },
   {
    "duration": -86,
    "start_time": "2022-02-08T15:04:38.622Z"
   },
   {
    "duration": -91,
    "start_time": "2022-02-08T15:04:38.628Z"
   },
   {
    "duration": -92,
    "start_time": "2022-02-08T15:04:38.630Z"
   },
   {
    "duration": 11,
    "start_time": "2022-02-08T15:04:39.246Z"
   },
   {
    "duration": 10,
    "start_time": "2022-02-08T15:04:41.063Z"
   },
   {
    "duration": 2,
    "start_time": "2022-02-08T15:04:44.937Z"
   },
   {
    "duration": 8,
    "start_time": "2022-02-08T15:04:46.211Z"
   },
   {
    "duration": 7128,
    "start_time": "2022-02-08T15:04:48.799Z"
   },
   {
    "duration": -64,
    "start_time": "2022-02-08T15:04:55.992Z"
   },
   {
    "duration": 7,
    "start_time": "2022-02-08T15:05:28.610Z"
   },
   {
    "duration": 6705,
    "start_time": "2022-02-08T15:05:29.363Z"
   },
   {
    "duration": 7247,
    "start_time": "2022-02-08T15:05:54.506Z"
   },
   {
    "duration": 11,
    "start_time": "2022-02-08T15:06:14.340Z"
   },
   {
    "duration": 794,
    "start_time": "2022-02-08T15:07:10.030Z"
   },
   {
    "duration": 17,
    "start_time": "2022-02-08T15:07:10.826Z"
   },
   {
    "duration": 10,
    "start_time": "2022-02-08T15:07:10.845Z"
   },
   {
    "duration": 2,
    "start_time": "2022-02-08T15:07:10.857Z"
   },
   {
    "duration": 14,
    "start_time": "2022-02-08T15:07:10.861Z"
   },
   {
    "duration": 11,
    "start_time": "2022-02-08T15:07:10.876Z"
   },
   {
    "duration": 7,
    "start_time": "2022-02-08T15:07:10.888Z"
   },
   {
    "duration": 302,
    "start_time": "2022-02-08T15:07:10.897Z"
   },
   {
    "duration": -36,
    "start_time": "2022-02-08T15:07:11.237Z"
   },
   {
    "duration": -40,
    "start_time": "2022-02-08T15:07:11.242Z"
   },
   {
    "duration": -41,
    "start_time": "2022-02-08T15:07:11.244Z"
   },
   {
    "duration": -68,
    "start_time": "2022-02-08T15:07:11.271Z"
   },
   {
    "duration": -72,
    "start_time": "2022-02-08T15:07:11.276Z"
   },
   {
    "duration": -75,
    "start_time": "2022-02-08T15:07:11.280Z"
   },
   {
    "duration": -75,
    "start_time": "2022-02-08T15:07:11.281Z"
   },
   {
    "duration": -77,
    "start_time": "2022-02-08T15:07:11.283Z"
   },
   {
    "duration": -77,
    "start_time": "2022-02-08T15:07:11.284Z"
   },
   {
    "duration": -78,
    "start_time": "2022-02-08T15:07:11.286Z"
   },
   {
    "duration": -78,
    "start_time": "2022-02-08T15:07:11.287Z"
   },
   {
    "duration": -79,
    "start_time": "2022-02-08T15:07:11.289Z"
   },
   {
    "duration": -79,
    "start_time": "2022-02-08T15:07:11.290Z"
   },
   {
    "duration": -79,
    "start_time": "2022-02-08T15:07:11.291Z"
   },
   {
    "duration": -80,
    "start_time": "2022-02-08T15:07:11.293Z"
   },
   {
    "duration": -80,
    "start_time": "2022-02-08T15:07:11.294Z"
   },
   {
    "duration": -80,
    "start_time": "2022-02-08T15:07:11.295Z"
   },
   {
    "duration": 484,
    "start_time": "2022-02-08T15:07:14.330Z"
   },
   {
    "duration": 10,
    "start_time": "2022-02-08T15:07:15.203Z"
   },
   {
    "duration": 11,
    "start_time": "2022-02-08T15:07:17.499Z"
   },
   {
    "duration": 3,
    "start_time": "2022-02-08T15:07:20.249Z"
   },
   {
    "duration": 7,
    "start_time": "2022-02-08T15:07:20.859Z"
   },
   {
    "duration": 10,
    "start_time": "2022-02-08T15:07:22.534Z"
   },
   {
    "duration": 8,
    "start_time": "2022-02-08T15:07:24.025Z"
   },
   {
    "duration": 271,
    "start_time": "2022-02-08T15:07:24.748Z"
   },
   {
    "duration": 38,
    "start_time": "2022-02-08T15:07:31.081Z"
   },
   {
    "duration": 6506,
    "start_time": "2022-02-08T15:13:45.695Z"
   },
   {
    "duration": 238,
    "start_time": "2022-02-08T15:14:03.481Z"
   },
   {
    "duration": 12,
    "start_time": "2022-02-08T15:14:04.688Z"
   },
   {
    "duration": 13,
    "start_time": "2022-02-08T15:14:06.536Z"
   },
   {
    "duration": 3,
    "start_time": "2022-02-08T15:14:09.422Z"
   },
   {
    "duration": 8,
    "start_time": "2022-02-08T15:14:10.426Z"
   },
   {
    "duration": 85,
    "start_time": "2022-02-08T15:18:56.897Z"
   },
   {
    "duration": 10,
    "start_time": "2022-02-08T15:19:11.662Z"
   },
   {
    "duration": 7,
    "start_time": "2022-02-08T15:19:12.391Z"
   },
   {
    "duration": 26,
    "start_time": "2022-02-08T15:19:13.509Z"
   },
   {
    "duration": 16,
    "start_time": "2022-02-08T15:19:27.225Z"
   },
   {
    "duration": 90,
    "start_time": "2022-02-08T15:22:54.817Z"
   },
   {
    "duration": 15,
    "start_time": "2022-02-08T15:23:51.325Z"
   },
   {
    "duration": 7009,
    "start_time": "2022-02-08T15:25:02.061Z"
   },
   {
    "duration": 6778,
    "start_time": "2022-02-08T15:25:43.679Z"
   },
   {
    "duration": 810,
    "start_time": "2022-02-08T15:26:11.145Z"
   },
   {
    "duration": 19,
    "start_time": "2022-02-08T15:26:11.957Z"
   },
   {
    "duration": 11,
    "start_time": "2022-02-08T15:26:11.983Z"
   },
   {
    "duration": 7,
    "start_time": "2022-02-08T15:26:11.995Z"
   },
   {
    "duration": 5,
    "start_time": "2022-02-08T15:26:12.004Z"
   },
   {
    "duration": 9,
    "start_time": "2022-02-08T15:26:12.012Z"
   },
   {
    "duration": 56,
    "start_time": "2022-02-08T15:26:12.023Z"
   },
   {
    "duration": 8,
    "start_time": "2022-02-08T15:26:12.081Z"
   },
   {
    "duration": 19,
    "start_time": "2022-02-08T15:26:12.091Z"
   },
   {
    "duration": 2,
    "start_time": "2022-02-08T15:26:12.112Z"
   },
   {
    "duration": 4,
    "start_time": "2022-02-08T15:26:12.116Z"
   },
   {
    "duration": 6496,
    "start_time": "2022-02-08T15:26:12.122Z"
   },
   {
    "duration": -68,
    "start_time": "2022-02-08T15:26:18.688Z"
   },
   {
    "duration": -69,
    "start_time": "2022-02-08T15:26:18.690Z"
   },
   {
    "duration": -70,
    "start_time": "2022-02-08T15:26:18.693Z"
   },
   {
    "duration": -73,
    "start_time": "2022-02-08T15:26:18.696Z"
   },
   {
    "duration": -75,
    "start_time": "2022-02-08T15:26:18.699Z"
   },
   {
    "duration": -77,
    "start_time": "2022-02-08T15:26:18.702Z"
   },
   {
    "duration": -78,
    "start_time": "2022-02-08T15:26:18.704Z"
   },
   {
    "duration": -78,
    "start_time": "2022-02-08T15:26:18.705Z"
   },
   {
    "duration": -78,
    "start_time": "2022-02-08T15:26:18.706Z"
   },
   {
    "duration": -80,
    "start_time": "2022-02-08T15:26:18.708Z"
   },
   {
    "duration": -81,
    "start_time": "2022-02-08T15:26:18.710Z"
   },
   {
    "duration": -103,
    "start_time": "2022-02-08T15:26:18.733Z"
   },
   {
    "duration": -108,
    "start_time": "2022-02-08T15:26:18.739Z"
   },
   {
    "duration": 16,
    "start_time": "2022-02-08T15:26:19.505Z"
   },
   {
    "duration": 11,
    "start_time": "2022-02-08T15:26:21.582Z"
   },
   {
    "duration": 6386,
    "start_time": "2022-02-08T15:26:38.735Z"
   },
   {
    "duration": 417,
    "start_time": "2022-02-08T15:26:50.452Z"
   },
   {
    "duration": 11,
    "start_time": "2022-02-08T15:26:51.272Z"
   },
   {
    "duration": 9,
    "start_time": "2022-02-08T15:26:51.983Z"
   },
   {
    "duration": 7,
    "start_time": "2022-02-08T15:26:54.800Z"
   },
   {
    "duration": 269,
    "start_time": "2022-02-08T15:36:55.022Z"
   },
   {
    "duration": 6,
    "start_time": "2022-02-08T15:37:25.063Z"
   },
   {
    "duration": 6294,
    "start_time": "2022-02-08T15:37:37.046Z"
   },
   {
    "duration": 813,
    "start_time": "2022-02-08T15:37:55.244Z"
   },
   {
    "duration": 17,
    "start_time": "2022-02-08T15:37:56.105Z"
   },
   {
    "duration": 10,
    "start_time": "2022-02-08T15:37:57.069Z"
   },
   {
    "duration": 8,
    "start_time": "2022-02-08T15:37:59.846Z"
   },
   {
    "duration": 3,
    "start_time": "2022-02-08T15:38:01.053Z"
   },
   {
    "duration": 11,
    "start_time": "2022-02-08T15:38:02.047Z"
   },
   {
    "duration": 11,
    "start_time": "2022-02-08T15:38:02.866Z"
   },
   {
    "duration": 7,
    "start_time": "2022-02-08T15:38:03.750Z"
   },
   {
    "duration": 15,
    "start_time": "2022-02-08T15:38:04.855Z"
   },
   {
    "duration": 2,
    "start_time": "2022-02-08T15:38:08.775Z"
   },
   {
    "duration": 2,
    "start_time": "2022-02-08T15:38:09.170Z"
   },
   {
    "duration": 7,
    "start_time": "2022-02-08T15:38:11.997Z"
   },
   {
    "duration": 6283,
    "start_time": "2022-02-08T15:39:36.853Z"
   },
   {
    "duration": 8,
    "start_time": "2022-02-08T15:40:06.298Z"
   },
   {
    "duration": 19,
    "start_time": "2022-02-08T15:41:11.851Z"
   },
   {
    "duration": 273,
    "start_time": "2022-02-08T15:45:15.436Z"
   },
   {
    "duration": 9,
    "start_time": "2022-02-08T15:46:23.910Z"
   },
   {
    "duration": 20,
    "start_time": "2022-02-08T15:46:27.356Z"
   },
   {
    "duration": 9,
    "start_time": "2022-02-08T15:48:19.493Z"
   },
   {
    "duration": 10,
    "start_time": "2022-02-08T15:48:23.030Z"
   },
   {
    "duration": 6594,
    "start_time": "2022-02-08T15:48:38.117Z"
   },
   {
    "duration": -79,
    "start_time": "2022-02-08T15:48:44.792Z"
   },
   {
    "duration": 13,
    "start_time": "2022-02-08T15:49:08.994Z"
   },
   {
    "duration": 8,
    "start_time": "2022-02-08T15:49:20.365Z"
   },
   {
    "duration": 14,
    "start_time": "2022-02-08T15:50:03.914Z"
   },
   {
    "duration": 10,
    "start_time": "2022-02-08T15:50:05.993Z"
   },
   {
    "duration": 5,
    "start_time": "2022-02-08T15:51:46.863Z"
   },
   {
    "duration": 133,
    "start_time": "2022-02-08T15:51:59.589Z"
   },
   {
    "duration": 18,
    "start_time": "2022-02-08T15:52:10.591Z"
   },
   {
    "duration": 828,
    "start_time": "2022-02-08T15:52:38.289Z"
   },
   {
    "duration": 17,
    "start_time": "2022-02-08T15:52:39.119Z"
   },
   {
    "duration": 11,
    "start_time": "2022-02-08T15:52:39.137Z"
   },
   {
    "duration": 5,
    "start_time": "2022-02-08T15:52:39.150Z"
   },
   {
    "duration": 2,
    "start_time": "2022-02-08T15:52:39.157Z"
   },
   {
    "duration": 9,
    "start_time": "2022-02-08T15:52:39.172Z"
   },
   {
    "duration": 10,
    "start_time": "2022-02-08T15:52:39.182Z"
   },
   {
    "duration": 8,
    "start_time": "2022-02-08T15:52:39.194Z"
   },
   {
    "duration": 15,
    "start_time": "2022-02-08T15:52:39.204Z"
   },
   {
    "duration": 2,
    "start_time": "2022-02-08T15:52:39.220Z"
   },
   {
    "duration": 6,
    "start_time": "2022-02-08T15:52:39.224Z"
   },
   {
    "duration": 45,
    "start_time": "2022-02-08T15:52:39.232Z"
   },
   {
    "duration": 21,
    "start_time": "2022-02-08T15:52:39.278Z"
   },
   {
    "duration": 8,
    "start_time": "2022-02-08T15:52:39.300Z"
   },
   {
    "duration": 9,
    "start_time": "2022-02-08T15:52:39.310Z"
   },
   {
    "duration": 13,
    "start_time": "2022-02-08T15:52:39.320Z"
   },
   {
    "duration": 46,
    "start_time": "2022-02-08T15:52:39.334Z"
   },
   {
    "duration": 8,
    "start_time": "2022-02-08T15:52:39.382Z"
   },
   {
    "duration": 28,
    "start_time": "2022-02-08T15:52:39.391Z"
   },
   {
    "duration": 12,
    "start_time": "2022-02-08T15:52:39.420Z"
   },
   {
    "duration": 123,
    "start_time": "2022-02-08T15:52:39.434Z"
   },
   {
    "duration": 4,
    "start_time": "2022-02-08T15:52:39.559Z"
   },
   {
    "duration": 21,
    "start_time": "2022-02-08T15:52:39.565Z"
   },
   {
    "duration": 26,
    "start_time": "2022-02-08T15:52:39.588Z"
   },
   {
    "duration": 13,
    "start_time": "2022-02-08T15:54:14.348Z"
   },
   {
    "duration": 4,
    "start_time": "2022-02-08T15:54:45.206Z"
   },
   {
    "duration": 4,
    "start_time": "2022-02-08T15:56:29.241Z"
   },
   {
    "duration": 6295,
    "start_time": "2022-02-08T15:59:14.188Z"
   },
   {
    "duration": 6241,
    "start_time": "2022-02-08T15:59:36.388Z"
   },
   {
    "duration": 7175,
    "start_time": "2022-02-08T16:00:02.333Z"
   },
   {
    "duration": 243,
    "start_time": "2022-02-08T16:00:31.397Z"
   },
   {
    "duration": 9,
    "start_time": "2022-02-08T16:00:42.508Z"
   },
   {
    "duration": 7,
    "start_time": "2022-02-08T16:01:27.950Z"
   },
   {
    "duration": 15,
    "start_time": "2022-02-08T16:01:53.986Z"
   },
   {
    "duration": 13,
    "start_time": "2022-02-08T16:02:14.989Z"
   },
   {
    "duration": 13,
    "start_time": "2022-02-08T16:02:27.508Z"
   },
   {
    "duration": 14,
    "start_time": "2022-02-08T16:02:39.467Z"
   },
   {
    "duration": 13,
    "start_time": "2022-02-08T16:02:53.225Z"
   },
   {
    "duration": 18,
    "start_time": "2022-02-08T16:52:12.260Z"
   },
   {
    "duration": 13,
    "start_time": "2022-02-08T17:04:22.926Z"
   },
   {
    "duration": 257,
    "start_time": "2022-02-08T17:06:02.079Z"
   },
   {
    "duration": 14,
    "start_time": "2022-02-08T17:06:15.941Z"
   },
   {
    "duration": 14,
    "start_time": "2022-02-08T17:06:25.547Z"
   },
   {
    "duration": 14,
    "start_time": "2022-02-08T17:06:56.662Z"
   },
   {
    "duration": 14,
    "start_time": "2022-02-08T17:06:58.698Z"
   },
   {
    "duration": 13,
    "start_time": "2022-02-08T17:07:03.883Z"
   },
   {
    "duration": 15,
    "start_time": "2022-02-08T17:07:04.462Z"
   },
   {
    "duration": 13,
    "start_time": "2022-02-08T17:11:13.354Z"
   },
   {
    "duration": 974,
    "start_time": "2022-02-08T17:11:26.013Z"
   },
   {
    "duration": 16,
    "start_time": "2022-02-08T17:11:26.989Z"
   },
   {
    "duration": 325,
    "start_time": "2022-02-08T17:11:27.007Z"
   },
   {
    "duration": 935,
    "start_time": "2022-02-08T17:11:27.334Z"
   },
   {
    "duration": 494,
    "start_time": "2022-02-08T17:11:28.274Z"
   },
   {
    "duration": 662,
    "start_time": "2022-02-08T17:11:28.770Z"
   },
   {
    "duration": 515,
    "start_time": "2022-02-08T17:11:29.434Z"
   },
   {
    "duration": 788,
    "start_time": "2022-02-08T17:11:29.952Z"
   },
   {
    "duration": 641,
    "start_time": "2022-02-08T17:11:30.742Z"
   },
   {
    "duration": 1082,
    "start_time": "2022-02-08T17:11:31.384Z"
   },
   {
    "duration": 565,
    "start_time": "2022-02-08T17:11:32.468Z"
   },
   {
    "duration": 270,
    "start_time": "2022-02-08T17:11:33.034Z"
   },
   {
    "duration": 1470,
    "start_time": "2022-02-08T17:11:33.306Z"
   },
   {
    "duration": 958,
    "start_time": "2022-02-08T17:11:34.777Z"
   },
   {
    "duration": 788,
    "start_time": "2022-02-08T17:11:35.737Z"
   },
   {
    "duration": 529,
    "start_time": "2022-02-08T17:11:36.526Z"
   },
   {
    "duration": 621,
    "start_time": "2022-02-08T17:11:37.057Z"
   },
   {
    "duration": 510,
    "start_time": "2022-02-08T17:11:37.680Z"
   },
   {
    "duration": 1137,
    "start_time": "2022-02-08T17:11:38.193Z"
   },
   {
    "duration": 403,
    "start_time": "2022-02-08T17:11:39.331Z"
   },
   {
    "duration": 313,
    "start_time": "2022-02-08T17:11:39.736Z"
   },
   {
    "duration": 669,
    "start_time": "2022-02-08T17:11:40.050Z"
   },
   {
    "duration": 309,
    "start_time": "2022-02-08T17:11:40.722Z"
   },
   {
    "duration": 196,
    "start_time": "2022-02-08T17:11:41.033Z"
   },
   {
    "duration": 226,
    "start_time": "2022-02-08T17:11:41.231Z"
   },
   {
    "duration": 368,
    "start_time": "2022-02-08T17:11:41.458Z"
   },
   {
    "duration": 498,
    "start_time": "2022-02-08T17:11:41.828Z"
   },
   {
    "duration": 24,
    "start_time": "2022-02-08T17:12:04.393Z"
   },
   {
    "duration": 968,
    "start_time": "2022-02-08T17:12:10.824Z"
   },
   {
    "duration": 16,
    "start_time": "2022-02-08T17:12:11.795Z"
   },
   {
    "duration": 791,
    "start_time": "2022-02-08T17:12:11.813Z"
   },
   {
    "duration": 380,
    "start_time": "2022-02-08T17:12:12.606Z"
   },
   {
    "duration": 241,
    "start_time": "2022-02-08T17:12:12.988Z"
   },
   {
    "duration": 501,
    "start_time": "2022-02-08T17:12:13.231Z"
   },
   {
    "duration": 815,
    "start_time": "2022-02-08T17:12:13.734Z"
   },
   {
    "duration": 485,
    "start_time": "2022-02-08T17:12:14.553Z"
   },
   {
    "duration": 513,
    "start_time": "2022-02-08T17:12:15.040Z"
   },
   {
    "duration": 712,
    "start_time": "2022-02-08T17:12:15.554Z"
   },
   {
    "duration": 1031,
    "start_time": "2022-02-08T17:12:16.268Z"
   },
   {
    "duration": 1066,
    "start_time": "2022-02-08T17:12:17.301Z"
   },
   {
    "duration": 996,
    "start_time": "2022-02-08T17:12:18.369Z"
   },
   {
    "duration": 1088,
    "start_time": "2022-02-08T17:12:19.367Z"
   },
   {
    "duration": 694,
    "start_time": "2022-02-08T17:12:20.456Z"
   },
   {
    "duration": 1084,
    "start_time": "2022-02-08T17:12:21.152Z"
   },
   {
    "duration": 453,
    "start_time": "2022-02-08T17:12:22.238Z"
   },
   {
    "duration": 872,
    "start_time": "2022-02-08T17:12:22.692Z"
   },
   {
    "duration": 924,
    "start_time": "2022-02-08T17:12:23.565Z"
   },
   {
    "duration": 535,
    "start_time": "2022-02-08T17:12:24.491Z"
   },
   {
    "duration": 512,
    "start_time": "2022-02-08T17:12:25.028Z"
   },
   {
    "duration": 464,
    "start_time": "2022-02-08T17:12:25.541Z"
   },
   {
    "duration": 700,
    "start_time": "2022-02-08T17:12:26.008Z"
   },
   {
    "duration": 558,
    "start_time": "2022-02-08T17:12:26.709Z"
   },
   {
    "duration": 214,
    "start_time": "2022-02-08T17:12:27.272Z"
   },
   {
    "duration": 913,
    "start_time": "2022-02-08T17:12:27.488Z"
   },
   {
    "duration": 1431,
    "start_time": "2022-02-08T17:12:28.403Z"
   },
   {
    "duration": 4,
    "start_time": "2022-02-08T17:13:06.845Z"
   },
   {
    "duration": 811,
    "start_time": "2022-02-08T17:13:11.871Z"
   },
   {
    "duration": 17,
    "start_time": "2022-02-08T17:13:12.684Z"
   },
   {
    "duration": 295,
    "start_time": "2022-02-08T17:13:12.704Z"
   },
   {
    "duration": 333,
    "start_time": "2022-02-08T17:13:13.000Z"
   },
   {
    "duration": 441,
    "start_time": "2022-02-08T17:13:13.335Z"
   },
   {
    "duration": 237,
    "start_time": "2022-02-08T17:13:13.778Z"
   },
   {
    "duration": 529,
    "start_time": "2022-02-08T17:13:14.017Z"
   },
   {
    "duration": 588,
    "start_time": "2022-02-08T17:13:14.549Z"
   },
   {
    "duration": 538,
    "start_time": "2022-02-08T17:13:15.140Z"
   },
   {
    "duration": 550,
    "start_time": "2022-02-08T17:13:15.679Z"
   },
   {
    "duration": 327,
    "start_time": "2022-02-08T17:13:16.231Z"
   },
   {
    "duration": 541,
    "start_time": "2022-02-08T17:13:16.560Z"
   },
   {
    "duration": 295,
    "start_time": "2022-02-08T17:13:17.103Z"
   },
   {
    "duration": 628,
    "start_time": "2022-02-08T17:13:17.400Z"
   },
   {
    "duration": -83,
    "start_time": "2022-02-08T17:13:18.113Z"
   },
   {
    "duration": -85,
    "start_time": "2022-02-08T17:13:18.116Z"
   },
   {
    "duration": -85,
    "start_time": "2022-02-08T17:13:18.117Z"
   },
   {
    "duration": -85,
    "start_time": "2022-02-08T17:13:18.119Z"
   },
   {
    "duration": -85,
    "start_time": "2022-02-08T17:13:18.120Z"
   },
   {
    "duration": -86,
    "start_time": "2022-02-08T17:13:18.122Z"
   },
   {
    "duration": -88,
    "start_time": "2022-02-08T17:13:18.124Z"
   },
   {
    "duration": -88,
    "start_time": "2022-02-08T17:13:18.126Z"
   },
   {
    "duration": -90,
    "start_time": "2022-02-08T17:13:18.129Z"
   },
   {
    "duration": -103,
    "start_time": "2022-02-08T17:13:18.143Z"
   },
   {
    "duration": -107,
    "start_time": "2022-02-08T17:13:18.148Z"
   },
   {
    "duration": -109,
    "start_time": "2022-02-08T17:13:18.150Z"
   },
   {
    "duration": -110,
    "start_time": "2022-02-08T17:13:18.152Z"
   },
   {
    "duration": 923,
    "start_time": "2022-02-08T17:13:35.782Z"
   },
   {
    "duration": 16,
    "start_time": "2022-02-08T17:13:36.707Z"
   },
   {
    "duration": 223,
    "start_time": "2022-02-08T17:13:36.725Z"
   },
   {
    "duration": 129,
    "start_time": "2022-02-08T17:13:36.949Z"
   },
   {
    "duration": 161,
    "start_time": "2022-02-08T17:13:37.081Z"
   },
   {
    "duration": 154,
    "start_time": "2022-02-08T17:13:37.244Z"
   },
   {
    "duration": 135,
    "start_time": "2022-02-08T17:13:37.399Z"
   },
   {
    "duration": 256,
    "start_time": "2022-02-08T17:13:37.536Z"
   },
   {
    "duration": 238,
    "start_time": "2022-02-08T17:13:37.795Z"
   },
   {
    "duration": 223,
    "start_time": "2022-02-08T17:13:38.035Z"
   },
   {
    "duration": 168,
    "start_time": "2022-02-08T17:13:38.260Z"
   },
   {
    "duration": 197,
    "start_time": "2022-02-08T17:13:38.430Z"
   },
   {
    "duration": 128,
    "start_time": "2022-02-08T17:13:38.629Z"
   },
   {
    "duration": 150,
    "start_time": "2022-02-08T17:13:38.759Z"
   },
   {
    "duration": 190,
    "start_time": "2022-02-08T17:13:38.911Z"
   },
   {
    "duration": 433,
    "start_time": "2022-02-08T17:13:39.102Z"
   },
   {
    "duration": 199,
    "start_time": "2022-02-08T17:13:39.536Z"
   },
   {
    "duration": 412,
    "start_time": "2022-02-08T17:13:39.737Z"
   },
   {
    "duration": 191,
    "start_time": "2022-02-08T17:13:40.150Z"
   },
   {
    "duration": 286,
    "start_time": "2022-02-08T17:13:40.342Z"
   },
   {
    "duration": 232,
    "start_time": "2022-02-08T17:13:40.630Z"
   },
   {
    "duration": 197,
    "start_time": "2022-02-08T17:13:40.863Z"
   },
   {
    "duration": 290,
    "start_time": "2022-02-08T17:13:41.062Z"
   },
   {
    "duration": 220,
    "start_time": "2022-02-08T17:13:41.354Z"
   },
   {
    "duration": 148,
    "start_time": "2022-02-08T17:13:41.576Z"
   },
   {
    "duration": 209,
    "start_time": "2022-02-08T17:13:41.726Z"
   },
   {
    "duration": 26,
    "start_time": "2022-02-08T17:35:47.480Z"
   },
   {
    "duration": 18,
    "start_time": "2022-02-08T17:35:53.724Z"
   },
   {
    "duration": 4,
    "start_time": "2022-02-08T17:36:19.537Z"
   },
   {
    "duration": 5,
    "start_time": "2022-02-08T17:36:24.248Z"
   },
   {
    "duration": 4,
    "start_time": "2022-02-08T17:36:32.362Z"
   },
   {
    "duration": 8,
    "start_time": "2022-02-08T17:37:25.931Z"
   },
   {
    "duration": 318,
    "start_time": "2022-02-08T17:38:08.840Z"
   },
   {
    "duration": 297,
    "start_time": "2022-02-08T17:38:21.023Z"
   },
   {
    "duration": 281,
    "start_time": "2022-02-08T17:38:31.182Z"
   },
   {
    "duration": 6,
    "start_time": "2022-02-08T17:38:41.626Z"
   },
   {
    "duration": 8,
    "start_time": "2022-02-08T17:40:47.784Z"
   },
   {
    "duration": 4469,
    "start_time": "2022-02-08T17:42:54.161Z"
   },
   {
    "duration": 9,
    "start_time": "2022-02-08T17:42:58.632Z"
   },
   {
    "duration": 2119,
    "start_time": "2022-02-08T17:42:58.642Z"
   },
   {
    "duration": 2454,
    "start_time": "2022-02-08T17:43:00.763Z"
   },
   {
    "duration": 1713,
    "start_time": "2022-02-08T17:43:03.218Z"
   },
   {
    "duration": 1817,
    "start_time": "2022-02-08T17:43:04.933Z"
   },
   {
    "duration": 1599,
    "start_time": "2022-02-08T17:43:06.751Z"
   },
   {
    "duration": 2114,
    "start_time": "2022-02-08T17:43:08.352Z"
   },
   {
    "duration": 1789,
    "start_time": "2022-02-08T17:43:15.029Z"
   },
   {
    "duration": 18355,
    "start_time": "2022-02-08T17:43:16.820Z"
   },
   {
    "duration": 2128,
    "start_time": "2022-02-08T17:43:35.177Z"
   },
   {
    "duration": 1344,
    "start_time": "2022-02-08T17:43:37.307Z"
   },
   {
    "duration": 2568,
    "start_time": "2022-02-08T17:43:38.653Z"
   },
   {
    "duration": 1964,
    "start_time": "2022-02-08T17:43:41.223Z"
   },
   {
    "duration": 2048,
    "start_time": "2022-02-08T17:43:43.189Z"
   },
   {
    "duration": 1992,
    "start_time": "2022-02-08T17:43:45.239Z"
   },
   {
    "duration": 1972,
    "start_time": "2022-02-08T17:43:47.232Z"
   },
   {
    "duration": 1265,
    "start_time": "2022-02-08T17:43:49.205Z"
   },
   {
    "duration": 1055,
    "start_time": "2022-02-08T17:43:50.472Z"
   },
   {
    "duration": 4319,
    "start_time": "2022-02-08T17:43:51.529Z"
   },
   {
    "duration": 4502,
    "start_time": "2022-02-08T17:43:55.849Z"
   },
   {
    "duration": 3737,
    "start_time": "2022-02-08T17:44:58.291Z"
   },
   {
    "duration": 19,
    "start_time": "2022-02-08T17:45:02.030Z"
   },
   {
    "duration": 2096,
    "start_time": "2022-02-08T17:45:02.052Z"
   },
   {
    "duration": 1192,
    "start_time": "2022-02-08T17:45:04.151Z"
   },
   {
    "duration": 1170,
    "start_time": "2022-02-08T17:45:05.345Z"
   },
   {
    "duration": 5754,
    "start_time": "2022-02-08T17:45:06.517Z"
   },
   {
    "duration": 673,
    "start_time": "2022-02-08T17:45:12.272Z"
   },
   {
    "duration": 964,
    "start_time": "2022-02-08T17:45:12.947Z"
   },
   {
    "duration": 1265,
    "start_time": "2022-02-08T17:45:13.913Z"
   },
   {
    "duration": 1095,
    "start_time": "2022-02-08T17:45:15.180Z"
   },
   {
    "duration": 487,
    "start_time": "2022-02-08T17:45:16.277Z"
   },
   {
    "duration": 1534,
    "start_time": "2022-02-08T17:45:16.766Z"
   },
   {
    "duration": 1643,
    "start_time": "2022-02-08T17:45:18.302Z"
   },
   {
    "duration": 657,
    "start_time": "2022-02-08T17:45:19.947Z"
   },
   {
    "duration": 1000,
    "start_time": "2022-02-08T17:45:20.605Z"
   },
   {
    "duration": 11552,
    "start_time": "2022-02-08T17:45:21.607Z"
   },
   {
    "duration": 1498,
    "start_time": "2022-02-08T17:45:33.160Z"
   },
   {
    "duration": 1631,
    "start_time": "2022-02-08T17:45:34.660Z"
   },
   {
    "duration": 1100,
    "start_time": "2022-02-08T17:45:36.293Z"
   },
   {
    "duration": 945,
    "start_time": "2022-02-08T17:45:37.395Z"
   },
   {
    "duration": 624,
    "start_time": "2022-02-08T17:45:38.342Z"
   },
   {
    "duration": 654,
    "start_time": "2022-02-08T17:45:38.967Z"
   },
   {
    "duration": 741,
    "start_time": "2022-02-08T17:45:39.624Z"
   },
   {
    "duration": 563,
    "start_time": "2022-02-08T17:45:40.368Z"
   },
   {
    "duration": 750,
    "start_time": "2022-02-08T17:45:40.933Z"
   },
   {
    "duration": 963,
    "start_time": "2022-02-08T17:45:41.685Z"
   },
   {
    "duration": 512,
    "start_time": "2022-02-08T17:47:14.857Z"
   },
   {
    "duration": 11,
    "start_time": "2022-02-08T17:47:17.622Z"
   },
   {
    "duration": 1589,
    "start_time": "2022-02-08T17:47:22.106Z"
   },
   {
    "duration": 1343,
    "start_time": "2022-02-08T17:47:36.413Z"
   },
   {
    "duration": 16,
    "start_time": "2022-02-08T17:47:39.342Z"
   },
   {
    "duration": 11398,
    "start_time": "2022-02-08T17:47:42.309Z"
   },
   {
    "duration": 8,
    "start_time": "2022-02-08T17:48:06.056Z"
   },
   {
    "duration": 3,
    "start_time": "2022-02-08T17:48:08.076Z"
   },
   {
    "duration": 2196,
    "start_time": "2022-02-08T17:48:08.845Z"
   },
   {
    "duration": 15,
    "start_time": "2022-02-08T17:48:32.811Z"
   },
   {
    "duration": 8,
    "start_time": "2022-02-08T17:48:35.950Z"
   },
   {
    "duration": 992,
    "start_time": "2022-02-08T17:48:37.103Z"
   },
   {
    "duration": 2,
    "start_time": "2022-02-08T17:48:51.439Z"
   },
   {
    "duration": 1940,
    "start_time": "2022-02-08T17:48:51.844Z"
   },
   {
    "duration": 14,
    "start_time": "2022-02-08T17:48:55.708Z"
   },
   {
    "duration": 9239,
    "start_time": "2022-02-08T17:49:00.774Z"
   },
   {
    "duration": 7,
    "start_time": "2022-02-08T17:49:22.565Z"
   },
   {
    "duration": 16,
    "start_time": "2022-02-08T17:49:34.839Z"
   },
   {
    "duration": 942,
    "start_time": "2022-02-08T17:49:35.376Z"
   },
   {
    "duration": 8,
    "start_time": "2022-02-08T17:49:49.286Z"
   },
   {
    "duration": 21,
    "start_time": "2022-02-08T17:49:53.570Z"
   },
   {
    "duration": 11,
    "start_time": "2022-02-08T17:49:56.979Z"
   },
   {
    "duration": 10,
    "start_time": "2022-02-08T17:49:59.549Z"
   },
   {
    "duration": 14,
    "start_time": "2022-02-08T17:51:31.276Z"
   },
   {
    "duration": 9986,
    "start_time": "2022-02-08T17:51:32.455Z"
   },
   {
    "duration": 887,
    "start_time": "2022-02-08T17:51:43.889Z"
   },
   {
    "duration": 11,
    "start_time": "2022-02-08T17:51:50.019Z"
   },
   {
    "duration": 10,
    "start_time": "2022-02-08T17:51:58.262Z"
   },
   {
    "duration": 98,
    "start_time": "2022-02-08T17:52:04.937Z"
   },
   {
    "duration": -140253,
    "start_time": "2022-02-08T18:23:38.609Z"
   },
   {
    "duration": 9,
    "start_time": "2022-02-08T18:37:12.884Z"
   },
   {
    "duration": 14,
    "start_time": "2022-02-08T18:38:00.345Z"
   },
   {
    "duration": 12,
    "start_time": "2022-02-08T18:38:10.584Z"
   },
   {
    "duration": 11,
    "start_time": "2022-02-08T18:40:16.555Z"
   },
   {
    "duration": 14,
    "start_time": "2022-02-08T18:40:41.715Z"
   },
   {
    "duration": 12,
    "start_time": "2022-02-08T18:42:44.913Z"
   },
   {
    "duration": 12,
    "start_time": "2022-02-08T18:43:33.157Z"
   },
   {
    "duration": 331,
    "start_time": "2022-02-08T18:50:08.417Z"
   },
   {
    "duration": 7,
    "start_time": "2022-02-08T18:50:43.801Z"
   },
   {
    "duration": 16,
    "start_time": "2022-02-08T18:50:56.365Z"
   },
   {
    "duration": 269,
    "start_time": "2022-02-08T18:51:36.725Z"
   },
   {
    "duration": 14,
    "start_time": "2022-02-08T18:51:37.378Z"
   },
   {
    "duration": 885,
    "start_time": "2022-02-08T18:51:51.268Z"
   },
   {
    "duration": 17,
    "start_time": "2022-02-08T18:51:52.154Z"
   },
   {
    "duration": 10,
    "start_time": "2022-02-08T18:51:52.173Z"
   },
   {
    "duration": 5,
    "start_time": "2022-02-08T18:51:52.185Z"
   },
   {
    "duration": 2,
    "start_time": "2022-02-08T18:51:52.192Z"
   },
   {
    "duration": 9,
    "start_time": "2022-02-08T18:51:52.195Z"
   },
   {
    "duration": 11,
    "start_time": "2022-02-08T18:51:52.205Z"
   },
   {
    "duration": 8,
    "start_time": "2022-02-08T18:51:52.218Z"
   },
   {
    "duration": 47,
    "start_time": "2022-02-08T18:51:52.228Z"
   },
   {
    "duration": 3,
    "start_time": "2022-02-08T18:51:52.277Z"
   },
   {
    "duration": 5,
    "start_time": "2022-02-08T18:51:52.281Z"
   },
   {
    "duration": 18,
    "start_time": "2022-02-08T18:51:52.287Z"
   },
   {
    "duration": 13,
    "start_time": "2022-02-08T18:51:52.306Z"
   },
   {
    "duration": 8,
    "start_time": "2022-02-08T18:51:52.320Z"
   },
   {
    "duration": 44,
    "start_time": "2022-02-08T18:51:52.329Z"
   },
   {
    "duration": 12,
    "start_time": "2022-02-08T18:51:52.374Z"
   },
   {
    "duration": 6,
    "start_time": "2022-02-08T18:51:52.388Z"
   },
   {
    "duration": 6,
    "start_time": "2022-02-08T18:51:52.395Z"
   },
   {
    "duration": 14,
    "start_time": "2022-02-08T18:51:52.402Z"
   },
   {
    "duration": 12,
    "start_time": "2022-02-08T18:51:52.417Z"
   },
   {
    "duration": 114,
    "start_time": "2022-02-08T18:51:52.430Z"
   },
   {
    "duration": 26,
    "start_time": "2022-02-08T18:51:52.546Z"
   },
   {
    "duration": 12,
    "start_time": "2022-02-08T18:51:52.575Z"
   },
   {
    "duration": 4,
    "start_time": "2022-02-08T18:51:52.588Z"
   },
   {
    "duration": 14,
    "start_time": "2022-02-08T18:51:52.594Z"
   },
   {
    "duration": 5,
    "start_time": "2022-02-08T18:51:52.610Z"
   },
   {
    "duration": 19,
    "start_time": "2022-02-08T18:51:52.617Z"
   },
   {
    "duration": 42,
    "start_time": "2022-02-08T18:51:52.637Z"
   },
   {
    "duration": 5,
    "start_time": "2022-02-08T18:52:35.991Z"
   },
   {
    "duration": 10,
    "start_time": "2022-02-08T18:52:36.924Z"
   },
   {
    "duration": 765,
    "start_time": "2022-02-08T18:52:40.752Z"
   },
   {
    "duration": 17,
    "start_time": "2022-02-08T18:52:41.519Z"
   },
   {
    "duration": 12,
    "start_time": "2022-02-08T18:52:41.538Z"
   },
   {
    "duration": 6,
    "start_time": "2022-02-08T18:52:41.552Z"
   },
   {
    "duration": 2,
    "start_time": "2022-02-08T18:52:41.560Z"
   },
   {
    "duration": 14,
    "start_time": "2022-02-08T18:52:41.563Z"
   },
   {
    "duration": 10,
    "start_time": "2022-02-08T18:52:41.579Z"
   },
   {
    "duration": 7,
    "start_time": "2022-02-08T18:52:41.591Z"
   },
   {
    "duration": 14,
    "start_time": "2022-02-08T18:52:41.600Z"
   },
   {
    "duration": 2,
    "start_time": "2022-02-08T18:52:41.615Z"
   },
   {
    "duration": 11,
    "start_time": "2022-02-08T18:52:41.619Z"
   },
   {
    "duration": 20,
    "start_time": "2022-02-08T18:52:41.632Z"
   },
   {
    "duration": 15,
    "start_time": "2022-02-08T18:52:41.671Z"
   },
   {
    "duration": 7,
    "start_time": "2022-02-08T18:52:41.687Z"
   },
   {
    "duration": 18,
    "start_time": "2022-02-08T18:52:41.696Z"
   },
   {
    "duration": 11,
    "start_time": "2022-02-08T18:52:41.715Z"
   },
   {
    "duration": 7,
    "start_time": "2022-02-08T18:52:41.727Z"
   },
   {
    "duration": 7,
    "start_time": "2022-02-08T18:52:41.736Z"
   },
   {
    "duration": 10,
    "start_time": "2022-02-08T18:52:41.772Z"
   },
   {
    "duration": 9,
    "start_time": "2022-02-08T18:52:41.784Z"
   },
   {
    "duration": 109,
    "start_time": "2022-02-08T18:52:41.795Z"
   },
   {
    "duration": 11,
    "start_time": "2022-02-08T18:52:41.906Z"
   },
   {
    "duration": 11,
    "start_time": "2022-02-08T18:52:41.920Z"
   },
   {
    "duration": 5,
    "start_time": "2022-02-08T18:52:41.932Z"
   },
   {
    "duration": 38,
    "start_time": "2022-02-08T18:52:41.938Z"
   },
   {
    "duration": 3,
    "start_time": "2022-02-08T18:52:41.978Z"
   },
   {
    "duration": 3,
    "start_time": "2022-02-08T18:52:41.983Z"
   },
   {
    "duration": 26,
    "start_time": "2022-02-08T18:52:41.988Z"
   },
   {
    "duration": 368,
    "start_time": "2022-02-08T18:53:28.073Z"
   },
   {
    "duration": 4,
    "start_time": "2022-02-08T18:53:33.796Z"
   },
   {
    "duration": 3,
    "start_time": "2022-02-08T18:53:59.709Z"
   },
   {
    "duration": 10,
    "start_time": "2022-02-08T18:54:06.445Z"
   },
   {
    "duration": 4,
    "start_time": "2022-02-08T18:57:06.126Z"
   },
   {
    "duration": 8,
    "start_time": "2022-02-08T18:58:09.157Z"
   },
   {
    "duration": 10,
    "start_time": "2022-02-08T18:58:09.825Z"
   },
   {
    "duration": 5,
    "start_time": "2022-02-08T19:00:27.819Z"
   },
   {
    "duration": 6,
    "start_time": "2022-02-08T19:00:46.902Z"
   },
   {
    "duration": 15,
    "start_time": "2022-02-08T19:00:47.481Z"
   },
   {
    "duration": 149,
    "start_time": "2022-02-08T19:01:09.040Z"
   },
   {
    "duration": 820,
    "start_time": "2022-02-08T19:01:21.347Z"
   },
   {
    "duration": 24,
    "start_time": "2022-02-08T19:01:22.169Z"
   },
   {
    "duration": 26,
    "start_time": "2022-02-08T19:01:22.195Z"
   },
   {
    "duration": 8,
    "start_time": "2022-02-08T19:01:22.223Z"
   },
   {
    "duration": 9,
    "start_time": "2022-02-08T19:01:22.233Z"
   },
   {
    "duration": 19,
    "start_time": "2022-02-08T19:01:22.244Z"
   },
   {
    "duration": 11,
    "start_time": "2022-02-08T19:01:22.265Z"
   },
   {
    "duration": 7,
    "start_time": "2022-02-08T19:01:22.279Z"
   },
   {
    "duration": 15,
    "start_time": "2022-02-08T19:01:22.288Z"
   },
   {
    "duration": 2,
    "start_time": "2022-02-08T19:01:22.305Z"
   },
   {
    "duration": 7,
    "start_time": "2022-02-08T19:01:22.308Z"
   },
   {
    "duration": 19,
    "start_time": "2022-02-08T19:01:22.316Z"
   },
   {
    "duration": 43,
    "start_time": "2022-02-08T19:01:22.336Z"
   },
   {
    "duration": 8,
    "start_time": "2022-02-08T19:01:22.380Z"
   },
   {
    "duration": 18,
    "start_time": "2022-02-08T19:01:22.390Z"
   },
   {
    "duration": 11,
    "start_time": "2022-02-08T19:01:22.410Z"
   },
   {
    "duration": 6,
    "start_time": "2022-02-08T19:01:22.423Z"
   },
   {
    "duration": 6,
    "start_time": "2022-02-08T19:01:22.431Z"
   },
   {
    "duration": 38,
    "start_time": "2022-02-08T19:01:22.439Z"
   },
   {
    "duration": 14,
    "start_time": "2022-02-08T19:01:22.479Z"
   },
   {
    "duration": 179,
    "start_time": "2022-02-08T19:01:22.495Z"
   },
   {
    "duration": 16,
    "start_time": "2022-02-08T19:01:22.676Z"
   },
   {
    "duration": 12,
    "start_time": "2022-02-08T19:01:22.696Z"
   },
   {
    "duration": 4,
    "start_time": "2022-02-08T19:01:22.710Z"
   },
   {
    "duration": 15,
    "start_time": "2022-02-08T19:01:22.715Z"
   },
   {
    "duration": 3,
    "start_time": "2022-02-08T19:01:22.731Z"
   },
   {
    "duration": 44,
    "start_time": "2022-02-08T19:01:22.736Z"
   },
   {
    "duration": 31,
    "start_time": "2022-02-08T19:01:22.782Z"
   },
   {
    "duration": 10,
    "start_time": "2022-02-08T19:01:34.750Z"
   },
   {
    "duration": 751,
    "start_time": "2022-02-08T19:01:44.539Z"
   },
   {
    "duration": 16,
    "start_time": "2022-02-08T19:01:45.292Z"
   },
   {
    "duration": 9,
    "start_time": "2022-02-08T19:01:45.309Z"
   },
   {
    "duration": 6,
    "start_time": "2022-02-08T19:01:45.320Z"
   },
   {
    "duration": 3,
    "start_time": "2022-02-08T19:01:45.327Z"
   },
   {
    "duration": 9,
    "start_time": "2022-02-08T19:01:45.331Z"
   },
   {
    "duration": 38,
    "start_time": "2022-02-08T19:01:45.342Z"
   },
   {
    "duration": 7,
    "start_time": "2022-02-08T19:01:45.381Z"
   },
   {
    "duration": 13,
    "start_time": "2022-02-08T19:01:45.391Z"
   },
   {
    "duration": 2,
    "start_time": "2022-02-08T19:01:45.406Z"
   },
   {
    "duration": 8,
    "start_time": "2022-02-08T19:01:45.409Z"
   },
   {
    "duration": 18,
    "start_time": "2022-02-08T19:01:45.419Z"
   },
   {
    "duration": 34,
    "start_time": "2022-02-08T19:01:45.439Z"
   },
   {
    "duration": 8,
    "start_time": "2022-02-08T19:01:45.474Z"
   },
   {
    "duration": 19,
    "start_time": "2022-02-08T19:01:45.483Z"
   },
   {
    "duration": 12,
    "start_time": "2022-02-08T19:01:45.503Z"
   },
   {
    "duration": 6,
    "start_time": "2022-02-08T19:01:45.516Z"
   },
   {
    "duration": 8,
    "start_time": "2022-02-08T19:01:45.523Z"
   },
   {
    "duration": 13,
    "start_time": "2022-02-08T19:01:45.533Z"
   },
   {
    "duration": 32,
    "start_time": "2022-02-08T19:01:45.548Z"
   },
   {
    "duration": 109,
    "start_time": "2022-02-08T19:01:45.582Z"
   },
   {
    "duration": 13,
    "start_time": "2022-02-08T19:01:45.692Z"
   },
   {
    "duration": 13,
    "start_time": "2022-02-08T19:01:45.706Z"
   },
   {
    "duration": 4,
    "start_time": "2022-02-08T19:01:45.721Z"
   },
   {
    "duration": 10,
    "start_time": "2022-02-08T19:01:45.727Z"
   },
   {
    "duration": 3,
    "start_time": "2022-02-08T19:01:45.738Z"
   },
   {
    "duration": 3,
    "start_time": "2022-02-08T19:01:45.773Z"
   },
   {
    "duration": 24,
    "start_time": "2022-02-08T19:01:45.777Z"
   },
   {
    "duration": 3,
    "start_time": "2022-02-08T19:10:41.100Z"
   },
   {
    "duration": 7,
    "start_time": "2022-02-08T19:11:58.639Z"
   },
   {
    "duration": 11,
    "start_time": "2022-02-08T19:12:00.120Z"
   },
   {
    "duration": 3,
    "start_time": "2022-02-08T19:17:22.345Z"
   },
   {
    "duration": 3,
    "start_time": "2022-02-08T19:17:23.388Z"
   },
   {
    "duration": 27,
    "start_time": "2022-02-08T19:17:24.147Z"
   },
   {
    "duration": 9,
    "start_time": "2022-02-08T19:25:01.365Z"
   },
   {
    "duration": 10,
    "start_time": "2022-02-08T19:25:05.515Z"
   },
   {
    "duration": 5,
    "start_time": "2022-02-08T19:29:41.719Z"
   },
   {
    "duration": 10,
    "start_time": "2022-02-08T19:29:42.658Z"
   },
   {
    "duration": 945,
    "start_time": "2022-02-08T19:29:51.140Z"
   },
   {
    "duration": 18,
    "start_time": "2022-02-08T19:29:52.087Z"
   },
   {
    "duration": 11,
    "start_time": "2022-02-08T19:29:52.107Z"
   },
   {
    "duration": 7,
    "start_time": "2022-02-08T19:29:52.120Z"
   },
   {
    "duration": 3,
    "start_time": "2022-02-08T19:29:52.129Z"
   },
   {
    "duration": 40,
    "start_time": "2022-02-08T19:29:52.134Z"
   },
   {
    "duration": 12,
    "start_time": "2022-02-08T19:29:52.175Z"
   },
   {
    "duration": 8,
    "start_time": "2022-02-08T19:29:52.190Z"
   },
   {
    "duration": 20,
    "start_time": "2022-02-08T19:29:52.200Z"
   },
   {
    "duration": 2,
    "start_time": "2022-02-08T19:29:52.221Z"
   },
   {
    "duration": 12,
    "start_time": "2022-02-08T19:29:52.225Z"
   },
   {
    "duration": 16,
    "start_time": "2022-02-08T19:29:52.238Z"
   },
   {
    "duration": 28,
    "start_time": "2022-02-08T19:29:52.255Z"
   },
   {
    "duration": 7,
    "start_time": "2022-02-08T19:29:52.284Z"
   },
   {
    "duration": 19,
    "start_time": "2022-02-08T19:29:52.293Z"
   },
   {
    "duration": 13,
    "start_time": "2022-02-08T19:29:52.314Z"
   },
   {
    "duration": 7,
    "start_time": "2022-02-08T19:29:52.329Z"
   },
   {
    "duration": 37,
    "start_time": "2022-02-08T19:29:52.338Z"
   },
   {
    "duration": 10,
    "start_time": "2022-02-08T19:29:52.377Z"
   },
   {
    "duration": 12,
    "start_time": "2022-02-08T19:29:52.388Z"
   },
   {
    "duration": 120,
    "start_time": "2022-02-08T19:29:52.401Z"
   },
   {
    "duration": 12,
    "start_time": "2022-02-08T19:29:52.523Z"
   },
   {
    "duration": 26,
    "start_time": "2022-02-08T19:29:52.537Z"
   },
   {
    "duration": 9,
    "start_time": "2022-02-08T19:29:52.565Z"
   },
   {
    "duration": 17,
    "start_time": "2022-02-08T19:29:52.576Z"
   },
   {
    "duration": 24,
    "start_time": "2022-02-08T19:29:52.595Z"
   },
   {
    "duration": 11,
    "start_time": "2022-02-08T19:29:52.621Z"
   },
   {
    "duration": 15,
    "start_time": "2022-02-08T19:29:52.634Z"
   },
   {
    "duration": 21,
    "start_time": "2022-02-08T19:29:52.651Z"
   },
   {
    "duration": 30,
    "start_time": "2022-02-08T19:29:52.674Z"
   },
   {
    "duration": 14,
    "start_time": "2022-02-08T19:29:52.706Z"
   },
   {
    "duration": 38,
    "start_time": "2022-02-08T19:29:52.721Z"
   },
   {
    "duration": 332,
    "start_time": "2022-02-08T19:39:40.950Z"
   },
   {
    "duration": 420,
    "start_time": "2022-02-08T19:39:51.083Z"
   },
   {
    "duration": 773,
    "start_time": "2022-02-08T19:40:33.437Z"
   },
   {
    "duration": 17,
    "start_time": "2022-02-08T19:40:41.832Z"
   },
   {
    "duration": 13,
    "start_time": "2022-02-08T19:40:54.492Z"
   },
   {
    "duration": 18,
    "start_time": "2022-02-08T19:41:30.179Z"
   },
   {
    "duration": 23,
    "start_time": "2022-02-08T19:41:30.714Z"
   },
   {
    "duration": 13,
    "start_time": "2022-02-08T19:42:24.400Z"
   },
   {
    "duration": 8,
    "start_time": "2022-02-08T19:42:25.858Z"
   },
   {
    "duration": 13,
    "start_time": "2022-02-08T19:42:44.946Z"
   },
   {
    "duration": 8,
    "start_time": "2022-02-08T19:42:46.155Z"
   },
   {
    "duration": 12,
    "start_time": "2022-02-08T19:42:51.784Z"
   },
   {
    "duration": 8,
    "start_time": "2022-02-08T19:42:52.453Z"
   },
   {
    "duration": 472,
    "start_time": "2022-02-08T19:43:48.889Z"
   },
   {
    "duration": 660,
    "start_time": "2022-02-08T19:48:00.971Z"
   },
   {
    "duration": 4,
    "start_time": "2022-02-08T19:48:10.290Z"
   },
   {
    "duration": 573,
    "start_time": "2022-02-08T19:50:17.252Z"
   },
   {
    "duration": 162,
    "start_time": "2022-02-08T19:50:40.831Z"
   },
   {
    "duration": 152,
    "start_time": "2022-02-08T19:51:26.461Z"
   },
   {
    "duration": 272,
    "start_time": "2022-02-08T19:52:16.785Z"
   },
   {
    "duration": 257,
    "start_time": "2022-02-08T19:52:39.056Z"
   },
   {
    "duration": 257,
    "start_time": "2022-02-08T19:52:43.446Z"
   },
   {
    "duration": 156,
    "start_time": "2022-02-08T19:53:46.782Z"
   },
   {
    "duration": 2,
    "start_time": "2022-02-08T19:55:41.282Z"
   },
   {
    "duration": 4,
    "start_time": "2022-02-08T19:55:45.283Z"
   },
   {
    "duration": 153,
    "start_time": "2022-02-08T19:55:45.831Z"
   },
   {
    "duration": 815,
    "start_time": "2022-02-08T19:56:58.465Z"
   },
   {
    "duration": 15,
    "start_time": "2022-02-08T19:56:59.282Z"
   },
   {
    "duration": 10,
    "start_time": "2022-02-08T19:56:59.299Z"
   },
   {
    "duration": 6,
    "start_time": "2022-02-08T19:56:59.310Z"
   },
   {
    "duration": 2,
    "start_time": "2022-02-08T19:56:59.317Z"
   },
   {
    "duration": 8,
    "start_time": "2022-02-08T19:56:59.321Z"
   },
   {
    "duration": 9,
    "start_time": "2022-02-08T19:56:59.330Z"
   },
   {
    "duration": 35,
    "start_time": "2022-02-08T19:56:59.341Z"
   },
   {
    "duration": 13,
    "start_time": "2022-02-08T19:56:59.377Z"
   },
   {
    "duration": 4,
    "start_time": "2022-02-08T19:56:59.391Z"
   },
   {
    "duration": 14,
    "start_time": "2022-02-08T19:56:59.396Z"
   },
   {
    "duration": 23,
    "start_time": "2022-02-08T19:56:59.411Z"
   },
   {
    "duration": 14,
    "start_time": "2022-02-08T19:56:59.435Z"
   },
   {
    "duration": 7,
    "start_time": "2022-02-08T19:56:59.450Z"
   },
   {
    "duration": 26,
    "start_time": "2022-02-08T19:56:59.458Z"
   },
   {
    "duration": 11,
    "start_time": "2022-02-08T19:56:59.485Z"
   },
   {
    "duration": 6,
    "start_time": "2022-02-08T19:56:59.497Z"
   },
   {
    "duration": 8,
    "start_time": "2022-02-08T19:56:59.504Z"
   },
   {
    "duration": 18,
    "start_time": "2022-02-08T19:56:59.514Z"
   },
   {
    "duration": 12,
    "start_time": "2022-02-08T19:56:59.533Z"
   },
   {
    "duration": 115,
    "start_time": "2022-02-08T19:56:59.547Z"
   },
   {
    "duration": 14,
    "start_time": "2022-02-08T19:56:59.671Z"
   },
   {
    "duration": 17,
    "start_time": "2022-02-08T19:56:59.688Z"
   },
   {
    "duration": 7,
    "start_time": "2022-02-08T19:56:59.707Z"
   },
   {
    "duration": 18,
    "start_time": "2022-02-08T19:56:59.716Z"
   },
   {
    "duration": 20,
    "start_time": "2022-02-08T19:56:59.736Z"
   },
   {
    "duration": 15,
    "start_time": "2022-02-08T19:56:59.758Z"
   },
   {
    "duration": 10,
    "start_time": "2022-02-08T19:56:59.775Z"
   },
   {
    "duration": 12,
    "start_time": "2022-02-08T19:56:59.787Z"
   },
   {
    "duration": 34,
    "start_time": "2022-02-08T19:56:59.800Z"
   },
   {
    "duration": 8,
    "start_time": "2022-02-08T19:56:59.836Z"
   },
   {
    "duration": 18,
    "start_time": "2022-02-08T19:56:59.845Z"
   },
   {
    "duration": 21,
    "start_time": "2022-02-08T19:56:59.864Z"
   },
   {
    "duration": 9,
    "start_time": "2022-02-08T19:56:59.886Z"
   },
   {
    "duration": 580,
    "start_time": "2022-02-08T19:56:59.896Z"
   },
   {
    "duration": 4,
    "start_time": "2022-02-08T19:57:00.478Z"
   },
   {
    "duration": 169,
    "start_time": "2022-02-08T19:57:00.484Z"
   },
   {
    "duration": 776,
    "start_time": "2022-02-08T19:57:30.949Z"
   },
   {
    "duration": 15,
    "start_time": "2022-02-08T19:57:31.727Z"
   },
   {
    "duration": 11,
    "start_time": "2022-02-08T19:57:31.744Z"
   },
   {
    "duration": 6,
    "start_time": "2022-02-08T19:57:31.757Z"
   },
   {
    "duration": 2,
    "start_time": "2022-02-08T19:57:31.764Z"
   },
   {
    "duration": 10,
    "start_time": "2022-02-08T19:57:31.768Z"
   },
   {
    "duration": 10,
    "start_time": "2022-02-08T19:57:31.779Z"
   },
   {
    "duration": 7,
    "start_time": "2022-02-08T19:57:31.791Z"
   },
   {
    "duration": 20,
    "start_time": "2022-02-08T19:57:31.799Z"
   },
   {
    "duration": 2,
    "start_time": "2022-02-08T19:57:31.821Z"
   },
   {
    "duration": 13,
    "start_time": "2022-02-08T19:57:31.825Z"
   },
   {
    "duration": 19,
    "start_time": "2022-02-08T19:57:31.839Z"
   },
   {
    "duration": 23,
    "start_time": "2022-02-08T19:57:31.859Z"
   },
   {
    "duration": 7,
    "start_time": "2022-02-08T19:57:31.884Z"
   },
   {
    "duration": 18,
    "start_time": "2022-02-08T19:57:31.892Z"
   },
   {
    "duration": 12,
    "start_time": "2022-02-08T19:57:31.911Z"
   },
   {
    "duration": 6,
    "start_time": "2022-02-08T19:57:31.924Z"
   },
   {
    "duration": 7,
    "start_time": "2022-02-08T19:57:31.932Z"
   },
   {
    "duration": 38,
    "start_time": "2022-02-08T19:57:31.940Z"
   },
   {
    "duration": 10,
    "start_time": "2022-02-08T19:57:31.979Z"
   },
   {
    "duration": 109,
    "start_time": "2022-02-08T19:57:31.991Z"
   },
   {
    "duration": 12,
    "start_time": "2022-02-08T19:57:32.102Z"
   },
   {
    "duration": 12,
    "start_time": "2022-02-08T19:57:32.117Z"
   },
   {
    "duration": 4,
    "start_time": "2022-02-08T19:57:32.130Z"
   },
   {
    "duration": 4,
    "start_time": "2022-02-08T19:57:32.136Z"
   },
   {
    "duration": 31,
    "start_time": "2022-02-08T19:57:32.141Z"
   },
   {
    "duration": 9,
    "start_time": "2022-02-08T19:57:32.174Z"
   },
   {
    "duration": 3,
    "start_time": "2022-02-08T19:57:32.185Z"
   },
   {
    "duration": 4,
    "start_time": "2022-02-08T19:57:32.190Z"
   },
   {
    "duration": 28,
    "start_time": "2022-02-08T19:57:32.196Z"
   },
   {
    "duration": 8,
    "start_time": "2022-02-08T19:57:32.226Z"
   },
   {
    "duration": 36,
    "start_time": "2022-02-08T19:57:32.236Z"
   },
   {
    "duration": 13,
    "start_time": "2022-02-08T19:57:32.274Z"
   },
   {
    "duration": 7,
    "start_time": "2022-02-08T19:57:32.288Z"
   },
   {
    "duration": 470,
    "start_time": "2022-02-08T19:57:32.296Z"
   },
   {
    "duration": 4,
    "start_time": "2022-02-08T19:57:32.767Z"
   },
   {
    "duration": 161,
    "start_time": "2022-02-08T19:57:32.773Z"
   },
   {
    "duration": 560,
    "start_time": "2022-02-08T20:02:26.638Z"
   },
   {
    "duration": 434,
    "start_time": "2022-02-08T20:03:01.483Z"
   },
   {
    "duration": 573,
    "start_time": "2022-02-08T20:03:07.562Z"
   },
   {
    "duration": 293,
    "start_time": "2022-02-08T20:05:12.613Z"
   },
   {
    "duration": 171,
    "start_time": "2022-02-08T20:06:24.296Z"
   },
   {
    "duration": 239,
    "start_time": "2022-02-08T20:08:46.423Z"
   },
   {
    "duration": 4,
    "start_time": "2022-02-08T20:13:38.143Z"
   },
   {
    "duration": 6,
    "start_time": "2022-02-08T20:13:53.999Z"
   },
   {
    "duration": 6,
    "start_time": "2022-02-08T20:15:11.013Z"
   },
   {
    "duration": 7,
    "start_time": "2022-02-08T20:15:11.459Z"
   },
   {
    "duration": 143,
    "start_time": "2022-02-08T20:19:52.122Z"
   },
   {
    "duration": 414,
    "start_time": "2022-02-08T20:19:59.785Z"
   },
   {
    "duration": 972,
    "start_time": "2022-02-08T20:20:55.867Z"
   },
   {
    "duration": 16,
    "start_time": "2022-02-08T20:20:56.840Z"
   },
   {
    "duration": 29,
    "start_time": "2022-02-08T20:20:56.857Z"
   },
   {
    "duration": 16,
    "start_time": "2022-02-08T20:20:56.888Z"
   },
   {
    "duration": 18,
    "start_time": "2022-02-08T20:20:56.906Z"
   },
   {
    "duration": 19,
    "start_time": "2022-02-08T20:20:56.925Z"
   },
   {
    "duration": 17,
    "start_time": "2022-02-08T20:20:56.945Z"
   },
   {
    "duration": 10,
    "start_time": "2022-02-08T20:20:56.964Z"
   },
   {
    "duration": 22,
    "start_time": "2022-02-08T20:20:56.975Z"
   },
   {
    "duration": 10,
    "start_time": "2022-02-08T20:20:56.999Z"
   },
   {
    "duration": 9,
    "start_time": "2022-02-08T20:20:57.010Z"
   },
   {
    "duration": 32,
    "start_time": "2022-02-08T20:20:57.020Z"
   },
   {
    "duration": 13,
    "start_time": "2022-02-08T20:20:57.054Z"
   },
   {
    "duration": 9,
    "start_time": "2022-02-08T20:20:57.069Z"
   },
   {
    "duration": 34,
    "start_time": "2022-02-08T20:20:57.079Z"
   },
   {
    "duration": 18,
    "start_time": "2022-02-08T20:20:57.115Z"
   },
   {
    "duration": 10,
    "start_time": "2022-02-08T20:20:57.135Z"
   },
   {
    "duration": 8,
    "start_time": "2022-02-08T20:20:57.146Z"
   },
   {
    "duration": 18,
    "start_time": "2022-02-08T20:20:57.156Z"
   },
   {
    "duration": 12,
    "start_time": "2022-02-08T20:20:57.175Z"
   },
   {
    "duration": 103,
    "start_time": "2022-02-08T20:20:57.188Z"
   },
   {
    "duration": 12,
    "start_time": "2022-02-08T20:20:57.292Z"
   },
   {
    "duration": 11,
    "start_time": "2022-02-08T20:20:57.307Z"
   },
   {
    "duration": 5,
    "start_time": "2022-02-08T20:20:57.319Z"
   },
   {
    "duration": 4,
    "start_time": "2022-02-08T20:20:57.325Z"
   },
   {
    "duration": 9,
    "start_time": "2022-02-08T20:20:57.331Z"
   },
   {
    "duration": 35,
    "start_time": "2022-02-08T20:20:57.341Z"
   },
   {
    "duration": 3,
    "start_time": "2022-02-08T20:20:57.377Z"
   },
   {
    "duration": 7,
    "start_time": "2022-02-08T20:20:57.381Z"
   },
   {
    "duration": 41,
    "start_time": "2022-02-08T20:20:57.389Z"
   },
   {
    "duration": 8,
    "start_time": "2022-02-08T20:20:57.431Z"
   },
   {
    "duration": 24,
    "start_time": "2022-02-08T20:20:57.440Z"
   },
   {
    "duration": 356,
    "start_time": "2022-02-08T20:20:57.466Z"
   },
   {
    "duration": -28,
    "start_time": "2022-02-08T20:20:57.851Z"
   },
   {
    "duration": -33,
    "start_time": "2022-02-08T20:20:57.857Z"
   },
   {
    "duration": -34,
    "start_time": "2022-02-08T20:20:57.859Z"
   },
   {
    "duration": 14,
    "start_time": "2022-02-08T20:21:17.325Z"
   },
   {
    "duration": 690,
    "start_time": "2022-02-08T20:21:18.215Z"
   },
   {
    "duration": 949,
    "start_time": "2022-02-08T20:22:04.530Z"
   },
   {
    "duration": 17,
    "start_time": "2022-02-08T20:22:05.481Z"
   },
   {
    "duration": 10,
    "start_time": "2022-02-08T20:22:05.500Z"
   },
   {
    "duration": 5,
    "start_time": "2022-02-08T20:22:05.512Z"
   },
   {
    "duration": 3,
    "start_time": "2022-02-08T20:22:05.519Z"
   },
   {
    "duration": 10,
    "start_time": "2022-02-08T20:22:05.524Z"
   },
   {
    "duration": 9,
    "start_time": "2022-02-08T20:22:05.535Z"
   },
   {
    "duration": 28,
    "start_time": "2022-02-08T20:22:05.546Z"
   },
   {
    "duration": 13,
    "start_time": "2022-02-08T20:22:05.576Z"
   },
   {
    "duration": 2,
    "start_time": "2022-02-08T20:22:05.591Z"
   },
   {
    "duration": 6,
    "start_time": "2022-02-08T20:22:05.594Z"
   },
   {
    "duration": 18,
    "start_time": "2022-02-08T20:22:05.602Z"
   },
   {
    "duration": 13,
    "start_time": "2022-02-08T20:22:05.622Z"
   },
   {
    "duration": 7,
    "start_time": "2022-02-08T20:22:05.637Z"
   },
   {
    "duration": 43,
    "start_time": "2022-02-08T20:22:05.646Z"
   },
   {
    "duration": 13,
    "start_time": "2022-02-08T20:22:05.691Z"
   },
   {
    "duration": 9,
    "start_time": "2022-02-08T20:22:05.705Z"
   },
   {
    "duration": 7,
    "start_time": "2022-02-08T20:22:05.716Z"
   },
   {
    "duration": 16,
    "start_time": "2022-02-08T20:22:05.725Z"
   },
   {
    "duration": 31,
    "start_time": "2022-02-08T20:22:05.742Z"
   },
   {
    "duration": 115,
    "start_time": "2022-02-08T20:22:05.775Z"
   },
   {
    "duration": 13,
    "start_time": "2022-02-08T20:22:05.892Z"
   },
   {
    "duration": 13,
    "start_time": "2022-02-08T20:22:05.909Z"
   },
   {
    "duration": 5,
    "start_time": "2022-02-08T20:22:05.923Z"
   },
   {
    "duration": 3,
    "start_time": "2022-02-08T20:22:05.930Z"
   },
   {
    "duration": 40,
    "start_time": "2022-02-08T20:22:05.935Z"
   },
   {
    "duration": 9,
    "start_time": "2022-02-08T20:22:05.977Z"
   },
   {
    "duration": 3,
    "start_time": "2022-02-08T20:22:05.988Z"
   },
   {
    "duration": 4,
    "start_time": "2022-02-08T20:22:05.993Z"
   },
   {
    "duration": 28,
    "start_time": "2022-02-08T20:22:05.998Z"
   },
   {
    "duration": 7,
    "start_time": "2022-02-08T20:22:06.028Z"
   },
   {
    "duration": 40,
    "start_time": "2022-02-08T20:22:06.036Z"
   },
   {
    "duration": 21,
    "start_time": "2022-02-08T20:22:06.077Z"
   },
   {
    "duration": 699,
    "start_time": "2022-02-08T20:22:06.099Z"
   },
   {
    "duration": 15,
    "start_time": "2022-02-08T20:23:46.880Z"
   },
   {
    "duration": 158,
    "start_time": "2022-02-08T20:23:47.842Z"
   },
   {
    "duration": 16,
    "start_time": "2022-02-08T20:31:19.592Z"
   },
   {
    "duration": 381,
    "start_time": "2022-02-08T20:31:21.376Z"
   },
   {
    "duration": 2188,
    "start_time": "2022-02-08T20:31:31.619Z"
   },
   {
    "duration": -91,
    "start_time": "2022-02-08T20:31:33.900Z"
   },
   {
    "duration": 294,
    "start_time": "2022-02-08T20:31:52.508Z"
   },
   {
    "duration": 14,
    "start_time": "2022-02-08T20:32:03.848Z"
   },
   {
    "duration": 288,
    "start_time": "2022-02-08T20:32:05.038Z"
   },
   {
    "duration": 87,
    "start_time": "2022-02-08T20:34:28.969Z"
   },
   {
    "duration": 931,
    "start_time": "2022-02-08T20:35:17.552Z"
   },
   {
    "duration": 3371,
    "start_time": "2022-02-08T20:35:18.736Z"
   },
   {
    "duration": 1163,
    "start_time": "2022-02-08T20:35:44.961Z"
   },
   {
    "duration": 827,
    "start_time": "2022-02-08T20:35:46.572Z"
   },
   {
    "duration": 9763,
    "start_time": "2022-02-08T20:35:59.778Z"
   },
   {
    "duration": 12,
    "start_time": "2022-02-08T20:37:55.545Z"
   },
   {
    "duration": 275,
    "start_time": "2022-02-08T20:37:57.380Z"
   },
   {
    "duration": 161,
    "start_time": "2022-02-08T20:38:12.446Z"
   },
   {
    "duration": 17,
    "start_time": "2022-02-08T20:38:59.623Z"
   },
   {
    "duration": 194,
    "start_time": "2022-02-08T20:39:00.873Z"
   },
   {
    "duration": 12,
    "start_time": "2022-02-08T20:39:24.588Z"
   },
   {
    "duration": 163,
    "start_time": "2022-02-08T20:39:26.423Z"
   },
   {
    "duration": 13,
    "start_time": "2022-02-08T20:42:47.858Z"
   },
   {
    "duration": 156,
    "start_time": "2022-02-08T20:42:48.630Z"
   },
   {
    "duration": 14,
    "start_time": "2022-02-08T20:43:10.378Z"
   },
   {
    "duration": 163,
    "start_time": "2022-02-08T20:43:10.756Z"
   },
   {
    "duration": 7085,
    "start_time": "2022-02-08T20:45:10.428Z"
   },
   {
    "duration": -71,
    "start_time": "2022-02-08T20:45:17.587Z"
   },
   {
    "duration": 15,
    "start_time": "2022-02-08T20:46:32.474Z"
   },
   {
    "duration": 247,
    "start_time": "2022-02-08T20:46:33.752Z"
   },
   {
    "duration": 21,
    "start_time": "2022-02-08T20:48:46.986Z"
   },
   {
    "duration": 17,
    "start_time": "2022-02-08T20:49:39.241Z"
   },
   {
    "duration": 712,
    "start_time": "2022-02-08T20:53:29.978Z"
   },
   {
    "duration": 290,
    "start_time": "2022-02-08T20:54:12.730Z"
   },
   {
    "duration": 274,
    "start_time": "2022-02-08T20:54:28.052Z"
   },
   {
    "duration": 280,
    "start_time": "2022-02-08T20:54:36.673Z"
   },
   {
    "duration": 16,
    "start_time": "2022-02-08T20:54:50.475Z"
   },
   {
    "duration": 14,
    "start_time": "2022-02-08T20:55:03.984Z"
   },
   {
    "duration": 266,
    "start_time": "2022-02-08T20:55:27.309Z"
   },
   {
    "duration": 17,
    "start_time": "2022-02-08T20:56:01.949Z"
   },
   {
    "duration": 18,
    "start_time": "2022-02-08T20:56:14.875Z"
   },
   {
    "duration": 14,
    "start_time": "2022-02-08T20:58:56.138Z"
   },
   {
    "duration": 5091,
    "start_time": "2022-02-08T20:59:55.241Z"
   },
   {
    "duration": 14,
    "start_time": "2022-02-08T21:00:08.063Z"
   },
   {
    "duration": 16,
    "start_time": "2022-02-08T21:00:39.706Z"
   },
   {
    "duration": 14,
    "start_time": "2022-02-08T21:01:01.740Z"
   },
   {
    "duration": 15,
    "start_time": "2022-02-08T21:02:37.470Z"
   },
   {
    "duration": 297,
    "start_time": "2022-02-08T21:04:26.929Z"
   },
   {
    "duration": 298,
    "start_time": "2022-02-08T21:04:38.541Z"
   },
   {
    "duration": 290,
    "start_time": "2022-02-08T21:05:20.621Z"
   },
   {
    "duration": 14,
    "start_time": "2022-02-08T21:05:43.219Z"
   },
   {
    "duration": 15,
    "start_time": "2022-02-08T21:07:17.146Z"
   },
   {
    "duration": 17,
    "start_time": "2022-02-08T21:07:56.781Z"
   },
   {
    "duration": 16,
    "start_time": "2022-02-08T21:08:07.540Z"
   },
   {
    "duration": 17,
    "start_time": "2022-02-08T21:08:18.391Z"
   },
   {
    "duration": 300,
    "start_time": "2022-02-08T21:09:23.963Z"
   },
   {
    "duration": 305,
    "start_time": "2022-02-08T21:09:29.184Z"
   },
   {
    "duration": 335,
    "start_time": "2022-02-08T21:10:32.867Z"
   },
   {
    "duration": 14,
    "start_time": "2022-02-08T21:10:57.440Z"
   },
   {
    "duration": 16,
    "start_time": "2022-02-08T21:11:15.639Z"
   },
   {
    "duration": 15,
    "start_time": "2022-02-08T21:11:32.793Z"
   },
   {
    "duration": 17,
    "start_time": "2022-02-08T21:11:56.108Z"
   },
   {
    "duration": 279,
    "start_time": "2022-02-08T21:12:38.996Z"
   },
   {
    "duration": 16,
    "start_time": "2022-02-08T21:12:43.559Z"
   },
   {
    "duration": 310,
    "start_time": "2022-02-08T21:13:13.701Z"
   },
   {
    "duration": 16,
    "start_time": "2022-02-08T21:13:25.652Z"
   },
   {
    "duration": 16,
    "start_time": "2022-02-08T21:16:22.256Z"
   },
   {
    "duration": 15,
    "start_time": "2022-02-08T21:16:27.581Z"
   },
   {
    "duration": 17,
    "start_time": "2022-02-08T21:16:43.395Z"
   },
   {
    "duration": 289,
    "start_time": "2022-02-08T21:17:46.479Z"
   },
   {
    "duration": 292,
    "start_time": "2022-02-08T21:17:58.786Z"
   },
   {
    "duration": 19,
    "start_time": "2022-02-08T21:18:07.725Z"
   },
   {
    "duration": 362,
    "start_time": "2022-02-09T16:58:40.541Z"
   },
   {
    "duration": 1216,
    "start_time": "2022-02-09T16:58:46.984Z"
   },
   {
    "duration": 27,
    "start_time": "2022-02-09T16:58:48.203Z"
   },
   {
    "duration": 41,
    "start_time": "2022-02-09T16:58:48.234Z"
   },
   {
    "duration": 13,
    "start_time": "2022-02-09T16:58:48.278Z"
   },
   {
    "duration": 4,
    "start_time": "2022-02-09T16:58:48.294Z"
   },
   {
    "duration": 19,
    "start_time": "2022-02-09T16:58:48.301Z"
   },
   {
    "duration": 52,
    "start_time": "2022-02-09T16:58:48.323Z"
   },
   {
    "duration": 14,
    "start_time": "2022-02-09T16:58:48.381Z"
   },
   {
    "duration": 33,
    "start_time": "2022-02-09T16:58:48.399Z"
   },
   {
    "duration": 5,
    "start_time": "2022-02-09T16:58:48.435Z"
   },
   {
    "duration": 3,
    "start_time": "2022-02-09T16:58:48.470Z"
   },
   {
    "duration": 28,
    "start_time": "2022-02-09T16:58:48.476Z"
   },
   {
    "duration": 26,
    "start_time": "2022-02-09T16:58:48.506Z"
   },
   {
    "duration": 46,
    "start_time": "2022-02-09T16:58:48.535Z"
   },
   {
    "duration": 35,
    "start_time": "2022-02-09T16:58:48.584Z"
   },
   {
    "duration": 52,
    "start_time": "2022-02-09T16:58:48.621Z"
   },
   {
    "duration": 11,
    "start_time": "2022-02-09T16:58:48.675Z"
   },
   {
    "duration": 12,
    "start_time": "2022-02-09T16:58:48.689Z"
   },
   {
    "duration": 31,
    "start_time": "2022-02-09T16:58:48.704Z"
   },
   {
    "duration": 46,
    "start_time": "2022-02-09T16:58:48.738Z"
   },
   {
    "duration": 271,
    "start_time": "2022-02-09T16:58:48.787Z"
   },
   {
    "duration": 27,
    "start_time": "2022-02-09T16:58:49.071Z"
   },
   {
    "duration": 28,
    "start_time": "2022-02-09T16:58:49.104Z"
   },
   {
    "duration": 38,
    "start_time": "2022-02-09T16:58:49.136Z"
   },
   {
    "duration": 11,
    "start_time": "2022-02-09T16:58:49.177Z"
   },
   {
    "duration": 25,
    "start_time": "2022-02-09T16:58:49.190Z"
   },
   {
    "duration": 28,
    "start_time": "2022-02-09T16:58:49.218Z"
   },
   {
    "duration": 29,
    "start_time": "2022-02-09T16:58:49.250Z"
   },
   {
    "duration": 24,
    "start_time": "2022-02-09T16:58:49.282Z"
   },
   {
    "duration": 55,
    "start_time": "2022-02-09T16:58:49.309Z"
   },
   {
    "duration": 14,
    "start_time": "2022-02-09T16:58:49.367Z"
   },
   {
    "duration": 21,
    "start_time": "2022-02-09T16:58:49.384Z"
   },
   {
    "duration": 36,
    "start_time": "2022-02-09T16:58:49.407Z"
   },
   {
    "duration": 1133,
    "start_time": "2022-02-09T16:58:49.446Z"
   },
   {
    "duration": 25,
    "start_time": "2022-02-09T16:59:02.822Z"
   },
   {
    "duration": 632,
    "start_time": "2022-02-09T17:01:21.212Z"
   },
   {
    "duration": 520,
    "start_time": "2022-02-09T17:02:01.076Z"
   },
   {
    "duration": 24,
    "start_time": "2022-02-09T17:02:58.330Z"
   },
   {
    "duration": 26,
    "start_time": "2022-02-09T17:03:20.467Z"
   },
   {
    "duration": 28,
    "start_time": "2022-02-09T17:03:37.077Z"
   },
   {
    "duration": 25,
    "start_time": "2022-02-09T17:04:24.323Z"
   },
   {
    "duration": 24,
    "start_time": "2022-02-09T17:04:34.399Z"
   },
   {
    "duration": 31,
    "start_time": "2022-02-09T17:04:45.586Z"
   },
   {
    "duration": 353,
    "start_time": "2022-02-09T17:04:47.599Z"
   },
   {
    "duration": 22,
    "start_time": "2022-02-09T17:05:54.618Z"
   },
   {
    "duration": 94,
    "start_time": "2022-02-09T17:07:22.497Z"
   },
   {
    "duration": 97,
    "start_time": "2022-02-09T17:07:44.637Z"
   },
   {
    "duration": 527,
    "start_time": "2022-02-09T17:08:04.212Z"
   },
   {
    "duration": 138,
    "start_time": "2022-02-09T17:08:07.899Z"
   },
   {
    "duration": 198,
    "start_time": "2022-02-09T17:08:52.379Z"
   },
   {
    "duration": 128,
    "start_time": "2022-02-09T17:09:09.084Z"
   },
   {
    "duration": 371,
    "start_time": "2022-02-09T17:09:31.320Z"
   },
   {
    "duration": 120,
    "start_time": "2022-02-09T17:09:40.490Z"
   },
   {
    "duration": 99,
    "start_time": "2022-02-09T17:09:46.146Z"
   },
   {
    "duration": 404,
    "start_time": "2022-02-09T17:09:53.017Z"
   },
   {
    "duration": 25,
    "start_time": "2022-02-09T17:11:57.257Z"
   },
   {
    "duration": 28,
    "start_time": "2022-02-09T17:12:06.818Z"
   },
   {
    "duration": 25,
    "start_time": "2022-02-09T17:13:08.434Z"
   },
   {
    "duration": 46,
    "start_time": "2022-02-09T17:14:03.712Z"
   },
   {
    "duration": 24,
    "start_time": "2022-02-09T17:14:29.425Z"
   },
   {
    "duration": 23,
    "start_time": "2022-02-09T17:14:45.193Z"
   },
   {
    "duration": 404,
    "start_time": "2022-02-09T17:14:45.923Z"
   },
   {
    "duration": 26,
    "start_time": "2022-02-09T17:16:41.130Z"
   },
   {
    "duration": 28,
    "start_time": "2022-02-09T17:16:49.646Z"
   },
   {
    "duration": 380,
    "start_time": "2022-02-09T17:18:01.588Z"
   },
   {
    "duration": 366,
    "start_time": "2022-02-09T17:18:53.418Z"
   },
   {
    "duration": 23,
    "start_time": "2022-02-09T17:19:24.466Z"
   },
   {
    "duration": 6420,
    "start_time": "2022-02-09T17:20:25.001Z"
   },
   {
    "duration": 335,
    "start_time": "2022-02-09T17:21:32.386Z"
   },
   {
    "duration": 342,
    "start_time": "2022-02-09T17:21:38.027Z"
   },
   {
    "duration": 335,
    "start_time": "2022-02-09T17:21:56.734Z"
   },
   {
    "duration": 36,
    "start_time": "2022-02-09T17:22:09.111Z"
   },
   {
    "duration": 432,
    "start_time": "2022-02-09T17:22:27.306Z"
   },
   {
    "duration": 320,
    "start_time": "2022-02-09T17:23:15.881Z"
   },
   {
    "duration": 307,
    "start_time": "2022-02-09T17:23:45.093Z"
   },
   {
    "duration": 26,
    "start_time": "2022-02-09T17:26:42.390Z"
   },
   {
    "duration": 318,
    "start_time": "2022-02-09T17:41:36.475Z"
   },
   {
    "duration": 319,
    "start_time": "2022-02-09T17:41:37.396Z"
   },
   {
    "duration": 27,
    "start_time": "2022-02-09T17:41:57.040Z"
   },
   {
    "duration": 150,
    "start_time": "2022-02-09T17:42:03.881Z"
   },
   {
    "duration": 339,
    "start_time": "2022-02-09T17:42:05.219Z"
   },
   {
    "duration": 26,
    "start_time": "2022-02-09T17:42:09.488Z"
   },
   {
    "duration": 325,
    "start_time": "2022-02-09T17:42:10.400Z"
   },
   {
    "duration": 33,
    "start_time": "2022-02-09T17:42:24.586Z"
   },
   {
    "duration": 327,
    "start_time": "2022-02-09T17:42:25.429Z"
   },
   {
    "duration": 26,
    "start_time": "2022-02-09T17:43:08.195Z"
   },
   {
    "duration": 302,
    "start_time": "2022-02-09T17:43:10.433Z"
   },
   {
    "duration": 409,
    "start_time": "2022-02-09T17:44:59.299Z"
   },
   {
    "duration": 351,
    "start_time": "2022-02-09T17:45:20.820Z"
   },
   {
    "duration": 360,
    "start_time": "2022-02-09T17:46:20.931Z"
   },
   {
    "duration": 361,
    "start_time": "2022-02-09T17:46:24.669Z"
   },
   {
    "duration": 539,
    "start_time": "2022-02-09T17:47:32.432Z"
   },
   {
    "duration": 104,
    "start_time": "2022-02-09T18:03:20.988Z"
   },
   {
    "duration": 6,
    "start_time": "2022-02-09T18:04:22.090Z"
   },
   {
    "duration": 693,
    "start_time": "2022-02-09T18:04:52.162Z"
   },
   {
    "duration": 6,
    "start_time": "2022-02-09T18:05:09.320Z"
   },
   {
    "duration": 348,
    "start_time": "2022-02-09T18:05:09.329Z"
   },
   {
    "duration": 10,
    "start_time": "2022-02-09T18:10:41.294Z"
   },
   {
    "duration": 8,
    "start_time": "2022-02-09T18:12:16.782Z"
   },
   {
    "duration": 339,
    "start_time": "2022-02-09T18:14:06.958Z"
   },
   {
    "duration": 343,
    "start_time": "2022-02-09T18:15:55.350Z"
   },
   {
    "duration": 465,
    "start_time": "2022-02-09T18:19:29.980Z"
   },
   {
    "duration": 7,
    "start_time": "2022-02-09T18:19:46.018Z"
   },
   {
    "duration": 341,
    "start_time": "2022-02-09T18:19:46.858Z"
   },
   {
    "duration": 338,
    "start_time": "2022-02-09T18:19:49.426Z"
   },
   {
    "duration": 337,
    "start_time": "2022-02-09T18:19:51.584Z"
   },
   {
    "duration": 313,
    "start_time": "2022-02-09T18:20:28.685Z"
   },
   {
    "duration": 327,
    "start_time": "2022-02-09T18:20:38.320Z"
   },
   {
    "duration": 346,
    "start_time": "2022-02-09T18:20:59.739Z"
   },
   {
    "duration": 336,
    "start_time": "2022-02-09T18:21:21.134Z"
   },
   {
    "duration": 335,
    "start_time": "2022-02-09T18:21:27.149Z"
   },
   {
    "duration": 325,
    "start_time": "2022-02-09T18:22:19.599Z"
   },
   {
    "duration": 336,
    "start_time": "2022-02-09T18:22:31.670Z"
   },
   {
    "duration": 440,
    "start_time": "2022-02-09T18:22:50.049Z"
   },
   {
    "duration": 327,
    "start_time": "2022-02-09T18:23:10.719Z"
   },
   {
    "duration": 381,
    "start_time": "2022-02-09T18:23:58.054Z"
   },
   {
    "duration": 331,
    "start_time": "2022-02-09T18:24:15.219Z"
   },
   {
    "duration": 335,
    "start_time": "2022-02-09T18:24:20.358Z"
   },
   {
    "duration": 337,
    "start_time": "2022-02-09T18:24:44.898Z"
   },
   {
    "duration": 6,
    "start_time": "2022-02-09T18:25:32.503Z"
   },
   {
    "duration": 325,
    "start_time": "2022-02-09T18:25:34.793Z"
   },
   {
    "duration": 7,
    "start_time": "2022-02-09T18:25:47.237Z"
   },
   {
    "duration": 337,
    "start_time": "2022-02-09T18:25:48.271Z"
   },
   {
    "duration": 8,
    "start_time": "2022-02-09T18:26:11.639Z"
   },
   {
    "duration": 334,
    "start_time": "2022-02-09T18:26:12.602Z"
   },
   {
    "duration": 7,
    "start_time": "2022-02-09T18:26:25.649Z"
   },
   {
    "duration": 328,
    "start_time": "2022-02-09T18:26:26.559Z"
   },
   {
    "duration": 356,
    "start_time": "2022-02-09T18:26:29.145Z"
   },
   {
    "duration": 445,
    "start_time": "2022-02-09T18:26:54.198Z"
   },
   {
    "duration": 7,
    "start_time": "2022-02-09T18:27:03.612Z"
   },
   {
    "duration": 330,
    "start_time": "2022-02-09T18:27:04.402Z"
   },
   {
    "duration": 8,
    "start_time": "2022-02-09T18:27:13.361Z"
   },
   {
    "duration": 481,
    "start_time": "2022-02-09T18:27:14.314Z"
   },
   {
    "duration": 8,
    "start_time": "2022-02-09T18:27:20.353Z"
   },
   {
    "duration": 334,
    "start_time": "2022-02-09T18:27:22.205Z"
   },
   {
    "duration": 318,
    "start_time": "2022-02-09T18:27:47.381Z"
   },
   {
    "duration": 337,
    "start_time": "2022-02-09T18:28:04.597Z"
   },
   {
    "duration": 111,
    "start_time": "2022-02-09T18:28:45.015Z"
   },
   {
    "duration": 330,
    "start_time": "2022-02-09T18:40:43.842Z"
   },
   {
    "duration": 1086,
    "start_time": "2022-02-09T18:43:42.229Z"
   },
   {
    "duration": 26,
    "start_time": "2022-02-09T18:43:43.318Z"
   },
   {
    "duration": 24,
    "start_time": "2022-02-09T18:43:43.347Z"
   },
   {
    "duration": 10,
    "start_time": "2022-02-09T18:43:43.374Z"
   },
   {
    "duration": 3,
    "start_time": "2022-02-09T18:43:43.387Z"
   },
   {
    "duration": 19,
    "start_time": "2022-02-09T18:43:43.393Z"
   },
   {
    "duration": 15,
    "start_time": "2022-02-09T18:43:43.414Z"
   },
   {
    "duration": 12,
    "start_time": "2022-02-09T18:43:43.469Z"
   },
   {
    "duration": 28,
    "start_time": "2022-02-09T18:43:43.484Z"
   },
   {
    "duration": 3,
    "start_time": "2022-02-09T18:43:43.514Z"
   },
   {
    "duration": 8,
    "start_time": "2022-02-09T18:43:43.519Z"
   },
   {
    "duration": 59,
    "start_time": "2022-02-09T18:43:43.529Z"
   },
   {
    "duration": 23,
    "start_time": "2022-02-09T18:43:43.592Z"
   },
   {
    "duration": 11,
    "start_time": "2022-02-09T18:43:43.618Z"
   },
   {
    "duration": 61,
    "start_time": "2022-02-09T18:43:43.631Z"
   },
   {
    "duration": 22,
    "start_time": "2022-02-09T18:43:43.695Z"
   },
   {
    "duration": 9,
    "start_time": "2022-02-09T18:43:43.720Z"
   },
   {
    "duration": 41,
    "start_time": "2022-02-09T18:43:43.732Z"
   },
   {
    "duration": 17,
    "start_time": "2022-02-09T18:43:43.775Z"
   },
   {
    "duration": 18,
    "start_time": "2022-02-09T18:43:43.794Z"
   },
   {
    "duration": 216,
    "start_time": "2022-02-09T18:43:43.815Z"
   },
   {
    "duration": 18,
    "start_time": "2022-02-09T18:43:44.033Z"
   },
   {
    "duration": 19,
    "start_time": "2022-02-09T18:43:44.068Z"
   },
   {
    "duration": 7,
    "start_time": "2022-02-09T18:43:44.090Z"
   },
   {
    "duration": 7,
    "start_time": "2022-02-09T18:43:44.099Z"
   },
   {
    "duration": 15,
    "start_time": "2022-02-09T18:43:44.108Z"
   },
   {
    "duration": 53,
    "start_time": "2022-02-09T18:43:44.126Z"
   },
   {
    "duration": 8,
    "start_time": "2022-02-09T18:43:44.181Z"
   },
   {
    "duration": 9,
    "start_time": "2022-02-09T18:43:44.191Z"
   },
   {
    "duration": 69,
    "start_time": "2022-02-09T18:43:44.202Z"
   },
   {
    "duration": 11,
    "start_time": "2022-02-09T18:43:44.273Z"
   },
   {
    "duration": 17,
    "start_time": "2022-02-09T18:43:44.286Z"
   },
   {
    "duration": 8,
    "start_time": "2022-02-09T18:43:44.305Z"
   },
   {
    "duration": 1103,
    "start_time": "2022-02-09T18:43:44.316Z"
   },
   {
    "duration": 351,
    "start_time": "2022-02-09T18:43:45.421Z"
   },
   {
    "duration": 337,
    "start_time": "2022-02-09T18:43:45.775Z"
   },
   {
    "duration": 359,
    "start_time": "2022-02-09T18:43:46.115Z"
   },
   {
    "duration": 4,
    "start_time": "2022-02-09T18:51:52.830Z"
   },
   {
    "duration": 1459,
    "start_time": "2022-02-09T19:36:18.252Z"
   },
   {
    "duration": 30,
    "start_time": "2022-02-09T19:36:19.713Z"
   },
   {
    "duration": 23,
    "start_time": "2022-02-09T19:36:19.746Z"
   },
   {
    "duration": 11,
    "start_time": "2022-02-09T19:36:19.772Z"
   },
   {
    "duration": 4,
    "start_time": "2022-02-09T19:36:19.785Z"
   },
   {
    "duration": 20,
    "start_time": "2022-02-09T19:36:19.791Z"
   },
   {
    "duration": 14,
    "start_time": "2022-02-09T19:36:19.813Z"
   },
   {
    "duration": 45,
    "start_time": "2022-02-09T19:36:19.831Z"
   },
   {
    "duration": 25,
    "start_time": "2022-02-09T19:36:19.880Z"
   },
   {
    "duration": 3,
    "start_time": "2022-02-09T19:36:19.908Z"
   },
   {
    "duration": 6,
    "start_time": "2022-02-09T19:36:19.913Z"
   },
   {
    "duration": 55,
    "start_time": "2022-02-09T19:36:19.922Z"
   },
   {
    "duration": 24,
    "start_time": "2022-02-09T19:36:19.979Z"
   },
   {
    "duration": 12,
    "start_time": "2022-02-09T19:36:20.006Z"
   },
   {
    "duration": 71,
    "start_time": "2022-02-09T19:36:20.021Z"
   },
   {
    "duration": 25,
    "start_time": "2022-02-09T19:36:20.095Z"
   },
   {
    "duration": 12,
    "start_time": "2022-02-09T19:36:20.122Z"
   },
   {
    "duration": 38,
    "start_time": "2022-02-09T19:36:20.137Z"
   },
   {
    "duration": 20,
    "start_time": "2022-02-09T19:36:20.178Z"
   },
   {
    "duration": 21,
    "start_time": "2022-02-09T19:36:20.201Z"
   },
   {
    "duration": 225,
    "start_time": "2022-02-09T19:36:20.224Z"
   },
   {
    "duration": 27,
    "start_time": "2022-02-09T19:36:20.451Z"
   },
   {
    "duration": 19,
    "start_time": "2022-02-09T19:36:20.483Z"
   },
   {
    "duration": 7,
    "start_time": "2022-02-09T19:36:20.505Z"
   },
   {
    "duration": 7,
    "start_time": "2022-02-09T19:36:20.515Z"
   },
   {
    "duration": 62,
    "start_time": "2022-02-09T19:36:20.524Z"
   },
   {
    "duration": 20,
    "start_time": "2022-02-09T19:36:20.589Z"
   },
   {
    "duration": 6,
    "start_time": "2022-02-09T19:36:20.612Z"
   },
   {
    "duration": 5,
    "start_time": "2022-02-09T19:36:20.621Z"
   },
   {
    "duration": 94,
    "start_time": "2022-02-09T19:36:20.629Z"
   },
   {
    "duration": 12,
    "start_time": "2022-02-09T19:36:20.726Z"
   },
   {
    "duration": 46,
    "start_time": "2022-02-09T19:36:20.741Z"
   },
   {
    "duration": 8,
    "start_time": "2022-02-09T19:36:20.789Z"
   },
   {
    "duration": 1070,
    "start_time": "2022-02-09T19:36:20.799Z"
   },
   {
    "duration": 354,
    "start_time": "2022-02-09T19:36:21.871Z"
   },
   {
    "duration": 342,
    "start_time": "2022-02-09T19:36:22.227Z"
   },
   {
    "duration": 366,
    "start_time": "2022-02-09T19:36:22.572Z"
   },
   {
    "duration": 667,
    "start_time": "2022-02-10T05:26:18.292Z"
   },
   {
    "duration": 18,
    "start_time": "2022-02-10T05:26:20.797Z"
   },
   {
    "duration": 645,
    "start_time": "2022-02-10T05:26:31.143Z"
   },
   {
    "duration": 19,
    "start_time": "2022-02-10T05:26:31.790Z"
   },
   {
    "duration": 26,
    "start_time": "2022-02-10T05:26:31.812Z"
   },
   {
    "duration": 31,
    "start_time": "2022-02-10T05:26:31.841Z"
   },
   {
    "duration": 74,
    "start_time": "2022-02-10T05:26:31.874Z"
   },
   {
    "duration": 167,
    "start_time": "2022-02-10T05:26:31.950Z"
   },
   {
    "duration": 137,
    "start_time": "2022-02-10T05:26:32.120Z"
   },
   {
    "duration": 96,
    "start_time": "2022-02-10T05:26:32.261Z"
   },
   {
    "duration": 137,
    "start_time": "2022-02-10T05:26:32.360Z"
   },
   {
    "duration": 2,
    "start_time": "2022-02-10T05:26:32.499Z"
   },
   {
    "duration": 8,
    "start_time": "2022-02-10T05:26:32.503Z"
   },
   {
    "duration": 32,
    "start_time": "2022-02-10T05:26:32.513Z"
   },
   {
    "duration": 14,
    "start_time": "2022-02-10T05:26:32.547Z"
   },
   {
    "duration": 9,
    "start_time": "2022-02-10T05:26:32.563Z"
   },
   {
    "duration": 19,
    "start_time": "2022-02-10T05:26:32.574Z"
   },
   {
    "duration": 28,
    "start_time": "2022-02-10T05:26:32.594Z"
   },
   {
    "duration": 10,
    "start_time": "2022-02-10T05:26:32.624Z"
   },
   {
    "duration": 9,
    "start_time": "2022-02-10T05:26:32.636Z"
   },
   {
    "duration": 12,
    "start_time": "2022-02-10T05:26:32.646Z"
   },
   {
    "duration": 14,
    "start_time": "2022-02-10T05:26:32.659Z"
   },
   {
    "duration": 149,
    "start_time": "2022-02-10T05:26:32.675Z"
   },
   {
    "duration": 22,
    "start_time": "2022-02-10T05:26:32.826Z"
   },
   {
    "duration": 18,
    "start_time": "2022-02-10T05:26:32.852Z"
   },
   {
    "duration": 6,
    "start_time": "2022-02-10T05:26:32.873Z"
   },
   {
    "duration": 5,
    "start_time": "2022-02-10T05:26:32.881Z"
   },
   {
    "duration": 44,
    "start_time": "2022-02-10T05:26:32.887Z"
   },
   {
    "duration": 20,
    "start_time": "2022-02-10T05:26:32.934Z"
   },
   {
    "duration": 4,
    "start_time": "2022-02-10T05:26:32.956Z"
   },
   {
    "duration": 6,
    "start_time": "2022-02-10T05:26:32.962Z"
   },
   {
    "duration": 33,
    "start_time": "2022-02-10T05:26:32.969Z"
   },
   {
    "duration": 23,
    "start_time": "2022-02-10T05:26:33.004Z"
   },
   {
    "duration": 16,
    "start_time": "2022-02-10T05:26:33.029Z"
   },
   {
    "duration": 6,
    "start_time": "2022-02-10T05:26:33.047Z"
   },
   {
    "duration": 805,
    "start_time": "2022-02-10T05:26:33.055Z"
   },
   {
    "duration": 215,
    "start_time": "2022-02-10T05:26:33.862Z"
   },
   {
    "duration": 226,
    "start_time": "2022-02-10T05:26:34.079Z"
   },
   {
    "duration": 270,
    "start_time": "2022-02-10T05:26:34.306Z"
   },
   {
    "duration": 698,
    "start_time": "2022-02-15T16:57:29.793Z"
   },
   {
    "duration": 21,
    "start_time": "2022-02-15T16:57:30.492Z"
   },
   {
    "duration": 29,
    "start_time": "2022-02-15T16:57:30.515Z"
   },
   {
    "duration": 20,
    "start_time": "2022-02-15T16:57:30.546Z"
   },
   {
    "duration": 6,
    "start_time": "2022-02-15T16:57:30.568Z"
   },
   {
    "duration": 18,
    "start_time": "2022-02-15T16:57:30.575Z"
   },
   {
    "duration": 13,
    "start_time": "2022-02-15T16:57:30.595Z"
   },
   {
    "duration": 30,
    "start_time": "2022-02-15T16:57:30.611Z"
   },
   {
    "duration": 23,
    "start_time": "2022-02-15T16:57:30.644Z"
   },
   {
    "duration": 5,
    "start_time": "2022-02-15T16:57:30.669Z"
   },
   {
    "duration": 24,
    "start_time": "2022-02-15T16:57:30.676Z"
   },
   {
    "duration": 31,
    "start_time": "2022-02-15T16:57:30.702Z"
   },
   {
    "duration": 25,
    "start_time": "2022-02-15T16:57:30.735Z"
   },
   {
    "duration": 21,
    "start_time": "2022-02-15T16:57:30.762Z"
   },
   {
    "duration": 42,
    "start_time": "2022-02-15T16:57:30.785Z"
   },
   {
    "duration": 30,
    "start_time": "2022-02-15T16:57:30.829Z"
   },
   {
    "duration": 13,
    "start_time": "2022-02-15T16:57:30.861Z"
   },
   {
    "duration": 16,
    "start_time": "2022-02-15T16:57:30.876Z"
   },
   {
    "duration": 23,
    "start_time": "2022-02-15T16:57:30.894Z"
   },
   {
    "duration": 26,
    "start_time": "2022-02-15T16:57:30.919Z"
   },
   {
    "duration": 127,
    "start_time": "2022-02-15T16:57:30.947Z"
   },
   {
    "duration": 16,
    "start_time": "2022-02-15T16:57:31.076Z"
   },
   {
    "duration": 18,
    "start_time": "2022-02-15T16:57:31.108Z"
   },
   {
    "duration": 16,
    "start_time": "2022-02-15T16:57:31.129Z"
   },
   {
    "duration": 8,
    "start_time": "2022-02-15T16:57:31.147Z"
   },
   {
    "duration": 17,
    "start_time": "2022-02-15T16:57:31.157Z"
   },
   {
    "duration": 27,
    "start_time": "2022-02-15T16:57:31.177Z"
   },
   {
    "duration": 36,
    "start_time": "2022-02-15T16:57:31.206Z"
   },
   {
    "duration": 12,
    "start_time": "2022-02-15T16:57:31.245Z"
   },
   {
    "duration": 49,
    "start_time": "2022-02-15T16:57:31.259Z"
   },
   {
    "duration": 22,
    "start_time": "2022-02-15T16:57:31.311Z"
   },
   {
    "duration": 25,
    "start_time": "2022-02-15T16:57:31.335Z"
   },
   {
    "duration": 9,
    "start_time": "2022-02-15T16:57:31.362Z"
   },
   {
    "duration": 799,
    "start_time": "2022-02-15T16:57:31.372Z"
   },
   {
    "duration": 242,
    "start_time": "2022-02-15T16:57:32.173Z"
   },
   {
    "duration": 242,
    "start_time": "2022-02-15T16:57:32.418Z"
   },
   {
    "duration": 254,
    "start_time": "2022-02-15T16:57:32.662Z"
   },
   {
    "duration": 15,
    "start_time": "2022-02-15T17:01:33.203Z"
   },
   {
    "duration": 15,
    "start_time": "2022-02-15T17:06:42.167Z"
   },
   {
    "duration": 1126,
    "start_time": "2022-02-16T14:45:26.249Z"
   },
   {
    "duration": 2,
    "start_time": "2022-02-16T14:46:57.905Z"
   },
   {
    "duration": 65,
    "start_time": "2022-02-16T14:47:05.500Z"
   },
   {
    "duration": 3,
    "start_time": "2022-02-16T14:47:12.028Z"
   },
   {
    "duration": 51,
    "start_time": "2022-02-16T14:47:13.307Z"
   },
   {
    "duration": 6757,
    "start_time": "2022-02-16T14:49:44.812Z"
   },
   {
    "duration": 1118,
    "start_time": "2022-02-16T14:50:14.914Z"
   },
   {
    "duration": 47,
    "start_time": "2022-02-16T14:50:16.034Z"
   },
   {
    "duration": 12,
    "start_time": "2022-02-16T14:50:16.083Z"
   },
   {
    "duration": 10,
    "start_time": "2022-02-16T14:50:16.097Z"
   },
   {
    "duration": 6,
    "start_time": "2022-02-16T14:50:16.109Z"
   },
   {
    "duration": 30,
    "start_time": "2022-02-16T14:50:16.117Z"
   },
   {
    "duration": 10,
    "start_time": "2022-02-16T14:50:16.149Z"
   },
   {
    "duration": 7,
    "start_time": "2022-02-16T14:50:16.161Z"
   },
   {
    "duration": 16,
    "start_time": "2022-02-16T14:50:16.170Z"
   },
   {
    "duration": 3,
    "start_time": "2022-02-16T14:50:16.187Z"
   },
   {
    "duration": 3,
    "start_time": "2022-02-16T14:50:16.191Z"
   },
   {
    "duration": 45,
    "start_time": "2022-02-16T14:50:16.196Z"
   },
   {
    "duration": 15,
    "start_time": "2022-02-16T14:50:16.243Z"
   },
   {
    "duration": 7,
    "start_time": "2022-02-16T14:50:16.260Z"
   },
   {
    "duration": 19,
    "start_time": "2022-02-16T14:50:16.268Z"
   },
   {
    "duration": 12,
    "start_time": "2022-02-16T14:50:16.288Z"
   },
   {
    "duration": 6,
    "start_time": "2022-02-16T14:50:16.301Z"
   },
   {
    "duration": 30,
    "start_time": "2022-02-16T14:50:16.309Z"
   },
   {
    "duration": 12,
    "start_time": "2022-02-16T14:50:16.342Z"
   },
   {
    "duration": 13,
    "start_time": "2022-02-16T14:50:16.356Z"
   },
   {
    "duration": 126,
    "start_time": "2022-02-16T14:50:16.370Z"
   },
   {
    "duration": 12,
    "start_time": "2022-02-16T14:50:16.497Z"
   },
   {
    "duration": 25,
    "start_time": "2022-02-16T14:50:16.512Z"
   },
   {
    "duration": 5,
    "start_time": "2022-02-16T14:50:16.539Z"
   },
   {
    "duration": 4,
    "start_time": "2022-02-16T14:50:16.546Z"
   },
   {
    "duration": 11,
    "start_time": "2022-02-16T14:50:16.551Z"
   },
   {
    "duration": 10,
    "start_time": "2022-02-16T14:50:16.564Z"
   },
   {
    "duration": 3,
    "start_time": "2022-02-16T14:50:16.576Z"
   },
   {
    "duration": 4,
    "start_time": "2022-02-16T14:50:16.581Z"
   },
   {
    "duration": 80,
    "start_time": "2022-02-16T14:50:16.586Z"
   },
   {
    "duration": 7,
    "start_time": "2022-02-16T14:50:16.668Z"
   },
   {
    "duration": 10,
    "start_time": "2022-02-16T14:50:16.677Z"
   },
   {
    "duration": 4,
    "start_time": "2022-02-16T14:50:16.689Z"
   },
   {
    "duration": 202,
    "start_time": "2022-02-16T14:50:16.695Z"
   },
   {
    "duration": 188,
    "start_time": "2022-02-16T14:50:16.899Z"
   },
   {
    "duration": 213,
    "start_time": "2022-02-16T14:50:17.088Z"
   },
   {
    "duration": 209,
    "start_time": "2022-02-16T14:50:17.302Z"
   },
   {
    "duration": 32,
    "start_time": "2022-02-16T14:55:54.709Z"
   },
   {
    "duration": 22,
    "start_time": "2022-02-16T14:56:18.788Z"
   },
   {
    "duration": 7,
    "start_time": "2022-02-16T14:57:52.370Z"
   },
   {
    "duration": 93,
    "start_time": "2022-02-16T14:58:21.853Z"
   },
   {
    "duration": 6,
    "start_time": "2022-02-16T14:58:24.109Z"
   },
   {
    "duration": 1108,
    "start_time": "2022-02-16T14:58:33.638Z"
   },
   {
    "duration": 46,
    "start_time": "2022-02-16T14:58:34.748Z"
   },
   {
    "duration": 13,
    "start_time": "2022-02-16T14:58:34.796Z"
   },
   {
    "duration": 10,
    "start_time": "2022-02-16T14:58:34.811Z"
   },
   {
    "duration": 22,
    "start_time": "2022-02-16T14:58:34.822Z"
   },
   {
    "duration": 8,
    "start_time": "2022-02-16T14:58:34.846Z"
   },
   {
    "duration": 2,
    "start_time": "2022-02-16T14:58:34.856Z"
   },
   {
    "duration": 8,
    "start_time": "2022-02-16T14:58:34.861Z"
   },
   {
    "duration": 13,
    "start_time": "2022-02-16T14:58:34.871Z"
   },
   {
    "duration": 13,
    "start_time": "2022-02-16T14:58:34.886Z"
   },
   {
    "duration": 45,
    "start_time": "2022-02-16T14:58:34.901Z"
   },
   {
    "duration": 8,
    "start_time": "2022-02-16T14:58:34.947Z"
   },
   {
    "duration": 26,
    "start_time": "2022-02-16T14:58:34.957Z"
   },
   {
    "duration": 86,
    "start_time": "2022-02-16T14:58:34.984Z"
   },
   {
    "duration": 7,
    "start_time": "2022-02-16T14:58:35.071Z"
   },
   {
    "duration": 367,
    "start_time": "2022-02-16T14:58:35.080Z"
   },
   {
    "duration": -47,
    "start_time": "2022-02-16T14:58:35.497Z"
   },
   {
    "duration": -49,
    "start_time": "2022-02-16T14:58:35.500Z"
   },
   {
    "duration": -50,
    "start_time": "2022-02-16T14:58:35.502Z"
   },
   {
    "duration": -50,
    "start_time": "2022-02-16T14:58:35.503Z"
   },
   {
    "duration": -52,
    "start_time": "2022-02-16T14:58:35.505Z"
   },
   {
    "duration": -78,
    "start_time": "2022-02-16T14:58:35.532Z"
   },
   {
    "duration": -82,
    "start_time": "2022-02-16T14:58:35.536Z"
   },
   {
    "duration": -83,
    "start_time": "2022-02-16T14:58:35.538Z"
   },
   {
    "duration": -85,
    "start_time": "2022-02-16T14:58:35.541Z"
   },
   {
    "duration": -87,
    "start_time": "2022-02-16T14:58:35.543Z"
   },
   {
    "duration": -87,
    "start_time": "2022-02-16T14:58:35.544Z"
   },
   {
    "duration": -89,
    "start_time": "2022-02-16T14:58:35.546Z"
   },
   {
    "duration": -90,
    "start_time": "2022-02-16T14:58:35.548Z"
   },
   {
    "duration": -91,
    "start_time": "2022-02-16T14:58:35.549Z"
   },
   {
    "duration": -92,
    "start_time": "2022-02-16T14:58:35.551Z"
   },
   {
    "duration": -94,
    "start_time": "2022-02-16T14:58:35.553Z"
   },
   {
    "duration": -95,
    "start_time": "2022-02-16T14:58:35.555Z"
   },
   {
    "duration": -95,
    "start_time": "2022-02-16T14:58:35.556Z"
   },
   {
    "duration": -97,
    "start_time": "2022-02-16T14:58:35.558Z"
   },
   {
    "duration": 15,
    "start_time": "2022-02-16T14:59:03.627Z"
   },
   {
    "duration": 7,
    "start_time": "2022-02-16T14:59:05.372Z"
   },
   {
    "duration": 6,
    "start_time": "2022-02-16T14:59:10.532Z"
   },
   {
    "duration": 139,
    "start_time": "2022-02-16T15:18:51.175Z"
   },
   {
    "duration": 3,
    "start_time": "2022-02-16T15:31:02.116Z"
   },
   {
    "duration": 3,
    "start_time": "2022-02-16T15:32:21.375Z"
   },
   {
    "duration": 543,
    "start_time": "2022-02-16T15:34:13.826Z"
   },
   {
    "duration": 4,
    "start_time": "2022-02-16T15:34:26.754Z"
   },
   {
    "duration": 159,
    "start_time": "2022-02-16T15:34:27.122Z"
   },
   {
    "duration": 120,
    "start_time": "2022-02-16T15:36:28.929Z"
   },
   {
    "duration": 3,
    "start_time": "2022-02-16T15:36:32.921Z"
   },
   {
    "duration": 161,
    "start_time": "2022-02-16T15:36:33.601Z"
   },
   {
    "duration": 4,
    "start_time": "2022-02-16T15:37:47.072Z"
   },
   {
    "duration": 153,
    "start_time": "2022-02-16T15:37:48.946Z"
   },
   {
    "duration": 46,
    "start_time": "2022-02-16T15:38:15.034Z"
   },
   {
    "duration": 7,
    "start_time": "2022-02-16T15:38:32.937Z"
   },
   {
    "duration": 36,
    "start_time": "2022-02-16T15:38:33.786Z"
   },
   {
    "duration": 3,
    "start_time": "2022-02-16T15:38:39.888Z"
   },
   {
    "duration": 34,
    "start_time": "2022-02-16T15:38:40.144Z"
   },
   {
    "duration": 5,
    "start_time": "2022-02-16T15:40:12.664Z"
   },
   {
    "duration": 6,
    "start_time": "2022-02-16T15:40:20.329Z"
   },
   {
    "duration": 1261,
    "start_time": "2022-02-16T15:41:09.503Z"
   },
   {
    "duration": 64,
    "start_time": "2022-02-16T15:41:10.766Z"
   },
   {
    "duration": 19,
    "start_time": "2022-02-16T15:41:10.835Z"
   },
   {
    "duration": 11,
    "start_time": "2022-02-16T15:41:10.856Z"
   },
   {
    "duration": 5,
    "start_time": "2022-02-16T15:41:10.869Z"
   },
   {
    "duration": 8,
    "start_time": "2022-02-16T15:41:10.876Z"
   },
   {
    "duration": 3,
    "start_time": "2022-02-16T15:41:10.885Z"
   },
   {
    "duration": 10,
    "start_time": "2022-02-16T15:41:10.890Z"
   },
   {
    "duration": 48,
    "start_time": "2022-02-16T15:41:10.902Z"
   },
   {
    "duration": 14,
    "start_time": "2022-02-16T15:41:10.951Z"
   },
   {
    "duration": 14,
    "start_time": "2022-02-16T15:41:10.966Z"
   },
   {
    "duration": 8,
    "start_time": "2022-02-16T15:41:10.981Z"
   },
   {
    "duration": 50,
    "start_time": "2022-02-16T15:41:10.990Z"
   },
   {
    "duration": 7,
    "start_time": "2022-02-16T15:41:11.042Z"
   },
   {
    "duration": 37,
    "start_time": "2022-02-16T15:41:11.051Z"
   },
   {
    "duration": 3,
    "start_time": "2022-02-16T15:41:11.090Z"
   },
   {
    "duration": 5,
    "start_time": "2022-02-16T15:41:11.095Z"
   },
   {
    "duration": 382,
    "start_time": "2022-02-16T15:41:11.102Z"
   },
   {
    "duration": -61,
    "start_time": "2022-02-16T15:41:11.547Z"
   },
   {
    "duration": -61,
    "start_time": "2022-02-16T15:41:11.548Z"
   },
   {
    "duration": -62,
    "start_time": "2022-02-16T15:41:11.550Z"
   },
   {
    "duration": -63,
    "start_time": "2022-02-16T15:41:11.552Z"
   },
   {
    "duration": -64,
    "start_time": "2022-02-16T15:41:11.554Z"
   },
   {
    "duration": -65,
    "start_time": "2022-02-16T15:41:11.556Z"
   },
   {
    "duration": -66,
    "start_time": "2022-02-16T15:41:11.558Z"
   },
   {
    "duration": -67,
    "start_time": "2022-02-16T15:41:11.560Z"
   },
   {
    "duration": -83,
    "start_time": "2022-02-16T15:41:11.577Z"
   },
   {
    "duration": -86,
    "start_time": "2022-02-16T15:41:11.581Z"
   },
   {
    "duration": -88,
    "start_time": "2022-02-16T15:41:11.584Z"
   },
   {
    "duration": -90,
    "start_time": "2022-02-16T15:41:11.587Z"
   },
   {
    "duration": -91,
    "start_time": "2022-02-16T15:41:11.589Z"
   },
   {
    "duration": -92,
    "start_time": "2022-02-16T15:41:11.591Z"
   },
   {
    "duration": -93,
    "start_time": "2022-02-16T15:41:11.593Z"
   },
   {
    "duration": -95,
    "start_time": "2022-02-16T15:41:11.595Z"
   },
   {
    "duration": -96,
    "start_time": "2022-02-16T15:41:11.597Z"
   },
   {
    "duration": -97,
    "start_time": "2022-02-16T15:41:11.599Z"
   },
   {
    "duration": -98,
    "start_time": "2022-02-16T15:41:11.601Z"
   },
   {
    "duration": 287,
    "start_time": "2022-02-16T15:42:30.625Z"
   },
   {
    "duration": 273,
    "start_time": "2022-02-16T15:42:35.073Z"
   },
   {
    "duration": 6,
    "start_time": "2022-02-16T15:42:46.641Z"
   },
   {
    "duration": 332,
    "start_time": "2022-02-16T15:42:50.824Z"
   },
   {
    "duration": 4,
    "start_time": "2022-02-16T15:44:37.785Z"
   },
   {
    "duration": 53,
    "start_time": "2022-02-16T15:44:38.527Z"
   },
   {
    "duration": 4,
    "start_time": "2022-02-16T15:44:48.304Z"
   },
   {
    "duration": 10,
    "start_time": "2022-02-16T15:44:50.535Z"
   },
   {
    "duration": 5,
    "start_time": "2022-02-16T15:44:53.808Z"
   },
   {
    "duration": 1225,
    "start_time": "2022-02-16T15:45:37.189Z"
   },
   {
    "duration": 68,
    "start_time": "2022-02-16T15:45:38.416Z"
   },
   {
    "duration": 18,
    "start_time": "2022-02-16T15:45:38.487Z"
   },
   {
    "duration": 33,
    "start_time": "2022-02-16T15:45:38.507Z"
   },
   {
    "duration": 19,
    "start_time": "2022-02-16T15:45:38.544Z"
   },
   {
    "duration": 11,
    "start_time": "2022-02-16T15:45:38.566Z"
   },
   {
    "duration": 4,
    "start_time": "2022-02-16T15:45:38.578Z"
   },
   {
    "duration": 8,
    "start_time": "2022-02-16T15:45:38.585Z"
   },
   {
    "duration": 15,
    "start_time": "2022-02-16T15:45:38.595Z"
   },
   {
    "duration": 37,
    "start_time": "2022-02-16T15:45:38.612Z"
   },
   {
    "duration": 20,
    "start_time": "2022-02-16T15:45:38.651Z"
   },
   {
    "duration": 11,
    "start_time": "2022-02-16T15:45:38.673Z"
   },
   {
    "duration": 71,
    "start_time": "2022-02-16T15:45:38.686Z"
   },
   {
    "duration": 4,
    "start_time": "2022-02-16T15:45:38.759Z"
   },
   {
    "duration": 46,
    "start_time": "2022-02-16T15:45:38.766Z"
   },
   {
    "duration": 28,
    "start_time": "2022-02-16T15:45:38.814Z"
   },
   {
    "duration": 7,
    "start_time": "2022-02-16T15:45:38.844Z"
   },
   {
    "duration": 7,
    "start_time": "2022-02-16T15:45:38.853Z"
   },
   {
    "duration": 12,
    "start_time": "2022-02-16T15:45:38.862Z"
   },
   {
    "duration": 17,
    "start_time": "2022-02-16T15:45:38.876Z"
   },
   {
    "duration": 165,
    "start_time": "2022-02-16T15:45:38.895Z"
   },
   {
    "duration": 17,
    "start_time": "2022-02-16T15:45:39.061Z"
   },
   {
    "duration": 15,
    "start_time": "2022-02-16T15:45:39.082Z"
   },
   {
    "duration": 4,
    "start_time": "2022-02-16T15:45:39.099Z"
   },
   {
    "duration": 30,
    "start_time": "2022-02-16T15:45:39.105Z"
   },
   {
    "duration": 21,
    "start_time": "2022-02-16T15:45:39.138Z"
   },
   {
    "duration": 13,
    "start_time": "2022-02-16T15:45:39.161Z"
   },
   {
    "duration": 6,
    "start_time": "2022-02-16T15:45:39.176Z"
   },
   {
    "duration": 7,
    "start_time": "2022-02-16T15:45:39.184Z"
   },
   {
    "duration": 31,
    "start_time": "2022-02-16T15:45:39.193Z"
   },
   {
    "duration": 12,
    "start_time": "2022-02-16T15:45:39.231Z"
   },
   {
    "duration": 20,
    "start_time": "2022-02-16T15:45:39.248Z"
   },
   {
    "duration": 5,
    "start_time": "2022-02-16T15:45:39.271Z"
   },
   {
    "duration": 269,
    "start_time": "2022-02-16T15:45:39.278Z"
   },
   {
    "duration": 270,
    "start_time": "2022-02-16T15:45:39.552Z"
   },
   {
    "duration": 269,
    "start_time": "2022-02-16T15:45:39.824Z"
   },
   {
    "duration": 256,
    "start_time": "2022-02-16T15:45:40.095Z"
   },
   {
    "duration": 4,
    "start_time": "2022-02-16T15:46:38.895Z"
   },
   {
    "duration": 38,
    "start_time": "2022-02-16T15:46:39.598Z"
   },
   {
    "duration": 5,
    "start_time": "2022-02-16T15:46:59.063Z"
   },
   {
    "duration": 43,
    "start_time": "2022-02-16T15:46:59.526Z"
   },
   {
    "duration": 4,
    "start_time": "2022-02-16T15:47:24.406Z"
   },
   {
    "duration": 36,
    "start_time": "2022-02-16T15:47:24.726Z"
   },
   {
    "duration": 19,
    "start_time": "2022-02-16T15:48:21.734Z"
   },
   {
    "duration": 15,
    "start_time": "2022-02-16T15:48:28.206Z"
   },
   {
    "duration": 14,
    "start_time": "2022-02-16T15:48:32.526Z"
   },
   {
    "duration": 334,
    "start_time": "2022-02-16T15:49:02.966Z"
   },
   {
    "duration": 259,
    "start_time": "2022-02-16T15:49:36.461Z"
   },
   {
    "duration": 19,
    "start_time": "2022-02-16T15:49:47.997Z"
   },
   {
    "duration": 16,
    "start_time": "2022-02-16T15:50:14.469Z"
   },
   {
    "duration": 18,
    "start_time": "2022-02-16T15:50:22.885Z"
   },
   {
    "duration": 27,
    "start_time": "2022-02-16T15:50:40.894Z"
   },
   {
    "duration": 20,
    "start_time": "2022-02-16T15:51:48.533Z"
   },
   {
    "duration": 13,
    "start_time": "2022-02-16T15:52:10.061Z"
   },
   {
    "duration": 16,
    "start_time": "2022-02-16T15:52:14.124Z"
   },
   {
    "duration": 17,
    "start_time": "2022-02-16T15:53:28.220Z"
   },
   {
    "duration": 19,
    "start_time": "2022-02-16T15:53:32.469Z"
   },
   {
    "duration": 27,
    "start_time": "2022-02-16T15:53:41.118Z"
   },
   {
    "duration": 306,
    "start_time": "2022-02-16T15:54:19.676Z"
   },
   {
    "duration": 91,
    "start_time": "2022-02-16T15:54:24.501Z"
   },
   {
    "duration": 496,
    "start_time": "2022-02-16T15:54:37.124Z"
   },
   {
    "duration": 6386,
    "start_time": "2022-02-16T15:55:24.516Z"
   },
   {
    "duration": 28,
    "start_time": "2022-02-16T15:55:38.356Z"
   },
   {
    "duration": 19,
    "start_time": "2022-02-16T15:55:46.092Z"
   },
   {
    "duration": 17,
    "start_time": "2022-02-16T15:55:55.676Z"
   },
   {
    "duration": 27,
    "start_time": "2022-02-16T15:56:05.213Z"
   },
   {
    "duration": 32,
    "start_time": "2022-02-16T15:56:19.843Z"
   },
   {
    "duration": 27,
    "start_time": "2022-02-16T15:56:23.252Z"
   },
   {
    "duration": 3,
    "start_time": "2022-02-16T15:56:55.507Z"
   },
   {
    "duration": 28,
    "start_time": "2022-02-16T15:57:52.123Z"
   },
   {
    "duration": 23,
    "start_time": "2022-02-16T15:58:02.155Z"
   },
   {
    "duration": 255,
    "start_time": "2022-02-16T15:58:10.980Z"
   },
   {
    "duration": 17,
    "start_time": "2022-02-16T15:58:20.939Z"
   },
   {
    "duration": 17,
    "start_time": "2022-02-16T15:58:29.826Z"
   },
   {
    "duration": 16,
    "start_time": "2022-02-16T15:58:42.186Z"
   },
   {
    "duration": 15,
    "start_time": "2022-02-16T15:58:47.066Z"
   },
   {
    "duration": 276,
    "start_time": "2022-02-16T15:59:58.019Z"
   },
   {
    "duration": 34,
    "start_time": "2022-02-16T16:01:13.793Z"
   },
   {
    "duration": 27,
    "start_time": "2022-02-16T16:01:27.595Z"
   },
   {
    "duration": 27,
    "start_time": "2022-02-16T16:01:38.010Z"
   },
   {
    "duration": 14,
    "start_time": "2022-02-16T16:01:59.025Z"
   },
   {
    "duration": 29,
    "start_time": "2022-02-16T16:02:00.737Z"
   },
   {
    "duration": 100,
    "start_time": "2022-02-16T16:06:01.969Z"
   },
   {
    "duration": 5,
    "start_time": "2022-02-16T16:15:39.526Z"
   },
   {
    "duration": 82,
    "start_time": "2022-02-16T16:37:43.927Z"
   },
   {
    "duration": 1100,
    "start_time": "2022-02-16T16:52:50.797Z"
   },
   {
    "duration": 66,
    "start_time": "2022-02-16T16:52:51.898Z"
   },
   {
    "duration": 14,
    "start_time": "2022-02-16T16:52:51.966Z"
   },
   {
    "duration": 11,
    "start_time": "2022-02-16T16:52:51.982Z"
   },
   {
    "duration": 7,
    "start_time": "2022-02-16T16:52:51.995Z"
   },
   {
    "duration": 39,
    "start_time": "2022-02-16T16:52:52.004Z"
   },
   {
    "duration": 4,
    "start_time": "2022-02-16T16:52:52.046Z"
   },
   {
    "duration": 11,
    "start_time": "2022-02-16T16:52:52.053Z"
   },
   {
    "duration": 16,
    "start_time": "2022-02-16T16:52:52.067Z"
   },
   {
    "duration": 18,
    "start_time": "2022-02-16T16:52:52.085Z"
   },
   {
    "duration": 20,
    "start_time": "2022-02-16T16:52:52.133Z"
   },
   {
    "duration": 10,
    "start_time": "2022-02-16T16:52:52.155Z"
   },
   {
    "duration": 27,
    "start_time": "2022-02-16T16:52:52.167Z"
   },
   {
    "duration": 5,
    "start_time": "2022-02-16T16:52:52.196Z"
   },
   {
    "duration": 64,
    "start_time": "2022-02-16T16:52:52.202Z"
   },
   {
    "duration": 4,
    "start_time": "2022-02-16T16:52:52.267Z"
   },
   {
    "duration": 5,
    "start_time": "2022-02-16T16:52:52.273Z"
   },
   {
    "duration": 8,
    "start_time": "2022-02-16T16:52:52.280Z"
   },
   {
    "duration": 14,
    "start_time": "2022-02-16T16:52:52.290Z"
   },
   {
    "duration": 30,
    "start_time": "2022-02-16T16:52:52.306Z"
   },
   {
    "duration": 114,
    "start_time": "2022-02-16T16:52:52.339Z"
   },
   {
    "duration": 17,
    "start_time": "2022-02-16T16:52:52.454Z"
   },
   {
    "duration": 24,
    "start_time": "2022-02-16T16:52:52.474Z"
   },
   {
    "duration": 58,
    "start_time": "2022-02-16T16:52:52.500Z"
   },
   {
    "duration": 11,
    "start_time": "2022-02-16T16:52:52.559Z"
   },
   {
    "duration": 10,
    "start_time": "2022-02-16T16:52:52.572Z"
   },
   {
    "duration": 7,
    "start_time": "2022-02-16T16:52:52.583Z"
   },
   {
    "duration": 4,
    "start_time": "2022-02-16T16:52:52.592Z"
   },
   {
    "duration": 41,
    "start_time": "2022-02-16T16:52:52.598Z"
   },
   {
    "duration": 13,
    "start_time": "2022-02-16T16:52:52.642Z"
   },
   {
    "duration": 9,
    "start_time": "2022-02-16T16:52:52.657Z"
   },
   {
    "duration": 6,
    "start_time": "2022-02-16T16:52:52.668Z"
   },
   {
    "duration": 35,
    "start_time": "2022-02-16T16:52:52.676Z"
   },
   {
    "duration": 24,
    "start_time": "2022-02-16T16:52:52.713Z"
   },
   {
    "duration": 12,
    "start_time": "2022-02-16T16:52:52.739Z"
   },
   {
    "duration": 6,
    "start_time": "2022-02-16T16:52:52.753Z"
   },
   {
    "duration": 206,
    "start_time": "2022-02-16T16:52:52.760Z"
   },
   {
    "duration": 190,
    "start_time": "2022-02-16T16:52:52.968Z"
   },
   {
    "duration": 274,
    "start_time": "2022-02-16T16:52:53.161Z"
   },
   {
    "duration": 198,
    "start_time": "2022-02-16T16:52:53.437Z"
   },
   {
    "duration": 40,
    "start_time": "2022-02-16T17:08:15.672Z"
   },
   {
    "duration": 382,
    "start_time": "2022-02-16T17:12:44.174Z"
   },
   {
    "duration": 40,
    "start_time": "2022-02-16T17:12:49.567Z"
   },
   {
    "duration": 288,
    "start_time": "2022-02-16T17:13:35.351Z"
   },
   {
    "duration": 1082,
    "start_time": "2022-02-16T17:20:38.561Z"
   },
   {
    "duration": 59,
    "start_time": "2022-02-16T17:20:39.645Z"
   },
   {
    "duration": 13,
    "start_time": "2022-02-16T17:20:39.706Z"
   },
   {
    "duration": 11,
    "start_time": "2022-02-16T17:20:39.721Z"
   },
   {
    "duration": 6,
    "start_time": "2022-02-16T17:20:39.734Z"
   },
   {
    "duration": 8,
    "start_time": "2022-02-16T17:20:39.741Z"
   },
   {
    "duration": 3,
    "start_time": "2022-02-16T17:20:39.751Z"
   },
   {
    "duration": 9,
    "start_time": "2022-02-16T17:20:39.755Z"
   },
   {
    "duration": 14,
    "start_time": "2022-02-16T17:20:39.766Z"
   },
   {
    "duration": 50,
    "start_time": "2022-02-16T17:20:39.782Z"
   },
   {
    "duration": 16,
    "start_time": "2022-02-16T17:20:39.834Z"
   },
   {
    "duration": 7,
    "start_time": "2022-02-16T17:20:39.852Z"
   },
   {
    "duration": 27,
    "start_time": "2022-02-16T17:20:39.861Z"
   },
   {
    "duration": 4,
    "start_time": "2022-02-16T17:20:39.889Z"
   },
   {
    "duration": 69,
    "start_time": "2022-02-16T17:20:39.895Z"
   },
   {
    "duration": 5,
    "start_time": "2022-02-16T17:20:39.966Z"
   },
   {
    "duration": 7,
    "start_time": "2022-02-16T17:20:39.973Z"
   },
   {
    "duration": 5,
    "start_time": "2022-02-16T17:20:39.981Z"
   },
   {
    "duration": 11,
    "start_time": "2022-02-16T17:20:39.987Z"
   },
   {
    "duration": 44,
    "start_time": "2022-02-16T17:20:40.000Z"
   },
   {
    "duration": 118,
    "start_time": "2022-02-16T17:20:40.045Z"
   },
   {
    "duration": 18,
    "start_time": "2022-02-16T17:20:40.165Z"
   },
   {
    "duration": 48,
    "start_time": "2022-02-16T17:20:40.185Z"
   },
   {
    "duration": 33,
    "start_time": "2022-02-16T17:20:40.234Z"
   },
   {
    "duration": 10,
    "start_time": "2022-02-16T17:20:40.269Z"
   },
   {
    "duration": 10,
    "start_time": "2022-02-16T17:20:40.281Z"
   },
   {
    "duration": 6,
    "start_time": "2022-02-16T17:20:40.294Z"
   },
   {
    "duration": 4,
    "start_time": "2022-02-16T17:20:40.301Z"
   },
   {
    "duration": 9,
    "start_time": "2022-02-16T17:20:40.332Z"
   },
   {
    "duration": 10,
    "start_time": "2022-02-16T17:20:40.342Z"
   },
   {
    "duration": 4,
    "start_time": "2022-02-16T17:20:40.353Z"
   },
   {
    "duration": 4,
    "start_time": "2022-02-16T17:20:40.359Z"
   },
   {
    "duration": 33,
    "start_time": "2022-02-16T17:20:40.365Z"
   },
   {
    "duration": 36,
    "start_time": "2022-02-16T17:20:40.400Z"
   },
   {
    "duration": 9,
    "start_time": "2022-02-16T17:20:40.437Z"
   },
   {
    "duration": 4,
    "start_time": "2022-02-16T17:20:40.448Z"
   },
   {
    "duration": 210,
    "start_time": "2022-02-16T17:20:40.453Z"
   },
   {
    "duration": 196,
    "start_time": "2022-02-16T17:20:40.665Z"
   },
   {
    "duration": 199,
    "start_time": "2022-02-16T17:20:40.863Z"
   },
   {
    "duration": 209,
    "start_time": "2022-02-16T17:20:41.063Z"
   },
   {
    "duration": 1286,
    "start_time": "2022-02-16T20:43:14.147Z"
   },
   {
    "duration": 61,
    "start_time": "2022-02-16T20:43:15.435Z"
   },
   {
    "duration": 14,
    "start_time": "2022-02-16T20:43:15.499Z"
   },
   {
    "duration": 34,
    "start_time": "2022-02-16T20:43:15.515Z"
   },
   {
    "duration": 12,
    "start_time": "2022-02-16T20:43:15.551Z"
   },
   {
    "duration": 15,
    "start_time": "2022-02-16T20:43:15.565Z"
   },
   {
    "duration": 12,
    "start_time": "2022-02-16T20:43:15.582Z"
   },
   {
    "duration": 11,
    "start_time": "2022-02-16T20:43:15.598Z"
   },
   {
    "duration": 25,
    "start_time": "2022-02-16T20:43:15.612Z"
   },
   {
    "duration": 20,
    "start_time": "2022-02-16T20:43:15.639Z"
   },
   {
    "duration": 23,
    "start_time": "2022-02-16T20:43:15.661Z"
   },
   {
    "duration": 10,
    "start_time": "2022-02-16T20:43:15.687Z"
   },
   {
    "duration": 44,
    "start_time": "2022-02-16T20:43:15.699Z"
   },
   {
    "duration": 28,
    "start_time": "2022-02-16T20:43:15.745Z"
   },
   {
    "duration": 71,
    "start_time": "2022-02-16T20:43:15.776Z"
   },
   {
    "duration": 6,
    "start_time": "2022-02-16T20:43:15.849Z"
   },
   {
    "duration": 25,
    "start_time": "2022-02-16T20:43:15.857Z"
   },
   {
    "duration": 26,
    "start_time": "2022-02-16T20:43:15.885Z"
   },
   {
    "duration": 20,
    "start_time": "2022-02-16T20:43:15.914Z"
   },
   {
    "duration": 35,
    "start_time": "2022-02-16T20:43:15.937Z"
   },
   {
    "duration": 140,
    "start_time": "2022-02-16T20:43:15.974Z"
   },
   {
    "duration": 19,
    "start_time": "2022-02-16T20:43:16.116Z"
   },
   {
    "duration": 61,
    "start_time": "2022-02-16T20:43:16.139Z"
   },
   {
    "duration": 36,
    "start_time": "2022-02-16T20:43:16.201Z"
   },
   {
    "duration": 12,
    "start_time": "2022-02-16T20:43:16.239Z"
   },
   {
    "duration": 21,
    "start_time": "2022-02-16T20:43:16.271Z"
   },
   {
    "duration": 7,
    "start_time": "2022-02-16T20:43:16.294Z"
   },
   {
    "duration": 33,
    "start_time": "2022-02-16T20:43:16.303Z"
   },
   {
    "duration": 22,
    "start_time": "2022-02-16T20:43:16.338Z"
   },
   {
    "duration": 27,
    "start_time": "2022-02-16T20:43:16.362Z"
   },
   {
    "duration": 34,
    "start_time": "2022-02-16T20:43:16.393Z"
   },
   {
    "duration": 33,
    "start_time": "2022-02-16T20:43:16.429Z"
   },
   {
    "duration": 52,
    "start_time": "2022-02-16T20:43:16.464Z"
   },
   {
    "duration": 10,
    "start_time": "2022-02-16T20:43:16.517Z"
   },
   {
    "duration": 17,
    "start_time": "2022-02-16T20:43:16.529Z"
   },
   {
    "duration": 15,
    "start_time": "2022-02-16T20:43:16.548Z"
   },
   {
    "duration": 247,
    "start_time": "2022-02-16T20:43:16.565Z"
   },
   {
    "duration": 250,
    "start_time": "2022-02-16T20:43:16.813Z"
   },
   {
    "duration": 259,
    "start_time": "2022-02-16T20:43:17.069Z"
   },
   {
    "duration": 280,
    "start_time": "2022-02-16T20:43:17.329Z"
   }
  ],
  "kernelspec": {
   "display_name": "Python 3 (ipykernel)",
   "language": "python",
   "name": "python3"
  },
  "language_info": {
   "codemirror_mode": {
    "name": "ipython",
    "version": 3
   },
   "file_extension": ".py",
   "mimetype": "text/x-python",
   "name": "python",
   "nbconvert_exporter": "python",
   "pygments_lexer": "ipython3",
   "version": "3.9.13"
  },
  "toc": {
   "base_numbering": 1,
   "nav_menu": {},
   "number_sections": false,
   "sideBar": true,
   "skip_h1_title": false,
   "title_cell": "Table of Contents",
   "title_sidebar": "Contents",
   "toc_cell": false,
   "toc_position": {
    "height": "calc(100% - 180px)",
    "left": "10px",
    "top": "150px",
    "width": "358.188px"
   },
   "toc_section_display": true,
   "toc_window_display": true
  }
 },
 "nbformat": 4,
 "nbformat_minor": 4
}
