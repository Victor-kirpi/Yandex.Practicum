{
 "cells": [
  {
   "cell_type": "code",
   "execution_count": 1,
   "metadata": {},
   "outputs": [],
   "source": [
    "# pip install hyperopt"
   ]
  },
  {
   "cell_type": "code",
   "execution_count": 2,
   "metadata": {},
   "outputs": [],
   "source": [
    "# pip install xgboost"
   ]
  },
  {
   "cell_type": "code",
   "execution_count": 3,
   "metadata": {},
   "outputs": [],
   "source": [
    "# pip install catboost"
   ]
  },
  {
   "cell_type": "code",
   "execution_count": 4,
   "metadata": {},
   "outputs": [],
   "source": [
    "# pip install lightgbm"
   ]
  },
  {
   "cell_type": "code",
   "execution_count": 5,
   "metadata": {},
   "outputs": [],
   "source": [
    "import pandas as pd\n",
    "\n",
    "import re\n",
    "\n",
    "import warnings\n",
    "warnings.filterwarnings('ignore')\n",
    "\n",
    "import xgboost as xgb\n",
    "\n",
    "from hyperopt import hp, fmin, tpe, STATUS_OK, Trials\n",
    "\n",
    "import seaborn as sb\n",
    "\n",
    "import matplotlib.pyplot as plt\n",
    "\n",
    "import numpy as np\n",
    "\n",
    "import time\n",
    "\n",
    "import os\n",
    "\n",
    "from sklearn.metrics import mean_squared_error\n",
    "\n",
    "from sklearn.model_selection import train_test_split\n",
    "\n",
    "from sklearn.preprocessing import OrdinalEncoder, StandardScaler\n",
    "\n",
    "from sklearn.ensemble import RandomForestRegressor\n",
    "\n",
    "from lightgbm import LGBMRegressor\n",
    "\n",
    "from catboost import CatBoostRegressor\n",
    "\n",
    "from sklearn.linear_model import LinearRegression\n",
    "\n",
    "from sklearn.dummy import DummyRegressor"
   ]
  },
  {
   "cell_type": "markdown",
   "metadata": {},
   "source": [
    "<a id='intro'></a>"
   ]
  },
  {
   "cell_type": "markdown",
   "metadata": {},
   "source": [
    "# **Определение стоимости автомобилей**"
   ]
  },
  {
   "cell_type": "markdown",
   "metadata": {},
   "source": [
    "**Заказчик** — cервис по продаже автомобилей с пробегом «Не бит, не крашен».\n",
    "\n",
    "**Цель исследования**:\n",
    "1. Построить систему, способную через мобильное приложение определить рыночную стоимость автомобиля клиента.\n",
    "\n",
    "**Поставленные задачи**\n",
    "1. Изучить предоставленные данные и подготовить их для обучения моделей. Разделить исходные данные на обучающую, валидационную и тестовую выборки.\n",
    "2. Обучить разные модели и найти лучшую с предельно меньшим значением RMSE. Минимальный показатель метрики 2500.\n",
    "3. Проверить качество выбранной модели на тестовой выборке.\n",
    "\n",
    "**Дальнейшее использование**\n",
    "\n",
    "Результаты исследования будут использоваться в дальнейшем при внедрении разрабатываемого приложение сервиса-Заказчика для привлечения новых клиентов. \n",
    "\n",
    "**Дополнительно предоставленная инфомарция**\n",
    "\n",
    "- Имеются исторические данные: технические характеристики, комплектации и цены автомобилей.\n",
    "- Ключевые показатели моделей:\n",
    "    * качество предсказания;\n",
    "    * скорость предсказания;\n",
    "    * время обучения."
   ]
  },
  {
   "cell_type": "markdown",
   "metadata": {
    "tags": []
   },
   "source": [
    "<a id='data_review'></a>"
   ]
  },
  {
   "cell_type": "markdown",
   "metadata": {},
   "source": [
    "## **I. Обзор и обработка данных**"
   ]
  },
  {
   "cell_type": "markdown",
   "metadata": {},
   "source": [
    "### 1. Первичный обзор"
   ]
  },
  {
   "cell_type": "markdown",
   "metadata": {},
   "source": [
    "Сначала составим представление о полученных исходных данных.\n",
    "\n",
    "Прочитаем файл `autos.csv` из папки `/datasets/` и сохраним его в переменной `df`:"
   ]
  },
  {
   "cell_type": "code",
   "execution_count": 11,
   "metadata": {},
   "outputs": [],
   "source": [
    "pth1 = '/Users/vi_gav/Desktop/Py_projects/jupyter/Yandex/datasets/autos.csv'\n",
    "pth2 = '/datasets/autos.csv'\n",
    "\n",
    "if os.path.exists(pth1):\n",
    "    df = pd.read_csv(pth1, sep=',')\n",
    "elif os.path.exists(pth2):\n",
    "    df = pd.read_csv(pth2, sep=',')\n",
    "else:\n",
    "    print('Something is wrong')"
   ]
  },
  {
   "cell_type": "markdown",
   "metadata": {},
   "source": [
    "Выведем на экран первые пять строк таблицы:"
   ]
  },
  {
   "cell_type": "code",
   "execution_count": 12,
   "metadata": {
    "scrolled": true
   },
   "outputs": [
    {
     "data": {
      "text/html": [
       "<div>\n",
       "<style scoped>\n",
       "    .dataframe tbody tr th:only-of-type {\n",
       "        vertical-align: middle;\n",
       "    }\n",
       "\n",
       "    .dataframe tbody tr th {\n",
       "        vertical-align: top;\n",
       "    }\n",
       "\n",
       "    .dataframe thead th {\n",
       "        text-align: right;\n",
       "    }\n",
       "</style>\n",
       "<table border=\"1\" class=\"dataframe\">\n",
       "  <thead>\n",
       "    <tr style=\"text-align: right;\">\n",
       "      <th></th>\n",
       "      <th>DateCrawled</th>\n",
       "      <th>Price</th>\n",
       "      <th>VehicleType</th>\n",
       "      <th>RegistrationYear</th>\n",
       "      <th>Gearbox</th>\n",
       "      <th>Power</th>\n",
       "      <th>Model</th>\n",
       "      <th>Kilometer</th>\n",
       "      <th>RegistrationMonth</th>\n",
       "      <th>FuelType</th>\n",
       "      <th>Brand</th>\n",
       "      <th>NotRepaired</th>\n",
       "      <th>DateCreated</th>\n",
       "      <th>NumberOfPictures</th>\n",
       "      <th>PostalCode</th>\n",
       "      <th>LastSeen</th>\n",
       "    </tr>\n",
       "  </thead>\n",
       "  <tbody>\n",
       "    <tr>\n",
       "      <th>0</th>\n",
       "      <td>2016-03-24 11:52:17</td>\n",
       "      <td>480</td>\n",
       "      <td>NaN</td>\n",
       "      <td>1993</td>\n",
       "      <td>manual</td>\n",
       "      <td>0</td>\n",
       "      <td>golf</td>\n",
       "      <td>150000</td>\n",
       "      <td>0</td>\n",
       "      <td>petrol</td>\n",
       "      <td>volkswagen</td>\n",
       "      <td>NaN</td>\n",
       "      <td>2016-03-24 00:00:00</td>\n",
       "      <td>0</td>\n",
       "      <td>70435</td>\n",
       "      <td>2016-04-07 03:16:57</td>\n",
       "    </tr>\n",
       "    <tr>\n",
       "      <th>1</th>\n",
       "      <td>2016-03-24 10:58:45</td>\n",
       "      <td>18300</td>\n",
       "      <td>coupe</td>\n",
       "      <td>2011</td>\n",
       "      <td>manual</td>\n",
       "      <td>190</td>\n",
       "      <td>NaN</td>\n",
       "      <td>125000</td>\n",
       "      <td>5</td>\n",
       "      <td>gasoline</td>\n",
       "      <td>audi</td>\n",
       "      <td>yes</td>\n",
       "      <td>2016-03-24 00:00:00</td>\n",
       "      <td>0</td>\n",
       "      <td>66954</td>\n",
       "      <td>2016-04-07 01:46:50</td>\n",
       "    </tr>\n",
       "    <tr>\n",
       "      <th>2</th>\n",
       "      <td>2016-03-14 12:52:21</td>\n",
       "      <td>9800</td>\n",
       "      <td>suv</td>\n",
       "      <td>2004</td>\n",
       "      <td>auto</td>\n",
       "      <td>163</td>\n",
       "      <td>grand</td>\n",
       "      <td>125000</td>\n",
       "      <td>8</td>\n",
       "      <td>gasoline</td>\n",
       "      <td>jeep</td>\n",
       "      <td>NaN</td>\n",
       "      <td>2016-03-14 00:00:00</td>\n",
       "      <td>0</td>\n",
       "      <td>90480</td>\n",
       "      <td>2016-04-05 12:47:46</td>\n",
       "    </tr>\n",
       "    <tr>\n",
       "      <th>3</th>\n",
       "      <td>2016-03-17 16:54:04</td>\n",
       "      <td>1500</td>\n",
       "      <td>small</td>\n",
       "      <td>2001</td>\n",
       "      <td>manual</td>\n",
       "      <td>75</td>\n",
       "      <td>golf</td>\n",
       "      <td>150000</td>\n",
       "      <td>6</td>\n",
       "      <td>petrol</td>\n",
       "      <td>volkswagen</td>\n",
       "      <td>no</td>\n",
       "      <td>2016-03-17 00:00:00</td>\n",
       "      <td>0</td>\n",
       "      <td>91074</td>\n",
       "      <td>2016-03-17 17:40:17</td>\n",
       "    </tr>\n",
       "    <tr>\n",
       "      <th>4</th>\n",
       "      <td>2016-03-31 17:25:20</td>\n",
       "      <td>3600</td>\n",
       "      <td>small</td>\n",
       "      <td>2008</td>\n",
       "      <td>manual</td>\n",
       "      <td>69</td>\n",
       "      <td>fabia</td>\n",
       "      <td>90000</td>\n",
       "      <td>7</td>\n",
       "      <td>gasoline</td>\n",
       "      <td>skoda</td>\n",
       "      <td>no</td>\n",
       "      <td>2016-03-31 00:00:00</td>\n",
       "      <td>0</td>\n",
       "      <td>60437</td>\n",
       "      <td>2016-04-06 10:17:21</td>\n",
       "    </tr>\n",
       "  </tbody>\n",
       "</table>\n",
       "</div>"
      ],
      "text/plain": [
       "           DateCrawled  Price VehicleType  RegistrationYear Gearbox  Power  \\\n",
       "0  2016-03-24 11:52:17    480         NaN              1993  manual      0   \n",
       "1  2016-03-24 10:58:45  18300       coupe              2011  manual    190   \n",
       "2  2016-03-14 12:52:21   9800         suv              2004    auto    163   \n",
       "3  2016-03-17 16:54:04   1500       small              2001  manual     75   \n",
       "4  2016-03-31 17:25:20   3600       small              2008  manual     69   \n",
       "\n",
       "   Model  Kilometer  RegistrationMonth  FuelType       Brand NotRepaired  \\\n",
       "0   golf     150000                  0    petrol  volkswagen         NaN   \n",
       "1    NaN     125000                  5  gasoline        audi         yes   \n",
       "2  grand     125000                  8  gasoline        jeep         NaN   \n",
       "3   golf     150000                  6    petrol  volkswagen          no   \n",
       "4  fabia      90000                  7  gasoline       skoda          no   \n",
       "\n",
       "           DateCreated  NumberOfPictures  PostalCode             LastSeen  \n",
       "0  2016-03-24 00:00:00                 0       70435  2016-04-07 03:16:57  \n",
       "1  2016-03-24 00:00:00                 0       66954  2016-04-07 01:46:50  \n",
       "2  2016-03-14 00:00:00                 0       90480  2016-04-05 12:47:46  \n",
       "3  2016-03-17 00:00:00                 0       91074  2016-03-17 17:40:17  \n",
       "4  2016-03-31 00:00:00                 0       60437  2016-04-06 10:17:21  "
      ]
     },
     "execution_count": 12,
     "metadata": {},
     "output_type": "execute_result"
    }
   ],
   "source": [
    "df.head()"
   ]
  },
  {
   "cell_type": "markdown",
   "metadata": {},
   "source": [
    "Получим общую информацию о таблице: <a id='df.info'></a>"
   ]
  },
  {
   "cell_type": "code",
   "execution_count": 4,
   "metadata": {},
   "outputs": [
    {
     "name": "stdout",
     "output_type": "stream",
     "text": [
      "<class 'pandas.core.frame.DataFrame'>\n",
      "RangeIndex: 354369 entries, 0 to 354368\n",
      "Data columns (total 16 columns):\n",
      " #   Column             Non-Null Count   Dtype \n",
      "---  ------             --------------   ----- \n",
      " 0   DateCrawled        354369 non-null  object\n",
      " 1   Price              354369 non-null  int64 \n",
      " 2   VehicleType        316879 non-null  object\n",
      " 3   RegistrationYear   354369 non-null  int64 \n",
      " 4   Gearbox            334536 non-null  object\n",
      " 5   Power              354369 non-null  int64 \n",
      " 6   Model              334664 non-null  object\n",
      " 7   Kilometer          354369 non-null  int64 \n",
      " 8   RegistrationMonth  354369 non-null  int64 \n",
      " 9   FuelType           321474 non-null  object\n",
      " 10  Brand              354369 non-null  object\n",
      " 11  NotRepaired        283215 non-null  object\n",
      " 12  DateCreated        354369 non-null  object\n",
      " 13  NumberOfPictures   354369 non-null  int64 \n",
      " 14  PostalCode         354369 non-null  int64 \n",
      " 15  LastSeen           354369 non-null  object\n",
      "dtypes: int64(7), object(9)\n",
      "memory usage: 43.3+ MB\n"
     ]
    }
   ],
   "source": [
    "df.info()"
   ]
  },
  {
   "cell_type": "markdown",
   "metadata": {},
   "source": [
    "Итак, в таблице 16 столбцов. Типы данных в столбцах — целые числа `int` и строки `object`.\n",
    "\n",
    "Согласно документации к данным:\n",
    "\n",
    "* `DateCrawled` — дата скачивания анкеты из базы\n",
    "* `Price` — цена, указанная в анкете\n",
    "* `VehicleType` — тип автомобильного кузова\n",
    "* `RegistrationYear` — год регистрации автомобиля\n",
    "* `Gearbox` — тип коробки передач\n",
    "* `Power` — мощность (л. с.)\n",
    "* `Model` — модель автомобиля\n",
    "* `Kilometer` — пробег (км)\n",
    "* `RegistrationMonth` — месяц регистрации автомобиля\n",
    "* `FuelType` — тип топлива\n",
    "* `Brand` — марка автомобиля\n",
    "* `NotRepaired` — была машина в ремонте или нет\n",
    "* `DateCreated` — дата создания анкеты\n",
    "* `NumberOfPictures` — количество фотографий автомобиля\n",
    "* `PostalCode` — почтовый индекс владельца анкеты (пользователя)\n",
    "* `LastSeen` — дата последней активности пользователя\n",
    "\n",
    "Количество значений в столбцах соотнесены не полностью. Значит, в данных имеются **пропущенные значения**.\n",
    "\n",
    "Названия колонок написаны с присутствием заглавных букв и верблюжего стиля, поэтому для удобства дальнейшего обращения приведем к змеиному и все строчными."
   ]
  },
  {
   "cell_type": "markdown",
   "metadata": {},
   "source": [
    "### 2. Названия"
   ]
  },
  {
   "cell_type": "code",
   "execution_count": 5,
   "metadata": {},
   "outputs": [],
   "source": [
    "df.columns = [re.sub(r'(?<!^)(?=[A-Z])', '_', name).lower() for name in df.columns]"
   ]
  },
  {
   "cell_type": "code",
   "execution_count": 6,
   "metadata": {},
   "outputs": [
    {
     "name": "stdout",
     "output_type": "stream",
     "text": [
      "Index(['date_crawled', 'price', 'vehicle_type', 'registration_year', 'gearbox',\n",
      "       'power', 'model', 'kilometer', 'registration_month', 'fuel_type',\n",
      "       'brand', 'not_repaired', 'date_created', 'number_of_pictures',\n",
      "       'postal_code', 'last_seen'],\n",
      "      dtype='object')\n"
     ]
    },
    {
     "data": {
      "text/html": [
       "<div>\n",
       "<style scoped>\n",
       "    .dataframe tbody tr th:only-of-type {\n",
       "        vertical-align: middle;\n",
       "    }\n",
       "\n",
       "    .dataframe tbody tr th {\n",
       "        vertical-align: top;\n",
       "    }\n",
       "\n",
       "    .dataframe thead th {\n",
       "        text-align: right;\n",
       "    }\n",
       "</style>\n",
       "<table border=\"1\" class=\"dataframe\">\n",
       "  <thead>\n",
       "    <tr style=\"text-align: right;\">\n",
       "      <th></th>\n",
       "      <th>date_crawled</th>\n",
       "      <th>price</th>\n",
       "      <th>vehicle_type</th>\n",
       "      <th>registration_year</th>\n",
       "      <th>gearbox</th>\n",
       "      <th>power</th>\n",
       "      <th>model</th>\n",
       "      <th>kilometer</th>\n",
       "      <th>registration_month</th>\n",
       "      <th>fuel_type</th>\n",
       "      <th>brand</th>\n",
       "      <th>not_repaired</th>\n",
       "      <th>date_created</th>\n",
       "      <th>number_of_pictures</th>\n",
       "      <th>postal_code</th>\n",
       "      <th>last_seen</th>\n",
       "    </tr>\n",
       "  </thead>\n",
       "  <tbody>\n",
       "  </tbody>\n",
       "</table>\n",
       "</div>"
      ],
      "text/plain": [
       "Empty DataFrame\n",
       "Columns: [date_crawled, price, vehicle_type, registration_year, gearbox, power, model, kilometer, registration_month, fuel_type, brand, not_repaired, date_created, number_of_pictures, postal_code, last_seen]\n",
       "Index: []"
      ]
     },
     "execution_count": 6,
     "metadata": {},
     "output_type": "execute_result"
    }
   ],
   "source": [
    "print(df.columns)\n",
    "df.head(0)"
   ]
  },
  {
   "cell_type": "markdown",
   "metadata": {
    "tags": []
   },
   "source": [
    "### 3. Пропуски и аномалии"
   ]
  },
  {
   "cell_type": "code",
   "execution_count": 7,
   "metadata": {},
   "outputs": [
    {
     "data": {
      "text/plain": [
       "date_crawled              0\n",
       "price                     0\n",
       "vehicle_type          37490\n",
       "registration_year         0\n",
       "gearbox               19833\n",
       "power                     0\n",
       "model                 19705\n",
       "kilometer                 0\n",
       "registration_month        0\n",
       "fuel_type             32895\n",
       "brand                     0\n",
       "not_repaired          71154\n",
       "date_created              0\n",
       "number_of_pictures        0\n",
       "postal_code               0\n",
       "last_seen                 0\n",
       "dtype: int64"
      ]
     },
     "execution_count": 7,
     "metadata": {},
     "output_type": "execute_result"
    }
   ],
   "source": [
    "df.isna().sum()"
   ]
  },
  {
   "cell_type": "code",
   "execution_count": 8,
   "metadata": {},
   "outputs": [
    {
     "name": "stdout",
     "output_type": "stream",
     "text": [
      "Пропусков нет!\n",
      "Пропусков нет!\n",
      "Количество пропусков в столбце \u001b[4m\u001b[1m\u001b[31mvehicle_type\u001b[0m: 37490\n",
      "Таким образом доля незаполненных данных составляет: 10.58%\n",
      "\n",
      "Количество пропусков в столбце \u001b[4m\u001b[1m\u001b[31mgearbox\u001b[0m: 19833\n",
      "Таким образом доля незаполненных данных составляет: 5.60%\n",
      "\n",
      "Количество пропусков в столбце \u001b[4m\u001b[1m\u001b[31mmodel\u001b[0m: 19705\n",
      "Таким образом доля незаполненных данных составляет: 5.56%\n",
      "\n",
      "Количество пропусков в столбце \u001b[4m\u001b[1m\u001b[31mfuel_type\u001b[0m: 32895\n",
      "Таким образом доля незаполненных данных составляет: 9.28%\n",
      "\n",
      "Количество пропусков в столбце \u001b[4m\u001b[1m\u001b[31mnot_repaired\u001b[0m: 71154\n",
      "Таким образом доля незаполненных данных составляет: 20.08%\n",
      "\n"
     ]
    }
   ],
   "source": [
    "i = 0\n",
    "for column in list(df.columns):\n",
    "    if len(df[df[column].isna()]) > 0:\n",
    "        print('Количество пропусков в столбце \\033[4m\\033[1m\\033[31m{}\\033[0m:'.format(column), len(df[df[column].isna()]))\n",
    "        k = len(df[df[column].isna()]) / df.shape[0]\n",
    "        print(f'Таким образом доля незаполненных данных составляет: {k:.2%}\\n')\n",
    "        i = 1\n",
    "    if i == 0:\n",
    "        print('Пропусков нет!')"
   ]
  },
  {
   "cell_type": "markdown",
   "metadata": {},
   "source": [
    "Сформируем таблицу с предположительно истинными значениями (т.е. те, которые заполнены без пропусков) на основании данных, что производитель и мощность двигателя автомобиля заполнены без пропусков"
   ]
  },
  {
   "cell_type": "code",
   "execution_count": 9,
   "metadata": {},
   "outputs": [],
   "source": [
    "true_vehicle_info = (df[df['model'].notna() & \n",
    "                        df['vehicle_type'].notna() & \n",
    "                        df['gearbox'].notna() & \n",
    "                        df['fuel_type'].notna()]\n",
    "                     [['brand','vehicle_type','model','gearbox','fuel_type','power']]\n",
    "                     .sort_values(by='model',ascending=True)\n",
    "                     .drop_duplicates()\n",
    "                     .reset_index(drop=True)\n",
    "                    )"
   ]
  },
  {
   "cell_type": "code",
   "execution_count": 10,
   "metadata": {},
   "outputs": [
    {
     "data": {
      "text/html": [
       "<div>\n",
       "<style scoped>\n",
       "    .dataframe tbody tr th:only-of-type {\n",
       "        vertical-align: middle;\n",
       "    }\n",
       "\n",
       "    .dataframe tbody tr th {\n",
       "        vertical-align: top;\n",
       "    }\n",
       "\n",
       "    .dataframe thead th {\n",
       "        text-align: right;\n",
       "    }\n",
       "</style>\n",
       "<table border=\"1\" class=\"dataframe\">\n",
       "  <thead>\n",
       "    <tr style=\"text-align: right;\">\n",
       "      <th></th>\n",
       "      <th>brand</th>\n",
       "      <th>vehicle_type</th>\n",
       "      <th>model</th>\n",
       "      <th>gearbox</th>\n",
       "      <th>fuel_type</th>\n",
       "      <th>power</th>\n",
       "    </tr>\n",
       "  </thead>\n",
       "  <tbody>\n",
       "    <tr>\n",
       "      <th>0</th>\n",
       "      <td>audi</td>\n",
       "      <td>sedan</td>\n",
       "      <td>100</td>\n",
       "      <td>manual</td>\n",
       "      <td>petrol</td>\n",
       "      <td>133</td>\n",
       "    </tr>\n",
       "    <tr>\n",
       "      <th>1</th>\n",
       "      <td>audi</td>\n",
       "      <td>wagon</td>\n",
       "      <td>100</td>\n",
       "      <td>manual</td>\n",
       "      <td>petrol</td>\n",
       "      <td>0</td>\n",
       "    </tr>\n",
       "    <tr>\n",
       "      <th>2</th>\n",
       "      <td>audi</td>\n",
       "      <td>sedan</td>\n",
       "      <td>100</td>\n",
       "      <td>manual</td>\n",
       "      <td>petrol</td>\n",
       "      <td>115</td>\n",
       "    </tr>\n",
       "    <tr>\n",
       "      <th>3</th>\n",
       "      <td>audi</td>\n",
       "      <td>sedan</td>\n",
       "      <td>100</td>\n",
       "      <td>manual</td>\n",
       "      <td>petrol</td>\n",
       "      <td>150</td>\n",
       "    </tr>\n",
       "    <tr>\n",
       "      <th>4</th>\n",
       "      <td>audi</td>\n",
       "      <td>sedan</td>\n",
       "      <td>100</td>\n",
       "      <td>auto</td>\n",
       "      <td>petrol</td>\n",
       "      <td>116</td>\n",
       "    </tr>\n",
       "    <tr>\n",
       "      <th>...</th>\n",
       "      <td>...</td>\n",
       "      <td>...</td>\n",
       "      <td>...</td>\n",
       "      <td>...</td>\n",
       "      <td>...</td>\n",
       "      <td>...</td>\n",
       "    </tr>\n",
       "    <tr>\n",
       "      <th>27090</th>\n",
       "      <td>opel</td>\n",
       "      <td>other</td>\n",
       "      <td>zafira</td>\n",
       "      <td>auto</td>\n",
       "      <td>gasoline</td>\n",
       "      <td>120</td>\n",
       "    </tr>\n",
       "    <tr>\n",
       "      <th>27091</th>\n",
       "      <td>opel</td>\n",
       "      <td>wagon</td>\n",
       "      <td>zafira</td>\n",
       "      <td>manual</td>\n",
       "      <td>cng</td>\n",
       "      <td>0</td>\n",
       "    </tr>\n",
       "    <tr>\n",
       "      <th>27092</th>\n",
       "      <td>opel</td>\n",
       "      <td>bus</td>\n",
       "      <td>zafira</td>\n",
       "      <td>auto</td>\n",
       "      <td>petrol</td>\n",
       "      <td>101</td>\n",
       "    </tr>\n",
       "    <tr>\n",
       "      <th>27093</th>\n",
       "      <td>opel</td>\n",
       "      <td>sedan</td>\n",
       "      <td>zafira</td>\n",
       "      <td>manual</td>\n",
       "      <td>gasoline</td>\n",
       "      <td>120</td>\n",
       "    </tr>\n",
       "    <tr>\n",
       "      <th>27094</th>\n",
       "      <td>opel</td>\n",
       "      <td>bus</td>\n",
       "      <td>zafira</td>\n",
       "      <td>auto</td>\n",
       "      <td>petrol</td>\n",
       "      <td>126</td>\n",
       "    </tr>\n",
       "  </tbody>\n",
       "</table>\n",
       "<p>27095 rows × 6 columns</p>\n",
       "</div>"
      ],
      "text/plain": [
       "      brand vehicle_type   model gearbox fuel_type  power\n",
       "0      audi        sedan     100  manual    petrol    133\n",
       "1      audi        wagon     100  manual    petrol      0\n",
       "2      audi        sedan     100  manual    petrol    115\n",
       "3      audi        sedan     100  manual    petrol    150\n",
       "4      audi        sedan     100    auto    petrol    116\n",
       "...     ...          ...     ...     ...       ...    ...\n",
       "27090  opel        other  zafira    auto  gasoline    120\n",
       "27091  opel        wagon  zafira  manual       cng      0\n",
       "27092  opel          bus  zafira    auto    petrol    101\n",
       "27093  opel        sedan  zafira  manual  gasoline    120\n",
       "27094  opel          bus  zafira    auto    petrol    126\n",
       "\n",
       "[27095 rows x 6 columns]"
      ]
     },
     "execution_count": 10,
     "metadata": {},
     "output_type": "execute_result"
    }
   ],
   "source": [
    "true_vehicle_info"
   ]
  },
  {
   "cell_type": "markdown",
   "metadata": {},
   "source": [
    "Посмотрим информацию по типу кузова и модели, так как тип коробки передач, мощность двигателя и тип топлива может отличаться от комплектации"
   ]
  },
  {
   "cell_type": "code",
   "execution_count": 11,
   "metadata": {},
   "outputs": [
    {
     "data": {
      "text/plain": [
       "brand  vehicle_type  model\n",
       "audi   coupe         tt       45\n",
       "       convertible   tt       30\n",
       "       small         tt        4\n",
       "       other         tt        2\n",
       "       sedan         tt        2\n",
       "dtype: int64"
      ]
     },
     "execution_count": 11,
     "metadata": {},
     "output_type": "execute_result"
    }
   ],
   "source": [
    "true_vehicle_info[['brand','vehicle_type','model']].query('brand == \"audi\" and model == \"tt\"').value_counts()"
   ]
  },
  {
   "cell_type": "markdown",
   "metadata": {},
   "source": [
    "А вот и первая проблема, с которой мы можем столкнуться. Тип кузова пользователи заполняют в силу своих познаний в автомобиле. Поэтому чаще всего автомобили одной модели в разные года выпуска **не меняют тип кусова**. Поэтому для сервиса рекомендуется сделать предопределение класса транспортного средства по его модели для упрощения анализа в будущем. Сейчас же выполним заполнение типа кузова по сгруппированным данным производителя, модели автомобиля и количеству оставленных описаний (в надежде, что большинство всё же заполняет верно). Это поможет избежать разноса будущих цен и улучшит обучаемость и соответственно качество будущей модели машинного обучения."
   ]
  },
  {
   "cell_type": "code",
   "execution_count": 12,
   "metadata": {},
   "outputs": [],
   "source": [
    "brands = true_vehicle_info['brand'].unique()\n",
    "models = true_vehicle_info['model'].unique()"
   ]
  },
  {
   "cell_type": "code",
   "execution_count": 13,
   "metadata": {},
   "outputs": [],
   "source": [
    "for uniq_model in models:\n",
    "    true_vehicle_type = true_vehicle_info[['brand','vehicle_type','model']].query('model == @uniq_model').value_counts().idxmax()[1]\n",
    "    true_vehicle_info.loc[true_vehicle_info['model'] == uniq_model, 'vehicle_type'] = true_vehicle_type"
   ]
  },
  {
   "cell_type": "markdown",
   "metadata": {},
   "source": [
    "Проверим остальные данные по автомобилям"
   ]
  },
  {
   "cell_type": "code",
   "execution_count": 14,
   "metadata": {},
   "outputs": [
    {
     "data": {
      "text/plain": [
       "array(['manual', 'auto'], dtype=object)"
      ]
     },
     "execution_count": 14,
     "metadata": {},
     "output_type": "execute_result"
    }
   ],
   "source": [
    "true_vehicle_info['gearbox'].unique()"
   ]
  },
  {
   "cell_type": "code",
   "execution_count": 15,
   "metadata": {},
   "outputs": [
    {
     "data": {
      "text/plain": [
       "array(['petrol', 'gasoline', 'lpg', 'hybrid', 'electric', 'cng', 'other'],\n",
       "      dtype=object)"
      ]
     },
     "execution_count": 15,
     "metadata": {},
     "output_type": "execute_result"
    }
   ],
   "source": [
    "true_vehicle_info['fuel_type'].unique()"
   ]
  },
  {
   "cell_type": "code",
   "execution_count": 16,
   "metadata": {},
   "outputs": [
    {
     "data": {
      "text/plain": [
       "count    27095.000000\n",
       "mean       154.903377\n",
       "std        512.402062\n",
       "min          0.000000\n",
       "25%         82.000000\n",
       "50%        116.000000\n",
       "75%        163.000000\n",
       "max      20000.000000\n",
       "Name: power, dtype: float64"
      ]
     },
     "execution_count": 16,
     "metadata": {},
     "output_type": "execute_result"
    }
   ],
   "source": [
    "true_vehicle_info['power'].describe()"
   ]
  },
  {
   "cell_type": "code",
   "execution_count": 17,
   "metadata": {},
   "outputs": [
    {
     "data": {
      "text/plain": [
       "0     1770\n",
       "23      15\n",
       "1       14\n",
       "5       11\n",
       "24      10\n",
       "18       9\n",
       "19       8\n",
       "14       8\n",
       "12       8\n",
       "10       6\n",
       "20       6\n",
       "8        5\n",
       "15       5\n",
       "11       5\n",
       "16       4\n",
       "2        4\n",
       "13       4\n",
       "4        3\n",
       "6        3\n",
       "21       3\n",
       "7        2\n",
       "22       2\n",
       "17       2\n",
       "3        1\n",
       "9        1\n",
       "Name: power, dtype: int64"
      ]
     },
     "execution_count": 17,
     "metadata": {},
     "output_type": "execute_result"
    }
   ],
   "source": [
    "# минимальная мощность двигателя будет 15 л.с., так в 1946 году люди были счастливы имея двигатель в 23 л.с. :) Всё, что ниже, будем считать аномалиями\n",
    "true_vehicle_info[true_vehicle_info['power'] < 25]['power'].value_counts()"
   ]
  },
  {
   "cell_type": "code",
   "execution_count": 18,
   "metadata": {},
   "outputs": [
    {
     "data": {
      "text/plain": [
       "12512    2\n",
       "4700     2\n",
       "15020    1\n",
       "2792     1\n",
       "10317    1\n",
       "        ..\n",
       "5809     1\n",
       "8500     1\n",
       "5420     1\n",
       "6512     1\n",
       "6062     1\n",
       "Name: power, Length: 69, dtype: int64"
      ]
     },
     "execution_count": 18,
     "metadata": {},
     "output_type": "execute_result"
    }
   ],
   "source": [
    "# самая мощная машина на текущий момент обладает мощностью двигателя в 2100 л.с. Всё, что выше это двигатели внутреннего сгорания уже не автомобили))\n",
    "true_vehicle_info[true_vehicle_info['power'] > 2000]['power'].value_counts()"
   ]
  },
  {
   "cell_type": "markdown",
   "metadata": {},
   "source": [
    "А вот и еще одна проблема: мощность двигателей в л.с. в некоторых случаях указана неверная: присутствуют значения слишком маленькие и в то же время слишком большие, чтобы быть правдой... Значит это очередная аномалия, от которой неоходимо избавляться.\n",
    "Сначала добавим дополнительный столбец, по которому можно будет в последствии легко ориентироваться и обучать наши модели.\n",
    "\n",
    "Согласно классификации ЦНИДИ по агрегатной мощности двигатели внутреннего сгорания делятся на четыре группы:\n",
    "- меньше 74 кВт (100 л. с.) — маломощные; - обозначим класс 4 (D)\n",
    "- 74 — 736 кВт (100 — 1000 л. с.) — средней мощности; - обозначим класс 3 (C)\n",
    "- 736 — 7360 кВт (1000 — 10 000 л. с.) — мощные; - обозначим класс 2 (B)\n",
    "- больше 7360 кВт (10 000 л. с.) — сверхмощные. - обозначим класс 1 (A)"
   ]
  },
  {
   "cell_type": "markdown",
   "metadata": {},
   "source": [
    "Но для начала заменим нулевые значения, аномальные значения на медианные для каждой модели автомобиля, чтобы минимизировать ошибку."
   ]
  },
  {
   "cell_type": "code",
   "execution_count": 19,
   "metadata": {},
   "outputs": [],
   "source": [
    "def na_to_median(column1, column2, data):\n",
    "    # column1 - столбец группировки\n",
    "    # column2 - целевой столбец для замены\n",
    "    \n",
    "    column1 = data[column1]\n",
    "    \n",
    "    for value in column1.unique():\n",
    "        # вычисляем медиану для реальных значений двигателей и выводим на экран\n",
    "        median = data.loc[(column1 == value) & (data[column2] > 25) & (data[column2] < 2000), column2].median()\n",
    "        \n",
    "        # можно увидеть, какая медиана для каждого авто\n",
    "        #print(f'Для модели автомобиля {value} медиана равна {median:.1f}')\n",
    "        \n",
    "        # заменяем аномальные значения на медианные, если попадается NaN при применении на другой датафрейм, то также заменяем\n",
    "        # к аномальным значениям здесь также добавил разницу двигателей больше 150 л.с., так как построил график зависимости \n",
    "        # класса мощности от модели авто и увидел у некоторых моделей такую закономерность с аномальными скачками выше 150 л.с., \n",
    "        # что не соответствует официальной информации производителя\n",
    "        try:\n",
    "            data.loc[((data[column2] < 25) | (data[column2] > 2000)) & (column1 == value), column2] = median\n",
    "            data.loc[(abs(data[column2] - median) > 150) & (column1 == value), column2] = median\n",
    "        except:\n",
    "            data.loc[(df[column2].isna()) & (column1 == value), column2].median()"
   ]
  },
  {
   "cell_type": "code",
   "execution_count": 20,
   "metadata": {
    "tags": []
   },
   "outputs": [],
   "source": [
    "na_to_median('model', 'power', true_vehicle_info) # для справочника"
   ]
  },
  {
   "cell_type": "code",
   "execution_count": 21,
   "metadata": {},
   "outputs": [
    {
     "data": {
      "text/plain": [
       "Series([], Name: power, dtype: int64)"
      ]
     },
     "execution_count": 21,
     "metadata": {},
     "output_type": "execute_result"
    }
   ],
   "source": [
    "true_vehicle_info[true_vehicle_info['power'] > 2000]['power'].value_counts()"
   ]
  },
  {
   "cell_type": "code",
   "execution_count": 22,
   "metadata": {},
   "outputs": [],
   "source": [
    "def power_to_class(power):\n",
    "    if power <= 100:\n",
    "        return 4\n",
    "    if power <= 1000:\n",
    "        return 3\n",
    "    if power <= 10000:\n",
    "        return 2\n",
    "    return 1"
   ]
  },
  {
   "cell_type": "code",
   "execution_count": 23,
   "metadata": {},
   "outputs": [],
   "source": [
    "true_vehicle_info['power_class'] = true_vehicle_info['power'].apply(power_to_class)"
   ]
  },
  {
   "cell_type": "markdown",
   "metadata": {},
   "source": [
    "Восстановим тип кузова автомобиля основного датафрейма из справочника"
   ]
  },
  {
   "cell_type": "code",
   "execution_count": 24,
   "metadata": {},
   "outputs": [
    {
     "data": {
      "text/html": [
       "<div>\n",
       "<style scoped>\n",
       "    .dataframe tbody tr th:only-of-type {\n",
       "        vertical-align: middle;\n",
       "    }\n",
       "\n",
       "    .dataframe tbody tr th {\n",
       "        vertical-align: top;\n",
       "    }\n",
       "\n",
       "    .dataframe thead th {\n",
       "        text-align: right;\n",
       "    }\n",
       "</style>\n",
       "<table border=\"1\" class=\"dataframe\">\n",
       "  <thead>\n",
       "    <tr style=\"text-align: right;\">\n",
       "      <th></th>\n",
       "      <th>model</th>\n",
       "      <th>true_vehicle_type</th>\n",
       "    </tr>\n",
       "  </thead>\n",
       "  <tbody>\n",
       "    <tr>\n",
       "      <th>0</th>\n",
       "      <td>100</td>\n",
       "      <td>sedan</td>\n",
       "    </tr>\n",
       "    <tr>\n",
       "      <th>1</th>\n",
       "      <td>145</td>\n",
       "      <td>small</td>\n",
       "    </tr>\n",
       "    <tr>\n",
       "      <th>2</th>\n",
       "      <td>147</td>\n",
       "      <td>sedan</td>\n",
       "    </tr>\n",
       "    <tr>\n",
       "      <th>3</th>\n",
       "      <td>156</td>\n",
       "      <td>sedan</td>\n",
       "    </tr>\n",
       "    <tr>\n",
       "      <th>4</th>\n",
       "      <td>159</td>\n",
       "      <td>wagon</td>\n",
       "    </tr>\n",
       "    <tr>\n",
       "      <th>...</th>\n",
       "      <td>...</td>\n",
       "      <td>...</td>\n",
       "    </tr>\n",
       "    <tr>\n",
       "      <th>245</th>\n",
       "      <td>yaris</td>\n",
       "      <td>small</td>\n",
       "    </tr>\n",
       "    <tr>\n",
       "      <th>246</th>\n",
       "      <td>yeti</td>\n",
       "      <td>suv</td>\n",
       "    </tr>\n",
       "    <tr>\n",
       "      <th>247</th>\n",
       "      <td>ypsilon</td>\n",
       "      <td>small</td>\n",
       "    </tr>\n",
       "    <tr>\n",
       "      <th>248</th>\n",
       "      <td>z_reihe</td>\n",
       "      <td>convertible</td>\n",
       "    </tr>\n",
       "    <tr>\n",
       "      <th>249</th>\n",
       "      <td>zafira</td>\n",
       "      <td>bus</td>\n",
       "    </tr>\n",
       "  </tbody>\n",
       "</table>\n",
       "<p>250 rows × 2 columns</p>\n",
       "</div>"
      ],
      "text/plain": [
       "       model true_vehicle_type\n",
       "0        100             sedan\n",
       "1        145             small\n",
       "2        147             sedan\n",
       "3        156             sedan\n",
       "4        159             wagon\n",
       "..       ...               ...\n",
       "245    yaris             small\n",
       "246     yeti               suv\n",
       "247  ypsilon             small\n",
       "248  z_reihe       convertible\n",
       "249   zafira               bus\n",
       "\n",
       "[250 rows x 2 columns]"
      ]
     },
     "execution_count": 24,
     "metadata": {},
     "output_type": "execute_result"
    }
   ],
   "source": [
    "models = true_vehicle_info[['model','vehicle_type']].drop_duplicates().reset_index(drop=True)\n",
    "models.columns = ['model','true_vehicle_type']\n",
    "models"
   ]
  },
  {
   "cell_type": "code",
   "execution_count": 25,
   "metadata": {},
   "outputs": [],
   "source": [
    "df = pd.merge(df, models, how='left', on='model')"
   ]
  },
  {
   "cell_type": "code",
   "execution_count": 26,
   "metadata": {},
   "outputs": [
    {
     "data": {
      "text/plain": [
       "19705"
      ]
     },
     "execution_count": 26,
     "metadata": {},
     "output_type": "execute_result"
    }
   ],
   "source": [
    "df['true_vehicle_type'].isna().sum()"
   ]
  },
  {
   "cell_type": "code",
   "execution_count": 27,
   "metadata": {},
   "outputs": [],
   "source": [
    "df.loc[(df['true_vehicle_type'].isna()), 'true_vehicle_type'] = df['vehicle_type']"
   ]
  },
  {
   "cell_type": "markdown",
   "metadata": {},
   "source": [
    "Заменим абсолютно неизвестные модели автомобилей на `other`, так как достать нам эту информацию неоткуда"
   ]
  },
  {
   "cell_type": "code",
   "execution_count": 28,
   "metadata": {},
   "outputs": [],
   "source": [
    "df['true_vehicle_type'] = df['true_vehicle_type'].fillna(value='other')\n",
    "df['model'] = df['model'].fillna(value='other')"
   ]
  },
  {
   "cell_type": "code",
   "execution_count": 29,
   "metadata": {},
   "outputs": [],
   "source": [
    "df.drop(columns = ['vehicle_type'], axis = 1, inplace=True)"
   ]
  },
  {
   "cell_type": "markdown",
   "metadata": {},
   "source": [
    "Применим метод написанный ранее для классификации мощности двигателей"
   ]
  },
  {
   "cell_type": "code",
   "execution_count": 30,
   "metadata": {
    "tags": []
   },
   "outputs": [],
   "source": [
    "na_to_median('model', 'power', df) # для основной базы"
   ]
  },
  {
   "cell_type": "code",
   "execution_count": 31,
   "metadata": {},
   "outputs": [
    {
     "data": {
      "text/html": [
       "<div>\n",
       "<style scoped>\n",
       "    .dataframe tbody tr th:only-of-type {\n",
       "        vertical-align: middle;\n",
       "    }\n",
       "\n",
       "    .dataframe tbody tr th {\n",
       "        vertical-align: top;\n",
       "    }\n",
       "\n",
       "    .dataframe thead th {\n",
       "        text-align: right;\n",
       "    }\n",
       "</style>\n",
       "<table border=\"1\" class=\"dataframe\">\n",
       "  <thead>\n",
       "    <tr style=\"text-align: right;\">\n",
       "      <th></th>\n",
       "      <th>date_crawled</th>\n",
       "      <th>price</th>\n",
       "      <th>registration_year</th>\n",
       "      <th>gearbox</th>\n",
       "      <th>power</th>\n",
       "      <th>model</th>\n",
       "      <th>kilometer</th>\n",
       "      <th>registration_month</th>\n",
       "      <th>fuel_type</th>\n",
       "      <th>brand</th>\n",
       "      <th>not_repaired</th>\n",
       "      <th>date_created</th>\n",
       "      <th>number_of_pictures</th>\n",
       "      <th>postal_code</th>\n",
       "      <th>last_seen</th>\n",
       "      <th>true_vehicle_type</th>\n",
       "    </tr>\n",
       "  </thead>\n",
       "  <tbody>\n",
       "    <tr>\n",
       "      <th>234296</th>\n",
       "      <td>2016-03-30 11:39:08</td>\n",
       "      <td>3800</td>\n",
       "      <td>1978</td>\n",
       "      <td>manual</td>\n",
       "      <td>NaN</td>\n",
       "      <td>serie_1</td>\n",
       "      <td>30000</td>\n",
       "      <td>0</td>\n",
       "      <td>gasoline</td>\n",
       "      <td>land_rover</td>\n",
       "      <td>NaN</td>\n",
       "      <td>2016-03-30 00:00:00</td>\n",
       "      <td>0</td>\n",
       "      <td>49824</td>\n",
       "      <td>2016-03-30 11:39:08</td>\n",
       "      <td>wagon</td>\n",
       "    </tr>\n",
       "    <tr>\n",
       "      <th>280216</th>\n",
       "      <td>2016-04-02 10:53:15</td>\n",
       "      <td>0</td>\n",
       "      <td>1970</td>\n",
       "      <td>NaN</td>\n",
       "      <td>NaN</td>\n",
       "      <td>serie_1</td>\n",
       "      <td>100000</td>\n",
       "      <td>0</td>\n",
       "      <td>petrol</td>\n",
       "      <td>land_rover</td>\n",
       "      <td>NaN</td>\n",
       "      <td>2016-04-02 00:00:00</td>\n",
       "      <td>0</td>\n",
       "      <td>88634</td>\n",
       "      <td>2016-04-06 09:16:22</td>\n",
       "      <td>wagon</td>\n",
       "    </tr>\n",
       "  </tbody>\n",
       "</table>\n",
       "</div>"
      ],
      "text/plain": [
       "               date_crawled  price  registration_year gearbox  power    model  \\\n",
       "234296  2016-03-30 11:39:08   3800               1978  manual    NaN  serie_1   \n",
       "280216  2016-04-02 10:53:15      0               1970     NaN    NaN  serie_1   \n",
       "\n",
       "        kilometer  registration_month fuel_type       brand not_repaired  \\\n",
       "234296      30000                   0  gasoline  land_rover          NaN   \n",
       "280216     100000                   0    petrol  land_rover          NaN   \n",
       "\n",
       "               date_created  number_of_pictures  postal_code  \\\n",
       "234296  2016-03-30 00:00:00                   0        49824   \n",
       "280216  2016-04-02 00:00:00                   0        88634   \n",
       "\n",
       "                  last_seen true_vehicle_type  \n",
       "234296  2016-03-30 11:39:08             wagon  \n",
       "280216  2016-04-06 09:16:22             wagon  "
      ]
     },
     "execution_count": 31,
     "metadata": {},
     "output_type": "execute_result"
    }
   ],
   "source": [
    "df[df['power'].isna()] # по тех. характеристикам у данного автомобиля мощность составляет 50 л.с.  "
   ]
  },
  {
   "cell_type": "code",
   "execution_count": 32,
   "metadata": {},
   "outputs": [],
   "source": [
    "df['power'] = df['power'].fillna(value=50)"
   ]
  },
  {
   "cell_type": "code",
   "execution_count": 33,
   "metadata": {},
   "outputs": [],
   "source": [
    "df['power_class'] = df['power'].apply(power_to_class)"
   ]
  },
  {
   "cell_type": "markdown",
   "metadata": {},
   "source": [
    "Также для коробки передач и типа топлива используем уже примененный способ других ответов"
   ]
  },
  {
   "cell_type": "code",
   "execution_count": 34,
   "metadata": {},
   "outputs": [],
   "source": [
    "for uniq_model in df['model'].unique():\n",
    "    true_gearbox = df[['brand','true_vehicle_type','model','gearbox','power','fuel_type']].query('model == @uniq_model').value_counts().idxmax()[3]\n",
    "    true_fuel_type = df[['brand','true_vehicle_type','model','gearbox','power','fuel_type']].query('model == @uniq_model').value_counts().idxmax()[5]\n",
    "    \n",
    "    df.loc[(df['gearbox'].isna()) & (df['model'] == uniq_model), 'gearbox'] = true_gearbox # для коробки передач\n",
    "    df.loc[(df['fuel_type'].isna()) & (df['model'] == uniq_model), 'fuel_type'] = true_fuel_type # для типа топлива"
   ]
  },
  {
   "cell_type": "markdown",
   "metadata": {},
   "source": [
    "А вот находился ли автомобиль в ремонте, предлагаю проставить `no`"
   ]
  },
  {
   "cell_type": "code",
   "execution_count": 35,
   "metadata": {},
   "outputs": [],
   "source": [
    "df['not_repaired'] = df['not_repaired'].fillna('no')"
   ]
  },
  {
   "cell_type": "code",
   "execution_count": 36,
   "metadata": {},
   "outputs": [
    {
     "name": "stdout",
     "output_type": "stream",
     "text": [
      "Пропусков нет!\n",
      "Пропусков нет!\n",
      "Пропусков нет!\n",
      "Пропусков нет!\n",
      "Пропусков нет!\n",
      "Пропусков нет!\n",
      "Пропусков нет!\n",
      "Пропусков нет!\n",
      "Пропусков нет!\n",
      "Пропусков нет!\n",
      "Пропусков нет!\n",
      "Пропусков нет!\n",
      "Пропусков нет!\n",
      "Пропусков нет!\n",
      "Пропусков нет!\n",
      "Пропусков нет!\n",
      "Пропусков нет!\n"
     ]
    }
   ],
   "source": [
    "i = 0\n",
    "for column in list(df.columns):\n",
    "    if len(df[df[column].isna()]) > 0:\n",
    "        print('Количество пропусков в столбце \\033[4m\\033[1m\\033[31m{}\\033[0m:'.format(column), len(df[df[column].isna()]))\n",
    "        k = len(df[df[column].isna()]) / df.shape[0]\n",
    "        print(f'Таким образом доля незаполненных данных составляет: {k:.2%}\\n')\n",
    "        i = 1\n",
    "    if i == 0:\n",
    "        print('Пропусков нет!')"
   ]
  },
  {
   "cell_type": "markdown",
   "metadata": {},
   "source": [
    "Также я заметил аномалию в цене объявления и дате регистрации автомобиля"
   ]
  },
  {
   "cell_type": "markdown",
   "metadata": {},
   "source": [
    "Раньше 1910 и позже 2018 годов начинается ересь в годах, поэтому предлагаю от них избавиться, их всего 66 и 130 объектов соответственно, что при удалении будет на уровне погрешности."
   ]
  },
  {
   "cell_type": "code",
   "execution_count": 37,
   "metadata": {},
   "outputs": [
    {
     "data": {
      "text/html": [
       "<div>\n",
       "<style scoped>\n",
       "    .dataframe tbody tr th:only-of-type {\n",
       "        vertical-align: middle;\n",
       "    }\n",
       "\n",
       "    .dataframe tbody tr th {\n",
       "        vertical-align: top;\n",
       "    }\n",
       "\n",
       "    .dataframe thead th {\n",
       "        text-align: right;\n",
       "    }\n",
       "</style>\n",
       "<table border=\"1\" class=\"dataframe\">\n",
       "  <thead>\n",
       "    <tr style=\"text-align: right;\">\n",
       "      <th></th>\n",
       "      <th>date_crawled</th>\n",
       "      <th>price</th>\n",
       "      <th>registration_year</th>\n",
       "      <th>gearbox</th>\n",
       "      <th>power</th>\n",
       "      <th>model</th>\n",
       "      <th>kilometer</th>\n",
       "      <th>registration_month</th>\n",
       "      <th>fuel_type</th>\n",
       "      <th>brand</th>\n",
       "      <th>not_repaired</th>\n",
       "      <th>date_created</th>\n",
       "      <th>number_of_pictures</th>\n",
       "      <th>postal_code</th>\n",
       "      <th>last_seen</th>\n",
       "      <th>true_vehicle_type</th>\n",
       "      <th>power_class</th>\n",
       "    </tr>\n",
       "  </thead>\n",
       "  <tbody>\n",
       "    <tr>\n",
       "      <th>622</th>\n",
       "      <td>2016-03-16 16:55:09</td>\n",
       "      <td>0</td>\n",
       "      <td>1111</td>\n",
       "      <td>auto</td>\n",
       "      <td>115.0</td>\n",
       "      <td>other</td>\n",
       "      <td>5000</td>\n",
       "      <td>0</td>\n",
       "      <td>petrol</td>\n",
       "      <td>opel</td>\n",
       "      <td>no</td>\n",
       "      <td>2016-03-16 00:00:00</td>\n",
       "      <td>0</td>\n",
       "      <td>44628</td>\n",
       "      <td>2016-03-20 16:44:37</td>\n",
       "      <td>other</td>\n",
       "      <td>3</td>\n",
       "    </tr>\n",
       "    <tr>\n",
       "      <th>16062</th>\n",
       "      <td>2016-03-29 23:42:16</td>\n",
       "      <td>190</td>\n",
       "      <td>1000</td>\n",
       "      <td>manual</td>\n",
       "      <td>131.0</td>\n",
       "      <td>mondeo</td>\n",
       "      <td>5000</td>\n",
       "      <td>0</td>\n",
       "      <td>gasoline</td>\n",
       "      <td>ford</td>\n",
       "      <td>no</td>\n",
       "      <td>2016-03-29 00:00:00</td>\n",
       "      <td>0</td>\n",
       "      <td>47166</td>\n",
       "      <td>2016-04-06 10:44:58</td>\n",
       "      <td>wagon</td>\n",
       "      <td>3</td>\n",
       "    </tr>\n",
       "    <tr>\n",
       "      <th>18224</th>\n",
       "      <td>2016-03-09 17:49:44</td>\n",
       "      <td>7999</td>\n",
       "      <td>1500</td>\n",
       "      <td>manual</td>\n",
       "      <td>224.0</td>\n",
       "      <td>impreza</td>\n",
       "      <td>5000</td>\n",
       "      <td>3</td>\n",
       "      <td>petrol</td>\n",
       "      <td>subaru</td>\n",
       "      <td>no</td>\n",
       "      <td>2016-03-09 00:00:00</td>\n",
       "      <td>0</td>\n",
       "      <td>53577</td>\n",
       "      <td>2016-03-15 05:15:17</td>\n",
       "      <td>sedan</td>\n",
       "      <td>3</td>\n",
       "    </tr>\n",
       "    <tr>\n",
       "      <th>34332</th>\n",
       "      <td>2016-04-01 06:02:10</td>\n",
       "      <td>450</td>\n",
       "      <td>1800</td>\n",
       "      <td>auto</td>\n",
       "      <td>115.0</td>\n",
       "      <td>other</td>\n",
       "      <td>5000</td>\n",
       "      <td>2</td>\n",
       "      <td>petrol</td>\n",
       "      <td>mitsubishi</td>\n",
       "      <td>no</td>\n",
       "      <td>2016-04-01 00:00:00</td>\n",
       "      <td>0</td>\n",
       "      <td>63322</td>\n",
       "      <td>2016-04-01 09:42:30</td>\n",
       "      <td>other</td>\n",
       "      <td>3</td>\n",
       "    </tr>\n",
       "    <tr>\n",
       "      <th>38875</th>\n",
       "      <td>2016-03-19 23:54:40</td>\n",
       "      <td>1234</td>\n",
       "      <td>1234</td>\n",
       "      <td>auto</td>\n",
       "      <td>26.0</td>\n",
       "      <td>other</td>\n",
       "      <td>5000</td>\n",
       "      <td>1</td>\n",
       "      <td>petrol</td>\n",
       "      <td>trabant</td>\n",
       "      <td>no</td>\n",
       "      <td>2016-03-19 00:00:00</td>\n",
       "      <td>0</td>\n",
       "      <td>38518</td>\n",
       "      <td>2016-04-06 03:15:22</td>\n",
       "      <td>other</td>\n",
       "      <td>4</td>\n",
       "    </tr>\n",
       "  </tbody>\n",
       "</table>\n",
       "</div>"
      ],
      "text/plain": [
       "              date_crawled  price  registration_year gearbox  power    model  \\\n",
       "622    2016-03-16 16:55:09      0               1111    auto  115.0    other   \n",
       "16062  2016-03-29 23:42:16    190               1000  manual  131.0   mondeo   \n",
       "18224  2016-03-09 17:49:44   7999               1500  manual  224.0  impreza   \n",
       "34332  2016-04-01 06:02:10    450               1800    auto  115.0    other   \n",
       "38875  2016-03-19 23:54:40   1234               1234    auto   26.0    other   \n",
       "\n",
       "       kilometer  registration_month fuel_type       brand not_repaired  \\\n",
       "622         5000                   0    petrol        opel           no   \n",
       "16062       5000                   0  gasoline        ford           no   \n",
       "18224       5000                   3    petrol      subaru           no   \n",
       "34332       5000                   2    petrol  mitsubishi           no   \n",
       "38875       5000                   1    petrol     trabant           no   \n",
       "\n",
       "              date_created  number_of_pictures  postal_code  \\\n",
       "622    2016-03-16 00:00:00                   0        44628   \n",
       "16062  2016-03-29 00:00:00                   0        47166   \n",
       "18224  2016-03-09 00:00:00                   0        53577   \n",
       "34332  2016-04-01 00:00:00                   0        63322   \n",
       "38875  2016-03-19 00:00:00                   0        38518   \n",
       "\n",
       "                 last_seen true_vehicle_type  power_class  \n",
       "622    2016-03-20 16:44:37             other            3  \n",
       "16062  2016-04-06 10:44:58             wagon            3  \n",
       "18224  2016-03-15 05:15:17             sedan            3  \n",
       "34332  2016-04-01 09:42:30             other            3  \n",
       "38875  2016-04-06 03:15:22             other            4  "
      ]
     },
     "execution_count": 37,
     "metadata": {},
     "output_type": "execute_result"
    }
   ],
   "source": [
    "df[df['registration_year'] < 1910].head()"
   ]
  },
  {
   "cell_type": "code",
   "execution_count": 38,
   "metadata": {},
   "outputs": [
    {
     "data": {
      "text/html": [
       "<div>\n",
       "<style scoped>\n",
       "    .dataframe tbody tr th:only-of-type {\n",
       "        vertical-align: middle;\n",
       "    }\n",
       "\n",
       "    .dataframe tbody tr th {\n",
       "        vertical-align: top;\n",
       "    }\n",
       "\n",
       "    .dataframe thead th {\n",
       "        text-align: right;\n",
       "    }\n",
       "</style>\n",
       "<table border=\"1\" class=\"dataframe\">\n",
       "  <thead>\n",
       "    <tr style=\"text-align: right;\">\n",
       "      <th></th>\n",
       "      <th>date_crawled</th>\n",
       "      <th>price</th>\n",
       "      <th>registration_year</th>\n",
       "      <th>gearbox</th>\n",
       "      <th>power</th>\n",
       "      <th>model</th>\n",
       "      <th>kilometer</th>\n",
       "      <th>registration_month</th>\n",
       "      <th>fuel_type</th>\n",
       "      <th>brand</th>\n",
       "      <th>not_repaired</th>\n",
       "      <th>date_created</th>\n",
       "      <th>number_of_pictures</th>\n",
       "      <th>postal_code</th>\n",
       "      <th>last_seen</th>\n",
       "      <th>true_vehicle_type</th>\n",
       "      <th>power_class</th>\n",
       "    </tr>\n",
       "  </thead>\n",
       "  <tbody>\n",
       "    <tr>\n",
       "      <th>12946</th>\n",
       "      <td>2016-03-29 18:39:40</td>\n",
       "      <td>49</td>\n",
       "      <td>5000</td>\n",
       "      <td>manual</td>\n",
       "      <td>101.0</td>\n",
       "      <td>golf</td>\n",
       "      <td>5000</td>\n",
       "      <td>12</td>\n",
       "      <td>petrol</td>\n",
       "      <td>volkswagen</td>\n",
       "      <td>no</td>\n",
       "      <td>2016-03-29 00:00:00</td>\n",
       "      <td>0</td>\n",
       "      <td>74523</td>\n",
       "      <td>2016-04-06 04:16:14</td>\n",
       "      <td>sedan</td>\n",
       "      <td>3</td>\n",
       "    </tr>\n",
       "    <tr>\n",
       "      <th>15147</th>\n",
       "      <td>2016-03-14 00:52:02</td>\n",
       "      <td>0</td>\n",
       "      <td>9999</td>\n",
       "      <td>auto</td>\n",
       "      <td>115.0</td>\n",
       "      <td>other</td>\n",
       "      <td>10000</td>\n",
       "      <td>0</td>\n",
       "      <td>petrol</td>\n",
       "      <td>sonstige_autos</td>\n",
       "      <td>no</td>\n",
       "      <td>2016-03-13 00:00:00</td>\n",
       "      <td>0</td>\n",
       "      <td>32689</td>\n",
       "      <td>2016-03-21 23:46:46</td>\n",
       "      <td>other</td>\n",
       "      <td>3</td>\n",
       "    </tr>\n",
       "    <tr>\n",
       "      <th>15870</th>\n",
       "      <td>2016-04-02 11:55:48</td>\n",
       "      <td>1700</td>\n",
       "      <td>3200</td>\n",
       "      <td>auto</td>\n",
       "      <td>115.0</td>\n",
       "      <td>other</td>\n",
       "      <td>5000</td>\n",
       "      <td>0</td>\n",
       "      <td>petrol</td>\n",
       "      <td>sonstige_autos</td>\n",
       "      <td>no</td>\n",
       "      <td>2016-04-02 00:00:00</td>\n",
       "      <td>0</td>\n",
       "      <td>33649</td>\n",
       "      <td>2016-04-06 09:46:13</td>\n",
       "      <td>other</td>\n",
       "      <td>3</td>\n",
       "    </tr>\n",
       "    <tr>\n",
       "      <th>17271</th>\n",
       "      <td>2016-03-23 16:43:29</td>\n",
       "      <td>700</td>\n",
       "      <td>9999</td>\n",
       "      <td>auto</td>\n",
       "      <td>115.0</td>\n",
       "      <td>other</td>\n",
       "      <td>10000</td>\n",
       "      <td>0</td>\n",
       "      <td>petrol</td>\n",
       "      <td>opel</td>\n",
       "      <td>no</td>\n",
       "      <td>2016-03-23 00:00:00</td>\n",
       "      <td>0</td>\n",
       "      <td>21769</td>\n",
       "      <td>2016-04-05 20:16:15</td>\n",
       "      <td>sedan</td>\n",
       "      <td>3</td>\n",
       "    </tr>\n",
       "    <tr>\n",
       "      <th>17346</th>\n",
       "      <td>2016-03-06 16:06:20</td>\n",
       "      <td>6500</td>\n",
       "      <td>8888</td>\n",
       "      <td>auto</td>\n",
       "      <td>115.0</td>\n",
       "      <td>other</td>\n",
       "      <td>10000</td>\n",
       "      <td>0</td>\n",
       "      <td>petrol</td>\n",
       "      <td>sonstige_autos</td>\n",
       "      <td>no</td>\n",
       "      <td>2016-03-06 00:00:00</td>\n",
       "      <td>0</td>\n",
       "      <td>55262</td>\n",
       "      <td>2016-03-30 20:46:55</td>\n",
       "      <td>other</td>\n",
       "      <td>3</td>\n",
       "    </tr>\n",
       "  </tbody>\n",
       "</table>\n",
       "</div>"
      ],
      "text/plain": [
       "              date_crawled  price  registration_year gearbox  power  model  \\\n",
       "12946  2016-03-29 18:39:40     49               5000  manual  101.0   golf   \n",
       "15147  2016-03-14 00:52:02      0               9999    auto  115.0  other   \n",
       "15870  2016-04-02 11:55:48   1700               3200    auto  115.0  other   \n",
       "17271  2016-03-23 16:43:29    700               9999    auto  115.0  other   \n",
       "17346  2016-03-06 16:06:20   6500               8888    auto  115.0  other   \n",
       "\n",
       "       kilometer  registration_month fuel_type           brand not_repaired  \\\n",
       "12946       5000                  12    petrol      volkswagen           no   \n",
       "15147      10000                   0    petrol  sonstige_autos           no   \n",
       "15870       5000                   0    petrol  sonstige_autos           no   \n",
       "17271      10000                   0    petrol            opel           no   \n",
       "17346      10000                   0    petrol  sonstige_autos           no   \n",
       "\n",
       "              date_created  number_of_pictures  postal_code  \\\n",
       "12946  2016-03-29 00:00:00                   0        74523   \n",
       "15147  2016-03-13 00:00:00                   0        32689   \n",
       "15870  2016-04-02 00:00:00                   0        33649   \n",
       "17271  2016-03-23 00:00:00                   0        21769   \n",
       "17346  2016-03-06 00:00:00                   0        55262   \n",
       "\n",
       "                 last_seen true_vehicle_type  power_class  \n",
       "12946  2016-04-06 04:16:14             sedan            3  \n",
       "15147  2016-03-21 23:46:46             other            3  \n",
       "15870  2016-04-06 09:46:13             other            3  \n",
       "17271  2016-04-05 20:16:15             sedan            3  \n",
       "17346  2016-03-30 20:46:55             other            3  "
      ]
     },
     "execution_count": 38,
     "metadata": {},
     "output_type": "execute_result"
    }
   ],
   "source": [
    "df[df['registration_year'] > 2018].head()"
   ]
  },
  {
   "cell_type": "code",
   "execution_count": 39,
   "metadata": {},
   "outputs": [],
   "source": [
    "df = df[(df['registration_year'] < 2018) & (df['registration_year'] > 1910)]"
   ]
  },
  {
   "cell_type": "markdown",
   "metadata": {},
   "source": [
    "Вторым признаком, который настораживает, является цена в 0 у.е."
   ]
  },
  {
   "cell_type": "code",
   "execution_count": 40,
   "metadata": {},
   "outputs": [
    {
     "data": {
      "text/plain": [
       "count    350113.000000\n",
       "mean       4429.571981\n",
       "std        4522.896847\n",
       "min           0.000000\n",
       "25%        1050.000000\n",
       "50%        2750.000000\n",
       "75%        6450.000000\n",
       "max       20000.000000\n",
       "Name: price, dtype: float64"
      ]
     },
     "execution_count": 40,
     "metadata": {},
     "output_type": "execute_result"
    }
   ],
   "source": [
    "df['price'].describe()"
   ]
  },
  {
   "cell_type": "code",
   "execution_count": 41,
   "metadata": {},
   "outputs": [
    {
     "data": {
      "text/plain": [
       "(0.0, 5000.0)"
      ]
     },
     "execution_count": 41,
     "metadata": {},
     "output_type": "execute_result"
    },
    {
     "data": {
      "image/png": "[encoded data removed]",
      "text/plain": [
       "<Figure size 1200x600 with 1 Axes>"
      ]
     },
     "metadata": {},
     "output_type": "display_data"
    }
   ],
   "source": [
    "df['price'].hist(bins = 200, \n",
    "                 figsize=(12, 6),\n",
    "                 grid=True,\n",
    "                 alpha=0.7)\n",
    "plt.title('Цены в объявлениях на автомобили'+ \"\\n\")\n",
    "plt.xlabel('Цена, в у.е.')\n",
    "plt.ylabel('Количество анкет')\n",
    "plt.xlim(0, 5000) # ограничил специально, чтобы наглядно было видно выброс возле нуля"
   ]
  },
  {
   "cell_type": "markdown",
   "metadata": {},
   "source": [
    "Ограничим цены на авто в 100 у.е."
   ]
  },
  {
   "cell_type": "code",
   "execution_count": 42,
   "metadata": {},
   "outputs": [],
   "source": [
    "df = df[df['price'] > 150]"
   ]
  },
  {
   "cell_type": "code",
   "execution_count": 43,
   "metadata": {},
   "outputs": [
    {
     "data": {
      "text/plain": [
       "Index(['date_crawled', 'price', 'registration_year', 'gearbox', 'power',\n",
       "       'model', 'kilometer', 'registration_month', 'fuel_type', 'brand',\n",
       "       'not_repaired', 'date_created', 'number_of_pictures', 'postal_code',\n",
       "       'last_seen', 'true_vehicle_type', 'power_class'],\n",
       "      dtype='object')"
      ]
     },
     "execution_count": 43,
     "metadata": {},
     "output_type": "execute_result"
    }
   ],
   "source": [
    "df.columns"
   ]
  },
  {
   "cell_type": "code",
   "execution_count": 44,
   "metadata": {},
   "outputs": [],
   "source": [
    "df = df.reindex(columns=['date_crawled', 'price', 'registration_year', 'true_vehicle_type', 'power_class',\n",
    "                         'gearbox', 'power', 'model', 'kilometer', 'registration_month', \n",
    "                         'fuel_type', 'brand', 'not_repaired', 'date_created', 'number_of_pictures', \n",
    "                         'postal_code', 'last_seen'])\n",
    "df.columns = ['date_crawled', 'price', 'registration_year', 'vehicle_type', 'power_class',\n",
    "              'gearbox', 'power', 'model', 'kilometer', 'registration_month', \n",
    "              'fuel_type', 'brand', 'not_repaired', 'date_created', 'number_of_pictures', \n",
    "              'postal_code', 'last_seen']"
   ]
  },
  {
   "cell_type": "markdown",
   "metadata": {},
   "source": [
    "Проверим на дубликаты"
   ]
  },
  {
   "cell_type": "code",
   "execution_count": 45,
   "metadata": {},
   "outputs": [
    {
     "data": {
      "text/plain": [
       "5"
      ]
     },
     "execution_count": 45,
     "metadata": {},
     "output_type": "execute_result"
    }
   ],
   "source": [
    "df.duplicated().sum()"
   ]
  },
  {
   "cell_type": "code",
   "execution_count": 46,
   "metadata": {},
   "outputs": [],
   "source": [
    "df = df.drop_duplicates()"
   ]
  },
  {
   "cell_type": "markdown",
   "metadata": {},
   "source": [
    "Посмотрим в итоге, что у нас получилось"
   ]
  },
  {
   "cell_type": "code",
   "execution_count": 47,
   "metadata": {},
   "outputs": [
    {
     "name": "stdout",
     "output_type": "stream",
     "text": [
      "<class 'pandas.core.frame.DataFrame'>\n",
      "Int64Index: 333911 entries, 0 to 354368\n",
      "Data columns (total 17 columns):\n",
      " #   Column              Non-Null Count   Dtype  \n",
      "---  ------              --------------   -----  \n",
      " 0   date_crawled        333911 non-null  object \n",
      " 1   price               333911 non-null  int64  \n",
      " 2   registration_year   333911 non-null  int64  \n",
      " 3   vehicle_type        333911 non-null  object \n",
      " 4   power_class         333911 non-null  int64  \n",
      " 5   gearbox             333911 non-null  object \n",
      " 6   power               333911 non-null  float64\n",
      " 7   model               333911 non-null  object \n",
      " 8   kilometer           333911 non-null  int64  \n",
      " 9   registration_month  333911 non-null  int64  \n",
      " 10  fuel_type           333911 non-null  object \n",
      " 11  brand               333911 non-null  object \n",
      " 12  not_repaired        333911 non-null  object \n",
      " 13  date_created        333911 non-null  object \n",
      " 14  number_of_pictures  333911 non-null  int64  \n",
      " 15  postal_code         333911 non-null  int64  \n",
      " 16  last_seen           333911 non-null  object \n",
      "dtypes: float64(1), int64(7), object(9)\n",
      "memory usage: 45.9+ MB\n"
     ]
    }
   ],
   "source": [
    "df.info()"
   ]
  },
  {
   "cell_type": "markdown",
   "metadata": {},
   "source": [
    "### 4. Категоризация признаков"
   ]
  },
  {
   "cell_type": "markdown",
   "metadata": {},
   "source": [
    "У нас есть несколько признаков представленных в виде строк, которые модели не смогут переварить. Поэтому применим метод OHE для `not_repaired` и `gearbox`, чтобы отобразить параметры авто (заранее посмотрели, что уникальных значений столбцов всего по 2)"
   ]
  },
  {
   "cell_type": "code",
   "execution_count": 48,
   "metadata": {},
   "outputs": [],
   "source": [
    "df = pd.get_dummies(df,columns=['not_repaired','gearbox'], drop_first=True).reset_index()\n",
    "pass"
   ]
  },
  {
   "cell_type": "markdown",
   "metadata": {},
   "source": [
    "Другие проблемные признаки - это модель, тип топлива, тип кузова, брэнд. Воспользуемся порядковым кодированием для присвоения лэйбла каждому. И выведем их"
   ]
  },
  {
   "cell_type": "code",
   "execution_count": 49,
   "metadata": {},
   "outputs": [],
   "source": [
    "df_for_encoder = df[['vehicle_type', 'model', 'fuel_type', 'brand']]"
   ]
  },
  {
   "cell_type": "code",
   "execution_count": 50,
   "metadata": {},
   "outputs": [],
   "source": [
    "encoder = OrdinalEncoder()\n",
    "encoder.fit(df_for_encoder)\n",
    "df_ordinal = pd.DataFrame(encoder.transform(df_for_encoder), columns = df_for_encoder.columns + '_label')"
   ]
  },
  {
   "cell_type": "markdown",
   "metadata": {},
   "source": [
    "Проверим созданные категории, чтобы убедиться, не закралась ли ошибка"
   ]
  },
  {
   "cell_type": "code",
   "execution_count": 51,
   "metadata": {},
   "outputs": [
    {
     "data": {
      "text/plain": [
       "[array(['bus', 'convertible', 'coupe', 'other', 'sedan', 'small', 'suv',\n",
       "        'wagon'], dtype=object),\n",
       " array(['100', '145', '147', '156', '159', '1_reihe', '1er', '200',\n",
       "        '2_reihe', '300c', '3_reihe', '3er', '4_reihe', '500', '5_reihe',\n",
       "        '5er', '601', '6_reihe', '6er', '7er', '80', '850', '90', '900',\n",
       "        '9000', '911', 'a1', 'a2', 'a3', 'a4', 'a5', 'a6', 'a8',\n",
       "        'a_klasse', 'accord', 'agila', 'alhambra', 'almera', 'altea',\n",
       "        'amarok', 'antara', 'arosa', 'astra', 'auris', 'avensis', 'aveo',\n",
       "        'aygo', 'b_klasse', 'b_max', 'beetle', 'berlingo', 'bora',\n",
       "        'boxster', 'bravo', 'c1', 'c2', 'c3', 'c4', 'c5', 'c_klasse',\n",
       "        'c_max', 'c_reihe', 'caddy', 'calibra', 'captiva', 'carisma',\n",
       "        'carnival', 'cayenne', 'cc', 'ceed', 'charade', 'cherokee',\n",
       "        'citigo', 'civic', 'cl', 'clio', 'clk', 'clubman', 'colt', 'combo',\n",
       "        'cooper', 'cordoba', 'corolla', 'corsa', 'cr_reihe', 'croma',\n",
       "        'crossfire', 'cuore', 'cx_reihe', 'defender', 'delta', 'discovery',\n",
       "        'doblo', 'ducato', 'duster', 'e_klasse', 'elefantino', 'eos',\n",
       "        'escort', 'espace', 'exeo', 'fabia', 'fiesta', 'focus', 'forester',\n",
       "        'forfour', 'fortwo', 'fox', 'freelander', 'fusion', 'g_klasse',\n",
       "        'galant', 'galaxy', 'getz', 'gl', 'glk', 'golf', 'grand', 'i3',\n",
       "        'i_reihe', 'ibiza', 'impreza', 'insignia', 'jazz', 'jetta',\n",
       "        'jimny', 'juke', 'justy', 'ka', 'kadett', 'kaefer', 'kalina',\n",
       "        'kalos', 'kangoo', 'kappa', 'kuga', 'laguna', 'lancer', 'lanos',\n",
       "        'legacy', 'leon', 'lodgy', 'logan', 'lupo', 'lybra', 'm_klasse',\n",
       "        'm_reihe', 'materia', 'matiz', 'megane', 'meriva', 'micra', 'mii',\n",
       "        'modus', 'mondeo', 'move', 'musa', 'mustang', 'mx_reihe', 'navara',\n",
       "        'niva', 'note', 'nubira', 'octavia', 'omega', 'one', 'other',\n",
       "        'outlander', 'pajero', 'panda', 'passat', 'phaeton', 'picanto',\n",
       "        'polo', 'primera', 'ptcruiser', 'punto', 'q3', 'q5', 'q7',\n",
       "        'qashqai', 'r19', 'range_rover', 'range_rover_evoque',\n",
       "        'range_rover_sport', 'rangerover', 'rav', 'rio', 'roadster',\n",
       "        'roomster', 'rx_reihe', 's60', 's_klasse', 's_max', 's_type',\n",
       "        'samara', 'sandero', 'santa', 'scenic', 'scirocco', 'seicento',\n",
       "        'serie_1', 'serie_2', 'serie_3', 'sharan', 'signum', 'sirion',\n",
       "        'sl', 'slk', 'sorento', 'spark', 'spider', 'sportage', 'sprinter',\n",
       "        'stilo', 'superb', 'swift', 'terios', 'tigra', 'tiguan', 'toledo',\n",
       "        'touareg', 'touran', 'transit', 'transporter', 'tt', 'tucson',\n",
       "        'twingo', 'up', 'v40', 'v50', 'v60', 'v70', 'v_klasse', 'vectra',\n",
       "        'verso', 'viano', 'vito', 'vivaro', 'voyager', 'wrangler',\n",
       "        'x_reihe', 'x_trail', 'x_type', 'xc_reihe', 'yaris', 'yeti',\n",
       "        'ypsilon', 'z_reihe', 'zafira'], dtype=object),\n",
       " array(['cng', 'electric', 'gasoline', 'hybrid', 'lpg', 'other', 'petrol'],\n",
       "       dtype=object),\n",
       " array(['alfa_romeo', 'audi', 'bmw', 'chevrolet', 'chrysler', 'citroen',\n",
       "        'dacia', 'daewoo', 'daihatsu', 'fiat', 'ford', 'honda', 'hyundai',\n",
       "        'jaguar', 'jeep', 'kia', 'lada', 'lancia', 'land_rover', 'mazda',\n",
       "        'mercedes_benz', 'mini', 'mitsubishi', 'nissan', 'opel', 'peugeot',\n",
       "        'porsche', 'renault', 'rover', 'saab', 'seat', 'skoda', 'smart',\n",
       "        'sonstige_autos', 'subaru', 'suzuki', 'toyota', 'trabant',\n",
       "        'volkswagen', 'volvo'], dtype=object)]"
      ]
     },
     "execution_count": 51,
     "metadata": {},
     "output_type": "execute_result"
    }
   ],
   "source": [
    "encoder.categories_"
   ]
  },
  {
   "cell_type": "code",
   "execution_count": 52,
   "metadata": {},
   "outputs": [],
   "source": [
    "df = pd.concat([df,df_ordinal],sort=False,axis=1) # присоединим преобразованныей столбец"
   ]
  },
  {
   "cell_type": "markdown",
   "metadata": {},
   "source": [
    "Создадим сразу на будущее сводные таблицы лейблов в одноименных переменных"
   ]
  },
  {
   "cell_type": "code",
   "execution_count": 53,
   "metadata": {},
   "outputs": [],
   "source": [
    "def __(column):\n",
    "\n",
    "    name = (df[[column, column + '_label']]\n",
    "            .drop_duplicates()\n",
    "            .sort_values(by=column + '_label',ascending=True)\n",
    "            .reset_index(drop=True))\n",
    "\n",
    "    return name"
   ]
  },
  {
   "cell_type": "code",
   "execution_count": 54,
   "metadata": {},
   "outputs": [],
   "source": [
    "vehicle_type_labels = __('vehicle_type')\n",
    "model_labels = __('model')\n",
    "fuel_type_labels = __('fuel_type')\n",
    "brand_labels = __('brand')\n",
    "pass"
   ]
  },
  {
   "cell_type": "code",
   "execution_count": 55,
   "metadata": {},
   "outputs": [],
   "source": [
    "model_labels = (pd.merge(model_labels, df[['model','brand']], how='left', on='model')\n",
    "                .reindex(columns=['brand', 'model', 'model_label'])\n",
    "                .drop_duplicates()\n",
    "                .reset_index(drop=True))"
   ]
  },
  {
   "cell_type": "code",
   "execution_count": 56,
   "metadata": {},
   "outputs": [
    {
     "data": {
      "text/html": [
       "<div>\n",
       "<style scoped>\n",
       "    .dataframe tbody tr th:only-of-type {\n",
       "        vertical-align: middle;\n",
       "    }\n",
       "\n",
       "    .dataframe tbody tr th {\n",
       "        vertical-align: top;\n",
       "    }\n",
       "\n",
       "    .dataframe thead th {\n",
       "        text-align: right;\n",
       "    }\n",
       "</style>\n",
       "<table border=\"1\" class=\"dataframe\">\n",
       "  <thead>\n",
       "    <tr style=\"text-align: right;\">\n",
       "      <th></th>\n",
       "      <th>brand</th>\n",
       "      <th>model</th>\n",
       "      <th>model_label</th>\n",
       "    </tr>\n",
       "  </thead>\n",
       "  <tbody>\n",
       "    <tr>\n",
       "      <th>0</th>\n",
       "      <td>audi</td>\n",
       "      <td>100</td>\n",
       "      <td>0.0</td>\n",
       "    </tr>\n",
       "    <tr>\n",
       "      <th>1</th>\n",
       "      <td>alfa_romeo</td>\n",
       "      <td>145</td>\n",
       "      <td>1.0</td>\n",
       "    </tr>\n",
       "    <tr>\n",
       "      <th>2</th>\n",
       "      <td>alfa_romeo</td>\n",
       "      <td>147</td>\n",
       "      <td>2.0</td>\n",
       "    </tr>\n",
       "    <tr>\n",
       "      <th>3</th>\n",
       "      <td>alfa_romeo</td>\n",
       "      <td>156</td>\n",
       "      <td>3.0</td>\n",
       "    </tr>\n",
       "    <tr>\n",
       "      <th>4</th>\n",
       "      <td>alfa_romeo</td>\n",
       "      <td>159</td>\n",
       "      <td>4.0</td>\n",
       "    </tr>\n",
       "  </tbody>\n",
       "</table>\n",
       "</div>"
      ],
      "text/plain": [
       "        brand model  model_label\n",
       "0        audi   100          0.0\n",
       "1  alfa_romeo   145          1.0\n",
       "2  alfa_romeo   147          2.0\n",
       "3  alfa_romeo   156          3.0\n",
       "4  alfa_romeo   159          4.0"
      ]
     },
     "metadata": {},
     "output_type": "display_data"
    },
    {
     "name": "stdout",
     "output_type": "stream",
     "text": [
      "Всего моделей автомобилей 298\n"
     ]
    }
   ],
   "source": [
    "display(model_labels.head())\n",
    "print('Всего моделей автомобилей', model_labels.shape[0])"
   ]
  },
  {
   "cell_type": "code",
   "execution_count": 57,
   "metadata": {},
   "outputs": [
    {
     "data": {
      "text/html": [
       "<div>\n",
       "<style scoped>\n",
       "    .dataframe tbody tr th:only-of-type {\n",
       "        vertical-align: middle;\n",
       "    }\n",
       "\n",
       "    .dataframe tbody tr th {\n",
       "        vertical-align: top;\n",
       "    }\n",
       "\n",
       "    .dataframe thead th {\n",
       "        text-align: right;\n",
       "    }\n",
       "</style>\n",
       "<table border=\"1\" class=\"dataframe\">\n",
       "  <thead>\n",
       "    <tr style=\"text-align: right;\">\n",
       "      <th></th>\n",
       "      <th>fuel_type</th>\n",
       "      <th>fuel_type_label</th>\n",
       "    </tr>\n",
       "  </thead>\n",
       "  <tbody>\n",
       "    <tr>\n",
       "      <th>0</th>\n",
       "      <td>cng</td>\n",
       "      <td>0.0</td>\n",
       "    </tr>\n",
       "    <tr>\n",
       "      <th>1</th>\n",
       "      <td>electric</td>\n",
       "      <td>1.0</td>\n",
       "    </tr>\n",
       "    <tr>\n",
       "      <th>2</th>\n",
       "      <td>gasoline</td>\n",
       "      <td>2.0</td>\n",
       "    </tr>\n",
       "    <tr>\n",
       "      <th>3</th>\n",
       "      <td>hybrid</td>\n",
       "      <td>3.0</td>\n",
       "    </tr>\n",
       "    <tr>\n",
       "      <th>4</th>\n",
       "      <td>lpg</td>\n",
       "      <td>4.0</td>\n",
       "    </tr>\n",
       "    <tr>\n",
       "      <th>5</th>\n",
       "      <td>other</td>\n",
       "      <td>5.0</td>\n",
       "    </tr>\n",
       "    <tr>\n",
       "      <th>6</th>\n",
       "      <td>petrol</td>\n",
       "      <td>6.0</td>\n",
       "    </tr>\n",
       "  </tbody>\n",
       "</table>\n",
       "</div>"
      ],
      "text/plain": [
       "  fuel_type  fuel_type_label\n",
       "0       cng              0.0\n",
       "1  electric              1.0\n",
       "2  gasoline              2.0\n",
       "3    hybrid              3.0\n",
       "4       lpg              4.0\n",
       "5     other              5.0\n",
       "6    petrol              6.0"
      ]
     },
     "execution_count": 57,
     "metadata": {},
     "output_type": "execute_result"
    }
   ],
   "source": [
    "fuel_type_labels"
   ]
  },
  {
   "cell_type": "markdown",
   "metadata": {},
   "source": [
    "### 5. Выбор признаков"
   ]
  },
  {
   "cell_type": "markdown",
   "metadata": {},
   "source": [
    "Удалим из данных, признаки не оказывающие никакого влияния на ответ на интересующий нас вопрос, а именно:\n",
    "\n",
    "- дата скачивания анкеты\n",
    "- дата создания анкеты\n",
    "- месяц регистрации автомобиля\n",
    "- количество фотографий автомобиля\n",
    "- почтовый индекс владельца анкеты (пользователя)\n",
    "- дата последней активности пользователя\n",
    "\n",
    "Также удалим данные вынесенные в отдельные категориальные библиотеки:\n",
    "- тип кузова\n",
    "- модель\n",
    "- тип топлива\n",
    "- брэнд"
   ]
  },
  {
   "cell_type": "code",
   "execution_count": 58,
   "metadata": {},
   "outputs": [],
   "source": [
    "df = (df\n",
    "      .drop(columns = ['index','date_crawled','date_created','registration_month',\n",
    "                       'number_of_pictures','postal_code','last_seen',\n",
    "                      'vehicle_type','model','fuel_type','brand']\n",
    "            ,axis = 1))"
   ]
  },
  {
   "cell_type": "code",
   "execution_count": 59,
   "metadata": {},
   "outputs": [
    {
     "data": {
      "text/html": [
       "<div>\n",
       "<style scoped>\n",
       "    .dataframe tbody tr th:only-of-type {\n",
       "        vertical-align: middle;\n",
       "    }\n",
       "\n",
       "    .dataframe tbody tr th {\n",
       "        vertical-align: top;\n",
       "    }\n",
       "\n",
       "    .dataframe thead th {\n",
       "        text-align: right;\n",
       "    }\n",
       "</style>\n",
       "<table border=\"1\" class=\"dataframe\">\n",
       "  <thead>\n",
       "    <tr style=\"text-align: right;\">\n",
       "      <th></th>\n",
       "      <th>price</th>\n",
       "      <th>registration_year</th>\n",
       "      <th>power_class</th>\n",
       "      <th>power</th>\n",
       "      <th>kilometer</th>\n",
       "      <th>not_repaired_yes</th>\n",
       "      <th>gearbox_manual</th>\n",
       "      <th>vehicle_type_label</th>\n",
       "      <th>model_label</th>\n",
       "      <th>fuel_type_label</th>\n",
       "      <th>brand_label</th>\n",
       "    </tr>\n",
       "  </thead>\n",
       "  <tbody>\n",
       "    <tr>\n",
       "      <th>0</th>\n",
       "      <td>480</td>\n",
       "      <td>1993</td>\n",
       "      <td>3</td>\n",
       "      <td>101.0</td>\n",
       "      <td>150000</td>\n",
       "      <td>0</td>\n",
       "      <td>1</td>\n",
       "      <td>4.0</td>\n",
       "      <td>116.0</td>\n",
       "      <td>6.0</td>\n",
       "      <td>38.0</td>\n",
       "    </tr>\n",
       "    <tr>\n",
       "      <th>1</th>\n",
       "      <td>18300</td>\n",
       "      <td>2011</td>\n",
       "      <td>3</td>\n",
       "      <td>190.0</td>\n",
       "      <td>125000</td>\n",
       "      <td>1</td>\n",
       "      <td>1</td>\n",
       "      <td>2.0</td>\n",
       "      <td>166.0</td>\n",
       "      <td>2.0</td>\n",
       "      <td>1.0</td>\n",
       "    </tr>\n",
       "    <tr>\n",
       "      <th>2</th>\n",
       "      <td>9800</td>\n",
       "      <td>2004</td>\n",
       "      <td>3</td>\n",
       "      <td>163.0</td>\n",
       "      <td>125000</td>\n",
       "      <td>0</td>\n",
       "      <td>0</td>\n",
       "      <td>6.0</td>\n",
       "      <td>117.0</td>\n",
       "      <td>2.0</td>\n",
       "      <td>14.0</td>\n",
       "    </tr>\n",
       "    <tr>\n",
       "      <th>3</th>\n",
       "      <td>1500</td>\n",
       "      <td>2001</td>\n",
       "      <td>4</td>\n",
       "      <td>75.0</td>\n",
       "      <td>150000</td>\n",
       "      <td>0</td>\n",
       "      <td>1</td>\n",
       "      <td>4.0</td>\n",
       "      <td>116.0</td>\n",
       "      <td>6.0</td>\n",
       "      <td>38.0</td>\n",
       "    </tr>\n",
       "    <tr>\n",
       "      <th>4</th>\n",
       "      <td>3600</td>\n",
       "      <td>2008</td>\n",
       "      <td>4</td>\n",
       "      <td>69.0</td>\n",
       "      <td>90000</td>\n",
       "      <td>0</td>\n",
       "      <td>1</td>\n",
       "      <td>7.0</td>\n",
       "      <td>101.0</td>\n",
       "      <td>2.0</td>\n",
       "      <td>31.0</td>\n",
       "    </tr>\n",
       "  </tbody>\n",
       "</table>\n",
       "</div>"
      ],
      "text/plain": [
       "   price  registration_year  power_class  power  kilometer  not_repaired_yes  \\\n",
       "0    480               1993            3  101.0     150000                 0   \n",
       "1  18300               2011            3  190.0     125000                 1   \n",
       "2   9800               2004            3  163.0     125000                 0   \n",
       "3   1500               2001            4   75.0     150000                 0   \n",
       "4   3600               2008            4   69.0      90000                 0   \n",
       "\n",
       "   gearbox_manual  vehicle_type_label  model_label  fuel_type_label  \\\n",
       "0               1                 4.0        116.0              6.0   \n",
       "1               1                 2.0        166.0              2.0   \n",
       "2               0                 6.0        117.0              2.0   \n",
       "3               1                 4.0        116.0              6.0   \n",
       "4               1                 7.0        101.0              2.0   \n",
       "\n",
       "   brand_label  \n",
       "0         38.0  \n",
       "1          1.0  \n",
       "2         14.0  \n",
       "3         38.0  \n",
       "4         31.0  "
      ]
     },
     "execution_count": 59,
     "metadata": {},
     "output_type": "execute_result"
    }
   ],
   "source": [
    "df.head()"
   ]
  },
  {
   "cell_type": "markdown",
   "metadata": {},
   "source": [
    "**Целевым признаком является цена.**"
   ]
  },
  {
   "cell_type": "markdown",
   "metadata": {},
   "source": [
    "### 6. Корреляция"
   ]
  },
  {
   "cell_type": "markdown",
   "metadata": {},
   "source": [
    "Посмотрим на распределение признаков, от которых будет зависеть цена автомобиля"
   ]
  },
  {
   "cell_type": "code",
   "execution_count": 61,
   "metadata": {},
   "outputs": [
    {
     "data": {
      "text/plain": [
       "array([[<AxesSubplot:title={'center':'fuel_type_label'}>,\n",
       "        <AxesSubplot:title={'center':'not_repaired_yes'}>,\n",
       "        <AxesSubplot:title={'center':'registration_year'}>],\n",
       "       [<AxesSubplot:title={'center':'power_class'}>,\n",
       "        <AxesSubplot:title={'center':'power'}>,\n",
       "        <AxesSubplot:title={'center':'model_label'}>],\n",
       "       [<AxesSubplot:title={'center':'kilometer'}>,\n",
       "        <AxesSubplot:title={'center':'brand_label'}>,\n",
       "        <AxesSubplot:title={'center':'vehicle_type_label'}>],\n",
       "       [<AxesSubplot:title={'center':'gearbox_manual'}>, <AxesSubplot:>,\n",
       "        <AxesSubplot:>]], dtype=object)"
      ]
     },
     "execution_count": 61,
     "metadata": {},
     "output_type": "execute_result"
    },
    {
     "data": {
      "image/png": "[encoded data removed]",
      "text/plain": [
       "<Figure size 2000x1200 with 12 Axes>"
      ]
     },
     "metadata": {},
     "output_type": "display_data"
    }
   ],
   "source": [
    "features_correlation = list(set(df.columns) - set(['price']))\n",
    "df[features_correlation].hist(figsize=(20,12))"
   ]
  },
  {
   "cell_type": "code",
   "execution_count": 62,
   "metadata": {},
   "outputs": [
    {
     "name": "stdout",
     "output_type": "stream",
     "text": [
      "166.0    39214\n",
      "116.0    27444\n",
      "11.0     18891\n",
      "173.0    12025\n",
      "83.0     11477\n",
      "42.0     10173\n",
      "170.0     9698\n",
      "29.0      9542\n",
      "59.0      8100\n",
      "15.0      7577\n",
      "Name: model_label, dtype: int64\n"
     ]
    },
    {
     "data": {
      "text/html": [
       "<div>\n",
       "<style scoped>\n",
       "    .dataframe tbody tr th:only-of-type {\n",
       "        vertical-align: middle;\n",
       "    }\n",
       "\n",
       "    .dataframe tbody tr th {\n",
       "        vertical-align: top;\n",
       "    }\n",
       "\n",
       "    .dataframe thead th {\n",
       "        text-align: right;\n",
       "    }\n",
       "</style>\n",
       "<table border=\"1\" class=\"dataframe\">\n",
       "  <thead>\n",
       "    <tr style=\"text-align: right;\">\n",
       "      <th></th>\n",
       "      <th>brand</th>\n",
       "      <th>model</th>\n",
       "      <th>model_label</th>\n",
       "    </tr>\n",
       "  </thead>\n",
       "  <tbody>\n",
       "    <tr>\n",
       "      <th>13</th>\n",
       "      <td>bmw</td>\n",
       "      <td>3er</td>\n",
       "      <td>11.0</td>\n",
       "    </tr>\n",
       "    <tr>\n",
       "      <th>18</th>\n",
       "      <td>bmw</td>\n",
       "      <td>5er</td>\n",
       "      <td>15.0</td>\n",
       "    </tr>\n",
       "    <tr>\n",
       "      <th>32</th>\n",
       "      <td>audi</td>\n",
       "      <td>a4</td>\n",
       "      <td>29.0</td>\n",
       "    </tr>\n",
       "    <tr>\n",
       "      <th>45</th>\n",
       "      <td>opel</td>\n",
       "      <td>astra</td>\n",
       "      <td>42.0</td>\n",
       "    </tr>\n",
       "    <tr>\n",
       "      <th>62</th>\n",
       "      <td>mercedes_benz</td>\n",
       "      <td>c_klasse</td>\n",
       "      <td>59.0</td>\n",
       "    </tr>\n",
       "    <tr>\n",
       "      <th>86</th>\n",
       "      <td>opel</td>\n",
       "      <td>corsa</td>\n",
       "      <td>83.0</td>\n",
       "    </tr>\n",
       "    <tr>\n",
       "      <th>122</th>\n",
       "      <td>volkswagen</td>\n",
       "      <td>golf</td>\n",
       "      <td>116.0</td>\n",
       "    </tr>\n",
       "    <tr>\n",
       "      <th>218</th>\n",
       "      <td>volkswagen</td>\n",
       "      <td>passat</td>\n",
       "      <td>170.0</td>\n",
       "    </tr>\n",
       "    <tr>\n",
       "      <th>221</th>\n",
       "      <td>volkswagen</td>\n",
       "      <td>polo</td>\n",
       "      <td>173.0</td>\n",
       "    </tr>\n",
       "  </tbody>\n",
       "</table>\n",
       "</div>"
      ],
      "text/plain": [
       "             brand     model  model_label\n",
       "13             bmw       3er         11.0\n",
       "18             bmw       5er         15.0\n",
       "32            audi        a4         29.0\n",
       "45            opel     astra         42.0\n",
       "62   mercedes_benz  c_klasse         59.0\n",
       "86            opel     corsa         83.0\n",
       "122     volkswagen      golf        116.0\n",
       "218     volkswagen    passat        170.0\n",
       "221     volkswagen      polo        173.0"
      ]
     },
     "metadata": {},
     "output_type": "display_data"
    }
   ],
   "source": [
    "top = list(df['model_label'].value_counts().head(10).index)\n",
    "print(df['model_label'].value_counts().head(10))\n",
    "\n",
    "display(model_labels.query('model_label in @top and model != \"other\"')) # исключим машины с неопределенной моделью"
   ]
  },
  {
   "cell_type": "markdown",
   "metadata": {},
   "source": [
    "Наглядно видно, какие автомобили входят в 10ку самых распрастраненных на сайте за исключением машин без модели. **Лидирующее место занимает 116 номер volkswagen golf**"
   ]
  },
  {
   "cell_type": "code",
   "execution_count": 63,
   "metadata": {},
   "outputs": [
    {
     "name": "stdout",
     "output_type": "stream",
     "text": [
      "38.0    72235\n",
      "24.0    37009\n",
      "2.0     35203\n",
      "20.0    30906\n",
      "1.0     28131\n",
      "10.0    23388\n",
      "27.0    16592\n",
      "25.0    10517\n",
      "9.0      8949\n",
      "30.0     6495\n",
      "Name: brand_label, dtype: int64\n"
     ]
    },
    {
     "data": {
      "text/html": [
       "<div>\n",
       "<style scoped>\n",
       "    .dataframe tbody tr th:only-of-type {\n",
       "        vertical-align: middle;\n",
       "    }\n",
       "\n",
       "    .dataframe tbody tr th {\n",
       "        vertical-align: top;\n",
       "    }\n",
       "\n",
       "    .dataframe thead th {\n",
       "        text-align: right;\n",
       "    }\n",
       "</style>\n",
       "<table border=\"1\" class=\"dataframe\">\n",
       "  <thead>\n",
       "    <tr style=\"text-align: right;\">\n",
       "      <th></th>\n",
       "      <th>brand</th>\n",
       "      <th>brand_label</th>\n",
       "    </tr>\n",
       "  </thead>\n",
       "  <tbody>\n",
       "    <tr>\n",
       "      <th>1</th>\n",
       "      <td>audi</td>\n",
       "      <td>1.0</td>\n",
       "    </tr>\n",
       "    <tr>\n",
       "      <th>2</th>\n",
       "      <td>bmw</td>\n",
       "      <td>2.0</td>\n",
       "    </tr>\n",
       "    <tr>\n",
       "      <th>9</th>\n",
       "      <td>fiat</td>\n",
       "      <td>9.0</td>\n",
       "    </tr>\n",
       "    <tr>\n",
       "      <th>10</th>\n",
       "      <td>ford</td>\n",
       "      <td>10.0</td>\n",
       "    </tr>\n",
       "    <tr>\n",
       "      <th>20</th>\n",
       "      <td>mercedes_benz</td>\n",
       "      <td>20.0</td>\n",
       "    </tr>\n",
       "    <tr>\n",
       "      <th>24</th>\n",
       "      <td>opel</td>\n",
       "      <td>24.0</td>\n",
       "    </tr>\n",
       "    <tr>\n",
       "      <th>25</th>\n",
       "      <td>peugeot</td>\n",
       "      <td>25.0</td>\n",
       "    </tr>\n",
       "    <tr>\n",
       "      <th>27</th>\n",
       "      <td>renault</td>\n",
       "      <td>27.0</td>\n",
       "    </tr>\n",
       "    <tr>\n",
       "      <th>30</th>\n",
       "      <td>seat</td>\n",
       "      <td>30.0</td>\n",
       "    </tr>\n",
       "    <tr>\n",
       "      <th>38</th>\n",
       "      <td>volkswagen</td>\n",
       "      <td>38.0</td>\n",
       "    </tr>\n",
       "  </tbody>\n",
       "</table>\n",
       "</div>"
      ],
      "text/plain": [
       "            brand  brand_label\n",
       "1            audi          1.0\n",
       "2             bmw          2.0\n",
       "9            fiat          9.0\n",
       "10           ford         10.0\n",
       "20  mercedes_benz         20.0\n",
       "24           opel         24.0\n",
       "25        peugeot         25.0\n",
       "27        renault         27.0\n",
       "30           seat         30.0\n",
       "38     volkswagen         38.0"
      ]
     },
     "metadata": {},
     "output_type": "display_data"
    }
   ],
   "source": [
    "top = list(df['brand_label'].value_counts().head(10).index)\n",
    "print(df['brand_label'].value_counts().head(10))\n",
    "\n",
    "display(brand_labels.query('brand_label in @top and brand != \"other\"')) # исключим машины с неопределенной моделью"
   ]
  },
  {
   "cell_type": "code",
   "execution_count": 64,
   "metadata": {},
   "outputs": [
    {
     "name": "stdout",
     "output_type": "stream",
     "text": [
      "2000    22188\n",
      "1999    21612\n",
      "2005    21306\n",
      "2006    19636\n",
      "2001    19503\n",
      "2003    19444\n",
      "2004    19291\n",
      "2002    18643\n",
      "2007    16969\n",
      "1998    16705\n",
      "Name: registration_year, dtype: int64\n"
     ]
    }
   ],
   "source": [
    "top = list(df['registration_year'].value_counts().head(10).index)\n",
    "print(df['registration_year'].value_counts().head(10))"
   ]
  },
  {
   "cell_type": "markdown",
   "metadata": {},
   "source": [
    "Видим, что большинство не двухвариантных/трехвариантных классовых признаков распределены нормально. Исключения – перекос в пробеге автомобилей в сторону \"подержанных\". В целом наглядно видно, какие автомобили чаще всего размещаются на сайте:\n",
    "- преобладают с ручной коробкой передач и с бензиновым двигателем средней мощности (от 100 до 160 л.с.)\n",
    "- не после ремонта (по крайней мере так люди ставят в анкетах)\n",
    "- самой распространенной маркой автомобиля является volkswagen\n",
    "- чаще на сайте можно встретить транспорт примерно 1999-2007 годов выпуска"
   ]
  },
  {
   "cell_type": "markdown",
   "metadata": {},
   "source": [
    "И выведем корреляцию в виде таблицы"
   ]
  },
  {
   "cell_type": "code",
   "execution_count": 65,
   "metadata": {},
   "outputs": [
    {
     "data": {
      "text/html": [
       "<div>\n",
       "<style scoped>\n",
       "    .dataframe tbody tr th:only-of-type {\n",
       "        vertical-align: middle;\n",
       "    }\n",
       "\n",
       "    .dataframe tbody tr th {\n",
       "        vertical-align: top;\n",
       "    }\n",
       "\n",
       "    .dataframe thead th {\n",
       "        text-align: right;\n",
       "    }\n",
       "</style>\n",
       "<table border=\"1\" class=\"dataframe\">\n",
       "  <thead>\n",
       "    <tr style=\"text-align: right;\">\n",
       "      <th></th>\n",
       "      <th>fuel_type</th>\n",
       "      <th>fuel_type_label</th>\n",
       "    </tr>\n",
       "  </thead>\n",
       "  <tbody>\n",
       "    <tr>\n",
       "      <th>0</th>\n",
       "      <td>cng</td>\n",
       "      <td>0.0</td>\n",
       "    </tr>\n",
       "    <tr>\n",
       "      <th>1</th>\n",
       "      <td>electric</td>\n",
       "      <td>1.0</td>\n",
       "    </tr>\n",
       "    <tr>\n",
       "      <th>2</th>\n",
       "      <td>gasoline</td>\n",
       "      <td>2.0</td>\n",
       "    </tr>\n",
       "    <tr>\n",
       "      <th>3</th>\n",
       "      <td>hybrid</td>\n",
       "      <td>3.0</td>\n",
       "    </tr>\n",
       "    <tr>\n",
       "      <th>4</th>\n",
       "      <td>lpg</td>\n",
       "      <td>4.0</td>\n",
       "    </tr>\n",
       "    <tr>\n",
       "      <th>5</th>\n",
       "      <td>other</td>\n",
       "      <td>5.0</td>\n",
       "    </tr>\n",
       "    <tr>\n",
       "      <th>6</th>\n",
       "      <td>petrol</td>\n",
       "      <td>6.0</td>\n",
       "    </tr>\n",
       "  </tbody>\n",
       "</table>\n",
       "</div>"
      ],
      "text/plain": [
       "  fuel_type  fuel_type_label\n",
       "0       cng              0.0\n",
       "1  electric              1.0\n",
       "2  gasoline              2.0\n",
       "3    hybrid              3.0\n",
       "4       lpg              4.0\n",
       "5     other              5.0\n",
       "6    petrol              6.0"
      ]
     },
     "execution_count": 65,
     "metadata": {},
     "output_type": "execute_result"
    }
   ],
   "source": [
    "fuel_type_labels"
   ]
  },
  {
   "cell_type": "code",
   "execution_count": 66,
   "metadata": {},
   "outputs": [
    {
     "data": {
      "text/html": [
       "<div>\n",
       "<style scoped>\n",
       "    .dataframe tbody tr th:only-of-type {\n",
       "        vertical-align: middle;\n",
       "    }\n",
       "\n",
       "    .dataframe tbody tr th {\n",
       "        vertical-align: top;\n",
       "    }\n",
       "\n",
       "    .dataframe thead th {\n",
       "        text-align: right;\n",
       "    }\n",
       "</style>\n",
       "<table border=\"1\" class=\"dataframe\">\n",
       "  <thead>\n",
       "    <tr style=\"text-align: right;\">\n",
       "      <th></th>\n",
       "      <th>fuel_type_label</th>\n",
       "      <th>not_repaired_yes</th>\n",
       "      <th>registration_year</th>\n",
       "      <th>power_class</th>\n",
       "      <th>power</th>\n",
       "      <th>model_label</th>\n",
       "      <th>kilometer</th>\n",
       "      <th>brand_label</th>\n",
       "      <th>vehicle_type_label</th>\n",
       "      <th>gearbox_manual</th>\n",
       "      <th>price</th>\n",
       "    </tr>\n",
       "  </thead>\n",
       "  <tbody>\n",
       "    <tr>\n",
       "      <th>fuel_type_label</th>\n",
       "      <td>1.000000</td>\n",
       "      <td>0.027053</td>\n",
       "      <td>-0.227812</td>\n",
       "      <td>0.273854</td>\n",
       "      <td>-0.241416</td>\n",
       "      <td>-0.020028</td>\n",
       "      <td>-0.146987</td>\n",
       "      <td>0.036267</td>\n",
       "      <td>0.075568</td>\n",
       "      <td>0.128563</td>\n",
       "      <td>-0.283345</td>\n",
       "    </tr>\n",
       "    <tr>\n",
       "      <th>not_repaired_yes</th>\n",
       "      <td>0.027053</td>\n",
       "      <td>1.000000</td>\n",
       "      <td>-0.073870</td>\n",
       "      <td>0.025870</td>\n",
       "      <td>-0.037368</td>\n",
       "      <td>0.010394</td>\n",
       "      <td>0.068970</td>\n",
       "      <td>-0.009074</td>\n",
       "      <td>0.014357</td>\n",
       "      <td>0.016627</td>\n",
       "      <td>-0.181296</td>\n",
       "    </tr>\n",
       "    <tr>\n",
       "      <th>registration_year</th>\n",
       "      <td>-0.227812</td>\n",
       "      <td>-0.073870</td>\n",
       "      <td>1.000000</td>\n",
       "      <td>-0.091049</td>\n",
       "      <td>0.107305</td>\n",
       "      <td>-0.021792</td>\n",
       "      <td>-0.208972</td>\n",
       "      <td>-0.018365</td>\n",
       "      <td>0.021081</td>\n",
       "      <td>-0.015807</td>\n",
       "      <td>0.394082</td>\n",
       "    </tr>\n",
       "    <tr>\n",
       "      <th>power_class</th>\n",
       "      <td>0.273854</td>\n",
       "      <td>0.025870</td>\n",
       "      <td>-0.091049</td>\n",
       "      <td>1.000000</td>\n",
       "      <td>-0.715190</td>\n",
       "      <td>0.107975</td>\n",
       "      <td>-0.114428</td>\n",
       "      <td>0.247117</td>\n",
       "      <td>0.067659</td>\n",
       "      <td>0.224256</td>\n",
       "      <td>-0.346417</td>\n",
       "    </tr>\n",
       "    <tr>\n",
       "      <th>power</th>\n",
       "      <td>-0.241416</td>\n",
       "      <td>-0.037368</td>\n",
       "      <td>0.107305</td>\n",
       "      <td>-0.715190</td>\n",
       "      <td>1.000000</td>\n",
       "      <td>-0.147807</td>\n",
       "      <td>0.108971</td>\n",
       "      <td>-0.336165</td>\n",
       "      <td>-0.044036</td>\n",
       "      <td>-0.402834</td>\n",
       "      <td>0.486138</td>\n",
       "    </tr>\n",
       "    <tr>\n",
       "      <th>model_label</th>\n",
       "      <td>-0.020028</td>\n",
       "      <td>0.010394</td>\n",
       "      <td>-0.021792</td>\n",
       "      <td>0.107975</td>\n",
       "      <td>-0.147807</td>\n",
       "      <td>1.000000</td>\n",
       "      <td>-0.036424</td>\n",
       "      <td>0.450165</td>\n",
       "      <td>-0.240547</td>\n",
       "      <td>0.024970</td>\n",
       "      <td>-0.030886</td>\n",
       "    </tr>\n",
       "    <tr>\n",
       "      <th>kilometer</th>\n",
       "      <td>-0.146987</td>\n",
       "      <td>0.068970</td>\n",
       "      <td>-0.208972</td>\n",
       "      <td>-0.114428</td>\n",
       "      <td>0.108971</td>\n",
       "      <td>-0.036424</td>\n",
       "      <td>1.000000</td>\n",
       "      <td>-0.048266</td>\n",
       "      <td>0.003014</td>\n",
       "      <td>-0.004082</td>\n",
       "      <td>-0.365540</td>\n",
       "    </tr>\n",
       "    <tr>\n",
       "      <th>brand_label</th>\n",
       "      <td>0.036267</td>\n",
       "      <td>-0.009074</td>\n",
       "      <td>-0.018365</td>\n",
       "      <td>0.247117</td>\n",
       "      <td>-0.336165</td>\n",
       "      <td>0.450165</td>\n",
       "      <td>-0.048266</td>\n",
       "      <td>1.000000</td>\n",
       "      <td>-0.086899</td>\n",
       "      <td>0.099216</td>\n",
       "      <td>-0.106647</td>\n",
       "    </tr>\n",
       "    <tr>\n",
       "      <th>vehicle_type_label</th>\n",
       "      <td>0.075568</td>\n",
       "      <td>0.014357</td>\n",
       "      <td>0.021081</td>\n",
       "      <td>0.067659</td>\n",
       "      <td>-0.044036</td>\n",
       "      <td>-0.240547</td>\n",
       "      <td>0.003014</td>\n",
       "      <td>-0.086899</td>\n",
       "      <td>1.000000</td>\n",
       "      <td>0.011480</td>\n",
       "      <td>-0.089837</td>\n",
       "    </tr>\n",
       "    <tr>\n",
       "      <th>gearbox_manual</th>\n",
       "      <td>0.128563</td>\n",
       "      <td>0.016627</td>\n",
       "      <td>-0.015807</td>\n",
       "      <td>0.224256</td>\n",
       "      <td>-0.402834</td>\n",
       "      <td>0.024970</td>\n",
       "      <td>-0.004082</td>\n",
       "      <td>0.099216</td>\n",
       "      <td>0.011480</td>\n",
       "      <td>1.000000</td>\n",
       "      <td>-0.238882</td>\n",
       "    </tr>\n",
       "    <tr>\n",
       "      <th>price</th>\n",
       "      <td>-0.283345</td>\n",
       "      <td>-0.181296</td>\n",
       "      <td>0.394082</td>\n",
       "      <td>-0.346417</td>\n",
       "      <td>0.486138</td>\n",
       "      <td>-0.030886</td>\n",
       "      <td>-0.365540</td>\n",
       "      <td>-0.106647</td>\n",
       "      <td>-0.089837</td>\n",
       "      <td>-0.238882</td>\n",
       "      <td>1.000000</td>\n",
       "    </tr>\n",
       "  </tbody>\n",
       "</table>\n",
       "</div>"
      ],
      "text/plain": [
       "                    fuel_type_label  not_repaired_yes  registration_year  \\\n",
       "fuel_type_label            1.000000          0.027053          -0.227812   \n",
       "not_repaired_yes           0.027053          1.000000          -0.073870   \n",
       "registration_year         -0.227812         -0.073870           1.000000   \n",
       "power_class                0.273854          0.025870          -0.091049   \n",
       "power                     -0.241416         -0.037368           0.107305   \n",
       "model_label               -0.020028          0.010394          -0.021792   \n",
       "kilometer                 -0.146987          0.068970          -0.208972   \n",
       "brand_label                0.036267         -0.009074          -0.018365   \n",
       "vehicle_type_label         0.075568          0.014357           0.021081   \n",
       "gearbox_manual             0.128563          0.016627          -0.015807   \n",
       "price                     -0.283345         -0.181296           0.394082   \n",
       "\n",
       "                    power_class     power  model_label  kilometer  \\\n",
       "fuel_type_label        0.273854 -0.241416    -0.020028  -0.146987   \n",
       "not_repaired_yes       0.025870 -0.037368     0.010394   0.068970   \n",
       "registration_year     -0.091049  0.107305    -0.021792  -0.208972   \n",
       "power_class            1.000000 -0.715190     0.107975  -0.114428   \n",
       "power                 -0.715190  1.000000    -0.147807   0.108971   \n",
       "model_label            0.107975 -0.147807     1.000000  -0.036424   \n",
       "kilometer             -0.114428  0.108971    -0.036424   1.000000   \n",
       "brand_label            0.247117 -0.336165     0.450165  -0.048266   \n",
       "vehicle_type_label     0.067659 -0.044036    -0.240547   0.003014   \n",
       "gearbox_manual         0.224256 -0.402834     0.024970  -0.004082   \n",
       "price                 -0.346417  0.486138    -0.030886  -0.365540   \n",
       "\n",
       "                    brand_label  vehicle_type_label  gearbox_manual     price  \n",
       "fuel_type_label        0.036267            0.075568        0.128563 -0.283345  \n",
       "not_repaired_yes      -0.009074            0.014357        0.016627 -0.181296  \n",
       "registration_year     -0.018365            0.021081       -0.015807  0.394082  \n",
       "power_class            0.247117            0.067659        0.224256 -0.346417  \n",
       "power                 -0.336165           -0.044036       -0.402834  0.486138  \n",
       "model_label            0.450165           -0.240547        0.024970 -0.030886  \n",
       "kilometer             -0.048266            0.003014       -0.004082 -0.365540  \n",
       "brand_label            1.000000           -0.086899        0.099216 -0.106647  \n",
       "vehicle_type_label    -0.086899            1.000000        0.011480 -0.089837  \n",
       "gearbox_manual         0.099216            0.011480        1.000000 -0.238882  \n",
       "price                 -0.106647           -0.089837       -0.238882  1.000000  "
      ]
     },
     "execution_count": 66,
     "metadata": {},
     "output_type": "execute_result"
    }
   ],
   "source": [
    "(df[features_correlation + ['price']]).corr()"
   ]
  },
  {
   "cell_type": "markdown",
   "metadata": {},
   "source": [
    "Влияние всех признаков можно разделить на три группы: те, которые оказывают примерно одинаковое незначительное влияние (модель, тип кузова) на цену, и те, от которых в большей степени определяется цена (мощность двигателя - выше мощность, выше цена; тип топлива - чем ниже маркировка класса, тем технологичнее и экономичнее автомобиль, соответственно цена будет выше; пробег и дата регистрации показывают подержанность автомобиля, чем новее - тем дороже). Поломки автомобиля и брэнд где-то посередине (но не все честно указывают факт ремонта авто, это нужно учитывать).\n",
    "\n",
    "Мультиколлинеарности признаков между собой нет, кроме искусстввенно созданной класс мощности и самой мощности автомобиля.\n"
   ]
  },
  {
   "cell_type": "markdown",
   "metadata": {},
   "source": [
    "### **Выводы**\n",
    "\n",
    "Каждый объект в наборе данных — данные об уникальном автомобиле. Часть колонок описывает общие параметры пользовалеля. Остальные данные рассказывают о технических характеристиках транспорта (основные признаки, ради которых создается приложение).\n",
    "В ходе подготовки данных выли почищены аномалии, пропуски, дубликаты, данные переведены в удобный формат для анализа и обучения, были сделаны некоторые выводы на основании статистики:\n",
    "- преобладают с ручной коробкой передач и с бензиновым двигателем средней мощности (от 100 до 160 л.с.);\n",
    "- не после ремонта (по крайней мере так люди ставят в анкетах);\n",
    "- самой распространенной маркой автомобиля является volkswagen;\n",
    "- чаще на сайте можно встретить транспорт примерно 1999-2007 годов выпуска.\n",
    "\n",
    "Также рекомендуется \n",
    "- добавить в сервис систему-подсказку автоопределения брэнда, класса мощности;\n",
    "- при заполнении анкеты поставить обязательными пункты полей: мощность, модель, пробег и другие с фукнцией автопроверки \"на дурака\", чтобы исключить нереалистичные характеристики в силу человеческого фактора. "
   ]
  },
  {
   "cell_type": "markdown",
   "metadata": {},
   "source": [
    "<a id='data_split'></a>"
   ]
  },
  {
   "cell_type": "markdown",
   "metadata": {},
   "source": [
    "## **II. Сплит данных на выборки**"
   ]
  },
  {
   "cell_type": "markdown",
   "metadata": {
    "tags": []
   },
   "source": [
    "### 1. Разделение"
   ]
  },
  {
   "cell_type": "markdown",
   "metadata": {},
   "source": [
    "Предоставленные данные представляют собой один единый датафрейм, разделения на обучающую, тестовую и валидационную выборки у нас сейчас нет. Поэтому выполним это сейчас с помощью алгоритма `train_test_split` в соотношении 3:1:1."
   ]
  },
  {
   "cell_type": "markdown",
   "metadata": {},
   "source": [
    "Введем переменную с признаками и с целевым признаком по всему датафрейму"
   ]
  },
  {
   "cell_type": "code",
   "execution_count": 67,
   "metadata": {},
   "outputs": [],
   "source": [
    "features = df.drop(['price'], axis=1)\n",
    "target = df['price']"
   ]
  },
  {
   "cell_type": "markdown",
   "metadata": {},
   "source": [
    "Сначала отделим тестовую выборку от тренировочной, которая будет составлять 20% от всех исходных данных, остаток будет обучающая+валидационная. Тестовую будем использовать для оценки эффективности полностью обученного классификатора."
   ]
  },
  {
   "cell_type": "code",
   "execution_count": 68,
   "metadata": {},
   "outputs": [],
   "source": [
    "features, features_test, target, target_test = train_test_split(features, target, test_size=.2, random_state=12345)"
   ]
  },
  {
   "cell_type": "markdown",
   "metadata": {},
   "source": [
    "Далее уже разделим на обучающую и валидационную с частью 25%. На обучающей будем выборке будем обучать нашу модель с подгоном параметров. Валидационную будем использовать для настройки параметров классификатора."
   ]
  },
  {
   "cell_type": "code",
   "execution_count": 69,
   "metadata": {},
   "outputs": [],
   "source": [
    "features_train, features_valid, target_train, target_valid = train_test_split(features, target, test_size=.25, random_state=12345)"
   ]
  },
  {
   "cell_type": "markdown",
   "metadata": {},
   "source": [
    "Посмотрим на размеры получившихся выборок:"
   ]
  },
  {
   "cell_type": "code",
   "execution_count": 70,
   "metadata": {},
   "outputs": [],
   "source": [
    "# добавим все выборки в словарь\n",
    "arrays = {\n",
    "    'обучающая' : features_train,\n",
    "    'валидационная' : features_valid,\n",
    "    'тестовая' : features_test}"
   ]
  },
  {
   "cell_type": "code",
   "execution_count": 71,
   "metadata": {
    "tags": []
   },
   "outputs": [
    {
     "name": "stdout",
     "output_type": "stream",
     "text": [
      "\u001b[4m\u001b[1m\u001b[31mобучающая выборка\u001b[0m содержит объектов: 200346 (60.0%)\n",
      "\u001b[4m\u001b[1m\u001b[31mвалидационная выборка\u001b[0m содержит объектов: 66782 (20.0%)\n",
      "\u001b[4m\u001b[1m\u001b[31mтестовая выборка\u001b[0m содержит объектов: 66783 (20.0%)\n"
     ]
    }
   ],
   "source": [
    "# выведем количество содержащихся объектов\n",
    "for array_name, array in arrays.items():\n",
    "    print(\"\\033[4m\\033[1m\\033[31m{}\\033[0m содержит объектов:\".format(f'{array_name} выборка'), array.shape[0], f'({array.shape[0]/df.shape[0]:.1%})')"
   ]
  },
  {
   "cell_type": "markdown",
   "metadata": {},
   "source": [
    "### 2. Масштабирование"
   ]
  },
  {
   "cell_type": "markdown",
   "metadata": {},
   "source": [
    "Из вышеописанного обзора данных видно, что помимо категориальных признаков есть и те, которые имеют различный масштаб, что негативно скажется на качестве наших моделей. Стандартизируем их:\n",
    "* год регистрации\n",
    "* мощность\n",
    "* киллометраж"
   ]
  },
  {
   "cell_type": "code",
   "execution_count": 72,
   "metadata": {},
   "outputs": [],
   "source": [
    "numeric = ['registration_year', 'power', 'kilometer']"
   ]
  },
  {
   "cell_type": "markdown",
   "metadata": {},
   "source": [
    "Создадим объект масштабирования, скормим ему тренировочную выборку количественных признаков для определения и преобразуем обучающую и валидационную выборки функцией `transform()`"
   ]
  },
  {
   "cell_type": "code",
   "execution_count": 73,
   "metadata": {},
   "outputs": [],
   "source": [
    "scaler = StandardScaler()\n",
    "scaler.fit(features_train[numeric]) \n",
    "\n",
    "features_train[numeric] = scaler.transform(features_train[numeric])\n",
    "features_valid[numeric] = scaler.transform(features_valid[numeric])\n",
    "features_test[numeric] = scaler.transform(features_test[numeric])"
   ]
  },
  {
   "cell_type": "markdown",
   "metadata": {},
   "source": [
    "<a id='data_split_summary'></a>"
   ]
  },
  {
   "cell_type": "markdown",
   "metadata": {},
   "source": [
    "### Выводы"
   ]
  },
  {
   "cell_type": "markdown",
   "metadata": {},
   "source": [
    "Получили равные выборки в отношении 3:1:1, которые будем использовать уже для создания наших моделей. Признаки смасштабированы. Будем использовать модели через регрессию. "
   ]
  },
  {
   "cell_type": "code",
   "execution_count": 80,
   "metadata": {},
   "outputs": [
    {
     "data": {
      "text/plain": [
       "<AxesSubplot:>"
      ]
     },
     "execution_count": 80,
     "metadata": {},
     "output_type": "execute_result"
    },
    {
     "data": {
      "image/png": "[encoded data removed]",
      "text/plain": [
       "<Figure size 640x480 with 1 Axes>"
      ]
     },
     "metadata": {},
     "output_type": "display_data"
    }
   ],
   "source": [
    "features_train['vehicle_type_label'].hist(bins=10)"
   ]
  },
  {
   "cell_type": "markdown",
   "metadata": {},
   "source": [
    "<a id='model_initialisation'></a>"
   ]
  },
  {
   "cell_type": "markdown",
   "metadata": {},
   "source": [
    "## **III. Построение моделей**"
   ]
  },
  {
   "cell_type": "markdown",
   "metadata": {},
   "source": [
    "<a id='1st_model'></a>"
   ]
  },
  {
   "cell_type": "markdown",
   "metadata": {},
   "source": [
    "### 1. Модель «Случайный лес»"
   ]
  },
  {
   "cell_type": "markdown",
   "metadata": {},
   "source": [
    "С помощью алгоритма «Случайный лес регрессии» и поддбора гиперпараметров через Hyperopt построим серию моделей и выберем лучшие параметры на валидационной выборке."
   ]
  },
  {
   "cell_type": "code",
   "execution_count": 137,
   "metadata": {},
   "outputs": [],
   "source": [
    "space = {'max_depth': hp.quniform('max_depth', 3, 60, 2),\n",
    "        'min_samples_split' : hp.uniform ('min_samples_split', 0, 1),\n",
    "        'n_estimators' : hp.choice ('n_estimators', range(1, 20))\n",
    "    }\n",
    "\n",
    "def best_par_hyperopt(features_train, target_train,features_valid, target_valid):\n",
    "    \n",
    "    def objective(space):\n",
    "        \n",
    "        model_opt = RandomForestRegressor(random_state=12345, \n",
    "                                      max_depth = space['max_depth'], \n",
    "                                      min_samples_split = space['min_samples_split'],\n",
    "                                      n_estimators = space['n_estimators']\n",
    "                                     )\n",
    "    \n",
    "        model_opt.fit(features_train, target_train)\n",
    "        predictions = model_opt.predict(features_valid)\n",
    "    \n",
    "        rmse = round(mean_squared_error(target_valid, predictions) ** .5, 2)\n",
    "\n",
    "        return {'loss': rmse, 'status': STATUS_OK }\n",
    "    \n",
    "    trials = Trials()\n",
    "    best = fmin(fn= objective,\n",
    "            space= space,\n",
    "            algo= tpe.suggest,\n",
    "            max_evals = 100,\n",
    "            trials= trials,\n",
    "            show_progressbar=True)\n",
    "    \n",
    "    print(best)\n",
    "\n",
    "    # засекаем время на обучение лучшей модели\n",
    "    start_time = time.time()\n",
    "    \n",
    "    best_model = (RandomForestRegressor(random_state=12345, \n",
    "                                        max_depth = best['max_depth'], \n",
    "                                        min_samples_split = best['min_samples_split'],\n",
    "                                        n_estimators = best['n_estimators']\n",
    "                                       )\n",
    "                  .fit(features_train, target_train))\n",
    "\n",
    "    predictions = best_model.predict(features_valid)\n",
    "    rmse_best = round(mean_squared_error(target_valid, predictions) ** .5, 2)\n",
    "    model_time = round((time.time() - start_time), 5)\n",
    "    \n",
    "    print(f'Время выполнения обучения c с лучшими параметрами составляет {model_time:.3f} секунд')\n",
    "    \n",
    "    return best, predictions, model_time, rmse_best, best_model"
   ]
  },
  {
   "cell_type": "code",
   "execution_count": 136,
   "metadata": {},
   "outputs": [
    {
     "name": "stdout",
     "output_type": "stream",
     "text": [
      "100%|█████████████████████████████████████████████████████████| 100/100 [01:16<00:00,  1.31trial/s, best loss: 1773.52]\n",
      "{'max_depth': 60.0, 'min_samples_split': 6.516249862531086e-05, 'n_estimators': 11}\n",
      "Время выполнения обучения c с лучшими параметрами составляет 3.301 секунд\n",
      "1776.29\n"
     ]
    }
   ],
   "source": [
    "best_forest_param, predictions_forest, best_forest_time, best_forest_rmse, best_forest_model = best_par_hyperopt(features_train, target_train, \n",
    "                                        features_valid, target_valid)"
   ]
  },
  {
   "cell_type": "markdown",
   "metadata": {},
   "source": [
    "<a id='3d_model'></a>"
   ]
  },
  {
   "cell_type": "markdown",
   "metadata": {},
   "source": [
    "### 2. Модель «Линейная регрессия»"
   ]
  },
  {
   "cell_type": "markdown",
   "metadata": {},
   "source": [
    "Последним алгоритмом классификатора является «Логистическая регрессия», который сравнивает к какому тарифу ближе объект/клиент (например, основываясь на большей важности возраста нежели наличие кредитной карты) и в зависимости ответа выбирает возможных исход."
   ]
  },
  {
   "cell_type": "code",
   "execution_count": 77,
   "metadata": {
    "scrolled": true,
    "tags": []
   },
   "outputs": [
    {
     "name": "stdout",
     "output_type": "stream",
     "text": [
      "\u001b[4m\u001b[1m\u001b[31mСредняя ошибка RMSE равна:\u001b[0m 3127.77\n",
      "\u001b[4m\u001b[1m\u001b[31mВремя обучения равно:\u001b[0m 0.30028 секунд\n"
     ]
    }
   ],
   "source": [
    "start_time = time.time()\n",
    "\n",
    "model_LR = LinearRegression()\n",
    "model_LR.fit(features_train, target_train)\n",
    "predictions_LR = model_LR.predict(features_valid)\n",
    "\n",
    "model_LR_time = round((time.time() - start_time), 5)\n",
    "\n",
    "rmse_LR = round(mean_squared_error(target_valid, predictions_LR) ** .5, 2)\n",
    "\n",
    "print(\"\\033[4m\\033[1m\\033[31m{}\\033[0m {}\".format('Средняя ошибка RMSE равна:', f'{rmse_LR:.2f}'))\n",
    "\n",
    "print(\"\\033[4m\\033[1m\\033[31m{}\\033[0m {}\".format('Время обучения равно:', f'{model_LR_time:.5f} секунд'))"
   ]
  },
  {
   "cell_type": "markdown",
   "metadata": {},
   "source": [
    "Самые низкие показатели качества"
   ]
  },
  {
   "cell_type": "markdown",
   "metadata": {},
   "source": [
    "### 3. **Модель XGBoost**"
   ]
  },
  {
   "cell_type": "code",
   "execution_count": 139,
   "metadata": {},
   "outputs": [],
   "source": [
    "space = {'max_depth': hp.choice ('max_depth', range(10, 60)),\n",
    "        'n_estimators' : hp.choice ('n_estimators', range(2, 100, 2)),\n",
    "        'learning_rate' : hp.uniform ('learning_rate', 0, 1)\n",
    "    }\n",
    "\n",
    "def best_par_hyperopt(features_train, target_train,features_valid, target_valid):\n",
    "    \n",
    "    def objective(space):\n",
    "        \n",
    "        model_opt = xgb.XGBRegressor(random_state=12345, \n",
    "                                      max_depth = space['max_depth'], \n",
    "                                      n_estimators = space['n_estimators'],\n",
    "                                      objective='reg:gamma',\n",
    "                                      learning_rate=space['learning_rate']\n",
    "                                     )\n",
    "    \n",
    "        model_opt.fit(features_train, target_train)\n",
    "        predictions = model_opt.predict(features_valid)\n",
    "    \n",
    "        rmse = round(mean_squared_error(target_valid, predictions) ** .5, 2)\n",
    "\n",
    "        return {'loss': rmse, 'status': STATUS_OK }\n",
    "    \n",
    "    trials = Trials()\n",
    "    best = fmin(fn= objective,\n",
    "            space= space,\n",
    "            algo= tpe.suggest,\n",
    "            max_evals = 100,\n",
    "            trials= trials,\n",
    "            show_progressbar=True)\n",
    "    \n",
    "    print(best)\n",
    "\n",
    "    # засекаем время на обучение лучшей модели\n",
    "    start_time = time.time()\n",
    "    \n",
    "    best_model = (xgb.XGBRegressor(random_state=12345, \n",
    "                                        max_depth = best['max_depth'], \n",
    "                                        n_estimators = best['n_estimators'],\n",
    "                                        objective='reg:gamma',\n",
    "                                        learning_rate = best['learning_rate']\n",
    "                                       )\n",
    "                  .fit(features_train, target_train))\n",
    "\n",
    "    predictions = best_model.predict(features_valid)\n",
    "    rmse_best = round(mean_squared_error(target_valid, predictions) ** .5, 2)\n",
    "    model_time = round((time.time() - start_time), 5)\n",
    "    \n",
    "    print(f'Время выполнения обучения c с лучшими параметрами составляет {model_time:.3f} секунд')\n",
    "    \n",
    "    return best, predictions, model_time, rmse_best, best_model"
   ]
  },
  {
   "cell_type": "code",
   "execution_count": 140,
   "metadata": {},
   "outputs": [
    {
     "name": "stdout",
     "output_type": "stream",
     "text": [
      "100%|█████████████████████████████████████████████████████████| 100/100 [12:35<00:00,  7.56s/trial, best loss: 1760.77]\n",
      "{'learning_rate': 0.42140875777781445, 'max_depth': 0, 'n_estimators': 47}\n"
     ]
    },
    {
     "ename": "XGBoostError",
     "evalue": "[23:17:48] C:/Users/Administrator/workspace/xgboost-win64_release_1.6.0/src/tree/updater_colmaker.cc:178: Check failed: param_.max_depth > 0 (0 vs. 0) : exact tree method doesn't support unlimited depth.",
     "output_type": "error",
     "traceback": [
      "\u001b[1;31m---------------------------------------------------------------------------\u001b[0m",
      "\u001b[1;31mXGBoostError\u001b[0m                              Traceback (most recent call last)",
      "\u001b[1;32m~\\AppData\\Local\\Temp\\ipykernel_29060\\176098833.py\u001b[0m in \u001b[0;36m<module>\u001b[1;34m\u001b[0m\n\u001b[0;32m      1\u001b[0m best_XGB_param, predictions_XGB, best_XGB_time, best_XGB_rmse, best_XGB_model = best_par_hyperopt(features_train, target_train, \n\u001b[1;32m----> 2\u001b[1;33m                                         features_valid, target_valid)\n\u001b[0m",
      "\u001b[1;32m~\\AppData\\Local\\Temp\\ipykernel_29060\\864957099.py\u001b[0m in \u001b[0;36mbest_par_hyperopt\u001b[1;34m(features_train, target_train, features_valid, target_valid)\u001b[0m\n\u001b[0;32m     41\u001b[0m                                         \u001b[0mlearning_rate\u001b[0m \u001b[1;33m=\u001b[0m \u001b[0mbest\u001b[0m\u001b[1;33m[\u001b[0m\u001b[1;34m'learning_rate'\u001b[0m\u001b[1;33m]\u001b[0m\u001b[1;33m\u001b[0m\u001b[1;33m\u001b[0m\u001b[0m\n\u001b[0;32m     42\u001b[0m                                        )\n\u001b[1;32m---> 43\u001b[1;33m                   .fit(features_train, target_train))\n\u001b[0m\u001b[0;32m     44\u001b[0m \u001b[1;33m\u001b[0m\u001b[0m\n\u001b[0;32m     45\u001b[0m     \u001b[0mpredictions\u001b[0m \u001b[1;33m=\u001b[0m \u001b[0mbest_model\u001b[0m\u001b[1;33m.\u001b[0m\u001b[0mpredict\u001b[0m\u001b[1;33m(\u001b[0m\u001b[0mfeatures_valid\u001b[0m\u001b[1;33m)\u001b[0m\u001b[1;33m\u001b[0m\u001b[1;33m\u001b[0m\u001b[0m\n",
      "\u001b[1;32mD:\\Programs\\Anaconda\\envs\\praktikum_new\\lib\\site-packages\\xgboost\\core.py\u001b[0m in \u001b[0;36minner_f\u001b[1;34m(*args, **kwargs)\u001b[0m\n\u001b[0;32m    530\u001b[0m         \u001b[1;32mfor\u001b[0m \u001b[0mk\u001b[0m\u001b[1;33m,\u001b[0m \u001b[0marg\u001b[0m \u001b[1;32min\u001b[0m \u001b[0mzip\u001b[0m\u001b[1;33m(\u001b[0m\u001b[0msig\u001b[0m\u001b[1;33m.\u001b[0m\u001b[0mparameters\u001b[0m\u001b[1;33m,\u001b[0m \u001b[0margs\u001b[0m\u001b[1;33m)\u001b[0m\u001b[1;33m:\u001b[0m\u001b[1;33m\u001b[0m\u001b[1;33m\u001b[0m\u001b[0m\n\u001b[0;32m    531\u001b[0m             \u001b[0mkwargs\u001b[0m\u001b[1;33m[\u001b[0m\u001b[0mk\u001b[0m\u001b[1;33m]\u001b[0m \u001b[1;33m=\u001b[0m \u001b[0marg\u001b[0m\u001b[1;33m\u001b[0m\u001b[1;33m\u001b[0m\u001b[0m\n\u001b[1;32m--> 532\u001b[1;33m         \u001b[1;32mreturn\u001b[0m \u001b[0mf\u001b[0m\u001b[1;33m(\u001b[0m\u001b[1;33m**\u001b[0m\u001b[0mkwargs\u001b[0m\u001b[1;33m)\u001b[0m\u001b[1;33m\u001b[0m\u001b[1;33m\u001b[0m\u001b[0m\n\u001b[0m\u001b[0;32m    533\u001b[0m \u001b[1;33m\u001b[0m\u001b[0m\n\u001b[0;32m    534\u001b[0m     \u001b[1;32mreturn\u001b[0m \u001b[0minner_f\u001b[0m\u001b[1;33m\u001b[0m\u001b[1;33m\u001b[0m\u001b[0m\n",
      "\u001b[1;32mD:\\Programs\\Anaconda\\envs\\praktikum_new\\lib\\site-packages\\xgboost\\sklearn.py\u001b[0m in \u001b[0;36mfit\u001b[1;34m(self, X, y, sample_weight, base_margin, eval_set, eval_metric, early_stopping_rounds, verbose, xgb_model, sample_weight_eval_set, base_margin_eval_set, feature_weights, callbacks)\u001b[0m\n\u001b[0;32m    970\u001b[0m             \u001b[0mverbose_eval\u001b[0m\u001b[1;33m=\u001b[0m\u001b[0mverbose\u001b[0m\u001b[1;33m,\u001b[0m\u001b[1;33m\u001b[0m\u001b[1;33m\u001b[0m\u001b[0m\n\u001b[0;32m    971\u001b[0m             \u001b[0mxgb_model\u001b[0m\u001b[1;33m=\u001b[0m\u001b[0mmodel\u001b[0m\u001b[1;33m,\u001b[0m\u001b[1;33m\u001b[0m\u001b[1;33m\u001b[0m\u001b[0m\n\u001b[1;32m--> 972\u001b[1;33m             \u001b[0mcallbacks\u001b[0m\u001b[1;33m=\u001b[0m\u001b[0mcallbacks\u001b[0m\u001b[1;33m,\u001b[0m\u001b[1;33m\u001b[0m\u001b[1;33m\u001b[0m\u001b[0m\n\u001b[0m\u001b[0;32m    973\u001b[0m         )\n\u001b[0;32m    974\u001b[0m \u001b[1;33m\u001b[0m\u001b[0m\n",
      "\u001b[1;32mD:\\Programs\\Anaconda\\envs\\praktikum_new\\lib\\site-packages\\xgboost\\core.py\u001b[0m in \u001b[0;36minner_f\u001b[1;34m(*args, **kwargs)\u001b[0m\n\u001b[0;32m    530\u001b[0m         \u001b[1;32mfor\u001b[0m \u001b[0mk\u001b[0m\u001b[1;33m,\u001b[0m \u001b[0marg\u001b[0m \u001b[1;32min\u001b[0m \u001b[0mzip\u001b[0m\u001b[1;33m(\u001b[0m\u001b[0msig\u001b[0m\u001b[1;33m.\u001b[0m\u001b[0mparameters\u001b[0m\u001b[1;33m,\u001b[0m \u001b[0margs\u001b[0m\u001b[1;33m)\u001b[0m\u001b[1;33m:\u001b[0m\u001b[1;33m\u001b[0m\u001b[1;33m\u001b[0m\u001b[0m\n\u001b[0;32m    531\u001b[0m             \u001b[0mkwargs\u001b[0m\u001b[1;33m[\u001b[0m\u001b[0mk\u001b[0m\u001b[1;33m]\u001b[0m \u001b[1;33m=\u001b[0m \u001b[0marg\u001b[0m\u001b[1;33m\u001b[0m\u001b[1;33m\u001b[0m\u001b[0m\n\u001b[1;32m--> 532\u001b[1;33m         \u001b[1;32mreturn\u001b[0m \u001b[0mf\u001b[0m\u001b[1;33m(\u001b[0m\u001b[1;33m**\u001b[0m\u001b[0mkwargs\u001b[0m\u001b[1;33m)\u001b[0m\u001b[1;33m\u001b[0m\u001b[1;33m\u001b[0m\u001b[0m\n\u001b[0m\u001b[0;32m    533\u001b[0m \u001b[1;33m\u001b[0m\u001b[0m\n\u001b[0;32m    534\u001b[0m     \u001b[1;32mreturn\u001b[0m \u001b[0minner_f\u001b[0m\u001b[1;33m\u001b[0m\u001b[1;33m\u001b[0m\u001b[0m\n",
      "\u001b[1;32mD:\\Programs\\Anaconda\\envs\\praktikum_new\\lib\\site-packages\\xgboost\\training.py\u001b[0m in \u001b[0;36mtrain\u001b[1;34m(params, dtrain, num_boost_round, evals, obj, feval, maximize, early_stopping_rounds, evals_result, verbose_eval, xgb_model, callbacks, custom_metric)\u001b[0m\n\u001b[0;32m    179\u001b[0m         \u001b[1;32mif\u001b[0m \u001b[0mcb_container\u001b[0m\u001b[1;33m.\u001b[0m\u001b[0mbefore_iteration\u001b[0m\u001b[1;33m(\u001b[0m\u001b[0mbst\u001b[0m\u001b[1;33m,\u001b[0m \u001b[0mi\u001b[0m\u001b[1;33m,\u001b[0m \u001b[0mdtrain\u001b[0m\u001b[1;33m,\u001b[0m \u001b[0mevals\u001b[0m\u001b[1;33m)\u001b[0m\u001b[1;33m:\u001b[0m\u001b[1;33m\u001b[0m\u001b[1;33m\u001b[0m\u001b[0m\n\u001b[0;32m    180\u001b[0m             \u001b[1;32mbreak\u001b[0m\u001b[1;33m\u001b[0m\u001b[1;33m\u001b[0m\u001b[0m\n\u001b[1;32m--> 181\u001b[1;33m         \u001b[0mbst\u001b[0m\u001b[1;33m.\u001b[0m\u001b[0mupdate\u001b[0m\u001b[1;33m(\u001b[0m\u001b[0mdtrain\u001b[0m\u001b[1;33m,\u001b[0m \u001b[0mi\u001b[0m\u001b[1;33m,\u001b[0m \u001b[0mobj\u001b[0m\u001b[1;33m)\u001b[0m\u001b[1;33m\u001b[0m\u001b[1;33m\u001b[0m\u001b[0m\n\u001b[0m\u001b[0;32m    182\u001b[0m         \u001b[1;32mif\u001b[0m \u001b[0mcb_container\u001b[0m\u001b[1;33m.\u001b[0m\u001b[0mafter_iteration\u001b[0m\u001b[1;33m(\u001b[0m\u001b[0mbst\u001b[0m\u001b[1;33m,\u001b[0m \u001b[0mi\u001b[0m\u001b[1;33m,\u001b[0m \u001b[0mdtrain\u001b[0m\u001b[1;33m,\u001b[0m \u001b[0mevals\u001b[0m\u001b[1;33m)\u001b[0m\u001b[1;33m:\u001b[0m\u001b[1;33m\u001b[0m\u001b[1;33m\u001b[0m\u001b[0m\n\u001b[0;32m    183\u001b[0m             \u001b[1;32mbreak\u001b[0m\u001b[1;33m\u001b[0m\u001b[1;33m\u001b[0m\u001b[0m\n",
      "\u001b[1;32mD:\\Programs\\Anaconda\\envs\\praktikum_new\\lib\\site-packages\\xgboost\\core.py\u001b[0m in \u001b[0;36mupdate\u001b[1;34m(self, dtrain, iteration, fobj)\u001b[0m\n\u001b[0;32m   1733\u001b[0m             _check_call(_LIB.XGBoosterUpdateOneIter(self.handle,\n\u001b[0;32m   1734\u001b[0m                                                     \u001b[0mctypes\u001b[0m\u001b[1;33m.\u001b[0m\u001b[0mc_int\u001b[0m\u001b[1;33m(\u001b[0m\u001b[0miteration\u001b[0m\u001b[1;33m)\u001b[0m\u001b[1;33m,\u001b[0m\u001b[1;33m\u001b[0m\u001b[1;33m\u001b[0m\u001b[0m\n\u001b[1;32m-> 1735\u001b[1;33m                                                     dtrain.handle))\n\u001b[0m\u001b[0;32m   1736\u001b[0m         \u001b[1;32melse\u001b[0m\u001b[1;33m:\u001b[0m\u001b[1;33m\u001b[0m\u001b[1;33m\u001b[0m\u001b[0m\n\u001b[0;32m   1737\u001b[0m             \u001b[0mpred\u001b[0m \u001b[1;33m=\u001b[0m \u001b[0mself\u001b[0m\u001b[1;33m.\u001b[0m\u001b[0mpredict\u001b[0m\u001b[1;33m(\u001b[0m\u001b[0mdtrain\u001b[0m\u001b[1;33m,\u001b[0m \u001b[0moutput_margin\u001b[0m\u001b[1;33m=\u001b[0m\u001b[1;32mTrue\u001b[0m\u001b[1;33m,\u001b[0m \u001b[0mtraining\u001b[0m\u001b[1;33m=\u001b[0m\u001b[1;32mTrue\u001b[0m\u001b[1;33m)\u001b[0m\u001b[1;33m\u001b[0m\u001b[1;33m\u001b[0m\u001b[0m\n",
      "\u001b[1;32mD:\\Programs\\Anaconda\\envs\\praktikum_new\\lib\\site-packages\\xgboost\\core.py\u001b[0m in \u001b[0;36m_check_call\u001b[1;34m(ret)\u001b[0m\n\u001b[0;32m    201\u001b[0m     \"\"\"\n\u001b[0;32m    202\u001b[0m     \u001b[1;32mif\u001b[0m \u001b[0mret\u001b[0m \u001b[1;33m!=\u001b[0m \u001b[1;36m0\u001b[0m\u001b[1;33m:\u001b[0m\u001b[1;33m\u001b[0m\u001b[1;33m\u001b[0m\u001b[0m\n\u001b[1;32m--> 203\u001b[1;33m         \u001b[1;32mraise\u001b[0m \u001b[0mXGBoostError\u001b[0m\u001b[1;33m(\u001b[0m\u001b[0mpy_str\u001b[0m\u001b[1;33m(\u001b[0m\u001b[0m_LIB\u001b[0m\u001b[1;33m.\u001b[0m\u001b[0mXGBGetLastError\u001b[0m\u001b[1;33m(\u001b[0m\u001b[1;33m)\u001b[0m\u001b[1;33m)\u001b[0m\u001b[1;33m)\u001b[0m\u001b[1;33m\u001b[0m\u001b[1;33m\u001b[0m\u001b[0m\n\u001b[0m\u001b[0;32m    204\u001b[0m \u001b[1;33m\u001b[0m\u001b[0m\n\u001b[0;32m    205\u001b[0m \u001b[1;33m\u001b[0m\u001b[0m\n",
      "\u001b[1;31mXGBoostError\u001b[0m: [23:17:48] C:/Users/Administrator/workspace/xgboost-win64_release_1.6.0/src/tree/updater_colmaker.cc:178: Check failed: param_.max_depth > 0 (0 vs. 0) : exact tree method doesn't support unlimited depth."
     ]
    }
   ],
   "source": [
    "best_XGB_param, predictions_XGB, best_XGB_time, best_XGB_rmse, best_XGB_model = best_par_hyperopt(features_train, target_train, \n",
    "                                        features_valid, target_valid)"
   ]
  },
  {
   "cell_type": "code",
   "execution_count": 153,
   "metadata": {},
   "outputs": [
    {
     "data": {
      "text/plain": [
       "{'learning_rate': 0.5306226779527754, 'max_depth': 2, 'n_estimators': 40}"
      ]
     },
     "execution_count": 153,
     "metadata": {},
     "output_type": "execute_result"
    }
   ],
   "source": [
    "best_XGB_param"
   ]
  },
  {
   "cell_type": "code",
   "execution_count": 174,
   "metadata": {},
   "outputs": [
    {
     "data": {
      "text/plain": [
       "1758.09"
      ]
     },
     "execution_count": 174,
     "metadata": {},
     "output_type": "execute_result"
    }
   ],
   "source": [
    "best_XGB_param_temp = {'learning_rate': 0.42140875777781445, 'max_depth': 13, 'n_estimators': 47}\n",
    "\n",
    "start_time = time.time()\n",
    "best_XGB_model_temp = (xgb.XGBRegressor(random_state=12345, \n",
    "                                        max_depth = 13, \n",
    "                                        n_estimators = 47,\n",
    "                                        objective='reg:gamma',\n",
    "                                        learning_rate = 0.42140875777781445\n",
    "                                       )\n",
    "                   .fit(features_train, target_train))\n",
    "\n",
    "predictions_temp = best_XGB_model_temp.predict(features_valid)\n",
    "best_XGB_rmse_temp = round(mean_squared_error(target_valid, predictions_temp) ** .5, 2)\n",
    "best_XGB_time_temp = round((time.time() - start_time), 5)\n",
    "\n",
    "rmse_best_temp"
   ]
  },
  {
   "cell_type": "markdown",
   "metadata": {},
   "source": [
    "Лучший показатель RMSE: 1758 - при 'learning_rate': 0.42140875777781445, 'max_depth': 13, 'n_estimators': 47"
   ]
  },
  {
   "cell_type": "markdown",
   "metadata": {},
   "source": [
    "### 4. **Модель CatBoostRegressor**"
   ]
  },
  {
   "cell_type": "code",
   "execution_count": 122,
   "metadata": {},
   "outputs": [],
   "source": [
    "space = {'depth': hp.choice ('depth', range(2, 10)),\n",
    "        #'l2_leaf_reg' : hp.choice ('l2_leaf_reg', [1, 3, 5, 7, 9]),\n",
    "        'learning_rate' : hp.uniform ('learning_rate', 0.1, 0.2)\n",
    "    }\n",
    "\n",
    "def best_par_hyperopt(features_train, target_train,features_valid, target_valid):\n",
    "    \n",
    "    def objective(space):\n",
    "        \n",
    "        model_opt = CatBoostRegressor(loss_function='RMSE',\n",
    "                                      depth = space['depth'], \n",
    "                                      #l2_leaf_reg = space['l2_leaf_reg'],\n",
    "                                      learning_rate = space['learning_rate']\n",
    "                                     )\n",
    "    \n",
    "        model_opt.fit(features_train, target_train, verbose=False)\n",
    "        predictions = model_opt.predict(features_valid)\n",
    "    \n",
    "        rmse = round(mean_squared_error(target_valid, predictions) ** .5, 2)\n",
    "\n",
    "        return {'loss': rmse, 'status': STATUS_OK }\n",
    "    \n",
    "    trials = Trials()\n",
    "    best = fmin(fn= objective,\n",
    "            space= space,\n",
    "            algo= tpe.suggest,\n",
    "            max_evals = 100,\n",
    "            trials= trials,\n",
    "            show_progressbar=True)\n",
    "    \n",
    "    print(best)\n",
    "\n",
    "    # засекаем время на обучение лучшей модели\n",
    "    start_time = time.time()\n",
    "    \n",
    "    best_model = (CatBoostRegressor(loss_function='RMSE',\n",
    "                                    depth = best['depth'], \n",
    "                                    #l2_leaf_reg = best['l2_leaf_reg'],\n",
    "                                    learning_rate = best['learning_rate']\n",
    "                                   )\n",
    "                  .fit(features_train, target_train, verbose=False))\n",
    "\n",
    "    predictions = best_model.predict(features_valid)\n",
    "    rmse_best = round(mean_squared_error(target_valid, predictions) ** .5, 2)\n",
    "    model_time = round((time.time() - start_time), 5)\n",
    "    \n",
    "    print(f'Время выполнения обучения c с лучшими параметрами составляет {model_time:.3f} секунд')\n",
    "    \n",
    "    return best, predictions, model_time, rmse_best, best_model"
   ]
  },
  {
   "cell_type": "code",
   "execution_count": 123,
   "metadata": {},
   "outputs": [
    {
     "name": "stdout",
     "output_type": "stream",
     "text": [
      "100%|█████████████████████████████████████████████████████████| 100/100 [19:33<00:00, 11.74s/trial, best loss: 1708.73]\n",
      "{'depth': 7, 'learning_rate': 0.1992489181671303}\n",
      "Время выполнения обучения c с лучшими параметрами составляет 11.635 секунд\n"
     ]
    }
   ],
   "source": [
    "best_cat, predictions_cat, best_cat_time, best_cat_rmse, best_cat_model = best_par_hyperopt(features_train, target_train, \n",
    "                                        features_valid, target_valid)"
   ]
  },
  {
   "cell_type": "markdown",
   "metadata": {},
   "source": [
    "Лучший показатель RMSE: 1708 - при 'depth': 7, 'learning_rate': 0.1992489181671303. 19:33 минут подбора параметров... Кошмар"
   ]
  },
  {
   "cell_type": "markdown",
   "metadata": {},
   "source": [
    "### 5. **Модель LightGBM**"
   ]
  },
  {
   "cell_type": "code",
   "execution_count": 124,
   "metadata": {},
   "outputs": [
    {
     "name": "stdout",
     "output_type": "stream",
     "text": [
      "\n",
      "LGBMRegressor(boosting_type='gbdt', class_weight=None, colsample_bytree=1.0,\n",
      "              importance_type='split', learning_rate=0.1, max_depth=40,\n",
      "              metric='l2', min_child_samples=20, min_child_weight=0.001,\n",
      "              min_split_gain=0.0, n_estimators=90, n_jobs=-1, num_leaves=50,\n",
      "              objective=None, random_state=12345, reg_alpha=0.0, reg_lambda=0.0,\n",
      "              silent='warn', subsample=1.0, subsample_for_bin=200000,\n",
      "              subsample_freq=0)\n",
      "\u001b[4m\u001b[1m\u001b[31mСредняя ошибка RMSE равна:\u001b[0m 4594.69\n",
      "\u001b[4m\u001b[1m\u001b[31mВремя обучения равно:\u001b[0m 1.49212 секунд\n"
     ]
    }
   ],
   "source": [
    "start_time = time.time()\n",
    "\n",
    "model_LtB = LGBMRegressor(random_state = 12345, \n",
    "                          metric = 'l2', \n",
    "                          max_depth = 40, \n",
    "                          learning_rate = 0.1, \n",
    "                          num_leaves = 50,\n",
    "                          n_estimators = 90)\n",
    "\n",
    "model_LtB.fit(features, target)\n",
    "print(); print(model_LtB)\n",
    "\n",
    "expected_y  = target_test\n",
    "predicted_y = model_LtB.predict(features_test)\n",
    "\n",
    "model_LtB_time = round((time.time() - start_time), 5)\n",
    "\n",
    "rmse_LtB = round(mean_squared_error(target_test, predicted_y) ** .5, 2)\n",
    "\n",
    "print(\"\\033[4m\\033[1m\\033[31m{}\\033[0m {}\".format('Средняя ошибка RMSE равна:', f'{rmse_LtB:.2f}'))\n",
    "\n",
    "print(\"\\033[4m\\033[1m\\033[31m{}\\033[0m {}\".format('Время обучения равно:', f'{model_LtB_time:.5f} секунд'))"
   ]
  },
  {
   "cell_type": "markdown",
   "metadata": {},
   "source": [
    "### Выводы"
   ]
  },
  {
   "cell_type": "markdown",
   "metadata": {},
   "source": [
    "Получили следующие данных по лучшим моделям на обучении"
   ]
  },
  {
   "cell_type": "code",
   "execution_count": 179,
   "metadata": {},
   "outputs": [],
   "source": [
    "models_description = [\n",
    "    ['Случайный лес', best_forest_rmse, best_forest_time, best_forest_param],\n",
    "    ['Линейная регрессия', rmse_LR, model_LR_time, np.nan],\n",
    "    ['XGBoost', best_XGB_rmse_temp, best_XGB_time_temp, best_XGB_param_temp],\n",
    "    ['CatBoostRegressor', best_cat_rmse, best_cat_time, best_cat],\n",
    "    ['LightGBM', rmse_LtB, model_LtB_time, np.nan],\n",
    "]\n",
    "\n",
    "columns_models_description = ['Модель', 'Лучшее качество RMSE при обучении', 'Время выполнения оптимального параметра, сек.', 'Лучшие гиперпараметры']"
   ]
  },
  {
   "cell_type": "code",
   "execution_count": 180,
   "metadata": {},
   "outputs": [
    {
     "data": {
      "text/html": [
       "<div>\n",
       "<style scoped>\n",
       "    .dataframe tbody tr th:only-of-type {\n",
       "        vertical-align: middle;\n",
       "    }\n",
       "\n",
       "    .dataframe tbody tr th {\n",
       "        vertical-align: top;\n",
       "    }\n",
       "\n",
       "    .dataframe thead th {\n",
       "        text-align: right;\n",
       "    }\n",
       "</style>\n",
       "<table border=\"1\" class=\"dataframe\">\n",
       "  <thead>\n",
       "    <tr style=\"text-align: right;\">\n",
       "      <th></th>\n",
       "      <th>Модель</th>\n",
       "      <th>Лучшее качество RMSE при обучении</th>\n",
       "      <th>Время выполнения оптимального параметра, сек.</th>\n",
       "      <th>Лучшие гиперпараметры</th>\n",
       "    </tr>\n",
       "  </thead>\n",
       "  <tbody>\n",
       "    <tr>\n",
       "      <th>0</th>\n",
       "      <td>Случайный лес</td>\n",
       "      <td>1776.29</td>\n",
       "      <td>3.30099</td>\n",
       "      <td>{'max_depth': 60.0, 'min_samples_split': 6.516...</td>\n",
       "    </tr>\n",
       "    <tr>\n",
       "      <th>1</th>\n",
       "      <td>Линейная регрессия</td>\n",
       "      <td>3127.77</td>\n",
       "      <td>0.30028</td>\n",
       "      <td>NaN</td>\n",
       "    </tr>\n",
       "    <tr>\n",
       "      <th>2</th>\n",
       "      <td>XGBoost</td>\n",
       "      <td>1758.09</td>\n",
       "      <td>2.90500</td>\n",
       "      <td>{'learning_rate': 0.42140875777781445, 'max_de...</td>\n",
       "    </tr>\n",
       "    <tr>\n",
       "      <th>3</th>\n",
       "      <td>CatBoostRegressor</td>\n",
       "      <td>1736.62</td>\n",
       "      <td>11.63451</td>\n",
       "      <td>{'depth': 7, 'learning_rate': 0.1992489181671303}</td>\n",
       "    </tr>\n",
       "    <tr>\n",
       "      <th>4</th>\n",
       "      <td>LightGBM</td>\n",
       "      <td>4594.69</td>\n",
       "      <td>1.49212</td>\n",
       "      <td>NaN</td>\n",
       "    </tr>\n",
       "  </tbody>\n",
       "</table>\n",
       "</div>"
      ],
      "text/plain": [
       "               Модель  Лучшее качество RMSE при обучении  \\\n",
       "0       Случайный лес                            1776.29   \n",
       "1  Линейная регрессия                            3127.77   \n",
       "2             XGBoost                            1758.09   \n",
       "3   CatBoostRegressor                            1736.62   \n",
       "4            LightGBM                            4594.69   \n",
       "\n",
       "   Время выполнения оптимального параметра, сек.  \\\n",
       "0                                        3.30099   \n",
       "1                                        0.30028   \n",
       "2                                        2.90500   \n",
       "3                                       11.63451   \n",
       "4                                        1.49212   \n",
       "\n",
       "                               Лучшие гиперпараметры  \n",
       "0  {'max_depth': 60.0, 'min_samples_split': 6.516...  \n",
       "1                                                NaN  \n",
       "2  {'learning_rate': 0.42140875777781445, 'max_de...  \n",
       "3  {'depth': 7, 'learning_rate': 0.1992489181671303}  \n",
       "4                                                NaN  "
      ]
     },
     "execution_count": 180,
     "metadata": {},
     "output_type": "execute_result"
    }
   ],
   "source": [
    "models_summary = pd.DataFrame(data=models_description, columns=columns_models_description)\n",
    "models_summary"
   ]
  },
  {
   "cell_type": "markdown",
   "metadata": {},
   "source": [
    "<a id='test_data_check'></a>"
   ]
  },
  {
   "cell_type": "markdown",
   "metadata": {},
   "source": [
    "## V. Проверка моделей на тестовой выборке"
   ]
  },
  {
   "cell_type": "markdown",
   "metadata": {},
   "source": [
    "Проверим наши лучшие модели на тестовой выбоке, чтобы убедиться в их качестве"
   ]
  },
  {
   "cell_type": "code",
   "execution_count": 181,
   "metadata": {},
   "outputs": [],
   "source": [
    "# добавим все лучшие модели в словарь для быстрого доступа к названию и самой модели\n",
    "models = {'Случайный лес' : best_forest_model,\n",
    "          'Линейная регрессия' : model_LR,\n",
    "          'XGBoost' : best_XGB_model_temp,\n",
    "          'CatBoostRegressor' : best_cat_model,\n",
    "          'LightGBM' : model_LtB\n",
    "         }"
   ]
  },
  {
   "cell_type": "code",
   "execution_count": 182,
   "metadata": {
    "scrolled": true
   },
   "outputs": [
    {
     "name": "stdout",
     "output_type": "stream",
     "text": [
      "Тестовая выборка на модели Случайный лес: 1775.28\n",
      "Тестовая выборка на модели Линейная регрессия: 3095.58\n",
      "Тестовая выборка на модели XGBoost: 1765.82\n",
      "Тестовая выборка на модели CatBoostRegressor: 1738.54\n",
      "Тестовая выборка на модели LightGBM: 4594.69\n"
     ]
    }
   ],
   "source": [
    "# создадим пустой список для последующего добавления в обзорную таблицу лучших моделей\n",
    "rmse_tests = []\n",
    "\n",
    "                \n",
    "# через цикл, обращаясь к словарю моделей, определим качество моделей по тестовой выборке\n",
    "for name, model in models.items():\n",
    "    test_predictions = model.predict(features_test)\n",
    "    rmse_test = round(mean_squared_error(target_test, test_predictions) ** .5, 2)\n",
    "    rmse_tests.append(rmse_test)\n",
    "    print(f'Тестовая выборка на модели {name}:', rmse_test)\n",
    "    \n",
    "# создадим новый столбец в выводной таблице по лучшим моделям\n",
    "models_summary['Качество при тесте'] = rmse_tests"
   ]
  },
  {
   "cell_type": "markdown",
   "metadata": {},
   "source": [
    "Выведем еще раз итоговую таблицу"
   ]
  },
  {
   "cell_type": "code",
   "execution_count": 183,
   "metadata": {},
   "outputs": [
    {
     "data": {
      "text/html": [
       "<div>\n",
       "<style scoped>\n",
       "    .dataframe tbody tr th:only-of-type {\n",
       "        vertical-align: middle;\n",
       "    }\n",
       "\n",
       "    .dataframe tbody tr th {\n",
       "        vertical-align: top;\n",
       "    }\n",
       "\n",
       "    .dataframe thead th {\n",
       "        text-align: right;\n",
       "    }\n",
       "</style>\n",
       "<table border=\"1\" class=\"dataframe\">\n",
       "  <thead>\n",
       "    <tr style=\"text-align: right;\">\n",
       "      <th></th>\n",
       "      <th>Модель</th>\n",
       "      <th>Лучшее качество RMSE при обучении</th>\n",
       "      <th>Время выполнения оптимального параметра, сек.</th>\n",
       "      <th>Лучшие гиперпараметры</th>\n",
       "      <th>Качество при тесте</th>\n",
       "    </tr>\n",
       "  </thead>\n",
       "  <tbody>\n",
       "    <tr>\n",
       "      <th>4</th>\n",
       "      <td>LightGBM</td>\n",
       "      <td>4594.69</td>\n",
       "      <td>1.49212</td>\n",
       "      <td>NaN</td>\n",
       "      <td>4594.69</td>\n",
       "    </tr>\n",
       "    <tr>\n",
       "      <th>1</th>\n",
       "      <td>Линейная регрессия</td>\n",
       "      <td>3127.77</td>\n",
       "      <td>0.30028</td>\n",
       "      <td>NaN</td>\n",
       "      <td>3095.58</td>\n",
       "    </tr>\n",
       "    <tr>\n",
       "      <th>0</th>\n",
       "      <td>Случайный лес</td>\n",
       "      <td>1776.29</td>\n",
       "      <td>3.30099</td>\n",
       "      <td>{'max_depth': 60.0, 'min_samples_split': 6.516...</td>\n",
       "      <td>1775.28</td>\n",
       "    </tr>\n",
       "    <tr>\n",
       "      <th>2</th>\n",
       "      <td>XGBoost</td>\n",
       "      <td>1758.09</td>\n",
       "      <td>2.90500</td>\n",
       "      <td>{'learning_rate': 0.42140875777781445, 'max_de...</td>\n",
       "      <td>1765.82</td>\n",
       "    </tr>\n",
       "    <tr>\n",
       "      <th>3</th>\n",
       "      <td>CatBoostRegressor</td>\n",
       "      <td>1736.62</td>\n",
       "      <td>11.63451</td>\n",
       "      <td>{'depth': 7, 'learning_rate': 0.1992489181671303}</td>\n",
       "      <td>1738.54</td>\n",
       "    </tr>\n",
       "  </tbody>\n",
       "</table>\n",
       "</div>"
      ],
      "text/plain": [
       "               Модель  Лучшее качество RMSE при обучении  \\\n",
       "4            LightGBM                            4594.69   \n",
       "1  Линейная регрессия                            3127.77   \n",
       "0       Случайный лес                            1776.29   \n",
       "2             XGBoost                            1758.09   \n",
       "3   CatBoostRegressor                            1736.62   \n",
       "\n",
       "   Время выполнения оптимального параметра, сек.  \\\n",
       "4                                        1.49212   \n",
       "1                                        0.30028   \n",
       "0                                        3.30099   \n",
       "2                                        2.90500   \n",
       "3                                       11.63451   \n",
       "\n",
       "                               Лучшие гиперпараметры  Качество при тесте  \n",
       "4                                                NaN             4594.69  \n",
       "1                                                NaN             3095.58  \n",
       "0  {'max_depth': 60.0, 'min_samples_split': 6.516...             1775.28  \n",
       "2  {'learning_rate': 0.42140875777781445, 'max_de...             1765.82  \n",
       "3  {'depth': 7, 'learning_rate': 0.1992489181671303}             1738.54  "
      ]
     },
     "execution_count": 183,
     "metadata": {},
     "output_type": "execute_result"
    }
   ],
   "source": [
    "models_summary.sort_values(by='Качество при тесте', ascending=False)"
   ]
  },
  {
   "cell_type": "markdown",
   "metadata": {},
   "source": [
    "<a id='HELP'></a>"
   ]
  },
  {
   "cell_type": "markdown",
   "metadata": {},
   "source": [
    "**Выводы**\n",
    "\n",
    "По итогу проверки на тестовых данных:\n",
    "* модель CatBoostRegressor и XGBoost показали лучшее качество, однако скорость обучаемости второй в 5 раз раз превосходит первую, поэтому лучшим выбором будет использовать модель, построенную на основе алгоритма XGBoost\n",
    "* тестовые значения модели в основном даже выше, чем при обучении, или хотя бы не уступают им, что отлично характеризует созданные модели. Однако у XGBoost качество просело, поэтому нужно рассматривать оба варианта XGBoost, CatBoostRegressor для больших тестов"
   ]
  },
  {
   "cell_type": "markdown",
   "metadata": {},
   "source": [
    "<a id='model_responsibility'></a>"
   ]
  },
  {
   "cell_type": "markdown",
   "metadata": {},
   "source": [
    "## **IV. Проверка моделей на вменяемость**"
   ]
  },
  {
   "cell_type": "markdown",
   "metadata": {},
   "source": [
    "Также проверим наши модели на адекватность сравнив их со случайными результатами, которые игнорируют правило входных данных. И если модель ведет себя лучше, то значит она может извлекать какой-то сигнал из данных и имеет предсказательную силу.\n",
    "Для этого воспользуемся `sklearn.dummy.DummyClassifier`"
   ]
  },
  {
   "cell_type": "code",
   "execution_count": 190,
   "metadata": {},
   "outputs": [
    {
     "name": "stdout",
     "output_type": "stream",
     "text": [
      "RMSE: 4594.69\n"
     ]
    }
   ],
   "source": [
    "X = features_test\n",
    "y = target_test\n",
    "dummy_reg = DummyRegressor(strategy=\"median\")\n",
    "dummy_reg.fit(X, y)\n",
    "predictions = dummy_reg.predict(X)\n",
    "\n",
    "print(f'RMSE: {round(mean_squared_error(target_test, test_predictions) ** .5, 2)}')"
   ]
  },
  {
   "cell_type": "markdown",
   "metadata": {},
   "source": [
    "Наши лучшие модели показали качество лучше, следовательно имеет смысл использовать модели машинного обучения. "
   ]
  },
  {
   "cell_type": "markdown",
   "metadata": {},
   "source": [
    "<a id='summary'></a>"
   ]
  },
  {
   "cell_type": "markdown",
   "metadata": {},
   "source": [
    "## **V. Итоги исследования**"
   ]
  },
  {
   "cell_type": "markdown",
   "metadata": {},
   "source": [
    "В ходе подготовки данных выли почищены аномалии, пропуски, дубликаты, данные переведены в удобный формат для анализа и обучения, были сделаны некоторые выводы на основании статистики:\n",
    "- преобладают с ручной коробкой передач и с бензиновым двигателем средней мощности (от 100 до 160 л.с.);\n",
    "- не после ремонта (по крайней мере так люди ставят в анкетах);\n",
    "- самой распространенной маркой автомобиля является volkswagen;\n",
    "- чаще на сайте можно встретить транспорт примерно 1999-2007 годов выпуска.\n",
    "\n",
    "Также рекомендуется \n",
    "- добавить в сервис систему-подсказку автоопределения брэнда, класса мощности;\n",
    "- при заполнении анкеты поставить обязательными пункты полей: мощность, модель, пробег и другие с фукнцией автопроверки \"на дурака\", чтобы исключить нереалистичные характеристики в силу человеческого фактора. \n",
    "\n",
    "На основании обработанных данных мы создали несколько моделей, выбрали лучшие, подобрали оптимальные гиперпараметры и проверили их на адекватность. И вот что у нас получилось:"
   ]
  },
  {
   "cell_type": "code",
   "execution_count": 192,
   "metadata": {},
   "outputs": [
    {
     "data": {
      "text/html": [
       "<div>\n",
       "<style scoped>\n",
       "    .dataframe tbody tr th:only-of-type {\n",
       "        vertical-align: middle;\n",
       "    }\n",
       "\n",
       "    .dataframe tbody tr th {\n",
       "        vertical-align: top;\n",
       "    }\n",
       "\n",
       "    .dataframe thead th {\n",
       "        text-align: right;\n",
       "    }\n",
       "</style>\n",
       "<table border=\"1\" class=\"dataframe\">\n",
       "  <thead>\n",
       "    <tr style=\"text-align: right;\">\n",
       "      <th></th>\n",
       "      <th>Модель</th>\n",
       "      <th>Лучшее качество RMSE при обучении</th>\n",
       "      <th>Время выполнения оптимального параметра, сек.</th>\n",
       "      <th>Лучшие гиперпараметры</th>\n",
       "      <th>Качество при тесте</th>\n",
       "    </tr>\n",
       "  </thead>\n",
       "  <tbody>\n",
       "    <tr>\n",
       "      <th>3</th>\n",
       "      <td>CatBoostRegressor</td>\n",
       "      <td>1736.62</td>\n",
       "      <td>11.63451</td>\n",
       "      <td>{'depth': 7, 'learning_rate': 0.1992489181671303}</td>\n",
       "      <td>1738.54</td>\n",
       "    </tr>\n",
       "    <tr>\n",
       "      <th>2</th>\n",
       "      <td>XGBoost</td>\n",
       "      <td>1758.09</td>\n",
       "      <td>2.90500</td>\n",
       "      <td>{'learning_rate': 0.42140875777781445, 'max_de...</td>\n",
       "      <td>1765.82</td>\n",
       "    </tr>\n",
       "    <tr>\n",
       "      <th>0</th>\n",
       "      <td>Случайный лес</td>\n",
       "      <td>1776.29</td>\n",
       "      <td>3.30099</td>\n",
       "      <td>{'max_depth': 60.0, 'min_samples_split': 6.516...</td>\n",
       "      <td>1775.28</td>\n",
       "    </tr>\n",
       "    <tr>\n",
       "      <th>1</th>\n",
       "      <td>Линейная регрессия</td>\n",
       "      <td>3127.77</td>\n",
       "      <td>0.30028</td>\n",
       "      <td>NaN</td>\n",
       "      <td>3095.58</td>\n",
       "    </tr>\n",
       "    <tr>\n",
       "      <th>4</th>\n",
       "      <td>LightGBM</td>\n",
       "      <td>4594.69</td>\n",
       "      <td>1.49212</td>\n",
       "      <td>NaN</td>\n",
       "      <td>4594.69</td>\n",
       "    </tr>\n",
       "  </tbody>\n",
       "</table>\n",
       "</div>"
      ],
      "text/plain": [
       "               Модель  Лучшее качество RMSE при обучении  \\\n",
       "3   CatBoostRegressor                            1736.62   \n",
       "2             XGBoost                            1758.09   \n",
       "0       Случайный лес                            1776.29   \n",
       "1  Линейная регрессия                            3127.77   \n",
       "4            LightGBM                            4594.69   \n",
       "\n",
       "   Время выполнения оптимального параметра, сек.  \\\n",
       "3                                       11.63451   \n",
       "2                                        2.90500   \n",
       "0                                        3.30099   \n",
       "1                                        0.30028   \n",
       "4                                        1.49212   \n",
       "\n",
       "                               Лучшие гиперпараметры  Качество при тесте  \n",
       "3  {'depth': 7, 'learning_rate': 0.1992489181671303}             1738.54  \n",
       "2  {'learning_rate': 0.42140875777781445, 'max_de...             1765.82  \n",
       "0  {'max_depth': 60.0, 'min_samples_split': 6.516...             1775.28  \n",
       "1                                                NaN             3095.58  \n",
       "4                                                NaN             4594.69  "
      ]
     },
     "execution_count": 192,
     "metadata": {},
     "output_type": "execute_result"
    }
   ],
   "source": [
    "models_summary.sort_values(by='Качество при тесте', ascending=True)"
   ]
  },
  {
   "cell_type": "markdown",
   "metadata": {},
   "source": [
    "Лучшей моделью для решения поставленной цели будет являться модель на основе алгоритма CatBoostRegressor, однако также следует рассмотреть XGBoost. В целом оба алгоритма строятся на +/- одной технике. \n",
    "\n",
    "Порог в RMSE < 2500 пройден."
   ]
  }
 ],
 "metadata": {
  "ExecuteTimeLog": [
   {
    "duration": 525,
    "start_time": "2022-02-03T12:51:37.293Z"
   },
   {
    "duration": 441,
    "start_time": "2022-02-03T12:52:38.232Z"
   },
   {
    "duration": 194,
    "start_time": "2022-02-03T12:54:47.270Z"
   },
   {
    "duration": 151,
    "start_time": "2022-02-03T12:54:52.722Z"
   },
   {
    "duration": 136,
    "start_time": "2022-02-03T12:54:54.952Z"
   },
   {
    "duration": 1326,
    "start_time": "2022-02-03T12:54:59.011Z"
   },
   {
    "duration": 200,
    "start_time": "2022-02-03T12:55:04.279Z"
   },
   {
    "duration": 189,
    "start_time": "2022-02-03T12:55:12.138Z"
   },
   {
    "duration": 171,
    "start_time": "2022-02-03T12:57:55.172Z"
   },
   {
    "duration": 41,
    "start_time": "2022-02-03T13:05:38.011Z"
   },
   {
    "duration": 58,
    "start_time": "2022-02-03T13:19:50.020Z"
   },
   {
    "duration": 1191,
    "start_time": "2022-02-03T13:24:35.765Z"
   },
   {
    "duration": 1057,
    "start_time": "2022-02-03T13:24:47.007Z"
   },
   {
    "duration": 900,
    "start_time": "2022-02-03T13:25:24.951Z"
   },
   {
    "duration": 1217,
    "start_time": "2022-02-03T13:25:32.197Z"
   },
   {
    "duration": 991,
    "start_time": "2022-02-03T13:25:46.005Z"
   },
   {
    "duration": 1074,
    "start_time": "2022-02-03T13:26:08.960Z"
   },
   {
    "duration": 886,
    "start_time": "2022-02-03T13:26:37.150Z"
   },
   {
    "duration": 133,
    "start_time": "2022-02-03T13:27:00.027Z"
   },
   {
    "duration": 277,
    "start_time": "2022-02-03T13:27:42.857Z"
   },
   {
    "duration": 125,
    "start_time": "2022-02-03T13:28:22.518Z"
   },
   {
    "duration": 13,
    "start_time": "2022-02-03T13:28:44.922Z"
   },
   {
    "duration": 12,
    "start_time": "2022-02-03T13:29:16.111Z"
   },
   {
    "duration": 12,
    "start_time": "2022-02-03T13:29:30.739Z"
   },
   {
    "duration": 11,
    "start_time": "2022-02-03T13:30:18.839Z"
   },
   {
    "duration": 11,
    "start_time": "2022-02-03T13:43:37.593Z"
   },
   {
    "duration": 46,
    "start_time": "2022-02-03T13:53:18.905Z"
   },
   {
    "duration": 160,
    "start_time": "2022-02-03T13:53:51.741Z"
   },
   {
    "duration": 5,
    "start_time": "2022-02-03T13:54:05.865Z"
   },
   {
    "duration": 4,
    "start_time": "2022-02-03T13:54:28.811Z"
   },
   {
    "duration": 155,
    "start_time": "2022-02-03T13:54:42.439Z"
   },
   {
    "duration": 4,
    "start_time": "2022-02-03T13:54:49.799Z"
   },
   {
    "duration": 126,
    "start_time": "2022-02-03T13:55:37.467Z"
   },
   {
    "duration": 129,
    "start_time": "2022-02-03T13:55:43.369Z"
   },
   {
    "duration": 4,
    "start_time": "2022-02-03T13:55:48.728Z"
   },
   {
    "duration": 10,
    "start_time": "2022-02-03T13:56:18.054Z"
   },
   {
    "duration": 11,
    "start_time": "2022-02-03T13:56:20.237Z"
   },
   {
    "duration": 16,
    "start_time": "2022-02-03T13:56:31.459Z"
   },
   {
    "duration": 26,
    "start_time": "2022-02-03T13:56:42.317Z"
   },
   {
    "duration": 14,
    "start_time": "2022-02-03T13:56:48.890Z"
   },
   {
    "duration": 131,
    "start_time": "2022-02-03T13:59:47.425Z"
   },
   {
    "duration": 151,
    "start_time": "2022-02-03T14:00:08.231Z"
   },
   {
    "duration": 156,
    "start_time": "2022-02-03T14:02:16.621Z"
   },
   {
    "duration": 69,
    "start_time": "2022-02-03T14:03:11.947Z"
   },
   {
    "duration": 51,
    "start_time": "2022-02-03T14:03:31.195Z"
   },
   {
    "duration": 9,
    "start_time": "2022-02-03T14:04:52.728Z"
   },
   {
    "duration": 11,
    "start_time": "2022-02-03T14:07:15.894Z"
   },
   {
    "duration": 198,
    "start_time": "2022-02-03T14:07:43.329Z"
   },
   {
    "duration": 164,
    "start_time": "2022-02-03T14:08:39.083Z"
   },
   {
    "duration": 12,
    "start_time": "2022-02-03T14:08:50.636Z"
   },
   {
    "duration": 143,
    "start_time": "2022-02-03T14:10:06.956Z"
   },
   {
    "duration": 10,
    "start_time": "2022-02-03T14:10:14.582Z"
   },
   {
    "duration": 10,
    "start_time": "2022-02-03T14:12:15.683Z"
   },
   {
    "duration": 150,
    "start_time": "2022-02-03T14:12:33.630Z"
   },
   {
    "duration": 10,
    "start_time": "2022-02-03T14:12:38.800Z"
   },
   {
    "duration": 11,
    "start_time": "2022-02-03T14:16:19.696Z"
   },
   {
    "duration": 45,
    "start_time": "2022-02-03T14:16:30.397Z"
   },
   {
    "duration": 11,
    "start_time": "2022-02-03T14:16:38.576Z"
   },
   {
    "duration": 11,
    "start_time": "2022-02-03T14:18:13.076Z"
   },
   {
    "duration": 10,
    "start_time": "2022-02-03T14:18:20.690Z"
   },
   {
    "duration": 17,
    "start_time": "2022-02-03T14:18:36.201Z"
   },
   {
    "duration": 9,
    "start_time": "2022-02-03T14:18:45.615Z"
   },
   {
    "duration": 5,
    "start_time": "2022-02-03T14:19:23.685Z"
   },
   {
    "duration": 24,
    "start_time": "2022-02-03T14:19:28.671Z"
   },
   {
    "duration": 16,
    "start_time": "2022-02-03T14:20:33.529Z"
   },
   {
    "duration": 10,
    "start_time": "2022-02-03T14:20:46.404Z"
   },
   {
    "duration": 10,
    "start_time": "2022-02-03T14:21:00.998Z"
   },
   {
    "duration": 11,
    "start_time": "2022-02-03T14:21:55.719Z"
   },
   {
    "duration": 11,
    "start_time": "2022-02-03T14:22:29.008Z"
   },
   {
    "duration": 9,
    "start_time": "2022-02-03T14:22:49.841Z"
   },
   {
    "duration": 10,
    "start_time": "2022-02-03T14:28:10.412Z"
   },
   {
    "duration": 11,
    "start_time": "2022-02-03T14:28:43.434Z"
   },
   {
    "duration": 11,
    "start_time": "2022-02-03T14:30:53.886Z"
   },
   {
    "duration": 11,
    "start_time": "2022-02-03T14:31:43.208Z"
   },
   {
    "duration": 81,
    "start_time": "2022-02-03T14:31:58.539Z"
   },
   {
    "duration": 10,
    "start_time": "2022-02-03T14:32:07.608Z"
   },
   {
    "duration": 9,
    "start_time": "2022-02-03T14:33:43.219Z"
   },
   {
    "duration": 10,
    "start_time": "2022-02-03T14:34:09.898Z"
   },
   {
    "duration": 10,
    "start_time": "2022-02-03T14:34:14.022Z"
   },
   {
    "duration": 9,
    "start_time": "2022-02-03T14:34:29.009Z"
   },
   {
    "duration": 12,
    "start_time": "2022-02-03T14:34:40.189Z"
   },
   {
    "duration": 10,
    "start_time": "2022-02-03T14:35:06.619Z"
   },
   {
    "duration": 12,
    "start_time": "2022-02-03T14:35:17.747Z"
   },
   {
    "duration": 10,
    "start_time": "2022-02-03T14:35:23.587Z"
   },
   {
    "duration": 10,
    "start_time": "2022-02-03T14:35:33.378Z"
   },
   {
    "duration": 10,
    "start_time": "2022-02-03T14:35:36.188Z"
   },
   {
    "duration": 9,
    "start_time": "2022-02-03T14:35:40.851Z"
   },
   {
    "duration": 9,
    "start_time": "2022-02-03T14:35:44.620Z"
   },
   {
    "duration": 11,
    "start_time": "2022-02-03T14:35:48.328Z"
   },
   {
    "duration": 10,
    "start_time": "2022-02-03T14:35:53.752Z"
   },
   {
    "duration": 10,
    "start_time": "2022-02-03T14:36:02.216Z"
   },
   {
    "duration": 55,
    "start_time": "2022-02-03T14:37:43.082Z"
   },
   {
    "duration": 9,
    "start_time": "2022-02-03T14:37:47.064Z"
   },
   {
    "duration": 10,
    "start_time": "2022-02-03T14:39:27.290Z"
   },
   {
    "duration": 10,
    "start_time": "2022-02-03T14:39:41.149Z"
   },
   {
    "duration": 12,
    "start_time": "2022-02-03T14:40:05.960Z"
   },
   {
    "duration": 10,
    "start_time": "2022-02-03T14:41:28.457Z"
   },
   {
    "duration": 129,
    "start_time": "2022-02-03T14:44:02.389Z"
   },
   {
    "duration": 10,
    "start_time": "2022-02-03T14:46:07.337Z"
   },
   {
    "duration": 56,
    "start_time": "2022-02-03T14:48:08.982Z"
   },
   {
    "duration": 65,
    "start_time": "2022-02-03T14:49:25.560Z"
   },
   {
    "duration": 47,
    "start_time": "2022-02-03T14:49:32.359Z"
   },
   {
    "duration": 44,
    "start_time": "2022-02-03T14:49:42.900Z"
   },
   {
    "duration": 81,
    "start_time": "2022-02-03T14:49:50.433Z"
   },
   {
    "duration": 101,
    "start_time": "2022-02-03T14:50:37.695Z"
   },
   {
    "duration": 8,
    "start_time": "2022-02-03T14:51:04.677Z"
   },
   {
    "duration": 144,
    "start_time": "2022-02-03T14:51:30.132Z"
   },
   {
    "duration": 4214,
    "start_time": "2022-02-03T14:51:34.601Z"
   },
   {
    "duration": 44,
    "start_time": "2022-02-03T15:20:31.492Z"
   },
   {
    "duration": 46,
    "start_time": "2022-02-03T15:21:08.228Z"
   },
   {
    "duration": 44,
    "start_time": "2022-02-03T15:21:17.351Z"
   },
   {
    "duration": 44,
    "start_time": "2022-02-03T15:21:19.912Z"
   },
   {
    "duration": 45,
    "start_time": "2022-02-03T15:21:53.674Z"
   },
   {
    "duration": 58,
    "start_time": "2022-02-03T15:22:05.447Z"
   },
   {
    "duration": 41,
    "start_time": "2022-02-03T15:23:02.486Z"
   },
   {
    "duration": 47,
    "start_time": "2022-02-03T15:24:12.257Z"
   },
   {
    "duration": 49,
    "start_time": "2022-02-03T15:24:21.575Z"
   },
   {
    "duration": 48,
    "start_time": "2022-02-03T15:24:29.642Z"
   },
   {
    "duration": 3,
    "start_time": "2022-02-03T15:25:13.128Z"
   },
   {
    "duration": 50,
    "start_time": "2022-02-03T15:25:25.601Z"
   },
   {
    "duration": 4,
    "start_time": "2022-02-03T15:25:59.884Z"
   },
   {
    "duration": 4,
    "start_time": "2022-02-03T15:27:34.833Z"
   },
   {
    "duration": 4,
    "start_time": "2022-02-03T15:27:53.206Z"
   },
   {
    "duration": 3,
    "start_time": "2022-02-03T15:27:56.796Z"
   },
   {
    "duration": 331,
    "start_time": "2022-02-03T15:28:32.522Z"
   },
   {
    "duration": 3,
    "start_time": "2022-02-03T15:30:58.927Z"
   },
   {
    "duration": 3,
    "start_time": "2022-02-03T15:31:00.265Z"
   },
   {
    "duration": 3,
    "start_time": "2022-02-03T15:31:08.889Z"
   },
   {
    "duration": 3,
    "start_time": "2022-02-03T15:31:13.084Z"
   },
   {
    "duration": 3,
    "start_time": "2022-02-03T15:31:56.991Z"
   },
   {
    "duration": 3,
    "start_time": "2022-02-03T15:31:57.487Z"
   },
   {
    "duration": 44,
    "start_time": "2022-02-03T15:39:26.576Z"
   },
   {
    "duration": 3,
    "start_time": "2022-02-03T15:42:26.898Z"
   },
   {
    "duration": 4,
    "start_time": "2022-02-03T15:42:28.485Z"
   },
   {
    "duration": 3,
    "start_time": "2022-02-03T15:43:05.737Z"
   },
   {
    "duration": 3,
    "start_time": "2022-02-03T15:44:05.327Z"
   },
   {
    "duration": 144,
    "start_time": "2022-02-03T15:46:30.786Z"
   },
   {
    "duration": 3,
    "start_time": "2022-02-03T15:46:36.854Z"
   },
   {
    "duration": 18,
    "start_time": "2022-02-03T15:46:37.697Z"
   },
   {
    "duration": 22,
    "start_time": "2022-02-03T15:46:43.006Z"
   },
   {
    "duration": 27,
    "start_time": "2022-02-03T15:47:03.135Z"
   },
   {
    "duration": 3,
    "start_time": "2022-02-03T15:47:45.851Z"
   },
   {
    "duration": 26,
    "start_time": "2022-02-03T15:47:48.105Z"
   },
   {
    "duration": 3,
    "start_time": "2022-02-03T15:49:30.969Z"
   },
   {
    "duration": 32,
    "start_time": "2022-02-03T15:49:31.851Z"
   },
   {
    "duration": 25,
    "start_time": "2022-02-03T15:50:34.682Z"
   },
   {
    "duration": 27,
    "start_time": "2022-02-03T15:51:07.233Z"
   },
   {
    "duration": 36,
    "start_time": "2022-02-03T15:52:59.989Z"
   },
   {
    "duration": 14,
    "start_time": "2022-02-03T15:53:06.162Z"
   },
   {
    "duration": 22,
    "start_time": "2022-02-03T15:53:13.681Z"
   },
   {
    "duration": 14,
    "start_time": "2022-02-03T15:53:21.137Z"
   },
   {
    "duration": 49,
    "start_time": "2022-02-03T15:57:31.507Z"
   },
   {
    "duration": 4,
    "start_time": "2022-02-03T16:02:26.345Z"
   },
   {
    "duration": 5,
    "start_time": "2022-02-03T16:02:31.502Z"
   },
   {
    "duration": 5,
    "start_time": "2022-02-03T16:02:35.512Z"
   },
   {
    "duration": 5,
    "start_time": "2022-02-03T16:02:47.740Z"
   },
   {
    "duration": 4,
    "start_time": "2022-02-03T16:02:53.851Z"
   },
   {
    "duration": 53,
    "start_time": "2022-02-03T16:02:56.674Z"
   },
   {
    "duration": 6,
    "start_time": "2022-02-03T16:02:58.456Z"
   },
   {
    "duration": 5,
    "start_time": "2022-02-03T16:03:10.416Z"
   },
   {
    "duration": 6,
    "start_time": "2022-02-03T16:04:16.430Z"
   },
   {
    "duration": 9,
    "start_time": "2022-02-03T16:06:49.405Z"
   },
   {
    "duration": 53,
    "start_time": "2022-02-03T16:07:56.515Z"
   },
   {
    "duration": 46,
    "start_time": "2022-02-03T16:08:01.016Z"
   },
   {
    "duration": 7,
    "start_time": "2022-02-03T16:08:07.889Z"
   },
   {
    "duration": 9,
    "start_time": "2022-02-03T16:08:57.233Z"
   },
   {
    "duration": 1780,
    "start_time": "2022-02-03T16:10:47.123Z"
   },
   {
    "duration": 1046,
    "start_time": "2022-02-03T16:11:42.700Z"
   },
   {
    "duration": 6,
    "start_time": "2022-02-03T16:11:50.814Z"
   },
   {
    "duration": 137,
    "start_time": "2022-02-03T16:12:30.758Z"
   },
   {
    "duration": 134,
    "start_time": "2022-02-03T16:12:35.466Z"
   },
   {
    "duration": 60,
    "start_time": "2022-02-03T16:12:46.186Z"
   },
   {
    "duration": 5,
    "start_time": "2022-02-03T16:16:15.044Z"
   },
   {
    "duration": 554,
    "start_time": "2022-02-03T16:27:46.818Z"
   },
   {
    "duration": 160,
    "start_time": "2022-02-03T16:34:24.065Z"
   },
   {
    "duration": 894,
    "start_time": "2022-02-03T16:34:24.297Z"
   },
   {
    "duration": 17,
    "start_time": "2022-02-03T16:34:25.193Z"
   },
   {
    "duration": 14,
    "start_time": "2022-02-03T16:34:25.212Z"
   },
   {
    "duration": 7,
    "start_time": "2022-02-03T16:34:25.228Z"
   },
   {
    "duration": 26,
    "start_time": "2022-02-03T16:34:25.237Z"
   },
   {
    "duration": 119,
    "start_time": "2022-02-03T16:34:25.265Z"
   },
   {
    "duration": 3,
    "start_time": "2022-02-03T16:34:25.386Z"
   },
   {
    "duration": 7,
    "start_time": "2022-02-03T16:34:25.391Z"
   },
   {
    "duration": 29,
    "start_time": "2022-02-03T16:34:25.400Z"
   },
   {
    "duration": 576,
    "start_time": "2022-02-03T16:34:40.930Z"
   },
   {
    "duration": 2,
    "start_time": "2022-02-03T16:34:57.941Z"
   },
   {
    "duration": 149,
    "start_time": "2022-02-03T16:35:11.037Z"
   },
   {
    "duration": 399,
    "start_time": "2022-02-03T16:36:15.289Z"
   },
   {
    "duration": 3,
    "start_time": "2022-02-03T16:36:52.621Z"
   },
   {
    "duration": 3,
    "start_time": "2022-02-03T16:36:56.028Z"
   },
   {
    "duration": 3,
    "start_time": "2022-02-03T16:37:25.624Z"
   },
   {
    "duration": 537,
    "start_time": "2022-02-03T16:37:28.475Z"
   },
   {
    "duration": 42,
    "start_time": "2022-02-03T16:37:51.333Z"
   },
   {
    "duration": 49,
    "start_time": "2022-02-03T16:37:56.072Z"
   },
   {
    "duration": 5259,
    "start_time": "2022-02-03T16:37:56.668Z"
   },
   {
    "duration": 58,
    "start_time": "2022-02-03T16:39:11.169Z"
   },
   {
    "duration": 678,
    "start_time": "2022-02-03T16:39:12.619Z"
   },
   {
    "duration": 7,
    "start_time": "2022-02-03T16:40:44.209Z"
   },
   {
    "duration": 3,
    "start_time": "2022-02-03T16:42:41.042Z"
   },
   {
    "duration": 527,
    "start_time": "2022-02-03T16:42:42.753Z"
   },
   {
    "duration": 55,
    "start_time": "2022-02-03T16:43:08.977Z"
   },
   {
    "duration": 545,
    "start_time": "2022-02-03T16:43:10.073Z"
   },
   {
    "duration": 443,
    "start_time": "2022-02-03T16:45:24.129Z"
   },
   {
    "duration": 447,
    "start_time": "2022-02-03T16:46:44.124Z"
   },
   {
    "duration": 454,
    "start_time": "2022-02-03T16:47:50.484Z"
   },
   {
    "duration": 453,
    "start_time": "2022-02-03T16:48:02.656Z"
   },
   {
    "duration": 483,
    "start_time": "2022-02-03T16:48:20.796Z"
   },
   {
    "duration": 1832,
    "start_time": "2022-02-03T16:49:09.255Z"
   },
   {
    "duration": 726,
    "start_time": "2022-02-03T16:51:49.895Z"
   },
   {
    "duration": 18,
    "start_time": "2022-02-03T16:51:50.624Z"
   },
   {
    "duration": 10,
    "start_time": "2022-02-03T16:51:50.647Z"
   },
   {
    "duration": 14,
    "start_time": "2022-02-03T16:51:50.659Z"
   },
   {
    "duration": 545,
    "start_time": "2022-02-03T16:51:50.674Z"
   },
   {
    "duration": 11,
    "start_time": "2022-02-03T16:53:07.976Z"
   },
   {
    "duration": 117,
    "start_time": "2022-02-03T16:53:07.988Z"
   },
   {
    "duration": 3,
    "start_time": "2022-02-03T16:53:08.107Z"
   },
   {
    "duration": 9,
    "start_time": "2022-02-03T16:53:08.111Z"
   },
   {
    "duration": 29,
    "start_time": "2022-02-03T16:53:08.121Z"
   },
   {
    "duration": 2,
    "start_time": "2022-02-03T16:53:08.161Z"
   },
   {
    "duration": 719,
    "start_time": "2022-02-03T16:53:35.685Z"
   },
   {
    "duration": 17,
    "start_time": "2022-02-03T16:53:36.608Z"
   },
   {
    "duration": 11,
    "start_time": "2022-02-03T16:53:38.782Z"
   },
   {
    "duration": 8,
    "start_time": "2022-02-03T16:53:41.498Z"
   },
   {
    "duration": 558,
    "start_time": "2022-02-03T16:53:42.823Z"
   },
   {
    "duration": 13917,
    "start_time": "2022-02-03T16:53:43.787Z"
   },
   {
    "duration": 697,
    "start_time": "2022-02-03T16:54:23.137Z"
   },
   {
    "duration": 17,
    "start_time": "2022-02-03T16:54:23.836Z"
   },
   {
    "duration": 10,
    "start_time": "2022-02-03T16:54:23.857Z"
   },
   {
    "duration": 6,
    "start_time": "2022-02-03T16:54:23.869Z"
   },
   {
    "duration": 13,
    "start_time": "2022-02-03T16:54:23.877Z"
   },
   {
    "duration": 127,
    "start_time": "2022-02-03T16:54:23.892Z"
   },
   {
    "duration": 3,
    "start_time": "2022-02-03T16:54:24.021Z"
   },
   {
    "duration": 4,
    "start_time": "2022-02-03T16:54:24.026Z"
   },
   {
    "duration": 38,
    "start_time": "2022-02-03T16:54:24.032Z"
   },
   {
    "duration": 204,
    "start_time": "2022-02-03T17:00:18.308Z"
   },
   {
    "duration": 15,
    "start_time": "2022-02-03T17:00:30.381Z"
   },
   {
    "duration": 136,
    "start_time": "2022-02-03T17:01:10.362Z"
   },
   {
    "duration": 137,
    "start_time": "2022-02-03T17:02:35.741Z"
   },
   {
    "duration": 3,
    "start_time": "2022-02-03T17:02:50.603Z"
   },
   {
    "duration": 194,
    "start_time": "2022-02-03T17:04:19.313Z"
   },
   {
    "duration": 5,
    "start_time": "2022-02-03T17:06:40.012Z"
   },
   {
    "duration": 46,
    "start_time": "2022-02-03T17:09:33.236Z"
   },
   {
    "duration": 110,
    "start_time": "2022-02-03T17:09:37.403Z"
   },
   {
    "duration": 15,
    "start_time": "2022-02-03T17:09:53.076Z"
   },
   {
    "duration": 72,
    "start_time": "2022-02-03T17:10:21.552Z"
   },
   {
    "duration": 3,
    "start_time": "2022-02-03T17:10:26.268Z"
   },
   {
    "duration": 4,
    "start_time": "2022-02-03T17:10:31.580Z"
   },
   {
    "duration": 25,
    "start_time": "2022-02-03T17:11:24.932Z"
   },
   {
    "duration": 4,
    "start_time": "2022-02-03T17:11:25.871Z"
   },
   {
    "duration": 203,
    "start_time": "2022-02-03T17:11:37.900Z"
   },
   {
    "duration": 4,
    "start_time": "2022-02-03T17:11:48.152Z"
   },
   {
    "duration": 23,
    "start_time": "2022-02-03T17:12:18.098Z"
   },
   {
    "duration": 3,
    "start_time": "2022-02-03T17:12:18.524Z"
   },
   {
    "duration": 22,
    "start_time": "2022-02-03T17:13:38.313Z"
   },
   {
    "duration": 4,
    "start_time": "2022-02-03T17:13:38.729Z"
   },
   {
    "duration": 23,
    "start_time": "2022-02-03T17:13:59.265Z"
   },
   {
    "duration": 3,
    "start_time": "2022-02-03T17:13:59.977Z"
   },
   {
    "duration": 23,
    "start_time": "2022-02-03T17:14:25.135Z"
   },
   {
    "duration": 4,
    "start_time": "2022-02-03T17:14:26.057Z"
   },
   {
    "duration": 10,
    "start_time": "2022-02-03T17:14:34.818Z"
   },
   {
    "duration": 41,
    "start_time": "2022-02-03T17:15:42.636Z"
   },
   {
    "duration": 22,
    "start_time": "2022-02-03T17:15:56.638Z"
   },
   {
    "duration": 10,
    "start_time": "2022-02-03T17:18:58.482Z"
   },
   {
    "duration": 6,
    "start_time": "2022-02-03T17:19:28.305Z"
   },
   {
    "duration": 5,
    "start_time": "2022-02-03T17:19:36.132Z"
   },
   {
    "duration": 4,
    "start_time": "2022-02-03T17:20:05.920Z"
   },
   {
    "duration": 4,
    "start_time": "2022-02-03T17:20:13.537Z"
   },
   {
    "duration": 4,
    "start_time": "2022-02-03T17:20:17.153Z"
   },
   {
    "duration": 21,
    "start_time": "2022-02-03T17:22:09.855Z"
   },
   {
    "duration": 15,
    "start_time": "2022-02-03T17:22:31.184Z"
   },
   {
    "duration": 14,
    "start_time": "2022-02-03T17:23:00.760Z"
   },
   {
    "duration": 31,
    "start_time": "2022-02-03T17:23:52.483Z"
   },
   {
    "duration": 10,
    "start_time": "2022-02-03T17:26:50.151Z"
   },
   {
    "duration": 10,
    "start_time": "2022-02-03T17:26:59.099Z"
   },
   {
    "duration": 13,
    "start_time": "2022-02-03T17:27:05.938Z"
   },
   {
    "duration": 51,
    "start_time": "2022-02-03T17:27:40.888Z"
   },
   {
    "duration": 62,
    "start_time": "2022-02-03T17:28:36.161Z"
   },
   {
    "duration": 44,
    "start_time": "2022-02-03T17:29:19.700Z"
   },
   {
    "duration": 53,
    "start_time": "2022-02-03T17:29:24.820Z"
   },
   {
    "duration": 12,
    "start_time": "2022-02-03T17:30:13.859Z"
   },
   {
    "duration": 11,
    "start_time": "2022-02-03T17:30:33.349Z"
   },
   {
    "duration": 48,
    "start_time": "2022-02-03T17:31:18.339Z"
   },
   {
    "duration": 10,
    "start_time": "2022-02-03T17:31:23.121Z"
   },
   {
    "duration": 367,
    "start_time": "2022-02-03T17:32:33.798Z"
   },
   {
    "duration": 1157,
    "start_time": "2022-02-03T17:32:52.442Z"
   },
   {
    "duration": 354,
    "start_time": "2022-02-03T17:32:58.977Z"
   },
   {
    "duration": 338,
    "start_time": "2022-02-03T17:33:21.426Z"
   },
   {
    "duration": 11,
    "start_time": "2022-02-03T17:33:33.924Z"
   },
   {
    "duration": 46,
    "start_time": "2022-02-03T17:51:24.928Z"
   },
   {
    "duration": 50,
    "start_time": "2022-02-03T17:51:44.158Z"
   },
   {
    "duration": 48,
    "start_time": "2022-02-03T17:52:15.270Z"
   },
   {
    "duration": 14,
    "start_time": "2022-02-03T17:54:54.447Z"
   },
   {
    "duration": 22,
    "start_time": "2022-02-03T17:55:48.537Z"
   },
   {
    "duration": 23,
    "start_time": "2022-02-03T17:56:08.204Z"
   },
   {
    "duration": 12,
    "start_time": "2022-02-03T17:56:37.455Z"
   },
   {
    "duration": 125,
    "start_time": "2022-02-03T17:57:15.977Z"
   },
   {
    "duration": 5,
    "start_time": "2022-02-03T17:57:18.793Z"
   },
   {
    "duration": 10,
    "start_time": "2022-02-03T17:57:25.570Z"
   },
   {
    "duration": 12,
    "start_time": "2022-02-03T18:04:41.276Z"
   },
   {
    "duration": 22,
    "start_time": "2022-02-03T18:05:30.850Z"
   },
   {
    "duration": 22,
    "start_time": "2022-02-03T18:05:41.339Z"
   },
   {
    "duration": 20,
    "start_time": "2022-02-03T18:05:51.631Z"
   },
   {
    "duration": 40,
    "start_time": "2022-02-03T18:06:16.164Z"
   },
   {
    "duration": 22,
    "start_time": "2022-02-03T18:06:24.962Z"
   },
   {
    "duration": 23,
    "start_time": "2022-02-03T18:08:03.020Z"
   },
   {
    "duration": 22,
    "start_time": "2022-02-03T18:08:06.827Z"
   },
   {
    "duration": 23,
    "start_time": "2022-02-03T18:08:16.902Z"
   },
   {
    "duration": 23,
    "start_time": "2022-02-03T18:08:36.277Z"
   },
   {
    "duration": 28,
    "start_time": "2022-02-03T18:08:44.625Z"
   },
   {
    "duration": 28,
    "start_time": "2022-02-03T18:08:52.632Z"
   },
   {
    "duration": 30,
    "start_time": "2022-02-03T18:09:19.007Z"
   },
   {
    "duration": 33,
    "start_time": "2022-02-03T18:20:48.819Z"
   },
   {
    "duration": 17,
    "start_time": "2022-02-03T18:24:20.160Z"
   },
   {
    "duration": 9,
    "start_time": "2022-02-03T18:24:39.323Z"
   },
   {
    "duration": 21,
    "start_time": "2022-02-03T18:25:01.622Z"
   },
   {
    "duration": 8,
    "start_time": "2022-02-03T18:27:38.416Z"
   },
   {
    "duration": 11,
    "start_time": "2022-02-03T18:27:48.246Z"
   },
   {
    "duration": 21,
    "start_time": "2022-02-03T18:28:04.974Z"
   },
   {
    "duration": 31,
    "start_time": "2022-02-03T18:28:20.573Z"
   },
   {
    "duration": 27,
    "start_time": "2022-02-03T18:28:34.533Z"
   },
   {
    "duration": 28,
    "start_time": "2022-02-03T18:28:47.865Z"
   },
   {
    "duration": 11,
    "start_time": "2022-02-03T18:28:58.499Z"
   },
   {
    "duration": 135,
    "start_time": "2022-02-03T18:36:46.594Z"
   },
   {
    "duration": 34,
    "start_time": "2022-02-03T18:36:55.158Z"
   },
   {
    "duration": 45,
    "start_time": "2022-02-03T18:37:05.580Z"
   },
   {
    "duration": 39,
    "start_time": "2022-02-03T18:37:53.383Z"
   },
   {
    "duration": 33,
    "start_time": "2022-02-03T18:40:05.890Z"
   },
   {
    "duration": 33,
    "start_time": "2022-02-03T18:40:29.013Z"
   },
   {
    "duration": 27,
    "start_time": "2022-02-03T18:45:36.143Z"
   },
   {
    "duration": 38,
    "start_time": "2022-02-03T18:50:02.570Z"
   },
   {
    "duration": 121,
    "start_time": "2022-02-03T18:54:37.679Z"
   },
   {
    "duration": 150,
    "start_time": "2022-02-03T18:54:47.817Z"
   },
   {
    "duration": 10,
    "start_time": "2022-02-03T18:55:26.552Z"
   },
   {
    "duration": 148,
    "start_time": "2022-02-03T18:55:58.552Z"
   },
   {
    "duration": 10,
    "start_time": "2022-02-03T18:56:03.619Z"
   },
   {
    "duration": 3269,
    "start_time": "2022-02-03T18:56:23.125Z"
   },
   {
    "duration": 11,
    "start_time": "2022-02-03T18:56:28.771Z"
   },
   {
    "duration": 2255,
    "start_time": "2022-02-03T18:56:42.925Z"
   },
   {
    "duration": 9,
    "start_time": "2022-02-03T18:56:50.772Z"
   },
   {
    "duration": 44,
    "start_time": "2022-02-03T18:57:10.291Z"
   },
   {
    "duration": 3754,
    "start_time": "2022-02-03T18:57:17.865Z"
   },
   {
    "duration": 3072,
    "start_time": "2022-02-03T18:57:24.296Z"
   },
   {
    "duration": 143,
    "start_time": "2022-02-03T18:57:30.000Z"
   },
   {
    "duration": 9,
    "start_time": "2022-02-03T18:57:37.616Z"
   },
   {
    "duration": 37,
    "start_time": "2022-02-03T18:59:50.604Z"
   },
   {
    "duration": 149,
    "start_time": "2022-02-03T19:00:02.041Z"
   },
   {
    "duration": 29,
    "start_time": "2022-02-03T19:00:07.367Z"
   },
   {
    "duration": 26,
    "start_time": "2022-02-03T19:00:44.903Z"
   },
   {
    "duration": 29,
    "start_time": "2022-02-03T19:00:59.043Z"
   },
   {
    "duration": 25,
    "start_time": "2022-02-03T19:01:28.288Z"
   },
   {
    "duration": 27,
    "start_time": "2022-02-03T19:01:36.087Z"
   },
   {
    "duration": 28,
    "start_time": "2022-02-03T19:01:46.349Z"
   },
   {
    "duration": 673,
    "start_time": "2022-02-03T19:02:10.122Z"
   },
   {
    "duration": 17,
    "start_time": "2022-02-03T19:02:10.797Z"
   },
   {
    "duration": 9,
    "start_time": "2022-02-03T19:02:10.816Z"
   },
   {
    "duration": 204,
    "start_time": "2022-02-03T19:02:10.828Z"
   },
   {
    "duration": -135,
    "start_time": "2022-02-03T19:02:11.169Z"
   },
   {
    "duration": -136,
    "start_time": "2022-02-03T19:02:11.171Z"
   },
   {
    "duration": -138,
    "start_time": "2022-02-03T19:02:11.173Z"
   },
   {
    "duration": -138,
    "start_time": "2022-02-03T19:02:11.174Z"
   },
   {
    "duration": -138,
    "start_time": "2022-02-03T19:02:11.175Z"
   },
   {
    "duration": -139,
    "start_time": "2022-02-03T19:02:11.177Z"
   },
   {
    "duration": -139,
    "start_time": "2022-02-03T19:02:11.178Z"
   },
   {
    "duration": -140,
    "start_time": "2022-02-03T19:02:11.180Z"
   },
   {
    "duration": -141,
    "start_time": "2022-02-03T19:02:11.182Z"
   },
   {
    "duration": -142,
    "start_time": "2022-02-03T19:02:11.183Z"
   },
   {
    "duration": -174,
    "start_time": "2022-02-03T19:02:11.216Z"
   },
   {
    "duration": -176,
    "start_time": "2022-02-03T19:02:11.219Z"
   },
   {
    "duration": -177,
    "start_time": "2022-02-03T19:02:11.221Z"
   },
   {
    "duration": -178,
    "start_time": "2022-02-03T19:02:11.223Z"
   },
   {
    "duration": 26,
    "start_time": "2022-02-03T19:02:19.953Z"
   },
   {
    "duration": 38,
    "start_time": "2022-02-03T19:03:26.889Z"
   },
   {
    "duration": 25,
    "start_time": "2022-02-03T19:03:31.757Z"
   },
   {
    "duration": 25,
    "start_time": "2022-02-03T19:03:41.827Z"
   },
   {
    "duration": 629,
    "start_time": "2022-02-03T19:04:32.808Z"
   },
   {
    "duration": 17,
    "start_time": "2022-02-03T19:04:33.439Z"
   },
   {
    "duration": 10,
    "start_time": "2022-02-03T19:04:33.460Z"
   },
   {
    "duration": 22,
    "start_time": "2022-02-03T19:04:33.472Z"
   },
   {
    "duration": 7,
    "start_time": "2022-02-03T19:04:33.496Z"
   },
   {
    "duration": 183,
    "start_time": "2022-02-03T19:04:33.504Z"
   },
   {
    "duration": -36,
    "start_time": "2022-02-03T19:04:33.725Z"
   },
   {
    "duration": -37,
    "start_time": "2022-02-03T19:04:33.727Z"
   },
   {
    "duration": -37,
    "start_time": "2022-02-03T19:04:33.728Z"
   },
   {
    "duration": -38,
    "start_time": "2022-02-03T19:04:33.730Z"
   },
   {
    "duration": -39,
    "start_time": "2022-02-03T19:04:33.732Z"
   },
   {
    "duration": -39,
    "start_time": "2022-02-03T19:04:33.733Z"
   },
   {
    "duration": -40,
    "start_time": "2022-02-03T19:04:33.735Z"
   },
   {
    "duration": -41,
    "start_time": "2022-02-03T19:04:33.737Z"
   },
   {
    "duration": -42,
    "start_time": "2022-02-03T19:04:33.739Z"
   },
   {
    "duration": -43,
    "start_time": "2022-02-03T19:04:33.741Z"
   },
   {
    "duration": -44,
    "start_time": "2022-02-03T19:04:33.743Z"
   },
   {
    "duration": -44,
    "start_time": "2022-02-03T19:04:33.744Z"
   },
   {
    "duration": 215,
    "start_time": "2022-02-03T19:04:50.626Z"
   },
   {
    "duration": 25,
    "start_time": "2022-02-03T19:04:57.345Z"
   },
   {
    "duration": 26,
    "start_time": "2022-02-03T19:05:34.959Z"
   },
   {
    "duration": 25,
    "start_time": "2022-02-03T19:05:39.951Z"
   },
   {
    "duration": 34,
    "start_time": "2022-02-03T19:05:44.974Z"
   },
   {
    "duration": 26,
    "start_time": "2022-02-03T19:05:46.781Z"
   },
   {
    "duration": 26,
    "start_time": "2022-02-03T19:06:19.407Z"
   },
   {
    "duration": 26,
    "start_time": "2022-02-03T19:06:22.438Z"
   },
   {
    "duration": 28,
    "start_time": "2022-02-03T19:06:27.816Z"
   },
   {
    "duration": 26,
    "start_time": "2022-02-03T19:06:29.695Z"
   },
   {
    "duration": 175,
    "start_time": "2022-02-03T19:06:48.012Z"
   },
   {
    "duration": 740,
    "start_time": "2022-02-03T19:06:52.912Z"
   },
   {
    "duration": 17,
    "start_time": "2022-02-03T19:06:53.654Z"
   },
   {
    "duration": 11,
    "start_time": "2022-02-03T19:06:53.674Z"
   },
   {
    "duration": 27,
    "start_time": "2022-02-03T19:06:53.687Z"
   },
   {
    "duration": 6,
    "start_time": "2022-02-03T19:06:53.715Z"
   },
   {
    "duration": 189,
    "start_time": "2022-02-03T19:06:53.723Z"
   },
   {
    "duration": -31,
    "start_time": "2022-02-03T19:06:53.945Z"
   },
   {
    "duration": -32,
    "start_time": "2022-02-03T19:06:53.947Z"
   },
   {
    "duration": -37,
    "start_time": "2022-02-03T19:06:53.953Z"
   },
   {
    "duration": -45,
    "start_time": "2022-02-03T19:06:53.962Z"
   },
   {
    "duration": -82,
    "start_time": "2022-02-03T19:06:54.000Z"
   },
   {
    "duration": -83,
    "start_time": "2022-02-03T19:06:54.002Z"
   },
   {
    "duration": -84,
    "start_time": "2022-02-03T19:06:54.004Z"
   },
   {
    "duration": -84,
    "start_time": "2022-02-03T19:06:54.005Z"
   },
   {
    "duration": -85,
    "start_time": "2022-02-03T19:06:54.007Z"
   },
   {
    "duration": -85,
    "start_time": "2022-02-03T19:06:54.008Z"
   },
   {
    "duration": -86,
    "start_time": "2022-02-03T19:06:54.010Z"
   },
   {
    "duration": -86,
    "start_time": "2022-02-03T19:06:54.011Z"
   },
   {
    "duration": 138,
    "start_time": "2022-02-03T19:07:13.626Z"
   },
   {
    "duration": 637,
    "start_time": "2022-02-03T19:07:20.979Z"
   },
   {
    "duration": 18,
    "start_time": "2022-02-03T19:07:21.618Z"
   },
   {
    "duration": 13,
    "start_time": "2022-02-03T19:07:21.637Z"
   },
   {
    "duration": 224,
    "start_time": "2022-02-03T19:07:21.652Z"
   },
   {
    "duration": -78,
    "start_time": "2022-02-03T19:07:21.957Z"
   },
   {
    "duration": -83,
    "start_time": "2022-02-03T19:07:21.963Z"
   },
   {
    "duration": -84,
    "start_time": "2022-02-03T19:07:21.965Z"
   },
   {
    "duration": -128,
    "start_time": "2022-02-03T19:07:22.011Z"
   },
   {
    "duration": -130,
    "start_time": "2022-02-03T19:07:22.014Z"
   },
   {
    "duration": -131,
    "start_time": "2022-02-03T19:07:22.016Z"
   },
   {
    "duration": -130,
    "start_time": "2022-02-03T19:07:22.017Z"
   },
   {
    "duration": -131,
    "start_time": "2022-02-03T19:07:22.019Z"
   },
   {
    "duration": -131,
    "start_time": "2022-02-03T19:07:22.020Z"
   },
   {
    "duration": -130,
    "start_time": "2022-02-03T19:07:22.021Z"
   },
   {
    "duration": -131,
    "start_time": "2022-02-03T19:07:22.023Z"
   },
   {
    "duration": -131,
    "start_time": "2022-02-03T19:07:22.025Z"
   },
   {
    "duration": -132,
    "start_time": "2022-02-03T19:07:22.027Z"
   },
   {
    "duration": -131,
    "start_time": "2022-02-03T19:07:22.028Z"
   },
   {
    "duration": 28,
    "start_time": "2022-02-03T19:07:50.011Z"
   },
   {
    "duration": 655,
    "start_time": "2022-02-03T19:07:55.884Z"
   },
   {
    "duration": 16,
    "start_time": "2022-02-03T19:07:56.541Z"
   },
   {
    "duration": 10,
    "start_time": "2022-02-03T19:07:56.559Z"
   },
   {
    "duration": 23,
    "start_time": "2022-02-03T19:07:56.571Z"
   },
   {
    "duration": 6,
    "start_time": "2022-02-03T19:07:56.596Z"
   },
   {
    "duration": 183,
    "start_time": "2022-02-03T19:07:56.603Z"
   },
   {
    "duration": -37,
    "start_time": "2022-02-03T19:07:56.825Z"
   },
   {
    "duration": -38,
    "start_time": "2022-02-03T19:07:56.827Z"
   },
   {
    "duration": -38,
    "start_time": "2022-02-03T19:07:56.828Z"
   },
   {
    "duration": -84,
    "start_time": "2022-02-03T19:07:56.875Z"
   },
   {
    "duration": -83,
    "start_time": "2022-02-03T19:07:56.876Z"
   },
   {
    "duration": -84,
    "start_time": "2022-02-03T19:07:56.878Z"
   },
   {
    "duration": -84,
    "start_time": "2022-02-03T19:07:56.879Z"
   },
   {
    "duration": -90,
    "start_time": "2022-02-03T19:07:56.886Z"
   },
   {
    "duration": -92,
    "start_time": "2022-02-03T19:07:56.889Z"
   },
   {
    "duration": -94,
    "start_time": "2022-02-03T19:07:56.891Z"
   },
   {
    "duration": -94,
    "start_time": "2022-02-03T19:07:56.892Z"
   },
   {
    "duration": -95,
    "start_time": "2022-02-03T19:07:56.894Z"
   },
   {
    "duration": 345,
    "start_time": "2022-02-03T19:20:29.463Z"
   },
   {
    "duration": 446,
    "start_time": "2022-02-03T19:20:47.961Z"
   },
   {
    "duration": 570,
    "start_time": "2022-02-03T19:21:05.355Z"
   },
   {
    "duration": 578,
    "start_time": "2022-02-03T19:21:26.669Z"
   },
   {
    "duration": 518,
    "start_time": "2022-02-03T19:25:16.645Z"
   },
   {
    "duration": 492,
    "start_time": "2022-02-03T19:26:59.445Z"
   },
   {
    "duration": 746,
    "start_time": "2022-02-03T19:27:10.184Z"
   },
   {
    "duration": 19,
    "start_time": "2022-02-03T19:27:10.932Z"
   },
   {
    "duration": 12,
    "start_time": "2022-02-03T19:27:10.953Z"
   },
   {
    "duration": 393,
    "start_time": "2022-02-03T19:27:10.967Z"
   },
   {
    "duration": 7,
    "start_time": "2022-02-03T19:27:11.363Z"
   },
   {
    "duration": 200,
    "start_time": "2022-02-03T19:27:11.372Z"
   },
   {
    "duration": 33,
    "start_time": "2022-02-03T19:27:11.541Z"
   },
   {
    "duration": 31,
    "start_time": "2022-02-03T19:27:11.545Z"
   },
   {
    "duration": 31,
    "start_time": "2022-02-03T19:27:11.546Z"
   },
   {
    "duration": -8,
    "start_time": "2022-02-03T19:27:11.585Z"
   },
   {
    "duration": -10,
    "start_time": "2022-02-03T19:27:11.588Z"
   },
   {
    "duration": -11,
    "start_time": "2022-02-03T19:27:11.590Z"
   },
   {
    "duration": -11,
    "start_time": "2022-02-03T19:27:11.591Z"
   },
   {
    "duration": -11,
    "start_time": "2022-02-03T19:27:11.592Z"
   },
   {
    "duration": -12,
    "start_time": "2022-02-03T19:27:11.594Z"
   },
   {
    "duration": -12,
    "start_time": "2022-02-03T19:27:11.595Z"
   },
   {
    "duration": -13,
    "start_time": "2022-02-03T19:27:11.597Z"
   },
   {
    "duration": -19,
    "start_time": "2022-02-03T19:27:11.603Z"
   },
   {
    "duration": 480,
    "start_time": "2022-02-03T19:27:26.905Z"
   },
   {
    "duration": 361,
    "start_time": "2022-02-04T17:46:23.006Z"
   },
   {
    "duration": 1110,
    "start_time": "2022-02-04T17:46:28.268Z"
   },
   {
    "duration": 29,
    "start_time": "2022-02-04T17:46:29.381Z"
   },
   {
    "duration": 24,
    "start_time": "2022-02-04T17:46:29.412Z"
   },
   {
    "duration": 1011,
    "start_time": "2022-02-04T17:46:29.438Z"
   },
   {
    "duration": -496,
    "start_time": "2022-02-04T17:46:30.948Z"
   },
   {
    "duration": -497,
    "start_time": "2022-02-04T17:46:30.951Z"
   },
   {
    "duration": -535,
    "start_time": "2022-02-04T17:46:30.990Z"
   },
   {
    "duration": -536,
    "start_time": "2022-02-04T17:46:30.993Z"
   },
   {
    "duration": -537,
    "start_time": "2022-02-04T17:46:30.995Z"
   },
   {
    "duration": -537,
    "start_time": "2022-02-04T17:46:30.996Z"
   },
   {
    "duration": -536,
    "start_time": "2022-02-04T17:46:30.997Z"
   },
   {
    "duration": -537,
    "start_time": "2022-02-04T17:46:30.999Z"
   },
   {
    "duration": -536,
    "start_time": "2022-02-04T17:46:31.000Z"
   },
   {
    "duration": -536,
    "start_time": "2022-02-04T17:46:31.001Z"
   },
   {
    "duration": -536,
    "start_time": "2022-02-04T17:46:31.003Z"
   },
   {
    "duration": -536,
    "start_time": "2022-02-04T17:46:31.004Z"
   },
   {
    "duration": -535,
    "start_time": "2022-02-04T17:46:31.005Z"
   },
   {
    "duration": -535,
    "start_time": "2022-02-04T17:46:31.007Z"
   },
   {
    "duration": 3931,
    "start_time": "2022-02-04T17:46:43.375Z"
   },
   {
    "duration": -540,
    "start_time": "2022-02-04T17:46:47.849Z"
   },
   {
    "duration": -541,
    "start_time": "2022-02-04T17:46:47.851Z"
   },
   {
    "duration": -540,
    "start_time": "2022-02-04T17:46:47.852Z"
   },
   {
    "duration": 3755,
    "start_time": "2022-02-04T17:46:55.037Z"
   },
   {
    "duration": -540,
    "start_time": "2022-02-04T17:46:59.335Z"
   },
   {
    "duration": -540,
    "start_time": "2022-02-04T17:46:59.336Z"
   },
   {
    "duration": 297,
    "start_time": "2022-02-04T17:46:59.014Z"
   },
   {
    "duration": 346,
    "start_time": "2022-02-08T13:23:50.047Z"
   },
   {
    "duration": 835,
    "start_time": "2022-02-08T13:24:00.614Z"
   },
   {
    "duration": 16,
    "start_time": "2022-02-08T13:24:01.727Z"
   },
   {
    "duration": 11,
    "start_time": "2022-02-08T13:24:04.102Z"
   },
   {
    "duration": 4,
    "start_time": "2022-02-08T13:24:07.537Z"
   },
   {
    "duration": 282,
    "start_time": "2022-02-08T13:24:22.212Z"
   },
   {
    "duration": 3,
    "start_time": "2022-02-08T13:24:32.315Z"
   },
   {
    "duration": 95,
    "start_time": "2022-02-08T13:24:52.524Z"
   },
   {
    "duration": 4,
    "start_time": "2022-02-08T13:24:55.061Z"
   },
   {
    "duration": 6,
    "start_time": "2022-02-08T13:27:29.222Z"
   },
   {
    "duration": 5,
    "start_time": "2022-02-08T13:27:31.642Z"
   },
   {
    "duration": 4,
    "start_time": "2022-02-08T13:47:18.932Z"
   },
   {
    "duration": 23,
    "start_time": "2022-02-08T13:48:11.431Z"
   },
   {
    "duration": 23,
    "start_time": "2022-02-08T13:48:21.644Z"
   },
   {
    "duration": 79,
    "start_time": "2022-02-08T13:48:47.048Z"
   },
   {
    "duration": 4,
    "start_time": "2022-02-08T13:48:55.376Z"
   },
   {
    "duration": 23,
    "start_time": "2022-02-08T13:48:58.104Z"
   },
   {
    "duration": 3,
    "start_time": "2022-02-08T13:50:19.935Z"
   },
   {
    "duration": 22,
    "start_time": "2022-02-08T13:50:36.855Z"
   },
   {
    "duration": 24,
    "start_time": "2022-02-08T13:50:45.110Z"
   },
   {
    "duration": 3,
    "start_time": "2022-02-08T13:51:32.716Z"
   },
   {
    "duration": 4,
    "start_time": "2022-02-08T13:52:03.964Z"
   },
   {
    "duration": 22,
    "start_time": "2022-02-08T13:52:05.555Z"
   },
   {
    "duration": 22,
    "start_time": "2022-02-08T13:52:12.514Z"
   },
   {
    "duration": 3,
    "start_time": "2022-02-08T13:52:20.668Z"
   },
   {
    "duration": 23,
    "start_time": "2022-02-08T13:52:21.681Z"
   },
   {
    "duration": 4,
    "start_time": "2022-02-08T13:52:50.205Z"
   },
   {
    "duration": 24,
    "start_time": "2022-02-08T13:52:51.319Z"
   },
   {
    "duration": 4,
    "start_time": "2022-02-08T13:53:04.462Z"
   },
   {
    "duration": 23,
    "start_time": "2022-02-08T13:53:05.642Z"
   },
   {
    "duration": 4,
    "start_time": "2022-02-08T13:54:31.244Z"
   },
   {
    "duration": 22,
    "start_time": "2022-02-08T13:54:33.272Z"
   },
   {
    "duration": 8,
    "start_time": "2022-02-08T13:54:52.277Z"
   },
   {
    "duration": 3,
    "start_time": "2022-02-08T13:55:45.770Z"
   },
   {
    "duration": 311,
    "start_time": "2022-02-08T13:56:03.356Z"
   },
   {
    "duration": 280,
    "start_time": "2022-02-08T13:56:04.482Z"
   },
   {
    "duration": 5,
    "start_time": "2022-02-08T13:56:29.750Z"
   },
   {
    "duration": 987,
    "start_time": "2022-02-08T13:58:16.516Z"
   },
   {
    "duration": -17,
    "start_time": "2022-02-08T13:58:17.521Z"
   },
   {
    "duration": 1015,
    "start_time": "2022-02-08T13:58:54.844Z"
   },
   {
    "duration": 1161,
    "start_time": "2022-02-08T13:59:59.270Z"
   },
   {
    "duration": 1009,
    "start_time": "2022-02-08T14:00:31.380Z"
   },
   {
    "duration": 1238,
    "start_time": "2022-02-08T14:00:44.416Z"
   },
   {
    "duration": 972,
    "start_time": "2022-02-08T14:00:50.340Z"
   },
   {
    "duration": 3,
    "start_time": "2022-02-08T14:02:45.120Z"
   },
   {
    "duration": 992,
    "start_time": "2022-02-08T14:02:47.686Z"
   },
   {
    "duration": 3,
    "start_time": "2022-02-08T14:07:52.011Z"
   },
   {
    "duration": 3,
    "start_time": "2022-02-08T14:07:55.835Z"
   },
   {
    "duration": 3254,
    "start_time": "2022-02-08T14:08:41.152Z"
   },
   {
    "duration": 2,
    "start_time": "2022-02-08T14:09:38.704Z"
   },
   {
    "duration": 3672,
    "start_time": "2022-02-08T14:09:57.832Z"
   },
   {
    "duration": 2,
    "start_time": "2022-02-08T14:10:16.604Z"
   },
   {
    "duration": 3550,
    "start_time": "2022-02-08T14:10:17.981Z"
   },
   {
    "duration": 3292,
    "start_time": "2022-02-08T14:12:01.128Z"
   },
   {
    "duration": -69,
    "start_time": "2022-02-08T14:12:04.491Z"
   },
   {
    "duration": 3737,
    "start_time": "2022-02-08T14:12:32.991Z"
   },
   {
    "duration": -70,
    "start_time": "2022-02-08T14:12:36.800Z"
   },
   {
    "duration": 388,
    "start_time": "2022-02-08T14:12:55.136Z"
   },
   {
    "duration": 10,
    "start_time": "2022-02-08T14:12:56.980Z"
   },
   {
    "duration": 11,
    "start_time": "2022-02-08T14:12:58.926Z"
   },
   {
    "duration": 4,
    "start_time": "2022-02-08T14:13:01.625Z"
   },
   {
    "duration": 5,
    "start_time": "2022-02-08T14:13:02.659Z"
   },
   {
    "duration": 3,
    "start_time": "2022-02-08T14:13:03.905Z"
   },
   {
    "duration": 3,
    "start_time": "2022-02-08T14:13:27.913Z"
   },
   {
    "duration": 313,
    "start_time": "2022-02-08T14:13:28.965Z"
   },
   {
    "duration": 23,
    "start_time": "2022-02-08T14:13:33.441Z"
   },
   {
    "duration": 3,
    "start_time": "2022-02-08T14:13:58.944Z"
   },
   {
    "duration": 332,
    "start_time": "2022-02-08T14:14:00.030Z"
   },
   {
    "duration": 24,
    "start_time": "2022-02-08T14:14:01.431Z"
   },
   {
    "duration": 815,
    "start_time": "2022-02-08T14:15:24.760Z"
   },
   {
    "duration": 16,
    "start_time": "2022-02-08T14:15:25.577Z"
   },
   {
    "duration": 9,
    "start_time": "2022-02-08T14:15:25.598Z"
   },
   {
    "duration": 3,
    "start_time": "2022-02-08T14:15:25.609Z"
   },
   {
    "duration": 359,
    "start_time": "2022-02-08T14:15:25.613Z"
   },
   {
    "duration": 26,
    "start_time": "2022-02-08T14:15:25.974Z"
   },
   {
    "duration": 6,
    "start_time": "2022-02-08T14:15:26.003Z"
   },
   {
    "duration": 317,
    "start_time": "2022-02-08T14:15:26.011Z"
   },
   {
    "duration": -26,
    "start_time": "2022-02-08T14:15:26.356Z"
   },
   {
    "duration": -28,
    "start_time": "2022-02-08T14:15:26.359Z"
   },
   {
    "duration": -29,
    "start_time": "2022-02-08T14:15:26.360Z"
   },
   {
    "duration": -30,
    "start_time": "2022-02-08T14:15:26.362Z"
   },
   {
    "duration": -31,
    "start_time": "2022-02-08T14:15:26.364Z"
   },
   {
    "duration": -31,
    "start_time": "2022-02-08T14:15:26.365Z"
   },
   {
    "duration": -59,
    "start_time": "2022-02-08T14:15:26.394Z"
   },
   {
    "duration": -60,
    "start_time": "2022-02-08T14:15:26.395Z"
   },
   {
    "duration": -61,
    "start_time": "2022-02-08T14:15:26.397Z"
   },
   {
    "duration": -62,
    "start_time": "2022-02-08T14:15:26.399Z"
   },
   {
    "duration": -62,
    "start_time": "2022-02-08T14:15:26.400Z"
   },
   {
    "duration": -63,
    "start_time": "2022-02-08T14:15:26.402Z"
   },
   {
    "duration": 227,
    "start_time": "2022-02-08T14:15:29.672Z"
   },
   {
    "duration": 12,
    "start_time": "2022-02-08T14:15:30.380Z"
   },
   {
    "duration": 10,
    "start_time": "2022-02-08T14:15:31.525Z"
   },
   {
    "duration": 3,
    "start_time": "2022-02-08T14:15:40.247Z"
   },
   {
    "duration": 329,
    "start_time": "2022-02-08T14:15:40.833Z"
   },
   {
    "duration": 23,
    "start_time": "2022-02-08T14:15:41.797Z"
   },
   {
    "duration": 23,
    "start_time": "2022-02-08T14:15:53.581Z"
   },
   {
    "duration": 327,
    "start_time": "2022-02-08T14:16:51.137Z"
   },
   {
    "duration": 284,
    "start_time": "2022-02-08T14:16:51.805Z"
   },
   {
    "duration": 1134,
    "start_time": "2022-02-08T14:17:04.541Z"
   },
   {
    "duration": -66,
    "start_time": "2022-02-08T14:17:05.743Z"
   },
   {
    "duration": 817,
    "start_time": "2022-02-08T14:17:12.466Z"
   },
   {
    "duration": 16,
    "start_time": "2022-02-08T14:17:13.285Z"
   },
   {
    "duration": 9,
    "start_time": "2022-02-08T14:17:13.303Z"
   },
   {
    "duration": 3,
    "start_time": "2022-02-08T14:17:13.314Z"
   },
   {
    "duration": 325,
    "start_time": "2022-02-08T14:17:13.318Z"
   },
   {
    "duration": 28,
    "start_time": "2022-02-08T14:17:13.644Z"
   },
   {
    "duration": 6,
    "start_time": "2022-02-08T14:17:13.674Z"
   },
   {
    "duration": 328,
    "start_time": "2022-02-08T14:17:13.681Z"
   },
   {
    "duration": -35,
    "start_time": "2022-02-08T14:17:14.047Z"
   },
   {
    "duration": -38,
    "start_time": "2022-02-08T14:17:14.051Z"
   },
   {
    "duration": -39,
    "start_time": "2022-02-08T14:17:14.053Z"
   },
   {
    "duration": -75,
    "start_time": "2022-02-08T14:17:14.090Z"
   },
   {
    "duration": -78,
    "start_time": "2022-02-08T14:17:14.094Z"
   },
   {
    "duration": -80,
    "start_time": "2022-02-08T14:17:14.096Z"
   },
   {
    "duration": -80,
    "start_time": "2022-02-08T14:17:14.097Z"
   },
   {
    "duration": -81,
    "start_time": "2022-02-08T14:17:14.099Z"
   },
   {
    "duration": -82,
    "start_time": "2022-02-08T14:17:14.101Z"
   },
   {
    "duration": -82,
    "start_time": "2022-02-08T14:17:14.102Z"
   },
   {
    "duration": -86,
    "start_time": "2022-02-08T14:17:14.107Z"
   },
   {
    "duration": -89,
    "start_time": "2022-02-08T14:17:14.111Z"
   },
   {
    "duration": 6,
    "start_time": "2022-02-08T14:17:35.641Z"
   },
   {
    "duration": 5,
    "start_time": "2022-02-08T14:17:47.743Z"
   },
   {
    "duration": 25,
    "start_time": "2022-02-08T14:19:00.862Z"
   },
   {
    "duration": 26,
    "start_time": "2022-02-08T14:19:15.619Z"
   },
   {
    "duration": 26,
    "start_time": "2022-02-08T14:19:39.370Z"
   },
   {
    "duration": 3,
    "start_time": "2022-02-08T14:24:47.210Z"
   },
   {
    "duration": 426,
    "start_time": "2022-02-08T14:24:48.052Z"
   },
   {
    "duration": 25,
    "start_time": "2022-02-08T14:24:48.750Z"
   },
   {
    "duration": 28,
    "start_time": "2022-02-08T14:24:56.941Z"
   },
   {
    "duration": 4,
    "start_time": "2022-02-08T14:26:07.901Z"
   },
   {
    "duration": 341,
    "start_time": "2022-02-08T14:26:08.378Z"
   },
   {
    "duration": 26,
    "start_time": "2022-02-08T14:26:11.050Z"
   },
   {
    "duration": 319,
    "start_time": "2022-02-08T14:26:21.792Z"
   },
   {
    "duration": 292,
    "start_time": "2022-02-08T14:26:22.360Z"
   },
   {
    "duration": 270,
    "start_time": "2022-02-08T14:26:35.953Z"
   },
   {
    "duration": 1210,
    "start_time": "2022-02-08T14:26:37.651Z"
   },
   {
    "duration": 1139,
    "start_time": "2022-02-08T14:26:52.447Z"
   },
   {
    "duration": 1062,
    "start_time": "2022-02-08T14:29:44.754Z"
   },
   {
    "duration": 263,
    "start_time": "2022-02-08T14:29:46.020Z"
   },
   {
    "duration": 4,
    "start_time": "2022-02-08T14:30:34.036Z"
   },
   {
    "duration": 1046,
    "start_time": "2022-02-08T14:30:34.745Z"
   },
   {
    "duration": 835,
    "start_time": "2022-02-08T14:30:47.717Z"
   },
   {
    "duration": 17,
    "start_time": "2022-02-08T14:30:48.554Z"
   },
   {
    "duration": 28,
    "start_time": "2022-02-08T14:30:48.574Z"
   },
   {
    "duration": 3,
    "start_time": "2022-02-08T14:30:48.604Z"
   },
   {
    "duration": 986,
    "start_time": "2022-02-08T14:30:48.608Z"
   },
   {
    "duration": -63,
    "start_time": "2022-02-08T14:30:49.660Z"
   },
   {
    "duration": -66,
    "start_time": "2022-02-08T14:30:49.664Z"
   },
   {
    "duration": -67,
    "start_time": "2022-02-08T14:30:49.666Z"
   },
   {
    "duration": -73,
    "start_time": "2022-02-08T14:30:49.674Z"
   },
   {
    "duration": -76,
    "start_time": "2022-02-08T14:30:49.678Z"
   },
   {
    "duration": -76,
    "start_time": "2022-02-08T14:30:49.680Z"
   },
   {
    "duration": -78,
    "start_time": "2022-02-08T14:30:49.683Z"
   },
   {
    "duration": -79,
    "start_time": "2022-02-08T14:30:49.686Z"
   },
   {
    "duration": -88,
    "start_time": "2022-02-08T14:30:49.696Z"
   },
   {
    "duration": -90,
    "start_time": "2022-02-08T14:30:49.699Z"
   },
   {
    "duration": -90,
    "start_time": "2022-02-08T14:30:49.701Z"
   },
   {
    "duration": -94,
    "start_time": "2022-02-08T14:30:49.706Z"
   },
   {
    "duration": -96,
    "start_time": "2022-02-08T14:30:49.709Z"
   },
   {
    "duration": -96,
    "start_time": "2022-02-08T14:30:49.711Z"
   },
   {
    "duration": -97,
    "start_time": "2022-02-08T14:30:49.713Z"
   },
   {
    "duration": 326,
    "start_time": "2022-02-08T14:31:02.424Z"
   },
   {
    "duration": 25,
    "start_time": "2022-02-08T14:31:05.591Z"
   },
   {
    "duration": 3,
    "start_time": "2022-02-08T14:31:12.498Z"
   },
   {
    "duration": 359,
    "start_time": "2022-02-08T14:31:13.004Z"
   },
   {
    "duration": 24,
    "start_time": "2022-02-08T14:31:13.482Z"
   },
   {
    "duration": 15,
    "start_time": "2022-02-08T14:34:50.225Z"
   },
   {
    "duration": 26,
    "start_time": "2022-02-08T14:35:01.730Z"
   },
   {
    "duration": 27,
    "start_time": "2022-02-08T14:35:16.518Z"
   },
   {
    "duration": 8,
    "start_time": "2022-02-08T14:36:36.690Z"
   },
   {
    "duration": 26,
    "start_time": "2022-02-08T14:36:40.341Z"
   },
   {
    "duration": 25,
    "start_time": "2022-02-08T14:37:15.577Z"
   },
   {
    "duration": 26,
    "start_time": "2022-02-08T14:37:22.798Z"
   },
   {
    "duration": 714,
    "start_time": "2022-02-08T14:38:19.497Z"
   },
   {
    "duration": 17,
    "start_time": "2022-02-08T14:38:20.213Z"
   },
   {
    "duration": 10,
    "start_time": "2022-02-08T14:38:20.234Z"
   },
   {
    "duration": 3,
    "start_time": "2022-02-08T14:38:20.246Z"
   },
   {
    "duration": 22,
    "start_time": "2022-02-08T14:38:20.251Z"
   },
   {
    "duration": 24,
    "start_time": "2022-02-08T14:38:20.274Z"
   },
   {
    "duration": 2,
    "start_time": "2022-02-08T14:38:20.300Z"
   },
   {
    "duration": 26,
    "start_time": "2022-02-08T14:38:20.304Z"
   },
   {
    "duration": 48,
    "start_time": "2022-02-08T14:38:20.331Z"
   },
   {
    "duration": 6805,
    "start_time": "2022-02-08T14:38:20.380Z"
   },
   {
    "duration": -66,
    "start_time": "2022-02-08T14:38:27.253Z"
   },
   {
    "duration": -68,
    "start_time": "2022-02-08T14:38:27.256Z"
   },
   {
    "duration": -69,
    "start_time": "2022-02-08T14:38:27.258Z"
   },
   {
    "duration": -74,
    "start_time": "2022-02-08T14:38:27.264Z"
   },
   {
    "duration": -76,
    "start_time": "2022-02-08T14:38:27.267Z"
   },
   {
    "duration": -78,
    "start_time": "2022-02-08T14:38:27.270Z"
   },
   {
    "duration": -79,
    "start_time": "2022-02-08T14:38:27.272Z"
   },
   {
    "duration": -81,
    "start_time": "2022-02-08T14:38:27.275Z"
   },
   {
    "duration": -87,
    "start_time": "2022-02-08T14:38:27.282Z"
   },
   {
    "duration": -90,
    "start_time": "2022-02-08T14:38:27.286Z"
   },
   {
    "duration": -91,
    "start_time": "2022-02-08T14:38:27.288Z"
   },
   {
    "duration": -92,
    "start_time": "2022-02-08T14:38:27.290Z"
   },
   {
    "duration": -97,
    "start_time": "2022-02-08T14:38:27.296Z"
   },
   {
    "duration": 25,
    "start_time": "2022-02-08T14:38:34.195Z"
   },
   {
    "duration": 24,
    "start_time": "2022-02-08T14:38:52.732Z"
   },
   {
    "duration": 2,
    "start_time": "2022-02-08T14:38:54.751Z"
   },
   {
    "duration": 4,
    "start_time": "2022-02-08T14:39:11.869Z"
   },
   {
    "duration": 6,
    "start_time": "2022-02-08T14:39:12.346Z"
   },
   {
    "duration": 25,
    "start_time": "2022-02-08T14:39:12.916Z"
   },
   {
    "duration": 844,
    "start_time": "2022-02-08T14:39:25.246Z"
   },
   {
    "duration": 17,
    "start_time": "2022-02-08T14:39:26.092Z"
   },
   {
    "duration": 11,
    "start_time": "2022-02-08T14:39:26.110Z"
   },
   {
    "duration": 3,
    "start_time": "2022-02-08T14:39:26.122Z"
   },
   {
    "duration": 11,
    "start_time": "2022-02-08T14:39:26.126Z"
   },
   {
    "duration": 44,
    "start_time": "2022-02-08T14:39:26.139Z"
   },
   {
    "duration": 2,
    "start_time": "2022-02-08T14:39:26.184Z"
   },
   {
    "duration": 24,
    "start_time": "2022-02-08T14:39:26.188Z"
   },
   {
    "duration": 23,
    "start_time": "2022-02-08T14:39:26.214Z"
   },
   {
    "duration": 6771,
    "start_time": "2022-02-08T14:39:26.238Z"
   },
   {
    "duration": -68,
    "start_time": "2022-02-08T14:39:33.079Z"
   },
   {
    "duration": -69,
    "start_time": "2022-02-08T14:39:33.081Z"
   },
   {
    "duration": -70,
    "start_time": "2022-02-08T14:39:33.083Z"
   },
   {
    "duration": -70,
    "start_time": "2022-02-08T14:39:33.084Z"
   },
   {
    "duration": -70,
    "start_time": "2022-02-08T14:39:33.085Z"
   },
   {
    "duration": -72,
    "start_time": "2022-02-08T14:39:33.088Z"
   },
   {
    "duration": -78,
    "start_time": "2022-02-08T14:39:33.094Z"
   },
   {
    "duration": -80,
    "start_time": "2022-02-08T14:39:33.097Z"
   },
   {
    "duration": -81,
    "start_time": "2022-02-08T14:39:33.099Z"
   },
   {
    "duration": -81,
    "start_time": "2022-02-08T14:39:33.100Z"
   },
   {
    "duration": -83,
    "start_time": "2022-02-08T14:39:33.102Z"
   },
   {
    "duration": -83,
    "start_time": "2022-02-08T14:39:33.103Z"
   },
   {
    "duration": -88,
    "start_time": "2022-02-08T14:39:33.109Z"
   },
   {
    "duration": 3,
    "start_time": "2022-02-08T14:39:43.893Z"
   },
   {
    "duration": 6,
    "start_time": "2022-02-08T14:39:44.247Z"
   },
   {
    "duration": 26,
    "start_time": "2022-02-08T14:39:44.521Z"
   },
   {
    "duration": 774,
    "start_time": "2022-02-08T14:39:57.920Z"
   },
   {
    "duration": 17,
    "start_time": "2022-02-08T14:39:58.696Z"
   },
   {
    "duration": 25,
    "start_time": "2022-02-08T14:39:58.715Z"
   },
   {
    "duration": 11,
    "start_time": "2022-02-08T14:39:58.742Z"
   },
   {
    "duration": 30,
    "start_time": "2022-02-08T14:39:58.755Z"
   },
   {
    "duration": 23,
    "start_time": "2022-02-08T14:39:58.786Z"
   },
   {
    "duration": 3,
    "start_time": "2022-02-08T14:39:58.811Z"
   },
   {
    "duration": 36,
    "start_time": "2022-02-08T14:39:58.816Z"
   },
   {
    "duration": 28,
    "start_time": "2022-02-08T14:39:58.854Z"
   },
   {
    "duration": 18740,
    "start_time": "2022-02-08T14:39:58.884Z"
   },
   {
    "duration": -69,
    "start_time": "2022-02-08T14:40:17.695Z"
   },
   {
    "duration": -69,
    "start_time": "2022-02-08T14:40:17.696Z"
   },
   {
    "duration": -70,
    "start_time": "2022-02-08T14:40:17.698Z"
   },
   {
    "duration": -71,
    "start_time": "2022-02-08T14:40:17.700Z"
   },
   {
    "duration": -73,
    "start_time": "2022-02-08T14:40:17.702Z"
   },
   {
    "duration": -73,
    "start_time": "2022-02-08T14:40:17.703Z"
   },
   {
    "duration": -74,
    "start_time": "2022-02-08T14:40:17.705Z"
   },
   {
    "duration": -75,
    "start_time": "2022-02-08T14:40:17.706Z"
   },
   {
    "duration": -77,
    "start_time": "2022-02-08T14:40:17.709Z"
   },
   {
    "duration": -77,
    "start_time": "2022-02-08T14:40:17.710Z"
   },
   {
    "duration": -78,
    "start_time": "2022-02-08T14:40:17.712Z"
   },
   {
    "duration": -79,
    "start_time": "2022-02-08T14:40:17.713Z"
   },
   {
    "duration": -80,
    "start_time": "2022-02-08T14:40:17.715Z"
   },
   {
    "duration": -80,
    "start_time": "2022-02-08T14:40:17.717Z"
   },
   {
    "duration": -82,
    "start_time": "2022-02-08T14:40:17.719Z"
   },
   {
    "duration": -84,
    "start_time": "2022-02-08T14:40:17.722Z"
   },
   {
    "duration": 1224,
    "start_time": "2022-02-08T14:40:25.467Z"
   },
   {
    "duration": 16,
    "start_time": "2022-02-08T14:40:26.693Z"
   },
   {
    "duration": 11,
    "start_time": "2022-02-08T14:40:26.711Z"
   },
   {
    "duration": 2,
    "start_time": "2022-02-08T14:40:26.724Z"
   },
   {
    "duration": 13,
    "start_time": "2022-02-08T14:40:26.728Z"
   },
   {
    "duration": 51,
    "start_time": "2022-02-08T14:40:26.742Z"
   },
   {
    "duration": 2,
    "start_time": "2022-02-08T14:40:26.795Z"
   },
   {
    "duration": 26,
    "start_time": "2022-02-08T14:40:26.799Z"
   },
   {
    "duration": 55,
    "start_time": "2022-02-08T14:40:26.828Z"
   },
   {
    "duration": 16394,
    "start_time": "2022-02-08T14:40:26.884Z"
   },
   {
    "duration": -66,
    "start_time": "2022-02-08T14:40:43.346Z"
   },
   {
    "duration": -67,
    "start_time": "2022-02-08T14:40:43.347Z"
   },
   {
    "duration": -68,
    "start_time": "2022-02-08T14:40:43.349Z"
   },
   {
    "duration": -69,
    "start_time": "2022-02-08T14:40:43.351Z"
   },
   {
    "duration": -69,
    "start_time": "2022-02-08T14:40:43.352Z"
   },
   {
    "duration": -70,
    "start_time": "2022-02-08T14:40:43.354Z"
   },
   {
    "duration": -71,
    "start_time": "2022-02-08T14:40:43.356Z"
   },
   {
    "duration": -71,
    "start_time": "2022-02-08T14:40:43.357Z"
   },
   {
    "duration": -72,
    "start_time": "2022-02-08T14:40:43.359Z"
   },
   {
    "duration": -72,
    "start_time": "2022-02-08T14:40:43.360Z"
   },
   {
    "duration": -72,
    "start_time": "2022-02-08T14:40:43.361Z"
   },
   {
    "duration": -74,
    "start_time": "2022-02-08T14:40:43.364Z"
   },
   {
    "duration": -75,
    "start_time": "2022-02-08T14:40:43.366Z"
   },
   {
    "duration": -76,
    "start_time": "2022-02-08T14:40:43.367Z"
   },
   {
    "duration": -76,
    "start_time": "2022-02-08T14:40:43.368Z"
   },
   {
    "duration": 183,
    "start_time": "2022-02-08T14:41:15.441Z"
   },
   {
    "duration": 11,
    "start_time": "2022-02-08T14:41:16.727Z"
   },
   {
    "duration": 11,
    "start_time": "2022-02-08T14:41:19.767Z"
   },
   {
    "duration": 3,
    "start_time": "2022-02-08T14:41:23.249Z"
   },
   {
    "duration": 10,
    "start_time": "2022-02-08T14:41:24.980Z"
   },
   {
    "duration": 23,
    "start_time": "2022-02-08T14:41:27.055Z"
   },
   {
    "duration": 24,
    "start_time": "2022-02-08T14:42:07.095Z"
   },
   {
    "duration": 25,
    "start_time": "2022-02-08T14:42:10.865Z"
   },
   {
    "duration": 3,
    "start_time": "2022-02-08T14:42:24.981Z"
   },
   {
    "duration": 7,
    "start_time": "2022-02-08T14:42:25.394Z"
   },
   {
    "duration": 26,
    "start_time": "2022-02-08T14:42:25.802Z"
   },
   {
    "duration": 14,
    "start_time": "2022-02-08T14:48:23.866Z"
   },
   {
    "duration": 25,
    "start_time": "2022-02-08T14:48:27.201Z"
   },
   {
    "duration": 25,
    "start_time": "2022-02-08T14:48:34.140Z"
   },
   {
    "duration": 24,
    "start_time": "2022-02-08T14:48:44.979Z"
   },
   {
    "duration": 2,
    "start_time": "2022-02-08T14:48:45.689Z"
   },
   {
    "duration": 10,
    "start_time": "2022-02-08T14:51:02.832Z"
   },
   {
    "duration": 24,
    "start_time": "2022-02-08T14:51:03.260Z"
   },
   {
    "duration": 24,
    "start_time": "2022-02-08T14:51:16.423Z"
   },
   {
    "duration": 6,
    "start_time": "2022-02-08T14:51:46.642Z"
   },
   {
    "duration": 25,
    "start_time": "2022-02-08T14:51:47.456Z"
   },
   {
    "duration": 7,
    "start_time": "2022-02-08T14:51:51.407Z"
   },
   {
    "duration": 25,
    "start_time": "2022-02-08T14:51:51.783Z"
   },
   {
    "duration": 6,
    "start_time": "2022-02-08T14:52:04.201Z"
   },
   {
    "duration": 2,
    "start_time": "2022-02-08T14:52:11.543Z"
   },
   {
    "duration": 3,
    "start_time": "2022-02-08T14:52:18.391Z"
   },
   {
    "duration": 714,
    "start_time": "2022-02-08T14:52:25.703Z"
   },
   {
    "duration": 16,
    "start_time": "2022-02-08T14:52:26.419Z"
   },
   {
    "duration": 10,
    "start_time": "2022-02-08T14:52:26.436Z"
   },
   {
    "duration": 2,
    "start_time": "2022-02-08T14:52:26.447Z"
   },
   {
    "duration": 6,
    "start_time": "2022-02-08T14:52:26.451Z"
   },
   {
    "duration": 21,
    "start_time": "2022-02-08T14:52:26.458Z"
   },
   {
    "duration": 2,
    "start_time": "2022-02-08T14:52:26.481Z"
   },
   {
    "duration": 24,
    "start_time": "2022-02-08T14:52:26.485Z"
   },
   {
    "duration": 2,
    "start_time": "2022-02-08T14:52:26.511Z"
   },
   {
    "duration": 26,
    "start_time": "2022-02-08T14:52:26.514Z"
   },
   {
    "duration": 53,
    "start_time": "2022-02-08T14:52:26.541Z"
   },
   {
    "duration": 6471,
    "start_time": "2022-02-08T14:52:26.595Z"
   },
   {
    "duration": -74,
    "start_time": "2022-02-08T14:52:33.142Z"
   },
   {
    "duration": -77,
    "start_time": "2022-02-08T14:52:33.145Z"
   },
   {
    "duration": -78,
    "start_time": "2022-02-08T14:52:33.147Z"
   },
   {
    "duration": -79,
    "start_time": "2022-02-08T14:52:33.149Z"
   },
   {
    "duration": -80,
    "start_time": "2022-02-08T14:52:33.151Z"
   },
   {
    "duration": -81,
    "start_time": "2022-02-08T14:52:33.153Z"
   },
   {
    "duration": -81,
    "start_time": "2022-02-08T14:52:33.154Z"
   },
   {
    "duration": -89,
    "start_time": "2022-02-08T14:52:33.163Z"
   },
   {
    "duration": -91,
    "start_time": "2022-02-08T14:52:33.166Z"
   },
   {
    "duration": -93,
    "start_time": "2022-02-08T14:52:33.169Z"
   },
   {
    "duration": -94,
    "start_time": "2022-02-08T14:52:33.171Z"
   },
   {
    "duration": -115,
    "start_time": "2022-02-08T14:52:33.193Z"
   },
   {
    "duration": -119,
    "start_time": "2022-02-08T14:52:33.198Z"
   },
   {
    "duration": 26,
    "start_time": "2022-02-08T14:52:36.751Z"
   },
   {
    "duration": 24,
    "start_time": "2022-02-08T14:52:41.234Z"
   },
   {
    "duration": 24,
    "start_time": "2022-02-08T14:53:08.279Z"
   },
   {
    "duration": 22,
    "start_time": "2022-02-08T14:53:12.299Z"
   },
   {
    "duration": 25,
    "start_time": "2022-02-08T14:53:15.694Z"
   },
   {
    "duration": 29,
    "start_time": "2022-02-08T14:53:30.863Z"
   },
   {
    "duration": 30,
    "start_time": "2022-02-08T14:54:17.215Z"
   },
   {
    "duration": 7,
    "start_time": "2022-02-08T14:54:26.361Z"
   },
   {
    "duration": 29,
    "start_time": "2022-02-08T14:54:27.205Z"
   },
   {
    "duration": 24,
    "start_time": "2022-02-08T15:03:09.295Z"
   },
   {
    "duration": 7,
    "start_time": "2022-02-08T15:04:03.925Z"
   },
   {
    "duration": 6782,
    "start_time": "2022-02-08T15:04:09.073Z"
   },
   {
    "duration": -78,
    "start_time": "2022-02-08T15:04:15.934Z"
   },
   {
    "duration": -82,
    "start_time": "2022-02-08T15:04:15.940Z"
   },
   {
    "duration": 844,
    "start_time": "2022-02-08T15:04:30.852Z"
   },
   {
    "duration": 16,
    "start_time": "2022-02-08T15:04:31.698Z"
   },
   {
    "duration": 23,
    "start_time": "2022-02-08T15:04:31.715Z"
   },
   {
    "duration": 11,
    "start_time": "2022-02-08T15:04:31.739Z"
   },
   {
    "duration": 9,
    "start_time": "2022-02-08T15:04:31.751Z"
   },
   {
    "duration": 6755,
    "start_time": "2022-02-08T15:04:31.762Z"
   },
   {
    "duration": -62,
    "start_time": "2022-02-08T15:04:38.582Z"
   },
   {
    "duration": -63,
    "start_time": "2022-02-08T15:04:38.584Z"
   },
   {
    "duration": -63,
    "start_time": "2022-02-08T15:04:38.585Z"
   },
   {
    "duration": -64,
    "start_time": "2022-02-08T15:04:38.587Z"
   },
   {
    "duration": -63,
    "start_time": "2022-02-08T15:04:38.588Z"
   },
   {
    "duration": -64,
    "start_time": "2022-02-08T15:04:38.590Z"
   },
   {
    "duration": -64,
    "start_time": "2022-02-08T15:04:38.591Z"
   },
   {
    "duration": -66,
    "start_time": "2022-02-08T15:04:38.593Z"
   },
   {
    "duration": -66,
    "start_time": "2022-02-08T15:04:38.594Z"
   },
   {
    "duration": -67,
    "start_time": "2022-02-08T15:04:38.596Z"
   },
   {
    "duration": -78,
    "start_time": "2022-02-08T15:04:38.608Z"
   },
   {
    "duration": -81,
    "start_time": "2022-02-08T15:04:38.612Z"
   },
   {
    "duration": -82,
    "start_time": "2022-02-08T15:04:38.614Z"
   },
   {
    "duration": -82,
    "start_time": "2022-02-08T15:04:38.615Z"
   },
   {
    "duration": -83,
    "start_time": "2022-02-08T15:04:38.617Z"
   },
   {
    "duration": -83,
    "start_time": "2022-02-08T15:04:38.618Z"
   },
   {
    "duration": -84,
    "start_time": "2022-02-08T15:04:38.620Z"
   },
   {
    "duration": -86,
    "start_time": "2022-02-08T15:04:38.622Z"
   },
   {
    "duration": -91,
    "start_time": "2022-02-08T15:04:38.628Z"
   },
   {
    "duration": -92,
    "start_time": "2022-02-08T15:04:38.630Z"
   },
   {
    "duration": 11,
    "start_time": "2022-02-08T15:04:39.246Z"
   },
   {
    "duration": 10,
    "start_time": "2022-02-08T15:04:41.063Z"
   },
   {
    "duration": 2,
    "start_time": "2022-02-08T15:04:44.937Z"
   },
   {
    "duration": 8,
    "start_time": "2022-02-08T15:04:46.211Z"
   },
   {
    "duration": 7128,
    "start_time": "2022-02-08T15:04:48.799Z"
   },
   {
    "duration": -64,
    "start_time": "2022-02-08T15:04:55.992Z"
   },
   {
    "duration": 7,
    "start_time": "2022-02-08T15:05:28.610Z"
   },
   {
    "duration": 6705,
    "start_time": "2022-02-08T15:05:29.363Z"
   },
   {
    "duration": 7247,
    "start_time": "2022-02-08T15:05:54.506Z"
   },
   {
    "duration": 11,
    "start_time": "2022-02-08T15:06:14.340Z"
   },
   {
    "duration": 794,
    "start_time": "2022-02-08T15:07:10.030Z"
   },
   {
    "duration": 17,
    "start_time": "2022-02-08T15:07:10.826Z"
   },
   {
    "duration": 10,
    "start_time": "2022-02-08T15:07:10.845Z"
   },
   {
    "duration": 2,
    "start_time": "2022-02-08T15:07:10.857Z"
   },
   {
    "duration": 14,
    "start_time": "2022-02-08T15:07:10.861Z"
   },
   {
    "duration": 11,
    "start_time": "2022-02-08T15:07:10.876Z"
   },
   {
    "duration": 7,
    "start_time": "2022-02-08T15:07:10.888Z"
   },
   {
    "duration": 302,
    "start_time": "2022-02-08T15:07:10.897Z"
   },
   {
    "duration": -36,
    "start_time": "2022-02-08T15:07:11.237Z"
   },
   {
    "duration": -40,
    "start_time": "2022-02-08T15:07:11.242Z"
   },
   {
    "duration": -41,
    "start_time": "2022-02-08T15:07:11.244Z"
   },
   {
    "duration": -68,
    "start_time": "2022-02-08T15:07:11.271Z"
   },
   {
    "duration": -72,
    "start_time": "2022-02-08T15:07:11.276Z"
   },
   {
    "duration": -75,
    "start_time": "2022-02-08T15:07:11.280Z"
   },
   {
    "duration": -75,
    "start_time": "2022-02-08T15:07:11.281Z"
   },
   {
    "duration": -77,
    "start_time": "2022-02-08T15:07:11.283Z"
   },
   {
    "duration": -77,
    "start_time": "2022-02-08T15:07:11.284Z"
   },
   {
    "duration": -78,
    "start_time": "2022-02-08T15:07:11.286Z"
   },
   {
    "duration": -78,
    "start_time": "2022-02-08T15:07:11.287Z"
   },
   {
    "duration": -79,
    "start_time": "2022-02-08T15:07:11.289Z"
   },
   {
    "duration": -79,
    "start_time": "2022-02-08T15:07:11.290Z"
   },
   {
    "duration": -79,
    "start_time": "2022-02-08T15:07:11.291Z"
   },
   {
    "duration": -80,
    "start_time": "2022-02-08T15:07:11.293Z"
   },
   {
    "duration": -80,
    "start_time": "2022-02-08T15:07:11.294Z"
   },
   {
    "duration": -80,
    "start_time": "2022-02-08T15:07:11.295Z"
   },
   {
    "duration": 484,
    "start_time": "2022-02-08T15:07:14.330Z"
   },
   {
    "duration": 10,
    "start_time": "2022-02-08T15:07:15.203Z"
   },
   {
    "duration": 11,
    "start_time": "2022-02-08T15:07:17.499Z"
   },
   {
    "duration": 3,
    "start_time": "2022-02-08T15:07:20.249Z"
   },
   {
    "duration": 7,
    "start_time": "2022-02-08T15:07:20.859Z"
   },
   {
    "duration": 10,
    "start_time": "2022-02-08T15:07:22.534Z"
   },
   {
    "duration": 8,
    "start_time": "2022-02-08T15:07:24.025Z"
   },
   {
    "duration": 271,
    "start_time": "2022-02-08T15:07:24.748Z"
   },
   {
    "duration": 38,
    "start_time": "2022-02-08T15:07:31.081Z"
   },
   {
    "duration": 6506,
    "start_time": "2022-02-08T15:13:45.695Z"
   },
   {
    "duration": 238,
    "start_time": "2022-02-08T15:14:03.481Z"
   },
   {
    "duration": 12,
    "start_time": "2022-02-08T15:14:04.688Z"
   },
   {
    "duration": 13,
    "start_time": "2022-02-08T15:14:06.536Z"
   },
   {
    "duration": 3,
    "start_time": "2022-02-08T15:14:09.422Z"
   },
   {
    "duration": 8,
    "start_time": "2022-02-08T15:14:10.426Z"
   },
   {
    "duration": 85,
    "start_time": "2022-02-08T15:18:56.897Z"
   },
   {
    "duration": 10,
    "start_time": "2022-02-08T15:19:11.662Z"
   },
   {
    "duration": 7,
    "start_time": "2022-02-08T15:19:12.391Z"
   },
   {
    "duration": 26,
    "start_time": "2022-02-08T15:19:13.509Z"
   },
   {
    "duration": 16,
    "start_time": "2022-02-08T15:19:27.225Z"
   },
   {
    "duration": 90,
    "start_time": "2022-02-08T15:22:54.817Z"
   },
   {
    "duration": 15,
    "start_time": "2022-02-08T15:23:51.325Z"
   },
   {
    "duration": 7009,
    "start_time": "2022-02-08T15:25:02.061Z"
   },
   {
    "duration": 6778,
    "start_time": "2022-02-08T15:25:43.679Z"
   },
   {
    "duration": 810,
    "start_time": "2022-02-08T15:26:11.145Z"
   },
   {
    "duration": 19,
    "start_time": "2022-02-08T15:26:11.957Z"
   },
   {
    "duration": 11,
    "start_time": "2022-02-08T15:26:11.983Z"
   },
   {
    "duration": 7,
    "start_time": "2022-02-08T15:26:11.995Z"
   },
   {
    "duration": 5,
    "start_time": "2022-02-08T15:26:12.004Z"
   },
   {
    "duration": 9,
    "start_time": "2022-02-08T15:26:12.012Z"
   },
   {
    "duration": 56,
    "start_time": "2022-02-08T15:26:12.023Z"
   },
   {
    "duration": 8,
    "start_time": "2022-02-08T15:26:12.081Z"
   },
   {
    "duration": 19,
    "start_time": "2022-02-08T15:26:12.091Z"
   },
   {
    "duration": 2,
    "start_time": "2022-02-08T15:26:12.112Z"
   },
   {
    "duration": 4,
    "start_time": "2022-02-08T15:26:12.116Z"
   },
   {
    "duration": 6496,
    "start_time": "2022-02-08T15:26:12.122Z"
   },
   {
    "duration": -68,
    "start_time": "2022-02-08T15:26:18.688Z"
   },
   {
    "duration": -69,
    "start_time": "2022-02-08T15:26:18.690Z"
   },
   {
    "duration": -70,
    "start_time": "2022-02-08T15:26:18.693Z"
   },
   {
    "duration": -73,
    "start_time": "2022-02-08T15:26:18.696Z"
   },
   {
    "duration": -75,
    "start_time": "2022-02-08T15:26:18.699Z"
   },
   {
    "duration": -77,
    "start_time": "2022-02-08T15:26:18.702Z"
   },
   {
    "duration": -78,
    "start_time": "2022-02-08T15:26:18.704Z"
   },
   {
    "duration": -78,
    "start_time": "2022-02-08T15:26:18.705Z"
   },
   {
    "duration": -78,
    "start_time": "2022-02-08T15:26:18.706Z"
   },
   {
    "duration": -80,
    "start_time": "2022-02-08T15:26:18.708Z"
   },
   {
    "duration": -81,
    "start_time": "2022-02-08T15:26:18.710Z"
   },
   {
    "duration": -103,
    "start_time": "2022-02-08T15:26:18.733Z"
   },
   {
    "duration": -108,
    "start_time": "2022-02-08T15:26:18.739Z"
   },
   {
    "duration": 16,
    "start_time": "2022-02-08T15:26:19.505Z"
   },
   {
    "duration": 11,
    "start_time": "2022-02-08T15:26:21.582Z"
   },
   {
    "duration": 6386,
    "start_time": "2022-02-08T15:26:38.735Z"
   },
   {
    "duration": 417,
    "start_time": "2022-02-08T15:26:50.452Z"
   },
   {
    "duration": 11,
    "start_time": "2022-02-08T15:26:51.272Z"
   },
   {
    "duration": 9,
    "start_time": "2022-02-08T15:26:51.983Z"
   },
   {
    "duration": 7,
    "start_time": "2022-02-08T15:26:54.800Z"
   },
   {
    "duration": 269,
    "start_time": "2022-02-08T15:36:55.022Z"
   },
   {
    "duration": 6,
    "start_time": "2022-02-08T15:37:25.063Z"
   },
   {
    "duration": 6294,
    "start_time": "2022-02-08T15:37:37.046Z"
   },
   {
    "duration": 813,
    "start_time": "2022-02-08T15:37:55.244Z"
   },
   {
    "duration": 17,
    "start_time": "2022-02-08T15:37:56.105Z"
   },
   {
    "duration": 10,
    "start_time": "2022-02-08T15:37:57.069Z"
   },
   {
    "duration": 8,
    "start_time": "2022-02-08T15:37:59.846Z"
   },
   {
    "duration": 3,
    "start_time": "2022-02-08T15:38:01.053Z"
   },
   {
    "duration": 11,
    "start_time": "2022-02-08T15:38:02.047Z"
   },
   {
    "duration": 11,
    "start_time": "2022-02-08T15:38:02.866Z"
   },
   {
    "duration": 7,
    "start_time": "2022-02-08T15:38:03.750Z"
   },
   {
    "duration": 15,
    "start_time": "2022-02-08T15:38:04.855Z"
   },
   {
    "duration": 2,
    "start_time": "2022-02-08T15:38:08.775Z"
   },
   {
    "duration": 2,
    "start_time": "2022-02-08T15:38:09.170Z"
   },
   {
    "duration": 7,
    "start_time": "2022-02-08T15:38:11.997Z"
   },
   {
    "duration": 6283,
    "start_time": "2022-02-08T15:39:36.853Z"
   },
   {
    "duration": 8,
    "start_time": "2022-02-08T15:40:06.298Z"
   },
   {
    "duration": 19,
    "start_time": "2022-02-08T15:41:11.851Z"
   },
   {
    "duration": 273,
    "start_time": "2022-02-08T15:45:15.436Z"
   },
   {
    "duration": 9,
    "start_time": "2022-02-08T15:46:23.910Z"
   },
   {
    "duration": 20,
    "start_time": "2022-02-08T15:46:27.356Z"
   },
   {
    "duration": 9,
    "start_time": "2022-02-08T15:48:19.493Z"
   },
   {
    "duration": 10,
    "start_time": "2022-02-08T15:48:23.030Z"
   },
   {
    "duration": 6594,
    "start_time": "2022-02-08T15:48:38.117Z"
   },
   {
    "duration": -79,
    "start_time": "2022-02-08T15:48:44.792Z"
   },
   {
    "duration": 13,
    "start_time": "2022-02-08T15:49:08.994Z"
   },
   {
    "duration": 8,
    "start_time": "2022-02-08T15:49:20.365Z"
   },
   {
    "duration": 14,
    "start_time": "2022-02-08T15:50:03.914Z"
   },
   {
    "duration": 10,
    "start_time": "2022-02-08T15:50:05.993Z"
   },
   {
    "duration": 5,
    "start_time": "2022-02-08T15:51:46.863Z"
   },
   {
    "duration": 133,
    "start_time": "2022-02-08T15:51:59.589Z"
   },
   {
    "duration": 18,
    "start_time": "2022-02-08T15:52:10.591Z"
   },
   {
    "duration": 828,
    "start_time": "2022-02-08T15:52:38.289Z"
   },
   {
    "duration": 17,
    "start_time": "2022-02-08T15:52:39.119Z"
   },
   {
    "duration": 11,
    "start_time": "2022-02-08T15:52:39.137Z"
   },
   {
    "duration": 5,
    "start_time": "2022-02-08T15:52:39.150Z"
   },
   {
    "duration": 2,
    "start_time": "2022-02-08T15:52:39.157Z"
   },
   {
    "duration": 9,
    "start_time": "2022-02-08T15:52:39.172Z"
   },
   {
    "duration": 10,
    "start_time": "2022-02-08T15:52:39.182Z"
   },
   {
    "duration": 8,
    "start_time": "2022-02-08T15:52:39.194Z"
   },
   {
    "duration": 15,
    "start_time": "2022-02-08T15:52:39.204Z"
   },
   {
    "duration": 2,
    "start_time": "2022-02-08T15:52:39.220Z"
   },
   {
    "duration": 6,
    "start_time": "2022-02-08T15:52:39.224Z"
   },
   {
    "duration": 45,
    "start_time": "2022-02-08T15:52:39.232Z"
   },
   {
    "duration": 21,
    "start_time": "2022-02-08T15:52:39.278Z"
   },
   {
    "duration": 8,
    "start_time": "2022-02-08T15:52:39.300Z"
   },
   {
    "duration": 9,
    "start_time": "2022-02-08T15:52:39.310Z"
   },
   {
    "duration": 13,
    "start_time": "2022-02-08T15:52:39.320Z"
   },
   {
    "duration": 46,
    "start_time": "2022-02-08T15:52:39.334Z"
   },
   {
    "duration": 8,
    "start_time": "2022-02-08T15:52:39.382Z"
   },
   {
    "duration": 28,
    "start_time": "2022-02-08T15:52:39.391Z"
   },
   {
    "duration": 12,
    "start_time": "2022-02-08T15:52:39.420Z"
   },
   {
    "duration": 123,
    "start_time": "2022-02-08T15:52:39.434Z"
   },
   {
    "duration": 4,
    "start_time": "2022-02-08T15:52:39.559Z"
   },
   {
    "duration": 21,
    "start_time": "2022-02-08T15:52:39.565Z"
   },
   {
    "duration": 26,
    "start_time": "2022-02-08T15:52:39.588Z"
   },
   {
    "duration": 13,
    "start_time": "2022-02-08T15:54:14.348Z"
   },
   {
    "duration": 4,
    "start_time": "2022-02-08T15:54:45.206Z"
   },
   {
    "duration": 4,
    "start_time": "2022-02-08T15:56:29.241Z"
   },
   {
    "duration": 6295,
    "start_time": "2022-02-08T15:59:14.188Z"
   },
   {
    "duration": 6241,
    "start_time": "2022-02-08T15:59:36.388Z"
   },
   {
    "duration": 7175,
    "start_time": "2022-02-08T16:00:02.333Z"
   },
   {
    "duration": 243,
    "start_time": "2022-02-08T16:00:31.397Z"
   },
   {
    "duration": 9,
    "start_time": "2022-02-08T16:00:42.508Z"
   },
   {
    "duration": 7,
    "start_time": "2022-02-08T16:01:27.950Z"
   },
   {
    "duration": 15,
    "start_time": "2022-02-08T16:01:53.986Z"
   },
   {
    "duration": 13,
    "start_time": "2022-02-08T16:02:14.989Z"
   },
   {
    "duration": 13,
    "start_time": "2022-02-08T16:02:27.508Z"
   },
   {
    "duration": 14,
    "start_time": "2022-02-08T16:02:39.467Z"
   },
   {
    "duration": 13,
    "start_time": "2022-02-08T16:02:53.225Z"
   },
   {
    "duration": 18,
    "start_time": "2022-02-08T16:52:12.260Z"
   },
   {
    "duration": 13,
    "start_time": "2022-02-08T17:04:22.926Z"
   },
   {
    "duration": 257,
    "start_time": "2022-02-08T17:06:02.079Z"
   },
   {
    "duration": 14,
    "start_time": "2022-02-08T17:06:15.941Z"
   },
   {
    "duration": 14,
    "start_time": "2022-02-08T17:06:25.547Z"
   },
   {
    "duration": 14,
    "start_time": "2022-02-08T17:06:56.662Z"
   },
   {
    "duration": 14,
    "start_time": "2022-02-08T17:06:58.698Z"
   },
   {
    "duration": 13,
    "start_time": "2022-02-08T17:07:03.883Z"
   },
   {
    "duration": 15,
    "start_time": "2022-02-08T17:07:04.462Z"
   },
   {
    "duration": 13,
    "start_time": "2022-02-08T17:11:13.354Z"
   },
   {
    "duration": 974,
    "start_time": "2022-02-08T17:11:26.013Z"
   },
   {
    "duration": 16,
    "start_time": "2022-02-08T17:11:26.989Z"
   },
   {
    "duration": 325,
    "start_time": "2022-02-08T17:11:27.007Z"
   },
   {
    "duration": 935,
    "start_time": "2022-02-08T17:11:27.334Z"
   },
   {
    "duration": 494,
    "start_time": "2022-02-08T17:11:28.274Z"
   },
   {
    "duration": 662,
    "start_time": "2022-02-08T17:11:28.770Z"
   },
   {
    "duration": 515,
    "start_time": "2022-02-08T17:11:29.434Z"
   },
   {
    "duration": 788,
    "start_time": "2022-02-08T17:11:29.952Z"
   },
   {
    "duration": 641,
    "start_time": "2022-02-08T17:11:30.742Z"
   },
   {
    "duration": 1082,
    "start_time": "2022-02-08T17:11:31.384Z"
   },
   {
    "duration": 565,
    "start_time": "2022-02-08T17:11:32.468Z"
   },
   {
    "duration": 270,
    "start_time": "2022-02-08T17:11:33.034Z"
   },
   {
    "duration": 1470,
    "start_time": "2022-02-08T17:11:33.306Z"
   },
   {
    "duration": 958,
    "start_time": "2022-02-08T17:11:34.777Z"
   },
   {
    "duration": 788,
    "start_time": "2022-02-08T17:11:35.737Z"
   },
   {
    "duration": 529,
    "start_time": "2022-02-08T17:11:36.526Z"
   },
   {
    "duration": 621,
    "start_time": "2022-02-08T17:11:37.057Z"
   },
   {
    "duration": 510,
    "start_time": "2022-02-08T17:11:37.680Z"
   },
   {
    "duration": 1137,
    "start_time": "2022-02-08T17:11:38.193Z"
   },
   {
    "duration": 403,
    "start_time": "2022-02-08T17:11:39.331Z"
   },
   {
    "duration": 313,
    "start_time": "2022-02-08T17:11:39.736Z"
   },
   {
    "duration": 669,
    "start_time": "2022-02-08T17:11:40.050Z"
   },
   {
    "duration": 309,
    "start_time": "2022-02-08T17:11:40.722Z"
   },
   {
    "duration": 196,
    "start_time": "2022-02-08T17:11:41.033Z"
   },
   {
    "duration": 226,
    "start_time": "2022-02-08T17:11:41.231Z"
   },
   {
    "duration": 368,
    "start_time": "2022-02-08T17:11:41.458Z"
   },
   {
    "duration": 498,
    "start_time": "2022-02-08T17:11:41.828Z"
   },
   {
    "duration": 24,
    "start_time": "2022-02-08T17:12:04.393Z"
   },
   {
    "duration": 968,
    "start_time": "2022-02-08T17:12:10.824Z"
   },
   {
    "duration": 16,
    "start_time": "2022-02-08T17:12:11.795Z"
   },
   {
    "duration": 791,
    "start_time": "2022-02-08T17:12:11.813Z"
   },
   {
    "duration": 380,
    "start_time": "2022-02-08T17:12:12.606Z"
   },
   {
    "duration": 241,
    "start_time": "2022-02-08T17:12:12.988Z"
   },
   {
    "duration": 501,
    "start_time": "2022-02-08T17:12:13.231Z"
   },
   {
    "duration": 815,
    "start_time": "2022-02-08T17:12:13.734Z"
   },
   {
    "duration": 485,
    "start_time": "2022-02-08T17:12:14.553Z"
   },
   {
    "duration": 513,
    "start_time": "2022-02-08T17:12:15.040Z"
   },
   {
    "duration": 712,
    "start_time": "2022-02-08T17:12:15.554Z"
   },
   {
    "duration": 1031,
    "start_time": "2022-02-08T17:12:16.268Z"
   },
   {
    "duration": 1066,
    "start_time": "2022-02-08T17:12:17.301Z"
   },
   {
    "duration": 996,
    "start_time": "2022-02-08T17:12:18.369Z"
   },
   {
    "duration": 1088,
    "start_time": "2022-02-08T17:12:19.367Z"
   },
   {
    "duration": 694,
    "start_time": "2022-02-08T17:12:20.456Z"
   },
   {
    "duration": 1084,
    "start_time": "2022-02-08T17:12:21.152Z"
   },
   {
    "duration": 453,
    "start_time": "2022-02-08T17:12:22.238Z"
   },
   {
    "duration": 872,
    "start_time": "2022-02-08T17:12:22.692Z"
   },
   {
    "duration": 924,
    "start_time": "2022-02-08T17:12:23.565Z"
   },
   {
    "duration": 535,
    "start_time": "2022-02-08T17:12:24.491Z"
   },
   {
    "duration": 512,
    "start_time": "2022-02-08T17:12:25.028Z"
   },
   {
    "duration": 464,
    "start_time": "2022-02-08T17:12:25.541Z"
   },
   {
    "duration": 700,
    "start_time": "2022-02-08T17:12:26.008Z"
   },
   {
    "duration": 558,
    "start_time": "2022-02-08T17:12:26.709Z"
   },
   {
    "duration": 214,
    "start_time": "2022-02-08T17:12:27.272Z"
   },
   {
    "duration": 913,
    "start_time": "2022-02-08T17:12:27.488Z"
   },
   {
    "duration": 1431,
    "start_time": "2022-02-08T17:12:28.403Z"
   },
   {
    "duration": 4,
    "start_time": "2022-02-08T17:13:06.845Z"
   },
   {
    "duration": 811,
    "start_time": "2022-02-08T17:13:11.871Z"
   },
   {
    "duration": 17,
    "start_time": "2022-02-08T17:13:12.684Z"
   },
   {
    "duration": 295,
    "start_time": "2022-02-08T17:13:12.704Z"
   },
   {
    "duration": 333,
    "start_time": "2022-02-08T17:13:13.000Z"
   },
   {
    "duration": 441,
    "start_time": "2022-02-08T17:13:13.335Z"
   },
   {
    "duration": 237,
    "start_time": "2022-02-08T17:13:13.778Z"
   },
   {
    "duration": 529,
    "start_time": "2022-02-08T17:13:14.017Z"
   },
   {
    "duration": 588,
    "start_time": "2022-02-08T17:13:14.549Z"
   },
   {
    "duration": 538,
    "start_time": "2022-02-08T17:13:15.140Z"
   },
   {
    "duration": 550,
    "start_time": "2022-02-08T17:13:15.679Z"
   },
   {
    "duration": 327,
    "start_time": "2022-02-08T17:13:16.231Z"
   },
   {
    "duration": 541,
    "start_time": "2022-02-08T17:13:16.560Z"
   },
   {
    "duration": 295,
    "start_time": "2022-02-08T17:13:17.103Z"
   },
   {
    "duration": 628,
    "start_time": "2022-02-08T17:13:17.400Z"
   },
   {
    "duration": -83,
    "start_time": "2022-02-08T17:13:18.113Z"
   },
   {
    "duration": -85,
    "start_time": "2022-02-08T17:13:18.116Z"
   },
   {
    "duration": -85,
    "start_time": "2022-02-08T17:13:18.117Z"
   },
   {
    "duration": -85,
    "start_time": "2022-02-08T17:13:18.119Z"
   },
   {
    "duration": -85,
    "start_time": "2022-02-08T17:13:18.120Z"
   },
   {
    "duration": -86,
    "start_time": "2022-02-08T17:13:18.122Z"
   },
   {
    "duration": -88,
    "start_time": "2022-02-08T17:13:18.124Z"
   },
   {
    "duration": -88,
    "start_time": "2022-02-08T17:13:18.126Z"
   },
   {
    "duration": -90,
    "start_time": "2022-02-08T17:13:18.129Z"
   },
   {
    "duration": -103,
    "start_time": "2022-02-08T17:13:18.143Z"
   },
   {
    "duration": -107,
    "start_time": "2022-02-08T17:13:18.148Z"
   },
   {
    "duration": -109,
    "start_time": "2022-02-08T17:13:18.150Z"
   },
   {
    "duration": -110,
    "start_time": "2022-02-08T17:13:18.152Z"
   },
   {
    "duration": 923,
    "start_time": "2022-02-08T17:13:35.782Z"
   },
   {
    "duration": 16,
    "start_time": "2022-02-08T17:13:36.707Z"
   },
   {
    "duration": 223,
    "start_time": "2022-02-08T17:13:36.725Z"
   },
   {
    "duration": 129,
    "start_time": "2022-02-08T17:13:36.949Z"
   },
   {
    "duration": 161,
    "start_time": "2022-02-08T17:13:37.081Z"
   },
   {
    "duration": 154,
    "start_time": "2022-02-08T17:13:37.244Z"
   },
   {
    "duration": 135,
    "start_time": "2022-02-08T17:13:37.399Z"
   },
   {
    "duration": 256,
    "start_time": "2022-02-08T17:13:37.536Z"
   },
   {
    "duration": 238,
    "start_time": "2022-02-08T17:13:37.795Z"
   },
   {
    "duration": 223,
    "start_time": "2022-02-08T17:13:38.035Z"
   },
   {
    "duration": 168,
    "start_time": "2022-02-08T17:13:38.260Z"
   },
   {
    "duration": 197,
    "start_time": "2022-02-08T17:13:38.430Z"
   },
   {
    "duration": 128,
    "start_time": "2022-02-08T17:13:38.629Z"
   },
   {
    "duration": 150,
    "start_time": "2022-02-08T17:13:38.759Z"
   },
   {
    "duration": 190,
    "start_time": "2022-02-08T17:13:38.911Z"
   },
   {
    "duration": 433,
    "start_time": "2022-02-08T17:13:39.102Z"
   },
   {
    "duration": 199,
    "start_time": "2022-02-08T17:13:39.536Z"
   },
   {
    "duration": 412,
    "start_time": "2022-02-08T17:13:39.737Z"
   },
   {
    "duration": 191,
    "start_time": "2022-02-08T17:13:40.150Z"
   },
   {
    "duration": 286,
    "start_time": "2022-02-08T17:13:40.342Z"
   },
   {
    "duration": 232,
    "start_time": "2022-02-08T17:13:40.630Z"
   },
   {
    "duration": 197,
    "start_time": "2022-02-08T17:13:40.863Z"
   },
   {
    "duration": 290,
    "start_time": "2022-02-08T17:13:41.062Z"
   },
   {
    "duration": 220,
    "start_time": "2022-02-08T17:13:41.354Z"
   },
   {
    "duration": 148,
    "start_time": "2022-02-08T17:13:41.576Z"
   },
   {
    "duration": 209,
    "start_time": "2022-02-08T17:13:41.726Z"
   },
   {
    "duration": 26,
    "start_time": "2022-02-08T17:35:47.480Z"
   },
   {
    "duration": 18,
    "start_time": "2022-02-08T17:35:53.724Z"
   },
   {
    "duration": 4,
    "start_time": "2022-02-08T17:36:19.537Z"
   },
   {
    "duration": 5,
    "start_time": "2022-02-08T17:36:24.248Z"
   },
   {
    "duration": 4,
    "start_time": "2022-02-08T17:36:32.362Z"
   },
   {
    "duration": 8,
    "start_time": "2022-02-08T17:37:25.931Z"
   },
   {
    "duration": 318,
    "start_time": "2022-02-08T17:38:08.840Z"
   },
   {
    "duration": 297,
    "start_time": "2022-02-08T17:38:21.023Z"
   },
   {
    "duration": 281,
    "start_time": "2022-02-08T17:38:31.182Z"
   },
   {
    "duration": 6,
    "start_time": "2022-02-08T17:38:41.626Z"
   },
   {
    "duration": 8,
    "start_time": "2022-02-08T17:40:47.784Z"
   },
   {
    "duration": 4469,
    "start_time": "2022-02-08T17:42:54.161Z"
   },
   {
    "duration": 9,
    "start_time": "2022-02-08T17:42:58.632Z"
   },
   {
    "duration": 2119,
    "start_time": "2022-02-08T17:42:58.642Z"
   },
   {
    "duration": 2454,
    "start_time": "2022-02-08T17:43:00.763Z"
   },
   {
    "duration": 1713,
    "start_time": "2022-02-08T17:43:03.218Z"
   },
   {
    "duration": 1817,
    "start_time": "2022-02-08T17:43:04.933Z"
   },
   {
    "duration": 1599,
    "start_time": "2022-02-08T17:43:06.751Z"
   },
   {
    "duration": 2114,
    "start_time": "2022-02-08T17:43:08.352Z"
   },
   {
    "duration": 1789,
    "start_time": "2022-02-08T17:43:15.029Z"
   },
   {
    "duration": 18355,
    "start_time": "2022-02-08T17:43:16.820Z"
   },
   {
    "duration": 2128,
    "start_time": "2022-02-08T17:43:35.177Z"
   },
   {
    "duration": 1344,
    "start_time": "2022-02-08T17:43:37.307Z"
   },
   {
    "duration": 2568,
    "start_time": "2022-02-08T17:43:38.653Z"
   },
   {
    "duration": 1964,
    "start_time": "2022-02-08T17:43:41.223Z"
   },
   {
    "duration": 2048,
    "start_time": "2022-02-08T17:43:43.189Z"
   },
   {
    "duration": 1992,
    "start_time": "2022-02-08T17:43:45.239Z"
   },
   {
    "duration": 1972,
    "start_time": "2022-02-08T17:43:47.232Z"
   },
   {
    "duration": 1265,
    "start_time": "2022-02-08T17:43:49.205Z"
   },
   {
    "duration": 1055,
    "start_time": "2022-02-08T17:43:50.472Z"
   },
   {
    "duration": 4319,
    "start_time": "2022-02-08T17:43:51.529Z"
   },
   {
    "duration": 4502,
    "start_time": "2022-02-08T17:43:55.849Z"
   },
   {
    "duration": 3737,
    "start_time": "2022-02-08T17:44:58.291Z"
   },
   {
    "duration": 19,
    "start_time": "2022-02-08T17:45:02.030Z"
   },
   {
    "duration": 2096,
    "start_time": "2022-02-08T17:45:02.052Z"
   },
   {
    "duration": 1192,
    "start_time": "2022-02-08T17:45:04.151Z"
   },
   {
    "duration": 1170,
    "start_time": "2022-02-08T17:45:05.345Z"
   },
   {
    "duration": 5754,
    "start_time": "2022-02-08T17:45:06.517Z"
   },
   {
    "duration": 673,
    "start_time": "2022-02-08T17:45:12.272Z"
   },
   {
    "duration": 964,
    "start_time": "2022-02-08T17:45:12.947Z"
   },
   {
    "duration": 1265,
    "start_time": "2022-02-08T17:45:13.913Z"
   },
   {
    "duration": 1095,
    "start_time": "2022-02-08T17:45:15.180Z"
   },
   {
    "duration": 487,
    "start_time": "2022-02-08T17:45:16.277Z"
   },
   {
    "duration": 1534,
    "start_time": "2022-02-08T17:45:16.766Z"
   },
   {
    "duration": 1643,
    "start_time": "2022-02-08T17:45:18.302Z"
   },
   {
    "duration": 657,
    "start_time": "2022-02-08T17:45:19.947Z"
   },
   {
    "duration": 1000,
    "start_time": "2022-02-08T17:45:20.605Z"
   },
   {
    "duration": 11552,
    "start_time": "2022-02-08T17:45:21.607Z"
   },
   {
    "duration": 1498,
    "start_time": "2022-02-08T17:45:33.160Z"
   },
   {
    "duration": 1631,
    "start_time": "2022-02-08T17:45:34.660Z"
   },
   {
    "duration": 1100,
    "start_time": "2022-02-08T17:45:36.293Z"
   },
   {
    "duration": 945,
    "start_time": "2022-02-08T17:45:37.395Z"
   },
   {
    "duration": 624,
    "start_time": "2022-02-08T17:45:38.342Z"
   },
   {
    "duration": 654,
    "start_time": "2022-02-08T17:45:38.967Z"
   },
   {
    "duration": 741,
    "start_time": "2022-02-08T17:45:39.624Z"
   },
   {
    "duration": 563,
    "start_time": "2022-02-08T17:45:40.368Z"
   },
   {
    "duration": 750,
    "start_time": "2022-02-08T17:45:40.933Z"
   },
   {
    "duration": 963,
    "start_time": "2022-02-08T17:45:41.685Z"
   },
   {
    "duration": 512,
    "start_time": "2022-02-08T17:47:14.857Z"
   },
   {
    "duration": 11,
    "start_time": "2022-02-08T17:47:17.622Z"
   },
   {
    "duration": 1589,
    "start_time": "2022-02-08T17:47:22.106Z"
   },
   {
    "duration": 1343,
    "start_time": "2022-02-08T17:47:36.413Z"
   },
   {
    "duration": 16,
    "start_time": "2022-02-08T17:47:39.342Z"
   },
   {
    "duration": 11398,
    "start_time": "2022-02-08T17:47:42.309Z"
   },
   {
    "duration": 8,
    "start_time": "2022-02-08T17:48:06.056Z"
   },
   {
    "duration": 3,
    "start_time": "2022-02-08T17:48:08.076Z"
   },
   {
    "duration": 2196,
    "start_time": "2022-02-08T17:48:08.845Z"
   },
   {
    "duration": 15,
    "start_time": "2022-02-08T17:48:32.811Z"
   },
   {
    "duration": 8,
    "start_time": "2022-02-08T17:48:35.950Z"
   },
   {
    "duration": 992,
    "start_time": "2022-02-08T17:48:37.103Z"
   },
   {
    "duration": 2,
    "start_time": "2022-02-08T17:48:51.439Z"
   },
   {
    "duration": 1940,
    "start_time": "2022-02-08T17:48:51.844Z"
   },
   {
    "duration": 14,
    "start_time": "2022-02-08T17:48:55.708Z"
   },
   {
    "duration": 9239,
    "start_time": "2022-02-08T17:49:00.774Z"
   },
   {
    "duration": 7,
    "start_time": "2022-02-08T17:49:22.565Z"
   },
   {
    "duration": 16,
    "start_time": "2022-02-08T17:49:34.839Z"
   },
   {
    "duration": 942,
    "start_time": "2022-02-08T17:49:35.376Z"
   },
   {
    "duration": 8,
    "start_time": "2022-02-08T17:49:49.286Z"
   },
   {
    "duration": 21,
    "start_time": "2022-02-08T17:49:53.570Z"
   },
   {
    "duration": 11,
    "start_time": "2022-02-08T17:49:56.979Z"
   },
   {
    "duration": 10,
    "start_time": "2022-02-08T17:49:59.549Z"
   },
   {
    "duration": 14,
    "start_time": "2022-02-08T17:51:31.276Z"
   },
   {
    "duration": 9986,
    "start_time": "2022-02-08T17:51:32.455Z"
   },
   {
    "duration": 887,
    "start_time": "2022-02-08T17:51:43.889Z"
   },
   {
    "duration": 11,
    "start_time": "2022-02-08T17:51:50.019Z"
   },
   {
    "duration": 10,
    "start_time": "2022-02-08T17:51:58.262Z"
   },
   {
    "duration": 98,
    "start_time": "2022-02-08T17:52:04.937Z"
   },
   {
    "duration": -140253,
    "start_time": "2022-02-08T18:23:38.609Z"
   },
   {
    "duration": 9,
    "start_time": "2022-02-08T18:37:12.884Z"
   },
   {
    "duration": 14,
    "start_time": "2022-02-08T18:38:00.345Z"
   },
   {
    "duration": 12,
    "start_time": "2022-02-08T18:38:10.584Z"
   },
   {
    "duration": 11,
    "start_time": "2022-02-08T18:40:16.555Z"
   },
   {
    "duration": 14,
    "start_time": "2022-02-08T18:40:41.715Z"
   },
   {
    "duration": 12,
    "start_time": "2022-02-08T18:42:44.913Z"
   },
   {
    "duration": 12,
    "start_time": "2022-02-08T18:43:33.157Z"
   },
   {
    "duration": 331,
    "start_time": "2022-02-08T18:50:08.417Z"
   },
   {
    "duration": 7,
    "start_time": "2022-02-08T18:50:43.801Z"
   },
   {
    "duration": 16,
    "start_time": "2022-02-08T18:50:56.365Z"
   },
   {
    "duration": 269,
    "start_time": "2022-02-08T18:51:36.725Z"
   },
   {
    "duration": 14,
    "start_time": "2022-02-08T18:51:37.378Z"
   },
   {
    "duration": 885,
    "start_time": "2022-02-08T18:51:51.268Z"
   },
   {
    "duration": 17,
    "start_time": "2022-02-08T18:51:52.154Z"
   },
   {
    "duration": 10,
    "start_time": "2022-02-08T18:51:52.173Z"
   },
   {
    "duration": 5,
    "start_time": "2022-02-08T18:51:52.185Z"
   },
   {
    "duration": 2,
    "start_time": "2022-02-08T18:51:52.192Z"
   },
   {
    "duration": 9,
    "start_time": "2022-02-08T18:51:52.195Z"
   },
   {
    "duration": 11,
    "start_time": "2022-02-08T18:51:52.205Z"
   },
   {
    "duration": 8,
    "start_time": "2022-02-08T18:51:52.218Z"
   },
   {
    "duration": 47,
    "start_time": "2022-02-08T18:51:52.228Z"
   },
   {
    "duration": 3,
    "start_time": "2022-02-08T18:51:52.277Z"
   },
   {
    "duration": 5,
    "start_time": "2022-02-08T18:51:52.281Z"
   },
   {
    "duration": 18,
    "start_time": "2022-02-08T18:51:52.287Z"
   },
   {
    "duration": 13,
    "start_time": "2022-02-08T18:51:52.306Z"
   },
   {
    "duration": 8,
    "start_time": "2022-02-08T18:51:52.320Z"
   },
   {
    "duration": 44,
    "start_time": "2022-02-08T18:51:52.329Z"
   },
   {
    "duration": 12,
    "start_time": "2022-02-08T18:51:52.374Z"
   },
   {
    "duration": 6,
    "start_time": "2022-02-08T18:51:52.388Z"
   },
   {
    "duration": 6,
    "start_time": "2022-02-08T18:51:52.395Z"
   },
   {
    "duration": 14,
    "start_time": "2022-02-08T18:51:52.402Z"
   },
   {
    "duration": 12,
    "start_time": "2022-02-08T18:51:52.417Z"
   },
   {
    "duration": 114,
    "start_time": "2022-02-08T18:51:52.430Z"
   },
   {
    "duration": 26,
    "start_time": "2022-02-08T18:51:52.546Z"
   },
   {
    "duration": 12,
    "start_time": "2022-02-08T18:51:52.575Z"
   },
   {
    "duration": 4,
    "start_time": "2022-02-08T18:51:52.588Z"
   },
   {
    "duration": 14,
    "start_time": "2022-02-08T18:51:52.594Z"
   },
   {
    "duration": 5,
    "start_time": "2022-02-08T18:51:52.610Z"
   },
   {
    "duration": 19,
    "start_time": "2022-02-08T18:51:52.617Z"
   },
   {
    "duration": 42,
    "start_time": "2022-02-08T18:51:52.637Z"
   },
   {
    "duration": 5,
    "start_time": "2022-02-08T18:52:35.991Z"
   },
   {
    "duration": 10,
    "start_time": "2022-02-08T18:52:36.924Z"
   },
   {
    "duration": 765,
    "start_time": "2022-02-08T18:52:40.752Z"
   },
   {
    "duration": 17,
    "start_time": "2022-02-08T18:52:41.519Z"
   },
   {
    "duration": 12,
    "start_time": "2022-02-08T18:52:41.538Z"
   },
   {
    "duration": 6,
    "start_time": "2022-02-08T18:52:41.552Z"
   },
   {
    "duration": 2,
    "start_time": "2022-02-08T18:52:41.560Z"
   },
   {
    "duration": 14,
    "start_time": "2022-02-08T18:52:41.563Z"
   },
   {
    "duration": 10,
    "start_time": "2022-02-08T18:52:41.579Z"
   },
   {
    "duration": 7,
    "start_time": "2022-02-08T18:52:41.591Z"
   },
   {
    "duration": 14,
    "start_time": "2022-02-08T18:52:41.600Z"
   },
   {
    "duration": 2,
    "start_time": "2022-02-08T18:52:41.615Z"
   },
   {
    "duration": 11,
    "start_time": "2022-02-08T18:52:41.619Z"
   },
   {
    "duration": 20,
    "start_time": "2022-02-08T18:52:41.632Z"
   },
   {
    "duration": 15,
    "start_time": "2022-02-08T18:52:41.671Z"
   },
   {
    "duration": 7,
    "start_time": "2022-02-08T18:52:41.687Z"
   },
   {
    "duration": 18,
    "start_time": "2022-02-08T18:52:41.696Z"
   },
   {
    "duration": 11,
    "start_time": "2022-02-08T18:52:41.715Z"
   },
   {
    "duration": 7,
    "start_time": "2022-02-08T18:52:41.727Z"
   },
   {
    "duration": 7,
    "start_time": "2022-02-08T18:52:41.736Z"
   },
   {
    "duration": 10,
    "start_time": "2022-02-08T18:52:41.772Z"
   },
   {
    "duration": 9,
    "start_time": "2022-02-08T18:52:41.784Z"
   },
   {
    "duration": 109,
    "start_time": "2022-02-08T18:52:41.795Z"
   },
   {
    "duration": 11,
    "start_time": "2022-02-08T18:52:41.906Z"
   },
   {
    "duration": 11,
    "start_time": "2022-02-08T18:52:41.920Z"
   },
   {
    "duration": 5,
    "start_time": "2022-02-08T18:52:41.932Z"
   },
   {
    "duration": 38,
    "start_time": "2022-02-08T18:52:41.938Z"
   },
   {
    "duration": 3,
    "start_time": "2022-02-08T18:52:41.978Z"
   },
   {
    "duration": 3,
    "start_time": "2022-02-08T18:52:41.983Z"
   },
   {
    "duration": 26,
    "start_time": "2022-02-08T18:52:41.988Z"
   },
   {
    "duration": 368,
    "start_time": "2022-02-08T18:53:28.073Z"
   },
   {
    "duration": 4,
    "start_time": "2022-02-08T18:53:33.796Z"
   },
   {
    "duration": 3,
    "start_time": "2022-02-08T18:53:59.709Z"
   },
   {
    "duration": 10,
    "start_time": "2022-02-08T18:54:06.445Z"
   },
   {
    "duration": 4,
    "start_time": "2022-02-08T18:57:06.126Z"
   },
   {
    "duration": 8,
    "start_time": "2022-02-08T18:58:09.157Z"
   },
   {
    "duration": 10,
    "start_time": "2022-02-08T18:58:09.825Z"
   },
   {
    "duration": 5,
    "start_time": "2022-02-08T19:00:27.819Z"
   },
   {
    "duration": 6,
    "start_time": "2022-02-08T19:00:46.902Z"
   },
   {
    "duration": 15,
    "start_time": "2022-02-08T19:00:47.481Z"
   },
   {
    "duration": 149,
    "start_time": "2022-02-08T19:01:09.040Z"
   },
   {
    "duration": 820,
    "start_time": "2022-02-08T19:01:21.347Z"
   },
   {
    "duration": 24,
    "start_time": "2022-02-08T19:01:22.169Z"
   },
   {
    "duration": 26,
    "start_time": "2022-02-08T19:01:22.195Z"
   },
   {
    "duration": 8,
    "start_time": "2022-02-08T19:01:22.223Z"
   },
   {
    "duration": 9,
    "start_time": "2022-02-08T19:01:22.233Z"
   },
   {
    "duration": 19,
    "start_time": "2022-02-08T19:01:22.244Z"
   },
   {
    "duration": 11,
    "start_time": "2022-02-08T19:01:22.265Z"
   },
   {
    "duration": 7,
    "start_time": "2022-02-08T19:01:22.279Z"
   },
   {
    "duration": 15,
    "start_time": "2022-02-08T19:01:22.288Z"
   },
   {
    "duration": 2,
    "start_time": "2022-02-08T19:01:22.305Z"
   },
   {
    "duration": 7,
    "start_time": "2022-02-08T19:01:22.308Z"
   },
   {
    "duration": 19,
    "start_time": "2022-02-08T19:01:22.316Z"
   },
   {
    "duration": 43,
    "start_time": "2022-02-08T19:01:22.336Z"
   },
   {
    "duration": 8,
    "start_time": "2022-02-08T19:01:22.380Z"
   },
   {
    "duration": 18,
    "start_time": "2022-02-08T19:01:22.390Z"
   },
   {
    "duration": 11,
    "start_time": "2022-02-08T19:01:22.410Z"
   },
   {
    "duration": 6,
    "start_time": "2022-02-08T19:01:22.423Z"
   },
   {
    "duration": 6,
    "start_time": "2022-02-08T19:01:22.431Z"
   },
   {
    "duration": 38,
    "start_time": "2022-02-08T19:01:22.439Z"
   },
   {
    "duration": 14,
    "start_time": "2022-02-08T19:01:22.479Z"
   },
   {
    "duration": 179,
    "start_time": "2022-02-08T19:01:22.495Z"
   },
   {
    "duration": 16,
    "start_time": "2022-02-08T19:01:22.676Z"
   },
   {
    "duration": 12,
    "start_time": "2022-02-08T19:01:22.696Z"
   },
   {
    "duration": 4,
    "start_time": "2022-02-08T19:01:22.710Z"
   },
   {
    "duration": 15,
    "start_time": "2022-02-08T19:01:22.715Z"
   },
   {
    "duration": 3,
    "start_time": "2022-02-08T19:01:22.731Z"
   },
   {
    "duration": 44,
    "start_time": "2022-02-08T19:01:22.736Z"
   },
   {
    "duration": 31,
    "start_time": "2022-02-08T19:01:22.782Z"
   },
   {
    "duration": 10,
    "start_time": "2022-02-08T19:01:34.750Z"
   },
   {
    "duration": 751,
    "start_time": "2022-02-08T19:01:44.539Z"
   },
   {
    "duration": 16,
    "start_time": "2022-02-08T19:01:45.292Z"
   },
   {
    "duration": 9,
    "start_time": "2022-02-08T19:01:45.309Z"
   },
   {
    "duration": 6,
    "start_time": "2022-02-08T19:01:45.320Z"
   },
   {
    "duration": 3,
    "start_time": "2022-02-08T19:01:45.327Z"
   },
   {
    "duration": 9,
    "start_time": "2022-02-08T19:01:45.331Z"
   },
   {
    "duration": 38,
    "start_time": "2022-02-08T19:01:45.342Z"
   },
   {
    "duration": 7,
    "start_time": "2022-02-08T19:01:45.381Z"
   },
   {
    "duration": 13,
    "start_time": "2022-02-08T19:01:45.391Z"
   },
   {
    "duration": 2,
    "start_time": "2022-02-08T19:01:45.406Z"
   },
   {
    "duration": 8,
    "start_time": "2022-02-08T19:01:45.409Z"
   },
   {
    "duration": 18,
    "start_time": "2022-02-08T19:01:45.419Z"
   },
   {
    "duration": 34,
    "start_time": "2022-02-08T19:01:45.439Z"
   },
   {
    "duration": 8,
    "start_time": "2022-02-08T19:01:45.474Z"
   },
   {
    "duration": 19,
    "start_time": "2022-02-08T19:01:45.483Z"
   },
   {
    "duration": 12,
    "start_time": "2022-02-08T19:01:45.503Z"
   },
   {
    "duration": 6,
    "start_time": "2022-02-08T19:01:45.516Z"
   },
   {
    "duration": 8,
    "start_time": "2022-02-08T19:01:45.523Z"
   },
   {
    "duration": 13,
    "start_time": "2022-02-08T19:01:45.533Z"
   },
   {
    "duration": 32,
    "start_time": "2022-02-08T19:01:45.548Z"
   },
   {
    "duration": 109,
    "start_time": "2022-02-08T19:01:45.582Z"
   },
   {
    "duration": 13,
    "start_time": "2022-02-08T19:01:45.692Z"
   },
   {
    "duration": 13,
    "start_time": "2022-02-08T19:01:45.706Z"
   },
   {
    "duration": 4,
    "start_time": "2022-02-08T19:01:45.721Z"
   },
   {
    "duration": 10,
    "start_time": "2022-02-08T19:01:45.727Z"
   },
   {
    "duration": 3,
    "start_time": "2022-02-08T19:01:45.738Z"
   },
   {
    "duration": 3,
    "start_time": "2022-02-08T19:01:45.773Z"
   },
   {
    "duration": 24,
    "start_time": "2022-02-08T19:01:45.777Z"
   },
   {
    "duration": 3,
    "start_time": "2022-02-08T19:10:41.100Z"
   },
   {
    "duration": 7,
    "start_time": "2022-02-08T19:11:58.639Z"
   },
   {
    "duration": 11,
    "start_time": "2022-02-08T19:12:00.120Z"
   },
   {
    "duration": 3,
    "start_time": "2022-02-08T19:17:22.345Z"
   },
   {
    "duration": 3,
    "start_time": "2022-02-08T19:17:23.388Z"
   },
   {
    "duration": 27,
    "start_time": "2022-02-08T19:17:24.147Z"
   },
   {
    "duration": 9,
    "start_time": "2022-02-08T19:25:01.365Z"
   },
   {
    "duration": 10,
    "start_time": "2022-02-08T19:25:05.515Z"
   },
   {
    "duration": 5,
    "start_time": "2022-02-08T19:29:41.719Z"
   },
   {
    "duration": 10,
    "start_time": "2022-02-08T19:29:42.658Z"
   },
   {
    "duration": 945,
    "start_time": "2022-02-08T19:29:51.140Z"
   },
   {
    "duration": 18,
    "start_time": "2022-02-08T19:29:52.087Z"
   },
   {
    "duration": 11,
    "start_time": "2022-02-08T19:29:52.107Z"
   },
   {
    "duration": 7,
    "start_time": "2022-02-08T19:29:52.120Z"
   },
   {
    "duration": 3,
    "start_time": "2022-02-08T19:29:52.129Z"
   },
   {
    "duration": 40,
    "start_time": "2022-02-08T19:29:52.134Z"
   },
   {
    "duration": 12,
    "start_time": "2022-02-08T19:29:52.175Z"
   },
   {
    "duration": 8,
    "start_time": "2022-02-08T19:29:52.190Z"
   },
   {
    "duration": 20,
    "start_time": "2022-02-08T19:29:52.200Z"
   },
   {
    "duration": 2,
    "start_time": "2022-02-08T19:29:52.221Z"
   },
   {
    "duration": 12,
    "start_time": "2022-02-08T19:29:52.225Z"
   },
   {
    "duration": 16,
    "start_time": "2022-02-08T19:29:52.238Z"
   },
   {
    "duration": 28,
    "start_time": "2022-02-08T19:29:52.255Z"
   },
   {
    "duration": 7,
    "start_time": "2022-02-08T19:29:52.284Z"
   },
   {
    "duration": 19,
    "start_time": "2022-02-08T19:29:52.293Z"
   },
   {
    "duration": 13,
    "start_time": "2022-02-08T19:29:52.314Z"
   },
   {
    "duration": 7,
    "start_time": "2022-02-08T19:29:52.329Z"
   },
   {
    "duration": 37,
    "start_time": "2022-02-08T19:29:52.338Z"
   },
   {
    "duration": 10,
    "start_time": "2022-02-08T19:29:52.377Z"
   },
   {
    "duration": 12,
    "start_time": "2022-02-08T19:29:52.388Z"
   },
   {
    "duration": 120,
    "start_time": "2022-02-08T19:29:52.401Z"
   },
   {
    "duration": 12,
    "start_time": "2022-02-08T19:29:52.523Z"
   },
   {
    "duration": 26,
    "start_time": "2022-02-08T19:29:52.537Z"
   },
   {
    "duration": 9,
    "start_time": "2022-02-08T19:29:52.565Z"
   },
   {
    "duration": 17,
    "start_time": "2022-02-08T19:29:52.576Z"
   },
   {
    "duration": 24,
    "start_time": "2022-02-08T19:29:52.595Z"
   },
   {
    "duration": 11,
    "start_time": "2022-02-08T19:29:52.621Z"
   },
   {
    "duration": 15,
    "start_time": "2022-02-08T19:29:52.634Z"
   },
   {
    "duration": 21,
    "start_time": "2022-02-08T19:29:52.651Z"
   },
   {
    "duration": 30,
    "start_time": "2022-02-08T19:29:52.674Z"
   },
   {
    "duration": 14,
    "start_time": "2022-02-08T19:29:52.706Z"
   },
   {
    "duration": 38,
    "start_time": "2022-02-08T19:29:52.721Z"
   },
   {
    "duration": 332,
    "start_time": "2022-02-08T19:39:40.950Z"
   },
   {
    "duration": 420,
    "start_time": "2022-02-08T19:39:51.083Z"
   },
   {
    "duration": 773,
    "start_time": "2022-02-08T19:40:33.437Z"
   },
   {
    "duration": 17,
    "start_time": "2022-02-08T19:40:41.832Z"
   },
   {
    "duration": 13,
    "start_time": "2022-02-08T19:40:54.492Z"
   },
   {
    "duration": 18,
    "start_time": "2022-02-08T19:41:30.179Z"
   },
   {
    "duration": 23,
    "start_time": "2022-02-08T19:41:30.714Z"
   },
   {
    "duration": 13,
    "start_time": "2022-02-08T19:42:24.400Z"
   },
   {
    "duration": 8,
    "start_time": "2022-02-08T19:42:25.858Z"
   },
   {
    "duration": 13,
    "start_time": "2022-02-08T19:42:44.946Z"
   },
   {
    "duration": 8,
    "start_time": "2022-02-08T19:42:46.155Z"
   },
   {
    "duration": 12,
    "start_time": "2022-02-08T19:42:51.784Z"
   },
   {
    "duration": 8,
    "start_time": "2022-02-08T19:42:52.453Z"
   },
   {
    "duration": 472,
    "start_time": "2022-02-08T19:43:48.889Z"
   },
   {
    "duration": 660,
    "start_time": "2022-02-08T19:48:00.971Z"
   },
   {
    "duration": 4,
    "start_time": "2022-02-08T19:48:10.290Z"
   },
   {
    "duration": 573,
    "start_time": "2022-02-08T19:50:17.252Z"
   },
   {
    "duration": 162,
    "start_time": "2022-02-08T19:50:40.831Z"
   },
   {
    "duration": 152,
    "start_time": "2022-02-08T19:51:26.461Z"
   },
   {
    "duration": 272,
    "start_time": "2022-02-08T19:52:16.785Z"
   },
   {
    "duration": 257,
    "start_time": "2022-02-08T19:52:39.056Z"
   },
   {
    "duration": 257,
    "start_time": "2022-02-08T19:52:43.446Z"
   },
   {
    "duration": 156,
    "start_time": "2022-02-08T19:53:46.782Z"
   },
   {
    "duration": 2,
    "start_time": "2022-02-08T19:55:41.282Z"
   },
   {
    "duration": 4,
    "start_time": "2022-02-08T19:55:45.283Z"
   },
   {
    "duration": 153,
    "start_time": "2022-02-08T19:55:45.831Z"
   },
   {
    "duration": 815,
    "start_time": "2022-02-08T19:56:58.465Z"
   },
   {
    "duration": 15,
    "start_time": "2022-02-08T19:56:59.282Z"
   },
   {
    "duration": 10,
    "start_time": "2022-02-08T19:56:59.299Z"
   },
   {
    "duration": 6,
    "start_time": "2022-02-08T19:56:59.310Z"
   },
   {
    "duration": 2,
    "start_time": "2022-02-08T19:56:59.317Z"
   },
   {
    "duration": 8,
    "start_time": "2022-02-08T19:56:59.321Z"
   },
   {
    "duration": 9,
    "start_time": "2022-02-08T19:56:59.330Z"
   },
   {
    "duration": 35,
    "start_time": "2022-02-08T19:56:59.341Z"
   },
   {
    "duration": 13,
    "start_time": "2022-02-08T19:56:59.377Z"
   },
   {
    "duration": 4,
    "start_time": "2022-02-08T19:56:59.391Z"
   },
   {
    "duration": 14,
    "start_time": "2022-02-08T19:56:59.396Z"
   },
   {
    "duration": 23,
    "start_time": "2022-02-08T19:56:59.411Z"
   },
   {
    "duration": 14,
    "start_time": "2022-02-08T19:56:59.435Z"
   },
   {
    "duration": 7,
    "start_time": "2022-02-08T19:56:59.450Z"
   },
   {
    "duration": 26,
    "start_time": "2022-02-08T19:56:59.458Z"
   },
   {
    "duration": 11,
    "start_time": "2022-02-08T19:56:59.485Z"
   },
   {
    "duration": 6,
    "start_time": "2022-02-08T19:56:59.497Z"
   },
   {
    "duration": 8,
    "start_time": "2022-02-08T19:56:59.504Z"
   },
   {
    "duration": 18,
    "start_time": "2022-02-08T19:56:59.514Z"
   },
   {
    "duration": 12,
    "start_time": "2022-02-08T19:56:59.533Z"
   },
   {
    "duration": 115,
    "start_time": "2022-02-08T19:56:59.547Z"
   },
   {
    "duration": 14,
    "start_time": "2022-02-08T19:56:59.671Z"
   },
   {
    "duration": 17,
    "start_time": "2022-02-08T19:56:59.688Z"
   },
   {
    "duration": 7,
    "start_time": "2022-02-08T19:56:59.707Z"
   },
   {
    "duration": 18,
    "start_time": "2022-02-08T19:56:59.716Z"
   },
   {
    "duration": 20,
    "start_time": "2022-02-08T19:56:59.736Z"
   },
   {
    "duration": 15,
    "start_time": "2022-02-08T19:56:59.758Z"
   },
   {
    "duration": 10,
    "start_time": "2022-02-08T19:56:59.775Z"
   },
   {
    "duration": 12,
    "start_time": "2022-02-08T19:56:59.787Z"
   },
   {
    "duration": 34,
    "start_time": "2022-02-08T19:56:59.800Z"
   },
   {
    "duration": 8,
    "start_time": "2022-02-08T19:56:59.836Z"
   },
   {
    "duration": 18,
    "start_time": "2022-02-08T19:56:59.845Z"
   },
   {
    "duration": 21,
    "start_time": "2022-02-08T19:56:59.864Z"
   },
   {
    "duration": 9,
    "start_time": "2022-02-08T19:56:59.886Z"
   },
   {
    "duration": 580,
    "start_time": "2022-02-08T19:56:59.896Z"
   },
   {
    "duration": 4,
    "start_time": "2022-02-08T19:57:00.478Z"
   },
   {
    "duration": 169,
    "start_time": "2022-02-08T19:57:00.484Z"
   },
   {
    "duration": 776,
    "start_time": "2022-02-08T19:57:30.949Z"
   },
   {
    "duration": 15,
    "start_time": "2022-02-08T19:57:31.727Z"
   },
   {
    "duration": 11,
    "start_time": "2022-02-08T19:57:31.744Z"
   },
   {
    "duration": 6,
    "start_time": "2022-02-08T19:57:31.757Z"
   },
   {
    "duration": 2,
    "start_time": "2022-02-08T19:57:31.764Z"
   },
   {
    "duration": 10,
    "start_time": "2022-02-08T19:57:31.768Z"
   },
   {
    "duration": 10,
    "start_time": "2022-02-08T19:57:31.779Z"
   },
   {
    "duration": 7,
    "start_time": "2022-02-08T19:57:31.791Z"
   },
   {
    "duration": 20,
    "start_time": "2022-02-08T19:57:31.799Z"
   },
   {
    "duration": 2,
    "start_time": "2022-02-08T19:57:31.821Z"
   },
   {
    "duration": 13,
    "start_time": "2022-02-08T19:57:31.825Z"
   },
   {
    "duration": 19,
    "start_time": "2022-02-08T19:57:31.839Z"
   },
   {
    "duration": 23,
    "start_time": "2022-02-08T19:57:31.859Z"
   },
   {
    "duration": 7,
    "start_time": "2022-02-08T19:57:31.884Z"
   },
   {
    "duration": 18,
    "start_time": "2022-02-08T19:57:31.892Z"
   },
   {
    "duration": 12,
    "start_time": "2022-02-08T19:57:31.911Z"
   },
   {
    "duration": 6,
    "start_time": "2022-02-08T19:57:31.924Z"
   },
   {
    "duration": 7,
    "start_time": "2022-02-08T19:57:31.932Z"
   },
   {
    "duration": 38,
    "start_time": "2022-02-08T19:57:31.940Z"
   },
   {
    "duration": 10,
    "start_time": "2022-02-08T19:57:31.979Z"
   },
   {
    "duration": 109,
    "start_time": "2022-02-08T19:57:31.991Z"
   },
   {
    "duration": 12,
    "start_time": "2022-02-08T19:57:32.102Z"
   },
   {
    "duration": 12,
    "start_time": "2022-02-08T19:57:32.117Z"
   },
   {
    "duration": 4,
    "start_time": "2022-02-08T19:57:32.130Z"
   },
   {
    "duration": 4,
    "start_time": "2022-02-08T19:57:32.136Z"
   },
   {
    "duration": 31,
    "start_time": "2022-02-08T19:57:32.141Z"
   },
   {
    "duration": 9,
    "start_time": "2022-02-08T19:57:32.174Z"
   },
   {
    "duration": 3,
    "start_time": "2022-02-08T19:57:32.185Z"
   },
   {
    "duration": 4,
    "start_time": "2022-02-08T19:57:32.190Z"
   },
   {
    "duration": 28,
    "start_time": "2022-02-08T19:57:32.196Z"
   },
   {
    "duration": 8,
    "start_time": "2022-02-08T19:57:32.226Z"
   },
   {
    "duration": 36,
    "start_time": "2022-02-08T19:57:32.236Z"
   },
   {
    "duration": 13,
    "start_time": "2022-02-08T19:57:32.274Z"
   },
   {
    "duration": 7,
    "start_time": "2022-02-08T19:57:32.288Z"
   },
   {
    "duration": 470,
    "start_time": "2022-02-08T19:57:32.296Z"
   },
   {
    "duration": 4,
    "start_time": "2022-02-08T19:57:32.767Z"
   },
   {
    "duration": 161,
    "start_time": "2022-02-08T19:57:32.773Z"
   },
   {
    "duration": 560,
    "start_time": "2022-02-08T20:02:26.638Z"
   },
   {
    "duration": 434,
    "start_time": "2022-02-08T20:03:01.483Z"
   },
   {
    "duration": 573,
    "start_time": "2022-02-08T20:03:07.562Z"
   },
   {
    "duration": 293,
    "start_time": "2022-02-08T20:05:12.613Z"
   },
   {
    "duration": 171,
    "start_time": "2022-02-08T20:06:24.296Z"
   },
   {
    "duration": 239,
    "start_time": "2022-02-08T20:08:46.423Z"
   },
   {
    "duration": 4,
    "start_time": "2022-02-08T20:13:38.143Z"
   },
   {
    "duration": 6,
    "start_time": "2022-02-08T20:13:53.999Z"
   },
   {
    "duration": 6,
    "start_time": "2022-02-08T20:15:11.013Z"
   },
   {
    "duration": 7,
    "start_time": "2022-02-08T20:15:11.459Z"
   },
   {
    "duration": 143,
    "start_time": "2022-02-08T20:19:52.122Z"
   },
   {
    "duration": 414,
    "start_time": "2022-02-08T20:19:59.785Z"
   },
   {
    "duration": 972,
    "start_time": "2022-02-08T20:20:55.867Z"
   },
   {
    "duration": 16,
    "start_time": "2022-02-08T20:20:56.840Z"
   },
   {
    "duration": 29,
    "start_time": "2022-02-08T20:20:56.857Z"
   },
   {
    "duration": 16,
    "start_time": "2022-02-08T20:20:56.888Z"
   },
   {
    "duration": 18,
    "start_time": "2022-02-08T20:20:56.906Z"
   },
   {
    "duration": 19,
    "start_time": "2022-02-08T20:20:56.925Z"
   },
   {
    "duration": 17,
    "start_time": "2022-02-08T20:20:56.945Z"
   },
   {
    "duration": 10,
    "start_time": "2022-02-08T20:20:56.964Z"
   },
   {
    "duration": 22,
    "start_time": "2022-02-08T20:20:56.975Z"
   },
   {
    "duration": 10,
    "start_time": "2022-02-08T20:20:56.999Z"
   },
   {
    "duration": 9,
    "start_time": "2022-02-08T20:20:57.010Z"
   },
   {
    "duration": 32,
    "start_time": "2022-02-08T20:20:57.020Z"
   },
   {
    "duration": 13,
    "start_time": "2022-02-08T20:20:57.054Z"
   },
   {
    "duration": 9,
    "start_time": "2022-02-08T20:20:57.069Z"
   },
   {
    "duration": 34,
    "start_time": "2022-02-08T20:20:57.079Z"
   },
   {
    "duration": 18,
    "start_time": "2022-02-08T20:20:57.115Z"
   },
   {
    "duration": 10,
    "start_time": "2022-02-08T20:20:57.135Z"
   },
   {
    "duration": 8,
    "start_time": "2022-02-08T20:20:57.146Z"
   },
   {
    "duration": 18,
    "start_time": "2022-02-08T20:20:57.156Z"
   },
   {
    "duration": 12,
    "start_time": "2022-02-08T20:20:57.175Z"
   },
   {
    "duration": 103,
    "start_time": "2022-02-08T20:20:57.188Z"
   },
   {
    "duration": 12,
    "start_time": "2022-02-08T20:20:57.292Z"
   },
   {
    "duration": 11,
    "start_time": "2022-02-08T20:20:57.307Z"
   },
   {
    "duration": 5,
    "start_time": "2022-02-08T20:20:57.319Z"
   },
   {
    "duration": 4,
    "start_time": "2022-02-08T20:20:57.325Z"
   },
   {
    "duration": 9,
    "start_time": "2022-02-08T20:20:57.331Z"
   },
   {
    "duration": 35,
    "start_time": "2022-02-08T20:20:57.341Z"
   },
   {
    "duration": 3,
    "start_time": "2022-02-08T20:20:57.377Z"
   },
   {
    "duration": 7,
    "start_time": "2022-02-08T20:20:57.381Z"
   },
   {
    "duration": 41,
    "start_time": "2022-02-08T20:20:57.389Z"
   },
   {
    "duration": 8,
    "start_time": "2022-02-08T20:20:57.431Z"
   },
   {
    "duration": 24,
    "start_time": "2022-02-08T20:20:57.440Z"
   },
   {
    "duration": 356,
    "start_time": "2022-02-08T20:20:57.466Z"
   },
   {
    "duration": -28,
    "start_time": "2022-02-08T20:20:57.851Z"
   },
   {
    "duration": -33,
    "start_time": "2022-02-08T20:20:57.857Z"
   },
   {
    "duration": -34,
    "start_time": "2022-02-08T20:20:57.859Z"
   },
   {
    "duration": 14,
    "start_time": "2022-02-08T20:21:17.325Z"
   },
   {
    "duration": 690,
    "start_time": "2022-02-08T20:21:18.215Z"
   },
   {
    "duration": 949,
    "start_time": "2022-02-08T20:22:04.530Z"
   },
   {
    "duration": 17,
    "start_time": "2022-02-08T20:22:05.481Z"
   },
   {
    "duration": 10,
    "start_time": "2022-02-08T20:22:05.500Z"
   },
   {
    "duration": 5,
    "start_time": "2022-02-08T20:22:05.512Z"
   },
   {
    "duration": 3,
    "start_time": "2022-02-08T20:22:05.519Z"
   },
   {
    "duration": 10,
    "start_time": "2022-02-08T20:22:05.524Z"
   },
   {
    "duration": 9,
    "start_time": "2022-02-08T20:22:05.535Z"
   },
   {
    "duration": 28,
    "start_time": "2022-02-08T20:22:05.546Z"
   },
   {
    "duration": 13,
    "start_time": "2022-02-08T20:22:05.576Z"
   },
   {
    "duration": 2,
    "start_time": "2022-02-08T20:22:05.591Z"
   },
   {
    "duration": 6,
    "start_time": "2022-02-08T20:22:05.594Z"
   },
   {
    "duration": 18,
    "start_time": "2022-02-08T20:22:05.602Z"
   },
   {
    "duration": 13,
    "start_time": "2022-02-08T20:22:05.622Z"
   },
   {
    "duration": 7,
    "start_time": "2022-02-08T20:22:05.637Z"
   },
   {
    "duration": 43,
    "start_time": "2022-02-08T20:22:05.646Z"
   },
   {
    "duration": 13,
    "start_time": "2022-02-08T20:22:05.691Z"
   },
   {
    "duration": 9,
    "start_time": "2022-02-08T20:22:05.705Z"
   },
   {
    "duration": 7,
    "start_time": "2022-02-08T20:22:05.716Z"
   },
   {
    "duration": 16,
    "start_time": "2022-02-08T20:22:05.725Z"
   },
   {
    "duration": 31,
    "start_time": "2022-02-08T20:22:05.742Z"
   },
   {
    "duration": 115,
    "start_time": "2022-02-08T20:22:05.775Z"
   },
   {
    "duration": 13,
    "start_time": "2022-02-08T20:22:05.892Z"
   },
   {
    "duration": 13,
    "start_time": "2022-02-08T20:22:05.909Z"
   },
   {
    "duration": 5,
    "start_time": "2022-02-08T20:22:05.923Z"
   },
   {
    "duration": 3,
    "start_time": "2022-02-08T20:22:05.930Z"
   },
   {
    "duration": 40,
    "start_time": "2022-02-08T20:22:05.935Z"
   },
   {
    "duration": 9,
    "start_time": "2022-02-08T20:22:05.977Z"
   },
   {
    "duration": 3,
    "start_time": "2022-02-08T20:22:05.988Z"
   },
   {
    "duration": 4,
    "start_time": "2022-02-08T20:22:05.993Z"
   },
   {
    "duration": 28,
    "start_time": "2022-02-08T20:22:05.998Z"
   },
   {
    "duration": 7,
    "start_time": "2022-02-08T20:22:06.028Z"
   },
   {
    "duration": 40,
    "start_time": "2022-02-08T20:22:06.036Z"
   },
   {
    "duration": 21,
    "start_time": "2022-02-08T20:22:06.077Z"
   },
   {
    "duration": 699,
    "start_time": "2022-02-08T20:22:06.099Z"
   },
   {
    "duration": 15,
    "start_time": "2022-02-08T20:23:46.880Z"
   },
   {
    "duration": 158,
    "start_time": "2022-02-08T20:23:47.842Z"
   },
   {
    "duration": 16,
    "start_time": "2022-02-08T20:31:19.592Z"
   },
   {
    "duration": 381,
    "start_time": "2022-02-08T20:31:21.376Z"
   },
   {
    "duration": 2188,
    "start_time": "2022-02-08T20:31:31.619Z"
   },
   {
    "duration": -91,
    "start_time": "2022-02-08T20:31:33.900Z"
   },
   {
    "duration": 294,
    "start_time": "2022-02-08T20:31:52.508Z"
   },
   {
    "duration": 14,
    "start_time": "2022-02-08T20:32:03.848Z"
   },
   {
    "duration": 288,
    "start_time": "2022-02-08T20:32:05.038Z"
   },
   {
    "duration": 87,
    "start_time": "2022-02-08T20:34:28.969Z"
   },
   {
    "duration": 931,
    "start_time": "2022-02-08T20:35:17.552Z"
   },
   {
    "duration": 3371,
    "start_time": "2022-02-08T20:35:18.736Z"
   },
   {
    "duration": 1163,
    "start_time": "2022-02-08T20:35:44.961Z"
   },
   {
    "duration": 827,
    "start_time": "2022-02-08T20:35:46.572Z"
   },
   {
    "duration": 9763,
    "start_time": "2022-02-08T20:35:59.778Z"
   },
   {
    "duration": 12,
    "start_time": "2022-02-08T20:37:55.545Z"
   },
   {
    "duration": 275,
    "start_time": "2022-02-08T20:37:57.380Z"
   },
   {
    "duration": 161,
    "start_time": "2022-02-08T20:38:12.446Z"
   },
   {
    "duration": 17,
    "start_time": "2022-02-08T20:38:59.623Z"
   },
   {
    "duration": 194,
    "start_time": "2022-02-08T20:39:00.873Z"
   },
   {
    "duration": 12,
    "start_time": "2022-02-08T20:39:24.588Z"
   },
   {
    "duration": 163,
    "start_time": "2022-02-08T20:39:26.423Z"
   },
   {
    "duration": 13,
    "start_time": "2022-02-08T20:42:47.858Z"
   },
   {
    "duration": 156,
    "start_time": "2022-02-08T20:42:48.630Z"
   },
   {
    "duration": 14,
    "start_time": "2022-02-08T20:43:10.378Z"
   },
   {
    "duration": 163,
    "start_time": "2022-02-08T20:43:10.756Z"
   },
   {
    "duration": 7085,
    "start_time": "2022-02-08T20:45:10.428Z"
   },
   {
    "duration": -71,
    "start_time": "2022-02-08T20:45:17.587Z"
   },
   {
    "duration": 15,
    "start_time": "2022-02-08T20:46:32.474Z"
   },
   {
    "duration": 247,
    "start_time": "2022-02-08T20:46:33.752Z"
   },
   {
    "duration": 21,
    "start_time": "2022-02-08T20:48:46.986Z"
   },
   {
    "duration": 17,
    "start_time": "2022-02-08T20:49:39.241Z"
   },
   {
    "duration": 712,
    "start_time": "2022-02-08T20:53:29.978Z"
   },
   {
    "duration": 290,
    "start_time": "2022-02-08T20:54:12.730Z"
   },
   {
    "duration": 274,
    "start_time": "2022-02-08T20:54:28.052Z"
   },
   {
    "duration": 280,
    "start_time": "2022-02-08T20:54:36.673Z"
   },
   {
    "duration": 16,
    "start_time": "2022-02-08T20:54:50.475Z"
   },
   {
    "duration": 14,
    "start_time": "2022-02-08T20:55:03.984Z"
   },
   {
    "duration": 266,
    "start_time": "2022-02-08T20:55:27.309Z"
   },
   {
    "duration": 17,
    "start_time": "2022-02-08T20:56:01.949Z"
   },
   {
    "duration": 18,
    "start_time": "2022-02-08T20:56:14.875Z"
   },
   {
    "duration": 14,
    "start_time": "2022-02-08T20:58:56.138Z"
   },
   {
    "duration": 5091,
    "start_time": "2022-02-08T20:59:55.241Z"
   },
   {
    "duration": 14,
    "start_time": "2022-02-08T21:00:08.063Z"
   },
   {
    "duration": 16,
    "start_time": "2022-02-08T21:00:39.706Z"
   },
   {
    "duration": 14,
    "start_time": "2022-02-08T21:01:01.740Z"
   },
   {
    "duration": 15,
    "start_time": "2022-02-08T21:02:37.470Z"
   },
   {
    "duration": 297,
    "start_time": "2022-02-08T21:04:26.929Z"
   },
   {
    "duration": 298,
    "start_time": "2022-02-08T21:04:38.541Z"
   },
   {
    "duration": 290,
    "start_time": "2022-02-08T21:05:20.621Z"
   },
   {
    "duration": 14,
    "start_time": "2022-02-08T21:05:43.219Z"
   },
   {
    "duration": 15,
    "start_time": "2022-02-08T21:07:17.146Z"
   },
   {
    "duration": 17,
    "start_time": "2022-02-08T21:07:56.781Z"
   },
   {
    "duration": 16,
    "start_time": "2022-02-08T21:08:07.540Z"
   },
   {
    "duration": 17,
    "start_time": "2022-02-08T21:08:18.391Z"
   },
   {
    "duration": 300,
    "start_time": "2022-02-08T21:09:23.963Z"
   },
   {
    "duration": 305,
    "start_time": "2022-02-08T21:09:29.184Z"
   },
   {
    "duration": 335,
    "start_time": "2022-02-08T21:10:32.867Z"
   },
   {
    "duration": 14,
    "start_time": "2022-02-08T21:10:57.440Z"
   },
   {
    "duration": 16,
    "start_time": "2022-02-08T21:11:15.639Z"
   },
   {
    "duration": 15,
    "start_time": "2022-02-08T21:11:32.793Z"
   },
   {
    "duration": 17,
    "start_time": "2022-02-08T21:11:56.108Z"
   },
   {
    "duration": 279,
    "start_time": "2022-02-08T21:12:38.996Z"
   },
   {
    "duration": 16,
    "start_time": "2022-02-08T21:12:43.559Z"
   },
   {
    "duration": 310,
    "start_time": "2022-02-08T21:13:13.701Z"
   },
   {
    "duration": 16,
    "start_time": "2022-02-08T21:13:25.652Z"
   },
   {
    "duration": 16,
    "start_time": "2022-02-08T21:16:22.256Z"
   },
   {
    "duration": 15,
    "start_time": "2022-02-08T21:16:27.581Z"
   },
   {
    "duration": 17,
    "start_time": "2022-02-08T21:16:43.395Z"
   },
   {
    "duration": 289,
    "start_time": "2022-02-08T21:17:46.479Z"
   },
   {
    "duration": 292,
    "start_time": "2022-02-08T21:17:58.786Z"
   },
   {
    "duration": 19,
    "start_time": "2022-02-08T21:18:07.725Z"
   },
   {
    "duration": 362,
    "start_time": "2022-02-09T16:58:40.541Z"
   },
   {
    "duration": 1216,
    "start_time": "2022-02-09T16:58:46.984Z"
   },
   {
    "duration": 27,
    "start_time": "2022-02-09T16:58:48.203Z"
   },
   {
    "duration": 41,
    "start_time": "2022-02-09T16:58:48.234Z"
   },
   {
    "duration": 13,
    "start_time": "2022-02-09T16:58:48.278Z"
   },
   {
    "duration": 4,
    "start_time": "2022-02-09T16:58:48.294Z"
   },
   {
    "duration": 19,
    "start_time": "2022-02-09T16:58:48.301Z"
   },
   {
    "duration": 52,
    "start_time": "2022-02-09T16:58:48.323Z"
   },
   {
    "duration": 14,
    "start_time": "2022-02-09T16:58:48.381Z"
   },
   {
    "duration": 33,
    "start_time": "2022-02-09T16:58:48.399Z"
   },
   {
    "duration": 5,
    "start_time": "2022-02-09T16:58:48.435Z"
   },
   {
    "duration": 3,
    "start_time": "2022-02-09T16:58:48.470Z"
   },
   {
    "duration": 28,
    "start_time": "2022-02-09T16:58:48.476Z"
   },
   {
    "duration": 26,
    "start_time": "2022-02-09T16:58:48.506Z"
   },
   {
    "duration": 46,
    "start_time": "2022-02-09T16:58:48.535Z"
   },
   {
    "duration": 35,
    "start_time": "2022-02-09T16:58:48.584Z"
   },
   {
    "duration": 52,
    "start_time": "2022-02-09T16:58:48.621Z"
   },
   {
    "duration": 11,
    "start_time": "2022-02-09T16:58:48.675Z"
   },
   {
    "duration": 12,
    "start_time": "2022-02-09T16:58:48.689Z"
   },
   {
    "duration": 31,
    "start_time": "2022-02-09T16:58:48.704Z"
   },
   {
    "duration": 46,
    "start_time": "2022-02-09T16:58:48.738Z"
   },
   {
    "duration": 271,
    "start_time": "2022-02-09T16:58:48.787Z"
   },
   {
    "duration": 27,
    "start_time": "2022-02-09T16:58:49.071Z"
   },
   {
    "duration": 28,
    "start_time": "2022-02-09T16:58:49.104Z"
   },
   {
    "duration": 38,
    "start_time": "2022-02-09T16:58:49.136Z"
   },
   {
    "duration": 11,
    "start_time": "2022-02-09T16:58:49.177Z"
   },
   {
    "duration": 25,
    "start_time": "2022-02-09T16:58:49.190Z"
   },
   {
    "duration": 28,
    "start_time": "2022-02-09T16:58:49.218Z"
   },
   {
    "duration": 29,
    "start_time": "2022-02-09T16:58:49.250Z"
   },
   {
    "duration": 24,
    "start_time": "2022-02-09T16:58:49.282Z"
   },
   {
    "duration": 55,
    "start_time": "2022-02-09T16:58:49.309Z"
   },
   {
    "duration": 14,
    "start_time": "2022-02-09T16:58:49.367Z"
   },
   {
    "duration": 21,
    "start_time": "2022-02-09T16:58:49.384Z"
   },
   {
    "duration": 36,
    "start_time": "2022-02-09T16:58:49.407Z"
   },
   {
    "duration": 1133,
    "start_time": "2022-02-09T16:58:49.446Z"
   },
   {
    "duration": 25,
    "start_time": "2022-02-09T16:59:02.822Z"
   },
   {
    "duration": 632,
    "start_time": "2022-02-09T17:01:21.212Z"
   },
   {
    "duration": 520,
    "start_time": "2022-02-09T17:02:01.076Z"
   },
   {
    "duration": 24,
    "start_time": "2022-02-09T17:02:58.330Z"
   },
   {
    "duration": 26,
    "start_time": "2022-02-09T17:03:20.467Z"
   },
   {
    "duration": 28,
    "start_time": "2022-02-09T17:03:37.077Z"
   },
   {
    "duration": 25,
    "start_time": "2022-02-09T17:04:24.323Z"
   },
   {
    "duration": 24,
    "start_time": "2022-02-09T17:04:34.399Z"
   },
   {
    "duration": 31,
    "start_time": "2022-02-09T17:04:45.586Z"
   },
   {
    "duration": 353,
    "start_time": "2022-02-09T17:04:47.599Z"
   },
   {
    "duration": 22,
    "start_time": "2022-02-09T17:05:54.618Z"
   },
   {
    "duration": 94,
    "start_time": "2022-02-09T17:07:22.497Z"
   },
   {
    "duration": 97,
    "start_time": "2022-02-09T17:07:44.637Z"
   },
   {
    "duration": 527,
    "start_time": "2022-02-09T17:08:04.212Z"
   },
   {
    "duration": 138,
    "start_time": "2022-02-09T17:08:07.899Z"
   },
   {
    "duration": 198,
    "start_time": "2022-02-09T17:08:52.379Z"
   },
   {
    "duration": 128,
    "start_time": "2022-02-09T17:09:09.084Z"
   },
   {
    "duration": 371,
    "start_time": "2022-02-09T17:09:31.320Z"
   },
   {
    "duration": 120,
    "start_time": "2022-02-09T17:09:40.490Z"
   },
   {
    "duration": 99,
    "start_time": "2022-02-09T17:09:46.146Z"
   },
   {
    "duration": 404,
    "start_time": "2022-02-09T17:09:53.017Z"
   },
   {
    "duration": 25,
    "start_time": "2022-02-09T17:11:57.257Z"
   },
   {
    "duration": 28,
    "start_time": "2022-02-09T17:12:06.818Z"
   },
   {
    "duration": 25,
    "start_time": "2022-02-09T17:13:08.434Z"
   },
   {
    "duration": 46,
    "start_time": "2022-02-09T17:14:03.712Z"
   },
   {
    "duration": 24,
    "start_time": "2022-02-09T17:14:29.425Z"
   },
   {
    "duration": 23,
    "start_time": "2022-02-09T17:14:45.193Z"
   },
   {
    "duration": 404,
    "start_time": "2022-02-09T17:14:45.923Z"
   },
   {
    "duration": 26,
    "start_time": "2022-02-09T17:16:41.130Z"
   },
   {
    "duration": 28,
    "start_time": "2022-02-09T17:16:49.646Z"
   },
   {
    "duration": 380,
    "start_time": "2022-02-09T17:18:01.588Z"
   },
   {
    "duration": 366,
    "start_time": "2022-02-09T17:18:53.418Z"
   },
   {
    "duration": 23,
    "start_time": "2022-02-09T17:19:24.466Z"
   },
   {
    "duration": 6420,
    "start_time": "2022-02-09T17:20:25.001Z"
   },
   {
    "duration": 335,
    "start_time": "2022-02-09T17:21:32.386Z"
   },
   {
    "duration": 342,
    "start_time": "2022-02-09T17:21:38.027Z"
   },
   {
    "duration": 335,
    "start_time": "2022-02-09T17:21:56.734Z"
   },
   {
    "duration": 36,
    "start_time": "2022-02-09T17:22:09.111Z"
   },
   {
    "duration": 432,
    "start_time": "2022-02-09T17:22:27.306Z"
   },
   {
    "duration": 320,
    "start_time": "2022-02-09T17:23:15.881Z"
   },
   {
    "duration": 307,
    "start_time": "2022-02-09T17:23:45.093Z"
   },
   {
    "duration": 26,
    "start_time": "2022-02-09T17:26:42.390Z"
   },
   {
    "duration": 318,
    "start_time": "2022-02-09T17:41:36.475Z"
   },
   {
    "duration": 319,
    "start_time": "2022-02-09T17:41:37.396Z"
   },
   {
    "duration": 27,
    "start_time": "2022-02-09T17:41:57.040Z"
   },
   {
    "duration": 150,
    "start_time": "2022-02-09T17:42:03.881Z"
   },
   {
    "duration": 339,
    "start_time": "2022-02-09T17:42:05.219Z"
   },
   {
    "duration": 26,
    "start_time": "2022-02-09T17:42:09.488Z"
   },
   {
    "duration": 325,
    "start_time": "2022-02-09T17:42:10.400Z"
   },
   {
    "duration": 33,
    "start_time": "2022-02-09T17:42:24.586Z"
   },
   {
    "duration": 327,
    "start_time": "2022-02-09T17:42:25.429Z"
   },
   {
    "duration": 26,
    "start_time": "2022-02-09T17:43:08.195Z"
   },
   {
    "duration": 302,
    "start_time": "2022-02-09T17:43:10.433Z"
   },
   {
    "duration": 409,
    "start_time": "2022-02-09T17:44:59.299Z"
   },
   {
    "duration": 351,
    "start_time": "2022-02-09T17:45:20.820Z"
   },
   {
    "duration": 360,
    "start_time": "2022-02-09T17:46:20.931Z"
   },
   {
    "duration": 361,
    "start_time": "2022-02-09T17:46:24.669Z"
   },
   {
    "duration": 539,
    "start_time": "2022-02-09T17:47:32.432Z"
   },
   {
    "duration": 104,
    "start_time": "2022-02-09T18:03:20.988Z"
   },
   {
    "duration": 6,
    "start_time": "2022-02-09T18:04:22.090Z"
   },
   {
    "duration": 693,
    "start_time": "2022-02-09T18:04:52.162Z"
   },
   {
    "duration": 6,
    "start_time": "2022-02-09T18:05:09.320Z"
   },
   {
    "duration": 348,
    "start_time": "2022-02-09T18:05:09.329Z"
   },
   {
    "duration": 10,
    "start_time": "2022-02-09T18:10:41.294Z"
   },
   {
    "duration": 8,
    "start_time": "2022-02-09T18:12:16.782Z"
   },
   {
    "duration": 339,
    "start_time": "2022-02-09T18:14:06.958Z"
   },
   {
    "duration": 343,
    "start_time": "2022-02-09T18:15:55.350Z"
   },
   {
    "duration": 465,
    "start_time": "2022-02-09T18:19:29.980Z"
   },
   {
    "duration": 7,
    "start_time": "2022-02-09T18:19:46.018Z"
   },
   {
    "duration": 341,
    "start_time": "2022-02-09T18:19:46.858Z"
   },
   {
    "duration": 338,
    "start_time": "2022-02-09T18:19:49.426Z"
   },
   {
    "duration": 337,
    "start_time": "2022-02-09T18:19:51.584Z"
   },
   {
    "duration": 313,
    "start_time": "2022-02-09T18:20:28.685Z"
   },
   {
    "duration": 327,
    "start_time": "2022-02-09T18:20:38.320Z"
   },
   {
    "duration": 346,
    "start_time": "2022-02-09T18:20:59.739Z"
   },
   {
    "duration": 336,
    "start_time": "2022-02-09T18:21:21.134Z"
   },
   {
    "duration": 335,
    "start_time": "2022-02-09T18:21:27.149Z"
   },
   {
    "duration": 325,
    "start_time": "2022-02-09T18:22:19.599Z"
   },
   {
    "duration": 336,
    "start_time": "2022-02-09T18:22:31.670Z"
   },
   {
    "duration": 440,
    "start_time": "2022-02-09T18:22:50.049Z"
   },
   {
    "duration": 327,
    "start_time": "2022-02-09T18:23:10.719Z"
   },
   {
    "duration": 381,
    "start_time": "2022-02-09T18:23:58.054Z"
   },
   {
    "duration": 331,
    "start_time": "2022-02-09T18:24:15.219Z"
   },
   {
    "duration": 335,
    "start_time": "2022-02-09T18:24:20.358Z"
   },
   {
    "duration": 337,
    "start_time": "2022-02-09T18:24:44.898Z"
   },
   {
    "duration": 6,
    "start_time": "2022-02-09T18:25:32.503Z"
   },
   {
    "duration": 325,
    "start_time": "2022-02-09T18:25:34.793Z"
   },
   {
    "duration": 7,
    "start_time": "2022-02-09T18:25:47.237Z"
   },
   {
    "duration": 337,
    "start_time": "2022-02-09T18:25:48.271Z"
   },
   {
    "duration": 8,
    "start_time": "2022-02-09T18:26:11.639Z"
   },
   {
    "duration": 334,
    "start_time": "2022-02-09T18:26:12.602Z"
   },
   {
    "duration": 7,
    "start_time": "2022-02-09T18:26:25.649Z"
   },
   {
    "duration": 328,
    "start_time": "2022-02-09T18:26:26.559Z"
   },
   {
    "duration": 356,
    "start_time": "2022-02-09T18:26:29.145Z"
   },
   {
    "duration": 445,
    "start_time": "2022-02-09T18:26:54.198Z"
   },
   {
    "duration": 7,
    "start_time": "2022-02-09T18:27:03.612Z"
   },
   {
    "duration": 330,
    "start_time": "2022-02-09T18:27:04.402Z"
   },
   {
    "duration": 8,
    "start_time": "2022-02-09T18:27:13.361Z"
   },
   {
    "duration": 481,
    "start_time": "2022-02-09T18:27:14.314Z"
   },
   {
    "duration": 8,
    "start_time": "2022-02-09T18:27:20.353Z"
   },
   {
    "duration": 334,
    "start_time": "2022-02-09T18:27:22.205Z"
   },
   {
    "duration": 318,
    "start_time": "2022-02-09T18:27:47.381Z"
   },
   {
    "duration": 337,
    "start_time": "2022-02-09T18:28:04.597Z"
   },
   {
    "duration": 111,
    "start_time": "2022-02-09T18:28:45.015Z"
   },
   {
    "duration": 330,
    "start_time": "2022-02-09T18:40:43.842Z"
   },
   {
    "duration": 1086,
    "start_time": "2022-02-09T18:43:42.229Z"
   },
   {
    "duration": 26,
    "start_time": "2022-02-09T18:43:43.318Z"
   },
   {
    "duration": 24,
    "start_time": "2022-02-09T18:43:43.347Z"
   },
   {
    "duration": 10,
    "start_time": "2022-02-09T18:43:43.374Z"
   },
   {
    "duration": 3,
    "start_time": "2022-02-09T18:43:43.387Z"
   },
   {
    "duration": 19,
    "start_time": "2022-02-09T18:43:43.393Z"
   },
   {
    "duration": 15,
    "start_time": "2022-02-09T18:43:43.414Z"
   },
   {
    "duration": 12,
    "start_time": "2022-02-09T18:43:43.469Z"
   },
   {
    "duration": 28,
    "start_time": "2022-02-09T18:43:43.484Z"
   },
   {
    "duration": 3,
    "start_time": "2022-02-09T18:43:43.514Z"
   },
   {
    "duration": 8,
    "start_time": "2022-02-09T18:43:43.519Z"
   },
   {
    "duration": 59,
    "start_time": "2022-02-09T18:43:43.529Z"
   },
   {
    "duration": 23,
    "start_time": "2022-02-09T18:43:43.592Z"
   },
   {
    "duration": 11,
    "start_time": "2022-02-09T18:43:43.618Z"
   },
   {
    "duration": 61,
    "start_time": "2022-02-09T18:43:43.631Z"
   },
   {
    "duration": 22,
    "start_time": "2022-02-09T18:43:43.695Z"
   },
   {
    "duration": 9,
    "start_time": "2022-02-09T18:43:43.720Z"
   },
   {
    "duration": 41,
    "start_time": "2022-02-09T18:43:43.732Z"
   },
   {
    "duration": 17,
    "start_time": "2022-02-09T18:43:43.775Z"
   },
   {
    "duration": 18,
    "start_time": "2022-02-09T18:43:43.794Z"
   },
   {
    "duration": 216,
    "start_time": "2022-02-09T18:43:43.815Z"
   },
   {
    "duration": 18,
    "start_time": "2022-02-09T18:43:44.033Z"
   },
   {
    "duration": 19,
    "start_time": "2022-02-09T18:43:44.068Z"
   },
   {
    "duration": 7,
    "start_time": "2022-02-09T18:43:44.090Z"
   },
   {
    "duration": 7,
    "start_time": "2022-02-09T18:43:44.099Z"
   },
   {
    "duration": 15,
    "start_time": "2022-02-09T18:43:44.108Z"
   },
   {
    "duration": 53,
    "start_time": "2022-02-09T18:43:44.126Z"
   },
   {
    "duration": 8,
    "start_time": "2022-02-09T18:43:44.181Z"
   },
   {
    "duration": 9,
    "start_time": "2022-02-09T18:43:44.191Z"
   },
   {
    "duration": 69,
    "start_time": "2022-02-09T18:43:44.202Z"
   },
   {
    "duration": 11,
    "start_time": "2022-02-09T18:43:44.273Z"
   },
   {
    "duration": 17,
    "start_time": "2022-02-09T18:43:44.286Z"
   },
   {
    "duration": 8,
    "start_time": "2022-02-09T18:43:44.305Z"
   },
   {
    "duration": 1103,
    "start_time": "2022-02-09T18:43:44.316Z"
   },
   {
    "duration": 351,
    "start_time": "2022-02-09T18:43:45.421Z"
   },
   {
    "duration": 337,
    "start_time": "2022-02-09T18:43:45.775Z"
   },
   {
    "duration": 359,
    "start_time": "2022-02-09T18:43:46.115Z"
   },
   {
    "duration": 4,
    "start_time": "2022-02-09T18:51:52.830Z"
   },
   {
    "duration": 1459,
    "start_time": "2022-02-09T19:36:18.252Z"
   },
   {
    "duration": 30,
    "start_time": "2022-02-09T19:36:19.713Z"
   },
   {
    "duration": 23,
    "start_time": "2022-02-09T19:36:19.746Z"
   },
   {
    "duration": 11,
    "start_time": "2022-02-09T19:36:19.772Z"
   },
   {
    "duration": 4,
    "start_time": "2022-02-09T19:36:19.785Z"
   },
   {
    "duration": 20,
    "start_time": "2022-02-09T19:36:19.791Z"
   },
   {
    "duration": 14,
    "start_time": "2022-02-09T19:36:19.813Z"
   },
   {
    "duration": 45,
    "start_time": "2022-02-09T19:36:19.831Z"
   },
   {
    "duration": 25,
    "start_time": "2022-02-09T19:36:19.880Z"
   },
   {
    "duration": 3,
    "start_time": "2022-02-09T19:36:19.908Z"
   },
   {
    "duration": 6,
    "start_time": "2022-02-09T19:36:19.913Z"
   },
   {
    "duration": 55,
    "start_time": "2022-02-09T19:36:19.922Z"
   },
   {
    "duration": 24,
    "start_time": "2022-02-09T19:36:19.979Z"
   },
   {
    "duration": 12,
    "start_time": "2022-02-09T19:36:20.006Z"
   },
   {
    "duration": 71,
    "start_time": "2022-02-09T19:36:20.021Z"
   },
   {
    "duration": 25,
    "start_time": "2022-02-09T19:36:20.095Z"
   },
   {
    "duration": 12,
    "start_time": "2022-02-09T19:36:20.122Z"
   },
   {
    "duration": 38,
    "start_time": "2022-02-09T19:36:20.137Z"
   },
   {
    "duration": 20,
    "start_time": "2022-02-09T19:36:20.178Z"
   },
   {
    "duration": 21,
    "start_time": "2022-02-09T19:36:20.201Z"
   },
   {
    "duration": 225,
    "start_time": "2022-02-09T19:36:20.224Z"
   },
   {
    "duration": 27,
    "start_time": "2022-02-09T19:36:20.451Z"
   },
   {
    "duration": 19,
    "start_time": "2022-02-09T19:36:20.483Z"
   },
   {
    "duration": 7,
    "start_time": "2022-02-09T19:36:20.505Z"
   },
   {
    "duration": 7,
    "start_time": "2022-02-09T19:36:20.515Z"
   },
   {
    "duration": 62,
    "start_time": "2022-02-09T19:36:20.524Z"
   },
   {
    "duration": 20,
    "start_time": "2022-02-09T19:36:20.589Z"
   },
   {
    "duration": 6,
    "start_time": "2022-02-09T19:36:20.612Z"
   },
   {
    "duration": 5,
    "start_time": "2022-02-09T19:36:20.621Z"
   },
   {
    "duration": 94,
    "start_time": "2022-02-09T19:36:20.629Z"
   },
   {
    "duration": 12,
    "start_time": "2022-02-09T19:36:20.726Z"
   },
   {
    "duration": 46,
    "start_time": "2022-02-09T19:36:20.741Z"
   },
   {
    "duration": 8,
    "start_time": "2022-02-09T19:36:20.789Z"
   },
   {
    "duration": 1070,
    "start_time": "2022-02-09T19:36:20.799Z"
   },
   {
    "duration": 354,
    "start_time": "2022-02-09T19:36:21.871Z"
   },
   {
    "duration": 342,
    "start_time": "2022-02-09T19:36:22.227Z"
   },
   {
    "duration": 366,
    "start_time": "2022-02-09T19:36:22.572Z"
   },
   {
    "duration": 667,
    "start_time": "2022-02-10T05:26:18.292Z"
   },
   {
    "duration": 18,
    "start_time": "2022-02-10T05:26:20.797Z"
   },
   {
    "duration": 645,
    "start_time": "2022-02-10T05:26:31.143Z"
   },
   {
    "duration": 19,
    "start_time": "2022-02-10T05:26:31.790Z"
   },
   {
    "duration": 26,
    "start_time": "2022-02-10T05:26:31.812Z"
   },
   {
    "duration": 31,
    "start_time": "2022-02-10T05:26:31.841Z"
   },
   {
    "duration": 74,
    "start_time": "2022-02-10T05:26:31.874Z"
   },
   {
    "duration": 167,
    "start_time": "2022-02-10T05:26:31.950Z"
   },
   {
    "duration": 137,
    "start_time": "2022-02-10T05:26:32.120Z"
   },
   {
    "duration": 96,
    "start_time": "2022-02-10T05:26:32.261Z"
   },
   {
    "duration": 137,
    "start_time": "2022-02-10T05:26:32.360Z"
   },
   {
    "duration": 2,
    "start_time": "2022-02-10T05:26:32.499Z"
   },
   {
    "duration": 8,
    "start_time": "2022-02-10T05:26:32.503Z"
   },
   {
    "duration": 32,
    "start_time": "2022-02-10T05:26:32.513Z"
   },
   {
    "duration": 14,
    "start_time": "2022-02-10T05:26:32.547Z"
   },
   {
    "duration": 9,
    "start_time": "2022-02-10T05:26:32.563Z"
   },
   {
    "duration": 19,
    "start_time": "2022-02-10T05:26:32.574Z"
   },
   {
    "duration": 28,
    "start_time": "2022-02-10T05:26:32.594Z"
   },
   {
    "duration": 10,
    "start_time": "2022-02-10T05:26:32.624Z"
   },
   {
    "duration": 9,
    "start_time": "2022-02-10T05:26:32.636Z"
   },
   {
    "duration": 12,
    "start_time": "2022-02-10T05:26:32.646Z"
   },
   {
    "duration": 14,
    "start_time": "2022-02-10T05:26:32.659Z"
   },
   {
    "duration": 149,
    "start_time": "2022-02-10T05:26:32.675Z"
   },
   {
    "duration": 22,
    "start_time": "2022-02-10T05:26:32.826Z"
   },
   {
    "duration": 18,
    "start_time": "2022-02-10T05:26:32.852Z"
   },
   {
    "duration": 6,
    "start_time": "2022-02-10T05:26:32.873Z"
   },
   {
    "duration": 5,
    "start_time": "2022-02-10T05:26:32.881Z"
   },
   {
    "duration": 44,
    "start_time": "2022-02-10T05:26:32.887Z"
   },
   {
    "duration": 20,
    "start_time": "2022-02-10T05:26:32.934Z"
   },
   {
    "duration": 4,
    "start_time": "2022-02-10T05:26:32.956Z"
   },
   {
    "duration": 6,
    "start_time": "2022-02-10T05:26:32.962Z"
   },
   {
    "duration": 33,
    "start_time": "2022-02-10T05:26:32.969Z"
   },
   {
    "duration": 23,
    "start_time": "2022-02-10T05:26:33.004Z"
   },
   {
    "duration": 16,
    "start_time": "2022-02-10T05:26:33.029Z"
   },
   {
    "duration": 6,
    "start_time": "2022-02-10T05:26:33.047Z"
   },
   {
    "duration": 805,
    "start_time": "2022-02-10T05:26:33.055Z"
   },
   {
    "duration": 215,
    "start_time": "2022-02-10T05:26:33.862Z"
   },
   {
    "duration": 226,
    "start_time": "2022-02-10T05:26:34.079Z"
   },
   {
    "duration": 270,
    "start_time": "2022-02-10T05:26:34.306Z"
   },
   {
    "duration": 698,
    "start_time": "2022-02-15T16:57:29.793Z"
   },
   {
    "duration": 21,
    "start_time": "2022-02-15T16:57:30.492Z"
   },
   {
    "duration": 29,
    "start_time": "2022-02-15T16:57:30.515Z"
   },
   {
    "duration": 20,
    "start_time": "2022-02-15T16:57:30.546Z"
   },
   {
    "duration": 6,
    "start_time": "2022-02-15T16:57:30.568Z"
   },
   {
    "duration": 18,
    "start_time": "2022-02-15T16:57:30.575Z"
   },
   {
    "duration": 13,
    "start_time": "2022-02-15T16:57:30.595Z"
   },
   {
    "duration": 30,
    "start_time": "2022-02-15T16:57:30.611Z"
   },
   {
    "duration": 23,
    "start_time": "2022-02-15T16:57:30.644Z"
   },
   {
    "duration": 5,
    "start_time": "2022-02-15T16:57:30.669Z"
   },
   {
    "duration": 24,
    "start_time": "2022-02-15T16:57:30.676Z"
   },
   {
    "duration": 31,
    "start_time": "2022-02-15T16:57:30.702Z"
   },
   {
    "duration": 25,
    "start_time": "2022-02-15T16:57:30.735Z"
   },
   {
    "duration": 21,
    "start_time": "2022-02-15T16:57:30.762Z"
   },
   {
    "duration": 42,
    "start_time": "2022-02-15T16:57:30.785Z"
   },
   {
    "duration": 30,
    "start_time": "2022-02-15T16:57:30.829Z"
   },
   {
    "duration": 13,
    "start_time": "2022-02-15T16:57:30.861Z"
   },
   {
    "duration": 16,
    "start_time": "2022-02-15T16:57:30.876Z"
   },
   {
    "duration": 23,
    "start_time": "2022-02-15T16:57:30.894Z"
   },
   {
    "duration": 26,
    "start_time": "2022-02-15T16:57:30.919Z"
   },
   {
    "duration": 127,
    "start_time": "2022-02-15T16:57:30.947Z"
   },
   {
    "duration": 16,
    "start_time": "2022-02-15T16:57:31.076Z"
   },
   {
    "duration": 18,
    "start_time": "2022-02-15T16:57:31.108Z"
   },
   {
    "duration": 16,
    "start_time": "2022-02-15T16:57:31.129Z"
   },
   {
    "duration": 8,
    "start_time": "2022-02-15T16:57:31.147Z"
   },
   {
    "duration": 17,
    "start_time": "2022-02-15T16:57:31.157Z"
   },
   {
    "duration": 27,
    "start_time": "2022-02-15T16:57:31.177Z"
   },
   {
    "duration": 36,
    "start_time": "2022-02-15T16:57:31.206Z"
   },
   {
    "duration": 12,
    "start_time": "2022-02-15T16:57:31.245Z"
   },
   {
    "duration": 49,
    "start_time": "2022-02-15T16:57:31.259Z"
   },
   {
    "duration": 22,
    "start_time": "2022-02-15T16:57:31.311Z"
   },
   {
    "duration": 25,
    "start_time": "2022-02-15T16:57:31.335Z"
   },
   {
    "duration": 9,
    "start_time": "2022-02-15T16:57:31.362Z"
   },
   {
    "duration": 799,
    "start_time": "2022-02-15T16:57:31.372Z"
   },
   {
    "duration": 242,
    "start_time": "2022-02-15T16:57:32.173Z"
   },
   {
    "duration": 242,
    "start_time": "2022-02-15T16:57:32.418Z"
   },
   {
    "duration": 254,
    "start_time": "2022-02-15T16:57:32.662Z"
   },
   {
    "duration": 15,
    "start_time": "2022-02-15T17:01:33.203Z"
   },
   {
    "duration": 15,
    "start_time": "2022-02-15T17:06:42.167Z"
   },
   {
    "duration": 1126,
    "start_time": "2022-02-16T14:45:26.249Z"
   },
   {
    "duration": 2,
    "start_time": "2022-02-16T14:46:57.905Z"
   },
   {
    "duration": 65,
    "start_time": "2022-02-16T14:47:05.500Z"
   },
   {
    "duration": 3,
    "start_time": "2022-02-16T14:47:12.028Z"
   },
   {
    "duration": 51,
    "start_time": "2022-02-16T14:47:13.307Z"
   },
   {
    "duration": 6757,
    "start_time": "2022-02-16T14:49:44.812Z"
   },
   {
    "duration": 1118,
    "start_time": "2022-02-16T14:50:14.914Z"
   },
   {
    "duration": 47,
    "start_time": "2022-02-16T14:50:16.034Z"
   },
   {
    "duration": 12,
    "start_time": "2022-02-16T14:50:16.083Z"
   },
   {
    "duration": 10,
    "start_time": "2022-02-16T14:50:16.097Z"
   },
   {
    "duration": 6,
    "start_time": "2022-02-16T14:50:16.109Z"
   },
   {
    "duration": 30,
    "start_time": "2022-02-16T14:50:16.117Z"
   },
   {
    "duration": 10,
    "start_time": "2022-02-16T14:50:16.149Z"
   },
   {
    "duration": 7,
    "start_time": "2022-02-16T14:50:16.161Z"
   },
   {
    "duration": 16,
    "start_time": "2022-02-16T14:50:16.170Z"
   },
   {
    "duration": 3,
    "start_time": "2022-02-16T14:50:16.187Z"
   },
   {
    "duration": 3,
    "start_time": "2022-02-16T14:50:16.191Z"
   },
   {
    "duration": 45,
    "start_time": "2022-02-16T14:50:16.196Z"
   },
   {
    "duration": 15,
    "start_time": "2022-02-16T14:50:16.243Z"
   },
   {
    "duration": 7,
    "start_time": "2022-02-16T14:50:16.260Z"
   },
   {
    "duration": 19,
    "start_time": "2022-02-16T14:50:16.268Z"
   },
   {
    "duration": 12,
    "start_time": "2022-02-16T14:50:16.288Z"
   },
   {
    "duration": 6,
    "start_time": "2022-02-16T14:50:16.301Z"
   },
   {
    "duration": 30,
    "start_time": "2022-02-16T14:50:16.309Z"
   },
   {
    "duration": 12,
    "start_time": "2022-02-16T14:50:16.342Z"
   },
   {
    "duration": 13,
    "start_time": "2022-02-16T14:50:16.356Z"
   },
   {
    "duration": 126,
    "start_time": "2022-02-16T14:50:16.370Z"
   },
   {
    "duration": 12,
    "start_time": "2022-02-16T14:50:16.497Z"
   },
   {
    "duration": 25,
    "start_time": "2022-02-16T14:50:16.512Z"
   },
   {
    "duration": 5,
    "start_time": "2022-02-16T14:50:16.539Z"
   },
   {
    "duration": 4,
    "start_time": "2022-02-16T14:50:16.546Z"
   },
   {
    "duration": 11,
    "start_time": "2022-02-16T14:50:16.551Z"
   },
   {
    "duration": 10,
    "start_time": "2022-02-16T14:50:16.564Z"
   },
   {
    "duration": 3,
    "start_time": "2022-02-16T14:50:16.576Z"
   },
   {
    "duration": 4,
    "start_time": "2022-02-16T14:50:16.581Z"
   },
   {
    "duration": 80,
    "start_time": "2022-02-16T14:50:16.586Z"
   },
   {
    "duration": 7,
    "start_time": "2022-02-16T14:50:16.668Z"
   },
   {
    "duration": 10,
    "start_time": "2022-02-16T14:50:16.677Z"
   },
   {
    "duration": 4,
    "start_time": "2022-02-16T14:50:16.689Z"
   },
   {
    "duration": 202,
    "start_time": "2022-02-16T14:50:16.695Z"
   },
   {
    "duration": 188,
    "start_time": "2022-02-16T14:50:16.899Z"
   },
   {
    "duration": 213,
    "start_time": "2022-02-16T14:50:17.088Z"
   },
   {
    "duration": 209,
    "start_time": "2022-02-16T14:50:17.302Z"
   },
   {
    "duration": 32,
    "start_time": "2022-02-16T14:55:54.709Z"
   },
   {
    "duration": 22,
    "start_time": "2022-02-16T14:56:18.788Z"
   },
   {
    "duration": 7,
    "start_time": "2022-02-16T14:57:52.370Z"
   },
   {
    "duration": 93,
    "start_time": "2022-02-16T14:58:21.853Z"
   },
   {
    "duration": 6,
    "start_time": "2022-02-16T14:58:24.109Z"
   },
   {
    "duration": 1108,
    "start_time": "2022-02-16T14:58:33.638Z"
   },
   {
    "duration": 46,
    "start_time": "2022-02-16T14:58:34.748Z"
   },
   {
    "duration": 13,
    "start_time": "2022-02-16T14:58:34.796Z"
   },
   {
    "duration": 10,
    "start_time": "2022-02-16T14:58:34.811Z"
   },
   {
    "duration": 22,
    "start_time": "2022-02-16T14:58:34.822Z"
   },
   {
    "duration": 8,
    "start_time": "2022-02-16T14:58:34.846Z"
   },
   {
    "duration": 2,
    "start_time": "2022-02-16T14:58:34.856Z"
   },
   {
    "duration": 8,
    "start_time": "2022-02-16T14:58:34.861Z"
   },
   {
    "duration": 13,
    "start_time": "2022-02-16T14:58:34.871Z"
   },
   {
    "duration": 13,
    "start_time": "2022-02-16T14:58:34.886Z"
   },
   {
    "duration": 45,
    "start_time": "2022-02-16T14:58:34.901Z"
   },
   {
    "duration": 8,
    "start_time": "2022-02-16T14:58:34.947Z"
   },
   {
    "duration": 26,
    "start_time": "2022-02-16T14:58:34.957Z"
   },
   {
    "duration": 86,
    "start_time": "2022-02-16T14:58:34.984Z"
   },
   {
    "duration": 7,
    "start_time": "2022-02-16T14:58:35.071Z"
   },
   {
    "duration": 367,
    "start_time": "2022-02-16T14:58:35.080Z"
   },
   {
    "duration": -47,
    "start_time": "2022-02-16T14:58:35.497Z"
   },
   {
    "duration": -49,
    "start_time": "2022-02-16T14:58:35.500Z"
   },
   {
    "duration": -50,
    "start_time": "2022-02-16T14:58:35.502Z"
   },
   {
    "duration": -50,
    "start_time": "2022-02-16T14:58:35.503Z"
   },
   {
    "duration": -52,
    "start_time": "2022-02-16T14:58:35.505Z"
   },
   {
    "duration": -78,
    "start_time": "2022-02-16T14:58:35.532Z"
   },
   {
    "duration": -82,
    "start_time": "2022-02-16T14:58:35.536Z"
   },
   {
    "duration": -83,
    "start_time": "2022-02-16T14:58:35.538Z"
   },
   {
    "duration": -85,
    "start_time": "2022-02-16T14:58:35.541Z"
   },
   {
    "duration": -87,
    "start_time": "2022-02-16T14:58:35.543Z"
   },
   {
    "duration": -87,
    "start_time": "2022-02-16T14:58:35.544Z"
   },
   {
    "duration": -89,
    "start_time": "2022-02-16T14:58:35.546Z"
   },
   {
    "duration": -90,
    "start_time": "2022-02-16T14:58:35.548Z"
   },
   {
    "duration": -91,
    "start_time": "2022-02-16T14:58:35.549Z"
   },
   {
    "duration": -92,
    "start_time": "2022-02-16T14:58:35.551Z"
   },
   {
    "duration": -94,
    "start_time": "2022-02-16T14:58:35.553Z"
   },
   {
    "duration": -95,
    "start_time": "2022-02-16T14:58:35.555Z"
   },
   {
    "duration": -95,
    "start_time": "2022-02-16T14:58:35.556Z"
   },
   {
    "duration": -97,
    "start_time": "2022-02-16T14:58:35.558Z"
   },
   {
    "duration": 15,
    "start_time": "2022-02-16T14:59:03.627Z"
   },
   {
    "duration": 7,
    "start_time": "2022-02-16T14:59:05.372Z"
   },
   {
    "duration": 6,
    "start_time": "2022-02-16T14:59:10.532Z"
   },
   {
    "duration": 139,
    "start_time": "2022-02-16T15:18:51.175Z"
   },
   {
    "duration": 3,
    "start_time": "2022-02-16T15:31:02.116Z"
   },
   {
    "duration": 3,
    "start_time": "2022-02-16T15:32:21.375Z"
   },
   {
    "duration": 543,
    "start_time": "2022-02-16T15:34:13.826Z"
   },
   {
    "duration": 4,
    "start_time": "2022-02-16T15:34:26.754Z"
   },
   {
    "duration": 159,
    "start_time": "2022-02-16T15:34:27.122Z"
   },
   {
    "duration": 120,
    "start_time": "2022-02-16T15:36:28.929Z"
   },
   {
    "duration": 3,
    "start_time": "2022-02-16T15:36:32.921Z"
   },
   {
    "duration": 161,
    "start_time": "2022-02-16T15:36:33.601Z"
   },
   {
    "duration": 4,
    "start_time": "2022-02-16T15:37:47.072Z"
   },
   {
    "duration": 153,
    "start_time": "2022-02-16T15:37:48.946Z"
   },
   {
    "duration": 46,
    "start_time": "2022-02-16T15:38:15.034Z"
   },
   {
    "duration": 7,
    "start_time": "2022-02-16T15:38:32.937Z"
   },
   {
    "duration": 36,
    "start_time": "2022-02-16T15:38:33.786Z"
   },
   {
    "duration": 3,
    "start_time": "2022-02-16T15:38:39.888Z"
   },
   {
    "duration": 34,
    "start_time": "2022-02-16T15:38:40.144Z"
   },
   {
    "duration": 5,
    "start_time": "2022-02-16T15:40:12.664Z"
   },
   {
    "duration": 6,
    "start_time": "2022-02-16T15:40:20.329Z"
   },
   {
    "duration": 1261,
    "start_time": "2022-02-16T15:41:09.503Z"
   },
   {
    "duration": 64,
    "start_time": "2022-02-16T15:41:10.766Z"
   },
   {
    "duration": 19,
    "start_time": "2022-02-16T15:41:10.835Z"
   },
   {
    "duration": 11,
    "start_time": "2022-02-16T15:41:10.856Z"
   },
   {
    "duration": 5,
    "start_time": "2022-02-16T15:41:10.869Z"
   },
   {
    "duration": 8,
    "start_time": "2022-02-16T15:41:10.876Z"
   },
   {
    "duration": 3,
    "start_time": "2022-02-16T15:41:10.885Z"
   },
   {
    "duration": 10,
    "start_time": "2022-02-16T15:41:10.890Z"
   },
   {
    "duration": 48,
    "start_time": "2022-02-16T15:41:10.902Z"
   },
   {
    "duration": 14,
    "start_time": "2022-02-16T15:41:10.951Z"
   },
   {
    "duration": 14,
    "start_time": "2022-02-16T15:41:10.966Z"
   },
   {
    "duration": 8,
    "start_time": "2022-02-16T15:41:10.981Z"
   },
   {
    "duration": 50,
    "start_time": "2022-02-16T15:41:10.990Z"
   },
   {
    "duration": 7,
    "start_time": "2022-02-16T15:41:11.042Z"
   },
   {
    "duration": 37,
    "start_time": "2022-02-16T15:41:11.051Z"
   },
   {
    "duration": 3,
    "start_time": "2022-02-16T15:41:11.090Z"
   },
   {
    "duration": 5,
    "start_time": "2022-02-16T15:41:11.095Z"
   },
   {
    "duration": 382,
    "start_time": "2022-02-16T15:41:11.102Z"
   },
   {
    "duration": -61,
    "start_time": "2022-02-16T15:41:11.547Z"
   },
   {
    "duration": -61,
    "start_time": "2022-02-16T15:41:11.548Z"
   },
   {
    "duration": -62,
    "start_time": "2022-02-16T15:41:11.550Z"
   },
   {
    "duration": -63,
    "start_time": "2022-02-16T15:41:11.552Z"
   },
   {
    "duration": -64,
    "start_time": "2022-02-16T15:41:11.554Z"
   },
   {
    "duration": -65,
    "start_time": "2022-02-16T15:41:11.556Z"
   },
   {
    "duration": -66,
    "start_time": "2022-02-16T15:41:11.558Z"
   },
   {
    "duration": -67,
    "start_time": "2022-02-16T15:41:11.560Z"
   },
   {
    "duration": -83,
    "start_time": "2022-02-16T15:41:11.577Z"
   },
   {
    "duration": -86,
    "start_time": "2022-02-16T15:41:11.581Z"
   },
   {
    "duration": -88,
    "start_time": "2022-02-16T15:41:11.584Z"
   },
   {
    "duration": -90,
    "start_time": "2022-02-16T15:41:11.587Z"
   },
   {
    "duration": -91,
    "start_time": "2022-02-16T15:41:11.589Z"
   },
   {
    "duration": -92,
    "start_time": "2022-02-16T15:41:11.591Z"
   },
   {
    "duration": -93,
    "start_time": "2022-02-16T15:41:11.593Z"
   },
   {
    "duration": -95,
    "start_time": "2022-02-16T15:41:11.595Z"
   },
   {
    "duration": -96,
    "start_time": "2022-02-16T15:41:11.597Z"
   },
   {
    "duration": -97,
    "start_time": "2022-02-16T15:41:11.599Z"
   },
   {
    "duration": -98,
    "start_time": "2022-02-16T15:41:11.601Z"
   },
   {
    "duration": 287,
    "start_time": "2022-02-16T15:42:30.625Z"
   },
   {
    "duration": 273,
    "start_time": "2022-02-16T15:42:35.073Z"
   },
   {
    "duration": 6,
    "start_time": "2022-02-16T15:42:46.641Z"
   },
   {
    "duration": 332,
    "start_time": "2022-02-16T15:42:50.824Z"
   },
   {
    "duration": 4,
    "start_time": "2022-02-16T15:44:37.785Z"
   },
   {
    "duration": 53,
    "start_time": "2022-02-16T15:44:38.527Z"
   },
   {
    "duration": 4,
    "start_time": "2022-02-16T15:44:48.304Z"
   },
   {
    "duration": 10,
    "start_time": "2022-02-16T15:44:50.535Z"
   },
   {
    "duration": 5,
    "start_time": "2022-02-16T15:44:53.808Z"
   },
   {
    "duration": 1225,
    "start_time": "2022-02-16T15:45:37.189Z"
   },
   {
    "duration": 68,
    "start_time": "2022-02-16T15:45:38.416Z"
   },
   {
    "duration": 18,
    "start_time": "2022-02-16T15:45:38.487Z"
   },
   {
    "duration": 33,
    "start_time": "2022-02-16T15:45:38.507Z"
   },
   {
    "duration": 19,
    "start_time": "2022-02-16T15:45:38.544Z"
   },
   {
    "duration": 11,
    "start_time": "2022-02-16T15:45:38.566Z"
   },
   {
    "duration": 4,
    "start_time": "2022-02-16T15:45:38.578Z"
   },
   {
    "duration": 8,
    "start_time": "2022-02-16T15:45:38.585Z"
   },
   {
    "duration": 15,
    "start_time": "2022-02-16T15:45:38.595Z"
   },
   {
    "duration": 37,
    "start_time": "2022-02-16T15:45:38.612Z"
   },
   {
    "duration": 20,
    "start_time": "2022-02-16T15:45:38.651Z"
   },
   {
    "duration": 11,
    "start_time": "2022-02-16T15:45:38.673Z"
   },
   {
    "duration": 71,
    "start_time": "2022-02-16T15:45:38.686Z"
   },
   {
    "duration": 4,
    "start_time": "2022-02-16T15:45:38.759Z"
   },
   {
    "duration": 46,
    "start_time": "2022-02-16T15:45:38.766Z"
   },
   {
    "duration": 28,
    "start_time": "2022-02-16T15:45:38.814Z"
   },
   {
    "duration": 7,
    "start_time": "2022-02-16T15:45:38.844Z"
   },
   {
    "duration": 7,
    "start_time": "2022-02-16T15:45:38.853Z"
   },
   {
    "duration": 12,
    "start_time": "2022-02-16T15:45:38.862Z"
   },
   {
    "duration": 17,
    "start_time": "2022-02-16T15:45:38.876Z"
   },
   {
    "duration": 165,
    "start_time": "2022-02-16T15:45:38.895Z"
   },
   {
    "duration": 17,
    "start_time": "2022-02-16T15:45:39.061Z"
   },
   {
    "duration": 15,
    "start_time": "2022-02-16T15:45:39.082Z"
   },
   {
    "duration": 4,
    "start_time": "2022-02-16T15:45:39.099Z"
   },
   {
    "duration": 30,
    "start_time": "2022-02-16T15:45:39.105Z"
   },
   {
    "duration": 21,
    "start_time": "2022-02-16T15:45:39.138Z"
   },
   {
    "duration": 13,
    "start_time": "2022-02-16T15:45:39.161Z"
   },
   {
    "duration": 6,
    "start_time": "2022-02-16T15:45:39.176Z"
   },
   {
    "duration": 7,
    "start_time": "2022-02-16T15:45:39.184Z"
   },
   {
    "duration": 31,
    "start_time": "2022-02-16T15:45:39.193Z"
   },
   {
    "duration": 12,
    "start_time": "2022-02-16T15:45:39.231Z"
   },
   {
    "duration": 20,
    "start_time": "2022-02-16T15:45:39.248Z"
   },
   {
    "duration": 5,
    "start_time": "2022-02-16T15:45:39.271Z"
   },
   {
    "duration": 269,
    "start_time": "2022-02-16T15:45:39.278Z"
   },
   {
    "duration": 270,
    "start_time": "2022-02-16T15:45:39.552Z"
   },
   {
    "duration": 269,
    "start_time": "2022-02-16T15:45:39.824Z"
   },
   {
    "duration": 256,
    "start_time": "2022-02-16T15:45:40.095Z"
   },
   {
    "duration": 4,
    "start_time": "2022-02-16T15:46:38.895Z"
   },
   {
    "duration": 38,
    "start_time": "2022-02-16T15:46:39.598Z"
   },
   {
    "duration": 5,
    "start_time": "2022-02-16T15:46:59.063Z"
   },
   {
    "duration": 43,
    "start_time": "2022-02-16T15:46:59.526Z"
   },
   {
    "duration": 4,
    "start_time": "2022-02-16T15:47:24.406Z"
   },
   {
    "duration": 36,
    "start_time": "2022-02-16T15:47:24.726Z"
   },
   {
    "duration": 19,
    "start_time": "2022-02-16T15:48:21.734Z"
   },
   {
    "duration": 15,
    "start_time": "2022-02-16T15:48:28.206Z"
   },
   {
    "duration": 14,
    "start_time": "2022-02-16T15:48:32.526Z"
   },
   {
    "duration": 334,
    "start_time": "2022-02-16T15:49:02.966Z"
   },
   {
    "duration": 259,
    "start_time": "2022-02-16T15:49:36.461Z"
   },
   {
    "duration": 19,
    "start_time": "2022-02-16T15:49:47.997Z"
   },
   {
    "duration": 16,
    "start_time": "2022-02-16T15:50:14.469Z"
   },
   {
    "duration": 18,
    "start_time": "2022-02-16T15:50:22.885Z"
   },
   {
    "duration": 27,
    "start_time": "2022-02-16T15:50:40.894Z"
   },
   {
    "duration": 20,
    "start_time": "2022-02-16T15:51:48.533Z"
   },
   {
    "duration": 13,
    "start_time": "2022-02-16T15:52:10.061Z"
   },
   {
    "duration": 16,
    "start_time": "2022-02-16T15:52:14.124Z"
   },
   {
    "duration": 17,
    "start_time": "2022-02-16T15:53:28.220Z"
   },
   {
    "duration": 19,
    "start_time": "2022-02-16T15:53:32.469Z"
   },
   {
    "duration": 27,
    "start_time": "2022-02-16T15:53:41.118Z"
   },
   {
    "duration": 306,
    "start_time": "2022-02-16T15:54:19.676Z"
   },
   {
    "duration": 91,
    "start_time": "2022-02-16T15:54:24.501Z"
   },
   {
    "duration": 496,
    "start_time": "2022-02-16T15:54:37.124Z"
   },
   {
    "duration": 6386,
    "start_time": "2022-02-16T15:55:24.516Z"
   },
   {
    "duration": 28,
    "start_time": "2022-02-16T15:55:38.356Z"
   },
   {
    "duration": 19,
    "start_time": "2022-02-16T15:55:46.092Z"
   },
   {
    "duration": 17,
    "start_time": "2022-02-16T15:55:55.676Z"
   },
   {
    "duration": 27,
    "start_time": "2022-02-16T15:56:05.213Z"
   },
   {
    "duration": 32,
    "start_time": "2022-02-16T15:56:19.843Z"
   },
   {
    "duration": 27,
    "start_time": "2022-02-16T15:56:23.252Z"
   },
   {
    "duration": 3,
    "start_time": "2022-02-16T15:56:55.507Z"
   },
   {
    "duration": 28,
    "start_time": "2022-02-16T15:57:52.123Z"
   },
   {
    "duration": 23,
    "start_time": "2022-02-16T15:58:02.155Z"
   },
   {
    "duration": 255,
    "start_time": "2022-02-16T15:58:10.980Z"
   },
   {
    "duration": 17,
    "start_time": "2022-02-16T15:58:20.939Z"
   },
   {
    "duration": 17,
    "start_time": "2022-02-16T15:58:29.826Z"
   },
   {
    "duration": 16,
    "start_time": "2022-02-16T15:58:42.186Z"
   },
   {
    "duration": 15,
    "start_time": "2022-02-16T15:58:47.066Z"
   },
   {
    "duration": 276,
    "start_time": "2022-02-16T15:59:58.019Z"
   },
   {
    "duration": 34,
    "start_time": "2022-02-16T16:01:13.793Z"
   },
   {
    "duration": 27,
    "start_time": "2022-02-16T16:01:27.595Z"
   },
   {
    "duration": 27,
    "start_time": "2022-02-16T16:01:38.010Z"
   },
   {
    "duration": 14,
    "start_time": "2022-02-16T16:01:59.025Z"
   },
   {
    "duration": 29,
    "start_time": "2022-02-16T16:02:00.737Z"
   },
   {
    "duration": 100,
    "start_time": "2022-02-16T16:06:01.969Z"
   },
   {
    "duration": 5,
    "start_time": "2022-02-16T16:15:39.526Z"
   },
   {
    "duration": 82,
    "start_time": "2022-02-16T16:37:43.927Z"
   },
   {
    "duration": 1100,
    "start_time": "2022-02-16T16:52:50.797Z"
   },
   {
    "duration": 66,
    "start_time": "2022-02-16T16:52:51.898Z"
   },
   {
    "duration": 14,
    "start_time": "2022-02-16T16:52:51.966Z"
   },
   {
    "duration": 11,
    "start_time": "2022-02-16T16:52:51.982Z"
   },
   {
    "duration": 7,
    "start_time": "2022-02-16T16:52:51.995Z"
   },
   {
    "duration": 39,
    "start_time": "2022-02-16T16:52:52.004Z"
   },
   {
    "duration": 4,
    "start_time": "2022-02-16T16:52:52.046Z"
   },
   {
    "duration": 11,
    "start_time": "2022-02-16T16:52:52.053Z"
   },
   {
    "duration": 16,
    "start_time": "2022-02-16T16:52:52.067Z"
   },
   {
    "duration": 18,
    "start_time": "2022-02-16T16:52:52.085Z"
   },
   {
    "duration": 20,
    "start_time": "2022-02-16T16:52:52.133Z"
   },
   {
    "duration": 10,
    "start_time": "2022-02-16T16:52:52.155Z"
   },
   {
    "duration": 27,
    "start_time": "2022-02-16T16:52:52.167Z"
   },
   {
    "duration": 5,
    "start_time": "2022-02-16T16:52:52.196Z"
   },
   {
    "duration": 64,
    "start_time": "2022-02-16T16:52:52.202Z"
   },
   {
    "duration": 4,
    "start_time": "2022-02-16T16:52:52.267Z"
   },
   {
    "duration": 5,
    "start_time": "2022-02-16T16:52:52.273Z"
   },
   {
    "duration": 8,
    "start_time": "2022-02-16T16:52:52.280Z"
   },
   {
    "duration": 14,
    "start_time": "2022-02-16T16:52:52.290Z"
   },
   {
    "duration": 30,
    "start_time": "2022-02-16T16:52:52.306Z"
   },
   {
    "duration": 114,
    "start_time": "2022-02-16T16:52:52.339Z"
   },
   {
    "duration": 17,
    "start_time": "2022-02-16T16:52:52.454Z"
   },
   {
    "duration": 24,
    "start_time": "2022-02-16T16:52:52.474Z"
   },
   {
    "duration": 58,
    "start_time": "2022-02-16T16:52:52.500Z"
   },
   {
    "duration": 11,
    "start_time": "2022-02-16T16:52:52.559Z"
   },
   {
    "duration": 10,
    "start_time": "2022-02-16T16:52:52.572Z"
   },
   {
    "duration": 7,
    "start_time": "2022-02-16T16:52:52.583Z"
   },
   {
    "duration": 4,
    "start_time": "2022-02-16T16:52:52.592Z"
   },
   {
    "duration": 41,
    "start_time": "2022-02-16T16:52:52.598Z"
   },
   {
    "duration": 13,
    "start_time": "2022-02-16T16:52:52.642Z"
   },
   {
    "duration": 9,
    "start_time": "2022-02-16T16:52:52.657Z"
   },
   {
    "duration": 6,
    "start_time": "2022-02-16T16:52:52.668Z"
   },
   {
    "duration": 35,
    "start_time": "2022-02-16T16:52:52.676Z"
   },
   {
    "duration": 24,
    "start_time": "2022-02-16T16:52:52.713Z"
   },
   {
    "duration": 12,
    "start_time": "2022-02-16T16:52:52.739Z"
   },
   {
    "duration": 6,
    "start_time": "2022-02-16T16:52:52.753Z"
   },
   {
    "duration": 206,
    "start_time": "2022-02-16T16:52:52.760Z"
   },
   {
    "duration": 190,
    "start_time": "2022-02-16T16:52:52.968Z"
   },
   {
    "duration": 274,
    "start_time": "2022-02-16T16:52:53.161Z"
   },
   {
    "duration": 198,
    "start_time": "2022-02-16T16:52:53.437Z"
   },
   {
    "duration": 40,
    "start_time": "2022-02-16T17:08:15.672Z"
   },
   {
    "duration": 382,
    "start_time": "2022-02-16T17:12:44.174Z"
   },
   {
    "duration": 40,
    "start_time": "2022-02-16T17:12:49.567Z"
   },
   {
    "duration": 288,
    "start_time": "2022-02-16T17:13:35.351Z"
   },
   {
    "duration": 1082,
    "start_time": "2022-02-16T17:20:38.561Z"
   },
   {
    "duration": 59,
    "start_time": "2022-02-16T17:20:39.645Z"
   },
   {
    "duration": 13,
    "start_time": "2022-02-16T17:20:39.706Z"
   },
   {
    "duration": 11,
    "start_time": "2022-02-16T17:20:39.721Z"
   },
   {
    "duration": 6,
    "start_time": "2022-02-16T17:20:39.734Z"
   },
   {
    "duration": 8,
    "start_time": "2022-02-16T17:20:39.741Z"
   },
   {
    "duration": 3,
    "start_time": "2022-02-16T17:20:39.751Z"
   },
   {
    "duration": 9,
    "start_time": "2022-02-16T17:20:39.755Z"
   },
   {
    "duration": 14,
    "start_time": "2022-02-16T17:20:39.766Z"
   },
   {
    "duration": 50,
    "start_time": "2022-02-16T17:20:39.782Z"
   },
   {
    "duration": 16,
    "start_time": "2022-02-16T17:20:39.834Z"
   },
   {
    "duration": 7,
    "start_time": "2022-02-16T17:20:39.852Z"
   },
   {
    "duration": 27,
    "start_time": "2022-02-16T17:20:39.861Z"
   },
   {
    "duration": 4,
    "start_time": "2022-02-16T17:20:39.889Z"
   },
   {
    "duration": 69,
    "start_time": "2022-02-16T17:20:39.895Z"
   },
   {
    "duration": 5,
    "start_time": "2022-02-16T17:20:39.966Z"
   },
   {
    "duration": 7,
    "start_time": "2022-02-16T17:20:39.973Z"
   },
   {
    "duration": 5,
    "start_time": "2022-02-16T17:20:39.981Z"
   },
   {
    "duration": 11,
    "start_time": "2022-02-16T17:20:39.987Z"
   },
   {
    "duration": 44,
    "start_time": "2022-02-16T17:20:40.000Z"
   },
   {
    "duration": 118,
    "start_time": "2022-02-16T17:20:40.045Z"
   },
   {
    "duration": 18,
    "start_time": "2022-02-16T17:20:40.165Z"
   },
   {
    "duration": 48,
    "start_time": "2022-02-16T17:20:40.185Z"
   },
   {
    "duration": 33,
    "start_time": "2022-02-16T17:20:40.234Z"
   },
   {
    "duration": 10,
    "start_time": "2022-02-16T17:20:40.269Z"
   },
   {
    "duration": 10,
    "start_time": "2022-02-16T17:20:40.281Z"
   },
   {
    "duration": 6,
    "start_time": "2022-02-16T17:20:40.294Z"
   },
   {
    "duration": 4,
    "start_time": "2022-02-16T17:20:40.301Z"
   },
   {
    "duration": 9,
    "start_time": "2022-02-16T17:20:40.332Z"
   },
   {
    "duration": 10,
    "start_time": "2022-02-16T17:20:40.342Z"
   },
   {
    "duration": 4,
    "start_time": "2022-02-16T17:20:40.353Z"
   },
   {
    "duration": 4,
    "start_time": "2022-02-16T17:20:40.359Z"
   },
   {
    "duration": 33,
    "start_time": "2022-02-16T17:20:40.365Z"
   },
   {
    "duration": 36,
    "start_time": "2022-02-16T17:20:40.400Z"
   },
   {
    "duration": 9,
    "start_time": "2022-02-16T17:20:40.437Z"
   },
   {
    "duration": 4,
    "start_time": "2022-02-16T17:20:40.448Z"
   },
   {
    "duration": 210,
    "start_time": "2022-02-16T17:20:40.453Z"
   },
   {
    "duration": 196,
    "start_time": "2022-02-16T17:20:40.665Z"
   },
   {
    "duration": 199,
    "start_time": "2022-02-16T17:20:40.863Z"
   },
   {
    "duration": 209,
    "start_time": "2022-02-16T17:20:41.063Z"
   },
   {
    "duration": 1286,
    "start_time": "2022-02-16T20:43:14.147Z"
   },
   {
    "duration": 61,
    "start_time": "2022-02-16T20:43:15.435Z"
   },
   {
    "duration": 14,
    "start_time": "2022-02-16T20:43:15.499Z"
   },
   {
    "duration": 34,
    "start_time": "2022-02-16T20:43:15.515Z"
   },
   {
    "duration": 12,
    "start_time": "2022-02-16T20:43:15.551Z"
   },
   {
    "duration": 15,
    "start_time": "2022-02-16T20:43:15.565Z"
   },
   {
    "duration": 12,
    "start_time": "2022-02-16T20:43:15.582Z"
   },
   {
    "duration": 11,
    "start_time": "2022-02-16T20:43:15.598Z"
   },
   {
    "duration": 25,
    "start_time": "2022-02-16T20:43:15.612Z"
   },
   {
    "duration": 20,
    "start_time": "2022-02-16T20:43:15.639Z"
   },
   {
    "duration": 23,
    "start_time": "2022-02-16T20:43:15.661Z"
   },
   {
    "duration": 10,
    "start_time": "2022-02-16T20:43:15.687Z"
   },
   {
    "duration": 44,
    "start_time": "2022-02-16T20:43:15.699Z"
   },
   {
    "duration": 28,
    "start_time": "2022-02-16T20:43:15.745Z"
   },
   {
    "duration": 71,
    "start_time": "2022-02-16T20:43:15.776Z"
   },
   {
    "duration": 6,
    "start_time": "2022-02-16T20:43:15.849Z"
   },
   {
    "duration": 25,
    "start_time": "2022-02-16T20:43:15.857Z"
   },
   {
    "duration": 26,
    "start_time": "2022-02-16T20:43:15.885Z"
   },
   {
    "duration": 20,
    "start_time": "2022-02-16T20:43:15.914Z"
   },
   {
    "duration": 35,
    "start_time": "2022-02-16T20:43:15.937Z"
   },
   {
    "duration": 140,
    "start_time": "2022-02-16T20:43:15.974Z"
   },
   {
    "duration": 19,
    "start_time": "2022-02-16T20:43:16.116Z"
   },
   {
    "duration": 61,
    "start_time": "2022-02-16T20:43:16.139Z"
   },
   {
    "duration": 36,
    "start_time": "2022-02-16T20:43:16.201Z"
   },
   {
    "duration": 12,
    "start_time": "2022-02-16T20:43:16.239Z"
   },
   {
    "duration": 21,
    "start_time": "2022-02-16T20:43:16.271Z"
   },
   {
    "duration": 7,
    "start_time": "2022-02-16T20:43:16.294Z"
   },
   {
    "duration": 33,
    "start_time": "2022-02-16T20:43:16.303Z"
   },
   {
    "duration": 22,
    "start_time": "2022-02-16T20:43:16.338Z"
   },
   {
    "duration": 27,
    "start_time": "2022-02-16T20:43:16.362Z"
   },
   {
    "duration": 34,
    "start_time": "2022-02-16T20:43:16.393Z"
   },
   {
    "duration": 33,
    "start_time": "2022-02-16T20:43:16.429Z"
   },
   {
    "duration": 52,
    "start_time": "2022-02-16T20:43:16.464Z"
   },
   {
    "duration": 10,
    "start_time": "2022-02-16T20:43:16.517Z"
   },
   {
    "duration": 17,
    "start_time": "2022-02-16T20:43:16.529Z"
   },
   {
    "duration": 15,
    "start_time": "2022-02-16T20:43:16.548Z"
   },
   {
    "duration": 247,
    "start_time": "2022-02-16T20:43:16.565Z"
   },
   {
    "duration": 250,
    "start_time": "2022-02-16T20:43:16.813Z"
   },
   {
    "duration": 259,
    "start_time": "2022-02-16T20:43:17.069Z"
   },
   {
    "duration": 280,
    "start_time": "2022-02-16T20:43:17.329Z"
   },
   {
    "duration": 1358,
    "start_time": "2022-04-11T10:06:06.417Z"
   },
   {
    "duration": 5,
    "start_time": "2022-04-11T10:06:47.001Z"
   },
   {
    "duration": 468,
    "start_time": "2022-04-11T10:08:56.070Z"
   },
   {
    "duration": 112,
    "start_time": "2022-04-11T10:11:24.359Z"
   },
   {
    "duration": 10,
    "start_time": "2022-04-11T10:11:31.662Z"
   },
   {
    "duration": 1633,
    "start_time": "2022-04-11T10:11:38.270Z"
   },
   {
    "duration": 75,
    "start_time": "2022-04-11T10:11:39.905Z"
   },
   {
    "duration": 11,
    "start_time": "2022-04-11T10:11:39.982Z"
   },
   {
    "duration": 22,
    "start_time": "2022-04-11T10:11:39.996Z"
   },
   {
    "duration": 122,
    "start_time": "2022-04-11T10:11:40.020Z"
   },
   {
    "duration": 0,
    "start_time": "2022-04-11T10:11:40.145Z"
   },
   {
    "duration": 0,
    "start_time": "2022-04-11T10:11:40.146Z"
   },
   {
    "duration": 0,
    "start_time": "2022-04-11T10:11:40.146Z"
   },
   {
    "duration": 0,
    "start_time": "2022-04-11T10:11:40.147Z"
   },
   {
    "duration": 0,
    "start_time": "2022-04-11T10:11:40.148Z"
   },
   {
    "duration": 0,
    "start_time": "2022-04-11T10:11:40.149Z"
   },
   {
    "duration": 0,
    "start_time": "2022-04-11T10:11:40.150Z"
   },
   {
    "duration": 0,
    "start_time": "2022-04-11T10:11:40.158Z"
   },
   {
    "duration": 0,
    "start_time": "2022-04-11T10:11:40.159Z"
   },
   {
    "duration": 0,
    "start_time": "2022-04-11T10:11:40.160Z"
   },
   {
    "duration": 0,
    "start_time": "2022-04-11T10:11:40.160Z"
   },
   {
    "duration": 0,
    "start_time": "2022-04-11T10:11:40.161Z"
   },
   {
    "duration": 0,
    "start_time": "2022-04-11T10:11:40.162Z"
   },
   {
    "duration": 0,
    "start_time": "2022-04-11T10:11:40.163Z"
   },
   {
    "duration": 0,
    "start_time": "2022-04-11T10:11:40.164Z"
   },
   {
    "duration": 8,
    "start_time": "2022-04-11T10:11:47.159Z"
   },
   {
    "duration": 2,
    "start_time": "2022-04-11T10:12:01.232Z"
   },
   {
    "duration": 1555,
    "start_time": "2022-04-11T10:12:06.572Z"
   },
   {
    "duration": 76,
    "start_time": "2022-04-11T10:12:08.130Z"
   },
   {
    "duration": 14,
    "start_time": "2022-04-11T10:12:08.208Z"
   },
   {
    "duration": 12,
    "start_time": "2022-04-11T10:12:08.224Z"
   },
   {
    "duration": 5,
    "start_time": "2022-04-11T10:12:08.238Z"
   },
   {
    "duration": 8,
    "start_time": "2022-04-11T10:12:08.244Z"
   },
   {
    "duration": 7,
    "start_time": "2022-04-11T10:12:08.254Z"
   },
   {
    "duration": 7,
    "start_time": "2022-04-11T10:12:08.263Z"
   },
   {
    "duration": 6,
    "start_time": "2022-04-11T10:12:08.271Z"
   },
   {
    "duration": 8,
    "start_time": "2022-04-11T10:12:08.280Z"
   },
   {
    "duration": 94,
    "start_time": "2022-04-11T10:12:08.290Z"
   },
   {
    "duration": 36191,
    "start_time": "2022-04-11T10:12:08.385Z"
   },
   {
    "duration": 258,
    "start_time": "2022-04-11T10:12:44.577Z"
   },
   {
    "duration": 4,
    "start_time": "2022-04-11T10:12:44.836Z"
   },
   {
    "duration": 21,
    "start_time": "2022-04-11T10:12:44.841Z"
   },
   {
    "duration": 4,
    "start_time": "2022-04-11T10:12:44.864Z"
   },
   {
    "duration": 37,
    "start_time": "2022-04-11T10:12:44.869Z"
   },
   {
    "duration": 8,
    "start_time": "2022-04-11T10:12:44.908Z"
   },
   {
    "duration": 8,
    "start_time": "2022-04-11T10:12:44.917Z"
   },
   {
    "duration": 33,
    "start_time": "2022-04-11T10:12:44.926Z"
   },
   {
    "duration": 1802,
    "start_time": "2022-04-11T10:13:34.642Z"
   },
   {
    "duration": 932,
    "start_time": "2022-04-11T10:13:51.123Z"
   },
   {
    "duration": 1023,
    "start_time": "2022-04-11T10:14:04.946Z"
   },
   {
    "duration": 981,
    "start_time": "2022-04-11T10:15:31.611Z"
   },
   {
    "duration": 16,
    "start_time": "2022-04-11T10:17:01.826Z"
   },
   {
    "duration": 14,
    "start_time": "2022-04-11T10:17:13.097Z"
   },
   {
    "duration": 3,
    "start_time": "2022-04-11T10:17:27.584Z"
   },
   {
    "duration": 10,
    "start_time": "2022-04-11T10:17:34.986Z"
   },
   {
    "duration": 4,
    "start_time": "2022-04-11T10:17:49.338Z"
   },
   {
    "duration": 13,
    "start_time": "2022-04-11T10:17:56.715Z"
   },
   {
    "duration": 17,
    "start_time": "2022-04-11T10:20:03.538Z"
   },
   {
    "duration": 3236,
    "start_time": "2022-04-11T10:20:26.202Z"
   },
   {
    "duration": 3,
    "start_time": "2022-04-11T10:20:54.435Z"
   },
   {
    "duration": 3145,
    "start_time": "2022-04-11T10:21:11.561Z"
   },
   {
    "duration": 17,
    "start_time": "2022-04-11T10:21:32.904Z"
   },
   {
    "duration": 12,
    "start_time": "2022-04-11T10:21:51.209Z"
   },
   {
    "duration": 3353,
    "start_time": "2022-04-11T10:22:11.232Z"
   },
   {
    "duration": 150,
    "start_time": "2022-04-11T10:24:08.633Z"
   },
   {
    "duration": 10,
    "start_time": "2022-04-11T10:27:05.832Z"
   },
   {
    "duration": 4,
    "start_time": "2022-04-11T10:27:08.711Z"
   },
   {
    "duration": 13,
    "start_time": "2022-04-11T10:27:08.983Z"
   },
   {
    "duration": 4,
    "start_time": "2022-04-11T10:28:35.944Z"
   },
   {
    "duration": 4,
    "start_time": "2022-04-11T10:28:41.287Z"
   },
   {
    "duration": 4,
    "start_time": "2022-04-11T10:28:57.632Z"
   },
   {
    "duration": 4,
    "start_time": "2022-04-11T10:30:20.248Z"
   },
   {
    "duration": 8,
    "start_time": "2022-04-11T10:30:25.256Z"
   },
   {
    "duration": 290,
    "start_time": "2022-04-11T10:30:48.141Z"
   },
   {
    "duration": 3,
    "start_time": "2022-04-11T10:32:05.735Z"
   },
   {
    "duration": 20,
    "start_time": "2022-04-11T10:32:06.609Z"
   },
   {
    "duration": 542,
    "start_time": "2022-04-11T10:32:32.031Z"
   },
   {
    "duration": 668,
    "start_time": "2022-04-11T10:33:30.366Z"
   },
   {
    "duration": 21,
    "start_time": "2022-04-11T10:35:22.119Z"
   },
   {
    "duration": 4,
    "start_time": "2022-04-11T10:36:01.590Z"
   },
   {
    "duration": 18,
    "start_time": "2022-04-11T10:36:29.670Z"
   },
   {
    "duration": 5,
    "start_time": "2022-04-11T10:36:50.511Z"
   },
   {
    "duration": 428,
    "start_time": "2022-04-11T10:37:22.526Z"
   },
   {
    "duration": 4659,
    "start_time": "2022-04-11T10:39:39.694Z"
   },
   {
    "duration": 10,
    "start_time": "2022-04-11T10:44:42.203Z"
   },
   {
    "duration": 10,
    "start_time": "2022-04-11T10:45:20.940Z"
   },
   {
    "duration": 2543,
    "start_time": "2022-05-02T16:41:57.889Z"
   },
   {
    "duration": 99,
    "start_time": "2022-05-02T16:42:00.435Z"
   },
   {
    "duration": 26,
    "start_time": "2022-05-02T16:42:00.537Z"
   },
   {
    "duration": 26,
    "start_time": "2022-05-02T16:42:00.566Z"
   },
   {
    "duration": 8,
    "start_time": "2022-05-02T16:42:00.594Z"
   },
   {
    "duration": 42,
    "start_time": "2022-05-02T16:42:00.605Z"
   },
   {
    "duration": 33,
    "start_time": "2022-05-02T16:42:00.649Z"
   },
   {
    "duration": 17,
    "start_time": "2022-05-02T16:42:00.684Z"
   },
   {
    "duration": 23,
    "start_time": "2022-05-02T16:42:00.705Z"
   },
   {
    "duration": 23,
    "start_time": "2022-05-02T16:42:00.733Z"
   },
   {
    "duration": 2688,
    "start_time": "2022-05-02T16:42:00.758Z"
   },
   {
    "duration": 106424,
    "start_time": "2022-05-02T16:42:03.449Z"
   },
   {
    "duration": 41,
    "start_time": "2022-05-02T16:43:49.881Z"
   },
   {
    "duration": 60,
    "start_time": "2022-05-02T16:43:49.924Z"
   },
   {
    "duration": 15,
    "start_time": "2022-05-02T16:43:49.988Z"
   },
   {
    "duration": 14,
    "start_time": "2022-05-02T16:43:50.006Z"
   },
   {
    "duration": 14,
    "start_time": "2022-05-02T16:43:50.022Z"
   },
   {
    "duration": 17,
    "start_time": "2022-05-02T16:43:50.039Z"
   },
   {
    "duration": 27,
    "start_time": "2022-05-02T16:43:50.059Z"
   },
   {
    "duration": 20,
    "start_time": "2022-05-02T16:43:50.090Z"
   },
   {
    "duration": 13,
    "start_time": "2022-05-02T16:43:50.113Z"
   },
   {
    "duration": 7,
    "start_time": "2022-05-02T16:43:50.128Z"
   },
   {
    "duration": 58,
    "start_time": "2022-05-02T16:43:50.138Z"
   },
   {
    "duration": 368,
    "start_time": "2022-05-02T16:43:50.199Z"
   },
   {
    "duration": 31805,
    "start_time": "2022-05-02T16:43:50.570Z"
   },
   {
    "duration": 28113,
    "start_time": "2022-05-02T16:44:22.377Z"
   },
   {
    "duration": 90,
    "start_time": "2022-05-02T16:44:50.496Z"
   },
   {
    "duration": 26,
    "start_time": "2022-05-02T16:44:50.594Z"
   },
   {
    "duration": 486,
    "start_time": "2022-05-02T16:44:50.623Z"
   },
   {
    "duration": 26422,
    "start_time": "2022-05-02T16:44:51.112Z"
   },
   {
    "duration": 19753,
    "start_time": "2022-05-02T16:45:17.536Z"
   },
   {
    "duration": 8,
    "start_time": "2022-05-02T16:45:37.381Z"
   },
   {
    "duration": 6,
    "start_time": "2022-05-02T16:45:37.393Z"
   },
   {
    "duration": 84,
    "start_time": "2022-05-02T16:45:37.401Z"
   },
   {
    "duration": 9,
    "start_time": "2022-05-02T16:45:37.488Z"
   },
   {
    "duration": 751,
    "start_time": "2022-05-02T16:45:37.500Z"
   },
   {
    "duration": 18595,
    "start_time": "2022-05-02T16:45:38.254Z"
   },
   {
    "duration": 28932,
    "start_time": "2022-05-02T16:45:56.852Z"
   },
   {
    "duration": 96,
    "start_time": "2022-05-02T16:46:25.788Z"
   },
   {
    "duration": 10,
    "start_time": "2022-05-02T16:46:25.886Z"
   },
   {
    "duration": 21,
    "start_time": "2022-05-02T16:46:25.898Z"
   },
   {
    "duration": 6,
    "start_time": "2022-05-02T16:46:25.921Z"
   },
   {
    "duration": 275,
    "start_time": "2022-05-02T16:46:25.929Z"
   },
   {
    "duration": 7829,
    "start_time": "2022-05-02T16:46:26.207Z"
   },
   {
    "duration": 22143,
    "start_time": "2022-05-02T16:46:34.040Z"
   },
   {
    "duration": 10461,
    "start_time": "2022-05-02T16:46:56.187Z"
   },
   {
    "duration": 30222,
    "start_time": "2022-05-02T16:47:06.650Z"
   },
   {
    "duration": 38845,
    "start_time": "2022-05-02T16:47:36.881Z"
   },
   {
    "duration": 7,
    "start_time": "2022-05-02T16:48:15.783Z"
   },
   {
    "duration": 104,
    "start_time": "2022-05-02T16:48:15.793Z"
   },
   {
    "duration": 23,
    "start_time": "2022-05-02T16:48:15.900Z"
   },
   {
    "duration": 8,
    "start_time": "2022-05-02T16:48:15.926Z"
   },
   {
    "duration": 1061,
    "start_time": "2022-05-02T16:48:15.937Z"
   },
   {
    "duration": 30,
    "start_time": "2022-05-02T16:48:17.000Z"
   },
   {
    "duration": 17,
    "start_time": "2022-05-02T16:48:17.033Z"
   },
   {
    "duration": 33,
    "start_time": "2022-05-02T16:48:17.053Z"
   },
   {
    "duration": 28,
    "start_time": "2022-05-02T16:48:17.089Z"
   },
   {
    "duration": 27,
    "start_time": "2022-05-02T16:49:54.111Z"
   },
   {
    "duration": 28,
    "start_time": "2022-05-02T16:50:47.297Z"
   },
   {
    "duration": 29,
    "start_time": "2022-05-02T16:51:56.441Z"
   },
   {
    "duration": 11,
    "start_time": "2022-05-02T16:52:57.029Z"
   },
   {
    "duration": 131,
    "start_time": "2022-05-02T16:53:00.194Z"
   },
   {
    "duration": 28,
    "start_time": "2022-05-02T16:53:01.925Z"
   },
   {
    "duration": 168,
    "start_time": "2022-05-02T16:53:43.465Z"
   },
   {
    "duration": 13,
    "start_time": "2022-05-02T16:53:48.138Z"
   },
   {
    "duration": 25,
    "start_time": "2022-05-02T16:53:55.170Z"
   },
   {
    "duration": 9,
    "start_time": "2022-05-02T16:54:17.815Z"
   },
   {
    "duration": 27,
    "start_time": "2022-05-02T16:54:26.061Z"
   },
   {
    "duration": 1800,
    "start_time": "2022-05-02T17:34:54.190Z"
   },
   {
    "duration": 73,
    "start_time": "2022-05-02T17:34:58.244Z"
   },
   {
    "duration": 18,
    "start_time": "2022-05-02T17:34:59.921Z"
   },
   {
    "duration": 93,
    "start_time": "2022-05-02T17:35:29.820Z"
   },
   {
    "duration": 4,
    "start_time": "2022-05-02T17:36:26.597Z"
   },
   {
    "duration": 11,
    "start_time": "2022-05-02T17:36:26.699Z"
   },
   {
    "duration": 85,
    "start_time": "2022-05-02T17:36:34.811Z"
   },
   {
    "duration": 14,
    "start_time": "2022-05-02T17:36:35.620Z"
   },
   {
    "duration": 15,
    "start_time": "2022-05-02T17:36:37.147Z"
   },
   {
    "duration": 5,
    "start_time": "2022-05-02T17:36:44.635Z"
   },
   {
    "duration": 109,
    "start_time": "2022-05-02T17:36:54.540Z"
   },
   {
    "duration": 23,
    "start_time": "2022-05-02T17:37:11.484Z"
   },
   {
    "duration": 14,
    "start_time": "2022-05-02T17:37:43.164Z"
   },
   {
    "duration": 4,
    "start_time": "2022-05-02T17:38:19.861Z"
   },
   {
    "duration": 150,
    "start_time": "2022-05-02T17:38:24.419Z"
   },
   {
    "duration": 13,
    "start_time": "2022-05-02T17:38:25.681Z"
   },
   {
    "duration": 17,
    "start_time": "2022-05-02T17:38:27.956Z"
   },
   {
    "duration": 4,
    "start_time": "2022-05-02T17:38:31.220Z"
   },
   {
    "duration": 5,
    "start_time": "2022-05-02T17:38:43.125Z"
   },
   {
    "duration": 4,
    "start_time": "2022-05-02T17:39:37.852Z"
   },
   {
    "duration": 10,
    "start_time": "2022-05-02T17:39:40.709Z"
   },
   {
    "duration": 6,
    "start_time": "2022-05-02T19:18:34.417Z"
   },
   {
    "duration": 6,
    "start_time": "2022-05-02T19:18:54.386Z"
   },
   {
    "duration": 20,
    "start_time": "2022-05-02T19:18:59.287Z"
   },
   {
    "duration": 5,
    "start_time": "2022-05-02T19:19:23.265Z"
   },
   {
    "duration": 88,
    "start_time": "2022-05-02T19:20:41.402Z"
   },
   {
    "duration": 94,
    "start_time": "2022-05-02T19:20:56.951Z"
   },
   {
    "duration": 101,
    "start_time": "2022-05-02T19:21:22.529Z"
   },
   {
    "duration": 88,
    "start_time": "2022-05-02T19:21:28.264Z"
   },
   {
    "duration": 143,
    "start_time": "2022-05-02T19:22:02.092Z"
   },
   {
    "duration": 4,
    "start_time": "2022-05-02T19:22:20.607Z"
   },
   {
    "duration": 83,
    "start_time": "2022-05-02T19:22:34.103Z"
   },
   {
    "duration": 153,
    "start_time": "2022-05-02T19:22:37.175Z"
   },
   {
    "duration": 83,
    "start_time": "2022-05-02T19:22:46.551Z"
   },
   {
    "duration": 80,
    "start_time": "2022-05-02T19:22:50.527Z"
   },
   {
    "duration": 92,
    "start_time": "2022-05-02T19:22:53.342Z"
   },
   {
    "duration": 98,
    "start_time": "2022-05-02T19:22:58.350Z"
   },
   {
    "duration": 83,
    "start_time": "2022-05-02T19:23:47.622Z"
   },
   {
    "duration": 91,
    "start_time": "2022-05-02T19:24:08.407Z"
   },
   {
    "duration": 78,
    "start_time": "2022-05-02T19:24:13.462Z"
   },
   {
    "duration": 85,
    "start_time": "2022-05-02T19:25:08.174Z"
   },
   {
    "duration": 89,
    "start_time": "2022-05-02T19:25:32.814Z"
   },
   {
    "duration": 4,
    "start_time": "2022-05-02T19:25:50.133Z"
   },
   {
    "duration": 5,
    "start_time": "2022-05-02T19:25:52.615Z"
   },
   {
    "duration": 80,
    "start_time": "2022-05-02T19:25:57.949Z"
   },
   {
    "duration": 93,
    "start_time": "2022-05-02T19:26:07.421Z"
   },
   {
    "duration": 84,
    "start_time": "2022-05-02T19:26:57.550Z"
   },
   {
    "duration": 5,
    "start_time": "2022-05-02T19:27:14.207Z"
   },
   {
    "duration": 4,
    "start_time": "2022-05-02T19:27:35.374Z"
   },
   {
    "duration": 4,
    "start_time": "2022-05-02T19:28:38.596Z"
   },
   {
    "duration": 13,
    "start_time": "2022-05-02T19:32:24.123Z"
   },
   {
    "duration": 5,
    "start_time": "2022-05-02T19:32:38.459Z"
   },
   {
    "duration": 65,
    "start_time": "2022-05-02T19:32:40.773Z"
   },
   {
    "duration": 13,
    "start_time": "2022-05-02T19:32:41.497Z"
   },
   {
    "duration": 13,
    "start_time": "2022-05-02T19:32:42.796Z"
   },
   {
    "duration": 3,
    "start_time": "2022-05-02T19:32:43.722Z"
   },
   {
    "duration": 8,
    "start_time": "2022-05-02T19:32:43.939Z"
   },
   {
    "duration": 9,
    "start_time": "2022-05-02T19:32:45.699Z"
   },
   {
    "duration": 10,
    "start_time": "2022-05-02T19:32:46.434Z"
   },
   {
    "duration": 9,
    "start_time": "2022-05-02T19:32:47.698Z"
   },
   {
    "duration": 14,
    "start_time": "2022-05-02T19:32:48.186Z"
   },
   {
    "duration": 1303,
    "start_time": "2022-05-02T19:32:49.251Z"
   },
   {
    "duration": 51327,
    "start_time": "2022-05-02T19:32:53.219Z"
   },
   {
    "duration": 25,
    "start_time": "2022-05-02T19:33:44.549Z"
   },
   {
    "duration": 5,
    "start_time": "2022-05-02T19:33:44.576Z"
   },
   {
    "duration": 10,
    "start_time": "2022-05-02T19:33:44.583Z"
   },
   {
    "duration": 6,
    "start_time": "2022-05-02T19:33:44.595Z"
   },
   {
    "duration": 13,
    "start_time": "2022-05-02T19:33:44.603Z"
   },
   {
    "duration": 12,
    "start_time": "2022-05-02T19:33:44.617Z"
   },
   {
    "duration": 5,
    "start_time": "2022-05-02T19:33:51.490Z"
   },
   {
    "duration": 6,
    "start_time": "2022-05-02T19:33:52.627Z"
   },
   {
    "duration": 6,
    "start_time": "2022-05-02T19:33:53.210Z"
   },
   {
    "duration": 2,
    "start_time": "2022-05-02T19:33:55.483Z"
   },
   {
    "duration": 5,
    "start_time": "2022-05-02T19:33:56.342Z"
   },
   {
    "duration": 3,
    "start_time": "2022-05-02T19:33:57.346Z"
   },
   {
    "duration": 23,
    "start_time": "2022-05-02T19:33:59.531Z"
   },
   {
    "duration": 174,
    "start_time": "2022-05-02T19:34:11.125Z"
   },
   {
    "duration": 15937,
    "start_time": "2022-05-02T19:34:13.843Z"
   },
   {
    "duration": 24697,
    "start_time": "2022-05-02T19:34:29.782Z"
   },
   {
    "duration": 92,
    "start_time": "2022-05-02T19:34:54.484Z"
   },
   {
    "duration": 19,
    "start_time": "2022-05-02T19:34:54.578Z"
   },
   {
    "duration": 35,
    "start_time": "2022-05-02T19:34:58.873Z"
   },
   {
    "duration": 9,
    "start_time": "2022-05-02T19:35:30.620Z"
   },
   {
    "duration": 10,
    "start_time": "2022-05-02T19:35:42.219Z"
   },
   {
    "duration": 7,
    "start_time": "2022-05-02T19:35:58.099Z"
   },
   {
    "duration": 121,
    "start_time": "2022-05-02T19:41:51.014Z"
   },
   {
    "duration": 24,
    "start_time": "2022-05-02T19:42:11.482Z"
   },
   {
    "duration": 6,
    "start_time": "2022-05-02T19:42:18.497Z"
   },
   {
    "duration": 5,
    "start_time": "2022-05-02T19:42:30.193Z"
   },
   {
    "duration": 277,
    "start_time": "2022-05-02T19:45:50.480Z"
   },
   {
    "duration": 100,
    "start_time": "2022-05-02T19:46:29.617Z"
   },
   {
    "duration": 156,
    "start_time": "2022-05-02T19:47:00.119Z"
   },
   {
    "duration": 359,
    "start_time": "2022-05-02T19:48:47.278Z"
   },
   {
    "duration": 467,
    "start_time": "2022-05-02T19:49:04.878Z"
   },
   {
    "duration": 515,
    "start_time": "2022-05-02T19:49:34.487Z"
   },
   {
    "duration": 82,
    "start_time": "2022-05-02T19:56:38.515Z"
   },
   {
    "duration": 71,
    "start_time": "2022-05-02T19:56:48.570Z"
   },
   {
    "duration": 295,
    "start_time": "2022-05-02T19:56:57.874Z"
   },
   {
    "duration": 267,
    "start_time": "2022-05-02T19:57:08.642Z"
   },
   {
    "duration": 33,
    "start_time": "2022-05-02T20:00:29.923Z"
   },
   {
    "duration": 32,
    "start_time": "2022-05-02T20:00:43.809Z"
   },
   {
    "duration": 23,
    "start_time": "2022-05-02T20:00:48.137Z"
   },
   {
    "duration": 435,
    "start_time": "2022-05-02T20:01:11.194Z"
   },
   {
    "duration": 696,
    "start_time": "2022-05-02T20:01:16.832Z"
   },
   {
    "duration": 463,
    "start_time": "2022-05-02T20:01:20.866Z"
   },
   {
    "duration": 479,
    "start_time": "2022-05-02T20:01:52.409Z"
   },
   {
    "duration": 539,
    "start_time": "2022-05-02T20:02:01.902Z"
   },
   {
    "duration": 478,
    "start_time": "2022-05-02T20:02:03.801Z"
   },
   {
    "duration": 493,
    "start_time": "2022-05-02T20:02:17.441Z"
   },
   {
    "duration": 543,
    "start_time": "2022-05-02T20:02:24.513Z"
   },
   {
    "duration": 517,
    "start_time": "2022-05-02T20:02:33.032Z"
   },
   {
    "duration": 524,
    "start_time": "2022-05-02T20:02:47.321Z"
   },
   {
    "duration": 489,
    "start_time": "2022-05-02T20:02:53.248Z"
   },
   {
    "duration": 484,
    "start_time": "2022-05-02T20:02:56.144Z"
   },
   {
    "duration": 497,
    "start_time": "2022-05-02T20:03:00.625Z"
   },
   {
    "duration": 462,
    "start_time": "2022-05-02T20:03:13.768Z"
   },
   {
    "duration": 475,
    "start_time": "2022-05-02T20:03:19.161Z"
   },
   {
    "duration": 19,
    "start_time": "2022-05-02T20:03:40.745Z"
   },
   {
    "duration": 444,
    "start_time": "2022-05-02T20:03:45.704Z"
   },
   {
    "duration": 821,
    "start_time": "2022-05-02T20:04:32.113Z"
   },
   {
    "duration": 23,
    "start_time": "2022-05-02T20:09:28.886Z"
   },
   {
    "duration": 8,
    "start_time": "2022-05-02T20:09:52.566Z"
   },
   {
    "duration": 15,
    "start_time": "2022-05-02T20:10:03.174Z"
   },
   {
    "duration": 4,
    "start_time": "2022-05-02T20:19:26.834Z"
   },
   {
    "duration": 11,
    "start_time": "2022-05-02T20:19:27.866Z"
   },
   {
    "duration": 5,
    "start_time": "2022-05-02T20:19:52.699Z"
   },
   {
    "duration": 6,
    "start_time": "2022-05-02T20:19:57.532Z"
   },
   {
    "duration": 29,
    "start_time": "2022-05-02T20:20:01.921Z"
   },
   {
    "duration": 6,
    "start_time": "2022-05-02T20:20:13.505Z"
   },
   {
    "duration": 7,
    "start_time": "2022-05-02T20:20:13.915Z"
   },
   {
    "duration": 23,
    "start_time": "2022-05-02T20:20:14.443Z"
   },
   {
    "duration": 13,
    "start_time": "2022-05-02T20:20:27.896Z"
   },
   {
    "duration": 12,
    "start_time": "2022-05-02T20:20:45.395Z"
   },
   {
    "duration": 31,
    "start_time": "2022-05-02T20:20:45.963Z"
   },
   {
    "duration": 7,
    "start_time": "2022-05-02T20:21:00.937Z"
   },
   {
    "duration": 18,
    "start_time": "2022-05-02T20:21:02.707Z"
   },
   {
    "duration": 8,
    "start_time": "2022-05-02T20:21:24.495Z"
   },
   {
    "duration": 15,
    "start_time": "2022-05-02T20:21:27.514Z"
   },
   {
    "duration": 7,
    "start_time": "2022-05-02T20:21:39.904Z"
   },
   {
    "duration": 10,
    "start_time": "2022-05-02T20:21:41.161Z"
   },
   {
    "duration": 6,
    "start_time": "2022-05-02T20:21:49.265Z"
   },
   {
    "duration": 20,
    "start_time": "2022-05-02T20:21:56.866Z"
   },
   {
    "duration": 5,
    "start_time": "2022-05-02T20:21:58.536Z"
   },
   {
    "duration": 98,
    "start_time": "2022-05-02T20:22:59.897Z"
   },
   {
    "duration": 6,
    "start_time": "2022-05-02T20:23:26.546Z"
   },
   {
    "duration": 13,
    "start_time": "2022-05-02T20:24:00.232Z"
   },
   {
    "duration": 13,
    "start_time": "2022-05-02T20:25:21.256Z"
   },
   {
    "duration": 6,
    "start_time": "2022-05-02T20:25:52.621Z"
   },
   {
    "duration": 14,
    "start_time": "2022-05-02T20:25:54.127Z"
   },
   {
    "duration": 10,
    "start_time": "2022-05-02T20:25:58.544Z"
   },
   {
    "duration": 6,
    "start_time": "2022-05-02T20:25:59.823Z"
   },
   {
    "duration": 7,
    "start_time": "2022-05-02T20:26:45.243Z"
   },
   {
    "duration": 342,
    "start_time": "2022-05-02T20:26:49.425Z"
   },
   {
    "duration": 11750,
    "start_time": "2022-05-02T20:26:57.118Z"
   },
   {
    "duration": 45843,
    "start_time": "2022-05-02T20:27:08.871Z"
   },
   {
    "duration": 5,
    "start_time": "2022-05-02T20:28:05.816Z"
   },
   {
    "duration": 4,
    "start_time": "2022-05-02T20:28:13.960Z"
   },
   {
    "duration": 11,
    "start_time": "2022-05-02T20:28:24.966Z"
   },
   {
    "duration": 8,
    "start_time": "2022-05-02T20:28:29.901Z"
   },
   {
    "duration": 6,
    "start_time": "2022-05-02T20:28:30.307Z"
   },
   {
    "duration": 11,
    "start_time": "2022-05-02T20:28:31.071Z"
   },
   {
    "duration": 12,
    "start_time": "2022-05-02T20:28:32.222Z"
   },
   {
    "duration": 9,
    "start_time": "2022-05-02T20:28:34.290Z"
   },
   {
    "duration": 10,
    "start_time": "2022-05-02T20:30:17.358Z"
   },
   {
    "duration": 5,
    "start_time": "2022-05-02T20:30:18.230Z"
   },
   {
    "duration": 175,
    "start_time": "2022-05-02T20:30:18.870Z"
   },
   {
    "duration": 4613,
    "start_time": "2022-05-02T20:30:20.023Z"
   },
   {
    "duration": 36819,
    "start_time": "2022-05-02T20:30:25.063Z"
   },
   {
    "duration": 7161,
    "start_time": "2022-05-02T20:31:01.885Z"
   },
   {
    "duration": 20077,
    "start_time": "2022-05-02T20:31:09.048Z"
   },
   {
    "duration": 26767,
    "start_time": "2022-05-02T20:31:29.127Z"
   },
   {
    "duration": 9,
    "start_time": "2022-05-02T20:31:55.897Z"
   },
   {
    "duration": 175,
    "start_time": "2022-05-02T20:31:55.909Z"
   },
   {
    "duration": 0,
    "start_time": "2022-05-02T20:31:56.087Z"
   },
   {
    "duration": 201,
    "start_time": "2022-05-02T20:32:07.100Z"
   },
   {
    "duration": 17173,
    "start_time": "2022-05-02T20:32:08.637Z"
   },
   {
    "duration": 12274,
    "start_time": "2022-05-02T20:32:25.812Z"
   },
   {
    "duration": 18,
    "start_time": "2022-05-02T20:33:35.679Z"
   },
   {
    "duration": 7,
    "start_time": "2022-05-02T20:33:41.053Z"
   },
   {
    "duration": 20,
    "start_time": "2022-05-02T20:33:42.086Z"
   },
   {
    "duration": 4,
    "start_time": "2022-05-02T20:41:00.599Z"
   },
   {
    "duration": 470,
    "start_time": "2022-05-02T20:41:11.713Z"
   },
   {
    "duration": 15,
    "start_time": "2022-05-02T20:41:18.928Z"
   },
   {
    "duration": 5,
    "start_time": "2022-05-02T20:43:34.100Z"
   },
   {
    "duration": 14,
    "start_time": "2022-05-02T20:43:41.971Z"
   },
   {
    "duration": 18,
    "start_time": "2022-05-02T20:44:52.264Z"
   }
  ],
  "kernelspec": {
   "display_name": "Python 3 (ipykernel)",
   "language": "python",
   "name": "python3"
  },
  "language_info": {
   "codemirror_mode": {
    "name": "ipython",
    "version": 3
   },
   "file_extension": ".py",
   "mimetype": "text/x-python",
   "name": "python",
   "nbconvert_exporter": "python",
   "pygments_lexer": "ipython3",
   "version": "3.9.13"
  },
  "toc": {
   "base_numbering": 1,
   "nav_menu": {},
   "number_sections": false,
   "sideBar": true,
   "skip_h1_title": false,
   "title_cell": "Table of Contents",
   "title_sidebar": "Contents",
   "toc_cell": false,
   "toc_position": {
    "height": "calc(100% - 180px)",
    "left": "10px",
    "top": "150px",
    "width": "358.188px"
   },
   "toc_section_display": true,
   "toc_window_display": true
  },
  "toc-autonumbering": false,
  "toc-showmarkdowntxt": false
 },
 "nbformat": 4,
 "nbformat_minor": 4
}
