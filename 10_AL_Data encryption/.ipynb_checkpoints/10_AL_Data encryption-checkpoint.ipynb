{
 "cells": [
  {
   "cell_type": "code",
   "execution_count": 41,
   "metadata": {},
   "outputs": [],
   "source": [
    "import pandas as pd\n",
    "\n",
    "import warnings\n",
    "warnings.filterwarnings('ignore')\n",
    "\n",
    "import numpy as np\n",
    "\n",
    "import os\n",
    "\n",
    "from sklearn.model_selection import train_test_split\n",
    "\n",
    "from sklearn.metrics import r2_score\n",
    "\n",
    "from sklearn.linear_model import LinearRegression"
   ]
  },
  {
   "cell_type": "markdown",
   "metadata": {},
   "source": [
    "## <font size=\"4\"><b>Оглавление </b></p></font> \n",
    "<a id='contents'></a>\n",
    "\n",
    "1. [Постановка задания](#intro)\n",
    "2. [Обзор данных](#data_review)\n",
    "- [Выводы](#data_review_summary)\n",
    "3. [Преобразование данных](#data_modify)\n",
    "- [Подготовка выборок](#data_modify_prepare)\n",
    "- [Преобразование признаков](#data_modify_X)\n",
    "- [Математическое обоснование](#data_modify_math_proof)\n",
    "- [Выводы](#data_modify_summary)\n",
    "4. [Построение моделей](#models)\n",
    "5. [Итоги исследования](#summary)"
   ]
  },
  {
   "cell_type": "markdown",
   "metadata": {},
   "source": [
    "<a id='intro'></a>"
   ]
  },
  {
   "cell_type": "markdown",
   "metadata": {},
   "source": [
    "# **Защита персональных данных клиентов**"
   ]
  },
  {
   "cell_type": "markdown",
   "metadata": {},
   "source": [
    "**Заказчик** —  страховая компания «Хоть потоп»\n",
    "\n",
    "**Цель проекта** - проверить следующие гипотезы:\n",
    "1. Разработать метод преобразования/шифрования данных персональной информации.\n",
    "\n",
    "**Поставленные задачи**\n",
    "1. Загрузить и изучите данные. \n",
    "2. Выполнить преобразование данных таким образом, чтобы качество модели машинного обучения на основе алгоритма «Линейная регрессия» не ухудшилось.\n",
    "\n",
    "**Дальнейшее использование**\n",
    "\n",
    "Результаты будут использоваться при дальнейшем шифровании персональных данных."
   ]
  },
  {
   "cell_type": "markdown",
   "metadata": {},
   "source": [
    "[К оглавлению](#contents)"
   ]
  },
  {
   "cell_type": "markdown",
   "metadata": {},
   "source": [
    "<a id='data_review'></a>"
   ]
  },
  {
   "cell_type": "markdown",
   "metadata": {},
   "source": [
    "## **I. Обзор данных**"
   ]
  },
  {
   "cell_type": "markdown",
   "metadata": {},
   "source": [
    "Сначала составим представление о полученных исходных данных.\n",
    "\n",
    "Прочитаем файл `insurance.csv` из папки `/datasets/` и сохраним его в переменной `df`:"
   ]
  },
  {
   "cell_type": "code",
   "execution_count": 2,
   "metadata": {},
   "outputs": [],
   "source": [
    "pth1 = 'D:/Programs/Jupyter_projects/datasets/insurance.csv'\n",
    "pth2 = '/datasets/insurance.csv'\n",
    "\n",
    "if os.path.exists(pth1):\n",
    "    df = pd.read_csv(pth1, sep=',')\n",
    "elif os.path.exists(pth2):\n",
    "    df = pd.read_csv(pth2, sep=',')\n",
    "else:\n",
    "    print('Something is wrong')"
   ]
  },
  {
   "cell_type": "markdown",
   "metadata": {},
   "source": [
    "Выведем на экран первые пять строк таблицы:"
   ]
  },
  {
   "cell_type": "code",
   "execution_count": 3,
   "metadata": {},
   "outputs": [
    {
     "data": {
      "text/html": [
       "<div>\n",
       "<style scoped>\n",
       "    .dataframe tbody tr th:only-of-type {\n",
       "        vertical-align: middle;\n",
       "    }\n",
       "\n",
       "    .dataframe tbody tr th {\n",
       "        vertical-align: top;\n",
       "    }\n",
       "\n",
       "    .dataframe thead th {\n",
       "        text-align: right;\n",
       "    }\n",
       "</style>\n",
       "<table border=\"1\" class=\"dataframe\">\n",
       "  <thead>\n",
       "    <tr style=\"text-align: right;\">\n",
       "      <th></th>\n",
       "      <th>Пол</th>\n",
       "      <th>Возраст</th>\n",
       "      <th>Зарплата</th>\n",
       "      <th>Члены семьи</th>\n",
       "      <th>Страховые выплаты</th>\n",
       "    </tr>\n",
       "  </thead>\n",
       "  <tbody>\n",
       "    <tr>\n",
       "      <th>0</th>\n",
       "      <td>1</td>\n",
       "      <td>41.0</td>\n",
       "      <td>49600.0</td>\n",
       "      <td>1</td>\n",
       "      <td>0</td>\n",
       "    </tr>\n",
       "    <tr>\n",
       "      <th>1</th>\n",
       "      <td>0</td>\n",
       "      <td>46.0</td>\n",
       "      <td>38000.0</td>\n",
       "      <td>1</td>\n",
       "      <td>1</td>\n",
       "    </tr>\n",
       "    <tr>\n",
       "      <th>2</th>\n",
       "      <td>0</td>\n",
       "      <td>29.0</td>\n",
       "      <td>21000.0</td>\n",
       "      <td>0</td>\n",
       "      <td>0</td>\n",
       "    </tr>\n",
       "    <tr>\n",
       "      <th>3</th>\n",
       "      <td>0</td>\n",
       "      <td>21.0</td>\n",
       "      <td>41700.0</td>\n",
       "      <td>2</td>\n",
       "      <td>0</td>\n",
       "    </tr>\n",
       "    <tr>\n",
       "      <th>4</th>\n",
       "      <td>1</td>\n",
       "      <td>28.0</td>\n",
       "      <td>26100.0</td>\n",
       "      <td>0</td>\n",
       "      <td>0</td>\n",
       "    </tr>\n",
       "  </tbody>\n",
       "</table>\n",
       "</div>"
      ],
      "text/plain": [
       "   Пол  Возраст  Зарплата  Члены семьи  Страховые выплаты\n",
       "0    1     41.0   49600.0            1                  0\n",
       "1    0     46.0   38000.0            1                  1\n",
       "2    0     29.0   21000.0            0                  0\n",
       "3    0     21.0   41700.0            2                  0\n",
       "4    1     28.0   26100.0            0                  0"
      ]
     },
     "metadata": {},
     "output_type": "display_data"
    }
   ],
   "source": [
    "display(df.head())"
   ]
  },
  {
   "cell_type": "markdown",
   "metadata": {},
   "source": [
    "Получим общую информацию о таблице: <a id='df.info'></a>"
   ]
  },
  {
   "cell_type": "code",
   "execution_count": 4,
   "metadata": {},
   "outputs": [
    {
     "name": "stdout",
     "output_type": "stream",
     "text": [
      "<class 'pandas.core.frame.DataFrame'>\n",
      "RangeIndex: 5000 entries, 0 to 4999\n",
      "Data columns (total 5 columns):\n",
      " #   Column             Non-Null Count  Dtype  \n",
      "---  ------             --------------  -----  \n",
      " 0   Пол                5000 non-null   int64  \n",
      " 1   Возраст            5000 non-null   float64\n",
      " 2   Зарплата           5000 non-null   float64\n",
      " 3   Члены семьи        5000 non-null   int64  \n",
      " 4   Страховые выплаты  5000 non-null   int64  \n",
      "dtypes: float64(2), int64(3)\n",
      "memory usage: 195.4 KB\n"
     ]
    }
   ],
   "source": [
    "df.info()"
   ]
  },
  {
   "cell_type": "markdown",
   "metadata": {},
   "source": [
    "Итак, в таблице пять столбцов. Типы данных в столбцах — целые числа `int` и вещественные числа `float`.\n",
    "\n",
    "Согласно документации к данным:\n",
    "\n",
    "* Признаки: `пол`, `возраст` и `зарплата застрахованного`, `количество членов его семьи`.\n",
    "* Целевой признак: `количество страховых выплат клиенту за последние 5 лет`.\n",
    "\n",
    "Количество значений в столбцах не различается. Значит, в данных нет **пропущенных значений**.\n",
    "\n",
    "Названия колонок написаны кириллицей с заглавной первой буквой."
   ]
  },
  {
   "cell_type": "markdown",
   "metadata": {},
   "source": [
    "<a id='data_review_summary'></a>"
   ]
  },
  {
   "cell_type": "markdown",
   "metadata": {},
   "source": [
    "### **Выводы**\n",
    "\n",
    "В каждой строке таблицы — данные об уникальном клиенте. Часть колонок описывает общие персональные параметры клиента: пол, дети, возраст, заработная плата, количество членов семьи. Остальные данные рассказывают о бизнес отношениях с банком: количество страховых выплат клиенту за последние 5 лет.\n",
    "\n",
    "В данных не встречается пропусков."
   ]
  },
  {
   "cell_type": "markdown",
   "metadata": {},
   "source": [
    "[К оглавлению](#contents)"
   ]
  },
  {
   "cell_type": "markdown",
   "metadata": {},
   "source": [
    "<a id='data_modify'></a>"
   ]
  },
  {
   "cell_type": "markdown",
   "metadata": {},
   "source": [
    "## **II. Преобразование данных**"
   ]
  },
  {
   "cell_type": "markdown",
   "metadata": {},
   "source": [
    "<a id='data_modify_prepare'></a>"
   ]
  },
  {
   "cell_type": "markdown",
   "metadata": {
    "tags": []
   },
   "source": [
    "### 1. Подготовка выборок"
   ]
  },
  {
   "cell_type": "markdown",
   "metadata": {},
   "source": [
    "Сохраним наши признаки в соответствующие выборки"
   ]
  },
  {
   "cell_type": "code",
   "execution_count": 5,
   "metadata": {},
   "outputs": [],
   "source": [
    "features = df.drop(columns = ['Страховые выплаты'],axis = 1)\n",
    "target = df['Страховые выплаты']"
   ]
  },
  {
   "cell_type": "code",
   "execution_count": 6,
   "metadata": {},
   "outputs": [
    {
     "data": {
      "text/html": [
       "<div>\n",
       "<style scoped>\n",
       "    .dataframe tbody tr th:only-of-type {\n",
       "        vertical-align: middle;\n",
       "    }\n",
       "\n",
       "    .dataframe tbody tr th {\n",
       "        vertical-align: top;\n",
       "    }\n",
       "\n",
       "    .dataframe thead th {\n",
       "        text-align: right;\n",
       "    }\n",
       "</style>\n",
       "<table border=\"1\" class=\"dataframe\">\n",
       "  <thead>\n",
       "    <tr style=\"text-align: right;\">\n",
       "      <th></th>\n",
       "      <th>Пол</th>\n",
       "      <th>Возраст</th>\n",
       "      <th>Зарплата</th>\n",
       "      <th>Члены семьи</th>\n",
       "    </tr>\n",
       "  </thead>\n",
       "  <tbody>\n",
       "    <tr>\n",
       "      <th>0</th>\n",
       "      <td>1</td>\n",
       "      <td>41.0</td>\n",
       "      <td>49600.0</td>\n",
       "      <td>1</td>\n",
       "    </tr>\n",
       "    <tr>\n",
       "      <th>1</th>\n",
       "      <td>0</td>\n",
       "      <td>46.0</td>\n",
       "      <td>38000.0</td>\n",
       "      <td>1</td>\n",
       "    </tr>\n",
       "    <tr>\n",
       "      <th>2</th>\n",
       "      <td>0</td>\n",
       "      <td>29.0</td>\n",
       "      <td>21000.0</td>\n",
       "      <td>0</td>\n",
       "    </tr>\n",
       "    <tr>\n",
       "      <th>3</th>\n",
       "      <td>0</td>\n",
       "      <td>21.0</td>\n",
       "      <td>41700.0</td>\n",
       "      <td>2</td>\n",
       "    </tr>\n",
       "    <tr>\n",
       "      <th>4</th>\n",
       "      <td>1</td>\n",
       "      <td>28.0</td>\n",
       "      <td>26100.0</td>\n",
       "      <td>0</td>\n",
       "    </tr>\n",
       "  </tbody>\n",
       "</table>\n",
       "</div>"
      ],
      "text/plain": [
       "   Пол  Возраст  Зарплата  Члены семьи\n",
       "0    1     41.0   49600.0            1\n",
       "1    0     46.0   38000.0            1\n",
       "2    0     29.0   21000.0            0\n",
       "3    0     21.0   41700.0            2\n",
       "4    1     28.0   26100.0            0"
      ]
     },
     "execution_count": 6,
     "metadata": {},
     "output_type": "execute_result"
    }
   ],
   "source": [
    "features.head()"
   ]
  },
  {
   "cell_type": "markdown",
   "metadata": {},
   "source": [
    "[К оглавлению](#contents)"
   ]
  },
  {
   "cell_type": "markdown",
   "metadata": {},
   "source": [
    "<a id='data_modify_X'></a>"
   ]
  },
  {
   "cell_type": "markdown",
   "metadata": {
    "tags": []
   },
   "source": [
    "### 2. Преобразование признаков"
   ]
  },
  {
   "cell_type": "markdown",
   "metadata": {},
   "source": [
    "Предоставленные данные представляют собой один единый датафрейм, разделения на обучающую и тестовую выборки у нас сейчас нет. Поэтому выполним это сейчас с помощью алгоритма `train_test_split`."
   ]
  },
  {
   "cell_type": "code",
   "execution_count": 14,
   "metadata": {},
   "outputs": [],
   "source": [
    "features_train, features_test, target_train, target_test = train_test_split(features, target, test_size=.25, random_state=12345)"
   ]
  },
  {
   "cell_type": "markdown",
   "metadata": {},
   "source": [
    "Для преобразования персональных данных домножим все признаки из `features` на обратимую матрицу. Для этого сначала необходимо создавать случайную матрицу до тех пор, пока она не будет обратимой, во избежание маловероятного появления необратимой матрицы.\n",
    "\n",
    "Для этого напишем **функцию `X_modified`**, которая внутри себя создает случайную обратимую квадратную матрицу и домнажает на нее наши признаки. Функция возвращает преобразованные признаки и обратную матрицу для P, чтобы потом можно было обратно восстановить исходные признаки."
   ]
  },
  {
   "cell_type": "code",
   "execution_count": 15,
   "metadata": {},
   "outputs": [],
   "source": [
    "def X_modified(X, X_test, seed):\n",
    "    try:\n",
    "        state = np.random.RandomState(seed=seed)\n",
    "        # Квадратная матрица P\n",
    "        rand_matrix = state.normal(size=(X.shape[1], X.shape[1]))\n",
    "        # Проверка на обратимость\n",
    "        inv = np.linalg.inv(rand_matrix)\n",
    "        # Умножаем признаки на обратимую матрицу\n",
    "        x_modified = X @ rand_matrix\n",
    "        x_test_modified = X_test @ rand_matrix\n",
    "        return x_modified, x_test_modified, inv\n",
    "    \n",
    "    except np.linalg.LinAlgError:\n",
    "        # Если возникла ошибка, заново запускаем нашу функцию\n",
    "        X_modified(X, X_test, seed)"
   ]
  },
  {
   "cell_type": "markdown",
   "metadata": {},
   "source": [
    "Примерим созданную функцию для преобразования данных и записи в новую переменную. "
   ]
  },
  {
   "cell_type": "code",
   "execution_count": 16,
   "metadata": {},
   "outputs": [],
   "source": [
    "features_new_train, features_new_test, inv_P = X_modified(features_train, features_test, 12345)"
   ]
  },
  {
   "cell_type": "markdown",
   "metadata": {},
   "source": [
    "[К оглавлению](#contents)"
   ]
  },
  {
   "cell_type": "markdown",
   "metadata": {},
   "source": [
    "<a id='data_modify_math_proof'></a>"
   ]
  },
  {
   "cell_type": "markdown",
   "metadata": {},
   "source": [
    "### 3. Матемарическое обоснование использования обратимой матрицы для шифрования"
   ]
  },
  {
   "cell_type": "markdown",
   "metadata": {},
   "source": [
    "Докажем принятое решение о возможности шифрования данных путем домножения их на обратимую матрицу. Для доказательства воспользуемся формулой задачи обучения линейной регрессии для функции потерь MSE:\n",
    "$$w = argmin_w MSE (Xw,y)$$\n",
    "\n",
    "При этом минимальное значение MSE достигается, когда веса равны величине:\n",
    "$$w = (X^{T} X)^{-1} X^{T} y $$\n",
    "\n",
    "Нам также понадобятся:\n",
    "- Правило умножения на обратную матрицу с полуением единичной:\n",
    "$$ X X^{-1} = X^{-1} X = E $$\n",
    "\n",
    "- Правило умножения на единичную матрицу:\n",
    "$$ X E = E X = X $$\n",
    "\n",
    "Тогда домножим исходные признаки на обратимую матрицу `P` и раскроем все скобки:\n",
    "$$w` = ((XP)^{T} XP)^{-1} (XP)^{T} y  = (P^{T} X^{T} XP)^{-1} P^{T} X^{T} y = P^{-1} (X X^{T})^{-1} (P^{T})^{-1} P^{T} X^{T} y = P^{-1} w $$\n",
    "$$w` = P^{-1} w $$\n",
    "\n",
    "Получается, что для обратного получения исходных признаков нам необходимо будет домножить на матрицу, обратную той, что была использована в начале (хранится в переменной `inv_P`) "
   ]
  },
  {
   "cell_type": "markdown",
   "metadata": {},
   "source": [
    "<a id='data_modify_summary'></a>"
   ]
  },
  {
   "cell_type": "markdown",
   "metadata": {
    "tags": []
   },
   "source": [
    "#### **Выводы**\n",
    "\n",
    "Во время преобразования данных были сделаны следующие выводы:\n",
    "* В качестве шифрования/преобразования персональных данных клиентов может использоваться произведение признаков на случайно полученную обратимую матрицу.\n",
    "* Чтобы потом дешифровать данные достаточно будет домножить признаки на обратную матрицу той, которая использовалась при шифровании.\n",
    "\n",
    "Осталось доказать данные вычисления экспериментально, построив модель машинного обучения на основе алгоритма «Линейная регрессия» с разными обучающими выборками (зашифрованными данными и незашифрованными) и сравнив качество: если оно не ухудшилось, то данный способ преобразования нам подходит."
   ]
  },
  {
   "cell_type": "markdown",
   "metadata": {},
   "source": [
    "[К оглавлению](#contents)"
   ]
  },
  {
   "cell_type": "markdown",
   "metadata": {},
   "source": [
    "<a id='models'></a>"
   ]
  },
  {
   "cell_type": "markdown",
   "metadata": {},
   "source": [
    "## **III. Построение моделей**"
   ]
  },
  {
   "cell_type": "markdown",
   "metadata": {
    "tags": []
   },
   "source": [
    "### 1. Модель «Линейная регрессия» для исходных данных"
   ]
  },
  {
   "cell_type": "markdown",
   "metadata": {},
   "source": [
    "Построим модель линейной регрессии и проверим ее качество на преобразованных и непреобразованных данных. Показателем качества выберем R2 score"
   ]
  },
  {
   "cell_type": "code",
   "execution_count": 36,
   "metadata": {},
   "outputs": [],
   "source": [
    "def model_LR_for_check_r2_score(features_train, features_test):\n",
    "    model = LinearRegression()\n",
    "    model.fit(features_train, target_train)\n",
    "    predictions = model.predict(features_test)\n",
    "    R2_score = r2_score(target_test, predictions)\n",
    "    return R2_score"
   ]
  },
  {
   "cell_type": "code",
   "execution_count": 37,
   "metadata": {},
   "outputs": [],
   "source": [
    "R2_score_origin = model_LR_for_check_r2_score(features_train, features_test)\n",
    "\n",
    "R2_score_modified = model_LR_for_check_r2_score(features_new_train, features_new_test)"
   ]
  },
  {
   "cell_type": "code",
   "execution_count": 40,
   "metadata": {},
   "outputs": [
    {
     "name": "stdout",
     "output_type": "stream",
     "text": [
      "\n",
      "\u001b[4m\u001b[1m\u001b[31mМодель «Линейная регрессия» на исходных данных:\u001b[0m\n",
      "R2 score: 0.44414121885134106\n",
      "\n",
      "\u001b[4m\u001b[1m\u001b[31mМодель «Линейная регрессия» на преобразованных данных:\u001b[0m\n",
      "R2 score: 0.44414121885148816\n",
      "\n",
      "\u001b[4m\u001b[1m\u001b[31mРазличия в качестве составляет:\u001b[0m 3.312112105768565e-13\n"
     ]
    }
   ],
   "source": [
    "print('\\n\\033[4m\\033[1m\\033[31m{}\\033[0m'.format('Модель «Линейная регрессия» на исходных данных:'))\n",
    "print('R2 score:', R2_score_origin)\n",
    "\n",
    "print('\\n\\033[4m\\033[1m\\033[31m{}\\033[0m'.format('Модель «Линейная регрессия» на преобразованных данных:'))\n",
    "print('R2 score:', R2_score_modified)\n",
    "\n",
    "print('\\n\\033[4m\\033[1m\\033[31m{}\\033[0m'.format('Различия в качестве составляет:'), abs(R2_score_origin - R2_score_modified) / R2_score_origin)"
   ]
  },
  {
   "cell_type": "markdown",
   "metadata": {},
   "source": [
    "Как мы видим, различия в качестве модели на основании исходных и преобразованных данных на уровне погрешности, поэтому можно считать, что использовать в качестве шифрования домножение на случайно полученную обратимую матрицу возможно без потерь качества предсказания модели машинного обучения. В последующем извлечение необходимых данных можно выполнять с помощью обратной использованной матрицы. "
   ]
  },
  {
   "cell_type": "markdown",
   "metadata": {},
   "source": [
    "Например, возьмем 5 первых объектов (клиентов) исходных данных"
   ]
  },
  {
   "cell_type": "code",
   "execution_count": null,
   "metadata": {},
   "outputs": [],
   "source": [
    "features.head()"
   ]
  },
  {
   "cell_type": "markdown",
   "metadata": {},
   "source": [
    "И их же только в преобразованных данных"
   ]
  },
  {
   "cell_type": "code",
   "execution_count": null,
   "metadata": {},
   "outputs": [],
   "source": [
    "features_new.head()"
   ]
  },
  {
   "cell_type": "markdown",
   "metadata": {},
   "source": [
    "Выполним обратное преобразование, домножив на обратную матрицу"
   ]
  },
  {
   "cell_type": "code",
   "execution_count": null,
   "metadata": {},
   "outputs": [],
   "source": [
    "vice_versa = round(features_new.head() @ inv_P)\n",
    "vice_versa.columns = features.columns\n",
    "display(vice_versa)"
   ]
  },
  {
   "cell_type": "markdown",
   "metadata": {},
   "source": [
    "<a id='summary'></a>"
   ]
  },
  {
   "cell_type": "markdown",
   "metadata": {},
   "source": [
    "## **V. Итоги исследования**"
   ]
  },
  {
   "cell_type": "markdown",
   "metadata": {},
   "source": [
    "На основании предоставленных данных мы\n",
    "- выбрали метод шифрования/дешифрования персональных данных через домножение первых на обратимую случайную матрицу,\n",
    "- обосновали свой выбор через математические формулы операций с матрицами, определение линейной регрессии через минимизацию MAE, \n",
    "- доказали возможность его использования с помощью построения модели машинного обучения по исходным и преобразованным данным с последующим сравнением качества R2 score. "
   ]
  },
  {
   "cell_type": "markdown",
   "metadata": {},
   "source": [
    "[К оглавлению](#contents)"
   ]
  }
 ],
 "metadata": {
  "ExecuteTimeLog": [
   {
    "duration": 525,
    "start_time": "2022-02-03T12:51:37.293Z"
   },
   {
    "duration": 441,
    "start_time": "2022-02-03T12:52:38.232Z"
   },
   {
    "duration": 194,
    "start_time": "2022-02-03T12:54:47.270Z"
   },
   {
    "duration": 151,
    "start_time": "2022-02-03T12:54:52.722Z"
   },
   {
    "duration": 136,
    "start_time": "2022-02-03T12:54:54.952Z"
   },
   {
    "duration": 1326,
    "start_time": "2022-02-03T12:54:59.011Z"
   },
   {
    "duration": 200,
    "start_time": "2022-02-03T12:55:04.279Z"
   },
   {
    "duration": 189,
    "start_time": "2022-02-03T12:55:12.138Z"
   },
   {
    "duration": 171,
    "start_time": "2022-02-03T12:57:55.172Z"
   },
   {
    "duration": 41,
    "start_time": "2022-02-03T13:05:38.011Z"
   },
   {
    "duration": 58,
    "start_time": "2022-02-03T13:19:50.020Z"
   },
   {
    "duration": 1191,
    "start_time": "2022-02-03T13:24:35.765Z"
   },
   {
    "duration": 1057,
    "start_time": "2022-02-03T13:24:47.007Z"
   },
   {
    "duration": 900,
    "start_time": "2022-02-03T13:25:24.951Z"
   },
   {
    "duration": 1217,
    "start_time": "2022-02-03T13:25:32.197Z"
   },
   {
    "duration": 991,
    "start_time": "2022-02-03T13:25:46.005Z"
   },
   {
    "duration": 1074,
    "start_time": "2022-02-03T13:26:08.960Z"
   },
   {
    "duration": 886,
    "start_time": "2022-02-03T13:26:37.150Z"
   },
   {
    "duration": 133,
    "start_time": "2022-02-03T13:27:00.027Z"
   },
   {
    "duration": 277,
    "start_time": "2022-02-03T13:27:42.857Z"
   },
   {
    "duration": 125,
    "start_time": "2022-02-03T13:28:22.518Z"
   },
   {
    "duration": 13,
    "start_time": "2022-02-03T13:28:44.922Z"
   },
   {
    "duration": 12,
    "start_time": "2022-02-03T13:29:16.111Z"
   },
   {
    "duration": 12,
    "start_time": "2022-02-03T13:29:30.739Z"
   },
   {
    "duration": 11,
    "start_time": "2022-02-03T13:30:18.839Z"
   },
   {
    "duration": 11,
    "start_time": "2022-02-03T13:43:37.593Z"
   },
   {
    "duration": 46,
    "start_time": "2022-02-03T13:53:18.905Z"
   },
   {
    "duration": 160,
    "start_time": "2022-02-03T13:53:51.741Z"
   },
   {
    "duration": 5,
    "start_time": "2022-02-03T13:54:05.865Z"
   },
   {
    "duration": 4,
    "start_time": "2022-02-03T13:54:28.811Z"
   },
   {
    "duration": 155,
    "start_time": "2022-02-03T13:54:42.439Z"
   },
   {
    "duration": 4,
    "start_time": "2022-02-03T13:54:49.799Z"
   },
   {
    "duration": 126,
    "start_time": "2022-02-03T13:55:37.467Z"
   },
   {
    "duration": 129,
    "start_time": "2022-02-03T13:55:43.369Z"
   },
   {
    "duration": 4,
    "start_time": "2022-02-03T13:55:48.728Z"
   },
   {
    "duration": 10,
    "start_time": "2022-02-03T13:56:18.054Z"
   },
   {
    "duration": 11,
    "start_time": "2022-02-03T13:56:20.237Z"
   },
   {
    "duration": 16,
    "start_time": "2022-02-03T13:56:31.459Z"
   },
   {
    "duration": 26,
    "start_time": "2022-02-03T13:56:42.317Z"
   },
   {
    "duration": 14,
    "start_time": "2022-02-03T13:56:48.890Z"
   },
   {
    "duration": 131,
    "start_time": "2022-02-03T13:59:47.425Z"
   },
   {
    "duration": 151,
    "start_time": "2022-02-03T14:00:08.231Z"
   },
   {
    "duration": 156,
    "start_time": "2022-02-03T14:02:16.621Z"
   },
   {
    "duration": 69,
    "start_time": "2022-02-03T14:03:11.947Z"
   },
   {
    "duration": 51,
    "start_time": "2022-02-03T14:03:31.195Z"
   },
   {
    "duration": 9,
    "start_time": "2022-02-03T14:04:52.728Z"
   },
   {
    "duration": 11,
    "start_time": "2022-02-03T14:07:15.894Z"
   },
   {
    "duration": 198,
    "start_time": "2022-02-03T14:07:43.329Z"
   },
   {
    "duration": 164,
    "start_time": "2022-02-03T14:08:39.083Z"
   },
   {
    "duration": 12,
    "start_time": "2022-02-03T14:08:50.636Z"
   },
   {
    "duration": 143,
    "start_time": "2022-02-03T14:10:06.956Z"
   },
   {
    "duration": 10,
    "start_time": "2022-02-03T14:10:14.582Z"
   },
   {
    "duration": 10,
    "start_time": "2022-02-03T14:12:15.683Z"
   },
   {
    "duration": 150,
    "start_time": "2022-02-03T14:12:33.630Z"
   },
   {
    "duration": 10,
    "start_time": "2022-02-03T14:12:38.800Z"
   },
   {
    "duration": 11,
    "start_time": "2022-02-03T14:16:19.696Z"
   },
   {
    "duration": 45,
    "start_time": "2022-02-03T14:16:30.397Z"
   },
   {
    "duration": 11,
    "start_time": "2022-02-03T14:16:38.576Z"
   },
   {
    "duration": 11,
    "start_time": "2022-02-03T14:18:13.076Z"
   },
   {
    "duration": 10,
    "start_time": "2022-02-03T14:18:20.690Z"
   },
   {
    "duration": 17,
    "start_time": "2022-02-03T14:18:36.201Z"
   },
   {
    "duration": 9,
    "start_time": "2022-02-03T14:18:45.615Z"
   },
   {
    "duration": 5,
    "start_time": "2022-02-03T14:19:23.685Z"
   },
   {
    "duration": 24,
    "start_time": "2022-02-03T14:19:28.671Z"
   },
   {
    "duration": 16,
    "start_time": "2022-02-03T14:20:33.529Z"
   },
   {
    "duration": 10,
    "start_time": "2022-02-03T14:20:46.404Z"
   },
   {
    "duration": 10,
    "start_time": "2022-02-03T14:21:00.998Z"
   },
   {
    "duration": 11,
    "start_time": "2022-02-03T14:21:55.719Z"
   },
   {
    "duration": 11,
    "start_time": "2022-02-03T14:22:29.008Z"
   },
   {
    "duration": 9,
    "start_time": "2022-02-03T14:22:49.841Z"
   },
   {
    "duration": 10,
    "start_time": "2022-02-03T14:28:10.412Z"
   },
   {
    "duration": 11,
    "start_time": "2022-02-03T14:28:43.434Z"
   },
   {
    "duration": 11,
    "start_time": "2022-02-03T14:30:53.886Z"
   },
   {
    "duration": 11,
    "start_time": "2022-02-03T14:31:43.208Z"
   },
   {
    "duration": 81,
    "start_time": "2022-02-03T14:31:58.539Z"
   },
   {
    "duration": 10,
    "start_time": "2022-02-03T14:32:07.608Z"
   },
   {
    "duration": 9,
    "start_time": "2022-02-03T14:33:43.219Z"
   },
   {
    "duration": 10,
    "start_time": "2022-02-03T14:34:09.898Z"
   },
   {
    "duration": 10,
    "start_time": "2022-02-03T14:34:14.022Z"
   },
   {
    "duration": 9,
    "start_time": "2022-02-03T14:34:29.009Z"
   },
   {
    "duration": 12,
    "start_time": "2022-02-03T14:34:40.189Z"
   },
   {
    "duration": 10,
    "start_time": "2022-02-03T14:35:06.619Z"
   },
   {
    "duration": 12,
    "start_time": "2022-02-03T14:35:17.747Z"
   },
   {
    "duration": 10,
    "start_time": "2022-02-03T14:35:23.587Z"
   },
   {
    "duration": 10,
    "start_time": "2022-02-03T14:35:33.378Z"
   },
   {
    "duration": 10,
    "start_time": "2022-02-03T14:35:36.188Z"
   },
   {
    "duration": 9,
    "start_time": "2022-02-03T14:35:40.851Z"
   },
   {
    "duration": 9,
    "start_time": "2022-02-03T14:35:44.620Z"
   },
   {
    "duration": 11,
    "start_time": "2022-02-03T14:35:48.328Z"
   },
   {
    "duration": 10,
    "start_time": "2022-02-03T14:35:53.752Z"
   },
   {
    "duration": 10,
    "start_time": "2022-02-03T14:36:02.216Z"
   },
   {
    "duration": 55,
    "start_time": "2022-02-03T14:37:43.082Z"
   },
   {
    "duration": 9,
    "start_time": "2022-02-03T14:37:47.064Z"
   },
   {
    "duration": 10,
    "start_time": "2022-02-03T14:39:27.290Z"
   },
   {
    "duration": 10,
    "start_time": "2022-02-03T14:39:41.149Z"
   },
   {
    "duration": 12,
    "start_time": "2022-02-03T14:40:05.960Z"
   },
   {
    "duration": 10,
    "start_time": "2022-02-03T14:41:28.457Z"
   },
   {
    "duration": 129,
    "start_time": "2022-02-03T14:44:02.389Z"
   },
   {
    "duration": 10,
    "start_time": "2022-02-03T14:46:07.337Z"
   },
   {
    "duration": 56,
    "start_time": "2022-02-03T14:48:08.982Z"
   },
   {
    "duration": 65,
    "start_time": "2022-02-03T14:49:25.560Z"
   },
   {
    "duration": 47,
    "start_time": "2022-02-03T14:49:32.359Z"
   },
   {
    "duration": 44,
    "start_time": "2022-02-03T14:49:42.900Z"
   },
   {
    "duration": 81,
    "start_time": "2022-02-03T14:49:50.433Z"
   },
   {
    "duration": 101,
    "start_time": "2022-02-03T14:50:37.695Z"
   },
   {
    "duration": 8,
    "start_time": "2022-02-03T14:51:04.677Z"
   },
   {
    "duration": 144,
    "start_time": "2022-02-03T14:51:30.132Z"
   },
   {
    "duration": 4214,
    "start_time": "2022-02-03T14:51:34.601Z"
   },
   {
    "duration": 44,
    "start_time": "2022-02-03T15:20:31.492Z"
   },
   {
    "duration": 46,
    "start_time": "2022-02-03T15:21:08.228Z"
   },
   {
    "duration": 44,
    "start_time": "2022-02-03T15:21:17.351Z"
   },
   {
    "duration": 44,
    "start_time": "2022-02-03T15:21:19.912Z"
   },
   {
    "duration": 45,
    "start_time": "2022-02-03T15:21:53.674Z"
   },
   {
    "duration": 58,
    "start_time": "2022-02-03T15:22:05.447Z"
   },
   {
    "duration": 41,
    "start_time": "2022-02-03T15:23:02.486Z"
   },
   {
    "duration": 47,
    "start_time": "2022-02-03T15:24:12.257Z"
   },
   {
    "duration": 49,
    "start_time": "2022-02-03T15:24:21.575Z"
   },
   {
    "duration": 48,
    "start_time": "2022-02-03T15:24:29.642Z"
   },
   {
    "duration": 3,
    "start_time": "2022-02-03T15:25:13.128Z"
   },
   {
    "duration": 50,
    "start_time": "2022-02-03T15:25:25.601Z"
   },
   {
    "duration": 4,
    "start_time": "2022-02-03T15:25:59.884Z"
   },
   {
    "duration": 4,
    "start_time": "2022-02-03T15:27:34.833Z"
   },
   {
    "duration": 4,
    "start_time": "2022-02-03T15:27:53.206Z"
   },
   {
    "duration": 3,
    "start_time": "2022-02-03T15:27:56.796Z"
   },
   {
    "duration": 331,
    "start_time": "2022-02-03T15:28:32.522Z"
   },
   {
    "duration": 3,
    "start_time": "2022-02-03T15:30:58.927Z"
   },
   {
    "duration": 3,
    "start_time": "2022-02-03T15:31:00.265Z"
   },
   {
    "duration": 3,
    "start_time": "2022-02-03T15:31:08.889Z"
   },
   {
    "duration": 3,
    "start_time": "2022-02-03T15:31:13.084Z"
   },
   {
    "duration": 3,
    "start_time": "2022-02-03T15:31:56.991Z"
   },
   {
    "duration": 3,
    "start_time": "2022-02-03T15:31:57.487Z"
   },
   {
    "duration": 44,
    "start_time": "2022-02-03T15:39:26.576Z"
   },
   {
    "duration": 3,
    "start_time": "2022-02-03T15:42:26.898Z"
   },
   {
    "duration": 4,
    "start_time": "2022-02-03T15:42:28.485Z"
   },
   {
    "duration": 3,
    "start_time": "2022-02-03T15:43:05.737Z"
   },
   {
    "duration": 3,
    "start_time": "2022-02-03T15:44:05.327Z"
   },
   {
    "duration": 144,
    "start_time": "2022-02-03T15:46:30.786Z"
   },
   {
    "duration": 3,
    "start_time": "2022-02-03T15:46:36.854Z"
   },
   {
    "duration": 18,
    "start_time": "2022-02-03T15:46:37.697Z"
   },
   {
    "duration": 22,
    "start_time": "2022-02-03T15:46:43.006Z"
   },
   {
    "duration": 27,
    "start_time": "2022-02-03T15:47:03.135Z"
   },
   {
    "duration": 3,
    "start_time": "2022-02-03T15:47:45.851Z"
   },
   {
    "duration": 26,
    "start_time": "2022-02-03T15:47:48.105Z"
   },
   {
    "duration": 3,
    "start_time": "2022-02-03T15:49:30.969Z"
   },
   {
    "duration": 32,
    "start_time": "2022-02-03T15:49:31.851Z"
   },
   {
    "duration": 25,
    "start_time": "2022-02-03T15:50:34.682Z"
   },
   {
    "duration": 27,
    "start_time": "2022-02-03T15:51:07.233Z"
   },
   {
    "duration": 36,
    "start_time": "2022-02-03T15:52:59.989Z"
   },
   {
    "duration": 14,
    "start_time": "2022-02-03T15:53:06.162Z"
   },
   {
    "duration": 22,
    "start_time": "2022-02-03T15:53:13.681Z"
   },
   {
    "duration": 14,
    "start_time": "2022-02-03T15:53:21.137Z"
   },
   {
    "duration": 49,
    "start_time": "2022-02-03T15:57:31.507Z"
   },
   {
    "duration": 4,
    "start_time": "2022-02-03T16:02:26.345Z"
   },
   {
    "duration": 5,
    "start_time": "2022-02-03T16:02:31.502Z"
   },
   {
    "duration": 5,
    "start_time": "2022-02-03T16:02:35.512Z"
   },
   {
    "duration": 5,
    "start_time": "2022-02-03T16:02:47.740Z"
   },
   {
    "duration": 4,
    "start_time": "2022-02-03T16:02:53.851Z"
   },
   {
    "duration": 53,
    "start_time": "2022-02-03T16:02:56.674Z"
   },
   {
    "duration": 6,
    "start_time": "2022-02-03T16:02:58.456Z"
   },
   {
    "duration": 5,
    "start_time": "2022-02-03T16:03:10.416Z"
   },
   {
    "duration": 6,
    "start_time": "2022-02-03T16:04:16.430Z"
   },
   {
    "duration": 9,
    "start_time": "2022-02-03T16:06:49.405Z"
   },
   {
    "duration": 53,
    "start_time": "2022-02-03T16:07:56.515Z"
   },
   {
    "duration": 46,
    "start_time": "2022-02-03T16:08:01.016Z"
   },
   {
    "duration": 7,
    "start_time": "2022-02-03T16:08:07.889Z"
   },
   {
    "duration": 9,
    "start_time": "2022-02-03T16:08:57.233Z"
   },
   {
    "duration": 1780,
    "start_time": "2022-02-03T16:10:47.123Z"
   },
   {
    "duration": 1046,
    "start_time": "2022-02-03T16:11:42.700Z"
   },
   {
    "duration": 6,
    "start_time": "2022-02-03T16:11:50.814Z"
   },
   {
    "duration": 137,
    "start_time": "2022-02-03T16:12:30.758Z"
   },
   {
    "duration": 134,
    "start_time": "2022-02-03T16:12:35.466Z"
   },
   {
    "duration": 60,
    "start_time": "2022-02-03T16:12:46.186Z"
   },
   {
    "duration": 5,
    "start_time": "2022-02-03T16:16:15.044Z"
   },
   {
    "duration": 554,
    "start_time": "2022-02-03T16:27:46.818Z"
   },
   {
    "duration": 160,
    "start_time": "2022-02-03T16:34:24.065Z"
   },
   {
    "duration": 894,
    "start_time": "2022-02-03T16:34:24.297Z"
   },
   {
    "duration": 17,
    "start_time": "2022-02-03T16:34:25.193Z"
   },
   {
    "duration": 14,
    "start_time": "2022-02-03T16:34:25.212Z"
   },
   {
    "duration": 7,
    "start_time": "2022-02-03T16:34:25.228Z"
   },
   {
    "duration": 26,
    "start_time": "2022-02-03T16:34:25.237Z"
   },
   {
    "duration": 119,
    "start_time": "2022-02-03T16:34:25.265Z"
   },
   {
    "duration": 3,
    "start_time": "2022-02-03T16:34:25.386Z"
   },
   {
    "duration": 7,
    "start_time": "2022-02-03T16:34:25.391Z"
   },
   {
    "duration": 29,
    "start_time": "2022-02-03T16:34:25.400Z"
   },
   {
    "duration": 576,
    "start_time": "2022-02-03T16:34:40.930Z"
   },
   {
    "duration": 2,
    "start_time": "2022-02-03T16:34:57.941Z"
   },
   {
    "duration": 149,
    "start_time": "2022-02-03T16:35:11.037Z"
   },
   {
    "duration": 399,
    "start_time": "2022-02-03T16:36:15.289Z"
   },
   {
    "duration": 3,
    "start_time": "2022-02-03T16:36:52.621Z"
   },
   {
    "duration": 3,
    "start_time": "2022-02-03T16:36:56.028Z"
   },
   {
    "duration": 3,
    "start_time": "2022-02-03T16:37:25.624Z"
   },
   {
    "duration": 537,
    "start_time": "2022-02-03T16:37:28.475Z"
   },
   {
    "duration": 42,
    "start_time": "2022-02-03T16:37:51.333Z"
   },
   {
    "duration": 49,
    "start_time": "2022-02-03T16:37:56.072Z"
   },
   {
    "duration": 5259,
    "start_time": "2022-02-03T16:37:56.668Z"
   },
   {
    "duration": 58,
    "start_time": "2022-02-03T16:39:11.169Z"
   },
   {
    "duration": 678,
    "start_time": "2022-02-03T16:39:12.619Z"
   },
   {
    "duration": 7,
    "start_time": "2022-02-03T16:40:44.209Z"
   },
   {
    "duration": 3,
    "start_time": "2022-02-03T16:42:41.042Z"
   },
   {
    "duration": 527,
    "start_time": "2022-02-03T16:42:42.753Z"
   },
   {
    "duration": 55,
    "start_time": "2022-02-03T16:43:08.977Z"
   },
   {
    "duration": 545,
    "start_time": "2022-02-03T16:43:10.073Z"
   },
   {
    "duration": 443,
    "start_time": "2022-02-03T16:45:24.129Z"
   },
   {
    "duration": 447,
    "start_time": "2022-02-03T16:46:44.124Z"
   },
   {
    "duration": 454,
    "start_time": "2022-02-03T16:47:50.484Z"
   },
   {
    "duration": 453,
    "start_time": "2022-02-03T16:48:02.656Z"
   },
   {
    "duration": 483,
    "start_time": "2022-02-03T16:48:20.796Z"
   },
   {
    "duration": 1832,
    "start_time": "2022-02-03T16:49:09.255Z"
   },
   {
    "duration": 726,
    "start_time": "2022-02-03T16:51:49.895Z"
   },
   {
    "duration": 18,
    "start_time": "2022-02-03T16:51:50.624Z"
   },
   {
    "duration": 10,
    "start_time": "2022-02-03T16:51:50.647Z"
   },
   {
    "duration": 14,
    "start_time": "2022-02-03T16:51:50.659Z"
   },
   {
    "duration": 545,
    "start_time": "2022-02-03T16:51:50.674Z"
   },
   {
    "duration": 11,
    "start_time": "2022-02-03T16:53:07.976Z"
   },
   {
    "duration": 117,
    "start_time": "2022-02-03T16:53:07.988Z"
   },
   {
    "duration": 3,
    "start_time": "2022-02-03T16:53:08.107Z"
   },
   {
    "duration": 9,
    "start_time": "2022-02-03T16:53:08.111Z"
   },
   {
    "duration": 29,
    "start_time": "2022-02-03T16:53:08.121Z"
   },
   {
    "duration": 2,
    "start_time": "2022-02-03T16:53:08.161Z"
   },
   {
    "duration": 719,
    "start_time": "2022-02-03T16:53:35.685Z"
   },
   {
    "duration": 17,
    "start_time": "2022-02-03T16:53:36.608Z"
   },
   {
    "duration": 11,
    "start_time": "2022-02-03T16:53:38.782Z"
   },
   {
    "duration": 8,
    "start_time": "2022-02-03T16:53:41.498Z"
   },
   {
    "duration": 558,
    "start_time": "2022-02-03T16:53:42.823Z"
   },
   {
    "duration": 13917,
    "start_time": "2022-02-03T16:53:43.787Z"
   },
   {
    "duration": 697,
    "start_time": "2022-02-03T16:54:23.137Z"
   },
   {
    "duration": 17,
    "start_time": "2022-02-03T16:54:23.836Z"
   },
   {
    "duration": 10,
    "start_time": "2022-02-03T16:54:23.857Z"
   },
   {
    "duration": 6,
    "start_time": "2022-02-03T16:54:23.869Z"
   },
   {
    "duration": 13,
    "start_time": "2022-02-03T16:54:23.877Z"
   },
   {
    "duration": 127,
    "start_time": "2022-02-03T16:54:23.892Z"
   },
   {
    "duration": 3,
    "start_time": "2022-02-03T16:54:24.021Z"
   },
   {
    "duration": 4,
    "start_time": "2022-02-03T16:54:24.026Z"
   },
   {
    "duration": 38,
    "start_time": "2022-02-03T16:54:24.032Z"
   },
   {
    "duration": 204,
    "start_time": "2022-02-03T17:00:18.308Z"
   },
   {
    "duration": 15,
    "start_time": "2022-02-03T17:00:30.381Z"
   },
   {
    "duration": 136,
    "start_time": "2022-02-03T17:01:10.362Z"
   },
   {
    "duration": 137,
    "start_time": "2022-02-03T17:02:35.741Z"
   },
   {
    "duration": 3,
    "start_time": "2022-02-03T17:02:50.603Z"
   },
   {
    "duration": 194,
    "start_time": "2022-02-03T17:04:19.313Z"
   },
   {
    "duration": 5,
    "start_time": "2022-02-03T17:06:40.012Z"
   },
   {
    "duration": 46,
    "start_time": "2022-02-03T17:09:33.236Z"
   },
   {
    "duration": 110,
    "start_time": "2022-02-03T17:09:37.403Z"
   },
   {
    "duration": 15,
    "start_time": "2022-02-03T17:09:53.076Z"
   },
   {
    "duration": 72,
    "start_time": "2022-02-03T17:10:21.552Z"
   },
   {
    "duration": 3,
    "start_time": "2022-02-03T17:10:26.268Z"
   },
   {
    "duration": 4,
    "start_time": "2022-02-03T17:10:31.580Z"
   },
   {
    "duration": 25,
    "start_time": "2022-02-03T17:11:24.932Z"
   },
   {
    "duration": 4,
    "start_time": "2022-02-03T17:11:25.871Z"
   },
   {
    "duration": 203,
    "start_time": "2022-02-03T17:11:37.900Z"
   },
   {
    "duration": 4,
    "start_time": "2022-02-03T17:11:48.152Z"
   },
   {
    "duration": 23,
    "start_time": "2022-02-03T17:12:18.098Z"
   },
   {
    "duration": 3,
    "start_time": "2022-02-03T17:12:18.524Z"
   },
   {
    "duration": 22,
    "start_time": "2022-02-03T17:13:38.313Z"
   },
   {
    "duration": 4,
    "start_time": "2022-02-03T17:13:38.729Z"
   },
   {
    "duration": 23,
    "start_time": "2022-02-03T17:13:59.265Z"
   },
   {
    "duration": 3,
    "start_time": "2022-02-03T17:13:59.977Z"
   },
   {
    "duration": 23,
    "start_time": "2022-02-03T17:14:25.135Z"
   },
   {
    "duration": 4,
    "start_time": "2022-02-03T17:14:26.057Z"
   },
   {
    "duration": 10,
    "start_time": "2022-02-03T17:14:34.818Z"
   },
   {
    "duration": 41,
    "start_time": "2022-02-03T17:15:42.636Z"
   },
   {
    "duration": 22,
    "start_time": "2022-02-03T17:15:56.638Z"
   },
   {
    "duration": 10,
    "start_time": "2022-02-03T17:18:58.482Z"
   },
   {
    "duration": 6,
    "start_time": "2022-02-03T17:19:28.305Z"
   },
   {
    "duration": 5,
    "start_time": "2022-02-03T17:19:36.132Z"
   },
   {
    "duration": 4,
    "start_time": "2022-02-03T17:20:05.920Z"
   },
   {
    "duration": 4,
    "start_time": "2022-02-03T17:20:13.537Z"
   },
   {
    "duration": 4,
    "start_time": "2022-02-03T17:20:17.153Z"
   },
   {
    "duration": 21,
    "start_time": "2022-02-03T17:22:09.855Z"
   },
   {
    "duration": 15,
    "start_time": "2022-02-03T17:22:31.184Z"
   },
   {
    "duration": 14,
    "start_time": "2022-02-03T17:23:00.760Z"
   },
   {
    "duration": 31,
    "start_time": "2022-02-03T17:23:52.483Z"
   },
   {
    "duration": 10,
    "start_time": "2022-02-03T17:26:50.151Z"
   },
   {
    "duration": 10,
    "start_time": "2022-02-03T17:26:59.099Z"
   },
   {
    "duration": 13,
    "start_time": "2022-02-03T17:27:05.938Z"
   },
   {
    "duration": 51,
    "start_time": "2022-02-03T17:27:40.888Z"
   },
   {
    "duration": 62,
    "start_time": "2022-02-03T17:28:36.161Z"
   },
   {
    "duration": 44,
    "start_time": "2022-02-03T17:29:19.700Z"
   },
   {
    "duration": 53,
    "start_time": "2022-02-03T17:29:24.820Z"
   },
   {
    "duration": 12,
    "start_time": "2022-02-03T17:30:13.859Z"
   },
   {
    "duration": 11,
    "start_time": "2022-02-03T17:30:33.349Z"
   },
   {
    "duration": 48,
    "start_time": "2022-02-03T17:31:18.339Z"
   },
   {
    "duration": 10,
    "start_time": "2022-02-03T17:31:23.121Z"
   },
   {
    "duration": 367,
    "start_time": "2022-02-03T17:32:33.798Z"
   },
   {
    "duration": 1157,
    "start_time": "2022-02-03T17:32:52.442Z"
   },
   {
    "duration": 354,
    "start_time": "2022-02-03T17:32:58.977Z"
   },
   {
    "duration": 338,
    "start_time": "2022-02-03T17:33:21.426Z"
   },
   {
    "duration": 11,
    "start_time": "2022-02-03T17:33:33.924Z"
   },
   {
    "duration": 46,
    "start_time": "2022-02-03T17:51:24.928Z"
   },
   {
    "duration": 50,
    "start_time": "2022-02-03T17:51:44.158Z"
   },
   {
    "duration": 48,
    "start_time": "2022-02-03T17:52:15.270Z"
   },
   {
    "duration": 14,
    "start_time": "2022-02-03T17:54:54.447Z"
   },
   {
    "duration": 22,
    "start_time": "2022-02-03T17:55:48.537Z"
   },
   {
    "duration": 23,
    "start_time": "2022-02-03T17:56:08.204Z"
   },
   {
    "duration": 12,
    "start_time": "2022-02-03T17:56:37.455Z"
   },
   {
    "duration": 125,
    "start_time": "2022-02-03T17:57:15.977Z"
   },
   {
    "duration": 5,
    "start_time": "2022-02-03T17:57:18.793Z"
   },
   {
    "duration": 10,
    "start_time": "2022-02-03T17:57:25.570Z"
   },
   {
    "duration": 12,
    "start_time": "2022-02-03T18:04:41.276Z"
   },
   {
    "duration": 22,
    "start_time": "2022-02-03T18:05:30.850Z"
   },
   {
    "duration": 22,
    "start_time": "2022-02-03T18:05:41.339Z"
   },
   {
    "duration": 20,
    "start_time": "2022-02-03T18:05:51.631Z"
   },
   {
    "duration": 40,
    "start_time": "2022-02-03T18:06:16.164Z"
   },
   {
    "duration": 22,
    "start_time": "2022-02-03T18:06:24.962Z"
   },
   {
    "duration": 23,
    "start_time": "2022-02-03T18:08:03.020Z"
   },
   {
    "duration": 22,
    "start_time": "2022-02-03T18:08:06.827Z"
   },
   {
    "duration": 23,
    "start_time": "2022-02-03T18:08:16.902Z"
   },
   {
    "duration": 23,
    "start_time": "2022-02-03T18:08:36.277Z"
   },
   {
    "duration": 28,
    "start_time": "2022-02-03T18:08:44.625Z"
   },
   {
    "duration": 28,
    "start_time": "2022-02-03T18:08:52.632Z"
   },
   {
    "duration": 30,
    "start_time": "2022-02-03T18:09:19.007Z"
   },
   {
    "duration": 33,
    "start_time": "2022-02-03T18:20:48.819Z"
   },
   {
    "duration": 17,
    "start_time": "2022-02-03T18:24:20.160Z"
   },
   {
    "duration": 9,
    "start_time": "2022-02-03T18:24:39.323Z"
   },
   {
    "duration": 21,
    "start_time": "2022-02-03T18:25:01.622Z"
   },
   {
    "duration": 8,
    "start_time": "2022-02-03T18:27:38.416Z"
   },
   {
    "duration": 11,
    "start_time": "2022-02-03T18:27:48.246Z"
   },
   {
    "duration": 21,
    "start_time": "2022-02-03T18:28:04.974Z"
   },
   {
    "duration": 31,
    "start_time": "2022-02-03T18:28:20.573Z"
   },
   {
    "duration": 27,
    "start_time": "2022-02-03T18:28:34.533Z"
   },
   {
    "duration": 28,
    "start_time": "2022-02-03T18:28:47.865Z"
   },
   {
    "duration": 11,
    "start_time": "2022-02-03T18:28:58.499Z"
   },
   {
    "duration": 135,
    "start_time": "2022-02-03T18:36:46.594Z"
   },
   {
    "duration": 34,
    "start_time": "2022-02-03T18:36:55.158Z"
   },
   {
    "duration": 45,
    "start_time": "2022-02-03T18:37:05.580Z"
   },
   {
    "duration": 39,
    "start_time": "2022-02-03T18:37:53.383Z"
   },
   {
    "duration": 33,
    "start_time": "2022-02-03T18:40:05.890Z"
   },
   {
    "duration": 33,
    "start_time": "2022-02-03T18:40:29.013Z"
   },
   {
    "duration": 27,
    "start_time": "2022-02-03T18:45:36.143Z"
   },
   {
    "duration": 38,
    "start_time": "2022-02-03T18:50:02.570Z"
   },
   {
    "duration": 121,
    "start_time": "2022-02-03T18:54:37.679Z"
   },
   {
    "duration": 150,
    "start_time": "2022-02-03T18:54:47.817Z"
   },
   {
    "duration": 10,
    "start_time": "2022-02-03T18:55:26.552Z"
   },
   {
    "duration": 148,
    "start_time": "2022-02-03T18:55:58.552Z"
   },
   {
    "duration": 10,
    "start_time": "2022-02-03T18:56:03.619Z"
   },
   {
    "duration": 3269,
    "start_time": "2022-02-03T18:56:23.125Z"
   },
   {
    "duration": 11,
    "start_time": "2022-02-03T18:56:28.771Z"
   },
   {
    "duration": 2255,
    "start_time": "2022-02-03T18:56:42.925Z"
   },
   {
    "duration": 9,
    "start_time": "2022-02-03T18:56:50.772Z"
   },
   {
    "duration": 44,
    "start_time": "2022-02-03T18:57:10.291Z"
   },
   {
    "duration": 3754,
    "start_time": "2022-02-03T18:57:17.865Z"
   },
   {
    "duration": 3072,
    "start_time": "2022-02-03T18:57:24.296Z"
   },
   {
    "duration": 143,
    "start_time": "2022-02-03T18:57:30.000Z"
   },
   {
    "duration": 9,
    "start_time": "2022-02-03T18:57:37.616Z"
   },
   {
    "duration": 37,
    "start_time": "2022-02-03T18:59:50.604Z"
   },
   {
    "duration": 149,
    "start_time": "2022-02-03T19:00:02.041Z"
   },
   {
    "duration": 29,
    "start_time": "2022-02-03T19:00:07.367Z"
   },
   {
    "duration": 26,
    "start_time": "2022-02-03T19:00:44.903Z"
   },
   {
    "duration": 29,
    "start_time": "2022-02-03T19:00:59.043Z"
   },
   {
    "duration": 25,
    "start_time": "2022-02-03T19:01:28.288Z"
   },
   {
    "duration": 27,
    "start_time": "2022-02-03T19:01:36.087Z"
   },
   {
    "duration": 28,
    "start_time": "2022-02-03T19:01:46.349Z"
   },
   {
    "duration": 673,
    "start_time": "2022-02-03T19:02:10.122Z"
   },
   {
    "duration": 17,
    "start_time": "2022-02-03T19:02:10.797Z"
   },
   {
    "duration": 9,
    "start_time": "2022-02-03T19:02:10.816Z"
   },
   {
    "duration": 204,
    "start_time": "2022-02-03T19:02:10.828Z"
   },
   {
    "duration": -135,
    "start_time": "2022-02-03T19:02:11.169Z"
   },
   {
    "duration": -136,
    "start_time": "2022-02-03T19:02:11.171Z"
   },
   {
    "duration": -138,
    "start_time": "2022-02-03T19:02:11.173Z"
   },
   {
    "duration": -138,
    "start_time": "2022-02-03T19:02:11.174Z"
   },
   {
    "duration": -138,
    "start_time": "2022-02-03T19:02:11.175Z"
   },
   {
    "duration": -139,
    "start_time": "2022-02-03T19:02:11.177Z"
   },
   {
    "duration": -139,
    "start_time": "2022-02-03T19:02:11.178Z"
   },
   {
    "duration": -140,
    "start_time": "2022-02-03T19:02:11.180Z"
   },
   {
    "duration": -141,
    "start_time": "2022-02-03T19:02:11.182Z"
   },
   {
    "duration": -142,
    "start_time": "2022-02-03T19:02:11.183Z"
   },
   {
    "duration": -174,
    "start_time": "2022-02-03T19:02:11.216Z"
   },
   {
    "duration": -176,
    "start_time": "2022-02-03T19:02:11.219Z"
   },
   {
    "duration": -177,
    "start_time": "2022-02-03T19:02:11.221Z"
   },
   {
    "duration": -178,
    "start_time": "2022-02-03T19:02:11.223Z"
   },
   {
    "duration": 26,
    "start_time": "2022-02-03T19:02:19.953Z"
   },
   {
    "duration": 38,
    "start_time": "2022-02-03T19:03:26.889Z"
   },
   {
    "duration": 25,
    "start_time": "2022-02-03T19:03:31.757Z"
   },
   {
    "duration": 25,
    "start_time": "2022-02-03T19:03:41.827Z"
   },
   {
    "duration": 629,
    "start_time": "2022-02-03T19:04:32.808Z"
   },
   {
    "duration": 17,
    "start_time": "2022-02-03T19:04:33.439Z"
   },
   {
    "duration": 10,
    "start_time": "2022-02-03T19:04:33.460Z"
   },
   {
    "duration": 22,
    "start_time": "2022-02-03T19:04:33.472Z"
   },
   {
    "duration": 7,
    "start_time": "2022-02-03T19:04:33.496Z"
   },
   {
    "duration": 183,
    "start_time": "2022-02-03T19:04:33.504Z"
   },
   {
    "duration": -36,
    "start_time": "2022-02-03T19:04:33.725Z"
   },
   {
    "duration": -37,
    "start_time": "2022-02-03T19:04:33.727Z"
   },
   {
    "duration": -37,
    "start_time": "2022-02-03T19:04:33.728Z"
   },
   {
    "duration": -38,
    "start_time": "2022-02-03T19:04:33.730Z"
   },
   {
    "duration": -39,
    "start_time": "2022-02-03T19:04:33.732Z"
   },
   {
    "duration": -39,
    "start_time": "2022-02-03T19:04:33.733Z"
   },
   {
    "duration": -40,
    "start_time": "2022-02-03T19:04:33.735Z"
   },
   {
    "duration": -41,
    "start_time": "2022-02-03T19:04:33.737Z"
   },
   {
    "duration": -42,
    "start_time": "2022-02-03T19:04:33.739Z"
   },
   {
    "duration": -43,
    "start_time": "2022-02-03T19:04:33.741Z"
   },
   {
    "duration": -44,
    "start_time": "2022-02-03T19:04:33.743Z"
   },
   {
    "duration": -44,
    "start_time": "2022-02-03T19:04:33.744Z"
   },
   {
    "duration": 215,
    "start_time": "2022-02-03T19:04:50.626Z"
   },
   {
    "duration": 25,
    "start_time": "2022-02-03T19:04:57.345Z"
   },
   {
    "duration": 26,
    "start_time": "2022-02-03T19:05:34.959Z"
   },
   {
    "duration": 25,
    "start_time": "2022-02-03T19:05:39.951Z"
   },
   {
    "duration": 34,
    "start_time": "2022-02-03T19:05:44.974Z"
   },
   {
    "duration": 26,
    "start_time": "2022-02-03T19:05:46.781Z"
   },
   {
    "duration": 26,
    "start_time": "2022-02-03T19:06:19.407Z"
   },
   {
    "duration": 26,
    "start_time": "2022-02-03T19:06:22.438Z"
   },
   {
    "duration": 28,
    "start_time": "2022-02-03T19:06:27.816Z"
   },
   {
    "duration": 26,
    "start_time": "2022-02-03T19:06:29.695Z"
   },
   {
    "duration": 175,
    "start_time": "2022-02-03T19:06:48.012Z"
   },
   {
    "duration": 740,
    "start_time": "2022-02-03T19:06:52.912Z"
   },
   {
    "duration": 17,
    "start_time": "2022-02-03T19:06:53.654Z"
   },
   {
    "duration": 11,
    "start_time": "2022-02-03T19:06:53.674Z"
   },
   {
    "duration": 27,
    "start_time": "2022-02-03T19:06:53.687Z"
   },
   {
    "duration": 6,
    "start_time": "2022-02-03T19:06:53.715Z"
   },
   {
    "duration": 189,
    "start_time": "2022-02-03T19:06:53.723Z"
   },
   {
    "duration": -31,
    "start_time": "2022-02-03T19:06:53.945Z"
   },
   {
    "duration": -32,
    "start_time": "2022-02-03T19:06:53.947Z"
   },
   {
    "duration": -37,
    "start_time": "2022-02-03T19:06:53.953Z"
   },
   {
    "duration": -45,
    "start_time": "2022-02-03T19:06:53.962Z"
   },
   {
    "duration": -82,
    "start_time": "2022-02-03T19:06:54.000Z"
   },
   {
    "duration": -83,
    "start_time": "2022-02-03T19:06:54.002Z"
   },
   {
    "duration": -84,
    "start_time": "2022-02-03T19:06:54.004Z"
   },
   {
    "duration": -84,
    "start_time": "2022-02-03T19:06:54.005Z"
   },
   {
    "duration": -85,
    "start_time": "2022-02-03T19:06:54.007Z"
   },
   {
    "duration": -85,
    "start_time": "2022-02-03T19:06:54.008Z"
   },
   {
    "duration": -86,
    "start_time": "2022-02-03T19:06:54.010Z"
   },
   {
    "duration": -86,
    "start_time": "2022-02-03T19:06:54.011Z"
   },
   {
    "duration": 138,
    "start_time": "2022-02-03T19:07:13.626Z"
   },
   {
    "duration": 637,
    "start_time": "2022-02-03T19:07:20.979Z"
   },
   {
    "duration": 18,
    "start_time": "2022-02-03T19:07:21.618Z"
   },
   {
    "duration": 13,
    "start_time": "2022-02-03T19:07:21.637Z"
   },
   {
    "duration": 224,
    "start_time": "2022-02-03T19:07:21.652Z"
   },
   {
    "duration": -78,
    "start_time": "2022-02-03T19:07:21.957Z"
   },
   {
    "duration": -83,
    "start_time": "2022-02-03T19:07:21.963Z"
   },
   {
    "duration": -84,
    "start_time": "2022-02-03T19:07:21.965Z"
   },
   {
    "duration": -128,
    "start_time": "2022-02-03T19:07:22.011Z"
   },
   {
    "duration": -130,
    "start_time": "2022-02-03T19:07:22.014Z"
   },
   {
    "duration": -131,
    "start_time": "2022-02-03T19:07:22.016Z"
   },
   {
    "duration": -130,
    "start_time": "2022-02-03T19:07:22.017Z"
   },
   {
    "duration": -131,
    "start_time": "2022-02-03T19:07:22.019Z"
   },
   {
    "duration": -131,
    "start_time": "2022-02-03T19:07:22.020Z"
   },
   {
    "duration": -130,
    "start_time": "2022-02-03T19:07:22.021Z"
   },
   {
    "duration": -131,
    "start_time": "2022-02-03T19:07:22.023Z"
   },
   {
    "duration": -131,
    "start_time": "2022-02-03T19:07:22.025Z"
   },
   {
    "duration": -132,
    "start_time": "2022-02-03T19:07:22.027Z"
   },
   {
    "duration": -131,
    "start_time": "2022-02-03T19:07:22.028Z"
   },
   {
    "duration": 28,
    "start_time": "2022-02-03T19:07:50.011Z"
   },
   {
    "duration": 655,
    "start_time": "2022-02-03T19:07:55.884Z"
   },
   {
    "duration": 16,
    "start_time": "2022-02-03T19:07:56.541Z"
   },
   {
    "duration": 10,
    "start_time": "2022-02-03T19:07:56.559Z"
   },
   {
    "duration": 23,
    "start_time": "2022-02-03T19:07:56.571Z"
   },
   {
    "duration": 6,
    "start_time": "2022-02-03T19:07:56.596Z"
   },
   {
    "duration": 183,
    "start_time": "2022-02-03T19:07:56.603Z"
   },
   {
    "duration": -37,
    "start_time": "2022-02-03T19:07:56.825Z"
   },
   {
    "duration": -38,
    "start_time": "2022-02-03T19:07:56.827Z"
   },
   {
    "duration": -38,
    "start_time": "2022-02-03T19:07:56.828Z"
   },
   {
    "duration": -84,
    "start_time": "2022-02-03T19:07:56.875Z"
   },
   {
    "duration": -83,
    "start_time": "2022-02-03T19:07:56.876Z"
   },
   {
    "duration": -84,
    "start_time": "2022-02-03T19:07:56.878Z"
   },
   {
    "duration": -84,
    "start_time": "2022-02-03T19:07:56.879Z"
   },
   {
    "duration": -90,
    "start_time": "2022-02-03T19:07:56.886Z"
   },
   {
    "duration": -92,
    "start_time": "2022-02-03T19:07:56.889Z"
   },
   {
    "duration": -94,
    "start_time": "2022-02-03T19:07:56.891Z"
   },
   {
    "duration": -94,
    "start_time": "2022-02-03T19:07:56.892Z"
   },
   {
    "duration": -95,
    "start_time": "2022-02-03T19:07:56.894Z"
   },
   {
    "duration": 345,
    "start_time": "2022-02-03T19:20:29.463Z"
   },
   {
    "duration": 446,
    "start_time": "2022-02-03T19:20:47.961Z"
   },
   {
    "duration": 570,
    "start_time": "2022-02-03T19:21:05.355Z"
   },
   {
    "duration": 578,
    "start_time": "2022-02-03T19:21:26.669Z"
   },
   {
    "duration": 518,
    "start_time": "2022-02-03T19:25:16.645Z"
   },
   {
    "duration": 492,
    "start_time": "2022-02-03T19:26:59.445Z"
   },
   {
    "duration": 746,
    "start_time": "2022-02-03T19:27:10.184Z"
   },
   {
    "duration": 19,
    "start_time": "2022-02-03T19:27:10.932Z"
   },
   {
    "duration": 12,
    "start_time": "2022-02-03T19:27:10.953Z"
   },
   {
    "duration": 393,
    "start_time": "2022-02-03T19:27:10.967Z"
   },
   {
    "duration": 7,
    "start_time": "2022-02-03T19:27:11.363Z"
   },
   {
    "duration": 200,
    "start_time": "2022-02-03T19:27:11.372Z"
   },
   {
    "duration": 33,
    "start_time": "2022-02-03T19:27:11.541Z"
   },
   {
    "duration": 31,
    "start_time": "2022-02-03T19:27:11.545Z"
   },
   {
    "duration": 31,
    "start_time": "2022-02-03T19:27:11.546Z"
   },
   {
    "duration": -8,
    "start_time": "2022-02-03T19:27:11.585Z"
   },
   {
    "duration": -10,
    "start_time": "2022-02-03T19:27:11.588Z"
   },
   {
    "duration": -11,
    "start_time": "2022-02-03T19:27:11.590Z"
   },
   {
    "duration": -11,
    "start_time": "2022-02-03T19:27:11.591Z"
   },
   {
    "duration": -11,
    "start_time": "2022-02-03T19:27:11.592Z"
   },
   {
    "duration": -12,
    "start_time": "2022-02-03T19:27:11.594Z"
   },
   {
    "duration": -12,
    "start_time": "2022-02-03T19:27:11.595Z"
   },
   {
    "duration": -13,
    "start_time": "2022-02-03T19:27:11.597Z"
   },
   {
    "duration": -19,
    "start_time": "2022-02-03T19:27:11.603Z"
   },
   {
    "duration": 480,
    "start_time": "2022-02-03T19:27:26.905Z"
   },
   {
    "duration": 361,
    "start_time": "2022-02-04T17:46:23.006Z"
   },
   {
    "duration": 1110,
    "start_time": "2022-02-04T17:46:28.268Z"
   },
   {
    "duration": 29,
    "start_time": "2022-02-04T17:46:29.381Z"
   },
   {
    "duration": 24,
    "start_time": "2022-02-04T17:46:29.412Z"
   },
   {
    "duration": 1011,
    "start_time": "2022-02-04T17:46:29.438Z"
   },
   {
    "duration": -496,
    "start_time": "2022-02-04T17:46:30.948Z"
   },
   {
    "duration": -497,
    "start_time": "2022-02-04T17:46:30.951Z"
   },
   {
    "duration": -535,
    "start_time": "2022-02-04T17:46:30.990Z"
   },
   {
    "duration": -536,
    "start_time": "2022-02-04T17:46:30.993Z"
   },
   {
    "duration": -537,
    "start_time": "2022-02-04T17:46:30.995Z"
   },
   {
    "duration": -537,
    "start_time": "2022-02-04T17:46:30.996Z"
   },
   {
    "duration": -536,
    "start_time": "2022-02-04T17:46:30.997Z"
   },
   {
    "duration": -537,
    "start_time": "2022-02-04T17:46:30.999Z"
   },
   {
    "duration": -536,
    "start_time": "2022-02-04T17:46:31.000Z"
   },
   {
    "duration": -536,
    "start_time": "2022-02-04T17:46:31.001Z"
   },
   {
    "duration": -536,
    "start_time": "2022-02-04T17:46:31.003Z"
   },
   {
    "duration": -536,
    "start_time": "2022-02-04T17:46:31.004Z"
   },
   {
    "duration": -535,
    "start_time": "2022-02-04T17:46:31.005Z"
   },
   {
    "duration": -535,
    "start_time": "2022-02-04T17:46:31.007Z"
   },
   {
    "duration": 3931,
    "start_time": "2022-02-04T17:46:43.375Z"
   },
   {
    "duration": -540,
    "start_time": "2022-02-04T17:46:47.849Z"
   },
   {
    "duration": -541,
    "start_time": "2022-02-04T17:46:47.851Z"
   },
   {
    "duration": -540,
    "start_time": "2022-02-04T17:46:47.852Z"
   },
   {
    "duration": 3755,
    "start_time": "2022-02-04T17:46:55.037Z"
   },
   {
    "duration": -540,
    "start_time": "2022-02-04T17:46:59.335Z"
   },
   {
    "duration": -540,
    "start_time": "2022-02-04T17:46:59.336Z"
   },
   {
    "duration": 297,
    "start_time": "2022-02-04T17:46:59.014Z"
   },
   {
    "duration": 346,
    "start_time": "2022-02-08T13:23:50.047Z"
   },
   {
    "duration": 835,
    "start_time": "2022-02-08T13:24:00.614Z"
   },
   {
    "duration": 16,
    "start_time": "2022-02-08T13:24:01.727Z"
   },
   {
    "duration": 11,
    "start_time": "2022-02-08T13:24:04.102Z"
   },
   {
    "duration": 4,
    "start_time": "2022-02-08T13:24:07.537Z"
   },
   {
    "duration": 282,
    "start_time": "2022-02-08T13:24:22.212Z"
   },
   {
    "duration": 3,
    "start_time": "2022-02-08T13:24:32.315Z"
   },
   {
    "duration": 95,
    "start_time": "2022-02-08T13:24:52.524Z"
   },
   {
    "duration": 4,
    "start_time": "2022-02-08T13:24:55.061Z"
   },
   {
    "duration": 6,
    "start_time": "2022-02-08T13:27:29.222Z"
   },
   {
    "duration": 5,
    "start_time": "2022-02-08T13:27:31.642Z"
   },
   {
    "duration": 4,
    "start_time": "2022-02-08T13:47:18.932Z"
   },
   {
    "duration": 23,
    "start_time": "2022-02-08T13:48:11.431Z"
   },
   {
    "duration": 23,
    "start_time": "2022-02-08T13:48:21.644Z"
   },
   {
    "duration": 79,
    "start_time": "2022-02-08T13:48:47.048Z"
   },
   {
    "duration": 4,
    "start_time": "2022-02-08T13:48:55.376Z"
   },
   {
    "duration": 23,
    "start_time": "2022-02-08T13:48:58.104Z"
   },
   {
    "duration": 3,
    "start_time": "2022-02-08T13:50:19.935Z"
   },
   {
    "duration": 22,
    "start_time": "2022-02-08T13:50:36.855Z"
   },
   {
    "duration": 24,
    "start_time": "2022-02-08T13:50:45.110Z"
   },
   {
    "duration": 3,
    "start_time": "2022-02-08T13:51:32.716Z"
   },
   {
    "duration": 4,
    "start_time": "2022-02-08T13:52:03.964Z"
   },
   {
    "duration": 22,
    "start_time": "2022-02-08T13:52:05.555Z"
   },
   {
    "duration": 22,
    "start_time": "2022-02-08T13:52:12.514Z"
   },
   {
    "duration": 3,
    "start_time": "2022-02-08T13:52:20.668Z"
   },
   {
    "duration": 23,
    "start_time": "2022-02-08T13:52:21.681Z"
   },
   {
    "duration": 4,
    "start_time": "2022-02-08T13:52:50.205Z"
   },
   {
    "duration": 24,
    "start_time": "2022-02-08T13:52:51.319Z"
   },
   {
    "duration": 4,
    "start_time": "2022-02-08T13:53:04.462Z"
   },
   {
    "duration": 23,
    "start_time": "2022-02-08T13:53:05.642Z"
   },
   {
    "duration": 4,
    "start_time": "2022-02-08T13:54:31.244Z"
   },
   {
    "duration": 22,
    "start_time": "2022-02-08T13:54:33.272Z"
   },
   {
    "duration": 8,
    "start_time": "2022-02-08T13:54:52.277Z"
   },
   {
    "duration": 3,
    "start_time": "2022-02-08T13:55:45.770Z"
   },
   {
    "duration": 311,
    "start_time": "2022-02-08T13:56:03.356Z"
   },
   {
    "duration": 280,
    "start_time": "2022-02-08T13:56:04.482Z"
   },
   {
    "duration": 5,
    "start_time": "2022-02-08T13:56:29.750Z"
   },
   {
    "duration": 987,
    "start_time": "2022-02-08T13:58:16.516Z"
   },
   {
    "duration": -17,
    "start_time": "2022-02-08T13:58:17.521Z"
   },
   {
    "duration": 1015,
    "start_time": "2022-02-08T13:58:54.844Z"
   },
   {
    "duration": 1161,
    "start_time": "2022-02-08T13:59:59.270Z"
   },
   {
    "duration": 1009,
    "start_time": "2022-02-08T14:00:31.380Z"
   },
   {
    "duration": 1238,
    "start_time": "2022-02-08T14:00:44.416Z"
   },
   {
    "duration": 972,
    "start_time": "2022-02-08T14:00:50.340Z"
   },
   {
    "duration": 3,
    "start_time": "2022-02-08T14:02:45.120Z"
   },
   {
    "duration": 992,
    "start_time": "2022-02-08T14:02:47.686Z"
   },
   {
    "duration": 3,
    "start_time": "2022-02-08T14:07:52.011Z"
   },
   {
    "duration": 3,
    "start_time": "2022-02-08T14:07:55.835Z"
   },
   {
    "duration": 3254,
    "start_time": "2022-02-08T14:08:41.152Z"
   },
   {
    "duration": 2,
    "start_time": "2022-02-08T14:09:38.704Z"
   },
   {
    "duration": 3672,
    "start_time": "2022-02-08T14:09:57.832Z"
   },
   {
    "duration": 2,
    "start_time": "2022-02-08T14:10:16.604Z"
   },
   {
    "duration": 3550,
    "start_time": "2022-02-08T14:10:17.981Z"
   },
   {
    "duration": 3292,
    "start_time": "2022-02-08T14:12:01.128Z"
   },
   {
    "duration": -69,
    "start_time": "2022-02-08T14:12:04.491Z"
   },
   {
    "duration": 3737,
    "start_time": "2022-02-08T14:12:32.991Z"
   },
   {
    "duration": -70,
    "start_time": "2022-02-08T14:12:36.800Z"
   },
   {
    "duration": 388,
    "start_time": "2022-02-08T14:12:55.136Z"
   },
   {
    "duration": 10,
    "start_time": "2022-02-08T14:12:56.980Z"
   },
   {
    "duration": 11,
    "start_time": "2022-02-08T14:12:58.926Z"
   },
   {
    "duration": 4,
    "start_time": "2022-02-08T14:13:01.625Z"
   },
   {
    "duration": 5,
    "start_time": "2022-02-08T14:13:02.659Z"
   },
   {
    "duration": 3,
    "start_time": "2022-02-08T14:13:03.905Z"
   },
   {
    "duration": 3,
    "start_time": "2022-02-08T14:13:27.913Z"
   },
   {
    "duration": 313,
    "start_time": "2022-02-08T14:13:28.965Z"
   },
   {
    "duration": 23,
    "start_time": "2022-02-08T14:13:33.441Z"
   },
   {
    "duration": 3,
    "start_time": "2022-02-08T14:13:58.944Z"
   },
   {
    "duration": 332,
    "start_time": "2022-02-08T14:14:00.030Z"
   },
   {
    "duration": 24,
    "start_time": "2022-02-08T14:14:01.431Z"
   },
   {
    "duration": 815,
    "start_time": "2022-02-08T14:15:24.760Z"
   },
   {
    "duration": 16,
    "start_time": "2022-02-08T14:15:25.577Z"
   },
   {
    "duration": 9,
    "start_time": "2022-02-08T14:15:25.598Z"
   },
   {
    "duration": 3,
    "start_time": "2022-02-08T14:15:25.609Z"
   },
   {
    "duration": 359,
    "start_time": "2022-02-08T14:15:25.613Z"
   },
   {
    "duration": 26,
    "start_time": "2022-02-08T14:15:25.974Z"
   },
   {
    "duration": 6,
    "start_time": "2022-02-08T14:15:26.003Z"
   },
   {
    "duration": 317,
    "start_time": "2022-02-08T14:15:26.011Z"
   },
   {
    "duration": -26,
    "start_time": "2022-02-08T14:15:26.356Z"
   },
   {
    "duration": -28,
    "start_time": "2022-02-08T14:15:26.359Z"
   },
   {
    "duration": -29,
    "start_time": "2022-02-08T14:15:26.360Z"
   },
   {
    "duration": -30,
    "start_time": "2022-02-08T14:15:26.362Z"
   },
   {
    "duration": -31,
    "start_time": "2022-02-08T14:15:26.364Z"
   },
   {
    "duration": -31,
    "start_time": "2022-02-08T14:15:26.365Z"
   },
   {
    "duration": -59,
    "start_time": "2022-02-08T14:15:26.394Z"
   },
   {
    "duration": -60,
    "start_time": "2022-02-08T14:15:26.395Z"
   },
   {
    "duration": -61,
    "start_time": "2022-02-08T14:15:26.397Z"
   },
   {
    "duration": -62,
    "start_time": "2022-02-08T14:15:26.399Z"
   },
   {
    "duration": -62,
    "start_time": "2022-02-08T14:15:26.400Z"
   },
   {
    "duration": -63,
    "start_time": "2022-02-08T14:15:26.402Z"
   },
   {
    "duration": 227,
    "start_time": "2022-02-08T14:15:29.672Z"
   },
   {
    "duration": 12,
    "start_time": "2022-02-08T14:15:30.380Z"
   },
   {
    "duration": 10,
    "start_time": "2022-02-08T14:15:31.525Z"
   },
   {
    "duration": 3,
    "start_time": "2022-02-08T14:15:40.247Z"
   },
   {
    "duration": 329,
    "start_time": "2022-02-08T14:15:40.833Z"
   },
   {
    "duration": 23,
    "start_time": "2022-02-08T14:15:41.797Z"
   },
   {
    "duration": 23,
    "start_time": "2022-02-08T14:15:53.581Z"
   },
   {
    "duration": 327,
    "start_time": "2022-02-08T14:16:51.137Z"
   },
   {
    "duration": 284,
    "start_time": "2022-02-08T14:16:51.805Z"
   },
   {
    "duration": 1134,
    "start_time": "2022-02-08T14:17:04.541Z"
   },
   {
    "duration": -66,
    "start_time": "2022-02-08T14:17:05.743Z"
   },
   {
    "duration": 817,
    "start_time": "2022-02-08T14:17:12.466Z"
   },
   {
    "duration": 16,
    "start_time": "2022-02-08T14:17:13.285Z"
   },
   {
    "duration": 9,
    "start_time": "2022-02-08T14:17:13.303Z"
   },
   {
    "duration": 3,
    "start_time": "2022-02-08T14:17:13.314Z"
   },
   {
    "duration": 325,
    "start_time": "2022-02-08T14:17:13.318Z"
   },
   {
    "duration": 28,
    "start_time": "2022-02-08T14:17:13.644Z"
   },
   {
    "duration": 6,
    "start_time": "2022-02-08T14:17:13.674Z"
   },
   {
    "duration": 328,
    "start_time": "2022-02-08T14:17:13.681Z"
   },
   {
    "duration": -35,
    "start_time": "2022-02-08T14:17:14.047Z"
   },
   {
    "duration": -38,
    "start_time": "2022-02-08T14:17:14.051Z"
   },
   {
    "duration": -39,
    "start_time": "2022-02-08T14:17:14.053Z"
   },
   {
    "duration": -75,
    "start_time": "2022-02-08T14:17:14.090Z"
   },
   {
    "duration": -78,
    "start_time": "2022-02-08T14:17:14.094Z"
   },
   {
    "duration": -80,
    "start_time": "2022-02-08T14:17:14.096Z"
   },
   {
    "duration": -80,
    "start_time": "2022-02-08T14:17:14.097Z"
   },
   {
    "duration": -81,
    "start_time": "2022-02-08T14:17:14.099Z"
   },
   {
    "duration": -82,
    "start_time": "2022-02-08T14:17:14.101Z"
   },
   {
    "duration": -82,
    "start_time": "2022-02-08T14:17:14.102Z"
   },
   {
    "duration": -86,
    "start_time": "2022-02-08T14:17:14.107Z"
   },
   {
    "duration": -89,
    "start_time": "2022-02-08T14:17:14.111Z"
   },
   {
    "duration": 6,
    "start_time": "2022-02-08T14:17:35.641Z"
   },
   {
    "duration": 5,
    "start_time": "2022-02-08T14:17:47.743Z"
   },
   {
    "duration": 25,
    "start_time": "2022-02-08T14:19:00.862Z"
   },
   {
    "duration": 26,
    "start_time": "2022-02-08T14:19:15.619Z"
   },
   {
    "duration": 26,
    "start_time": "2022-02-08T14:19:39.370Z"
   },
   {
    "duration": 3,
    "start_time": "2022-02-08T14:24:47.210Z"
   },
   {
    "duration": 426,
    "start_time": "2022-02-08T14:24:48.052Z"
   },
   {
    "duration": 25,
    "start_time": "2022-02-08T14:24:48.750Z"
   },
   {
    "duration": 28,
    "start_time": "2022-02-08T14:24:56.941Z"
   },
   {
    "duration": 4,
    "start_time": "2022-02-08T14:26:07.901Z"
   },
   {
    "duration": 341,
    "start_time": "2022-02-08T14:26:08.378Z"
   },
   {
    "duration": 26,
    "start_time": "2022-02-08T14:26:11.050Z"
   },
   {
    "duration": 319,
    "start_time": "2022-02-08T14:26:21.792Z"
   },
   {
    "duration": 292,
    "start_time": "2022-02-08T14:26:22.360Z"
   },
   {
    "duration": 270,
    "start_time": "2022-02-08T14:26:35.953Z"
   },
   {
    "duration": 1210,
    "start_time": "2022-02-08T14:26:37.651Z"
   },
   {
    "duration": 1139,
    "start_time": "2022-02-08T14:26:52.447Z"
   },
   {
    "duration": 1062,
    "start_time": "2022-02-08T14:29:44.754Z"
   },
   {
    "duration": 263,
    "start_time": "2022-02-08T14:29:46.020Z"
   },
   {
    "duration": 4,
    "start_time": "2022-02-08T14:30:34.036Z"
   },
   {
    "duration": 1046,
    "start_time": "2022-02-08T14:30:34.745Z"
   },
   {
    "duration": 835,
    "start_time": "2022-02-08T14:30:47.717Z"
   },
   {
    "duration": 17,
    "start_time": "2022-02-08T14:30:48.554Z"
   },
   {
    "duration": 28,
    "start_time": "2022-02-08T14:30:48.574Z"
   },
   {
    "duration": 3,
    "start_time": "2022-02-08T14:30:48.604Z"
   },
   {
    "duration": 986,
    "start_time": "2022-02-08T14:30:48.608Z"
   },
   {
    "duration": -63,
    "start_time": "2022-02-08T14:30:49.660Z"
   },
   {
    "duration": -66,
    "start_time": "2022-02-08T14:30:49.664Z"
   },
   {
    "duration": -67,
    "start_time": "2022-02-08T14:30:49.666Z"
   },
   {
    "duration": -73,
    "start_time": "2022-02-08T14:30:49.674Z"
   },
   {
    "duration": -76,
    "start_time": "2022-02-08T14:30:49.678Z"
   },
   {
    "duration": -76,
    "start_time": "2022-02-08T14:30:49.680Z"
   },
   {
    "duration": -78,
    "start_time": "2022-02-08T14:30:49.683Z"
   },
   {
    "duration": -79,
    "start_time": "2022-02-08T14:30:49.686Z"
   },
   {
    "duration": -88,
    "start_time": "2022-02-08T14:30:49.696Z"
   },
   {
    "duration": -90,
    "start_time": "2022-02-08T14:30:49.699Z"
   },
   {
    "duration": -90,
    "start_time": "2022-02-08T14:30:49.701Z"
   },
   {
    "duration": -94,
    "start_time": "2022-02-08T14:30:49.706Z"
   },
   {
    "duration": -96,
    "start_time": "2022-02-08T14:30:49.709Z"
   },
   {
    "duration": -96,
    "start_time": "2022-02-08T14:30:49.711Z"
   },
   {
    "duration": -97,
    "start_time": "2022-02-08T14:30:49.713Z"
   },
   {
    "duration": 326,
    "start_time": "2022-02-08T14:31:02.424Z"
   },
   {
    "duration": 25,
    "start_time": "2022-02-08T14:31:05.591Z"
   },
   {
    "duration": 3,
    "start_time": "2022-02-08T14:31:12.498Z"
   },
   {
    "duration": 359,
    "start_time": "2022-02-08T14:31:13.004Z"
   },
   {
    "duration": 24,
    "start_time": "2022-02-08T14:31:13.482Z"
   },
   {
    "duration": 15,
    "start_time": "2022-02-08T14:34:50.225Z"
   },
   {
    "duration": 26,
    "start_time": "2022-02-08T14:35:01.730Z"
   },
   {
    "duration": 27,
    "start_time": "2022-02-08T14:35:16.518Z"
   },
   {
    "duration": 8,
    "start_time": "2022-02-08T14:36:36.690Z"
   },
   {
    "duration": 26,
    "start_time": "2022-02-08T14:36:40.341Z"
   },
   {
    "duration": 25,
    "start_time": "2022-02-08T14:37:15.577Z"
   },
   {
    "duration": 26,
    "start_time": "2022-02-08T14:37:22.798Z"
   },
   {
    "duration": 714,
    "start_time": "2022-02-08T14:38:19.497Z"
   },
   {
    "duration": 17,
    "start_time": "2022-02-08T14:38:20.213Z"
   },
   {
    "duration": 10,
    "start_time": "2022-02-08T14:38:20.234Z"
   },
   {
    "duration": 3,
    "start_time": "2022-02-08T14:38:20.246Z"
   },
   {
    "duration": 22,
    "start_time": "2022-02-08T14:38:20.251Z"
   },
   {
    "duration": 24,
    "start_time": "2022-02-08T14:38:20.274Z"
   },
   {
    "duration": 2,
    "start_time": "2022-02-08T14:38:20.300Z"
   },
   {
    "duration": 26,
    "start_time": "2022-02-08T14:38:20.304Z"
   },
   {
    "duration": 48,
    "start_time": "2022-02-08T14:38:20.331Z"
   },
   {
    "duration": 6805,
    "start_time": "2022-02-08T14:38:20.380Z"
   },
   {
    "duration": -66,
    "start_time": "2022-02-08T14:38:27.253Z"
   },
   {
    "duration": -68,
    "start_time": "2022-02-08T14:38:27.256Z"
   },
   {
    "duration": -69,
    "start_time": "2022-02-08T14:38:27.258Z"
   },
   {
    "duration": -74,
    "start_time": "2022-02-08T14:38:27.264Z"
   },
   {
    "duration": -76,
    "start_time": "2022-02-08T14:38:27.267Z"
   },
   {
    "duration": -78,
    "start_time": "2022-02-08T14:38:27.270Z"
   },
   {
    "duration": -79,
    "start_time": "2022-02-08T14:38:27.272Z"
   },
   {
    "duration": -81,
    "start_time": "2022-02-08T14:38:27.275Z"
   },
   {
    "duration": -87,
    "start_time": "2022-02-08T14:38:27.282Z"
   },
   {
    "duration": -90,
    "start_time": "2022-02-08T14:38:27.286Z"
   },
   {
    "duration": -91,
    "start_time": "2022-02-08T14:38:27.288Z"
   },
   {
    "duration": -92,
    "start_time": "2022-02-08T14:38:27.290Z"
   },
   {
    "duration": -97,
    "start_time": "2022-02-08T14:38:27.296Z"
   },
   {
    "duration": 25,
    "start_time": "2022-02-08T14:38:34.195Z"
   },
   {
    "duration": 24,
    "start_time": "2022-02-08T14:38:52.732Z"
   },
   {
    "duration": 2,
    "start_time": "2022-02-08T14:38:54.751Z"
   },
   {
    "duration": 4,
    "start_time": "2022-02-08T14:39:11.869Z"
   },
   {
    "duration": 6,
    "start_time": "2022-02-08T14:39:12.346Z"
   },
   {
    "duration": 25,
    "start_time": "2022-02-08T14:39:12.916Z"
   },
   {
    "duration": 844,
    "start_time": "2022-02-08T14:39:25.246Z"
   },
   {
    "duration": 17,
    "start_time": "2022-02-08T14:39:26.092Z"
   },
   {
    "duration": 11,
    "start_time": "2022-02-08T14:39:26.110Z"
   },
   {
    "duration": 3,
    "start_time": "2022-02-08T14:39:26.122Z"
   },
   {
    "duration": 11,
    "start_time": "2022-02-08T14:39:26.126Z"
   },
   {
    "duration": 44,
    "start_time": "2022-02-08T14:39:26.139Z"
   },
   {
    "duration": 2,
    "start_time": "2022-02-08T14:39:26.184Z"
   },
   {
    "duration": 24,
    "start_time": "2022-02-08T14:39:26.188Z"
   },
   {
    "duration": 23,
    "start_time": "2022-02-08T14:39:26.214Z"
   },
   {
    "duration": 6771,
    "start_time": "2022-02-08T14:39:26.238Z"
   },
   {
    "duration": -68,
    "start_time": "2022-02-08T14:39:33.079Z"
   },
   {
    "duration": -69,
    "start_time": "2022-02-08T14:39:33.081Z"
   },
   {
    "duration": -70,
    "start_time": "2022-02-08T14:39:33.083Z"
   },
   {
    "duration": -70,
    "start_time": "2022-02-08T14:39:33.084Z"
   },
   {
    "duration": -70,
    "start_time": "2022-02-08T14:39:33.085Z"
   },
   {
    "duration": -72,
    "start_time": "2022-02-08T14:39:33.088Z"
   },
   {
    "duration": -78,
    "start_time": "2022-02-08T14:39:33.094Z"
   },
   {
    "duration": -80,
    "start_time": "2022-02-08T14:39:33.097Z"
   },
   {
    "duration": -81,
    "start_time": "2022-02-08T14:39:33.099Z"
   },
   {
    "duration": -81,
    "start_time": "2022-02-08T14:39:33.100Z"
   },
   {
    "duration": -83,
    "start_time": "2022-02-08T14:39:33.102Z"
   },
   {
    "duration": -83,
    "start_time": "2022-02-08T14:39:33.103Z"
   },
   {
    "duration": -88,
    "start_time": "2022-02-08T14:39:33.109Z"
   },
   {
    "duration": 3,
    "start_time": "2022-02-08T14:39:43.893Z"
   },
   {
    "duration": 6,
    "start_time": "2022-02-08T14:39:44.247Z"
   },
   {
    "duration": 26,
    "start_time": "2022-02-08T14:39:44.521Z"
   },
   {
    "duration": 774,
    "start_time": "2022-02-08T14:39:57.920Z"
   },
   {
    "duration": 17,
    "start_time": "2022-02-08T14:39:58.696Z"
   },
   {
    "duration": 25,
    "start_time": "2022-02-08T14:39:58.715Z"
   },
   {
    "duration": 11,
    "start_time": "2022-02-08T14:39:58.742Z"
   },
   {
    "duration": 30,
    "start_time": "2022-02-08T14:39:58.755Z"
   },
   {
    "duration": 23,
    "start_time": "2022-02-08T14:39:58.786Z"
   },
   {
    "duration": 3,
    "start_time": "2022-02-08T14:39:58.811Z"
   },
   {
    "duration": 36,
    "start_time": "2022-02-08T14:39:58.816Z"
   },
   {
    "duration": 28,
    "start_time": "2022-02-08T14:39:58.854Z"
   },
   {
    "duration": 18740,
    "start_time": "2022-02-08T14:39:58.884Z"
   },
   {
    "duration": -69,
    "start_time": "2022-02-08T14:40:17.695Z"
   },
   {
    "duration": -69,
    "start_time": "2022-02-08T14:40:17.696Z"
   },
   {
    "duration": -70,
    "start_time": "2022-02-08T14:40:17.698Z"
   },
   {
    "duration": -71,
    "start_time": "2022-02-08T14:40:17.700Z"
   },
   {
    "duration": -73,
    "start_time": "2022-02-08T14:40:17.702Z"
   },
   {
    "duration": -73,
    "start_time": "2022-02-08T14:40:17.703Z"
   },
   {
    "duration": -74,
    "start_time": "2022-02-08T14:40:17.705Z"
   },
   {
    "duration": -75,
    "start_time": "2022-02-08T14:40:17.706Z"
   },
   {
    "duration": -77,
    "start_time": "2022-02-08T14:40:17.709Z"
   },
   {
    "duration": -77,
    "start_time": "2022-02-08T14:40:17.710Z"
   },
   {
    "duration": -78,
    "start_time": "2022-02-08T14:40:17.712Z"
   },
   {
    "duration": -79,
    "start_time": "2022-02-08T14:40:17.713Z"
   },
   {
    "duration": -80,
    "start_time": "2022-02-08T14:40:17.715Z"
   },
   {
    "duration": -80,
    "start_time": "2022-02-08T14:40:17.717Z"
   },
   {
    "duration": -82,
    "start_time": "2022-02-08T14:40:17.719Z"
   },
   {
    "duration": -84,
    "start_time": "2022-02-08T14:40:17.722Z"
   },
   {
    "duration": 1224,
    "start_time": "2022-02-08T14:40:25.467Z"
   },
   {
    "duration": 16,
    "start_time": "2022-02-08T14:40:26.693Z"
   },
   {
    "duration": 11,
    "start_time": "2022-02-08T14:40:26.711Z"
   },
   {
    "duration": 2,
    "start_time": "2022-02-08T14:40:26.724Z"
   },
   {
    "duration": 13,
    "start_time": "2022-02-08T14:40:26.728Z"
   },
   {
    "duration": 51,
    "start_time": "2022-02-08T14:40:26.742Z"
   },
   {
    "duration": 2,
    "start_time": "2022-02-08T14:40:26.795Z"
   },
   {
    "duration": 26,
    "start_time": "2022-02-08T14:40:26.799Z"
   },
   {
    "duration": 55,
    "start_time": "2022-02-08T14:40:26.828Z"
   },
   {
    "duration": 16394,
    "start_time": "2022-02-08T14:40:26.884Z"
   },
   {
    "duration": -66,
    "start_time": "2022-02-08T14:40:43.346Z"
   },
   {
    "duration": -67,
    "start_time": "2022-02-08T14:40:43.347Z"
   },
   {
    "duration": -68,
    "start_time": "2022-02-08T14:40:43.349Z"
   },
   {
    "duration": -69,
    "start_time": "2022-02-08T14:40:43.351Z"
   },
   {
    "duration": -69,
    "start_time": "2022-02-08T14:40:43.352Z"
   },
   {
    "duration": -70,
    "start_time": "2022-02-08T14:40:43.354Z"
   },
   {
    "duration": -71,
    "start_time": "2022-02-08T14:40:43.356Z"
   },
   {
    "duration": -71,
    "start_time": "2022-02-08T14:40:43.357Z"
   },
   {
    "duration": -72,
    "start_time": "2022-02-08T14:40:43.359Z"
   },
   {
    "duration": -72,
    "start_time": "2022-02-08T14:40:43.360Z"
   },
   {
    "duration": -72,
    "start_time": "2022-02-08T14:40:43.361Z"
   },
   {
    "duration": -74,
    "start_time": "2022-02-08T14:40:43.364Z"
   },
   {
    "duration": -75,
    "start_time": "2022-02-08T14:40:43.366Z"
   },
   {
    "duration": -76,
    "start_time": "2022-02-08T14:40:43.367Z"
   },
   {
    "duration": -76,
    "start_time": "2022-02-08T14:40:43.368Z"
   },
   {
    "duration": 183,
    "start_time": "2022-02-08T14:41:15.441Z"
   },
   {
    "duration": 11,
    "start_time": "2022-02-08T14:41:16.727Z"
   },
   {
    "duration": 11,
    "start_time": "2022-02-08T14:41:19.767Z"
   },
   {
    "duration": 3,
    "start_time": "2022-02-08T14:41:23.249Z"
   },
   {
    "duration": 10,
    "start_time": "2022-02-08T14:41:24.980Z"
   },
   {
    "duration": 23,
    "start_time": "2022-02-08T14:41:27.055Z"
   },
   {
    "duration": 24,
    "start_time": "2022-02-08T14:42:07.095Z"
   },
   {
    "duration": 25,
    "start_time": "2022-02-08T14:42:10.865Z"
   },
   {
    "duration": 3,
    "start_time": "2022-02-08T14:42:24.981Z"
   },
   {
    "duration": 7,
    "start_time": "2022-02-08T14:42:25.394Z"
   },
   {
    "duration": 26,
    "start_time": "2022-02-08T14:42:25.802Z"
   },
   {
    "duration": 14,
    "start_time": "2022-02-08T14:48:23.866Z"
   },
   {
    "duration": 25,
    "start_time": "2022-02-08T14:48:27.201Z"
   },
   {
    "duration": 25,
    "start_time": "2022-02-08T14:48:34.140Z"
   },
   {
    "duration": 24,
    "start_time": "2022-02-08T14:48:44.979Z"
   },
   {
    "duration": 2,
    "start_time": "2022-02-08T14:48:45.689Z"
   },
   {
    "duration": 10,
    "start_time": "2022-02-08T14:51:02.832Z"
   },
   {
    "duration": 24,
    "start_time": "2022-02-08T14:51:03.260Z"
   },
   {
    "duration": 24,
    "start_time": "2022-02-08T14:51:16.423Z"
   },
   {
    "duration": 6,
    "start_time": "2022-02-08T14:51:46.642Z"
   },
   {
    "duration": 25,
    "start_time": "2022-02-08T14:51:47.456Z"
   },
   {
    "duration": 7,
    "start_time": "2022-02-08T14:51:51.407Z"
   },
   {
    "duration": 25,
    "start_time": "2022-02-08T14:51:51.783Z"
   },
   {
    "duration": 6,
    "start_time": "2022-02-08T14:52:04.201Z"
   },
   {
    "duration": 2,
    "start_time": "2022-02-08T14:52:11.543Z"
   },
   {
    "duration": 3,
    "start_time": "2022-02-08T14:52:18.391Z"
   },
   {
    "duration": 714,
    "start_time": "2022-02-08T14:52:25.703Z"
   },
   {
    "duration": 16,
    "start_time": "2022-02-08T14:52:26.419Z"
   },
   {
    "duration": 10,
    "start_time": "2022-02-08T14:52:26.436Z"
   },
   {
    "duration": 2,
    "start_time": "2022-02-08T14:52:26.447Z"
   },
   {
    "duration": 6,
    "start_time": "2022-02-08T14:52:26.451Z"
   },
   {
    "duration": 21,
    "start_time": "2022-02-08T14:52:26.458Z"
   },
   {
    "duration": 2,
    "start_time": "2022-02-08T14:52:26.481Z"
   },
   {
    "duration": 24,
    "start_time": "2022-02-08T14:52:26.485Z"
   },
   {
    "duration": 2,
    "start_time": "2022-02-08T14:52:26.511Z"
   },
   {
    "duration": 26,
    "start_time": "2022-02-08T14:52:26.514Z"
   },
   {
    "duration": 53,
    "start_time": "2022-02-08T14:52:26.541Z"
   },
   {
    "duration": 6471,
    "start_time": "2022-02-08T14:52:26.595Z"
   },
   {
    "duration": -74,
    "start_time": "2022-02-08T14:52:33.142Z"
   },
   {
    "duration": -77,
    "start_time": "2022-02-08T14:52:33.145Z"
   },
   {
    "duration": -78,
    "start_time": "2022-02-08T14:52:33.147Z"
   },
   {
    "duration": -79,
    "start_time": "2022-02-08T14:52:33.149Z"
   },
   {
    "duration": -80,
    "start_time": "2022-02-08T14:52:33.151Z"
   },
   {
    "duration": -81,
    "start_time": "2022-02-08T14:52:33.153Z"
   },
   {
    "duration": -81,
    "start_time": "2022-02-08T14:52:33.154Z"
   },
   {
    "duration": -89,
    "start_time": "2022-02-08T14:52:33.163Z"
   },
   {
    "duration": -91,
    "start_time": "2022-02-08T14:52:33.166Z"
   },
   {
    "duration": -93,
    "start_time": "2022-02-08T14:52:33.169Z"
   },
   {
    "duration": -94,
    "start_time": "2022-02-08T14:52:33.171Z"
   },
   {
    "duration": -115,
    "start_time": "2022-02-08T14:52:33.193Z"
   },
   {
    "duration": -119,
    "start_time": "2022-02-08T14:52:33.198Z"
   },
   {
    "duration": 26,
    "start_time": "2022-02-08T14:52:36.751Z"
   },
   {
    "duration": 24,
    "start_time": "2022-02-08T14:52:41.234Z"
   },
   {
    "duration": 24,
    "start_time": "2022-02-08T14:53:08.279Z"
   },
   {
    "duration": 22,
    "start_time": "2022-02-08T14:53:12.299Z"
   },
   {
    "duration": 25,
    "start_time": "2022-02-08T14:53:15.694Z"
   },
   {
    "duration": 29,
    "start_time": "2022-02-08T14:53:30.863Z"
   },
   {
    "duration": 30,
    "start_time": "2022-02-08T14:54:17.215Z"
   },
   {
    "duration": 7,
    "start_time": "2022-02-08T14:54:26.361Z"
   },
   {
    "duration": 29,
    "start_time": "2022-02-08T14:54:27.205Z"
   },
   {
    "duration": 24,
    "start_time": "2022-02-08T15:03:09.295Z"
   },
   {
    "duration": 7,
    "start_time": "2022-02-08T15:04:03.925Z"
   },
   {
    "duration": 6782,
    "start_time": "2022-02-08T15:04:09.073Z"
   },
   {
    "duration": -78,
    "start_time": "2022-02-08T15:04:15.934Z"
   },
   {
    "duration": -82,
    "start_time": "2022-02-08T15:04:15.940Z"
   },
   {
    "duration": 844,
    "start_time": "2022-02-08T15:04:30.852Z"
   },
   {
    "duration": 16,
    "start_time": "2022-02-08T15:04:31.698Z"
   },
   {
    "duration": 23,
    "start_time": "2022-02-08T15:04:31.715Z"
   },
   {
    "duration": 11,
    "start_time": "2022-02-08T15:04:31.739Z"
   },
   {
    "duration": 9,
    "start_time": "2022-02-08T15:04:31.751Z"
   },
   {
    "duration": 6755,
    "start_time": "2022-02-08T15:04:31.762Z"
   },
   {
    "duration": -62,
    "start_time": "2022-02-08T15:04:38.582Z"
   },
   {
    "duration": -63,
    "start_time": "2022-02-08T15:04:38.584Z"
   },
   {
    "duration": -63,
    "start_time": "2022-02-08T15:04:38.585Z"
   },
   {
    "duration": -64,
    "start_time": "2022-02-08T15:04:38.587Z"
   },
   {
    "duration": -63,
    "start_time": "2022-02-08T15:04:38.588Z"
   },
   {
    "duration": -64,
    "start_time": "2022-02-08T15:04:38.590Z"
   },
   {
    "duration": -64,
    "start_time": "2022-02-08T15:04:38.591Z"
   },
   {
    "duration": -66,
    "start_time": "2022-02-08T15:04:38.593Z"
   },
   {
    "duration": -66,
    "start_time": "2022-02-08T15:04:38.594Z"
   },
   {
    "duration": -67,
    "start_time": "2022-02-08T15:04:38.596Z"
   },
   {
    "duration": -78,
    "start_time": "2022-02-08T15:04:38.608Z"
   },
   {
    "duration": -81,
    "start_time": "2022-02-08T15:04:38.612Z"
   },
   {
    "duration": -82,
    "start_time": "2022-02-08T15:04:38.614Z"
   },
   {
    "duration": -82,
    "start_time": "2022-02-08T15:04:38.615Z"
   },
   {
    "duration": -83,
    "start_time": "2022-02-08T15:04:38.617Z"
   },
   {
    "duration": -83,
    "start_time": "2022-02-08T15:04:38.618Z"
   },
   {
    "duration": -84,
    "start_time": "2022-02-08T15:04:38.620Z"
   },
   {
    "duration": -86,
    "start_time": "2022-02-08T15:04:38.622Z"
   },
   {
    "duration": -91,
    "start_time": "2022-02-08T15:04:38.628Z"
   },
   {
    "duration": -92,
    "start_time": "2022-02-08T15:04:38.630Z"
   },
   {
    "duration": 11,
    "start_time": "2022-02-08T15:04:39.246Z"
   },
   {
    "duration": 10,
    "start_time": "2022-02-08T15:04:41.063Z"
   },
   {
    "duration": 2,
    "start_time": "2022-02-08T15:04:44.937Z"
   },
   {
    "duration": 8,
    "start_time": "2022-02-08T15:04:46.211Z"
   },
   {
    "duration": 7128,
    "start_time": "2022-02-08T15:04:48.799Z"
   },
   {
    "duration": -64,
    "start_time": "2022-02-08T15:04:55.992Z"
   },
   {
    "duration": 7,
    "start_time": "2022-02-08T15:05:28.610Z"
   },
   {
    "duration": 6705,
    "start_time": "2022-02-08T15:05:29.363Z"
   },
   {
    "duration": 7247,
    "start_time": "2022-02-08T15:05:54.506Z"
   },
   {
    "duration": 11,
    "start_time": "2022-02-08T15:06:14.340Z"
   },
   {
    "duration": 794,
    "start_time": "2022-02-08T15:07:10.030Z"
   },
   {
    "duration": 17,
    "start_time": "2022-02-08T15:07:10.826Z"
   },
   {
    "duration": 10,
    "start_time": "2022-02-08T15:07:10.845Z"
   },
   {
    "duration": 2,
    "start_time": "2022-02-08T15:07:10.857Z"
   },
   {
    "duration": 14,
    "start_time": "2022-02-08T15:07:10.861Z"
   },
   {
    "duration": 11,
    "start_time": "2022-02-08T15:07:10.876Z"
   },
   {
    "duration": 7,
    "start_time": "2022-02-08T15:07:10.888Z"
   },
   {
    "duration": 302,
    "start_time": "2022-02-08T15:07:10.897Z"
   },
   {
    "duration": -36,
    "start_time": "2022-02-08T15:07:11.237Z"
   },
   {
    "duration": -40,
    "start_time": "2022-02-08T15:07:11.242Z"
   },
   {
    "duration": -41,
    "start_time": "2022-02-08T15:07:11.244Z"
   },
   {
    "duration": -68,
    "start_time": "2022-02-08T15:07:11.271Z"
   },
   {
    "duration": -72,
    "start_time": "2022-02-08T15:07:11.276Z"
   },
   {
    "duration": -75,
    "start_time": "2022-02-08T15:07:11.280Z"
   },
   {
    "duration": -75,
    "start_time": "2022-02-08T15:07:11.281Z"
   },
   {
    "duration": -77,
    "start_time": "2022-02-08T15:07:11.283Z"
   },
   {
    "duration": -77,
    "start_time": "2022-02-08T15:07:11.284Z"
   },
   {
    "duration": -78,
    "start_time": "2022-02-08T15:07:11.286Z"
   },
   {
    "duration": -78,
    "start_time": "2022-02-08T15:07:11.287Z"
   },
   {
    "duration": -79,
    "start_time": "2022-02-08T15:07:11.289Z"
   },
   {
    "duration": -79,
    "start_time": "2022-02-08T15:07:11.290Z"
   },
   {
    "duration": -79,
    "start_time": "2022-02-08T15:07:11.291Z"
   },
   {
    "duration": -80,
    "start_time": "2022-02-08T15:07:11.293Z"
   },
   {
    "duration": -80,
    "start_time": "2022-02-08T15:07:11.294Z"
   },
   {
    "duration": -80,
    "start_time": "2022-02-08T15:07:11.295Z"
   },
   {
    "duration": 484,
    "start_time": "2022-02-08T15:07:14.330Z"
   },
   {
    "duration": 10,
    "start_time": "2022-02-08T15:07:15.203Z"
   },
   {
    "duration": 11,
    "start_time": "2022-02-08T15:07:17.499Z"
   },
   {
    "duration": 3,
    "start_time": "2022-02-08T15:07:20.249Z"
   },
   {
    "duration": 7,
    "start_time": "2022-02-08T15:07:20.859Z"
   },
   {
    "duration": 10,
    "start_time": "2022-02-08T15:07:22.534Z"
   },
   {
    "duration": 8,
    "start_time": "2022-02-08T15:07:24.025Z"
   },
   {
    "duration": 271,
    "start_time": "2022-02-08T15:07:24.748Z"
   },
   {
    "duration": 38,
    "start_time": "2022-02-08T15:07:31.081Z"
   },
   {
    "duration": 6506,
    "start_time": "2022-02-08T15:13:45.695Z"
   },
   {
    "duration": 238,
    "start_time": "2022-02-08T15:14:03.481Z"
   },
   {
    "duration": 12,
    "start_time": "2022-02-08T15:14:04.688Z"
   },
   {
    "duration": 13,
    "start_time": "2022-02-08T15:14:06.536Z"
   },
   {
    "duration": 3,
    "start_time": "2022-02-08T15:14:09.422Z"
   },
   {
    "duration": 8,
    "start_time": "2022-02-08T15:14:10.426Z"
   },
   {
    "duration": 85,
    "start_time": "2022-02-08T15:18:56.897Z"
   },
   {
    "duration": 10,
    "start_time": "2022-02-08T15:19:11.662Z"
   },
   {
    "duration": 7,
    "start_time": "2022-02-08T15:19:12.391Z"
   },
   {
    "duration": 26,
    "start_time": "2022-02-08T15:19:13.509Z"
   },
   {
    "duration": 16,
    "start_time": "2022-02-08T15:19:27.225Z"
   },
   {
    "duration": 90,
    "start_time": "2022-02-08T15:22:54.817Z"
   },
   {
    "duration": 15,
    "start_time": "2022-02-08T15:23:51.325Z"
   },
   {
    "duration": 7009,
    "start_time": "2022-02-08T15:25:02.061Z"
   },
   {
    "duration": 6778,
    "start_time": "2022-02-08T15:25:43.679Z"
   },
   {
    "duration": 810,
    "start_time": "2022-02-08T15:26:11.145Z"
   },
   {
    "duration": 19,
    "start_time": "2022-02-08T15:26:11.957Z"
   },
   {
    "duration": 11,
    "start_time": "2022-02-08T15:26:11.983Z"
   },
   {
    "duration": 7,
    "start_time": "2022-02-08T15:26:11.995Z"
   },
   {
    "duration": 5,
    "start_time": "2022-02-08T15:26:12.004Z"
   },
   {
    "duration": 9,
    "start_time": "2022-02-08T15:26:12.012Z"
   },
   {
    "duration": 56,
    "start_time": "2022-02-08T15:26:12.023Z"
   },
   {
    "duration": 8,
    "start_time": "2022-02-08T15:26:12.081Z"
   },
   {
    "duration": 19,
    "start_time": "2022-02-08T15:26:12.091Z"
   },
   {
    "duration": 2,
    "start_time": "2022-02-08T15:26:12.112Z"
   },
   {
    "duration": 4,
    "start_time": "2022-02-08T15:26:12.116Z"
   },
   {
    "duration": 6496,
    "start_time": "2022-02-08T15:26:12.122Z"
   },
   {
    "duration": -68,
    "start_time": "2022-02-08T15:26:18.688Z"
   },
   {
    "duration": -69,
    "start_time": "2022-02-08T15:26:18.690Z"
   },
   {
    "duration": -70,
    "start_time": "2022-02-08T15:26:18.693Z"
   },
   {
    "duration": -73,
    "start_time": "2022-02-08T15:26:18.696Z"
   },
   {
    "duration": -75,
    "start_time": "2022-02-08T15:26:18.699Z"
   },
   {
    "duration": -77,
    "start_time": "2022-02-08T15:26:18.702Z"
   },
   {
    "duration": -78,
    "start_time": "2022-02-08T15:26:18.704Z"
   },
   {
    "duration": -78,
    "start_time": "2022-02-08T15:26:18.705Z"
   },
   {
    "duration": -78,
    "start_time": "2022-02-08T15:26:18.706Z"
   },
   {
    "duration": -80,
    "start_time": "2022-02-08T15:26:18.708Z"
   },
   {
    "duration": -81,
    "start_time": "2022-02-08T15:26:18.710Z"
   },
   {
    "duration": -103,
    "start_time": "2022-02-08T15:26:18.733Z"
   },
   {
    "duration": -108,
    "start_time": "2022-02-08T15:26:18.739Z"
   },
   {
    "duration": 16,
    "start_time": "2022-02-08T15:26:19.505Z"
   },
   {
    "duration": 11,
    "start_time": "2022-02-08T15:26:21.582Z"
   },
   {
    "duration": 6386,
    "start_time": "2022-02-08T15:26:38.735Z"
   },
   {
    "duration": 417,
    "start_time": "2022-02-08T15:26:50.452Z"
   },
   {
    "duration": 11,
    "start_time": "2022-02-08T15:26:51.272Z"
   },
   {
    "duration": 9,
    "start_time": "2022-02-08T15:26:51.983Z"
   },
   {
    "duration": 7,
    "start_time": "2022-02-08T15:26:54.800Z"
   },
   {
    "duration": 269,
    "start_time": "2022-02-08T15:36:55.022Z"
   },
   {
    "duration": 6,
    "start_time": "2022-02-08T15:37:25.063Z"
   },
   {
    "duration": 6294,
    "start_time": "2022-02-08T15:37:37.046Z"
   },
   {
    "duration": 813,
    "start_time": "2022-02-08T15:37:55.244Z"
   },
   {
    "duration": 17,
    "start_time": "2022-02-08T15:37:56.105Z"
   },
   {
    "duration": 10,
    "start_time": "2022-02-08T15:37:57.069Z"
   },
   {
    "duration": 8,
    "start_time": "2022-02-08T15:37:59.846Z"
   },
   {
    "duration": 3,
    "start_time": "2022-02-08T15:38:01.053Z"
   },
   {
    "duration": 11,
    "start_time": "2022-02-08T15:38:02.047Z"
   },
   {
    "duration": 11,
    "start_time": "2022-02-08T15:38:02.866Z"
   },
   {
    "duration": 7,
    "start_time": "2022-02-08T15:38:03.750Z"
   },
   {
    "duration": 15,
    "start_time": "2022-02-08T15:38:04.855Z"
   },
   {
    "duration": 2,
    "start_time": "2022-02-08T15:38:08.775Z"
   },
   {
    "duration": 2,
    "start_time": "2022-02-08T15:38:09.170Z"
   },
   {
    "duration": 7,
    "start_time": "2022-02-08T15:38:11.997Z"
   },
   {
    "duration": 6283,
    "start_time": "2022-02-08T15:39:36.853Z"
   },
   {
    "duration": 8,
    "start_time": "2022-02-08T15:40:06.298Z"
   },
   {
    "duration": 19,
    "start_time": "2022-02-08T15:41:11.851Z"
   },
   {
    "duration": 273,
    "start_time": "2022-02-08T15:45:15.436Z"
   },
   {
    "duration": 9,
    "start_time": "2022-02-08T15:46:23.910Z"
   },
   {
    "duration": 20,
    "start_time": "2022-02-08T15:46:27.356Z"
   },
   {
    "duration": 9,
    "start_time": "2022-02-08T15:48:19.493Z"
   },
   {
    "duration": 10,
    "start_time": "2022-02-08T15:48:23.030Z"
   },
   {
    "duration": 6594,
    "start_time": "2022-02-08T15:48:38.117Z"
   },
   {
    "duration": -79,
    "start_time": "2022-02-08T15:48:44.792Z"
   },
   {
    "duration": 13,
    "start_time": "2022-02-08T15:49:08.994Z"
   },
   {
    "duration": 8,
    "start_time": "2022-02-08T15:49:20.365Z"
   },
   {
    "duration": 14,
    "start_time": "2022-02-08T15:50:03.914Z"
   },
   {
    "duration": 10,
    "start_time": "2022-02-08T15:50:05.993Z"
   },
   {
    "duration": 5,
    "start_time": "2022-02-08T15:51:46.863Z"
   },
   {
    "duration": 133,
    "start_time": "2022-02-08T15:51:59.589Z"
   },
   {
    "duration": 18,
    "start_time": "2022-02-08T15:52:10.591Z"
   },
   {
    "duration": 828,
    "start_time": "2022-02-08T15:52:38.289Z"
   },
   {
    "duration": 17,
    "start_time": "2022-02-08T15:52:39.119Z"
   },
   {
    "duration": 11,
    "start_time": "2022-02-08T15:52:39.137Z"
   },
   {
    "duration": 5,
    "start_time": "2022-02-08T15:52:39.150Z"
   },
   {
    "duration": 2,
    "start_time": "2022-02-08T15:52:39.157Z"
   },
   {
    "duration": 9,
    "start_time": "2022-02-08T15:52:39.172Z"
   },
   {
    "duration": 10,
    "start_time": "2022-02-08T15:52:39.182Z"
   },
   {
    "duration": 8,
    "start_time": "2022-02-08T15:52:39.194Z"
   },
   {
    "duration": 15,
    "start_time": "2022-02-08T15:52:39.204Z"
   },
   {
    "duration": 2,
    "start_time": "2022-02-08T15:52:39.220Z"
   },
   {
    "duration": 6,
    "start_time": "2022-02-08T15:52:39.224Z"
   },
   {
    "duration": 45,
    "start_time": "2022-02-08T15:52:39.232Z"
   },
   {
    "duration": 21,
    "start_time": "2022-02-08T15:52:39.278Z"
   },
   {
    "duration": 8,
    "start_time": "2022-02-08T15:52:39.300Z"
   },
   {
    "duration": 9,
    "start_time": "2022-02-08T15:52:39.310Z"
   },
   {
    "duration": 13,
    "start_time": "2022-02-08T15:52:39.320Z"
   },
   {
    "duration": 46,
    "start_time": "2022-02-08T15:52:39.334Z"
   },
   {
    "duration": 8,
    "start_time": "2022-02-08T15:52:39.382Z"
   },
   {
    "duration": 28,
    "start_time": "2022-02-08T15:52:39.391Z"
   },
   {
    "duration": 12,
    "start_time": "2022-02-08T15:52:39.420Z"
   },
   {
    "duration": 123,
    "start_time": "2022-02-08T15:52:39.434Z"
   },
   {
    "duration": 4,
    "start_time": "2022-02-08T15:52:39.559Z"
   },
   {
    "duration": 21,
    "start_time": "2022-02-08T15:52:39.565Z"
   },
   {
    "duration": 26,
    "start_time": "2022-02-08T15:52:39.588Z"
   },
   {
    "duration": 13,
    "start_time": "2022-02-08T15:54:14.348Z"
   },
   {
    "duration": 4,
    "start_time": "2022-02-08T15:54:45.206Z"
   },
   {
    "duration": 4,
    "start_time": "2022-02-08T15:56:29.241Z"
   },
   {
    "duration": 6295,
    "start_time": "2022-02-08T15:59:14.188Z"
   },
   {
    "duration": 6241,
    "start_time": "2022-02-08T15:59:36.388Z"
   },
   {
    "duration": 7175,
    "start_time": "2022-02-08T16:00:02.333Z"
   },
   {
    "duration": 243,
    "start_time": "2022-02-08T16:00:31.397Z"
   },
   {
    "duration": 9,
    "start_time": "2022-02-08T16:00:42.508Z"
   },
   {
    "duration": 7,
    "start_time": "2022-02-08T16:01:27.950Z"
   },
   {
    "duration": 15,
    "start_time": "2022-02-08T16:01:53.986Z"
   },
   {
    "duration": 13,
    "start_time": "2022-02-08T16:02:14.989Z"
   },
   {
    "duration": 13,
    "start_time": "2022-02-08T16:02:27.508Z"
   },
   {
    "duration": 14,
    "start_time": "2022-02-08T16:02:39.467Z"
   },
   {
    "duration": 13,
    "start_time": "2022-02-08T16:02:53.225Z"
   },
   {
    "duration": 18,
    "start_time": "2022-02-08T16:52:12.260Z"
   },
   {
    "duration": 13,
    "start_time": "2022-02-08T17:04:22.926Z"
   },
   {
    "duration": 257,
    "start_time": "2022-02-08T17:06:02.079Z"
   },
   {
    "duration": 14,
    "start_time": "2022-02-08T17:06:15.941Z"
   },
   {
    "duration": 14,
    "start_time": "2022-02-08T17:06:25.547Z"
   },
   {
    "duration": 14,
    "start_time": "2022-02-08T17:06:56.662Z"
   },
   {
    "duration": 14,
    "start_time": "2022-02-08T17:06:58.698Z"
   },
   {
    "duration": 13,
    "start_time": "2022-02-08T17:07:03.883Z"
   },
   {
    "duration": 15,
    "start_time": "2022-02-08T17:07:04.462Z"
   },
   {
    "duration": 13,
    "start_time": "2022-02-08T17:11:13.354Z"
   },
   {
    "duration": 974,
    "start_time": "2022-02-08T17:11:26.013Z"
   },
   {
    "duration": 16,
    "start_time": "2022-02-08T17:11:26.989Z"
   },
   {
    "duration": 325,
    "start_time": "2022-02-08T17:11:27.007Z"
   },
   {
    "duration": 935,
    "start_time": "2022-02-08T17:11:27.334Z"
   },
   {
    "duration": 494,
    "start_time": "2022-02-08T17:11:28.274Z"
   },
   {
    "duration": 662,
    "start_time": "2022-02-08T17:11:28.770Z"
   },
   {
    "duration": 515,
    "start_time": "2022-02-08T17:11:29.434Z"
   },
   {
    "duration": 788,
    "start_time": "2022-02-08T17:11:29.952Z"
   },
   {
    "duration": 641,
    "start_time": "2022-02-08T17:11:30.742Z"
   },
   {
    "duration": 1082,
    "start_time": "2022-02-08T17:11:31.384Z"
   },
   {
    "duration": 565,
    "start_time": "2022-02-08T17:11:32.468Z"
   },
   {
    "duration": 270,
    "start_time": "2022-02-08T17:11:33.034Z"
   },
   {
    "duration": 1470,
    "start_time": "2022-02-08T17:11:33.306Z"
   },
   {
    "duration": 958,
    "start_time": "2022-02-08T17:11:34.777Z"
   },
   {
    "duration": 788,
    "start_time": "2022-02-08T17:11:35.737Z"
   },
   {
    "duration": 529,
    "start_time": "2022-02-08T17:11:36.526Z"
   },
   {
    "duration": 621,
    "start_time": "2022-02-08T17:11:37.057Z"
   },
   {
    "duration": 510,
    "start_time": "2022-02-08T17:11:37.680Z"
   },
   {
    "duration": 1137,
    "start_time": "2022-02-08T17:11:38.193Z"
   },
   {
    "duration": 403,
    "start_time": "2022-02-08T17:11:39.331Z"
   },
   {
    "duration": 313,
    "start_time": "2022-02-08T17:11:39.736Z"
   },
   {
    "duration": 669,
    "start_time": "2022-02-08T17:11:40.050Z"
   },
   {
    "duration": 309,
    "start_time": "2022-02-08T17:11:40.722Z"
   },
   {
    "duration": 196,
    "start_time": "2022-02-08T17:11:41.033Z"
   },
   {
    "duration": 226,
    "start_time": "2022-02-08T17:11:41.231Z"
   },
   {
    "duration": 368,
    "start_time": "2022-02-08T17:11:41.458Z"
   },
   {
    "duration": 498,
    "start_time": "2022-02-08T17:11:41.828Z"
   },
   {
    "duration": 24,
    "start_time": "2022-02-08T17:12:04.393Z"
   },
   {
    "duration": 968,
    "start_time": "2022-02-08T17:12:10.824Z"
   },
   {
    "duration": 16,
    "start_time": "2022-02-08T17:12:11.795Z"
   },
   {
    "duration": 791,
    "start_time": "2022-02-08T17:12:11.813Z"
   },
   {
    "duration": 380,
    "start_time": "2022-02-08T17:12:12.606Z"
   },
   {
    "duration": 241,
    "start_time": "2022-02-08T17:12:12.988Z"
   },
   {
    "duration": 501,
    "start_time": "2022-02-08T17:12:13.231Z"
   },
   {
    "duration": 815,
    "start_time": "2022-02-08T17:12:13.734Z"
   },
   {
    "duration": 485,
    "start_time": "2022-02-08T17:12:14.553Z"
   },
   {
    "duration": 513,
    "start_time": "2022-02-08T17:12:15.040Z"
   },
   {
    "duration": 712,
    "start_time": "2022-02-08T17:12:15.554Z"
   },
   {
    "duration": 1031,
    "start_time": "2022-02-08T17:12:16.268Z"
   },
   {
    "duration": 1066,
    "start_time": "2022-02-08T17:12:17.301Z"
   },
   {
    "duration": 996,
    "start_time": "2022-02-08T17:12:18.369Z"
   },
   {
    "duration": 1088,
    "start_time": "2022-02-08T17:12:19.367Z"
   },
   {
    "duration": 694,
    "start_time": "2022-02-08T17:12:20.456Z"
   },
   {
    "duration": 1084,
    "start_time": "2022-02-08T17:12:21.152Z"
   },
   {
    "duration": 453,
    "start_time": "2022-02-08T17:12:22.238Z"
   },
   {
    "duration": 872,
    "start_time": "2022-02-08T17:12:22.692Z"
   },
   {
    "duration": 924,
    "start_time": "2022-02-08T17:12:23.565Z"
   },
   {
    "duration": 535,
    "start_time": "2022-02-08T17:12:24.491Z"
   },
   {
    "duration": 512,
    "start_time": "2022-02-08T17:12:25.028Z"
   },
   {
    "duration": 464,
    "start_time": "2022-02-08T17:12:25.541Z"
   },
   {
    "duration": 700,
    "start_time": "2022-02-08T17:12:26.008Z"
   },
   {
    "duration": 558,
    "start_time": "2022-02-08T17:12:26.709Z"
   },
   {
    "duration": 214,
    "start_time": "2022-02-08T17:12:27.272Z"
   },
   {
    "duration": 913,
    "start_time": "2022-02-08T17:12:27.488Z"
   },
   {
    "duration": 1431,
    "start_time": "2022-02-08T17:12:28.403Z"
   },
   {
    "duration": 4,
    "start_time": "2022-02-08T17:13:06.845Z"
   },
   {
    "duration": 811,
    "start_time": "2022-02-08T17:13:11.871Z"
   },
   {
    "duration": 17,
    "start_time": "2022-02-08T17:13:12.684Z"
   },
   {
    "duration": 295,
    "start_time": "2022-02-08T17:13:12.704Z"
   },
   {
    "duration": 333,
    "start_time": "2022-02-08T17:13:13.000Z"
   },
   {
    "duration": 441,
    "start_time": "2022-02-08T17:13:13.335Z"
   },
   {
    "duration": 237,
    "start_time": "2022-02-08T17:13:13.778Z"
   },
   {
    "duration": 529,
    "start_time": "2022-02-08T17:13:14.017Z"
   },
   {
    "duration": 588,
    "start_time": "2022-02-08T17:13:14.549Z"
   },
   {
    "duration": 538,
    "start_time": "2022-02-08T17:13:15.140Z"
   },
   {
    "duration": 550,
    "start_time": "2022-02-08T17:13:15.679Z"
   },
   {
    "duration": 327,
    "start_time": "2022-02-08T17:13:16.231Z"
   },
   {
    "duration": 541,
    "start_time": "2022-02-08T17:13:16.560Z"
   },
   {
    "duration": 295,
    "start_time": "2022-02-08T17:13:17.103Z"
   },
   {
    "duration": 628,
    "start_time": "2022-02-08T17:13:17.400Z"
   },
   {
    "duration": -83,
    "start_time": "2022-02-08T17:13:18.113Z"
   },
   {
    "duration": -85,
    "start_time": "2022-02-08T17:13:18.116Z"
   },
   {
    "duration": -85,
    "start_time": "2022-02-08T17:13:18.117Z"
   },
   {
    "duration": -85,
    "start_time": "2022-02-08T17:13:18.119Z"
   },
   {
    "duration": -85,
    "start_time": "2022-02-08T17:13:18.120Z"
   },
   {
    "duration": -86,
    "start_time": "2022-02-08T17:13:18.122Z"
   },
   {
    "duration": -88,
    "start_time": "2022-02-08T17:13:18.124Z"
   },
   {
    "duration": -88,
    "start_time": "2022-02-08T17:13:18.126Z"
   },
   {
    "duration": -90,
    "start_time": "2022-02-08T17:13:18.129Z"
   },
   {
    "duration": -103,
    "start_time": "2022-02-08T17:13:18.143Z"
   },
   {
    "duration": -107,
    "start_time": "2022-02-08T17:13:18.148Z"
   },
   {
    "duration": -109,
    "start_time": "2022-02-08T17:13:18.150Z"
   },
   {
    "duration": -110,
    "start_time": "2022-02-08T17:13:18.152Z"
   },
   {
    "duration": 923,
    "start_time": "2022-02-08T17:13:35.782Z"
   },
   {
    "duration": 16,
    "start_time": "2022-02-08T17:13:36.707Z"
   },
   {
    "duration": 223,
    "start_time": "2022-02-08T17:13:36.725Z"
   },
   {
    "duration": 129,
    "start_time": "2022-02-08T17:13:36.949Z"
   },
   {
    "duration": 161,
    "start_time": "2022-02-08T17:13:37.081Z"
   },
   {
    "duration": 154,
    "start_time": "2022-02-08T17:13:37.244Z"
   },
   {
    "duration": 135,
    "start_time": "2022-02-08T17:13:37.399Z"
   },
   {
    "duration": 256,
    "start_time": "2022-02-08T17:13:37.536Z"
   },
   {
    "duration": 238,
    "start_time": "2022-02-08T17:13:37.795Z"
   },
   {
    "duration": 223,
    "start_time": "2022-02-08T17:13:38.035Z"
   },
   {
    "duration": 168,
    "start_time": "2022-02-08T17:13:38.260Z"
   },
   {
    "duration": 197,
    "start_time": "2022-02-08T17:13:38.430Z"
   },
   {
    "duration": 128,
    "start_time": "2022-02-08T17:13:38.629Z"
   },
   {
    "duration": 150,
    "start_time": "2022-02-08T17:13:38.759Z"
   },
   {
    "duration": 190,
    "start_time": "2022-02-08T17:13:38.911Z"
   },
   {
    "duration": 433,
    "start_time": "2022-02-08T17:13:39.102Z"
   },
   {
    "duration": 199,
    "start_time": "2022-02-08T17:13:39.536Z"
   },
   {
    "duration": 412,
    "start_time": "2022-02-08T17:13:39.737Z"
   },
   {
    "duration": 191,
    "start_time": "2022-02-08T17:13:40.150Z"
   },
   {
    "duration": 286,
    "start_time": "2022-02-08T17:13:40.342Z"
   },
   {
    "duration": 232,
    "start_time": "2022-02-08T17:13:40.630Z"
   },
   {
    "duration": 197,
    "start_time": "2022-02-08T17:13:40.863Z"
   },
   {
    "duration": 290,
    "start_time": "2022-02-08T17:13:41.062Z"
   },
   {
    "duration": 220,
    "start_time": "2022-02-08T17:13:41.354Z"
   },
   {
    "duration": 148,
    "start_time": "2022-02-08T17:13:41.576Z"
   },
   {
    "duration": 209,
    "start_time": "2022-02-08T17:13:41.726Z"
   },
   {
    "duration": 26,
    "start_time": "2022-02-08T17:35:47.480Z"
   },
   {
    "duration": 18,
    "start_time": "2022-02-08T17:35:53.724Z"
   },
   {
    "duration": 4,
    "start_time": "2022-02-08T17:36:19.537Z"
   },
   {
    "duration": 5,
    "start_time": "2022-02-08T17:36:24.248Z"
   },
   {
    "duration": 4,
    "start_time": "2022-02-08T17:36:32.362Z"
   },
   {
    "duration": 8,
    "start_time": "2022-02-08T17:37:25.931Z"
   },
   {
    "duration": 318,
    "start_time": "2022-02-08T17:38:08.840Z"
   },
   {
    "duration": 297,
    "start_time": "2022-02-08T17:38:21.023Z"
   },
   {
    "duration": 281,
    "start_time": "2022-02-08T17:38:31.182Z"
   },
   {
    "duration": 6,
    "start_time": "2022-02-08T17:38:41.626Z"
   },
   {
    "duration": 8,
    "start_time": "2022-02-08T17:40:47.784Z"
   },
   {
    "duration": 4469,
    "start_time": "2022-02-08T17:42:54.161Z"
   },
   {
    "duration": 9,
    "start_time": "2022-02-08T17:42:58.632Z"
   },
   {
    "duration": 2119,
    "start_time": "2022-02-08T17:42:58.642Z"
   },
   {
    "duration": 2454,
    "start_time": "2022-02-08T17:43:00.763Z"
   },
   {
    "duration": 1713,
    "start_time": "2022-02-08T17:43:03.218Z"
   },
   {
    "duration": 1817,
    "start_time": "2022-02-08T17:43:04.933Z"
   },
   {
    "duration": 1599,
    "start_time": "2022-02-08T17:43:06.751Z"
   },
   {
    "duration": 2114,
    "start_time": "2022-02-08T17:43:08.352Z"
   },
   {
    "duration": 1789,
    "start_time": "2022-02-08T17:43:15.029Z"
   },
   {
    "duration": 18355,
    "start_time": "2022-02-08T17:43:16.820Z"
   },
   {
    "duration": 2128,
    "start_time": "2022-02-08T17:43:35.177Z"
   },
   {
    "duration": 1344,
    "start_time": "2022-02-08T17:43:37.307Z"
   },
   {
    "duration": 2568,
    "start_time": "2022-02-08T17:43:38.653Z"
   },
   {
    "duration": 1964,
    "start_time": "2022-02-08T17:43:41.223Z"
   },
   {
    "duration": 2048,
    "start_time": "2022-02-08T17:43:43.189Z"
   },
   {
    "duration": 1992,
    "start_time": "2022-02-08T17:43:45.239Z"
   },
   {
    "duration": 1972,
    "start_time": "2022-02-08T17:43:47.232Z"
   },
   {
    "duration": 1265,
    "start_time": "2022-02-08T17:43:49.205Z"
   },
   {
    "duration": 1055,
    "start_time": "2022-02-08T17:43:50.472Z"
   },
   {
    "duration": 4319,
    "start_time": "2022-02-08T17:43:51.529Z"
   },
   {
    "duration": 4502,
    "start_time": "2022-02-08T17:43:55.849Z"
   },
   {
    "duration": 3737,
    "start_time": "2022-02-08T17:44:58.291Z"
   },
   {
    "duration": 19,
    "start_time": "2022-02-08T17:45:02.030Z"
   },
   {
    "duration": 2096,
    "start_time": "2022-02-08T17:45:02.052Z"
   },
   {
    "duration": 1192,
    "start_time": "2022-02-08T17:45:04.151Z"
   },
   {
    "duration": 1170,
    "start_time": "2022-02-08T17:45:05.345Z"
   },
   {
    "duration": 5754,
    "start_time": "2022-02-08T17:45:06.517Z"
   },
   {
    "duration": 673,
    "start_time": "2022-02-08T17:45:12.272Z"
   },
   {
    "duration": 964,
    "start_time": "2022-02-08T17:45:12.947Z"
   },
   {
    "duration": 1265,
    "start_time": "2022-02-08T17:45:13.913Z"
   },
   {
    "duration": 1095,
    "start_time": "2022-02-08T17:45:15.180Z"
   },
   {
    "duration": 487,
    "start_time": "2022-02-08T17:45:16.277Z"
   },
   {
    "duration": 1534,
    "start_time": "2022-02-08T17:45:16.766Z"
   },
   {
    "duration": 1643,
    "start_time": "2022-02-08T17:45:18.302Z"
   },
   {
    "duration": 657,
    "start_time": "2022-02-08T17:45:19.947Z"
   },
   {
    "duration": 1000,
    "start_time": "2022-02-08T17:45:20.605Z"
   },
   {
    "duration": 11552,
    "start_time": "2022-02-08T17:45:21.607Z"
   },
   {
    "duration": 1498,
    "start_time": "2022-02-08T17:45:33.160Z"
   },
   {
    "duration": 1631,
    "start_time": "2022-02-08T17:45:34.660Z"
   },
   {
    "duration": 1100,
    "start_time": "2022-02-08T17:45:36.293Z"
   },
   {
    "duration": 945,
    "start_time": "2022-02-08T17:45:37.395Z"
   },
   {
    "duration": 624,
    "start_time": "2022-02-08T17:45:38.342Z"
   },
   {
    "duration": 654,
    "start_time": "2022-02-08T17:45:38.967Z"
   },
   {
    "duration": 741,
    "start_time": "2022-02-08T17:45:39.624Z"
   },
   {
    "duration": 563,
    "start_time": "2022-02-08T17:45:40.368Z"
   },
   {
    "duration": 750,
    "start_time": "2022-02-08T17:45:40.933Z"
   },
   {
    "duration": 963,
    "start_time": "2022-02-08T17:45:41.685Z"
   },
   {
    "duration": 512,
    "start_time": "2022-02-08T17:47:14.857Z"
   },
   {
    "duration": 11,
    "start_time": "2022-02-08T17:47:17.622Z"
   },
   {
    "duration": 1589,
    "start_time": "2022-02-08T17:47:22.106Z"
   },
   {
    "duration": 1343,
    "start_time": "2022-02-08T17:47:36.413Z"
   },
   {
    "duration": 16,
    "start_time": "2022-02-08T17:47:39.342Z"
   },
   {
    "duration": 11398,
    "start_time": "2022-02-08T17:47:42.309Z"
   },
   {
    "duration": 8,
    "start_time": "2022-02-08T17:48:06.056Z"
   },
   {
    "duration": 3,
    "start_time": "2022-02-08T17:48:08.076Z"
   },
   {
    "duration": 2196,
    "start_time": "2022-02-08T17:48:08.845Z"
   },
   {
    "duration": 15,
    "start_time": "2022-02-08T17:48:32.811Z"
   },
   {
    "duration": 8,
    "start_time": "2022-02-08T17:48:35.950Z"
   },
   {
    "duration": 992,
    "start_time": "2022-02-08T17:48:37.103Z"
   },
   {
    "duration": 2,
    "start_time": "2022-02-08T17:48:51.439Z"
   },
   {
    "duration": 1940,
    "start_time": "2022-02-08T17:48:51.844Z"
   },
   {
    "duration": 14,
    "start_time": "2022-02-08T17:48:55.708Z"
   },
   {
    "duration": 9239,
    "start_time": "2022-02-08T17:49:00.774Z"
   },
   {
    "duration": 7,
    "start_time": "2022-02-08T17:49:22.565Z"
   },
   {
    "duration": 16,
    "start_time": "2022-02-08T17:49:34.839Z"
   },
   {
    "duration": 942,
    "start_time": "2022-02-08T17:49:35.376Z"
   },
   {
    "duration": 8,
    "start_time": "2022-02-08T17:49:49.286Z"
   },
   {
    "duration": 21,
    "start_time": "2022-02-08T17:49:53.570Z"
   },
   {
    "duration": 11,
    "start_time": "2022-02-08T17:49:56.979Z"
   },
   {
    "duration": 10,
    "start_time": "2022-02-08T17:49:59.549Z"
   },
   {
    "duration": 14,
    "start_time": "2022-02-08T17:51:31.276Z"
   },
   {
    "duration": 9986,
    "start_time": "2022-02-08T17:51:32.455Z"
   },
   {
    "duration": 887,
    "start_time": "2022-02-08T17:51:43.889Z"
   },
   {
    "duration": 11,
    "start_time": "2022-02-08T17:51:50.019Z"
   },
   {
    "duration": 10,
    "start_time": "2022-02-08T17:51:58.262Z"
   },
   {
    "duration": 98,
    "start_time": "2022-02-08T17:52:04.937Z"
   },
   {
    "duration": -140253,
    "start_time": "2022-02-08T18:23:38.609Z"
   },
   {
    "duration": 9,
    "start_time": "2022-02-08T18:37:12.884Z"
   },
   {
    "duration": 14,
    "start_time": "2022-02-08T18:38:00.345Z"
   },
   {
    "duration": 12,
    "start_time": "2022-02-08T18:38:10.584Z"
   },
   {
    "duration": 11,
    "start_time": "2022-02-08T18:40:16.555Z"
   },
   {
    "duration": 14,
    "start_time": "2022-02-08T18:40:41.715Z"
   },
   {
    "duration": 12,
    "start_time": "2022-02-08T18:42:44.913Z"
   },
   {
    "duration": 12,
    "start_time": "2022-02-08T18:43:33.157Z"
   },
   {
    "duration": 331,
    "start_time": "2022-02-08T18:50:08.417Z"
   },
   {
    "duration": 7,
    "start_time": "2022-02-08T18:50:43.801Z"
   },
   {
    "duration": 16,
    "start_time": "2022-02-08T18:50:56.365Z"
   },
   {
    "duration": 269,
    "start_time": "2022-02-08T18:51:36.725Z"
   },
   {
    "duration": 14,
    "start_time": "2022-02-08T18:51:37.378Z"
   },
   {
    "duration": 885,
    "start_time": "2022-02-08T18:51:51.268Z"
   },
   {
    "duration": 17,
    "start_time": "2022-02-08T18:51:52.154Z"
   },
   {
    "duration": 10,
    "start_time": "2022-02-08T18:51:52.173Z"
   },
   {
    "duration": 5,
    "start_time": "2022-02-08T18:51:52.185Z"
   },
   {
    "duration": 2,
    "start_time": "2022-02-08T18:51:52.192Z"
   },
   {
    "duration": 9,
    "start_time": "2022-02-08T18:51:52.195Z"
   },
   {
    "duration": 11,
    "start_time": "2022-02-08T18:51:52.205Z"
   },
   {
    "duration": 8,
    "start_time": "2022-02-08T18:51:52.218Z"
   },
   {
    "duration": 47,
    "start_time": "2022-02-08T18:51:52.228Z"
   },
   {
    "duration": 3,
    "start_time": "2022-02-08T18:51:52.277Z"
   },
   {
    "duration": 5,
    "start_time": "2022-02-08T18:51:52.281Z"
   },
   {
    "duration": 18,
    "start_time": "2022-02-08T18:51:52.287Z"
   },
   {
    "duration": 13,
    "start_time": "2022-02-08T18:51:52.306Z"
   },
   {
    "duration": 8,
    "start_time": "2022-02-08T18:51:52.320Z"
   },
   {
    "duration": 44,
    "start_time": "2022-02-08T18:51:52.329Z"
   },
   {
    "duration": 12,
    "start_time": "2022-02-08T18:51:52.374Z"
   },
   {
    "duration": 6,
    "start_time": "2022-02-08T18:51:52.388Z"
   },
   {
    "duration": 6,
    "start_time": "2022-02-08T18:51:52.395Z"
   },
   {
    "duration": 14,
    "start_time": "2022-02-08T18:51:52.402Z"
   },
   {
    "duration": 12,
    "start_time": "2022-02-08T18:51:52.417Z"
   },
   {
    "duration": 114,
    "start_time": "2022-02-08T18:51:52.430Z"
   },
   {
    "duration": 26,
    "start_time": "2022-02-08T18:51:52.546Z"
   },
   {
    "duration": 12,
    "start_time": "2022-02-08T18:51:52.575Z"
   },
   {
    "duration": 4,
    "start_time": "2022-02-08T18:51:52.588Z"
   },
   {
    "duration": 14,
    "start_time": "2022-02-08T18:51:52.594Z"
   },
   {
    "duration": 5,
    "start_time": "2022-02-08T18:51:52.610Z"
   },
   {
    "duration": 19,
    "start_time": "2022-02-08T18:51:52.617Z"
   },
   {
    "duration": 42,
    "start_time": "2022-02-08T18:51:52.637Z"
   },
   {
    "duration": 5,
    "start_time": "2022-02-08T18:52:35.991Z"
   },
   {
    "duration": 10,
    "start_time": "2022-02-08T18:52:36.924Z"
   },
   {
    "duration": 765,
    "start_time": "2022-02-08T18:52:40.752Z"
   },
   {
    "duration": 17,
    "start_time": "2022-02-08T18:52:41.519Z"
   },
   {
    "duration": 12,
    "start_time": "2022-02-08T18:52:41.538Z"
   },
   {
    "duration": 6,
    "start_time": "2022-02-08T18:52:41.552Z"
   },
   {
    "duration": 2,
    "start_time": "2022-02-08T18:52:41.560Z"
   },
   {
    "duration": 14,
    "start_time": "2022-02-08T18:52:41.563Z"
   },
   {
    "duration": 10,
    "start_time": "2022-02-08T18:52:41.579Z"
   },
   {
    "duration": 7,
    "start_time": "2022-02-08T18:52:41.591Z"
   },
   {
    "duration": 14,
    "start_time": "2022-02-08T18:52:41.600Z"
   },
   {
    "duration": 2,
    "start_time": "2022-02-08T18:52:41.615Z"
   },
   {
    "duration": 11,
    "start_time": "2022-02-08T18:52:41.619Z"
   },
   {
    "duration": 20,
    "start_time": "2022-02-08T18:52:41.632Z"
   },
   {
    "duration": 15,
    "start_time": "2022-02-08T18:52:41.671Z"
   },
   {
    "duration": 7,
    "start_time": "2022-02-08T18:52:41.687Z"
   },
   {
    "duration": 18,
    "start_time": "2022-02-08T18:52:41.696Z"
   },
   {
    "duration": 11,
    "start_time": "2022-02-08T18:52:41.715Z"
   },
   {
    "duration": 7,
    "start_time": "2022-02-08T18:52:41.727Z"
   },
   {
    "duration": 7,
    "start_time": "2022-02-08T18:52:41.736Z"
   },
   {
    "duration": 10,
    "start_time": "2022-02-08T18:52:41.772Z"
   },
   {
    "duration": 9,
    "start_time": "2022-02-08T18:52:41.784Z"
   },
   {
    "duration": 109,
    "start_time": "2022-02-08T18:52:41.795Z"
   },
   {
    "duration": 11,
    "start_time": "2022-02-08T18:52:41.906Z"
   },
   {
    "duration": 11,
    "start_time": "2022-02-08T18:52:41.920Z"
   },
   {
    "duration": 5,
    "start_time": "2022-02-08T18:52:41.932Z"
   },
   {
    "duration": 38,
    "start_time": "2022-02-08T18:52:41.938Z"
   },
   {
    "duration": 3,
    "start_time": "2022-02-08T18:52:41.978Z"
   },
   {
    "duration": 3,
    "start_time": "2022-02-08T18:52:41.983Z"
   },
   {
    "duration": 26,
    "start_time": "2022-02-08T18:52:41.988Z"
   },
   {
    "duration": 368,
    "start_time": "2022-02-08T18:53:28.073Z"
   },
   {
    "duration": 4,
    "start_time": "2022-02-08T18:53:33.796Z"
   },
   {
    "duration": 3,
    "start_time": "2022-02-08T18:53:59.709Z"
   },
   {
    "duration": 10,
    "start_time": "2022-02-08T18:54:06.445Z"
   },
   {
    "duration": 4,
    "start_time": "2022-02-08T18:57:06.126Z"
   },
   {
    "duration": 8,
    "start_time": "2022-02-08T18:58:09.157Z"
   },
   {
    "duration": 10,
    "start_time": "2022-02-08T18:58:09.825Z"
   },
   {
    "duration": 5,
    "start_time": "2022-02-08T19:00:27.819Z"
   },
   {
    "duration": 6,
    "start_time": "2022-02-08T19:00:46.902Z"
   },
   {
    "duration": 15,
    "start_time": "2022-02-08T19:00:47.481Z"
   },
   {
    "duration": 149,
    "start_time": "2022-02-08T19:01:09.040Z"
   },
   {
    "duration": 820,
    "start_time": "2022-02-08T19:01:21.347Z"
   },
   {
    "duration": 24,
    "start_time": "2022-02-08T19:01:22.169Z"
   },
   {
    "duration": 26,
    "start_time": "2022-02-08T19:01:22.195Z"
   },
   {
    "duration": 8,
    "start_time": "2022-02-08T19:01:22.223Z"
   },
   {
    "duration": 9,
    "start_time": "2022-02-08T19:01:22.233Z"
   },
   {
    "duration": 19,
    "start_time": "2022-02-08T19:01:22.244Z"
   },
   {
    "duration": 11,
    "start_time": "2022-02-08T19:01:22.265Z"
   },
   {
    "duration": 7,
    "start_time": "2022-02-08T19:01:22.279Z"
   },
   {
    "duration": 15,
    "start_time": "2022-02-08T19:01:22.288Z"
   },
   {
    "duration": 2,
    "start_time": "2022-02-08T19:01:22.305Z"
   },
   {
    "duration": 7,
    "start_time": "2022-02-08T19:01:22.308Z"
   },
   {
    "duration": 19,
    "start_time": "2022-02-08T19:01:22.316Z"
   },
   {
    "duration": 43,
    "start_time": "2022-02-08T19:01:22.336Z"
   },
   {
    "duration": 8,
    "start_time": "2022-02-08T19:01:22.380Z"
   },
   {
    "duration": 18,
    "start_time": "2022-02-08T19:01:22.390Z"
   },
   {
    "duration": 11,
    "start_time": "2022-02-08T19:01:22.410Z"
   },
   {
    "duration": 6,
    "start_time": "2022-02-08T19:01:22.423Z"
   },
   {
    "duration": 6,
    "start_time": "2022-02-08T19:01:22.431Z"
   },
   {
    "duration": 38,
    "start_time": "2022-02-08T19:01:22.439Z"
   },
   {
    "duration": 14,
    "start_time": "2022-02-08T19:01:22.479Z"
   },
   {
    "duration": 179,
    "start_time": "2022-02-08T19:01:22.495Z"
   },
   {
    "duration": 16,
    "start_time": "2022-02-08T19:01:22.676Z"
   },
   {
    "duration": 12,
    "start_time": "2022-02-08T19:01:22.696Z"
   },
   {
    "duration": 4,
    "start_time": "2022-02-08T19:01:22.710Z"
   },
   {
    "duration": 15,
    "start_time": "2022-02-08T19:01:22.715Z"
   },
   {
    "duration": 3,
    "start_time": "2022-02-08T19:01:22.731Z"
   },
   {
    "duration": 44,
    "start_time": "2022-02-08T19:01:22.736Z"
   },
   {
    "duration": 31,
    "start_time": "2022-02-08T19:01:22.782Z"
   },
   {
    "duration": 10,
    "start_time": "2022-02-08T19:01:34.750Z"
   },
   {
    "duration": 751,
    "start_time": "2022-02-08T19:01:44.539Z"
   },
   {
    "duration": 16,
    "start_time": "2022-02-08T19:01:45.292Z"
   },
   {
    "duration": 9,
    "start_time": "2022-02-08T19:01:45.309Z"
   },
   {
    "duration": 6,
    "start_time": "2022-02-08T19:01:45.320Z"
   },
   {
    "duration": 3,
    "start_time": "2022-02-08T19:01:45.327Z"
   },
   {
    "duration": 9,
    "start_time": "2022-02-08T19:01:45.331Z"
   },
   {
    "duration": 38,
    "start_time": "2022-02-08T19:01:45.342Z"
   },
   {
    "duration": 7,
    "start_time": "2022-02-08T19:01:45.381Z"
   },
   {
    "duration": 13,
    "start_time": "2022-02-08T19:01:45.391Z"
   },
   {
    "duration": 2,
    "start_time": "2022-02-08T19:01:45.406Z"
   },
   {
    "duration": 8,
    "start_time": "2022-02-08T19:01:45.409Z"
   },
   {
    "duration": 18,
    "start_time": "2022-02-08T19:01:45.419Z"
   },
   {
    "duration": 34,
    "start_time": "2022-02-08T19:01:45.439Z"
   },
   {
    "duration": 8,
    "start_time": "2022-02-08T19:01:45.474Z"
   },
   {
    "duration": 19,
    "start_time": "2022-02-08T19:01:45.483Z"
   },
   {
    "duration": 12,
    "start_time": "2022-02-08T19:01:45.503Z"
   },
   {
    "duration": 6,
    "start_time": "2022-02-08T19:01:45.516Z"
   },
   {
    "duration": 8,
    "start_time": "2022-02-08T19:01:45.523Z"
   },
   {
    "duration": 13,
    "start_time": "2022-02-08T19:01:45.533Z"
   },
   {
    "duration": 32,
    "start_time": "2022-02-08T19:01:45.548Z"
   },
   {
    "duration": 109,
    "start_time": "2022-02-08T19:01:45.582Z"
   },
   {
    "duration": 13,
    "start_time": "2022-02-08T19:01:45.692Z"
   },
   {
    "duration": 13,
    "start_time": "2022-02-08T19:01:45.706Z"
   },
   {
    "duration": 4,
    "start_time": "2022-02-08T19:01:45.721Z"
   },
   {
    "duration": 10,
    "start_time": "2022-02-08T19:01:45.727Z"
   },
   {
    "duration": 3,
    "start_time": "2022-02-08T19:01:45.738Z"
   },
   {
    "duration": 3,
    "start_time": "2022-02-08T19:01:45.773Z"
   },
   {
    "duration": 24,
    "start_time": "2022-02-08T19:01:45.777Z"
   },
   {
    "duration": 3,
    "start_time": "2022-02-08T19:10:41.100Z"
   },
   {
    "duration": 7,
    "start_time": "2022-02-08T19:11:58.639Z"
   },
   {
    "duration": 11,
    "start_time": "2022-02-08T19:12:00.120Z"
   },
   {
    "duration": 3,
    "start_time": "2022-02-08T19:17:22.345Z"
   },
   {
    "duration": 3,
    "start_time": "2022-02-08T19:17:23.388Z"
   },
   {
    "duration": 27,
    "start_time": "2022-02-08T19:17:24.147Z"
   },
   {
    "duration": 9,
    "start_time": "2022-02-08T19:25:01.365Z"
   },
   {
    "duration": 10,
    "start_time": "2022-02-08T19:25:05.515Z"
   },
   {
    "duration": 5,
    "start_time": "2022-02-08T19:29:41.719Z"
   },
   {
    "duration": 10,
    "start_time": "2022-02-08T19:29:42.658Z"
   },
   {
    "duration": 945,
    "start_time": "2022-02-08T19:29:51.140Z"
   },
   {
    "duration": 18,
    "start_time": "2022-02-08T19:29:52.087Z"
   },
   {
    "duration": 11,
    "start_time": "2022-02-08T19:29:52.107Z"
   },
   {
    "duration": 7,
    "start_time": "2022-02-08T19:29:52.120Z"
   },
   {
    "duration": 3,
    "start_time": "2022-02-08T19:29:52.129Z"
   },
   {
    "duration": 40,
    "start_time": "2022-02-08T19:29:52.134Z"
   },
   {
    "duration": 12,
    "start_time": "2022-02-08T19:29:52.175Z"
   },
   {
    "duration": 8,
    "start_time": "2022-02-08T19:29:52.190Z"
   },
   {
    "duration": 20,
    "start_time": "2022-02-08T19:29:52.200Z"
   },
   {
    "duration": 2,
    "start_time": "2022-02-08T19:29:52.221Z"
   },
   {
    "duration": 12,
    "start_time": "2022-02-08T19:29:52.225Z"
   },
   {
    "duration": 16,
    "start_time": "2022-02-08T19:29:52.238Z"
   },
   {
    "duration": 28,
    "start_time": "2022-02-08T19:29:52.255Z"
   },
   {
    "duration": 7,
    "start_time": "2022-02-08T19:29:52.284Z"
   },
   {
    "duration": 19,
    "start_time": "2022-02-08T19:29:52.293Z"
   },
   {
    "duration": 13,
    "start_time": "2022-02-08T19:29:52.314Z"
   },
   {
    "duration": 7,
    "start_time": "2022-02-08T19:29:52.329Z"
   },
   {
    "duration": 37,
    "start_time": "2022-02-08T19:29:52.338Z"
   },
   {
    "duration": 10,
    "start_time": "2022-02-08T19:29:52.377Z"
   },
   {
    "duration": 12,
    "start_time": "2022-02-08T19:29:52.388Z"
   },
   {
    "duration": 120,
    "start_time": "2022-02-08T19:29:52.401Z"
   },
   {
    "duration": 12,
    "start_time": "2022-02-08T19:29:52.523Z"
   },
   {
    "duration": 26,
    "start_time": "2022-02-08T19:29:52.537Z"
   },
   {
    "duration": 9,
    "start_time": "2022-02-08T19:29:52.565Z"
   },
   {
    "duration": 17,
    "start_time": "2022-02-08T19:29:52.576Z"
   },
   {
    "duration": 24,
    "start_time": "2022-02-08T19:29:52.595Z"
   },
   {
    "duration": 11,
    "start_time": "2022-02-08T19:29:52.621Z"
   },
   {
    "duration": 15,
    "start_time": "2022-02-08T19:29:52.634Z"
   },
   {
    "duration": 21,
    "start_time": "2022-02-08T19:29:52.651Z"
   },
   {
    "duration": 30,
    "start_time": "2022-02-08T19:29:52.674Z"
   },
   {
    "duration": 14,
    "start_time": "2022-02-08T19:29:52.706Z"
   },
   {
    "duration": 38,
    "start_time": "2022-02-08T19:29:52.721Z"
   },
   {
    "duration": 332,
    "start_time": "2022-02-08T19:39:40.950Z"
   },
   {
    "duration": 420,
    "start_time": "2022-02-08T19:39:51.083Z"
   },
   {
    "duration": 773,
    "start_time": "2022-02-08T19:40:33.437Z"
   },
   {
    "duration": 17,
    "start_time": "2022-02-08T19:40:41.832Z"
   },
   {
    "duration": 13,
    "start_time": "2022-02-08T19:40:54.492Z"
   },
   {
    "duration": 18,
    "start_time": "2022-02-08T19:41:30.179Z"
   },
   {
    "duration": 23,
    "start_time": "2022-02-08T19:41:30.714Z"
   },
   {
    "duration": 13,
    "start_time": "2022-02-08T19:42:24.400Z"
   },
   {
    "duration": 8,
    "start_time": "2022-02-08T19:42:25.858Z"
   },
   {
    "duration": 13,
    "start_time": "2022-02-08T19:42:44.946Z"
   },
   {
    "duration": 8,
    "start_time": "2022-02-08T19:42:46.155Z"
   },
   {
    "duration": 12,
    "start_time": "2022-02-08T19:42:51.784Z"
   },
   {
    "duration": 8,
    "start_time": "2022-02-08T19:42:52.453Z"
   },
   {
    "duration": 472,
    "start_time": "2022-02-08T19:43:48.889Z"
   },
   {
    "duration": 660,
    "start_time": "2022-02-08T19:48:00.971Z"
   },
   {
    "duration": 4,
    "start_time": "2022-02-08T19:48:10.290Z"
   },
   {
    "duration": 573,
    "start_time": "2022-02-08T19:50:17.252Z"
   },
   {
    "duration": 162,
    "start_time": "2022-02-08T19:50:40.831Z"
   },
   {
    "duration": 152,
    "start_time": "2022-02-08T19:51:26.461Z"
   },
   {
    "duration": 272,
    "start_time": "2022-02-08T19:52:16.785Z"
   },
   {
    "duration": 257,
    "start_time": "2022-02-08T19:52:39.056Z"
   },
   {
    "duration": 257,
    "start_time": "2022-02-08T19:52:43.446Z"
   },
   {
    "duration": 156,
    "start_time": "2022-02-08T19:53:46.782Z"
   },
   {
    "duration": 2,
    "start_time": "2022-02-08T19:55:41.282Z"
   },
   {
    "duration": 4,
    "start_time": "2022-02-08T19:55:45.283Z"
   },
   {
    "duration": 153,
    "start_time": "2022-02-08T19:55:45.831Z"
   },
   {
    "duration": 815,
    "start_time": "2022-02-08T19:56:58.465Z"
   },
   {
    "duration": 15,
    "start_time": "2022-02-08T19:56:59.282Z"
   },
   {
    "duration": 10,
    "start_time": "2022-02-08T19:56:59.299Z"
   },
   {
    "duration": 6,
    "start_time": "2022-02-08T19:56:59.310Z"
   },
   {
    "duration": 2,
    "start_time": "2022-02-08T19:56:59.317Z"
   },
   {
    "duration": 8,
    "start_time": "2022-02-08T19:56:59.321Z"
   },
   {
    "duration": 9,
    "start_time": "2022-02-08T19:56:59.330Z"
   },
   {
    "duration": 35,
    "start_time": "2022-02-08T19:56:59.341Z"
   },
   {
    "duration": 13,
    "start_time": "2022-02-08T19:56:59.377Z"
   },
   {
    "duration": 4,
    "start_time": "2022-02-08T19:56:59.391Z"
   },
   {
    "duration": 14,
    "start_time": "2022-02-08T19:56:59.396Z"
   },
   {
    "duration": 23,
    "start_time": "2022-02-08T19:56:59.411Z"
   },
   {
    "duration": 14,
    "start_time": "2022-02-08T19:56:59.435Z"
   },
   {
    "duration": 7,
    "start_time": "2022-02-08T19:56:59.450Z"
   },
   {
    "duration": 26,
    "start_time": "2022-02-08T19:56:59.458Z"
   },
   {
    "duration": 11,
    "start_time": "2022-02-08T19:56:59.485Z"
   },
   {
    "duration": 6,
    "start_time": "2022-02-08T19:56:59.497Z"
   },
   {
    "duration": 8,
    "start_time": "2022-02-08T19:56:59.504Z"
   },
   {
    "duration": 18,
    "start_time": "2022-02-08T19:56:59.514Z"
   },
   {
    "duration": 12,
    "start_time": "2022-02-08T19:56:59.533Z"
   },
   {
    "duration": 115,
    "start_time": "2022-02-08T19:56:59.547Z"
   },
   {
    "duration": 14,
    "start_time": "2022-02-08T19:56:59.671Z"
   },
   {
    "duration": 17,
    "start_time": "2022-02-08T19:56:59.688Z"
   },
   {
    "duration": 7,
    "start_time": "2022-02-08T19:56:59.707Z"
   },
   {
    "duration": 18,
    "start_time": "2022-02-08T19:56:59.716Z"
   },
   {
    "duration": 20,
    "start_time": "2022-02-08T19:56:59.736Z"
   },
   {
    "duration": 15,
    "start_time": "2022-02-08T19:56:59.758Z"
   },
   {
    "duration": 10,
    "start_time": "2022-02-08T19:56:59.775Z"
   },
   {
    "duration": 12,
    "start_time": "2022-02-08T19:56:59.787Z"
   },
   {
    "duration": 34,
    "start_time": "2022-02-08T19:56:59.800Z"
   },
   {
    "duration": 8,
    "start_time": "2022-02-08T19:56:59.836Z"
   },
   {
    "duration": 18,
    "start_time": "2022-02-08T19:56:59.845Z"
   },
   {
    "duration": 21,
    "start_time": "2022-02-08T19:56:59.864Z"
   },
   {
    "duration": 9,
    "start_time": "2022-02-08T19:56:59.886Z"
   },
   {
    "duration": 580,
    "start_time": "2022-02-08T19:56:59.896Z"
   },
   {
    "duration": 4,
    "start_time": "2022-02-08T19:57:00.478Z"
   },
   {
    "duration": 169,
    "start_time": "2022-02-08T19:57:00.484Z"
   },
   {
    "duration": 776,
    "start_time": "2022-02-08T19:57:30.949Z"
   },
   {
    "duration": 15,
    "start_time": "2022-02-08T19:57:31.727Z"
   },
   {
    "duration": 11,
    "start_time": "2022-02-08T19:57:31.744Z"
   },
   {
    "duration": 6,
    "start_time": "2022-02-08T19:57:31.757Z"
   },
   {
    "duration": 2,
    "start_time": "2022-02-08T19:57:31.764Z"
   },
   {
    "duration": 10,
    "start_time": "2022-02-08T19:57:31.768Z"
   },
   {
    "duration": 10,
    "start_time": "2022-02-08T19:57:31.779Z"
   },
   {
    "duration": 7,
    "start_time": "2022-02-08T19:57:31.791Z"
   },
   {
    "duration": 20,
    "start_time": "2022-02-08T19:57:31.799Z"
   },
   {
    "duration": 2,
    "start_time": "2022-02-08T19:57:31.821Z"
   },
   {
    "duration": 13,
    "start_time": "2022-02-08T19:57:31.825Z"
   },
   {
    "duration": 19,
    "start_time": "2022-02-08T19:57:31.839Z"
   },
   {
    "duration": 23,
    "start_time": "2022-02-08T19:57:31.859Z"
   },
   {
    "duration": 7,
    "start_time": "2022-02-08T19:57:31.884Z"
   },
   {
    "duration": 18,
    "start_time": "2022-02-08T19:57:31.892Z"
   },
   {
    "duration": 12,
    "start_time": "2022-02-08T19:57:31.911Z"
   },
   {
    "duration": 6,
    "start_time": "2022-02-08T19:57:31.924Z"
   },
   {
    "duration": 7,
    "start_time": "2022-02-08T19:57:31.932Z"
   },
   {
    "duration": 38,
    "start_time": "2022-02-08T19:57:31.940Z"
   },
   {
    "duration": 10,
    "start_time": "2022-02-08T19:57:31.979Z"
   },
   {
    "duration": 109,
    "start_time": "2022-02-08T19:57:31.991Z"
   },
   {
    "duration": 12,
    "start_time": "2022-02-08T19:57:32.102Z"
   },
   {
    "duration": 12,
    "start_time": "2022-02-08T19:57:32.117Z"
   },
   {
    "duration": 4,
    "start_time": "2022-02-08T19:57:32.130Z"
   },
   {
    "duration": 4,
    "start_time": "2022-02-08T19:57:32.136Z"
   },
   {
    "duration": 31,
    "start_time": "2022-02-08T19:57:32.141Z"
   },
   {
    "duration": 9,
    "start_time": "2022-02-08T19:57:32.174Z"
   },
   {
    "duration": 3,
    "start_time": "2022-02-08T19:57:32.185Z"
   },
   {
    "duration": 4,
    "start_time": "2022-02-08T19:57:32.190Z"
   },
   {
    "duration": 28,
    "start_time": "2022-02-08T19:57:32.196Z"
   },
   {
    "duration": 8,
    "start_time": "2022-02-08T19:57:32.226Z"
   },
   {
    "duration": 36,
    "start_time": "2022-02-08T19:57:32.236Z"
   },
   {
    "duration": 13,
    "start_time": "2022-02-08T19:57:32.274Z"
   },
   {
    "duration": 7,
    "start_time": "2022-02-08T19:57:32.288Z"
   },
   {
    "duration": 470,
    "start_time": "2022-02-08T19:57:32.296Z"
   },
   {
    "duration": 4,
    "start_time": "2022-02-08T19:57:32.767Z"
   },
   {
    "duration": 161,
    "start_time": "2022-02-08T19:57:32.773Z"
   },
   {
    "duration": 560,
    "start_time": "2022-02-08T20:02:26.638Z"
   },
   {
    "duration": 434,
    "start_time": "2022-02-08T20:03:01.483Z"
   },
   {
    "duration": 573,
    "start_time": "2022-02-08T20:03:07.562Z"
   },
   {
    "duration": 293,
    "start_time": "2022-02-08T20:05:12.613Z"
   },
   {
    "duration": 171,
    "start_time": "2022-02-08T20:06:24.296Z"
   },
   {
    "duration": 239,
    "start_time": "2022-02-08T20:08:46.423Z"
   },
   {
    "duration": 4,
    "start_time": "2022-02-08T20:13:38.143Z"
   },
   {
    "duration": 6,
    "start_time": "2022-02-08T20:13:53.999Z"
   },
   {
    "duration": 6,
    "start_time": "2022-02-08T20:15:11.013Z"
   },
   {
    "duration": 7,
    "start_time": "2022-02-08T20:15:11.459Z"
   },
   {
    "duration": 143,
    "start_time": "2022-02-08T20:19:52.122Z"
   },
   {
    "duration": 414,
    "start_time": "2022-02-08T20:19:59.785Z"
   },
   {
    "duration": 972,
    "start_time": "2022-02-08T20:20:55.867Z"
   },
   {
    "duration": 16,
    "start_time": "2022-02-08T20:20:56.840Z"
   },
   {
    "duration": 29,
    "start_time": "2022-02-08T20:20:56.857Z"
   },
   {
    "duration": 16,
    "start_time": "2022-02-08T20:20:56.888Z"
   },
   {
    "duration": 18,
    "start_time": "2022-02-08T20:20:56.906Z"
   },
   {
    "duration": 19,
    "start_time": "2022-02-08T20:20:56.925Z"
   },
   {
    "duration": 17,
    "start_time": "2022-02-08T20:20:56.945Z"
   },
   {
    "duration": 10,
    "start_time": "2022-02-08T20:20:56.964Z"
   },
   {
    "duration": 22,
    "start_time": "2022-02-08T20:20:56.975Z"
   },
   {
    "duration": 10,
    "start_time": "2022-02-08T20:20:56.999Z"
   },
   {
    "duration": 9,
    "start_time": "2022-02-08T20:20:57.010Z"
   },
   {
    "duration": 32,
    "start_time": "2022-02-08T20:20:57.020Z"
   },
   {
    "duration": 13,
    "start_time": "2022-02-08T20:20:57.054Z"
   },
   {
    "duration": 9,
    "start_time": "2022-02-08T20:20:57.069Z"
   },
   {
    "duration": 34,
    "start_time": "2022-02-08T20:20:57.079Z"
   },
   {
    "duration": 18,
    "start_time": "2022-02-08T20:20:57.115Z"
   },
   {
    "duration": 10,
    "start_time": "2022-02-08T20:20:57.135Z"
   },
   {
    "duration": 8,
    "start_time": "2022-02-08T20:20:57.146Z"
   },
   {
    "duration": 18,
    "start_time": "2022-02-08T20:20:57.156Z"
   },
   {
    "duration": 12,
    "start_time": "2022-02-08T20:20:57.175Z"
   },
   {
    "duration": 103,
    "start_time": "2022-02-08T20:20:57.188Z"
   },
   {
    "duration": 12,
    "start_time": "2022-02-08T20:20:57.292Z"
   },
   {
    "duration": 11,
    "start_time": "2022-02-08T20:20:57.307Z"
   },
   {
    "duration": 5,
    "start_time": "2022-02-08T20:20:57.319Z"
   },
   {
    "duration": 4,
    "start_time": "2022-02-08T20:20:57.325Z"
   },
   {
    "duration": 9,
    "start_time": "2022-02-08T20:20:57.331Z"
   },
   {
    "duration": 35,
    "start_time": "2022-02-08T20:20:57.341Z"
   },
   {
    "duration": 3,
    "start_time": "2022-02-08T20:20:57.377Z"
   },
   {
    "duration": 7,
    "start_time": "2022-02-08T20:20:57.381Z"
   },
   {
    "duration": 41,
    "start_time": "2022-02-08T20:20:57.389Z"
   },
   {
    "duration": 8,
    "start_time": "2022-02-08T20:20:57.431Z"
   },
   {
    "duration": 24,
    "start_time": "2022-02-08T20:20:57.440Z"
   },
   {
    "duration": 356,
    "start_time": "2022-02-08T20:20:57.466Z"
   },
   {
    "duration": -28,
    "start_time": "2022-02-08T20:20:57.851Z"
   },
   {
    "duration": -33,
    "start_time": "2022-02-08T20:20:57.857Z"
   },
   {
    "duration": -34,
    "start_time": "2022-02-08T20:20:57.859Z"
   },
   {
    "duration": 14,
    "start_time": "2022-02-08T20:21:17.325Z"
   },
   {
    "duration": 690,
    "start_time": "2022-02-08T20:21:18.215Z"
   },
   {
    "duration": 949,
    "start_time": "2022-02-08T20:22:04.530Z"
   },
   {
    "duration": 17,
    "start_time": "2022-02-08T20:22:05.481Z"
   },
   {
    "duration": 10,
    "start_time": "2022-02-08T20:22:05.500Z"
   },
   {
    "duration": 5,
    "start_time": "2022-02-08T20:22:05.512Z"
   },
   {
    "duration": 3,
    "start_time": "2022-02-08T20:22:05.519Z"
   },
   {
    "duration": 10,
    "start_time": "2022-02-08T20:22:05.524Z"
   },
   {
    "duration": 9,
    "start_time": "2022-02-08T20:22:05.535Z"
   },
   {
    "duration": 28,
    "start_time": "2022-02-08T20:22:05.546Z"
   },
   {
    "duration": 13,
    "start_time": "2022-02-08T20:22:05.576Z"
   },
   {
    "duration": 2,
    "start_time": "2022-02-08T20:22:05.591Z"
   },
   {
    "duration": 6,
    "start_time": "2022-02-08T20:22:05.594Z"
   },
   {
    "duration": 18,
    "start_time": "2022-02-08T20:22:05.602Z"
   },
   {
    "duration": 13,
    "start_time": "2022-02-08T20:22:05.622Z"
   },
   {
    "duration": 7,
    "start_time": "2022-02-08T20:22:05.637Z"
   },
   {
    "duration": 43,
    "start_time": "2022-02-08T20:22:05.646Z"
   },
   {
    "duration": 13,
    "start_time": "2022-02-08T20:22:05.691Z"
   },
   {
    "duration": 9,
    "start_time": "2022-02-08T20:22:05.705Z"
   },
   {
    "duration": 7,
    "start_time": "2022-02-08T20:22:05.716Z"
   },
   {
    "duration": 16,
    "start_time": "2022-02-08T20:22:05.725Z"
   },
   {
    "duration": 31,
    "start_time": "2022-02-08T20:22:05.742Z"
   },
   {
    "duration": 115,
    "start_time": "2022-02-08T20:22:05.775Z"
   },
   {
    "duration": 13,
    "start_time": "2022-02-08T20:22:05.892Z"
   },
   {
    "duration": 13,
    "start_time": "2022-02-08T20:22:05.909Z"
   },
   {
    "duration": 5,
    "start_time": "2022-02-08T20:22:05.923Z"
   },
   {
    "duration": 3,
    "start_time": "2022-02-08T20:22:05.930Z"
   },
   {
    "duration": 40,
    "start_time": "2022-02-08T20:22:05.935Z"
   },
   {
    "duration": 9,
    "start_time": "2022-02-08T20:22:05.977Z"
   },
   {
    "duration": 3,
    "start_time": "2022-02-08T20:22:05.988Z"
   },
   {
    "duration": 4,
    "start_time": "2022-02-08T20:22:05.993Z"
   },
   {
    "duration": 28,
    "start_time": "2022-02-08T20:22:05.998Z"
   },
   {
    "duration": 7,
    "start_time": "2022-02-08T20:22:06.028Z"
   },
   {
    "duration": 40,
    "start_time": "2022-02-08T20:22:06.036Z"
   },
   {
    "duration": 21,
    "start_time": "2022-02-08T20:22:06.077Z"
   },
   {
    "duration": 699,
    "start_time": "2022-02-08T20:22:06.099Z"
   },
   {
    "duration": 15,
    "start_time": "2022-02-08T20:23:46.880Z"
   },
   {
    "duration": 158,
    "start_time": "2022-02-08T20:23:47.842Z"
   },
   {
    "duration": 16,
    "start_time": "2022-02-08T20:31:19.592Z"
   },
   {
    "duration": 381,
    "start_time": "2022-02-08T20:31:21.376Z"
   },
   {
    "duration": 2188,
    "start_time": "2022-02-08T20:31:31.619Z"
   },
   {
    "duration": -91,
    "start_time": "2022-02-08T20:31:33.900Z"
   },
   {
    "duration": 294,
    "start_time": "2022-02-08T20:31:52.508Z"
   },
   {
    "duration": 14,
    "start_time": "2022-02-08T20:32:03.848Z"
   },
   {
    "duration": 288,
    "start_time": "2022-02-08T20:32:05.038Z"
   },
   {
    "duration": 87,
    "start_time": "2022-02-08T20:34:28.969Z"
   },
   {
    "duration": 931,
    "start_time": "2022-02-08T20:35:17.552Z"
   },
   {
    "duration": 3371,
    "start_time": "2022-02-08T20:35:18.736Z"
   },
   {
    "duration": 1163,
    "start_time": "2022-02-08T20:35:44.961Z"
   },
   {
    "duration": 827,
    "start_time": "2022-02-08T20:35:46.572Z"
   },
   {
    "duration": 9763,
    "start_time": "2022-02-08T20:35:59.778Z"
   },
   {
    "duration": 12,
    "start_time": "2022-02-08T20:37:55.545Z"
   },
   {
    "duration": 275,
    "start_time": "2022-02-08T20:37:57.380Z"
   },
   {
    "duration": 161,
    "start_time": "2022-02-08T20:38:12.446Z"
   },
   {
    "duration": 17,
    "start_time": "2022-02-08T20:38:59.623Z"
   },
   {
    "duration": 194,
    "start_time": "2022-02-08T20:39:00.873Z"
   },
   {
    "duration": 12,
    "start_time": "2022-02-08T20:39:24.588Z"
   },
   {
    "duration": 163,
    "start_time": "2022-02-08T20:39:26.423Z"
   },
   {
    "duration": 13,
    "start_time": "2022-02-08T20:42:47.858Z"
   },
   {
    "duration": 156,
    "start_time": "2022-02-08T20:42:48.630Z"
   },
   {
    "duration": 14,
    "start_time": "2022-02-08T20:43:10.378Z"
   },
   {
    "duration": 163,
    "start_time": "2022-02-08T20:43:10.756Z"
   },
   {
    "duration": 7085,
    "start_time": "2022-02-08T20:45:10.428Z"
   },
   {
    "duration": -71,
    "start_time": "2022-02-08T20:45:17.587Z"
   },
   {
    "duration": 15,
    "start_time": "2022-02-08T20:46:32.474Z"
   },
   {
    "duration": 247,
    "start_time": "2022-02-08T20:46:33.752Z"
   },
   {
    "duration": 21,
    "start_time": "2022-02-08T20:48:46.986Z"
   },
   {
    "duration": 17,
    "start_time": "2022-02-08T20:49:39.241Z"
   },
   {
    "duration": 712,
    "start_time": "2022-02-08T20:53:29.978Z"
   },
   {
    "duration": 290,
    "start_time": "2022-02-08T20:54:12.730Z"
   },
   {
    "duration": 274,
    "start_time": "2022-02-08T20:54:28.052Z"
   },
   {
    "duration": 280,
    "start_time": "2022-02-08T20:54:36.673Z"
   },
   {
    "duration": 16,
    "start_time": "2022-02-08T20:54:50.475Z"
   },
   {
    "duration": 14,
    "start_time": "2022-02-08T20:55:03.984Z"
   },
   {
    "duration": 266,
    "start_time": "2022-02-08T20:55:27.309Z"
   },
   {
    "duration": 17,
    "start_time": "2022-02-08T20:56:01.949Z"
   },
   {
    "duration": 18,
    "start_time": "2022-02-08T20:56:14.875Z"
   },
   {
    "duration": 14,
    "start_time": "2022-02-08T20:58:56.138Z"
   },
   {
    "duration": 5091,
    "start_time": "2022-02-08T20:59:55.241Z"
   },
   {
    "duration": 14,
    "start_time": "2022-02-08T21:00:08.063Z"
   },
   {
    "duration": 16,
    "start_time": "2022-02-08T21:00:39.706Z"
   },
   {
    "duration": 14,
    "start_time": "2022-02-08T21:01:01.740Z"
   },
   {
    "duration": 15,
    "start_time": "2022-02-08T21:02:37.470Z"
   },
   {
    "duration": 297,
    "start_time": "2022-02-08T21:04:26.929Z"
   },
   {
    "duration": 298,
    "start_time": "2022-02-08T21:04:38.541Z"
   },
   {
    "duration": 290,
    "start_time": "2022-02-08T21:05:20.621Z"
   },
   {
    "duration": 14,
    "start_time": "2022-02-08T21:05:43.219Z"
   },
   {
    "duration": 15,
    "start_time": "2022-02-08T21:07:17.146Z"
   },
   {
    "duration": 17,
    "start_time": "2022-02-08T21:07:56.781Z"
   },
   {
    "duration": 16,
    "start_time": "2022-02-08T21:08:07.540Z"
   },
   {
    "duration": 17,
    "start_time": "2022-02-08T21:08:18.391Z"
   },
   {
    "duration": 300,
    "start_time": "2022-02-08T21:09:23.963Z"
   },
   {
    "duration": 305,
    "start_time": "2022-02-08T21:09:29.184Z"
   },
   {
    "duration": 335,
    "start_time": "2022-02-08T21:10:32.867Z"
   },
   {
    "duration": 14,
    "start_time": "2022-02-08T21:10:57.440Z"
   },
   {
    "duration": 16,
    "start_time": "2022-02-08T21:11:15.639Z"
   },
   {
    "duration": 15,
    "start_time": "2022-02-08T21:11:32.793Z"
   },
   {
    "duration": 17,
    "start_time": "2022-02-08T21:11:56.108Z"
   },
   {
    "duration": 279,
    "start_time": "2022-02-08T21:12:38.996Z"
   },
   {
    "duration": 16,
    "start_time": "2022-02-08T21:12:43.559Z"
   },
   {
    "duration": 310,
    "start_time": "2022-02-08T21:13:13.701Z"
   },
   {
    "duration": 16,
    "start_time": "2022-02-08T21:13:25.652Z"
   },
   {
    "duration": 16,
    "start_time": "2022-02-08T21:16:22.256Z"
   },
   {
    "duration": 15,
    "start_time": "2022-02-08T21:16:27.581Z"
   },
   {
    "duration": 17,
    "start_time": "2022-02-08T21:16:43.395Z"
   },
   {
    "duration": 289,
    "start_time": "2022-02-08T21:17:46.479Z"
   },
   {
    "duration": 292,
    "start_time": "2022-02-08T21:17:58.786Z"
   },
   {
    "duration": 19,
    "start_time": "2022-02-08T21:18:07.725Z"
   },
   {
    "duration": 362,
    "start_time": "2022-02-09T16:58:40.541Z"
   },
   {
    "duration": 1216,
    "start_time": "2022-02-09T16:58:46.984Z"
   },
   {
    "duration": 27,
    "start_time": "2022-02-09T16:58:48.203Z"
   },
   {
    "duration": 41,
    "start_time": "2022-02-09T16:58:48.234Z"
   },
   {
    "duration": 13,
    "start_time": "2022-02-09T16:58:48.278Z"
   },
   {
    "duration": 4,
    "start_time": "2022-02-09T16:58:48.294Z"
   },
   {
    "duration": 19,
    "start_time": "2022-02-09T16:58:48.301Z"
   },
   {
    "duration": 52,
    "start_time": "2022-02-09T16:58:48.323Z"
   },
   {
    "duration": 14,
    "start_time": "2022-02-09T16:58:48.381Z"
   },
   {
    "duration": 33,
    "start_time": "2022-02-09T16:58:48.399Z"
   },
   {
    "duration": 5,
    "start_time": "2022-02-09T16:58:48.435Z"
   },
   {
    "duration": 3,
    "start_time": "2022-02-09T16:58:48.470Z"
   },
   {
    "duration": 28,
    "start_time": "2022-02-09T16:58:48.476Z"
   },
   {
    "duration": 26,
    "start_time": "2022-02-09T16:58:48.506Z"
   },
   {
    "duration": 46,
    "start_time": "2022-02-09T16:58:48.535Z"
   },
   {
    "duration": 35,
    "start_time": "2022-02-09T16:58:48.584Z"
   },
   {
    "duration": 52,
    "start_time": "2022-02-09T16:58:48.621Z"
   },
   {
    "duration": 11,
    "start_time": "2022-02-09T16:58:48.675Z"
   },
   {
    "duration": 12,
    "start_time": "2022-02-09T16:58:48.689Z"
   },
   {
    "duration": 31,
    "start_time": "2022-02-09T16:58:48.704Z"
   },
   {
    "duration": 46,
    "start_time": "2022-02-09T16:58:48.738Z"
   },
   {
    "duration": 271,
    "start_time": "2022-02-09T16:58:48.787Z"
   },
   {
    "duration": 27,
    "start_time": "2022-02-09T16:58:49.071Z"
   },
   {
    "duration": 28,
    "start_time": "2022-02-09T16:58:49.104Z"
   },
   {
    "duration": 38,
    "start_time": "2022-02-09T16:58:49.136Z"
   },
   {
    "duration": 11,
    "start_time": "2022-02-09T16:58:49.177Z"
   },
   {
    "duration": 25,
    "start_time": "2022-02-09T16:58:49.190Z"
   },
   {
    "duration": 28,
    "start_time": "2022-02-09T16:58:49.218Z"
   },
   {
    "duration": 29,
    "start_time": "2022-02-09T16:58:49.250Z"
   },
   {
    "duration": 24,
    "start_time": "2022-02-09T16:58:49.282Z"
   },
   {
    "duration": 55,
    "start_time": "2022-02-09T16:58:49.309Z"
   },
   {
    "duration": 14,
    "start_time": "2022-02-09T16:58:49.367Z"
   },
   {
    "duration": 21,
    "start_time": "2022-02-09T16:58:49.384Z"
   },
   {
    "duration": 36,
    "start_time": "2022-02-09T16:58:49.407Z"
   },
   {
    "duration": 1133,
    "start_time": "2022-02-09T16:58:49.446Z"
   },
   {
    "duration": 25,
    "start_time": "2022-02-09T16:59:02.822Z"
   },
   {
    "duration": 632,
    "start_time": "2022-02-09T17:01:21.212Z"
   },
   {
    "duration": 520,
    "start_time": "2022-02-09T17:02:01.076Z"
   },
   {
    "duration": 24,
    "start_time": "2022-02-09T17:02:58.330Z"
   },
   {
    "duration": 26,
    "start_time": "2022-02-09T17:03:20.467Z"
   },
   {
    "duration": 28,
    "start_time": "2022-02-09T17:03:37.077Z"
   },
   {
    "duration": 25,
    "start_time": "2022-02-09T17:04:24.323Z"
   },
   {
    "duration": 24,
    "start_time": "2022-02-09T17:04:34.399Z"
   },
   {
    "duration": 31,
    "start_time": "2022-02-09T17:04:45.586Z"
   },
   {
    "duration": 353,
    "start_time": "2022-02-09T17:04:47.599Z"
   },
   {
    "duration": 22,
    "start_time": "2022-02-09T17:05:54.618Z"
   },
   {
    "duration": 94,
    "start_time": "2022-02-09T17:07:22.497Z"
   },
   {
    "duration": 97,
    "start_time": "2022-02-09T17:07:44.637Z"
   },
   {
    "duration": 527,
    "start_time": "2022-02-09T17:08:04.212Z"
   },
   {
    "duration": 138,
    "start_time": "2022-02-09T17:08:07.899Z"
   },
   {
    "duration": 198,
    "start_time": "2022-02-09T17:08:52.379Z"
   },
   {
    "duration": 128,
    "start_time": "2022-02-09T17:09:09.084Z"
   },
   {
    "duration": 371,
    "start_time": "2022-02-09T17:09:31.320Z"
   },
   {
    "duration": 120,
    "start_time": "2022-02-09T17:09:40.490Z"
   },
   {
    "duration": 99,
    "start_time": "2022-02-09T17:09:46.146Z"
   },
   {
    "duration": 404,
    "start_time": "2022-02-09T17:09:53.017Z"
   },
   {
    "duration": 25,
    "start_time": "2022-02-09T17:11:57.257Z"
   },
   {
    "duration": 28,
    "start_time": "2022-02-09T17:12:06.818Z"
   },
   {
    "duration": 25,
    "start_time": "2022-02-09T17:13:08.434Z"
   },
   {
    "duration": 46,
    "start_time": "2022-02-09T17:14:03.712Z"
   },
   {
    "duration": 24,
    "start_time": "2022-02-09T17:14:29.425Z"
   },
   {
    "duration": 23,
    "start_time": "2022-02-09T17:14:45.193Z"
   },
   {
    "duration": 404,
    "start_time": "2022-02-09T17:14:45.923Z"
   },
   {
    "duration": 26,
    "start_time": "2022-02-09T17:16:41.130Z"
   },
   {
    "duration": 28,
    "start_time": "2022-02-09T17:16:49.646Z"
   },
   {
    "duration": 380,
    "start_time": "2022-02-09T17:18:01.588Z"
   },
   {
    "duration": 366,
    "start_time": "2022-02-09T17:18:53.418Z"
   },
   {
    "duration": 23,
    "start_time": "2022-02-09T17:19:24.466Z"
   },
   {
    "duration": 6420,
    "start_time": "2022-02-09T17:20:25.001Z"
   },
   {
    "duration": 335,
    "start_time": "2022-02-09T17:21:32.386Z"
   },
   {
    "duration": 342,
    "start_time": "2022-02-09T17:21:38.027Z"
   },
   {
    "duration": 335,
    "start_time": "2022-02-09T17:21:56.734Z"
   },
   {
    "duration": 36,
    "start_time": "2022-02-09T17:22:09.111Z"
   },
   {
    "duration": 432,
    "start_time": "2022-02-09T17:22:27.306Z"
   },
   {
    "duration": 320,
    "start_time": "2022-02-09T17:23:15.881Z"
   },
   {
    "duration": 307,
    "start_time": "2022-02-09T17:23:45.093Z"
   },
   {
    "duration": 26,
    "start_time": "2022-02-09T17:26:42.390Z"
   },
   {
    "duration": 318,
    "start_time": "2022-02-09T17:41:36.475Z"
   },
   {
    "duration": 319,
    "start_time": "2022-02-09T17:41:37.396Z"
   },
   {
    "duration": 27,
    "start_time": "2022-02-09T17:41:57.040Z"
   },
   {
    "duration": 150,
    "start_time": "2022-02-09T17:42:03.881Z"
   },
   {
    "duration": 339,
    "start_time": "2022-02-09T17:42:05.219Z"
   },
   {
    "duration": 26,
    "start_time": "2022-02-09T17:42:09.488Z"
   },
   {
    "duration": 325,
    "start_time": "2022-02-09T17:42:10.400Z"
   },
   {
    "duration": 33,
    "start_time": "2022-02-09T17:42:24.586Z"
   },
   {
    "duration": 327,
    "start_time": "2022-02-09T17:42:25.429Z"
   },
   {
    "duration": 26,
    "start_time": "2022-02-09T17:43:08.195Z"
   },
   {
    "duration": 302,
    "start_time": "2022-02-09T17:43:10.433Z"
   },
   {
    "duration": 409,
    "start_time": "2022-02-09T17:44:59.299Z"
   },
   {
    "duration": 351,
    "start_time": "2022-02-09T17:45:20.820Z"
   },
   {
    "duration": 360,
    "start_time": "2022-02-09T17:46:20.931Z"
   },
   {
    "duration": 361,
    "start_time": "2022-02-09T17:46:24.669Z"
   },
   {
    "duration": 539,
    "start_time": "2022-02-09T17:47:32.432Z"
   },
   {
    "duration": 104,
    "start_time": "2022-02-09T18:03:20.988Z"
   },
   {
    "duration": 6,
    "start_time": "2022-02-09T18:04:22.090Z"
   },
   {
    "duration": 693,
    "start_time": "2022-02-09T18:04:52.162Z"
   },
   {
    "duration": 6,
    "start_time": "2022-02-09T18:05:09.320Z"
   },
   {
    "duration": 348,
    "start_time": "2022-02-09T18:05:09.329Z"
   },
   {
    "duration": 10,
    "start_time": "2022-02-09T18:10:41.294Z"
   },
   {
    "duration": 8,
    "start_time": "2022-02-09T18:12:16.782Z"
   },
   {
    "duration": 339,
    "start_time": "2022-02-09T18:14:06.958Z"
   },
   {
    "duration": 343,
    "start_time": "2022-02-09T18:15:55.350Z"
   },
   {
    "duration": 465,
    "start_time": "2022-02-09T18:19:29.980Z"
   },
   {
    "duration": 7,
    "start_time": "2022-02-09T18:19:46.018Z"
   },
   {
    "duration": 341,
    "start_time": "2022-02-09T18:19:46.858Z"
   },
   {
    "duration": 338,
    "start_time": "2022-02-09T18:19:49.426Z"
   },
   {
    "duration": 337,
    "start_time": "2022-02-09T18:19:51.584Z"
   },
   {
    "duration": 313,
    "start_time": "2022-02-09T18:20:28.685Z"
   },
   {
    "duration": 327,
    "start_time": "2022-02-09T18:20:38.320Z"
   },
   {
    "duration": 346,
    "start_time": "2022-02-09T18:20:59.739Z"
   },
   {
    "duration": 336,
    "start_time": "2022-02-09T18:21:21.134Z"
   },
   {
    "duration": 335,
    "start_time": "2022-02-09T18:21:27.149Z"
   },
   {
    "duration": 325,
    "start_time": "2022-02-09T18:22:19.599Z"
   },
   {
    "duration": 336,
    "start_time": "2022-02-09T18:22:31.670Z"
   },
   {
    "duration": 440,
    "start_time": "2022-02-09T18:22:50.049Z"
   },
   {
    "duration": 327,
    "start_time": "2022-02-09T18:23:10.719Z"
   },
   {
    "duration": 381,
    "start_time": "2022-02-09T18:23:58.054Z"
   },
   {
    "duration": 331,
    "start_time": "2022-02-09T18:24:15.219Z"
   },
   {
    "duration": 335,
    "start_time": "2022-02-09T18:24:20.358Z"
   },
   {
    "duration": 337,
    "start_time": "2022-02-09T18:24:44.898Z"
   },
   {
    "duration": 6,
    "start_time": "2022-02-09T18:25:32.503Z"
   },
   {
    "duration": 325,
    "start_time": "2022-02-09T18:25:34.793Z"
   },
   {
    "duration": 7,
    "start_time": "2022-02-09T18:25:47.237Z"
   },
   {
    "duration": 337,
    "start_time": "2022-02-09T18:25:48.271Z"
   },
   {
    "duration": 8,
    "start_time": "2022-02-09T18:26:11.639Z"
   },
   {
    "duration": 334,
    "start_time": "2022-02-09T18:26:12.602Z"
   },
   {
    "duration": 7,
    "start_time": "2022-02-09T18:26:25.649Z"
   },
   {
    "duration": 328,
    "start_time": "2022-02-09T18:26:26.559Z"
   },
   {
    "duration": 356,
    "start_time": "2022-02-09T18:26:29.145Z"
   },
   {
    "duration": 445,
    "start_time": "2022-02-09T18:26:54.198Z"
   },
   {
    "duration": 7,
    "start_time": "2022-02-09T18:27:03.612Z"
   },
   {
    "duration": 330,
    "start_time": "2022-02-09T18:27:04.402Z"
   },
   {
    "duration": 8,
    "start_time": "2022-02-09T18:27:13.361Z"
   },
   {
    "duration": 481,
    "start_time": "2022-02-09T18:27:14.314Z"
   },
   {
    "duration": 8,
    "start_time": "2022-02-09T18:27:20.353Z"
   },
   {
    "duration": 334,
    "start_time": "2022-02-09T18:27:22.205Z"
   },
   {
    "duration": 318,
    "start_time": "2022-02-09T18:27:47.381Z"
   },
   {
    "duration": 337,
    "start_time": "2022-02-09T18:28:04.597Z"
   },
   {
    "duration": 111,
    "start_time": "2022-02-09T18:28:45.015Z"
   },
   {
    "duration": 330,
    "start_time": "2022-02-09T18:40:43.842Z"
   },
   {
    "duration": 1086,
    "start_time": "2022-02-09T18:43:42.229Z"
   },
   {
    "duration": 26,
    "start_time": "2022-02-09T18:43:43.318Z"
   },
   {
    "duration": 24,
    "start_time": "2022-02-09T18:43:43.347Z"
   },
   {
    "duration": 10,
    "start_time": "2022-02-09T18:43:43.374Z"
   },
   {
    "duration": 3,
    "start_time": "2022-02-09T18:43:43.387Z"
   },
   {
    "duration": 19,
    "start_time": "2022-02-09T18:43:43.393Z"
   },
   {
    "duration": 15,
    "start_time": "2022-02-09T18:43:43.414Z"
   },
   {
    "duration": 12,
    "start_time": "2022-02-09T18:43:43.469Z"
   },
   {
    "duration": 28,
    "start_time": "2022-02-09T18:43:43.484Z"
   },
   {
    "duration": 3,
    "start_time": "2022-02-09T18:43:43.514Z"
   },
   {
    "duration": 8,
    "start_time": "2022-02-09T18:43:43.519Z"
   },
   {
    "duration": 59,
    "start_time": "2022-02-09T18:43:43.529Z"
   },
   {
    "duration": 23,
    "start_time": "2022-02-09T18:43:43.592Z"
   },
   {
    "duration": 11,
    "start_time": "2022-02-09T18:43:43.618Z"
   },
   {
    "duration": 61,
    "start_time": "2022-02-09T18:43:43.631Z"
   },
   {
    "duration": 22,
    "start_time": "2022-02-09T18:43:43.695Z"
   },
   {
    "duration": 9,
    "start_time": "2022-02-09T18:43:43.720Z"
   },
   {
    "duration": 41,
    "start_time": "2022-02-09T18:43:43.732Z"
   },
   {
    "duration": 17,
    "start_time": "2022-02-09T18:43:43.775Z"
   },
   {
    "duration": 18,
    "start_time": "2022-02-09T18:43:43.794Z"
   },
   {
    "duration": 216,
    "start_time": "2022-02-09T18:43:43.815Z"
   },
   {
    "duration": 18,
    "start_time": "2022-02-09T18:43:44.033Z"
   },
   {
    "duration": 19,
    "start_time": "2022-02-09T18:43:44.068Z"
   },
   {
    "duration": 7,
    "start_time": "2022-02-09T18:43:44.090Z"
   },
   {
    "duration": 7,
    "start_time": "2022-02-09T18:43:44.099Z"
   },
   {
    "duration": 15,
    "start_time": "2022-02-09T18:43:44.108Z"
   },
   {
    "duration": 53,
    "start_time": "2022-02-09T18:43:44.126Z"
   },
   {
    "duration": 8,
    "start_time": "2022-02-09T18:43:44.181Z"
   },
   {
    "duration": 9,
    "start_time": "2022-02-09T18:43:44.191Z"
   },
   {
    "duration": 69,
    "start_time": "2022-02-09T18:43:44.202Z"
   },
   {
    "duration": 11,
    "start_time": "2022-02-09T18:43:44.273Z"
   },
   {
    "duration": 17,
    "start_time": "2022-02-09T18:43:44.286Z"
   },
   {
    "duration": 8,
    "start_time": "2022-02-09T18:43:44.305Z"
   },
   {
    "duration": 1103,
    "start_time": "2022-02-09T18:43:44.316Z"
   },
   {
    "duration": 351,
    "start_time": "2022-02-09T18:43:45.421Z"
   },
   {
    "duration": 337,
    "start_time": "2022-02-09T18:43:45.775Z"
   },
   {
    "duration": 359,
    "start_time": "2022-02-09T18:43:46.115Z"
   },
   {
    "duration": 4,
    "start_time": "2022-02-09T18:51:52.830Z"
   },
   {
    "duration": 1459,
    "start_time": "2022-02-09T19:36:18.252Z"
   },
   {
    "duration": 30,
    "start_time": "2022-02-09T19:36:19.713Z"
   },
   {
    "duration": 23,
    "start_time": "2022-02-09T19:36:19.746Z"
   },
   {
    "duration": 11,
    "start_time": "2022-02-09T19:36:19.772Z"
   },
   {
    "duration": 4,
    "start_time": "2022-02-09T19:36:19.785Z"
   },
   {
    "duration": 20,
    "start_time": "2022-02-09T19:36:19.791Z"
   },
   {
    "duration": 14,
    "start_time": "2022-02-09T19:36:19.813Z"
   },
   {
    "duration": 45,
    "start_time": "2022-02-09T19:36:19.831Z"
   },
   {
    "duration": 25,
    "start_time": "2022-02-09T19:36:19.880Z"
   },
   {
    "duration": 3,
    "start_time": "2022-02-09T19:36:19.908Z"
   },
   {
    "duration": 6,
    "start_time": "2022-02-09T19:36:19.913Z"
   },
   {
    "duration": 55,
    "start_time": "2022-02-09T19:36:19.922Z"
   },
   {
    "duration": 24,
    "start_time": "2022-02-09T19:36:19.979Z"
   },
   {
    "duration": 12,
    "start_time": "2022-02-09T19:36:20.006Z"
   },
   {
    "duration": 71,
    "start_time": "2022-02-09T19:36:20.021Z"
   },
   {
    "duration": 25,
    "start_time": "2022-02-09T19:36:20.095Z"
   },
   {
    "duration": 12,
    "start_time": "2022-02-09T19:36:20.122Z"
   },
   {
    "duration": 38,
    "start_time": "2022-02-09T19:36:20.137Z"
   },
   {
    "duration": 20,
    "start_time": "2022-02-09T19:36:20.178Z"
   },
   {
    "duration": 21,
    "start_time": "2022-02-09T19:36:20.201Z"
   },
   {
    "duration": 225,
    "start_time": "2022-02-09T19:36:20.224Z"
   },
   {
    "duration": 27,
    "start_time": "2022-02-09T19:36:20.451Z"
   },
   {
    "duration": 19,
    "start_time": "2022-02-09T19:36:20.483Z"
   },
   {
    "duration": 7,
    "start_time": "2022-02-09T19:36:20.505Z"
   },
   {
    "duration": 7,
    "start_time": "2022-02-09T19:36:20.515Z"
   },
   {
    "duration": 62,
    "start_time": "2022-02-09T19:36:20.524Z"
   },
   {
    "duration": 20,
    "start_time": "2022-02-09T19:36:20.589Z"
   },
   {
    "duration": 6,
    "start_time": "2022-02-09T19:36:20.612Z"
   },
   {
    "duration": 5,
    "start_time": "2022-02-09T19:36:20.621Z"
   },
   {
    "duration": 94,
    "start_time": "2022-02-09T19:36:20.629Z"
   },
   {
    "duration": 12,
    "start_time": "2022-02-09T19:36:20.726Z"
   },
   {
    "duration": 46,
    "start_time": "2022-02-09T19:36:20.741Z"
   },
   {
    "duration": 8,
    "start_time": "2022-02-09T19:36:20.789Z"
   },
   {
    "duration": 1070,
    "start_time": "2022-02-09T19:36:20.799Z"
   },
   {
    "duration": 354,
    "start_time": "2022-02-09T19:36:21.871Z"
   },
   {
    "duration": 342,
    "start_time": "2022-02-09T19:36:22.227Z"
   },
   {
    "duration": 366,
    "start_time": "2022-02-09T19:36:22.572Z"
   },
   {
    "duration": 667,
    "start_time": "2022-02-10T05:26:18.292Z"
   },
   {
    "duration": 18,
    "start_time": "2022-02-10T05:26:20.797Z"
   },
   {
    "duration": 645,
    "start_time": "2022-02-10T05:26:31.143Z"
   },
   {
    "duration": 19,
    "start_time": "2022-02-10T05:26:31.790Z"
   },
   {
    "duration": 26,
    "start_time": "2022-02-10T05:26:31.812Z"
   },
   {
    "duration": 31,
    "start_time": "2022-02-10T05:26:31.841Z"
   },
   {
    "duration": 74,
    "start_time": "2022-02-10T05:26:31.874Z"
   },
   {
    "duration": 167,
    "start_time": "2022-02-10T05:26:31.950Z"
   },
   {
    "duration": 137,
    "start_time": "2022-02-10T05:26:32.120Z"
   },
   {
    "duration": 96,
    "start_time": "2022-02-10T05:26:32.261Z"
   },
   {
    "duration": 137,
    "start_time": "2022-02-10T05:26:32.360Z"
   },
   {
    "duration": 2,
    "start_time": "2022-02-10T05:26:32.499Z"
   },
   {
    "duration": 8,
    "start_time": "2022-02-10T05:26:32.503Z"
   },
   {
    "duration": 32,
    "start_time": "2022-02-10T05:26:32.513Z"
   },
   {
    "duration": 14,
    "start_time": "2022-02-10T05:26:32.547Z"
   },
   {
    "duration": 9,
    "start_time": "2022-02-10T05:26:32.563Z"
   },
   {
    "duration": 19,
    "start_time": "2022-02-10T05:26:32.574Z"
   },
   {
    "duration": 28,
    "start_time": "2022-02-10T05:26:32.594Z"
   },
   {
    "duration": 10,
    "start_time": "2022-02-10T05:26:32.624Z"
   },
   {
    "duration": 9,
    "start_time": "2022-02-10T05:26:32.636Z"
   },
   {
    "duration": 12,
    "start_time": "2022-02-10T05:26:32.646Z"
   },
   {
    "duration": 14,
    "start_time": "2022-02-10T05:26:32.659Z"
   },
   {
    "duration": 149,
    "start_time": "2022-02-10T05:26:32.675Z"
   },
   {
    "duration": 22,
    "start_time": "2022-02-10T05:26:32.826Z"
   },
   {
    "duration": 18,
    "start_time": "2022-02-10T05:26:32.852Z"
   },
   {
    "duration": 6,
    "start_time": "2022-02-10T05:26:32.873Z"
   },
   {
    "duration": 5,
    "start_time": "2022-02-10T05:26:32.881Z"
   },
   {
    "duration": 44,
    "start_time": "2022-02-10T05:26:32.887Z"
   },
   {
    "duration": 20,
    "start_time": "2022-02-10T05:26:32.934Z"
   },
   {
    "duration": 4,
    "start_time": "2022-02-10T05:26:32.956Z"
   },
   {
    "duration": 6,
    "start_time": "2022-02-10T05:26:32.962Z"
   },
   {
    "duration": 33,
    "start_time": "2022-02-10T05:26:32.969Z"
   },
   {
    "duration": 23,
    "start_time": "2022-02-10T05:26:33.004Z"
   },
   {
    "duration": 16,
    "start_time": "2022-02-10T05:26:33.029Z"
   },
   {
    "duration": 6,
    "start_time": "2022-02-10T05:26:33.047Z"
   },
   {
    "duration": 805,
    "start_time": "2022-02-10T05:26:33.055Z"
   },
   {
    "duration": 215,
    "start_time": "2022-02-10T05:26:33.862Z"
   },
   {
    "duration": 226,
    "start_time": "2022-02-10T05:26:34.079Z"
   },
   {
    "duration": 270,
    "start_time": "2022-02-10T05:26:34.306Z"
   },
   {
    "duration": 698,
    "start_time": "2022-02-15T16:57:29.793Z"
   },
   {
    "duration": 21,
    "start_time": "2022-02-15T16:57:30.492Z"
   },
   {
    "duration": 29,
    "start_time": "2022-02-15T16:57:30.515Z"
   },
   {
    "duration": 20,
    "start_time": "2022-02-15T16:57:30.546Z"
   },
   {
    "duration": 6,
    "start_time": "2022-02-15T16:57:30.568Z"
   },
   {
    "duration": 18,
    "start_time": "2022-02-15T16:57:30.575Z"
   },
   {
    "duration": 13,
    "start_time": "2022-02-15T16:57:30.595Z"
   },
   {
    "duration": 30,
    "start_time": "2022-02-15T16:57:30.611Z"
   },
   {
    "duration": 23,
    "start_time": "2022-02-15T16:57:30.644Z"
   },
   {
    "duration": 5,
    "start_time": "2022-02-15T16:57:30.669Z"
   },
   {
    "duration": 24,
    "start_time": "2022-02-15T16:57:30.676Z"
   },
   {
    "duration": 31,
    "start_time": "2022-02-15T16:57:30.702Z"
   },
   {
    "duration": 25,
    "start_time": "2022-02-15T16:57:30.735Z"
   },
   {
    "duration": 21,
    "start_time": "2022-02-15T16:57:30.762Z"
   },
   {
    "duration": 42,
    "start_time": "2022-02-15T16:57:30.785Z"
   },
   {
    "duration": 30,
    "start_time": "2022-02-15T16:57:30.829Z"
   },
   {
    "duration": 13,
    "start_time": "2022-02-15T16:57:30.861Z"
   },
   {
    "duration": 16,
    "start_time": "2022-02-15T16:57:30.876Z"
   },
   {
    "duration": 23,
    "start_time": "2022-02-15T16:57:30.894Z"
   },
   {
    "duration": 26,
    "start_time": "2022-02-15T16:57:30.919Z"
   },
   {
    "duration": 127,
    "start_time": "2022-02-15T16:57:30.947Z"
   },
   {
    "duration": 16,
    "start_time": "2022-02-15T16:57:31.076Z"
   },
   {
    "duration": 18,
    "start_time": "2022-02-15T16:57:31.108Z"
   },
   {
    "duration": 16,
    "start_time": "2022-02-15T16:57:31.129Z"
   },
   {
    "duration": 8,
    "start_time": "2022-02-15T16:57:31.147Z"
   },
   {
    "duration": 17,
    "start_time": "2022-02-15T16:57:31.157Z"
   },
   {
    "duration": 27,
    "start_time": "2022-02-15T16:57:31.177Z"
   },
   {
    "duration": 36,
    "start_time": "2022-02-15T16:57:31.206Z"
   },
   {
    "duration": 12,
    "start_time": "2022-02-15T16:57:31.245Z"
   },
   {
    "duration": 49,
    "start_time": "2022-02-15T16:57:31.259Z"
   },
   {
    "duration": 22,
    "start_time": "2022-02-15T16:57:31.311Z"
   },
   {
    "duration": 25,
    "start_time": "2022-02-15T16:57:31.335Z"
   },
   {
    "duration": 9,
    "start_time": "2022-02-15T16:57:31.362Z"
   },
   {
    "duration": 799,
    "start_time": "2022-02-15T16:57:31.372Z"
   },
   {
    "duration": 242,
    "start_time": "2022-02-15T16:57:32.173Z"
   },
   {
    "duration": 242,
    "start_time": "2022-02-15T16:57:32.418Z"
   },
   {
    "duration": 254,
    "start_time": "2022-02-15T16:57:32.662Z"
   },
   {
    "duration": 15,
    "start_time": "2022-02-15T17:01:33.203Z"
   },
   {
    "duration": 15,
    "start_time": "2022-02-15T17:06:42.167Z"
   },
   {
    "duration": 1126,
    "start_time": "2022-02-16T14:45:26.249Z"
   },
   {
    "duration": 2,
    "start_time": "2022-02-16T14:46:57.905Z"
   },
   {
    "duration": 65,
    "start_time": "2022-02-16T14:47:05.500Z"
   },
   {
    "duration": 3,
    "start_time": "2022-02-16T14:47:12.028Z"
   },
   {
    "duration": 51,
    "start_time": "2022-02-16T14:47:13.307Z"
   },
   {
    "duration": 6757,
    "start_time": "2022-02-16T14:49:44.812Z"
   },
   {
    "duration": 1118,
    "start_time": "2022-02-16T14:50:14.914Z"
   },
   {
    "duration": 47,
    "start_time": "2022-02-16T14:50:16.034Z"
   },
   {
    "duration": 12,
    "start_time": "2022-02-16T14:50:16.083Z"
   },
   {
    "duration": 10,
    "start_time": "2022-02-16T14:50:16.097Z"
   },
   {
    "duration": 6,
    "start_time": "2022-02-16T14:50:16.109Z"
   },
   {
    "duration": 30,
    "start_time": "2022-02-16T14:50:16.117Z"
   },
   {
    "duration": 10,
    "start_time": "2022-02-16T14:50:16.149Z"
   },
   {
    "duration": 7,
    "start_time": "2022-02-16T14:50:16.161Z"
   },
   {
    "duration": 16,
    "start_time": "2022-02-16T14:50:16.170Z"
   },
   {
    "duration": 3,
    "start_time": "2022-02-16T14:50:16.187Z"
   },
   {
    "duration": 3,
    "start_time": "2022-02-16T14:50:16.191Z"
   },
   {
    "duration": 45,
    "start_time": "2022-02-16T14:50:16.196Z"
   },
   {
    "duration": 15,
    "start_time": "2022-02-16T14:50:16.243Z"
   },
   {
    "duration": 7,
    "start_time": "2022-02-16T14:50:16.260Z"
   },
   {
    "duration": 19,
    "start_time": "2022-02-16T14:50:16.268Z"
   },
   {
    "duration": 12,
    "start_time": "2022-02-16T14:50:16.288Z"
   },
   {
    "duration": 6,
    "start_time": "2022-02-16T14:50:16.301Z"
   },
   {
    "duration": 30,
    "start_time": "2022-02-16T14:50:16.309Z"
   },
   {
    "duration": 12,
    "start_time": "2022-02-16T14:50:16.342Z"
   },
   {
    "duration": 13,
    "start_time": "2022-02-16T14:50:16.356Z"
   },
   {
    "duration": 126,
    "start_time": "2022-02-16T14:50:16.370Z"
   },
   {
    "duration": 12,
    "start_time": "2022-02-16T14:50:16.497Z"
   },
   {
    "duration": 25,
    "start_time": "2022-02-16T14:50:16.512Z"
   },
   {
    "duration": 5,
    "start_time": "2022-02-16T14:50:16.539Z"
   },
   {
    "duration": 4,
    "start_time": "2022-02-16T14:50:16.546Z"
   },
   {
    "duration": 11,
    "start_time": "2022-02-16T14:50:16.551Z"
   },
   {
    "duration": 10,
    "start_time": "2022-02-16T14:50:16.564Z"
   },
   {
    "duration": 3,
    "start_time": "2022-02-16T14:50:16.576Z"
   },
   {
    "duration": 4,
    "start_time": "2022-02-16T14:50:16.581Z"
   },
   {
    "duration": 80,
    "start_time": "2022-02-16T14:50:16.586Z"
   },
   {
    "duration": 7,
    "start_time": "2022-02-16T14:50:16.668Z"
   },
   {
    "duration": 10,
    "start_time": "2022-02-16T14:50:16.677Z"
   },
   {
    "duration": 4,
    "start_time": "2022-02-16T14:50:16.689Z"
   },
   {
    "duration": 202,
    "start_time": "2022-02-16T14:50:16.695Z"
   },
   {
    "duration": 188,
    "start_time": "2022-02-16T14:50:16.899Z"
   },
   {
    "duration": 213,
    "start_time": "2022-02-16T14:50:17.088Z"
   },
   {
    "duration": 209,
    "start_time": "2022-02-16T14:50:17.302Z"
   },
   {
    "duration": 32,
    "start_time": "2022-02-16T14:55:54.709Z"
   },
   {
    "duration": 22,
    "start_time": "2022-02-16T14:56:18.788Z"
   },
   {
    "duration": 7,
    "start_time": "2022-02-16T14:57:52.370Z"
   },
   {
    "duration": 93,
    "start_time": "2022-02-16T14:58:21.853Z"
   },
   {
    "duration": 6,
    "start_time": "2022-02-16T14:58:24.109Z"
   },
   {
    "duration": 1108,
    "start_time": "2022-02-16T14:58:33.638Z"
   },
   {
    "duration": 46,
    "start_time": "2022-02-16T14:58:34.748Z"
   },
   {
    "duration": 13,
    "start_time": "2022-02-16T14:58:34.796Z"
   },
   {
    "duration": 10,
    "start_time": "2022-02-16T14:58:34.811Z"
   },
   {
    "duration": 22,
    "start_time": "2022-02-16T14:58:34.822Z"
   },
   {
    "duration": 8,
    "start_time": "2022-02-16T14:58:34.846Z"
   },
   {
    "duration": 2,
    "start_time": "2022-02-16T14:58:34.856Z"
   },
   {
    "duration": 8,
    "start_time": "2022-02-16T14:58:34.861Z"
   },
   {
    "duration": 13,
    "start_time": "2022-02-16T14:58:34.871Z"
   },
   {
    "duration": 13,
    "start_time": "2022-02-16T14:58:34.886Z"
   },
   {
    "duration": 45,
    "start_time": "2022-02-16T14:58:34.901Z"
   },
   {
    "duration": 8,
    "start_time": "2022-02-16T14:58:34.947Z"
   },
   {
    "duration": 26,
    "start_time": "2022-02-16T14:58:34.957Z"
   },
   {
    "duration": 86,
    "start_time": "2022-02-16T14:58:34.984Z"
   },
   {
    "duration": 7,
    "start_time": "2022-02-16T14:58:35.071Z"
   },
   {
    "duration": 367,
    "start_time": "2022-02-16T14:58:35.080Z"
   },
   {
    "duration": -47,
    "start_time": "2022-02-16T14:58:35.497Z"
   },
   {
    "duration": -49,
    "start_time": "2022-02-16T14:58:35.500Z"
   },
   {
    "duration": -50,
    "start_time": "2022-02-16T14:58:35.502Z"
   },
   {
    "duration": -50,
    "start_time": "2022-02-16T14:58:35.503Z"
   },
   {
    "duration": -52,
    "start_time": "2022-02-16T14:58:35.505Z"
   },
   {
    "duration": -78,
    "start_time": "2022-02-16T14:58:35.532Z"
   },
   {
    "duration": -82,
    "start_time": "2022-02-16T14:58:35.536Z"
   },
   {
    "duration": -83,
    "start_time": "2022-02-16T14:58:35.538Z"
   },
   {
    "duration": -85,
    "start_time": "2022-02-16T14:58:35.541Z"
   },
   {
    "duration": -87,
    "start_time": "2022-02-16T14:58:35.543Z"
   },
   {
    "duration": -87,
    "start_time": "2022-02-16T14:58:35.544Z"
   },
   {
    "duration": -89,
    "start_time": "2022-02-16T14:58:35.546Z"
   },
   {
    "duration": -90,
    "start_time": "2022-02-16T14:58:35.548Z"
   },
   {
    "duration": -91,
    "start_time": "2022-02-16T14:58:35.549Z"
   },
   {
    "duration": -92,
    "start_time": "2022-02-16T14:58:35.551Z"
   },
   {
    "duration": -94,
    "start_time": "2022-02-16T14:58:35.553Z"
   },
   {
    "duration": -95,
    "start_time": "2022-02-16T14:58:35.555Z"
   },
   {
    "duration": -95,
    "start_time": "2022-02-16T14:58:35.556Z"
   },
   {
    "duration": -97,
    "start_time": "2022-02-16T14:58:35.558Z"
   },
   {
    "duration": 15,
    "start_time": "2022-02-16T14:59:03.627Z"
   },
   {
    "duration": 7,
    "start_time": "2022-02-16T14:59:05.372Z"
   },
   {
    "duration": 6,
    "start_time": "2022-02-16T14:59:10.532Z"
   },
   {
    "duration": 139,
    "start_time": "2022-02-16T15:18:51.175Z"
   },
   {
    "duration": 3,
    "start_time": "2022-02-16T15:31:02.116Z"
   },
   {
    "duration": 3,
    "start_time": "2022-02-16T15:32:21.375Z"
   },
   {
    "duration": 543,
    "start_time": "2022-02-16T15:34:13.826Z"
   },
   {
    "duration": 4,
    "start_time": "2022-02-16T15:34:26.754Z"
   },
   {
    "duration": 159,
    "start_time": "2022-02-16T15:34:27.122Z"
   },
   {
    "duration": 120,
    "start_time": "2022-02-16T15:36:28.929Z"
   },
   {
    "duration": 3,
    "start_time": "2022-02-16T15:36:32.921Z"
   },
   {
    "duration": 161,
    "start_time": "2022-02-16T15:36:33.601Z"
   },
   {
    "duration": 4,
    "start_time": "2022-02-16T15:37:47.072Z"
   },
   {
    "duration": 153,
    "start_time": "2022-02-16T15:37:48.946Z"
   },
   {
    "duration": 46,
    "start_time": "2022-02-16T15:38:15.034Z"
   },
   {
    "duration": 7,
    "start_time": "2022-02-16T15:38:32.937Z"
   },
   {
    "duration": 36,
    "start_time": "2022-02-16T15:38:33.786Z"
   },
   {
    "duration": 3,
    "start_time": "2022-02-16T15:38:39.888Z"
   },
   {
    "duration": 34,
    "start_time": "2022-02-16T15:38:40.144Z"
   },
   {
    "duration": 5,
    "start_time": "2022-02-16T15:40:12.664Z"
   },
   {
    "duration": 6,
    "start_time": "2022-02-16T15:40:20.329Z"
   },
   {
    "duration": 1261,
    "start_time": "2022-02-16T15:41:09.503Z"
   },
   {
    "duration": 64,
    "start_time": "2022-02-16T15:41:10.766Z"
   },
   {
    "duration": 19,
    "start_time": "2022-02-16T15:41:10.835Z"
   },
   {
    "duration": 11,
    "start_time": "2022-02-16T15:41:10.856Z"
   },
   {
    "duration": 5,
    "start_time": "2022-02-16T15:41:10.869Z"
   },
   {
    "duration": 8,
    "start_time": "2022-02-16T15:41:10.876Z"
   },
   {
    "duration": 3,
    "start_time": "2022-02-16T15:41:10.885Z"
   },
   {
    "duration": 10,
    "start_time": "2022-02-16T15:41:10.890Z"
   },
   {
    "duration": 48,
    "start_time": "2022-02-16T15:41:10.902Z"
   },
   {
    "duration": 14,
    "start_time": "2022-02-16T15:41:10.951Z"
   },
   {
    "duration": 14,
    "start_time": "2022-02-16T15:41:10.966Z"
   },
   {
    "duration": 8,
    "start_time": "2022-02-16T15:41:10.981Z"
   },
   {
    "duration": 50,
    "start_time": "2022-02-16T15:41:10.990Z"
   },
   {
    "duration": 7,
    "start_time": "2022-02-16T15:41:11.042Z"
   },
   {
    "duration": 37,
    "start_time": "2022-02-16T15:41:11.051Z"
   },
   {
    "duration": 3,
    "start_time": "2022-02-16T15:41:11.090Z"
   },
   {
    "duration": 5,
    "start_time": "2022-02-16T15:41:11.095Z"
   },
   {
    "duration": 382,
    "start_time": "2022-02-16T15:41:11.102Z"
   },
   {
    "duration": -61,
    "start_time": "2022-02-16T15:41:11.547Z"
   },
   {
    "duration": -61,
    "start_time": "2022-02-16T15:41:11.548Z"
   },
   {
    "duration": -62,
    "start_time": "2022-02-16T15:41:11.550Z"
   },
   {
    "duration": -63,
    "start_time": "2022-02-16T15:41:11.552Z"
   },
   {
    "duration": -64,
    "start_time": "2022-02-16T15:41:11.554Z"
   },
   {
    "duration": -65,
    "start_time": "2022-02-16T15:41:11.556Z"
   },
   {
    "duration": -66,
    "start_time": "2022-02-16T15:41:11.558Z"
   },
   {
    "duration": -67,
    "start_time": "2022-02-16T15:41:11.560Z"
   },
   {
    "duration": -83,
    "start_time": "2022-02-16T15:41:11.577Z"
   },
   {
    "duration": -86,
    "start_time": "2022-02-16T15:41:11.581Z"
   },
   {
    "duration": -88,
    "start_time": "2022-02-16T15:41:11.584Z"
   },
   {
    "duration": -90,
    "start_time": "2022-02-16T15:41:11.587Z"
   },
   {
    "duration": -91,
    "start_time": "2022-02-16T15:41:11.589Z"
   },
   {
    "duration": -92,
    "start_time": "2022-02-16T15:41:11.591Z"
   },
   {
    "duration": -93,
    "start_time": "2022-02-16T15:41:11.593Z"
   },
   {
    "duration": -95,
    "start_time": "2022-02-16T15:41:11.595Z"
   },
   {
    "duration": -96,
    "start_time": "2022-02-16T15:41:11.597Z"
   },
   {
    "duration": -97,
    "start_time": "2022-02-16T15:41:11.599Z"
   },
   {
    "duration": -98,
    "start_time": "2022-02-16T15:41:11.601Z"
   },
   {
    "duration": 287,
    "start_time": "2022-02-16T15:42:30.625Z"
   },
   {
    "duration": 273,
    "start_time": "2022-02-16T15:42:35.073Z"
   },
   {
    "duration": 6,
    "start_time": "2022-02-16T15:42:46.641Z"
   },
   {
    "duration": 332,
    "start_time": "2022-02-16T15:42:50.824Z"
   },
   {
    "duration": 4,
    "start_time": "2022-02-16T15:44:37.785Z"
   },
   {
    "duration": 53,
    "start_time": "2022-02-16T15:44:38.527Z"
   },
   {
    "duration": 4,
    "start_time": "2022-02-16T15:44:48.304Z"
   },
   {
    "duration": 10,
    "start_time": "2022-02-16T15:44:50.535Z"
   },
   {
    "duration": 5,
    "start_time": "2022-02-16T15:44:53.808Z"
   },
   {
    "duration": 1225,
    "start_time": "2022-02-16T15:45:37.189Z"
   },
   {
    "duration": 68,
    "start_time": "2022-02-16T15:45:38.416Z"
   },
   {
    "duration": 18,
    "start_time": "2022-02-16T15:45:38.487Z"
   },
   {
    "duration": 33,
    "start_time": "2022-02-16T15:45:38.507Z"
   },
   {
    "duration": 19,
    "start_time": "2022-02-16T15:45:38.544Z"
   },
   {
    "duration": 11,
    "start_time": "2022-02-16T15:45:38.566Z"
   },
   {
    "duration": 4,
    "start_time": "2022-02-16T15:45:38.578Z"
   },
   {
    "duration": 8,
    "start_time": "2022-02-16T15:45:38.585Z"
   },
   {
    "duration": 15,
    "start_time": "2022-02-16T15:45:38.595Z"
   },
   {
    "duration": 37,
    "start_time": "2022-02-16T15:45:38.612Z"
   },
   {
    "duration": 20,
    "start_time": "2022-02-16T15:45:38.651Z"
   },
   {
    "duration": 11,
    "start_time": "2022-02-16T15:45:38.673Z"
   },
   {
    "duration": 71,
    "start_time": "2022-02-16T15:45:38.686Z"
   },
   {
    "duration": 4,
    "start_time": "2022-02-16T15:45:38.759Z"
   },
   {
    "duration": 46,
    "start_time": "2022-02-16T15:45:38.766Z"
   },
   {
    "duration": 28,
    "start_time": "2022-02-16T15:45:38.814Z"
   },
   {
    "duration": 7,
    "start_time": "2022-02-16T15:45:38.844Z"
   },
   {
    "duration": 7,
    "start_time": "2022-02-16T15:45:38.853Z"
   },
   {
    "duration": 12,
    "start_time": "2022-02-16T15:45:38.862Z"
   },
   {
    "duration": 17,
    "start_time": "2022-02-16T15:45:38.876Z"
   },
   {
    "duration": 165,
    "start_time": "2022-02-16T15:45:38.895Z"
   },
   {
    "duration": 17,
    "start_time": "2022-02-16T15:45:39.061Z"
   },
   {
    "duration": 15,
    "start_time": "2022-02-16T15:45:39.082Z"
   },
   {
    "duration": 4,
    "start_time": "2022-02-16T15:45:39.099Z"
   },
   {
    "duration": 30,
    "start_time": "2022-02-16T15:45:39.105Z"
   },
   {
    "duration": 21,
    "start_time": "2022-02-16T15:45:39.138Z"
   },
   {
    "duration": 13,
    "start_time": "2022-02-16T15:45:39.161Z"
   },
   {
    "duration": 6,
    "start_time": "2022-02-16T15:45:39.176Z"
   },
   {
    "duration": 7,
    "start_time": "2022-02-16T15:45:39.184Z"
   },
   {
    "duration": 31,
    "start_time": "2022-02-16T15:45:39.193Z"
   },
   {
    "duration": 12,
    "start_time": "2022-02-16T15:45:39.231Z"
   },
   {
    "duration": 20,
    "start_time": "2022-02-16T15:45:39.248Z"
   },
   {
    "duration": 5,
    "start_time": "2022-02-16T15:45:39.271Z"
   },
   {
    "duration": 269,
    "start_time": "2022-02-16T15:45:39.278Z"
   },
   {
    "duration": 270,
    "start_time": "2022-02-16T15:45:39.552Z"
   },
   {
    "duration": 269,
    "start_time": "2022-02-16T15:45:39.824Z"
   },
   {
    "duration": 256,
    "start_time": "2022-02-16T15:45:40.095Z"
   },
   {
    "duration": 4,
    "start_time": "2022-02-16T15:46:38.895Z"
   },
   {
    "duration": 38,
    "start_time": "2022-02-16T15:46:39.598Z"
   },
   {
    "duration": 5,
    "start_time": "2022-02-16T15:46:59.063Z"
   },
   {
    "duration": 43,
    "start_time": "2022-02-16T15:46:59.526Z"
   },
   {
    "duration": 4,
    "start_time": "2022-02-16T15:47:24.406Z"
   },
   {
    "duration": 36,
    "start_time": "2022-02-16T15:47:24.726Z"
   },
   {
    "duration": 19,
    "start_time": "2022-02-16T15:48:21.734Z"
   },
   {
    "duration": 15,
    "start_time": "2022-02-16T15:48:28.206Z"
   },
   {
    "duration": 14,
    "start_time": "2022-02-16T15:48:32.526Z"
   },
   {
    "duration": 334,
    "start_time": "2022-02-16T15:49:02.966Z"
   },
   {
    "duration": 259,
    "start_time": "2022-02-16T15:49:36.461Z"
   },
   {
    "duration": 19,
    "start_time": "2022-02-16T15:49:47.997Z"
   },
   {
    "duration": 16,
    "start_time": "2022-02-16T15:50:14.469Z"
   },
   {
    "duration": 18,
    "start_time": "2022-02-16T15:50:22.885Z"
   },
   {
    "duration": 27,
    "start_time": "2022-02-16T15:50:40.894Z"
   },
   {
    "duration": 20,
    "start_time": "2022-02-16T15:51:48.533Z"
   },
   {
    "duration": 13,
    "start_time": "2022-02-16T15:52:10.061Z"
   },
   {
    "duration": 16,
    "start_time": "2022-02-16T15:52:14.124Z"
   },
   {
    "duration": 17,
    "start_time": "2022-02-16T15:53:28.220Z"
   },
   {
    "duration": 19,
    "start_time": "2022-02-16T15:53:32.469Z"
   },
   {
    "duration": 27,
    "start_time": "2022-02-16T15:53:41.118Z"
   },
   {
    "duration": 306,
    "start_time": "2022-02-16T15:54:19.676Z"
   },
   {
    "duration": 91,
    "start_time": "2022-02-16T15:54:24.501Z"
   },
   {
    "duration": 496,
    "start_time": "2022-02-16T15:54:37.124Z"
   },
   {
    "duration": 6386,
    "start_time": "2022-02-16T15:55:24.516Z"
   },
   {
    "duration": 28,
    "start_time": "2022-02-16T15:55:38.356Z"
   },
   {
    "duration": 19,
    "start_time": "2022-02-16T15:55:46.092Z"
   },
   {
    "duration": 17,
    "start_time": "2022-02-16T15:55:55.676Z"
   },
   {
    "duration": 27,
    "start_time": "2022-02-16T15:56:05.213Z"
   },
   {
    "duration": 32,
    "start_time": "2022-02-16T15:56:19.843Z"
   },
   {
    "duration": 27,
    "start_time": "2022-02-16T15:56:23.252Z"
   },
   {
    "duration": 3,
    "start_time": "2022-02-16T15:56:55.507Z"
   },
   {
    "duration": 28,
    "start_time": "2022-02-16T15:57:52.123Z"
   },
   {
    "duration": 23,
    "start_time": "2022-02-16T15:58:02.155Z"
   },
   {
    "duration": 255,
    "start_time": "2022-02-16T15:58:10.980Z"
   },
   {
    "duration": 17,
    "start_time": "2022-02-16T15:58:20.939Z"
   },
   {
    "duration": 17,
    "start_time": "2022-02-16T15:58:29.826Z"
   },
   {
    "duration": 16,
    "start_time": "2022-02-16T15:58:42.186Z"
   },
   {
    "duration": 15,
    "start_time": "2022-02-16T15:58:47.066Z"
   },
   {
    "duration": 276,
    "start_time": "2022-02-16T15:59:58.019Z"
   },
   {
    "duration": 34,
    "start_time": "2022-02-16T16:01:13.793Z"
   },
   {
    "duration": 27,
    "start_time": "2022-02-16T16:01:27.595Z"
   },
   {
    "duration": 27,
    "start_time": "2022-02-16T16:01:38.010Z"
   },
   {
    "duration": 14,
    "start_time": "2022-02-16T16:01:59.025Z"
   },
   {
    "duration": 29,
    "start_time": "2022-02-16T16:02:00.737Z"
   },
   {
    "duration": 100,
    "start_time": "2022-02-16T16:06:01.969Z"
   },
   {
    "duration": 5,
    "start_time": "2022-02-16T16:15:39.526Z"
   },
   {
    "duration": 82,
    "start_time": "2022-02-16T16:37:43.927Z"
   },
   {
    "duration": 1100,
    "start_time": "2022-02-16T16:52:50.797Z"
   },
   {
    "duration": 66,
    "start_time": "2022-02-16T16:52:51.898Z"
   },
   {
    "duration": 14,
    "start_time": "2022-02-16T16:52:51.966Z"
   },
   {
    "duration": 11,
    "start_time": "2022-02-16T16:52:51.982Z"
   },
   {
    "duration": 7,
    "start_time": "2022-02-16T16:52:51.995Z"
   },
   {
    "duration": 39,
    "start_time": "2022-02-16T16:52:52.004Z"
   },
   {
    "duration": 4,
    "start_time": "2022-02-16T16:52:52.046Z"
   },
   {
    "duration": 11,
    "start_time": "2022-02-16T16:52:52.053Z"
   },
   {
    "duration": 16,
    "start_time": "2022-02-16T16:52:52.067Z"
   },
   {
    "duration": 18,
    "start_time": "2022-02-16T16:52:52.085Z"
   },
   {
    "duration": 20,
    "start_time": "2022-02-16T16:52:52.133Z"
   },
   {
    "duration": 10,
    "start_time": "2022-02-16T16:52:52.155Z"
   },
   {
    "duration": 27,
    "start_time": "2022-02-16T16:52:52.167Z"
   },
   {
    "duration": 5,
    "start_time": "2022-02-16T16:52:52.196Z"
   },
   {
    "duration": 64,
    "start_time": "2022-02-16T16:52:52.202Z"
   },
   {
    "duration": 4,
    "start_time": "2022-02-16T16:52:52.267Z"
   },
   {
    "duration": 5,
    "start_time": "2022-02-16T16:52:52.273Z"
   },
   {
    "duration": 8,
    "start_time": "2022-02-16T16:52:52.280Z"
   },
   {
    "duration": 14,
    "start_time": "2022-02-16T16:52:52.290Z"
   },
   {
    "duration": 30,
    "start_time": "2022-02-16T16:52:52.306Z"
   },
   {
    "duration": 114,
    "start_time": "2022-02-16T16:52:52.339Z"
   },
   {
    "duration": 17,
    "start_time": "2022-02-16T16:52:52.454Z"
   },
   {
    "duration": 24,
    "start_time": "2022-02-16T16:52:52.474Z"
   },
   {
    "duration": 58,
    "start_time": "2022-02-16T16:52:52.500Z"
   },
   {
    "duration": 11,
    "start_time": "2022-02-16T16:52:52.559Z"
   },
   {
    "duration": 10,
    "start_time": "2022-02-16T16:52:52.572Z"
   },
   {
    "duration": 7,
    "start_time": "2022-02-16T16:52:52.583Z"
   },
   {
    "duration": 4,
    "start_time": "2022-02-16T16:52:52.592Z"
   },
   {
    "duration": 41,
    "start_time": "2022-02-16T16:52:52.598Z"
   },
   {
    "duration": 13,
    "start_time": "2022-02-16T16:52:52.642Z"
   },
   {
    "duration": 9,
    "start_time": "2022-02-16T16:52:52.657Z"
   },
   {
    "duration": 6,
    "start_time": "2022-02-16T16:52:52.668Z"
   },
   {
    "duration": 35,
    "start_time": "2022-02-16T16:52:52.676Z"
   },
   {
    "duration": 24,
    "start_time": "2022-02-16T16:52:52.713Z"
   },
   {
    "duration": 12,
    "start_time": "2022-02-16T16:52:52.739Z"
   },
   {
    "duration": 6,
    "start_time": "2022-02-16T16:52:52.753Z"
   },
   {
    "duration": 206,
    "start_time": "2022-02-16T16:52:52.760Z"
   },
   {
    "duration": 190,
    "start_time": "2022-02-16T16:52:52.968Z"
   },
   {
    "duration": 274,
    "start_time": "2022-02-16T16:52:53.161Z"
   },
   {
    "duration": 198,
    "start_time": "2022-02-16T16:52:53.437Z"
   },
   {
    "duration": 40,
    "start_time": "2022-02-16T17:08:15.672Z"
   },
   {
    "duration": 382,
    "start_time": "2022-02-16T17:12:44.174Z"
   },
   {
    "duration": 40,
    "start_time": "2022-02-16T17:12:49.567Z"
   },
   {
    "duration": 288,
    "start_time": "2022-02-16T17:13:35.351Z"
   },
   {
    "duration": 1082,
    "start_time": "2022-02-16T17:20:38.561Z"
   },
   {
    "duration": 59,
    "start_time": "2022-02-16T17:20:39.645Z"
   },
   {
    "duration": 13,
    "start_time": "2022-02-16T17:20:39.706Z"
   },
   {
    "duration": 11,
    "start_time": "2022-02-16T17:20:39.721Z"
   },
   {
    "duration": 6,
    "start_time": "2022-02-16T17:20:39.734Z"
   },
   {
    "duration": 8,
    "start_time": "2022-02-16T17:20:39.741Z"
   },
   {
    "duration": 3,
    "start_time": "2022-02-16T17:20:39.751Z"
   },
   {
    "duration": 9,
    "start_time": "2022-02-16T17:20:39.755Z"
   },
   {
    "duration": 14,
    "start_time": "2022-02-16T17:20:39.766Z"
   },
   {
    "duration": 50,
    "start_time": "2022-02-16T17:20:39.782Z"
   },
   {
    "duration": 16,
    "start_time": "2022-02-16T17:20:39.834Z"
   },
   {
    "duration": 7,
    "start_time": "2022-02-16T17:20:39.852Z"
   },
   {
    "duration": 27,
    "start_time": "2022-02-16T17:20:39.861Z"
   },
   {
    "duration": 4,
    "start_time": "2022-02-16T17:20:39.889Z"
   },
   {
    "duration": 69,
    "start_time": "2022-02-16T17:20:39.895Z"
   },
   {
    "duration": 5,
    "start_time": "2022-02-16T17:20:39.966Z"
   },
   {
    "duration": 7,
    "start_time": "2022-02-16T17:20:39.973Z"
   },
   {
    "duration": 5,
    "start_time": "2022-02-16T17:20:39.981Z"
   },
   {
    "duration": 11,
    "start_time": "2022-02-16T17:20:39.987Z"
   },
   {
    "duration": 44,
    "start_time": "2022-02-16T17:20:40.000Z"
   },
   {
    "duration": 118,
    "start_time": "2022-02-16T17:20:40.045Z"
   },
   {
    "duration": 18,
    "start_time": "2022-02-16T17:20:40.165Z"
   },
   {
    "duration": 48,
    "start_time": "2022-02-16T17:20:40.185Z"
   },
   {
    "duration": 33,
    "start_time": "2022-02-16T17:20:40.234Z"
   },
   {
    "duration": 10,
    "start_time": "2022-02-16T17:20:40.269Z"
   },
   {
    "duration": 10,
    "start_time": "2022-02-16T17:20:40.281Z"
   },
   {
    "duration": 6,
    "start_time": "2022-02-16T17:20:40.294Z"
   },
   {
    "duration": 4,
    "start_time": "2022-02-16T17:20:40.301Z"
   },
   {
    "duration": 9,
    "start_time": "2022-02-16T17:20:40.332Z"
   },
   {
    "duration": 10,
    "start_time": "2022-02-16T17:20:40.342Z"
   },
   {
    "duration": 4,
    "start_time": "2022-02-16T17:20:40.353Z"
   },
   {
    "duration": 4,
    "start_time": "2022-02-16T17:20:40.359Z"
   },
   {
    "duration": 33,
    "start_time": "2022-02-16T17:20:40.365Z"
   },
   {
    "duration": 36,
    "start_time": "2022-02-16T17:20:40.400Z"
   },
   {
    "duration": 9,
    "start_time": "2022-02-16T17:20:40.437Z"
   },
   {
    "duration": 4,
    "start_time": "2022-02-16T17:20:40.448Z"
   },
   {
    "duration": 210,
    "start_time": "2022-02-16T17:20:40.453Z"
   },
   {
    "duration": 196,
    "start_time": "2022-02-16T17:20:40.665Z"
   },
   {
    "duration": 199,
    "start_time": "2022-02-16T17:20:40.863Z"
   },
   {
    "duration": 209,
    "start_time": "2022-02-16T17:20:41.063Z"
   },
   {
    "duration": 1286,
    "start_time": "2022-02-16T20:43:14.147Z"
   },
   {
    "duration": 61,
    "start_time": "2022-02-16T20:43:15.435Z"
   },
   {
    "duration": 14,
    "start_time": "2022-02-16T20:43:15.499Z"
   },
   {
    "duration": 34,
    "start_time": "2022-02-16T20:43:15.515Z"
   },
   {
    "duration": 12,
    "start_time": "2022-02-16T20:43:15.551Z"
   },
   {
    "duration": 15,
    "start_time": "2022-02-16T20:43:15.565Z"
   },
   {
    "duration": 12,
    "start_time": "2022-02-16T20:43:15.582Z"
   },
   {
    "duration": 11,
    "start_time": "2022-02-16T20:43:15.598Z"
   },
   {
    "duration": 25,
    "start_time": "2022-02-16T20:43:15.612Z"
   },
   {
    "duration": 20,
    "start_time": "2022-02-16T20:43:15.639Z"
   },
   {
    "duration": 23,
    "start_time": "2022-02-16T20:43:15.661Z"
   },
   {
    "duration": 10,
    "start_time": "2022-02-16T20:43:15.687Z"
   },
   {
    "duration": 44,
    "start_time": "2022-02-16T20:43:15.699Z"
   },
   {
    "duration": 28,
    "start_time": "2022-02-16T20:43:15.745Z"
   },
   {
    "duration": 71,
    "start_time": "2022-02-16T20:43:15.776Z"
   },
   {
    "duration": 6,
    "start_time": "2022-02-16T20:43:15.849Z"
   },
   {
    "duration": 25,
    "start_time": "2022-02-16T20:43:15.857Z"
   },
   {
    "duration": 26,
    "start_time": "2022-02-16T20:43:15.885Z"
   },
   {
    "duration": 20,
    "start_time": "2022-02-16T20:43:15.914Z"
   },
   {
    "duration": 35,
    "start_time": "2022-02-16T20:43:15.937Z"
   },
   {
    "duration": 140,
    "start_time": "2022-02-16T20:43:15.974Z"
   },
   {
    "duration": 19,
    "start_time": "2022-02-16T20:43:16.116Z"
   },
   {
    "duration": 61,
    "start_time": "2022-02-16T20:43:16.139Z"
   },
   {
    "duration": 36,
    "start_time": "2022-02-16T20:43:16.201Z"
   },
   {
    "duration": 12,
    "start_time": "2022-02-16T20:43:16.239Z"
   },
   {
    "duration": 21,
    "start_time": "2022-02-16T20:43:16.271Z"
   },
   {
    "duration": 7,
    "start_time": "2022-02-16T20:43:16.294Z"
   },
   {
    "duration": 33,
    "start_time": "2022-02-16T20:43:16.303Z"
   },
   {
    "duration": 22,
    "start_time": "2022-02-16T20:43:16.338Z"
   },
   {
    "duration": 27,
    "start_time": "2022-02-16T20:43:16.362Z"
   },
   {
    "duration": 34,
    "start_time": "2022-02-16T20:43:16.393Z"
   },
   {
    "duration": 33,
    "start_time": "2022-02-16T20:43:16.429Z"
   },
   {
    "duration": 52,
    "start_time": "2022-02-16T20:43:16.464Z"
   },
   {
    "duration": 10,
    "start_time": "2022-02-16T20:43:16.517Z"
   },
   {
    "duration": 17,
    "start_time": "2022-02-16T20:43:16.529Z"
   },
   {
    "duration": 15,
    "start_time": "2022-02-16T20:43:16.548Z"
   },
   {
    "duration": 247,
    "start_time": "2022-02-16T20:43:16.565Z"
   },
   {
    "duration": 250,
    "start_time": "2022-02-16T20:43:16.813Z"
   },
   {
    "duration": 259,
    "start_time": "2022-02-16T20:43:17.069Z"
   },
   {
    "duration": 280,
    "start_time": "2022-02-16T20:43:17.329Z"
   }
  ],
  "kernelspec": {
   "display_name": "Python 3 (ipykernel)",
   "language": "python",
   "name": "python3"
  },
  "language_info": {
   "codemirror_mode": {
    "name": "ipython",
    "version": 3
   },
   "file_extension": ".py",
   "mimetype": "text/x-python",
   "name": "python",
   "nbconvert_exporter": "python",
   "pygments_lexer": "ipython3",
   "version": "3.7.8"
  },
  "toc": {
   "base_numbering": 1,
   "nav_menu": {},
   "number_sections": false,
   "sideBar": true,
   "skip_h1_title": false,
   "title_cell": "Table of Contents",
   "title_sidebar": "Contents",
   "toc_cell": false,
   "toc_position": {
    "height": "calc(100% - 180px)",
    "left": "10px",
    "top": "150px",
    "width": "358.188px"
   },
   "toc_section_display": true,
   "toc_window_display": true
  },
  "toc-autonumbering": false,
  "toc-showmarkdowntxt": false
 },
 "nbformat": 4,
 "nbformat_minor": 4
}
