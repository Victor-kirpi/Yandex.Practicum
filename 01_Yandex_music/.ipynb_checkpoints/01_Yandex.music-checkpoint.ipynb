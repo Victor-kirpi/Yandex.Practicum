{
 "cells": [
  {
   "cell_type": "markdown",
   "metadata": {
    "id": "E0vqbgi9ay0H"
   },
   "source": [
    "# Яндекс.Музыка"
   ]
  },
  {
   "cell_type": "markdown",
   "metadata": {
    "id": "VUC88oWjTJw2"
   },
   "source": [
    "Сравнение Москвы и Петербурга окружено мифами. Например:\n",
    " * Москва — мегаполис, подчинённый жёсткому ритму рабочей недели;\n",
    " * Петербург — культурная столица, со своими вкусами.\n",
    "\n",
    "На данных Яндекс.Музыки сравним поведение пользователей двух столиц.\n",
    "\n",
    "**Цель исследования** — проверить три гипотезы:\n",
    "1. Активность пользователей зависит от дня недели. Причём в Москве и Петербурге это проявляется по-разному.\n",
    "2. В понедельник утром в Москве преобладают одни жанры, а в Петербурге — другие. Так же и вечером пятницы преобладают разные жанры — в зависимости от города. \n",
    "3. Москва и Петербург предпочитают разные жанры музыки. В Москве чаще слушают поп-музыку, в Петербурге — русский рэп.\n",
    "\n",
    "**Ход исследования**\n",
    "\n",
    "Данные о поведении пользователей мы получаем из файла `yandex_music_project.csv`. О качестве данных ничего не известно. Поэтому перед проверкой гипотез понадобится обзор данных. \n",
    "\n",
    "Проверим данные на ошибки и оценим их влияние на исследование. Затем, на этапе предобработки мы найдем возможность исправить самые критичные ошибки данных.\n",
    " \n",
    "Таким образом, исследование пройдёт в три этапа:\n",
    " 1. Обзор данных.\n",
    " 2. Предобработка данных.\n",
    " 3. Проверка гипотез.\n",
    "\n"
   ]
  },
  {
   "cell_type": "markdown",
   "metadata": {
    "id": "Ml1hmfXC_Zcs"
   },
   "source": [
    "## Обзор данных\n",
    "\n",
    "Составьте первое представление о данных Яндекс.Музыки.\n",
    "\n",
    "\n"
   ]
  },
  {
   "cell_type": "markdown",
   "metadata": {
    "id": "57eAOGIz_Zcs"
   },
   "source": [
    "Основной инструмент аналитика — `pandas`. Импортируем эту библиотеку."
   ]
  },
  {
   "cell_type": "code",
   "execution_count": 1,
   "metadata": {
    "id": "AXN7PHPN_Zcs"
   },
   "outputs": [],
   "source": [
    "import pandas as pd"
   ]
  },
  {
   "cell_type": "markdown",
   "metadata": {
    "id": "SG23P8tt_Zcs"
   },
   "source": [
    "Прочитаем файл `yandex_music_project.csv` из папки `/datasets` и сохраним его в переменной `df`:"
   ]
  },
  {
   "cell_type": "code",
   "execution_count": 2,
   "metadata": {
    "id": "fFVu7vqh_Zct",
    "scrolled": true
   },
   "outputs": [],
   "source": [
    "df = pd.read_csv('/datasets/yandex_music_project.csv')"
   ]
  },
  {
   "cell_type": "markdown",
   "metadata": {
    "id": "rDoOMd3uTqnZ"
   },
   "source": [
    "Выведем на экран первые десять строк таблицы:"
   ]
  },
  {
   "cell_type": "code",
   "execution_count": 3,
   "metadata": {
    "id": "oWTVX3gW_Zct"
   },
   "outputs": [
    {
     "data": {
      "text/html": [
       "<div>\n",
       "<style scoped>\n",
       "    .dataframe tbody tr th:only-of-type {\n",
       "        vertical-align: middle;\n",
       "    }\n",
       "\n",
       "    .dataframe tbody tr th {\n",
       "        vertical-align: top;\n",
       "    }\n",
       "\n",
       "    .dataframe thead th {\n",
       "        text-align: right;\n",
       "    }\n",
       "</style>\n",
       "<table border=\"1\" class=\"dataframe\">\n",
       "  <thead>\n",
       "    <tr style=\"text-align: right;\">\n",
       "      <th></th>\n",
       "      <th>userID</th>\n",
       "      <th>Track</th>\n",
       "      <th>artist</th>\n",
       "      <th>genre</th>\n",
       "      <th>City</th>\n",
       "      <th>time</th>\n",
       "      <th>Day</th>\n",
       "    </tr>\n",
       "  </thead>\n",
       "  <tbody>\n",
       "    <tr>\n",
       "      <td>0</td>\n",
       "      <td>FFB692EC</td>\n",
       "      <td>Kamigata To Boots</td>\n",
       "      <td>The Mass Missile</td>\n",
       "      <td>rock</td>\n",
       "      <td>Saint-Petersburg</td>\n",
       "      <td>20:28:33</td>\n",
       "      <td>Wednesday</td>\n",
       "    </tr>\n",
       "    <tr>\n",
       "      <td>1</td>\n",
       "      <td>55204538</td>\n",
       "      <td>Delayed Because of Accident</td>\n",
       "      <td>Andreas Rönnberg</td>\n",
       "      <td>rock</td>\n",
       "      <td>Moscow</td>\n",
       "      <td>14:07:09</td>\n",
       "      <td>Friday</td>\n",
       "    </tr>\n",
       "    <tr>\n",
       "      <td>2</td>\n",
       "      <td>20EC38</td>\n",
       "      <td>Funiculì funiculà</td>\n",
       "      <td>Mario Lanza</td>\n",
       "      <td>pop</td>\n",
       "      <td>Saint-Petersburg</td>\n",
       "      <td>20:58:07</td>\n",
       "      <td>Wednesday</td>\n",
       "    </tr>\n",
       "    <tr>\n",
       "      <td>3</td>\n",
       "      <td>A3DD03C9</td>\n",
       "      <td>Dragons in the Sunset</td>\n",
       "      <td>Fire + Ice</td>\n",
       "      <td>folk</td>\n",
       "      <td>Saint-Petersburg</td>\n",
       "      <td>08:37:09</td>\n",
       "      <td>Monday</td>\n",
       "    </tr>\n",
       "    <tr>\n",
       "      <td>4</td>\n",
       "      <td>E2DC1FAE</td>\n",
       "      <td>Soul People</td>\n",
       "      <td>Space Echo</td>\n",
       "      <td>dance</td>\n",
       "      <td>Moscow</td>\n",
       "      <td>08:34:34</td>\n",
       "      <td>Monday</td>\n",
       "    </tr>\n",
       "    <tr>\n",
       "      <td>5</td>\n",
       "      <td>842029A1</td>\n",
       "      <td>Преданная</td>\n",
       "      <td>IMPERVTOR</td>\n",
       "      <td>rusrap</td>\n",
       "      <td>Saint-Petersburg</td>\n",
       "      <td>13:09:41</td>\n",
       "      <td>Friday</td>\n",
       "    </tr>\n",
       "    <tr>\n",
       "      <td>6</td>\n",
       "      <td>4CB90AA5</td>\n",
       "      <td>True</td>\n",
       "      <td>Roman Messer</td>\n",
       "      <td>dance</td>\n",
       "      <td>Moscow</td>\n",
       "      <td>13:00:07</td>\n",
       "      <td>Wednesday</td>\n",
       "    </tr>\n",
       "    <tr>\n",
       "      <td>7</td>\n",
       "      <td>F03E1C1F</td>\n",
       "      <td>Feeling This Way</td>\n",
       "      <td>Polina Griffith</td>\n",
       "      <td>dance</td>\n",
       "      <td>Moscow</td>\n",
       "      <td>20:47:49</td>\n",
       "      <td>Wednesday</td>\n",
       "    </tr>\n",
       "    <tr>\n",
       "      <td>8</td>\n",
       "      <td>8FA1D3BE</td>\n",
       "      <td>И вновь продолжается бой</td>\n",
       "      <td>NaN</td>\n",
       "      <td>ruspop</td>\n",
       "      <td>Moscow</td>\n",
       "      <td>09:17:40</td>\n",
       "      <td>Friday</td>\n",
       "    </tr>\n",
       "    <tr>\n",
       "      <td>9</td>\n",
       "      <td>E772D5C0</td>\n",
       "      <td>Pessimist</td>\n",
       "      <td>NaN</td>\n",
       "      <td>dance</td>\n",
       "      <td>Saint-Petersburg</td>\n",
       "      <td>21:20:49</td>\n",
       "      <td>Wednesday</td>\n",
       "    </tr>\n",
       "  </tbody>\n",
       "</table>\n",
       "</div>"
      ],
      "text/plain": [
       "     userID                        Track            artist   genre  \\\n",
       "0  FFB692EC            Kamigata To Boots  The Mass Missile    rock   \n",
       "1  55204538  Delayed Because of Accident  Andreas Rönnberg    rock   \n",
       "2    20EC38            Funiculì funiculà       Mario Lanza     pop   \n",
       "3  A3DD03C9        Dragons in the Sunset        Fire + Ice    folk   \n",
       "4  E2DC1FAE                  Soul People        Space Echo   dance   \n",
       "5  842029A1                    Преданная         IMPERVTOR  rusrap   \n",
       "6  4CB90AA5                         True      Roman Messer   dance   \n",
       "7  F03E1C1F             Feeling This Way   Polina Griffith   dance   \n",
       "8  8FA1D3BE     И вновь продолжается бой               NaN  ruspop   \n",
       "9  E772D5C0                    Pessimist               NaN   dance   \n",
       "\n",
       "             City        time        Day  \n",
       "0  Saint-Petersburg  20:28:33  Wednesday  \n",
       "1            Moscow  14:07:09     Friday  \n",
       "2  Saint-Petersburg  20:58:07  Wednesday  \n",
       "3  Saint-Petersburg  08:37:09     Monday  \n",
       "4            Moscow  08:34:34     Monday  \n",
       "5  Saint-Petersburg  13:09:41     Friday  \n",
       "6            Moscow  13:00:07  Wednesday  \n",
       "7            Moscow  20:47:49  Wednesday  \n",
       "8            Moscow  09:17:40     Friday  \n",
       "9  Saint-Petersburg  21:20:49  Wednesday  "
      ]
     },
     "metadata": {},
     "output_type": "display_data"
    }
   ],
   "source": [
    "display(df.head(10))"
   ]
  },
  {
   "cell_type": "markdown",
   "metadata": {
    "id": "EO73Kwic_Zct"
   },
   "source": [
    "Одной командой получим общую информацию о таблице:"
   ]
  },
  {
   "cell_type": "code",
   "execution_count": 4,
   "metadata": {
    "id": "DSf2kIb-_Zct"
   },
   "outputs": [
    {
     "name": "stdout",
     "output_type": "stream",
     "text": [
      "<class 'pandas.core.frame.DataFrame'>\n",
      "RangeIndex: 65079 entries, 0 to 65078\n",
      "Data columns (total 7 columns):\n",
      "  userID    65079 non-null object\n",
      "Track       63848 non-null object\n",
      "artist      57876 non-null object\n",
      "genre       63881 non-null object\n",
      "  City      65079 non-null object\n",
      "time        65079 non-null object\n",
      "Day         65079 non-null object\n",
      "dtypes: object(7)\n",
      "memory usage: 3.5+ MB\n"
     ]
    }
   ],
   "source": [
    "df.info()"
   ]
  },
  {
   "cell_type": "markdown",
   "metadata": {
    "id": "TaQ2Iwbr_Zct"
   },
   "source": [
    "Итак, в таблице семь столбцов. Тип данных во всех столбцах — `object`.\n",
    "\n",
    "Согласно документации к данным:\n",
    "* `userID` — идентификатор пользователя;\n",
    "* `Track` — название трека;  \n",
    "* `artist` — имя исполнителя;\n",
    "* `genre` — название жанра;\n",
    "* `City` — город пользователя;\n",
    "* `time` — время начала прослушивания;\n",
    "* `Day` — день недели.\n",
    "\n",
    "В названиях колонок видны три нарушения стиля:\n",
    "1. Строчные буквы сочетаются с прописными.\n",
    "2. Встречаются пробелы.\n",
    "3. Несколько слов написано слитно, а по правилам хорошого тона необходимо прописать в \"змеином регистре\"\n",
    "\n",
    "\n",
    "\n",
    "Количество значений в столбцах различается. Значит, в данных есть пропущенные значения.\n"
   ]
  },
  {
   "cell_type": "markdown",
   "metadata": {
    "id": "MCB6-dXG_Zct"
   },
   "source": [
    "**Выводы**\n",
    "\n",
    "В каждой строке таблицы — данные о прослушанном треке. Часть колонок описывает саму композицию: название, исполнителя и жанр. Остальные данные рассказывают о пользователе: из какого он города, когда он слушал музыку. \n",
    "\n",
    "Предварительно можно утверждать, что, данных достаточно для проверки гипотез. Но встречаются пропуски в данных, а в названиях колонок — расхождения с хорошим стилем.\n",
    "\n",
    "Чтобы двигаться дальше, нужно устранить проблемы в данных."
   ]
  },
  {
   "cell_type": "markdown",
   "metadata": {
    "id": "SjYF6Ub9_Zct"
   },
   "source": [
    "## Предобработка данных\n",
    "Исправим стиль в заголовках столбцов, исключим пропуски. Затем проверим данные на дубликаты."
   ]
  },
  {
   "cell_type": "markdown",
   "metadata": {
    "id": "dIaKXr29_Zct"
   },
   "source": [
    "### Стиль заголовков\n",
    "Вывевем на экран названия столбцов:"
   ]
  },
  {
   "cell_type": "code",
   "execution_count": 5,
   "metadata": {
    "id": "oKOTdF_Q_Zct"
   },
   "outputs": [
    {
     "data": {
      "text/plain": [
       "Index(['  userID', 'Track', 'artist', 'genre', '  City  ', 'time', 'Day'], dtype='object')"
      ]
     },
     "execution_count": 5,
     "metadata": {},
     "output_type": "execute_result"
    }
   ],
   "source": [
    "df.columns"
   ]
  },
  {
   "cell_type": "markdown",
   "metadata": {
    "id": "zj5534cv_Zct"
   },
   "source": [
    "Приведите названия в соответствие с хорошим стилем:\n",
    "* несколько слов в названии запишите в «змеином_регистре»,\n",
    "* все символы сделайте строчными,\n",
    "* устраните пробелы.\n",
    "\n",
    "Для этого напишем **функцию `columns_to_norm` для переименования колонок**, которую можно будет использовать при больших объемах данных:"
   ]
  },
  {
   "cell_type": "code",
   "execution_count": 6,
   "metadata": {
    "id": "ISlFqs5y_Zct"
   },
   "outputs": [],
   "source": [
    "def columns_to_norm(columns):\n",
    "  columns_new = []\n",
    "  for column in columns:\n",
    "    name = []\n",
    "    for index in range(len(column)):\n",
    "      if column[index] != ' ' and column[index] != '_':\n",
    "        name.append(column[index])     \n",
    "      elif index + 1 <= len(column)-1 and index - 1 >= 0 and len(name) != 0:  # условие отсекающее ошибку выхода за границы индексирования и добавления \"_\" первым знаком   \n",
    "        if (column[index + 1] != ' ' and column[index + 1] != '_'):           # проверка следующего индекса на наличие значения         \n",
    "          name.append('_')\n",
    "    name = ''.join(name)\n",
    "    name = name.lower()\n",
    "    columns_new.append(name)\n",
    "  df.columns = columns_new\n",
    "  return df.columns"
   ]
  },
  {
   "cell_type": "markdown",
   "metadata": {},
   "source": [
    "Примерим созданную функцию для корректировки названия столбцов и проверим результат."
   ]
  },
  {
   "cell_type": "code",
   "execution_count": 7,
   "metadata": {},
   "outputs": [
    {
     "data": {
      "text/plain": [
       "Index(['user_id', 'track', 'artist', 'genre', 'city', 'time', 'day'], dtype='object')"
      ]
     },
     "execution_count": 7,
     "metadata": {},
     "output_type": "execute_result"
    }
   ],
   "source": [
    "columns_to_norm(df.columns)\n",
    "df = df.rename(columns={'userid':'user_id'})\n",
    "df.columns"
   ]
  },
  {
   "cell_type": "markdown",
   "metadata": {
    "id": "5ISfbcfY_Zct"
   },
   "source": [
    "### Пропуски значений\n",
    "Сначала посчитаем, сколько в таблице пропущенных значений. Для этого достаточно двух методов `pandas`:"
   ]
  },
  {
   "cell_type": "code",
   "execution_count": 8,
   "metadata": {
    "id": "RskX29qr_Zct"
   },
   "outputs": [
    {
     "data": {
      "text/plain": [
       "user_id       0\n",
       "track      1231\n",
       "artist     7203\n",
       "genre      1198\n",
       "city          0\n",
       "time          0\n",
       "day           0\n",
       "dtype: int64"
      ]
     },
     "execution_count": 8,
     "metadata": {},
     "output_type": "execute_result"
    }
   ],
   "source": [
    "df.isna().sum()"
   ]
  },
  {
   "cell_type": "markdown",
   "metadata": {
    "id": "qubhgnlO_Zct"
   },
   "source": [
    "Не все пропущенные значения влияют на исследование. Так в `track` и `artist` пропуски не важны для вашей работы. Достаточно заменить их явными обозначениями.\n",
    "\n",
    "Но пропуски в `genre` могут помешать сравнению музыкальных вкусов в Москве и Санкт-Петербурге. На практике было бы правильно установить причину пропусков и восстановить данные. Такой возможности у нас нет в рамках учебного проекта. Придётся:\n",
    "* заполнить и эти пропуски явными обозначениями,\n",
    "* оценить, насколько они повредят расчётам. "
   ]
  },
  {
   "cell_type": "markdown",
   "metadata": {
    "id": "fSv2laPA_Zct"
   },
   "source": [
    "Заменим пропущенные значения в столбцах `track`, `artist` и `genre` на строку `'unknown'`. Для этого создадим список `columns_to_replace`, переберем его элементы циклом `for` и для каждого столбца выполним замену пропущенных значений:"
   ]
  },
  {
   "cell_type": "code",
   "execution_count": 9,
   "metadata": {
    "id": "KplB5qWs_Zct"
   },
   "outputs": [],
   "source": [
    "columns_to_replace = ['track', 'artist', 'genre']\n",
    "for column_to_replace in columns_to_replace:\n",
    "    df[column_to_replace] = df[column_to_replace].fillna('unknown')"
   ]
  },
  {
   "cell_type": "markdown",
   "metadata": {
    "id": "Ilsm-MZo_Zct"
   },
   "source": [
    "Убедимся, что в таблице не осталось пропусков. Для этого ещё раз посчитаем пропущенные значения."
   ]
  },
  {
   "cell_type": "code",
   "execution_count": 10,
   "metadata": {
    "id": "Tq4nYRX4_Zct"
   },
   "outputs": [
    {
     "data": {
      "text/plain": [
       "user_id    0\n",
       "track      0\n",
       "artist     0\n",
       "genre      0\n",
       "city       0\n",
       "time       0\n",
       "day        0\n",
       "dtype: int64"
      ]
     },
     "execution_count": 10,
     "metadata": {},
     "output_type": "execute_result"
    }
   ],
   "source": [
    "df.isna().sum()"
   ]
  },
  {
   "cell_type": "markdown",
   "metadata": {
    "id": "BWKRtBJ3_Zct"
   },
   "source": [
    "### Дубликаты\n",
    "Посчитаем явные дубликаты в таблице одной командой:"
   ]
  },
  {
   "cell_type": "code",
   "execution_count": 11,
   "metadata": {
    "id": "36eES_S0_Zct"
   },
   "outputs": [
    {
     "data": {
      "text/plain": [
       "3826"
      ]
     },
     "execution_count": 11,
     "metadata": {},
     "output_type": "execute_result"
    }
   ],
   "source": [
    "df.duplicated().sum()"
   ]
  },
  {
   "cell_type": "markdown",
   "metadata": {
    "id": "Ot25h6XR_Zct"
   },
   "source": [
    "Вызовем специальный метод `pandas`, чтобы удалить явные дубликаты с обновлением индексов:"
   ]
  },
  {
   "cell_type": "code",
   "execution_count": 12,
   "metadata": {
    "id": "exFHq6tt_Zct"
   },
   "outputs": [],
   "source": [
    "df = df.drop_duplicates().reset_index(drop=True)"
   ]
  },
  {
   "cell_type": "markdown",
   "metadata": {
    "id": "Im2YwBEG_Zct"
   },
   "source": [
    "Ещё раз посчитаем явные дубликаты в таблице — убедимся, что полностью от них избавились:"
   ]
  },
  {
   "cell_type": "code",
   "execution_count": 13,
   "metadata": {
    "id": "-8PuNWQ0_Zct"
   },
   "outputs": [
    {
     "data": {
      "text/plain": [
       "0"
      ]
     },
     "execution_count": 13,
     "metadata": {},
     "output_type": "execute_result"
    }
   ],
   "source": [
    "df.duplicated().sum()"
   ]
  },
  {
   "cell_type": "markdown",
   "metadata": {
    "id": "QlFBsxAr_Zct"
   },
   "source": [
    "Теперь пока избавиться от неявных дубликатов в колонке `genre`. Например, название одного и того же жанра может быть записано немного по-разному. Такие ошибки тоже повлияют на результат исследования."
   ]
  },
  {
   "cell_type": "markdown",
   "metadata": {
    "id": "eSjWwsOh_Zct"
   },
   "source": [
    "Выведем на экран список уникальных названий жанров, отсортированный в алфавитном порядке. Для этого:\n",
    "* извлечем нужный столбец датафрейма, \n",
    "* применим к нему метод сортировки,\n",
    "* для отсортированного столбца вызовем метод, который вернёт уникальные значения из столбца."
   ]
  },
  {
   "cell_type": "code",
   "execution_count": 14,
   "metadata": {
    "id": "JIUcqzZN_Zct"
   },
   "outputs": [
    {
     "data": {
      "text/plain": [
       "['acid',\n",
       " 'acoustic',\n",
       " 'action',\n",
       " 'adult',\n",
       " 'africa',\n",
       " 'afrikaans',\n",
       " 'alternative',\n",
       " 'alternativepunk',\n",
       " 'ambient',\n",
       " 'americana',\n",
       " 'animated',\n",
       " 'anime',\n",
       " 'arabesk',\n",
       " 'arabic',\n",
       " 'arena',\n",
       " 'argentinetango',\n",
       " 'art',\n",
       " 'audiobook',\n",
       " 'author',\n",
       " 'avantgarde',\n",
       " 'axé',\n",
       " 'baile',\n",
       " 'balkan',\n",
       " 'beats',\n",
       " 'bigroom',\n",
       " 'black',\n",
       " 'bluegrass',\n",
       " 'blues',\n",
       " 'bollywood',\n",
       " 'bossa',\n",
       " 'brazilian',\n",
       " 'breakbeat',\n",
       " 'breaks',\n",
       " 'broadway',\n",
       " 'cantautori',\n",
       " 'cantopop',\n",
       " 'canzone',\n",
       " 'caribbean',\n",
       " 'caucasian',\n",
       " 'celtic',\n",
       " 'chamber',\n",
       " 'chanson',\n",
       " 'children',\n",
       " 'chill',\n",
       " 'chinese',\n",
       " 'choral',\n",
       " 'christian',\n",
       " 'christmas',\n",
       " 'classical',\n",
       " 'classicmetal',\n",
       " 'club',\n",
       " 'colombian',\n",
       " 'comedy',\n",
       " 'conjazz',\n",
       " 'contemporary',\n",
       " 'country',\n",
       " 'cuban',\n",
       " 'dance',\n",
       " 'dancehall',\n",
       " 'dancepop',\n",
       " 'dark',\n",
       " 'death',\n",
       " 'deep',\n",
       " 'deutschrock',\n",
       " 'deutschspr',\n",
       " 'dirty',\n",
       " 'disco',\n",
       " 'dnb',\n",
       " 'documentary',\n",
       " 'downbeat',\n",
       " 'downtempo',\n",
       " 'drum',\n",
       " 'dub',\n",
       " 'dubstep',\n",
       " 'eastern',\n",
       " 'easy',\n",
       " 'electronic',\n",
       " 'electropop',\n",
       " 'emo',\n",
       " 'entehno',\n",
       " 'epicmetal',\n",
       " 'estrada',\n",
       " 'ethnic',\n",
       " 'eurofolk',\n",
       " 'european',\n",
       " 'experimental',\n",
       " 'extrememetal',\n",
       " 'fado',\n",
       " 'fairytail',\n",
       " 'film',\n",
       " 'fitness',\n",
       " 'flamenco',\n",
       " 'folk',\n",
       " 'folklore',\n",
       " 'folkmetal',\n",
       " 'folkrock',\n",
       " 'folktronica',\n",
       " 'forró',\n",
       " 'frankreich',\n",
       " 'französisch',\n",
       " 'french',\n",
       " 'funk',\n",
       " 'future',\n",
       " 'gangsta',\n",
       " 'garage',\n",
       " 'german',\n",
       " 'ghazal',\n",
       " 'gitarre',\n",
       " 'glitch',\n",
       " 'gospel',\n",
       " 'gothic',\n",
       " 'grime',\n",
       " 'grunge',\n",
       " 'gypsy',\n",
       " 'handsup',\n",
       " \"hard'n'heavy\",\n",
       " 'hardcore',\n",
       " 'hardstyle',\n",
       " 'hardtechno',\n",
       " 'hip',\n",
       " 'hip-hop',\n",
       " 'hiphop',\n",
       " 'historisch',\n",
       " 'holiday',\n",
       " 'hop',\n",
       " 'horror',\n",
       " 'house',\n",
       " 'hymn',\n",
       " 'idm',\n",
       " 'independent',\n",
       " 'indian',\n",
       " 'indie',\n",
       " 'indipop',\n",
       " 'industrial',\n",
       " 'inspirational',\n",
       " 'instrumental',\n",
       " 'international',\n",
       " 'irish',\n",
       " 'jam',\n",
       " 'japanese',\n",
       " 'jazz',\n",
       " 'jewish',\n",
       " 'jpop',\n",
       " 'jungle',\n",
       " 'k-pop',\n",
       " 'karadeniz',\n",
       " 'karaoke',\n",
       " 'kayokyoku',\n",
       " 'korean',\n",
       " 'laiko',\n",
       " 'latin',\n",
       " 'latino',\n",
       " 'leftfield',\n",
       " 'local',\n",
       " 'lounge',\n",
       " 'loungeelectronic',\n",
       " 'lovers',\n",
       " 'malaysian',\n",
       " 'mandopop',\n",
       " 'marschmusik',\n",
       " 'meditative',\n",
       " 'mediterranean',\n",
       " 'melodic',\n",
       " 'metal',\n",
       " 'metalcore',\n",
       " 'mexican',\n",
       " 'middle',\n",
       " 'minimal',\n",
       " 'miscellaneous',\n",
       " 'modern',\n",
       " 'mood',\n",
       " 'mpb',\n",
       " 'muslim',\n",
       " 'native',\n",
       " 'neoklassik',\n",
       " 'neue',\n",
       " 'new',\n",
       " 'newage',\n",
       " 'newwave',\n",
       " 'nu',\n",
       " 'nujazz',\n",
       " 'numetal',\n",
       " 'oceania',\n",
       " 'old',\n",
       " 'opera',\n",
       " 'orchestral',\n",
       " 'other',\n",
       " 'piano',\n",
       " 'podcasts',\n",
       " 'pop',\n",
       " 'popdance',\n",
       " 'popelectronic',\n",
       " 'popeurodance',\n",
       " 'poprussian',\n",
       " 'post',\n",
       " 'posthardcore',\n",
       " 'postrock',\n",
       " 'power',\n",
       " 'progmetal',\n",
       " 'progressive',\n",
       " 'psychedelic',\n",
       " 'punjabi',\n",
       " 'punk',\n",
       " 'quebecois',\n",
       " 'ragga',\n",
       " 'ram',\n",
       " 'rancheras',\n",
       " 'rap',\n",
       " 'rave',\n",
       " 'reggae',\n",
       " 'reggaeton',\n",
       " 'regional',\n",
       " 'relax',\n",
       " 'religious',\n",
       " 'retro',\n",
       " 'rhythm',\n",
       " 'rnb',\n",
       " 'rnr',\n",
       " 'rock',\n",
       " 'rockabilly',\n",
       " 'rockalternative',\n",
       " 'rockindie',\n",
       " 'rockother',\n",
       " 'romance',\n",
       " 'roots',\n",
       " 'ruspop',\n",
       " 'rusrap',\n",
       " 'rusrock',\n",
       " 'russian',\n",
       " 'salsa',\n",
       " 'samba',\n",
       " 'scenic',\n",
       " 'schlager',\n",
       " 'self',\n",
       " 'sertanejo',\n",
       " 'shanson',\n",
       " 'shoegazing',\n",
       " 'showtunes',\n",
       " 'singer',\n",
       " 'ska',\n",
       " 'skarock',\n",
       " 'slow',\n",
       " 'smooth',\n",
       " 'soft',\n",
       " 'soul',\n",
       " 'soulful',\n",
       " 'sound',\n",
       " 'soundtrack',\n",
       " 'southern',\n",
       " 'specialty',\n",
       " 'speech',\n",
       " 'spiritual',\n",
       " 'sport',\n",
       " 'stonerrock',\n",
       " 'surf',\n",
       " 'swing',\n",
       " 'synthpop',\n",
       " 'synthrock',\n",
       " 'sängerportrait',\n",
       " 'tango',\n",
       " 'tanzorchester',\n",
       " 'taraftar',\n",
       " 'tatar',\n",
       " 'tech',\n",
       " 'techno',\n",
       " 'teen',\n",
       " 'thrash',\n",
       " 'top',\n",
       " 'traditional',\n",
       " 'tradjazz',\n",
       " 'trance',\n",
       " 'tribal',\n",
       " 'trip',\n",
       " 'triphop',\n",
       " 'tropical',\n",
       " 'türk',\n",
       " 'türkçe',\n",
       " 'ukrrock',\n",
       " 'unknown',\n",
       " 'urban',\n",
       " 'uzbek',\n",
       " 'variété',\n",
       " 'vi',\n",
       " 'videogame',\n",
       " 'vocal',\n",
       " 'western',\n",
       " 'world',\n",
       " 'worldbeat',\n",
       " 'ïîï',\n",
       " 'электроника']"
      ]
     },
     "execution_count": 14,
     "metadata": {},
     "output_type": "execute_result"
    }
   ],
   "source": [
    "sorted(df['genre'].unique())"
   ]
  },
  {
   "cell_type": "markdown",
   "metadata": {
    "id": "qej-Qmuo_Zct"
   },
   "source": [
    "Просмотрим список и найдем неявные дубликаты названия `hiphop` и `electronic`. Это могут быть названия с ошибками или альтернативные названия того же жанра.\n",
    "\n",
    "Мы видим следующие неявные дубликаты и ошибки отображения языкового шифрования:\n",
    "\n",
    "* *hip*,\n",
    "* *hop*,\n",
    "* *hip-hop*,\n",
    "* ***электроника***,\n",
    "* ***electronic***,\n",
    "* ***ïîï***.\n",
    "\n",
    "Чтобы очистить от них таблицу, напишем функцию `replace_wrong_genres()` с двумя параметрами: \n",
    "* `wrong_genres` — список дубликатов,\n",
    "* `correct_genre` — строка с правильным значением.\n",
    "\n",
    "Функция должна исправить колонку `genre` в таблице `df`: заменить каждое значение из списка `wrong_genres` на значение из `correct_genre`."
   ]
  },
  {
   "cell_type": "code",
   "execution_count": 15,
   "metadata": {
    "id": "ErNDkmns_Zct"
   },
   "outputs": [],
   "source": [
    "def replace_wrong_target_column(target_column, wrong_names, correct_name):\n",
    "    for wrong_name in wrong_names:\n",
    "        df[target_column] = df[target_column].replace(wrong_name, correct_name)"
   ]
  },
  {
   "cell_type": "markdown",
   "metadata": {
    "id": "aDoBJxbA_Zct"
   },
   "source": [
    "Вызовем `replace_wrong_genres()` и передадим ей такие аргументы, чтобы она устранила неявные дубликаты: вместо `hip`, `hop` и `hip-hop` в таблице должно быть значение `hiphop`. Аналогично поступим для `electronic` вместо `электроника` и `unknown` вместо `ïîï`"
   ]
  },
  {
   "cell_type": "code",
   "execution_count": 16,
   "metadata": {
    "id": "YN5i2hpmSo09"
   },
   "outputs": [],
   "source": [
    "duplicates_hiphop = ['hip', 'hop', 'hip-hop']\n",
    "replace_wrong_target_column('genre', duplicates_hiphop, 'hiphop')\n",
    "\n",
    "duplicates_electronic = ['электроника']\n",
    "replace_wrong_target_column('genre', duplicates_electronic, 'electronic')\n",
    "\n",
    "duplicates_unknown_genre = ['ïîï']\n",
    "replace_wrong_target_column('genre', duplicates_unknown_genre, 'unknown')"
   ]
  },
  {
   "cell_type": "markdown",
   "metadata": {
    "id": "zQKF16_RG15m"
   },
   "source": [
    "Проверим, что заменили неправильные названия:\n",
    "\n",
    "*   hip,\n",
    "*   hop,\n",
    "*   hip-hop,\n",
    "* **электроника**,\n",
    "* **electronic**,\n",
    "* **ïîï**.\n",
    "\n",
    "Выведем отсортированный список уникальных значений столбца `genre`:"
   ]
  },
  {
   "cell_type": "code",
   "execution_count": 17,
   "metadata": {
    "id": "wvixALnFG15m"
   },
   "outputs": [
    {
     "data": {
      "text/plain": [
       "['acid',\n",
       " 'acoustic',\n",
       " 'action',\n",
       " 'adult',\n",
       " 'africa',\n",
       " 'afrikaans',\n",
       " 'alternative',\n",
       " 'alternativepunk',\n",
       " 'ambient',\n",
       " 'americana',\n",
       " 'animated',\n",
       " 'anime',\n",
       " 'arabesk',\n",
       " 'arabic',\n",
       " 'arena',\n",
       " 'argentinetango',\n",
       " 'art',\n",
       " 'audiobook',\n",
       " 'author',\n",
       " 'avantgarde',\n",
       " 'axé',\n",
       " 'baile',\n",
       " 'balkan',\n",
       " 'beats',\n",
       " 'bigroom',\n",
       " 'black',\n",
       " 'bluegrass',\n",
       " 'blues',\n",
       " 'bollywood',\n",
       " 'bossa',\n",
       " 'brazilian',\n",
       " 'breakbeat',\n",
       " 'breaks',\n",
       " 'broadway',\n",
       " 'cantautori',\n",
       " 'cantopop',\n",
       " 'canzone',\n",
       " 'caribbean',\n",
       " 'caucasian',\n",
       " 'celtic',\n",
       " 'chamber',\n",
       " 'chanson',\n",
       " 'children',\n",
       " 'chill',\n",
       " 'chinese',\n",
       " 'choral',\n",
       " 'christian',\n",
       " 'christmas',\n",
       " 'classical',\n",
       " 'classicmetal',\n",
       " 'club',\n",
       " 'colombian',\n",
       " 'comedy',\n",
       " 'conjazz',\n",
       " 'contemporary',\n",
       " 'country',\n",
       " 'cuban',\n",
       " 'dance',\n",
       " 'dancehall',\n",
       " 'dancepop',\n",
       " 'dark',\n",
       " 'death',\n",
       " 'deep',\n",
       " 'deutschrock',\n",
       " 'deutschspr',\n",
       " 'dirty',\n",
       " 'disco',\n",
       " 'dnb',\n",
       " 'documentary',\n",
       " 'downbeat',\n",
       " 'downtempo',\n",
       " 'drum',\n",
       " 'dub',\n",
       " 'dubstep',\n",
       " 'eastern',\n",
       " 'easy',\n",
       " 'electronic',\n",
       " 'electropop',\n",
       " 'emo',\n",
       " 'entehno',\n",
       " 'epicmetal',\n",
       " 'estrada',\n",
       " 'ethnic',\n",
       " 'eurofolk',\n",
       " 'european',\n",
       " 'experimental',\n",
       " 'extrememetal',\n",
       " 'fado',\n",
       " 'fairytail',\n",
       " 'film',\n",
       " 'fitness',\n",
       " 'flamenco',\n",
       " 'folk',\n",
       " 'folklore',\n",
       " 'folkmetal',\n",
       " 'folkrock',\n",
       " 'folktronica',\n",
       " 'forró',\n",
       " 'frankreich',\n",
       " 'französisch',\n",
       " 'french',\n",
       " 'funk',\n",
       " 'future',\n",
       " 'gangsta',\n",
       " 'garage',\n",
       " 'german',\n",
       " 'ghazal',\n",
       " 'gitarre',\n",
       " 'glitch',\n",
       " 'gospel',\n",
       " 'gothic',\n",
       " 'grime',\n",
       " 'grunge',\n",
       " 'gypsy',\n",
       " 'handsup',\n",
       " \"hard'n'heavy\",\n",
       " 'hardcore',\n",
       " 'hardstyle',\n",
       " 'hardtechno',\n",
       " 'hiphop',\n",
       " 'historisch',\n",
       " 'holiday',\n",
       " 'horror',\n",
       " 'house',\n",
       " 'hymn',\n",
       " 'idm',\n",
       " 'independent',\n",
       " 'indian',\n",
       " 'indie',\n",
       " 'indipop',\n",
       " 'industrial',\n",
       " 'inspirational',\n",
       " 'instrumental',\n",
       " 'international',\n",
       " 'irish',\n",
       " 'jam',\n",
       " 'japanese',\n",
       " 'jazz',\n",
       " 'jewish',\n",
       " 'jpop',\n",
       " 'jungle',\n",
       " 'k-pop',\n",
       " 'karadeniz',\n",
       " 'karaoke',\n",
       " 'kayokyoku',\n",
       " 'korean',\n",
       " 'laiko',\n",
       " 'latin',\n",
       " 'latino',\n",
       " 'leftfield',\n",
       " 'local',\n",
       " 'lounge',\n",
       " 'loungeelectronic',\n",
       " 'lovers',\n",
       " 'malaysian',\n",
       " 'mandopop',\n",
       " 'marschmusik',\n",
       " 'meditative',\n",
       " 'mediterranean',\n",
       " 'melodic',\n",
       " 'metal',\n",
       " 'metalcore',\n",
       " 'mexican',\n",
       " 'middle',\n",
       " 'minimal',\n",
       " 'miscellaneous',\n",
       " 'modern',\n",
       " 'mood',\n",
       " 'mpb',\n",
       " 'muslim',\n",
       " 'native',\n",
       " 'neoklassik',\n",
       " 'neue',\n",
       " 'new',\n",
       " 'newage',\n",
       " 'newwave',\n",
       " 'nu',\n",
       " 'nujazz',\n",
       " 'numetal',\n",
       " 'oceania',\n",
       " 'old',\n",
       " 'opera',\n",
       " 'orchestral',\n",
       " 'other',\n",
       " 'piano',\n",
       " 'podcasts',\n",
       " 'pop',\n",
       " 'popdance',\n",
       " 'popelectronic',\n",
       " 'popeurodance',\n",
       " 'poprussian',\n",
       " 'post',\n",
       " 'posthardcore',\n",
       " 'postrock',\n",
       " 'power',\n",
       " 'progmetal',\n",
       " 'progressive',\n",
       " 'psychedelic',\n",
       " 'punjabi',\n",
       " 'punk',\n",
       " 'quebecois',\n",
       " 'ragga',\n",
       " 'ram',\n",
       " 'rancheras',\n",
       " 'rap',\n",
       " 'rave',\n",
       " 'reggae',\n",
       " 'reggaeton',\n",
       " 'regional',\n",
       " 'relax',\n",
       " 'religious',\n",
       " 'retro',\n",
       " 'rhythm',\n",
       " 'rnb',\n",
       " 'rnr',\n",
       " 'rock',\n",
       " 'rockabilly',\n",
       " 'rockalternative',\n",
       " 'rockindie',\n",
       " 'rockother',\n",
       " 'romance',\n",
       " 'roots',\n",
       " 'ruspop',\n",
       " 'rusrap',\n",
       " 'rusrock',\n",
       " 'russian',\n",
       " 'salsa',\n",
       " 'samba',\n",
       " 'scenic',\n",
       " 'schlager',\n",
       " 'self',\n",
       " 'sertanejo',\n",
       " 'shanson',\n",
       " 'shoegazing',\n",
       " 'showtunes',\n",
       " 'singer',\n",
       " 'ska',\n",
       " 'skarock',\n",
       " 'slow',\n",
       " 'smooth',\n",
       " 'soft',\n",
       " 'soul',\n",
       " 'soulful',\n",
       " 'sound',\n",
       " 'soundtrack',\n",
       " 'southern',\n",
       " 'specialty',\n",
       " 'speech',\n",
       " 'spiritual',\n",
       " 'sport',\n",
       " 'stonerrock',\n",
       " 'surf',\n",
       " 'swing',\n",
       " 'synthpop',\n",
       " 'synthrock',\n",
       " 'sängerportrait',\n",
       " 'tango',\n",
       " 'tanzorchester',\n",
       " 'taraftar',\n",
       " 'tatar',\n",
       " 'tech',\n",
       " 'techno',\n",
       " 'teen',\n",
       " 'thrash',\n",
       " 'top',\n",
       " 'traditional',\n",
       " 'tradjazz',\n",
       " 'trance',\n",
       " 'tribal',\n",
       " 'trip',\n",
       " 'triphop',\n",
       " 'tropical',\n",
       " 'türk',\n",
       " 'türkçe',\n",
       " 'ukrrock',\n",
       " 'unknown',\n",
       " 'urban',\n",
       " 'uzbek',\n",
       " 'variété',\n",
       " 'vi',\n",
       " 'videogame',\n",
       " 'vocal',\n",
       " 'western',\n",
       " 'world',\n",
       " 'worldbeat']"
      ]
     },
     "execution_count": 17,
     "metadata": {},
     "output_type": "execute_result"
    }
   ],
   "source": [
    "sorted(df['genre'].unique())"
   ]
  },
  {
   "cell_type": "markdown",
   "metadata": {
    "id": "jz6a9-7HQUDd"
   },
   "source": [
    "**Выводы**\n",
    "\n",
    "Предобработка обнаружила три проблемы в данных:\n",
    "\n",
    "- нарушения в стиле заголовков,\n",
    "- пропущенные значения,\n",
    "- дубликаты — явные и неявные.\n",
    "\n",
    "Мы исправили заголовки, чтобы упростить работу с таблицей. Без дубликатов исследование станет более точным.\n",
    "\n",
    "Пропущенные значения мы заменили на `'unknown'`. Ещё предстоит увидеть, не повредят ли исследованию пропуски в колонке `genre`.\n",
    "\n",
    "Теперь можно перейти к проверке гипотез. "
   ]
  },
  {
   "cell_type": "markdown",
   "metadata": {
    "id": "WttZHXH0SqKk"
   },
   "source": [
    "## Проверка гипотез"
   ]
  },
  {
   "cell_type": "markdown",
   "metadata": {
    "id": "Im936VVi_Zcu"
   },
   "source": [
    "### Сравнение поведения пользователей двух столиц"
   ]
  },
  {
   "cell_type": "markdown",
   "metadata": {
    "id": "nwt_MuaL_Zcu"
   },
   "source": [
    "Первая гипотеза утверждает, что пользователи по-разному слушают музыку в Москве и Санкт-Петербурге. Проверим это предположение по данным о трёх днях недели — понедельнике, среде и пятнице. Для этого:\n",
    "\n",
    "* Разделим пользователей Москвы и Санкт-Петербурга\n",
    "* Сравним, сколько треков послушала каждая группа пользователей в понедельник, среду и пятницу.\n"
   ]
  },
  {
   "cell_type": "markdown",
   "metadata": {
    "id": "8Dw_YMmT_Zcu"
   },
   "source": [
    "Для начала узнаем, по каким данным у нас есть статистика в данных.\n",
    "\n",
    "Оценим активность пользователей в каждом городе. Сгруппируем данные по городу и посчитаем прослушивания в каждой группе.\n",
    "\n"
   ]
  },
  {
   "cell_type": "markdown",
   "metadata": {},
   "source": [
    "---"
   ]
  },
  {
   "cell_type": "code",
   "execution_count": 18,
   "metadata": {
    "scrolled": true,
    "tags": []
   },
   "outputs": [
    {
     "data": {
      "text/plain": [
       "city\n",
       "Moscow              42741\n",
       "Saint-Petersburg    18512\n",
       "Name: track, dtype: int64"
      ]
     },
     "execution_count": 18,
     "metadata": {},
     "output_type": "execute_result"
    }
   ],
   "source": [
    "df.groupby('city')['track'].count()"
   ]
  },
  {
   "cell_type": "code",
   "execution_count": 19,
   "metadata": {},
   "outputs": [
    {
     "name": "stdout",
     "output_type": "stream",
     "text": [
      "\n",
      " В городе Saint-Petersburg в исходных данных количество уникальных пользователей равно 12423\n",
      "\n",
      " В городе Moscow в исходных данных количество уникальных пользователей равно 29358\n"
     ]
    }
   ],
   "source": [
    "for city in df['city'].unique():\n",
    "    print(f'\\n В городе {city} в исходных данных количество уникальных пользователей равно',\n",
    "          len(df[df['city'] == city]['user_id'].unique()))"
   ]
  },
  {
   "cell_type": "markdown",
   "metadata": {},
   "source": [
    "Как мы видим, в Москве прослушиваний больше, чем в Петербурге. Однако и самих пользователей в Москве больше.\n",
    "\n",
    "---"
   ]
  },
  {
   "cell_type": "code",
   "execution_count": 20,
   "metadata": {},
   "outputs": [
    {
     "data": {
      "text/plain": [
       "array(['Wednesday', 'Friday', 'Monday'], dtype=object)"
      ]
     },
     "execution_count": 20,
     "metadata": {},
     "output_type": "execute_result"
    }
   ],
   "source": [
    "df['day'].unique()"
   ]
  },
  {
   "cell_type": "markdown",
   "metadata": {},
   "source": [
    "Получается в данных у нас есть информация только за понедельник, среду и пятницу. Для проверки нашей гипотезы этого достаточно."
   ]
  },
  {
   "cell_type": "markdown",
   "metadata": {},
   "source": [
    "Оценим активность пользователей в каждом городе в разные дни недели. Применим фильтр по городу и затем посчитаем количество прослушиваний по дням недели."
   ]
  },
  {
   "cell_type": "code",
   "execution_count": 21,
   "metadata": {
    "id": "0_Qs96oh_Zcu"
   },
   "outputs": [],
   "source": [
    "target_days = ['Monday','Wednesday','Friday']\n",
    "cities = ['Saint-Petersburg','Moscow']\n",
    "\n",
    "data = []\n",
    "\n",
    "for city in cities:\n",
    "    df_day = df[df['city'] == city]\n",
    "    users_city = len(df_day['user_id'].unique())\n",
    "    data_city = []\n",
    "    data_city.extend([city, users_city])\n",
    "    for day in target_days:\n",
    "        df_day_city = df_day[df_day['day'] == day]['day'].count()\n",
    "        data_city.append(df_day_city)\n",
    "    data.append(data_city)"
   ]
  },
  {
   "cell_type": "markdown",
   "metadata": {},
   "source": [
    "Результаты оформим в виде таблицы с помощью конструктора `pd.DataFrame`, где\n",
    "* названия колонок — `['city','total_users', 'monday', 'wednesday', 'friday']`;\n",
    "* данные — результаты в переменной `data`, которые мы получили с помощью последовательной фильтрации."
   ]
  },
  {
   "cell_type": "code",
   "execution_count": 22,
   "metadata": {},
   "outputs": [
    {
     "data": {
      "text/html": [
       "<div>\n",
       "<style scoped>\n",
       "    .dataframe tbody tr th:only-of-type {\n",
       "        vertical-align: middle;\n",
       "    }\n",
       "\n",
       "    .dataframe tbody tr th {\n",
       "        vertical-align: top;\n",
       "    }\n",
       "\n",
       "    .dataframe thead th {\n",
       "        text-align: right;\n",
       "    }\n",
       "</style>\n",
       "<table border=\"1\" class=\"dataframe\">\n",
       "  <thead>\n",
       "    <tr style=\"text-align: right;\">\n",
       "      <th></th>\n",
       "      <th>city</th>\n",
       "      <th>total_users</th>\n",
       "      <th>monday</th>\n",
       "      <th>wednesday</th>\n",
       "      <th>friday</th>\n",
       "    </tr>\n",
       "  </thead>\n",
       "  <tbody>\n",
       "    <tr>\n",
       "      <td>0</td>\n",
       "      <td>Saint-Petersburg</td>\n",
       "      <td>12423</td>\n",
       "      <td>5614</td>\n",
       "      <td>7003</td>\n",
       "      <td>5895</td>\n",
       "    </tr>\n",
       "    <tr>\n",
       "      <td>1</td>\n",
       "      <td>Moscow</td>\n",
       "      <td>29358</td>\n",
       "      <td>15740</td>\n",
       "      <td>11056</td>\n",
       "      <td>15945</td>\n",
       "    </tr>\n",
       "  </tbody>\n",
       "</table>\n",
       "</div>"
      ],
      "text/plain": [
       "               city  total_users  monday  wednesday  friday\n",
       "0  Saint-Petersburg        12423    5614       7003    5895\n",
       "1            Moscow        29358   15740      11056   15945"
      ]
     },
     "metadata": {},
     "output_type": "display_data"
    }
   ],
   "source": [
    "columns_for_df = ['city', 'total_users', 'monday', 'wednesday', 'friday']\n",
    "\n",
    "df_hypothesis_1 = pd.DataFrame(data=data, columns=columns_for_df)\n",
    "display(df_hypothesis_1)"
   ]
  },
  {
   "cell_type": "markdown",
   "metadata": {
    "id": "dzli3w8o_Zcu"
   },
   "source": [
    "Как мы видим, в Москве прослушиваний больше, чем в Петербурге. Однако и самих пользователей в Москве больше.\n"
   ]
  },
  {
   "cell_type": "markdown",
   "metadata": {},
   "source": [
    "Создадим функцию `number_tracks()` для подсчёта прослушиваний по заданным городу и дню c динамическим списком"
   ]
  },
  {
   "cell_type": "code",
   "execution_count": 23,
   "metadata": {},
   "outputs": [],
   "source": [
    "def number_tracks(cities, days):\n",
    "    city_daily_tracks_info = []\n",
    "    for city in cities:\n",
    "        city_daily_info = []\n",
    "        city_daily_info.append(city)\n",
    "        for day in days:\n",
    "            city_daily_info.append(df[\n",
    "                (df['city'] == city) &\n",
    "                (df['day'] == day)\n",
    "            ]['track'].count())\n",
    "        city_daily_tracks_info.append(city_daily_info)\n",
    "    \n",
    "    columns_for_df = ['City'] + days\n",
    "    display(pd.DataFrame(data=city_daily_tracks_info, columns=columns_for_df))"
   ]
  },
  {
   "cell_type": "markdown",
   "metadata": {},
   "source": [
    "Укажем желаемые города и дни для анализа:"
   ]
  },
  {
   "cell_type": "code",
   "execution_count": 24,
   "metadata": {},
   "outputs": [],
   "source": [
    "target_days = ['Monday','Wednesday','Friday']\n",
    "cities = ['Saint-Petersburg','Moscow']"
   ]
  },
  {
   "cell_type": "markdown",
   "metadata": {},
   "source": [
    "Применим функцию `number_tracks()`"
   ]
  },
  {
   "cell_type": "code",
   "execution_count": 25,
   "metadata": {
    "scrolled": true
   },
   "outputs": [
    {
     "data": {
      "text/html": [
       "<div>\n",
       "<style scoped>\n",
       "    .dataframe tbody tr th:only-of-type {\n",
       "        vertical-align: middle;\n",
       "    }\n",
       "\n",
       "    .dataframe tbody tr th {\n",
       "        vertical-align: top;\n",
       "    }\n",
       "\n",
       "    .dataframe thead th {\n",
       "        text-align: right;\n",
       "    }\n",
       "</style>\n",
       "<table border=\"1\" class=\"dataframe\">\n",
       "  <thead>\n",
       "    <tr style=\"text-align: right;\">\n",
       "      <th></th>\n",
       "      <th>City</th>\n",
       "      <th>Monday</th>\n",
       "      <th>Wednesday</th>\n",
       "      <th>Friday</th>\n",
       "    </tr>\n",
       "  </thead>\n",
       "  <tbody>\n",
       "    <tr>\n",
       "      <td>0</td>\n",
       "      <td>Saint-Petersburg</td>\n",
       "      <td>5614</td>\n",
       "      <td>7003</td>\n",
       "      <td>5895</td>\n",
       "    </tr>\n",
       "    <tr>\n",
       "      <td>1</td>\n",
       "      <td>Moscow</td>\n",
       "      <td>15740</td>\n",
       "      <td>11056</td>\n",
       "      <td>15945</td>\n",
       "    </tr>\n",
       "  </tbody>\n",
       "</table>\n",
       "</div>"
      ],
      "text/plain": [
       "               City  Monday  Wednesday  Friday\n",
       "0  Saint-Petersburg    5614       7003    5895\n",
       "1            Moscow   15740      11056   15945"
      ]
     },
     "metadata": {},
     "output_type": "display_data"
    }
   ],
   "source": [
    "number_tracks(cities,target_days)"
   ]
  },
  {
   "cell_type": "markdown",
   "metadata": {},
   "source": [
    "---"
   ]
  },
  {
   "cell_type": "markdown",
   "metadata": {
    "id": "-EgPIHYu_Zcu"
   },
   "source": [
    "**Выводы**\n",
    "\n",
    "Данные показывают разницу поведения пользователей:\n",
    "\n",
    "- В Москве пик прослушиваний приходится на понедельник и пятницу, а в среду заметен спад.\n",
    "- В Петербурге, наоборот, больше слушают музыку по средам. Активность в понедельник и пятницу здесь почти в равной мере уступает среде.\n",
    "\n",
    "Значит, данные говорят в пользу первой гипотезы."
   ]
  },
  {
   "cell_type": "markdown",
   "metadata": {
    "id": "atZAxtq4_Zcu"
   },
   "source": [
    "### Музыка в начале и в конце недели"
   ]
  },
  {
   "cell_type": "markdown",
   "metadata": {
    "id": "eXrQqXFH_Zcu"
   },
   "source": [
    "Согласно второй гипотезе, утром в понедельник в Москве преобладают одни жанры, а в Петербурге — другие. Так же и вечером пятницы преобладают разные жанры — в зависимости от города."
   ]
  },
  {
   "cell_type": "markdown",
   "metadata": {
    "id": "S8UcW6Hw_Zcu"
   },
   "source": [
    "Сохраним таблицы с данными в две переменные:\n",
    "* по Москве — в `moscow_general`;\n",
    "* по Санкт-Петербургу — в `spb_general`."
   ]
  },
  {
   "cell_type": "code",
   "execution_count": 26,
   "metadata": {
    "id": "qeaFfM_P_Zcu"
   },
   "outputs": [
    {
     "data": {
      "text/html": [
       "<div>\n",
       "<style scoped>\n",
       "    .dataframe tbody tr th:only-of-type {\n",
       "        vertical-align: middle;\n",
       "    }\n",
       "\n",
       "    .dataframe tbody tr th {\n",
       "        vertical-align: top;\n",
       "    }\n",
       "\n",
       "    .dataframe thead th {\n",
       "        text-align: right;\n",
       "    }\n",
       "</style>\n",
       "<table border=\"1\" class=\"dataframe\">\n",
       "  <thead>\n",
       "    <tr style=\"text-align: right;\">\n",
       "      <th></th>\n",
       "      <th>user_id</th>\n",
       "      <th>track</th>\n",
       "      <th>artist</th>\n",
       "      <th>genre</th>\n",
       "      <th>city</th>\n",
       "      <th>time</th>\n",
       "      <th>day</th>\n",
       "    </tr>\n",
       "  </thead>\n",
       "  <tbody>\n",
       "    <tr>\n",
       "      <td>1</td>\n",
       "      <td>55204538</td>\n",
       "      <td>Delayed Because of Accident</td>\n",
       "      <td>Andreas Rönnberg</td>\n",
       "      <td>rock</td>\n",
       "      <td>Moscow</td>\n",
       "      <td>14:07:09</td>\n",
       "      <td>Friday</td>\n",
       "    </tr>\n",
       "    <tr>\n",
       "      <td>4</td>\n",
       "      <td>E2DC1FAE</td>\n",
       "      <td>Soul People</td>\n",
       "      <td>Space Echo</td>\n",
       "      <td>dance</td>\n",
       "      <td>Moscow</td>\n",
       "      <td>08:34:34</td>\n",
       "      <td>Monday</td>\n",
       "    </tr>\n",
       "    <tr>\n",
       "      <td>6</td>\n",
       "      <td>4CB90AA5</td>\n",
       "      <td>True</td>\n",
       "      <td>Roman Messer</td>\n",
       "      <td>dance</td>\n",
       "      <td>Moscow</td>\n",
       "      <td>13:00:07</td>\n",
       "      <td>Wednesday</td>\n",
       "    </tr>\n",
       "    <tr>\n",
       "      <td>7</td>\n",
       "      <td>F03E1C1F</td>\n",
       "      <td>Feeling This Way</td>\n",
       "      <td>Polina Griffith</td>\n",
       "      <td>dance</td>\n",
       "      <td>Moscow</td>\n",
       "      <td>20:47:49</td>\n",
       "      <td>Wednesday</td>\n",
       "    </tr>\n",
       "    <tr>\n",
       "      <td>8</td>\n",
       "      <td>8FA1D3BE</td>\n",
       "      <td>И вновь продолжается бой</td>\n",
       "      <td>unknown</td>\n",
       "      <td>ruspop</td>\n",
       "      <td>Moscow</td>\n",
       "      <td>09:17:40</td>\n",
       "      <td>Friday</td>\n",
       "    </tr>\n",
       "  </tbody>\n",
       "</table>\n",
       "</div>"
      ],
      "text/plain": [
       "    user_id                        track            artist   genre    city  \\\n",
       "1  55204538  Delayed Because of Accident  Andreas Rönnberg    rock  Moscow   \n",
       "4  E2DC1FAE                  Soul People        Space Echo   dance  Moscow   \n",
       "6  4CB90AA5                         True      Roman Messer   dance  Moscow   \n",
       "7  F03E1C1F             Feeling This Way   Polina Griffith   dance  Moscow   \n",
       "8  8FA1D3BE     И вновь продолжается бой           unknown  ruspop  Moscow   \n",
       "\n",
       "       time        day  \n",
       "1  14:07:09     Friday  \n",
       "4  08:34:34     Monday  \n",
       "6  13:00:07  Wednesday  \n",
       "7  20:47:49  Wednesday  \n",
       "8  09:17:40     Friday  "
      ]
     },
     "metadata": {},
     "output_type": "display_data"
    }
   ],
   "source": [
    "moscow_general = df[df['city'] == 'Moscow']\n",
    "display(moscow_general.head())"
   ]
  },
  {
   "cell_type": "code",
   "execution_count": 27,
   "metadata": {
    "id": "ORaVRKto_Zcu"
   },
   "outputs": [
    {
     "data": {
      "text/html": [
       "<div>\n",
       "<style scoped>\n",
       "    .dataframe tbody tr th:only-of-type {\n",
       "        vertical-align: middle;\n",
       "    }\n",
       "\n",
       "    .dataframe tbody tr th {\n",
       "        vertical-align: top;\n",
       "    }\n",
       "\n",
       "    .dataframe thead th {\n",
       "        text-align: right;\n",
       "    }\n",
       "</style>\n",
       "<table border=\"1\" class=\"dataframe\">\n",
       "  <thead>\n",
       "    <tr style=\"text-align: right;\">\n",
       "      <th></th>\n",
       "      <th>user_id</th>\n",
       "      <th>track</th>\n",
       "      <th>artist</th>\n",
       "      <th>genre</th>\n",
       "      <th>city</th>\n",
       "      <th>time</th>\n",
       "      <th>day</th>\n",
       "    </tr>\n",
       "  </thead>\n",
       "  <tbody>\n",
       "    <tr>\n",
       "      <td>0</td>\n",
       "      <td>FFB692EC</td>\n",
       "      <td>Kamigata To Boots</td>\n",
       "      <td>The Mass Missile</td>\n",
       "      <td>rock</td>\n",
       "      <td>Saint-Petersburg</td>\n",
       "      <td>20:28:33</td>\n",
       "      <td>Wednesday</td>\n",
       "    </tr>\n",
       "    <tr>\n",
       "      <td>2</td>\n",
       "      <td>20EC38</td>\n",
       "      <td>Funiculì funiculà</td>\n",
       "      <td>Mario Lanza</td>\n",
       "      <td>pop</td>\n",
       "      <td>Saint-Petersburg</td>\n",
       "      <td>20:58:07</td>\n",
       "      <td>Wednesday</td>\n",
       "    </tr>\n",
       "    <tr>\n",
       "      <td>3</td>\n",
       "      <td>A3DD03C9</td>\n",
       "      <td>Dragons in the Sunset</td>\n",
       "      <td>Fire + Ice</td>\n",
       "      <td>folk</td>\n",
       "      <td>Saint-Petersburg</td>\n",
       "      <td>08:37:09</td>\n",
       "      <td>Monday</td>\n",
       "    </tr>\n",
       "    <tr>\n",
       "      <td>5</td>\n",
       "      <td>842029A1</td>\n",
       "      <td>Преданная</td>\n",
       "      <td>IMPERVTOR</td>\n",
       "      <td>rusrap</td>\n",
       "      <td>Saint-Petersburg</td>\n",
       "      <td>13:09:41</td>\n",
       "      <td>Friday</td>\n",
       "    </tr>\n",
       "    <tr>\n",
       "      <td>9</td>\n",
       "      <td>E772D5C0</td>\n",
       "      <td>Pessimist</td>\n",
       "      <td>unknown</td>\n",
       "      <td>dance</td>\n",
       "      <td>Saint-Petersburg</td>\n",
       "      <td>21:20:49</td>\n",
       "      <td>Wednesday</td>\n",
       "    </tr>\n",
       "  </tbody>\n",
       "</table>\n",
       "</div>"
      ],
      "text/plain": [
       "    user_id                  track            artist   genre  \\\n",
       "0  FFB692EC      Kamigata To Boots  The Mass Missile    rock   \n",
       "2    20EC38      Funiculì funiculà       Mario Lanza     pop   \n",
       "3  A3DD03C9  Dragons in the Sunset        Fire + Ice    folk   \n",
       "5  842029A1              Преданная         IMPERVTOR  rusrap   \n",
       "9  E772D5C0              Pessimist           unknown   dance   \n",
       "\n",
       "               city      time        day  \n",
       "0  Saint-Petersburg  20:28:33  Wednesday  \n",
       "2  Saint-Petersburg  20:58:07  Wednesday  \n",
       "3  Saint-Petersburg  08:37:09     Monday  \n",
       "5  Saint-Petersburg  13:09:41     Friday  \n",
       "9  Saint-Petersburg  21:20:49  Wednesday  "
      ]
     },
     "metadata": {},
     "output_type": "display_data"
    }
   ],
   "source": [
    "spb_general = df[df['city'] == 'Saint-Petersburg']\n",
    "display(spb_general.head())"
   ]
  },
  {
   "cell_type": "markdown",
   "metadata": {
    "id": "MEJV-CX2_Zcu"
   },
   "source": [
    "Создадим функцию `genre_weekday()` с четырьмя параметрами:\n",
    "* таблица (датафрейм) с данными,\n",
    "* день недели,\n",
    "* начальная временная метка в формате 'hh:mm', \n",
    "* последняя временная метка в формате 'hh:mm'.\n",
    "\n",
    "Функция должна вернуть информацию о топ-15 жанров тех треков, которые прослушивали в указанный день, в промежутке между двумя отметками времени."
   ]
  },
  {
   "cell_type": "code",
   "execution_count": 28,
   "metadata": {
    "id": "laJT9BYl_Zcu"
   },
   "outputs": [],
   "source": [
    "def genre_weekday(table, day, time1, time2):\n",
    "    genre_df = table[\n",
    "        (table['day'] == day) &\n",
    "        (table['time'] >= time1) &\n",
    "        (table['time'] <= time2)\n",
    "    ]\n",
    "    genre_df_count = genre_df.groupby('genre')['day'].count()\n",
    "    genre_df_sorted = genre_df_count.sort_values(ascending=False)\n",
    "    genre_df_sorted_head = genre_df_sorted.head(15)\n",
    "    display(genre_df_sorted.head(15))"
   ]
  },
  {
   "cell_type": "markdown",
   "metadata": {
    "id": "la2s2_PF_Zcu"
   },
   "source": [
    "Cравним результаты функции `genre_weekday()` для Москвы и Санкт-Петербурга в понедельник утром (с 7:00 до 11:00) и в пятницу вечером (с 17:00 до 23:00):"
   ]
  },
  {
   "cell_type": "code",
   "execution_count": 29,
   "metadata": {
    "id": "yz7itPUQ_Zcu"
   },
   "outputs": [
    {
     "data": {
      "text/plain": [
       "genre\n",
       "pop            781\n",
       "dance          549\n",
       "electronic     480\n",
       "rock           474\n",
       "hiphop         286\n",
       "ruspop         186\n",
       "world          181\n",
       "rusrap         175\n",
       "alternative    164\n",
       "unknown        161\n",
       "classical      157\n",
       "metal          120\n",
       "jazz           100\n",
       "folk            97\n",
       "soundtrack      95\n",
       "Name: day, dtype: int64"
      ]
     },
     "metadata": {},
     "output_type": "display_data"
    }
   ],
   "source": [
    "genre_weekday(moscow_general, 'Monday', '07:00', '11:00')"
   ]
  },
  {
   "cell_type": "code",
   "execution_count": 30,
   "metadata": {
    "id": "kwUcHPdy_Zcu"
   },
   "outputs": [
    {
     "data": {
      "text/plain": [
       "genre\n",
       "pop            218\n",
       "dance          182\n",
       "rock           162\n",
       "electronic     147\n",
       "hiphop          80\n",
       "ruspop          64\n",
       "alternative     58\n",
       "rusrap          55\n",
       "jazz            44\n",
       "classical       40\n",
       "world           36\n",
       "rap             32\n",
       "soundtrack      31\n",
       "metal           27\n",
       "rnb             27\n",
       "Name: day, dtype: int64"
      ]
     },
     "metadata": {},
     "output_type": "display_data"
    }
   ],
   "source": [
    "genre_weekday(spb_general, 'Monday', '07:00', '11:00')"
   ]
  },
  {
   "cell_type": "code",
   "execution_count": 31,
   "metadata": {
    "id": "EzXVRE1o_Zcu"
   },
   "outputs": [
    {
     "data": {
      "text/plain": [
       "genre\n",
       "pop            713\n",
       "rock           517\n",
       "dance          495\n",
       "electronic     482\n",
       "hiphop         273\n",
       "world          208\n",
       "ruspop         170\n",
       "alternative    163\n",
       "classical      163\n",
       "rusrap         142\n",
       "jazz           111\n",
       "unknown        110\n",
       "soundtrack     105\n",
       "rnb             90\n",
       "metal           88\n",
       "Name: day, dtype: int64"
      ]
     },
     "metadata": {},
     "output_type": "display_data"
    }
   ],
   "source": [
    "genre_weekday(moscow_general, 'Friday', '17:00', '23:00')"
   ]
  },
  {
   "cell_type": "code",
   "execution_count": 32,
   "metadata": {
    "id": "JZaEKu5v_Zcu"
   },
   "outputs": [
    {
     "data": {
      "text/plain": [
       "genre\n",
       "pop            256\n",
       "rock           216\n",
       "electronic     216\n",
       "dance          210\n",
       "hiphop          97\n",
       "alternative     63\n",
       "jazz            61\n",
       "classical       60\n",
       "rusrap          59\n",
       "world           54\n",
       "ruspop          47\n",
       "unknown         47\n",
       "soundtrack      40\n",
       "metal           39\n",
       "rap             36\n",
       "Name: day, dtype: int64"
      ]
     },
     "metadata": {},
     "output_type": "display_data"
    }
   ],
   "source": [
    "genre_weekday(spb_general, 'Friday', '17:00', '23:00')"
   ]
  },
  {
   "cell_type": "markdown",
   "metadata": {
    "id": "wrCe4MNX_Zcu"
   },
   "source": [
    "**Выводы**\n",
    "\n",
    "Если сравнить топ-15 жанров в понедельник утром, можно сделать такие выводы:\n",
    "\n",
    "1. В Москве и Петербурге слушают похожую музыку. Единственное отличие — в московский рейтинг вошёл жанр folk, а в петербургский — rap и r&b.\n",
    "\n",
    "2. В Москве пропущенных значений оказалось так много, что значение `'unknown'` вошло в топ-15 среди самых популярных жанров. Значит, пропущенные значения занимают существенную долю в данных и угрожают достоверности исследования.\n",
    "\n",
    "Вечер пятницы не меняет эту картину. Некоторые жанры поднимаются немного выше, другие спускаются, но в целом топ-15 остаётся тем же самым.\n",
    "\n",
    "Таким образом, вторая гипотеза подтвердилась лишь частично:\n",
    "* Пользователи слушают похожую музыку в начале недели и в конце.\n",
    "* Разница между Москвой и Петербургом не слишком выражена.\n",
    "\n",
    "Однако пропуски в данных ставят под сомнение этот результат. В Москве их так много, что рейтинг топ-15 мог бы выглядеть иначе, если бы не утерянные  данные о жанрах."
   ]
  },
  {
   "cell_type": "markdown",
   "metadata": {
    "id": "JolODAqr_Zcu"
   },
   "source": [
    "### Жанровые предпочтения в Москве и Петербурге\n",
    "\n",
    "Гипотеза: Петербург — столица рэпа, музыку этого жанра там слушают чаще, чем в Москве.  А Москва — город контрастов, в котором, тем не менее, преобладает поп-музыка."
   ]
  },
  {
   "cell_type": "markdown",
   "metadata": {
    "id": "DlegSvaT_Zcu"
   },
   "source": [
    "Сгруппируем таблицу `moscow_general` по жанру и посчитаем прослушивания треков каждого жанра методом `count()`. Затем отсортируем результат в порядке убывания и сохраним его в таблице `moscow_genres`."
   ]
  },
  {
   "cell_type": "code",
   "execution_count": 33,
   "metadata": {
    "id": "r19lIPke_Zcu"
   },
   "outputs": [],
   "source": [
    "moscow_genres = moscow_general.groupby('genre')['track'].count().sort_values(ascending=False)"
   ]
  },
  {
   "cell_type": "markdown",
   "metadata": {
    "id": "6kMuomxTiIr8"
   },
   "source": [
    "Выведием на экран первые десять строк `moscow_genres`:"
   ]
  },
  {
   "cell_type": "code",
   "execution_count": 34,
   "metadata": {
    "id": "WhCSooF8_Zcv"
   },
   "outputs": [
    {
     "data": {
      "text/plain": [
       "genre\n",
       "pop            5892\n",
       "dance          4435\n",
       "rock           3965\n",
       "electronic     3786\n",
       "hiphop         2096\n",
       "classical      1616\n",
       "world          1432\n",
       "alternative    1379\n",
       "ruspop         1372\n",
       "rusrap         1161\n",
       "Name: track, dtype: int64"
      ]
     },
     "execution_count": 34,
     "metadata": {},
     "output_type": "execute_result"
    }
   ],
   "source": [
    "moscow_genres.head(10)"
   ]
  },
  {
   "cell_type": "markdown",
   "metadata": {
    "id": "cnPG2vnN_Zcv"
   },
   "source": [
    "Теперь повторим то же и для Петербурга.\n",
    "\n",
    "Сгруппируем таблицу `spb_general` по жанру. Посчитаем прослушивания треков каждого жанра. Результат отсортируем в порядке убывания и сохраним в таблице `spb_genres`:\n"
   ]
  },
  {
   "cell_type": "code",
   "execution_count": 35,
   "metadata": {
    "id": "gluLIpE7_Zcv"
   },
   "outputs": [],
   "source": [
    "spb_genres = spb_general.groupby('genre')['track'].count().sort_values(ascending=False)"
   ]
  },
  {
   "cell_type": "markdown",
   "metadata": {
    "id": "5Doha_ODgyQ8"
   },
   "source": [
    "Выведем на экран первые десять строк `spb_genres`:"
   ]
  },
  {
   "cell_type": "code",
   "execution_count": 36,
   "metadata": {
    "id": "uaGJHjVU_Zcv"
   },
   "outputs": [
    {
     "data": {
      "text/plain": [
       "genre\n",
       "pop            2431\n",
       "dance          1932\n",
       "rock           1879\n",
       "electronic     1737\n",
       "hiphop          960\n",
       "alternative     649\n",
       "classical       646\n",
       "rusrap          564\n",
       "ruspop          538\n",
       "world           515\n",
       "Name: track, dtype: int64"
      ]
     },
     "execution_count": 36,
     "metadata": {},
     "output_type": "execute_result"
    }
   ],
   "source": [
    "spb_genres.head(10)"
   ]
  },
  {
   "cell_type": "markdown",
   "metadata": {
    "id": "RY51YJYu_Zcv"
   },
   "source": [
    "**Выводы**"
   ]
  },
  {
   "cell_type": "markdown",
   "metadata": {
    "id": "nVhnJEm__Zcv"
   },
   "source": [
    "Гипотеза частично подтвердилась:\n",
    "* Поп-музыка — самый популярный жанр в Москве, как и предполагала гипотеза. Более того, в топ-10 жанров встречается близкий жанр — русская популярная музыка.\n",
    "* Вопреки ожиданиям, рэп одинаково популярен в Москве и Петербурге. \n"
   ]
  },
  {
   "cell_type": "markdown",
   "metadata": {
    "id": "ykKQ0N65_Zcv"
   },
   "source": [
    "## Итоги исследования"
   ]
  },
  {
   "cell_type": "markdown",
   "metadata": {
    "id": "tjUwbHb3_Zcv"
   },
   "source": [
    "На основании данных одного сервиса мы проверили три гипотезы и установили:\n",
    "\n",
    "1. День недели по-разному влияет на активность пользователей в Москве и Петербурге. \n",
    "\n",
    "***Первая гипотеза полностью подтвердилась***.\n",
    "\n",
    "\n",
    "2. Музыкальные предпочтения не сильно меняются в течение недели — будь то Москва или Петербург. Небольшие различия заметны в начале недели, по понедельникам:\n",
    "\n",
    "*  в Москве слушают музыку жанра **folk**, \n",
    "*  в Петербурге — **rap** и **r&b**.\n",
    "\n",
    "* В Москве пропущенных значений оказалось так много, что значение `'unknown'` вошло в **топ-15** среди самых популярных жанров. Значит, пропущенные значения занимают существенную долю в данных и угрожают достоверности исследования.\n",
    "\n",
    "Таким образом, ***вторая гипотеза подтвердилась лишь отчасти***. Этот результат мог оказаться иным, если бы не пропуски в данных.\n",
    "\n",
    "\n",
    "3. Во вкусах пользователей Москвы и Петербурга больше общего чем различий. Вопреки ожиданиям, предпочтения жанров в Петербурге напоминают московские.\n",
    "\n",
    "* Поп-музыка — самый популярный жанр в Москве.\n",
    "* Рэп одинаково популярен в Москве и Петербурге. \n",
    "\n",
    "***Третья гипотеза подтвердилась частично***. Если различия в предпочтениях и существуют, на основной массе пользователей они незаметны."
   ]
  }
 ],
 "metadata": {
  "ExecuteTimeLog": [
   {
    "duration": 71,
    "start_time": "2022-01-30T12:23:09.323Z"
   },
   {
    "duration": 69,
    "start_time": "2022-01-30T12:23:21.083Z"
   },
   {
    "duration": 285,
    "start_time": "2022-01-30T12:23:24.548Z"
   },
   {
    "duration": 234,
    "start_time": "2022-01-30T12:23:36.357Z"
   },
   {
    "duration": 202,
    "start_time": "2022-01-30T12:24:01.494Z"
   },
   {
    "duration": 191,
    "start_time": "2022-01-30T12:24:53.980Z"
   },
   {
    "duration": 252,
    "start_time": "2022-01-30T12:25:04.461Z"
   },
   {
    "duration": 211,
    "start_time": "2022-01-30T12:25:39.573Z"
   },
   {
    "duration": 214,
    "start_time": "2022-01-30T12:26:04.373Z"
   },
   {
    "duration": 573,
    "start_time": "2022-01-30T12:26:47.041Z"
   },
   {
    "duration": 1569,
    "start_time": "2022-01-30T12:26:47.617Z"
   },
   {
    "duration": -965,
    "start_time": "2022-01-30T12:26:50.157Z"
   },
   {
    "duration": -966,
    "start_time": "2022-01-30T12:26:50.159Z"
   },
   {
    "duration": -970,
    "start_time": "2022-01-30T12:26:50.164Z"
   },
   {
    "duration": -971,
    "start_time": "2022-01-30T12:26:50.166Z"
   },
   {
    "duration": -971,
    "start_time": "2022-01-30T12:26:50.167Z"
   },
   {
    "duration": -972,
    "start_time": "2022-01-30T12:26:50.169Z"
   },
   {
    "duration": -972,
    "start_time": "2022-01-30T12:26:50.171Z"
   },
   {
    "duration": -972,
    "start_time": "2022-01-30T12:26:50.172Z"
   },
   {
    "duration": -973,
    "start_time": "2022-01-30T12:26:50.174Z"
   },
   {
    "duration": -973,
    "start_time": "2022-01-30T12:26:50.175Z"
   },
   {
    "duration": -974,
    "start_time": "2022-01-30T12:26:50.177Z"
   },
   {
    "duration": -978,
    "start_time": "2022-01-30T12:26:50.182Z"
   },
   {
    "duration": -977,
    "start_time": "2022-01-30T12:26:50.183Z"
   },
   {
    "duration": -978,
    "start_time": "2022-01-30T12:26:50.185Z"
   },
   {
    "duration": -978,
    "start_time": "2022-01-30T12:26:50.186Z"
   },
   {
    "duration": -979,
    "start_time": "2022-01-30T12:26:50.188Z"
   },
   {
    "duration": -979,
    "start_time": "2022-01-30T12:26:50.189Z"
   },
   {
    "duration": -988,
    "start_time": "2022-01-30T12:26:50.199Z"
   },
   {
    "duration": -988,
    "start_time": "2022-01-30T12:26:50.200Z"
   },
   {
    "duration": -988,
    "start_time": "2022-01-30T12:26:50.202Z"
   },
   {
    "duration": -989,
    "start_time": "2022-01-30T12:26:50.204Z"
   },
   {
    "duration": -989,
    "start_time": "2022-01-30T12:26:50.205Z"
   },
   {
    "duration": -990,
    "start_time": "2022-01-30T12:26:50.207Z"
   },
   {
    "duration": -990,
    "start_time": "2022-01-30T12:26:50.208Z"
   },
   {
    "duration": -991,
    "start_time": "2022-01-30T12:26:50.210Z"
   },
   {
    "duration": -994,
    "start_time": "2022-01-30T12:26:50.214Z"
   },
   {
    "duration": -994,
    "start_time": "2022-01-30T12:26:50.216Z"
   },
   {
    "duration": -994,
    "start_time": "2022-01-30T12:26:50.217Z"
   },
   {
    "duration": -995,
    "start_time": "2022-01-30T12:26:50.219Z"
   },
   {
    "duration": -995,
    "start_time": "2022-01-30T12:26:50.220Z"
   },
   {
    "duration": -995,
    "start_time": "2022-01-30T12:26:50.222Z"
   },
   {
    "duration": -995,
    "start_time": "2022-01-30T12:26:50.223Z"
   },
   {
    "duration": -996,
    "start_time": "2022-01-30T12:26:50.225Z"
   },
   {
    "duration": -996,
    "start_time": "2022-01-30T12:26:50.226Z"
   },
   {
    "duration": -1000,
    "start_time": "2022-01-30T12:26:50.231Z"
   },
   {
    "duration": -1000,
    "start_time": "2022-01-30T12:26:50.232Z"
   },
   {
    "duration": 192,
    "start_time": "2022-01-30T12:31:17.143Z"
   },
   {
    "duration": 159,
    "start_time": "2022-01-30T12:31:20.792Z"
   },
   {
    "duration": 21,
    "start_time": "2022-01-30T12:31:23.864Z"
   },
   {
    "duration": 26,
    "start_time": "2022-01-30T12:31:42.992Z"
   },
   {
    "duration": 4,
    "start_time": "2022-01-30T12:33:07.624Z"
   },
   {
    "duration": 5,
    "start_time": "2022-01-30T13:29:24.774Z"
   },
   {
    "duration": 65,
    "start_time": "2022-01-30T13:29:27.726Z"
   },
   {
    "duration": 24,
    "start_time": "2022-01-30T13:29:39.270Z"
   },
   {
    "duration": 5,
    "start_time": "2022-01-30T13:29:41.917Z"
   },
   {
    "duration": 4,
    "start_time": "2022-01-30T13:29:59.142Z"
   },
   {
    "duration": 20,
    "start_time": "2022-01-30T13:30:02.709Z"
   },
   {
    "duration": 5,
    "start_time": "2022-01-30T13:30:04.861Z"
   },
   {
    "duration": 14,
    "start_time": "2022-01-30T13:30:19.437Z"
   },
   {
    "duration": 4,
    "start_time": "2022-01-30T13:30:23.302Z"
   },
   {
    "duration": 241,
    "start_time": "2022-01-30T13:30:34.860Z"
   },
   {
    "duration": 291,
    "start_time": "2022-01-30T13:30:37.379Z"
   },
   {
    "duration": 565,
    "start_time": "2022-01-30T13:30:48.163Z"
   },
   {
    "duration": 156,
    "start_time": "2022-01-30T13:30:50.203Z"
   },
   {
    "duration": 18,
    "start_time": "2022-01-30T13:30:51.913Z"
   },
   {
    "duration": 27,
    "start_time": "2022-01-30T13:30:54.924Z"
   },
   {
    "duration": 4,
    "start_time": "2022-01-30T13:30:57.580Z"
   },
   {
    "duration": 25,
    "start_time": "2022-01-30T13:31:01.796Z"
   },
   {
    "duration": 4,
    "start_time": "2022-01-30T13:31:04.052Z"
   },
   {
    "duration": 4,
    "start_time": "2022-01-30T16:00:26.281Z"
   },
   {
    "duration": 166,
    "start_time": "2022-01-30T16:00:27.332Z"
   },
   {
    "duration": 12,
    "start_time": "2022-01-30T16:00:28.940Z"
   },
   {
    "duration": 25,
    "start_time": "2022-01-30T16:00:36.829Z"
   },
   {
    "duration": 4,
    "start_time": "2022-01-30T16:01:28.461Z"
   },
   {
    "duration": 8,
    "start_time": "2022-01-30T16:03:16.532Z"
   },
   {
    "duration": 5,
    "start_time": "2022-01-30T17:01:17.816Z"
   },
   {
    "duration": 5,
    "start_time": "2022-01-30T17:01:20.691Z"
   },
   {
    "duration": 3,
    "start_time": "2022-01-30T17:01:30.379Z"
   },
   {
    "duration": 185,
    "start_time": "2022-01-30T17:01:31.003Z"
   },
   {
    "duration": 11,
    "start_time": "2022-01-30T17:01:31.624Z"
   },
   {
    "duration": 26,
    "start_time": "2022-01-30T17:01:32.727Z"
   },
   {
    "duration": 5,
    "start_time": "2022-01-30T17:01:34.951Z"
   },
   {
    "duration": 5,
    "start_time": "2022-01-30T17:01:36.603Z"
   },
   {
    "duration": 5,
    "start_time": "2022-01-30T17:01:37.416Z"
   },
   {
    "duration": 70,
    "start_time": "2022-01-30T17:02:20.072Z"
   },
   {
    "duration": 5,
    "start_time": "2022-01-30T17:03:16.835Z"
   },
   {
    "duration": 5,
    "start_time": "2022-01-30T17:03:52.659Z"
   },
   {
    "duration": 5,
    "start_time": "2022-01-30T17:05:34.483Z"
   },
   {
    "duration": 245,
    "start_time": "2022-01-30T17:07:29.794Z"
   },
   {
    "duration": 32,
    "start_time": "2022-01-30T17:07:39.265Z"
   },
   {
    "duration": 62,
    "start_time": "2022-01-30T17:11:16.025Z"
   },
   {
    "duration": 25,
    "start_time": "2022-01-30T17:11:34.184Z"
   },
   {
    "duration": 207,
    "start_time": "2022-01-30T17:13:39.070Z"
   },
   {
    "duration": 20,
    "start_time": "2022-01-30T17:14:02.169Z"
   },
   {
    "duration": 24,
    "start_time": "2022-01-30T17:14:04.320Z"
   },
   {
    "duration": 25,
    "start_time": "2022-01-30T17:15:12.584Z"
   },
   {
    "duration": 62,
    "start_time": "2022-01-30T17:15:40.528Z"
   },
   {
    "duration": 90,
    "start_time": "2022-01-30T17:15:51.016Z"
   },
   {
    "duration": 58,
    "start_time": "2022-01-30T17:16:09.200Z"
   },
   {
    "duration": 59,
    "start_time": "2022-01-30T17:16:20.217Z"
   },
   {
    "duration": 73,
    "start_time": "2022-01-30T17:17:40.495Z"
   },
   {
    "duration": 60,
    "start_time": "2022-01-30T17:18:03.703Z"
   },
   {
    "duration": 218,
    "start_time": "2022-01-30T17:18:57.096Z"
   },
   {
    "duration": 211,
    "start_time": "2022-01-30T17:19:03.687Z"
   },
   {
    "duration": 9,
    "start_time": "2022-01-30T17:19:44.097Z"
   },
   {
    "duration": 204,
    "start_time": "2022-01-30T17:20:08.623Z"
   },
   {
    "duration": 206,
    "start_time": "2022-01-30T17:20:23.047Z"
   },
   {
    "duration": 192,
    "start_time": "2022-01-30T17:20:38.887Z"
   },
   {
    "duration": 7,
    "start_time": "2022-01-30T17:24:14.918Z"
   },
   {
    "duration": 11,
    "start_time": "2022-01-30T17:25:12.997Z"
   },
   {
    "duration": 4,
    "start_time": "2022-01-30T17:45:14.867Z"
   },
   {
    "duration": 203,
    "start_time": "2022-01-30T17:48:43.487Z"
   },
   {
    "duration": 5599,
    "start_time": "2022-01-30T17:49:01.077Z"
   },
   {
    "duration": 4,
    "start_time": "2022-01-30T17:49:56.036Z"
   },
   {
    "duration": 403,
    "start_time": "2022-01-30T17:49:57.813Z"
   },
   {
    "duration": 4,
    "start_time": "2022-01-30T17:50:34.748Z"
   },
   {
    "duration": 16,
    "start_time": "2022-01-30T17:50:35.870Z"
   },
   {
    "duration": 18,
    "start_time": "2022-01-30T17:53:35.554Z"
   },
   {
    "duration": 10,
    "start_time": "2022-01-30T17:56:29.225Z"
   },
   {
    "duration": 21,
    "start_time": "2022-01-30T17:57:29.483Z"
   },
   {
    "duration": 15,
    "start_time": "2022-01-30T17:57:31.059Z"
   },
   {
    "duration": 17,
    "start_time": "2022-01-30T17:57:38.276Z"
   },
   {
    "duration": 19,
    "start_time": "2022-01-30T18:04:07.112Z"
   },
   {
    "duration": 23,
    "start_time": "2022-01-30T18:04:09.778Z"
   },
   {
    "duration": 57,
    "start_time": "2022-01-30T18:04:15.754Z"
   },
   {
    "duration": 64,
    "start_time": "2022-01-30T18:04:28.257Z"
   },
   {
    "duration": 61,
    "start_time": "2022-01-30T18:04:31.938Z"
   },
   {
    "duration": 4,
    "start_time": "2022-01-30T18:05:48.170Z"
   },
   {
    "duration": 18,
    "start_time": "2022-01-30T18:05:49.682Z"
   },
   {
    "duration": 605,
    "start_time": "2022-01-30T18:06:30.440Z"
   },
   {
    "duration": 163,
    "start_time": "2022-01-30T18:06:31.048Z"
   },
   {
    "duration": 22,
    "start_time": "2022-01-30T18:06:31.214Z"
   },
   {
    "duration": 29,
    "start_time": "2022-01-30T18:06:31.239Z"
   },
   {
    "duration": 38,
    "start_time": "2022-01-30T18:06:31.270Z"
   },
   {
    "duration": 5,
    "start_time": "2022-01-30T18:06:31.311Z"
   },
   {
    "duration": 16,
    "start_time": "2022-01-30T18:06:31.318Z"
   },
   {
    "duration": 40,
    "start_time": "2022-01-30T18:06:31.336Z"
   },
   {
    "duration": 30,
    "start_time": "2022-01-30T18:06:31.379Z"
   },
   {
    "duration": 35,
    "start_time": "2022-01-30T18:06:31.411Z"
   },
   {
    "duration": 100,
    "start_time": "2022-01-30T18:06:31.448Z"
   },
   {
    "duration": 92,
    "start_time": "2022-01-30T18:06:31.550Z"
   },
   {
    "duration": 66,
    "start_time": "2022-01-30T18:06:31.643Z"
   },
   {
    "duration": 10,
    "start_time": "2022-01-30T18:06:31.711Z"
   },
   {
    "duration": 3,
    "start_time": "2022-01-30T18:06:31.723Z"
   },
   {
    "duration": 24,
    "start_time": "2022-01-30T18:06:31.728Z"
   },
   {
    "duration": 10,
    "start_time": "2022-01-30T18:06:31.754Z"
   },
   {
    "duration": 3,
    "start_time": "2022-01-30T18:06:31.766Z"
   },
   {
    "duration": 11,
    "start_time": "2022-01-30T18:06:31.771Z"
   },
   {
    "duration": 3,
    "start_time": "2022-01-30T18:06:31.807Z"
   },
   {
    "duration": 9,
    "start_time": "2022-01-30T18:06:31.813Z"
   },
   {
    "duration": 12,
    "start_time": "2022-01-30T18:06:31.824Z"
   },
   {
    "duration": 14,
    "start_time": "2022-01-30T18:06:31.838Z"
   },
   {
    "duration": 11,
    "start_time": "2022-01-30T18:06:31.855Z"
   },
   {
    "duration": 7,
    "start_time": "2022-01-30T18:06:31.868Z"
   },
   {
    "duration": 12,
    "start_time": "2022-01-30T18:06:31.877Z"
   },
   {
    "duration": 21,
    "start_time": "2022-01-30T18:06:31.892Z"
   },
   {
    "duration": 14,
    "start_time": "2022-01-30T18:06:31.915Z"
   },
   {
    "duration": 11,
    "start_time": "2022-01-30T18:06:31.931Z"
   },
   {
    "duration": 8,
    "start_time": "2022-01-30T18:06:31.944Z"
   },
   {
    "duration": 14,
    "start_time": "2022-01-30T18:06:31.954Z"
   },
   {
    "duration": 14,
    "start_time": "2022-01-30T18:06:31.970Z"
   },
   {
    "duration": 38,
    "start_time": "2022-01-30T18:06:31.986Z"
   },
   {
    "duration": 13,
    "start_time": "2022-01-30T18:06:32.026Z"
   },
   {
    "duration": 11,
    "start_time": "2022-01-30T18:06:32.042Z"
   },
   {
    "duration": 10,
    "start_time": "2022-01-30T18:06:32.055Z"
   },
   {
    "duration": 15,
    "start_time": "2022-01-30T18:06:32.067Z"
   },
   {
    "duration": 8,
    "start_time": "2022-01-30T18:06:32.084Z"
   },
   {
    "duration": 3,
    "start_time": "2022-01-30T18:06:40.621Z"
   },
   {
    "duration": 161,
    "start_time": "2022-01-30T18:06:41.533Z"
   },
   {
    "duration": 12,
    "start_time": "2022-01-30T18:06:42.389Z"
   },
   {
    "duration": 20,
    "start_time": "2022-01-30T18:08:04.596Z"
   },
   {
    "duration": 612,
    "start_time": "2022-01-30T18:08:42.713Z"
   },
   {
    "duration": 155,
    "start_time": "2022-01-30T18:08:43.327Z"
   },
   {
    "duration": 19,
    "start_time": "2022-01-30T18:08:43.485Z"
   },
   {
    "duration": 28,
    "start_time": "2022-01-30T18:08:43.506Z"
   },
   {
    "duration": 11,
    "start_time": "2022-01-30T18:08:43.537Z"
   },
   {
    "duration": 14,
    "start_time": "2022-01-30T18:08:43.550Z"
   },
   {
    "duration": 17,
    "start_time": "2022-01-30T18:08:43.566Z"
   },
   {
    "duration": 32,
    "start_time": "2022-01-30T18:08:43.584Z"
   },
   {
    "duration": 23,
    "start_time": "2022-01-30T18:08:43.619Z"
   },
   {
    "duration": 23,
    "start_time": "2022-01-30T18:08:43.645Z"
   },
   {
    "duration": 83,
    "start_time": "2022-01-30T18:08:43.670Z"
   },
   {
    "duration": 92,
    "start_time": "2022-01-30T18:08:43.755Z"
   },
   {
    "duration": 61,
    "start_time": "2022-01-30T18:08:43.849Z"
   },
   {
    "duration": 11,
    "start_time": "2022-01-30T18:08:43.912Z"
   },
   {
    "duration": 3,
    "start_time": "2022-01-30T18:08:43.925Z"
   },
   {
    "duration": 19,
    "start_time": "2022-01-30T18:08:43.930Z"
   },
   {
    "duration": 10,
    "start_time": "2022-01-30T18:08:43.951Z"
   },
   {
    "duration": 5,
    "start_time": "2022-01-30T18:08:43.963Z"
   },
   {
    "duration": 37,
    "start_time": "2022-01-30T18:08:43.970Z"
   },
   {
    "duration": 2,
    "start_time": "2022-01-30T18:08:44.010Z"
   },
   {
    "duration": 14,
    "start_time": "2022-01-30T18:08:44.014Z"
   },
   {
    "duration": 7,
    "start_time": "2022-01-30T18:08:44.030Z"
   },
   {
    "duration": 8,
    "start_time": "2022-01-30T18:08:44.039Z"
   },
   {
    "duration": 12,
    "start_time": "2022-01-30T18:08:44.048Z"
   },
   {
    "duration": 12,
    "start_time": "2022-01-30T18:08:44.062Z"
   },
   {
    "duration": 13,
    "start_time": "2022-01-30T18:08:44.075Z"
   },
   {
    "duration": 9,
    "start_time": "2022-01-30T18:08:44.092Z"
   },
   {
    "duration": 9,
    "start_time": "2022-01-30T18:08:44.103Z"
   },
   {
    "duration": 9,
    "start_time": "2022-01-30T18:08:44.114Z"
   },
   {
    "duration": 9,
    "start_time": "2022-01-30T18:08:44.125Z"
   },
   {
    "duration": 11,
    "start_time": "2022-01-30T18:08:44.136Z"
   },
   {
    "duration": 8,
    "start_time": "2022-01-30T18:08:44.149Z"
   },
   {
    "duration": 13,
    "start_time": "2022-01-30T18:08:44.159Z"
   },
   {
    "duration": 8,
    "start_time": "2022-01-30T18:08:44.173Z"
   },
   {
    "duration": 9,
    "start_time": "2022-01-30T18:08:44.183Z"
   },
   {
    "duration": 7,
    "start_time": "2022-01-30T18:08:44.194Z"
   },
   {
    "duration": 7,
    "start_time": "2022-01-30T18:08:44.203Z"
   },
   {
    "duration": 12,
    "start_time": "2022-01-30T18:08:44.212Z"
   },
   {
    "duration": 288,
    "start_time": "2022-01-30T18:15:32.894Z"
   },
   {
    "duration": 60,
    "start_time": "2022-01-30T18:15:36.933Z"
   },
   {
    "duration": 34,
    "start_time": "2022-01-30T18:16:12.557Z"
   },
   {
    "duration": 21,
    "start_time": "2022-01-30T18:17:48.218Z"
   },
   {
    "duration": 25,
    "start_time": "2022-01-30T18:20:38.195Z"
   },
   {
    "duration": 4143,
    "start_time": "2022-01-30T18:21:41.899Z"
   },
   {
    "duration": 37,
    "start_time": "2022-01-30T18:22:37.523Z"
   },
   {
    "duration": 23,
    "start_time": "2022-01-30T18:22:57.450Z"
   },
   {
    "duration": 24,
    "start_time": "2022-01-30T18:24:24.730Z"
   },
   {
    "duration": 41,
    "start_time": "2022-01-30T18:25:22.794Z"
   },
   {
    "duration": 42,
    "start_time": "2022-01-30T18:25:29.939Z"
   },
   {
    "duration": 25,
    "start_time": "2022-01-30T18:25:41.306Z"
   },
   {
    "duration": 39,
    "start_time": "2022-01-30T18:25:46.426Z"
   },
   {
    "duration": 24,
    "start_time": "2022-01-30T18:26:55.849Z"
   },
   {
    "duration": 24,
    "start_time": "2022-01-30T18:27:45.034Z"
   },
   {
    "duration": 20,
    "start_time": "2022-01-30T18:29:09.135Z"
   },
   {
    "duration": 12,
    "start_time": "2022-01-30T18:29:24.122Z"
   },
   {
    "duration": 207,
    "start_time": "2022-01-30T18:30:03.847Z"
   },
   {
    "duration": 28,
    "start_time": "2022-01-30T18:30:13.529Z"
   },
   {
    "duration": 69,
    "start_time": "2022-01-30T18:35:49.432Z"
   },
   {
    "duration": 126,
    "start_time": "2022-01-30T18:36:02.118Z"
   },
   {
    "duration": 77,
    "start_time": "2022-01-30T18:36:48.743Z"
   },
   {
    "duration": 573,
    "start_time": "2022-01-30T18:37:40.272Z"
   },
   {
    "duration": 515,
    "start_time": "2022-01-30T18:37:57.695Z"
   },
   {
    "duration": 537,
    "start_time": "2022-01-30T18:38:24.151Z"
   },
   {
    "duration": 515,
    "start_time": "2022-01-30T18:38:37.839Z"
   },
   {
    "duration": 533,
    "start_time": "2022-01-30T18:38:44.288Z"
   },
   {
    "duration": 513,
    "start_time": "2022-01-30T18:39:07.438Z"
   },
   {
    "duration": 74,
    "start_time": "2022-01-30T18:40:32.407Z"
   },
   {
    "duration": 74,
    "start_time": "2022-01-30T18:41:34.366Z"
   },
   {
    "duration": 87,
    "start_time": "2022-01-30T18:48:32.060Z"
   },
   {
    "duration": 77,
    "start_time": "2022-01-30T18:48:41.987Z"
   },
   {
    "duration": 83,
    "start_time": "2022-01-30T18:49:08.884Z"
   },
   {
    "duration": 79,
    "start_time": "2022-01-30T18:50:56.092Z"
   },
   {
    "duration": 311,
    "start_time": "2022-01-30T18:52:30.179Z"
   },
   {
    "duration": 306,
    "start_time": "2022-01-30T18:52:35.387Z"
   },
   {
    "duration": 681,
    "start_time": "2022-01-30T18:53:02.602Z"
   },
   {
    "duration": 665,
    "start_time": "2022-01-30T18:53:07.601Z"
   },
   {
    "duration": 87,
    "start_time": "2022-01-30T18:54:31.178Z"
   },
   {
    "duration": 56,
    "start_time": "2022-01-30T18:56:36.225Z"
   },
   {
    "duration": 64,
    "start_time": "2022-01-30T18:57:26.904Z"
   },
   {
    "duration": 6,
    "start_time": "2022-01-30T19:00:09.335Z"
   },
   {
    "duration": 101,
    "start_time": "2022-01-30T19:01:03.456Z"
   },
   {
    "duration": 76,
    "start_time": "2022-01-30T19:05:30.415Z"
   },
   {
    "duration": 64,
    "start_time": "2022-01-30T19:07:42.525Z"
   },
   {
    "duration": 51,
    "start_time": "2022-01-30T19:10:28.708Z"
   },
   {
    "duration": 10,
    "start_time": "2022-01-30T19:10:30.780Z"
   },
   {
    "duration": 72,
    "start_time": "2022-01-30T19:11:05.941Z"
   },
   {
    "duration": 210,
    "start_time": "2022-01-30T19:13:14.227Z"
   },
   {
    "duration": 209,
    "start_time": "2022-01-30T19:14:08.659Z"
   },
   {
    "duration": 221,
    "start_time": "2022-01-30T19:14:31.107Z"
   },
   {
    "duration": 210,
    "start_time": "2022-01-30T19:14:37.203Z"
   },
   {
    "duration": 219,
    "start_time": "2022-01-30T19:15:12.323Z"
   },
   {
    "duration": 215,
    "start_time": "2022-01-30T19:15:33.227Z"
   },
   {
    "duration": 67,
    "start_time": "2022-01-30T19:16:01.387Z"
   },
   {
    "duration": 297,
    "start_time": "2022-01-30T19:17:27.739Z"
   },
   {
    "duration": 64,
    "start_time": "2022-01-30T19:17:47.026Z"
   },
   {
    "duration": 204,
    "start_time": "2022-01-30T19:17:50.082Z"
   },
   {
    "duration": 9,
    "start_time": "2022-01-30T19:18:41.906Z"
   },
   {
    "duration": 229,
    "start_time": "2022-01-30T19:22:37.698Z"
   },
   {
    "duration": 65,
    "start_time": "2022-01-30T19:22:51.492Z"
   },
   {
    "duration": 213,
    "start_time": "2022-01-30T19:28:06.783Z"
   },
   {
    "duration": 314,
    "start_time": "2022-01-30T19:28:31.327Z"
   },
   {
    "duration": 214,
    "start_time": "2022-01-30T19:28:48.447Z"
   },
   {
    "duration": 270,
    "start_time": "2022-01-30T19:28:59.255Z"
   },
   {
    "duration": 250,
    "start_time": "2022-01-30T19:30:25.071Z"
   },
   {
    "duration": 5,
    "start_time": "2022-01-30T19:31:06.830Z"
   },
   {
    "duration": 275,
    "start_time": "2022-01-30T19:31:24.518Z"
   },
   {
    "duration": 101,
    "start_time": "2022-01-30T19:31:42.423Z"
   },
   {
    "duration": 6,
    "start_time": "2022-01-30T19:31:46.213Z"
   },
   {
    "duration": 10,
    "start_time": "2022-01-30T19:31:53.502Z"
   },
   {
    "duration": 61,
    "start_time": "2022-01-30T19:33:23.110Z"
   },
   {
    "duration": 237,
    "start_time": "2022-01-30T19:34:41.903Z"
   },
   {
    "duration": 256,
    "start_time": "2022-01-30T19:35:31.789Z"
   },
   {
    "duration": 271,
    "start_time": "2022-01-30T19:38:07.660Z"
   },
   {
    "duration": 259,
    "start_time": "2022-01-30T19:38:25.020Z"
   },
   {
    "duration": 264,
    "start_time": "2022-01-30T19:38:45.726Z"
   },
   {
    "duration": 401,
    "start_time": "2022-01-30T19:39:08.788Z"
   },
   {
    "duration": 418,
    "start_time": "2022-01-30T19:39:47.828Z"
   },
   {
    "duration": 61,
    "start_time": "2022-01-30T19:40:03.548Z"
   },
   {
    "duration": 71,
    "start_time": "2022-01-30T19:40:17.020Z"
   },
   {
    "duration": 227,
    "start_time": "2022-01-30T19:40:33.980Z"
   },
   {
    "duration": 83,
    "start_time": "2022-01-30T19:40:48.108Z"
   },
   {
    "duration": 11,
    "start_time": "2022-01-30T19:41:18.044Z"
   },
   {
    "duration": 222,
    "start_time": "2022-01-30T19:43:20.292Z"
   },
   {
    "duration": 4,
    "start_time": "2022-01-30T19:43:26.451Z"
   },
   {
    "duration": 4,
    "start_time": "2022-01-30T19:43:31.259Z"
   },
   {
    "duration": 34,
    "start_time": "2022-01-30T19:43:50.043Z"
   },
   {
    "duration": 37,
    "start_time": "2022-01-30T19:44:01.563Z"
   },
   {
    "duration": 18,
    "start_time": "2022-01-30T19:45:21.924Z"
   },
   {
    "duration": 27,
    "start_time": "2022-01-30T19:45:30.723Z"
   },
   {
    "duration": 31,
    "start_time": "2022-01-30T19:45:37.891Z"
   },
   {
    "duration": 29,
    "start_time": "2022-01-30T19:45:53.911Z"
   },
   {
    "duration": 21,
    "start_time": "2022-01-30T19:46:19.674Z"
   },
   {
    "duration": 23,
    "start_time": "2022-01-30T19:46:23.788Z"
   },
   {
    "duration": 4,
    "start_time": "2022-01-30T19:56:48.847Z"
   },
   {
    "duration": 4,
    "start_time": "2022-01-30T19:57:46.256Z"
   },
   {
    "duration": 30,
    "start_time": "2022-01-30T19:58:36.255Z"
   },
   {
    "duration": 4,
    "start_time": "2022-01-30T19:58:54.391Z"
   },
   {
    "duration": 31,
    "start_time": "2022-01-30T19:58:55.639Z"
   },
   {
    "duration": 21,
    "start_time": "2022-01-30T20:00:07.343Z"
   },
   {
    "duration": 29,
    "start_time": "2022-01-30T20:00:18.079Z"
   },
   {
    "duration": 32,
    "start_time": "2022-01-30T20:00:33.655Z"
   },
   {
    "duration": 24,
    "start_time": "2022-01-30T20:00:35.806Z"
   },
   {
    "duration": 5,
    "start_time": "2022-01-30T20:03:45.309Z"
   },
   {
    "duration": 1575,
    "start_time": "2022-01-30T20:03:47.085Z"
   },
   {
    "duration": 7,
    "start_time": "2022-01-30T20:04:01.862Z"
   },
   {
    "duration": 5,
    "start_time": "2022-01-30T20:08:11.941Z"
   },
   {
    "duration": 725,
    "start_time": "2022-01-30T20:08:18.157Z"
   },
   {
    "duration": 5,
    "start_time": "2022-01-30T20:08:57.837Z"
   },
   {
    "duration": 197,
    "start_time": "2022-01-30T20:09:03.724Z"
   },
   {
    "duration": 5,
    "start_time": "2022-01-30T20:10:44.780Z"
   },
   {
    "duration": 457,
    "start_time": "2022-01-30T20:10:49.067Z"
   },
   {
    "duration": 68,
    "start_time": "2022-01-30T20:13:34.587Z"
   },
   {
    "duration": 4,
    "start_time": "2022-01-30T20:13:43.499Z"
   },
   {
    "duration": 4,
    "start_time": "2022-01-30T20:13:47.923Z"
   },
   {
    "duration": 31,
    "start_time": "2022-01-30T20:13:50.147Z"
   },
   {
    "duration": 20,
    "start_time": "2022-01-30T20:13:52.435Z"
   },
   {
    "duration": 31,
    "start_time": "2022-01-30T20:13:52.851Z"
   },
   {
    "duration": 21,
    "start_time": "2022-01-30T20:13:53.370Z"
   },
   {
    "duration": 4,
    "start_time": "2022-01-30T20:14:46.507Z"
   },
   {
    "duration": 780,
    "start_time": "2022-01-30T20:14:48.987Z"
   },
   {
    "duration": 4,
    "start_time": "2022-01-30T20:15:34.923Z"
   },
   {
    "duration": 30,
    "start_time": "2022-01-30T20:15:35.667Z"
   },
   {
    "duration": 19,
    "start_time": "2022-01-30T20:15:36.189Z"
   },
   {
    "duration": 34,
    "start_time": "2022-01-30T20:15:36.411Z"
   },
   {
    "duration": 21,
    "start_time": "2022-01-30T20:15:37.383Z"
   },
   {
    "duration": 4,
    "start_time": "2022-01-30T20:17:11.226Z"
   },
   {
    "duration": 29,
    "start_time": "2022-01-30T20:17:12.162Z"
   },
   {
    "duration": 18,
    "start_time": "2022-01-30T20:17:12.650Z"
   },
   {
    "duration": 32,
    "start_time": "2022-01-30T20:17:13.129Z"
   },
   {
    "duration": 21,
    "start_time": "2022-01-30T20:17:13.602Z"
   },
   {
    "duration": 6,
    "start_time": "2022-01-30T20:18:50.066Z"
   },
   {
    "duration": 42,
    "start_time": "2022-01-30T20:18:50.696Z"
   },
   {
    "duration": 24,
    "start_time": "2022-01-30T20:18:51.170Z"
   },
   {
    "duration": 111,
    "start_time": "2022-01-30T20:18:51.601Z"
   },
   {
    "duration": 22,
    "start_time": "2022-01-30T20:18:51.985Z"
   },
   {
    "duration": 201,
    "start_time": "2022-01-30T20:32:51.253Z"
   },
   {
    "duration": 55,
    "start_time": "2022-01-30T20:34:49.268Z"
   },
   {
    "duration": 5,
    "start_time": "2022-01-30T20:34:52.285Z"
   },
   {
    "duration": 55,
    "start_time": "2022-01-30T20:35:15.476Z"
   },
   {
    "duration": 6,
    "start_time": "2022-01-30T20:35:17.075Z"
   },
   {
    "duration": 4,
    "start_time": "2022-01-30T20:35:35.212Z"
   },
   {
    "duration": 25,
    "start_time": "2022-01-30T20:37:22.331Z"
   },
   {
    "duration": 9,
    "start_time": "2022-01-30T20:37:23.699Z"
   },
   {
    "duration": 23,
    "start_time": "2022-01-30T20:38:33.171Z"
   },
   {
    "duration": 226,
    "start_time": "2022-01-30T20:38:34.943Z"
   },
   {
    "duration": 4,
    "start_time": "2022-01-30T20:38:52.451Z"
   },
   {
    "duration": 223,
    "start_time": "2022-01-30T20:40:00.659Z"
   },
   {
    "duration": 222,
    "start_time": "2022-01-30T20:41:49.163Z"
   },
   {
    "duration": 5755,
    "start_time": "2022-01-30T20:41:56.546Z"
   },
   {
    "duration": -1157,
    "start_time": "2022-01-30T20:42:03.460Z"
   },
   {
    "duration": 25,
    "start_time": "2022-01-30T20:42:09.450Z"
   },
   {
    "duration": 10,
    "start_time": "2022-01-30T20:42:11.449Z"
   },
   {
    "duration": 10,
    "start_time": "2022-01-30T20:42:36.338Z"
   },
   {
    "duration": 6,
    "start_time": "2022-01-30T20:42:37.285Z"
   },
   {
    "duration": 11,
    "start_time": "2022-01-30T20:43:08.241Z"
   },
   {
    "duration": 6,
    "start_time": "2022-01-30T20:43:10.680Z"
   },
   {
    "duration": 10,
    "start_time": "2022-01-30T20:43:32.466Z"
   },
   {
    "duration": 5,
    "start_time": "2022-01-30T20:43:34.609Z"
   },
   {
    "duration": 18,
    "start_time": "2022-01-30T20:45:15.896Z"
   },
   {
    "duration": 6,
    "start_time": "2022-01-30T20:45:24.905Z"
   },
   {
    "duration": 210,
    "start_time": "2022-01-30T20:46:19.712Z"
   },
   {
    "duration": 7,
    "start_time": "2022-01-30T20:46:24.088Z"
   },
   {
    "duration": 6,
    "start_time": "2022-01-30T20:46:25.951Z"
   },
   {
    "duration": 621,
    "start_time": "2022-01-30T20:56:01.927Z"
   },
   {
    "duration": 167,
    "start_time": "2022-01-30T20:56:02.551Z"
   },
   {
    "duration": 21,
    "start_time": "2022-01-30T20:56:02.721Z"
   },
   {
    "duration": 36,
    "start_time": "2022-01-30T20:56:02.745Z"
   },
   {
    "duration": 26,
    "start_time": "2022-01-30T20:56:02.783Z"
   },
   {
    "duration": 10,
    "start_time": "2022-01-30T20:56:02.811Z"
   },
   {
    "duration": 16,
    "start_time": "2022-01-30T20:56:02.823Z"
   },
   {
    "duration": 43,
    "start_time": "2022-01-30T20:56:02.841Z"
   },
   {
    "duration": 20,
    "start_time": "2022-01-30T20:56:02.888Z"
   },
   {
    "duration": 25,
    "start_time": "2022-01-30T20:56:02.911Z"
   },
   {
    "duration": 83,
    "start_time": "2022-01-30T20:56:02.938Z"
   },
   {
    "duration": 94,
    "start_time": "2022-01-30T20:56:03.023Z"
   },
   {
    "duration": 59,
    "start_time": "2022-01-30T20:56:03.120Z"
   },
   {
    "duration": 32,
    "start_time": "2022-01-30T20:56:03.181Z"
   },
   {
    "duration": 4,
    "start_time": "2022-01-30T20:56:03.216Z"
   },
   {
    "duration": 20,
    "start_time": "2022-01-30T20:56:03.221Z"
   },
   {
    "duration": 11,
    "start_time": "2022-01-30T20:56:03.243Z"
   },
   {
    "duration": 8,
    "start_time": "2022-01-30T20:56:03.256Z"
   },
   {
    "duration": 96,
    "start_time": "2022-01-30T20:56:03.266Z"
   },
   {
    "duration": 11,
    "start_time": "2022-01-30T20:56:03.364Z"
   },
   {
    "duration": 41,
    "start_time": "2022-01-30T20:56:03.377Z"
   },
   {
    "duration": 17,
    "start_time": "2022-01-30T20:56:03.420Z"
   },
   {
    "duration": 4,
    "start_time": "2022-01-30T20:56:03.439Z"
   },
   {
    "duration": 40,
    "start_time": "2022-01-30T20:56:03.444Z"
   },
   {
    "duration": 37,
    "start_time": "2022-01-30T20:56:03.486Z"
   },
   {
    "duration": 35,
    "start_time": "2022-01-30T20:56:03.524Z"
   },
   {
    "duration": 45,
    "start_time": "2022-01-30T20:56:03.562Z"
   },
   {
    "duration": 11,
    "start_time": "2022-01-30T20:56:03.610Z"
   },
   {
    "duration": 5,
    "start_time": "2022-01-30T20:56:03.622Z"
   },
   {
    "duration": 12,
    "start_time": "2022-01-30T20:56:03.629Z"
   },
   {
    "duration": 5,
    "start_time": "2022-01-30T20:56:03.643Z"
   },
   {
    "duration": 5,
    "start_time": "2022-01-30T21:08:45.964Z"
   },
   {
    "duration": 1081,
    "start_time": "2022-01-30T21:08:48.498Z"
   },
   {
    "duration": 73,
    "start_time": "2022-01-30T21:08:59.918Z"
   },
   {
    "duration": 4,
    "start_time": "2022-01-30T21:09:10.179Z"
   },
   {
    "duration": 6493,
    "start_time": "2022-01-30T21:09:11.905Z"
   },
   {
    "duration": 5,
    "start_time": "2022-01-30T21:10:03.442Z"
   },
   {
    "duration": 5741,
    "start_time": "2022-01-30T21:10:05.089Z"
   },
   {
    "duration": 5,
    "start_time": "2022-01-30T21:11:37.346Z"
   },
   {
    "duration": 7731,
    "start_time": "2022-01-30T21:11:38.809Z"
   },
   {
    "duration": 4,
    "start_time": "2022-01-30T21:12:48.697Z"
   },
   {
    "duration": 30,
    "start_time": "2022-01-30T21:12:50.561Z"
   },
   {
    "duration": 631,
    "start_time": "2022-01-30T21:13:02.222Z"
   },
   {
    "duration": 168,
    "start_time": "2022-01-30T21:13:02.855Z"
   },
   {
    "duration": 20,
    "start_time": "2022-01-30T21:13:03.025Z"
   },
   {
    "duration": 31,
    "start_time": "2022-01-30T21:13:03.047Z"
   },
   {
    "duration": 27,
    "start_time": "2022-01-30T21:13:03.080Z"
   },
   {
    "duration": 5,
    "start_time": "2022-01-30T21:13:03.110Z"
   },
   {
    "duration": 16,
    "start_time": "2022-01-30T21:13:03.117Z"
   },
   {
    "duration": 28,
    "start_time": "2022-01-30T21:13:03.135Z"
   },
   {
    "duration": 45,
    "start_time": "2022-01-30T21:13:03.166Z"
   },
   {
    "duration": 24,
    "start_time": "2022-01-30T21:13:03.213Z"
   },
   {
    "duration": 83,
    "start_time": "2022-01-30T21:13:03.239Z"
   },
   {
    "duration": 86,
    "start_time": "2022-01-30T21:13:03.324Z"
   },
   {
    "duration": 59,
    "start_time": "2022-01-30T21:13:03.412Z"
   },
   {
    "duration": 38,
    "start_time": "2022-01-30T21:13:03.474Z"
   },
   {
    "duration": 4,
    "start_time": "2022-01-30T21:13:03.515Z"
   },
   {
    "duration": 22,
    "start_time": "2022-01-30T21:13:03.521Z"
   },
   {
    "duration": 11,
    "start_time": "2022-01-30T21:13:03.545Z"
   },
   {
    "duration": 7,
    "start_time": "2022-01-30T21:13:03.558Z"
   },
   {
    "duration": 100,
    "start_time": "2022-01-30T21:13:03.567Z"
   },
   {
    "duration": 9,
    "start_time": "2022-01-30T21:13:03.669Z"
   },
   {
    "duration": 40,
    "start_time": "2022-01-30T21:13:03.680Z"
   },
   {
    "duration": 21,
    "start_time": "2022-01-30T21:13:03.722Z"
   },
   {
    "duration": 6,
    "start_time": "2022-01-30T21:13:03.745Z"
   },
   {
    "duration": 58,
    "start_time": "2022-01-30T21:13:03.753Z"
   },
   {
    "duration": 24,
    "start_time": "2022-01-30T21:13:03.814Z"
   },
   {
    "duration": 67,
    "start_time": "2022-01-30T21:13:03.840Z"
   },
   {
    "duration": 25,
    "start_time": "2022-01-30T21:13:03.913Z"
   },
   {
    "duration": 13,
    "start_time": "2022-01-30T21:13:03.940Z"
   },
   {
    "duration": 6,
    "start_time": "2022-01-30T21:13:03.956Z"
   },
   {
    "duration": 48,
    "start_time": "2022-01-30T21:13:03.965Z"
   },
   {
    "duration": 7,
    "start_time": "2022-01-30T21:13:04.015Z"
   },
   {
    "duration": 800,
    "start_time": "2022-02-08T19:12:59.013Z"
   },
   {
    "duration": 180,
    "start_time": "2022-02-08T19:12:59.817Z"
   },
   {
    "duration": 40,
    "start_time": "2022-02-08T19:13:00.000Z"
   },
   {
    "duration": 41,
    "start_time": "2022-02-08T19:13:00.044Z"
   },
   {
    "duration": 10,
    "start_time": "2022-02-08T19:13:00.088Z"
   },
   {
    "duration": 32,
    "start_time": "2022-02-08T19:13:00.100Z"
   },
   {
    "duration": 22,
    "start_time": "2022-02-08T19:13:00.135Z"
   },
   {
    "duration": 64,
    "start_time": "2022-02-08T19:13:00.161Z"
   },
   {
    "duration": 38,
    "start_time": "2022-02-08T19:13:00.229Z"
   },
   {
    "duration": 47,
    "start_time": "2022-02-08T19:13:00.270Z"
   },
   {
    "duration": 101,
    "start_time": "2022-02-08T19:13:00.319Z"
   },
   {
    "duration": 124,
    "start_time": "2022-02-08T19:13:00.423Z"
   },
   {
    "duration": 93,
    "start_time": "2022-02-08T19:13:00.549Z"
   },
   {
    "duration": 15,
    "start_time": "2022-02-08T19:13:00.644Z"
   },
   {
    "duration": 21,
    "start_time": "2022-02-08T19:13:00.661Z"
   },
   {
    "duration": 42,
    "start_time": "2022-02-08T19:13:00.684Z"
   },
   {
    "duration": 16,
    "start_time": "2022-02-08T19:13:00.729Z"
   },
   {
    "duration": 23,
    "start_time": "2022-02-08T19:13:00.748Z"
   },
   {
    "duration": 84,
    "start_time": "2022-02-08T19:13:00.773Z"
   },
   {
    "duration": 12,
    "start_time": "2022-02-08T19:13:00.860Z"
   },
   {
    "duration": 41,
    "start_time": "2022-02-08T19:13:00.875Z"
   },
   {
    "duration": 34,
    "start_time": "2022-02-08T19:13:00.920Z"
   },
   {
    "duration": 5,
    "start_time": "2022-02-08T19:13:00.960Z"
   },
   {
    "duration": 66,
    "start_time": "2022-02-08T19:13:00.969Z"
   },
   {
    "duration": 23,
    "start_time": "2022-02-08T19:13:01.037Z"
   },
   {
    "duration": 89,
    "start_time": "2022-02-08T19:13:01.063Z"
   },
   {
    "duration": 77,
    "start_time": "2022-02-08T19:13:01.155Z"
   },
   {
    "duration": 12,
    "start_time": "2022-02-08T19:13:01.235Z"
   },
   {
    "duration": 10,
    "start_time": "2022-02-08T19:13:01.249Z"
   },
   {
    "duration": 19,
    "start_time": "2022-02-08T19:13:01.261Z"
   },
   {
    "duration": 62,
    "start_time": "2022-02-08T19:13:01.282Z"
   },
   {
    "duration": 118,
    "start_time": "2022-02-08T19:14:58.203Z"
   },
   {
    "duration": 107,
    "start_time": "2022-02-08T19:16:37.737Z"
   },
   {
    "duration": 99,
    "start_time": "2022-02-08T19:24:08.410Z"
   },
   {
    "duration": 20,
    "start_time": "2022-02-08T19:28:27.658Z"
   },
   {
    "duration": 420,
    "start_time": "2022-02-08T19:40:10.540Z"
   },
   {
    "duration": 6,
    "start_time": "2022-02-08T19:49:04.274Z"
   },
   {
    "duration": 24,
    "start_time": "2022-02-08T19:49:05.607Z"
   },
   {
    "duration": 5,
    "start_time": "2022-02-08T19:49:17.385Z"
   },
   {
    "duration": 28,
    "start_time": "2022-02-08T19:49:19.843Z"
   },
   {
    "duration": 5,
    "start_time": "2022-02-08T19:50:57.828Z"
   },
   {
    "duration": 53,
    "start_time": "2022-02-08T19:50:58.553Z"
   },
   {
    "duration": 23,
    "start_time": "2022-02-08T19:51:01.733Z"
   },
   {
    "duration": 115,
    "start_time": "2022-02-08T19:51:27.061Z"
   },
   {
    "duration": 982,
    "start_time": "2022-02-08T19:58:11.825Z"
   },
   {
    "duration": 189,
    "start_time": "2022-02-08T19:58:12.810Z"
   },
   {
    "duration": 36,
    "start_time": "2022-02-08T19:58:13.003Z"
   },
   {
    "duration": 35,
    "start_time": "2022-02-08T19:58:13.043Z"
   },
   {
    "duration": 7,
    "start_time": "2022-02-08T19:58:13.081Z"
   },
   {
    "duration": 43,
    "start_time": "2022-02-08T19:58:13.091Z"
   },
   {
    "duration": 10,
    "start_time": "2022-02-08T19:58:13.136Z"
   },
   {
    "duration": 54,
    "start_time": "2022-02-08T19:58:13.150Z"
   },
   {
    "duration": 55,
    "start_time": "2022-02-08T19:58:13.208Z"
   },
   {
    "duration": 48,
    "start_time": "2022-02-08T19:58:13.267Z"
   },
   {
    "duration": 121,
    "start_time": "2022-02-08T19:58:13.333Z"
   },
   {
    "duration": 142,
    "start_time": "2022-02-08T19:58:13.457Z"
   },
   {
    "duration": 117,
    "start_time": "2022-02-08T19:58:13.602Z"
   },
   {
    "duration": 23,
    "start_time": "2022-02-08T19:58:13.722Z"
   },
   {
    "duration": 5,
    "start_time": "2022-02-08T19:58:13.748Z"
   },
   {
    "duration": 24,
    "start_time": "2022-02-08T19:58:13.755Z"
   },
   {
    "duration": 14,
    "start_time": "2022-02-08T19:58:13.781Z"
   },
   {
    "duration": 40,
    "start_time": "2022-02-08T19:58:13.797Z"
   },
   {
    "duration": 69,
    "start_time": "2022-02-08T19:58:13.839Z"
   },
   {
    "duration": 30,
    "start_time": "2022-02-08T19:58:13.911Z"
   },
   {
    "duration": 38,
    "start_time": "2022-02-08T19:58:13.943Z"
   },
   {
    "duration": 53,
    "start_time": "2022-02-08T19:58:13.983Z"
   },
   {
    "duration": 6,
    "start_time": "2022-02-08T19:58:14.041Z"
   },
   {
    "duration": 42,
    "start_time": "2022-02-08T19:58:14.050Z"
   },
   {
    "duration": 56,
    "start_time": "2022-02-08T19:58:14.095Z"
   },
   {
    "duration": 40,
    "start_time": "2022-02-08T19:58:14.154Z"
   },
   {
    "duration": 48,
    "start_time": "2022-02-08T19:58:14.196Z"
   },
   {
    "duration": 15,
    "start_time": "2022-02-08T19:58:14.248Z"
   },
   {
    "duration": 8,
    "start_time": "2022-02-08T19:58:14.266Z"
   },
   {
    "duration": 13,
    "start_time": "2022-02-08T19:58:14.277Z"
   },
   {
    "duration": 45,
    "start_time": "2022-02-08T19:58:14.292Z"
   },
   {
    "duration": 126,
    "start_time": "2022-02-09T14:18:39.005Z"
   },
   {
    "duration": 98,
    "start_time": "2022-02-09T14:18:46.492Z"
   },
   {
    "duration": 156,
    "start_time": "2022-02-09T14:29:25.544Z"
   },
   {
    "duration": 521,
    "start_time": "2022-02-09T14:30:03.946Z"
   },
   {
    "duration": 807,
    "start_time": "2022-02-09T14:30:13.046Z"
   },
   {
    "duration": 200,
    "start_time": "2022-02-09T14:30:13.856Z"
   },
   {
    "duration": 27,
    "start_time": "2022-02-09T14:30:14.060Z"
   },
   {
    "duration": 36,
    "start_time": "2022-02-09T14:30:14.089Z"
   },
   {
    "duration": 44,
    "start_time": "2022-02-09T14:30:14.128Z"
   },
   {
    "duration": 7,
    "start_time": "2022-02-09T14:30:14.175Z"
   },
   {
    "duration": 499,
    "start_time": "2022-02-09T14:30:14.184Z"
   },
   {
    "duration": -55,
    "start_time": "2022-02-09T14:30:14.742Z"
   },
   {
    "duration": -56,
    "start_time": "2022-02-09T14:30:14.745Z"
   },
   {
    "duration": -57,
    "start_time": "2022-02-09T14:30:14.748Z"
   },
   {
    "duration": -57,
    "start_time": "2022-02-09T14:30:14.750Z"
   },
   {
    "duration": -72,
    "start_time": "2022-02-09T14:30:14.768Z"
   },
   {
    "duration": -74,
    "start_time": "2022-02-09T14:30:14.771Z"
   },
   {
    "duration": -76,
    "start_time": "2022-02-09T14:30:14.774Z"
   },
   {
    "duration": -77,
    "start_time": "2022-02-09T14:30:14.777Z"
   },
   {
    "duration": -79,
    "start_time": "2022-02-09T14:30:14.780Z"
   },
   {
    "duration": -80,
    "start_time": "2022-02-09T14:30:14.783Z"
   },
   {
    "duration": -108,
    "start_time": "2022-02-09T14:30:14.812Z"
   },
   {
    "duration": -116,
    "start_time": "2022-02-09T14:30:14.821Z"
   },
   {
    "duration": -116,
    "start_time": "2022-02-09T14:30:14.823Z"
   },
   {
    "duration": -118,
    "start_time": "2022-02-09T14:30:14.826Z"
   },
   {
    "duration": -117,
    "start_time": "2022-02-09T14:30:14.829Z"
   },
   {
    "duration": -119,
    "start_time": "2022-02-09T14:30:14.832Z"
   },
   {
    "duration": -120,
    "start_time": "2022-02-09T14:30:14.835Z"
   },
   {
    "duration": -126,
    "start_time": "2022-02-09T14:30:14.842Z"
   },
   {
    "duration": -148,
    "start_time": "2022-02-09T14:30:14.866Z"
   },
   {
    "duration": -150,
    "start_time": "2022-02-09T14:30:14.869Z"
   },
   {
    "duration": -150,
    "start_time": "2022-02-09T14:30:14.871Z"
   },
   {
    "duration": -151,
    "start_time": "2022-02-09T14:30:14.873Z"
   },
   {
    "duration": -151,
    "start_time": "2022-02-09T14:30:14.875Z"
   },
   {
    "duration": -120,
    "start_time": "2022-02-09T14:30:14.888Z"
   },
   {
    "duration": 322,
    "start_time": "2022-02-09T14:31:05.652Z"
   },
   {
    "duration": 347,
    "start_time": "2022-02-09T14:31:15.592Z"
   },
   {
    "duration": 43,
    "start_time": "2022-02-09T14:31:44.205Z"
   },
   {
    "duration": 29,
    "start_time": "2022-02-09T14:31:56.439Z"
   },
   {
    "duration": 40,
    "start_time": "2022-02-09T14:32:03.278Z"
   },
   {
    "duration": 42,
    "start_time": "2022-02-09T14:32:12.735Z"
   },
   {
    "duration": 25,
    "start_time": "2022-02-09T14:32:27.888Z"
   },
   {
    "duration": 553,
    "start_time": "2022-02-09T14:35:39.821Z"
   },
   {
    "duration": 839,
    "start_time": "2022-02-09T14:36:30.984Z"
   },
   {
    "duration": 201,
    "start_time": "2022-02-09T14:36:31.829Z"
   },
   {
    "duration": 26,
    "start_time": "2022-02-09T14:36:32.033Z"
   },
   {
    "duration": 40,
    "start_time": "2022-02-09T14:36:32.070Z"
   },
   {
    "duration": 8,
    "start_time": "2022-02-09T14:36:32.113Z"
   },
   {
    "duration": 16,
    "start_time": "2022-02-09T14:36:32.123Z"
   },
   {
    "duration": 63,
    "start_time": "2022-02-09T14:36:32.141Z"
   },
   {
    "duration": 61,
    "start_time": "2022-02-09T14:36:32.210Z"
   },
   {
    "duration": 41,
    "start_time": "2022-02-09T14:36:32.275Z"
   },
   {
    "duration": 61,
    "start_time": "2022-02-09T14:36:32.319Z"
   },
   {
    "duration": 110,
    "start_time": "2022-02-09T14:36:32.384Z"
   },
   {
    "duration": 138,
    "start_time": "2022-02-09T14:36:32.497Z"
   },
   {
    "duration": 103,
    "start_time": "2022-02-09T14:36:32.638Z"
   },
   {
    "duration": 27,
    "start_time": "2022-02-09T14:36:32.743Z"
   },
   {
    "duration": 4,
    "start_time": "2022-02-09T14:36:32.773Z"
   },
   {
    "duration": 33,
    "start_time": "2022-02-09T14:36:32.780Z"
   },
   {
    "duration": 14,
    "start_time": "2022-02-09T14:36:32.817Z"
   },
   {
    "duration": 41,
    "start_time": "2022-02-09T14:36:32.833Z"
   },
   {
    "duration": 8657,
    "start_time": "2022-02-09T14:36:32.877Z"
   },
   {
    "duration": -118,
    "start_time": "2022-02-09T14:36:41.654Z"
   },
   {
    "duration": -121,
    "start_time": "2022-02-09T14:36:41.659Z"
   },
   {
    "duration": -123,
    "start_time": "2022-02-09T14:36:41.662Z"
   },
   {
    "duration": -124,
    "start_time": "2022-02-09T14:36:41.665Z"
   },
   {
    "duration": -125,
    "start_time": "2022-02-09T14:36:41.667Z"
   },
   {
    "duration": -126,
    "start_time": "2022-02-09T14:36:41.670Z"
   },
   {
    "duration": -127,
    "start_time": "2022-02-09T14:36:41.672Z"
   },
   {
    "duration": -127,
    "start_time": "2022-02-09T14:36:41.674Z"
   },
   {
    "duration": -129,
    "start_time": "2022-02-09T14:36:41.677Z"
   },
   {
    "duration": -130,
    "start_time": "2022-02-09T14:36:41.679Z"
   },
   {
    "duration": -130,
    "start_time": "2022-02-09T14:36:41.681Z"
   },
   {
    "duration": -131,
    "start_time": "2022-02-09T14:36:41.683Z"
   },
   {
    "duration": 112,
    "start_time": "2022-02-09T14:37:12.233Z"
   },
   {
    "duration": 74,
    "start_time": "2022-02-09T14:37:14.654Z"
   },
   {
    "duration": 5,
    "start_time": "2022-02-09T14:43:31.581Z"
   },
   {
    "duration": 322,
    "start_time": "2022-02-09T14:43:35.474Z"
   },
   {
    "duration": 829,
    "start_time": "2022-02-09T14:44:13.674Z"
   },
   {
    "duration": 248,
    "start_time": "2022-02-09T14:44:14.506Z"
   },
   {
    "duration": 35,
    "start_time": "2022-02-09T14:44:14.758Z"
   },
   {
    "duration": 36,
    "start_time": "2022-02-09T14:44:14.796Z"
   },
   {
    "duration": 37,
    "start_time": "2022-02-09T14:44:14.835Z"
   },
   {
    "duration": 11,
    "start_time": "2022-02-09T14:44:14.875Z"
   },
   {
    "duration": 37,
    "start_time": "2022-02-09T14:44:14.888Z"
   },
   {
    "duration": 77,
    "start_time": "2022-02-09T14:44:14.929Z"
   },
   {
    "duration": 32,
    "start_time": "2022-02-09T14:44:15.009Z"
   },
   {
    "duration": 51,
    "start_time": "2022-02-09T14:44:15.044Z"
   },
   {
    "duration": 111,
    "start_time": "2022-02-09T14:44:15.098Z"
   },
   {
    "duration": 130,
    "start_time": "2022-02-09T14:44:15.212Z"
   },
   {
    "duration": 92,
    "start_time": "2022-02-09T14:44:15.344Z"
   },
   {
    "duration": 35,
    "start_time": "2022-02-09T14:44:15.438Z"
   },
   {
    "duration": 4,
    "start_time": "2022-02-09T14:44:15.475Z"
   },
   {
    "duration": 27,
    "start_time": "2022-02-09T14:44:15.481Z"
   },
   {
    "duration": 14,
    "start_time": "2022-02-09T14:44:15.510Z"
   },
   {
    "duration": 44,
    "start_time": "2022-02-09T14:44:15.527Z"
   },
   {
    "duration": 95,
    "start_time": "2022-02-09T14:44:15.574Z"
   },
   {
    "duration": 12,
    "start_time": "2022-02-09T14:44:15.672Z"
   },
   {
    "duration": 29,
    "start_time": "2022-02-09T14:44:15.686Z"
   },
   {
    "duration": 64,
    "start_time": "2022-02-09T14:44:15.717Z"
   },
   {
    "duration": 5,
    "start_time": "2022-02-09T14:44:15.785Z"
   },
   {
    "duration": 28,
    "start_time": "2022-02-09T14:44:15.793Z"
   },
   {
    "duration": 45,
    "start_time": "2022-02-09T14:44:15.824Z"
   },
   {
    "duration": 27,
    "start_time": "2022-02-09T14:44:15.872Z"
   },
   {
    "duration": 67,
    "start_time": "2022-02-09T14:44:15.902Z"
   },
   {
    "duration": 14,
    "start_time": "2022-02-09T14:44:15.972Z"
   },
   {
    "duration": 8,
    "start_time": "2022-02-09T14:44:15.989Z"
   },
   {
    "duration": 14,
    "start_time": "2022-02-09T14:44:15.999Z"
   },
   {
    "duration": 9,
    "start_time": "2022-02-09T14:44:16.016Z"
   },
   {
    "duration": 9,
    "start_time": "2022-02-09T14:50:10.154Z"
   },
   {
    "duration": 7,
    "start_time": "2022-02-09T14:50:16.610Z"
   },
   {
    "duration": 21,
    "start_time": "2022-02-09T15:05:03.249Z"
   },
   {
    "duration": 13,
    "start_time": "2022-02-09T15:09:56.186Z"
   },
   {
    "duration": 4,
    "start_time": "2022-02-09T15:22:08.705Z"
   },
   {
    "duration": 19,
    "start_time": "2022-02-09T15:22:45.822Z"
   },
   {
    "duration": 5,
    "start_time": "2022-02-09T15:23:19.082Z"
   },
   {
    "duration": 30,
    "start_time": "2022-02-09T15:23:19.832Z"
   },
   {
    "duration": 4,
    "start_time": "2022-02-09T15:23:27.846Z"
   },
   {
    "duration": 35,
    "start_time": "2022-02-09T15:23:29.212Z"
   },
   {
    "duration": 4,
    "start_time": "2022-02-09T15:23:36.578Z"
   },
   {
    "duration": 31,
    "start_time": "2022-02-09T15:23:36.971Z"
   },
   {
    "duration": 4,
    "start_time": "2022-02-09T15:23:51.329Z"
   },
   {
    "duration": 23,
    "start_time": "2022-02-09T15:23:52.027Z"
   },
   {
    "duration": 20,
    "start_time": "2022-02-09T15:24:18.103Z"
   },
   {
    "duration": 23,
    "start_time": "2022-02-09T15:24:28.374Z"
   },
   {
    "duration": 6,
    "start_time": "2022-02-09T15:25:02.661Z"
   },
   {
    "duration": 32,
    "start_time": "2022-02-09T15:25:02.671Z"
   },
   {
    "duration": 17,
    "start_time": "2022-02-09T15:25:11.741Z"
   },
   {
    "duration": 19,
    "start_time": "2022-02-09T15:25:14.166Z"
   },
   {
    "duration": 703,
    "start_time": "2022-02-09T15:26:01.561Z"
   },
   {
    "duration": 5,
    "start_time": "2022-02-09T15:27:26.739Z"
   },
   {
    "duration": 659,
    "start_time": "2022-02-09T15:27:27.456Z"
   },
   {
    "duration": 5,
    "start_time": "2022-02-09T15:29:19.759Z"
   },
   {
    "duration": 108,
    "start_time": "2022-02-09T15:29:20.196Z"
   },
   {
    "duration": 5,
    "start_time": "2022-02-09T15:31:03.155Z"
   },
   {
    "duration": 86,
    "start_time": "2022-02-09T15:31:03.632Z"
   },
   {
    "duration": 5,
    "start_time": "2022-02-09T15:31:18.409Z"
   },
   {
    "duration": 85,
    "start_time": "2022-02-09T15:31:18.751Z"
   },
   {
    "duration": 6,
    "start_time": "2022-02-09T15:33:32.591Z"
   },
   {
    "duration": 83,
    "start_time": "2022-02-09T15:33:33.178Z"
   },
   {
    "duration": 90,
    "start_time": "2022-02-09T15:34:09.024Z"
   },
   {
    "duration": 6,
    "start_time": "2022-02-09T15:37:02.636Z"
   },
   {
    "duration": 100,
    "start_time": "2022-02-09T15:37:02.645Z"
   },
   {
    "duration": 106,
    "start_time": "2022-02-09T15:37:05.636Z"
   },
   {
    "duration": 6,
    "start_time": "2022-02-09T15:40:48.318Z"
   },
   {
    "duration": 92,
    "start_time": "2022-02-09T15:40:48.908Z"
   },
   {
    "duration": 6,
    "start_time": "2022-02-09T15:42:08.806Z"
   },
   {
    "duration": 903,
    "start_time": "2022-02-09T15:42:09.211Z"
   },
   {
    "duration": 7,
    "start_time": "2022-02-09T15:42:17.490Z"
   },
   {
    "duration": 92,
    "start_time": "2022-02-09T15:42:18.058Z"
   },
   {
    "duration": 7,
    "start_time": "2022-02-09T15:43:06.874Z"
   },
   {
    "duration": 101,
    "start_time": "2022-02-09T15:43:07.301Z"
   },
   {
    "duration": 6,
    "start_time": "2022-02-09T15:43:15.373Z"
   },
   {
    "duration": 96,
    "start_time": "2022-02-09T15:43:16.029Z"
   },
   {
    "duration": 7,
    "start_time": "2022-02-09T15:43:27.633Z"
   },
   {
    "duration": 914,
    "start_time": "2022-02-09T15:43:27.941Z"
   },
   {
    "duration": 9,
    "start_time": "2022-02-09T15:44:00.992Z"
   },
   {
    "duration": 103,
    "start_time": "2022-02-09T15:44:01.776Z"
   },
   {
    "duration": 6,
    "start_time": "2022-02-09T15:45:20.962Z"
   },
   {
    "duration": 98,
    "start_time": "2022-02-09T15:45:21.237Z"
   },
   {
    "duration": 6,
    "start_time": "2022-02-09T15:45:49.828Z"
   },
   {
    "duration": 97,
    "start_time": "2022-02-09T15:45:50.234Z"
   },
   {
    "duration": 4,
    "start_time": "2022-02-09T15:48:36.578Z"
   },
   {
    "duration": 4,
    "start_time": "2022-02-09T15:48:43.303Z"
   },
   {
    "duration": 5,
    "start_time": "2022-02-09T15:49:08.194Z"
   },
   {
    "duration": 4,
    "start_time": "2022-02-09T15:49:22.356Z"
   },
   {
    "duration": 6,
    "start_time": "2022-02-09T15:49:53.189Z"
   },
   {
    "duration": 95,
    "start_time": "2022-02-09T15:49:53.752Z"
   },
   {
    "duration": 6,
    "start_time": "2022-02-09T15:50:01.136Z"
   },
   {
    "duration": 6,
    "start_time": "2022-02-09T15:50:04.647Z"
   },
   {
    "duration": 96,
    "start_time": "2022-02-09T15:50:04.820Z"
   },
   {
    "duration": 6,
    "start_time": "2022-02-09T15:51:48.049Z"
   },
   {
    "duration": 4,
    "start_time": "2022-02-09T15:51:49.698Z"
   },
   {
    "duration": 94,
    "start_time": "2022-02-09T15:51:50.661Z"
   },
   {
    "duration": 118,
    "start_time": "2022-02-09T15:52:14.533Z"
   },
   {
    "duration": 4,
    "start_time": "2022-02-09T15:52:31.991Z"
   },
   {
    "duration": 65,
    "start_time": "2022-02-09T15:52:32.943Z"
   },
   {
    "duration": 68,
    "start_time": "2022-02-09T15:53:39.854Z"
   },
   {
    "duration": 4,
    "start_time": "2022-02-09T15:53:41.673Z"
   },
   {
    "duration": 94,
    "start_time": "2022-02-09T15:53:42.200Z"
   },
   {
    "duration": 118,
    "start_time": "2022-02-09T15:54:31.926Z"
   },
   {
    "duration": 135,
    "start_time": "2022-02-09T15:56:39.027Z"
   },
   {
    "duration": 106,
    "start_time": "2022-02-09T15:56:58.287Z"
   },
   {
    "duration": 126,
    "start_time": "2022-02-09T15:57:06.396Z"
   },
   {
    "duration": 826,
    "start_time": "2022-02-09T15:59:58.340Z"
   },
   {
    "duration": 437,
    "start_time": "2022-02-09T16:00:05.066Z"
   },
   {
    "duration": 18,
    "start_time": "2022-02-09T16:01:03.799Z"
   },
   {
    "duration": 101,
    "start_time": "2022-02-09T16:05:40.103Z"
   },
   {
    "duration": 107,
    "start_time": "2022-02-09T16:05:55.997Z"
   },
   {
    "duration": 870,
    "start_time": "2022-02-09T16:06:41.701Z"
   },
   {
    "duration": 38,
    "start_time": "2022-02-09T16:06:49.972Z"
   },
   {
    "duration": 30,
    "start_time": "2022-02-09T16:06:54.453Z"
   },
   {
    "duration": 33,
    "start_time": "2022-02-09T16:07:07.990Z"
   },
   {
    "duration": 739,
    "start_time": "2022-02-09T16:07:23.183Z"
   },
   {
    "duration": 41,
    "start_time": "2022-02-09T16:07:31.753Z"
   },
   {
    "duration": 308,
    "start_time": "2022-02-09T16:07:43.356Z"
   },
   {
    "duration": 102,
    "start_time": "2022-02-09T16:08:35.967Z"
   },
   {
    "duration": 40,
    "start_time": "2022-02-09T16:09:14.883Z"
   },
   {
    "duration": 119,
    "start_time": "2022-02-09T16:09:21.883Z"
   },
   {
    "duration": 40,
    "start_time": "2022-02-09T16:09:27.278Z"
   },
   {
    "duration": 135,
    "start_time": "2022-02-09T16:10:38.677Z"
   },
   {
    "duration": 110,
    "start_time": "2022-02-09T16:10:50.683Z"
   },
   {
    "duration": 43,
    "start_time": "2022-02-09T16:11:46.053Z"
   },
   {
    "duration": 41,
    "start_time": "2022-02-09T16:11:56.779Z"
   },
   {
    "duration": 98,
    "start_time": "2022-02-09T16:12:56.649Z"
   },
   {
    "duration": 40,
    "start_time": "2022-02-09T16:13:02.510Z"
   },
   {
    "duration": 7,
    "start_time": "2022-02-09T16:18:57.727Z"
   },
   {
    "duration": 7,
    "start_time": "2022-02-09T16:19:04.108Z"
   },
   {
    "duration": 60,
    "start_time": "2022-02-09T16:23:59.261Z"
   },
   {
    "duration": 44,
    "start_time": "2022-02-09T16:24:06.488Z"
   },
   {
    "duration": 123,
    "start_time": "2022-02-09T23:01:56.933Z"
   },
   {
    "duration": 813,
    "start_time": "2022-02-09T23:14:09.086Z"
   },
   {
    "duration": 195,
    "start_time": "2022-02-09T23:14:09.902Z"
   },
   {
    "duration": 25,
    "start_time": "2022-02-09T23:14:10.100Z"
   },
   {
    "duration": 51,
    "start_time": "2022-02-09T23:14:10.127Z"
   },
   {
    "duration": 19,
    "start_time": "2022-02-09T23:14:10.181Z"
   },
   {
    "duration": 22,
    "start_time": "2022-02-09T23:14:10.203Z"
   },
   {
    "duration": 39,
    "start_time": "2022-02-09T23:14:10.228Z"
   },
   {
    "duration": 32,
    "start_time": "2022-02-09T23:14:10.270Z"
   },
   {
    "duration": 23,
    "start_time": "2022-02-09T23:14:10.305Z"
   },
   {
    "duration": 52,
    "start_time": "2022-02-09T23:14:10.330Z"
   },
   {
    "duration": 105,
    "start_time": "2022-02-09T23:14:10.385Z"
   },
   {
    "duration": 114,
    "start_time": "2022-02-09T23:14:10.493Z"
   },
   {
    "duration": 88,
    "start_time": "2022-02-09T23:14:10.609Z"
   },
   {
    "duration": 14,
    "start_time": "2022-02-09T23:14:10.699Z"
   },
   {
    "duration": 4,
    "start_time": "2022-02-09T23:14:10.716Z"
   },
   {
    "duration": 49,
    "start_time": "2022-02-09T23:14:10.722Z"
   },
   {
    "duration": 13,
    "start_time": "2022-02-09T23:14:10.774Z"
   },
   {
    "duration": 28,
    "start_time": "2022-02-09T23:14:10.790Z"
   },
   {
    "duration": 67,
    "start_time": "2022-02-09T23:14:10.821Z"
   },
   {
    "duration": 9,
    "start_time": "2022-02-09T23:14:10.891Z"
   },
   {
    "duration": 205,
    "start_time": "2022-02-09T23:14:10.902Z"
   },
   {
    "duration": 61,
    "start_time": "2022-02-09T23:14:11.110Z"
   },
   {
    "duration": 6,
    "start_time": "2022-02-09T23:14:11.176Z"
   },
   {
    "duration": 5,
    "start_time": "2022-02-09T23:14:11.185Z"
   },
   {
    "duration": 200,
    "start_time": "2022-02-09T23:14:11.193Z"
   },
   {
    "duration": 75,
    "start_time": "2022-02-09T23:14:11.396Z"
   },
   {
    "duration": 23,
    "start_time": "2022-02-09T23:14:11.473Z"
   },
   {
    "duration": 5,
    "start_time": "2022-02-09T23:14:11.498Z"
   },
   {
    "duration": 81,
    "start_time": "2022-02-09T23:14:11.505Z"
   },
   {
    "duration": 17,
    "start_time": "2022-02-09T23:14:11.588Z"
   },
   {
    "duration": 78,
    "start_time": "2022-02-09T23:14:11.608Z"
   },
   {
    "duration": 17,
    "start_time": "2022-02-09T23:14:11.688Z"
   },
   {
    "duration": 65,
    "start_time": "2022-02-09T23:14:11.708Z"
   },
   {
    "duration": 6,
    "start_time": "2022-02-09T23:14:11.776Z"
   },
   {
    "duration": 12,
    "start_time": "2022-02-09T23:14:11.784Z"
   },
   {
    "duration": 6,
    "start_time": "2022-02-09T23:14:11.798Z"
   }
  ],
  "colab": {
   "collapsed_sections": [
    "E0vqbgi9ay0H",
    "VUC88oWjTJw2"
   ],
   "name": "yandex_music_project_2021.2.ipynb",
   "provenance": []
  },
  "kernelspec": {
   "display_name": "Python 3 (ipykernel)",
   "language": "python",
   "name": "python3"
  },
  "language_info": {
   "codemirror_mode": {
    "name": "ipython",
    "version": 3
   },
   "file_extension": ".py",
   "mimetype": "text/x-python",
   "name": "python",
   "nbconvert_exporter": "python",
   "pygments_lexer": "ipython3",
   "version": "3.9.13"
  },
  "toc": {
   "base_numbering": 1,
   "nav_menu": {},
   "number_sections": true,
   "sideBar": true,
   "skip_h1_title": true,
   "title_cell": "Table of Contents",
   "title_sidebar": "Contents",
   "toc_cell": false,
   "toc_position": {
    "height": "calc(100% - 180px)",
    "left": "10px",
    "top": "150px",
    "width": "299.025px"
   },
   "toc_section_display": true,
   "toc_window_display": true
  }
 },
 "nbformat": 4,
 "nbformat_minor": 4
}
